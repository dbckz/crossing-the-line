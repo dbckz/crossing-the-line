{
  "nbformat": 4,
  "nbformat_minor": 0,
  "metadata": {
    "colab": {
      "name": "processing_wc_qf.ipynb",
      "provenance": [],
      "authorship_tag": "ABX9TyMeFGTNh/qVTGEMLInSkIjL",
      "include_colab_link": true
    },
    "kernelspec": {
      "name": "python3",
      "display_name": "Python 3"
    },
    "language_info": {
      "name": "python"
    }
  },
  "cells": [
    {
      "cell_type": "markdown",
      "metadata": {
        "id": "view-in-github",
        "colab_type": "text"
      },
      "source": [
        "<a href=\"https://colab.research.google.com/github/dbckz/crossing-the-line/blob/master/notebooks/processing_wc_qf.ipynb\" target=\"_parent\"><img src=\"https://colab.research.google.com/assets/colab-badge.svg\" alt=\"Open In Colab\"/></a>"
      ]
    },
    {
      "cell_type": "markdown",
      "metadata": {
        "id": "Br4Ph0_Tpojf"
      },
      "source": [
        "# Setup"
      ]
    },
    {
      "cell_type": "code",
      "metadata": {
        "id": "mLv78bpwk10K"
      },
      "source": [
        "import pandas as pd\n",
        "import numpy as np\n",
        "import ast\n",
        "import os\n",
        "import matplotlib.pyplot as plt\n",
        "from wordcloud import WordCloud\n",
        "from tqdm import tqdm\n",
        "from google.colab import drive\n",
        "import plotly.graph_objects as go"
      ],
      "execution_count": 1,
      "outputs": []
    },
    {
      "cell_type": "code",
      "metadata": {
        "colab": {
          "base_uri": "https://localhost:8080/"
        },
        "id": "zx3CYfwcoyEw",
        "outputId": "c82a5f20-b2ea-427a-c3b9-fddf35fe38fe"
      },
      "source": [
        "drive.mount('/content/drive')"
      ],
      "execution_count": 2,
      "outputs": [
        {
          "output_type": "stream",
          "name": "stdout",
          "text": [
            "Mounted at /content/drive\n"
          ]
        }
      ]
    },
    {
      "cell_type": "code",
      "metadata": {
        "id": "D9OLsfO7cEGd"
      },
      "source": [
        "# Set up paths\n",
        "root_path = \"/content/drive/MyDrive/University/Dissertation/world_cup_data\"\n",
        "graph_path = root_path + \"/graphs\"\n",
        "\n",
        "day_paths = day_paths = [\n",
        "        \"/021222\",\n",
        "        \"/031222\",\n",
        "        \"/041222\",\n",
        "        \"/051222\",\n",
        "        \"/061222\",\n",
        "        \"/071222\",\n",
        "        \"/081222\",\n",
        "        \"/091222\",\n",
        "        \"/101222\",\n",
        "        \"/111222\",\n",
        "        \"/121222\",\n",
        "        \"/131222\",\n",
        "        \"/141222\",\n",
        "        \"/151222\",\n",
        "        \"/161222\",\n",
        "        \"/171222\",\n",
        "        \"/181222\",\n",
        "        \"/191222\"\n",
        "    ]"
      ],
      "execution_count": 4,
      "outputs": []
    },
    {
      "cell_type": "code",
      "metadata": {
        "colab": {
          "base_uri": "https://localhost:8080/"
        },
        "id": "iC_0fxX3oAKF",
        "outputId": "94926e1c-8c93-425d-9e1f-59ef1523902c"
      },
      "source": [
        "# Load data\n",
        "threshold = '50'\n",
        "in_tweets = pd.DataFrame()\n",
        "hb_guard = pd.DataFrame()\n",
        "emojis = pd.DataFrame()\n",
        "persp = pd.DataFrame()\n",
        "\n",
        "for path in day_paths:\n",
        "    directory = root_path + path\n",
        "    tweets_csv = directory + \"/tweets.csv\"\n",
        "    persp_csv = directory + \"/perspective_processed_tweets.csv\"\n",
        "    emojis_csv = directory + \"/emoji.csv\"\n",
        "\n",
        "    print(f\"Loading CSVs for directory {path}...\")\n",
        "    in_tweets = pd.concat([in_tweets, \n",
        "                           pd.read_csv(tweets_csv,\n",
        "                                       usecols = [\n",
        "                                                  'created_at',\n",
        "                                                  'tweet_id',\n",
        "                                                  'tweet_text',\n",
        "                                                  'accounts_mentioned'\n",
        "                                       ],\n",
        "                                       dtype = {\n",
        "                                          # 'created_at':\n",
        "                                          'tweet_id': np.int64,\n",
        "                                          'tweet_text': str,\n",
        "                                          'accounts_mentioned': object\n",
        "                                       },\n",
        "                                       parse_dates=['created_at'])])\n",
        "\n",
        "    persp = pd.concat([persp, pd.read_csv(persp_csv,\n",
        "                                          usecols = [\n",
        "                                                      'tweet_id',\n",
        "                                                      'identity_attack_score',\n",
        "                                                      'threat_score',\n",
        "                                                      'severe_toxicity_score',\n",
        "                                                      'insult_score'\n",
        "                                                      \n",
        "                                          ],\n",
        "                                          dtype = {\n",
        "                                              'tweet_id': np.int64,\n",
        "                                              'identity_attack_score': float,\n",
        "                                              'threat_score': float,\n",
        "                                              'severe_toxicity_score': float,\n",
        "                                              'insult_score': float\n",
        "                                          })])\n",
        "\n",
        "# Dedup\n",
        "original_tweets_length = len(in_tweets)\n",
        "original_persp_length = len(persp)\n",
        "in_tweets.drop_duplicates(subset=['tweet_id'], inplace=True)\n",
        "persp.drop_duplicates(subset=['tweet_id'], inplace=True)\n",
        "\n",
        "print(f\"Size of tweets dataframe: {len(in_tweets)}, having dropped {original_tweets_length - len(in_tweets)} duplicate rows\")\n",
        "print(f\"Size of perspective dataframe: {len(persp)}, having dropped {original_persp_length - len(persp)} duplicate rows\")"
      ],
      "execution_count": 5,
      "outputs": [
        {
          "output_type": "stream",
          "name": "stdout",
          "text": [
            "Loading CSVs for directory /021222...\n",
            "Loading CSVs for directory /031222...\n",
            "Loading CSVs for directory /041222...\n",
            "Loading CSVs for directory /051222...\n",
            "Loading CSVs for directory /061222...\n",
            "Loading CSVs for directory /071222...\n",
            "Loading CSVs for directory /081222...\n",
            "Loading CSVs for directory /091222...\n",
            "Loading CSVs for directory /101222...\n",
            "Loading CSVs for directory /111222...\n",
            "Loading CSVs for directory /121222...\n",
            "Loading CSVs for directory /131222...\n",
            "Loading CSVs for directory /141222...\n",
            "Loading CSVs for directory /151222...\n",
            "Loading CSVs for directory /161222...\n",
            "Loading CSVs for directory /171222...\n",
            "Loading CSVs for directory /181222...\n",
            "Loading CSVs for directory /191222...\n",
            "Size of tweets dataframe: 168656, having dropped 5 duplicate rows\n",
            "Size of perspective dataframe: 168656, having dropped 23 duplicate rows\n"
          ]
        }
      ]
    },
    {
      "cell_type": "code",
      "metadata": {
        "id": "fIQbp7k92PQ_"
      },
      "source": [
        "# Up the pandas display limits so printed dataframes aren't so truncated\n",
        "pd.set_option('display.max_rows', 100)\n",
        "pd.set_option('display.max_columns', 10)\n",
        "pd.set_option('display.width', None)\n",
        "pd.set_option('display.max_colwidth', None)"
      ],
      "execution_count": 6,
      "outputs": []
    },
    {
      "cell_type": "markdown",
      "metadata": {
        "id": "GKwJiJz_pvQ9"
      },
      "source": [
        "# Data manipulation"
      ]
    },
    {
      "cell_type": "code",
      "metadata": {
        "id": "SHz_MRv9p1P9"
      },
      "source": [
        "# Join tables + drop old ones!\n",
        "joined_df = pd.merge(in_tweets, persp, how='outer', on='tweet_id')\n",
        "del in_tweets\n",
        "del persp"
      ],
      "execution_count": 8,
      "outputs": []
    },
    {
      "cell_type": "code",
      "metadata": {
        "colab": {
          "base_uri": "https://localhost:8080/"
        },
        "id": "VYL6O4yVhPhK",
        "outputId": "5807e9c2-8099-499e-876e-c2e754ecefb6"
      },
      "source": [
        "joined_df = joined_df[(joined_df['created_at'] > '2022-12-09 00:00:00+00:00') & (joined_df['created_at'] < '2022-12-16 00:00:00+00:00')]\n",
        "len(joined_df)"
      ],
      "execution_count": 9,
      "outputs": [
        {
          "output_type": "execute_result",
          "data": {
            "text/plain": [
              "98678"
            ]
          },
          "metadata": {},
          "execution_count": 9
        }
      ]
    },
    {
      "cell_type": "code",
      "metadata": {
        "colab": {
          "base_uri": "https://localhost:8080/"
        },
        "id": "Q2wlAG3DvVEC",
        "outputId": "a11e2790-575c-473d-90ad-3d29965643fb"
      },
      "source": [
        "# Extract England players\n",
        "list_of_players = [\"JPickford1\", \"kylewalker2\", \"LukeShaw23\", \"_DeclanRice\", \"HarryMaguire93\", \"JackGrealish\",\n",
        "                    \"JHenderson\", \"HKane\", \"sterling7\", \"MarcusRashford\", \"trippier2\", \"deanhenderson\",\n",
        "                    \"Kalvinphillips\", \"OfficialTM_3\", \"Sanchooo10\", \"CalvertLewin14\", \"masonmount_10\", \"PhilFoden\",\n",
        "                    \"BenChilwell\", \"ben6white\", \"samjohnstone50\", \"reecejames_24\", \"BukayoSaka87\", \"BellinghamJude\"]\n",
        "\n",
        "for player in list_of_players:\n",
        "    print(f\"Extracting {player}...\")\n",
        "    joined_df[player] = joined_df['accounts_mentioned'].str.contains(f\"'username': '{player}'\").astype(bool)"
      ],
      "execution_count": 12,
      "outputs": [
        {
          "output_type": "stream",
          "name": "stdout",
          "text": [
            "Extracting JPickford1...\n",
            "Extracting kylewalker2...\n",
            "Extracting LukeShaw23...\n",
            "Extracting _DeclanRice...\n",
            "Extracting HarryMaguire93...\n",
            "Extracting JackGrealish...\n",
            "Extracting JHenderson...\n",
            "Extracting HKane...\n",
            "Extracting sterling7...\n",
            "Extracting MarcusRashford...\n",
            "Extracting trippier2...\n",
            "Extracting deanhenderson...\n",
            "Extracting Kalvinphillips...\n",
            "Extracting OfficialTM_3...\n",
            "Extracting Sanchooo10...\n",
            "Extracting CalvertLewin14...\n",
            "Extracting masonmount_10...\n",
            "Extracting PhilFoden...\n",
            "Extracting BenChilwell...\n",
            "Extracting ben6white...\n",
            "Extracting samjohnstone50...\n",
            "Extracting reecejames_24...\n",
            "Extracting BukayoSaka87...\n",
            "Extracting BellinghamJude...\n"
          ]
        }
      ]
    },
    {
      "cell_type": "code",
      "metadata": {
        "id": "5ETcdUEreoLZ"
      },
      "source": [
        "# Sort by ascending date\n",
        "joined_df.sort_values('created_at', axis=0, inplace=True)"
      ],
      "execution_count": 14,
      "outputs": []
    },
    {
      "cell_type": "code",
      "metadata": {
        "id": "bZJsp6g6ecDU"
      },
      "source": [
        "joined_df = joined_df[\n",
        "    (joined_df[\"JPickford1\"]) |\n",
        "    (joined_df[\"kylewalker2\"]) |\n",
        "    (joined_df[\"LukeShaw23\"]) |\n",
        "    (joined_df[\"kylewalker2\"]) |\n",
        "    (joined_df[\"_DeclanRice\"]) |\n",
        "    (joined_df[\"HarryMaguire93\"]) |\n",
        "    (joined_df[\"JackGrealish\"]) |\n",
        "    (joined_df[\"JHenderson\"]) |\n",
        "    (joined_df[\"HKane\"]) |\n",
        "    (joined_df[\"sterling7\"]) |\n",
        "    (joined_df[\"MarcusRashford\"]) |\n",
        "    (joined_df[\"trippier2\"]) |\n",
        "    (joined_df[\"deanhenderson\"]) |\n",
        "    (joined_df[\"Kalvinphillips\"]) |\n",
        "    (joined_df[\"OfficialTM_3\"]) |\n",
        "    (joined_df[\"Sanchooo10\"]) |\n",
        "    (joined_df[\"CalvertLewin14\"]) |\n",
        "    (joined_df[\"masonmount_10\"]) |\n",
        "    (joined_df[\"PhilFoden\"]) |\n",
        "    (joined_df[\"BenChilwell\"]) |\n",
        "    (joined_df[\"ben6white\"]) |\n",
        "    (joined_df[\"samjohnstone50\"]) |\n",
        "    (joined_df[\"reecejames_24\"]) |\n",
        "    (joined_df[\"BukayoSaka87\"]) |\n",
        "    (joined_df[\"BellinghamJude\"])\n",
        "    ]"
      ],
      "execution_count": 15,
      "outputs": []
    },
    {
      "cell_type": "code",
      "metadata": {
        "id": "tkf-GaKIfR1Z",
        "outputId": "2400ec69-f55a-495d-ae2c-cd742950f5cb",
        "colab": {
          "base_uri": "https://localhost:8080/"
        }
      },
      "source": [
        "threshold_p = 0.5\n",
        "\n",
        "joined_df['persp_over_threshold'] = (joined_df['identity_attack_score'] > threshold_p) | (joined_df['threat_score'] > threshold_p) | (joined_df['severe_toxicity_score'] > threshold_p)\n",
        "                                                                                 "
      ],
      "execution_count": 16,
      "outputs": [
        {
          "output_type": "stream",
          "name": "stderr",
          "text": [
            "<ipython-input-16-96209b47e4e1>:3: SettingWithCopyWarning: \n",
            "A value is trying to be set on a copy of a slice from a DataFrame.\n",
            "Try using .loc[row_indexer,col_indexer] = value instead\n",
            "\n",
            "See the caveats in the documentation: https://pandas.pydata.org/pandas-docs/stable/user_guide/indexing.html#returning-a-view-versus-a-copy\n",
            "  joined_df['persp_over_threshold'] = (joined_df['identity_attack_score'] > threshold_p) | (joined_df['threat_score'] > threshold_p) | (joined_df['severe_toxicity_score'] > threshold_p)\n"
          ]
        }
      ]
    },
    {
      "cell_type": "code",
      "metadata": {
        "colab": {
          "base_uri": "https://localhost:8080/"
        },
        "id": "oXuYw4cKewx-",
        "outputId": "897e4895-2c74-46ed-e5da-a12e6d55de56"
      },
      "source": [
        "p_tweets = joined_df['persp_over_threshold'].sum()\n",
        "total_tweets = len(joined_df)\n",
        "print(f\"Total tweets flagged by Perspective: {p_tweets}\")\n",
        "print(f\"Total tweets: {total_tweets}\")\n",
        "print(f\"Percentage of tweets flagged by Perspective: {(100*p_tweets)/total_tweets}%\")"
      ],
      "execution_count": 17,
      "outputs": [
        {
          "output_type": "stream",
          "name": "stdout",
          "text": [
            "Total tweets flagged by Perspective: 1216\n",
            "Total tweets: 90960\n",
            "Percentage of tweets flagged by Perspective: 1.3368513632365875%\n"
          ]
        }
      ]
    },
    {
      "cell_type": "code",
      "metadata": {
        "id": "jddgAcxNfo4b",
        "colab": {
          "base_uri": "https://localhost:8080/"
        },
        "outputId": "04e1f0ce-f765-4a64-fe6a-84dafacec0ad"
      },
      "source": [
        "for player in list_of_players:\n",
        "    joined_df[f'{player}_offensive_p'] = joined_df['persp_over_threshold'] & joined_df[player]"
      ],
      "execution_count": 18,
      "outputs": [
        {
          "output_type": "stream",
          "name": "stderr",
          "text": [
            "<ipython-input-18-bc99ad77bdcc>:2: SettingWithCopyWarning: \n",
            "A value is trying to be set on a copy of a slice from a DataFrame.\n",
            "Try using .loc[row_indexer,col_indexer] = value instead\n",
            "\n",
            "See the caveats in the documentation: https://pandas.pydata.org/pandas-docs/stable/user_guide/indexing.html#returning-a-view-versus-a-copy\n",
            "  joined_df[f'{player}_offensive_p'] = joined_df['persp_over_threshold'] & joined_df[player]\n"
          ]
        }
      ]
    },
    {
      "cell_type": "code",
      "metadata": {
        "id": "txD0aY-Of1Xt",
        "outputId": "8aa15f40-5f32-415c-dd77-e31e61572920",
        "colab": {
          "base_uri": "https://localhost:8080/"
        }
      },
      "source": [
        "player_offensive_tweet_map = pd.DataFrame(columns=[\"username\",\n",
        "                                                   \"tweets_received\",\n",
        "                                                   \"offensive_tweets_received_p\",\n",
        "                                                   \"percentage_offensive_p\"\n",
        "                                                   ])\n",
        "\n",
        "i = 0\n",
        "for player in list_of_players:\n",
        "    off_tweets_p = joined_df[player + '_offensive_p'].sum()\n",
        "    tweets = joined_df[player].sum()\n",
        "    percentage_p = 100 * (off_tweets_p / tweets)\n",
        "    player_offensive_tweet_map.loc[i] = player, tweets, off_tweets_p, percentage_p\n",
        "    i += 1"
      ],
      "execution_count": 20,
      "outputs": [
        {
          "output_type": "stream",
          "name": "stderr",
          "text": [
            "<ipython-input-20-512e9e64f32b>:11: RuntimeWarning: invalid value encountered in long_scalars\n",
            "  percentage_p = 100 * (off_tweets_p / tweets)\n"
          ]
        }
      ]
    },
    {
      "cell_type": "code",
      "source": [
        "name_map = {\n",
        "    \"JPickford1\": \"Jordan Pickford\",\n",
        "    \"Popey1992\": \"Nick Pope\",\n",
        "    \"kylewalker2\": \"Kyle Walker\",\n",
        "    \"Kalvinphillips\": \"Kalvin Phillips\",\n",
        "    \"ben6white\": \"Benjamin White\",\n",
        "    \"ericdier\": \"Eric Dier\",\n",
        "    \"trippier2\": \"Kieran Trippier\",\n",
        "    \"TrentAA\": \"Trent Alexander-Arnold\",\n",
        "    \"AaronRamsdale98\": \"Aaron Ramsdale\",\n",
        "    \"JHenderson\": \"Jordan Henderson\",\n",
        "    \"PhilFoden\": \"Phil Foden\",\n",
        "    \"CallumWilson\": \"Callum Wilson\",\n",
        "    \"sterling7\": \"Raheem Sterling\",\n",
        "    \"LukeShaw23\": \"Luke Shaw\",\n",
        "    \"_DeclanRice\": \"Declan Rice\",\n",
        "    \"Madders10\": \"James Maddison\",\n",
        "    \"BellinghamJude\": \"Jude Bellingham\",\n",
        "    \"JackGrealish\": \"Jack Grealish\",\n",
        "    \"HarryMaguire93\": \"Harry Maguire\",\n",
        "    \"MarcusRashford\": \"Marcus Rashford\",\n",
        "    \"BukayoSaka87\": \"Bukayo Saka\",\n",
        "    \"HKane\": \"Harry Kane\"\n",
        "}\n",
        "\n",
        "player_offensive_tweet_map[\"player\"] = player_offensive_tweet_map[\"username\"].map(name_map)"
      ],
      "metadata": {
        "id": "mnGafeyYvV6m"
      },
      "execution_count": 22,
      "outputs": []
    },
    {
      "cell_type": "code",
      "source": [
        "player_offensive_tweet_map.sort_values('tweets_received', inplace=True)\n",
        "\n",
        "fig = go.Figure(data=[\n",
        "    go.Bar(name='offensive', y=player_offensive_tweet_map.player, x=player_offensive_tweet_map.offensive_tweets_received_p, marker_color = \"darkred\", orientation = 'h'),\n",
        "    go.Bar(name='total', y=player_offensive_tweet_map.player, x=player_offensive_tweet_map.tweets_received, marker_color=\"lightgrey\", orientation = 'h')\n",
        "])\n",
        "# Change the bar mode\n",
        "fig.update_layout(barmode='stack')\n",
        "fig.update_xaxes(type=\"log\")\n",
        "\n",
        "fig.show()"
      ],
      "metadata": {
        "colab": {
          "base_uri": "https://localhost:8080/",
          "height": 542
        },
        "id": "Ge-f2QGlvJgN",
        "outputId": "5612daa2-c8b7-4c1b-8f53-1e4dd01e1500"
      },
      "execution_count": 23,
      "outputs": [
        {
          "output_type": "display_data",
          "data": {
            "text/html": [
              "<html>\n",
              "<head><meta charset=\"utf-8\" /></head>\n",
              "<body>\n",
              "    <div>            <script src=\"https://cdnjs.cloudflare.com/ajax/libs/mathjax/2.7.5/MathJax.js?config=TeX-AMS-MML_SVG\"></script><script type=\"text/javascript\">if (window.MathJax) {MathJax.Hub.Config({SVG: {font: \"STIX-Web\"}});}</script>                <script type=\"text/javascript\">window.PlotlyConfig = {MathJaxConfig: 'local'};</script>\n",
              "        <script src=\"https://cdn.plot.ly/plotly-2.8.3.min.js\"></script>                <div id=\"aadf21f6-49fe-4166-a213-9775cde6a2bd\" class=\"plotly-graph-div\" style=\"height:525px; width:100%;\"></div>            <script type=\"text/javascript\">                                    window.PLOTLYENV=window.PLOTLYENV || {};                                    if (document.getElementById(\"aadf21f6-49fe-4166-a213-9775cde6a2bd\")) {                    Plotly.newPlot(                        \"aadf21f6-49fe-4166-a213-9775cde6a2bd\",                        [{\"marker\":{\"color\":\"darkred\"},\"name\":\"offensive\",\"orientation\":\"h\",\"x\":[0,0,0,0,0,0,0,5,1,2,11,8,12,5,14,13,15,12,29,58,99,60,61,895],\"y\":[null,null,null,null,null,null,null,null,\"Kalvin Phillips\",\"Kieran Trippier\",\"Jordan Pickford\",\"Luke Shaw\",\"Raheem Sterling\",\"Benjamin White\",\"Phil Foden\",\"Kyle Walker\",\"Jordan Henderson\",\"Jack Grealish\",\"Declan Rice\",\"Bukayo Saka\",\"Marcus Rashford\",\"Harry Maguire\",\"Jude Bellingham\",\"Harry Kane\"],\"type\":\"bar\"},{\"marker\":{\"color\":\"lightgrey\"},\"name\":\"total\",\"orientation\":\"h\",\"x\":[0,0,0,0,0,0,5,112,270,372,557,605,950,1165,1615,1970,2045,2268,3757,5765,8004,8149,9277,49794],\"y\":[null,null,null,null,null,null,null,null,\"Kalvin Phillips\",\"Kieran Trippier\",\"Jordan Pickford\",\"Luke Shaw\",\"Raheem Sterling\",\"Benjamin White\",\"Phil Foden\",\"Kyle Walker\",\"Jordan Henderson\",\"Jack Grealish\",\"Declan Rice\",\"Bukayo Saka\",\"Marcus Rashford\",\"Harry Maguire\",\"Jude Bellingham\",\"Harry Kane\"],\"type\":\"bar\"}],                        {\"template\":{\"data\":{\"bar\":[{\"error_x\":{\"color\":\"#2a3f5f\"},\"error_y\":{\"color\":\"#2a3f5f\"},\"marker\":{\"line\":{\"color\":\"#E5ECF6\",\"width\":0.5},\"pattern\":{\"fillmode\":\"overlay\",\"size\":10,\"solidity\":0.2}},\"type\":\"bar\"}],\"barpolar\":[{\"marker\":{\"line\":{\"color\":\"#E5ECF6\",\"width\":0.5},\"pattern\":{\"fillmode\":\"overlay\",\"size\":10,\"solidity\":0.2}},\"type\":\"barpolar\"}],\"carpet\":[{\"aaxis\":{\"endlinecolor\":\"#2a3f5f\",\"gridcolor\":\"white\",\"linecolor\":\"white\",\"minorgridcolor\":\"white\",\"startlinecolor\":\"#2a3f5f\"},\"baxis\":{\"endlinecolor\":\"#2a3f5f\",\"gridcolor\":\"white\",\"linecolor\":\"white\",\"minorgridcolor\":\"white\",\"startlinecolor\":\"#2a3f5f\"},\"type\":\"carpet\"}],\"choropleth\":[{\"colorbar\":{\"outlinewidth\":0,\"ticks\":\"\"},\"type\":\"choropleth\"}],\"contour\":[{\"colorbar\":{\"outlinewidth\":0,\"ticks\":\"\"},\"colorscale\":[[0.0,\"#0d0887\"],[0.1111111111111111,\"#46039f\"],[0.2222222222222222,\"#7201a8\"],[0.3333333333333333,\"#9c179e\"],[0.4444444444444444,\"#bd3786\"],[0.5555555555555556,\"#d8576b\"],[0.6666666666666666,\"#ed7953\"],[0.7777777777777778,\"#fb9f3a\"],[0.8888888888888888,\"#fdca26\"],[1.0,\"#f0f921\"]],\"type\":\"contour\"}],\"contourcarpet\":[{\"colorbar\":{\"outlinewidth\":0,\"ticks\":\"\"},\"type\":\"contourcarpet\"}],\"heatmap\":[{\"colorbar\":{\"outlinewidth\":0,\"ticks\":\"\"},\"colorscale\":[[0.0,\"#0d0887\"],[0.1111111111111111,\"#46039f\"],[0.2222222222222222,\"#7201a8\"],[0.3333333333333333,\"#9c179e\"],[0.4444444444444444,\"#bd3786\"],[0.5555555555555556,\"#d8576b\"],[0.6666666666666666,\"#ed7953\"],[0.7777777777777778,\"#fb9f3a\"],[0.8888888888888888,\"#fdca26\"],[1.0,\"#f0f921\"]],\"type\":\"heatmap\"}],\"heatmapgl\":[{\"colorbar\":{\"outlinewidth\":0,\"ticks\":\"\"},\"colorscale\":[[0.0,\"#0d0887\"],[0.1111111111111111,\"#46039f\"],[0.2222222222222222,\"#7201a8\"],[0.3333333333333333,\"#9c179e\"],[0.4444444444444444,\"#bd3786\"],[0.5555555555555556,\"#d8576b\"],[0.6666666666666666,\"#ed7953\"],[0.7777777777777778,\"#fb9f3a\"],[0.8888888888888888,\"#fdca26\"],[1.0,\"#f0f921\"]],\"type\":\"heatmapgl\"}],\"histogram\":[{\"marker\":{\"pattern\":{\"fillmode\":\"overlay\",\"size\":10,\"solidity\":0.2}},\"type\":\"histogram\"}],\"histogram2d\":[{\"colorbar\":{\"outlinewidth\":0,\"ticks\":\"\"},\"colorscale\":[[0.0,\"#0d0887\"],[0.1111111111111111,\"#46039f\"],[0.2222222222222222,\"#7201a8\"],[0.3333333333333333,\"#9c179e\"],[0.4444444444444444,\"#bd3786\"],[0.5555555555555556,\"#d8576b\"],[0.6666666666666666,\"#ed7953\"],[0.7777777777777778,\"#fb9f3a\"],[0.8888888888888888,\"#fdca26\"],[1.0,\"#f0f921\"]],\"type\":\"histogram2d\"}],\"histogram2dcontour\":[{\"colorbar\":{\"outlinewidth\":0,\"ticks\":\"\"},\"colorscale\":[[0.0,\"#0d0887\"],[0.1111111111111111,\"#46039f\"],[0.2222222222222222,\"#7201a8\"],[0.3333333333333333,\"#9c179e\"],[0.4444444444444444,\"#bd3786\"],[0.5555555555555556,\"#d8576b\"],[0.6666666666666666,\"#ed7953\"],[0.7777777777777778,\"#fb9f3a\"],[0.8888888888888888,\"#fdca26\"],[1.0,\"#f0f921\"]],\"type\":\"histogram2dcontour\"}],\"mesh3d\":[{\"colorbar\":{\"outlinewidth\":0,\"ticks\":\"\"},\"type\":\"mesh3d\"}],\"parcoords\":[{\"line\":{\"colorbar\":{\"outlinewidth\":0,\"ticks\":\"\"}},\"type\":\"parcoords\"}],\"pie\":[{\"automargin\":true,\"type\":\"pie\"}],\"scatter\":[{\"marker\":{\"colorbar\":{\"outlinewidth\":0,\"ticks\":\"\"}},\"type\":\"scatter\"}],\"scatter3d\":[{\"line\":{\"colorbar\":{\"outlinewidth\":0,\"ticks\":\"\"}},\"marker\":{\"colorbar\":{\"outlinewidth\":0,\"ticks\":\"\"}},\"type\":\"scatter3d\"}],\"scattercarpet\":[{\"marker\":{\"colorbar\":{\"outlinewidth\":0,\"ticks\":\"\"}},\"type\":\"scattercarpet\"}],\"scattergeo\":[{\"marker\":{\"colorbar\":{\"outlinewidth\":0,\"ticks\":\"\"}},\"type\":\"scattergeo\"}],\"scattergl\":[{\"marker\":{\"colorbar\":{\"outlinewidth\":0,\"ticks\":\"\"}},\"type\":\"scattergl\"}],\"scattermapbox\":[{\"marker\":{\"colorbar\":{\"outlinewidth\":0,\"ticks\":\"\"}},\"type\":\"scattermapbox\"}],\"scatterpolar\":[{\"marker\":{\"colorbar\":{\"outlinewidth\":0,\"ticks\":\"\"}},\"type\":\"scatterpolar\"}],\"scatterpolargl\":[{\"marker\":{\"colorbar\":{\"outlinewidth\":0,\"ticks\":\"\"}},\"type\":\"scatterpolargl\"}],\"scatterternary\":[{\"marker\":{\"colorbar\":{\"outlinewidth\":0,\"ticks\":\"\"}},\"type\":\"scatterternary\"}],\"surface\":[{\"colorbar\":{\"outlinewidth\":0,\"ticks\":\"\"},\"colorscale\":[[0.0,\"#0d0887\"],[0.1111111111111111,\"#46039f\"],[0.2222222222222222,\"#7201a8\"],[0.3333333333333333,\"#9c179e\"],[0.4444444444444444,\"#bd3786\"],[0.5555555555555556,\"#d8576b\"],[0.6666666666666666,\"#ed7953\"],[0.7777777777777778,\"#fb9f3a\"],[0.8888888888888888,\"#fdca26\"],[1.0,\"#f0f921\"]],\"type\":\"surface\"}],\"table\":[{\"cells\":{\"fill\":{\"color\":\"#EBF0F8\"},\"line\":{\"color\":\"white\"}},\"header\":{\"fill\":{\"color\":\"#C8D4E3\"},\"line\":{\"color\":\"white\"}},\"type\":\"table\"}]},\"layout\":{\"annotationdefaults\":{\"arrowcolor\":\"#2a3f5f\",\"arrowhead\":0,\"arrowwidth\":1},\"autotypenumbers\":\"strict\",\"coloraxis\":{\"colorbar\":{\"outlinewidth\":0,\"ticks\":\"\"}},\"colorscale\":{\"diverging\":[[0,\"#8e0152\"],[0.1,\"#c51b7d\"],[0.2,\"#de77ae\"],[0.3,\"#f1b6da\"],[0.4,\"#fde0ef\"],[0.5,\"#f7f7f7\"],[0.6,\"#e6f5d0\"],[0.7,\"#b8e186\"],[0.8,\"#7fbc41\"],[0.9,\"#4d9221\"],[1,\"#276419\"]],\"sequential\":[[0.0,\"#0d0887\"],[0.1111111111111111,\"#46039f\"],[0.2222222222222222,\"#7201a8\"],[0.3333333333333333,\"#9c179e\"],[0.4444444444444444,\"#bd3786\"],[0.5555555555555556,\"#d8576b\"],[0.6666666666666666,\"#ed7953\"],[0.7777777777777778,\"#fb9f3a\"],[0.8888888888888888,\"#fdca26\"],[1.0,\"#f0f921\"]],\"sequentialminus\":[[0.0,\"#0d0887\"],[0.1111111111111111,\"#46039f\"],[0.2222222222222222,\"#7201a8\"],[0.3333333333333333,\"#9c179e\"],[0.4444444444444444,\"#bd3786\"],[0.5555555555555556,\"#d8576b\"],[0.6666666666666666,\"#ed7953\"],[0.7777777777777778,\"#fb9f3a\"],[0.8888888888888888,\"#fdca26\"],[1.0,\"#f0f921\"]]},\"colorway\":[\"#636efa\",\"#EF553B\",\"#00cc96\",\"#ab63fa\",\"#FFA15A\",\"#19d3f3\",\"#FF6692\",\"#B6E880\",\"#FF97FF\",\"#FECB52\"],\"font\":{\"color\":\"#2a3f5f\"},\"geo\":{\"bgcolor\":\"white\",\"lakecolor\":\"white\",\"landcolor\":\"#E5ECF6\",\"showlakes\":true,\"showland\":true,\"subunitcolor\":\"white\"},\"hoverlabel\":{\"align\":\"left\"},\"hovermode\":\"closest\",\"mapbox\":{\"style\":\"light\"},\"paper_bgcolor\":\"white\",\"plot_bgcolor\":\"#E5ECF6\",\"polar\":{\"angularaxis\":{\"gridcolor\":\"white\",\"linecolor\":\"white\",\"ticks\":\"\"},\"bgcolor\":\"#E5ECF6\",\"radialaxis\":{\"gridcolor\":\"white\",\"linecolor\":\"white\",\"ticks\":\"\"}},\"scene\":{\"xaxis\":{\"backgroundcolor\":\"#E5ECF6\",\"gridcolor\":\"white\",\"gridwidth\":2,\"linecolor\":\"white\",\"showbackground\":true,\"ticks\":\"\",\"zerolinecolor\":\"white\"},\"yaxis\":{\"backgroundcolor\":\"#E5ECF6\",\"gridcolor\":\"white\",\"gridwidth\":2,\"linecolor\":\"white\",\"showbackground\":true,\"ticks\":\"\",\"zerolinecolor\":\"white\"},\"zaxis\":{\"backgroundcolor\":\"#E5ECF6\",\"gridcolor\":\"white\",\"gridwidth\":2,\"linecolor\":\"white\",\"showbackground\":true,\"ticks\":\"\",\"zerolinecolor\":\"white\"}},\"shapedefaults\":{\"line\":{\"color\":\"#2a3f5f\"}},\"ternary\":{\"aaxis\":{\"gridcolor\":\"white\",\"linecolor\":\"white\",\"ticks\":\"\"},\"baxis\":{\"gridcolor\":\"white\",\"linecolor\":\"white\",\"ticks\":\"\"},\"bgcolor\":\"#E5ECF6\",\"caxis\":{\"gridcolor\":\"white\",\"linecolor\":\"white\",\"ticks\":\"\"}},\"title\":{\"x\":0.05},\"xaxis\":{\"automargin\":true,\"gridcolor\":\"white\",\"linecolor\":\"white\",\"ticks\":\"\",\"title\":{\"standoff\":15},\"zerolinecolor\":\"white\",\"zerolinewidth\":2},\"yaxis\":{\"automargin\":true,\"gridcolor\":\"white\",\"linecolor\":\"white\",\"ticks\":\"\",\"title\":{\"standoff\":15},\"zerolinecolor\":\"white\",\"zerolinewidth\":2}}},\"barmode\":\"stack\",\"xaxis\":{\"type\":\"log\"}},                        {\"responsive\": true}                    ).then(function(){\n",
              "                            \n",
              "var gd = document.getElementById('aadf21f6-49fe-4166-a213-9775cde6a2bd');\n",
              "var x = new MutationObserver(function (mutations, observer) {{\n",
              "        var display = window.getComputedStyle(gd).display;\n",
              "        if (!display || display === 'none') {{\n",
              "            console.log([gd, 'removed!']);\n",
              "            Plotly.purge(gd);\n",
              "            observer.disconnect();\n",
              "        }}\n",
              "}});\n",
              "\n",
              "// Listen for the removal of the full notebook cells\n",
              "var notebookContainer = gd.closest('#notebook-container');\n",
              "if (notebookContainer) {{\n",
              "    x.observe(notebookContainer, {childList: true});\n",
              "}}\n",
              "\n",
              "// Listen for the clearing of the current output cell\n",
              "var outputEl = gd.closest('.output');\n",
              "if (outputEl) {{\n",
              "    x.observe(outputEl, {childList: true});\n",
              "}}\n",
              "\n",
              "                        })                };                            </script>        </div>\n",
              "</body>\n",
              "</html>"
            ]
          },
          "metadata": {}
        }
      ]
    },
    {
      "cell_type": "code",
      "source": [
        "fig = go.Figure(data=[\n",
        "    go.Bar(name='offensive', y=player_offensive_tweet_map.sort_values('offensive_tweets_received_p', axis=0, ascending=True, inplace=False).player, x=player_offensive_tweet_map.sort_values('offensive_tweets_received_p', axis=0, ascending=True, inplace=False).offensive_tweets_received_p, marker_color = \"darkred\", orientation = 'h')\n",
        "])\n",
        "# Change the bar mode\n",
        "\n",
        "fig.show()"
      ],
      "metadata": {
        "colab": {
          "base_uri": "https://localhost:8080/",
          "height": 542
        },
        "id": "jSq0jdDtv34j",
        "outputId": "e75ef032-0df1-451e-b306-73ef2a2eb9a5"
      },
      "execution_count": 24,
      "outputs": [
        {
          "output_type": "display_data",
          "data": {
            "text/html": [
              "<html>\n",
              "<head><meta charset=\"utf-8\" /></head>\n",
              "<body>\n",
              "    <div>            <script src=\"https://cdnjs.cloudflare.com/ajax/libs/mathjax/2.7.5/MathJax.js?config=TeX-AMS-MML_SVG\"></script><script type=\"text/javascript\">if (window.MathJax) {MathJax.Hub.Config({SVG: {font: \"STIX-Web\"}});}</script>                <script type=\"text/javascript\">window.PlotlyConfig = {MathJaxConfig: 'local'};</script>\n",
              "        <script src=\"https://cdn.plot.ly/plotly-2.8.3.min.js\"></script>                <div id=\"572d7f08-d43b-4252-ad42-200e9754e4f7\" class=\"plotly-graph-div\" style=\"height:525px; width:100%;\"></div>            <script type=\"text/javascript\">                                    window.PLOTLYENV=window.PLOTLYENV || {};                                    if (document.getElementById(\"572d7f08-d43b-4252-ad42-200e9754e4f7\")) {                    Plotly.newPlot(                        \"572d7f08-d43b-4252-ad42-200e9754e4f7\",                        [{\"marker\":{\"color\":\"darkred\"},\"name\":\"offensive\",\"orientation\":\"h\",\"x\":[0,0,0,0,0,0,0,1,2,5,5,8,11,12,12,13,14,15,29,58,60,61,99,895],\"y\":[null,null,null,null,null,null,null,\"Kalvin Phillips\",\"Kieran Trippier\",null,\"Benjamin White\",\"Luke Shaw\",\"Jordan Pickford\",\"Raheem Sterling\",\"Jack Grealish\",\"Kyle Walker\",\"Phil Foden\",\"Jordan Henderson\",\"Declan Rice\",\"Bukayo Saka\",\"Harry Maguire\",\"Jude Bellingham\",\"Marcus Rashford\",\"Harry Kane\"],\"type\":\"bar\"}],                        {\"template\":{\"data\":{\"bar\":[{\"error_x\":{\"color\":\"#2a3f5f\"},\"error_y\":{\"color\":\"#2a3f5f\"},\"marker\":{\"line\":{\"color\":\"#E5ECF6\",\"width\":0.5},\"pattern\":{\"fillmode\":\"overlay\",\"size\":10,\"solidity\":0.2}},\"type\":\"bar\"}],\"barpolar\":[{\"marker\":{\"line\":{\"color\":\"#E5ECF6\",\"width\":0.5},\"pattern\":{\"fillmode\":\"overlay\",\"size\":10,\"solidity\":0.2}},\"type\":\"barpolar\"}],\"carpet\":[{\"aaxis\":{\"endlinecolor\":\"#2a3f5f\",\"gridcolor\":\"white\",\"linecolor\":\"white\",\"minorgridcolor\":\"white\",\"startlinecolor\":\"#2a3f5f\"},\"baxis\":{\"endlinecolor\":\"#2a3f5f\",\"gridcolor\":\"white\",\"linecolor\":\"white\",\"minorgridcolor\":\"white\",\"startlinecolor\":\"#2a3f5f\"},\"type\":\"carpet\"}],\"choropleth\":[{\"colorbar\":{\"outlinewidth\":0,\"ticks\":\"\"},\"type\":\"choropleth\"}],\"contour\":[{\"colorbar\":{\"outlinewidth\":0,\"ticks\":\"\"},\"colorscale\":[[0.0,\"#0d0887\"],[0.1111111111111111,\"#46039f\"],[0.2222222222222222,\"#7201a8\"],[0.3333333333333333,\"#9c179e\"],[0.4444444444444444,\"#bd3786\"],[0.5555555555555556,\"#d8576b\"],[0.6666666666666666,\"#ed7953\"],[0.7777777777777778,\"#fb9f3a\"],[0.8888888888888888,\"#fdca26\"],[1.0,\"#f0f921\"]],\"type\":\"contour\"}],\"contourcarpet\":[{\"colorbar\":{\"outlinewidth\":0,\"ticks\":\"\"},\"type\":\"contourcarpet\"}],\"heatmap\":[{\"colorbar\":{\"outlinewidth\":0,\"ticks\":\"\"},\"colorscale\":[[0.0,\"#0d0887\"],[0.1111111111111111,\"#46039f\"],[0.2222222222222222,\"#7201a8\"],[0.3333333333333333,\"#9c179e\"],[0.4444444444444444,\"#bd3786\"],[0.5555555555555556,\"#d8576b\"],[0.6666666666666666,\"#ed7953\"],[0.7777777777777778,\"#fb9f3a\"],[0.8888888888888888,\"#fdca26\"],[1.0,\"#f0f921\"]],\"type\":\"heatmap\"}],\"heatmapgl\":[{\"colorbar\":{\"outlinewidth\":0,\"ticks\":\"\"},\"colorscale\":[[0.0,\"#0d0887\"],[0.1111111111111111,\"#46039f\"],[0.2222222222222222,\"#7201a8\"],[0.3333333333333333,\"#9c179e\"],[0.4444444444444444,\"#bd3786\"],[0.5555555555555556,\"#d8576b\"],[0.6666666666666666,\"#ed7953\"],[0.7777777777777778,\"#fb9f3a\"],[0.8888888888888888,\"#fdca26\"],[1.0,\"#f0f921\"]],\"type\":\"heatmapgl\"}],\"histogram\":[{\"marker\":{\"pattern\":{\"fillmode\":\"overlay\",\"size\":10,\"solidity\":0.2}},\"type\":\"histogram\"}],\"histogram2d\":[{\"colorbar\":{\"outlinewidth\":0,\"ticks\":\"\"},\"colorscale\":[[0.0,\"#0d0887\"],[0.1111111111111111,\"#46039f\"],[0.2222222222222222,\"#7201a8\"],[0.3333333333333333,\"#9c179e\"],[0.4444444444444444,\"#bd3786\"],[0.5555555555555556,\"#d8576b\"],[0.6666666666666666,\"#ed7953\"],[0.7777777777777778,\"#fb9f3a\"],[0.8888888888888888,\"#fdca26\"],[1.0,\"#f0f921\"]],\"type\":\"histogram2d\"}],\"histogram2dcontour\":[{\"colorbar\":{\"outlinewidth\":0,\"ticks\":\"\"},\"colorscale\":[[0.0,\"#0d0887\"],[0.1111111111111111,\"#46039f\"],[0.2222222222222222,\"#7201a8\"],[0.3333333333333333,\"#9c179e\"],[0.4444444444444444,\"#bd3786\"],[0.5555555555555556,\"#d8576b\"],[0.6666666666666666,\"#ed7953\"],[0.7777777777777778,\"#fb9f3a\"],[0.8888888888888888,\"#fdca26\"],[1.0,\"#f0f921\"]],\"type\":\"histogram2dcontour\"}],\"mesh3d\":[{\"colorbar\":{\"outlinewidth\":0,\"ticks\":\"\"},\"type\":\"mesh3d\"}],\"parcoords\":[{\"line\":{\"colorbar\":{\"outlinewidth\":0,\"ticks\":\"\"}},\"type\":\"parcoords\"}],\"pie\":[{\"automargin\":true,\"type\":\"pie\"}],\"scatter\":[{\"marker\":{\"colorbar\":{\"outlinewidth\":0,\"ticks\":\"\"}},\"type\":\"scatter\"}],\"scatter3d\":[{\"line\":{\"colorbar\":{\"outlinewidth\":0,\"ticks\":\"\"}},\"marker\":{\"colorbar\":{\"outlinewidth\":0,\"ticks\":\"\"}},\"type\":\"scatter3d\"}],\"scattercarpet\":[{\"marker\":{\"colorbar\":{\"outlinewidth\":0,\"ticks\":\"\"}},\"type\":\"scattercarpet\"}],\"scattergeo\":[{\"marker\":{\"colorbar\":{\"outlinewidth\":0,\"ticks\":\"\"}},\"type\":\"scattergeo\"}],\"scattergl\":[{\"marker\":{\"colorbar\":{\"outlinewidth\":0,\"ticks\":\"\"}},\"type\":\"scattergl\"}],\"scattermapbox\":[{\"marker\":{\"colorbar\":{\"outlinewidth\":0,\"ticks\":\"\"}},\"type\":\"scattermapbox\"}],\"scatterpolar\":[{\"marker\":{\"colorbar\":{\"outlinewidth\":0,\"ticks\":\"\"}},\"type\":\"scatterpolar\"}],\"scatterpolargl\":[{\"marker\":{\"colorbar\":{\"outlinewidth\":0,\"ticks\":\"\"}},\"type\":\"scatterpolargl\"}],\"scatterternary\":[{\"marker\":{\"colorbar\":{\"outlinewidth\":0,\"ticks\":\"\"}},\"type\":\"scatterternary\"}],\"surface\":[{\"colorbar\":{\"outlinewidth\":0,\"ticks\":\"\"},\"colorscale\":[[0.0,\"#0d0887\"],[0.1111111111111111,\"#46039f\"],[0.2222222222222222,\"#7201a8\"],[0.3333333333333333,\"#9c179e\"],[0.4444444444444444,\"#bd3786\"],[0.5555555555555556,\"#d8576b\"],[0.6666666666666666,\"#ed7953\"],[0.7777777777777778,\"#fb9f3a\"],[0.8888888888888888,\"#fdca26\"],[1.0,\"#f0f921\"]],\"type\":\"surface\"}],\"table\":[{\"cells\":{\"fill\":{\"color\":\"#EBF0F8\"},\"line\":{\"color\":\"white\"}},\"header\":{\"fill\":{\"color\":\"#C8D4E3\"},\"line\":{\"color\":\"white\"}},\"type\":\"table\"}]},\"layout\":{\"annotationdefaults\":{\"arrowcolor\":\"#2a3f5f\",\"arrowhead\":0,\"arrowwidth\":1},\"autotypenumbers\":\"strict\",\"coloraxis\":{\"colorbar\":{\"outlinewidth\":0,\"ticks\":\"\"}},\"colorscale\":{\"diverging\":[[0,\"#8e0152\"],[0.1,\"#c51b7d\"],[0.2,\"#de77ae\"],[0.3,\"#f1b6da\"],[0.4,\"#fde0ef\"],[0.5,\"#f7f7f7\"],[0.6,\"#e6f5d0\"],[0.7,\"#b8e186\"],[0.8,\"#7fbc41\"],[0.9,\"#4d9221\"],[1,\"#276419\"]],\"sequential\":[[0.0,\"#0d0887\"],[0.1111111111111111,\"#46039f\"],[0.2222222222222222,\"#7201a8\"],[0.3333333333333333,\"#9c179e\"],[0.4444444444444444,\"#bd3786\"],[0.5555555555555556,\"#d8576b\"],[0.6666666666666666,\"#ed7953\"],[0.7777777777777778,\"#fb9f3a\"],[0.8888888888888888,\"#fdca26\"],[1.0,\"#f0f921\"]],\"sequentialminus\":[[0.0,\"#0d0887\"],[0.1111111111111111,\"#46039f\"],[0.2222222222222222,\"#7201a8\"],[0.3333333333333333,\"#9c179e\"],[0.4444444444444444,\"#bd3786\"],[0.5555555555555556,\"#d8576b\"],[0.6666666666666666,\"#ed7953\"],[0.7777777777777778,\"#fb9f3a\"],[0.8888888888888888,\"#fdca26\"],[1.0,\"#f0f921\"]]},\"colorway\":[\"#636efa\",\"#EF553B\",\"#00cc96\",\"#ab63fa\",\"#FFA15A\",\"#19d3f3\",\"#FF6692\",\"#B6E880\",\"#FF97FF\",\"#FECB52\"],\"font\":{\"color\":\"#2a3f5f\"},\"geo\":{\"bgcolor\":\"white\",\"lakecolor\":\"white\",\"landcolor\":\"#E5ECF6\",\"showlakes\":true,\"showland\":true,\"subunitcolor\":\"white\"},\"hoverlabel\":{\"align\":\"left\"},\"hovermode\":\"closest\",\"mapbox\":{\"style\":\"light\"},\"paper_bgcolor\":\"white\",\"plot_bgcolor\":\"#E5ECF6\",\"polar\":{\"angularaxis\":{\"gridcolor\":\"white\",\"linecolor\":\"white\",\"ticks\":\"\"},\"bgcolor\":\"#E5ECF6\",\"radialaxis\":{\"gridcolor\":\"white\",\"linecolor\":\"white\",\"ticks\":\"\"}},\"scene\":{\"xaxis\":{\"backgroundcolor\":\"#E5ECF6\",\"gridcolor\":\"white\",\"gridwidth\":2,\"linecolor\":\"white\",\"showbackground\":true,\"ticks\":\"\",\"zerolinecolor\":\"white\"},\"yaxis\":{\"backgroundcolor\":\"#E5ECF6\",\"gridcolor\":\"white\",\"gridwidth\":2,\"linecolor\":\"white\",\"showbackground\":true,\"ticks\":\"\",\"zerolinecolor\":\"white\"},\"zaxis\":{\"backgroundcolor\":\"#E5ECF6\",\"gridcolor\":\"white\",\"gridwidth\":2,\"linecolor\":\"white\",\"showbackground\":true,\"ticks\":\"\",\"zerolinecolor\":\"white\"}},\"shapedefaults\":{\"line\":{\"color\":\"#2a3f5f\"}},\"ternary\":{\"aaxis\":{\"gridcolor\":\"white\",\"linecolor\":\"white\",\"ticks\":\"\"},\"baxis\":{\"gridcolor\":\"white\",\"linecolor\":\"white\",\"ticks\":\"\"},\"bgcolor\":\"#E5ECF6\",\"caxis\":{\"gridcolor\":\"white\",\"linecolor\":\"white\",\"ticks\":\"\"}},\"title\":{\"x\":0.05},\"xaxis\":{\"automargin\":true,\"gridcolor\":\"white\",\"linecolor\":\"white\",\"ticks\":\"\",\"title\":{\"standoff\":15},\"zerolinecolor\":\"white\",\"zerolinewidth\":2},\"yaxis\":{\"automargin\":true,\"gridcolor\":\"white\",\"linecolor\":\"white\",\"ticks\":\"\",\"title\":{\"standoff\":15},\"zerolinecolor\":\"white\",\"zerolinewidth\":2}}}},                        {\"responsive\": true}                    ).then(function(){\n",
              "                            \n",
              "var gd = document.getElementById('572d7f08-d43b-4252-ad42-200e9754e4f7');\n",
              "var x = new MutationObserver(function (mutations, observer) {{\n",
              "        var display = window.getComputedStyle(gd).display;\n",
              "        if (!display || display === 'none') {{\n",
              "            console.log([gd, 'removed!']);\n",
              "            Plotly.purge(gd);\n",
              "            observer.disconnect();\n",
              "        }}\n",
              "}});\n",
              "\n",
              "// Listen for the removal of the full notebook cells\n",
              "var notebookContainer = gd.closest('#notebook-container');\n",
              "if (notebookContainer) {{\n",
              "    x.observe(notebookContainer, {childList: true});\n",
              "}}\n",
              "\n",
              "// Listen for the clearing of the current output cell\n",
              "var outputEl = gd.closest('.output');\n",
              "if (outputEl) {{\n",
              "    x.observe(outputEl, {childList: true});\n",
              "}}\n",
              "\n",
              "                        })                };                            </script>        </div>\n",
              "</body>\n",
              "</html>"
            ]
          },
          "metadata": {}
        }
      ]
    },
    {
      "cell_type": "markdown",
      "metadata": {
        "id": "yECoeCBwvqo1"
      },
      "source": [
        "# Analysis"
      ]
    },
    {
      "cell_type": "code",
      "metadata": {
        "colab": {
          "base_uri": "https://localhost:8080/"
        },
        "id": "7aZaw0zgv3Fl",
        "outputId": "216a1ebf-6937-4723-d146-1b4c71ab9924"
      },
      "source": [
        "# Print some headline figures\n",
        "print(f\"Earliest tweet: {joined_df['created_at'].min()}\")\n",
        "print(f\"Latest tweet: {joined_df['created_at'].max()}\")\n",
        "\n",
        "print(f\"Number of tweets (player-only): {len(joined_df)}\")"
      ],
      "execution_count": 25,
      "outputs": [
        {
          "output_type": "stream",
          "name": "stdout",
          "text": [
            "Earliest tweet: 2022-12-09 00:00:46+00:00\n",
            "Latest tweet: 2022-12-15 23:59:07+00:00\n",
            "Number of tweets (player-only): 90960\n"
          ]
        }
      ]
    },
    {
      "cell_type": "code",
      "metadata": {
        "id": "g7PCaIE3LXuU",
        "outputId": "ceae9060-b7b9-42c4-ecfe-4c890e34aa49",
        "colab": {
          "base_uri": "https://localhost:8080/"
        }
      },
      "source": [
        "# After the final - approximate\n",
        "a = joined_df[(joined_df['created_at'] > '2021-07-11 21:45:00+00:00')]\n",
        "hateful_tweets = a['persp_over_threshold'].sum()\n",
        "hateful_mentions = player_offensive_tweet_map['offensive_tweets_received_p'].sum() \n",
        "total_tweets = len(a)\n",
        "print(f\"Total tweets: {total_tweets}\")\n",
        "print(f\"Hateful tweets: {hateful_tweets}\")\n",
        "print(f\"Percenage: {100 * (hateful_tweets / total_tweets)}%\")\n",
        "print(f\"Hateful mentions (i.e. not unique tweets): {hateful_mentions}\")\n"
      ],
      "execution_count": 26,
      "outputs": [
        {
          "output_type": "stream",
          "name": "stdout",
          "text": [
            "Total tweets: 90960\n",
            "Hateful tweets: 1216\n",
            "Percenage: 1.3368513632365875%\n",
            "Hateful mentions (i.e. not unique tweets): 1300\n"
          ]
        }
      ]
    },
    {
      "cell_type": "code",
      "metadata": {
        "colab": {
          "base_uri": "https://localhost:8080/"
        },
        "id": "XIQSrpdrvpbb",
        "outputId": "f5459527-1b25-4cba-bc55-65b4402b07f3"
      },
      "source": [
        "print(player_offensive_tweet_map[['username', 'offensive_tweets_received_p']].sort_values('offensive_tweets_received_p', ascending=False).head(10))"
      ],
      "execution_count": 27,
      "outputs": [
        {
          "output_type": "stream",
          "name": "stdout",
          "text": [
            "          username offensive_tweets_received_p\n",
            "7            HKane                         895\n",
            "9   MarcusRashford                          99\n",
            "23  BellinghamJude                          61\n",
            "4   HarryMaguire93                          60\n",
            "22    BukayoSaka87                          58\n",
            "3      _DeclanRice                          29\n",
            "6       JHenderson                          15\n",
            "17       PhilFoden                          14\n",
            "1      kylewalker2                          13\n",
            "5     JackGrealish                          12\n"
          ]
        }
      ]
    },
    {
      "cell_type": "code",
      "metadata": {
        "id": "VeSV6w22Nrnh",
        "outputId": "d5d33186-73a1-42e6-c795-d16299ea70a1",
        "colab": {
          "base_uri": "https://localhost:8080/"
        }
      },
      "source": [
        "# Percentage of hateful mentions that were directed at Saka, Sancho, Rashford\n",
        "three_lions_perc = player_offensive_tweet_map[['offensive_tweets_received_p']].sort_values('offensive_tweets_received_p', ascending=False).head(3).sum() / hateful_mentions\n",
        "print(f\"{100 * three_lions_perc}%\")\n"
      ],
      "execution_count": 28,
      "outputs": [
        {
          "output_type": "stream",
          "name": "stdout",
          "text": [
            "offensive_tweets_received_p    81.153846\n",
            "dtype: object%\n"
          ]
        }
      ]
    },
    {
      "cell_type": "code",
      "metadata": {
        "id": "jnshi_Dz1ljS",
        "colab": {
          "base_uri": "https://localhost:8080/"
        },
        "outputId": "cef7c9d9-954a-48b8-ba07-d97d24313894"
      },
      "source": [
        "print('Five-minute intervals with most offensive tweets:')\n",
        "print(joined_df.resample(pd.offsets.Minute(5), on='created_at')['persp_over_threshold'].sum().sort_values(ascending=False).head(5))\n",
        "print('\\n')\n",
        "print('1 hour intervals with most offensive tweets:')\n",
        "print(joined_df.resample(pd.offsets.Hour(1), on='created_at')['persp_over_threshold'].sum().sort_values(ascending=False).head(5))\n",
        "print('\\n')\n",
        "print('24 hour intervals with most offensive tweets:')\n",
        "print(joined_df.resample(pd.offsets.Day(1), on='created_at')['persp_over_threshold'].sum().sort_values(ascending=False).head(5))\n",
        "print('\\n')\n",
        "\n",
        "flagged = joined_df['persp_over_threshold'].sum()\n",
        "print(f\"{flagged} offensive tweets, {100 * (flagged / len(joined_df))}% of all tweets aimed at players\")"
      ],
      "execution_count": 31,
      "outputs": [
        {
          "output_type": "stream",
          "name": "stdout",
          "text": [
            "Five-minute intervals with most offensive tweets:\n",
            "created_at\n",
            "2022-12-10 21:00:00+00:00    82\n",
            "2022-12-10 21:05:00+00:00    57\n",
            "2022-12-10 20:45:00+00:00    41\n",
            "2022-12-10 21:15:00+00:00    35\n",
            "2022-12-10 21:10:00+00:00    29\n",
            "Name: persp_over_threshold, dtype: int64\n",
            "\n",
            "\n",
            "1 hour intervals with most offensive tweets:\n",
            "created_at\n",
            "2022-12-10 21:00:00+00:00    292\n",
            "2022-12-10 20:00:00+00:00    100\n",
            "2022-12-11 10:00:00+00:00     82\n",
            "2022-12-11 11:00:00+00:00     77\n",
            "2022-12-10 22:00:00+00:00     52\n",
            "Name: persp_over_threshold, dtype: int64\n",
            "\n",
            "\n",
            "24 hour intervals with most offensive tweets:\n",
            "created_at\n",
            "2022-12-11 00:00:00+00:00    561\n",
            "2022-12-10 00:00:00+00:00    523\n",
            "2022-12-12 00:00:00+00:00     90\n",
            "2022-12-13 00:00:00+00:00     22\n",
            "2022-12-14 00:00:00+00:00      9\n",
            "Name: persp_over_threshold, dtype: int64\n",
            "\n",
            "\n",
            "1216 offensive tweets, 1.3368513632365875% of all tweets aimed at players\n"
          ]
        }
      ]
    },
    {
      "cell_type": "markdown",
      "metadata": {
        "id": "ngzVB2h4x6J9"
      },
      "source": [
        "# Visulisations - tweet frequency"
      ]
    },
    {
      "cell_type": "code",
      "metadata": {
        "id": "FXQXZudbx567"
      },
      "source": [
        "# Setup vars for high-profile tweet times\n",
        "kane_tweet_time = pd.to_datetime(\"2022-12-11T09:41:00.000Z\")\n",
        "\n",
        "full_time = pd.to_datetime(\"2022-12-10T20:55:00.000Z\")\n",
        "\n",
        "kick_off = pd.to_datetime(\"2022-12-10T19:00:00.000Z\")"
      ],
      "execution_count": 32,
      "outputs": []
    },
    {
      "cell_type": "code",
      "metadata": {
        "id": "1YKlOpvpzdmJ"
      },
      "source": [
        "INTERVAL = pd.offsets.Minute(5)"
      ],
      "execution_count": 33,
      "outputs": []
    },
    {
      "cell_type": "code",
      "metadata": {
        "id": "couGXun1ilvk"
      },
      "source": [
        "def create_frequency_plotly(df, y_values, y_value_names, title, nticks):\n",
        "    fig = go.Figure()\n",
        "    i = 0\n",
        "    for i in range(len(y_values)):\n",
        "        fig.add_trace(go.Scatter(x=df['created_at'], y=df[y_values[i]],\n",
        "                      mode='lines',\n",
        "                      name=y_value_names[i]))\n",
        "        \n",
        "    fig.update_layout(\n",
        "        xaxis_title=\"Time\",\n",
        "        yaxis_title=\"Number of tweets\",\n",
        "        xaxis = {\n",
        "          'tickformat': '%d %B',\n",
        "          'tickmode': 'auto',\n",
        "          'nticks': nticks,\n",
        "        },\n",
        "        xaxis_tickformat = '%d %B',\n",
        "        title= {\n",
        "          'text': title,\n",
        "          'y':0.9,\n",
        "          'x':0.5,\n",
        "          'xanchor': 'center',\n",
        "          'yanchor': 'top'\n",
        "        }\n",
        "    )\n",
        "    return fig\n",
        "\n",
        "def create_frequency_bars(df, y_values, title, nticks):\n",
        "    fig = go.Figure()\n",
        "    for y_value in y_values:\n",
        "        fig.add_trace(go.Bar(x=df['created_at'], y=df[y_value],\n",
        "                      name=y_value))\n",
        "    fig.update_layout(\n",
        "        xaxis_title=\"Date\",\n",
        "        yaxis_title=\"Number of tweets\",\n",
        "        xaxis = {\n",
        "          'tickformat': '%d %B',\n",
        "          'tickmode': 'auto',\n",
        "          'nticks': nticks,\n",
        "        },\n",
        "        xaxis_tickformat = '%d %B',\n",
        "        title= {\n",
        "          'text': title,\n",
        "          'y':0.9,\n",
        "          'x':0.5,\n",
        "          'xanchor': 'center',\n",
        "          'yanchor': 'top'\n",
        "        }\n",
        "    )\n",
        "\n",
        "    return fig"
      ],
      "execution_count": 34,
      "outputs": []
    },
    {
      "cell_type": "code",
      "metadata": {
        "colab": {
          "base_uri": "https://localhost:8080/",
          "height": 542
        },
        "id": "mpvCu7GsziHj",
        "outputId": "520ba901-6dcb-45ae-f2f0-14fc1b464f15"
      },
      "source": [
        "# Plot all tweets frequency\n",
        "df = joined_df[(joined_df['created_at'] > '2022-12-10 13:00:00+00:00') & (joined_df['created_at'] < '2022-12-13 00:00:00+00:00')].resample(pd.offsets.Minute(15), on='created_at')['tweet_id'].count().reset_index()\n",
        "fig = create_frequency_bars(df, ['tweet_id'], \"\", 4)\n",
        "\n",
        "y_max = max(df.iloc[(df['created_at']-full_time).abs().argsort()[:10]]['tweet_id'].tolist())\n",
        "fig.add_annotation(x=kick_off, y=300,\n",
        "    text=\"Kick-off\",\n",
        "    showarrow=True,\n",
        "    arrowhead=1)\n",
        "fig.add_annotation(x=full_time, y=y_max + (y_max / 100),\n",
        "    text=\"End of game\",\n",
        "    showarrow=True,\n",
        "    arrowhead=1)\n",
        "fig.add_annotation(x=kane_tweet_time, y=max(df.iloc[(df['created_at']-kane_tweet_time).abs().argsort()[:10]]['tweet_id'].tolist()) + (y_max / 100),\n",
        "    text=\"Kane tweet\",\n",
        "    showarrow=True,\n",
        "    arrowhead=1)\n",
        "fig.write_html(\"/content/drive/MyDrive/University/Dissertation/images/qf_freq.html\", include_plotlyjs='cdn')\n",
        "fig.show()"
      ],
      "execution_count": 41,
      "outputs": [
        {
          "output_type": "display_data",
          "data": {
            "text/html": [
              "<html>\n",
              "<head><meta charset=\"utf-8\" /></head>\n",
              "<body>\n",
              "    <div>            <script src=\"https://cdnjs.cloudflare.com/ajax/libs/mathjax/2.7.5/MathJax.js?config=TeX-AMS-MML_SVG\"></script><script type=\"text/javascript\">if (window.MathJax) {MathJax.Hub.Config({SVG: {font: \"STIX-Web\"}});}</script>                <script type=\"text/javascript\">window.PlotlyConfig = {MathJaxConfig: 'local'};</script>\n",
              "        <script src=\"https://cdn.plot.ly/plotly-2.8.3.min.js\"></script>                <div id=\"128e5925-9f5c-41d7-9eb5-d3d855d736a6\" class=\"plotly-graph-div\" style=\"height:525px; width:100%;\"></div>            <script type=\"text/javascript\">                                    window.PLOTLYENV=window.PLOTLYENV || {};                                    if (document.getElementById(\"128e5925-9f5c-41d7-9eb5-d3d855d736a6\")) {                    Plotly.newPlot(                        \"128e5925-9f5c-41d7-9eb5-d3d855d736a6\",                        [{\"name\":\"tweet_id\",\"x\":[\"2022-12-10T13:00:00+00:00\",\"2022-12-10T13:15:00+00:00\",\"2022-12-10T13:30:00+00:00\",\"2022-12-10T13:45:00+00:00\",\"2022-12-10T14:00:00+00:00\",\"2022-12-10T14:15:00+00:00\",\"2022-12-10T14:30:00+00:00\",\"2022-12-10T14:45:00+00:00\",\"2022-12-10T15:00:00+00:00\",\"2022-12-10T15:15:00+00:00\",\"2022-12-10T15:30:00+00:00\",\"2022-12-10T15:45:00+00:00\",\"2022-12-10T16:00:00+00:00\",\"2022-12-10T16:15:00+00:00\",\"2022-12-10T16:30:00+00:00\",\"2022-12-10T16:45:00+00:00\",\"2022-12-10T17:00:00+00:00\",\"2022-12-10T17:15:00+00:00\",\"2022-12-10T17:30:00+00:00\",\"2022-12-10T17:45:00+00:00\",\"2022-12-10T18:00:00+00:00\",\"2022-12-10T18:15:00+00:00\",\"2022-12-10T18:30:00+00:00\",\"2022-12-10T18:45:00+00:00\",\"2022-12-10T19:00:00+00:00\",\"2022-12-10T19:15:00+00:00\",\"2022-12-10T19:30:00+00:00\",\"2022-12-10T19:45:00+00:00\",\"2022-12-10T20:00:00+00:00\",\"2022-12-10T20:15:00+00:00\",\"2022-12-10T20:30:00+00:00\",\"2022-12-10T20:45:00+00:00\",\"2022-12-10T21:00:00+00:00\",\"2022-12-10T21:15:00+00:00\",\"2022-12-10T21:30:00+00:00\",\"2022-12-10T21:45:00+00:00\",\"2022-12-10T22:00:00+00:00\",\"2022-12-10T22:15:00+00:00\",\"2022-12-10T22:30:00+00:00\",\"2022-12-10T22:45:00+00:00\",\"2022-12-10T23:00:00+00:00\",\"2022-12-10T23:15:00+00:00\",\"2022-12-10T23:30:00+00:00\",\"2022-12-10T23:45:00+00:00\",\"2022-12-11T00:00:00+00:00\",\"2022-12-11T00:15:00+00:00\",\"2022-12-11T00:30:00+00:00\",\"2022-12-11T00:45:00+00:00\",\"2022-12-11T01:00:00+00:00\",\"2022-12-11T01:15:00+00:00\",\"2022-12-11T01:30:00+00:00\",\"2022-12-11T01:45:00+00:00\",\"2022-12-11T02:00:00+00:00\",\"2022-12-11T02:15:00+00:00\",\"2022-12-11T02:30:00+00:00\",\"2022-12-11T02:45:00+00:00\",\"2022-12-11T03:00:00+00:00\",\"2022-12-11T03:15:00+00:00\",\"2022-12-11T03:30:00+00:00\",\"2022-12-11T03:45:00+00:00\",\"2022-12-11T04:00:00+00:00\",\"2022-12-11T04:15:00+00:00\",\"2022-12-11T04:30:00+00:00\",\"2022-12-11T04:45:00+00:00\",\"2022-12-11T05:00:00+00:00\",\"2022-12-11T05:15:00+00:00\",\"2022-12-11T05:30:00+00:00\",\"2022-12-11T05:45:00+00:00\",\"2022-12-11T06:00:00+00:00\",\"2022-12-11T06:15:00+00:00\",\"2022-12-11T06:30:00+00:00\",\"2022-12-11T06:45:00+00:00\",\"2022-12-11T07:00:00+00:00\",\"2022-12-11T07:15:00+00:00\",\"2022-12-11T07:30:00+00:00\",\"2022-12-11T07:45:00+00:00\",\"2022-12-11T08:00:00+00:00\",\"2022-12-11T08:15:00+00:00\",\"2022-12-11T08:30:00+00:00\",\"2022-12-11T08:45:00+00:00\",\"2022-12-11T09:00:00+00:00\",\"2022-12-11T09:15:00+00:00\",\"2022-12-11T09:30:00+00:00\",\"2022-12-11T09:45:00+00:00\",\"2022-12-11T10:00:00+00:00\",\"2022-12-11T10:15:00+00:00\",\"2022-12-11T10:30:00+00:00\",\"2022-12-11T10:45:00+00:00\",\"2022-12-11T11:00:00+00:00\",\"2022-12-11T11:15:00+00:00\",\"2022-12-11T11:30:00+00:00\",\"2022-12-11T11:45:00+00:00\",\"2022-12-11T12:00:00+00:00\",\"2022-12-11T12:15:00+00:00\",\"2022-12-11T12:30:00+00:00\",\"2022-12-11T12:45:00+00:00\",\"2022-12-11T13:00:00+00:00\",\"2022-12-11T13:15:00+00:00\",\"2022-12-11T13:30:00+00:00\",\"2022-12-11T13:45:00+00:00\",\"2022-12-11T14:00:00+00:00\",\"2022-12-11T14:15:00+00:00\",\"2022-12-11T14:30:00+00:00\",\"2022-12-11T14:45:00+00:00\",\"2022-12-11T15:00:00+00:00\",\"2022-12-11T15:15:00+00:00\",\"2022-12-11T15:30:00+00:00\",\"2022-12-11T15:45:00+00:00\",\"2022-12-11T16:00:00+00:00\",\"2022-12-11T16:15:00+00:00\",\"2022-12-11T16:30:00+00:00\",\"2022-12-11T16:45:00+00:00\",\"2022-12-11T17:00:00+00:00\",\"2022-12-11T17:15:00+00:00\",\"2022-12-11T17:30:00+00:00\",\"2022-12-11T17:45:00+00:00\",\"2022-12-11T18:00:00+00:00\",\"2022-12-11T18:15:00+00:00\",\"2022-12-11T18:30:00+00:00\",\"2022-12-11T18:45:00+00:00\",\"2022-12-11T19:00:00+00:00\",\"2022-12-11T19:15:00+00:00\",\"2022-12-11T19:30:00+00:00\",\"2022-12-11T19:45:00+00:00\",\"2022-12-11T20:00:00+00:00\",\"2022-12-11T20:15:00+00:00\",\"2022-12-11T20:30:00+00:00\",\"2022-12-11T20:45:00+00:00\",\"2022-12-11T21:00:00+00:00\",\"2022-12-11T21:15:00+00:00\",\"2022-12-11T21:30:00+00:00\",\"2022-12-11T21:45:00+00:00\",\"2022-12-11T22:00:00+00:00\",\"2022-12-11T22:15:00+00:00\",\"2022-12-11T22:30:00+00:00\",\"2022-12-11T22:45:00+00:00\",\"2022-12-11T23:00:00+00:00\",\"2022-12-11T23:15:00+00:00\",\"2022-12-11T23:30:00+00:00\",\"2022-12-11T23:45:00+00:00\",\"2022-12-12T00:00:00+00:00\",\"2022-12-12T00:15:00+00:00\",\"2022-12-12T00:30:00+00:00\",\"2022-12-12T00:45:00+00:00\",\"2022-12-12T01:00:00+00:00\",\"2022-12-12T01:15:00+00:00\",\"2022-12-12T01:30:00+00:00\",\"2022-12-12T01:45:00+00:00\",\"2022-12-12T02:00:00+00:00\",\"2022-12-12T02:15:00+00:00\",\"2022-12-12T02:30:00+00:00\",\"2022-12-12T02:45:00+00:00\",\"2022-12-12T03:00:00+00:00\",\"2022-12-12T03:15:00+00:00\",\"2022-12-12T03:30:00+00:00\",\"2022-12-12T03:45:00+00:00\",\"2022-12-12T04:00:00+00:00\",\"2022-12-12T04:15:00+00:00\",\"2022-12-12T04:30:00+00:00\",\"2022-12-12T04:45:00+00:00\",\"2022-12-12T05:00:00+00:00\",\"2022-12-12T05:15:00+00:00\",\"2022-12-12T05:30:00+00:00\",\"2022-12-12T05:45:00+00:00\",\"2022-12-12T06:00:00+00:00\",\"2022-12-12T06:15:00+00:00\",\"2022-12-12T06:30:00+00:00\",\"2022-12-12T06:45:00+00:00\",\"2022-12-12T07:00:00+00:00\",\"2022-12-12T07:15:00+00:00\",\"2022-12-12T07:30:00+00:00\",\"2022-12-12T07:45:00+00:00\",\"2022-12-12T08:00:00+00:00\",\"2022-12-12T08:15:00+00:00\",\"2022-12-12T08:30:00+00:00\",\"2022-12-12T08:45:00+00:00\",\"2022-12-12T09:00:00+00:00\",\"2022-12-12T09:15:00+00:00\",\"2022-12-12T09:30:00+00:00\",\"2022-12-12T09:45:00+00:00\",\"2022-12-12T10:00:00+00:00\",\"2022-12-12T10:15:00+00:00\",\"2022-12-12T10:30:00+00:00\",\"2022-12-12T10:45:00+00:00\",\"2022-12-12T11:00:00+00:00\",\"2022-12-12T11:15:00+00:00\",\"2022-12-12T11:30:00+00:00\",\"2022-12-12T11:45:00+00:00\",\"2022-12-12T12:00:00+00:00\",\"2022-12-12T12:15:00+00:00\",\"2022-12-12T12:30:00+00:00\",\"2022-12-12T12:45:00+00:00\",\"2022-12-12T13:00:00+00:00\",\"2022-12-12T13:15:00+00:00\",\"2022-12-12T13:30:00+00:00\",\"2022-12-12T13:45:00+00:00\",\"2022-12-12T14:00:00+00:00\",\"2022-12-12T14:15:00+00:00\",\"2022-12-12T14:30:00+00:00\",\"2022-12-12T14:45:00+00:00\",\"2022-12-12T15:00:00+00:00\",\"2022-12-12T15:15:00+00:00\",\"2022-12-12T15:30:00+00:00\",\"2022-12-12T15:45:00+00:00\",\"2022-12-12T16:00:00+00:00\",\"2022-12-12T16:15:00+00:00\",\"2022-12-12T16:30:00+00:00\",\"2022-12-12T16:45:00+00:00\",\"2022-12-12T17:00:00+00:00\",\"2022-12-12T17:15:00+00:00\",\"2022-12-12T17:30:00+00:00\",\"2022-12-12T17:45:00+00:00\",\"2022-12-12T18:00:00+00:00\",\"2022-12-12T18:15:00+00:00\",\"2022-12-12T18:30:00+00:00\",\"2022-12-12T18:45:00+00:00\",\"2022-12-12T19:00:00+00:00\",\"2022-12-12T19:15:00+00:00\",\"2022-12-12T19:30:00+00:00\",\"2022-12-12T19:45:00+00:00\",\"2022-12-12T20:00:00+00:00\",\"2022-12-12T20:15:00+00:00\",\"2022-12-12T20:30:00+00:00\",\"2022-12-12T20:45:00+00:00\",\"2022-12-12T21:00:00+00:00\",\"2022-12-12T21:15:00+00:00\",\"2022-12-12T21:30:00+00:00\",\"2022-12-12T21:45:00+00:00\",\"2022-12-12T22:00:00+00:00\",\"2022-12-12T22:15:00+00:00\",\"2022-12-12T22:30:00+00:00\",\"2022-12-12T22:45:00+00:00\",\"2022-12-12T23:00:00+00:00\",\"2022-12-12T23:15:00+00:00\",\"2022-12-12T23:30:00+00:00\",\"2022-12-12T23:45:00+00:00\"],\"y\":[41,30,36,25,29,43,24,39,26,21,18,21,19,16,15,15,74,51,105,146,158,114,245,261,166,189,299,288,373,1081,600,1799,5161,3345,2108,1213,993,728,763,585,502,588,697,530,464,379,316,268,241,212,211,175,164,153,129,123,94,111,113,91,94,72,90,131,92,94,96,80,94,109,142,100,286,259,248,207,210,246,260,249,204,330,947,1963,2019,1982,1879,1667,1538,2105,1637,1439,1271,1269,1224,948,877,880,812,721,674,672,604,602,612,554,519,476,552,464,440,606,593,475,483,504,499,462,442,456,395,361,378,381,332,347,311,654,686,758,706,618,512,459,453,397,362,325,280,210,185,207,138,146,122,111,91,105,99,74,82,78,62,86,77,80,72,76,63,71,88,105,110,82,126,117,119,132,117,138,139,147,157,159,177,193,182,188,179,132,122,140,132,165,155,132,133,124,109,127,89,98,101,93,92,101,72,85,74,75,80,58,70,73,54,82,109,105,77,73,70,80,67,76,73,80,87,71,58,55,40,43,62,53,35,48,48,39,37,30,40,24,39,25,18,12],\"type\":\"bar\"}],                        {\"template\":{\"data\":{\"bar\":[{\"error_x\":{\"color\":\"#2a3f5f\"},\"error_y\":{\"color\":\"#2a3f5f\"},\"marker\":{\"line\":{\"color\":\"#E5ECF6\",\"width\":0.5},\"pattern\":{\"fillmode\":\"overlay\",\"size\":10,\"solidity\":0.2}},\"type\":\"bar\"}],\"barpolar\":[{\"marker\":{\"line\":{\"color\":\"#E5ECF6\",\"width\":0.5},\"pattern\":{\"fillmode\":\"overlay\",\"size\":10,\"solidity\":0.2}},\"type\":\"barpolar\"}],\"carpet\":[{\"aaxis\":{\"endlinecolor\":\"#2a3f5f\",\"gridcolor\":\"white\",\"linecolor\":\"white\",\"minorgridcolor\":\"white\",\"startlinecolor\":\"#2a3f5f\"},\"baxis\":{\"endlinecolor\":\"#2a3f5f\",\"gridcolor\":\"white\",\"linecolor\":\"white\",\"minorgridcolor\":\"white\",\"startlinecolor\":\"#2a3f5f\"},\"type\":\"carpet\"}],\"choropleth\":[{\"colorbar\":{\"outlinewidth\":0,\"ticks\":\"\"},\"type\":\"choropleth\"}],\"contour\":[{\"colorbar\":{\"outlinewidth\":0,\"ticks\":\"\"},\"colorscale\":[[0.0,\"#0d0887\"],[0.1111111111111111,\"#46039f\"],[0.2222222222222222,\"#7201a8\"],[0.3333333333333333,\"#9c179e\"],[0.4444444444444444,\"#bd3786\"],[0.5555555555555556,\"#d8576b\"],[0.6666666666666666,\"#ed7953\"],[0.7777777777777778,\"#fb9f3a\"],[0.8888888888888888,\"#fdca26\"],[1.0,\"#f0f921\"]],\"type\":\"contour\"}],\"contourcarpet\":[{\"colorbar\":{\"outlinewidth\":0,\"ticks\":\"\"},\"type\":\"contourcarpet\"}],\"heatmap\":[{\"colorbar\":{\"outlinewidth\":0,\"ticks\":\"\"},\"colorscale\":[[0.0,\"#0d0887\"],[0.1111111111111111,\"#46039f\"],[0.2222222222222222,\"#7201a8\"],[0.3333333333333333,\"#9c179e\"],[0.4444444444444444,\"#bd3786\"],[0.5555555555555556,\"#d8576b\"],[0.6666666666666666,\"#ed7953\"],[0.7777777777777778,\"#fb9f3a\"],[0.8888888888888888,\"#fdca26\"],[1.0,\"#f0f921\"]],\"type\":\"heatmap\"}],\"heatmapgl\":[{\"colorbar\":{\"outlinewidth\":0,\"ticks\":\"\"},\"colorscale\":[[0.0,\"#0d0887\"],[0.1111111111111111,\"#46039f\"],[0.2222222222222222,\"#7201a8\"],[0.3333333333333333,\"#9c179e\"],[0.4444444444444444,\"#bd3786\"],[0.5555555555555556,\"#d8576b\"],[0.6666666666666666,\"#ed7953\"],[0.7777777777777778,\"#fb9f3a\"],[0.8888888888888888,\"#fdca26\"],[1.0,\"#f0f921\"]],\"type\":\"heatmapgl\"}],\"histogram\":[{\"marker\":{\"pattern\":{\"fillmode\":\"overlay\",\"size\":10,\"solidity\":0.2}},\"type\":\"histogram\"}],\"histogram2d\":[{\"colorbar\":{\"outlinewidth\":0,\"ticks\":\"\"},\"colorscale\":[[0.0,\"#0d0887\"],[0.1111111111111111,\"#46039f\"],[0.2222222222222222,\"#7201a8\"],[0.3333333333333333,\"#9c179e\"],[0.4444444444444444,\"#bd3786\"],[0.5555555555555556,\"#d8576b\"],[0.6666666666666666,\"#ed7953\"],[0.7777777777777778,\"#fb9f3a\"],[0.8888888888888888,\"#fdca26\"],[1.0,\"#f0f921\"]],\"type\":\"histogram2d\"}],\"histogram2dcontour\":[{\"colorbar\":{\"outlinewidth\":0,\"ticks\":\"\"},\"colorscale\":[[0.0,\"#0d0887\"],[0.1111111111111111,\"#46039f\"],[0.2222222222222222,\"#7201a8\"],[0.3333333333333333,\"#9c179e\"],[0.4444444444444444,\"#bd3786\"],[0.5555555555555556,\"#d8576b\"],[0.6666666666666666,\"#ed7953\"],[0.7777777777777778,\"#fb9f3a\"],[0.8888888888888888,\"#fdca26\"],[1.0,\"#f0f921\"]],\"type\":\"histogram2dcontour\"}],\"mesh3d\":[{\"colorbar\":{\"outlinewidth\":0,\"ticks\":\"\"},\"type\":\"mesh3d\"}],\"parcoords\":[{\"line\":{\"colorbar\":{\"outlinewidth\":0,\"ticks\":\"\"}},\"type\":\"parcoords\"}],\"pie\":[{\"automargin\":true,\"type\":\"pie\"}],\"scatter\":[{\"marker\":{\"colorbar\":{\"outlinewidth\":0,\"ticks\":\"\"}},\"type\":\"scatter\"}],\"scatter3d\":[{\"line\":{\"colorbar\":{\"outlinewidth\":0,\"ticks\":\"\"}},\"marker\":{\"colorbar\":{\"outlinewidth\":0,\"ticks\":\"\"}},\"type\":\"scatter3d\"}],\"scattercarpet\":[{\"marker\":{\"colorbar\":{\"outlinewidth\":0,\"ticks\":\"\"}},\"type\":\"scattercarpet\"}],\"scattergeo\":[{\"marker\":{\"colorbar\":{\"outlinewidth\":0,\"ticks\":\"\"}},\"type\":\"scattergeo\"}],\"scattergl\":[{\"marker\":{\"colorbar\":{\"outlinewidth\":0,\"ticks\":\"\"}},\"type\":\"scattergl\"}],\"scattermapbox\":[{\"marker\":{\"colorbar\":{\"outlinewidth\":0,\"ticks\":\"\"}},\"type\":\"scattermapbox\"}],\"scatterpolar\":[{\"marker\":{\"colorbar\":{\"outlinewidth\":0,\"ticks\":\"\"}},\"type\":\"scatterpolar\"}],\"scatterpolargl\":[{\"marker\":{\"colorbar\":{\"outlinewidth\":0,\"ticks\":\"\"}},\"type\":\"scatterpolargl\"}],\"scatterternary\":[{\"marker\":{\"colorbar\":{\"outlinewidth\":0,\"ticks\":\"\"}},\"type\":\"scatterternary\"}],\"surface\":[{\"colorbar\":{\"outlinewidth\":0,\"ticks\":\"\"},\"colorscale\":[[0.0,\"#0d0887\"],[0.1111111111111111,\"#46039f\"],[0.2222222222222222,\"#7201a8\"],[0.3333333333333333,\"#9c179e\"],[0.4444444444444444,\"#bd3786\"],[0.5555555555555556,\"#d8576b\"],[0.6666666666666666,\"#ed7953\"],[0.7777777777777778,\"#fb9f3a\"],[0.8888888888888888,\"#fdca26\"],[1.0,\"#f0f921\"]],\"type\":\"surface\"}],\"table\":[{\"cells\":{\"fill\":{\"color\":\"#EBF0F8\"},\"line\":{\"color\":\"white\"}},\"header\":{\"fill\":{\"color\":\"#C8D4E3\"},\"line\":{\"color\":\"white\"}},\"type\":\"table\"}]},\"layout\":{\"annotationdefaults\":{\"arrowcolor\":\"#2a3f5f\",\"arrowhead\":0,\"arrowwidth\":1},\"autotypenumbers\":\"strict\",\"coloraxis\":{\"colorbar\":{\"outlinewidth\":0,\"ticks\":\"\"}},\"colorscale\":{\"diverging\":[[0,\"#8e0152\"],[0.1,\"#c51b7d\"],[0.2,\"#de77ae\"],[0.3,\"#f1b6da\"],[0.4,\"#fde0ef\"],[0.5,\"#f7f7f7\"],[0.6,\"#e6f5d0\"],[0.7,\"#b8e186\"],[0.8,\"#7fbc41\"],[0.9,\"#4d9221\"],[1,\"#276419\"]],\"sequential\":[[0.0,\"#0d0887\"],[0.1111111111111111,\"#46039f\"],[0.2222222222222222,\"#7201a8\"],[0.3333333333333333,\"#9c179e\"],[0.4444444444444444,\"#bd3786\"],[0.5555555555555556,\"#d8576b\"],[0.6666666666666666,\"#ed7953\"],[0.7777777777777778,\"#fb9f3a\"],[0.8888888888888888,\"#fdca26\"],[1.0,\"#f0f921\"]],\"sequentialminus\":[[0.0,\"#0d0887\"],[0.1111111111111111,\"#46039f\"],[0.2222222222222222,\"#7201a8\"],[0.3333333333333333,\"#9c179e\"],[0.4444444444444444,\"#bd3786\"],[0.5555555555555556,\"#d8576b\"],[0.6666666666666666,\"#ed7953\"],[0.7777777777777778,\"#fb9f3a\"],[0.8888888888888888,\"#fdca26\"],[1.0,\"#f0f921\"]]},\"colorway\":[\"#636efa\",\"#EF553B\",\"#00cc96\",\"#ab63fa\",\"#FFA15A\",\"#19d3f3\",\"#FF6692\",\"#B6E880\",\"#FF97FF\",\"#FECB52\"],\"font\":{\"color\":\"#2a3f5f\"},\"geo\":{\"bgcolor\":\"white\",\"lakecolor\":\"white\",\"landcolor\":\"#E5ECF6\",\"showlakes\":true,\"showland\":true,\"subunitcolor\":\"white\"},\"hoverlabel\":{\"align\":\"left\"},\"hovermode\":\"closest\",\"mapbox\":{\"style\":\"light\"},\"paper_bgcolor\":\"white\",\"plot_bgcolor\":\"#E5ECF6\",\"polar\":{\"angularaxis\":{\"gridcolor\":\"white\",\"linecolor\":\"white\",\"ticks\":\"\"},\"bgcolor\":\"#E5ECF6\",\"radialaxis\":{\"gridcolor\":\"white\",\"linecolor\":\"white\",\"ticks\":\"\"}},\"scene\":{\"xaxis\":{\"backgroundcolor\":\"#E5ECF6\",\"gridcolor\":\"white\",\"gridwidth\":2,\"linecolor\":\"white\",\"showbackground\":true,\"ticks\":\"\",\"zerolinecolor\":\"white\"},\"yaxis\":{\"backgroundcolor\":\"#E5ECF6\",\"gridcolor\":\"white\",\"gridwidth\":2,\"linecolor\":\"white\",\"showbackground\":true,\"ticks\":\"\",\"zerolinecolor\":\"white\"},\"zaxis\":{\"backgroundcolor\":\"#E5ECF6\",\"gridcolor\":\"white\",\"gridwidth\":2,\"linecolor\":\"white\",\"showbackground\":true,\"ticks\":\"\",\"zerolinecolor\":\"white\"}},\"shapedefaults\":{\"line\":{\"color\":\"#2a3f5f\"}},\"ternary\":{\"aaxis\":{\"gridcolor\":\"white\",\"linecolor\":\"white\",\"ticks\":\"\"},\"baxis\":{\"gridcolor\":\"white\",\"linecolor\":\"white\",\"ticks\":\"\"},\"bgcolor\":\"#E5ECF6\",\"caxis\":{\"gridcolor\":\"white\",\"linecolor\":\"white\",\"ticks\":\"\"}},\"title\":{\"x\":0.05},\"xaxis\":{\"automargin\":true,\"gridcolor\":\"white\",\"linecolor\":\"white\",\"ticks\":\"\",\"title\":{\"standoff\":15},\"zerolinecolor\":\"white\",\"zerolinewidth\":2},\"yaxis\":{\"automargin\":true,\"gridcolor\":\"white\",\"linecolor\":\"white\",\"ticks\":\"\",\"title\":{\"standoff\":15},\"zerolinecolor\":\"white\",\"zerolinewidth\":2}}},\"xaxis\":{\"title\":{\"text\":\"Date\"},\"tickformat\":\"%d %B\",\"tickmode\":\"auto\",\"nticks\":4},\"title\":{\"text\":\"\",\"y\":0.9,\"x\":0.5,\"xanchor\":\"center\",\"yanchor\":\"top\"},\"yaxis\":{\"title\":{\"text\":\"Number of tweets\"}},\"annotations\":[{\"arrowhead\":1,\"showarrow\":true,\"text\":\"Kick-off\",\"x\":\"2022-12-10T19:00:00+00:00\",\"y\":300},{\"arrowhead\":1,\"showarrow\":true,\"text\":\"End of game\",\"x\":\"2022-12-10T20:55:00+00:00\",\"y\":5212.61},{\"arrowhead\":1,\"showarrow\":true,\"text\":\"Kane tweet\",\"x\":\"2022-12-11T09:41:00+00:00\",\"y\":2070.61}]},                        {\"responsive\": true}                    ).then(function(){\n",
              "                            \n",
              "var gd = document.getElementById('128e5925-9f5c-41d7-9eb5-d3d855d736a6');\n",
              "var x = new MutationObserver(function (mutations, observer) {{\n",
              "        var display = window.getComputedStyle(gd).display;\n",
              "        if (!display || display === 'none') {{\n",
              "            console.log([gd, 'removed!']);\n",
              "            Plotly.purge(gd);\n",
              "            observer.disconnect();\n",
              "        }}\n",
              "}});\n",
              "\n",
              "// Listen for the removal of the full notebook cells\n",
              "var notebookContainer = gd.closest('#notebook-container');\n",
              "if (notebookContainer) {{\n",
              "    x.observe(notebookContainer, {childList: true});\n",
              "}}\n",
              "\n",
              "// Listen for the clearing of the current output cell\n",
              "var outputEl = gd.closest('.output');\n",
              "if (outputEl) {{\n",
              "    x.observe(outputEl, {childList: true});\n",
              "}}\n",
              "\n",
              "                        })                };                            </script>        </div>\n",
              "</body>\n",
              "</html>"
            ]
          },
          "metadata": {}
        }
      ]
    },
    {
      "cell_type": "code",
      "metadata": {
        "colab": {
          "base_uri": "https://localhost:8080/",
          "height": 542
        },
        "id": "8558guPQ0QF-",
        "outputId": "6090cfe0-b2ce-42a8-c727-c628647eefc8"
      },
      "source": [
        "# Plot Kane tweet frequency\n",
        "df = joined_df[(joined_df['created_at'] > '2022-12-10 13:00:00+00:00') & (joined_df['created_at'] < '2022-12-13 00:00:00+00:00')].resample(INTERVAL, on='created_at')['HKane'].sum().reset_index()\n",
        "y_values = ['HKane']\n",
        "fig = create_frequency_plotly(df, y_values, y_values, \"\", 6)\n",
        "\n",
        "y_max = max(df.iloc[(df['created_at']-full_time).abs().argsort()[:10]]['HKane'].tolist())\n",
        "fig.add_annotation(x=kick_off, y=max(df.iloc[(df['created_at']-kick_off).abs().argsort()[:10]]['HKane'].tolist()) + (y_max / 100),\n",
        "    text=\"Kick-off\",\n",
        "    showarrow=True,\n",
        "    arrowhead=1)\n",
        "fig.add_annotation(x=full_time, y=y_max + (y_max / 100),\n",
        "    text=\"End of game\",\n",
        "    showarrow=True,\n",
        "    arrowhead=1)\n",
        "fig.add_annotation(x=kane_tweet_time, y=max(df.iloc[(df['created_at']-kane_tweet_time).abs().argsort()[:10]]['HKane'].tolist()) + (y_max / 100),\n",
        "    text=\"Kane tweet\",\n",
        "    showarrow=True,\n",
        "    arrowhead=1)\n",
        "\n",
        "fig.show()"
      ],
      "execution_count": 42,
      "outputs": [
        {
          "output_type": "display_data",
          "data": {
            "text/html": [
              "<html>\n",
              "<head><meta charset=\"utf-8\" /></head>\n",
              "<body>\n",
              "    <div>            <script src=\"https://cdnjs.cloudflare.com/ajax/libs/mathjax/2.7.5/MathJax.js?config=TeX-AMS-MML_SVG\"></script><script type=\"text/javascript\">if (window.MathJax) {MathJax.Hub.Config({SVG: {font: \"STIX-Web\"}});}</script>                <script type=\"text/javascript\">window.PlotlyConfig = {MathJaxConfig: 'local'};</script>\n",
              "        <script src=\"https://cdn.plot.ly/plotly-2.8.3.min.js\"></script>                <div id=\"5e94ab51-00c2-484e-8c91-e55a59f70923\" class=\"plotly-graph-div\" style=\"height:525px; width:100%;\"></div>            <script type=\"text/javascript\">                                    window.PLOTLYENV=window.PLOTLYENV || {};                                    if (document.getElementById(\"5e94ab51-00c2-484e-8c91-e55a59f70923\")) {                    Plotly.newPlot(                        \"5e94ab51-00c2-484e-8c91-e55a59f70923\",                        [{\"mode\":\"lines\",\"name\":\"HKane\",\"x\":[\"2022-12-10T13:00:00+00:00\",\"2022-12-10T13:05:00+00:00\",\"2022-12-10T13:10:00+00:00\",\"2022-12-10T13:15:00+00:00\",\"2022-12-10T13:20:00+00:00\",\"2022-12-10T13:25:00+00:00\",\"2022-12-10T13:30:00+00:00\",\"2022-12-10T13:35:00+00:00\",\"2022-12-10T13:40:00+00:00\",\"2022-12-10T13:45:00+00:00\",\"2022-12-10T13:50:00+00:00\",\"2022-12-10T13:55:00+00:00\",\"2022-12-10T14:00:00+00:00\",\"2022-12-10T14:05:00+00:00\",\"2022-12-10T14:10:00+00:00\",\"2022-12-10T14:15:00+00:00\",\"2022-12-10T14:20:00+00:00\",\"2022-12-10T14:25:00+00:00\",\"2022-12-10T14:30:00+00:00\",\"2022-12-10T14:35:00+00:00\",\"2022-12-10T14:40:00+00:00\",\"2022-12-10T14:45:00+00:00\",\"2022-12-10T14:50:00+00:00\",\"2022-12-10T14:55:00+00:00\",\"2022-12-10T15:00:00+00:00\",\"2022-12-10T15:05:00+00:00\",\"2022-12-10T15:10:00+00:00\",\"2022-12-10T15:15:00+00:00\",\"2022-12-10T15:20:00+00:00\",\"2022-12-10T15:25:00+00:00\",\"2022-12-10T15:30:00+00:00\",\"2022-12-10T15:35:00+00:00\",\"2022-12-10T15:40:00+00:00\",\"2022-12-10T15:45:00+00:00\",\"2022-12-10T15:50:00+00:00\",\"2022-12-10T15:55:00+00:00\",\"2022-12-10T16:00:00+00:00\",\"2022-12-10T16:05:00+00:00\",\"2022-12-10T16:10:00+00:00\",\"2022-12-10T16:15:00+00:00\",\"2022-12-10T16:20:00+00:00\",\"2022-12-10T16:25:00+00:00\",\"2022-12-10T16:30:00+00:00\",\"2022-12-10T16:35:00+00:00\",\"2022-12-10T16:40:00+00:00\",\"2022-12-10T16:45:00+00:00\",\"2022-12-10T16:50:00+00:00\",\"2022-12-10T16:55:00+00:00\",\"2022-12-10T17:00:00+00:00\",\"2022-12-10T17:05:00+00:00\",\"2022-12-10T17:10:00+00:00\",\"2022-12-10T17:15:00+00:00\",\"2022-12-10T17:20:00+00:00\",\"2022-12-10T17:25:00+00:00\",\"2022-12-10T17:30:00+00:00\",\"2022-12-10T17:35:00+00:00\",\"2022-12-10T17:40:00+00:00\",\"2022-12-10T17:45:00+00:00\",\"2022-12-10T17:50:00+00:00\",\"2022-12-10T17:55:00+00:00\",\"2022-12-10T18:00:00+00:00\",\"2022-12-10T18:05:00+00:00\",\"2022-12-10T18:10:00+00:00\",\"2022-12-10T18:15:00+00:00\",\"2022-12-10T18:20:00+00:00\",\"2022-12-10T18:25:00+00:00\",\"2022-12-10T18:30:00+00:00\",\"2022-12-10T18:35:00+00:00\",\"2022-12-10T18:40:00+00:00\",\"2022-12-10T18:45:00+00:00\",\"2022-12-10T18:50:00+00:00\",\"2022-12-10T18:55:00+00:00\",\"2022-12-10T19:00:00+00:00\",\"2022-12-10T19:05:00+00:00\",\"2022-12-10T19:10:00+00:00\",\"2022-12-10T19:15:00+00:00\",\"2022-12-10T19:20:00+00:00\",\"2022-12-10T19:25:00+00:00\",\"2022-12-10T19:30:00+00:00\",\"2022-12-10T19:35:00+00:00\",\"2022-12-10T19:40:00+00:00\",\"2022-12-10T19:45:00+00:00\",\"2022-12-10T19:50:00+00:00\",\"2022-12-10T19:55:00+00:00\",\"2022-12-10T20:00:00+00:00\",\"2022-12-10T20:05:00+00:00\",\"2022-12-10T20:10:00+00:00\",\"2022-12-10T20:15:00+00:00\",\"2022-12-10T20:20:00+00:00\",\"2022-12-10T20:25:00+00:00\",\"2022-12-10T20:30:00+00:00\",\"2022-12-10T20:35:00+00:00\",\"2022-12-10T20:40:00+00:00\",\"2022-12-10T20:45:00+00:00\",\"2022-12-10T20:50:00+00:00\",\"2022-12-10T20:55:00+00:00\",\"2022-12-10T21:00:00+00:00\",\"2022-12-10T21:05:00+00:00\",\"2022-12-10T21:10:00+00:00\",\"2022-12-10T21:15:00+00:00\",\"2022-12-10T21:20:00+00:00\",\"2022-12-10T21:25:00+00:00\",\"2022-12-10T21:30:00+00:00\",\"2022-12-10T21:35:00+00:00\",\"2022-12-10T21:40:00+00:00\",\"2022-12-10T21:45:00+00:00\",\"2022-12-10T21:50:00+00:00\",\"2022-12-10T21:55:00+00:00\",\"2022-12-10T22:00:00+00:00\",\"2022-12-10T22:05:00+00:00\",\"2022-12-10T22:10:00+00:00\",\"2022-12-10T22:15:00+00:00\",\"2022-12-10T22:20:00+00:00\",\"2022-12-10T22:25:00+00:00\",\"2022-12-10T22:30:00+00:00\",\"2022-12-10T22:35:00+00:00\",\"2022-12-10T22:40:00+00:00\",\"2022-12-10T22:45:00+00:00\",\"2022-12-10T22:50:00+00:00\",\"2022-12-10T22:55:00+00:00\",\"2022-12-10T23:00:00+00:00\",\"2022-12-10T23:05:00+00:00\",\"2022-12-10T23:10:00+00:00\",\"2022-12-10T23:15:00+00:00\",\"2022-12-10T23:20:00+00:00\",\"2022-12-10T23:25:00+00:00\",\"2022-12-10T23:30:00+00:00\",\"2022-12-10T23:35:00+00:00\",\"2022-12-10T23:40:00+00:00\",\"2022-12-10T23:45:00+00:00\",\"2022-12-10T23:50:00+00:00\",\"2022-12-10T23:55:00+00:00\",\"2022-12-11T00:00:00+00:00\",\"2022-12-11T00:05:00+00:00\",\"2022-12-11T00:10:00+00:00\",\"2022-12-11T00:15:00+00:00\",\"2022-12-11T00:20:00+00:00\",\"2022-12-11T00:25:00+00:00\",\"2022-12-11T00:30:00+00:00\",\"2022-12-11T00:35:00+00:00\",\"2022-12-11T00:40:00+00:00\",\"2022-12-11T00:45:00+00:00\",\"2022-12-11T00:50:00+00:00\",\"2022-12-11T00:55:00+00:00\",\"2022-12-11T01:00:00+00:00\",\"2022-12-11T01:05:00+00:00\",\"2022-12-11T01:10:00+00:00\",\"2022-12-11T01:15:00+00:00\",\"2022-12-11T01:20:00+00:00\",\"2022-12-11T01:25:00+00:00\",\"2022-12-11T01:30:00+00:00\",\"2022-12-11T01:35:00+00:00\",\"2022-12-11T01:40:00+00:00\",\"2022-12-11T01:45:00+00:00\",\"2022-12-11T01:50:00+00:00\",\"2022-12-11T01:55:00+00:00\",\"2022-12-11T02:00:00+00:00\",\"2022-12-11T02:05:00+00:00\",\"2022-12-11T02:10:00+00:00\",\"2022-12-11T02:15:00+00:00\",\"2022-12-11T02:20:00+00:00\",\"2022-12-11T02:25:00+00:00\",\"2022-12-11T02:30:00+00:00\",\"2022-12-11T02:35:00+00:00\",\"2022-12-11T02:40:00+00:00\",\"2022-12-11T02:45:00+00:00\",\"2022-12-11T02:50:00+00:00\",\"2022-12-11T02:55:00+00:00\",\"2022-12-11T03:00:00+00:00\",\"2022-12-11T03:05:00+00:00\",\"2022-12-11T03:10:00+00:00\",\"2022-12-11T03:15:00+00:00\",\"2022-12-11T03:20:00+00:00\",\"2022-12-11T03:25:00+00:00\",\"2022-12-11T03:30:00+00:00\",\"2022-12-11T03:35:00+00:00\",\"2022-12-11T03:40:00+00:00\",\"2022-12-11T03:45:00+00:00\",\"2022-12-11T03:50:00+00:00\",\"2022-12-11T03:55:00+00:00\",\"2022-12-11T04:00:00+00:00\",\"2022-12-11T04:05:00+00:00\",\"2022-12-11T04:10:00+00:00\",\"2022-12-11T04:15:00+00:00\",\"2022-12-11T04:20:00+00:00\",\"2022-12-11T04:25:00+00:00\",\"2022-12-11T04:30:00+00:00\",\"2022-12-11T04:35:00+00:00\",\"2022-12-11T04:40:00+00:00\",\"2022-12-11T04:45:00+00:00\",\"2022-12-11T04:50:00+00:00\",\"2022-12-11T04:55:00+00:00\",\"2022-12-11T05:00:00+00:00\",\"2022-12-11T05:05:00+00:00\",\"2022-12-11T05:10:00+00:00\",\"2022-12-11T05:15:00+00:00\",\"2022-12-11T05:20:00+00:00\",\"2022-12-11T05:25:00+00:00\",\"2022-12-11T05:30:00+00:00\",\"2022-12-11T05:35:00+00:00\",\"2022-12-11T05:40:00+00:00\",\"2022-12-11T05:45:00+00:00\",\"2022-12-11T05:50:00+00:00\",\"2022-12-11T05:55:00+00:00\",\"2022-12-11T06:00:00+00:00\",\"2022-12-11T06:05:00+00:00\",\"2022-12-11T06:10:00+00:00\",\"2022-12-11T06:15:00+00:00\",\"2022-12-11T06:20:00+00:00\",\"2022-12-11T06:25:00+00:00\",\"2022-12-11T06:30:00+00:00\",\"2022-12-11T06:35:00+00:00\",\"2022-12-11T06:40:00+00:00\",\"2022-12-11T06:45:00+00:00\",\"2022-12-11T06:50:00+00:00\",\"2022-12-11T06:55:00+00:00\",\"2022-12-11T07:00:00+00:00\",\"2022-12-11T07:05:00+00:00\",\"2022-12-11T07:10:00+00:00\",\"2022-12-11T07:15:00+00:00\",\"2022-12-11T07:20:00+00:00\",\"2022-12-11T07:25:00+00:00\",\"2022-12-11T07:30:00+00:00\",\"2022-12-11T07:35:00+00:00\",\"2022-12-11T07:40:00+00:00\",\"2022-12-11T07:45:00+00:00\",\"2022-12-11T07:50:00+00:00\",\"2022-12-11T07:55:00+00:00\",\"2022-12-11T08:00:00+00:00\",\"2022-12-11T08:05:00+00:00\",\"2022-12-11T08:10:00+00:00\",\"2022-12-11T08:15:00+00:00\",\"2022-12-11T08:20:00+00:00\",\"2022-12-11T08:25:00+00:00\",\"2022-12-11T08:30:00+00:00\",\"2022-12-11T08:35:00+00:00\",\"2022-12-11T08:40:00+00:00\",\"2022-12-11T08:45:00+00:00\",\"2022-12-11T08:50:00+00:00\",\"2022-12-11T08:55:00+00:00\",\"2022-12-11T09:00:00+00:00\",\"2022-12-11T09:05:00+00:00\",\"2022-12-11T09:10:00+00:00\",\"2022-12-11T09:15:00+00:00\",\"2022-12-11T09:20:00+00:00\",\"2022-12-11T09:25:00+00:00\",\"2022-12-11T09:30:00+00:00\",\"2022-12-11T09:35:00+00:00\",\"2022-12-11T09:40:00+00:00\",\"2022-12-11T09:45:00+00:00\",\"2022-12-11T09:50:00+00:00\",\"2022-12-11T09:55:00+00:00\",\"2022-12-11T10:00:00+00:00\",\"2022-12-11T10:05:00+00:00\",\"2022-12-11T10:10:00+00:00\",\"2022-12-11T10:15:00+00:00\",\"2022-12-11T10:20:00+00:00\",\"2022-12-11T10:25:00+00:00\",\"2022-12-11T10:30:00+00:00\",\"2022-12-11T10:35:00+00:00\",\"2022-12-11T10:40:00+00:00\",\"2022-12-11T10:45:00+00:00\",\"2022-12-11T10:50:00+00:00\",\"2022-12-11T10:55:00+00:00\",\"2022-12-11T11:00:00+00:00\",\"2022-12-11T11:05:00+00:00\",\"2022-12-11T11:10:00+00:00\",\"2022-12-11T11:15:00+00:00\",\"2022-12-11T11:20:00+00:00\",\"2022-12-11T11:25:00+00:00\",\"2022-12-11T11:30:00+00:00\",\"2022-12-11T11:35:00+00:00\",\"2022-12-11T11:40:00+00:00\",\"2022-12-11T11:45:00+00:00\",\"2022-12-11T11:50:00+00:00\",\"2022-12-11T11:55:00+00:00\",\"2022-12-11T12:00:00+00:00\",\"2022-12-11T12:05:00+00:00\",\"2022-12-11T12:10:00+00:00\",\"2022-12-11T12:15:00+00:00\",\"2022-12-11T12:20:00+00:00\",\"2022-12-11T12:25:00+00:00\",\"2022-12-11T12:30:00+00:00\",\"2022-12-11T12:35:00+00:00\",\"2022-12-11T12:40:00+00:00\",\"2022-12-11T12:45:00+00:00\",\"2022-12-11T12:50:00+00:00\",\"2022-12-11T12:55:00+00:00\",\"2022-12-11T13:00:00+00:00\",\"2022-12-11T13:05:00+00:00\",\"2022-12-11T13:10:00+00:00\",\"2022-12-11T13:15:00+00:00\",\"2022-12-11T13:20:00+00:00\",\"2022-12-11T13:25:00+00:00\",\"2022-12-11T13:30:00+00:00\",\"2022-12-11T13:35:00+00:00\",\"2022-12-11T13:40:00+00:00\",\"2022-12-11T13:45:00+00:00\",\"2022-12-11T13:50:00+00:00\",\"2022-12-11T13:55:00+00:00\",\"2022-12-11T14:00:00+00:00\",\"2022-12-11T14:05:00+00:00\",\"2022-12-11T14:10:00+00:00\",\"2022-12-11T14:15:00+00:00\",\"2022-12-11T14:20:00+00:00\",\"2022-12-11T14:25:00+00:00\",\"2022-12-11T14:30:00+00:00\",\"2022-12-11T14:35:00+00:00\",\"2022-12-11T14:40:00+00:00\",\"2022-12-11T14:45:00+00:00\",\"2022-12-11T14:50:00+00:00\",\"2022-12-11T14:55:00+00:00\",\"2022-12-11T15:00:00+00:00\",\"2022-12-11T15:05:00+00:00\",\"2022-12-11T15:10:00+00:00\",\"2022-12-11T15:15:00+00:00\",\"2022-12-11T15:20:00+00:00\",\"2022-12-11T15:25:00+00:00\",\"2022-12-11T15:30:00+00:00\",\"2022-12-11T15:35:00+00:00\",\"2022-12-11T15:40:00+00:00\",\"2022-12-11T15:45:00+00:00\",\"2022-12-11T15:50:00+00:00\",\"2022-12-11T15:55:00+00:00\",\"2022-12-11T16:00:00+00:00\",\"2022-12-11T16:05:00+00:00\",\"2022-12-11T16:10:00+00:00\",\"2022-12-11T16:15:00+00:00\",\"2022-12-11T16:20:00+00:00\",\"2022-12-11T16:25:00+00:00\",\"2022-12-11T16:30:00+00:00\",\"2022-12-11T16:35:00+00:00\",\"2022-12-11T16:40:00+00:00\",\"2022-12-11T16:45:00+00:00\",\"2022-12-11T16:50:00+00:00\",\"2022-12-11T16:55:00+00:00\",\"2022-12-11T17:00:00+00:00\",\"2022-12-11T17:05:00+00:00\",\"2022-12-11T17:10:00+00:00\",\"2022-12-11T17:15:00+00:00\",\"2022-12-11T17:20:00+00:00\",\"2022-12-11T17:25:00+00:00\",\"2022-12-11T17:30:00+00:00\",\"2022-12-11T17:35:00+00:00\",\"2022-12-11T17:40:00+00:00\",\"2022-12-11T17:45:00+00:00\",\"2022-12-11T17:50:00+00:00\",\"2022-12-11T17:55:00+00:00\",\"2022-12-11T18:00:00+00:00\",\"2022-12-11T18:05:00+00:00\",\"2022-12-11T18:10:00+00:00\",\"2022-12-11T18:15:00+00:00\",\"2022-12-11T18:20:00+00:00\",\"2022-12-11T18:25:00+00:00\",\"2022-12-11T18:30:00+00:00\",\"2022-12-11T18:35:00+00:00\",\"2022-12-11T18:40:00+00:00\",\"2022-12-11T18:45:00+00:00\",\"2022-12-11T18:50:00+00:00\",\"2022-12-11T18:55:00+00:00\",\"2022-12-11T19:00:00+00:00\",\"2022-12-11T19:05:00+00:00\",\"2022-12-11T19:10:00+00:00\",\"2022-12-11T19:15:00+00:00\",\"2022-12-11T19:20:00+00:00\",\"2022-12-11T19:25:00+00:00\",\"2022-12-11T19:30:00+00:00\",\"2022-12-11T19:35:00+00:00\",\"2022-12-11T19:40:00+00:00\",\"2022-12-11T19:45:00+00:00\",\"2022-12-11T19:50:00+00:00\",\"2022-12-11T19:55:00+00:00\",\"2022-12-11T20:00:00+00:00\",\"2022-12-11T20:05:00+00:00\",\"2022-12-11T20:10:00+00:00\",\"2022-12-11T20:15:00+00:00\",\"2022-12-11T20:20:00+00:00\",\"2022-12-11T20:25:00+00:00\",\"2022-12-11T20:30:00+00:00\",\"2022-12-11T20:35:00+00:00\",\"2022-12-11T20:40:00+00:00\",\"2022-12-11T20:45:00+00:00\",\"2022-12-11T20:50:00+00:00\",\"2022-12-11T20:55:00+00:00\",\"2022-12-11T21:00:00+00:00\",\"2022-12-11T21:05:00+00:00\",\"2022-12-11T21:10:00+00:00\",\"2022-12-11T21:15:00+00:00\",\"2022-12-11T21:20:00+00:00\",\"2022-12-11T21:25:00+00:00\",\"2022-12-11T21:30:00+00:00\",\"2022-12-11T21:35:00+00:00\",\"2022-12-11T21:40:00+00:00\",\"2022-12-11T21:45:00+00:00\",\"2022-12-11T21:50:00+00:00\",\"2022-12-11T21:55:00+00:00\",\"2022-12-11T22:00:00+00:00\",\"2022-12-11T22:05:00+00:00\",\"2022-12-11T22:10:00+00:00\",\"2022-12-11T22:15:00+00:00\",\"2022-12-11T22:20:00+00:00\",\"2022-12-11T22:25:00+00:00\",\"2022-12-11T22:30:00+00:00\",\"2022-12-11T22:35:00+00:00\",\"2022-12-11T22:40:00+00:00\",\"2022-12-11T22:45:00+00:00\",\"2022-12-11T22:50:00+00:00\",\"2022-12-11T22:55:00+00:00\",\"2022-12-11T23:00:00+00:00\",\"2022-12-11T23:05:00+00:00\",\"2022-12-11T23:10:00+00:00\",\"2022-12-11T23:15:00+00:00\",\"2022-12-11T23:20:00+00:00\",\"2022-12-11T23:25:00+00:00\",\"2022-12-11T23:30:00+00:00\",\"2022-12-11T23:35:00+00:00\",\"2022-12-11T23:40:00+00:00\",\"2022-12-11T23:45:00+00:00\",\"2022-12-11T23:50:00+00:00\",\"2022-12-11T23:55:00+00:00\",\"2022-12-12T00:00:00+00:00\",\"2022-12-12T00:05:00+00:00\",\"2022-12-12T00:10:00+00:00\",\"2022-12-12T00:15:00+00:00\",\"2022-12-12T00:20:00+00:00\",\"2022-12-12T00:25:00+00:00\",\"2022-12-12T00:30:00+00:00\",\"2022-12-12T00:35:00+00:00\",\"2022-12-12T00:40:00+00:00\",\"2022-12-12T00:45:00+00:00\",\"2022-12-12T00:50:00+00:00\",\"2022-12-12T00:55:00+00:00\",\"2022-12-12T01:00:00+00:00\",\"2022-12-12T01:05:00+00:00\",\"2022-12-12T01:10:00+00:00\",\"2022-12-12T01:15:00+00:00\",\"2022-12-12T01:20:00+00:00\",\"2022-12-12T01:25:00+00:00\",\"2022-12-12T01:30:00+00:00\",\"2022-12-12T01:35:00+00:00\",\"2022-12-12T01:40:00+00:00\",\"2022-12-12T01:45:00+00:00\",\"2022-12-12T01:50:00+00:00\",\"2022-12-12T01:55:00+00:00\",\"2022-12-12T02:00:00+00:00\",\"2022-12-12T02:05:00+00:00\",\"2022-12-12T02:10:00+00:00\",\"2022-12-12T02:15:00+00:00\",\"2022-12-12T02:20:00+00:00\",\"2022-12-12T02:25:00+00:00\",\"2022-12-12T02:30:00+00:00\",\"2022-12-12T02:35:00+00:00\",\"2022-12-12T02:40:00+00:00\",\"2022-12-12T02:45:00+00:00\",\"2022-12-12T02:50:00+00:00\",\"2022-12-12T02:55:00+00:00\",\"2022-12-12T03:00:00+00:00\",\"2022-12-12T03:05:00+00:00\",\"2022-12-12T03:10:00+00:00\",\"2022-12-12T03:15:00+00:00\",\"2022-12-12T03:20:00+00:00\",\"2022-12-12T03:25:00+00:00\",\"2022-12-12T03:30:00+00:00\",\"2022-12-12T03:35:00+00:00\",\"2022-12-12T03:40:00+00:00\",\"2022-12-12T03:45:00+00:00\",\"2022-12-12T03:50:00+00:00\",\"2022-12-12T03:55:00+00:00\",\"2022-12-12T04:00:00+00:00\",\"2022-12-12T04:05:00+00:00\",\"2022-12-12T04:10:00+00:00\",\"2022-12-12T04:15:00+00:00\",\"2022-12-12T04:20:00+00:00\",\"2022-12-12T04:25:00+00:00\",\"2022-12-12T04:30:00+00:00\",\"2022-12-12T04:35:00+00:00\",\"2022-12-12T04:40:00+00:00\",\"2022-12-12T04:45:00+00:00\",\"2022-12-12T04:50:00+00:00\",\"2022-12-12T04:55:00+00:00\",\"2022-12-12T05:00:00+00:00\",\"2022-12-12T05:05:00+00:00\",\"2022-12-12T05:10:00+00:00\",\"2022-12-12T05:15:00+00:00\",\"2022-12-12T05:20:00+00:00\",\"2022-12-12T05:25:00+00:00\",\"2022-12-12T05:30:00+00:00\",\"2022-12-12T05:35:00+00:00\",\"2022-12-12T05:40:00+00:00\",\"2022-12-12T05:45:00+00:00\",\"2022-12-12T05:50:00+00:00\",\"2022-12-12T05:55:00+00:00\",\"2022-12-12T06:00:00+00:00\",\"2022-12-12T06:05:00+00:00\",\"2022-12-12T06:10:00+00:00\",\"2022-12-12T06:15:00+00:00\",\"2022-12-12T06:20:00+00:00\",\"2022-12-12T06:25:00+00:00\",\"2022-12-12T06:30:00+00:00\",\"2022-12-12T06:35:00+00:00\",\"2022-12-12T06:40:00+00:00\",\"2022-12-12T06:45:00+00:00\",\"2022-12-12T06:50:00+00:00\",\"2022-12-12T06:55:00+00:00\",\"2022-12-12T07:00:00+00:00\",\"2022-12-12T07:05:00+00:00\",\"2022-12-12T07:10:00+00:00\",\"2022-12-12T07:15:00+00:00\",\"2022-12-12T07:20:00+00:00\",\"2022-12-12T07:25:00+00:00\",\"2022-12-12T07:30:00+00:00\",\"2022-12-12T07:35:00+00:00\",\"2022-12-12T07:40:00+00:00\",\"2022-12-12T07:45:00+00:00\",\"2022-12-12T07:50:00+00:00\",\"2022-12-12T07:55:00+00:00\",\"2022-12-12T08:00:00+00:00\",\"2022-12-12T08:05:00+00:00\",\"2022-12-12T08:10:00+00:00\",\"2022-12-12T08:15:00+00:00\",\"2022-12-12T08:20:00+00:00\",\"2022-12-12T08:25:00+00:00\",\"2022-12-12T08:30:00+00:00\",\"2022-12-12T08:35:00+00:00\",\"2022-12-12T08:40:00+00:00\",\"2022-12-12T08:45:00+00:00\",\"2022-12-12T08:50:00+00:00\",\"2022-12-12T08:55:00+00:00\",\"2022-12-12T09:00:00+00:00\",\"2022-12-12T09:05:00+00:00\",\"2022-12-12T09:10:00+00:00\",\"2022-12-12T09:15:00+00:00\",\"2022-12-12T09:20:00+00:00\",\"2022-12-12T09:25:00+00:00\",\"2022-12-12T09:30:00+00:00\",\"2022-12-12T09:35:00+00:00\",\"2022-12-12T09:40:00+00:00\",\"2022-12-12T09:45:00+00:00\",\"2022-12-12T09:50:00+00:00\",\"2022-12-12T09:55:00+00:00\",\"2022-12-12T10:00:00+00:00\",\"2022-12-12T10:05:00+00:00\",\"2022-12-12T10:10:00+00:00\",\"2022-12-12T10:15:00+00:00\",\"2022-12-12T10:20:00+00:00\",\"2022-12-12T10:25:00+00:00\",\"2022-12-12T10:30:00+00:00\",\"2022-12-12T10:35:00+00:00\",\"2022-12-12T10:40:00+00:00\",\"2022-12-12T10:45:00+00:00\",\"2022-12-12T10:50:00+00:00\",\"2022-12-12T10:55:00+00:00\",\"2022-12-12T11:00:00+00:00\",\"2022-12-12T11:05:00+00:00\",\"2022-12-12T11:10:00+00:00\",\"2022-12-12T11:15:00+00:00\",\"2022-12-12T11:20:00+00:00\",\"2022-12-12T11:25:00+00:00\",\"2022-12-12T11:30:00+00:00\",\"2022-12-12T11:35:00+00:00\",\"2022-12-12T11:40:00+00:00\",\"2022-12-12T11:45:00+00:00\",\"2022-12-12T11:50:00+00:00\",\"2022-12-12T11:55:00+00:00\",\"2022-12-12T12:00:00+00:00\",\"2022-12-12T12:05:00+00:00\",\"2022-12-12T12:10:00+00:00\",\"2022-12-12T12:15:00+00:00\",\"2022-12-12T12:20:00+00:00\",\"2022-12-12T12:25:00+00:00\",\"2022-12-12T12:30:00+00:00\",\"2022-12-12T12:35:00+00:00\",\"2022-12-12T12:40:00+00:00\",\"2022-12-12T12:45:00+00:00\",\"2022-12-12T12:50:00+00:00\",\"2022-12-12T12:55:00+00:00\",\"2022-12-12T13:00:00+00:00\",\"2022-12-12T13:05:00+00:00\",\"2022-12-12T13:10:00+00:00\",\"2022-12-12T13:15:00+00:00\",\"2022-12-12T13:20:00+00:00\",\"2022-12-12T13:25:00+00:00\",\"2022-12-12T13:30:00+00:00\",\"2022-12-12T13:35:00+00:00\",\"2022-12-12T13:40:00+00:00\",\"2022-12-12T13:45:00+00:00\",\"2022-12-12T13:50:00+00:00\",\"2022-12-12T13:55:00+00:00\",\"2022-12-12T14:00:00+00:00\",\"2022-12-12T14:05:00+00:00\",\"2022-12-12T14:10:00+00:00\",\"2022-12-12T14:15:00+00:00\",\"2022-12-12T14:20:00+00:00\",\"2022-12-12T14:25:00+00:00\",\"2022-12-12T14:30:00+00:00\",\"2022-12-12T14:35:00+00:00\",\"2022-12-12T14:40:00+00:00\",\"2022-12-12T14:45:00+00:00\",\"2022-12-12T14:50:00+00:00\",\"2022-12-12T14:55:00+00:00\",\"2022-12-12T15:00:00+00:00\",\"2022-12-12T15:05:00+00:00\",\"2022-12-12T15:10:00+00:00\",\"2022-12-12T15:15:00+00:00\",\"2022-12-12T15:20:00+00:00\",\"2022-12-12T15:25:00+00:00\",\"2022-12-12T15:30:00+00:00\",\"2022-12-12T15:35:00+00:00\",\"2022-12-12T15:40:00+00:00\",\"2022-12-12T15:45:00+00:00\",\"2022-12-12T15:50:00+00:00\",\"2022-12-12T15:55:00+00:00\",\"2022-12-12T16:00:00+00:00\",\"2022-12-12T16:05:00+00:00\",\"2022-12-12T16:10:00+00:00\",\"2022-12-12T16:15:00+00:00\",\"2022-12-12T16:20:00+00:00\",\"2022-12-12T16:25:00+00:00\",\"2022-12-12T16:30:00+00:00\",\"2022-12-12T16:35:00+00:00\",\"2022-12-12T16:40:00+00:00\",\"2022-12-12T16:45:00+00:00\",\"2022-12-12T16:50:00+00:00\",\"2022-12-12T16:55:00+00:00\",\"2022-12-12T17:00:00+00:00\",\"2022-12-12T17:05:00+00:00\",\"2022-12-12T17:10:00+00:00\",\"2022-12-12T17:15:00+00:00\",\"2022-12-12T17:20:00+00:00\",\"2022-12-12T17:25:00+00:00\",\"2022-12-12T17:30:00+00:00\",\"2022-12-12T17:35:00+00:00\",\"2022-12-12T17:40:00+00:00\",\"2022-12-12T17:45:00+00:00\",\"2022-12-12T17:50:00+00:00\",\"2022-12-12T17:55:00+00:00\",\"2022-12-12T18:00:00+00:00\",\"2022-12-12T18:05:00+00:00\",\"2022-12-12T18:10:00+00:00\",\"2022-12-12T18:15:00+00:00\",\"2022-12-12T18:20:00+00:00\",\"2022-12-12T18:25:00+00:00\",\"2022-12-12T18:30:00+00:00\",\"2022-12-12T18:35:00+00:00\",\"2022-12-12T18:40:00+00:00\",\"2022-12-12T18:45:00+00:00\",\"2022-12-12T18:50:00+00:00\",\"2022-12-12T18:55:00+00:00\",\"2022-12-12T19:00:00+00:00\",\"2022-12-12T19:05:00+00:00\",\"2022-12-12T19:10:00+00:00\",\"2022-12-12T19:15:00+00:00\",\"2022-12-12T19:20:00+00:00\",\"2022-12-12T19:25:00+00:00\",\"2022-12-12T19:30:00+00:00\",\"2022-12-12T19:35:00+00:00\",\"2022-12-12T19:40:00+00:00\",\"2022-12-12T19:45:00+00:00\",\"2022-12-12T19:50:00+00:00\",\"2022-12-12T19:55:00+00:00\",\"2022-12-12T20:00:00+00:00\",\"2022-12-12T20:05:00+00:00\",\"2022-12-12T20:10:00+00:00\",\"2022-12-12T20:15:00+00:00\",\"2022-12-12T20:20:00+00:00\",\"2022-12-12T20:25:00+00:00\",\"2022-12-12T20:30:00+00:00\",\"2022-12-12T20:35:00+00:00\",\"2022-12-12T20:40:00+00:00\",\"2022-12-12T20:45:00+00:00\",\"2022-12-12T20:50:00+00:00\",\"2022-12-12T20:55:00+00:00\",\"2022-12-12T21:00:00+00:00\",\"2022-12-12T21:05:00+00:00\",\"2022-12-12T21:10:00+00:00\",\"2022-12-12T21:15:00+00:00\",\"2022-12-12T21:20:00+00:00\",\"2022-12-12T21:25:00+00:00\",\"2022-12-12T21:30:00+00:00\",\"2022-12-12T21:35:00+00:00\",\"2022-12-12T21:40:00+00:00\",\"2022-12-12T21:45:00+00:00\",\"2022-12-12T21:50:00+00:00\",\"2022-12-12T21:55:00+00:00\",\"2022-12-12T22:00:00+00:00\",\"2022-12-12T22:05:00+00:00\",\"2022-12-12T22:10:00+00:00\",\"2022-12-12T22:15:00+00:00\",\"2022-12-12T22:20:00+00:00\",\"2022-12-12T22:25:00+00:00\",\"2022-12-12T22:30:00+00:00\",\"2022-12-12T22:35:00+00:00\",\"2022-12-12T22:40:00+00:00\",\"2022-12-12T22:45:00+00:00\",\"2022-12-12T22:50:00+00:00\",\"2022-12-12T22:55:00+00:00\",\"2022-12-12T23:00:00+00:00\",\"2022-12-12T23:05:00+00:00\",\"2022-12-12T23:10:00+00:00\",\"2022-12-12T23:15:00+00:00\",\"2022-12-12T23:20:00+00:00\",\"2022-12-12T23:25:00+00:00\",\"2022-12-12T23:30:00+00:00\",\"2022-12-12T23:35:00+00:00\",\"2022-12-12T23:40:00+00:00\",\"2022-12-12T23:45:00+00:00\",\"2022-12-12T23:50:00+00:00\",\"2022-12-12T23:55:00+00:00\"],\"y\":[1,2,2,2,3,0,2,1,3,0,2,2,1,1,7,5,5,5,4,3,1,7,4,6,3,0,2,2,3,2,1,1,1,3,0,2,3,1,1,4,3,1,5,1,1,1,0,1,1,5,8,3,3,2,2,3,44,22,12,12,8,4,5,6,7,10,20,12,7,8,17,12,11,19,24,25,20,27,17,98,57,29,51,46,21,10,142,498,166,85,44,32,164,778,208,200,1022,1351,1087,918,796,633,613,489,398,336,278,248,246,224,214,176,184,169,193,169,159,133,131,122,109,122,130,110,98,279,190,188,189,170,148,121,142,108,102,99,104,114,73,81,92,77,72,65,58,74,59,61,48,46,50,47,50,45,48,51,46,43,42,47,33,41,23,43,27,31,29,27,24,21,21,28,22,25,29,30,26,22,21,12,16,28,25,16,11,20,19,20,27,35,40,24,22,20,21,31,18,23,20,18,22,15,22,16,26,16,24,18,35,23,35,27,31,20,25,24,38,31,39,34,31,46,33,34,34,32,33,39,39,40,33,57,50,49,63,47,57,53,59,61,39,50,31,37,40,38,49,39,276,422,510,466,489,497,447,466,456,418,445,429,401,399,407,345,319,363,351,358,360,332,322,321,290,282,306,260,266,245,236,277,234,266,272,285,260,178,204,204,178,192,173,169,186,186,184,160,160,166,157,133,146,127,129,139,141,146,134,137,141,130,132,106,123,137,114,112,118,107,94,108,113,99,98,118,99,110,121,91,87,86,102,86,84,100,104,126,100,94,107,104,82,76,86,79,79,84,86,91,84,89,105,92,83,81,85,84,76,76,81,59,76,68,65,58,67,60,81,70,77,69,65,52,63,46,65,57,56,61,60,49,52,40,47,47,49,41,38,44,47,55,60,48,47,44,32,42,36,51,35,39,48,52,27,35,50,35,28,29,33,37,35,30,27,28,18,24,23,25,20,21,20,20,18,28,26,19,24,15,15,25,16,12,23,18,7,16,18,23,16,12,12,13,14,13,25,15,13,16,12,10,14,10,13,10,6,9,11,9,10,10,13,13,14,14,10,11,11,9,13,9,9,11,13,4,6,16,12,12,11,7,21,12,11,10,8,14,12,9,17,11,12,15,10,15,14,21,13,18,16,7,17,21,12,10,13,16,19,20,21,19,17,15,24,18,15,18,26,19,23,25,34,16,18,25,20,35,16,31,23,24,23,26,22,31,28,17,26,13,12,12,12,11,10,9,11,11,5,17,15,9,8,11,12,15,22,14,21,17,11,17,10,11,12,10,15,12,8,13,12,15,11,9,5,9,14,11,11,9,9,9,10,8,8,11,8,10,10,6,5,5,6,11,9,6,8,5,7,5,5,9,15,5,2,7,11,2,8,5,7,5,15,9,8,1,6,6,9,5,8,7,16,10,5,18,7,5,7,9,9,11,8,8,11,14,8,7,11,6,9,9,8,5,9,4,5,5,13,3,4,6,7,6,5,8,8,3,4,4,4,4,5,2,4,4,8,5,6,6,8,4,6,6,3,6,5,5,7,3,7,8,2,6,4,7,7,3,4,1,3,1,6,4,9,3,2,1,5,7,7,3,3,2,1,1,3,4,1,3],\"type\":\"scatter\"}],                        {\"template\":{\"data\":{\"bar\":[{\"error_x\":{\"color\":\"#2a3f5f\"},\"error_y\":{\"color\":\"#2a3f5f\"},\"marker\":{\"line\":{\"color\":\"#E5ECF6\",\"width\":0.5},\"pattern\":{\"fillmode\":\"overlay\",\"size\":10,\"solidity\":0.2}},\"type\":\"bar\"}],\"barpolar\":[{\"marker\":{\"line\":{\"color\":\"#E5ECF6\",\"width\":0.5},\"pattern\":{\"fillmode\":\"overlay\",\"size\":10,\"solidity\":0.2}},\"type\":\"barpolar\"}],\"carpet\":[{\"aaxis\":{\"endlinecolor\":\"#2a3f5f\",\"gridcolor\":\"white\",\"linecolor\":\"white\",\"minorgridcolor\":\"white\",\"startlinecolor\":\"#2a3f5f\"},\"baxis\":{\"endlinecolor\":\"#2a3f5f\",\"gridcolor\":\"white\",\"linecolor\":\"white\",\"minorgridcolor\":\"white\",\"startlinecolor\":\"#2a3f5f\"},\"type\":\"carpet\"}],\"choropleth\":[{\"colorbar\":{\"outlinewidth\":0,\"ticks\":\"\"},\"type\":\"choropleth\"}],\"contour\":[{\"colorbar\":{\"outlinewidth\":0,\"ticks\":\"\"},\"colorscale\":[[0.0,\"#0d0887\"],[0.1111111111111111,\"#46039f\"],[0.2222222222222222,\"#7201a8\"],[0.3333333333333333,\"#9c179e\"],[0.4444444444444444,\"#bd3786\"],[0.5555555555555556,\"#d8576b\"],[0.6666666666666666,\"#ed7953\"],[0.7777777777777778,\"#fb9f3a\"],[0.8888888888888888,\"#fdca26\"],[1.0,\"#f0f921\"]],\"type\":\"contour\"}],\"contourcarpet\":[{\"colorbar\":{\"outlinewidth\":0,\"ticks\":\"\"},\"type\":\"contourcarpet\"}],\"heatmap\":[{\"colorbar\":{\"outlinewidth\":0,\"ticks\":\"\"},\"colorscale\":[[0.0,\"#0d0887\"],[0.1111111111111111,\"#46039f\"],[0.2222222222222222,\"#7201a8\"],[0.3333333333333333,\"#9c179e\"],[0.4444444444444444,\"#bd3786\"],[0.5555555555555556,\"#d8576b\"],[0.6666666666666666,\"#ed7953\"],[0.7777777777777778,\"#fb9f3a\"],[0.8888888888888888,\"#fdca26\"],[1.0,\"#f0f921\"]],\"type\":\"heatmap\"}],\"heatmapgl\":[{\"colorbar\":{\"outlinewidth\":0,\"ticks\":\"\"},\"colorscale\":[[0.0,\"#0d0887\"],[0.1111111111111111,\"#46039f\"],[0.2222222222222222,\"#7201a8\"],[0.3333333333333333,\"#9c179e\"],[0.4444444444444444,\"#bd3786\"],[0.5555555555555556,\"#d8576b\"],[0.6666666666666666,\"#ed7953\"],[0.7777777777777778,\"#fb9f3a\"],[0.8888888888888888,\"#fdca26\"],[1.0,\"#f0f921\"]],\"type\":\"heatmapgl\"}],\"histogram\":[{\"marker\":{\"pattern\":{\"fillmode\":\"overlay\",\"size\":10,\"solidity\":0.2}},\"type\":\"histogram\"}],\"histogram2d\":[{\"colorbar\":{\"outlinewidth\":0,\"ticks\":\"\"},\"colorscale\":[[0.0,\"#0d0887\"],[0.1111111111111111,\"#46039f\"],[0.2222222222222222,\"#7201a8\"],[0.3333333333333333,\"#9c179e\"],[0.4444444444444444,\"#bd3786\"],[0.5555555555555556,\"#d8576b\"],[0.6666666666666666,\"#ed7953\"],[0.7777777777777778,\"#fb9f3a\"],[0.8888888888888888,\"#fdca26\"],[1.0,\"#f0f921\"]],\"type\":\"histogram2d\"}],\"histogram2dcontour\":[{\"colorbar\":{\"outlinewidth\":0,\"ticks\":\"\"},\"colorscale\":[[0.0,\"#0d0887\"],[0.1111111111111111,\"#46039f\"],[0.2222222222222222,\"#7201a8\"],[0.3333333333333333,\"#9c179e\"],[0.4444444444444444,\"#bd3786\"],[0.5555555555555556,\"#d8576b\"],[0.6666666666666666,\"#ed7953\"],[0.7777777777777778,\"#fb9f3a\"],[0.8888888888888888,\"#fdca26\"],[1.0,\"#f0f921\"]],\"type\":\"histogram2dcontour\"}],\"mesh3d\":[{\"colorbar\":{\"outlinewidth\":0,\"ticks\":\"\"},\"type\":\"mesh3d\"}],\"parcoords\":[{\"line\":{\"colorbar\":{\"outlinewidth\":0,\"ticks\":\"\"}},\"type\":\"parcoords\"}],\"pie\":[{\"automargin\":true,\"type\":\"pie\"}],\"scatter\":[{\"marker\":{\"colorbar\":{\"outlinewidth\":0,\"ticks\":\"\"}},\"type\":\"scatter\"}],\"scatter3d\":[{\"line\":{\"colorbar\":{\"outlinewidth\":0,\"ticks\":\"\"}},\"marker\":{\"colorbar\":{\"outlinewidth\":0,\"ticks\":\"\"}},\"type\":\"scatter3d\"}],\"scattercarpet\":[{\"marker\":{\"colorbar\":{\"outlinewidth\":0,\"ticks\":\"\"}},\"type\":\"scattercarpet\"}],\"scattergeo\":[{\"marker\":{\"colorbar\":{\"outlinewidth\":0,\"ticks\":\"\"}},\"type\":\"scattergeo\"}],\"scattergl\":[{\"marker\":{\"colorbar\":{\"outlinewidth\":0,\"ticks\":\"\"}},\"type\":\"scattergl\"}],\"scattermapbox\":[{\"marker\":{\"colorbar\":{\"outlinewidth\":0,\"ticks\":\"\"}},\"type\":\"scattermapbox\"}],\"scatterpolar\":[{\"marker\":{\"colorbar\":{\"outlinewidth\":0,\"ticks\":\"\"}},\"type\":\"scatterpolar\"}],\"scatterpolargl\":[{\"marker\":{\"colorbar\":{\"outlinewidth\":0,\"ticks\":\"\"}},\"type\":\"scatterpolargl\"}],\"scatterternary\":[{\"marker\":{\"colorbar\":{\"outlinewidth\":0,\"ticks\":\"\"}},\"type\":\"scatterternary\"}],\"surface\":[{\"colorbar\":{\"outlinewidth\":0,\"ticks\":\"\"},\"colorscale\":[[0.0,\"#0d0887\"],[0.1111111111111111,\"#46039f\"],[0.2222222222222222,\"#7201a8\"],[0.3333333333333333,\"#9c179e\"],[0.4444444444444444,\"#bd3786\"],[0.5555555555555556,\"#d8576b\"],[0.6666666666666666,\"#ed7953\"],[0.7777777777777778,\"#fb9f3a\"],[0.8888888888888888,\"#fdca26\"],[1.0,\"#f0f921\"]],\"type\":\"surface\"}],\"table\":[{\"cells\":{\"fill\":{\"color\":\"#EBF0F8\"},\"line\":{\"color\":\"white\"}},\"header\":{\"fill\":{\"color\":\"#C8D4E3\"},\"line\":{\"color\":\"white\"}},\"type\":\"table\"}]},\"layout\":{\"annotationdefaults\":{\"arrowcolor\":\"#2a3f5f\",\"arrowhead\":0,\"arrowwidth\":1},\"autotypenumbers\":\"strict\",\"coloraxis\":{\"colorbar\":{\"outlinewidth\":0,\"ticks\":\"\"}},\"colorscale\":{\"diverging\":[[0,\"#8e0152\"],[0.1,\"#c51b7d\"],[0.2,\"#de77ae\"],[0.3,\"#f1b6da\"],[0.4,\"#fde0ef\"],[0.5,\"#f7f7f7\"],[0.6,\"#e6f5d0\"],[0.7,\"#b8e186\"],[0.8,\"#7fbc41\"],[0.9,\"#4d9221\"],[1,\"#276419\"]],\"sequential\":[[0.0,\"#0d0887\"],[0.1111111111111111,\"#46039f\"],[0.2222222222222222,\"#7201a8\"],[0.3333333333333333,\"#9c179e\"],[0.4444444444444444,\"#bd3786\"],[0.5555555555555556,\"#d8576b\"],[0.6666666666666666,\"#ed7953\"],[0.7777777777777778,\"#fb9f3a\"],[0.8888888888888888,\"#fdca26\"],[1.0,\"#f0f921\"]],\"sequentialminus\":[[0.0,\"#0d0887\"],[0.1111111111111111,\"#46039f\"],[0.2222222222222222,\"#7201a8\"],[0.3333333333333333,\"#9c179e\"],[0.4444444444444444,\"#bd3786\"],[0.5555555555555556,\"#d8576b\"],[0.6666666666666666,\"#ed7953\"],[0.7777777777777778,\"#fb9f3a\"],[0.8888888888888888,\"#fdca26\"],[1.0,\"#f0f921\"]]},\"colorway\":[\"#636efa\",\"#EF553B\",\"#00cc96\",\"#ab63fa\",\"#FFA15A\",\"#19d3f3\",\"#FF6692\",\"#B6E880\",\"#FF97FF\",\"#FECB52\"],\"font\":{\"color\":\"#2a3f5f\"},\"geo\":{\"bgcolor\":\"white\",\"lakecolor\":\"white\",\"landcolor\":\"#E5ECF6\",\"showlakes\":true,\"showland\":true,\"subunitcolor\":\"white\"},\"hoverlabel\":{\"align\":\"left\"},\"hovermode\":\"closest\",\"mapbox\":{\"style\":\"light\"},\"paper_bgcolor\":\"white\",\"plot_bgcolor\":\"#E5ECF6\",\"polar\":{\"angularaxis\":{\"gridcolor\":\"white\",\"linecolor\":\"white\",\"ticks\":\"\"},\"bgcolor\":\"#E5ECF6\",\"radialaxis\":{\"gridcolor\":\"white\",\"linecolor\":\"white\",\"ticks\":\"\"}},\"scene\":{\"xaxis\":{\"backgroundcolor\":\"#E5ECF6\",\"gridcolor\":\"white\",\"gridwidth\":2,\"linecolor\":\"white\",\"showbackground\":true,\"ticks\":\"\",\"zerolinecolor\":\"white\"},\"yaxis\":{\"backgroundcolor\":\"#E5ECF6\",\"gridcolor\":\"white\",\"gridwidth\":2,\"linecolor\":\"white\",\"showbackground\":true,\"ticks\":\"\",\"zerolinecolor\":\"white\"},\"zaxis\":{\"backgroundcolor\":\"#E5ECF6\",\"gridcolor\":\"white\",\"gridwidth\":2,\"linecolor\":\"white\",\"showbackground\":true,\"ticks\":\"\",\"zerolinecolor\":\"white\"}},\"shapedefaults\":{\"line\":{\"color\":\"#2a3f5f\"}},\"ternary\":{\"aaxis\":{\"gridcolor\":\"white\",\"linecolor\":\"white\",\"ticks\":\"\"},\"baxis\":{\"gridcolor\":\"white\",\"linecolor\":\"white\",\"ticks\":\"\"},\"bgcolor\":\"#E5ECF6\",\"caxis\":{\"gridcolor\":\"white\",\"linecolor\":\"white\",\"ticks\":\"\"}},\"title\":{\"x\":0.05},\"xaxis\":{\"automargin\":true,\"gridcolor\":\"white\",\"linecolor\":\"white\",\"ticks\":\"\",\"title\":{\"standoff\":15},\"zerolinecolor\":\"white\",\"zerolinewidth\":2},\"yaxis\":{\"automargin\":true,\"gridcolor\":\"white\",\"linecolor\":\"white\",\"ticks\":\"\",\"title\":{\"standoff\":15},\"zerolinecolor\":\"white\",\"zerolinewidth\":2}}},\"xaxis\":{\"title\":{\"text\":\"Time\"},\"tickformat\":\"%d %B\",\"tickmode\":\"auto\",\"nticks\":6},\"title\":{\"text\":\"\",\"y\":0.9,\"x\":0.5,\"xanchor\":\"center\",\"yanchor\":\"top\"},\"yaxis\":{\"title\":{\"text\":\"Number of tweets\"}},\"annotations\":[{\"arrowhead\":1,\"showarrow\":true,\"text\":\"Kick-off\",\"x\":\"2022-12-10T19:00:00+00:00\",\"y\":40.51},{\"arrowhead\":1,\"showarrow\":true,\"text\":\"End of game\",\"x\":\"2022-12-10T20:55:00+00:00\",\"y\":1364.51},{\"arrowhead\":1,\"showarrow\":true,\"text\":\"Kane tweet\",\"x\":\"2022-12-11T09:41:00+00:00\",\"y\":523.51}]},                        {\"responsive\": true}                    ).then(function(){\n",
              "                            \n",
              "var gd = document.getElementById('5e94ab51-00c2-484e-8c91-e55a59f70923');\n",
              "var x = new MutationObserver(function (mutations, observer) {{\n",
              "        var display = window.getComputedStyle(gd).display;\n",
              "        if (!display || display === 'none') {{\n",
              "            console.log([gd, 'removed!']);\n",
              "            Plotly.purge(gd);\n",
              "            observer.disconnect();\n",
              "        }}\n",
              "}});\n",
              "\n",
              "// Listen for the removal of the full notebook cells\n",
              "var notebookContainer = gd.closest('#notebook-container');\n",
              "if (notebookContainer) {{\n",
              "    x.observe(notebookContainer, {childList: true});\n",
              "}}\n",
              "\n",
              "// Listen for the clearing of the current output cell\n",
              "var outputEl = gd.closest('.output');\n",
              "if (outputEl) {{\n",
              "    x.observe(outputEl, {childList: true});\n",
              "}}\n",
              "\n",
              "                        })                };                            </script>        </div>\n",
              "</body>\n",
              "</html>"
            ]
          },
          "metadata": {}
        }
      ]
    },
    {
      "cell_type": "code",
      "source": [
        "# Plot Kane tweet frequency\n",
        "df = joined_df[(joined_df['created_at'] > '2022-12-10 13:00:00+00:00') & (joined_df['created_at'] < '2022-12-13 00:00:00+00:00')].resample(INTERVAL, on='created_at')['HKane_offensive_p'].sum().reset_index()\n",
        "y_values = ['HKane_offensive_p']\n",
        "fig = create_frequency_plotly(df, y_values, y_values, \"\", 6)\n",
        "\n",
        "y_max = max(df.iloc[(df['created_at']-full_time).abs().argsort()[:10]]['HKane_offensive_p'].tolist())\n",
        "fig.add_annotation(x=kick_off, y=max(df.iloc[(df['created_at']-kick_off).abs().argsort()[:10]]['HKane_offensive_p'].tolist()) + (y_max / 100),\n",
        "    text=\"Kick-off\",\n",
        "    showarrow=True,\n",
        "    arrowhead=1)\n",
        "fig.add_annotation(x=full_time, y=y_max + (y_max / 100),\n",
        "    text=\"End of game\",\n",
        "    showarrow=True,\n",
        "    arrowhead=1)\n",
        "fig.add_annotation(x=kane_tweet_time, y=max(df.iloc[(df['created_at']-kane_tweet_time).abs().argsort()[:10]]['HKane_offensive_p'].tolist()) + (y_max / 100),\n",
        "    text=\"Kane tweet\",\n",
        "    showarrow=True,\n",
        "    arrowhead=1)\n",
        "\n",
        "fig.show()"
      ],
      "metadata": {
        "id": "QRklqdsN67Em",
        "outputId": "b71ac23c-be58-445f-9f52-801f9715ce67",
        "colab": {
          "base_uri": "https://localhost:8080/",
          "height": 542
        }
      },
      "execution_count": 48,
      "outputs": [
        {
          "output_type": "display_data",
          "data": {
            "text/html": [
              "<html>\n",
              "<head><meta charset=\"utf-8\" /></head>\n",
              "<body>\n",
              "    <div>            <script src=\"https://cdnjs.cloudflare.com/ajax/libs/mathjax/2.7.5/MathJax.js?config=TeX-AMS-MML_SVG\"></script><script type=\"text/javascript\">if (window.MathJax) {MathJax.Hub.Config({SVG: {font: \"STIX-Web\"}});}</script>                <script type=\"text/javascript\">window.PlotlyConfig = {MathJaxConfig: 'local'};</script>\n",
              "        <script src=\"https://cdn.plot.ly/plotly-2.8.3.min.js\"></script>                <div id=\"7ccd8af9-f1c3-4386-915f-9e25a125c014\" class=\"plotly-graph-div\" style=\"height:525px; width:100%;\"></div>            <script type=\"text/javascript\">                                    window.PLOTLYENV=window.PLOTLYENV || {};                                    if (document.getElementById(\"7ccd8af9-f1c3-4386-915f-9e25a125c014\")) {                    Plotly.newPlot(                        \"7ccd8af9-f1c3-4386-915f-9e25a125c014\",                        [{\"mode\":\"lines\",\"name\":\"HKane_offensive_p\",\"x\":[\"2022-12-10T13:00:00+00:00\",\"2022-12-10T13:05:00+00:00\",\"2022-12-10T13:10:00+00:00\",\"2022-12-10T13:15:00+00:00\",\"2022-12-10T13:20:00+00:00\",\"2022-12-10T13:25:00+00:00\",\"2022-12-10T13:30:00+00:00\",\"2022-12-10T13:35:00+00:00\",\"2022-12-10T13:40:00+00:00\",\"2022-12-10T13:45:00+00:00\",\"2022-12-10T13:50:00+00:00\",\"2022-12-10T13:55:00+00:00\",\"2022-12-10T14:00:00+00:00\",\"2022-12-10T14:05:00+00:00\",\"2022-12-10T14:10:00+00:00\",\"2022-12-10T14:15:00+00:00\",\"2022-12-10T14:20:00+00:00\",\"2022-12-10T14:25:00+00:00\",\"2022-12-10T14:30:00+00:00\",\"2022-12-10T14:35:00+00:00\",\"2022-12-10T14:40:00+00:00\",\"2022-12-10T14:45:00+00:00\",\"2022-12-10T14:50:00+00:00\",\"2022-12-10T14:55:00+00:00\",\"2022-12-10T15:00:00+00:00\",\"2022-12-10T15:05:00+00:00\",\"2022-12-10T15:10:00+00:00\",\"2022-12-10T15:15:00+00:00\",\"2022-12-10T15:20:00+00:00\",\"2022-12-10T15:25:00+00:00\",\"2022-12-10T15:30:00+00:00\",\"2022-12-10T15:35:00+00:00\",\"2022-12-10T15:40:00+00:00\",\"2022-12-10T15:45:00+00:00\",\"2022-12-10T15:50:00+00:00\",\"2022-12-10T15:55:00+00:00\",\"2022-12-10T16:00:00+00:00\",\"2022-12-10T16:05:00+00:00\",\"2022-12-10T16:10:00+00:00\",\"2022-12-10T16:15:00+00:00\",\"2022-12-10T16:20:00+00:00\",\"2022-12-10T16:25:00+00:00\",\"2022-12-10T16:30:00+00:00\",\"2022-12-10T16:35:00+00:00\",\"2022-12-10T16:40:00+00:00\",\"2022-12-10T16:45:00+00:00\",\"2022-12-10T16:50:00+00:00\",\"2022-12-10T16:55:00+00:00\",\"2022-12-10T17:00:00+00:00\",\"2022-12-10T17:05:00+00:00\",\"2022-12-10T17:10:00+00:00\",\"2022-12-10T17:15:00+00:00\",\"2022-12-10T17:20:00+00:00\",\"2022-12-10T17:25:00+00:00\",\"2022-12-10T17:30:00+00:00\",\"2022-12-10T17:35:00+00:00\",\"2022-12-10T17:40:00+00:00\",\"2022-12-10T17:45:00+00:00\",\"2022-12-10T17:50:00+00:00\",\"2022-12-10T17:55:00+00:00\",\"2022-12-10T18:00:00+00:00\",\"2022-12-10T18:05:00+00:00\",\"2022-12-10T18:10:00+00:00\",\"2022-12-10T18:15:00+00:00\",\"2022-12-10T18:20:00+00:00\",\"2022-12-10T18:25:00+00:00\",\"2022-12-10T18:30:00+00:00\",\"2022-12-10T18:35:00+00:00\",\"2022-12-10T18:40:00+00:00\",\"2022-12-10T18:45:00+00:00\",\"2022-12-10T18:50:00+00:00\",\"2022-12-10T18:55:00+00:00\",\"2022-12-10T19:00:00+00:00\",\"2022-12-10T19:05:00+00:00\",\"2022-12-10T19:10:00+00:00\",\"2022-12-10T19:15:00+00:00\",\"2022-12-10T19:20:00+00:00\",\"2022-12-10T19:25:00+00:00\",\"2022-12-10T19:30:00+00:00\",\"2022-12-10T19:35:00+00:00\",\"2022-12-10T19:40:00+00:00\",\"2022-12-10T19:45:00+00:00\",\"2022-12-10T19:50:00+00:00\",\"2022-12-10T19:55:00+00:00\",\"2022-12-10T20:00:00+00:00\",\"2022-12-10T20:05:00+00:00\",\"2022-12-10T20:10:00+00:00\",\"2022-12-10T20:15:00+00:00\",\"2022-12-10T20:20:00+00:00\",\"2022-12-10T20:25:00+00:00\",\"2022-12-10T20:30:00+00:00\",\"2022-12-10T20:35:00+00:00\",\"2022-12-10T20:40:00+00:00\",\"2022-12-10T20:45:00+00:00\",\"2022-12-10T20:50:00+00:00\",\"2022-12-10T20:55:00+00:00\",\"2022-12-10T21:00:00+00:00\",\"2022-12-10T21:05:00+00:00\",\"2022-12-10T21:10:00+00:00\",\"2022-12-10T21:15:00+00:00\",\"2022-12-10T21:20:00+00:00\",\"2022-12-10T21:25:00+00:00\",\"2022-12-10T21:30:00+00:00\",\"2022-12-10T21:35:00+00:00\",\"2022-12-10T21:40:00+00:00\",\"2022-12-10T21:45:00+00:00\",\"2022-12-10T21:50:00+00:00\",\"2022-12-10T21:55:00+00:00\",\"2022-12-10T22:00:00+00:00\",\"2022-12-10T22:05:00+00:00\",\"2022-12-10T22:10:00+00:00\",\"2022-12-10T22:15:00+00:00\",\"2022-12-10T22:20:00+00:00\",\"2022-12-10T22:25:00+00:00\",\"2022-12-10T22:30:00+00:00\",\"2022-12-10T22:35:00+00:00\",\"2022-12-10T22:40:00+00:00\",\"2022-12-10T22:45:00+00:00\",\"2022-12-10T22:50:00+00:00\",\"2022-12-10T22:55:00+00:00\",\"2022-12-10T23:00:00+00:00\",\"2022-12-10T23:05:00+00:00\",\"2022-12-10T23:10:00+00:00\",\"2022-12-10T23:15:00+00:00\",\"2022-12-10T23:20:00+00:00\",\"2022-12-10T23:25:00+00:00\",\"2022-12-10T23:30:00+00:00\",\"2022-12-10T23:35:00+00:00\",\"2022-12-10T23:40:00+00:00\",\"2022-12-10T23:45:00+00:00\",\"2022-12-10T23:50:00+00:00\",\"2022-12-10T23:55:00+00:00\",\"2022-12-11T00:00:00+00:00\",\"2022-12-11T00:05:00+00:00\",\"2022-12-11T00:10:00+00:00\",\"2022-12-11T00:15:00+00:00\",\"2022-12-11T00:20:00+00:00\",\"2022-12-11T00:25:00+00:00\",\"2022-12-11T00:30:00+00:00\",\"2022-12-11T00:35:00+00:00\",\"2022-12-11T00:40:00+00:00\",\"2022-12-11T00:45:00+00:00\",\"2022-12-11T00:50:00+00:00\",\"2022-12-11T00:55:00+00:00\",\"2022-12-11T01:00:00+00:00\",\"2022-12-11T01:05:00+00:00\",\"2022-12-11T01:10:00+00:00\",\"2022-12-11T01:15:00+00:00\",\"2022-12-11T01:20:00+00:00\",\"2022-12-11T01:25:00+00:00\",\"2022-12-11T01:30:00+00:00\",\"2022-12-11T01:35:00+00:00\",\"2022-12-11T01:40:00+00:00\",\"2022-12-11T01:45:00+00:00\",\"2022-12-11T01:50:00+00:00\",\"2022-12-11T01:55:00+00:00\",\"2022-12-11T02:00:00+00:00\",\"2022-12-11T02:05:00+00:00\",\"2022-12-11T02:10:00+00:00\",\"2022-12-11T02:15:00+00:00\",\"2022-12-11T02:20:00+00:00\",\"2022-12-11T02:25:00+00:00\",\"2022-12-11T02:30:00+00:00\",\"2022-12-11T02:35:00+00:00\",\"2022-12-11T02:40:00+00:00\",\"2022-12-11T02:45:00+00:00\",\"2022-12-11T02:50:00+00:00\",\"2022-12-11T02:55:00+00:00\",\"2022-12-11T03:00:00+00:00\",\"2022-12-11T03:05:00+00:00\",\"2022-12-11T03:10:00+00:00\",\"2022-12-11T03:15:00+00:00\",\"2022-12-11T03:20:00+00:00\",\"2022-12-11T03:25:00+00:00\",\"2022-12-11T03:30:00+00:00\",\"2022-12-11T03:35:00+00:00\",\"2022-12-11T03:40:00+00:00\",\"2022-12-11T03:45:00+00:00\",\"2022-12-11T03:50:00+00:00\",\"2022-12-11T03:55:00+00:00\",\"2022-12-11T04:00:00+00:00\",\"2022-12-11T04:05:00+00:00\",\"2022-12-11T04:10:00+00:00\",\"2022-12-11T04:15:00+00:00\",\"2022-12-11T04:20:00+00:00\",\"2022-12-11T04:25:00+00:00\",\"2022-12-11T04:30:00+00:00\",\"2022-12-11T04:35:00+00:00\",\"2022-12-11T04:40:00+00:00\",\"2022-12-11T04:45:00+00:00\",\"2022-12-11T04:50:00+00:00\",\"2022-12-11T04:55:00+00:00\",\"2022-12-11T05:00:00+00:00\",\"2022-12-11T05:05:00+00:00\",\"2022-12-11T05:10:00+00:00\",\"2022-12-11T05:15:00+00:00\",\"2022-12-11T05:20:00+00:00\",\"2022-12-11T05:25:00+00:00\",\"2022-12-11T05:30:00+00:00\",\"2022-12-11T05:35:00+00:00\",\"2022-12-11T05:40:00+00:00\",\"2022-12-11T05:45:00+00:00\",\"2022-12-11T05:50:00+00:00\",\"2022-12-11T05:55:00+00:00\",\"2022-12-11T06:00:00+00:00\",\"2022-12-11T06:05:00+00:00\",\"2022-12-11T06:10:00+00:00\",\"2022-12-11T06:15:00+00:00\",\"2022-12-11T06:20:00+00:00\",\"2022-12-11T06:25:00+00:00\",\"2022-12-11T06:30:00+00:00\",\"2022-12-11T06:35:00+00:00\",\"2022-12-11T06:40:00+00:00\",\"2022-12-11T06:45:00+00:00\",\"2022-12-11T06:50:00+00:00\",\"2022-12-11T06:55:00+00:00\",\"2022-12-11T07:00:00+00:00\",\"2022-12-11T07:05:00+00:00\",\"2022-12-11T07:10:00+00:00\",\"2022-12-11T07:15:00+00:00\",\"2022-12-11T07:20:00+00:00\",\"2022-12-11T07:25:00+00:00\",\"2022-12-11T07:30:00+00:00\",\"2022-12-11T07:35:00+00:00\",\"2022-12-11T07:40:00+00:00\",\"2022-12-11T07:45:00+00:00\",\"2022-12-11T07:50:00+00:00\",\"2022-12-11T07:55:00+00:00\",\"2022-12-11T08:00:00+00:00\",\"2022-12-11T08:05:00+00:00\",\"2022-12-11T08:10:00+00:00\",\"2022-12-11T08:15:00+00:00\",\"2022-12-11T08:20:00+00:00\",\"2022-12-11T08:25:00+00:00\",\"2022-12-11T08:30:00+00:00\",\"2022-12-11T08:35:00+00:00\",\"2022-12-11T08:40:00+00:00\",\"2022-12-11T08:45:00+00:00\",\"2022-12-11T08:50:00+00:00\",\"2022-12-11T08:55:00+00:00\",\"2022-12-11T09:00:00+00:00\",\"2022-12-11T09:05:00+00:00\",\"2022-12-11T09:10:00+00:00\",\"2022-12-11T09:15:00+00:00\",\"2022-12-11T09:20:00+00:00\",\"2022-12-11T09:25:00+00:00\",\"2022-12-11T09:30:00+00:00\",\"2022-12-11T09:35:00+00:00\",\"2022-12-11T09:40:00+00:00\",\"2022-12-11T09:45:00+00:00\",\"2022-12-11T09:50:00+00:00\",\"2022-12-11T09:55:00+00:00\",\"2022-12-11T10:00:00+00:00\",\"2022-12-11T10:05:00+00:00\",\"2022-12-11T10:10:00+00:00\",\"2022-12-11T10:15:00+00:00\",\"2022-12-11T10:20:00+00:00\",\"2022-12-11T10:25:00+00:00\",\"2022-12-11T10:30:00+00:00\",\"2022-12-11T10:35:00+00:00\",\"2022-12-11T10:40:00+00:00\",\"2022-12-11T10:45:00+00:00\",\"2022-12-11T10:50:00+00:00\",\"2022-12-11T10:55:00+00:00\",\"2022-12-11T11:00:00+00:00\",\"2022-12-11T11:05:00+00:00\",\"2022-12-11T11:10:00+00:00\",\"2022-12-11T11:15:00+00:00\",\"2022-12-11T11:20:00+00:00\",\"2022-12-11T11:25:00+00:00\",\"2022-12-11T11:30:00+00:00\",\"2022-12-11T11:35:00+00:00\",\"2022-12-11T11:40:00+00:00\",\"2022-12-11T11:45:00+00:00\",\"2022-12-11T11:50:00+00:00\",\"2022-12-11T11:55:00+00:00\",\"2022-12-11T12:00:00+00:00\",\"2022-12-11T12:05:00+00:00\",\"2022-12-11T12:10:00+00:00\",\"2022-12-11T12:15:00+00:00\",\"2022-12-11T12:20:00+00:00\",\"2022-12-11T12:25:00+00:00\",\"2022-12-11T12:30:00+00:00\",\"2022-12-11T12:35:00+00:00\",\"2022-12-11T12:40:00+00:00\",\"2022-12-11T12:45:00+00:00\",\"2022-12-11T12:50:00+00:00\",\"2022-12-11T12:55:00+00:00\",\"2022-12-11T13:00:00+00:00\",\"2022-12-11T13:05:00+00:00\",\"2022-12-11T13:10:00+00:00\",\"2022-12-11T13:15:00+00:00\",\"2022-12-11T13:20:00+00:00\",\"2022-12-11T13:25:00+00:00\",\"2022-12-11T13:30:00+00:00\",\"2022-12-11T13:35:00+00:00\",\"2022-12-11T13:40:00+00:00\",\"2022-12-11T13:45:00+00:00\",\"2022-12-11T13:50:00+00:00\",\"2022-12-11T13:55:00+00:00\",\"2022-12-11T14:00:00+00:00\",\"2022-12-11T14:05:00+00:00\",\"2022-12-11T14:10:00+00:00\",\"2022-12-11T14:15:00+00:00\",\"2022-12-11T14:20:00+00:00\",\"2022-12-11T14:25:00+00:00\",\"2022-12-11T14:30:00+00:00\",\"2022-12-11T14:35:00+00:00\",\"2022-12-11T14:40:00+00:00\",\"2022-12-11T14:45:00+00:00\",\"2022-12-11T14:50:00+00:00\",\"2022-12-11T14:55:00+00:00\",\"2022-12-11T15:00:00+00:00\",\"2022-12-11T15:05:00+00:00\",\"2022-12-11T15:10:00+00:00\",\"2022-12-11T15:15:00+00:00\",\"2022-12-11T15:20:00+00:00\",\"2022-12-11T15:25:00+00:00\",\"2022-12-11T15:30:00+00:00\",\"2022-12-11T15:35:00+00:00\",\"2022-12-11T15:40:00+00:00\",\"2022-12-11T15:45:00+00:00\",\"2022-12-11T15:50:00+00:00\",\"2022-12-11T15:55:00+00:00\",\"2022-12-11T16:00:00+00:00\",\"2022-12-11T16:05:00+00:00\",\"2022-12-11T16:10:00+00:00\",\"2022-12-11T16:15:00+00:00\",\"2022-12-11T16:20:00+00:00\",\"2022-12-11T16:25:00+00:00\",\"2022-12-11T16:30:00+00:00\",\"2022-12-11T16:35:00+00:00\",\"2022-12-11T16:40:00+00:00\",\"2022-12-11T16:45:00+00:00\",\"2022-12-11T16:50:00+00:00\",\"2022-12-11T16:55:00+00:00\",\"2022-12-11T17:00:00+00:00\",\"2022-12-11T17:05:00+00:00\",\"2022-12-11T17:10:00+00:00\",\"2022-12-11T17:15:00+00:00\",\"2022-12-11T17:20:00+00:00\",\"2022-12-11T17:25:00+00:00\",\"2022-12-11T17:30:00+00:00\",\"2022-12-11T17:35:00+00:00\",\"2022-12-11T17:40:00+00:00\",\"2022-12-11T17:45:00+00:00\",\"2022-12-11T17:50:00+00:00\",\"2022-12-11T17:55:00+00:00\",\"2022-12-11T18:00:00+00:00\",\"2022-12-11T18:05:00+00:00\",\"2022-12-11T18:10:00+00:00\",\"2022-12-11T18:15:00+00:00\",\"2022-12-11T18:20:00+00:00\",\"2022-12-11T18:25:00+00:00\",\"2022-12-11T18:30:00+00:00\",\"2022-12-11T18:35:00+00:00\",\"2022-12-11T18:40:00+00:00\",\"2022-12-11T18:45:00+00:00\",\"2022-12-11T18:50:00+00:00\",\"2022-12-11T18:55:00+00:00\",\"2022-12-11T19:00:00+00:00\",\"2022-12-11T19:05:00+00:00\",\"2022-12-11T19:10:00+00:00\",\"2022-12-11T19:15:00+00:00\",\"2022-12-11T19:20:00+00:00\",\"2022-12-11T19:25:00+00:00\",\"2022-12-11T19:30:00+00:00\",\"2022-12-11T19:35:00+00:00\",\"2022-12-11T19:40:00+00:00\",\"2022-12-11T19:45:00+00:00\",\"2022-12-11T19:50:00+00:00\",\"2022-12-11T19:55:00+00:00\",\"2022-12-11T20:00:00+00:00\",\"2022-12-11T20:05:00+00:00\",\"2022-12-11T20:10:00+00:00\",\"2022-12-11T20:15:00+00:00\",\"2022-12-11T20:20:00+00:00\",\"2022-12-11T20:25:00+00:00\",\"2022-12-11T20:30:00+00:00\",\"2022-12-11T20:35:00+00:00\",\"2022-12-11T20:40:00+00:00\",\"2022-12-11T20:45:00+00:00\",\"2022-12-11T20:50:00+00:00\",\"2022-12-11T20:55:00+00:00\",\"2022-12-11T21:00:00+00:00\",\"2022-12-11T21:05:00+00:00\",\"2022-12-11T21:10:00+00:00\",\"2022-12-11T21:15:00+00:00\",\"2022-12-11T21:20:00+00:00\",\"2022-12-11T21:25:00+00:00\",\"2022-12-11T21:30:00+00:00\",\"2022-12-11T21:35:00+00:00\",\"2022-12-11T21:40:00+00:00\",\"2022-12-11T21:45:00+00:00\",\"2022-12-11T21:50:00+00:00\",\"2022-12-11T21:55:00+00:00\",\"2022-12-11T22:00:00+00:00\",\"2022-12-11T22:05:00+00:00\",\"2022-12-11T22:10:00+00:00\",\"2022-12-11T22:15:00+00:00\",\"2022-12-11T22:20:00+00:00\",\"2022-12-11T22:25:00+00:00\",\"2022-12-11T22:30:00+00:00\",\"2022-12-11T22:35:00+00:00\",\"2022-12-11T22:40:00+00:00\",\"2022-12-11T22:45:00+00:00\",\"2022-12-11T22:50:00+00:00\",\"2022-12-11T22:55:00+00:00\",\"2022-12-11T23:00:00+00:00\",\"2022-12-11T23:05:00+00:00\",\"2022-12-11T23:10:00+00:00\",\"2022-12-11T23:15:00+00:00\",\"2022-12-11T23:20:00+00:00\",\"2022-12-11T23:25:00+00:00\",\"2022-12-11T23:30:00+00:00\",\"2022-12-11T23:35:00+00:00\",\"2022-12-11T23:40:00+00:00\",\"2022-12-11T23:45:00+00:00\",\"2022-12-11T23:50:00+00:00\",\"2022-12-11T23:55:00+00:00\",\"2022-12-12T00:00:00+00:00\",\"2022-12-12T00:05:00+00:00\",\"2022-12-12T00:10:00+00:00\",\"2022-12-12T00:15:00+00:00\",\"2022-12-12T00:20:00+00:00\",\"2022-12-12T00:25:00+00:00\",\"2022-12-12T00:30:00+00:00\",\"2022-12-12T00:35:00+00:00\",\"2022-12-12T00:40:00+00:00\",\"2022-12-12T00:45:00+00:00\",\"2022-12-12T00:50:00+00:00\",\"2022-12-12T00:55:00+00:00\",\"2022-12-12T01:00:00+00:00\",\"2022-12-12T01:05:00+00:00\",\"2022-12-12T01:10:00+00:00\",\"2022-12-12T01:15:00+00:00\",\"2022-12-12T01:20:00+00:00\",\"2022-12-12T01:25:00+00:00\",\"2022-12-12T01:30:00+00:00\",\"2022-12-12T01:35:00+00:00\",\"2022-12-12T01:40:00+00:00\",\"2022-12-12T01:45:00+00:00\",\"2022-12-12T01:50:00+00:00\",\"2022-12-12T01:55:00+00:00\",\"2022-12-12T02:00:00+00:00\",\"2022-12-12T02:05:00+00:00\",\"2022-12-12T02:10:00+00:00\",\"2022-12-12T02:15:00+00:00\",\"2022-12-12T02:20:00+00:00\",\"2022-12-12T02:25:00+00:00\",\"2022-12-12T02:30:00+00:00\",\"2022-12-12T02:35:00+00:00\",\"2022-12-12T02:40:00+00:00\",\"2022-12-12T02:45:00+00:00\",\"2022-12-12T02:50:00+00:00\",\"2022-12-12T02:55:00+00:00\",\"2022-12-12T03:00:00+00:00\",\"2022-12-12T03:05:00+00:00\",\"2022-12-12T03:10:00+00:00\",\"2022-12-12T03:15:00+00:00\",\"2022-12-12T03:20:00+00:00\",\"2022-12-12T03:25:00+00:00\",\"2022-12-12T03:30:00+00:00\",\"2022-12-12T03:35:00+00:00\",\"2022-12-12T03:40:00+00:00\",\"2022-12-12T03:45:00+00:00\",\"2022-12-12T03:50:00+00:00\",\"2022-12-12T03:55:00+00:00\",\"2022-12-12T04:00:00+00:00\",\"2022-12-12T04:05:00+00:00\",\"2022-12-12T04:10:00+00:00\",\"2022-12-12T04:15:00+00:00\",\"2022-12-12T04:20:00+00:00\",\"2022-12-12T04:25:00+00:00\",\"2022-12-12T04:30:00+00:00\",\"2022-12-12T04:35:00+00:00\",\"2022-12-12T04:40:00+00:00\",\"2022-12-12T04:45:00+00:00\",\"2022-12-12T04:50:00+00:00\",\"2022-12-12T04:55:00+00:00\",\"2022-12-12T05:00:00+00:00\",\"2022-12-12T05:05:00+00:00\",\"2022-12-12T05:10:00+00:00\",\"2022-12-12T05:15:00+00:00\",\"2022-12-12T05:20:00+00:00\",\"2022-12-12T05:25:00+00:00\",\"2022-12-12T05:30:00+00:00\",\"2022-12-12T05:35:00+00:00\",\"2022-12-12T05:40:00+00:00\",\"2022-12-12T05:45:00+00:00\",\"2022-12-12T05:50:00+00:00\",\"2022-12-12T05:55:00+00:00\",\"2022-12-12T06:00:00+00:00\",\"2022-12-12T06:05:00+00:00\",\"2022-12-12T06:10:00+00:00\",\"2022-12-12T06:15:00+00:00\",\"2022-12-12T06:20:00+00:00\",\"2022-12-12T06:25:00+00:00\",\"2022-12-12T06:30:00+00:00\",\"2022-12-12T06:35:00+00:00\",\"2022-12-12T06:40:00+00:00\",\"2022-12-12T06:45:00+00:00\",\"2022-12-12T06:50:00+00:00\",\"2022-12-12T06:55:00+00:00\",\"2022-12-12T07:00:00+00:00\",\"2022-12-12T07:05:00+00:00\",\"2022-12-12T07:10:00+00:00\",\"2022-12-12T07:15:00+00:00\",\"2022-12-12T07:20:00+00:00\",\"2022-12-12T07:25:00+00:00\",\"2022-12-12T07:30:00+00:00\",\"2022-12-12T07:35:00+00:00\",\"2022-12-12T07:40:00+00:00\",\"2022-12-12T07:45:00+00:00\",\"2022-12-12T07:50:00+00:00\",\"2022-12-12T07:55:00+00:00\",\"2022-12-12T08:00:00+00:00\",\"2022-12-12T08:05:00+00:00\",\"2022-12-12T08:10:00+00:00\",\"2022-12-12T08:15:00+00:00\",\"2022-12-12T08:20:00+00:00\",\"2022-12-12T08:25:00+00:00\",\"2022-12-12T08:30:00+00:00\",\"2022-12-12T08:35:00+00:00\",\"2022-12-12T08:40:00+00:00\",\"2022-12-12T08:45:00+00:00\",\"2022-12-12T08:50:00+00:00\",\"2022-12-12T08:55:00+00:00\",\"2022-12-12T09:00:00+00:00\",\"2022-12-12T09:05:00+00:00\",\"2022-12-12T09:10:00+00:00\",\"2022-12-12T09:15:00+00:00\",\"2022-12-12T09:20:00+00:00\",\"2022-12-12T09:25:00+00:00\",\"2022-12-12T09:30:00+00:00\",\"2022-12-12T09:35:00+00:00\",\"2022-12-12T09:40:00+00:00\",\"2022-12-12T09:45:00+00:00\",\"2022-12-12T09:50:00+00:00\",\"2022-12-12T09:55:00+00:00\",\"2022-12-12T10:00:00+00:00\",\"2022-12-12T10:05:00+00:00\",\"2022-12-12T10:10:00+00:00\",\"2022-12-12T10:15:00+00:00\",\"2022-12-12T10:20:00+00:00\",\"2022-12-12T10:25:00+00:00\",\"2022-12-12T10:30:00+00:00\",\"2022-12-12T10:35:00+00:00\",\"2022-12-12T10:40:00+00:00\",\"2022-12-12T10:45:00+00:00\",\"2022-12-12T10:50:00+00:00\",\"2022-12-12T10:55:00+00:00\",\"2022-12-12T11:00:00+00:00\",\"2022-12-12T11:05:00+00:00\",\"2022-12-12T11:10:00+00:00\",\"2022-12-12T11:15:00+00:00\",\"2022-12-12T11:20:00+00:00\",\"2022-12-12T11:25:00+00:00\",\"2022-12-12T11:30:00+00:00\",\"2022-12-12T11:35:00+00:00\",\"2022-12-12T11:40:00+00:00\",\"2022-12-12T11:45:00+00:00\",\"2022-12-12T11:50:00+00:00\",\"2022-12-12T11:55:00+00:00\",\"2022-12-12T12:00:00+00:00\",\"2022-12-12T12:05:00+00:00\",\"2022-12-12T12:10:00+00:00\",\"2022-12-12T12:15:00+00:00\",\"2022-12-12T12:20:00+00:00\",\"2022-12-12T12:25:00+00:00\",\"2022-12-12T12:30:00+00:00\",\"2022-12-12T12:35:00+00:00\",\"2022-12-12T12:40:00+00:00\",\"2022-12-12T12:45:00+00:00\",\"2022-12-12T12:50:00+00:00\",\"2022-12-12T12:55:00+00:00\",\"2022-12-12T13:00:00+00:00\",\"2022-12-12T13:05:00+00:00\",\"2022-12-12T13:10:00+00:00\",\"2022-12-12T13:15:00+00:00\",\"2022-12-12T13:20:00+00:00\",\"2022-12-12T13:25:00+00:00\",\"2022-12-12T13:30:00+00:00\",\"2022-12-12T13:35:00+00:00\",\"2022-12-12T13:40:00+00:00\",\"2022-12-12T13:45:00+00:00\",\"2022-12-12T13:50:00+00:00\",\"2022-12-12T13:55:00+00:00\",\"2022-12-12T14:00:00+00:00\",\"2022-12-12T14:05:00+00:00\",\"2022-12-12T14:10:00+00:00\",\"2022-12-12T14:15:00+00:00\",\"2022-12-12T14:20:00+00:00\",\"2022-12-12T14:25:00+00:00\",\"2022-12-12T14:30:00+00:00\",\"2022-12-12T14:35:00+00:00\",\"2022-12-12T14:40:00+00:00\",\"2022-12-12T14:45:00+00:00\",\"2022-12-12T14:50:00+00:00\",\"2022-12-12T14:55:00+00:00\",\"2022-12-12T15:00:00+00:00\",\"2022-12-12T15:05:00+00:00\",\"2022-12-12T15:10:00+00:00\",\"2022-12-12T15:15:00+00:00\",\"2022-12-12T15:20:00+00:00\",\"2022-12-12T15:25:00+00:00\",\"2022-12-12T15:30:00+00:00\",\"2022-12-12T15:35:00+00:00\",\"2022-12-12T15:40:00+00:00\",\"2022-12-12T15:45:00+00:00\",\"2022-12-12T15:50:00+00:00\",\"2022-12-12T15:55:00+00:00\",\"2022-12-12T16:00:00+00:00\",\"2022-12-12T16:05:00+00:00\",\"2022-12-12T16:10:00+00:00\",\"2022-12-12T16:15:00+00:00\",\"2022-12-12T16:20:00+00:00\",\"2022-12-12T16:25:00+00:00\",\"2022-12-12T16:30:00+00:00\",\"2022-12-12T16:35:00+00:00\",\"2022-12-12T16:40:00+00:00\",\"2022-12-12T16:45:00+00:00\",\"2022-12-12T16:50:00+00:00\",\"2022-12-12T16:55:00+00:00\",\"2022-12-12T17:00:00+00:00\",\"2022-12-12T17:05:00+00:00\",\"2022-12-12T17:10:00+00:00\",\"2022-12-12T17:15:00+00:00\",\"2022-12-12T17:20:00+00:00\",\"2022-12-12T17:25:00+00:00\",\"2022-12-12T17:30:00+00:00\",\"2022-12-12T17:35:00+00:00\",\"2022-12-12T17:40:00+00:00\",\"2022-12-12T17:45:00+00:00\",\"2022-12-12T17:50:00+00:00\",\"2022-12-12T17:55:00+00:00\",\"2022-12-12T18:00:00+00:00\",\"2022-12-12T18:05:00+00:00\",\"2022-12-12T18:10:00+00:00\",\"2022-12-12T18:15:00+00:00\",\"2022-12-12T18:20:00+00:00\",\"2022-12-12T18:25:00+00:00\",\"2022-12-12T18:30:00+00:00\",\"2022-12-12T18:35:00+00:00\",\"2022-12-12T18:40:00+00:00\",\"2022-12-12T18:45:00+00:00\",\"2022-12-12T18:50:00+00:00\",\"2022-12-12T18:55:00+00:00\",\"2022-12-12T19:00:00+00:00\",\"2022-12-12T19:05:00+00:00\",\"2022-12-12T19:10:00+00:00\",\"2022-12-12T19:15:00+00:00\",\"2022-12-12T19:20:00+00:00\",\"2022-12-12T19:25:00+00:00\",\"2022-12-12T19:30:00+00:00\",\"2022-12-12T19:35:00+00:00\",\"2022-12-12T19:40:00+00:00\",\"2022-12-12T19:45:00+00:00\",\"2022-12-12T19:50:00+00:00\",\"2022-12-12T19:55:00+00:00\",\"2022-12-12T20:00:00+00:00\",\"2022-12-12T20:05:00+00:00\",\"2022-12-12T20:10:00+00:00\",\"2022-12-12T20:15:00+00:00\",\"2022-12-12T20:20:00+00:00\",\"2022-12-12T20:25:00+00:00\",\"2022-12-12T20:30:00+00:00\",\"2022-12-12T20:35:00+00:00\",\"2022-12-12T20:40:00+00:00\",\"2022-12-12T20:45:00+00:00\",\"2022-12-12T20:50:00+00:00\",\"2022-12-12T20:55:00+00:00\",\"2022-12-12T21:00:00+00:00\",\"2022-12-12T21:05:00+00:00\",\"2022-12-12T21:10:00+00:00\",\"2022-12-12T21:15:00+00:00\",\"2022-12-12T21:20:00+00:00\",\"2022-12-12T21:25:00+00:00\",\"2022-12-12T21:30:00+00:00\",\"2022-12-12T21:35:00+00:00\",\"2022-12-12T21:40:00+00:00\",\"2022-12-12T21:45:00+00:00\",\"2022-12-12T21:50:00+00:00\",\"2022-12-12T21:55:00+00:00\",\"2022-12-12T22:00:00+00:00\",\"2022-12-12T22:05:00+00:00\",\"2022-12-12T22:10:00+00:00\",\"2022-12-12T22:15:00+00:00\",\"2022-12-12T22:20:00+00:00\",\"2022-12-12T22:25:00+00:00\",\"2022-12-12T22:30:00+00:00\",\"2022-12-12T22:35:00+00:00\",\"2022-12-12T22:40:00+00:00\",\"2022-12-12T22:45:00+00:00\",\"2022-12-12T22:50:00+00:00\",\"2022-12-12T22:55:00+00:00\",\"2022-12-12T23:00:00+00:00\",\"2022-12-12T23:05:00+00:00\",\"2022-12-12T23:10:00+00:00\",\"2022-12-12T23:15:00+00:00\",\"2022-12-12T23:20:00+00:00\",\"2022-12-12T23:25:00+00:00\",\"2022-12-12T23:30:00+00:00\",\"2022-12-12T23:35:00+00:00\",\"2022-12-12T23:40:00+00:00\",\"2022-12-12T23:45:00+00:00\",\"2022-12-12T23:50:00+00:00\",\"2022-12-12T23:55:00+00:00\"],\"y\":[0,0,0,0,0,0,0,0,0,0,0,0,0,0,0,0,0,0,0,0,0,0,0,0,0,0,0,0,0,0,0,0,0,0,0,0,0,0,0,0,0,0,0,0,0,0,0,0,0,0,0,0,0,0,0,0,0,0,0,0,0,0,0,0,0,0,0,0,0,0,0,0,0,0,0,0,1,0,0,1,0,2,0,2,0,0,1,3,0,2,0,0,12,36,9,10,72,48,22,23,21,8,9,8,6,6,8,4,8,4,1,2,2,5,4,1,5,4,3,3,3,2,2,2,3,6,2,7,8,5,6,0,1,1,1,3,2,2,1,3,0,2,1,1,0,3,0,2,1,1,2,1,3,0,1,0,0,0,0,0,0,0,1,1,0,1,1,0,0,1,1,0,2,0,0,0,0,2,0,0,0,1,0,0,0,0,0,1,1,0,0,0,0,1,1,1,0,0,1,0,0,0,0,0,0,0,2,1,2,0,0,0,1,0,0,0,1,0,1,0,2,3,1,0,1,0,1,1,0,0,0,1,0,0,0,1,2,0,2,1,1,1,0,0,1,2,0,0,3,3,2,2,9,7,7,5,3,4,7,6,4,7,2,3,6,5,2,5,7,0,8,2,7,8,6,3,4,0,6,4,2,3,4,2,3,2,3,4,1,5,1,3,2,5,1,2,3,3,3,4,1,3,1,5,2,1,2,2,2,0,2,2,2,4,4,3,3,1,0,4,0,1,1,0,1,2,0,2,3,1,2,2,2,0,0,1,1,1,2,3,0,0,0,0,2,2,0,3,1,1,0,2,0,0,1,0,0,2,2,1,1,1,0,1,0,0,0,1,1,4,2,0,1,0,2,1,0,2,1,1,0,1,1,0,3,0,2,1,0,1,5,1,0,3,1,1,0,1,1,1,0,1,0,0,0,1,0,0,2,0,0,0,0,0,0,1,0,1,0,0,0,0,0,2,0,1,1,0,0,0,0,0,0,0,0,0,1,0,0,0,0,0,2,0,0,0,1,0,0,1,0,1,0,0,0,0,1,0,1,0,0,2,0,0,1,0,2,1,0,0,0,0,0,0,0,0,1,0,0,0,1,1,0,0,0,2,0,0,1,0,0,0,0,0,1,0,2,0,0,0,0,0,0,0,0,0,0,0,0,0,1,0,0,0,0,0,0,0,0,1,1,0,0,0,0,0,0,1,0,0,0,1,0,1,1,1,0,0,0,0,1,0,0,0,0,0,0,0,0,0,0,0,0,0,0,1,1,0,0,0,0,1,0,1,0,1,0,0,0,0,1,1,0,0,0,0,0,1,1,0,0,0,0,0,0,0,1,0,0,0,0,0,0,0,0,0,0,0,0,0,1,0,0,0,0,0,0,0,0,0,0,0,0,0,0,1,1,0,1,0,0,0,0,0,0,0,0,0,0,0,0,1,0,0,0,0,0,0,2,0,0,0,0,0,0,0,0,0,0,0,0,0,0,0,0,0,0,0,0,0,0,0,0,0,0,0,0,0,0,0,0,0,1,0,0,0,0,0,0,0,0,0,0,0,0,0,0,0,0,0,0,0,0,0,0,0,0,0,0,0,0,0,0,0,0,0,0,0],\"type\":\"scatter\"}],                        {\"template\":{\"data\":{\"bar\":[{\"error_x\":{\"color\":\"#2a3f5f\"},\"error_y\":{\"color\":\"#2a3f5f\"},\"marker\":{\"line\":{\"color\":\"#E5ECF6\",\"width\":0.5},\"pattern\":{\"fillmode\":\"overlay\",\"size\":10,\"solidity\":0.2}},\"type\":\"bar\"}],\"barpolar\":[{\"marker\":{\"line\":{\"color\":\"#E5ECF6\",\"width\":0.5},\"pattern\":{\"fillmode\":\"overlay\",\"size\":10,\"solidity\":0.2}},\"type\":\"barpolar\"}],\"carpet\":[{\"aaxis\":{\"endlinecolor\":\"#2a3f5f\",\"gridcolor\":\"white\",\"linecolor\":\"white\",\"minorgridcolor\":\"white\",\"startlinecolor\":\"#2a3f5f\"},\"baxis\":{\"endlinecolor\":\"#2a3f5f\",\"gridcolor\":\"white\",\"linecolor\":\"white\",\"minorgridcolor\":\"white\",\"startlinecolor\":\"#2a3f5f\"},\"type\":\"carpet\"}],\"choropleth\":[{\"colorbar\":{\"outlinewidth\":0,\"ticks\":\"\"},\"type\":\"choropleth\"}],\"contour\":[{\"colorbar\":{\"outlinewidth\":0,\"ticks\":\"\"},\"colorscale\":[[0.0,\"#0d0887\"],[0.1111111111111111,\"#46039f\"],[0.2222222222222222,\"#7201a8\"],[0.3333333333333333,\"#9c179e\"],[0.4444444444444444,\"#bd3786\"],[0.5555555555555556,\"#d8576b\"],[0.6666666666666666,\"#ed7953\"],[0.7777777777777778,\"#fb9f3a\"],[0.8888888888888888,\"#fdca26\"],[1.0,\"#f0f921\"]],\"type\":\"contour\"}],\"contourcarpet\":[{\"colorbar\":{\"outlinewidth\":0,\"ticks\":\"\"},\"type\":\"contourcarpet\"}],\"heatmap\":[{\"colorbar\":{\"outlinewidth\":0,\"ticks\":\"\"},\"colorscale\":[[0.0,\"#0d0887\"],[0.1111111111111111,\"#46039f\"],[0.2222222222222222,\"#7201a8\"],[0.3333333333333333,\"#9c179e\"],[0.4444444444444444,\"#bd3786\"],[0.5555555555555556,\"#d8576b\"],[0.6666666666666666,\"#ed7953\"],[0.7777777777777778,\"#fb9f3a\"],[0.8888888888888888,\"#fdca26\"],[1.0,\"#f0f921\"]],\"type\":\"heatmap\"}],\"heatmapgl\":[{\"colorbar\":{\"outlinewidth\":0,\"ticks\":\"\"},\"colorscale\":[[0.0,\"#0d0887\"],[0.1111111111111111,\"#46039f\"],[0.2222222222222222,\"#7201a8\"],[0.3333333333333333,\"#9c179e\"],[0.4444444444444444,\"#bd3786\"],[0.5555555555555556,\"#d8576b\"],[0.6666666666666666,\"#ed7953\"],[0.7777777777777778,\"#fb9f3a\"],[0.8888888888888888,\"#fdca26\"],[1.0,\"#f0f921\"]],\"type\":\"heatmapgl\"}],\"histogram\":[{\"marker\":{\"pattern\":{\"fillmode\":\"overlay\",\"size\":10,\"solidity\":0.2}},\"type\":\"histogram\"}],\"histogram2d\":[{\"colorbar\":{\"outlinewidth\":0,\"ticks\":\"\"},\"colorscale\":[[0.0,\"#0d0887\"],[0.1111111111111111,\"#46039f\"],[0.2222222222222222,\"#7201a8\"],[0.3333333333333333,\"#9c179e\"],[0.4444444444444444,\"#bd3786\"],[0.5555555555555556,\"#d8576b\"],[0.6666666666666666,\"#ed7953\"],[0.7777777777777778,\"#fb9f3a\"],[0.8888888888888888,\"#fdca26\"],[1.0,\"#f0f921\"]],\"type\":\"histogram2d\"}],\"histogram2dcontour\":[{\"colorbar\":{\"outlinewidth\":0,\"ticks\":\"\"},\"colorscale\":[[0.0,\"#0d0887\"],[0.1111111111111111,\"#46039f\"],[0.2222222222222222,\"#7201a8\"],[0.3333333333333333,\"#9c179e\"],[0.4444444444444444,\"#bd3786\"],[0.5555555555555556,\"#d8576b\"],[0.6666666666666666,\"#ed7953\"],[0.7777777777777778,\"#fb9f3a\"],[0.8888888888888888,\"#fdca26\"],[1.0,\"#f0f921\"]],\"type\":\"histogram2dcontour\"}],\"mesh3d\":[{\"colorbar\":{\"outlinewidth\":0,\"ticks\":\"\"},\"type\":\"mesh3d\"}],\"parcoords\":[{\"line\":{\"colorbar\":{\"outlinewidth\":0,\"ticks\":\"\"}},\"type\":\"parcoords\"}],\"pie\":[{\"automargin\":true,\"type\":\"pie\"}],\"scatter\":[{\"marker\":{\"colorbar\":{\"outlinewidth\":0,\"ticks\":\"\"}},\"type\":\"scatter\"}],\"scatter3d\":[{\"line\":{\"colorbar\":{\"outlinewidth\":0,\"ticks\":\"\"}},\"marker\":{\"colorbar\":{\"outlinewidth\":0,\"ticks\":\"\"}},\"type\":\"scatter3d\"}],\"scattercarpet\":[{\"marker\":{\"colorbar\":{\"outlinewidth\":0,\"ticks\":\"\"}},\"type\":\"scattercarpet\"}],\"scattergeo\":[{\"marker\":{\"colorbar\":{\"outlinewidth\":0,\"ticks\":\"\"}},\"type\":\"scattergeo\"}],\"scattergl\":[{\"marker\":{\"colorbar\":{\"outlinewidth\":0,\"ticks\":\"\"}},\"type\":\"scattergl\"}],\"scattermapbox\":[{\"marker\":{\"colorbar\":{\"outlinewidth\":0,\"ticks\":\"\"}},\"type\":\"scattermapbox\"}],\"scatterpolar\":[{\"marker\":{\"colorbar\":{\"outlinewidth\":0,\"ticks\":\"\"}},\"type\":\"scatterpolar\"}],\"scatterpolargl\":[{\"marker\":{\"colorbar\":{\"outlinewidth\":0,\"ticks\":\"\"}},\"type\":\"scatterpolargl\"}],\"scatterternary\":[{\"marker\":{\"colorbar\":{\"outlinewidth\":0,\"ticks\":\"\"}},\"type\":\"scatterternary\"}],\"surface\":[{\"colorbar\":{\"outlinewidth\":0,\"ticks\":\"\"},\"colorscale\":[[0.0,\"#0d0887\"],[0.1111111111111111,\"#46039f\"],[0.2222222222222222,\"#7201a8\"],[0.3333333333333333,\"#9c179e\"],[0.4444444444444444,\"#bd3786\"],[0.5555555555555556,\"#d8576b\"],[0.6666666666666666,\"#ed7953\"],[0.7777777777777778,\"#fb9f3a\"],[0.8888888888888888,\"#fdca26\"],[1.0,\"#f0f921\"]],\"type\":\"surface\"}],\"table\":[{\"cells\":{\"fill\":{\"color\":\"#EBF0F8\"},\"line\":{\"color\":\"white\"}},\"header\":{\"fill\":{\"color\":\"#C8D4E3\"},\"line\":{\"color\":\"white\"}},\"type\":\"table\"}]},\"layout\":{\"annotationdefaults\":{\"arrowcolor\":\"#2a3f5f\",\"arrowhead\":0,\"arrowwidth\":1},\"autotypenumbers\":\"strict\",\"coloraxis\":{\"colorbar\":{\"outlinewidth\":0,\"ticks\":\"\"}},\"colorscale\":{\"diverging\":[[0,\"#8e0152\"],[0.1,\"#c51b7d\"],[0.2,\"#de77ae\"],[0.3,\"#f1b6da\"],[0.4,\"#fde0ef\"],[0.5,\"#f7f7f7\"],[0.6,\"#e6f5d0\"],[0.7,\"#b8e186\"],[0.8,\"#7fbc41\"],[0.9,\"#4d9221\"],[1,\"#276419\"]],\"sequential\":[[0.0,\"#0d0887\"],[0.1111111111111111,\"#46039f\"],[0.2222222222222222,\"#7201a8\"],[0.3333333333333333,\"#9c179e\"],[0.4444444444444444,\"#bd3786\"],[0.5555555555555556,\"#d8576b\"],[0.6666666666666666,\"#ed7953\"],[0.7777777777777778,\"#fb9f3a\"],[0.8888888888888888,\"#fdca26\"],[1.0,\"#f0f921\"]],\"sequentialminus\":[[0.0,\"#0d0887\"],[0.1111111111111111,\"#46039f\"],[0.2222222222222222,\"#7201a8\"],[0.3333333333333333,\"#9c179e\"],[0.4444444444444444,\"#bd3786\"],[0.5555555555555556,\"#d8576b\"],[0.6666666666666666,\"#ed7953\"],[0.7777777777777778,\"#fb9f3a\"],[0.8888888888888888,\"#fdca26\"],[1.0,\"#f0f921\"]]},\"colorway\":[\"#636efa\",\"#EF553B\",\"#00cc96\",\"#ab63fa\",\"#FFA15A\",\"#19d3f3\",\"#FF6692\",\"#B6E880\",\"#FF97FF\",\"#FECB52\"],\"font\":{\"color\":\"#2a3f5f\"},\"geo\":{\"bgcolor\":\"white\",\"lakecolor\":\"white\",\"landcolor\":\"#E5ECF6\",\"showlakes\":true,\"showland\":true,\"subunitcolor\":\"white\"},\"hoverlabel\":{\"align\":\"left\"},\"hovermode\":\"closest\",\"mapbox\":{\"style\":\"light\"},\"paper_bgcolor\":\"white\",\"plot_bgcolor\":\"#E5ECF6\",\"polar\":{\"angularaxis\":{\"gridcolor\":\"white\",\"linecolor\":\"white\",\"ticks\":\"\"},\"bgcolor\":\"#E5ECF6\",\"radialaxis\":{\"gridcolor\":\"white\",\"linecolor\":\"white\",\"ticks\":\"\"}},\"scene\":{\"xaxis\":{\"backgroundcolor\":\"#E5ECF6\",\"gridcolor\":\"white\",\"gridwidth\":2,\"linecolor\":\"white\",\"showbackground\":true,\"ticks\":\"\",\"zerolinecolor\":\"white\"},\"yaxis\":{\"backgroundcolor\":\"#E5ECF6\",\"gridcolor\":\"white\",\"gridwidth\":2,\"linecolor\":\"white\",\"showbackground\":true,\"ticks\":\"\",\"zerolinecolor\":\"white\"},\"zaxis\":{\"backgroundcolor\":\"#E5ECF6\",\"gridcolor\":\"white\",\"gridwidth\":2,\"linecolor\":\"white\",\"showbackground\":true,\"ticks\":\"\",\"zerolinecolor\":\"white\"}},\"shapedefaults\":{\"line\":{\"color\":\"#2a3f5f\"}},\"ternary\":{\"aaxis\":{\"gridcolor\":\"white\",\"linecolor\":\"white\",\"ticks\":\"\"},\"baxis\":{\"gridcolor\":\"white\",\"linecolor\":\"white\",\"ticks\":\"\"},\"bgcolor\":\"#E5ECF6\",\"caxis\":{\"gridcolor\":\"white\",\"linecolor\":\"white\",\"ticks\":\"\"}},\"title\":{\"x\":0.05},\"xaxis\":{\"automargin\":true,\"gridcolor\":\"white\",\"linecolor\":\"white\",\"ticks\":\"\",\"title\":{\"standoff\":15},\"zerolinecolor\":\"white\",\"zerolinewidth\":2},\"yaxis\":{\"automargin\":true,\"gridcolor\":\"white\",\"linecolor\":\"white\",\"ticks\":\"\",\"title\":{\"standoff\":15},\"zerolinecolor\":\"white\",\"zerolinewidth\":2}}},\"xaxis\":{\"title\":{\"text\":\"Time\"},\"tickformat\":\"%d %B\",\"tickmode\":\"auto\",\"nticks\":6},\"title\":{\"text\":\"\",\"y\":0.9,\"x\":0.5,\"xanchor\":\"center\",\"yanchor\":\"top\"},\"yaxis\":{\"title\":{\"text\":\"Number of tweets\"}},\"annotations\":[{\"arrowhead\":1,\"showarrow\":true,\"text\":\"Kick-off\",\"x\":\"2022-12-10T19:00:00+00:00\",\"y\":1.72},{\"arrowhead\":1,\"showarrow\":true,\"text\":\"End of game\",\"x\":\"2022-12-10T20:55:00+00:00\",\"y\":72.72},{\"arrowhead\":1,\"showarrow\":true,\"text\":\"Kane tweet\",\"x\":\"2022-12-11T09:41:00+00:00\",\"y\":9.72}]},                        {\"responsive\": true}                    ).then(function(){\n",
              "                            \n",
              "var gd = document.getElementById('7ccd8af9-f1c3-4386-915f-9e25a125c014');\n",
              "var x = new MutationObserver(function (mutations, observer) {{\n",
              "        var display = window.getComputedStyle(gd).display;\n",
              "        if (!display || display === 'none') {{\n",
              "            console.log([gd, 'removed!']);\n",
              "            Plotly.purge(gd);\n",
              "            observer.disconnect();\n",
              "        }}\n",
              "}});\n",
              "\n",
              "// Listen for the removal of the full notebook cells\n",
              "var notebookContainer = gd.closest('#notebook-container');\n",
              "if (notebookContainer) {{\n",
              "    x.observe(notebookContainer, {childList: true});\n",
              "}}\n",
              "\n",
              "// Listen for the clearing of the current output cell\n",
              "var outputEl = gd.closest('.output');\n",
              "if (outputEl) {{\n",
              "    x.observe(outputEl, {childList: true});\n",
              "}}\n",
              "\n",
              "                        })                };                            </script>        </div>\n",
              "</body>\n",
              "</html>"
            ]
          },
          "metadata": {}
        }
      ]
    }
  ]
}