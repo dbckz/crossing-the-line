{
  "nbformat": 4,
  "nbformat_minor": 0,
  "metadata": {
    "colab": {
      "name": "classification_evaluation.ipynb",
      "provenance": [],
      "authorship_tag": "ABX9TyOHMRXvssZoDXiVMbYJOsgy",
      "include_colab_link": true
    },
    "kernelspec": {
      "name": "python3",
      "display_name": "Python 3"
    },
    "language_info": {
      "name": "python"
    }
  },
  "cells": [
    {
      "cell_type": "markdown",
      "metadata": {
        "id": "view-in-github",
        "colab_type": "text"
      },
      "source": [
        "<a href=\"https://colab.research.google.com/github/dbckz/crossing-the-line/blob/master/notebooks/classification_evaluation.ipynb\" target=\"_parent\"><img src=\"https://colab.research.google.com/assets/colab-badge.svg\" alt=\"Open In Colab\"/></a>"
      ]
    },
    {
      "cell_type": "markdown",
      "metadata": {
        "id": "U4FpZHYm2_H9"
      },
      "source": [
        "# Setup"
      ]
    },
    {
      "cell_type": "code",
      "metadata": {
        "id": "kmboEm0XBvq3"
      },
      "source": [
        "import pandas as pd\n",
        "from google.colab import drive\n",
        "import numpy as np\n",
        "import matplotlib.pyplot as plt\n",
        "import seaborn as sns"
      ],
      "execution_count": 1,
      "outputs": []
    },
    {
      "cell_type": "code",
      "metadata": {
        "colab": {
          "base_uri": "https://localhost:8080/"
        },
        "id": "upFTAVdNCEX-",
        "outputId": "f927f059-89a1-41c7-c347-78fcfeaa9c38"
      },
      "source": [
        "drive.mount('/content/drive')"
      ],
      "execution_count": 2,
      "outputs": [
        {
          "output_type": "stream",
          "name": "stdout",
          "text": [
            "Mounted at /content/drive\n"
          ]
        }
      ]
    },
    {
      "cell_type": "markdown",
      "metadata": {
        "id": "9SyEUIkC3Bez"
      },
      "source": [
        "# Old"
      ]
    },
    {
      "cell_type": "code",
      "metadata": {
        "id": "x1j-T8VABxft"
      },
      "source": [
        "hb_tweets = pd.read_csv(\"/content/drive/MyDrive/University/Dissertation/evaluation/tweets_hb.csv\")\n",
        "\n",
        "persp_tweets = pd.read_csv(\"/content/drive/MyDrive/University/Dissertation/evaluation/tweets_persp.csv\")"
      ],
      "execution_count": null,
      "outputs": []
    },
    {
      "cell_type": "code",
      "metadata": {
        "colab": {
          "base_uri": "https://localhost:8080/"
        },
        "id": "lWPte5jlEVct",
        "outputId": "7f7da0bd-78cd-4bae-cb3f-0bb855416f73"
      },
      "source": [
        "hb_tweets.info()"
      ],
      "execution_count": null,
      "outputs": [
        {
          "output_type": "stream",
          "text": [
            "<class 'pandas.core.frame.DataFrame'>\n",
            "RangeIndex: 4970 entries, 0 to 4969\n",
            "Data columns (total 2 columns):\n",
            " #   Column      Non-Null Count  Dtype \n",
            "---  ------      --------------  ----- \n",
            " 0   tweet_id    4970 non-null   int64 \n",
            " 1   tweet_text  4970 non-null   object\n",
            "dtypes: int64(1), object(1)\n",
            "memory usage: 77.8+ KB\n"
          ],
          "name": "stdout"
        }
      ]
    },
    {
      "cell_type": "code",
      "metadata": {
        "id": "rTSwbhL3EW3_",
        "colab": {
          "base_uri": "https://localhost:8080/"
        },
        "outputId": "5b2059a9-adc6-41c8-89ba-8a2fbd65b4fb"
      },
      "source": [
        "intersection.info()"
      ],
      "execution_count": null,
      "outputs": [
        {
          "output_type": "stream",
          "text": [
            "<class 'pandas.core.frame.DataFrame'>\n",
            "Int64Index: 240 entries, 0 to 239\n",
            "Data columns (total 2 columns):\n",
            " #   Column      Non-Null Count  Dtype \n",
            "---  ------      --------------  ----- \n",
            " 0   tweet_id    240 non-null    int64 \n",
            " 1   tweet_text  240 non-null    object\n",
            "dtypes: int64(1), object(1)\n",
            "memory usage: 5.6+ KB\n"
          ],
          "name": "stdout"
        }
      ]
    },
    {
      "cell_type": "code",
      "metadata": {
        "id": "wLbLQi0rCPlY"
      },
      "source": [
        "intersection = pd.merge(hb_tweets, persp_tweets, how='inner', on=['tweet_id', 'tweet_text'])"
      ],
      "execution_count": null,
      "outputs": []
    },
    {
      "cell_type": "code",
      "metadata": {
        "id": "flS0u31cD0E_"
      },
      "source": [
        "hb_sample = pd.concat([hb_tweets,intersection]).drop_duplicates(keep=False).sample(380)\n",
        "persp_sample = pd.concat([persp_tweets,intersection]).drop_duplicates(keep=False).sample(380)"
      ],
      "execution_count": null,
      "outputs": []
    },
    {
      "cell_type": "code",
      "metadata": {
        "id": "hzDUp1p7FOcC"
      },
      "source": [
        "final = pd.concat([hb_sample, persp_sample, intersection])"
      ],
      "execution_count": null,
      "outputs": []
    },
    {
      "cell_type": "code",
      "metadata": {
        "id": "K5R_CuU3FbLr"
      },
      "source": [
        "final.to_csv(\"/content/drive/MyDrive/University/Dissertation/evaluation/offensive.csv\", index=False)"
      ],
      "execution_count": null,
      "outputs": []
    },
    {
      "cell_type": "markdown",
      "metadata": {
        "id": "FLUIMkh-265x"
      },
      "source": [
        "# Redo"
      ]
    },
    {
      "cell_type": "code",
      "metadata": {
        "id": "6i-aHP933MMs"
      },
      "source": [
        "root_path = \"/content/drive/MyDrive/University/Dissertation/data_collection\""
      ],
      "execution_count": 3,
      "outputs": []
    },
    {
      "cell_type": "code",
      "metadata": {
        "id": "YCky6SAx26SX"
      },
      "source": [
        "persp_df = pd.read_csv(root_path + '/regression_tweets.csv',\n",
        "                      usecols = [\n",
        "                                  'tweet_id',\n",
        "                                  'tweet_text',\n",
        "                                  'persp_over_threshold'\n",
        "                      ])"
      ],
      "execution_count": 4,
      "outputs": []
    },
    {
      "cell_type": "code",
      "metadata": {
        "colab": {
          "base_uri": "https://localhost:8080/"
        },
        "id": "xYMlzoHt4LAp",
        "outputId": "a21bbcae-a29b-4a15-ce4b-8e0aa9a5cc5e"
      },
      "source": [
        "len(persp_df)"
      ],
      "execution_count": 5,
      "outputs": [
        {
          "output_type": "execute_result",
          "data": {
            "text/plain": [
              "1046319"
            ]
          },
          "metadata": {},
          "execution_count": 5
        }
      ]
    },
    {
      "cell_type": "code",
      "metadata": {
        "id": "dImZB97K3V7X"
      },
      "source": [
        "hb_df = pd.read_csv(root_path + '/regression_tweets_hb.csv',\n",
        "                      usecols = [\n",
        "                                  'tweet_id',\n",
        "                                  'tweet_text',\n",
        "                                  'contains_slurs'\n",
        "                      ])"
      ],
      "execution_count": 7,
      "outputs": []
    },
    {
      "cell_type": "code",
      "metadata": {
        "colab": {
          "base_uri": "https://localhost:8080/"
        },
        "id": "TKqoD8_15qKd",
        "outputId": "48504bab-177f-4f05-bcad-6a38160a7e7d"
      },
      "source": [
        "len(hb_df)"
      ],
      "execution_count": 8,
      "outputs": [
        {
          "output_type": "execute_result",
          "data": {
            "text/plain": [
              "1046319"
            ]
          },
          "metadata": {},
          "execution_count": 8
        }
      ]
    },
    {
      "cell_type": "code",
      "metadata": {
        "id": "7gyRibLd4FF4"
      },
      "source": [
        "persp_hateful = persp_df[persp_df['persp_over_threshold'] == True].sample(500)\n",
        "persp_not_hateful = persp_df[persp_df['persp_over_threshold'] == False].sample(500)"
      ],
      "execution_count": 9,
      "outputs": []
    },
    {
      "cell_type": "code",
      "metadata": {
        "id": "abYl0uzC43sk"
      },
      "source": [
        "hb_hateful = hb_df[hb_df['contains_slurs'] == True].sample(500)\n",
        "hb_not_hateful = hb_df[hb_df['contains_slurs'] == False].sample(500)"
      ],
      "execution_count": 10,
      "outputs": []
    },
    {
      "cell_type": "code",
      "metadata": {
        "id": "tkbfbi-r4oux"
      },
      "source": [
        "persp_hateful[['tweet_id', 'tweet_text']].to_csv(\"/content/drive/MyDrive/University/Dissertation/evaluation/persp_hateful.csv\", index=False)\n",
        "persp_not_hateful[['tweet_id', 'tweet_text']].to_csv(\"/content/drive/MyDrive/University/Dissertation/evaluation/persp_not_hateful.csv\", index=False)"
      ],
      "execution_count": 11,
      "outputs": []
    },
    {
      "cell_type": "code",
      "metadata": {
        "id": "e5O3iKV_5Axk"
      },
      "source": [
        "hb_hateful[['tweet_id', 'tweet_text']].to_csv(\"/content/drive/MyDrive/University/Dissertation/evaluation/hb_hateful.csv\", index=False)\n",
        "hb_not_hateful[['tweet_id', 'tweet_text']].to_csv(\"/content/drive/MyDrive/University/Dissertation/evaluation/hb_not_hateful.csv\", index=False)"
      ],
      "execution_count": 12,
      "outputs": []
    },
    {
      "cell_type": "code",
      "metadata": {
        "id": "vqIPz6ZVvbdK"
      },
      "source": [
        "# At this point, go manually evaluate"
      ],
      "execution_count": null,
      "outputs": []
    },
    {
      "cell_type": "markdown",
      "metadata": {
        "id": "wV7TlMuxvfdJ"
      },
      "source": [
        "# Confusion matrix"
      ]
    },
    {
      "cell_type": "code",
      "metadata": {
        "id": "TLroiNQuvjJm",
        "colab": {
          "base_uri": "https://localhost:8080/"
        },
        "outputId": "cbc86a04-bf94-40f6-af07-209897d6456d"
      },
      "source": [
        "persp_hateful_reviewed = pd.read_csv('/content/drive/MyDrive/University/Dissertation/evaluation/persp_hateful_reviewed.csv',\n",
        "                      usecols = [\n",
        "                                  'tweet_id',\n",
        "                                  'is_hateful_manual',\n",
        "                                  'tweet_text'\n",
        "                      ])\n",
        "\n",
        "persp_hateful_reviewed['is_hateful_manual'] = persp_hateful_reviewed['is_hateful_manual'].eq('Y')\n",
        "len(persp_hateful_reviewed)"
      ],
      "execution_count": 13,
      "outputs": [
        {
          "output_type": "execute_result",
          "data": {
            "text/plain": [
              "500"
            ]
          },
          "metadata": {},
          "execution_count": 13
        }
      ]
    },
    {
      "cell_type": "code",
      "metadata": {
        "id": "LJWSKtnSwXd1",
        "colab": {
          "base_uri": "https://localhost:8080/"
        },
        "outputId": "21cd37a5-15dc-46d5-999a-3dbc9c042c0c"
      },
      "source": [
        "persp_not_hateful_reviewed = pd.read_csv('/content/drive/MyDrive/University/Dissertation/evaluation/persp_not_hateful_reviewed.csv',\n",
        "                      usecols = [\n",
        "                                  'tweet_id',\n",
        "                                  'is_hateful_manual',\n",
        "                                  'tweet_text'\n",
        "                      ])\n",
        "\n",
        "persp_not_hateful_reviewed['is_hateful_manual'] = persp_not_hateful_reviewed['is_hateful_manual'].eq('Y')\n",
        "len(persp_not_hateful_reviewed)"
      ],
      "execution_count": 14,
      "outputs": [
        {
          "output_type": "execute_result",
          "data": {
            "text/plain": [
              "500"
            ]
          },
          "metadata": {},
          "execution_count": 14
        }
      ]
    },
    {
      "cell_type": "code",
      "metadata": {
        "id": "UPNrq4dGwf1m",
        "colab": {
          "base_uri": "https://localhost:8080/"
        },
        "outputId": "feb76dbb-48b4-47d5-f571-8eb5f400f504"
      },
      "source": [
        "hb_hateful_reviewed = pd.read_csv('/content/drive/MyDrive/University/Dissertation/evaluation/hb_hateful_reviewed.csv',\n",
        "                      usecols = [\n",
        "                                  'tweet_id',\n",
        "                                  'is_hateful_manual',\n",
        "                                  'tweet_text'\n",
        "                      ])\n",
        "\n",
        "hb_hateful_reviewed['is_hateful_manual'] = hb_hateful_reviewed['is_hateful_manual'].eq('Y')\n",
        "len(hb_hateful_reviewed)"
      ],
      "execution_count": 15,
      "outputs": [
        {
          "output_type": "execute_result",
          "data": {
            "text/plain": [
              "500"
            ]
          },
          "metadata": {},
          "execution_count": 15
        }
      ]
    },
    {
      "cell_type": "code",
      "metadata": {
        "id": "JCrYqbRJwnDF",
        "colab": {
          "base_uri": "https://localhost:8080/"
        },
        "outputId": "12b41cf8-ebd1-45a4-cc11-cbeabe2aabcc"
      },
      "source": [
        "hb_not_hateful_reviewed = pd.read_csv('/content/drive/MyDrive/University/Dissertation/evaluation/hb_not_hateful_reviewed.csv',\n",
        "                      usecols = [\n",
        "                                  'tweet_id',\n",
        "                                  'is_hateful_manual',\n",
        "                                  'tweet_text'\n",
        "                      ])\n",
        "\n",
        "hb_not_hateful_reviewed['is_hateful_manual'] = hb_not_hateful_reviewed['is_hateful_manual'].eq('Y')\n",
        "len(hb_not_hateful_reviewed)"
      ],
      "execution_count": 16,
      "outputs": [
        {
          "output_type": "execute_result",
          "data": {
            "text/plain": [
              "500"
            ]
          },
          "metadata": {},
          "execution_count": 16
        }
      ]
    },
    {
      "cell_type": "code",
      "metadata": {
        "id": "wNN_BRK2xeAF",
        "colab": {
          "base_uri": "https://localhost:8080/"
        },
        "outputId": "20665d5e-aa78-46e7-d4f5-502ad0712a8b"
      },
      "source": [
        "persp_tp = persp_hateful_reviewed['is_hateful_manual'][persp_hateful_reviewed['is_hateful_manual'] == True].count()\n",
        "persp_fp = persp_hateful_reviewed['is_hateful_manual'][persp_hateful_reviewed['is_hateful_manual'] == False].count()\n",
        "persp_tn = persp_not_hateful_reviewed['is_hateful_manual'][persp_not_hateful_reviewed['is_hateful_manual'] == False].count()\n",
        "persp_fn = persp_not_hateful_reviewed['is_hateful_manual'][persp_not_hateful_reviewed['is_hateful_manual'] == True].count()\n",
        "\n",
        "print(f\"Perspective True Positives: {persp_tp}\")\n",
        "print(f\"Perspective False Positives: {persp_fp}\")\n",
        "print(f\"Perspective True Negatives: {persp_tn}\")\n",
        "print(f\"Perspective False Negatives: {persp_fn}\")"
      ],
      "execution_count": 17,
      "outputs": [
        {
          "output_type": "stream",
          "name": "stdout",
          "text": [
            "Perspective True Positives: 357\n",
            "Perspective False Positives: 143\n",
            "Perspective True Negatives: 477\n",
            "Perspective False Negatives: 23\n"
          ]
        }
      ]
    },
    {
      "cell_type": "code",
      "metadata": {
        "id": "bczBOmM0zhQC",
        "colab": {
          "base_uri": "https://localhost:8080/"
        },
        "outputId": "978a9c64-25b6-4245-8a99-672362f9e4cf"
      },
      "source": [
        "hb_tp = hb_hateful_reviewed['is_hateful_manual'][hb_hateful_reviewed['is_hateful_manual'] == True].count()\n",
        "hb_fp = hb_hateful_reviewed['is_hateful_manual'][hb_hateful_reviewed['is_hateful_manual'] == False].count()\n",
        "hb_tn = hb_not_hateful_reviewed['is_hateful_manual'][hb_not_hateful_reviewed['is_hateful_manual'] == False].count()\n",
        "hb_fn = hb_not_hateful_reviewed['is_hateful_manual'][hb_not_hateful_reviewed['is_hateful_manual'] == True].count()\n",
        "\n",
        "\n",
        "print(f\"Hatebase True Positives: {hb_tp}\")\n",
        "print(f\"Hatebase False Positives: {hb_fp}\")\n",
        "print(f\"Hatebase True Negatives: {hb_tn}\")\n",
        "print(f\"Hatebase False Negatives: {hb_fn}\")\n"
      ],
      "execution_count": 18,
      "outputs": [
        {
          "output_type": "stream",
          "name": "stdout",
          "text": [
            "Hatebase True Positives: 187\n",
            "Hatebase False Positives: 313\n",
            "Hatebase True Negatives: 468\n",
            "Hatebase False Negatives: 32\n"
          ]
        }
      ]
    },
    {
      "cell_type": "code",
      "metadata": {
        "id": "9YB6f7d83iQW"
      },
      "source": [
        "def make_confusion_matrix(cf,\n",
        "                          group_names=None,\n",
        "                          categories='auto',\n",
        "                          count=True,\n",
        "                          percent=True,\n",
        "                          cbar=True,\n",
        "                          xyticks=True,\n",
        "                          xyplotlabels=True,\n",
        "                          sum_stats=True,\n",
        "                          figsize=None,\n",
        "                          cmap='Blues',\n",
        "                          title=None,\n",
        "                          save_path=None):\n",
        "    '''\n",
        "    This function will make a pretty plot of an sklearn Confusion Matrix cm using a Seaborn heatmap visualization.\n",
        "    Arguments\n",
        "    ---------\n",
        "    cf:            confusion matrix to be passed in\n",
        "    group_names:   List of strings that represent the labels row by row to be shown in each square.\n",
        "    categories:    List of strings containing the categories to be displayed on the x,y axis. Default is 'auto'\n",
        "    count:         If True, show the raw number in the confusion matrix. Default is True.\n",
        "    normalize:     If True, show the proportions for each category. Default is True.\n",
        "    cbar:          If True, show the color bar. The cbar values are based off the values in the confusion matrix.\n",
        "                   Default is True.\n",
        "    xyticks:       If True, show x and y ticks. Default is True.\n",
        "    xyplotlabels:  If True, show 'True Label' and 'Predicted Label' on the figure. Default is True.\n",
        "    sum_stats:     If True, display summary statistics below the figure. Default is True.\n",
        "    figsize:       Tuple representing the figure size. Default will be the matplotlib rcParams value.\n",
        "    cmap:          Colormap of the values displayed from matplotlib.pyplot.cm. Default is 'Blues'\n",
        "                   See http://matplotlib.org/examples/color/colormaps_reference.html\n",
        "                   \n",
        "    title:         Title for the heatmap. Default is None.\n",
        "    '''\n",
        "\n",
        "\n",
        "    # CODE TO GENERATE TEXT INSIDE EACH SQUARE\n",
        "    blanks = ['' for i in range(cf.size)]\n",
        "\n",
        "    if group_names and len(group_names)==cf.size:\n",
        "        group_labels = [\"{}\\n\".format(value) for value in group_names]\n",
        "    else:\n",
        "        group_labels = blanks\n",
        "\n",
        "    if count:\n",
        "        group_counts = [\"{0:0.0f}\\n\".format(value) for value in cf.flatten()]\n",
        "    else:\n",
        "        group_counts = blanks\n",
        "\n",
        "    if percent:\n",
        "        group_percentages = [\"{0:.2%}\".format(value) for value in cf.flatten()/np.sum(cf)]\n",
        "    else:\n",
        "        group_percentages = blanks\n",
        "\n",
        "    box_labels = [f\"{v1}{v2}{v3}\".strip() for v1, v2, v3 in zip(group_labels,group_counts,group_percentages)]\n",
        "    box_labels = np.asarray(box_labels).reshape(cf.shape[0],cf.shape[1])\n",
        "\n",
        "\n",
        "    # CODE TO GENERATE SUMMARY STATISTICS & TEXT FOR SUMMARY STATS\n",
        "    if sum_stats:\n",
        "        #Accuracy is sum of diagonal divided by total observations\n",
        "        accuracy  = np.trace(cf) / float(np.sum(cf))\n",
        "\n",
        "        #if it is a binary confusion matrix, show some more stats\n",
        "        if len(cf)==2:\n",
        "            #Metrics for Binary Confusion Matrices\n",
        "            precision = cf[1,1] / sum(cf[:,1])\n",
        "            recall    = cf[1,1] / sum(cf[1,:])\n",
        "            f1_score  = 2*precision*recall / (precision + recall)\n",
        "            stats_text = \"\\n\\nAccuracy={:0.3f}\\nPrecision={:0.3f}\\nRecall={:0.3f}\\nF1 Score={:0.3f}\".format(\n",
        "                accuracy,precision,recall,f1_score)\n",
        "        else:\n",
        "            stats_text = \"\\n\\nAccuracy={:0.3f}\".format(accuracy)\n",
        "    else:\n",
        "        stats_text = \"\"\n",
        "\n",
        "\n",
        "    # SET FIGURE PARAMETERS ACCORDING TO OTHER ARGUMENTS\n",
        "    if figsize==None:\n",
        "        #Get default figure size if not set\n",
        "        figsize = plt.rcParams.get('figure.figsize')\n",
        "\n",
        "    if xyticks==False:\n",
        "        #Do not show categories if xyticks is False\n",
        "        categories=False\n",
        "\n",
        "    plt.rcParams.update({'font.size': 16})\n",
        "\n",
        "\n",
        "    # MAKE THE HEATMAP VISUALIZATION\n",
        "    plt.figure(figsize=figsize)\n",
        "    g = sns.heatmap(cf,annot=box_labels,fmt=\"\",cmap=cmap,cbar=cbar,xticklabels=categories,yticklabels=categories)\n",
        "    g.set_yticklabels(labels=g.get_yticklabels(), va='center')\n",
        "\n",
        "    if xyplotlabels:\n",
        "        plt.ylabel('True label')\n",
        "        plt.xlabel('Predicted label' + stats_text)\n",
        "    else:\n",
        "        plt.xlabel(stats_text)\n",
        "    \n",
        "    if title:\n",
        "        plt.title(title)\n",
        "\n",
        "    if save_path != None:\n",
        "        plt.savefig(save_path, )"
      ],
      "execution_count": 26,
      "outputs": []
    },
    {
      "cell_type": "code",
      "metadata": {
        "id": "XDB6GcIy3mTa",
        "colab": {
          "base_uri": "https://localhost:8080/",
          "height": 615
        },
        "outputId": "62031070-5134-4c8b-d8b7-870412c73216"
      },
      "source": [
        "persp_cf = np.array([[persp_tn, persp_fp],\n",
        "               [persp_fn, persp_tp]])\n",
        "labels = ['True Neg','False Pos','False Neg','True Pos']\n",
        "categories = ['Not hateful', 'Hateful']\n",
        "make_confusion_matrix(persp_cf, \n",
        "                      group_names=labels,\n",
        "                      categories=categories, \n",
        "                      cmap='Blues',\n",
        "                      title=\"Perspective confusion matrix\",\n",
        "                      figsize=[12.0, 8.0],\n",
        "                      save_path=\"/content/drive/MyDrive/University/Dissertation/images/perspective_confusion_matrix.png\"\n",
        "                      )"
      ],
      "execution_count": 27,
      "outputs": [
        {
          "output_type": "display_data",
          "data": {
            "image/png": "[encoded data removed]",
            "text/plain": [
              "<Figure size 864x576 with 2 Axes>"
            ]
          },
          "metadata": {
            "needs_background": "light"
          }
        }
      ]
    },
    {
      "cell_type": "code",
      "metadata": {
        "id": "TcRfhIsq83dn",
        "colab": {
          "base_uri": "https://localhost:8080/",
          "height": 615
        },
        "outputId": "34ac2021-93f2-484f-8a8b-cb53be11ab4e"
      },
      "source": [
        "hb_cf = np.array([[hb_tn, hb_fp],\n",
        "               [hb_fn, hb_tp]])\n",
        "labels = ['True Neg','False Pos','False Neg','True Pos']\n",
        "categories = ['Not hateful', 'Hateful']\n",
        "make_confusion_matrix(hb_cf, \n",
        "                      group_names=labels,\n",
        "                      categories=categories, \n",
        "                      cmap='Blues',\n",
        "                      title=\"Hatebase confusion matrix\",\n",
        "                      figsize=[12.0, 8.0],\n",
        "                      save_path=\"/content/drive/MyDrive/University/Dissertation/images/hatebase_confusion_matrix.png\"\n",
        "                      )"
      ],
      "execution_count": 21,
      "outputs": [
        {
          "output_type": "display_data",
          "data": {
            "image/png": "[encoded data removed]",
            "text/plain": [
              "<Figure size 864x576 with 2 Axes>"
            ]
          },
          "metadata": {
            "needs_background": "light"
          }
        }
      ]
    }
  ]
}