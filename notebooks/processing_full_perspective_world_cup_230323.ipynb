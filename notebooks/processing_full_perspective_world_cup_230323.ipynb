{
  "nbformat": 4,
  "nbformat_minor": 0,
  "metadata": {
    "colab": {
      "name": "processing_full_perspective_world_cup.ipynb",
      "provenance": [],
      "include_colab_link": true
    },
    "kernelspec": {
      "name": "python3",
      "display_name": "Python 3"
    },
    "language_info": {
      "name": "python"
    }
  },
  "cells": [
    {
      "cell_type": "markdown",
      "metadata": {
        "id": "view-in-github",
        "colab_type": "text"
      },
      "source": [
        "<a href=\"https://colab.research.google.com/github/dbckz/crossing-the-line/blob/master/notebooks/processing_full_perspective_world_cup_230323.ipynb\" target=\"_parent\"><img src=\"https://colab.research.google.com/assets/colab-badge.svg\" alt=\"Open In Colab\"/></a>"
      ]
    },
    {
      "cell_type": "markdown",
      "metadata": {
        "id": "GRM6N6JuZFfF"
      },
      "source": [
        "# Setup"
      ]
    },
    {
      "cell_type": "code",
      "metadata": {
        "id": "y7d3z3-jBIwQ"
      },
      "source": [
        "import pandas as pd\n",
        "import ast\n",
        "import os\n",
        "import numpy as np\n",
        "import matplotlib.pyplot as plt\n",
        "from wordcloud import WordCloud\n",
        "from tqdm import tqdm\n",
        "from google.colab import drive\n",
        "import plotly.graph_objects as go"
      ],
      "execution_count": 1,
      "outputs": []
    },
    {
      "cell_type": "code",
      "metadata": {
        "colab": {
          "base_uri": "https://localhost:8080/"
        },
        "id": "ijZC6v-VBaZK",
        "outputId": "297b6778-b577-4e59-de07-158bae7900f0"
      },
      "source": [
        "drive.mount('/content/drive')"
      ],
      "execution_count": 2,
      "outputs": [
        {
          "output_type": "stream",
          "name": "stdout",
          "text": [
            "Mounted at /content/drive\n"
          ]
        }
      ]
    },
    {
      "cell_type": "code",
      "metadata": {
        "id": "3bU3fWqpBfuw"
      },
      "source": [
        "# Set up paths\n",
        "root_path = \"/content/drive/MyDrive/University/Dissertation/world_cup_data\"\n",
        "graph_path = root_path + \"/graphs\"\n",
        "\n",
        "day_paths = day_paths = [\n",
        "        \"/1\",\n",
        "        \"/2\",\n",
        "        \"/291122\",\n",
        "        \"/301122\",\n",
        "        \"/011222\",\n",
        "        \"/021222\",\n",
        "        \"/031222\",\n",
        "        \"/041222\",\n",
        "        \"/051222\",\n",
        "        \"/061222\",\n",
        "        \"/071222\",\n",
        "        \"/081222\",\n",
        "        \"/091222\",\n",
        "        \"/101222\",\n",
        "        \"/111222\",\n",
        "        \"/121222\",\n",
        "        \"/131222\",\n",
        "        \"/141222\",\n",
        "        \"/151222\",\n",
        "        \"/161222\",\n",
        "        \"/171222\",\n",
        "        \"/181222\",\n",
        "        \"/191222\"\n",
        "    ]"
      ],
      "execution_count": 3,
      "outputs": []
    },
    {
      "cell_type": "code",
      "metadata": {
        "id": "8cLTHniaBmpb",
        "outputId": "2ca3f41c-d37c-470b-c169-d7f2569e8139",
        "colab": {
          "base_uri": "https://localhost:8080/"
        }
      },
      "source": [
        "# Create directory to store visualisations\n",
        "try:\n",
        "    os.mkdir(graph_path)\n",
        "except OSError as error:\n",
        "    print(error)"
      ],
      "execution_count": 4,
      "outputs": [
        {
          "output_type": "stream",
          "name": "stdout",
          "text": [
            "[Errno 17] File exists: '/content/drive/MyDrive/University/Dissertation/world_cup_data/graphs'\n"
          ]
        }
      ]
    },
    {
      "cell_type": "code",
      "metadata": {
        "colab": {
          "base_uri": "https://localhost:8080/"
        },
        "id": "VqtIrThfBpAQ",
        "outputId": "d05ea2db-297e-4819-9fbe-d1b7524eca8b"
      },
      "source": [
        "# Load data\n",
        "in_tweets = pd.DataFrame()\n",
        "persp = pd.DataFrame()\n",
        "emojis = pd.DataFrame()\n",
        "for path in day_paths:\n",
        "    directory = root_path + path\n",
        "    tweets_csv = directory + \"/tweets.csv\"\n",
        "    persp_csv = directory + \"/perspective_processed_tweets.csv\"\n",
        "    emojis_csv = directory + \"/emoji.csv\"\n",
        "\n",
        "    print(f\"Loading CSVs for directory {path}...\")\n",
        "    in_tweets = pd.concat([in_tweets, \n",
        "                           pd.read_csv(tweets_csv,\n",
        "                                       usecols = [\n",
        "                                                  'created_at',\n",
        "                                                  'tweet_id',\n",
        "                                                  'tweet_text',\n",
        "                                                  'accounts_mentioned'\n",
        "                                       ],\n",
        "                                       dtype = {\n",
        "                                          # 'created_at':\n",
        "                                          'tweet_id': np.int64,\n",
        "                                          'tweet_text': str,\n",
        "                                          'accounts_mentioned': object\n",
        "                                       },\n",
        "                                       parse_dates=['created_at'])])\n",
        "\n",
        "    persp = pd.concat([persp, pd.read_csv(persp_csv,\n",
        "                                          usecols = [\n",
        "                                                      'tweet_id',\n",
        "                                                      'identity_attack_score',\n",
        "                                                      'threat_score',\n",
        "                                                      'severe_toxicity_score',\n",
        "                                                      'insult_score'\n",
        "                                                      \n",
        "                                          ],\n",
        "                                          dtype = {\n",
        "                                              'tweet_id': np.int64,\n",
        "                                              'identity_attack_score': float,\n",
        "                                              'threat_score': float,\n",
        "                                              'severe_toxicity_score': float,\n",
        "                                              'insult_score': float\n",
        "                                          })])\n",
        "\n",
        "# Dedup\n",
        "original_tweets_length = len(in_tweets)\n",
        "original_persp_length = len(persp)\n",
        "in_tweets.drop_duplicates(subset=['tweet_id'], inplace=True)\n",
        "persp.drop_duplicates(subset=['tweet_id'], inplace=True)\n",
        "print(f\"Size of tweets dataframe: {len(in_tweets)}, having dropped {original_tweets_length - len(in_tweets)} duplicate rows\")\n",
        "print(f\"Size of perspective dataframe: {len(persp)}, having dropped {original_persp_length - len(persp)} duplicate rows\")\n"
      ],
      "execution_count": 5,
      "outputs": [
        {
          "output_type": "stream",
          "name": "stdout",
          "text": [
            "Loading CSVs for directory /1...\n",
            "Loading CSVs for directory /2...\n",
            "Loading CSVs for directory /291122...\n",
            "Loading CSVs for directory /301122...\n",
            "Loading CSVs for directory /011222...\n",
            "Loading CSVs for directory /021222...\n",
            "Loading CSVs for directory /031222...\n",
            "Loading CSVs for directory /041222...\n",
            "Loading CSVs for directory /051222...\n",
            "Loading CSVs for directory /061222...\n",
            "Loading CSVs for directory /071222...\n",
            "Loading CSVs for directory /081222...\n",
            "Loading CSVs for directory /091222...\n",
            "Loading CSVs for directory /101222...\n",
            "Loading CSVs for directory /111222...\n",
            "Loading CSVs for directory /121222...\n",
            "Loading CSVs for directory /131222...\n",
            "Loading CSVs for directory /141222...\n",
            "Loading CSVs for directory /151222...\n",
            "Loading CSVs for directory /161222...\n",
            "Loading CSVs for directory /171222...\n",
            "Loading CSVs for directory /181222...\n",
            "Loading CSVs for directory /191222...\n",
            "Size of tweets dataframe: 347242, having dropped 7805 duplicate rows\n",
            "Size of perspective dataframe: 347242, having dropped 7828 duplicate rows\n"
          ]
        }
      ]
    },
    {
      "cell_type": "code",
      "metadata": {
        "id": "sAADH49yDUaO"
      },
      "source": [
        "# Up the pandas display limits so printed dataframes aren't so truncated\n",
        "pd.set_option('display.max_rows', 100)\n",
        "pd.set_option('display.max_columns', 100)\n",
        "pd.set_option('display.width', None)\n",
        "pd.set_option('display.max_colwidth', None)\n",
        "pd.set_option('display.max_info_rows', 100)\n",
        "pd.set_option('display.max_info_columns', 100)\n",
        "pd.set_option('display.precision', 9)"
      ],
      "execution_count": 6,
      "outputs": []
    },
    {
      "cell_type": "code",
      "metadata": {
        "id": "rK6fN3eADf1j",
        "colab": {
          "base_uri": "https://localhost:8080/"
        },
        "outputId": "364c8daa-97ed-40a4-e0d7-0e3e446b6957"
      },
      "source": [
        "# Join tables + drop old ones!\n",
        "joined_df = pd.merge(in_tweets, persp, how='inner', on='tweet_id')\n",
        "del persp\n",
        "del in_tweets\n",
        "len(joined_df)"
      ],
      "execution_count": 7,
      "outputs": [
        {
          "output_type": "execute_result",
          "data": {
            "text/plain": [
              "347242"
            ]
          },
          "metadata": {},
          "execution_count": 7
        }
      ]
    },
    {
      "cell_type": "code",
      "metadata": {
        "colab": {
          "base_uri": "https://localhost:8080/"
        },
        "id": "ojO6vp-FDQpg",
        "outputId": "76eb305f-2c37-4284-adee-3a099f2cae25"
      },
      "source": [
        "joined_df = joined_df[(joined_df['created_at'] > '2022-11-28 00:00:00+00:00') & (joined_df['created_at'] < '2022-12-16 00:00:00+00:00')]\n",
        "len(joined_df)"
      ],
      "execution_count": 8,
      "outputs": [
        {
          "output_type": "execute_result",
          "data": {
            "text/plain": [
              "190639"
            ]
          },
          "metadata": {},
          "execution_count": 8
        }
      ]
    },
    {
      "cell_type": "markdown",
      "metadata": {
        "id": "sAs12WDWZLmm"
      },
      "source": [
        "# Analysis"
      ]
    },
    {
      "cell_type": "code",
      "metadata": {
        "colab": {
          "base_uri": "https://localhost:8080/"
        },
        "id": "TxuKH69TGNW7",
        "outputId": "26cea471-fee9-4d0b-8a4f-d0ccd3f5f9a6"
      },
      "source": [
        "print(f\"Number of tweets that Perspective could not process: {len(joined_df[joined_df['identity_attack_score'] == -1.0])}\") # might need to do this later..."
      ],
      "execution_count": 9,
      "outputs": [
        {
          "output_type": "stream",
          "name": "stdout",
          "text": [
            "Number of tweets that Perspective could not process: 8140\n"
          ]
        }
      ]
    },
    {
      "cell_type": "code",
      "metadata": {
        "colab": {
          "base_uri": "https://localhost:8080/"
        },
        "id": "Y8AlxdbJJnmN",
        "outputId": "69e6a174-255a-4d5d-cebd-0c24eadb75fb"
      },
      "source": [
        "# Extract players\n",
        "list_of_players = [\"JPickford1\", \"kylewalker2\", \"LukeShaw23\", \"_DeclanRice\",\n",
        "                   \"HarryMaguire93\", \"JackGrealish\", \"JHenderson\", \"HKane\", \n",
        "                   \"sterling7\", \"MarcusRashford\", \"trippier2\",\n",
        "                   \"PhilFoden\", \"ben6white\", \"BukayoSaka87\", \"BellinghamJude\", \n",
        "                   \"Popey1992\", \"AaronRamsdale98\", \"CallumWilson\", \"TrentAA\", \n",
        "                   \"Madders10\", \"ericdier\", \"Kalvinphillips\"]\n",
        "\n",
        "\n",
        "for player in list_of_players:\n",
        "    print(f\"Extracting {player}...\")\n",
        "    joined_df[player] = joined_df['accounts_mentioned'].str.contains(f\"'username': '{player}'\").astype(bool)\n",
        "\n"
      ],
      "execution_count": 10,
      "outputs": [
        {
          "output_type": "stream",
          "name": "stdout",
          "text": [
            "Extracting JPickford1...\n",
            "Extracting kylewalker2...\n",
            "Extracting LukeShaw23...\n",
            "Extracting _DeclanRice...\n",
            "Extracting HarryMaguire93...\n",
            "Extracting JackGrealish...\n",
            "Extracting JHenderson...\n",
            "Extracting HKane...\n",
            "Extracting sterling7...\n",
            "Extracting MarcusRashford...\n",
            "Extracting trippier2...\n",
            "Extracting PhilFoden...\n",
            "Extracting ben6white...\n",
            "Extracting BukayoSaka87...\n",
            "Extracting BellinghamJude...\n",
            "Extracting Popey1992...\n",
            "Extracting AaronRamsdale98...\n",
            "Extracting CallumWilson...\n",
            "Extracting TrentAA...\n",
            "Extracting Madders10...\n",
            "Extracting ericdier...\n",
            "Extracting Kalvinphillips...\n"
          ]
        }
      ]
    },
    {
      "cell_type": "code",
      "metadata": {
        "id": "5yNOnyw_OBy7"
      },
      "source": [
        "joined_df = joined_df[\n",
        "    (joined_df[\"JPickford1\"]) |\n",
        "    (joined_df[\"kylewalker2\"]) |\n",
        "    (joined_df[\"LukeShaw23\"]) |\n",
        "    (joined_df[\"_DeclanRice\"]) |\n",
        "    (joined_df[\"HarryMaguire93\"]) |\n",
        "    (joined_df[\"JackGrealish\"]) |\n",
        "    (joined_df[\"JHenderson\"]) |\n",
        "    (joined_df[\"HKane\"]) |\n",
        "    (joined_df[\"sterling7\"]) |\n",
        "    (joined_df[\"MarcusRashford\"]) |\n",
        "    (joined_df[\"trippier2\"]) |\n",
        "    (joined_df[\"Kalvinphillips\"]) |\n",
        "    (joined_df[\"PhilFoden\"]) |\n",
        "    (joined_df[\"ben6white\"]) |\n",
        "    (joined_df[\"Popey1992\"]) |\n",
        "    (joined_df[\"AaronRamsdale98\"]) |\n",
        "    (joined_df[\"CallumWilson\"]) |\n",
        "    (joined_df[\"TrentAA\"]) |\n",
        "    (joined_df[\"Madders10\"]) |\n",
        "    (joined_df[\"ericdier\"]) |\n",
        "    (joined_df[\"BukayoSaka87\"]) |\n",
        "    (joined_df[\"BellinghamJude\"])\n",
        "    ]"
      ],
      "execution_count": 11,
      "outputs": []
    },
    {
      "cell_type": "code",
      "metadata": {
        "id": "bLHkByk1WKgR",
        "outputId": "8a93f32d-6e84-4cfb-9248-3df88c5900eb",
        "colab": {
          "base_uri": "https://localhost:8080/"
        }
      },
      "source": [
        "print(len(joined_df))"
      ],
      "execution_count": 12,
      "outputs": [
        {
          "output_type": "stream",
          "name": "stdout",
          "text": [
            "179779\n"
          ]
        }
      ]
    },
    {
      "cell_type": "code",
      "metadata": {
        "colab": {
          "base_uri": "https://localhost:8080/",
          "height": 299
        },
        "id": "wdPYQAylLDTW",
        "outputId": "fd08eea2-280f-41a9-8bc2-9a43f80369b3"
      },
      "source": [
        "joined_df[joined_df['identity_attack_score'] != -1.0].hist(column = 'identity_attack_score', bins=50)"
      ],
      "execution_count": 13,
      "outputs": [
        {
          "output_type": "execute_result",
          "data": {
            "text/plain": [
              "array([[<Axes: title={'center': 'identity_attack_score'}>]], dtype=object)"
            ]
          },
          "metadata": {},
          "execution_count": 13
        },
        {
          "output_type": "display_data",
          "data": {
            "text/plain": [
              "<Figure size 432x288 with 1 Axes>"
            ],
            "image/png": "[encoded data removed]"
          },
          "metadata": {
            "needs_background": "light"
          }
        }
      ]
    },
    {
      "cell_type": "code",
      "metadata": {
        "colab": {
          "base_uri": "https://localhost:8080/",
          "height": 299
        },
        "id": "HHXBIGQ4MnaZ",
        "outputId": "2e8010de-627d-4f8f-cc20-b5bf4c3d1053"
      },
      "source": [
        "joined_df[joined_df['threat_score'] != -1.0].hist(column = 'threat_score', bins=50)"
      ],
      "execution_count": 14,
      "outputs": [
        {
          "output_type": "execute_result",
          "data": {
            "text/plain": [
              "array([[<Axes: title={'center': 'threat_score'}>]], dtype=object)"
            ]
          },
          "metadata": {},
          "execution_count": 14
        },
        {
          "output_type": "display_data",
          "data": {
            "text/plain": [
              "<Figure size 432x288 with 1 Axes>"
            ],
            "image/png": "[encoded data removed]"
          },
          "metadata": {
            "needs_background": "light"
          }
        }
      ]
    },
    {
      "cell_type": "code",
      "metadata": {
        "colab": {
          "base_uri": "https://localhost:8080/",
          "height": 299
        },
        "id": "xY1yeK4XMpii",
        "outputId": "30b01677-a6bf-4e08-f2e9-59e2fb59dbff"
      },
      "source": [
        "joined_df[joined_df['severe_toxicity_score'] != -1.0].hist(column = 'severe_toxicity_score', bins=50)"
      ],
      "execution_count": 15,
      "outputs": [
        {
          "output_type": "execute_result",
          "data": {
            "text/plain": [
              "array([[<Axes: title={'center': 'severe_toxicity_score'}>]], dtype=object)"
            ]
          },
          "metadata": {},
          "execution_count": 15
        },
        {
          "output_type": "display_data",
          "data": {
            "text/plain": [
              "<Figure size 432x288 with 1 Axes>"
            ],
            "image/png": "[encoded data removed]"
          },
          "metadata": {
            "needs_background": "light"
          }
        }
      ]
    },
    {
      "cell_type": "code",
      "metadata": {
        "colab": {
          "base_uri": "https://localhost:8080/",
          "height": 299
        },
        "id": "a7bcngTYMr9W",
        "outputId": "1387bb54-a34c-4ad0-8d8f-4cbee96f648b"
      },
      "source": [
        "joined_df[joined_df['insult_score'] != -1.0].hist(column = 'insult_score', bins=50)"
      ],
      "execution_count": 16,
      "outputs": [
        {
          "output_type": "execute_result",
          "data": {
            "text/plain": [
              "array([[<Axes: title={'center': 'insult_score'}>]], dtype=object)"
            ]
          },
          "metadata": {},
          "execution_count": 16
        },
        {
          "output_type": "display_data",
          "data": {
            "text/plain": [
              "<Figure size 432x288 with 1 Axes>"
            ],
            "image/png": "[encoded data removed]"
          },
          "metadata": {
            "needs_background": "light"
          }
        }
      ]
    },
    {
      "cell_type": "code",
      "metadata": {
        "colab": {
          "base_uri": "https://localhost:8080/"
        },
        "id": "h0KjAXuqL1WK",
        "outputId": "97dbc262-cc03-477f-cbfe-2bf7a179927e"
      },
      "source": [
        "len_total = len(joined_df)\n",
        "threshold = 0.5\n",
        "\n",
        "tmp = pd.merge(joined_df[joined_df['identity_attack_score'] > 0.9], joined_df[joined_df['threat_score'] > 0.9], how='outer', on='tweet_id')\n",
        "tmp = pd.merge(tmp, joined_df[joined_df['severe_toxicity_score'] > 0.9], how='outer', on='tweet_id')\n",
        "# tmp = pd.merge(tmp, joined_df[joined_df['insult_score'] > 0.9], how='outer', on='tweet_id')\n",
        "len_90 = len(tmp)\n",
        "print(f\"Tweets with scores > 0.9: {len_90}, which is {(100 * (len_90 / len_total)):.2f}% of all tweets\")\n",
        "\n",
        "tmp = pd.merge(joined_df[joined_df['identity_attack_score'] > 0.8], joined_df[joined_df['threat_score'] > 0.8], how='outer', on='tweet_id')\n",
        "tmp = pd.merge(tmp, joined_df[joined_df['severe_toxicity_score'] > 0.8], how='outer', on='tweet_id')\n",
        "# tmp = pd.merge(tmp, joined_df[joined_df['insult_score'] > 0.8], how='outer', on='tweet_id')\n",
        "len_80 = len(tmp)\n",
        "print(f\"Tweets with scores > 0.8: {len_80}, which is {(100 * (len_80 / len_total)):.2f}% of all tweets\")\n",
        "\n",
        "tmp = pd.merge(joined_df[joined_df['identity_attack_score'] > 0.7], joined_df[joined_df['threat_score'] > 0.7], how='outer', on='tweet_id')\n",
        "tmp = pd.merge(tmp, joined_df[joined_df['severe_toxicity_score'] > 0.7], how='outer', on='tweet_id')\n",
        "# tmp = pd.merge(tmp, joined_df[joined_df['insult_score'] > 0.7], how='outer', on='tweet_id')\n",
        "len_70 = len(tmp)\n",
        "print(f\"Tweets with scores > 0.7: {len_70}, which is {(100 * (len_70 / len_total)):.2f}% of all tweets\")\n",
        "\n",
        "tmp = pd.merge(joined_df[joined_df['identity_attack_score'] > 0.6], joined_df[joined_df['threat_score'] > 0.6], how='outer', on='tweet_id')\n",
        "tmp = pd.merge(tmp, joined_df[joined_df['severe_toxicity_score'] > 0.6], how='outer', on='tweet_id')\n",
        "# tmp = pd.merge(tmp, joined_df[joined_df['insult_score'] > 0.6], how='outer', on='tweet_id')\n",
        "len_60 = len(tmp)\n",
        "print(f\"Tweets with scores > 0.6: {len_60}, which is {(100 * (len_60 / len_total)):.2f}% of all tweets\")\n",
        "\n",
        "tmp = pd.merge(joined_df[joined_df['identity_attack_score'] > 0.5], joined_df[joined_df['threat_score'] > 0.5], how='outer', on='tweet_id')\n",
        "tmp = pd.merge(tmp, joined_df[joined_df['severe_toxicity_score'] > 0.5], how='outer', on='tweet_id')\n",
        "# tmp = pd.merge(tmp, joined_df[joined_df['insult_score'] > 0.5], how='outer', on='tweet_id')\n",
        "len_50 = len(tmp)\n",
        "print(f\"Tweets with scores > 0.5: {len_50}, which is {(100 * (len_50 / len_total)):.2f}% of all tweets\")\n",
        "\n",
        "joined_df['persp_over_threshold'] = (joined_df['identity_attack_score'] > threshold) | (joined_df['threat_score'] > threshold) | (joined_df['severe_toxicity_score'] > threshold)\n",
        "                                                                                 \n",
        "del tmp\n"
      ],
      "execution_count": 17,
      "outputs": [
        {
          "output_type": "stream",
          "name": "stdout",
          "text": [
            "Tweets with scores > 0.9: 0, which is 0.00% of all tweets\n",
            "Tweets with scores > 0.8: 6, which is 0.00% of all tweets\n",
            "Tweets with scores > 0.7: 50, which is 0.03% of all tweets\n",
            "Tweets with scores > 0.6: 461, which is 0.26% of all tweets\n",
            "Tweets with scores > 0.5: 1751, which is 0.97% of all tweets\n"
          ]
        }
      ]
    },
    {
      "cell_type": "code",
      "metadata": {
        "id": "ZCcBwcHYOdFN"
      },
      "source": [
        "# Maybe we don't need these cols and we can just calculate ad-hoc?\n",
        "for player in list_of_players:\n",
        "    joined_df[f'{player}_offensive'] = joined_df['persp_over_threshold'] & joined_df[player]"
      ],
      "execution_count": 18,
      "outputs": []
    },
    {
      "cell_type": "code",
      "metadata": {
        "id": "WoFR9CYoOniq"
      },
      "source": [
        "player_offensive_tweet_map = pd.DataFrame(columns=[\"username\",\n",
        "                                                   \"tweets_received\",\n",
        "                                                   \"offensive_tweets_received\",\n",
        "                                                   \"percentage_offensive\"\n",
        "                                                   ])\n",
        "\n",
        "i = 0\n",
        "for player in list_of_players:\n",
        "    off_tweets = joined_df[player + '_offensive'].sum()\n",
        "    tweets = joined_df[player].sum()\n",
        "    percentage = 100 * (off_tweets / tweets)\n",
        "    player_offensive_tweet_map.loc[i] = player, tweets, off_tweets, percentage\n",
        "    i += 1"
      ],
      "execution_count": 19,
      "outputs": []
    },
    {
      "cell_type": "code",
      "source": [
        "name_map = {\n",
        "    \"JPickford1\": \"Jordan Pickford\",\n",
        "    \"Popey1992\": \"Nick Pope\",\n",
        "    \"kylewalker2\": \"Kyle Walker\",\n",
        "    \"Kalvinphillips\": \"Kalvin Phillips\",\n",
        "    \"ben6white\": \"Benjamin White\",\n",
        "    \"ericdier\": \"Eric Dier\",\n",
        "    \"trippier2\": \"Kieran Trippier\",\n",
        "    \"TrentAA\": \"Trent Alexander-Arnold\",\n",
        "    \"AaronRamsdale98\": \"Aaron Ramsdale\",\n",
        "    \"JHenderson\": \"Jordan Henderson\",\n",
        "    \"PhilFoden\": \"Phil Foden\",\n",
        "    \"CallumWilson\": \"Callum Wilson\",\n",
        "    \"sterling7\": \"Raheem Sterling\",\n",
        "    \"LukeShaw23\": \"Luke Shaw\",\n",
        "    \"_DeclanRice\": \"Declan Rice\",\n",
        "    \"Madders10\": \"James Maddison\",\n",
        "    \"BellinghamJude\": \"Jude Bellingham\",\n",
        "    \"JackGrealish\": \"Jack Grealish\",\n",
        "    \"HarryMaguire93\": \"Harry Maguire\",\n",
        "    \"MarcusRashford\": \"Marcus Rashford\",\n",
        "    \"BukayoSaka87\": \"Bukayo Saka\",\n",
        "    \"HKane\": \"Harry Kane\"\n",
        "}\n",
        "\n",
        "player_offensive_tweet_map[\"player\"] = player_offensive_tweet_map[\"username\"].map(name_map)\n"
      ],
      "metadata": {
        "id": "h--k4JW7rS0s"
      },
      "execution_count": 20,
      "outputs": []
    },
    {
      "cell_type": "code",
      "metadata": {
        "id": "lamR6eWeqyFC",
        "colab": {
          "base_uri": "https://localhost:8080/"
        },
        "outputId": "1d7b7a77-3d83-4682-e518-fea663e2cae1"
      },
      "source": [
        "player_offensive_tweet_map.sort_values('offensive_tweets_received', axis=0, ascending=True, inplace=True)\n",
        "offensive_tweets_all = joined_df['persp_over_threshold'].sum()\n",
        "offensive_tweets_top_10 = player_offensive_tweet_map['offensive_tweets_received'].head(10).sum()\n",
        "top_10_proportion = offensive_tweets_top_10 / offensive_tweets_all\n",
        "print(f\"Total offensive tweets: {offensive_tweets_all}\")\n",
        "print(f\"Top 10 proportion: {top_10_proportion * 100}%\")\n",
        "\n",
        "print(player_offensive_tweet_map[['player','username', 'offensive_tweets_received']])"
      ],
      "execution_count": 40,
      "outputs": [
        {
          "output_type": "stream",
          "name": "stdout",
          "text": [
            "Total offensive tweets: 1751\n",
            "Top 10 proportion: 5.139920045688178%\n",
            "                    player         username  offensive_tweets_received\n",
            "15               Nick Pope        Popey1992                          0\n",
            "20               Eric Dier         ericdier                          3\n",
            "10         Kieran Trippier        trippier2                          4\n",
            "17           Callum Wilson     CallumWilson                          4\n",
            "21         Kalvin Phillips   Kalvinphillips                          5\n",
            "16          Aaron Ramsdale  AaronRamsdale98                          8\n",
            "2                Luke Shaw       LukeShaw23                         14\n",
            "0          Jordan Pickford       JPickford1                         15\n",
            "19          James Maddison        Madders10                         18\n",
            "12          Benjamin White        ben6white                         19\n",
            "1              Kyle Walker      kylewalker2                         23\n",
            "18  Trent Alexander-Arnold          TrentAA                         34\n",
            "11              Phil Foden        PhilFoden                         41\n",
            "5            Jack Grealish     JackGrealish                         48\n",
            "8          Raheem Sterling        sterling7                         55\n",
            "3              Declan Rice      _DeclanRice                         64\n",
            "6         Jordan Henderson       JHenderson                         77\n",
            "4            Harry Maguire   HarryMaguire93                         83\n",
            "13             Bukayo Saka     BukayoSaka87                        111\n",
            "14         Jude Bellingham   BellinghamJude                        165\n",
            "9          Marcus Rashford   MarcusRashford                        219\n",
            "7               Harry Kane            HKane                        947\n"
          ]
        }
      ]
    },
    {
      "cell_type": "code",
      "source": [
        "player_offensive_tweet_map['offensive_tweets_received'].sum()"
      ],
      "metadata": {
        "id": "vCiX4q901O6i",
        "outputId": "67720e45-55f8-4c05-da5d-f2ea91c6d8de",
        "colab": {
          "base_uri": "https://localhost:8080/"
        }
      },
      "execution_count": 37,
      "outputs": [
        {
          "output_type": "execute_result",
          "data": {
            "text/plain": [
              "1957"
            ]
          },
          "metadata": {},
          "execution_count": 37
        }
      ]
    },
    {
      "cell_type": "code",
      "metadata": {
        "id": "0i2wT10-_Npt"
      },
      "source": [
        "# Saving a file for manual review, taken at threshold 90 - one-off ad-hoc task\n",
        "# joined_df[['tweet_id', 'tweet_text']][joined_df['persp_over_threshold'] == True].to_csv(\"/content/drive/MyDrive/University/Dissertation/evaluation/tweets_persp.csv\", index=False)\n",
        "\n",
        "# joined_df[['tweet_id', 'tweet_text']][joined_df['persp_over_threshold'] == False].sample(1000).to_csv(\"/content/drive/MyDrive/University/Dissertation/evaluation/inoffensive.csv\", index=False)"
      ],
      "execution_count": 22,
      "outputs": []
    },
    {
      "cell_type": "code",
      "metadata": {
        "id": "ABQH2J8XZnXK"
      },
      "source": [
        "# Write to file in prep for regression\n",
        "tweets_regression_file = root_path + \"/regression_tweets.csv\"\n",
        "joined_df.to_csv(tweets_regression_file, index=False)"
      ],
      "execution_count": 23,
      "outputs": []
    },
    {
      "cell_type": "code",
      "source": [
        "player_offensive_tweet_map.tail()"
      ],
      "metadata": {
        "id": "xX4A7gQtkjzv",
        "outputId": "618d0892-ec14-4cba-9f5c-428b0020aa90",
        "colab": {
          "base_uri": "https://localhost:8080/",
          "height": 206
        }
      },
      "execution_count": 24,
      "outputs": [
        {
          "output_type": "execute_result",
          "data": {
            "text/plain": [
              "          username  tweets_received  offensive_tweets_received  \\\n",
              "4   HarryMaguire93            12004                         83   \n",
              "13    BukayoSaka87            12253                        111   \n",
              "9   MarcusRashford            30098                        219   \n",
              "14  BellinghamJude            31430                        165   \n",
              "7            HKane            55642                        947   \n",
              "\n",
              "    percentage_offensive           player  \n",
              "4            0.691436188    Harry Maguire  \n",
              "13           0.905900596      Bukayo Saka  \n",
              "9            0.727623098  Marcus Rashford  \n",
              "14           0.524976137  Jude Bellingham  \n",
              "7            1.701951763       Harry Kane  "
            ],
            "text/html": [
              "\n",
              "  <div id=\"df-87c2e4d7-1d50-4716-87db-e1709a86b2dd\">\n",
              "    <div class=\"colab-df-container\">\n",
              "      <div>\n",
              "<style scoped>\n",
              "    .dataframe tbody tr th:only-of-type {\n",
              "        vertical-align: middle;\n",
              "    }\n",
              "\n",
              "    .dataframe tbody tr th {\n",
              "        vertical-align: top;\n",
              "    }\n",
              "\n",
              "    .dataframe thead th {\n",
              "        text-align: right;\n",
              "    }\n",
              "</style>\n",
              "<table border=\"1\" class=\"dataframe\">\n",
              "  <thead>\n",
              "    <tr style=\"text-align: right;\">\n",
              "      <th></th>\n",
              "      <th>username</th>\n",
              "      <th>tweets_received</th>\n",
              "      <th>offensive_tweets_received</th>\n",
              "      <th>percentage_offensive</th>\n",
              "      <th>player</th>\n",
              "    </tr>\n",
              "  </thead>\n",
              "  <tbody>\n",
              "    <tr>\n",
              "      <th>4</th>\n",
              "      <td>HarryMaguire93</td>\n",
              "      <td>12004</td>\n",
              "      <td>83</td>\n",
              "      <td>0.691436188</td>\n",
              "      <td>Harry Maguire</td>\n",
              "    </tr>\n",
              "    <tr>\n",
              "      <th>13</th>\n",
              "      <td>BukayoSaka87</td>\n",
              "      <td>12253</td>\n",
              "      <td>111</td>\n",
              "      <td>0.905900596</td>\n",
              "      <td>Bukayo Saka</td>\n",
              "    </tr>\n",
              "    <tr>\n",
              "      <th>9</th>\n",
              "      <td>MarcusRashford</td>\n",
              "      <td>30098</td>\n",
              "      <td>219</td>\n",
              "      <td>0.727623098</td>\n",
              "      <td>Marcus Rashford</td>\n",
              "    </tr>\n",
              "    <tr>\n",
              "      <th>14</th>\n",
              "      <td>BellinghamJude</td>\n",
              "      <td>31430</td>\n",
              "      <td>165</td>\n",
              "      <td>0.524976137</td>\n",
              "      <td>Jude Bellingham</td>\n",
              "    </tr>\n",
              "    <tr>\n",
              "      <th>7</th>\n",
              "      <td>HKane</td>\n",
              "      <td>55642</td>\n",
              "      <td>947</td>\n",
              "      <td>1.701951763</td>\n",
              "      <td>Harry Kane</td>\n",
              "    </tr>\n",
              "  </tbody>\n",
              "</table>\n",
              "</div>\n",
              "      <button class=\"colab-df-convert\" onclick=\"convertToInteractive('df-87c2e4d7-1d50-4716-87db-e1709a86b2dd')\"\n",
              "              title=\"Convert this dataframe to an interactive table.\"\n",
              "              style=\"display:none;\">\n",
              "        \n",
              "  <svg xmlns=\"http://www.w3.org/2000/svg\" height=\"24px\"viewBox=\"0 0 24 24\"\n",
              "       width=\"24px\">\n",
              "    <path d=\"M0 0h24v24H0V0z\" fill=\"none\"/>\n",
              "    <path d=\"M18.56 5.44l.94 2.06.94-2.06 2.06-.94-2.06-.94-.94-2.06-.94 2.06-2.06.94zm-11 1L8.5 8.5l.94-2.06 2.06-.94-2.06-.94L8.5 2.5l-.94 2.06-2.06.94zm10 10l.94 2.06.94-2.06 2.06-.94-2.06-.94-.94-2.06-.94 2.06-2.06.94z\"/><path d=\"M17.41 7.96l-1.37-1.37c-.4-.4-.92-.59-1.43-.59-.52 0-1.04.2-1.43.59L10.3 9.45l-7.72 7.72c-.78.78-.78 2.05 0 2.83L4 21.41c.39.39.9.59 1.41.59.51 0 1.02-.2 1.41-.59l7.78-7.78 2.81-2.81c.8-.78.8-2.07 0-2.86zM5.41 20L4 18.59l7.72-7.72 1.47 1.35L5.41 20z\"/>\n",
              "  </svg>\n",
              "      </button>\n",
              "      \n",
              "  <style>\n",
              "    .colab-df-container {\n",
              "      display:flex;\n",
              "      flex-wrap:wrap;\n",
              "      gap: 12px;\n",
              "    }\n",
              "\n",
              "    .colab-df-convert {\n",
              "      background-color: #E8F0FE;\n",
              "      border: none;\n",
              "      border-radius: 50%;\n",
              "      cursor: pointer;\n",
              "      display: none;\n",
              "      fill: #1967D2;\n",
              "      height: 32px;\n",
              "      padding: 0 0 0 0;\n",
              "      width: 32px;\n",
              "    }\n",
              "\n",
              "    .colab-df-convert:hover {\n",
              "      background-color: #E2EBFA;\n",
              "      box-shadow: 0px 1px 2px rgba(60, 64, 67, 0.3), 0px 1px 3px 1px rgba(60, 64, 67, 0.15);\n",
              "      fill: #174EA6;\n",
              "    }\n",
              "\n",
              "    [theme=dark] .colab-df-convert {\n",
              "      background-color: #3B4455;\n",
              "      fill: #D2E3FC;\n",
              "    }\n",
              "\n",
              "    [theme=dark] .colab-df-convert:hover {\n",
              "      background-color: #434B5C;\n",
              "      box-shadow: 0px 1px 3px 1px rgba(0, 0, 0, 0.15);\n",
              "      filter: drop-shadow(0px 1px 2px rgba(0, 0, 0, 0.3));\n",
              "      fill: #FFFFFF;\n",
              "    }\n",
              "  </style>\n",
              "\n",
              "      <script>\n",
              "        const buttonEl =\n",
              "          document.querySelector('#df-87c2e4d7-1d50-4716-87db-e1709a86b2dd button.colab-df-convert');\n",
              "        buttonEl.style.display =\n",
              "          google.colab.kernel.accessAllowed ? 'block' : 'none';\n",
              "\n",
              "        async function convertToInteractive(key) {\n",
              "          const element = document.querySelector('#df-87c2e4d7-1d50-4716-87db-e1709a86b2dd');\n",
              "          const dataTable =\n",
              "            await google.colab.kernel.invokeFunction('convertToInteractive',\n",
              "                                                     [key], {});\n",
              "          if (!dataTable) return;\n",
              "\n",
              "          const docLinkHtml = 'Like what you see? Visit the ' +\n",
              "            '<a target=\"_blank\" href=https://colab.research.google.com/notebooks/data_table.ipynb>data table notebook</a>'\n",
              "            + ' to learn more about interactive tables.';\n",
              "          element.innerHTML = '';\n",
              "          dataTable['output_type'] = 'display_data';\n",
              "          await google.colab.output.renderOutput(dataTable, element);\n",
              "          const docLink = document.createElement('div');\n",
              "          docLink.innerHTML = docLinkHtml;\n",
              "          element.appendChild(docLink);\n",
              "        }\n",
              "      </script>\n",
              "    </div>\n",
              "  </div>\n",
              "  "
            ]
          },
          "metadata": {},
          "execution_count": 24
        }
      ]
    },
    {
      "cell_type": "code",
      "source": [
        "fig = go.Figure(data=[\n",
        "    go.Bar(name='offensive', y=player_offensive_tweet_map.player, x=player_offensive_tweet_map.offensive_tweets_received, marker_color = \"darkred\", orientation = 'h'),\n",
        "    go.Bar(name='total', y=player_offensive_tweet_map.player, x=player_offensive_tweet_map.tweets_received, marker_color=\"lightgrey\", orientation = 'h')\n",
        "])\n",
        "# Change the bar mode\n",
        "fig.update_layout(barmode='stack')\n",
        "\n",
        "fig.show()"
      ],
      "metadata": {
        "id": "LBbRQPqRlA9E",
        "outputId": "dc654938-3dd5-4997-eb2f-076362d9f74f",
        "colab": {
          "base_uri": "https://localhost:8080/",
          "height": 542
        }
      },
      "execution_count": 41,
      "outputs": [
        {
          "output_type": "display_data",
          "data": {
            "text/html": [
              "<html>\n",
              "<head><meta charset=\"utf-8\" /></head>\n",
              "<body>\n",
              "    <div>            <script src=\"https://cdnjs.cloudflare.com/ajax/libs/mathjax/2.7.5/MathJax.js?config=TeX-AMS-MML_SVG\"></script><script type=\"text/javascript\">if (window.MathJax && window.MathJax.Hub && window.MathJax.Hub.Config) {window.MathJax.Hub.Config({SVG: {font: \"STIX-Web\"}});}</script>                <script type=\"text/javascript\">window.PlotlyConfig = {MathJaxConfig: 'local'};</script>\n",
              "        <script src=\"https://cdn.plot.ly/plotly-2.18.2.min.js\"></script>                <div id=\"8994494c-f0c2-4efc-86f4-2385e2022379\" class=\"plotly-graph-div\" style=\"height:525px; width:100%;\"></div>            <script type=\"text/javascript\">                                    window.PLOTLYENV=window.PLOTLYENV || {};                                    if (document.getElementById(\"8994494c-f0c2-4efc-86f4-2385e2022379\")) {                    Plotly.newPlot(                        \"8994494c-f0c2-4efc-86f4-2385e2022379\",                        [{\"marker\":{\"color\":\"darkred\"},\"name\":\"offensive\",\"orientation\":\"h\",\"x\":[0,3,4,4,5,8,14,15,18,19,23,34,41,48,55,64,77,83,111,165,219,947],\"y\":[\"Nick Pope\",\"Eric Dier\",\"Kieran Trippier\",\"Callum Wilson\",\"Kalvin Phillips\",\"Aaron Ramsdale\",\"Luke Shaw\",\"Jordan Pickford\",\"James Maddison\",\"Benjamin White\",\"Kyle Walker\",\"Trent Alexander-Arnold\",\"Phil Foden\",\"Jack Grealish\",\"Raheem Sterling\",\"Declan Rice\",\"Jordan Henderson\",\"Harry Maguire\",\"Bukayo Saka\",\"Jude Bellingham\",\"Marcus Rashford\",\"Harry Kane\"],\"type\":\"bar\"},{\"marker\":{\"color\":\"lightgrey\"},\"name\":\"total\",\"orientation\":\"h\",\"x\":[295,521,799,1142,1263,995,1968,1215,3553,2915,3975,8192,9715,6299,6048,7687,11764,12004,12253,31430,30098,55642],\"y\":[\"Nick Pope\",\"Eric Dier\",\"Kieran Trippier\",\"Callum Wilson\",\"Kalvin Phillips\",\"Aaron Ramsdale\",\"Luke Shaw\",\"Jordan Pickford\",\"James Maddison\",\"Benjamin White\",\"Kyle Walker\",\"Trent Alexander-Arnold\",\"Phil Foden\",\"Jack Grealish\",\"Raheem Sterling\",\"Declan Rice\",\"Jordan Henderson\",\"Harry Maguire\",\"Bukayo Saka\",\"Jude Bellingham\",\"Marcus Rashford\",\"Harry Kane\"],\"type\":\"bar\"}],                        {\"template\":{\"data\":{\"histogram2dcontour\":[{\"type\":\"histogram2dcontour\",\"colorbar\":{\"outlinewidth\":0,\"ticks\":\"\"},\"colorscale\":[[0.0,\"#0d0887\"],[0.1111111111111111,\"#46039f\"],[0.2222222222222222,\"#7201a8\"],[0.3333333333333333,\"#9c179e\"],[0.4444444444444444,\"#bd3786\"],[0.5555555555555556,\"#d8576b\"],[0.6666666666666666,\"#ed7953\"],[0.7777777777777778,\"#fb9f3a\"],[0.8888888888888888,\"#fdca26\"],[1.0,\"#f0f921\"]]}],\"choropleth\":[{\"type\":\"choropleth\",\"colorbar\":{\"outlinewidth\":0,\"ticks\":\"\"}}],\"histogram2d\":[{\"type\":\"histogram2d\",\"colorbar\":{\"outlinewidth\":0,\"ticks\":\"\"},\"colorscale\":[[0.0,\"#0d0887\"],[0.1111111111111111,\"#46039f\"],[0.2222222222222222,\"#7201a8\"],[0.3333333333333333,\"#9c179e\"],[0.4444444444444444,\"#bd3786\"],[0.5555555555555556,\"#d8576b\"],[0.6666666666666666,\"#ed7953\"],[0.7777777777777778,\"#fb9f3a\"],[0.8888888888888888,\"#fdca26\"],[1.0,\"#f0f921\"]]}],\"heatmap\":[{\"type\":\"heatmap\",\"colorbar\":{\"outlinewidth\":0,\"ticks\":\"\"},\"colorscale\":[[0.0,\"#0d0887\"],[0.1111111111111111,\"#46039f\"],[0.2222222222222222,\"#7201a8\"],[0.3333333333333333,\"#9c179e\"],[0.4444444444444444,\"#bd3786\"],[0.5555555555555556,\"#d8576b\"],[0.6666666666666666,\"#ed7953\"],[0.7777777777777778,\"#fb9f3a\"],[0.8888888888888888,\"#fdca26\"],[1.0,\"#f0f921\"]]}],\"heatmapgl\":[{\"type\":\"heatmapgl\",\"colorbar\":{\"outlinewidth\":0,\"ticks\":\"\"},\"colorscale\":[[0.0,\"#0d0887\"],[0.1111111111111111,\"#46039f\"],[0.2222222222222222,\"#7201a8\"],[0.3333333333333333,\"#9c179e\"],[0.4444444444444444,\"#bd3786\"],[0.5555555555555556,\"#d8576b\"],[0.6666666666666666,\"#ed7953\"],[0.7777777777777778,\"#fb9f3a\"],[0.8888888888888888,\"#fdca26\"],[1.0,\"#f0f921\"]]}],\"contourcarpet\":[{\"type\":\"contourcarpet\",\"colorbar\":{\"outlinewidth\":0,\"ticks\":\"\"}}],\"contour\":[{\"type\":\"contour\",\"colorbar\":{\"outlinewidth\":0,\"ticks\":\"\"},\"colorscale\":[[0.0,\"#0d0887\"],[0.1111111111111111,\"#46039f\"],[0.2222222222222222,\"#7201a8\"],[0.3333333333333333,\"#9c179e\"],[0.4444444444444444,\"#bd3786\"],[0.5555555555555556,\"#d8576b\"],[0.6666666666666666,\"#ed7953\"],[0.7777777777777778,\"#fb9f3a\"],[0.8888888888888888,\"#fdca26\"],[1.0,\"#f0f921\"]]}],\"surface\":[{\"type\":\"surface\",\"colorbar\":{\"outlinewidth\":0,\"ticks\":\"\"},\"colorscale\":[[0.0,\"#0d0887\"],[0.1111111111111111,\"#46039f\"],[0.2222222222222222,\"#7201a8\"],[0.3333333333333333,\"#9c179e\"],[0.4444444444444444,\"#bd3786\"],[0.5555555555555556,\"#d8576b\"],[0.6666666666666666,\"#ed7953\"],[0.7777777777777778,\"#fb9f3a\"],[0.8888888888888888,\"#fdca26\"],[1.0,\"#f0f921\"]]}],\"mesh3d\":[{\"type\":\"mesh3d\",\"colorbar\":{\"outlinewidth\":0,\"ticks\":\"\"}}],\"scatter\":[{\"fillpattern\":{\"fillmode\":\"overlay\",\"size\":10,\"solidity\":0.2},\"type\":\"scatter\"}],\"parcoords\":[{\"type\":\"parcoords\",\"line\":{\"colorbar\":{\"outlinewidth\":0,\"ticks\":\"\"}}}],\"scatterpolargl\":[{\"type\":\"scatterpolargl\",\"marker\":{\"colorbar\":{\"outlinewidth\":0,\"ticks\":\"\"}}}],\"bar\":[{\"error_x\":{\"color\":\"#2a3f5f\"},\"error_y\":{\"color\":\"#2a3f5f\"},\"marker\":{\"line\":{\"color\":\"#E5ECF6\",\"width\":0.5},\"pattern\":{\"fillmode\":\"overlay\",\"size\":10,\"solidity\":0.2}},\"type\":\"bar\"}],\"scattergeo\":[{\"type\":\"scattergeo\",\"marker\":{\"colorbar\":{\"outlinewidth\":0,\"ticks\":\"\"}}}],\"scatterpolar\":[{\"type\":\"scatterpolar\",\"marker\":{\"colorbar\":{\"outlinewidth\":0,\"ticks\":\"\"}}}],\"histogram\":[{\"marker\":{\"pattern\":{\"fillmode\":\"overlay\",\"size\":10,\"solidity\":0.2}},\"type\":\"histogram\"}],\"scattergl\":[{\"type\":\"scattergl\",\"marker\":{\"colorbar\":{\"outlinewidth\":0,\"ticks\":\"\"}}}],\"scatter3d\":[{\"type\":\"scatter3d\",\"line\":{\"colorbar\":{\"outlinewidth\":0,\"ticks\":\"\"}},\"marker\":{\"colorbar\":{\"outlinewidth\":0,\"ticks\":\"\"}}}],\"scattermapbox\":[{\"type\":\"scattermapbox\",\"marker\":{\"colorbar\":{\"outlinewidth\":0,\"ticks\":\"\"}}}],\"scatterternary\":[{\"type\":\"scatterternary\",\"marker\":{\"colorbar\":{\"outlinewidth\":0,\"ticks\":\"\"}}}],\"scattercarpet\":[{\"type\":\"scattercarpet\",\"marker\":{\"colorbar\":{\"outlinewidth\":0,\"ticks\":\"\"}}}],\"carpet\":[{\"aaxis\":{\"endlinecolor\":\"#2a3f5f\",\"gridcolor\":\"white\",\"linecolor\":\"white\",\"minorgridcolor\":\"white\",\"startlinecolor\":\"#2a3f5f\"},\"baxis\":{\"endlinecolor\":\"#2a3f5f\",\"gridcolor\":\"white\",\"linecolor\":\"white\",\"minorgridcolor\":\"white\",\"startlinecolor\":\"#2a3f5f\"},\"type\":\"carpet\"}],\"table\":[{\"cells\":{\"fill\":{\"color\":\"#EBF0F8\"},\"line\":{\"color\":\"white\"}},\"header\":{\"fill\":{\"color\":\"#C8D4E3\"},\"line\":{\"color\":\"white\"}},\"type\":\"table\"}],\"barpolar\":[{\"marker\":{\"line\":{\"color\":\"#E5ECF6\",\"width\":0.5},\"pattern\":{\"fillmode\":\"overlay\",\"size\":10,\"solidity\":0.2}},\"type\":\"barpolar\"}],\"pie\":[{\"automargin\":true,\"type\":\"pie\"}]},\"layout\":{\"autotypenumbers\":\"strict\",\"colorway\":[\"#636efa\",\"#EF553B\",\"#00cc96\",\"#ab63fa\",\"#FFA15A\",\"#19d3f3\",\"#FF6692\",\"#B6E880\",\"#FF97FF\",\"#FECB52\"],\"font\":{\"color\":\"#2a3f5f\"},\"hovermode\":\"closest\",\"hoverlabel\":{\"align\":\"left\"},\"paper_bgcolor\":\"white\",\"plot_bgcolor\":\"#E5ECF6\",\"polar\":{\"bgcolor\":\"#E5ECF6\",\"angularaxis\":{\"gridcolor\":\"white\",\"linecolor\":\"white\",\"ticks\":\"\"},\"radialaxis\":{\"gridcolor\":\"white\",\"linecolor\":\"white\",\"ticks\":\"\"}},\"ternary\":{\"bgcolor\":\"#E5ECF6\",\"aaxis\":{\"gridcolor\":\"white\",\"linecolor\":\"white\",\"ticks\":\"\"},\"baxis\":{\"gridcolor\":\"white\",\"linecolor\":\"white\",\"ticks\":\"\"},\"caxis\":{\"gridcolor\":\"white\",\"linecolor\":\"white\",\"ticks\":\"\"}},\"coloraxis\":{\"colorbar\":{\"outlinewidth\":0,\"ticks\":\"\"}},\"colorscale\":{\"sequential\":[[0.0,\"#0d0887\"],[0.1111111111111111,\"#46039f\"],[0.2222222222222222,\"#7201a8\"],[0.3333333333333333,\"#9c179e\"],[0.4444444444444444,\"#bd3786\"],[0.5555555555555556,\"#d8576b\"],[0.6666666666666666,\"#ed7953\"],[0.7777777777777778,\"#fb9f3a\"],[0.8888888888888888,\"#fdca26\"],[1.0,\"#f0f921\"]],\"sequentialminus\":[[0.0,\"#0d0887\"],[0.1111111111111111,\"#46039f\"],[0.2222222222222222,\"#7201a8\"],[0.3333333333333333,\"#9c179e\"],[0.4444444444444444,\"#bd3786\"],[0.5555555555555556,\"#d8576b\"],[0.6666666666666666,\"#ed7953\"],[0.7777777777777778,\"#fb9f3a\"],[0.8888888888888888,\"#fdca26\"],[1.0,\"#f0f921\"]],\"diverging\":[[0,\"#8e0152\"],[0.1,\"#c51b7d\"],[0.2,\"#de77ae\"],[0.3,\"#f1b6da\"],[0.4,\"#fde0ef\"],[0.5,\"#f7f7f7\"],[0.6,\"#e6f5d0\"],[0.7,\"#b8e186\"],[0.8,\"#7fbc41\"],[0.9,\"#4d9221\"],[1,\"#276419\"]]},\"xaxis\":{\"gridcolor\":\"white\",\"linecolor\":\"white\",\"ticks\":\"\",\"title\":{\"standoff\":15},\"zerolinecolor\":\"white\",\"automargin\":true,\"zerolinewidth\":2},\"yaxis\":{\"gridcolor\":\"white\",\"linecolor\":\"white\",\"ticks\":\"\",\"title\":{\"standoff\":15},\"zerolinecolor\":\"white\",\"automargin\":true,\"zerolinewidth\":2},\"scene\":{\"xaxis\":{\"backgroundcolor\":\"#E5ECF6\",\"gridcolor\":\"white\",\"linecolor\":\"white\",\"showbackground\":true,\"ticks\":\"\",\"zerolinecolor\":\"white\",\"gridwidth\":2},\"yaxis\":{\"backgroundcolor\":\"#E5ECF6\",\"gridcolor\":\"white\",\"linecolor\":\"white\",\"showbackground\":true,\"ticks\":\"\",\"zerolinecolor\":\"white\",\"gridwidth\":2},\"zaxis\":{\"backgroundcolor\":\"#E5ECF6\",\"gridcolor\":\"white\",\"linecolor\":\"white\",\"showbackground\":true,\"ticks\":\"\",\"zerolinecolor\":\"white\",\"gridwidth\":2}},\"shapedefaults\":{\"line\":{\"color\":\"#2a3f5f\"}},\"annotationdefaults\":{\"arrowcolor\":\"#2a3f5f\",\"arrowhead\":0,\"arrowwidth\":1},\"geo\":{\"bgcolor\":\"white\",\"landcolor\":\"#E5ECF6\",\"subunitcolor\":\"white\",\"showland\":true,\"showlakes\":true,\"lakecolor\":\"white\"},\"title\":{\"x\":0.05},\"mapbox\":{\"style\":\"light\"}}},\"barmode\":\"stack\"},                        {\"responsive\": true}                    ).then(function(){\n",
              "                            \n",
              "var gd = document.getElementById('8994494c-f0c2-4efc-86f4-2385e2022379');\n",
              "var x = new MutationObserver(function (mutations, observer) {{\n",
              "        var display = window.getComputedStyle(gd).display;\n",
              "        if (!display || display === 'none') {{\n",
              "            console.log([gd, 'removed!']);\n",
              "            Plotly.purge(gd);\n",
              "            observer.disconnect();\n",
              "        }}\n",
              "}});\n",
              "\n",
              "// Listen for the removal of the full notebook cells\n",
              "var notebookContainer = gd.closest('#notebook-container');\n",
              "if (notebookContainer) {{\n",
              "    x.observe(notebookContainer, {childList: true});\n",
              "}}\n",
              "\n",
              "// Listen for the clearing of the current output cell\n",
              "var outputEl = gd.closest('.output');\n",
              "if (outputEl) {{\n",
              "    x.observe(outputEl, {childList: true});\n",
              "}}\n",
              "\n",
              "                        })                };                            </script>        </div>\n",
              "</body>\n",
              "</html>"
            ]
          },
          "metadata": {}
        }
      ]
    },
    {
      "cell_type": "code",
      "source": [
        "fig = go.Figure(data=[\n",
        "    go.Bar(name='offensive', y=player_offensive_tweet_map.sort_values('offensive_tweets_received', axis=0, ascending=True, inplace=False).player, x=player_offensive_tweet_map.sort_values('offensive_tweets_received', axis=0, ascending=True, inplace=False).offensive_tweets_received, marker_color = \"darkred\", orientation = 'h')\n",
        "])\n",
        "# Change the bar mode\n",
        "\n",
        "\n",
        "fig.show()"
      ],
      "metadata": {
        "id": "l-TY6-eMZQWJ",
        "outputId": "1a229ca7-7f4d-434d-8988-6257eb38547c",
        "colab": {
          "base_uri": "https://localhost:8080/",
          "height": 542
        }
      },
      "execution_count": 42,
      "outputs": [
        {
          "output_type": "display_data",
          "data": {
            "text/html": [
              "<html>\n",
              "<head><meta charset=\"utf-8\" /></head>\n",
              "<body>\n",
              "    <div>            <script src=\"https://cdnjs.cloudflare.com/ajax/libs/mathjax/2.7.5/MathJax.js?config=TeX-AMS-MML_SVG\"></script><script type=\"text/javascript\">if (window.MathJax && window.MathJax.Hub && window.MathJax.Hub.Config) {window.MathJax.Hub.Config({SVG: {font: \"STIX-Web\"}});}</script>                <script type=\"text/javascript\">window.PlotlyConfig = {MathJaxConfig: 'local'};</script>\n",
              "        <script src=\"https://cdn.plot.ly/plotly-2.18.2.min.js\"></script>                <div id=\"cc2ba10a-7e42-447d-b45c-fac1561ad48d\" class=\"plotly-graph-div\" style=\"height:525px; width:100%;\"></div>            <script type=\"text/javascript\">                                    window.PLOTLYENV=window.PLOTLYENV || {};                                    if (document.getElementById(\"cc2ba10a-7e42-447d-b45c-fac1561ad48d\")) {                    Plotly.newPlot(                        \"cc2ba10a-7e42-447d-b45c-fac1561ad48d\",                        [{\"marker\":{\"color\":\"darkred\"},\"name\":\"offensive\",\"orientation\":\"h\",\"x\":[0,3,4,4,5,8,14,15,18,19,23,34,41,48,55,64,77,83,111,165,219,947],\"y\":[\"Nick Pope\",\"Eric Dier\",\"Kieran Trippier\",\"Callum Wilson\",\"Kalvin Phillips\",\"Aaron Ramsdale\",\"Luke Shaw\",\"Jordan Pickford\",\"James Maddison\",\"Benjamin White\",\"Kyle Walker\",\"Trent Alexander-Arnold\",\"Phil Foden\",\"Jack Grealish\",\"Raheem Sterling\",\"Declan Rice\",\"Jordan Henderson\",\"Harry Maguire\",\"Bukayo Saka\",\"Jude Bellingham\",\"Marcus Rashford\",\"Harry Kane\"],\"type\":\"bar\"}],                        {\"template\":{\"data\":{\"histogram2dcontour\":[{\"type\":\"histogram2dcontour\",\"colorbar\":{\"outlinewidth\":0,\"ticks\":\"\"},\"colorscale\":[[0.0,\"#0d0887\"],[0.1111111111111111,\"#46039f\"],[0.2222222222222222,\"#7201a8\"],[0.3333333333333333,\"#9c179e\"],[0.4444444444444444,\"#bd3786\"],[0.5555555555555556,\"#d8576b\"],[0.6666666666666666,\"#ed7953\"],[0.7777777777777778,\"#fb9f3a\"],[0.8888888888888888,\"#fdca26\"],[1.0,\"#f0f921\"]]}],\"choropleth\":[{\"type\":\"choropleth\",\"colorbar\":{\"outlinewidth\":0,\"ticks\":\"\"}}],\"histogram2d\":[{\"type\":\"histogram2d\",\"colorbar\":{\"outlinewidth\":0,\"ticks\":\"\"},\"colorscale\":[[0.0,\"#0d0887\"],[0.1111111111111111,\"#46039f\"],[0.2222222222222222,\"#7201a8\"],[0.3333333333333333,\"#9c179e\"],[0.4444444444444444,\"#bd3786\"],[0.5555555555555556,\"#d8576b\"],[0.6666666666666666,\"#ed7953\"],[0.7777777777777778,\"#fb9f3a\"],[0.8888888888888888,\"#fdca26\"],[1.0,\"#f0f921\"]]}],\"heatmap\":[{\"type\":\"heatmap\",\"colorbar\":{\"outlinewidth\":0,\"ticks\":\"\"},\"colorscale\":[[0.0,\"#0d0887\"],[0.1111111111111111,\"#46039f\"],[0.2222222222222222,\"#7201a8\"],[0.3333333333333333,\"#9c179e\"],[0.4444444444444444,\"#bd3786\"],[0.5555555555555556,\"#d8576b\"],[0.6666666666666666,\"#ed7953\"],[0.7777777777777778,\"#fb9f3a\"],[0.8888888888888888,\"#fdca26\"],[1.0,\"#f0f921\"]]}],\"heatmapgl\":[{\"type\":\"heatmapgl\",\"colorbar\":{\"outlinewidth\":0,\"ticks\":\"\"},\"colorscale\":[[0.0,\"#0d0887\"],[0.1111111111111111,\"#46039f\"],[0.2222222222222222,\"#7201a8\"],[0.3333333333333333,\"#9c179e\"],[0.4444444444444444,\"#bd3786\"],[0.5555555555555556,\"#d8576b\"],[0.6666666666666666,\"#ed7953\"],[0.7777777777777778,\"#fb9f3a\"],[0.8888888888888888,\"#fdca26\"],[1.0,\"#f0f921\"]]}],\"contourcarpet\":[{\"type\":\"contourcarpet\",\"colorbar\":{\"outlinewidth\":0,\"ticks\":\"\"}}],\"contour\":[{\"type\":\"contour\",\"colorbar\":{\"outlinewidth\":0,\"ticks\":\"\"},\"colorscale\":[[0.0,\"#0d0887\"],[0.1111111111111111,\"#46039f\"],[0.2222222222222222,\"#7201a8\"],[0.3333333333333333,\"#9c179e\"],[0.4444444444444444,\"#bd3786\"],[0.5555555555555556,\"#d8576b\"],[0.6666666666666666,\"#ed7953\"],[0.7777777777777778,\"#fb9f3a\"],[0.8888888888888888,\"#fdca26\"],[1.0,\"#f0f921\"]]}],\"surface\":[{\"type\":\"surface\",\"colorbar\":{\"outlinewidth\":0,\"ticks\":\"\"},\"colorscale\":[[0.0,\"#0d0887\"],[0.1111111111111111,\"#46039f\"],[0.2222222222222222,\"#7201a8\"],[0.3333333333333333,\"#9c179e\"],[0.4444444444444444,\"#bd3786\"],[0.5555555555555556,\"#d8576b\"],[0.6666666666666666,\"#ed7953\"],[0.7777777777777778,\"#fb9f3a\"],[0.8888888888888888,\"#fdca26\"],[1.0,\"#f0f921\"]]}],\"mesh3d\":[{\"type\":\"mesh3d\",\"colorbar\":{\"outlinewidth\":0,\"ticks\":\"\"}}],\"scatter\":[{\"fillpattern\":{\"fillmode\":\"overlay\",\"size\":10,\"solidity\":0.2},\"type\":\"scatter\"}],\"parcoords\":[{\"type\":\"parcoords\",\"line\":{\"colorbar\":{\"outlinewidth\":0,\"ticks\":\"\"}}}],\"scatterpolargl\":[{\"type\":\"scatterpolargl\",\"marker\":{\"colorbar\":{\"outlinewidth\":0,\"ticks\":\"\"}}}],\"bar\":[{\"error_x\":{\"color\":\"#2a3f5f\"},\"error_y\":{\"color\":\"#2a3f5f\"},\"marker\":{\"line\":{\"color\":\"#E5ECF6\",\"width\":0.5},\"pattern\":{\"fillmode\":\"overlay\",\"size\":10,\"solidity\":0.2}},\"type\":\"bar\"}],\"scattergeo\":[{\"type\":\"scattergeo\",\"marker\":{\"colorbar\":{\"outlinewidth\":0,\"ticks\":\"\"}}}],\"scatterpolar\":[{\"type\":\"scatterpolar\",\"marker\":{\"colorbar\":{\"outlinewidth\":0,\"ticks\":\"\"}}}],\"histogram\":[{\"marker\":{\"pattern\":{\"fillmode\":\"overlay\",\"size\":10,\"solidity\":0.2}},\"type\":\"histogram\"}],\"scattergl\":[{\"type\":\"scattergl\",\"marker\":{\"colorbar\":{\"outlinewidth\":0,\"ticks\":\"\"}}}],\"scatter3d\":[{\"type\":\"scatter3d\",\"line\":{\"colorbar\":{\"outlinewidth\":0,\"ticks\":\"\"}},\"marker\":{\"colorbar\":{\"outlinewidth\":0,\"ticks\":\"\"}}}],\"scattermapbox\":[{\"type\":\"scattermapbox\",\"marker\":{\"colorbar\":{\"outlinewidth\":0,\"ticks\":\"\"}}}],\"scatterternary\":[{\"type\":\"scatterternary\",\"marker\":{\"colorbar\":{\"outlinewidth\":0,\"ticks\":\"\"}}}],\"scattercarpet\":[{\"type\":\"scattercarpet\",\"marker\":{\"colorbar\":{\"outlinewidth\":0,\"ticks\":\"\"}}}],\"carpet\":[{\"aaxis\":{\"endlinecolor\":\"#2a3f5f\",\"gridcolor\":\"white\",\"linecolor\":\"white\",\"minorgridcolor\":\"white\",\"startlinecolor\":\"#2a3f5f\"},\"baxis\":{\"endlinecolor\":\"#2a3f5f\",\"gridcolor\":\"white\",\"linecolor\":\"white\",\"minorgridcolor\":\"white\",\"startlinecolor\":\"#2a3f5f\"},\"type\":\"carpet\"}],\"table\":[{\"cells\":{\"fill\":{\"color\":\"#EBF0F8\"},\"line\":{\"color\":\"white\"}},\"header\":{\"fill\":{\"color\":\"#C8D4E3\"},\"line\":{\"color\":\"white\"}},\"type\":\"table\"}],\"barpolar\":[{\"marker\":{\"line\":{\"color\":\"#E5ECF6\",\"width\":0.5},\"pattern\":{\"fillmode\":\"overlay\",\"size\":10,\"solidity\":0.2}},\"type\":\"barpolar\"}],\"pie\":[{\"automargin\":true,\"type\":\"pie\"}]},\"layout\":{\"autotypenumbers\":\"strict\",\"colorway\":[\"#636efa\",\"#EF553B\",\"#00cc96\",\"#ab63fa\",\"#FFA15A\",\"#19d3f3\",\"#FF6692\",\"#B6E880\",\"#FF97FF\",\"#FECB52\"],\"font\":{\"color\":\"#2a3f5f\"},\"hovermode\":\"closest\",\"hoverlabel\":{\"align\":\"left\"},\"paper_bgcolor\":\"white\",\"plot_bgcolor\":\"#E5ECF6\",\"polar\":{\"bgcolor\":\"#E5ECF6\",\"angularaxis\":{\"gridcolor\":\"white\",\"linecolor\":\"white\",\"ticks\":\"\"},\"radialaxis\":{\"gridcolor\":\"white\",\"linecolor\":\"white\",\"ticks\":\"\"}},\"ternary\":{\"bgcolor\":\"#E5ECF6\",\"aaxis\":{\"gridcolor\":\"white\",\"linecolor\":\"white\",\"ticks\":\"\"},\"baxis\":{\"gridcolor\":\"white\",\"linecolor\":\"white\",\"ticks\":\"\"},\"caxis\":{\"gridcolor\":\"white\",\"linecolor\":\"white\",\"ticks\":\"\"}},\"coloraxis\":{\"colorbar\":{\"outlinewidth\":0,\"ticks\":\"\"}},\"colorscale\":{\"sequential\":[[0.0,\"#0d0887\"],[0.1111111111111111,\"#46039f\"],[0.2222222222222222,\"#7201a8\"],[0.3333333333333333,\"#9c179e\"],[0.4444444444444444,\"#bd3786\"],[0.5555555555555556,\"#d8576b\"],[0.6666666666666666,\"#ed7953\"],[0.7777777777777778,\"#fb9f3a\"],[0.8888888888888888,\"#fdca26\"],[1.0,\"#f0f921\"]],\"sequentialminus\":[[0.0,\"#0d0887\"],[0.1111111111111111,\"#46039f\"],[0.2222222222222222,\"#7201a8\"],[0.3333333333333333,\"#9c179e\"],[0.4444444444444444,\"#bd3786\"],[0.5555555555555556,\"#d8576b\"],[0.6666666666666666,\"#ed7953\"],[0.7777777777777778,\"#fb9f3a\"],[0.8888888888888888,\"#fdca26\"],[1.0,\"#f0f921\"]],\"diverging\":[[0,\"#8e0152\"],[0.1,\"#c51b7d\"],[0.2,\"#de77ae\"],[0.3,\"#f1b6da\"],[0.4,\"#fde0ef\"],[0.5,\"#f7f7f7\"],[0.6,\"#e6f5d0\"],[0.7,\"#b8e186\"],[0.8,\"#7fbc41\"],[0.9,\"#4d9221\"],[1,\"#276419\"]]},\"xaxis\":{\"gridcolor\":\"white\",\"linecolor\":\"white\",\"ticks\":\"\",\"title\":{\"standoff\":15},\"zerolinecolor\":\"white\",\"automargin\":true,\"zerolinewidth\":2},\"yaxis\":{\"gridcolor\":\"white\",\"linecolor\":\"white\",\"ticks\":\"\",\"title\":{\"standoff\":15},\"zerolinecolor\":\"white\",\"automargin\":true,\"zerolinewidth\":2},\"scene\":{\"xaxis\":{\"backgroundcolor\":\"#E5ECF6\",\"gridcolor\":\"white\",\"linecolor\":\"white\",\"showbackground\":true,\"ticks\":\"\",\"zerolinecolor\":\"white\",\"gridwidth\":2},\"yaxis\":{\"backgroundcolor\":\"#E5ECF6\",\"gridcolor\":\"white\",\"linecolor\":\"white\",\"showbackground\":true,\"ticks\":\"\",\"zerolinecolor\":\"white\",\"gridwidth\":2},\"zaxis\":{\"backgroundcolor\":\"#E5ECF6\",\"gridcolor\":\"white\",\"linecolor\":\"white\",\"showbackground\":true,\"ticks\":\"\",\"zerolinecolor\":\"white\",\"gridwidth\":2}},\"shapedefaults\":{\"line\":{\"color\":\"#2a3f5f\"}},\"annotationdefaults\":{\"arrowcolor\":\"#2a3f5f\",\"arrowhead\":0,\"arrowwidth\":1},\"geo\":{\"bgcolor\":\"white\",\"landcolor\":\"#E5ECF6\",\"subunitcolor\":\"white\",\"showland\":true,\"showlakes\":true,\"lakecolor\":\"white\"},\"title\":{\"x\":0.05},\"mapbox\":{\"style\":\"light\"}}}},                        {\"responsive\": true}                    ).then(function(){\n",
              "                            \n",
              "var gd = document.getElementById('cc2ba10a-7e42-447d-b45c-fac1561ad48d');\n",
              "var x = new MutationObserver(function (mutations, observer) {{\n",
              "        var display = window.getComputedStyle(gd).display;\n",
              "        if (!display || display === 'none') {{\n",
              "            console.log([gd, 'removed!']);\n",
              "            Plotly.purge(gd);\n",
              "            observer.disconnect();\n",
              "        }}\n",
              "}});\n",
              "\n",
              "// Listen for the removal of the full notebook cells\n",
              "var notebookContainer = gd.closest('#notebook-container');\n",
              "if (notebookContainer) {{\n",
              "    x.observe(notebookContainer, {childList: true});\n",
              "}}\n",
              "\n",
              "// Listen for the clearing of the current output cell\n",
              "var outputEl = gd.closest('.output');\n",
              "if (outputEl) {{\n",
              "    x.observe(outputEl, {childList: true});\n",
              "}}\n",
              "\n",
              "                        })                };                            </script>        </div>\n",
              "</body>\n",
              "</html>"
            ]
          },
          "metadata": {}
        }
      ]
    },
    {
      "cell_type": "code",
      "source": [
        "fig = go.Figure(data=[\n",
        "    go.Bar(name='offensive', y=player_offensive_tweet_map.player, x=player_offensive_tweet_map.offensive_tweets_received, marker_color = \"darkred\", orientation = 'h'),\n",
        "    go.Bar(name='total', y=player_offensive_tweet_map.player, x=player_offensive_tweet_map.tweets_received, marker_color=\"lightgrey\", orientation = 'h')\n",
        "])\n",
        "# Change the bar mode\n",
        "fig.update_layout(barmode='stack')\n",
        "fig.update_xaxes(type=\"log\", tickvals=[0, 10, 100, 1000, 10000], ticktext=['1', '10', '100', '1k', '10k'])\n",
        "\n",
        "fig.show()\n",
        "fig.write_html(\"/content/drive/MyDrive/University/Dissertation/images/world_cup_by_player.html\", include_plotlyjs='cdn')"
      ],
      "metadata": {
        "id": "6iBYDAMAQzze",
        "outputId": "d70494a5-bc1b-4b6b-da58-5140f6599f25",
        "colab": {
          "base_uri": "https://localhost:8080/",
          "height": 542
        }
      },
      "execution_count": 49,
      "outputs": [
        {
          "output_type": "display_data",
          "data": {
            "text/html": [
              "<html>\n",
              "<head><meta charset=\"utf-8\" /></head>\n",
              "<body>\n",
              "    <div>            <script src=\"https://cdnjs.cloudflare.com/ajax/libs/mathjax/2.7.5/MathJax.js?config=TeX-AMS-MML_SVG\"></script><script type=\"text/javascript\">if (window.MathJax && window.MathJax.Hub && window.MathJax.Hub.Config) {window.MathJax.Hub.Config({SVG: {font: \"STIX-Web\"}});}</script>                <script type=\"text/javascript\">window.PlotlyConfig = {MathJaxConfig: 'local'};</script>\n",
              "        <script src=\"https://cdn.plot.ly/plotly-2.18.2.min.js\"></script>                <div id=\"c2454ccb-b1de-40d1-8bef-d4c7762b10ba\" class=\"plotly-graph-div\" style=\"height:525px; width:100%;\"></div>            <script type=\"text/javascript\">                                    window.PLOTLYENV=window.PLOTLYENV || {};                                    if (document.getElementById(\"c2454ccb-b1de-40d1-8bef-d4c7762b10ba\")) {                    Plotly.newPlot(                        \"c2454ccb-b1de-40d1-8bef-d4c7762b10ba\",                        [{\"marker\":{\"color\":\"darkred\"},\"name\":\"offensive\",\"orientation\":\"h\",\"x\":[0,3,4,4,5,8,14,15,18,19,23,34,41,48,55,64,77,83,111,165,219,947],\"y\":[\"Nick Pope\",\"Eric Dier\",\"Kieran Trippier\",\"Callum Wilson\",\"Kalvin Phillips\",\"Aaron Ramsdale\",\"Luke Shaw\",\"Jordan Pickford\",\"James Maddison\",\"Benjamin White\",\"Kyle Walker\",\"Trent Alexander-Arnold\",\"Phil Foden\",\"Jack Grealish\",\"Raheem Sterling\",\"Declan Rice\",\"Jordan Henderson\",\"Harry Maguire\",\"Bukayo Saka\",\"Jude Bellingham\",\"Marcus Rashford\",\"Harry Kane\"],\"type\":\"bar\"},{\"marker\":{\"color\":\"lightgrey\"},\"name\":\"total\",\"orientation\":\"h\",\"x\":[295,521,799,1142,1263,995,1968,1215,3553,2915,3975,8192,9715,6299,6048,7687,11764,12004,12253,31430,30098,55642],\"y\":[\"Nick Pope\",\"Eric Dier\",\"Kieran Trippier\",\"Callum Wilson\",\"Kalvin Phillips\",\"Aaron Ramsdale\",\"Luke Shaw\",\"Jordan Pickford\",\"James Maddison\",\"Benjamin White\",\"Kyle Walker\",\"Trent Alexander-Arnold\",\"Phil Foden\",\"Jack Grealish\",\"Raheem Sterling\",\"Declan Rice\",\"Jordan Henderson\",\"Harry Maguire\",\"Bukayo Saka\",\"Jude Bellingham\",\"Marcus Rashford\",\"Harry Kane\"],\"type\":\"bar\"}],                        {\"template\":{\"data\":{\"histogram2dcontour\":[{\"type\":\"histogram2dcontour\",\"colorbar\":{\"outlinewidth\":0,\"ticks\":\"\"},\"colorscale\":[[0.0,\"#0d0887\"],[0.1111111111111111,\"#46039f\"],[0.2222222222222222,\"#7201a8\"],[0.3333333333333333,\"#9c179e\"],[0.4444444444444444,\"#bd3786\"],[0.5555555555555556,\"#d8576b\"],[0.6666666666666666,\"#ed7953\"],[0.7777777777777778,\"#fb9f3a\"],[0.8888888888888888,\"#fdca26\"],[1.0,\"#f0f921\"]]}],\"choropleth\":[{\"type\":\"choropleth\",\"colorbar\":{\"outlinewidth\":0,\"ticks\":\"\"}}],\"histogram2d\":[{\"type\":\"histogram2d\",\"colorbar\":{\"outlinewidth\":0,\"ticks\":\"\"},\"colorscale\":[[0.0,\"#0d0887\"],[0.1111111111111111,\"#46039f\"],[0.2222222222222222,\"#7201a8\"],[0.3333333333333333,\"#9c179e\"],[0.4444444444444444,\"#bd3786\"],[0.5555555555555556,\"#d8576b\"],[0.6666666666666666,\"#ed7953\"],[0.7777777777777778,\"#fb9f3a\"],[0.8888888888888888,\"#fdca26\"],[1.0,\"#f0f921\"]]}],\"heatmap\":[{\"type\":\"heatmap\",\"colorbar\":{\"outlinewidth\":0,\"ticks\":\"\"},\"colorscale\":[[0.0,\"#0d0887\"],[0.1111111111111111,\"#46039f\"],[0.2222222222222222,\"#7201a8\"],[0.3333333333333333,\"#9c179e\"],[0.4444444444444444,\"#bd3786\"],[0.5555555555555556,\"#d8576b\"],[0.6666666666666666,\"#ed7953\"],[0.7777777777777778,\"#fb9f3a\"],[0.8888888888888888,\"#fdca26\"],[1.0,\"#f0f921\"]]}],\"heatmapgl\":[{\"type\":\"heatmapgl\",\"colorbar\":{\"outlinewidth\":0,\"ticks\":\"\"},\"colorscale\":[[0.0,\"#0d0887\"],[0.1111111111111111,\"#46039f\"],[0.2222222222222222,\"#7201a8\"],[0.3333333333333333,\"#9c179e\"],[0.4444444444444444,\"#bd3786\"],[0.5555555555555556,\"#d8576b\"],[0.6666666666666666,\"#ed7953\"],[0.7777777777777778,\"#fb9f3a\"],[0.8888888888888888,\"#fdca26\"],[1.0,\"#f0f921\"]]}],\"contourcarpet\":[{\"type\":\"contourcarpet\",\"colorbar\":{\"outlinewidth\":0,\"ticks\":\"\"}}],\"contour\":[{\"type\":\"contour\",\"colorbar\":{\"outlinewidth\":0,\"ticks\":\"\"},\"colorscale\":[[0.0,\"#0d0887\"],[0.1111111111111111,\"#46039f\"],[0.2222222222222222,\"#7201a8\"],[0.3333333333333333,\"#9c179e\"],[0.4444444444444444,\"#bd3786\"],[0.5555555555555556,\"#d8576b\"],[0.6666666666666666,\"#ed7953\"],[0.7777777777777778,\"#fb9f3a\"],[0.8888888888888888,\"#fdca26\"],[1.0,\"#f0f921\"]]}],\"surface\":[{\"type\":\"surface\",\"colorbar\":{\"outlinewidth\":0,\"ticks\":\"\"},\"colorscale\":[[0.0,\"#0d0887\"],[0.1111111111111111,\"#46039f\"],[0.2222222222222222,\"#7201a8\"],[0.3333333333333333,\"#9c179e\"],[0.4444444444444444,\"#bd3786\"],[0.5555555555555556,\"#d8576b\"],[0.6666666666666666,\"#ed7953\"],[0.7777777777777778,\"#fb9f3a\"],[0.8888888888888888,\"#fdca26\"],[1.0,\"#f0f921\"]]}],\"mesh3d\":[{\"type\":\"mesh3d\",\"colorbar\":{\"outlinewidth\":0,\"ticks\":\"\"}}],\"scatter\":[{\"fillpattern\":{\"fillmode\":\"overlay\",\"size\":10,\"solidity\":0.2},\"type\":\"scatter\"}],\"parcoords\":[{\"type\":\"parcoords\",\"line\":{\"colorbar\":{\"outlinewidth\":0,\"ticks\":\"\"}}}],\"scatterpolargl\":[{\"type\":\"scatterpolargl\",\"marker\":{\"colorbar\":{\"outlinewidth\":0,\"ticks\":\"\"}}}],\"bar\":[{\"error_x\":{\"color\":\"#2a3f5f\"},\"error_y\":{\"color\":\"#2a3f5f\"},\"marker\":{\"line\":{\"color\":\"#E5ECF6\",\"width\":0.5},\"pattern\":{\"fillmode\":\"overlay\",\"size\":10,\"solidity\":0.2}},\"type\":\"bar\"}],\"scattergeo\":[{\"type\":\"scattergeo\",\"marker\":{\"colorbar\":{\"outlinewidth\":0,\"ticks\":\"\"}}}],\"scatterpolar\":[{\"type\":\"scatterpolar\",\"marker\":{\"colorbar\":{\"outlinewidth\":0,\"ticks\":\"\"}}}],\"histogram\":[{\"marker\":{\"pattern\":{\"fillmode\":\"overlay\",\"size\":10,\"solidity\":0.2}},\"type\":\"histogram\"}],\"scattergl\":[{\"type\":\"scattergl\",\"marker\":{\"colorbar\":{\"outlinewidth\":0,\"ticks\":\"\"}}}],\"scatter3d\":[{\"type\":\"scatter3d\",\"line\":{\"colorbar\":{\"outlinewidth\":0,\"ticks\":\"\"}},\"marker\":{\"colorbar\":{\"outlinewidth\":0,\"ticks\":\"\"}}}],\"scattermapbox\":[{\"type\":\"scattermapbox\",\"marker\":{\"colorbar\":{\"outlinewidth\":0,\"ticks\":\"\"}}}],\"scatterternary\":[{\"type\":\"scatterternary\",\"marker\":{\"colorbar\":{\"outlinewidth\":0,\"ticks\":\"\"}}}],\"scattercarpet\":[{\"type\":\"scattercarpet\",\"marker\":{\"colorbar\":{\"outlinewidth\":0,\"ticks\":\"\"}}}],\"carpet\":[{\"aaxis\":{\"endlinecolor\":\"#2a3f5f\",\"gridcolor\":\"white\",\"linecolor\":\"white\",\"minorgridcolor\":\"white\",\"startlinecolor\":\"#2a3f5f\"},\"baxis\":{\"endlinecolor\":\"#2a3f5f\",\"gridcolor\":\"white\",\"linecolor\":\"white\",\"minorgridcolor\":\"white\",\"startlinecolor\":\"#2a3f5f\"},\"type\":\"carpet\"}],\"table\":[{\"cells\":{\"fill\":{\"color\":\"#EBF0F8\"},\"line\":{\"color\":\"white\"}},\"header\":{\"fill\":{\"color\":\"#C8D4E3\"},\"line\":{\"color\":\"white\"}},\"type\":\"table\"}],\"barpolar\":[{\"marker\":{\"line\":{\"color\":\"#E5ECF6\",\"width\":0.5},\"pattern\":{\"fillmode\":\"overlay\",\"size\":10,\"solidity\":0.2}},\"type\":\"barpolar\"}],\"pie\":[{\"automargin\":true,\"type\":\"pie\"}]},\"layout\":{\"autotypenumbers\":\"strict\",\"colorway\":[\"#636efa\",\"#EF553B\",\"#00cc96\",\"#ab63fa\",\"#FFA15A\",\"#19d3f3\",\"#FF6692\",\"#B6E880\",\"#FF97FF\",\"#FECB52\"],\"font\":{\"color\":\"#2a3f5f\"},\"hovermode\":\"closest\",\"hoverlabel\":{\"align\":\"left\"},\"paper_bgcolor\":\"white\",\"plot_bgcolor\":\"#E5ECF6\",\"polar\":{\"bgcolor\":\"#E5ECF6\",\"angularaxis\":{\"gridcolor\":\"white\",\"linecolor\":\"white\",\"ticks\":\"\"},\"radialaxis\":{\"gridcolor\":\"white\",\"linecolor\":\"white\",\"ticks\":\"\"}},\"ternary\":{\"bgcolor\":\"#E5ECF6\",\"aaxis\":{\"gridcolor\":\"white\",\"linecolor\":\"white\",\"ticks\":\"\"},\"baxis\":{\"gridcolor\":\"white\",\"linecolor\":\"white\",\"ticks\":\"\"},\"caxis\":{\"gridcolor\":\"white\",\"linecolor\":\"white\",\"ticks\":\"\"}},\"coloraxis\":{\"colorbar\":{\"outlinewidth\":0,\"ticks\":\"\"}},\"colorscale\":{\"sequential\":[[0.0,\"#0d0887\"],[0.1111111111111111,\"#46039f\"],[0.2222222222222222,\"#7201a8\"],[0.3333333333333333,\"#9c179e\"],[0.4444444444444444,\"#bd3786\"],[0.5555555555555556,\"#d8576b\"],[0.6666666666666666,\"#ed7953\"],[0.7777777777777778,\"#fb9f3a\"],[0.8888888888888888,\"#fdca26\"],[1.0,\"#f0f921\"]],\"sequentialminus\":[[0.0,\"#0d0887\"],[0.1111111111111111,\"#46039f\"],[0.2222222222222222,\"#7201a8\"],[0.3333333333333333,\"#9c179e\"],[0.4444444444444444,\"#bd3786\"],[0.5555555555555556,\"#d8576b\"],[0.6666666666666666,\"#ed7953\"],[0.7777777777777778,\"#fb9f3a\"],[0.8888888888888888,\"#fdca26\"],[1.0,\"#f0f921\"]],\"diverging\":[[0,\"#8e0152\"],[0.1,\"#c51b7d\"],[0.2,\"#de77ae\"],[0.3,\"#f1b6da\"],[0.4,\"#fde0ef\"],[0.5,\"#f7f7f7\"],[0.6,\"#e6f5d0\"],[0.7,\"#b8e186\"],[0.8,\"#7fbc41\"],[0.9,\"#4d9221\"],[1,\"#276419\"]]},\"xaxis\":{\"gridcolor\":\"white\",\"linecolor\":\"white\",\"ticks\":\"\",\"title\":{\"standoff\":15},\"zerolinecolor\":\"white\",\"automargin\":true,\"zerolinewidth\":2},\"yaxis\":{\"gridcolor\":\"white\",\"linecolor\":\"white\",\"ticks\":\"\",\"title\":{\"standoff\":15},\"zerolinecolor\":\"white\",\"automargin\":true,\"zerolinewidth\":2},\"scene\":{\"xaxis\":{\"backgroundcolor\":\"#E5ECF6\",\"gridcolor\":\"white\",\"linecolor\":\"white\",\"showbackground\":true,\"ticks\":\"\",\"zerolinecolor\":\"white\",\"gridwidth\":2},\"yaxis\":{\"backgroundcolor\":\"#E5ECF6\",\"gridcolor\":\"white\",\"linecolor\":\"white\",\"showbackground\":true,\"ticks\":\"\",\"zerolinecolor\":\"white\",\"gridwidth\":2},\"zaxis\":{\"backgroundcolor\":\"#E5ECF6\",\"gridcolor\":\"white\",\"linecolor\":\"white\",\"showbackground\":true,\"ticks\":\"\",\"zerolinecolor\":\"white\",\"gridwidth\":2}},\"shapedefaults\":{\"line\":{\"color\":\"#2a3f5f\"}},\"annotationdefaults\":{\"arrowcolor\":\"#2a3f5f\",\"arrowhead\":0,\"arrowwidth\":1},\"geo\":{\"bgcolor\":\"white\",\"landcolor\":\"#E5ECF6\",\"subunitcolor\":\"white\",\"showland\":true,\"showlakes\":true,\"lakecolor\":\"white\"},\"title\":{\"x\":0.05},\"mapbox\":{\"style\":\"light\"}}},\"barmode\":\"stack\",\"xaxis\":{\"type\":\"log\",\"tickvals\":[0,10,100,1000,10000],\"ticktext\":[\"1\",\"10\",\"100\",\"1k\",\"10k\"]}},                        {\"responsive\": true}                    ).then(function(){\n",
              "                            \n",
              "var gd = document.getElementById('c2454ccb-b1de-40d1-8bef-d4c7762b10ba');\n",
              "var x = new MutationObserver(function (mutations, observer) {{\n",
              "        var display = window.getComputedStyle(gd).display;\n",
              "        if (!display || display === 'none') {{\n",
              "            console.log([gd, 'removed!']);\n",
              "            Plotly.purge(gd);\n",
              "            observer.disconnect();\n",
              "        }}\n",
              "}});\n",
              "\n",
              "// Listen for the removal of the full notebook cells\n",
              "var notebookContainer = gd.closest('#notebook-container');\n",
              "if (notebookContainer) {{\n",
              "    x.observe(notebookContainer, {childList: true});\n",
              "}}\n",
              "\n",
              "// Listen for the clearing of the current output cell\n",
              "var outputEl = gd.closest('.output');\n",
              "if (outputEl) {{\n",
              "    x.observe(outputEl, {childList: true});\n",
              "}}\n",
              "\n",
              "                        })                };                            </script>        </div>\n",
              "</body>\n",
              "</html>"
            ]
          },
          "metadata": {}
        }
      ]
    },
    {
      "cell_type": "markdown",
      "metadata": {
        "id": "5AbMCCG1ZkAB"
      },
      "source": [
        "# Figures"
      ]
    },
    {
      "cell_type": "code",
      "metadata": {
        "id": "LRt_FqRIPzzR"
      },
      "source": [
        "def create_frequency_plot(df, y_values):\n",
        "    fig = go.Figure()\n",
        "    for y_value in y_values:\n",
        "        fig.add_trace(go.Scatter(x=df['created_at'], y=df[y_value],\n",
        "                      mode='lines',\n",
        "                      name=y_value))\n",
        "    return fig"
      ],
      "execution_count": 28,
      "outputs": []
    },
    {
      "cell_type": "code",
      "metadata": {
        "id": "7BafaxKlP6C0"
      },
      "source": [
        "INTERVAL = pd.offsets.Minute(60)"
      ],
      "execution_count": 29,
      "outputs": []
    },
    {
      "cell_type": "code",
      "metadata": {
        "colab": {
          "base_uri": "https://localhost:8080/",
          "height": 542
        },
        "id": "p572inFRP1UZ",
        "outputId": "bec434c0-39fa-41d5-af73-61bee0877a0e"
      },
      "source": [
        "# Plot all tweets frequency\n",
        "df = joined_df.resample(INTERVAL, on='created_at')['tweet_id'].count().reset_index()\n",
        "fig = create_frequency_plot(df, ['tweet_id'])\n",
        "fig.show()"
      ],
      "execution_count": 30,
      "outputs": [
        {
          "output_type": "display_data",
          "data": {
            "text/html": [
              "<html>\n",
              "<head><meta charset=\"utf-8\" /></head>\n",
              "<body>\n",
              "    <div>            <script src=\"https://cdnjs.cloudflare.com/ajax/libs/mathjax/2.7.5/MathJax.js?config=TeX-AMS-MML_SVG\"></script><script type=\"text/javascript\">if (window.MathJax && window.MathJax.Hub && window.MathJax.Hub.Config) {window.MathJax.Hub.Config({SVG: {font: \"STIX-Web\"}});}</script>                <script type=\"text/javascript\">window.PlotlyConfig = {MathJaxConfig: 'local'};</script>\n",
              "        <script src=\"https://cdn.plot.ly/plotly-2.18.2.min.js\"></script>                <div id=\"d517764b-c8cd-414e-84f6-fad7425826a8\" class=\"plotly-graph-div\" style=\"height:525px; width:100%;\"></div>            <script type=\"text/javascript\">                                    window.PLOTLYENV=window.PLOTLYENV || {};                                    if (document.getElementById(\"d517764b-c8cd-414e-84f6-fad7425826a8\")) {                    Plotly.newPlot(                        \"d517764b-c8cd-414e-84f6-fad7425826a8\",                        [{\"mode\":\"lines\",\"name\":\"tweet_id\",\"x\":[\"2022-11-28T01:00:00+00:00\",\"2022-11-28T02:00:00+00:00\",\"2022-11-28T03:00:00+00:00\",\"2022-11-28T04:00:00+00:00\",\"2022-11-28T05:00:00+00:00\",\"2022-11-28T06:00:00+00:00\",\"2022-11-28T07:00:00+00:00\",\"2022-11-28T08:00:00+00:00\",\"2022-11-28T09:00:00+00:00\",\"2022-11-28T10:00:00+00:00\",\"2022-11-28T11:00:00+00:00\",\"2022-11-28T12:00:00+00:00\",\"2022-11-28T13:00:00+00:00\",\"2022-11-28T14:00:00+00:00\",\"2022-11-28T15:00:00+00:00\",\"2022-11-28T16:00:00+00:00\",\"2022-11-28T17:00:00+00:00\",\"2022-11-28T18:00:00+00:00\",\"2022-11-28T19:00:00+00:00\",\"2022-11-28T20:00:00+00:00\",\"2022-11-28T21:00:00+00:00\",\"2022-11-28T22:00:00+00:00\",\"2022-11-28T23:00:00+00:00\",\"2022-11-29T00:00:00+00:00\",\"2022-11-29T01:00:00+00:00\",\"2022-11-29T02:00:00+00:00\",\"2022-11-29T03:00:00+00:00\",\"2022-11-29T04:00:00+00:00\",\"2022-11-29T05:00:00+00:00\",\"2022-11-29T06:00:00+00:00\",\"2022-11-29T07:00:00+00:00\",\"2022-11-29T08:00:00+00:00\",\"2022-11-29T09:00:00+00:00\",\"2022-11-29T10:00:00+00:00\",\"2022-11-29T11:00:00+00:00\",\"2022-11-29T12:00:00+00:00\",\"2022-11-29T13:00:00+00:00\",\"2022-11-29T14:00:00+00:00\",\"2022-11-29T15:00:00+00:00\",\"2022-11-29T16:00:00+00:00\",\"2022-11-29T17:00:00+00:00\",\"2022-11-29T18:00:00+00:00\",\"2022-11-29T19:00:00+00:00\",\"2022-11-29T20:00:00+00:00\",\"2022-11-29T21:00:00+00:00\",\"2022-11-29T22:00:00+00:00\",\"2022-11-29T23:00:00+00:00\",\"2022-11-30T00:00:00+00:00\",\"2022-11-30T01:00:00+00:00\",\"2022-11-30T02:00:00+00:00\",\"2022-11-30T03:00:00+00:00\",\"2022-11-30T04:00:00+00:00\",\"2022-11-30T05:00:00+00:00\",\"2022-11-30T06:00:00+00:00\",\"2022-11-30T07:00:00+00:00\",\"2022-11-30T08:00:00+00:00\",\"2022-11-30T09:00:00+00:00\",\"2022-11-30T10:00:00+00:00\",\"2022-11-30T11:00:00+00:00\",\"2022-11-30T12:00:00+00:00\",\"2022-11-30T13:00:00+00:00\",\"2022-11-30T14:00:00+00:00\",\"2022-11-30T15:00:00+00:00\",\"2022-11-30T16:00:00+00:00\",\"2022-11-30T17:00:00+00:00\",\"2022-11-30T18:00:00+00:00\",\"2022-11-30T19:00:00+00:00\",\"2022-11-30T20:00:00+00:00\",\"2022-11-30T21:00:00+00:00\",\"2022-11-30T22:00:00+00:00\",\"2022-11-30T23:00:00+00:00\",\"2022-12-01T00:00:00+00:00\",\"2022-12-01T01:00:00+00:00\",\"2022-12-01T02:00:00+00:00\",\"2022-12-01T03:00:00+00:00\",\"2022-12-01T04:00:00+00:00\",\"2022-12-01T05:00:00+00:00\",\"2022-12-01T06:00:00+00:00\",\"2022-12-01T07:00:00+00:00\",\"2022-12-01T08:00:00+00:00\",\"2022-12-01T09:00:00+00:00\",\"2022-12-01T10:00:00+00:00\",\"2022-12-01T11:00:00+00:00\",\"2022-12-01T12:00:00+00:00\",\"2022-12-01T13:00:00+00:00\",\"2022-12-01T14:00:00+00:00\",\"2022-12-01T15:00:00+00:00\",\"2022-12-01T16:00:00+00:00\",\"2022-12-01T17:00:00+00:00\",\"2022-12-01T18:00:00+00:00\",\"2022-12-01T19:00:00+00:00\",\"2022-12-01T20:00:00+00:00\",\"2022-12-01T21:00:00+00:00\",\"2022-12-01T22:00:00+00:00\",\"2022-12-01T23:00:00+00:00\",\"2022-12-02T00:00:00+00:00\",\"2022-12-02T01:00:00+00:00\",\"2022-12-02T02:00:00+00:00\",\"2022-12-02T03:00:00+00:00\",\"2022-12-02T04:00:00+00:00\",\"2022-12-02T05:00:00+00:00\",\"2022-12-02T06:00:00+00:00\",\"2022-12-02T07:00:00+00:00\",\"2022-12-02T08:00:00+00:00\",\"2022-12-02T09:00:00+00:00\",\"2022-12-02T10:00:00+00:00\",\"2022-12-02T11:00:00+00:00\",\"2022-12-02T12:00:00+00:00\",\"2022-12-02T13:00:00+00:00\",\"2022-12-02T14:00:00+00:00\",\"2022-12-02T15:00:00+00:00\",\"2022-12-02T16:00:00+00:00\",\"2022-12-02T17:00:00+00:00\",\"2022-12-02T18:00:00+00:00\",\"2022-12-02T19:00:00+00:00\",\"2022-12-02T20:00:00+00:00\",\"2022-12-02T21:00:00+00:00\",\"2022-12-02T22:00:00+00:00\",\"2022-12-02T23:00:00+00:00\",\"2022-12-03T00:00:00+00:00\",\"2022-12-03T01:00:00+00:00\",\"2022-12-03T02:00:00+00:00\",\"2022-12-03T03:00:00+00:00\",\"2022-12-03T04:00:00+00:00\",\"2022-12-03T05:00:00+00:00\",\"2022-12-03T06:00:00+00:00\",\"2022-12-03T07:00:00+00:00\",\"2022-12-03T08:00:00+00:00\",\"2022-12-03T09:00:00+00:00\",\"2022-12-03T10:00:00+00:00\",\"2022-12-03T11:00:00+00:00\",\"2022-12-03T12:00:00+00:00\",\"2022-12-03T13:00:00+00:00\",\"2022-12-03T14:00:00+00:00\",\"2022-12-03T15:00:00+00:00\",\"2022-12-03T16:00:00+00:00\",\"2022-12-03T17:00:00+00:00\",\"2022-12-03T18:00:00+00:00\",\"2022-12-03T19:00:00+00:00\",\"2022-12-03T20:00:00+00:00\",\"2022-12-03T21:00:00+00:00\",\"2022-12-03T22:00:00+00:00\",\"2022-12-03T23:00:00+00:00\",\"2022-12-04T00:00:00+00:00\",\"2022-12-04T01:00:00+00:00\",\"2022-12-04T02:00:00+00:00\",\"2022-12-04T03:00:00+00:00\",\"2022-12-04T04:00:00+00:00\",\"2022-12-04T05:00:00+00:00\",\"2022-12-04T06:00:00+00:00\",\"2022-12-04T07:00:00+00:00\",\"2022-12-04T08:00:00+00:00\",\"2022-12-04T09:00:00+00:00\",\"2022-12-04T10:00:00+00:00\",\"2022-12-04T11:00:00+00:00\",\"2022-12-04T12:00:00+00:00\",\"2022-12-04T13:00:00+00:00\",\"2022-12-04T14:00:00+00:00\",\"2022-12-04T15:00:00+00:00\",\"2022-12-04T16:00:00+00:00\",\"2022-12-04T17:00:00+00:00\",\"2022-12-04T18:00:00+00:00\",\"2022-12-04T19:00:00+00:00\",\"2022-12-04T20:00:00+00:00\",\"2022-12-04T21:00:00+00:00\",\"2022-12-04T22:00:00+00:00\",\"2022-12-04T23:00:00+00:00\",\"2022-12-05T00:00:00+00:00\",\"2022-12-05T01:00:00+00:00\",\"2022-12-05T02:00:00+00:00\",\"2022-12-05T03:00:00+00:00\",\"2022-12-05T04:00:00+00:00\",\"2022-12-05T05:00:00+00:00\",\"2022-12-05T06:00:00+00:00\",\"2022-12-05T07:00:00+00:00\",\"2022-12-05T08:00:00+00:00\",\"2022-12-05T09:00:00+00:00\",\"2022-12-05T10:00:00+00:00\",\"2022-12-05T11:00:00+00:00\",\"2022-12-05T12:00:00+00:00\",\"2022-12-05T13:00:00+00:00\",\"2022-12-05T14:00:00+00:00\",\"2022-12-05T15:00:00+00:00\",\"2022-12-05T16:00:00+00:00\",\"2022-12-05T17:00:00+00:00\",\"2022-12-05T18:00:00+00:00\",\"2022-12-05T19:00:00+00:00\",\"2022-12-05T20:00:00+00:00\",\"2022-12-05T21:00:00+00:00\",\"2022-12-05T22:00:00+00:00\",\"2022-12-05T23:00:00+00:00\",\"2022-12-06T00:00:00+00:00\",\"2022-12-06T01:00:00+00:00\",\"2022-12-06T02:00:00+00:00\",\"2022-12-06T03:00:00+00:00\",\"2022-12-06T04:00:00+00:00\",\"2022-12-06T05:00:00+00:00\",\"2022-12-06T06:00:00+00:00\",\"2022-12-06T07:00:00+00:00\",\"2022-12-06T08:00:00+00:00\",\"2022-12-06T09:00:00+00:00\",\"2022-12-06T10:00:00+00:00\",\"2022-12-06T11:00:00+00:00\",\"2022-12-06T12:00:00+00:00\",\"2022-12-06T13:00:00+00:00\",\"2022-12-06T14:00:00+00:00\",\"2022-12-06T15:00:00+00:00\",\"2022-12-06T16:00:00+00:00\",\"2022-12-06T17:00:00+00:00\",\"2022-12-06T18:00:00+00:00\",\"2022-12-06T19:00:00+00:00\",\"2022-12-06T20:00:00+00:00\",\"2022-12-06T21:00:00+00:00\",\"2022-12-06T22:00:00+00:00\",\"2022-12-06T23:00:00+00:00\",\"2022-12-07T00:00:00+00:00\",\"2022-12-07T01:00:00+00:00\",\"2022-12-07T02:00:00+00:00\",\"2022-12-07T03:00:00+00:00\",\"2022-12-07T04:00:00+00:00\",\"2022-12-07T05:00:00+00:00\",\"2022-12-07T06:00:00+00:00\",\"2022-12-07T07:00:00+00:00\",\"2022-12-07T08:00:00+00:00\",\"2022-12-07T09:00:00+00:00\",\"2022-12-07T10:00:00+00:00\",\"2022-12-07T11:00:00+00:00\",\"2022-12-07T12:00:00+00:00\",\"2022-12-07T13:00:00+00:00\",\"2022-12-07T14:00:00+00:00\",\"2022-12-07T15:00:00+00:00\",\"2022-12-07T16:00:00+00:00\",\"2022-12-07T17:00:00+00:00\",\"2022-12-07T18:00:00+00:00\",\"2022-12-07T19:00:00+00:00\",\"2022-12-07T20:00:00+00:00\",\"2022-12-07T21:00:00+00:00\",\"2022-12-07T22:00:00+00:00\",\"2022-12-07T23:00:00+00:00\",\"2022-12-08T00:00:00+00:00\",\"2022-12-08T01:00:00+00:00\",\"2022-12-08T02:00:00+00:00\",\"2022-12-08T03:00:00+00:00\",\"2022-12-08T04:00:00+00:00\",\"2022-12-08T05:00:00+00:00\",\"2022-12-08T06:00:00+00:00\",\"2022-12-08T07:00:00+00:00\",\"2022-12-08T08:00:00+00:00\",\"2022-12-08T09:00:00+00:00\",\"2022-12-08T10:00:00+00:00\",\"2022-12-08T11:00:00+00:00\",\"2022-12-08T12:00:00+00:00\",\"2022-12-08T13:00:00+00:00\",\"2022-12-08T14:00:00+00:00\",\"2022-12-08T15:00:00+00:00\",\"2022-12-08T16:00:00+00:00\",\"2022-12-08T17:00:00+00:00\",\"2022-12-08T18:00:00+00:00\",\"2022-12-08T19:00:00+00:00\",\"2022-12-08T20:00:00+00:00\",\"2022-12-08T21:00:00+00:00\",\"2022-12-08T22:00:00+00:00\",\"2022-12-08T23:00:00+00:00\",\"2022-12-09T00:00:00+00:00\",\"2022-12-09T01:00:00+00:00\",\"2022-12-09T02:00:00+00:00\",\"2022-12-09T03:00:00+00:00\",\"2022-12-09T04:00:00+00:00\",\"2022-12-09T05:00:00+00:00\",\"2022-12-09T06:00:00+00:00\",\"2022-12-09T07:00:00+00:00\",\"2022-12-09T08:00:00+00:00\",\"2022-12-09T09:00:00+00:00\",\"2022-12-09T10:00:00+00:00\",\"2022-12-09T11:00:00+00:00\",\"2022-12-09T12:00:00+00:00\",\"2022-12-09T13:00:00+00:00\",\"2022-12-09T14:00:00+00:00\",\"2022-12-09T15:00:00+00:00\",\"2022-12-09T16:00:00+00:00\",\"2022-12-09T17:00:00+00:00\",\"2022-12-09T18:00:00+00:00\",\"2022-12-09T19:00:00+00:00\",\"2022-12-09T20:00:00+00:00\",\"2022-12-09T21:00:00+00:00\",\"2022-12-09T22:00:00+00:00\",\"2022-12-09T23:00:00+00:00\",\"2022-12-10T00:00:00+00:00\",\"2022-12-10T01:00:00+00:00\",\"2022-12-10T02:00:00+00:00\",\"2022-12-10T03:00:00+00:00\",\"2022-12-10T04:00:00+00:00\",\"2022-12-10T05:00:00+00:00\",\"2022-12-10T06:00:00+00:00\",\"2022-12-10T07:00:00+00:00\",\"2022-12-10T08:00:00+00:00\",\"2022-12-10T09:00:00+00:00\",\"2022-12-10T10:00:00+00:00\",\"2022-12-10T11:00:00+00:00\",\"2022-12-10T12:00:00+00:00\",\"2022-12-10T13:00:00+00:00\",\"2022-12-10T14:00:00+00:00\",\"2022-12-10T15:00:00+00:00\",\"2022-12-10T16:00:00+00:00\",\"2022-12-10T17:00:00+00:00\",\"2022-12-10T18:00:00+00:00\",\"2022-12-10T19:00:00+00:00\",\"2022-12-10T20:00:00+00:00\",\"2022-12-10T21:00:00+00:00\",\"2022-12-10T22:00:00+00:00\",\"2022-12-10T23:00:00+00:00\",\"2022-12-11T00:00:00+00:00\",\"2022-12-11T01:00:00+00:00\",\"2022-12-11T02:00:00+00:00\",\"2022-12-11T03:00:00+00:00\",\"2022-12-11T04:00:00+00:00\",\"2022-12-11T05:00:00+00:00\",\"2022-12-11T06:00:00+00:00\",\"2022-12-11T07:00:00+00:00\",\"2022-12-11T08:00:00+00:00\",\"2022-12-11T09:00:00+00:00\",\"2022-12-11T10:00:00+00:00\",\"2022-12-11T11:00:00+00:00\",\"2022-12-11T12:00:00+00:00\",\"2022-12-11T13:00:00+00:00\",\"2022-12-11T14:00:00+00:00\",\"2022-12-11T15:00:00+00:00\",\"2022-12-11T16:00:00+00:00\",\"2022-12-11T17:00:00+00:00\",\"2022-12-11T18:00:00+00:00\",\"2022-12-11T19:00:00+00:00\",\"2022-12-11T20:00:00+00:00\",\"2022-12-11T21:00:00+00:00\",\"2022-12-11T22:00:00+00:00\",\"2022-12-11T23:00:00+00:00\",\"2022-12-12T00:00:00+00:00\",\"2022-12-12T01:00:00+00:00\",\"2022-12-12T02:00:00+00:00\",\"2022-12-12T03:00:00+00:00\",\"2022-12-12T04:00:00+00:00\",\"2022-12-12T05:00:00+00:00\",\"2022-12-12T06:00:00+00:00\",\"2022-12-12T07:00:00+00:00\",\"2022-12-12T08:00:00+00:00\",\"2022-12-12T09:00:00+00:00\",\"2022-12-12T10:00:00+00:00\",\"2022-12-12T11:00:00+00:00\",\"2022-12-12T12:00:00+00:00\",\"2022-12-12T13:00:00+00:00\",\"2022-12-12T14:00:00+00:00\",\"2022-12-12T15:00:00+00:00\",\"2022-12-12T16:00:00+00:00\",\"2022-12-12T17:00:00+00:00\",\"2022-12-12T18:00:00+00:00\",\"2022-12-12T19:00:00+00:00\",\"2022-12-12T20:00:00+00:00\",\"2022-12-12T21:00:00+00:00\",\"2022-12-12T22:00:00+00:00\",\"2022-12-12T23:00:00+00:00\",\"2022-12-13T00:00:00+00:00\",\"2022-12-13T01:00:00+00:00\",\"2022-12-13T02:00:00+00:00\",\"2022-12-13T03:00:00+00:00\",\"2022-12-13T04:00:00+00:00\",\"2022-12-13T05:00:00+00:00\",\"2022-12-13T06:00:00+00:00\",\"2022-12-13T07:00:00+00:00\",\"2022-12-13T08:00:00+00:00\",\"2022-12-13T09:00:00+00:00\",\"2022-12-13T10:00:00+00:00\",\"2022-12-13T11:00:00+00:00\",\"2022-12-13T12:00:00+00:00\",\"2022-12-13T13:00:00+00:00\",\"2022-12-13T14:00:00+00:00\",\"2022-12-13T15:00:00+00:00\",\"2022-12-13T16:00:00+00:00\",\"2022-12-13T17:00:00+00:00\",\"2022-12-13T18:00:00+00:00\",\"2022-12-13T19:00:00+00:00\",\"2022-12-13T20:00:00+00:00\",\"2022-12-13T21:00:00+00:00\",\"2022-12-13T22:00:00+00:00\",\"2022-12-13T23:00:00+00:00\",\"2022-12-14T00:00:00+00:00\",\"2022-12-14T01:00:00+00:00\",\"2022-12-14T02:00:00+00:00\",\"2022-12-14T03:00:00+00:00\",\"2022-12-14T04:00:00+00:00\",\"2022-12-14T05:00:00+00:00\",\"2022-12-14T06:00:00+00:00\",\"2022-12-14T07:00:00+00:00\",\"2022-12-14T08:00:00+00:00\",\"2022-12-14T09:00:00+00:00\",\"2022-12-14T10:00:00+00:00\",\"2022-12-14T11:00:00+00:00\",\"2022-12-14T12:00:00+00:00\",\"2022-12-14T13:00:00+00:00\",\"2022-12-14T14:00:00+00:00\",\"2022-12-14T15:00:00+00:00\",\"2022-12-14T16:00:00+00:00\",\"2022-12-14T17:00:00+00:00\",\"2022-12-14T18:00:00+00:00\",\"2022-12-14T19:00:00+00:00\",\"2022-12-14T20:00:00+00:00\",\"2022-12-14T21:00:00+00:00\",\"2022-12-14T22:00:00+00:00\",\"2022-12-14T23:00:00+00:00\",\"2022-12-15T00:00:00+00:00\",\"2022-12-15T01:00:00+00:00\",\"2022-12-15T02:00:00+00:00\",\"2022-12-15T03:00:00+00:00\",\"2022-12-15T04:00:00+00:00\",\"2022-12-15T05:00:00+00:00\",\"2022-12-15T06:00:00+00:00\",\"2022-12-15T07:00:00+00:00\",\"2022-12-15T08:00:00+00:00\",\"2022-12-15T09:00:00+00:00\",\"2022-12-15T10:00:00+00:00\",\"2022-12-15T11:00:00+00:00\",\"2022-12-15T12:00:00+00:00\",\"2022-12-15T13:00:00+00:00\",\"2022-12-15T14:00:00+00:00\",\"2022-12-15T15:00:00+00:00\",\"2022-12-15T16:00:00+00:00\",\"2022-12-15T17:00:00+00:00\",\"2022-12-15T18:00:00+00:00\",\"2022-12-15T19:00:00+00:00\",\"2022-12-15T20:00:00+00:00\",\"2022-12-15T21:00:00+00:00\",\"2022-12-15T22:00:00+00:00\",\"2022-12-15T23:00:00+00:00\"],\"y\":[14,8,7,13,12,24,26,22,23,28,21,56,71,26,60,53,30,38,27,26,37,12,14,25,18,39,20,29,35,51,117,105,95,94,87,101,157,104,59,91,200,559,901,5904,3867,3045,1372,595,440,277,215,257,331,433,614,554,472,513,385,410,537,414,371,323,286,937,2499,904,679,457,311,207,141,90,101,83,113,149,164,200,231,232,291,395,562,374,478,355,418,395,295,205,235,168,147,83,45,42,35,31,58,63,124,147,159,227,188,203,178,132,83,73,133,111,94,74,119,141,67,38,33,26,46,25,55,39,56,103,120,95,203,125,112,203,128,155,174,424,190,162,146,87,57,29,27,24,23,41,27,40,60,114,98,131,143,123,128,147,143,152,808,877,3882,3889,3479,4599,2333,1026,483,320,321,343,381,543,781,893,930,757,747,820,636,544,497,478,428,486,409,415,348,220,160,112,72,46,52,56,77,93,142,152,182,183,170,172,149,132,157,141,111,169,171,154,163,129,96,58,30,27,15,15,31,35,61,90,168,105,122,93,113,114,157,93,114,146,124,127,129,93,104,118,89,22,24,45,42,44,70,101,214,312,236,355,366,332,224,168,147,156,137,133,125,89,59,60,55,25,19,25,30,41,58,82,100,75,91,125,66,123,100,100,88,87,92,86,64,112,65,34,20,10,22,21,14,23,34,75,120,108,116,113,148,141,94,76,384,806,983,3917,12015,3102,2349,1441,848,579,418,391,368,454,1008,981,3479,7575,6740,4730,3336,2575,2175,2073,2222,2019,1615,1714,2798,1855,1196,687,435,339,315,286,399,506,567,706,703,573,558,438,421,346,301,364,312,310,275,217,177,138,98,83,62,39,50,62,78,67,100,110,89,119,93,125,109,106,95,95,99,86,194,117,77,56,26,38,19,18,17,14,27,20,54,134,364,334,244,170,151,116,108,127,102,101,95,95,93,57,49,51,26,27,25,13,29,28,34,47,37,86,66,64,48,36,39,30,41,51,82,60,53,26,27],\"type\":\"scatter\"}],                        {\"template\":{\"data\":{\"histogram2dcontour\":[{\"type\":\"histogram2dcontour\",\"colorbar\":{\"outlinewidth\":0,\"ticks\":\"\"},\"colorscale\":[[0.0,\"#0d0887\"],[0.1111111111111111,\"#46039f\"],[0.2222222222222222,\"#7201a8\"],[0.3333333333333333,\"#9c179e\"],[0.4444444444444444,\"#bd3786\"],[0.5555555555555556,\"#d8576b\"],[0.6666666666666666,\"#ed7953\"],[0.7777777777777778,\"#fb9f3a\"],[0.8888888888888888,\"#fdca26\"],[1.0,\"#f0f921\"]]}],\"choropleth\":[{\"type\":\"choropleth\",\"colorbar\":{\"outlinewidth\":0,\"ticks\":\"\"}}],\"histogram2d\":[{\"type\":\"histogram2d\",\"colorbar\":{\"outlinewidth\":0,\"ticks\":\"\"},\"colorscale\":[[0.0,\"#0d0887\"],[0.1111111111111111,\"#46039f\"],[0.2222222222222222,\"#7201a8\"],[0.3333333333333333,\"#9c179e\"],[0.4444444444444444,\"#bd3786\"],[0.5555555555555556,\"#d8576b\"],[0.6666666666666666,\"#ed7953\"],[0.7777777777777778,\"#fb9f3a\"],[0.8888888888888888,\"#fdca26\"],[1.0,\"#f0f921\"]]}],\"heatmap\":[{\"type\":\"heatmap\",\"colorbar\":{\"outlinewidth\":0,\"ticks\":\"\"},\"colorscale\":[[0.0,\"#0d0887\"],[0.1111111111111111,\"#46039f\"],[0.2222222222222222,\"#7201a8\"],[0.3333333333333333,\"#9c179e\"],[0.4444444444444444,\"#bd3786\"],[0.5555555555555556,\"#d8576b\"],[0.6666666666666666,\"#ed7953\"],[0.7777777777777778,\"#fb9f3a\"],[0.8888888888888888,\"#fdca26\"],[1.0,\"#f0f921\"]]}],\"heatmapgl\":[{\"type\":\"heatmapgl\",\"colorbar\":{\"outlinewidth\":0,\"ticks\":\"\"},\"colorscale\":[[0.0,\"#0d0887\"],[0.1111111111111111,\"#46039f\"],[0.2222222222222222,\"#7201a8\"],[0.3333333333333333,\"#9c179e\"],[0.4444444444444444,\"#bd3786\"],[0.5555555555555556,\"#d8576b\"],[0.6666666666666666,\"#ed7953\"],[0.7777777777777778,\"#fb9f3a\"],[0.8888888888888888,\"#fdca26\"],[1.0,\"#f0f921\"]]}],\"contourcarpet\":[{\"type\":\"contourcarpet\",\"colorbar\":{\"outlinewidth\":0,\"ticks\":\"\"}}],\"contour\":[{\"type\":\"contour\",\"colorbar\":{\"outlinewidth\":0,\"ticks\":\"\"},\"colorscale\":[[0.0,\"#0d0887\"],[0.1111111111111111,\"#46039f\"],[0.2222222222222222,\"#7201a8\"],[0.3333333333333333,\"#9c179e\"],[0.4444444444444444,\"#bd3786\"],[0.5555555555555556,\"#d8576b\"],[0.6666666666666666,\"#ed7953\"],[0.7777777777777778,\"#fb9f3a\"],[0.8888888888888888,\"#fdca26\"],[1.0,\"#f0f921\"]]}],\"surface\":[{\"type\":\"surface\",\"colorbar\":{\"outlinewidth\":0,\"ticks\":\"\"},\"colorscale\":[[0.0,\"#0d0887\"],[0.1111111111111111,\"#46039f\"],[0.2222222222222222,\"#7201a8\"],[0.3333333333333333,\"#9c179e\"],[0.4444444444444444,\"#bd3786\"],[0.5555555555555556,\"#d8576b\"],[0.6666666666666666,\"#ed7953\"],[0.7777777777777778,\"#fb9f3a\"],[0.8888888888888888,\"#fdca26\"],[1.0,\"#f0f921\"]]}],\"mesh3d\":[{\"type\":\"mesh3d\",\"colorbar\":{\"outlinewidth\":0,\"ticks\":\"\"}}],\"scatter\":[{\"fillpattern\":{\"fillmode\":\"overlay\",\"size\":10,\"solidity\":0.2},\"type\":\"scatter\"}],\"parcoords\":[{\"type\":\"parcoords\",\"line\":{\"colorbar\":{\"outlinewidth\":0,\"ticks\":\"\"}}}],\"scatterpolargl\":[{\"type\":\"scatterpolargl\",\"marker\":{\"colorbar\":{\"outlinewidth\":0,\"ticks\":\"\"}}}],\"bar\":[{\"error_x\":{\"color\":\"#2a3f5f\"},\"error_y\":{\"color\":\"#2a3f5f\"},\"marker\":{\"line\":{\"color\":\"#E5ECF6\",\"width\":0.5},\"pattern\":{\"fillmode\":\"overlay\",\"size\":10,\"solidity\":0.2}},\"type\":\"bar\"}],\"scattergeo\":[{\"type\":\"scattergeo\",\"marker\":{\"colorbar\":{\"outlinewidth\":0,\"ticks\":\"\"}}}],\"scatterpolar\":[{\"type\":\"scatterpolar\",\"marker\":{\"colorbar\":{\"outlinewidth\":0,\"ticks\":\"\"}}}],\"histogram\":[{\"marker\":{\"pattern\":{\"fillmode\":\"overlay\",\"size\":10,\"solidity\":0.2}},\"type\":\"histogram\"}],\"scattergl\":[{\"type\":\"scattergl\",\"marker\":{\"colorbar\":{\"outlinewidth\":0,\"ticks\":\"\"}}}],\"scatter3d\":[{\"type\":\"scatter3d\",\"line\":{\"colorbar\":{\"outlinewidth\":0,\"ticks\":\"\"}},\"marker\":{\"colorbar\":{\"outlinewidth\":0,\"ticks\":\"\"}}}],\"scattermapbox\":[{\"type\":\"scattermapbox\",\"marker\":{\"colorbar\":{\"outlinewidth\":0,\"ticks\":\"\"}}}],\"scatterternary\":[{\"type\":\"scatterternary\",\"marker\":{\"colorbar\":{\"outlinewidth\":0,\"ticks\":\"\"}}}],\"scattercarpet\":[{\"type\":\"scattercarpet\",\"marker\":{\"colorbar\":{\"outlinewidth\":0,\"ticks\":\"\"}}}],\"carpet\":[{\"aaxis\":{\"endlinecolor\":\"#2a3f5f\",\"gridcolor\":\"white\",\"linecolor\":\"white\",\"minorgridcolor\":\"white\",\"startlinecolor\":\"#2a3f5f\"},\"baxis\":{\"endlinecolor\":\"#2a3f5f\",\"gridcolor\":\"white\",\"linecolor\":\"white\",\"minorgridcolor\":\"white\",\"startlinecolor\":\"#2a3f5f\"},\"type\":\"carpet\"}],\"table\":[{\"cells\":{\"fill\":{\"color\":\"#EBF0F8\"},\"line\":{\"color\":\"white\"}},\"header\":{\"fill\":{\"color\":\"#C8D4E3\"},\"line\":{\"color\":\"white\"}},\"type\":\"table\"}],\"barpolar\":[{\"marker\":{\"line\":{\"color\":\"#E5ECF6\",\"width\":0.5},\"pattern\":{\"fillmode\":\"overlay\",\"size\":10,\"solidity\":0.2}},\"type\":\"barpolar\"}],\"pie\":[{\"automargin\":true,\"type\":\"pie\"}]},\"layout\":{\"autotypenumbers\":\"strict\",\"colorway\":[\"#636efa\",\"#EF553B\",\"#00cc96\",\"#ab63fa\",\"#FFA15A\",\"#19d3f3\",\"#FF6692\",\"#B6E880\",\"#FF97FF\",\"#FECB52\"],\"font\":{\"color\":\"#2a3f5f\"},\"hovermode\":\"closest\",\"hoverlabel\":{\"align\":\"left\"},\"paper_bgcolor\":\"white\",\"plot_bgcolor\":\"#E5ECF6\",\"polar\":{\"bgcolor\":\"#E5ECF6\",\"angularaxis\":{\"gridcolor\":\"white\",\"linecolor\":\"white\",\"ticks\":\"\"},\"radialaxis\":{\"gridcolor\":\"white\",\"linecolor\":\"white\",\"ticks\":\"\"}},\"ternary\":{\"bgcolor\":\"#E5ECF6\",\"aaxis\":{\"gridcolor\":\"white\",\"linecolor\":\"white\",\"ticks\":\"\"},\"baxis\":{\"gridcolor\":\"white\",\"linecolor\":\"white\",\"ticks\":\"\"},\"caxis\":{\"gridcolor\":\"white\",\"linecolor\":\"white\",\"ticks\":\"\"}},\"coloraxis\":{\"colorbar\":{\"outlinewidth\":0,\"ticks\":\"\"}},\"colorscale\":{\"sequential\":[[0.0,\"#0d0887\"],[0.1111111111111111,\"#46039f\"],[0.2222222222222222,\"#7201a8\"],[0.3333333333333333,\"#9c179e\"],[0.4444444444444444,\"#bd3786\"],[0.5555555555555556,\"#d8576b\"],[0.6666666666666666,\"#ed7953\"],[0.7777777777777778,\"#fb9f3a\"],[0.8888888888888888,\"#fdca26\"],[1.0,\"#f0f921\"]],\"sequentialminus\":[[0.0,\"#0d0887\"],[0.1111111111111111,\"#46039f\"],[0.2222222222222222,\"#7201a8\"],[0.3333333333333333,\"#9c179e\"],[0.4444444444444444,\"#bd3786\"],[0.5555555555555556,\"#d8576b\"],[0.6666666666666666,\"#ed7953\"],[0.7777777777777778,\"#fb9f3a\"],[0.8888888888888888,\"#fdca26\"],[1.0,\"#f0f921\"]],\"diverging\":[[0,\"#8e0152\"],[0.1,\"#c51b7d\"],[0.2,\"#de77ae\"],[0.3,\"#f1b6da\"],[0.4,\"#fde0ef\"],[0.5,\"#f7f7f7\"],[0.6,\"#e6f5d0\"],[0.7,\"#b8e186\"],[0.8,\"#7fbc41\"],[0.9,\"#4d9221\"],[1,\"#276419\"]]},\"xaxis\":{\"gridcolor\":\"white\",\"linecolor\":\"white\",\"ticks\":\"\",\"title\":{\"standoff\":15},\"zerolinecolor\":\"white\",\"automargin\":true,\"zerolinewidth\":2},\"yaxis\":{\"gridcolor\":\"white\",\"linecolor\":\"white\",\"ticks\":\"\",\"title\":{\"standoff\":15},\"zerolinecolor\":\"white\",\"automargin\":true,\"zerolinewidth\":2},\"scene\":{\"xaxis\":{\"backgroundcolor\":\"#E5ECF6\",\"gridcolor\":\"white\",\"linecolor\":\"white\",\"showbackground\":true,\"ticks\":\"\",\"zerolinecolor\":\"white\",\"gridwidth\":2},\"yaxis\":{\"backgroundcolor\":\"#E5ECF6\",\"gridcolor\":\"white\",\"linecolor\":\"white\",\"showbackground\":true,\"ticks\":\"\",\"zerolinecolor\":\"white\",\"gridwidth\":2},\"zaxis\":{\"backgroundcolor\":\"#E5ECF6\",\"gridcolor\":\"white\",\"linecolor\":\"white\",\"showbackground\":true,\"ticks\":\"\",\"zerolinecolor\":\"white\",\"gridwidth\":2}},\"shapedefaults\":{\"line\":{\"color\":\"#2a3f5f\"}},\"annotationdefaults\":{\"arrowcolor\":\"#2a3f5f\",\"arrowhead\":0,\"arrowwidth\":1},\"geo\":{\"bgcolor\":\"white\",\"landcolor\":\"#E5ECF6\",\"subunitcolor\":\"white\",\"showland\":true,\"showlakes\":true,\"lakecolor\":\"white\"},\"title\":{\"x\":0.05},\"mapbox\":{\"style\":\"light\"}}}},                        {\"responsive\": true}                    ).then(function(){\n",
              "                            \n",
              "var gd = document.getElementById('d517764b-c8cd-414e-84f6-fad7425826a8');\n",
              "var x = new MutationObserver(function (mutations, observer) {{\n",
              "        var display = window.getComputedStyle(gd).display;\n",
              "        if (!display || display === 'none') {{\n",
              "            console.log([gd, 'removed!']);\n",
              "            Plotly.purge(gd);\n",
              "            observer.disconnect();\n",
              "        }}\n",
              "}});\n",
              "\n",
              "// Listen for the removal of the full notebook cells\n",
              "var notebookContainer = gd.closest('#notebook-container');\n",
              "if (notebookContainer) {{\n",
              "    x.observe(notebookContainer, {childList: true});\n",
              "}}\n",
              "\n",
              "// Listen for the clearing of the current output cell\n",
              "var outputEl = gd.closest('.output');\n",
              "if (outputEl) {{\n",
              "    x.observe(outputEl, {childList: true});\n",
              "}}\n",
              "\n",
              "                        })                };                            </script>        </div>\n",
              "</body>\n",
              "</html>"
            ]
          },
          "metadata": {}
        }
      ]
    },
    {
      "cell_type": "code",
      "metadata": {
        "colab": {
          "base_uri": "https://localhost:8080/",
          "height": 542
        },
        "id": "PkFNciacQ8gN",
        "outputId": "0c42d0ce-527c-4927-9191-23219e9e75c9"
      },
      "source": [
        "# Plot Sterling, Rashford, Kane tweet frequency\n",
        "df = joined_df.resample(INTERVAL, on='created_at')['MarcusRashford', 'BellinghamJude', 'HKane'].sum().reset_index()\n",
        "fig = create_frequency_plot(df, ['MarcusRashford', 'BellinghamJude', 'HKane'])\n",
        "fig.show()"
      ],
      "execution_count": 31,
      "outputs": [
        {
          "output_type": "display_data",
          "data": {
            "text/html": [
              "<html>\n",
              "<head><meta charset=\"utf-8\" /></head>\n",
              "<body>\n",
              "    <div>            <script src=\"https://cdnjs.cloudflare.com/ajax/libs/mathjax/2.7.5/MathJax.js?config=TeX-AMS-MML_SVG\"></script><script type=\"text/javascript\">if (window.MathJax && window.MathJax.Hub && window.MathJax.Hub.Config) {window.MathJax.Hub.Config({SVG: {font: \"STIX-Web\"}});}</script>                <script type=\"text/javascript\">window.PlotlyConfig = {MathJaxConfig: 'local'};</script>\n",
              "        <script src=\"https://cdn.plot.ly/plotly-2.18.2.min.js\"></script>                <div id=\"ac42ac81-1f8e-4328-b70b-52ef2b1158dd\" class=\"plotly-graph-div\" style=\"height:525px; width:100%;\"></div>            <script type=\"text/javascript\">                                    window.PLOTLYENV=window.PLOTLYENV || {};                                    if (document.getElementById(\"ac42ac81-1f8e-4328-b70b-52ef2b1158dd\")) {                    Plotly.newPlot(                        \"ac42ac81-1f8e-4328-b70b-52ef2b1158dd\",                        [{\"mode\":\"lines\",\"name\":\"MarcusRashford\",\"x\":[\"2022-11-28T01:00:00+00:00\",\"2022-11-28T02:00:00+00:00\",\"2022-11-28T03:00:00+00:00\",\"2022-11-28T04:00:00+00:00\",\"2022-11-28T05:00:00+00:00\",\"2022-11-28T06:00:00+00:00\",\"2022-11-28T07:00:00+00:00\",\"2022-11-28T08:00:00+00:00\",\"2022-11-28T09:00:00+00:00\",\"2022-11-28T10:00:00+00:00\",\"2022-11-28T11:00:00+00:00\",\"2022-11-28T12:00:00+00:00\",\"2022-11-28T13:00:00+00:00\",\"2022-11-28T14:00:00+00:00\",\"2022-11-28T15:00:00+00:00\",\"2022-11-28T16:00:00+00:00\",\"2022-11-28T17:00:00+00:00\",\"2022-11-28T18:00:00+00:00\",\"2022-11-28T19:00:00+00:00\",\"2022-11-28T20:00:00+00:00\",\"2022-11-28T21:00:00+00:00\",\"2022-11-28T22:00:00+00:00\",\"2022-11-28T23:00:00+00:00\",\"2022-11-29T00:00:00+00:00\",\"2022-11-29T01:00:00+00:00\",\"2022-11-29T02:00:00+00:00\",\"2022-11-29T03:00:00+00:00\",\"2022-11-29T04:00:00+00:00\",\"2022-11-29T05:00:00+00:00\",\"2022-11-29T06:00:00+00:00\",\"2022-11-29T07:00:00+00:00\",\"2022-11-29T08:00:00+00:00\",\"2022-11-29T09:00:00+00:00\",\"2022-11-29T10:00:00+00:00\",\"2022-11-29T11:00:00+00:00\",\"2022-11-29T12:00:00+00:00\",\"2022-11-29T13:00:00+00:00\",\"2022-11-29T14:00:00+00:00\",\"2022-11-29T15:00:00+00:00\",\"2022-11-29T16:00:00+00:00\",\"2022-11-29T17:00:00+00:00\",\"2022-11-29T18:00:00+00:00\",\"2022-11-29T19:00:00+00:00\",\"2022-11-29T20:00:00+00:00\",\"2022-11-29T21:00:00+00:00\",\"2022-11-29T22:00:00+00:00\",\"2022-11-29T23:00:00+00:00\",\"2022-11-30T00:00:00+00:00\",\"2022-11-30T01:00:00+00:00\",\"2022-11-30T02:00:00+00:00\",\"2022-11-30T03:00:00+00:00\",\"2022-11-30T04:00:00+00:00\",\"2022-11-30T05:00:00+00:00\",\"2022-11-30T06:00:00+00:00\",\"2022-11-30T07:00:00+00:00\",\"2022-11-30T08:00:00+00:00\",\"2022-11-30T09:00:00+00:00\",\"2022-11-30T10:00:00+00:00\",\"2022-11-30T11:00:00+00:00\",\"2022-11-30T12:00:00+00:00\",\"2022-11-30T13:00:00+00:00\",\"2022-11-30T14:00:00+00:00\",\"2022-11-30T15:00:00+00:00\",\"2022-11-30T16:00:00+00:00\",\"2022-11-30T17:00:00+00:00\",\"2022-11-30T18:00:00+00:00\",\"2022-11-30T19:00:00+00:00\",\"2022-11-30T20:00:00+00:00\",\"2022-11-30T21:00:00+00:00\",\"2022-11-30T22:00:00+00:00\",\"2022-11-30T23:00:00+00:00\",\"2022-12-01T00:00:00+00:00\",\"2022-12-01T01:00:00+00:00\",\"2022-12-01T02:00:00+00:00\",\"2022-12-01T03:00:00+00:00\",\"2022-12-01T04:00:00+00:00\",\"2022-12-01T05:00:00+00:00\",\"2022-12-01T06:00:00+00:00\",\"2022-12-01T07:00:00+00:00\",\"2022-12-01T08:00:00+00:00\",\"2022-12-01T09:00:00+00:00\",\"2022-12-01T10:00:00+00:00\",\"2022-12-01T11:00:00+00:00\",\"2022-12-01T12:00:00+00:00\",\"2022-12-01T13:00:00+00:00\",\"2022-12-01T14:00:00+00:00\",\"2022-12-01T15:00:00+00:00\",\"2022-12-01T16:00:00+00:00\",\"2022-12-01T17:00:00+00:00\",\"2022-12-01T18:00:00+00:00\",\"2022-12-01T19:00:00+00:00\",\"2022-12-01T20:00:00+00:00\",\"2022-12-01T21:00:00+00:00\",\"2022-12-01T22:00:00+00:00\",\"2022-12-01T23:00:00+00:00\",\"2022-12-02T00:00:00+00:00\",\"2022-12-02T01:00:00+00:00\",\"2022-12-02T02:00:00+00:00\",\"2022-12-02T03:00:00+00:00\",\"2022-12-02T04:00:00+00:00\",\"2022-12-02T05:00:00+00:00\",\"2022-12-02T06:00:00+00:00\",\"2022-12-02T07:00:00+00:00\",\"2022-12-02T08:00:00+00:00\",\"2022-12-02T09:00:00+00:00\",\"2022-12-02T10:00:00+00:00\",\"2022-12-02T11:00:00+00:00\",\"2022-12-02T12:00:00+00:00\",\"2022-12-02T13:00:00+00:00\",\"2022-12-02T14:00:00+00:00\",\"2022-12-02T15:00:00+00:00\",\"2022-12-02T16:00:00+00:00\",\"2022-12-02T17:00:00+00:00\",\"2022-12-02T18:00:00+00:00\",\"2022-12-02T19:00:00+00:00\",\"2022-12-02T20:00:00+00:00\",\"2022-12-02T21:00:00+00:00\",\"2022-12-02T22:00:00+00:00\",\"2022-12-02T23:00:00+00:00\",\"2022-12-03T00:00:00+00:00\",\"2022-12-03T01:00:00+00:00\",\"2022-12-03T02:00:00+00:00\",\"2022-12-03T03:00:00+00:00\",\"2022-12-03T04:00:00+00:00\",\"2022-12-03T05:00:00+00:00\",\"2022-12-03T06:00:00+00:00\",\"2022-12-03T07:00:00+00:00\",\"2022-12-03T08:00:00+00:00\",\"2022-12-03T09:00:00+00:00\",\"2022-12-03T10:00:00+00:00\",\"2022-12-03T11:00:00+00:00\",\"2022-12-03T12:00:00+00:00\",\"2022-12-03T13:00:00+00:00\",\"2022-12-03T14:00:00+00:00\",\"2022-12-03T15:00:00+00:00\",\"2022-12-03T16:00:00+00:00\",\"2022-12-03T17:00:00+00:00\",\"2022-12-03T18:00:00+00:00\",\"2022-12-03T19:00:00+00:00\",\"2022-12-03T20:00:00+00:00\",\"2022-12-03T21:00:00+00:00\",\"2022-12-03T22:00:00+00:00\",\"2022-12-03T23:00:00+00:00\",\"2022-12-04T00:00:00+00:00\",\"2022-12-04T01:00:00+00:00\",\"2022-12-04T02:00:00+00:00\",\"2022-12-04T03:00:00+00:00\",\"2022-12-04T04:00:00+00:00\",\"2022-12-04T05:00:00+00:00\",\"2022-12-04T06:00:00+00:00\",\"2022-12-04T07:00:00+00:00\",\"2022-12-04T08:00:00+00:00\",\"2022-12-04T09:00:00+00:00\",\"2022-12-04T10:00:00+00:00\",\"2022-12-04T11:00:00+00:00\",\"2022-12-04T12:00:00+00:00\",\"2022-12-04T13:00:00+00:00\",\"2022-12-04T14:00:00+00:00\",\"2022-12-04T15:00:00+00:00\",\"2022-12-04T16:00:00+00:00\",\"2022-12-04T17:00:00+00:00\",\"2022-12-04T18:00:00+00:00\",\"2022-12-04T19:00:00+00:00\",\"2022-12-04T20:00:00+00:00\",\"2022-12-04T21:00:00+00:00\",\"2022-12-04T22:00:00+00:00\",\"2022-12-04T23:00:00+00:00\",\"2022-12-05T00:00:00+00:00\",\"2022-12-05T01:00:00+00:00\",\"2022-12-05T02:00:00+00:00\",\"2022-12-05T03:00:00+00:00\",\"2022-12-05T04:00:00+00:00\",\"2022-12-05T05:00:00+00:00\",\"2022-12-05T06:00:00+00:00\",\"2022-12-05T07:00:00+00:00\",\"2022-12-05T08:00:00+00:00\",\"2022-12-05T09:00:00+00:00\",\"2022-12-05T10:00:00+00:00\",\"2022-12-05T11:00:00+00:00\",\"2022-12-05T12:00:00+00:00\",\"2022-12-05T13:00:00+00:00\",\"2022-12-05T14:00:00+00:00\",\"2022-12-05T15:00:00+00:00\",\"2022-12-05T16:00:00+00:00\",\"2022-12-05T17:00:00+00:00\",\"2022-12-05T18:00:00+00:00\",\"2022-12-05T19:00:00+00:00\",\"2022-12-05T20:00:00+00:00\",\"2022-12-05T21:00:00+00:00\",\"2022-12-05T22:00:00+00:00\",\"2022-12-05T23:00:00+00:00\",\"2022-12-06T00:00:00+00:00\",\"2022-12-06T01:00:00+00:00\",\"2022-12-06T02:00:00+00:00\",\"2022-12-06T03:00:00+00:00\",\"2022-12-06T04:00:00+00:00\",\"2022-12-06T05:00:00+00:00\",\"2022-12-06T06:00:00+00:00\",\"2022-12-06T07:00:00+00:00\",\"2022-12-06T08:00:00+00:00\",\"2022-12-06T09:00:00+00:00\",\"2022-12-06T10:00:00+00:00\",\"2022-12-06T11:00:00+00:00\",\"2022-12-06T12:00:00+00:00\",\"2022-12-06T13:00:00+00:00\",\"2022-12-06T14:00:00+00:00\",\"2022-12-06T15:00:00+00:00\",\"2022-12-06T16:00:00+00:00\",\"2022-12-06T17:00:00+00:00\",\"2022-12-06T18:00:00+00:00\",\"2022-12-06T19:00:00+00:00\",\"2022-12-06T20:00:00+00:00\",\"2022-12-06T21:00:00+00:00\",\"2022-12-06T22:00:00+00:00\",\"2022-12-06T23:00:00+00:00\",\"2022-12-07T00:00:00+00:00\",\"2022-12-07T01:00:00+00:00\",\"2022-12-07T02:00:00+00:00\",\"2022-12-07T03:00:00+00:00\",\"2022-12-07T04:00:00+00:00\",\"2022-12-07T05:00:00+00:00\",\"2022-12-07T06:00:00+00:00\",\"2022-12-07T07:00:00+00:00\",\"2022-12-07T08:00:00+00:00\",\"2022-12-07T09:00:00+00:00\",\"2022-12-07T10:00:00+00:00\",\"2022-12-07T11:00:00+00:00\",\"2022-12-07T12:00:00+00:00\",\"2022-12-07T13:00:00+00:00\",\"2022-12-07T14:00:00+00:00\",\"2022-12-07T15:00:00+00:00\",\"2022-12-07T16:00:00+00:00\",\"2022-12-07T17:00:00+00:00\",\"2022-12-07T18:00:00+00:00\",\"2022-12-07T19:00:00+00:00\",\"2022-12-07T20:00:00+00:00\",\"2022-12-07T21:00:00+00:00\",\"2022-12-07T22:00:00+00:00\",\"2022-12-07T23:00:00+00:00\",\"2022-12-08T00:00:00+00:00\",\"2022-12-08T01:00:00+00:00\",\"2022-12-08T02:00:00+00:00\",\"2022-12-08T03:00:00+00:00\",\"2022-12-08T04:00:00+00:00\",\"2022-12-08T05:00:00+00:00\",\"2022-12-08T06:00:00+00:00\",\"2022-12-08T07:00:00+00:00\",\"2022-12-08T08:00:00+00:00\",\"2022-12-08T09:00:00+00:00\",\"2022-12-08T10:00:00+00:00\",\"2022-12-08T11:00:00+00:00\",\"2022-12-08T12:00:00+00:00\",\"2022-12-08T13:00:00+00:00\",\"2022-12-08T14:00:00+00:00\",\"2022-12-08T15:00:00+00:00\",\"2022-12-08T16:00:00+00:00\",\"2022-12-08T17:00:00+00:00\",\"2022-12-08T18:00:00+00:00\",\"2022-12-08T19:00:00+00:00\",\"2022-12-08T20:00:00+00:00\",\"2022-12-08T21:00:00+00:00\",\"2022-12-08T22:00:00+00:00\",\"2022-12-08T23:00:00+00:00\",\"2022-12-09T00:00:00+00:00\",\"2022-12-09T01:00:00+00:00\",\"2022-12-09T02:00:00+00:00\",\"2022-12-09T03:00:00+00:00\",\"2022-12-09T04:00:00+00:00\",\"2022-12-09T05:00:00+00:00\",\"2022-12-09T06:00:00+00:00\",\"2022-12-09T07:00:00+00:00\",\"2022-12-09T08:00:00+00:00\",\"2022-12-09T09:00:00+00:00\",\"2022-12-09T10:00:00+00:00\",\"2022-12-09T11:00:00+00:00\",\"2022-12-09T12:00:00+00:00\",\"2022-12-09T13:00:00+00:00\",\"2022-12-09T14:00:00+00:00\",\"2022-12-09T15:00:00+00:00\",\"2022-12-09T16:00:00+00:00\",\"2022-12-09T17:00:00+00:00\",\"2022-12-09T18:00:00+00:00\",\"2022-12-09T19:00:00+00:00\",\"2022-12-09T20:00:00+00:00\",\"2022-12-09T21:00:00+00:00\",\"2022-12-09T22:00:00+00:00\",\"2022-12-09T23:00:00+00:00\",\"2022-12-10T00:00:00+00:00\",\"2022-12-10T01:00:00+00:00\",\"2022-12-10T02:00:00+00:00\",\"2022-12-10T03:00:00+00:00\",\"2022-12-10T04:00:00+00:00\",\"2022-12-10T05:00:00+00:00\",\"2022-12-10T06:00:00+00:00\",\"2022-12-10T07:00:00+00:00\",\"2022-12-10T08:00:00+00:00\",\"2022-12-10T09:00:00+00:00\",\"2022-12-10T10:00:00+00:00\",\"2022-12-10T11:00:00+00:00\",\"2022-12-10T12:00:00+00:00\",\"2022-12-10T13:00:00+00:00\",\"2022-12-10T14:00:00+00:00\",\"2022-12-10T15:00:00+00:00\",\"2022-12-10T16:00:00+00:00\",\"2022-12-10T17:00:00+00:00\",\"2022-12-10T18:00:00+00:00\",\"2022-12-10T19:00:00+00:00\",\"2022-12-10T20:00:00+00:00\",\"2022-12-10T21:00:00+00:00\",\"2022-12-10T22:00:00+00:00\",\"2022-12-10T23:00:00+00:00\",\"2022-12-11T00:00:00+00:00\",\"2022-12-11T01:00:00+00:00\",\"2022-12-11T02:00:00+00:00\",\"2022-12-11T03:00:00+00:00\",\"2022-12-11T04:00:00+00:00\",\"2022-12-11T05:00:00+00:00\",\"2022-12-11T06:00:00+00:00\",\"2022-12-11T07:00:00+00:00\",\"2022-12-11T08:00:00+00:00\",\"2022-12-11T09:00:00+00:00\",\"2022-12-11T10:00:00+00:00\",\"2022-12-11T11:00:00+00:00\",\"2022-12-11T12:00:00+00:00\",\"2022-12-11T13:00:00+00:00\",\"2022-12-11T14:00:00+00:00\",\"2022-12-11T15:00:00+00:00\",\"2022-12-11T16:00:00+00:00\",\"2022-12-11T17:00:00+00:00\",\"2022-12-11T18:00:00+00:00\",\"2022-12-11T19:00:00+00:00\",\"2022-12-11T20:00:00+00:00\",\"2022-12-11T21:00:00+00:00\",\"2022-12-11T22:00:00+00:00\",\"2022-12-11T23:00:00+00:00\",\"2022-12-12T00:00:00+00:00\",\"2022-12-12T01:00:00+00:00\",\"2022-12-12T02:00:00+00:00\",\"2022-12-12T03:00:00+00:00\",\"2022-12-12T04:00:00+00:00\",\"2022-12-12T05:00:00+00:00\",\"2022-12-12T06:00:00+00:00\",\"2022-12-12T07:00:00+00:00\",\"2022-12-12T08:00:00+00:00\",\"2022-12-12T09:00:00+00:00\",\"2022-12-12T10:00:00+00:00\",\"2022-12-12T11:00:00+00:00\",\"2022-12-12T12:00:00+00:00\",\"2022-12-12T13:00:00+00:00\",\"2022-12-12T14:00:00+00:00\",\"2022-12-12T15:00:00+00:00\",\"2022-12-12T16:00:00+00:00\",\"2022-12-12T17:00:00+00:00\",\"2022-12-12T18:00:00+00:00\",\"2022-12-12T19:00:00+00:00\",\"2022-12-12T20:00:00+00:00\",\"2022-12-12T21:00:00+00:00\",\"2022-12-12T22:00:00+00:00\",\"2022-12-12T23:00:00+00:00\",\"2022-12-13T00:00:00+00:00\",\"2022-12-13T01:00:00+00:00\",\"2022-12-13T02:00:00+00:00\",\"2022-12-13T03:00:00+00:00\",\"2022-12-13T04:00:00+00:00\",\"2022-12-13T05:00:00+00:00\",\"2022-12-13T06:00:00+00:00\",\"2022-12-13T07:00:00+00:00\",\"2022-12-13T08:00:00+00:00\",\"2022-12-13T09:00:00+00:00\",\"2022-12-13T10:00:00+00:00\",\"2022-12-13T11:00:00+00:00\",\"2022-12-13T12:00:00+00:00\",\"2022-12-13T13:00:00+00:00\",\"2022-12-13T14:00:00+00:00\",\"2022-12-13T15:00:00+00:00\",\"2022-12-13T16:00:00+00:00\",\"2022-12-13T17:00:00+00:00\",\"2022-12-13T18:00:00+00:00\",\"2022-12-13T19:00:00+00:00\",\"2022-12-13T20:00:00+00:00\",\"2022-12-13T21:00:00+00:00\",\"2022-12-13T22:00:00+00:00\",\"2022-12-13T23:00:00+00:00\",\"2022-12-14T00:00:00+00:00\",\"2022-12-14T01:00:00+00:00\",\"2022-12-14T02:00:00+00:00\",\"2022-12-14T03:00:00+00:00\",\"2022-12-14T04:00:00+00:00\",\"2022-12-14T05:00:00+00:00\",\"2022-12-14T06:00:00+00:00\",\"2022-12-14T07:00:00+00:00\",\"2022-12-14T08:00:00+00:00\",\"2022-12-14T09:00:00+00:00\",\"2022-12-14T10:00:00+00:00\",\"2022-12-14T11:00:00+00:00\",\"2022-12-14T12:00:00+00:00\",\"2022-12-14T13:00:00+00:00\",\"2022-12-14T14:00:00+00:00\",\"2022-12-14T15:00:00+00:00\",\"2022-12-14T16:00:00+00:00\",\"2022-12-14T17:00:00+00:00\",\"2022-12-14T18:00:00+00:00\",\"2022-12-14T19:00:00+00:00\",\"2022-12-14T20:00:00+00:00\",\"2022-12-14T21:00:00+00:00\",\"2022-12-14T22:00:00+00:00\",\"2022-12-14T23:00:00+00:00\",\"2022-12-15T00:00:00+00:00\",\"2022-12-15T01:00:00+00:00\",\"2022-12-15T02:00:00+00:00\",\"2022-12-15T03:00:00+00:00\",\"2022-12-15T04:00:00+00:00\",\"2022-12-15T05:00:00+00:00\",\"2022-12-15T06:00:00+00:00\",\"2022-12-15T07:00:00+00:00\",\"2022-12-15T08:00:00+00:00\",\"2022-12-15T09:00:00+00:00\",\"2022-12-15T10:00:00+00:00\",\"2022-12-15T11:00:00+00:00\",\"2022-12-15T12:00:00+00:00\",\"2022-12-15T13:00:00+00:00\",\"2022-12-15T14:00:00+00:00\",\"2022-12-15T15:00:00+00:00\",\"2022-12-15T16:00:00+00:00\",\"2022-12-15T17:00:00+00:00\",\"2022-12-15T18:00:00+00:00\",\"2022-12-15T19:00:00+00:00\",\"2022-12-15T20:00:00+00:00\",\"2022-12-15T21:00:00+00:00\",\"2022-12-15T22:00:00+00:00\",\"2022-12-15T23:00:00+00:00\"],\"y\":[0,0,0,0,0,0,0,0,1,2,0,2,1,0,0,0,0,4,0,1,3,1,1,0,1,17,3,3,7,13,8,5,6,3,3,14,23,5,2,15,27,44,283,4397,2501,1921,777,366,313,197,141,176,255,315,414,362,307,287,206,191,281,160,137,115,124,459,210,109,103,75,63,38,35,28,28,18,30,33,35,67,52,42,48,131,309,139,266,134,83,75,47,27,41,24,15,12,7,10,10,6,20,20,30,20,22,77,77,43,47,34,13,8,10,19,18,12,56,53,15,8,3,5,13,4,7,7,10,15,56,35,62,36,24,21,12,14,16,254,101,73,43,21,22,8,13,8,5,24,11,17,27,34,35,27,27,26,31,25,25,44,104,207,82,163,77,136,44,22,7,10,3,12,17,16,17,22,18,17,13,249,124,106,72,72,50,72,47,43,48,28,22,14,10,9,15,14,23,33,34,23,35,34,20,17,15,11,6,14,5,14,9,10,38,23,7,4,6,9,6,2,5,6,8,7,8,6,5,8,23,22,58,9,13,7,8,15,27,16,7,15,5,0,5,2,5,1,7,9,6,11,6,7,80,32,32,27,33,25,15,10,9,10,11,3,6,7,1,7,6,8,5,10,7,7,3,8,6,12,11,2,6,2,5,6,7,7,5,2,3,0,2,8,2,2,6,10,9,14,15,14,6,12,14,4,41,139,86,288,937,151,102,49,41,25,15,23,12,20,47,50,44,102,1268,728,456,324,184,211,181,174,160,116,84,96,98,69,43,21,35,30,61,52,44,59,91,117,67,52,21,24,21,36,25,22,30,12,20,14,12,10,6,5,3,4,7,10,8,18,9,10,10,24,21,13,14,15,22,12,15,10,4,13,4,2,3,4,1,1,6,3,9,9,14,14,11,13,6,6,3,9,5,20,5,5,6,6,6,4,2,2,2,1,1,0,1,4,7,3,6,5,3,5,4,6,2,5,2,2,0,0,3],\"type\":\"scatter\"},{\"mode\":\"lines\",\"name\":\"BellinghamJude\",\"x\":[\"2022-11-28T01:00:00+00:00\",\"2022-11-28T02:00:00+00:00\",\"2022-11-28T03:00:00+00:00\",\"2022-11-28T04:00:00+00:00\",\"2022-11-28T05:00:00+00:00\",\"2022-11-28T06:00:00+00:00\",\"2022-11-28T07:00:00+00:00\",\"2022-11-28T08:00:00+00:00\",\"2022-11-28T09:00:00+00:00\",\"2022-11-28T10:00:00+00:00\",\"2022-11-28T11:00:00+00:00\",\"2022-11-28T12:00:00+00:00\",\"2022-11-28T13:00:00+00:00\",\"2022-11-28T14:00:00+00:00\",\"2022-11-28T15:00:00+00:00\",\"2022-11-28T16:00:00+00:00\",\"2022-11-28T17:00:00+00:00\",\"2022-11-28T18:00:00+00:00\",\"2022-11-28T19:00:00+00:00\",\"2022-11-28T20:00:00+00:00\",\"2022-11-28T21:00:00+00:00\",\"2022-11-28T22:00:00+00:00\",\"2022-11-28T23:00:00+00:00\",\"2022-11-29T00:00:00+00:00\",\"2022-11-29T01:00:00+00:00\",\"2022-11-29T02:00:00+00:00\",\"2022-11-29T03:00:00+00:00\",\"2022-11-29T04:00:00+00:00\",\"2022-11-29T05:00:00+00:00\",\"2022-11-29T06:00:00+00:00\",\"2022-11-29T07:00:00+00:00\",\"2022-11-29T08:00:00+00:00\",\"2022-11-29T09:00:00+00:00\",\"2022-11-29T10:00:00+00:00\",\"2022-11-29T11:00:00+00:00\",\"2022-11-29T12:00:00+00:00\",\"2022-11-29T13:00:00+00:00\",\"2022-11-29T14:00:00+00:00\",\"2022-11-29T15:00:00+00:00\",\"2022-11-29T16:00:00+00:00\",\"2022-11-29T17:00:00+00:00\",\"2022-11-29T18:00:00+00:00\",\"2022-11-29T19:00:00+00:00\",\"2022-11-29T20:00:00+00:00\",\"2022-11-29T21:00:00+00:00\",\"2022-11-29T22:00:00+00:00\",\"2022-11-29T23:00:00+00:00\",\"2022-11-30T00:00:00+00:00\",\"2022-11-30T01:00:00+00:00\",\"2022-11-30T02:00:00+00:00\",\"2022-11-30T03:00:00+00:00\",\"2022-11-30T04:00:00+00:00\",\"2022-11-30T05:00:00+00:00\",\"2022-11-30T06:00:00+00:00\",\"2022-11-30T07:00:00+00:00\",\"2022-11-30T08:00:00+00:00\",\"2022-11-30T09:00:00+00:00\",\"2022-11-30T10:00:00+00:00\",\"2022-11-30T11:00:00+00:00\",\"2022-11-30T12:00:00+00:00\",\"2022-11-30T13:00:00+00:00\",\"2022-11-30T14:00:00+00:00\",\"2022-11-30T15:00:00+00:00\",\"2022-11-30T16:00:00+00:00\",\"2022-11-30T17:00:00+00:00\",\"2022-11-30T18:00:00+00:00\",\"2022-11-30T19:00:00+00:00\",\"2022-11-30T20:00:00+00:00\",\"2022-11-30T21:00:00+00:00\",\"2022-11-30T22:00:00+00:00\",\"2022-11-30T23:00:00+00:00\",\"2022-12-01T00:00:00+00:00\",\"2022-12-01T01:00:00+00:00\",\"2022-12-01T02:00:00+00:00\",\"2022-12-01T03:00:00+00:00\",\"2022-12-01T04:00:00+00:00\",\"2022-12-01T05:00:00+00:00\",\"2022-12-01T06:00:00+00:00\",\"2022-12-01T07:00:00+00:00\",\"2022-12-01T08:00:00+00:00\",\"2022-12-01T09:00:00+00:00\",\"2022-12-01T10:00:00+00:00\",\"2022-12-01T11:00:00+00:00\",\"2022-12-01T12:00:00+00:00\",\"2022-12-01T13:00:00+00:00\",\"2022-12-01T14:00:00+00:00\",\"2022-12-01T15:00:00+00:00\",\"2022-12-01T16:00:00+00:00\",\"2022-12-01T17:00:00+00:00\",\"2022-12-01T18:00:00+00:00\",\"2022-12-01T19:00:00+00:00\",\"2022-12-01T20:00:00+00:00\",\"2022-12-01T21:00:00+00:00\",\"2022-12-01T22:00:00+00:00\",\"2022-12-01T23:00:00+00:00\",\"2022-12-02T00:00:00+00:00\",\"2022-12-02T01:00:00+00:00\",\"2022-12-02T02:00:00+00:00\",\"2022-12-02T03:00:00+00:00\",\"2022-12-02T04:00:00+00:00\",\"2022-12-02T05:00:00+00:00\",\"2022-12-02T06:00:00+00:00\",\"2022-12-02T07:00:00+00:00\",\"2022-12-02T08:00:00+00:00\",\"2022-12-02T09:00:00+00:00\",\"2022-12-02T10:00:00+00:00\",\"2022-12-02T11:00:00+00:00\",\"2022-12-02T12:00:00+00:00\",\"2022-12-02T13:00:00+00:00\",\"2022-12-02T14:00:00+00:00\",\"2022-12-02T15:00:00+00:00\",\"2022-12-02T16:00:00+00:00\",\"2022-12-02T17:00:00+00:00\",\"2022-12-02T18:00:00+00:00\",\"2022-12-02T19:00:00+00:00\",\"2022-12-02T20:00:00+00:00\",\"2022-12-02T21:00:00+00:00\",\"2022-12-02T22:00:00+00:00\",\"2022-12-02T23:00:00+00:00\",\"2022-12-03T00:00:00+00:00\",\"2022-12-03T01:00:00+00:00\",\"2022-12-03T02:00:00+00:00\",\"2022-12-03T03:00:00+00:00\",\"2022-12-03T04:00:00+00:00\",\"2022-12-03T05:00:00+00:00\",\"2022-12-03T06:00:00+00:00\",\"2022-12-03T07:00:00+00:00\",\"2022-12-03T08:00:00+00:00\",\"2022-12-03T09:00:00+00:00\",\"2022-12-03T10:00:00+00:00\",\"2022-12-03T11:00:00+00:00\",\"2022-12-03T12:00:00+00:00\",\"2022-12-03T13:00:00+00:00\",\"2022-12-03T14:00:00+00:00\",\"2022-12-03T15:00:00+00:00\",\"2022-12-03T16:00:00+00:00\",\"2022-12-03T17:00:00+00:00\",\"2022-12-03T18:00:00+00:00\",\"2022-12-03T19:00:00+00:00\",\"2022-12-03T20:00:00+00:00\",\"2022-12-03T21:00:00+00:00\",\"2022-12-03T22:00:00+00:00\",\"2022-12-03T23:00:00+00:00\",\"2022-12-04T00:00:00+00:00\",\"2022-12-04T01:00:00+00:00\",\"2022-12-04T02:00:00+00:00\",\"2022-12-04T03:00:00+00:00\",\"2022-12-04T04:00:00+00:00\",\"2022-12-04T05:00:00+00:00\",\"2022-12-04T06:00:00+00:00\",\"2022-12-04T07:00:00+00:00\",\"2022-12-04T08:00:00+00:00\",\"2022-12-04T09:00:00+00:00\",\"2022-12-04T10:00:00+00:00\",\"2022-12-04T11:00:00+00:00\",\"2022-12-04T12:00:00+00:00\",\"2022-12-04T13:00:00+00:00\",\"2022-12-04T14:00:00+00:00\",\"2022-12-04T15:00:00+00:00\",\"2022-12-04T16:00:00+00:00\",\"2022-12-04T17:00:00+00:00\",\"2022-12-04T18:00:00+00:00\",\"2022-12-04T19:00:00+00:00\",\"2022-12-04T20:00:00+00:00\",\"2022-12-04T21:00:00+00:00\",\"2022-12-04T22:00:00+00:00\",\"2022-12-04T23:00:00+00:00\",\"2022-12-05T00:00:00+00:00\",\"2022-12-05T01:00:00+00:00\",\"2022-12-05T02:00:00+00:00\",\"2022-12-05T03:00:00+00:00\",\"2022-12-05T04:00:00+00:00\",\"2022-12-05T05:00:00+00:00\",\"2022-12-05T06:00:00+00:00\",\"2022-12-05T07:00:00+00:00\",\"2022-12-05T08:00:00+00:00\",\"2022-12-05T09:00:00+00:00\",\"2022-12-05T10:00:00+00:00\",\"2022-12-05T11:00:00+00:00\",\"2022-12-05T12:00:00+00:00\",\"2022-12-05T13:00:00+00:00\",\"2022-12-05T14:00:00+00:00\",\"2022-12-05T15:00:00+00:00\",\"2022-12-05T16:00:00+00:00\",\"2022-12-05T17:00:00+00:00\",\"2022-12-05T18:00:00+00:00\",\"2022-12-05T19:00:00+00:00\",\"2022-12-05T20:00:00+00:00\",\"2022-12-05T21:00:00+00:00\",\"2022-12-05T22:00:00+00:00\",\"2022-12-05T23:00:00+00:00\",\"2022-12-06T00:00:00+00:00\",\"2022-12-06T01:00:00+00:00\",\"2022-12-06T02:00:00+00:00\",\"2022-12-06T03:00:00+00:00\",\"2022-12-06T04:00:00+00:00\",\"2022-12-06T05:00:00+00:00\",\"2022-12-06T06:00:00+00:00\",\"2022-12-06T07:00:00+00:00\",\"2022-12-06T08:00:00+00:00\",\"2022-12-06T09:00:00+00:00\",\"2022-12-06T10:00:00+00:00\",\"2022-12-06T11:00:00+00:00\",\"2022-12-06T12:00:00+00:00\",\"2022-12-06T13:00:00+00:00\",\"2022-12-06T14:00:00+00:00\",\"2022-12-06T15:00:00+00:00\",\"2022-12-06T16:00:00+00:00\",\"2022-12-06T17:00:00+00:00\",\"2022-12-06T18:00:00+00:00\",\"2022-12-06T19:00:00+00:00\",\"2022-12-06T20:00:00+00:00\",\"2022-12-06T21:00:00+00:00\",\"2022-12-06T22:00:00+00:00\",\"2022-12-06T23:00:00+00:00\",\"2022-12-07T00:00:00+00:00\",\"2022-12-07T01:00:00+00:00\",\"2022-12-07T02:00:00+00:00\",\"2022-12-07T03:00:00+00:00\",\"2022-12-07T04:00:00+00:00\",\"2022-12-07T05:00:00+00:00\",\"2022-12-07T06:00:00+00:00\",\"2022-12-07T07:00:00+00:00\",\"2022-12-07T08:00:00+00:00\",\"2022-12-07T09:00:00+00:00\",\"2022-12-07T10:00:00+00:00\",\"2022-12-07T11:00:00+00:00\",\"2022-12-07T12:00:00+00:00\",\"2022-12-07T13:00:00+00:00\",\"2022-12-07T14:00:00+00:00\",\"2022-12-07T15:00:00+00:00\",\"2022-12-07T16:00:00+00:00\",\"2022-12-07T17:00:00+00:00\",\"2022-12-07T18:00:00+00:00\",\"2022-12-07T19:00:00+00:00\",\"2022-12-07T20:00:00+00:00\",\"2022-12-07T21:00:00+00:00\",\"2022-12-07T22:00:00+00:00\",\"2022-12-07T23:00:00+00:00\",\"2022-12-08T00:00:00+00:00\",\"2022-12-08T01:00:00+00:00\",\"2022-12-08T02:00:00+00:00\",\"2022-12-08T03:00:00+00:00\",\"2022-12-08T04:00:00+00:00\",\"2022-12-08T05:00:00+00:00\",\"2022-12-08T06:00:00+00:00\",\"2022-12-08T07:00:00+00:00\",\"2022-12-08T08:00:00+00:00\",\"2022-12-08T09:00:00+00:00\",\"2022-12-08T10:00:00+00:00\",\"2022-12-08T11:00:00+00:00\",\"2022-12-08T12:00:00+00:00\",\"2022-12-08T13:00:00+00:00\",\"2022-12-08T14:00:00+00:00\",\"2022-12-08T15:00:00+00:00\",\"2022-12-08T16:00:00+00:00\",\"2022-12-08T17:00:00+00:00\",\"2022-12-08T18:00:00+00:00\",\"2022-12-08T19:00:00+00:00\",\"2022-12-08T20:00:00+00:00\",\"2022-12-08T21:00:00+00:00\",\"2022-12-08T22:00:00+00:00\",\"2022-12-08T23:00:00+00:00\",\"2022-12-09T00:00:00+00:00\",\"2022-12-09T01:00:00+00:00\",\"2022-12-09T02:00:00+00:00\",\"2022-12-09T03:00:00+00:00\",\"2022-12-09T04:00:00+00:00\",\"2022-12-09T05:00:00+00:00\",\"2022-12-09T06:00:00+00:00\",\"2022-12-09T07:00:00+00:00\",\"2022-12-09T08:00:00+00:00\",\"2022-12-09T09:00:00+00:00\",\"2022-12-09T10:00:00+00:00\",\"2022-12-09T11:00:00+00:00\",\"2022-12-09T12:00:00+00:00\",\"2022-12-09T13:00:00+00:00\",\"2022-12-09T14:00:00+00:00\",\"2022-12-09T15:00:00+00:00\",\"2022-12-09T16:00:00+00:00\",\"2022-12-09T17:00:00+00:00\",\"2022-12-09T18:00:00+00:00\",\"2022-12-09T19:00:00+00:00\",\"2022-12-09T20:00:00+00:00\",\"2022-12-09T21:00:00+00:00\",\"2022-12-09T22:00:00+00:00\",\"2022-12-09T23:00:00+00:00\",\"2022-12-10T00:00:00+00:00\",\"2022-12-10T01:00:00+00:00\",\"2022-12-10T02:00:00+00:00\",\"2022-12-10T03:00:00+00:00\",\"2022-12-10T04:00:00+00:00\",\"2022-12-10T05:00:00+00:00\",\"2022-12-10T06:00:00+00:00\",\"2022-12-10T07:00:00+00:00\",\"2022-12-10T08:00:00+00:00\",\"2022-12-10T09:00:00+00:00\",\"2022-12-10T10:00:00+00:00\",\"2022-12-10T11:00:00+00:00\",\"2022-12-10T12:00:00+00:00\",\"2022-12-10T13:00:00+00:00\",\"2022-12-10T14:00:00+00:00\",\"2022-12-10T15:00:00+00:00\",\"2022-12-10T16:00:00+00:00\",\"2022-12-10T17:00:00+00:00\",\"2022-12-10T18:00:00+00:00\",\"2022-12-10T19:00:00+00:00\",\"2022-12-10T20:00:00+00:00\",\"2022-12-10T21:00:00+00:00\",\"2022-12-10T22:00:00+00:00\",\"2022-12-10T23:00:00+00:00\",\"2022-12-11T00:00:00+00:00\",\"2022-12-11T01:00:00+00:00\",\"2022-12-11T02:00:00+00:00\",\"2022-12-11T03:00:00+00:00\",\"2022-12-11T04:00:00+00:00\",\"2022-12-11T05:00:00+00:00\",\"2022-12-11T06:00:00+00:00\",\"2022-12-11T07:00:00+00:00\",\"2022-12-11T08:00:00+00:00\",\"2022-12-11T09:00:00+00:00\",\"2022-12-11T10:00:00+00:00\",\"2022-12-11T11:00:00+00:00\",\"2022-12-11T12:00:00+00:00\",\"2022-12-11T13:00:00+00:00\",\"2022-12-11T14:00:00+00:00\",\"2022-12-11T15:00:00+00:00\",\"2022-12-11T16:00:00+00:00\",\"2022-12-11T17:00:00+00:00\",\"2022-12-11T18:00:00+00:00\",\"2022-12-11T19:00:00+00:00\",\"2022-12-11T20:00:00+00:00\",\"2022-12-11T21:00:00+00:00\",\"2022-12-11T22:00:00+00:00\",\"2022-12-11T23:00:00+00:00\",\"2022-12-12T00:00:00+00:00\",\"2022-12-12T01:00:00+00:00\",\"2022-12-12T02:00:00+00:00\",\"2022-12-12T03:00:00+00:00\",\"2022-12-12T04:00:00+00:00\",\"2022-12-12T05:00:00+00:00\",\"2022-12-12T06:00:00+00:00\",\"2022-12-12T07:00:00+00:00\",\"2022-12-12T08:00:00+00:00\",\"2022-12-12T09:00:00+00:00\",\"2022-12-12T10:00:00+00:00\",\"2022-12-12T11:00:00+00:00\",\"2022-12-12T12:00:00+00:00\",\"2022-12-12T13:00:00+00:00\",\"2022-12-12T14:00:00+00:00\",\"2022-12-12T15:00:00+00:00\",\"2022-12-12T16:00:00+00:00\",\"2022-12-12T17:00:00+00:00\",\"2022-12-12T18:00:00+00:00\",\"2022-12-12T19:00:00+00:00\",\"2022-12-12T20:00:00+00:00\",\"2022-12-12T21:00:00+00:00\",\"2022-12-12T22:00:00+00:00\",\"2022-12-12T23:00:00+00:00\",\"2022-12-13T00:00:00+00:00\",\"2022-12-13T01:00:00+00:00\",\"2022-12-13T02:00:00+00:00\",\"2022-12-13T03:00:00+00:00\",\"2022-12-13T04:00:00+00:00\",\"2022-12-13T05:00:00+00:00\",\"2022-12-13T06:00:00+00:00\",\"2022-12-13T07:00:00+00:00\",\"2022-12-13T08:00:00+00:00\",\"2022-12-13T09:00:00+00:00\",\"2022-12-13T10:00:00+00:00\",\"2022-12-13T11:00:00+00:00\",\"2022-12-13T12:00:00+00:00\",\"2022-12-13T13:00:00+00:00\",\"2022-12-13T14:00:00+00:00\",\"2022-12-13T15:00:00+00:00\",\"2022-12-13T16:00:00+00:00\",\"2022-12-13T17:00:00+00:00\",\"2022-12-13T18:00:00+00:00\",\"2022-12-13T19:00:00+00:00\",\"2022-12-13T20:00:00+00:00\",\"2022-12-13T21:00:00+00:00\",\"2022-12-13T22:00:00+00:00\",\"2022-12-13T23:00:00+00:00\",\"2022-12-14T00:00:00+00:00\",\"2022-12-14T01:00:00+00:00\",\"2022-12-14T02:00:00+00:00\",\"2022-12-14T03:00:00+00:00\",\"2022-12-14T04:00:00+00:00\",\"2022-12-14T05:00:00+00:00\",\"2022-12-14T06:00:00+00:00\",\"2022-12-14T07:00:00+00:00\",\"2022-12-14T08:00:00+00:00\",\"2022-12-14T09:00:00+00:00\",\"2022-12-14T10:00:00+00:00\",\"2022-12-14T11:00:00+00:00\",\"2022-12-14T12:00:00+00:00\",\"2022-12-14T13:00:00+00:00\",\"2022-12-14T14:00:00+00:00\",\"2022-12-14T15:00:00+00:00\",\"2022-12-14T16:00:00+00:00\",\"2022-12-14T17:00:00+00:00\",\"2022-12-14T18:00:00+00:00\",\"2022-12-14T19:00:00+00:00\",\"2022-12-14T20:00:00+00:00\",\"2022-12-14T21:00:00+00:00\",\"2022-12-14T22:00:00+00:00\",\"2022-12-14T23:00:00+00:00\",\"2022-12-15T00:00:00+00:00\",\"2022-12-15T01:00:00+00:00\",\"2022-12-15T02:00:00+00:00\",\"2022-12-15T03:00:00+00:00\",\"2022-12-15T04:00:00+00:00\",\"2022-12-15T05:00:00+00:00\",\"2022-12-15T06:00:00+00:00\",\"2022-12-15T07:00:00+00:00\",\"2022-12-15T08:00:00+00:00\",\"2022-12-15T09:00:00+00:00\",\"2022-12-15T10:00:00+00:00\",\"2022-12-15T11:00:00+00:00\",\"2022-12-15T12:00:00+00:00\",\"2022-12-15T13:00:00+00:00\",\"2022-12-15T14:00:00+00:00\",\"2022-12-15T15:00:00+00:00\",\"2022-12-15T16:00:00+00:00\",\"2022-12-15T17:00:00+00:00\",\"2022-12-15T18:00:00+00:00\",\"2022-12-15T19:00:00+00:00\",\"2022-12-15T20:00:00+00:00\",\"2022-12-15T21:00:00+00:00\",\"2022-12-15T22:00:00+00:00\",\"2022-12-15T23:00:00+00:00\"],\"y\":[2,3,4,1,3,1,8,5,5,12,3,6,37,11,12,9,3,12,3,7,2,1,0,1,1,0,0,3,2,1,4,8,12,3,2,1,4,13,6,8,16,11,144,53,216,208,144,52,35,14,22,22,20,39,38,43,42,26,26,32,15,21,21,52,12,27,1133,363,263,169,88,77,46,37,36,30,49,73,54,56,67,38,38,68,44,46,36,62,31,26,9,9,13,12,4,6,5,0,3,1,2,2,9,2,6,3,5,30,12,20,5,6,14,17,12,9,16,14,7,1,9,8,5,0,3,0,2,34,20,30,112,37,31,25,23,25,39,35,23,26,30,32,14,4,6,6,5,8,2,4,10,15,9,6,13,9,7,7,4,7,13,22,2148,1422,825,2808,1418,626,288,169,182,184,213,253,360,364,456,372,392,259,248,201,215,219,166,170,154,202,144,90,84,42,35,15,15,21,28,30,52,59,39,60,37,57,40,33,48,24,20,31,36,18,11,16,20,7,3,8,4,4,9,6,13,26,18,17,23,13,19,19,14,10,25,35,39,31,20,18,50,11,17,5,4,8,6,5,8,30,79,129,106,69,44,60,50,27,25,29,27,30,23,24,13,18,23,6,7,5,4,5,8,15,14,16,19,13,9,20,23,23,29,26,15,13,10,33,20,9,3,2,3,4,2,5,10,13,12,8,11,21,13,23,8,8,36,161,162,346,735,153,67,36,31,29,25,6,18,12,20,32,53,44,56,73,50,26,28,17,23,23,21,360,1578,912,508,186,115,70,77,69,81,132,147,175,164,143,164,131,143,113,119,131,115,115,95,62,36,29,23,28,12,11,13,2,8,13,23,16,7,14,21,9,13,13,13,11,14,15,11,14,9,9,2,3,5,4,3,1,2,0,7,1,5,6,16,4,3,5,6,3,4,5,3,9,2,4,6,4,2,1,0,2,0,0,5,1,2,4,4,4,6,2,4,5,2,6,0,1,4,4,1],\"type\":\"scatter\"},{\"mode\":\"lines\",\"name\":\"HKane\",\"x\":[\"2022-11-28T01:00:00+00:00\",\"2022-11-28T02:00:00+00:00\",\"2022-11-28T03:00:00+00:00\",\"2022-11-28T04:00:00+00:00\",\"2022-11-28T05:00:00+00:00\",\"2022-11-28T06:00:00+00:00\",\"2022-11-28T07:00:00+00:00\",\"2022-11-28T08:00:00+00:00\",\"2022-11-28T09:00:00+00:00\",\"2022-11-28T10:00:00+00:00\",\"2022-11-28T11:00:00+00:00\",\"2022-11-28T12:00:00+00:00\",\"2022-11-28T13:00:00+00:00\",\"2022-11-28T14:00:00+00:00\",\"2022-11-28T15:00:00+00:00\",\"2022-11-28T16:00:00+00:00\",\"2022-11-28T17:00:00+00:00\",\"2022-11-28T18:00:00+00:00\",\"2022-11-28T19:00:00+00:00\",\"2022-11-28T20:00:00+00:00\",\"2022-11-28T21:00:00+00:00\",\"2022-11-28T22:00:00+00:00\",\"2022-11-28T23:00:00+00:00\",\"2022-11-29T00:00:00+00:00\",\"2022-11-29T01:00:00+00:00\",\"2022-11-29T02:00:00+00:00\",\"2022-11-29T03:00:00+00:00\",\"2022-11-29T04:00:00+00:00\",\"2022-11-29T05:00:00+00:00\",\"2022-11-29T06:00:00+00:00\",\"2022-11-29T07:00:00+00:00\",\"2022-11-29T08:00:00+00:00\",\"2022-11-29T09:00:00+00:00\",\"2022-11-29T10:00:00+00:00\",\"2022-11-29T11:00:00+00:00\",\"2022-11-29T12:00:00+00:00\",\"2022-11-29T13:00:00+00:00\",\"2022-11-29T14:00:00+00:00\",\"2022-11-29T15:00:00+00:00\",\"2022-11-29T16:00:00+00:00\",\"2022-11-29T17:00:00+00:00\",\"2022-11-29T18:00:00+00:00\",\"2022-11-29T19:00:00+00:00\",\"2022-11-29T20:00:00+00:00\",\"2022-11-29T21:00:00+00:00\",\"2022-11-29T22:00:00+00:00\",\"2022-11-29T23:00:00+00:00\",\"2022-11-30T00:00:00+00:00\",\"2022-11-30T01:00:00+00:00\",\"2022-11-30T02:00:00+00:00\",\"2022-11-30T03:00:00+00:00\",\"2022-11-30T04:00:00+00:00\",\"2022-11-30T05:00:00+00:00\",\"2022-11-30T06:00:00+00:00\",\"2022-11-30T07:00:00+00:00\",\"2022-11-30T08:00:00+00:00\",\"2022-11-30T09:00:00+00:00\",\"2022-11-30T10:00:00+00:00\",\"2022-11-30T11:00:00+00:00\",\"2022-11-30T12:00:00+00:00\",\"2022-11-30T13:00:00+00:00\",\"2022-11-30T14:00:00+00:00\",\"2022-11-30T15:00:00+00:00\",\"2022-11-30T16:00:00+00:00\",\"2022-11-30T17:00:00+00:00\",\"2022-11-30T18:00:00+00:00\",\"2022-11-30T19:00:00+00:00\",\"2022-11-30T20:00:00+00:00\",\"2022-11-30T21:00:00+00:00\",\"2022-11-30T22:00:00+00:00\",\"2022-11-30T23:00:00+00:00\",\"2022-12-01T00:00:00+00:00\",\"2022-12-01T01:00:00+00:00\",\"2022-12-01T02:00:00+00:00\",\"2022-12-01T03:00:00+00:00\",\"2022-12-01T04:00:00+00:00\",\"2022-12-01T05:00:00+00:00\",\"2022-12-01T06:00:00+00:00\",\"2022-12-01T07:00:00+00:00\",\"2022-12-01T08:00:00+00:00\",\"2022-12-01T09:00:00+00:00\",\"2022-12-01T10:00:00+00:00\",\"2022-12-01T11:00:00+00:00\",\"2022-12-01T12:00:00+00:00\",\"2022-12-01T13:00:00+00:00\",\"2022-12-01T14:00:00+00:00\",\"2022-12-01T15:00:00+00:00\",\"2022-12-01T16:00:00+00:00\",\"2022-12-01T17:00:00+00:00\",\"2022-12-01T18:00:00+00:00\",\"2022-12-01T19:00:00+00:00\",\"2022-12-01T20:00:00+00:00\",\"2022-12-01T21:00:00+00:00\",\"2022-12-01T22:00:00+00:00\",\"2022-12-01T23:00:00+00:00\",\"2022-12-02T00:00:00+00:00\",\"2022-12-02T01:00:00+00:00\",\"2022-12-02T02:00:00+00:00\",\"2022-12-02T03:00:00+00:00\",\"2022-12-02T04:00:00+00:00\",\"2022-12-02T05:00:00+00:00\",\"2022-12-02T06:00:00+00:00\",\"2022-12-02T07:00:00+00:00\",\"2022-12-02T08:00:00+00:00\",\"2022-12-02T09:00:00+00:00\",\"2022-12-02T10:00:00+00:00\",\"2022-12-02T11:00:00+00:00\",\"2022-12-02T12:00:00+00:00\",\"2022-12-02T13:00:00+00:00\",\"2022-12-02T14:00:00+00:00\",\"2022-12-02T15:00:00+00:00\",\"2022-12-02T16:00:00+00:00\",\"2022-12-02T17:00:00+00:00\",\"2022-12-02T18:00:00+00:00\",\"2022-12-02T19:00:00+00:00\",\"2022-12-02T20:00:00+00:00\",\"2022-12-02T21:00:00+00:00\",\"2022-12-02T22:00:00+00:00\",\"2022-12-02T23:00:00+00:00\",\"2022-12-03T00:00:00+00:00\",\"2022-12-03T01:00:00+00:00\",\"2022-12-03T02:00:00+00:00\",\"2022-12-03T03:00:00+00:00\",\"2022-12-03T04:00:00+00:00\",\"2022-12-03T05:00:00+00:00\",\"2022-12-03T06:00:00+00:00\",\"2022-12-03T07:00:00+00:00\",\"2022-12-03T08:00:00+00:00\",\"2022-12-03T09:00:00+00:00\",\"2022-12-03T10:00:00+00:00\",\"2022-12-03T11:00:00+00:00\",\"2022-12-03T12:00:00+00:00\",\"2022-12-03T13:00:00+00:00\",\"2022-12-03T14:00:00+00:00\",\"2022-12-03T15:00:00+00:00\",\"2022-12-03T16:00:00+00:00\",\"2022-12-03T17:00:00+00:00\",\"2022-12-03T18:00:00+00:00\",\"2022-12-03T19:00:00+00:00\",\"2022-12-03T20:00:00+00:00\",\"2022-12-03T21:00:00+00:00\",\"2022-12-03T22:00:00+00:00\",\"2022-12-03T23:00:00+00:00\",\"2022-12-04T00:00:00+00:00\",\"2022-12-04T01:00:00+00:00\",\"2022-12-04T02:00:00+00:00\",\"2022-12-04T03:00:00+00:00\",\"2022-12-04T04:00:00+00:00\",\"2022-12-04T05:00:00+00:00\",\"2022-12-04T06:00:00+00:00\",\"2022-12-04T07:00:00+00:00\",\"2022-12-04T08:00:00+00:00\",\"2022-12-04T09:00:00+00:00\",\"2022-12-04T10:00:00+00:00\",\"2022-12-04T11:00:00+00:00\",\"2022-12-04T12:00:00+00:00\",\"2022-12-04T13:00:00+00:00\",\"2022-12-04T14:00:00+00:00\",\"2022-12-04T15:00:00+00:00\",\"2022-12-04T16:00:00+00:00\",\"2022-12-04T17:00:00+00:00\",\"2022-12-04T18:00:00+00:00\",\"2022-12-04T19:00:00+00:00\",\"2022-12-04T20:00:00+00:00\",\"2022-12-04T21:00:00+00:00\",\"2022-12-04T22:00:00+00:00\",\"2022-12-04T23:00:00+00:00\",\"2022-12-05T00:00:00+00:00\",\"2022-12-05T01:00:00+00:00\",\"2022-12-05T02:00:00+00:00\",\"2022-12-05T03:00:00+00:00\",\"2022-12-05T04:00:00+00:00\",\"2022-12-05T05:00:00+00:00\",\"2022-12-05T06:00:00+00:00\",\"2022-12-05T07:00:00+00:00\",\"2022-12-05T08:00:00+00:00\",\"2022-12-05T09:00:00+00:00\",\"2022-12-05T10:00:00+00:00\",\"2022-12-05T11:00:00+00:00\",\"2022-12-05T12:00:00+00:00\",\"2022-12-05T13:00:00+00:00\",\"2022-12-05T14:00:00+00:00\",\"2022-12-05T15:00:00+00:00\",\"2022-12-05T16:00:00+00:00\",\"2022-12-05T17:00:00+00:00\",\"2022-12-05T18:00:00+00:00\",\"2022-12-05T19:00:00+00:00\",\"2022-12-05T20:00:00+00:00\",\"2022-12-05T21:00:00+00:00\",\"2022-12-05T22:00:00+00:00\",\"2022-12-05T23:00:00+00:00\",\"2022-12-06T00:00:00+00:00\",\"2022-12-06T01:00:00+00:00\",\"2022-12-06T02:00:00+00:00\",\"2022-12-06T03:00:00+00:00\",\"2022-12-06T04:00:00+00:00\",\"2022-12-06T05:00:00+00:00\",\"2022-12-06T06:00:00+00:00\",\"2022-12-06T07:00:00+00:00\",\"2022-12-06T08:00:00+00:00\",\"2022-12-06T09:00:00+00:00\",\"2022-12-06T10:00:00+00:00\",\"2022-12-06T11:00:00+00:00\",\"2022-12-06T12:00:00+00:00\",\"2022-12-06T13:00:00+00:00\",\"2022-12-06T14:00:00+00:00\",\"2022-12-06T15:00:00+00:00\",\"2022-12-06T16:00:00+00:00\",\"2022-12-06T17:00:00+00:00\",\"2022-12-06T18:00:00+00:00\",\"2022-12-06T19:00:00+00:00\",\"2022-12-06T20:00:00+00:00\",\"2022-12-06T21:00:00+00:00\",\"2022-12-06T22:00:00+00:00\",\"2022-12-06T23:00:00+00:00\",\"2022-12-07T00:00:00+00:00\",\"2022-12-07T01:00:00+00:00\",\"2022-12-07T02:00:00+00:00\",\"2022-12-07T03:00:00+00:00\",\"2022-12-07T04:00:00+00:00\",\"2022-12-07T05:00:00+00:00\",\"2022-12-07T06:00:00+00:00\",\"2022-12-07T07:00:00+00:00\",\"2022-12-07T08:00:00+00:00\",\"2022-12-07T09:00:00+00:00\",\"2022-12-07T10:00:00+00:00\",\"2022-12-07T11:00:00+00:00\",\"2022-12-07T12:00:00+00:00\",\"2022-12-07T13:00:00+00:00\",\"2022-12-07T14:00:00+00:00\",\"2022-12-07T15:00:00+00:00\",\"2022-12-07T16:00:00+00:00\",\"2022-12-07T17:00:00+00:00\",\"2022-12-07T18:00:00+00:00\",\"2022-12-07T19:00:00+00:00\",\"2022-12-07T20:00:00+00:00\",\"2022-12-07T21:00:00+00:00\",\"2022-12-07T22:00:00+00:00\",\"2022-12-07T23:00:00+00:00\",\"2022-12-08T00:00:00+00:00\",\"2022-12-08T01:00:00+00:00\",\"2022-12-08T02:00:00+00:00\",\"2022-12-08T03:00:00+00:00\",\"2022-12-08T04:00:00+00:00\",\"2022-12-08T05:00:00+00:00\",\"2022-12-08T06:00:00+00:00\",\"2022-12-08T07:00:00+00:00\",\"2022-12-08T08:00:00+00:00\",\"2022-12-08T09:00:00+00:00\",\"2022-12-08T10:00:00+00:00\",\"2022-12-08T11:00:00+00:00\",\"2022-12-08T12:00:00+00:00\",\"2022-12-08T13:00:00+00:00\",\"2022-12-08T14:00:00+00:00\",\"2022-12-08T15:00:00+00:00\",\"2022-12-08T16:00:00+00:00\",\"2022-12-08T17:00:00+00:00\",\"2022-12-08T18:00:00+00:00\",\"2022-12-08T19:00:00+00:00\",\"2022-12-08T20:00:00+00:00\",\"2022-12-08T21:00:00+00:00\",\"2022-12-08T22:00:00+00:00\",\"2022-12-08T23:00:00+00:00\",\"2022-12-09T00:00:00+00:00\",\"2022-12-09T01:00:00+00:00\",\"2022-12-09T02:00:00+00:00\",\"2022-12-09T03:00:00+00:00\",\"2022-12-09T04:00:00+00:00\",\"2022-12-09T05:00:00+00:00\",\"2022-12-09T06:00:00+00:00\",\"2022-12-09T07:00:00+00:00\",\"2022-12-09T08:00:00+00:00\",\"2022-12-09T09:00:00+00:00\",\"2022-12-09T10:00:00+00:00\",\"2022-12-09T11:00:00+00:00\",\"2022-12-09T12:00:00+00:00\",\"2022-12-09T13:00:00+00:00\",\"2022-12-09T14:00:00+00:00\",\"2022-12-09T15:00:00+00:00\",\"2022-12-09T16:00:00+00:00\",\"2022-12-09T17:00:00+00:00\",\"2022-12-09T18:00:00+00:00\",\"2022-12-09T19:00:00+00:00\",\"2022-12-09T20:00:00+00:00\",\"2022-12-09T21:00:00+00:00\",\"2022-12-09T22:00:00+00:00\",\"2022-12-09T23:00:00+00:00\",\"2022-12-10T00:00:00+00:00\",\"2022-12-10T01:00:00+00:00\",\"2022-12-10T02:00:00+00:00\",\"2022-12-10T03:00:00+00:00\",\"2022-12-10T04:00:00+00:00\",\"2022-12-10T05:00:00+00:00\",\"2022-12-10T06:00:00+00:00\",\"2022-12-10T07:00:00+00:00\",\"2022-12-10T08:00:00+00:00\",\"2022-12-10T09:00:00+00:00\",\"2022-12-10T10:00:00+00:00\",\"2022-12-10T11:00:00+00:00\",\"2022-12-10T12:00:00+00:00\",\"2022-12-10T13:00:00+00:00\",\"2022-12-10T14:00:00+00:00\",\"2022-12-10T15:00:00+00:00\",\"2022-12-10T16:00:00+00:00\",\"2022-12-10T17:00:00+00:00\",\"2022-12-10T18:00:00+00:00\",\"2022-12-10T19:00:00+00:00\",\"2022-12-10T20:00:00+00:00\",\"2022-12-10T21:00:00+00:00\",\"2022-12-10T22:00:00+00:00\",\"2022-12-10T23:00:00+00:00\",\"2022-12-11T00:00:00+00:00\",\"2022-12-11T01:00:00+00:00\",\"2022-12-11T02:00:00+00:00\",\"2022-12-11T03:00:00+00:00\",\"2022-12-11T04:00:00+00:00\",\"2022-12-11T05:00:00+00:00\",\"2022-12-11T06:00:00+00:00\",\"2022-12-11T07:00:00+00:00\",\"2022-12-11T08:00:00+00:00\",\"2022-12-11T09:00:00+00:00\",\"2022-12-11T10:00:00+00:00\",\"2022-12-11T11:00:00+00:00\",\"2022-12-11T12:00:00+00:00\",\"2022-12-11T13:00:00+00:00\",\"2022-12-11T14:00:00+00:00\",\"2022-12-11T15:00:00+00:00\",\"2022-12-11T16:00:00+00:00\",\"2022-12-11T17:00:00+00:00\",\"2022-12-11T18:00:00+00:00\",\"2022-12-11T19:00:00+00:00\",\"2022-12-11T20:00:00+00:00\",\"2022-12-11T21:00:00+00:00\",\"2022-12-11T22:00:00+00:00\",\"2022-12-11T23:00:00+00:00\",\"2022-12-12T00:00:00+00:00\",\"2022-12-12T01:00:00+00:00\",\"2022-12-12T02:00:00+00:00\",\"2022-12-12T03:00:00+00:00\",\"2022-12-12T04:00:00+00:00\",\"2022-12-12T05:00:00+00:00\",\"2022-12-12T06:00:00+00:00\",\"2022-12-12T07:00:00+00:00\",\"2022-12-12T08:00:00+00:00\",\"2022-12-12T09:00:00+00:00\",\"2022-12-12T10:00:00+00:00\",\"2022-12-12T11:00:00+00:00\",\"2022-12-12T12:00:00+00:00\",\"2022-12-12T13:00:00+00:00\",\"2022-12-12T14:00:00+00:00\",\"2022-12-12T15:00:00+00:00\",\"2022-12-12T16:00:00+00:00\",\"2022-12-12T17:00:00+00:00\",\"2022-12-12T18:00:00+00:00\",\"2022-12-12T19:00:00+00:00\",\"2022-12-12T20:00:00+00:00\",\"2022-12-12T21:00:00+00:00\",\"2022-12-12T22:00:00+00:00\",\"2022-12-12T23:00:00+00:00\",\"2022-12-13T00:00:00+00:00\",\"2022-12-13T01:00:00+00:00\",\"2022-12-13T02:00:00+00:00\",\"2022-12-13T03:00:00+00:00\",\"2022-12-13T04:00:00+00:00\",\"2022-12-13T05:00:00+00:00\",\"2022-12-13T06:00:00+00:00\",\"2022-12-13T07:00:00+00:00\",\"2022-12-13T08:00:00+00:00\",\"2022-12-13T09:00:00+00:00\",\"2022-12-13T10:00:00+00:00\",\"2022-12-13T11:00:00+00:00\",\"2022-12-13T12:00:00+00:00\",\"2022-12-13T13:00:00+00:00\",\"2022-12-13T14:00:00+00:00\",\"2022-12-13T15:00:00+00:00\",\"2022-12-13T16:00:00+00:00\",\"2022-12-13T17:00:00+00:00\",\"2022-12-13T18:00:00+00:00\",\"2022-12-13T19:00:00+00:00\",\"2022-12-13T20:00:00+00:00\",\"2022-12-13T21:00:00+00:00\",\"2022-12-13T22:00:00+00:00\",\"2022-12-13T23:00:00+00:00\",\"2022-12-14T00:00:00+00:00\",\"2022-12-14T01:00:00+00:00\",\"2022-12-14T02:00:00+00:00\",\"2022-12-14T03:00:00+00:00\",\"2022-12-14T04:00:00+00:00\",\"2022-12-14T05:00:00+00:00\",\"2022-12-14T06:00:00+00:00\",\"2022-12-14T07:00:00+00:00\",\"2022-12-14T08:00:00+00:00\",\"2022-12-14T09:00:00+00:00\",\"2022-12-14T10:00:00+00:00\",\"2022-12-14T11:00:00+00:00\",\"2022-12-14T12:00:00+00:00\",\"2022-12-14T13:00:00+00:00\",\"2022-12-14T14:00:00+00:00\",\"2022-12-14T15:00:00+00:00\",\"2022-12-14T16:00:00+00:00\",\"2022-12-14T17:00:00+00:00\",\"2022-12-14T18:00:00+00:00\",\"2022-12-14T19:00:00+00:00\",\"2022-12-14T20:00:00+00:00\",\"2022-12-14T21:00:00+00:00\",\"2022-12-14T22:00:00+00:00\",\"2022-12-14T23:00:00+00:00\",\"2022-12-15T00:00:00+00:00\",\"2022-12-15T01:00:00+00:00\",\"2022-12-15T02:00:00+00:00\",\"2022-12-15T03:00:00+00:00\",\"2022-12-15T04:00:00+00:00\",\"2022-12-15T05:00:00+00:00\",\"2022-12-15T06:00:00+00:00\",\"2022-12-15T07:00:00+00:00\",\"2022-12-15T08:00:00+00:00\",\"2022-12-15T09:00:00+00:00\",\"2022-12-15T10:00:00+00:00\",\"2022-12-15T11:00:00+00:00\",\"2022-12-15T12:00:00+00:00\",\"2022-12-15T13:00:00+00:00\",\"2022-12-15T14:00:00+00:00\",\"2022-12-15T15:00:00+00:00\",\"2022-12-15T16:00:00+00:00\",\"2022-12-15T17:00:00+00:00\",\"2022-12-15T18:00:00+00:00\",\"2022-12-15T19:00:00+00:00\",\"2022-12-15T20:00:00+00:00\",\"2022-12-15T21:00:00+00:00\",\"2022-12-15T22:00:00+00:00\",\"2022-12-15T23:00:00+00:00\"],\"y\":[11,5,1,2,3,10,8,11,10,9,14,44,35,10,18,23,10,13,16,16,11,4,5,6,7,3,2,5,2,2,4,17,9,9,3,10,17,11,5,9,20,95,57,132,56,148,83,18,22,5,6,9,5,5,21,18,12,7,9,27,6,18,7,12,9,17,8,7,15,7,2,3,6,2,1,3,2,2,2,5,3,6,13,7,10,6,5,4,3,4,0,5,7,2,1,2,0,4,1,2,3,0,1,1,3,11,5,6,5,3,2,2,4,4,3,3,2,3,4,8,2,0,4,0,1,1,0,3,6,2,3,25,3,101,38,66,67,46,18,25,18,13,5,9,3,3,6,4,8,7,13,10,11,15,12,10,14,10,13,13,72,65,710,523,351,251,249,65,27,32,32,35,24,51,135,74,53,65,43,40,32,30,54,39,21,27,27,18,47,29,16,17,4,4,2,5,5,2,15,6,13,21,11,8,16,16,6,9,12,5,8,7,15,10,6,8,2,1,0,0,2,1,3,1,26,15,13,12,6,8,4,3,8,6,6,3,4,1,2,3,4,1,2,2,1,2,2,15,34,15,18,14,8,14,10,10,3,11,6,5,3,5,0,0,9,0,3,2,3,2,5,7,10,8,4,28,17,19,20,15,17,20,50,23,16,24,7,5,6,4,7,6,2,2,6,20,13,8,12,14,20,49,20,22,117,116,424,2348,8169,2120,1854,1129,637,432,281,281,248,304,424,608,1997,5199,3864,2927,2044,1608,1341,1196,1068,995,808,643,547,465,321,238,185,153,135,123,152,174,215,288,257,129,172,134,109,81,91,99,104,87,63,64,63,44,40,26,22,9,20,38,41,25,32,50,41,53,35,45,25,48,36,36,37,31,141,69,27,28,10,18,8,6,6,8,11,13,20,13,21,20,32,20,13,9,13,21,16,11,22,28,19,8,11,6,4,7,4,1,5,6,8,7,15,58,33,23,9,10,10,6,8,6,10,8,14,2,2],\"type\":\"scatter\"}],                        {\"template\":{\"data\":{\"histogram2dcontour\":[{\"type\":\"histogram2dcontour\",\"colorbar\":{\"outlinewidth\":0,\"ticks\":\"\"},\"colorscale\":[[0.0,\"#0d0887\"],[0.1111111111111111,\"#46039f\"],[0.2222222222222222,\"#7201a8\"],[0.3333333333333333,\"#9c179e\"],[0.4444444444444444,\"#bd3786\"],[0.5555555555555556,\"#d8576b\"],[0.6666666666666666,\"#ed7953\"],[0.7777777777777778,\"#fb9f3a\"],[0.8888888888888888,\"#fdca26\"],[1.0,\"#f0f921\"]]}],\"choropleth\":[{\"type\":\"choropleth\",\"colorbar\":{\"outlinewidth\":0,\"ticks\":\"\"}}],\"histogram2d\":[{\"type\":\"histogram2d\",\"colorbar\":{\"outlinewidth\":0,\"ticks\":\"\"},\"colorscale\":[[0.0,\"#0d0887\"],[0.1111111111111111,\"#46039f\"],[0.2222222222222222,\"#7201a8\"],[0.3333333333333333,\"#9c179e\"],[0.4444444444444444,\"#bd3786\"],[0.5555555555555556,\"#d8576b\"],[0.6666666666666666,\"#ed7953\"],[0.7777777777777778,\"#fb9f3a\"],[0.8888888888888888,\"#fdca26\"],[1.0,\"#f0f921\"]]}],\"heatmap\":[{\"type\":\"heatmap\",\"colorbar\":{\"outlinewidth\":0,\"ticks\":\"\"},\"colorscale\":[[0.0,\"#0d0887\"],[0.1111111111111111,\"#46039f\"],[0.2222222222222222,\"#7201a8\"],[0.3333333333333333,\"#9c179e\"],[0.4444444444444444,\"#bd3786\"],[0.5555555555555556,\"#d8576b\"],[0.6666666666666666,\"#ed7953\"],[0.7777777777777778,\"#fb9f3a\"],[0.8888888888888888,\"#fdca26\"],[1.0,\"#f0f921\"]]}],\"heatmapgl\":[{\"type\":\"heatmapgl\",\"colorbar\":{\"outlinewidth\":0,\"ticks\":\"\"},\"colorscale\":[[0.0,\"#0d0887\"],[0.1111111111111111,\"#46039f\"],[0.2222222222222222,\"#7201a8\"],[0.3333333333333333,\"#9c179e\"],[0.4444444444444444,\"#bd3786\"],[0.5555555555555556,\"#d8576b\"],[0.6666666666666666,\"#ed7953\"],[0.7777777777777778,\"#fb9f3a\"],[0.8888888888888888,\"#fdca26\"],[1.0,\"#f0f921\"]]}],\"contourcarpet\":[{\"type\":\"contourcarpet\",\"colorbar\":{\"outlinewidth\":0,\"ticks\":\"\"}}],\"contour\":[{\"type\":\"contour\",\"colorbar\":{\"outlinewidth\":0,\"ticks\":\"\"},\"colorscale\":[[0.0,\"#0d0887\"],[0.1111111111111111,\"#46039f\"],[0.2222222222222222,\"#7201a8\"],[0.3333333333333333,\"#9c179e\"],[0.4444444444444444,\"#bd3786\"],[0.5555555555555556,\"#d8576b\"],[0.6666666666666666,\"#ed7953\"],[0.7777777777777778,\"#fb9f3a\"],[0.8888888888888888,\"#fdca26\"],[1.0,\"#f0f921\"]]}],\"surface\":[{\"type\":\"surface\",\"colorbar\":{\"outlinewidth\":0,\"ticks\":\"\"},\"colorscale\":[[0.0,\"#0d0887\"],[0.1111111111111111,\"#46039f\"],[0.2222222222222222,\"#7201a8\"],[0.3333333333333333,\"#9c179e\"],[0.4444444444444444,\"#bd3786\"],[0.5555555555555556,\"#d8576b\"],[0.6666666666666666,\"#ed7953\"],[0.7777777777777778,\"#fb9f3a\"],[0.8888888888888888,\"#fdca26\"],[1.0,\"#f0f921\"]]}],\"mesh3d\":[{\"type\":\"mesh3d\",\"colorbar\":{\"outlinewidth\":0,\"ticks\":\"\"}}],\"scatter\":[{\"fillpattern\":{\"fillmode\":\"overlay\",\"size\":10,\"solidity\":0.2},\"type\":\"scatter\"}],\"parcoords\":[{\"type\":\"parcoords\",\"line\":{\"colorbar\":{\"outlinewidth\":0,\"ticks\":\"\"}}}],\"scatterpolargl\":[{\"type\":\"scatterpolargl\",\"marker\":{\"colorbar\":{\"outlinewidth\":0,\"ticks\":\"\"}}}],\"bar\":[{\"error_x\":{\"color\":\"#2a3f5f\"},\"error_y\":{\"color\":\"#2a3f5f\"},\"marker\":{\"line\":{\"color\":\"#E5ECF6\",\"width\":0.5},\"pattern\":{\"fillmode\":\"overlay\",\"size\":10,\"solidity\":0.2}},\"type\":\"bar\"}],\"scattergeo\":[{\"type\":\"scattergeo\",\"marker\":{\"colorbar\":{\"outlinewidth\":0,\"ticks\":\"\"}}}],\"scatterpolar\":[{\"type\":\"scatterpolar\",\"marker\":{\"colorbar\":{\"outlinewidth\":0,\"ticks\":\"\"}}}],\"histogram\":[{\"marker\":{\"pattern\":{\"fillmode\":\"overlay\",\"size\":10,\"solidity\":0.2}},\"type\":\"histogram\"}],\"scattergl\":[{\"type\":\"scattergl\",\"marker\":{\"colorbar\":{\"outlinewidth\":0,\"ticks\":\"\"}}}],\"scatter3d\":[{\"type\":\"scatter3d\",\"line\":{\"colorbar\":{\"outlinewidth\":0,\"ticks\":\"\"}},\"marker\":{\"colorbar\":{\"outlinewidth\":0,\"ticks\":\"\"}}}],\"scattermapbox\":[{\"type\":\"scattermapbox\",\"marker\":{\"colorbar\":{\"outlinewidth\":0,\"ticks\":\"\"}}}],\"scatterternary\":[{\"type\":\"scatterternary\",\"marker\":{\"colorbar\":{\"outlinewidth\":0,\"ticks\":\"\"}}}],\"scattercarpet\":[{\"type\":\"scattercarpet\",\"marker\":{\"colorbar\":{\"outlinewidth\":0,\"ticks\":\"\"}}}],\"carpet\":[{\"aaxis\":{\"endlinecolor\":\"#2a3f5f\",\"gridcolor\":\"white\",\"linecolor\":\"white\",\"minorgridcolor\":\"white\",\"startlinecolor\":\"#2a3f5f\"},\"baxis\":{\"endlinecolor\":\"#2a3f5f\",\"gridcolor\":\"white\",\"linecolor\":\"white\",\"minorgridcolor\":\"white\",\"startlinecolor\":\"#2a3f5f\"},\"type\":\"carpet\"}],\"table\":[{\"cells\":{\"fill\":{\"color\":\"#EBF0F8\"},\"line\":{\"color\":\"white\"}},\"header\":{\"fill\":{\"color\":\"#C8D4E3\"},\"line\":{\"color\":\"white\"}},\"type\":\"table\"}],\"barpolar\":[{\"marker\":{\"line\":{\"color\":\"#E5ECF6\",\"width\":0.5},\"pattern\":{\"fillmode\":\"overlay\",\"size\":10,\"solidity\":0.2}},\"type\":\"barpolar\"}],\"pie\":[{\"automargin\":true,\"type\":\"pie\"}]},\"layout\":{\"autotypenumbers\":\"strict\",\"colorway\":[\"#636efa\",\"#EF553B\",\"#00cc96\",\"#ab63fa\",\"#FFA15A\",\"#19d3f3\",\"#FF6692\",\"#B6E880\",\"#FF97FF\",\"#FECB52\"],\"font\":{\"color\":\"#2a3f5f\"},\"hovermode\":\"closest\",\"hoverlabel\":{\"align\":\"left\"},\"paper_bgcolor\":\"white\",\"plot_bgcolor\":\"#E5ECF6\",\"polar\":{\"bgcolor\":\"#E5ECF6\",\"angularaxis\":{\"gridcolor\":\"white\",\"linecolor\":\"white\",\"ticks\":\"\"},\"radialaxis\":{\"gridcolor\":\"white\",\"linecolor\":\"white\",\"ticks\":\"\"}},\"ternary\":{\"bgcolor\":\"#E5ECF6\",\"aaxis\":{\"gridcolor\":\"white\",\"linecolor\":\"white\",\"ticks\":\"\"},\"baxis\":{\"gridcolor\":\"white\",\"linecolor\":\"white\",\"ticks\":\"\"},\"caxis\":{\"gridcolor\":\"white\",\"linecolor\":\"white\",\"ticks\":\"\"}},\"coloraxis\":{\"colorbar\":{\"outlinewidth\":0,\"ticks\":\"\"}},\"colorscale\":{\"sequential\":[[0.0,\"#0d0887\"],[0.1111111111111111,\"#46039f\"],[0.2222222222222222,\"#7201a8\"],[0.3333333333333333,\"#9c179e\"],[0.4444444444444444,\"#bd3786\"],[0.5555555555555556,\"#d8576b\"],[0.6666666666666666,\"#ed7953\"],[0.7777777777777778,\"#fb9f3a\"],[0.8888888888888888,\"#fdca26\"],[1.0,\"#f0f921\"]],\"sequentialminus\":[[0.0,\"#0d0887\"],[0.1111111111111111,\"#46039f\"],[0.2222222222222222,\"#7201a8\"],[0.3333333333333333,\"#9c179e\"],[0.4444444444444444,\"#bd3786\"],[0.5555555555555556,\"#d8576b\"],[0.6666666666666666,\"#ed7953\"],[0.7777777777777778,\"#fb9f3a\"],[0.8888888888888888,\"#fdca26\"],[1.0,\"#f0f921\"]],\"diverging\":[[0,\"#8e0152\"],[0.1,\"#c51b7d\"],[0.2,\"#de77ae\"],[0.3,\"#f1b6da\"],[0.4,\"#fde0ef\"],[0.5,\"#f7f7f7\"],[0.6,\"#e6f5d0\"],[0.7,\"#b8e186\"],[0.8,\"#7fbc41\"],[0.9,\"#4d9221\"],[1,\"#276419\"]]},\"xaxis\":{\"gridcolor\":\"white\",\"linecolor\":\"white\",\"ticks\":\"\",\"title\":{\"standoff\":15},\"zerolinecolor\":\"white\",\"automargin\":true,\"zerolinewidth\":2},\"yaxis\":{\"gridcolor\":\"white\",\"linecolor\":\"white\",\"ticks\":\"\",\"title\":{\"standoff\":15},\"zerolinecolor\":\"white\",\"automargin\":true,\"zerolinewidth\":2},\"scene\":{\"xaxis\":{\"backgroundcolor\":\"#E5ECF6\",\"gridcolor\":\"white\",\"linecolor\":\"white\",\"showbackground\":true,\"ticks\":\"\",\"zerolinecolor\":\"white\",\"gridwidth\":2},\"yaxis\":{\"backgroundcolor\":\"#E5ECF6\",\"gridcolor\":\"white\",\"linecolor\":\"white\",\"showbackground\":true,\"ticks\":\"\",\"zerolinecolor\":\"white\",\"gridwidth\":2},\"zaxis\":{\"backgroundcolor\":\"#E5ECF6\",\"gridcolor\":\"white\",\"linecolor\":\"white\",\"showbackground\":true,\"ticks\":\"\",\"zerolinecolor\":\"white\",\"gridwidth\":2}},\"shapedefaults\":{\"line\":{\"color\":\"#2a3f5f\"}},\"annotationdefaults\":{\"arrowcolor\":\"#2a3f5f\",\"arrowhead\":0,\"arrowwidth\":1},\"geo\":{\"bgcolor\":\"white\",\"landcolor\":\"#E5ECF6\",\"subunitcolor\":\"white\",\"showland\":true,\"showlakes\":true,\"lakecolor\":\"white\"},\"title\":{\"x\":0.05},\"mapbox\":{\"style\":\"light\"}}}},                        {\"responsive\": true}                    ).then(function(){\n",
              "                            \n",
              "var gd = document.getElementById('ac42ac81-1f8e-4328-b70b-52ef2b1158dd');\n",
              "var x = new MutationObserver(function (mutations, observer) {{\n",
              "        var display = window.getComputedStyle(gd).display;\n",
              "        if (!display || display === 'none') {{\n",
              "            console.log([gd, 'removed!']);\n",
              "            Plotly.purge(gd);\n",
              "            observer.disconnect();\n",
              "        }}\n",
              "}});\n",
              "\n",
              "// Listen for the removal of the full notebook cells\n",
              "var notebookContainer = gd.closest('#notebook-container');\n",
              "if (notebookContainer) {{\n",
              "    x.observe(notebookContainer, {childList: true});\n",
              "}}\n",
              "\n",
              "// Listen for the clearing of the current output cell\n",
              "var outputEl = gd.closest('.output');\n",
              "if (outputEl) {{\n",
              "    x.observe(outputEl, {childList: true});\n",
              "}}\n",
              "\n",
              "                        })                };                            </script>        </div>\n",
              "</body>\n",
              "</html>"
            ]
          },
          "metadata": {}
        }
      ]
    },
    {
      "cell_type": "code",
      "metadata": {
        "colab": {
          "base_uri": "https://localhost:8080/",
          "height": 542
        },
        "id": "64MvFFPWRhu9",
        "outputId": "9c1c75f1-dd5c-4b8a-a104-8e30bab166f5"
      },
      "source": [
        "# Plot frequency of offensive tweets\n",
        "df = joined_df.resample(INTERVAL, on='created_at')['persp_over_threshold'].sum().reset_index()\n",
        "fig = create_frequency_plot(df, ['persp_over_threshold'])\n",
        "fig.update_layout(xaxis_tickmode='linear', xaxis_dtick='D1', xaxis_tickangle=90)\n",
        "fig.show()\n",
        "fig.write_html(\"/content/drive/MyDrive/University/Dissertation/images/world_cup_offensive_tweet_plot.html\", include_plotlyjs='cdn')"
      ],
      "execution_count": 35,
      "outputs": [
        {
          "output_type": "display_data",
          "data": {
            "text/html": [
              "<html>\n",
              "<head><meta charset=\"utf-8\" /></head>\n",
              "<body>\n",
              "    <div>            <script src=\"https://cdnjs.cloudflare.com/ajax/libs/mathjax/2.7.5/MathJax.js?config=TeX-AMS-MML_SVG\"></script><script type=\"text/javascript\">if (window.MathJax && window.MathJax.Hub && window.MathJax.Hub.Config) {window.MathJax.Hub.Config({SVG: {font: \"STIX-Web\"}});}</script>                <script type=\"text/javascript\">window.PlotlyConfig = {MathJaxConfig: 'local'};</script>\n",
              "        <script src=\"https://cdn.plot.ly/plotly-2.18.2.min.js\"></script>                <div id=\"2fb74634-6b3b-4e4b-96b1-ec47c29303cb\" class=\"plotly-graph-div\" style=\"height:525px; width:100%;\"></div>            <script type=\"text/javascript\">                                    window.PLOTLYENV=window.PLOTLYENV || {};                                    if (document.getElementById(\"2fb74634-6b3b-4e4b-96b1-ec47c29303cb\")) {                    Plotly.newPlot(                        \"2fb74634-6b3b-4e4b-96b1-ec47c29303cb\",                        [{\"mode\":\"lines\",\"name\":\"persp_over_threshold\",\"x\":[\"2022-11-28T01:00:00+00:00\",\"2022-11-28T02:00:00+00:00\",\"2022-11-28T03:00:00+00:00\",\"2022-11-28T04:00:00+00:00\",\"2022-11-28T05:00:00+00:00\",\"2022-11-28T06:00:00+00:00\",\"2022-11-28T07:00:00+00:00\",\"2022-11-28T08:00:00+00:00\",\"2022-11-28T09:00:00+00:00\",\"2022-11-28T10:00:00+00:00\",\"2022-11-28T11:00:00+00:00\",\"2022-11-28T12:00:00+00:00\",\"2022-11-28T13:00:00+00:00\",\"2022-11-28T14:00:00+00:00\",\"2022-11-28T15:00:00+00:00\",\"2022-11-28T16:00:00+00:00\",\"2022-11-28T17:00:00+00:00\",\"2022-11-28T18:00:00+00:00\",\"2022-11-28T19:00:00+00:00\",\"2022-11-28T20:00:00+00:00\",\"2022-11-28T21:00:00+00:00\",\"2022-11-28T22:00:00+00:00\",\"2022-11-28T23:00:00+00:00\",\"2022-11-29T00:00:00+00:00\",\"2022-11-29T01:00:00+00:00\",\"2022-11-29T02:00:00+00:00\",\"2022-11-29T03:00:00+00:00\",\"2022-11-29T04:00:00+00:00\",\"2022-11-29T05:00:00+00:00\",\"2022-11-29T06:00:00+00:00\",\"2022-11-29T07:00:00+00:00\",\"2022-11-29T08:00:00+00:00\",\"2022-11-29T09:00:00+00:00\",\"2022-11-29T10:00:00+00:00\",\"2022-11-29T11:00:00+00:00\",\"2022-11-29T12:00:00+00:00\",\"2022-11-29T13:00:00+00:00\",\"2022-11-29T14:00:00+00:00\",\"2022-11-29T15:00:00+00:00\",\"2022-11-29T16:00:00+00:00\",\"2022-11-29T17:00:00+00:00\",\"2022-11-29T18:00:00+00:00\",\"2022-11-29T19:00:00+00:00\",\"2022-11-29T20:00:00+00:00\",\"2022-11-29T21:00:00+00:00\",\"2022-11-29T22:00:00+00:00\",\"2022-11-29T23:00:00+00:00\",\"2022-11-30T00:00:00+00:00\",\"2022-11-30T01:00:00+00:00\",\"2022-11-30T02:00:00+00:00\",\"2022-11-30T03:00:00+00:00\",\"2022-11-30T04:00:00+00:00\",\"2022-11-30T05:00:00+00:00\",\"2022-11-30T06:00:00+00:00\",\"2022-11-30T07:00:00+00:00\",\"2022-11-30T08:00:00+00:00\",\"2022-11-30T09:00:00+00:00\",\"2022-11-30T10:00:00+00:00\",\"2022-11-30T11:00:00+00:00\",\"2022-11-30T12:00:00+00:00\",\"2022-11-30T13:00:00+00:00\",\"2022-11-30T14:00:00+00:00\",\"2022-11-30T15:00:00+00:00\",\"2022-11-30T16:00:00+00:00\",\"2022-11-30T17:00:00+00:00\",\"2022-11-30T18:00:00+00:00\",\"2022-11-30T19:00:00+00:00\",\"2022-11-30T20:00:00+00:00\",\"2022-11-30T21:00:00+00:00\",\"2022-11-30T22:00:00+00:00\",\"2022-11-30T23:00:00+00:00\",\"2022-12-01T00:00:00+00:00\",\"2022-12-01T01:00:00+00:00\",\"2022-12-01T02:00:00+00:00\",\"2022-12-01T03:00:00+00:00\",\"2022-12-01T04:00:00+00:00\",\"2022-12-01T05:00:00+00:00\",\"2022-12-01T06:00:00+00:00\",\"2022-12-01T07:00:00+00:00\",\"2022-12-01T08:00:00+00:00\",\"2022-12-01T09:00:00+00:00\",\"2022-12-01T10:00:00+00:00\",\"2022-12-01T11:00:00+00:00\",\"2022-12-01T12:00:00+00:00\",\"2022-12-01T13:00:00+00:00\",\"2022-12-01T14:00:00+00:00\",\"2022-12-01T15:00:00+00:00\",\"2022-12-01T16:00:00+00:00\",\"2022-12-01T17:00:00+00:00\",\"2022-12-01T18:00:00+00:00\",\"2022-12-01T19:00:00+00:00\",\"2022-12-01T20:00:00+00:00\",\"2022-12-01T21:00:00+00:00\",\"2022-12-01T22:00:00+00:00\",\"2022-12-01T23:00:00+00:00\",\"2022-12-02T00:00:00+00:00\",\"2022-12-02T01:00:00+00:00\",\"2022-12-02T02:00:00+00:00\",\"2022-12-02T03:00:00+00:00\",\"2022-12-02T04:00:00+00:00\",\"2022-12-02T05:00:00+00:00\",\"2022-12-02T06:00:00+00:00\",\"2022-12-02T07:00:00+00:00\",\"2022-12-02T08:00:00+00:00\",\"2022-12-02T09:00:00+00:00\",\"2022-12-02T10:00:00+00:00\",\"2022-12-02T11:00:00+00:00\",\"2022-12-02T12:00:00+00:00\",\"2022-12-02T13:00:00+00:00\",\"2022-12-02T14:00:00+00:00\",\"2022-12-02T15:00:00+00:00\",\"2022-12-02T16:00:00+00:00\",\"2022-12-02T17:00:00+00:00\",\"2022-12-02T18:00:00+00:00\",\"2022-12-02T19:00:00+00:00\",\"2022-12-02T20:00:00+00:00\",\"2022-12-02T21:00:00+00:00\",\"2022-12-02T22:00:00+00:00\",\"2022-12-02T23:00:00+00:00\",\"2022-12-03T00:00:00+00:00\",\"2022-12-03T01:00:00+00:00\",\"2022-12-03T02:00:00+00:00\",\"2022-12-03T03:00:00+00:00\",\"2022-12-03T04:00:00+00:00\",\"2022-12-03T05:00:00+00:00\",\"2022-12-03T06:00:00+00:00\",\"2022-12-03T07:00:00+00:00\",\"2022-12-03T08:00:00+00:00\",\"2022-12-03T09:00:00+00:00\",\"2022-12-03T10:00:00+00:00\",\"2022-12-03T11:00:00+00:00\",\"2022-12-03T12:00:00+00:00\",\"2022-12-03T13:00:00+00:00\",\"2022-12-03T14:00:00+00:00\",\"2022-12-03T15:00:00+00:00\",\"2022-12-03T16:00:00+00:00\",\"2022-12-03T17:00:00+00:00\",\"2022-12-03T18:00:00+00:00\",\"2022-12-03T19:00:00+00:00\",\"2022-12-03T20:00:00+00:00\",\"2022-12-03T21:00:00+00:00\",\"2022-12-03T22:00:00+00:00\",\"2022-12-03T23:00:00+00:00\",\"2022-12-04T00:00:00+00:00\",\"2022-12-04T01:00:00+00:00\",\"2022-12-04T02:00:00+00:00\",\"2022-12-04T03:00:00+00:00\",\"2022-12-04T04:00:00+00:00\",\"2022-12-04T05:00:00+00:00\",\"2022-12-04T06:00:00+00:00\",\"2022-12-04T07:00:00+00:00\",\"2022-12-04T08:00:00+00:00\",\"2022-12-04T09:00:00+00:00\",\"2022-12-04T10:00:00+00:00\",\"2022-12-04T11:00:00+00:00\",\"2022-12-04T12:00:00+00:00\",\"2022-12-04T13:00:00+00:00\",\"2022-12-04T14:00:00+00:00\",\"2022-12-04T15:00:00+00:00\",\"2022-12-04T16:00:00+00:00\",\"2022-12-04T17:00:00+00:00\",\"2022-12-04T18:00:00+00:00\",\"2022-12-04T19:00:00+00:00\",\"2022-12-04T20:00:00+00:00\",\"2022-12-04T21:00:00+00:00\",\"2022-12-04T22:00:00+00:00\",\"2022-12-04T23:00:00+00:00\",\"2022-12-05T00:00:00+00:00\",\"2022-12-05T01:00:00+00:00\",\"2022-12-05T02:00:00+00:00\",\"2022-12-05T03:00:00+00:00\",\"2022-12-05T04:00:00+00:00\",\"2022-12-05T05:00:00+00:00\",\"2022-12-05T06:00:00+00:00\",\"2022-12-05T07:00:00+00:00\",\"2022-12-05T08:00:00+00:00\",\"2022-12-05T09:00:00+00:00\",\"2022-12-05T10:00:00+00:00\",\"2022-12-05T11:00:00+00:00\",\"2022-12-05T12:00:00+00:00\",\"2022-12-05T13:00:00+00:00\",\"2022-12-05T14:00:00+00:00\",\"2022-12-05T15:00:00+00:00\",\"2022-12-05T16:00:00+00:00\",\"2022-12-05T17:00:00+00:00\",\"2022-12-05T18:00:00+00:00\",\"2022-12-05T19:00:00+00:00\",\"2022-12-05T20:00:00+00:00\",\"2022-12-05T21:00:00+00:00\",\"2022-12-05T22:00:00+00:00\",\"2022-12-05T23:00:00+00:00\",\"2022-12-06T00:00:00+00:00\",\"2022-12-06T01:00:00+00:00\",\"2022-12-06T02:00:00+00:00\",\"2022-12-06T03:00:00+00:00\",\"2022-12-06T04:00:00+00:00\",\"2022-12-06T05:00:00+00:00\",\"2022-12-06T06:00:00+00:00\",\"2022-12-06T07:00:00+00:00\",\"2022-12-06T08:00:00+00:00\",\"2022-12-06T09:00:00+00:00\",\"2022-12-06T10:00:00+00:00\",\"2022-12-06T11:00:00+00:00\",\"2022-12-06T12:00:00+00:00\",\"2022-12-06T13:00:00+00:00\",\"2022-12-06T14:00:00+00:00\",\"2022-12-06T15:00:00+00:00\",\"2022-12-06T16:00:00+00:00\",\"2022-12-06T17:00:00+00:00\",\"2022-12-06T18:00:00+00:00\",\"2022-12-06T19:00:00+00:00\",\"2022-12-06T20:00:00+00:00\",\"2022-12-06T21:00:00+00:00\",\"2022-12-06T22:00:00+00:00\",\"2022-12-06T23:00:00+00:00\",\"2022-12-07T00:00:00+00:00\",\"2022-12-07T01:00:00+00:00\",\"2022-12-07T02:00:00+00:00\",\"2022-12-07T03:00:00+00:00\",\"2022-12-07T04:00:00+00:00\",\"2022-12-07T05:00:00+00:00\",\"2022-12-07T06:00:00+00:00\",\"2022-12-07T07:00:00+00:00\",\"2022-12-07T08:00:00+00:00\",\"2022-12-07T09:00:00+00:00\",\"2022-12-07T10:00:00+00:00\",\"2022-12-07T11:00:00+00:00\",\"2022-12-07T12:00:00+00:00\",\"2022-12-07T13:00:00+00:00\",\"2022-12-07T14:00:00+00:00\",\"2022-12-07T15:00:00+00:00\",\"2022-12-07T16:00:00+00:00\",\"2022-12-07T17:00:00+00:00\",\"2022-12-07T18:00:00+00:00\",\"2022-12-07T19:00:00+00:00\",\"2022-12-07T20:00:00+00:00\",\"2022-12-07T21:00:00+00:00\",\"2022-12-07T22:00:00+00:00\",\"2022-12-07T23:00:00+00:00\",\"2022-12-08T00:00:00+00:00\",\"2022-12-08T01:00:00+00:00\",\"2022-12-08T02:00:00+00:00\",\"2022-12-08T03:00:00+00:00\",\"2022-12-08T04:00:00+00:00\",\"2022-12-08T05:00:00+00:00\",\"2022-12-08T06:00:00+00:00\",\"2022-12-08T07:00:00+00:00\",\"2022-12-08T08:00:00+00:00\",\"2022-12-08T09:00:00+00:00\",\"2022-12-08T10:00:00+00:00\",\"2022-12-08T11:00:00+00:00\",\"2022-12-08T12:00:00+00:00\",\"2022-12-08T13:00:00+00:00\",\"2022-12-08T14:00:00+00:00\",\"2022-12-08T15:00:00+00:00\",\"2022-12-08T16:00:00+00:00\",\"2022-12-08T17:00:00+00:00\",\"2022-12-08T18:00:00+00:00\",\"2022-12-08T19:00:00+00:00\",\"2022-12-08T20:00:00+00:00\",\"2022-12-08T21:00:00+00:00\",\"2022-12-08T22:00:00+00:00\",\"2022-12-08T23:00:00+00:00\",\"2022-12-09T00:00:00+00:00\",\"2022-12-09T01:00:00+00:00\",\"2022-12-09T02:00:00+00:00\",\"2022-12-09T03:00:00+00:00\",\"2022-12-09T04:00:00+00:00\",\"2022-12-09T05:00:00+00:00\",\"2022-12-09T06:00:00+00:00\",\"2022-12-09T07:00:00+00:00\",\"2022-12-09T08:00:00+00:00\",\"2022-12-09T09:00:00+00:00\",\"2022-12-09T10:00:00+00:00\",\"2022-12-09T11:00:00+00:00\",\"2022-12-09T12:00:00+00:00\",\"2022-12-09T13:00:00+00:00\",\"2022-12-09T14:00:00+00:00\",\"2022-12-09T15:00:00+00:00\",\"2022-12-09T16:00:00+00:00\",\"2022-12-09T17:00:00+00:00\",\"2022-12-09T18:00:00+00:00\",\"2022-12-09T19:00:00+00:00\",\"2022-12-09T20:00:00+00:00\",\"2022-12-09T21:00:00+00:00\",\"2022-12-09T22:00:00+00:00\",\"2022-12-09T23:00:00+00:00\",\"2022-12-10T00:00:00+00:00\",\"2022-12-10T01:00:00+00:00\",\"2022-12-10T02:00:00+00:00\",\"2022-12-10T03:00:00+00:00\",\"2022-12-10T04:00:00+00:00\",\"2022-12-10T05:00:00+00:00\",\"2022-12-10T06:00:00+00:00\",\"2022-12-10T07:00:00+00:00\",\"2022-12-10T08:00:00+00:00\",\"2022-12-10T09:00:00+00:00\",\"2022-12-10T10:00:00+00:00\",\"2022-12-10T11:00:00+00:00\",\"2022-12-10T12:00:00+00:00\",\"2022-12-10T13:00:00+00:00\",\"2022-12-10T14:00:00+00:00\",\"2022-12-10T15:00:00+00:00\",\"2022-12-10T16:00:00+00:00\",\"2022-12-10T17:00:00+00:00\",\"2022-12-10T18:00:00+00:00\",\"2022-12-10T19:00:00+00:00\",\"2022-12-10T20:00:00+00:00\",\"2022-12-10T21:00:00+00:00\",\"2022-12-10T22:00:00+00:00\",\"2022-12-10T23:00:00+00:00\",\"2022-12-11T00:00:00+00:00\",\"2022-12-11T01:00:00+00:00\",\"2022-12-11T02:00:00+00:00\",\"2022-12-11T03:00:00+00:00\",\"2022-12-11T04:00:00+00:00\",\"2022-12-11T05:00:00+00:00\",\"2022-12-11T06:00:00+00:00\",\"2022-12-11T07:00:00+00:00\",\"2022-12-11T08:00:00+00:00\",\"2022-12-11T09:00:00+00:00\",\"2022-12-11T10:00:00+00:00\",\"2022-12-11T11:00:00+00:00\",\"2022-12-11T12:00:00+00:00\",\"2022-12-11T13:00:00+00:00\",\"2022-12-11T14:00:00+00:00\",\"2022-12-11T15:00:00+00:00\",\"2022-12-11T16:00:00+00:00\",\"2022-12-11T17:00:00+00:00\",\"2022-12-11T18:00:00+00:00\",\"2022-12-11T19:00:00+00:00\",\"2022-12-11T20:00:00+00:00\",\"2022-12-11T21:00:00+00:00\",\"2022-12-11T22:00:00+00:00\",\"2022-12-11T23:00:00+00:00\",\"2022-12-12T00:00:00+00:00\",\"2022-12-12T01:00:00+00:00\",\"2022-12-12T02:00:00+00:00\",\"2022-12-12T03:00:00+00:00\",\"2022-12-12T04:00:00+00:00\",\"2022-12-12T05:00:00+00:00\",\"2022-12-12T06:00:00+00:00\",\"2022-12-12T07:00:00+00:00\",\"2022-12-12T08:00:00+00:00\",\"2022-12-12T09:00:00+00:00\",\"2022-12-12T10:00:00+00:00\",\"2022-12-12T11:00:00+00:00\",\"2022-12-12T12:00:00+00:00\",\"2022-12-12T13:00:00+00:00\",\"2022-12-12T14:00:00+00:00\",\"2022-12-12T15:00:00+00:00\",\"2022-12-12T16:00:00+00:00\",\"2022-12-12T17:00:00+00:00\",\"2022-12-12T18:00:00+00:00\",\"2022-12-12T19:00:00+00:00\",\"2022-12-12T20:00:00+00:00\",\"2022-12-12T21:00:00+00:00\",\"2022-12-12T22:00:00+00:00\",\"2022-12-12T23:00:00+00:00\",\"2022-12-13T00:00:00+00:00\",\"2022-12-13T01:00:00+00:00\",\"2022-12-13T02:00:00+00:00\",\"2022-12-13T03:00:00+00:00\",\"2022-12-13T04:00:00+00:00\",\"2022-12-13T05:00:00+00:00\",\"2022-12-13T06:00:00+00:00\",\"2022-12-13T07:00:00+00:00\",\"2022-12-13T08:00:00+00:00\",\"2022-12-13T09:00:00+00:00\",\"2022-12-13T10:00:00+00:00\",\"2022-12-13T11:00:00+00:00\",\"2022-12-13T12:00:00+00:00\",\"2022-12-13T13:00:00+00:00\",\"2022-12-13T14:00:00+00:00\",\"2022-12-13T15:00:00+00:00\",\"2022-12-13T16:00:00+00:00\",\"2022-12-13T17:00:00+00:00\",\"2022-12-13T18:00:00+00:00\",\"2022-12-13T19:00:00+00:00\",\"2022-12-13T20:00:00+00:00\",\"2022-12-13T21:00:00+00:00\",\"2022-12-13T22:00:00+00:00\",\"2022-12-13T23:00:00+00:00\",\"2022-12-14T00:00:00+00:00\",\"2022-12-14T01:00:00+00:00\",\"2022-12-14T02:00:00+00:00\",\"2022-12-14T03:00:00+00:00\",\"2022-12-14T04:00:00+00:00\",\"2022-12-14T05:00:00+00:00\",\"2022-12-14T06:00:00+00:00\",\"2022-12-14T07:00:00+00:00\",\"2022-12-14T08:00:00+00:00\",\"2022-12-14T09:00:00+00:00\",\"2022-12-14T10:00:00+00:00\",\"2022-12-14T11:00:00+00:00\",\"2022-12-14T12:00:00+00:00\",\"2022-12-14T13:00:00+00:00\",\"2022-12-14T14:00:00+00:00\",\"2022-12-14T15:00:00+00:00\",\"2022-12-14T16:00:00+00:00\",\"2022-12-14T17:00:00+00:00\",\"2022-12-14T18:00:00+00:00\",\"2022-12-14T19:00:00+00:00\",\"2022-12-14T20:00:00+00:00\",\"2022-12-14T21:00:00+00:00\",\"2022-12-14T22:00:00+00:00\",\"2022-12-14T23:00:00+00:00\",\"2022-12-15T00:00:00+00:00\",\"2022-12-15T01:00:00+00:00\",\"2022-12-15T02:00:00+00:00\",\"2022-12-15T03:00:00+00:00\",\"2022-12-15T04:00:00+00:00\",\"2022-12-15T05:00:00+00:00\",\"2022-12-15T06:00:00+00:00\",\"2022-12-15T07:00:00+00:00\",\"2022-12-15T08:00:00+00:00\",\"2022-12-15T09:00:00+00:00\",\"2022-12-15T10:00:00+00:00\",\"2022-12-15T11:00:00+00:00\",\"2022-12-15T12:00:00+00:00\",\"2022-12-15T13:00:00+00:00\",\"2022-12-15T14:00:00+00:00\",\"2022-12-15T15:00:00+00:00\",\"2022-12-15T16:00:00+00:00\",\"2022-12-15T17:00:00+00:00\",\"2022-12-15T18:00:00+00:00\",\"2022-12-15T19:00:00+00:00\",\"2022-12-15T20:00:00+00:00\",\"2022-12-15T21:00:00+00:00\",\"2022-12-15T22:00:00+00:00\",\"2022-12-15T23:00:00+00:00\"],\"y\":[0,0,0,0,0,0,0,0,0,0,0,0,0,1,1,0,1,0,0,1,0,0,0,0,0,0,0,0,0,1,0,0,0,0,1,1,1,0,0,0,2,3,4,40,28,15,2,6,1,5,2,2,1,1,3,3,0,1,2,3,3,2,5,2,4,7,12,5,5,3,1,0,0,3,0,0,3,0,1,0,1,1,0,2,5,3,3,1,1,2,0,1,1,0,1,2,1,0,0,0,1,1,0,0,1,0,0,0,0,0,0,1,0,0,1,1,0,0,0,0,0,0,5,1,1,2,1,2,2,1,0,1,0,1,0,2,0,7,2,3,1,2,1,0,0,0,0,0,0,0,0,0,0,0,2,0,1,1,2,1,4,5,15,23,23,24,17,21,4,3,3,3,4,4,5,1,7,5,6,7,6,5,2,4,6,2,1,4,0,2,1,1,1,1,1,0,0,0,1,0,0,2,1,1,0,1,1,0,0,2,2,0,0,0,0,0,0,0,0,0,0,1,0,0,1,1,1,0,0,0,0,0,0,1,0,2,0,2,0,0,1,0,0,1,0,0,1,2,3,1,1,0,0,3,0,0,1,1,1,0,0,0,0,1,0,0,0,0,0,0,0,0,1,0,0,2,0,1,0,0,0,1,0,0,0,1,0,1,0,0,0,0,1,0,0,1,0,2,0,1,0,2,0,0,3,5,12,100,294,52,51,21,16,6,6,5,4,6,14,8,24,82,77,51,39,28,27,22,26,17,16,11,28,15,16,6,5,5,8,2,7,5,2,7,10,4,7,5,5,1,3,5,2,2,0,1,2,0,0,1,3,0,2,0,0,1,0,2,2,2,1,2,0,0,2,0,2,0,1,0,0,0,1,1,0,0,1,0,0,1,1,0,0,0,1,0,1,0,0,3,0,0,1,0,3,0,0,1,0,0,1,0,0,0,0,1,0,0,1,1,0,0,0,0,0,0,0,1,0,1,0],\"type\":\"scatter\"}],                        {\"template\":{\"data\":{\"histogram2dcontour\":[{\"type\":\"histogram2dcontour\",\"colorbar\":{\"outlinewidth\":0,\"ticks\":\"\"},\"colorscale\":[[0.0,\"#0d0887\"],[0.1111111111111111,\"#46039f\"],[0.2222222222222222,\"#7201a8\"],[0.3333333333333333,\"#9c179e\"],[0.4444444444444444,\"#bd3786\"],[0.5555555555555556,\"#d8576b\"],[0.6666666666666666,\"#ed7953\"],[0.7777777777777778,\"#fb9f3a\"],[0.8888888888888888,\"#fdca26\"],[1.0,\"#f0f921\"]]}],\"choropleth\":[{\"type\":\"choropleth\",\"colorbar\":{\"outlinewidth\":0,\"ticks\":\"\"}}],\"histogram2d\":[{\"type\":\"histogram2d\",\"colorbar\":{\"outlinewidth\":0,\"ticks\":\"\"},\"colorscale\":[[0.0,\"#0d0887\"],[0.1111111111111111,\"#46039f\"],[0.2222222222222222,\"#7201a8\"],[0.3333333333333333,\"#9c179e\"],[0.4444444444444444,\"#bd3786\"],[0.5555555555555556,\"#d8576b\"],[0.6666666666666666,\"#ed7953\"],[0.7777777777777778,\"#fb9f3a\"],[0.8888888888888888,\"#fdca26\"],[1.0,\"#f0f921\"]]}],\"heatmap\":[{\"type\":\"heatmap\",\"colorbar\":{\"outlinewidth\":0,\"ticks\":\"\"},\"colorscale\":[[0.0,\"#0d0887\"],[0.1111111111111111,\"#46039f\"],[0.2222222222222222,\"#7201a8\"],[0.3333333333333333,\"#9c179e\"],[0.4444444444444444,\"#bd3786\"],[0.5555555555555556,\"#d8576b\"],[0.6666666666666666,\"#ed7953\"],[0.7777777777777778,\"#fb9f3a\"],[0.8888888888888888,\"#fdca26\"],[1.0,\"#f0f921\"]]}],\"heatmapgl\":[{\"type\":\"heatmapgl\",\"colorbar\":{\"outlinewidth\":0,\"ticks\":\"\"},\"colorscale\":[[0.0,\"#0d0887\"],[0.1111111111111111,\"#46039f\"],[0.2222222222222222,\"#7201a8\"],[0.3333333333333333,\"#9c179e\"],[0.4444444444444444,\"#bd3786\"],[0.5555555555555556,\"#d8576b\"],[0.6666666666666666,\"#ed7953\"],[0.7777777777777778,\"#fb9f3a\"],[0.8888888888888888,\"#fdca26\"],[1.0,\"#f0f921\"]]}],\"contourcarpet\":[{\"type\":\"contourcarpet\",\"colorbar\":{\"outlinewidth\":0,\"ticks\":\"\"}}],\"contour\":[{\"type\":\"contour\",\"colorbar\":{\"outlinewidth\":0,\"ticks\":\"\"},\"colorscale\":[[0.0,\"#0d0887\"],[0.1111111111111111,\"#46039f\"],[0.2222222222222222,\"#7201a8\"],[0.3333333333333333,\"#9c179e\"],[0.4444444444444444,\"#bd3786\"],[0.5555555555555556,\"#d8576b\"],[0.6666666666666666,\"#ed7953\"],[0.7777777777777778,\"#fb9f3a\"],[0.8888888888888888,\"#fdca26\"],[1.0,\"#f0f921\"]]}],\"surface\":[{\"type\":\"surface\",\"colorbar\":{\"outlinewidth\":0,\"ticks\":\"\"},\"colorscale\":[[0.0,\"#0d0887\"],[0.1111111111111111,\"#46039f\"],[0.2222222222222222,\"#7201a8\"],[0.3333333333333333,\"#9c179e\"],[0.4444444444444444,\"#bd3786\"],[0.5555555555555556,\"#d8576b\"],[0.6666666666666666,\"#ed7953\"],[0.7777777777777778,\"#fb9f3a\"],[0.8888888888888888,\"#fdca26\"],[1.0,\"#f0f921\"]]}],\"mesh3d\":[{\"type\":\"mesh3d\",\"colorbar\":{\"outlinewidth\":0,\"ticks\":\"\"}}],\"scatter\":[{\"fillpattern\":{\"fillmode\":\"overlay\",\"size\":10,\"solidity\":0.2},\"type\":\"scatter\"}],\"parcoords\":[{\"type\":\"parcoords\",\"line\":{\"colorbar\":{\"outlinewidth\":0,\"ticks\":\"\"}}}],\"scatterpolargl\":[{\"type\":\"scatterpolargl\",\"marker\":{\"colorbar\":{\"outlinewidth\":0,\"ticks\":\"\"}}}],\"bar\":[{\"error_x\":{\"color\":\"#2a3f5f\"},\"error_y\":{\"color\":\"#2a3f5f\"},\"marker\":{\"line\":{\"color\":\"#E5ECF6\",\"width\":0.5},\"pattern\":{\"fillmode\":\"overlay\",\"size\":10,\"solidity\":0.2}},\"type\":\"bar\"}],\"scattergeo\":[{\"type\":\"scattergeo\",\"marker\":{\"colorbar\":{\"outlinewidth\":0,\"ticks\":\"\"}}}],\"scatterpolar\":[{\"type\":\"scatterpolar\",\"marker\":{\"colorbar\":{\"outlinewidth\":0,\"ticks\":\"\"}}}],\"histogram\":[{\"marker\":{\"pattern\":{\"fillmode\":\"overlay\",\"size\":10,\"solidity\":0.2}},\"type\":\"histogram\"}],\"scattergl\":[{\"type\":\"scattergl\",\"marker\":{\"colorbar\":{\"outlinewidth\":0,\"ticks\":\"\"}}}],\"scatter3d\":[{\"type\":\"scatter3d\",\"line\":{\"colorbar\":{\"outlinewidth\":0,\"ticks\":\"\"}},\"marker\":{\"colorbar\":{\"outlinewidth\":0,\"ticks\":\"\"}}}],\"scattermapbox\":[{\"type\":\"scattermapbox\",\"marker\":{\"colorbar\":{\"outlinewidth\":0,\"ticks\":\"\"}}}],\"scatterternary\":[{\"type\":\"scatterternary\",\"marker\":{\"colorbar\":{\"outlinewidth\":0,\"ticks\":\"\"}}}],\"scattercarpet\":[{\"type\":\"scattercarpet\",\"marker\":{\"colorbar\":{\"outlinewidth\":0,\"ticks\":\"\"}}}],\"carpet\":[{\"aaxis\":{\"endlinecolor\":\"#2a3f5f\",\"gridcolor\":\"white\",\"linecolor\":\"white\",\"minorgridcolor\":\"white\",\"startlinecolor\":\"#2a3f5f\"},\"baxis\":{\"endlinecolor\":\"#2a3f5f\",\"gridcolor\":\"white\",\"linecolor\":\"white\",\"minorgridcolor\":\"white\",\"startlinecolor\":\"#2a3f5f\"},\"type\":\"carpet\"}],\"table\":[{\"cells\":{\"fill\":{\"color\":\"#EBF0F8\"},\"line\":{\"color\":\"white\"}},\"header\":{\"fill\":{\"color\":\"#C8D4E3\"},\"line\":{\"color\":\"white\"}},\"type\":\"table\"}],\"barpolar\":[{\"marker\":{\"line\":{\"color\":\"#E5ECF6\",\"width\":0.5},\"pattern\":{\"fillmode\":\"overlay\",\"size\":10,\"solidity\":0.2}},\"type\":\"barpolar\"}],\"pie\":[{\"automargin\":true,\"type\":\"pie\"}]},\"layout\":{\"autotypenumbers\":\"strict\",\"colorway\":[\"#636efa\",\"#EF553B\",\"#00cc96\",\"#ab63fa\",\"#FFA15A\",\"#19d3f3\",\"#FF6692\",\"#B6E880\",\"#FF97FF\",\"#FECB52\"],\"font\":{\"color\":\"#2a3f5f\"},\"hovermode\":\"closest\",\"hoverlabel\":{\"align\":\"left\"},\"paper_bgcolor\":\"white\",\"plot_bgcolor\":\"#E5ECF6\",\"polar\":{\"bgcolor\":\"#E5ECF6\",\"angularaxis\":{\"gridcolor\":\"white\",\"linecolor\":\"white\",\"ticks\":\"\"},\"radialaxis\":{\"gridcolor\":\"white\",\"linecolor\":\"white\",\"ticks\":\"\"}},\"ternary\":{\"bgcolor\":\"#E5ECF6\",\"aaxis\":{\"gridcolor\":\"white\",\"linecolor\":\"white\",\"ticks\":\"\"},\"baxis\":{\"gridcolor\":\"white\",\"linecolor\":\"white\",\"ticks\":\"\"},\"caxis\":{\"gridcolor\":\"white\",\"linecolor\":\"white\",\"ticks\":\"\"}},\"coloraxis\":{\"colorbar\":{\"outlinewidth\":0,\"ticks\":\"\"}},\"colorscale\":{\"sequential\":[[0.0,\"#0d0887\"],[0.1111111111111111,\"#46039f\"],[0.2222222222222222,\"#7201a8\"],[0.3333333333333333,\"#9c179e\"],[0.4444444444444444,\"#bd3786\"],[0.5555555555555556,\"#d8576b\"],[0.6666666666666666,\"#ed7953\"],[0.7777777777777778,\"#fb9f3a\"],[0.8888888888888888,\"#fdca26\"],[1.0,\"#f0f921\"]],\"sequentialminus\":[[0.0,\"#0d0887\"],[0.1111111111111111,\"#46039f\"],[0.2222222222222222,\"#7201a8\"],[0.3333333333333333,\"#9c179e\"],[0.4444444444444444,\"#bd3786\"],[0.5555555555555556,\"#d8576b\"],[0.6666666666666666,\"#ed7953\"],[0.7777777777777778,\"#fb9f3a\"],[0.8888888888888888,\"#fdca26\"],[1.0,\"#f0f921\"]],\"diverging\":[[0,\"#8e0152\"],[0.1,\"#c51b7d\"],[0.2,\"#de77ae\"],[0.3,\"#f1b6da\"],[0.4,\"#fde0ef\"],[0.5,\"#f7f7f7\"],[0.6,\"#e6f5d0\"],[0.7,\"#b8e186\"],[0.8,\"#7fbc41\"],[0.9,\"#4d9221\"],[1,\"#276419\"]]},\"xaxis\":{\"gridcolor\":\"white\",\"linecolor\":\"white\",\"ticks\":\"\",\"title\":{\"standoff\":15},\"zerolinecolor\":\"white\",\"automargin\":true,\"zerolinewidth\":2},\"yaxis\":{\"gridcolor\":\"white\",\"linecolor\":\"white\",\"ticks\":\"\",\"title\":{\"standoff\":15},\"zerolinecolor\":\"white\",\"automargin\":true,\"zerolinewidth\":2},\"scene\":{\"xaxis\":{\"backgroundcolor\":\"#E5ECF6\",\"gridcolor\":\"white\",\"linecolor\":\"white\",\"showbackground\":true,\"ticks\":\"\",\"zerolinecolor\":\"white\",\"gridwidth\":2},\"yaxis\":{\"backgroundcolor\":\"#E5ECF6\",\"gridcolor\":\"white\",\"linecolor\":\"white\",\"showbackground\":true,\"ticks\":\"\",\"zerolinecolor\":\"white\",\"gridwidth\":2},\"zaxis\":{\"backgroundcolor\":\"#E5ECF6\",\"gridcolor\":\"white\",\"linecolor\":\"white\",\"showbackground\":true,\"ticks\":\"\",\"zerolinecolor\":\"white\",\"gridwidth\":2}},\"shapedefaults\":{\"line\":{\"color\":\"#2a3f5f\"}},\"annotationdefaults\":{\"arrowcolor\":\"#2a3f5f\",\"arrowhead\":0,\"arrowwidth\":1},\"geo\":{\"bgcolor\":\"white\",\"landcolor\":\"#E5ECF6\",\"subunitcolor\":\"white\",\"showland\":true,\"showlakes\":true,\"lakecolor\":\"white\"},\"title\":{\"x\":0.05},\"mapbox\":{\"style\":\"light\"}}},\"xaxis\":{\"tickmode\":\"linear\",\"dtick\":\"D1\",\"tickangle\":90}},                        {\"responsive\": true}                    ).then(function(){\n",
              "                            \n",
              "var gd = document.getElementById('2fb74634-6b3b-4e4b-96b1-ec47c29303cb');\n",
              "var x = new MutationObserver(function (mutations, observer) {{\n",
              "        var display = window.getComputedStyle(gd).display;\n",
              "        if (!display || display === 'none') {{\n",
              "            console.log([gd, 'removed!']);\n",
              "            Plotly.purge(gd);\n",
              "            observer.disconnect();\n",
              "        }}\n",
              "}});\n",
              "\n",
              "// Listen for the removal of the full notebook cells\n",
              "var notebookContainer = gd.closest('#notebook-container');\n",
              "if (notebookContainer) {{\n",
              "    x.observe(notebookContainer, {childList: true});\n",
              "}}\n",
              "\n",
              "// Listen for the clearing of the current output cell\n",
              "var outputEl = gd.closest('.output');\n",
              "if (outputEl) {{\n",
              "    x.observe(outputEl, {childList: true});\n",
              "}}\n",
              "\n",
              "                        })                };                            </script>        </div>\n",
              "</body>\n",
              "</html>"
            ]
          },
          "metadata": {}
        }
      ]
    },
    {
      "cell_type": "code",
      "source": [
        "# Plot Sterling, Rashford, Kane tweet frequency\n",
        "df = joined_df.resample(INTERVAL, on='created_at')['MarcusRashford_offensive', 'BellinghamJude_offensive', 'HKane_offensive'].sum().reset_index()\n",
        "fig = create_frequency_plot(df, ['MarcusRashford_offensive', 'BellinghamJude_offensive', 'HKane_offensive'])\n",
        "fig.show()"
      ],
      "metadata": {
        "id": "Jp5r45vmbDA5",
        "outputId": "544c342f-a94b-449f-bf82-b66e9b960b7b",
        "colab": {
          "base_uri": "https://localhost:8080/",
          "height": 542
        }
      },
      "execution_count": 33,
      "outputs": [
        {
          "output_type": "display_data",
          "data": {
            "text/html": [
              "<html>\n",
              "<head><meta charset=\"utf-8\" /></head>\n",
              "<body>\n",
              "    <div>            <script src=\"https://cdnjs.cloudflare.com/ajax/libs/mathjax/2.7.5/MathJax.js?config=TeX-AMS-MML_SVG\"></script><script type=\"text/javascript\">if (window.MathJax && window.MathJax.Hub && window.MathJax.Hub.Config) {window.MathJax.Hub.Config({SVG: {font: \"STIX-Web\"}});}</script>                <script type=\"text/javascript\">window.PlotlyConfig = {MathJaxConfig: 'local'};</script>\n",
              "        <script src=\"https://cdn.plot.ly/plotly-2.18.2.min.js\"></script>                <div id=\"7852d9bc-b8ef-4268-8043-f88c71601f98\" class=\"plotly-graph-div\" style=\"height:525px; width:100%;\"></div>            <script type=\"text/javascript\">                                    window.PLOTLYENV=window.PLOTLYENV || {};                                    if (document.getElementById(\"7852d9bc-b8ef-4268-8043-f88c71601f98\")) {                    Plotly.newPlot(                        \"7852d9bc-b8ef-4268-8043-f88c71601f98\",                        [{\"mode\":\"lines\",\"name\":\"MarcusRashford_offensive\",\"x\":[\"2022-11-28T01:00:00+00:00\",\"2022-11-28T02:00:00+00:00\",\"2022-11-28T03:00:00+00:00\",\"2022-11-28T04:00:00+00:00\",\"2022-11-28T05:00:00+00:00\",\"2022-11-28T06:00:00+00:00\",\"2022-11-28T07:00:00+00:00\",\"2022-11-28T08:00:00+00:00\",\"2022-11-28T09:00:00+00:00\",\"2022-11-28T10:00:00+00:00\",\"2022-11-28T11:00:00+00:00\",\"2022-11-28T12:00:00+00:00\",\"2022-11-28T13:00:00+00:00\",\"2022-11-28T14:00:00+00:00\",\"2022-11-28T15:00:00+00:00\",\"2022-11-28T16:00:00+00:00\",\"2022-11-28T17:00:00+00:00\",\"2022-11-28T18:00:00+00:00\",\"2022-11-28T19:00:00+00:00\",\"2022-11-28T20:00:00+00:00\",\"2022-11-28T21:00:00+00:00\",\"2022-11-28T22:00:00+00:00\",\"2022-11-28T23:00:00+00:00\",\"2022-11-29T00:00:00+00:00\",\"2022-11-29T01:00:00+00:00\",\"2022-11-29T02:00:00+00:00\",\"2022-11-29T03:00:00+00:00\",\"2022-11-29T04:00:00+00:00\",\"2022-11-29T05:00:00+00:00\",\"2022-11-29T06:00:00+00:00\",\"2022-11-29T07:00:00+00:00\",\"2022-11-29T08:00:00+00:00\",\"2022-11-29T09:00:00+00:00\",\"2022-11-29T10:00:00+00:00\",\"2022-11-29T11:00:00+00:00\",\"2022-11-29T12:00:00+00:00\",\"2022-11-29T13:00:00+00:00\",\"2022-11-29T14:00:00+00:00\",\"2022-11-29T15:00:00+00:00\",\"2022-11-29T16:00:00+00:00\",\"2022-11-29T17:00:00+00:00\",\"2022-11-29T18:00:00+00:00\",\"2022-11-29T19:00:00+00:00\",\"2022-11-29T20:00:00+00:00\",\"2022-11-29T21:00:00+00:00\",\"2022-11-29T22:00:00+00:00\",\"2022-11-29T23:00:00+00:00\",\"2022-11-30T00:00:00+00:00\",\"2022-11-30T01:00:00+00:00\",\"2022-11-30T02:00:00+00:00\",\"2022-11-30T03:00:00+00:00\",\"2022-11-30T04:00:00+00:00\",\"2022-11-30T05:00:00+00:00\",\"2022-11-30T06:00:00+00:00\",\"2022-11-30T07:00:00+00:00\",\"2022-11-30T08:00:00+00:00\",\"2022-11-30T09:00:00+00:00\",\"2022-11-30T10:00:00+00:00\",\"2022-11-30T11:00:00+00:00\",\"2022-11-30T12:00:00+00:00\",\"2022-11-30T13:00:00+00:00\",\"2022-11-30T14:00:00+00:00\",\"2022-11-30T15:00:00+00:00\",\"2022-11-30T16:00:00+00:00\",\"2022-11-30T17:00:00+00:00\",\"2022-11-30T18:00:00+00:00\",\"2022-11-30T19:00:00+00:00\",\"2022-11-30T20:00:00+00:00\",\"2022-11-30T21:00:00+00:00\",\"2022-11-30T22:00:00+00:00\",\"2022-11-30T23:00:00+00:00\",\"2022-12-01T00:00:00+00:00\",\"2022-12-01T01:00:00+00:00\",\"2022-12-01T02:00:00+00:00\",\"2022-12-01T03:00:00+00:00\",\"2022-12-01T04:00:00+00:00\",\"2022-12-01T05:00:00+00:00\",\"2022-12-01T06:00:00+00:00\",\"2022-12-01T07:00:00+00:00\",\"2022-12-01T08:00:00+00:00\",\"2022-12-01T09:00:00+00:00\",\"2022-12-01T10:00:00+00:00\",\"2022-12-01T11:00:00+00:00\",\"2022-12-01T12:00:00+00:00\",\"2022-12-01T13:00:00+00:00\",\"2022-12-01T14:00:00+00:00\",\"2022-12-01T15:00:00+00:00\",\"2022-12-01T16:00:00+00:00\",\"2022-12-01T17:00:00+00:00\",\"2022-12-01T18:00:00+00:00\",\"2022-12-01T19:00:00+00:00\",\"2022-12-01T20:00:00+00:00\",\"2022-12-01T21:00:00+00:00\",\"2022-12-01T22:00:00+00:00\",\"2022-12-01T23:00:00+00:00\",\"2022-12-02T00:00:00+00:00\",\"2022-12-02T01:00:00+00:00\",\"2022-12-02T02:00:00+00:00\",\"2022-12-02T03:00:00+00:00\",\"2022-12-02T04:00:00+00:00\",\"2022-12-02T05:00:00+00:00\",\"2022-12-02T06:00:00+00:00\",\"2022-12-02T07:00:00+00:00\",\"2022-12-02T08:00:00+00:00\",\"2022-12-02T09:00:00+00:00\",\"2022-12-02T10:00:00+00:00\",\"2022-12-02T11:00:00+00:00\",\"2022-12-02T12:00:00+00:00\",\"2022-12-02T13:00:00+00:00\",\"2022-12-02T14:00:00+00:00\",\"2022-12-02T15:00:00+00:00\",\"2022-12-02T16:00:00+00:00\",\"2022-12-02T17:00:00+00:00\",\"2022-12-02T18:00:00+00:00\",\"2022-12-02T19:00:00+00:00\",\"2022-12-02T20:00:00+00:00\",\"2022-12-02T21:00:00+00:00\",\"2022-12-02T22:00:00+00:00\",\"2022-12-02T23:00:00+00:00\",\"2022-12-03T00:00:00+00:00\",\"2022-12-03T01:00:00+00:00\",\"2022-12-03T02:00:00+00:00\",\"2022-12-03T03:00:00+00:00\",\"2022-12-03T04:00:00+00:00\",\"2022-12-03T05:00:00+00:00\",\"2022-12-03T06:00:00+00:00\",\"2022-12-03T07:00:00+00:00\",\"2022-12-03T08:00:00+00:00\",\"2022-12-03T09:00:00+00:00\",\"2022-12-03T10:00:00+00:00\",\"2022-12-03T11:00:00+00:00\",\"2022-12-03T12:00:00+00:00\",\"2022-12-03T13:00:00+00:00\",\"2022-12-03T14:00:00+00:00\",\"2022-12-03T15:00:00+00:00\",\"2022-12-03T16:00:00+00:00\",\"2022-12-03T17:00:00+00:00\",\"2022-12-03T18:00:00+00:00\",\"2022-12-03T19:00:00+00:00\",\"2022-12-03T20:00:00+00:00\",\"2022-12-03T21:00:00+00:00\",\"2022-12-03T22:00:00+00:00\",\"2022-12-03T23:00:00+00:00\",\"2022-12-04T00:00:00+00:00\",\"2022-12-04T01:00:00+00:00\",\"2022-12-04T02:00:00+00:00\",\"2022-12-04T03:00:00+00:00\",\"2022-12-04T04:00:00+00:00\",\"2022-12-04T05:00:00+00:00\",\"2022-12-04T06:00:00+00:00\",\"2022-12-04T07:00:00+00:00\",\"2022-12-04T08:00:00+00:00\",\"2022-12-04T09:00:00+00:00\",\"2022-12-04T10:00:00+00:00\",\"2022-12-04T11:00:00+00:00\",\"2022-12-04T12:00:00+00:00\",\"2022-12-04T13:00:00+00:00\",\"2022-12-04T14:00:00+00:00\",\"2022-12-04T15:00:00+00:00\",\"2022-12-04T16:00:00+00:00\",\"2022-12-04T17:00:00+00:00\",\"2022-12-04T18:00:00+00:00\",\"2022-12-04T19:00:00+00:00\",\"2022-12-04T20:00:00+00:00\",\"2022-12-04T21:00:00+00:00\",\"2022-12-04T22:00:00+00:00\",\"2022-12-04T23:00:00+00:00\",\"2022-12-05T00:00:00+00:00\",\"2022-12-05T01:00:00+00:00\",\"2022-12-05T02:00:00+00:00\",\"2022-12-05T03:00:00+00:00\",\"2022-12-05T04:00:00+00:00\",\"2022-12-05T05:00:00+00:00\",\"2022-12-05T06:00:00+00:00\",\"2022-12-05T07:00:00+00:00\",\"2022-12-05T08:00:00+00:00\",\"2022-12-05T09:00:00+00:00\",\"2022-12-05T10:00:00+00:00\",\"2022-12-05T11:00:00+00:00\",\"2022-12-05T12:00:00+00:00\",\"2022-12-05T13:00:00+00:00\",\"2022-12-05T14:00:00+00:00\",\"2022-12-05T15:00:00+00:00\",\"2022-12-05T16:00:00+00:00\",\"2022-12-05T17:00:00+00:00\",\"2022-12-05T18:00:00+00:00\",\"2022-12-05T19:00:00+00:00\",\"2022-12-05T20:00:00+00:00\",\"2022-12-05T21:00:00+00:00\",\"2022-12-05T22:00:00+00:00\",\"2022-12-05T23:00:00+00:00\",\"2022-12-06T00:00:00+00:00\",\"2022-12-06T01:00:00+00:00\",\"2022-12-06T02:00:00+00:00\",\"2022-12-06T03:00:00+00:00\",\"2022-12-06T04:00:00+00:00\",\"2022-12-06T05:00:00+00:00\",\"2022-12-06T06:00:00+00:00\",\"2022-12-06T07:00:00+00:00\",\"2022-12-06T08:00:00+00:00\",\"2022-12-06T09:00:00+00:00\",\"2022-12-06T10:00:00+00:00\",\"2022-12-06T11:00:00+00:00\",\"2022-12-06T12:00:00+00:00\",\"2022-12-06T13:00:00+00:00\",\"2022-12-06T14:00:00+00:00\",\"2022-12-06T15:00:00+00:00\",\"2022-12-06T16:00:00+00:00\",\"2022-12-06T17:00:00+00:00\",\"2022-12-06T18:00:00+00:00\",\"2022-12-06T19:00:00+00:00\",\"2022-12-06T20:00:00+00:00\",\"2022-12-06T21:00:00+00:00\",\"2022-12-06T22:00:00+00:00\",\"2022-12-06T23:00:00+00:00\",\"2022-12-07T00:00:00+00:00\",\"2022-12-07T01:00:00+00:00\",\"2022-12-07T02:00:00+00:00\",\"2022-12-07T03:00:00+00:00\",\"2022-12-07T04:00:00+00:00\",\"2022-12-07T05:00:00+00:00\",\"2022-12-07T06:00:00+00:00\",\"2022-12-07T07:00:00+00:00\",\"2022-12-07T08:00:00+00:00\",\"2022-12-07T09:00:00+00:00\",\"2022-12-07T10:00:00+00:00\",\"2022-12-07T11:00:00+00:00\",\"2022-12-07T12:00:00+00:00\",\"2022-12-07T13:00:00+00:00\",\"2022-12-07T14:00:00+00:00\",\"2022-12-07T15:00:00+00:00\",\"2022-12-07T16:00:00+00:00\",\"2022-12-07T17:00:00+00:00\",\"2022-12-07T18:00:00+00:00\",\"2022-12-07T19:00:00+00:00\",\"2022-12-07T20:00:00+00:00\",\"2022-12-07T21:00:00+00:00\",\"2022-12-07T22:00:00+00:00\",\"2022-12-07T23:00:00+00:00\",\"2022-12-08T00:00:00+00:00\",\"2022-12-08T01:00:00+00:00\",\"2022-12-08T02:00:00+00:00\",\"2022-12-08T03:00:00+00:00\",\"2022-12-08T04:00:00+00:00\",\"2022-12-08T05:00:00+00:00\",\"2022-12-08T06:00:00+00:00\",\"2022-12-08T07:00:00+00:00\",\"2022-12-08T08:00:00+00:00\",\"2022-12-08T09:00:00+00:00\",\"2022-12-08T10:00:00+00:00\",\"2022-12-08T11:00:00+00:00\",\"2022-12-08T12:00:00+00:00\",\"2022-12-08T13:00:00+00:00\",\"2022-12-08T14:00:00+00:00\",\"2022-12-08T15:00:00+00:00\",\"2022-12-08T16:00:00+00:00\",\"2022-12-08T17:00:00+00:00\",\"2022-12-08T18:00:00+00:00\",\"2022-12-08T19:00:00+00:00\",\"2022-12-08T20:00:00+00:00\",\"2022-12-08T21:00:00+00:00\",\"2022-12-08T22:00:00+00:00\",\"2022-12-08T23:00:00+00:00\",\"2022-12-09T00:00:00+00:00\",\"2022-12-09T01:00:00+00:00\",\"2022-12-09T02:00:00+00:00\",\"2022-12-09T03:00:00+00:00\",\"2022-12-09T04:00:00+00:00\",\"2022-12-09T05:00:00+00:00\",\"2022-12-09T06:00:00+00:00\",\"2022-12-09T07:00:00+00:00\",\"2022-12-09T08:00:00+00:00\",\"2022-12-09T09:00:00+00:00\",\"2022-12-09T10:00:00+00:00\",\"2022-12-09T11:00:00+00:00\",\"2022-12-09T12:00:00+00:00\",\"2022-12-09T13:00:00+00:00\",\"2022-12-09T14:00:00+00:00\",\"2022-12-09T15:00:00+00:00\",\"2022-12-09T16:00:00+00:00\",\"2022-12-09T17:00:00+00:00\",\"2022-12-09T18:00:00+00:00\",\"2022-12-09T19:00:00+00:00\",\"2022-12-09T20:00:00+00:00\",\"2022-12-09T21:00:00+00:00\",\"2022-12-09T22:00:00+00:00\",\"2022-12-09T23:00:00+00:00\",\"2022-12-10T00:00:00+00:00\",\"2022-12-10T01:00:00+00:00\",\"2022-12-10T02:00:00+00:00\",\"2022-12-10T03:00:00+00:00\",\"2022-12-10T04:00:00+00:00\",\"2022-12-10T05:00:00+00:00\",\"2022-12-10T06:00:00+00:00\",\"2022-12-10T07:00:00+00:00\",\"2022-12-10T08:00:00+00:00\",\"2022-12-10T09:00:00+00:00\",\"2022-12-10T10:00:00+00:00\",\"2022-12-10T11:00:00+00:00\",\"2022-12-10T12:00:00+00:00\",\"2022-12-10T13:00:00+00:00\",\"2022-12-10T14:00:00+00:00\",\"2022-12-10T15:00:00+00:00\",\"2022-12-10T16:00:00+00:00\",\"2022-12-10T17:00:00+00:00\",\"2022-12-10T18:00:00+00:00\",\"2022-12-10T19:00:00+00:00\",\"2022-12-10T20:00:00+00:00\",\"2022-12-10T21:00:00+00:00\",\"2022-12-10T22:00:00+00:00\",\"2022-12-10T23:00:00+00:00\",\"2022-12-11T00:00:00+00:00\",\"2022-12-11T01:00:00+00:00\",\"2022-12-11T02:00:00+00:00\",\"2022-12-11T03:00:00+00:00\",\"2022-12-11T04:00:00+00:00\",\"2022-12-11T05:00:00+00:00\",\"2022-12-11T06:00:00+00:00\",\"2022-12-11T07:00:00+00:00\",\"2022-12-11T08:00:00+00:00\",\"2022-12-11T09:00:00+00:00\",\"2022-12-11T10:00:00+00:00\",\"2022-12-11T11:00:00+00:00\",\"2022-12-11T12:00:00+00:00\",\"2022-12-11T13:00:00+00:00\",\"2022-12-11T14:00:00+00:00\",\"2022-12-11T15:00:00+00:00\",\"2022-12-11T16:00:00+00:00\",\"2022-12-11T17:00:00+00:00\",\"2022-12-11T18:00:00+00:00\",\"2022-12-11T19:00:00+00:00\",\"2022-12-11T20:00:00+00:00\",\"2022-12-11T21:00:00+00:00\",\"2022-12-11T22:00:00+00:00\",\"2022-12-11T23:00:00+00:00\",\"2022-12-12T00:00:00+00:00\",\"2022-12-12T01:00:00+00:00\",\"2022-12-12T02:00:00+00:00\",\"2022-12-12T03:00:00+00:00\",\"2022-12-12T04:00:00+00:00\",\"2022-12-12T05:00:00+00:00\",\"2022-12-12T06:00:00+00:00\",\"2022-12-12T07:00:00+00:00\",\"2022-12-12T08:00:00+00:00\",\"2022-12-12T09:00:00+00:00\",\"2022-12-12T10:00:00+00:00\",\"2022-12-12T11:00:00+00:00\",\"2022-12-12T12:00:00+00:00\",\"2022-12-12T13:00:00+00:00\",\"2022-12-12T14:00:00+00:00\",\"2022-12-12T15:00:00+00:00\",\"2022-12-12T16:00:00+00:00\",\"2022-12-12T17:00:00+00:00\",\"2022-12-12T18:00:00+00:00\",\"2022-12-12T19:00:00+00:00\",\"2022-12-12T20:00:00+00:00\",\"2022-12-12T21:00:00+00:00\",\"2022-12-12T22:00:00+00:00\",\"2022-12-12T23:00:00+00:00\",\"2022-12-13T00:00:00+00:00\",\"2022-12-13T01:00:00+00:00\",\"2022-12-13T02:00:00+00:00\",\"2022-12-13T03:00:00+00:00\",\"2022-12-13T04:00:00+00:00\",\"2022-12-13T05:00:00+00:00\",\"2022-12-13T06:00:00+00:00\",\"2022-12-13T07:00:00+00:00\",\"2022-12-13T08:00:00+00:00\",\"2022-12-13T09:00:00+00:00\",\"2022-12-13T10:00:00+00:00\",\"2022-12-13T11:00:00+00:00\",\"2022-12-13T12:00:00+00:00\",\"2022-12-13T13:00:00+00:00\",\"2022-12-13T14:00:00+00:00\",\"2022-12-13T15:00:00+00:00\",\"2022-12-13T16:00:00+00:00\",\"2022-12-13T17:00:00+00:00\",\"2022-12-13T18:00:00+00:00\",\"2022-12-13T19:00:00+00:00\",\"2022-12-13T20:00:00+00:00\",\"2022-12-13T21:00:00+00:00\",\"2022-12-13T22:00:00+00:00\",\"2022-12-13T23:00:00+00:00\",\"2022-12-14T00:00:00+00:00\",\"2022-12-14T01:00:00+00:00\",\"2022-12-14T02:00:00+00:00\",\"2022-12-14T03:00:00+00:00\",\"2022-12-14T04:00:00+00:00\",\"2022-12-14T05:00:00+00:00\",\"2022-12-14T06:00:00+00:00\",\"2022-12-14T07:00:00+00:00\",\"2022-12-14T08:00:00+00:00\",\"2022-12-14T09:00:00+00:00\",\"2022-12-14T10:00:00+00:00\",\"2022-12-14T11:00:00+00:00\",\"2022-12-14T12:00:00+00:00\",\"2022-12-14T13:00:00+00:00\",\"2022-12-14T14:00:00+00:00\",\"2022-12-14T15:00:00+00:00\",\"2022-12-14T16:00:00+00:00\",\"2022-12-14T17:00:00+00:00\",\"2022-12-14T18:00:00+00:00\",\"2022-12-14T19:00:00+00:00\",\"2022-12-14T20:00:00+00:00\",\"2022-12-14T21:00:00+00:00\",\"2022-12-14T22:00:00+00:00\",\"2022-12-14T23:00:00+00:00\",\"2022-12-15T00:00:00+00:00\",\"2022-12-15T01:00:00+00:00\",\"2022-12-15T02:00:00+00:00\",\"2022-12-15T03:00:00+00:00\",\"2022-12-15T04:00:00+00:00\",\"2022-12-15T05:00:00+00:00\",\"2022-12-15T06:00:00+00:00\",\"2022-12-15T07:00:00+00:00\",\"2022-12-15T08:00:00+00:00\",\"2022-12-15T09:00:00+00:00\",\"2022-12-15T10:00:00+00:00\",\"2022-12-15T11:00:00+00:00\",\"2022-12-15T12:00:00+00:00\",\"2022-12-15T13:00:00+00:00\",\"2022-12-15T14:00:00+00:00\",\"2022-12-15T15:00:00+00:00\",\"2022-12-15T16:00:00+00:00\",\"2022-12-15T17:00:00+00:00\",\"2022-12-15T18:00:00+00:00\",\"2022-12-15T19:00:00+00:00\",\"2022-12-15T20:00:00+00:00\",\"2022-12-15T21:00:00+00:00\",\"2022-12-15T22:00:00+00:00\",\"2022-12-15T23:00:00+00:00\"],\"y\":[0,0,0,0,0,0,0,0,0,0,0,0,0,0,0,0,0,0,0,0,0,0,0,0,0,0,0,0,0,0,0,0,0,0,0,0,1,0,0,0,1,0,1,32,14,10,2,2,1,1,0,1,1,0,2,1,0,0,1,2,1,1,1,0,0,2,2,2,0,2,0,0,0,0,0,0,0,0,0,0,0,0,0,0,4,2,2,0,0,1,0,0,1,0,0,1,1,0,0,0,0,0,0,0,1,0,0,0,0,0,0,0,0,0,1,1,0,0,0,0,0,0,1,0,0,0,0,0,0,1,0,0,0,0,0,0,0,4,2,2,1,0,1,0,0,0,0,0,0,0,0,0,0,0,0,0,0,1,1,0,0,0,0,0,0,1,0,0,0,0,0,0,0,0,0,0,0,0,0,0,0,0,1,0,1,1,0,0,0,0,0,0,0,0,0,0,0,0,0,0,0,0,0,0,0,0,0,0,0,0,0,0,0,0,0,0,0,0,0,0,0,0,0,0,0,0,0,0,0,0,0,0,0,0,0,0,0,0,0,0,0,0,0,0,0,0,0,0,0,0,0,0,0,1,0,0,1,1,0,0,0,0,0,0,0,0,0,0,0,0,0,0,1,0,0,0,0,0,0,0,0,0,0,0,0,0,0,0,0,0,0,0,1,0,0,0,0,1,0,1,0,0,0,0,0,1,0,2,26,6,1,1,0,0,1,1,0,0,1,0,1,3,7,4,2,4,1,2,7,2,1,2,0,2,6,0,1,0,0,0,0,1,0,1,2,2,0,0,1,0,0,0,0,0,0,0,0,0,0,0,0,0,0,0,0,0,0,0,1,0,0,0,0,0,1,0,0,0,0,0,0,0,0,0,0,0,0,0,0,0,0,0,0,0,0,0,0,0,0,1,0,0,0,0,0,0,0,0,0,0,0,0,0,0,0,0,0,0,0,0,0,0,0,0,0,0,0,0,0,0,0],\"type\":\"scatter\"},{\"mode\":\"lines\",\"name\":\"BellinghamJude_offensive\",\"x\":[\"2022-11-28T01:00:00+00:00\",\"2022-11-28T02:00:00+00:00\",\"2022-11-28T03:00:00+00:00\",\"2022-11-28T04:00:00+00:00\",\"2022-11-28T05:00:00+00:00\",\"2022-11-28T06:00:00+00:00\",\"2022-11-28T07:00:00+00:00\",\"2022-11-28T08:00:00+00:00\",\"2022-11-28T09:00:00+00:00\",\"2022-11-28T10:00:00+00:00\",\"2022-11-28T11:00:00+00:00\",\"2022-11-28T12:00:00+00:00\",\"2022-11-28T13:00:00+00:00\",\"2022-11-28T14:00:00+00:00\",\"2022-11-28T15:00:00+00:00\",\"2022-11-28T16:00:00+00:00\",\"2022-11-28T17:00:00+00:00\",\"2022-11-28T18:00:00+00:00\",\"2022-11-28T19:00:00+00:00\",\"2022-11-28T20:00:00+00:00\",\"2022-11-28T21:00:00+00:00\",\"2022-11-28T22:00:00+00:00\",\"2022-11-28T23:00:00+00:00\",\"2022-11-29T00:00:00+00:00\",\"2022-11-29T01:00:00+00:00\",\"2022-11-29T02:00:00+00:00\",\"2022-11-29T03:00:00+00:00\",\"2022-11-29T04:00:00+00:00\",\"2022-11-29T05:00:00+00:00\",\"2022-11-29T06:00:00+00:00\",\"2022-11-29T07:00:00+00:00\",\"2022-11-29T08:00:00+00:00\",\"2022-11-29T09:00:00+00:00\",\"2022-11-29T10:00:00+00:00\",\"2022-11-29T11:00:00+00:00\",\"2022-11-29T12:00:00+00:00\",\"2022-11-29T13:00:00+00:00\",\"2022-11-29T14:00:00+00:00\",\"2022-11-29T15:00:00+00:00\",\"2022-11-29T16:00:00+00:00\",\"2022-11-29T17:00:00+00:00\",\"2022-11-29T18:00:00+00:00\",\"2022-11-29T19:00:00+00:00\",\"2022-11-29T20:00:00+00:00\",\"2022-11-29T21:00:00+00:00\",\"2022-11-29T22:00:00+00:00\",\"2022-11-29T23:00:00+00:00\",\"2022-11-30T00:00:00+00:00\",\"2022-11-30T01:00:00+00:00\",\"2022-11-30T02:00:00+00:00\",\"2022-11-30T03:00:00+00:00\",\"2022-11-30T04:00:00+00:00\",\"2022-11-30T05:00:00+00:00\",\"2022-11-30T06:00:00+00:00\",\"2022-11-30T07:00:00+00:00\",\"2022-11-30T08:00:00+00:00\",\"2022-11-30T09:00:00+00:00\",\"2022-11-30T10:00:00+00:00\",\"2022-11-30T11:00:00+00:00\",\"2022-11-30T12:00:00+00:00\",\"2022-11-30T13:00:00+00:00\",\"2022-11-30T14:00:00+00:00\",\"2022-11-30T15:00:00+00:00\",\"2022-11-30T16:00:00+00:00\",\"2022-11-30T17:00:00+00:00\",\"2022-11-30T18:00:00+00:00\",\"2022-11-30T19:00:00+00:00\",\"2022-11-30T20:00:00+00:00\",\"2022-11-30T21:00:00+00:00\",\"2022-11-30T22:00:00+00:00\",\"2022-11-30T23:00:00+00:00\",\"2022-12-01T00:00:00+00:00\",\"2022-12-01T01:00:00+00:00\",\"2022-12-01T02:00:00+00:00\",\"2022-12-01T03:00:00+00:00\",\"2022-12-01T04:00:00+00:00\",\"2022-12-01T05:00:00+00:00\",\"2022-12-01T06:00:00+00:00\",\"2022-12-01T07:00:00+00:00\",\"2022-12-01T08:00:00+00:00\",\"2022-12-01T09:00:00+00:00\",\"2022-12-01T10:00:00+00:00\",\"2022-12-01T11:00:00+00:00\",\"2022-12-01T12:00:00+00:00\",\"2022-12-01T13:00:00+00:00\",\"2022-12-01T14:00:00+00:00\",\"2022-12-01T15:00:00+00:00\",\"2022-12-01T16:00:00+00:00\",\"2022-12-01T17:00:00+00:00\",\"2022-12-01T18:00:00+00:00\",\"2022-12-01T19:00:00+00:00\",\"2022-12-01T20:00:00+00:00\",\"2022-12-01T21:00:00+00:00\",\"2022-12-01T22:00:00+00:00\",\"2022-12-01T23:00:00+00:00\",\"2022-12-02T00:00:00+00:00\",\"2022-12-02T01:00:00+00:00\",\"2022-12-02T02:00:00+00:00\",\"2022-12-02T03:00:00+00:00\",\"2022-12-02T04:00:00+00:00\",\"2022-12-02T05:00:00+00:00\",\"2022-12-02T06:00:00+00:00\",\"2022-12-02T07:00:00+00:00\",\"2022-12-02T08:00:00+00:00\",\"2022-12-02T09:00:00+00:00\",\"2022-12-02T10:00:00+00:00\",\"2022-12-02T11:00:00+00:00\",\"2022-12-02T12:00:00+00:00\",\"2022-12-02T13:00:00+00:00\",\"2022-12-02T14:00:00+00:00\",\"2022-12-02T15:00:00+00:00\",\"2022-12-02T16:00:00+00:00\",\"2022-12-02T17:00:00+00:00\",\"2022-12-02T18:00:00+00:00\",\"2022-12-02T19:00:00+00:00\",\"2022-12-02T20:00:00+00:00\",\"2022-12-02T21:00:00+00:00\",\"2022-12-02T22:00:00+00:00\",\"2022-12-02T23:00:00+00:00\",\"2022-12-03T00:00:00+00:00\",\"2022-12-03T01:00:00+00:00\",\"2022-12-03T02:00:00+00:00\",\"2022-12-03T03:00:00+00:00\",\"2022-12-03T04:00:00+00:00\",\"2022-12-03T05:00:00+00:00\",\"2022-12-03T06:00:00+00:00\",\"2022-12-03T07:00:00+00:00\",\"2022-12-03T08:00:00+00:00\",\"2022-12-03T09:00:00+00:00\",\"2022-12-03T10:00:00+00:00\",\"2022-12-03T11:00:00+00:00\",\"2022-12-03T12:00:00+00:00\",\"2022-12-03T13:00:00+00:00\",\"2022-12-03T14:00:00+00:00\",\"2022-12-03T15:00:00+00:00\",\"2022-12-03T16:00:00+00:00\",\"2022-12-03T17:00:00+00:00\",\"2022-12-03T18:00:00+00:00\",\"2022-12-03T19:00:00+00:00\",\"2022-12-03T20:00:00+00:00\",\"2022-12-03T21:00:00+00:00\",\"2022-12-03T22:00:00+00:00\",\"2022-12-03T23:00:00+00:00\",\"2022-12-04T00:00:00+00:00\",\"2022-12-04T01:00:00+00:00\",\"2022-12-04T02:00:00+00:00\",\"2022-12-04T03:00:00+00:00\",\"2022-12-04T04:00:00+00:00\",\"2022-12-04T05:00:00+00:00\",\"2022-12-04T06:00:00+00:00\",\"2022-12-04T07:00:00+00:00\",\"2022-12-04T08:00:00+00:00\",\"2022-12-04T09:00:00+00:00\",\"2022-12-04T10:00:00+00:00\",\"2022-12-04T11:00:00+00:00\",\"2022-12-04T12:00:00+00:00\",\"2022-12-04T13:00:00+00:00\",\"2022-12-04T14:00:00+00:00\",\"2022-12-04T15:00:00+00:00\",\"2022-12-04T16:00:00+00:00\",\"2022-12-04T17:00:00+00:00\",\"2022-12-04T18:00:00+00:00\",\"2022-12-04T19:00:00+00:00\",\"2022-12-04T20:00:00+00:00\",\"2022-12-04T21:00:00+00:00\",\"2022-12-04T22:00:00+00:00\",\"2022-12-04T23:00:00+00:00\",\"2022-12-05T00:00:00+00:00\",\"2022-12-05T01:00:00+00:00\",\"2022-12-05T02:00:00+00:00\",\"2022-12-05T03:00:00+00:00\",\"2022-12-05T04:00:00+00:00\",\"2022-12-05T05:00:00+00:00\",\"2022-12-05T06:00:00+00:00\",\"2022-12-05T07:00:00+00:00\",\"2022-12-05T08:00:00+00:00\",\"2022-12-05T09:00:00+00:00\",\"2022-12-05T10:00:00+00:00\",\"2022-12-05T11:00:00+00:00\",\"2022-12-05T12:00:00+00:00\",\"2022-12-05T13:00:00+00:00\",\"2022-12-05T14:00:00+00:00\",\"2022-12-05T15:00:00+00:00\",\"2022-12-05T16:00:00+00:00\",\"2022-12-05T17:00:00+00:00\",\"2022-12-05T18:00:00+00:00\",\"2022-12-05T19:00:00+00:00\",\"2022-12-05T20:00:00+00:00\",\"2022-12-05T21:00:00+00:00\",\"2022-12-05T22:00:00+00:00\",\"2022-12-05T23:00:00+00:00\",\"2022-12-06T00:00:00+00:00\",\"2022-12-06T01:00:00+00:00\",\"2022-12-06T02:00:00+00:00\",\"2022-12-06T03:00:00+00:00\",\"2022-12-06T04:00:00+00:00\",\"2022-12-06T05:00:00+00:00\",\"2022-12-06T06:00:00+00:00\",\"2022-12-06T07:00:00+00:00\",\"2022-12-06T08:00:00+00:00\",\"2022-12-06T09:00:00+00:00\",\"2022-12-06T10:00:00+00:00\",\"2022-12-06T11:00:00+00:00\",\"2022-12-06T12:00:00+00:00\",\"2022-12-06T13:00:00+00:00\",\"2022-12-06T14:00:00+00:00\",\"2022-12-06T15:00:00+00:00\",\"2022-12-06T16:00:00+00:00\",\"2022-12-06T17:00:00+00:00\",\"2022-12-06T18:00:00+00:00\",\"2022-12-06T19:00:00+00:00\",\"2022-12-06T20:00:00+00:00\",\"2022-12-06T21:00:00+00:00\",\"2022-12-06T22:00:00+00:00\",\"2022-12-06T23:00:00+00:00\",\"2022-12-07T00:00:00+00:00\",\"2022-12-07T01:00:00+00:00\",\"2022-12-07T02:00:00+00:00\",\"2022-12-07T03:00:00+00:00\",\"2022-12-07T04:00:00+00:00\",\"2022-12-07T05:00:00+00:00\",\"2022-12-07T06:00:00+00:00\",\"2022-12-07T07:00:00+00:00\",\"2022-12-07T08:00:00+00:00\",\"2022-12-07T09:00:00+00:00\",\"2022-12-07T10:00:00+00:00\",\"2022-12-07T11:00:00+00:00\",\"2022-12-07T12:00:00+00:00\",\"2022-12-07T13:00:00+00:00\",\"2022-12-07T14:00:00+00:00\",\"2022-12-07T15:00:00+00:00\",\"2022-12-07T16:00:00+00:00\",\"2022-12-07T17:00:00+00:00\",\"2022-12-07T18:00:00+00:00\",\"2022-12-07T19:00:00+00:00\",\"2022-12-07T20:00:00+00:00\",\"2022-12-07T21:00:00+00:00\",\"2022-12-07T22:00:00+00:00\",\"2022-12-07T23:00:00+00:00\",\"2022-12-08T00:00:00+00:00\",\"2022-12-08T01:00:00+00:00\",\"2022-12-08T02:00:00+00:00\",\"2022-12-08T03:00:00+00:00\",\"2022-12-08T04:00:00+00:00\",\"2022-12-08T05:00:00+00:00\",\"2022-12-08T06:00:00+00:00\",\"2022-12-08T07:00:00+00:00\",\"2022-12-08T08:00:00+00:00\",\"2022-12-08T09:00:00+00:00\",\"2022-12-08T10:00:00+00:00\",\"2022-12-08T11:00:00+00:00\",\"2022-12-08T12:00:00+00:00\",\"2022-12-08T13:00:00+00:00\",\"2022-12-08T14:00:00+00:00\",\"2022-12-08T15:00:00+00:00\",\"2022-12-08T16:00:00+00:00\",\"2022-12-08T17:00:00+00:00\",\"2022-12-08T18:00:00+00:00\",\"2022-12-08T19:00:00+00:00\",\"2022-12-08T20:00:00+00:00\",\"2022-12-08T21:00:00+00:00\",\"2022-12-08T22:00:00+00:00\",\"2022-12-08T23:00:00+00:00\",\"2022-12-09T00:00:00+00:00\",\"2022-12-09T01:00:00+00:00\",\"2022-12-09T02:00:00+00:00\",\"2022-12-09T03:00:00+00:00\",\"2022-12-09T04:00:00+00:00\",\"2022-12-09T05:00:00+00:00\",\"2022-12-09T06:00:00+00:00\",\"2022-12-09T07:00:00+00:00\",\"2022-12-09T08:00:00+00:00\",\"2022-12-09T09:00:00+00:00\",\"2022-12-09T10:00:00+00:00\",\"2022-12-09T11:00:00+00:00\",\"2022-12-09T12:00:00+00:00\",\"2022-12-09T13:00:00+00:00\",\"2022-12-09T14:00:00+00:00\",\"2022-12-09T15:00:00+00:00\",\"2022-12-09T16:00:00+00:00\",\"2022-12-09T17:00:00+00:00\",\"2022-12-09T18:00:00+00:00\",\"2022-12-09T19:00:00+00:00\",\"2022-12-09T20:00:00+00:00\",\"2022-12-09T21:00:00+00:00\",\"2022-12-09T22:00:00+00:00\",\"2022-12-09T23:00:00+00:00\",\"2022-12-10T00:00:00+00:00\",\"2022-12-10T01:00:00+00:00\",\"2022-12-10T02:00:00+00:00\",\"2022-12-10T03:00:00+00:00\",\"2022-12-10T04:00:00+00:00\",\"2022-12-10T05:00:00+00:00\",\"2022-12-10T06:00:00+00:00\",\"2022-12-10T07:00:00+00:00\",\"2022-12-10T08:00:00+00:00\",\"2022-12-10T09:00:00+00:00\",\"2022-12-10T10:00:00+00:00\",\"2022-12-10T11:00:00+00:00\",\"2022-12-10T12:00:00+00:00\",\"2022-12-10T13:00:00+00:00\",\"2022-12-10T14:00:00+00:00\",\"2022-12-10T15:00:00+00:00\",\"2022-12-10T16:00:00+00:00\",\"2022-12-10T17:00:00+00:00\",\"2022-12-10T18:00:00+00:00\",\"2022-12-10T19:00:00+00:00\",\"2022-12-10T20:00:00+00:00\",\"2022-12-10T21:00:00+00:00\",\"2022-12-10T22:00:00+00:00\",\"2022-12-10T23:00:00+00:00\",\"2022-12-11T00:00:00+00:00\",\"2022-12-11T01:00:00+00:00\",\"2022-12-11T02:00:00+00:00\",\"2022-12-11T03:00:00+00:00\",\"2022-12-11T04:00:00+00:00\",\"2022-12-11T05:00:00+00:00\",\"2022-12-11T06:00:00+00:00\",\"2022-12-11T07:00:00+00:00\",\"2022-12-11T08:00:00+00:00\",\"2022-12-11T09:00:00+00:00\",\"2022-12-11T10:00:00+00:00\",\"2022-12-11T11:00:00+00:00\",\"2022-12-11T12:00:00+00:00\",\"2022-12-11T13:00:00+00:00\",\"2022-12-11T14:00:00+00:00\",\"2022-12-11T15:00:00+00:00\",\"2022-12-11T16:00:00+00:00\",\"2022-12-11T17:00:00+00:00\",\"2022-12-11T18:00:00+00:00\",\"2022-12-11T19:00:00+00:00\",\"2022-12-11T20:00:00+00:00\",\"2022-12-11T21:00:00+00:00\",\"2022-12-11T22:00:00+00:00\",\"2022-12-11T23:00:00+00:00\",\"2022-12-12T00:00:00+00:00\",\"2022-12-12T01:00:00+00:00\",\"2022-12-12T02:00:00+00:00\",\"2022-12-12T03:00:00+00:00\",\"2022-12-12T04:00:00+00:00\",\"2022-12-12T05:00:00+00:00\",\"2022-12-12T06:00:00+00:00\",\"2022-12-12T07:00:00+00:00\",\"2022-12-12T08:00:00+00:00\",\"2022-12-12T09:00:00+00:00\",\"2022-12-12T10:00:00+00:00\",\"2022-12-12T11:00:00+00:00\",\"2022-12-12T12:00:00+00:00\",\"2022-12-12T13:00:00+00:00\",\"2022-12-12T14:00:00+00:00\",\"2022-12-12T15:00:00+00:00\",\"2022-12-12T16:00:00+00:00\",\"2022-12-12T17:00:00+00:00\",\"2022-12-12T18:00:00+00:00\",\"2022-12-12T19:00:00+00:00\",\"2022-12-12T20:00:00+00:00\",\"2022-12-12T21:00:00+00:00\",\"2022-12-12T22:00:00+00:00\",\"2022-12-12T23:00:00+00:00\",\"2022-12-13T00:00:00+00:00\",\"2022-12-13T01:00:00+00:00\",\"2022-12-13T02:00:00+00:00\",\"2022-12-13T03:00:00+00:00\",\"2022-12-13T04:00:00+00:00\",\"2022-12-13T05:00:00+00:00\",\"2022-12-13T06:00:00+00:00\",\"2022-12-13T07:00:00+00:00\",\"2022-12-13T08:00:00+00:00\",\"2022-12-13T09:00:00+00:00\",\"2022-12-13T10:00:00+00:00\",\"2022-12-13T11:00:00+00:00\",\"2022-12-13T12:00:00+00:00\",\"2022-12-13T13:00:00+00:00\",\"2022-12-13T14:00:00+00:00\",\"2022-12-13T15:00:00+00:00\",\"2022-12-13T16:00:00+00:00\",\"2022-12-13T17:00:00+00:00\",\"2022-12-13T18:00:00+00:00\",\"2022-12-13T19:00:00+00:00\",\"2022-12-13T20:00:00+00:00\",\"2022-12-13T21:00:00+00:00\",\"2022-12-13T22:00:00+00:00\",\"2022-12-13T23:00:00+00:00\",\"2022-12-14T00:00:00+00:00\",\"2022-12-14T01:00:00+00:00\",\"2022-12-14T02:00:00+00:00\",\"2022-12-14T03:00:00+00:00\",\"2022-12-14T04:00:00+00:00\",\"2022-12-14T05:00:00+00:00\",\"2022-12-14T06:00:00+00:00\",\"2022-12-14T07:00:00+00:00\",\"2022-12-14T08:00:00+00:00\",\"2022-12-14T09:00:00+00:00\",\"2022-12-14T10:00:00+00:00\",\"2022-12-14T11:00:00+00:00\",\"2022-12-14T12:00:00+00:00\",\"2022-12-14T13:00:00+00:00\",\"2022-12-14T14:00:00+00:00\",\"2022-12-14T15:00:00+00:00\",\"2022-12-14T16:00:00+00:00\",\"2022-12-14T17:00:00+00:00\",\"2022-12-14T18:00:00+00:00\",\"2022-12-14T19:00:00+00:00\",\"2022-12-14T20:00:00+00:00\",\"2022-12-14T21:00:00+00:00\",\"2022-12-14T22:00:00+00:00\",\"2022-12-14T23:00:00+00:00\",\"2022-12-15T00:00:00+00:00\",\"2022-12-15T01:00:00+00:00\",\"2022-12-15T02:00:00+00:00\",\"2022-12-15T03:00:00+00:00\",\"2022-12-15T04:00:00+00:00\",\"2022-12-15T05:00:00+00:00\",\"2022-12-15T06:00:00+00:00\",\"2022-12-15T07:00:00+00:00\",\"2022-12-15T08:00:00+00:00\",\"2022-12-15T09:00:00+00:00\",\"2022-12-15T10:00:00+00:00\",\"2022-12-15T11:00:00+00:00\",\"2022-12-15T12:00:00+00:00\",\"2022-12-15T13:00:00+00:00\",\"2022-12-15T14:00:00+00:00\",\"2022-12-15T15:00:00+00:00\",\"2022-12-15T16:00:00+00:00\",\"2022-12-15T17:00:00+00:00\",\"2022-12-15T18:00:00+00:00\",\"2022-12-15T19:00:00+00:00\",\"2022-12-15T20:00:00+00:00\",\"2022-12-15T21:00:00+00:00\",\"2022-12-15T22:00:00+00:00\",\"2022-12-15T23:00:00+00:00\"],\"y\":[0,0,0,0,0,0,0,0,0,0,0,0,0,1,0,0,0,0,0,0,0,0,0,0,0,0,0,0,0,0,0,0,0,0,0,0,0,0,0,0,0,0,0,1,1,0,0,0,0,0,1,0,0,1,1,0,0,0,0,0,0,0,0,0,0,0,4,0,0,0,1,0,0,2,0,0,1,0,0,0,0,0,0,0,0,2,0,0,0,0,0,0,0,0,0,0,0,0,0,0,0,0,0,0,0,0,0,0,0,0,0,0,0,0,0,0,0,0,0,0,0,0,0,0,0,0,0,0,0,0,0,0,0,0,0,0,0,1,0,0,0,0,0,0,0,0,0,0,0,0,0,0,0,0,0,0,0,0,0,0,0,0,3,7,5,11,9,12,0,1,2,1,1,0,3,0,3,0,3,4,5,3,1,3,2,0,0,3,0,0,0,0,0,0,0,0,0,0,1,0,0,0,0,1,0,0,0,0,0,0,0,0,0,0,0,0,0,0,0,0,0,0,0,0,0,0,0,0,0,0,0,0,0,0,0,0,0,0,0,0,0,0,0,0,0,0,0,0,2,1,0,0,0,0,0,0,0,0,0,0,0,0,0,1,0,0,0,0,0,0,0,0,0,0,0,1,0,0,0,0,0,0,0,0,0,1,0,0,0,0,0,0,0,0,0,0,0,0,0,0,0,0,0,0,0,2,1,9,9,1,1,1,0,0,0,0,0,0,0,0,0,0,1,0,0,0,0,0,0,0,0,0,7,6,5,2,0,0,0,0,2,0,1,1,1,0,0,2,1,0,2,0,1,0,0,0,0,0,0,0,1,0,0,0,0,0,0,1,0,0,0,0,0,0,0,0,0,0,0,0,0,0,0,0,0,0,0,0,0,0,0,0,0,0,0,0,0,0,0,0,0,0,0,0,0,0,0,0,0,0,0,0,0,0,0,0,0,0,0,0,0,0,0,0,0,0,0,0,0,0,0],\"type\":\"scatter\"},{\"mode\":\"lines\",\"name\":\"HKane_offensive\",\"x\":[\"2022-11-28T01:00:00+00:00\",\"2022-11-28T02:00:00+00:00\",\"2022-11-28T03:00:00+00:00\",\"2022-11-28T04:00:00+00:00\",\"2022-11-28T05:00:00+00:00\",\"2022-11-28T06:00:00+00:00\",\"2022-11-28T07:00:00+00:00\",\"2022-11-28T08:00:00+00:00\",\"2022-11-28T09:00:00+00:00\",\"2022-11-28T10:00:00+00:00\",\"2022-11-28T11:00:00+00:00\",\"2022-11-28T12:00:00+00:00\",\"2022-11-28T13:00:00+00:00\",\"2022-11-28T14:00:00+00:00\",\"2022-11-28T15:00:00+00:00\",\"2022-11-28T16:00:00+00:00\",\"2022-11-28T17:00:00+00:00\",\"2022-11-28T18:00:00+00:00\",\"2022-11-28T19:00:00+00:00\",\"2022-11-28T20:00:00+00:00\",\"2022-11-28T21:00:00+00:00\",\"2022-11-28T22:00:00+00:00\",\"2022-11-28T23:00:00+00:00\",\"2022-11-29T00:00:00+00:00\",\"2022-11-29T01:00:00+00:00\",\"2022-11-29T02:00:00+00:00\",\"2022-11-29T03:00:00+00:00\",\"2022-11-29T04:00:00+00:00\",\"2022-11-29T05:00:00+00:00\",\"2022-11-29T06:00:00+00:00\",\"2022-11-29T07:00:00+00:00\",\"2022-11-29T08:00:00+00:00\",\"2022-11-29T09:00:00+00:00\",\"2022-11-29T10:00:00+00:00\",\"2022-11-29T11:00:00+00:00\",\"2022-11-29T12:00:00+00:00\",\"2022-11-29T13:00:00+00:00\",\"2022-11-29T14:00:00+00:00\",\"2022-11-29T15:00:00+00:00\",\"2022-11-29T16:00:00+00:00\",\"2022-11-29T17:00:00+00:00\",\"2022-11-29T18:00:00+00:00\",\"2022-11-29T19:00:00+00:00\",\"2022-11-29T20:00:00+00:00\",\"2022-11-29T21:00:00+00:00\",\"2022-11-29T22:00:00+00:00\",\"2022-11-29T23:00:00+00:00\",\"2022-11-30T00:00:00+00:00\",\"2022-11-30T01:00:00+00:00\",\"2022-11-30T02:00:00+00:00\",\"2022-11-30T03:00:00+00:00\",\"2022-11-30T04:00:00+00:00\",\"2022-11-30T05:00:00+00:00\",\"2022-11-30T06:00:00+00:00\",\"2022-11-30T07:00:00+00:00\",\"2022-11-30T08:00:00+00:00\",\"2022-11-30T09:00:00+00:00\",\"2022-11-30T10:00:00+00:00\",\"2022-11-30T11:00:00+00:00\",\"2022-11-30T12:00:00+00:00\",\"2022-11-30T13:00:00+00:00\",\"2022-11-30T14:00:00+00:00\",\"2022-11-30T15:00:00+00:00\",\"2022-11-30T16:00:00+00:00\",\"2022-11-30T17:00:00+00:00\",\"2022-11-30T18:00:00+00:00\",\"2022-11-30T19:00:00+00:00\",\"2022-11-30T20:00:00+00:00\",\"2022-11-30T21:00:00+00:00\",\"2022-11-30T22:00:00+00:00\",\"2022-11-30T23:00:00+00:00\",\"2022-12-01T00:00:00+00:00\",\"2022-12-01T01:00:00+00:00\",\"2022-12-01T02:00:00+00:00\",\"2022-12-01T03:00:00+00:00\",\"2022-12-01T04:00:00+00:00\",\"2022-12-01T05:00:00+00:00\",\"2022-12-01T06:00:00+00:00\",\"2022-12-01T07:00:00+00:00\",\"2022-12-01T08:00:00+00:00\",\"2022-12-01T09:00:00+00:00\",\"2022-12-01T10:00:00+00:00\",\"2022-12-01T11:00:00+00:00\",\"2022-12-01T12:00:00+00:00\",\"2022-12-01T13:00:00+00:00\",\"2022-12-01T14:00:00+00:00\",\"2022-12-01T15:00:00+00:00\",\"2022-12-01T16:00:00+00:00\",\"2022-12-01T17:00:00+00:00\",\"2022-12-01T18:00:00+00:00\",\"2022-12-01T19:00:00+00:00\",\"2022-12-01T20:00:00+00:00\",\"2022-12-01T21:00:00+00:00\",\"2022-12-01T22:00:00+00:00\",\"2022-12-01T23:00:00+00:00\",\"2022-12-02T00:00:00+00:00\",\"2022-12-02T01:00:00+00:00\",\"2022-12-02T02:00:00+00:00\",\"2022-12-02T03:00:00+00:00\",\"2022-12-02T04:00:00+00:00\",\"2022-12-02T05:00:00+00:00\",\"2022-12-02T06:00:00+00:00\",\"2022-12-02T07:00:00+00:00\",\"2022-12-02T08:00:00+00:00\",\"2022-12-02T09:00:00+00:00\",\"2022-12-02T10:00:00+00:00\",\"2022-12-02T11:00:00+00:00\",\"2022-12-02T12:00:00+00:00\",\"2022-12-02T13:00:00+00:00\",\"2022-12-02T14:00:00+00:00\",\"2022-12-02T15:00:00+00:00\",\"2022-12-02T16:00:00+00:00\",\"2022-12-02T17:00:00+00:00\",\"2022-12-02T18:00:00+00:00\",\"2022-12-02T19:00:00+00:00\",\"2022-12-02T20:00:00+00:00\",\"2022-12-02T21:00:00+00:00\",\"2022-12-02T22:00:00+00:00\",\"2022-12-02T23:00:00+00:00\",\"2022-12-03T00:00:00+00:00\",\"2022-12-03T01:00:00+00:00\",\"2022-12-03T02:00:00+00:00\",\"2022-12-03T03:00:00+00:00\",\"2022-12-03T04:00:00+00:00\",\"2022-12-03T05:00:00+00:00\",\"2022-12-03T06:00:00+00:00\",\"2022-12-03T07:00:00+00:00\",\"2022-12-03T08:00:00+00:00\",\"2022-12-03T09:00:00+00:00\",\"2022-12-03T10:00:00+00:00\",\"2022-12-03T11:00:00+00:00\",\"2022-12-03T12:00:00+00:00\",\"2022-12-03T13:00:00+00:00\",\"2022-12-03T14:00:00+00:00\",\"2022-12-03T15:00:00+00:00\",\"2022-12-03T16:00:00+00:00\",\"2022-12-03T17:00:00+00:00\",\"2022-12-03T18:00:00+00:00\",\"2022-12-03T19:00:00+00:00\",\"2022-12-03T20:00:00+00:00\",\"2022-12-03T21:00:00+00:00\",\"2022-12-03T22:00:00+00:00\",\"2022-12-03T23:00:00+00:00\",\"2022-12-04T00:00:00+00:00\",\"2022-12-04T01:00:00+00:00\",\"2022-12-04T02:00:00+00:00\",\"2022-12-04T03:00:00+00:00\",\"2022-12-04T04:00:00+00:00\",\"2022-12-04T05:00:00+00:00\",\"2022-12-04T06:00:00+00:00\",\"2022-12-04T07:00:00+00:00\",\"2022-12-04T08:00:00+00:00\",\"2022-12-04T09:00:00+00:00\",\"2022-12-04T10:00:00+00:00\",\"2022-12-04T11:00:00+00:00\",\"2022-12-04T12:00:00+00:00\",\"2022-12-04T13:00:00+00:00\",\"2022-12-04T14:00:00+00:00\",\"2022-12-04T15:00:00+00:00\",\"2022-12-04T16:00:00+00:00\",\"2022-12-04T17:00:00+00:00\",\"2022-12-04T18:00:00+00:00\",\"2022-12-04T19:00:00+00:00\",\"2022-12-04T20:00:00+00:00\",\"2022-12-04T21:00:00+00:00\",\"2022-12-04T22:00:00+00:00\",\"2022-12-04T23:00:00+00:00\",\"2022-12-05T00:00:00+00:00\",\"2022-12-05T01:00:00+00:00\",\"2022-12-05T02:00:00+00:00\",\"2022-12-05T03:00:00+00:00\",\"2022-12-05T04:00:00+00:00\",\"2022-12-05T05:00:00+00:00\",\"2022-12-05T06:00:00+00:00\",\"2022-12-05T07:00:00+00:00\",\"2022-12-05T08:00:00+00:00\",\"2022-12-05T09:00:00+00:00\",\"2022-12-05T10:00:00+00:00\",\"2022-12-05T11:00:00+00:00\",\"2022-12-05T12:00:00+00:00\",\"2022-12-05T13:00:00+00:00\",\"2022-12-05T14:00:00+00:00\",\"2022-12-05T15:00:00+00:00\",\"2022-12-05T16:00:00+00:00\",\"2022-12-05T17:00:00+00:00\",\"2022-12-05T18:00:00+00:00\",\"2022-12-05T19:00:00+00:00\",\"2022-12-05T20:00:00+00:00\",\"2022-12-05T21:00:00+00:00\",\"2022-12-05T22:00:00+00:00\",\"2022-12-05T23:00:00+00:00\",\"2022-12-06T00:00:00+00:00\",\"2022-12-06T01:00:00+00:00\",\"2022-12-06T02:00:00+00:00\",\"2022-12-06T03:00:00+00:00\",\"2022-12-06T04:00:00+00:00\",\"2022-12-06T05:00:00+00:00\",\"2022-12-06T06:00:00+00:00\",\"2022-12-06T07:00:00+00:00\",\"2022-12-06T08:00:00+00:00\",\"2022-12-06T09:00:00+00:00\",\"2022-12-06T10:00:00+00:00\",\"2022-12-06T11:00:00+00:00\",\"2022-12-06T12:00:00+00:00\",\"2022-12-06T13:00:00+00:00\",\"2022-12-06T14:00:00+00:00\",\"2022-12-06T15:00:00+00:00\",\"2022-12-06T16:00:00+00:00\",\"2022-12-06T17:00:00+00:00\",\"2022-12-06T18:00:00+00:00\",\"2022-12-06T19:00:00+00:00\",\"2022-12-06T20:00:00+00:00\",\"2022-12-06T21:00:00+00:00\",\"2022-12-06T22:00:00+00:00\",\"2022-12-06T23:00:00+00:00\",\"2022-12-07T00:00:00+00:00\",\"2022-12-07T01:00:00+00:00\",\"2022-12-07T02:00:00+00:00\",\"2022-12-07T03:00:00+00:00\",\"2022-12-07T04:00:00+00:00\",\"2022-12-07T05:00:00+00:00\",\"2022-12-07T06:00:00+00:00\",\"2022-12-07T07:00:00+00:00\",\"2022-12-07T08:00:00+00:00\",\"2022-12-07T09:00:00+00:00\",\"2022-12-07T10:00:00+00:00\",\"2022-12-07T11:00:00+00:00\",\"2022-12-07T12:00:00+00:00\",\"2022-12-07T13:00:00+00:00\",\"2022-12-07T14:00:00+00:00\",\"2022-12-07T15:00:00+00:00\",\"2022-12-07T16:00:00+00:00\",\"2022-12-07T17:00:00+00:00\",\"2022-12-07T18:00:00+00:00\",\"2022-12-07T19:00:00+00:00\",\"2022-12-07T20:00:00+00:00\",\"2022-12-07T21:00:00+00:00\",\"2022-12-07T22:00:00+00:00\",\"2022-12-07T23:00:00+00:00\",\"2022-12-08T00:00:00+00:00\",\"2022-12-08T01:00:00+00:00\",\"2022-12-08T02:00:00+00:00\",\"2022-12-08T03:00:00+00:00\",\"2022-12-08T04:00:00+00:00\",\"2022-12-08T05:00:00+00:00\",\"2022-12-08T06:00:00+00:00\",\"2022-12-08T07:00:00+00:00\",\"2022-12-08T08:00:00+00:00\",\"2022-12-08T09:00:00+00:00\",\"2022-12-08T10:00:00+00:00\",\"2022-12-08T11:00:00+00:00\",\"2022-12-08T12:00:00+00:00\",\"2022-12-08T13:00:00+00:00\",\"2022-12-08T14:00:00+00:00\",\"2022-12-08T15:00:00+00:00\",\"2022-12-08T16:00:00+00:00\",\"2022-12-08T17:00:00+00:00\",\"2022-12-08T18:00:00+00:00\",\"2022-12-08T19:00:00+00:00\",\"2022-12-08T20:00:00+00:00\",\"2022-12-08T21:00:00+00:00\",\"2022-12-08T22:00:00+00:00\",\"2022-12-08T23:00:00+00:00\",\"2022-12-09T00:00:00+00:00\",\"2022-12-09T01:00:00+00:00\",\"2022-12-09T02:00:00+00:00\",\"2022-12-09T03:00:00+00:00\",\"2022-12-09T04:00:00+00:00\",\"2022-12-09T05:00:00+00:00\",\"2022-12-09T06:00:00+00:00\",\"2022-12-09T07:00:00+00:00\",\"2022-12-09T08:00:00+00:00\",\"2022-12-09T09:00:00+00:00\",\"2022-12-09T10:00:00+00:00\",\"2022-12-09T11:00:00+00:00\",\"2022-12-09T12:00:00+00:00\",\"2022-12-09T13:00:00+00:00\",\"2022-12-09T14:00:00+00:00\",\"2022-12-09T15:00:00+00:00\",\"2022-12-09T16:00:00+00:00\",\"2022-12-09T17:00:00+00:00\",\"2022-12-09T18:00:00+00:00\",\"2022-12-09T19:00:00+00:00\",\"2022-12-09T20:00:00+00:00\",\"2022-12-09T21:00:00+00:00\",\"2022-12-09T22:00:00+00:00\",\"2022-12-09T23:00:00+00:00\",\"2022-12-10T00:00:00+00:00\",\"2022-12-10T01:00:00+00:00\",\"2022-12-10T02:00:00+00:00\",\"2022-12-10T03:00:00+00:00\",\"2022-12-10T04:00:00+00:00\",\"2022-12-10T05:00:00+00:00\",\"2022-12-10T06:00:00+00:00\",\"2022-12-10T07:00:00+00:00\",\"2022-12-10T08:00:00+00:00\",\"2022-12-10T09:00:00+00:00\",\"2022-12-10T10:00:00+00:00\",\"2022-12-10T11:00:00+00:00\",\"2022-12-10T12:00:00+00:00\",\"2022-12-10T13:00:00+00:00\",\"2022-12-10T14:00:00+00:00\",\"2022-12-10T15:00:00+00:00\",\"2022-12-10T16:00:00+00:00\",\"2022-12-10T17:00:00+00:00\",\"2022-12-10T18:00:00+00:00\",\"2022-12-10T19:00:00+00:00\",\"2022-12-10T20:00:00+00:00\",\"2022-12-10T21:00:00+00:00\",\"2022-12-10T22:00:00+00:00\",\"2022-12-10T23:00:00+00:00\",\"2022-12-11T00:00:00+00:00\",\"2022-12-11T01:00:00+00:00\",\"2022-12-11T02:00:00+00:00\",\"2022-12-11T03:00:00+00:00\",\"2022-12-11T04:00:00+00:00\",\"2022-12-11T05:00:00+00:00\",\"2022-12-11T06:00:00+00:00\",\"2022-12-11T07:00:00+00:00\",\"2022-12-11T08:00:00+00:00\",\"2022-12-11T09:00:00+00:00\",\"2022-12-11T10:00:00+00:00\",\"2022-12-11T11:00:00+00:00\",\"2022-12-11T12:00:00+00:00\",\"2022-12-11T13:00:00+00:00\",\"2022-12-11T14:00:00+00:00\",\"2022-12-11T15:00:00+00:00\",\"2022-12-11T16:00:00+00:00\",\"2022-12-11T17:00:00+00:00\",\"2022-12-11T18:00:00+00:00\",\"2022-12-11T19:00:00+00:00\",\"2022-12-11T20:00:00+00:00\",\"2022-12-11T21:00:00+00:00\",\"2022-12-11T22:00:00+00:00\",\"2022-12-11T23:00:00+00:00\",\"2022-12-12T00:00:00+00:00\",\"2022-12-12T01:00:00+00:00\",\"2022-12-12T02:00:00+00:00\",\"2022-12-12T03:00:00+00:00\",\"2022-12-12T04:00:00+00:00\",\"2022-12-12T05:00:00+00:00\",\"2022-12-12T06:00:00+00:00\",\"2022-12-12T07:00:00+00:00\",\"2022-12-12T08:00:00+00:00\",\"2022-12-12T09:00:00+00:00\",\"2022-12-12T10:00:00+00:00\",\"2022-12-12T11:00:00+00:00\",\"2022-12-12T12:00:00+00:00\",\"2022-12-12T13:00:00+00:00\",\"2022-12-12T14:00:00+00:00\",\"2022-12-12T15:00:00+00:00\",\"2022-12-12T16:00:00+00:00\",\"2022-12-12T17:00:00+00:00\",\"2022-12-12T18:00:00+00:00\",\"2022-12-12T19:00:00+00:00\",\"2022-12-12T20:00:00+00:00\",\"2022-12-12T21:00:00+00:00\",\"2022-12-12T22:00:00+00:00\",\"2022-12-12T23:00:00+00:00\",\"2022-12-13T00:00:00+00:00\",\"2022-12-13T01:00:00+00:00\",\"2022-12-13T02:00:00+00:00\",\"2022-12-13T03:00:00+00:00\",\"2022-12-13T04:00:00+00:00\",\"2022-12-13T05:00:00+00:00\",\"2022-12-13T06:00:00+00:00\",\"2022-12-13T07:00:00+00:00\",\"2022-12-13T08:00:00+00:00\",\"2022-12-13T09:00:00+00:00\",\"2022-12-13T10:00:00+00:00\",\"2022-12-13T11:00:00+00:00\",\"2022-12-13T12:00:00+00:00\",\"2022-12-13T13:00:00+00:00\",\"2022-12-13T14:00:00+00:00\",\"2022-12-13T15:00:00+00:00\",\"2022-12-13T16:00:00+00:00\",\"2022-12-13T17:00:00+00:00\",\"2022-12-13T18:00:00+00:00\",\"2022-12-13T19:00:00+00:00\",\"2022-12-13T20:00:00+00:00\",\"2022-12-13T21:00:00+00:00\",\"2022-12-13T22:00:00+00:00\",\"2022-12-13T23:00:00+00:00\",\"2022-12-14T00:00:00+00:00\",\"2022-12-14T01:00:00+00:00\",\"2022-12-14T02:00:00+00:00\",\"2022-12-14T03:00:00+00:00\",\"2022-12-14T04:00:00+00:00\",\"2022-12-14T05:00:00+00:00\",\"2022-12-14T06:00:00+00:00\",\"2022-12-14T07:00:00+00:00\",\"2022-12-14T08:00:00+00:00\",\"2022-12-14T09:00:00+00:00\",\"2022-12-14T10:00:00+00:00\",\"2022-12-14T11:00:00+00:00\",\"2022-12-14T12:00:00+00:00\",\"2022-12-14T13:00:00+00:00\",\"2022-12-14T14:00:00+00:00\",\"2022-12-14T15:00:00+00:00\",\"2022-12-14T16:00:00+00:00\",\"2022-12-14T17:00:00+00:00\",\"2022-12-14T18:00:00+00:00\",\"2022-12-14T19:00:00+00:00\",\"2022-12-14T20:00:00+00:00\",\"2022-12-14T21:00:00+00:00\",\"2022-12-14T22:00:00+00:00\",\"2022-12-14T23:00:00+00:00\",\"2022-12-15T00:00:00+00:00\",\"2022-12-15T01:00:00+00:00\",\"2022-12-15T02:00:00+00:00\",\"2022-12-15T03:00:00+00:00\",\"2022-12-15T04:00:00+00:00\",\"2022-12-15T05:00:00+00:00\",\"2022-12-15T06:00:00+00:00\",\"2022-12-15T07:00:00+00:00\",\"2022-12-15T08:00:00+00:00\",\"2022-12-15T09:00:00+00:00\",\"2022-12-15T10:00:00+00:00\",\"2022-12-15T11:00:00+00:00\",\"2022-12-15T12:00:00+00:00\",\"2022-12-15T13:00:00+00:00\",\"2022-12-15T14:00:00+00:00\",\"2022-12-15T15:00:00+00:00\",\"2022-12-15T16:00:00+00:00\",\"2022-12-15T17:00:00+00:00\",\"2022-12-15T18:00:00+00:00\",\"2022-12-15T19:00:00+00:00\",\"2022-12-15T20:00:00+00:00\",\"2022-12-15T21:00:00+00:00\",\"2022-12-15T22:00:00+00:00\",\"2022-12-15T23:00:00+00:00\"],\"y\":[0,0,0,0,0,0,0,0,0,0,0,0,0,0,1,0,0,0,0,1,0,0,0,0,0,0,0,0,0,1,0,0,0,0,1,0,0,0,0,0,1,1,0,2,1,2,0,2,0,0,1,0,0,0,0,1,0,0,0,0,0,0,1,0,0,0,0,0,0,0,0,0,0,0,0,0,1,0,0,0,0,0,0,0,0,0,0,0,0,0,0,0,0,0,0,1,0,0,0,0,0,0,0,0,0,0,0,0,0,0,0,0,0,0,0,0,0,0,0,0,0,0,0,0,0,0,0,0,0,0,0,1,0,0,0,1,0,2,0,1,0,0,0,0,0,0,0,0,0,0,0,0,0,0,0,0,0,0,0,0,0,0,2,4,2,3,0,0,0,1,0,1,0,0,1,1,1,0,0,1,0,0,0,0,0,0,1,0,0,0,1,1,1,0,1,0,0,0,0,0,0,1,0,0,0,1,0,0,0,0,0,0,0,0,0,0,0,0,0,0,0,0,0,0,1,0,0,0,0,0,0,0,0,0,0,0,0,0,0,0,0,0,0,1,0,0,0,1,2,0,0,0,0,0,0,0,0,0,0,0,0,0,0,0,0,0,0,0,0,0,0,0,0,0,0,1,0,0,0,0,0,0,0,0,0,1,0,1,0,0,0,0,0,0,0,1,0,1,0,0,0,0,0,0,0,0,6,73,235,42,46,18,14,4,6,3,4,6,11,7,15,64,59,37,33,23,23,16,14,10,11,10,18,5,4,4,3,3,8,1,5,3,1,3,4,1,4,3,3,0,1,3,1,2,0,0,1,0,0,1,2,0,2,0,0,1,0,1,0,1,0,0,0,0,0,0,2,0,1,0,0,0,0,1,0,0,0,0,0,1,1,0,0,0,0,0,0,0,0,2,0,0,1,0,0,0,0,1,0,0,0,0,0,0,0,0,0,0,0,1,0,0,0,0,0,0,0,0,0,0,0],\"type\":\"scatter\"}],                        {\"template\":{\"data\":{\"histogram2dcontour\":[{\"type\":\"histogram2dcontour\",\"colorbar\":{\"outlinewidth\":0,\"ticks\":\"\"},\"colorscale\":[[0.0,\"#0d0887\"],[0.1111111111111111,\"#46039f\"],[0.2222222222222222,\"#7201a8\"],[0.3333333333333333,\"#9c179e\"],[0.4444444444444444,\"#bd3786\"],[0.5555555555555556,\"#d8576b\"],[0.6666666666666666,\"#ed7953\"],[0.7777777777777778,\"#fb9f3a\"],[0.8888888888888888,\"#fdca26\"],[1.0,\"#f0f921\"]]}],\"choropleth\":[{\"type\":\"choropleth\",\"colorbar\":{\"outlinewidth\":0,\"ticks\":\"\"}}],\"histogram2d\":[{\"type\":\"histogram2d\",\"colorbar\":{\"outlinewidth\":0,\"ticks\":\"\"},\"colorscale\":[[0.0,\"#0d0887\"],[0.1111111111111111,\"#46039f\"],[0.2222222222222222,\"#7201a8\"],[0.3333333333333333,\"#9c179e\"],[0.4444444444444444,\"#bd3786\"],[0.5555555555555556,\"#d8576b\"],[0.6666666666666666,\"#ed7953\"],[0.7777777777777778,\"#fb9f3a\"],[0.8888888888888888,\"#fdca26\"],[1.0,\"#f0f921\"]]}],\"heatmap\":[{\"type\":\"heatmap\",\"colorbar\":{\"outlinewidth\":0,\"ticks\":\"\"},\"colorscale\":[[0.0,\"#0d0887\"],[0.1111111111111111,\"#46039f\"],[0.2222222222222222,\"#7201a8\"],[0.3333333333333333,\"#9c179e\"],[0.4444444444444444,\"#bd3786\"],[0.5555555555555556,\"#d8576b\"],[0.6666666666666666,\"#ed7953\"],[0.7777777777777778,\"#fb9f3a\"],[0.8888888888888888,\"#fdca26\"],[1.0,\"#f0f921\"]]}],\"heatmapgl\":[{\"type\":\"heatmapgl\",\"colorbar\":{\"outlinewidth\":0,\"ticks\":\"\"},\"colorscale\":[[0.0,\"#0d0887\"],[0.1111111111111111,\"#46039f\"],[0.2222222222222222,\"#7201a8\"],[0.3333333333333333,\"#9c179e\"],[0.4444444444444444,\"#bd3786\"],[0.5555555555555556,\"#d8576b\"],[0.6666666666666666,\"#ed7953\"],[0.7777777777777778,\"#fb9f3a\"],[0.8888888888888888,\"#fdca26\"],[1.0,\"#f0f921\"]]}],\"contourcarpet\":[{\"type\":\"contourcarpet\",\"colorbar\":{\"outlinewidth\":0,\"ticks\":\"\"}}],\"contour\":[{\"type\":\"contour\",\"colorbar\":{\"outlinewidth\":0,\"ticks\":\"\"},\"colorscale\":[[0.0,\"#0d0887\"],[0.1111111111111111,\"#46039f\"],[0.2222222222222222,\"#7201a8\"],[0.3333333333333333,\"#9c179e\"],[0.4444444444444444,\"#bd3786\"],[0.5555555555555556,\"#d8576b\"],[0.6666666666666666,\"#ed7953\"],[0.7777777777777778,\"#fb9f3a\"],[0.8888888888888888,\"#fdca26\"],[1.0,\"#f0f921\"]]}],\"surface\":[{\"type\":\"surface\",\"colorbar\":{\"outlinewidth\":0,\"ticks\":\"\"},\"colorscale\":[[0.0,\"#0d0887\"],[0.1111111111111111,\"#46039f\"],[0.2222222222222222,\"#7201a8\"],[0.3333333333333333,\"#9c179e\"],[0.4444444444444444,\"#bd3786\"],[0.5555555555555556,\"#d8576b\"],[0.6666666666666666,\"#ed7953\"],[0.7777777777777778,\"#fb9f3a\"],[0.8888888888888888,\"#fdca26\"],[1.0,\"#f0f921\"]]}],\"mesh3d\":[{\"type\":\"mesh3d\",\"colorbar\":{\"outlinewidth\":0,\"ticks\":\"\"}}],\"scatter\":[{\"fillpattern\":{\"fillmode\":\"overlay\",\"size\":10,\"solidity\":0.2},\"type\":\"scatter\"}],\"parcoords\":[{\"type\":\"parcoords\",\"line\":{\"colorbar\":{\"outlinewidth\":0,\"ticks\":\"\"}}}],\"scatterpolargl\":[{\"type\":\"scatterpolargl\",\"marker\":{\"colorbar\":{\"outlinewidth\":0,\"ticks\":\"\"}}}],\"bar\":[{\"error_x\":{\"color\":\"#2a3f5f\"},\"error_y\":{\"color\":\"#2a3f5f\"},\"marker\":{\"line\":{\"color\":\"#E5ECF6\",\"width\":0.5},\"pattern\":{\"fillmode\":\"overlay\",\"size\":10,\"solidity\":0.2}},\"type\":\"bar\"}],\"scattergeo\":[{\"type\":\"scattergeo\",\"marker\":{\"colorbar\":{\"outlinewidth\":0,\"ticks\":\"\"}}}],\"scatterpolar\":[{\"type\":\"scatterpolar\",\"marker\":{\"colorbar\":{\"outlinewidth\":0,\"ticks\":\"\"}}}],\"histogram\":[{\"marker\":{\"pattern\":{\"fillmode\":\"overlay\",\"size\":10,\"solidity\":0.2}},\"type\":\"histogram\"}],\"scattergl\":[{\"type\":\"scattergl\",\"marker\":{\"colorbar\":{\"outlinewidth\":0,\"ticks\":\"\"}}}],\"scatter3d\":[{\"type\":\"scatter3d\",\"line\":{\"colorbar\":{\"outlinewidth\":0,\"ticks\":\"\"}},\"marker\":{\"colorbar\":{\"outlinewidth\":0,\"ticks\":\"\"}}}],\"scattermapbox\":[{\"type\":\"scattermapbox\",\"marker\":{\"colorbar\":{\"outlinewidth\":0,\"ticks\":\"\"}}}],\"scatterternary\":[{\"type\":\"scatterternary\",\"marker\":{\"colorbar\":{\"outlinewidth\":0,\"ticks\":\"\"}}}],\"scattercarpet\":[{\"type\":\"scattercarpet\",\"marker\":{\"colorbar\":{\"outlinewidth\":0,\"ticks\":\"\"}}}],\"carpet\":[{\"aaxis\":{\"endlinecolor\":\"#2a3f5f\",\"gridcolor\":\"white\",\"linecolor\":\"white\",\"minorgridcolor\":\"white\",\"startlinecolor\":\"#2a3f5f\"},\"baxis\":{\"endlinecolor\":\"#2a3f5f\",\"gridcolor\":\"white\",\"linecolor\":\"white\",\"minorgridcolor\":\"white\",\"startlinecolor\":\"#2a3f5f\"},\"type\":\"carpet\"}],\"table\":[{\"cells\":{\"fill\":{\"color\":\"#EBF0F8\"},\"line\":{\"color\":\"white\"}},\"header\":{\"fill\":{\"color\":\"#C8D4E3\"},\"line\":{\"color\":\"white\"}},\"type\":\"table\"}],\"barpolar\":[{\"marker\":{\"line\":{\"color\":\"#E5ECF6\",\"width\":0.5},\"pattern\":{\"fillmode\":\"overlay\",\"size\":10,\"solidity\":0.2}},\"type\":\"barpolar\"}],\"pie\":[{\"automargin\":true,\"type\":\"pie\"}]},\"layout\":{\"autotypenumbers\":\"strict\",\"colorway\":[\"#636efa\",\"#EF553B\",\"#00cc96\",\"#ab63fa\",\"#FFA15A\",\"#19d3f3\",\"#FF6692\",\"#B6E880\",\"#FF97FF\",\"#FECB52\"],\"font\":{\"color\":\"#2a3f5f\"},\"hovermode\":\"closest\",\"hoverlabel\":{\"align\":\"left\"},\"paper_bgcolor\":\"white\",\"plot_bgcolor\":\"#E5ECF6\",\"polar\":{\"bgcolor\":\"#E5ECF6\",\"angularaxis\":{\"gridcolor\":\"white\",\"linecolor\":\"white\",\"ticks\":\"\"},\"radialaxis\":{\"gridcolor\":\"white\",\"linecolor\":\"white\",\"ticks\":\"\"}},\"ternary\":{\"bgcolor\":\"#E5ECF6\",\"aaxis\":{\"gridcolor\":\"white\",\"linecolor\":\"white\",\"ticks\":\"\"},\"baxis\":{\"gridcolor\":\"white\",\"linecolor\":\"white\",\"ticks\":\"\"},\"caxis\":{\"gridcolor\":\"white\",\"linecolor\":\"white\",\"ticks\":\"\"}},\"coloraxis\":{\"colorbar\":{\"outlinewidth\":0,\"ticks\":\"\"}},\"colorscale\":{\"sequential\":[[0.0,\"#0d0887\"],[0.1111111111111111,\"#46039f\"],[0.2222222222222222,\"#7201a8\"],[0.3333333333333333,\"#9c179e\"],[0.4444444444444444,\"#bd3786\"],[0.5555555555555556,\"#d8576b\"],[0.6666666666666666,\"#ed7953\"],[0.7777777777777778,\"#fb9f3a\"],[0.8888888888888888,\"#fdca26\"],[1.0,\"#f0f921\"]],\"sequentialminus\":[[0.0,\"#0d0887\"],[0.1111111111111111,\"#46039f\"],[0.2222222222222222,\"#7201a8\"],[0.3333333333333333,\"#9c179e\"],[0.4444444444444444,\"#bd3786\"],[0.5555555555555556,\"#d8576b\"],[0.6666666666666666,\"#ed7953\"],[0.7777777777777778,\"#fb9f3a\"],[0.8888888888888888,\"#fdca26\"],[1.0,\"#f0f921\"]],\"diverging\":[[0,\"#8e0152\"],[0.1,\"#c51b7d\"],[0.2,\"#de77ae\"],[0.3,\"#f1b6da\"],[0.4,\"#fde0ef\"],[0.5,\"#f7f7f7\"],[0.6,\"#e6f5d0\"],[0.7,\"#b8e186\"],[0.8,\"#7fbc41\"],[0.9,\"#4d9221\"],[1,\"#276419\"]]},\"xaxis\":{\"gridcolor\":\"white\",\"linecolor\":\"white\",\"ticks\":\"\",\"title\":{\"standoff\":15},\"zerolinecolor\":\"white\",\"automargin\":true,\"zerolinewidth\":2},\"yaxis\":{\"gridcolor\":\"white\",\"linecolor\":\"white\",\"ticks\":\"\",\"title\":{\"standoff\":15},\"zerolinecolor\":\"white\",\"automargin\":true,\"zerolinewidth\":2},\"scene\":{\"xaxis\":{\"backgroundcolor\":\"#E5ECF6\",\"gridcolor\":\"white\",\"linecolor\":\"white\",\"showbackground\":true,\"ticks\":\"\",\"zerolinecolor\":\"white\",\"gridwidth\":2},\"yaxis\":{\"backgroundcolor\":\"#E5ECF6\",\"gridcolor\":\"white\",\"linecolor\":\"white\",\"showbackground\":true,\"ticks\":\"\",\"zerolinecolor\":\"white\",\"gridwidth\":2},\"zaxis\":{\"backgroundcolor\":\"#E5ECF6\",\"gridcolor\":\"white\",\"linecolor\":\"white\",\"showbackground\":true,\"ticks\":\"\",\"zerolinecolor\":\"white\",\"gridwidth\":2}},\"shapedefaults\":{\"line\":{\"color\":\"#2a3f5f\"}},\"annotationdefaults\":{\"arrowcolor\":\"#2a3f5f\",\"arrowhead\":0,\"arrowwidth\":1},\"geo\":{\"bgcolor\":\"white\",\"landcolor\":\"#E5ECF6\",\"subunitcolor\":\"white\",\"showland\":true,\"showlakes\":true,\"lakecolor\":\"white\"},\"title\":{\"x\":0.05},\"mapbox\":{\"style\":\"light\"}}}},                        {\"responsive\": true}                    ).then(function(){\n",
              "                            \n",
              "var gd = document.getElementById('7852d9bc-b8ef-4268-8043-f88c71601f98');\n",
              "var x = new MutationObserver(function (mutations, observer) {{\n",
              "        var display = window.getComputedStyle(gd).display;\n",
              "        if (!display || display === 'none') {{\n",
              "            console.log([gd, 'removed!']);\n",
              "            Plotly.purge(gd);\n",
              "            observer.disconnect();\n",
              "        }}\n",
              "}});\n",
              "\n",
              "// Listen for the removal of the full notebook cells\n",
              "var notebookContainer = gd.closest('#notebook-container');\n",
              "if (notebookContainer) {{\n",
              "    x.observe(notebookContainer, {childList: true});\n",
              "}}\n",
              "\n",
              "// Listen for the clearing of the current output cell\n",
              "var outputEl = gd.closest('.output');\n",
              "if (outputEl) {{\n",
              "    x.observe(outputEl, {childList: true});\n",
              "}}\n",
              "\n",
              "                        })                };                            </script>        </div>\n",
              "</body>\n",
              "</html>"
            ]
          },
          "metadata": {}
        }
      ]
    }
  ]
}