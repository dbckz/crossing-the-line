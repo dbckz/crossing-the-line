{
  "nbformat": 4,
  "nbformat_minor": 0,
  "metadata": {
    "colab": {
      "name": "zinb_regression.ipynb",
      "provenance": [],
      "authorship_tag": "ABX9TyM/EkrydXihVdOrlpIYWPqG",
      "include_colab_link": true
    },
    "kernelspec": {
      "name": "python3",
      "display_name": "Python 3"
    },
    "language_info": {
      "name": "python"
    }
  },
  "cells": [
    {
      "cell_type": "markdown",
      "metadata": {
        "id": "view-in-github",
        "colab_type": "text"
      },
      "source": [
        "<a href=\"https://colab.research.google.com/github/dbckz/dissertation/blob/master/notebooks/zinb_regression.ipynb\" target=\"_parent\"><img src=\"https://colab.research.google.com/assets/colab-badge.svg\" alt=\"Open In Colab\"/></a>"
      ]
    },
    {
      "cell_type": "markdown",
      "metadata": {
        "id": "uuOj90cSEjO4"
      },
      "source": [
        "# Regression"
      ]
    },
    {
      "cell_type": "code",
      "metadata": {
        "id": "KFlp10xJCH6T",
        "outputId": "dd6e5c82-7fe2-47ba-b772-d80bda3fe11d",
        "colab": {
          "base_uri": "https://localhost:8080/"
        }
      },
      "source": [
        "import pandas as pd\n",
        "import numpy as np\n",
        "import os\n",
        "import statsmodels.api as sm\n",
        "from google.colab import drive\n",
        "from statsmodels.genmod import families\n",
        "import statsmodels.discrete.count_model as reg_models"
      ],
      "execution_count": 1,
      "outputs": [
        {
          "output_type": "stream",
          "text": [
            "/usr/local/lib/python3.7/dist-packages/statsmodels/tools/_testing.py:19: FutureWarning: pandas.util.testing is deprecated. Use the functions in the public API at pandas.testing instead.\n",
            "  import pandas.util.testing as tm\n"
          ],
          "name": "stderr"
        }
      ]
    },
    {
      "cell_type": "code",
      "metadata": {
        "colab": {
          "base_uri": "https://localhost:8080/"
        },
        "id": "MdwsV526CdTv",
        "outputId": "2e0df6b6-b3f5-435a-c690-bf7fc70b107c"
      },
      "source": [
        "drive.mount('/content/drive')"
      ],
      "execution_count": 2,
      "outputs": [
        {
          "output_type": "stream",
          "text": [
            "Mounted at /content/drive\n"
          ],
          "name": "stdout"
        }
      ]
    },
    {
      "cell_type": "code",
      "metadata": {
        "id": "Vg9RYlBXCiWB"
      },
      "source": [
        "root_path = \"/content/drive/MyDrive/University/Dissertation\"\n",
        "regression_path = \"/regression\"\n",
        "regression_file = \"/regression_table_with_persp.csv\"\n",
        "\n",
        "reg_df = pd.read_csv(root_path + regression_path + regression_file,\n",
        "                     parse_dates=['date'])"
      ],
      "execution_count": 3,
      "outputs": []
    },
    {
      "cell_type": "code",
      "metadata": {
        "id": "tUEIq2q9CkLa"
      },
      "source": [
        "reg_df['hatebase_proportion'] = reg_df['tweets_containing_slurs'] / reg_df['total_tweets']\n",
        "reg_df['perspective_proportion'] = reg_df['tweets_flagged_perspective'] / reg_df['total_perspective_tweets']\n",
        "\n",
        "# Set to 0 where there's 0 tweets received\n",
        "reg_df['hatebase_proportion'].fillna(0.0, inplace=True)\n",
        "reg_df['perspective_proportion'].fillna(0.0, inplace=True)\n",
        "reg_df['player_rating'].fillna(0.0, inplace=True)\n",
        "reg_df['player_rating_in_previous_game'].fillna(0.0, inplace=True)\n",
        "reg_df['club_coefficient'].fillna(0.0, inplace=True)"
      ],
      "execution_count": 4,
      "outputs": []
    },
    {
      "cell_type": "code",
      "metadata": {
        "colab": {
          "base_uri": "https://localhost:8080/",
          "height": 377
        },
        "id": "OkIa0g5-CleK",
        "outputId": "6daf20aa-647d-4348-885c-9d0461b27ae6"
      },
      "source": [
        "reg_df.head()"
      ],
      "execution_count": 5,
      "outputs": [
        {
          "output_type": "execute_result",
          "data": {
            "text/html": [
              "<div>\n",
              "<style scoped>\n",
              "    .dataframe tbody tr th:only-of-type {\n",
              "        vertical-align: middle;\n",
              "    }\n",
              "\n",
              "    .dataframe tbody tr th {\n",
              "        vertical-align: top;\n",
              "    }\n",
              "\n",
              "    .dataframe thead th {\n",
              "        text-align: right;\n",
              "    }\n",
              "</style>\n",
              "<table border=\"1\" class=\"dataframe\">\n",
              "  <thead>\n",
              "    <tr style=\"text-align: right;\">\n",
              "      <th></th>\n",
              "      <th>name</th>\n",
              "      <th>country</th>\n",
              "      <th>country_ranking_points</th>\n",
              "      <th>club</th>\n",
              "      <th>club_coefficient</th>\n",
              "      <th>handle</th>\n",
              "      <th>ethnicity</th>\n",
              "      <th>date</th>\n",
              "      <th>days_since_last_game</th>\n",
              "      <th>featured</th>\n",
              "      <th>opponent</th>\n",
              "      <th>player_rating</th>\n",
              "      <th>matchday</th>\n",
              "      <th>result</th>\n",
              "      <th>featured_in_previous_game</th>\n",
              "      <th>player_rating_in_previous_game</th>\n",
              "      <th>result_in_previous_game</th>\n",
              "      <th>pen_in_previous_game</th>\n",
              "      <th>round</th>\n",
              "      <th>red_card</th>\n",
              "      <th>penalty</th>\n",
              "      <th>penalty_outcome</th>\n",
              "      <th>pen</th>\n",
              "      <th>total_tweets</th>\n",
              "      <th>total_perspective_tweets</th>\n",
              "      <th>tweets_containing_slurs</th>\n",
              "      <th>tweets_flagged_perspective</th>\n",
              "      <th>hatebase_proportion</th>\n",
              "      <th>perspective_proportion</th>\n",
              "    </tr>\n",
              "  </thead>\n",
              "  <tbody>\n",
              "    <tr>\n",
              "      <th>0</th>\n",
              "      <td>Thibaut Courtois</td>\n",
              "      <td>Belgium</td>\n",
              "      <td>1783</td>\n",
              "      <td>Spain Real Madrid</td>\n",
              "      <td>127.0</td>\n",
              "      <td>thibautcourtois</td>\n",
              "      <td>white</td>\n",
              "      <td>2021-06-20</td>\n",
              "      <td>NaN</td>\n",
              "      <td>False</td>\n",
              "      <td>NaN</td>\n",
              "      <td>0.0</td>\n",
              "      <td>False</td>\n",
              "      <td>NaN</td>\n",
              "      <td>True</td>\n",
              "      <td>7.58</td>\n",
              "      <td>W</td>\n",
              "      <td>0</td>\n",
              "      <td>NaN</td>\n",
              "      <td>False</td>\n",
              "      <td>False</td>\n",
              "      <td>False</td>\n",
              "      <td>0</td>\n",
              "      <td>30</td>\n",
              "      <td>30</td>\n",
              "      <td>0</td>\n",
              "      <td>0</td>\n",
              "      <td>0.0</td>\n",
              "      <td>0.0</td>\n",
              "    </tr>\n",
              "    <tr>\n",
              "      <th>1</th>\n",
              "      <td>Toby Alderweireld</td>\n",
              "      <td>Belgium</td>\n",
              "      <td>1783</td>\n",
              "      <td>England Tottenham Hotspur</td>\n",
              "      <td>88.0</td>\n",
              "      <td>AlderweireldTob</td>\n",
              "      <td>white</td>\n",
              "      <td>2021-06-20</td>\n",
              "      <td>NaN</td>\n",
              "      <td>False</td>\n",
              "      <td>NaN</td>\n",
              "      <td>0.0</td>\n",
              "      <td>False</td>\n",
              "      <td>NaN</td>\n",
              "      <td>True</td>\n",
              "      <td>6.78</td>\n",
              "      <td>W</td>\n",
              "      <td>0</td>\n",
              "      <td>NaN</td>\n",
              "      <td>False</td>\n",
              "      <td>False</td>\n",
              "      <td>False</td>\n",
              "      <td>0</td>\n",
              "      <td>3</td>\n",
              "      <td>3</td>\n",
              "      <td>0</td>\n",
              "      <td>0</td>\n",
              "      <td>0.0</td>\n",
              "      <td>0.0</td>\n",
              "    </tr>\n",
              "    <tr>\n",
              "      <th>2</th>\n",
              "      <td>Thomas Vermaelen</td>\n",
              "      <td>Belgium</td>\n",
              "      <td>1783</td>\n",
              "      <td>Japan Vissel Kobe</td>\n",
              "      <td>0.0</td>\n",
              "      <td>thomasvermaelen</td>\n",
              "      <td>white</td>\n",
              "      <td>2021-06-20</td>\n",
              "      <td>NaN</td>\n",
              "      <td>False</td>\n",
              "      <td>NaN</td>\n",
              "      <td>0.0</td>\n",
              "      <td>False</td>\n",
              "      <td>NaN</td>\n",
              "      <td>True</td>\n",
              "      <td>6.00</td>\n",
              "      <td>W</td>\n",
              "      <td>0</td>\n",
              "      <td>NaN</td>\n",
              "      <td>False</td>\n",
              "      <td>False</td>\n",
              "      <td>False</td>\n",
              "      <td>0</td>\n",
              "      <td>10</td>\n",
              "      <td>10</td>\n",
              "      <td>0</td>\n",
              "      <td>0</td>\n",
              "      <td>0.0</td>\n",
              "      <td>0.0</td>\n",
              "    </tr>\n",
              "    <tr>\n",
              "      <th>3</th>\n",
              "      <td>Jan Vertonghen</td>\n",
              "      <td>Belgium</td>\n",
              "      <td>1783</td>\n",
              "      <td>Portugal Benfica</td>\n",
              "      <td>58.0</td>\n",
              "      <td>JanVertonghen</td>\n",
              "      <td>white</td>\n",
              "      <td>2021-06-20</td>\n",
              "      <td>NaN</td>\n",
              "      <td>False</td>\n",
              "      <td>NaN</td>\n",
              "      <td>0.0</td>\n",
              "      <td>False</td>\n",
              "      <td>NaN</td>\n",
              "      <td>True</td>\n",
              "      <td>6.97</td>\n",
              "      <td>W</td>\n",
              "      <td>0</td>\n",
              "      <td>NaN</td>\n",
              "      <td>False</td>\n",
              "      <td>False</td>\n",
              "      <td>False</td>\n",
              "      <td>0</td>\n",
              "      <td>2</td>\n",
              "      <td>2</td>\n",
              "      <td>0</td>\n",
              "      <td>0</td>\n",
              "      <td>0.0</td>\n",
              "      <td>0.0</td>\n",
              "    </tr>\n",
              "    <tr>\n",
              "      <th>4</th>\n",
              "      <td>Axel Witsel</td>\n",
              "      <td>Belgium</td>\n",
              "      <td>1783</td>\n",
              "      <td>Germany Borussia Dortmund</td>\n",
              "      <td>90.0</td>\n",
              "      <td>axelwitsel28</td>\n",
              "      <td>non_white</td>\n",
              "      <td>2021-06-20</td>\n",
              "      <td>NaN</td>\n",
              "      <td>False</td>\n",
              "      <td>NaN</td>\n",
              "      <td>0.0</td>\n",
              "      <td>False</td>\n",
              "      <td>NaN</td>\n",
              "      <td>True</td>\n",
              "      <td>6.26</td>\n",
              "      <td>W</td>\n",
              "      <td>0</td>\n",
              "      <td>NaN</td>\n",
              "      <td>False</td>\n",
              "      <td>False</td>\n",
              "      <td>False</td>\n",
              "      <td>0</td>\n",
              "      <td>27</td>\n",
              "      <td>27</td>\n",
              "      <td>0</td>\n",
              "      <td>0</td>\n",
              "      <td>0.0</td>\n",
              "      <td>0.0</td>\n",
              "    </tr>\n",
              "  </tbody>\n",
              "</table>\n",
              "</div>"
            ],
            "text/plain": [
              "                name  country  ...  hatebase_proportion perspective_proportion\n",
              "0   Thibaut Courtois  Belgium  ...                  0.0                    0.0\n",
              "1  Toby Alderweireld  Belgium  ...                  0.0                    0.0\n",
              "2   Thomas Vermaelen  Belgium  ...                  0.0                    0.0\n",
              "3     Jan Vertonghen  Belgium  ...                  0.0                    0.0\n",
              "4        Axel Witsel  Belgium  ...                  0.0                    0.0\n",
              "\n",
              "[5 rows x 29 columns]"
            ]
          },
          "metadata": {},
          "execution_count": 5
        }
      ]
    },
    {
      "cell_type": "code",
      "metadata": {
        "id": "VrplsWj9G0yo"
      },
      "source": [
        "reg_df['day_of_week'] = reg_df['date'].dt.day_name()\n",
        "reg_df[\"featured\"] = reg_df[\"featured\"].astype(int)\n",
        "reg_df[\"featured_in_previous_game\"] = reg_df[\"featured_in_previous_game\"].astype(int)\n",
        "reg_df[\"matchday\"] = reg_df[\"matchday\"].astype(int)\n",
        "reg_df[\"red_card\"] = reg_df[\"red_card\"].astype(int)\n",
        "reg_df[\"penalty\"] = reg_df[\"penalty\"].astype(int)\n",
        "reg_df[\"penalty_outcome\"] = reg_df[\"penalty_outcome\"].astype(int)\n",
        "\n",
        "reg_df = pd.get_dummies(reg_df, columns=['ethnicity'])\n",
        "reg_df = pd.get_dummies(reg_df, columns=['result'])\n",
        "reg_df = pd.get_dummies(reg_df, columns=['result_in_previous_game'])\n",
        "reg_df = pd.get_dummies(reg_df, columns=['day_of_week'])\n",
        "reg_df = pd.get_dummies(reg_df, columns=['country'])\n",
        "reg_df.drop(columns=['country_ranking_points', 'club', 'name', 'date', 'opponent', 'round', 'ethnicity_white', 'result_D', 'result_W'], inplace=True)"
      ],
      "execution_count": 6,
      "outputs": []
    },
    {
      "cell_type": "code",
      "metadata": {
        "id": "L6gtj9n8IctU",
        "colab": {
          "base_uri": "https://localhost:8080/"
        },
        "outputId": "fac34ea8-3788-44fc-bdc9-a071fdc0a0f0"
      },
      "source": [
        "print('Hatebase absolute: Mean='+str(np.mean(reg_df['tweets_containing_slurs'])) + ' Variance='+str(np.var(reg_df['tweets_containing_slurs'])))\n",
        "print('Hatebase proportion: Mean='+str(np.mean(reg_df['hatebase_proportion'])) + ' Variance='+str(np.var(reg_df['hatebase_proportion'])))\n",
        "print('Perspective absolute: Mean='+str(np.mean(reg_df['tweets_flagged_perspective'])) + ' Variance='+str(np.var(reg_df['tweets_flagged_perspective'])))\n",
        "print('Perspective proportion: Mean='+str(np.mean(reg_df['perspective_proportion'])) + ' Variance='+str(np.var(reg_df['perspective_proportion'])))\n"
      ],
      "execution_count": 7,
      "outputs": [
        {
          "output_type": "stream",
          "text": [
            "Hatebase absolute: Mean=1.610483364720653 Variance=160.09090077075075\n",
            "Hatebase proportion: Mean=0.00283838413158561 Variance=0.0005021105139132655\n",
            "Perspective absolute: Mean=1.3433772755806654 Variance=222.44392506608068\n",
            "Perspective proportion: Mean=0.0013648968183750713 Variance=4.561495769822913e-05\n"
          ],
          "name": "stdout"
        }
      ]
    },
    {
      "cell_type": "code",
      "metadata": {
        "id": "fQo9QHZR6aGH",
        "colab": {
          "base_uri": "https://localhost:8080/"
        },
        "outputId": "c5a893e9-f451-4381-9b80-ec5116a3f4e2"
      },
      "source": [
        "num_obs = len(reg_df)\n",
        "\n",
        "h_zeroes_abs = len(reg_df[reg_df['tweets_containing_slurs'] == 0])\n",
        "h_zeroes_prop = len(reg_df[reg_df['hatebase_proportion'] == 0])\n",
        "p_zeroes_abs = len(reg_df[reg_df['tweets_flagged_perspective'] == 0])\n",
        "p_zeroes_prop = len(reg_df[reg_df['perspective_proportion'] == 0])\n",
        "\n",
        "print(f'Total observations: {num_obs}')\n",
        "print(f'Hatebase absolute: {h_zeroes_abs} zeroes, {100*(h_zeroes_abs / num_obs)}%')\n",
        "print(f'Hatebase proportion: {h_zeroes_prop} zeroes, {100*(h_zeroes_prop / num_obs)}%')\n",
        "print(f'Perspective absolute: {p_zeroes_abs} zeroes, {100*(p_zeroes_abs / num_obs)}%')\n",
        "print(f'Perspective proportion: {p_zeroes_prop} zeroes, {100*(p_zeroes_prop / num_obs)}%')"
      ],
      "execution_count": 8,
      "outputs": [
        {
          "output_type": "stream",
          "text": [
            "Total observations: 3186\n",
            "Hatebase absolute: 2563 zeroes, 80.44569993722536%\n",
            "Hatebase proportion: 2563 zeroes, 80.44569993722536%\n",
            "Perspective absolute: 2676 zeroes, 83.9924670433145%\n",
            "Perspective proportion: 2676 zeroes, 83.9924670433145%\n"
          ],
          "name": "stdout"
        }
      ]
    },
    {
      "cell_type": "code",
      "metadata": {
        "id": "otQPKn3SBbal"
      },
      "source": [
        "X = reg_df[['club_coefficient', 'ethnicity_non_white', 'result_L', 'pen', 'day_of_week_Monday', 'day_of_week_Tuesday', 'day_of_week_Wednesday', 'day_of_week_Thursday', 'day_of_week_Friday', 'day_of_week_Saturday', 'day_of_week_Sunday']]\n",
        "# X = reg_df[['club_coefficient', 'ethnicity_non_white', 'result_L', 'pen']]\n",
        "X = sm.add_constant(X)"
      ],
      "execution_count": 9,
      "outputs": []
    },
    {
      "cell_type": "code",
      "metadata": {
        "id": "FV83jGykBUsG",
        "colab": {
          "base_uri": "https://localhost:8080/"
        },
        "outputId": "eb2650cf-c165-4a8b-de6f-9f53799e9421"
      },
      "source": [
        "# ZINB for Hatebase absolute number of tweets (since mostly zeroes, and overdispersed)\n",
        "h_abs_model=reg_models.ZeroInflatedNegativeBinomialP(reg_df['tweets_containing_slurs'], X)\n",
        "h_abs_res = h_abs_model.fit_regularized()\n",
        "print(h_abs_res.summary())"
      ],
      "execution_count": 10,
      "outputs": [
        {
          "output_type": "stream",
          "text": [
            "/usr/local/lib/python3.7/dist-packages/statsmodels/discrete/discrete_model.py:992: RuntimeWarning: overflow encountered in exp\n",
            "  return np.sum(-np.exp(XB) +  endog*XB - gammaln(endog+1))\n"
          ],
          "name": "stderr"
        },
        {
          "output_type": "stream",
          "text": [
            "Optimization terminated successfully.    (Exit mode 0)\n",
            "            Current function value: 0.9602087874472555\n",
            "            Iterations: 101\n",
            "            Function evaluations: 107\n",
            "            Gradient evaluations: 101\n"
          ],
          "name": "stdout"
        },
        {
          "output_type": "stream",
          "text": [
            "/usr/local/lib/python3.7/dist-packages/statsmodels/discrete/discrete_model.py:3003: RuntimeWarning: invalid value encountered in log\n",
            "  a1 * np.log(a1) + y * np.log(mu) -\n"
          ],
          "name": "stderr"
        },
        {
          "output_type": "stream",
          "text": [
            "                     ZeroInflatedNegativeBinomialP Regression Results                    \n",
            "=========================================================================================\n",
            "Dep. Variable:           tweets_containing_slurs   No. Observations:                 3186\n",
            "Model:             ZeroInflatedNegativeBinomialP   Df Residuals:                     3174\n",
            "Method:                                      MLE   Df Model:                           11\n",
            "Date:                           Fri, 27 Aug 2021   Pseudo R-squ.:                 0.03125\n",
            "Time:                                   21:47:31   Log-Likelihood:                -3059.2\n",
            "converged:                                  True   LL-Null:                       -3157.9\n",
            "Covariance Type:                       nonrobust   LLR p-value:                 2.595e-36\n",
            "=========================================================================================\n",
            "                            coef    std err          z      P>|z|      [0.025      0.975]\n",
            "-----------------------------------------------------------------------------------------\n",
            "inflate_const           -15.8245    644.904     -0.025      0.980   -1279.814    1248.165\n",
            "const                    -0.8472     40.447     -0.021      0.983     -80.121      78.427\n",
            "club_coefficient          0.0077      0.001      5.590      0.000       0.005       0.010\n",
            "ethnicity_non_white       0.8310      0.143      5.811      0.000       0.551       1.111\n",
            "result_L                  2.1181      0.380      5.576      0.000       1.374       2.863\n",
            "pen                      -1.0524      0.394     -2.669      0.008      -1.825      -0.280\n",
            "day_of_week_Monday        0.7235     40.447      0.018      0.986     -78.551      79.998\n",
            "day_of_week_Tuesday       0.4607     40.447      0.011      0.991     -78.814      79.735\n",
            "day_of_week_Wednesday     0.2236     40.447      0.006      0.996     -79.050      79.498\n",
            "day_of_week_Thursday     -0.2397     40.447     -0.006      0.995     -79.515      79.035\n",
            "day_of_week_Friday       -0.6760     40.447     -0.017      0.987     -79.951      78.599\n",
            "day_of_week_Saturday     -0.0851     40.446     -0.002      0.998     -79.358      79.187\n",
            "day_of_week_Sunday       -0.5927     40.447     -0.015      0.988     -79.867      78.681\n",
            "alpha                    12.2487      0.621     19.739      0.000      11.032      13.465\n",
            "=========================================================================================\n"
          ],
          "name": "stdout"
        },
        {
          "output_type": "stream",
          "text": [
            "/usr/local/lib/python3.7/dist-packages/statsmodels/base/model.py:492: HessianInversionWarning: Inverting hessian failed, no bse or cov_params available\n",
            "  'available', HessianInversionWarning)\n",
            "/usr/local/lib/python3.7/dist-packages/statsmodels/base/model.py:492: HessianInversionWarning: Inverting hessian failed, no bse or cov_params available\n",
            "  'available', HessianInversionWarning)\n"
          ],
          "name": "stderr"
        }
      ]
    },
    {
      "cell_type": "code",
      "metadata": {
        "id": "8ntR1BuFB2jE",
        "colab": {
          "base_uri": "https://localhost:8080/"
        },
        "outputId": "72157840-48ed-4697-81b4-9f0ffe4460da"
      },
      "source": [
        "# ZIGP for Hatebase proportion of tweets (since mostly zeroes, underdispersed)\n",
        "h_prop_model=reg_models.ZeroInflatedGeneralizedPoisson(reg_df['hatebase_proportion'], X)\n",
        "h_prop_res = h_prop_model.fit_regularized()\n",
        "print(h_prop_res.summary())"
      ],
      "execution_count": null,
      "outputs": [
        {
          "output_type": "stream",
          "text": [
            "/usr/local/lib/python3.7/dist-packages/statsmodels/discrete/discrete_model.py:1396: RuntimeWarning: invalid value encountered in log\n",
            "  np.log(a1) - gammaln(endog + 1) - a2 / a1)\n",
            "/usr/local/lib/python3.7/dist-packages/statsmodels/discrete/discrete_model.py:1396: RuntimeWarning: divide by zero encountered in log\n",
            "  np.log(a1) - gammaln(endog + 1) - a2 / a1)\n",
            "/usr/local/lib/python3.7/dist-packages/statsmodels/discrete/discrete_model.py:1396: RuntimeWarning: invalid value encountered in multiply\n",
            "  np.log(a1) - gammaln(endog + 1) - a2 / a1)\n",
            "/usr/local/lib/python3.7/dist-packages/statsmodels/discrete/discrete_model.py:1396: RuntimeWarning: invalid value encountered in add\n",
            "  np.log(a1) - gammaln(endog + 1) - a2 / a1)\n",
            "/usr/local/lib/python3.7/dist-packages/statsmodels/discrete/discrete_model.py:1684: RuntimeWarning: overflow encountered in exp\n",
            "  return np.exp(linpred)\n",
            "/usr/local/lib/python3.7/dist-packages/statsmodels/discrete/discrete_model.py:1394: RuntimeWarning: invalid value encountered in multiply\n",
            "  a2 = mu + (a1 - 1) * endog\n",
            "/usr/local/lib/python3.7/dist-packages/statsmodels/discrete/discrete_model.py:1394: RuntimeWarning: invalid value encountered in add\n",
            "  a2 = mu + (a1 - 1) * endog\n",
            "/usr/local/lib/python3.7/dist-packages/statsmodels/discrete/discrete_model.py:1393: RuntimeWarning: overflow encountered in multiply\n",
            "  a1 = 1 + alpha * mu_p\n",
            "/usr/local/lib/python3.7/dist-packages/statsmodels/discrete/discrete_model.py:1396: RuntimeWarning: invalid value encountered in true_divide\n",
            "  np.log(a1) - gammaln(endog + 1) - a2 / a1)\n",
            "/usr/local/lib/python3.7/dist-packages/statsmodels/base/model.py:512: ConvergenceWarning: Maximum Likelihood optimization failed to converge. Check mle_retvals\n",
            "  \"Check mle_retvals\", ConvergenceWarning)\n"
          ],
          "name": "stderr"
        },
        {
          "output_type": "stream",
          "text": [
            "Iteration limit exceeded    (Exit mode 9)\n",
            "            Current function value: nan\n",
            "            Iterations: 1001\n",
            "            Function evaluations: 11001\n",
            "            Gradient evaluations: 1001\n"
          ],
          "name": "stdout"
        },
        {
          "output_type": "stream",
          "text": [
            "/usr/local/lib/python3.7/dist-packages/statsmodels/base/model.py:512: ConvergenceWarning: Maximum Likelihood optimization failed to converge. Check mle_retvals\n",
            "  \"Check mle_retvals\", ConvergenceWarning)\n",
            "/usr/local/lib/python3.7/dist-packages/statsmodels/discrete/discrete_model.py:1396: RuntimeWarning: invalid value encountered in log\n",
            "  np.log(a1) - gammaln(endog + 1) - a2 / a1)\n",
            "/usr/local/lib/python3.7/dist-packages/statsmodels/base/model.py:492: HessianInversionWarning: Inverting hessian failed, no bse or cov_params available\n",
            "  'available', HessianInversionWarning)\n",
            "/usr/local/lib/python3.7/dist-packages/statsmodels/discrete/discrete_model.py:1396: RuntimeWarning: invalid value encountered in log\n",
            "  np.log(a1) - gammaln(endog + 1) - a2 / a1)\n"
          ],
          "name": "stderr"
        },
        {
          "output_type": "stream",
          "text": [
            "                    ZeroInflatedGeneralizedPoisson Regression Results                     \n",
            "==========================================================================================\n",
            "Dep. Variable:                hatebase_proportion   No. Observations:                 3186\n",
            "Model:             ZeroInflatedGeneralizedPoisson   Df Residuals:                     3174\n",
            "Method:                                       MLE   Df Model:                           11\n",
            "Date:                            Sun, 22 Aug 2021   Pseudo R-squ.:                     nan\n",
            "Time:                                    09:04:05   Log-Likelihood:                    nan\n",
            "converged:                                  False   LL-Null:                           nan\n",
            "Covariance Type:                        nonrobust   LLR p-value:                       nan\n",
            "=========================================================================================\n",
            "                            coef    std err          z      P>|z|      [0.025      0.975]\n",
            "-----------------------------------------------------------------------------------------\n",
            "inflate_const             1.0000        nan        nan        nan         nan         nan\n",
            "const                    -5.8357        nan        nan        nan         nan         nan\n",
            "club_coefficient         -0.0078        nan        nan        nan         nan         nan\n",
            "ethnicity_non_white       0.6493        nan        nan        nan         nan         nan\n",
            "result_L                  0.7004        nan        nan        nan         nan         nan\n",
            "pen                      -0.0544        nan        nan        nan         nan         nan\n",
            "day_of_week_Monday       -0.6790        nan        nan        nan         nan         nan\n",
            "day_of_week_Tuesday      -0.3458        nan        nan        nan         nan         nan\n",
            "day_of_week_Wednesday    -0.8710        nan        nan        nan         nan         nan\n",
            "day_of_week_Thursday     -1.3994        nan        nan        nan         nan         nan\n",
            "day_of_week_Friday       -1.1863        nan        nan        nan         nan         nan\n",
            "day_of_week_Saturday      0.2278        nan        nan        nan         nan         nan\n",
            "day_of_week_Sunday       -0.4586        nan        nan        nan         nan         nan\n",
            "alpha                    -1.0003        nan        nan        nan         nan         nan\n",
            "=========================================================================================\n"
          ],
          "name": "stdout"
        },
        {
          "output_type": "stream",
          "text": [
            "/usr/local/lib/python3.7/dist-packages/statsmodels/discrete/discrete_model.py:1396: RuntimeWarning: invalid value encountered in log\n",
            "  np.log(a1) - gammaln(endog + 1) - a2 / a1)\n",
            "/usr/local/lib/python3.7/dist-packages/statsmodels/base/model.py:492: HessianInversionWarning: Inverting hessian failed, no bse or cov_params available\n",
            "  'available', HessianInversionWarning)\n"
          ],
          "name": "stderr"
        }
      ]
    },
    {
      "cell_type": "code",
      "metadata": {
        "id": "sZpPa2h_9Q0a",
        "colab": {
          "base_uri": "https://localhost:8080/"
        },
        "outputId": "f6207f9f-13db-4aaf-e706-90b01a57bde9"
      },
      "source": [
        "# ZINB for Perspective absolute number of tweets (since mostly zeroes, and overdispersed)\n",
        "p_abs_model=reg_models.ZeroInflatedNegativeBinomialP(reg_df['tweets_flagged_perspective'], X)\n",
        "p_abs_res = p_abs_model.fit_regularized()\n",
        "print(p_abs_res.summary())"
      ],
      "execution_count": 11,
      "outputs": [
        {
          "output_type": "stream",
          "text": [
            "/usr/local/lib/python3.7/dist-packages/statsmodels/discrete/discrete_model.py:992: RuntimeWarning: overflow encountered in exp\n",
            "  return np.sum(-np.exp(XB) +  endog*XB - gammaln(endog+1))\n"
          ],
          "name": "stderr"
        },
        {
          "output_type": "stream",
          "text": [
            "Optimization terminated successfully.    (Exit mode 0)\n",
            "            Current function value: 0.7989414044815596\n",
            "            Iterations: 104\n",
            "            Function evaluations: 109\n",
            "            Gradient evaluations: 104\n"
          ],
          "name": "stdout"
        },
        {
          "output_type": "stream",
          "text": [
            "/usr/local/lib/python3.7/dist-packages/statsmodels/discrete/discrete_model.py:3003: RuntimeWarning: invalid value encountered in log\n",
            "  a1 * np.log(a1) + y * np.log(mu) -\n"
          ],
          "name": "stderr"
        },
        {
          "output_type": "stream",
          "text": [
            "                     ZeroInflatedNegativeBinomialP Regression Results                    \n",
            "=========================================================================================\n",
            "Dep. Variable:        tweets_flagged_perspective   No. Observations:                 3186\n",
            "Model:             ZeroInflatedNegativeBinomialP   Df Residuals:                     3174\n",
            "Method:                                      MLE   Df Model:                           11\n",
            "Date:                           Fri, 27 Aug 2021   Pseudo R-squ.:                 0.04976\n",
            "Time:                                   21:47:46   Log-Likelihood:                -2545.4\n",
            "converged:                                  True   LL-Null:                       -2678.7\n",
            "Covariance Type:                       nonrobust   LLR p-value:                 9.206e-51\n",
            "=========================================================================================\n",
            "                            coef    std err          z      P>|z|      [0.025      0.975]\n",
            "-----------------------------------------------------------------------------------------\n",
            "inflate_const           -14.5381    365.494     -0.040      0.968    -730.894     701.818\n",
            "const                    -1.4117     46.038     -0.031      0.976     -91.645      88.822\n",
            "club_coefficient          0.0139      0.001      9.524      0.000       0.011       0.017\n",
            "ethnicity_non_white       0.3488      0.152      2.297      0.022       0.051       0.646\n",
            "result_L                  2.8392      0.395      7.190      0.000       2.065       3.613\n",
            "pen                      -1.2776      0.398     -3.212      0.001      -2.057      -0.498\n",
            "day_of_week_Monday        0.6684     46.038      0.015      0.988     -89.565      90.902\n",
            "day_of_week_Tuesday       0.4835     46.038      0.011      0.992     -89.750      90.717\n",
            "day_of_week_Wednesday     0.2682     46.038      0.006      0.995     -89.965      90.501\n",
            "day_of_week_Thursday     -0.3180     46.038     -0.007      0.994     -90.552      89.916\n",
            "day_of_week_Friday       -0.9654     46.039     -0.021      0.983     -91.199      89.269\n",
            "day_of_week_Saturday     -0.6943     46.039     -0.015      0.988     -90.928      89.540\n",
            "day_of_week_Sunday       -0.9686     46.039     -0.021      0.983     -91.203      89.265\n",
            "alpha                    13.3295      0.761     17.523      0.000      11.839      14.820\n",
            "=========================================================================================\n"
          ],
          "name": "stdout"
        }
      ]
    },
    {
      "cell_type": "code",
      "metadata": {
        "id": "gXbE6L5SC0Ah",
        "colab": {
          "base_uri": "https://localhost:8080/"
        },
        "outputId": "ae8c22e5-6deb-4d3a-cc0c-f1201f778ad3"
      },
      "source": [
        "# ZIGP for Perspective proportion of tweets (since mostly zeroes, underdispersed)\n",
        "p_prop_model=reg_models.ZeroInflatedGeneralizedPoisson(reg_df['perspective_proportion'], X)\n",
        "p_prop_res = p_prop_model.fit_regularized()\n",
        "print(p_prop_res.summary())"
      ],
      "execution_count": null,
      "outputs": [
        {
          "output_type": "stream",
          "text": [
            "/usr/local/lib/python3.7/dist-packages/statsmodels/discrete/discrete_model.py:1396: RuntimeWarning: invalid value encountered in log\n",
            "  np.log(a1) - gammaln(endog + 1) - a2 / a1)\n",
            "/usr/local/lib/python3.7/dist-packages/statsmodels/discrete/discrete_model.py:1684: RuntimeWarning: overflow encountered in exp\n",
            "  return np.exp(linpred)\n",
            "/usr/local/lib/python3.7/dist-packages/statsmodels/discrete/discrete_model.py:1394: RuntimeWarning: invalid value encountered in multiply\n",
            "  a2 = mu + (a1 - 1) * endog\n",
            "/usr/local/lib/python3.7/dist-packages/statsmodels/discrete/discrete_model.py:1394: RuntimeWarning: invalid value encountered in add\n",
            "  a2 = mu + (a1 - 1) * endog\n",
            "/usr/local/lib/python3.7/dist-packages/statsmodels/discrete/discrete_model.py:1393: RuntimeWarning: overflow encountered in multiply\n",
            "  a1 = 1 + alpha * mu_p\n",
            "/usr/local/lib/python3.7/dist-packages/statsmodels/discrete/discrete_model.py:1396: RuntimeWarning: invalid value encountered in true_divide\n",
            "  np.log(a1) - gammaln(endog + 1) - a2 / a1)\n"
          ],
          "name": "stderr"
        },
        {
          "output_type": "stream",
          "text": [
            "Iteration limit exceeded    (Exit mode 9)\n",
            "            Current function value: nan\n",
            "            Iterations: 1001\n",
            "            Function evaluations: 11001\n",
            "            Gradient evaluations: 1001\n"
          ],
          "name": "stdout"
        },
        {
          "output_type": "stream",
          "text": [
            "/usr/local/lib/python3.7/dist-packages/statsmodels/base/model.py:512: ConvergenceWarning: Maximum Likelihood optimization failed to converge. Check mle_retvals\n",
            "  \"Check mle_retvals\", ConvergenceWarning)\n",
            "/usr/local/lib/python3.7/dist-packages/statsmodels/discrete/discrete_model.py:1736: RuntimeWarning: overflow encountered in exp\n",
            "  return 1/(1+np.exp(-X))\n",
            "/usr/local/lib/python3.7/dist-packages/statsmodels/discrete/discrete_model.py:1396: RuntimeWarning: invalid value encountered in log\n",
            "  np.log(a1) - gammaln(endog + 1) - a2 / a1)\n",
            "/usr/local/lib/python3.7/dist-packages/statsmodels/discrete/discrete_model.py:1396: RuntimeWarning: divide by zero encountered in log\n",
            "  np.log(a1) - gammaln(endog + 1) - a2 / a1)\n",
            "/usr/local/lib/python3.7/dist-packages/scipy/optimize/optimize.py:597: RuntimeWarning: invalid value encountered in subtract\n",
            "  numpy.max(numpy.abs(fsim[0] - fsim[1:])) <= fatol):\n"
          ],
          "name": "stderr"
        }
      ]
    }
  ]
}
