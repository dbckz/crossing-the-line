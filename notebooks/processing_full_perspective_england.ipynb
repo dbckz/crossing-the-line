{
  "nbformat": 4,
  "nbformat_minor": 0,
  "metadata": {
    "colab": {
      "name": "processing_full_perspective_england.ipynb",
      "provenance": [],
      "authorship_tag": "ABX9TyPERD3DdYX48+2K+mTcxKZH",
      "include_colab_link": true
    },
    "kernelspec": {
      "name": "python3",
      "display_name": "Python 3"
    },
    "language_info": {
      "name": "python"
    }
  },
  "cells": [
    {
      "cell_type": "markdown",
      "metadata": {
        "id": "view-in-github",
        "colab_type": "text"
      },
      "source": [
        "<a href=\"https://colab.research.google.com/github/dbckz/crossing-the-line/blob/master/notebooks/processing_full_perspective_england.ipynb\" target=\"_parent\"><img src=\"https://colab.research.google.com/assets/colab-badge.svg\" alt=\"Open In Colab\"/></a>"
      ]
    },
    {
      "cell_type": "markdown",
      "metadata": {
        "id": "GRM6N6JuZFfF"
      },
      "source": [
        "# Setup"
      ]
    },
    {
      "cell_type": "code",
      "metadata": {
        "id": "y7d3z3-jBIwQ"
      },
      "source": [
        "import pandas as pd\n",
        "import ast\n",
        "import os\n",
        "import numpy as np\n",
        "import matplotlib.pyplot as plt\n",
        "from wordcloud import WordCloud\n",
        "from tqdm import tqdm\n",
        "from google.colab import drive\n",
        "import plotly.graph_objects as go"
      ],
      "execution_count": null,
      "outputs": []
    },
    {
      "cell_type": "code",
      "metadata": {
        "colab": {
          "base_uri": "https://localhost:8080/"
        },
        "id": "ijZC6v-VBaZK",
        "outputId": "501fe83b-ba98-47ce-ee82-e54576fc49f8"
      },
      "source": [
        "drive.mount('/content/drive')"
      ],
      "execution_count": null,
      "outputs": [
        {
          "output_type": "stream",
          "name": "stdout",
          "text": [
            "Mounted at /content/drive\n"
          ]
        }
      ]
    },
    {
      "cell_type": "code",
      "metadata": {
        "id": "3bU3fWqpBfuw"
      },
      "source": [
        "# Set up paths\n",
        "root_path = \"/content/drive/MyDrive/University/Dissertation/data_collection\"\n",
        "graph_path = root_path + \"/graphs\"\n",
        "\n",
        "day_paths = day_paths = [\n",
        "        \"/01\",\n",
        "        \"/02\",\n",
        "        \"/03\",\n",
        "        \"/04\",\n",
        "        \"/05\",\n",
        "        \"/06\",\n",
        "        \"/07\",\n",
        "        \"/08\",\n",
        "        \"/09\",\n",
        "        \"/10\",\n",
        "        \"/11\",\n",
        "        \"/12\",\n",
        "        \"/13\",\n",
        "        \"/14\",\n",
        "        \"/15\",\n",
        "        \"/16\",\n",
        "        \"/17\",\n",
        "        \"/18\",\n",
        "        \"/19\",\n",
        "        \"/20\",\n",
        "        \"/21\",\n",
        "        \"/22\",\n",
        "        \"/23\",\n",
        "        \"/24\",\n",
        "        \"/25\",\n",
        "        \"/26\",\n",
        "        \"/27\",\n",
        "        \"/28\",\n",
        "        \"/29\",\n",
        "        \"/30\",\n",
        "        \"/31\",\n",
        "        \"/32\",\n",
        "        \"/33\",\n",
        "        \"/34\",\n",
        "        \"/35\",\n",
        "        \"/36\"\n",
        "    ]"
      ],
      "execution_count": null,
      "outputs": []
    },
    {
      "cell_type": "code",
      "metadata": {
        "colab": {
          "base_uri": "https://localhost:8080/"
        },
        "id": "8cLTHniaBmpb",
        "outputId": "2bba146a-ac82-4c53-835c-b7bec3e4bc69"
      },
      "source": [
        "# Create directory to store visualisations\n",
        "try:\n",
        "    os.mkdir(graph_path)\n",
        "except OSError as error:\n",
        "    print(error)"
      ],
      "execution_count": null,
      "outputs": [
        {
          "output_type": "stream",
          "name": "stdout",
          "text": [
            "[Errno 17] File exists: '/content/drive/MyDrive/University/Dissertation/data_collection/graphs'\n"
          ]
        }
      ]
    },
    {
      "cell_type": "code",
      "metadata": {
        "colab": {
          "base_uri": "https://localhost:8080/"
        },
        "id": "VqtIrThfBpAQ",
        "outputId": "de076a25-3395-4a5f-b0d4-786692384d97"
      },
      "source": [
        "# Load data\n",
        "in_tweets = pd.DataFrame()\n",
        "persp = pd.DataFrame()\n",
        "emojis = pd.DataFrame()\n",
        "for path in day_paths:\n",
        "    directory = root_path + path\n",
        "    tweets_csv = directory + \"/tweets.csv\"\n",
        "    persp_csv = directory + \"/perspective_processed_tweets.csv\"\n",
        "    emojis_csv = directory + \"/emoji.csv\"\n",
        "\n",
        "    print(f\"Loading CSVs for directory {path}...\")\n",
        "    in_tweets = pd.concat([in_tweets, \n",
        "                           pd.read_csv(tweets_csv,\n",
        "                                       usecols = [\n",
        "                                                  'created_at',\n",
        "                                                  'tweet_id',\n",
        "                                                  'tweet_text',\n",
        "                                                  'accounts_mentioned'\n",
        "                                       ],\n",
        "                                       dtype = {\n",
        "                                          # 'created_at':\n",
        "                                          'tweet_id': np.int64,\n",
        "                                          'tweet_text': str,\n",
        "                                          'accounts_mentioned': object\n",
        "                                       },\n",
        "                                       parse_dates=['created_at'])])\n",
        "\n",
        "    persp = pd.concat([persp, pd.read_csv(persp_csv,\n",
        "                                          usecols = [\n",
        "                                                      'tweet_id',\n",
        "                                                      'identity_attack_score',\n",
        "                                                      'threat_score',\n",
        "                                                      'severe_toxicity_score',\n",
        "                                                      'insult_score'\n",
        "                                                      \n",
        "                                          ],\n",
        "                                          dtype = {\n",
        "                                              'tweet_id': np.int64,\n",
        "                                              'identity_attack_score': np.float,\n",
        "                                              'threat_score': np.float,\n",
        "                                              'severe_toxicity_score': np.float,\n",
        "                                              'insult_score': np.float\n",
        "                                          })])\n",
        "\n",
        "# Dedup\n",
        "original_tweets_length = len(in_tweets)\n",
        "original_persp_length = len(persp)\n",
        "in_tweets.drop_duplicates(subset=['tweet_id'], inplace=True)\n",
        "persp.drop_duplicates(subset=['tweet_id'], inplace=True)\n",
        "print(f\"Size of tweets dataframe: {len(in_tweets)}, having dropped {original_tweets_length - len(in_tweets)} duplicate rows\")\n",
        "print(f\"Size of perspective dataframe: {len(persp)}, having dropped {original_persp_length - len(persp)} duplicate rows\")\n"
      ],
      "execution_count": null,
      "outputs": [
        {
          "output_type": "stream",
          "name": "stdout",
          "text": [
            "Loading CSVs for directory /01...\n",
            "Loading CSVs for directory /02...\n",
            "Loading CSVs for directory /03...\n",
            "Loading CSVs for directory /04...\n",
            "Loading CSVs for directory /05...\n",
            "Loading CSVs for directory /06...\n",
            "Loading CSVs for directory /07...\n",
            "Loading CSVs for directory /08...\n",
            "Loading CSVs for directory /09...\n",
            "Loading CSVs for directory /10...\n",
            "Loading CSVs for directory /11...\n",
            "Loading CSVs for directory /12...\n",
            "Loading CSVs for directory /13...\n",
            "Loading CSVs for directory /14...\n",
            "Loading CSVs for directory /15...\n",
            "Loading CSVs for directory /16...\n",
            "Loading CSVs for directory /17...\n",
            "Loading CSVs for directory /18...\n",
            "Loading CSVs for directory /19...\n",
            "Loading CSVs for directory /20...\n",
            "Loading CSVs for directory /21...\n",
            "Loading CSVs for directory /22...\n",
            "Loading CSVs for directory /23...\n",
            "Loading CSVs for directory /24...\n",
            "Loading CSVs for directory /25...\n",
            "Loading CSVs for directory /26...\n",
            "Loading CSVs for directory /27...\n",
            "Loading CSVs for directory /28...\n",
            "Loading CSVs for directory /29...\n",
            "Loading CSVs for directory /30...\n",
            "Loading CSVs for directory /31...\n",
            "Loading CSVs for directory /32...\n",
            "Loading CSVs for directory /33...\n",
            "Loading CSVs for directory /34...\n",
            "Loading CSVs for directory /35...\n",
            "Loading CSVs for directory /36...\n",
            "Size of tweets dataframe: 1478009, having dropped 133 duplicate rows\n",
            "Size of perspective dataframe: 1625808, having dropped 170 duplicate rows\n"
          ]
        }
      ]
    },
    {
      "cell_type": "code",
      "metadata": {
        "id": "sAADH49yDUaO"
      },
      "source": [
        "# Up the pandas display limits so printed dataframes aren't so truncated\n",
        "pd.set_option('display.max_rows', 100)\n",
        "pd.set_option('display.max_columns', 100)\n",
        "pd.set_option('display.width', None)\n",
        "pd.set_option('display.max_colwidth', None)\n",
        "pd.set_option('display.max_info_rows', 100)\n",
        "pd.set_option('display.max_info_columns', 100)\n",
        "pd.set_option('display.precision', 9)"
      ],
      "execution_count": null,
      "outputs": []
    },
    {
      "cell_type": "code",
      "metadata": {
        "id": "rK6fN3eADf1j",
        "colab": {
          "base_uri": "https://localhost:8080/"
        },
        "outputId": "bd000395-9a45-495f-fb91-14fb23d39c65"
      },
      "source": [
        "# Join tables + drop old ones!\n",
        "joined_df = pd.merge(in_tweets, persp, how='inner', on='tweet_id')\n",
        "del persp\n",
        "del in_tweets\n",
        "len(joined_df)"
      ],
      "execution_count": null,
      "outputs": [
        {
          "output_type": "execute_result",
          "data": {
            "text/plain": [
              "1478009"
            ]
          },
          "metadata": {},
          "execution_count": 7
        }
      ]
    },
    {
      "cell_type": "code",
      "metadata": {
        "colab": {
          "base_uri": "https://localhost:8080/"
        },
        "id": "ojO6vp-FDQpg",
        "outputId": "49bb4114-b953-447f-8fb6-79a4477c871a"
      },
      "source": [
        "joined_df = joined_df[(joined_df['created_at'] > '2021-06-19 08:10:18+00:00') & (joined_df['created_at'] < '2021-07-17 00:00:00+00:00')]\n",
        "len(joined_df)"
      ],
      "execution_count": null,
      "outputs": [
        {
          "output_type": "execute_result",
          "data": {
            "text/plain": [
              "1274885"
            ]
          },
          "metadata": {},
          "execution_count": 8
        }
      ]
    },
    {
      "cell_type": "markdown",
      "metadata": {
        "id": "sAs12WDWZLmm"
      },
      "source": [
        "# Analysis"
      ]
    },
    {
      "cell_type": "code",
      "metadata": {
        "colab": {
          "base_uri": "https://localhost:8080/"
        },
        "id": "TxuKH69TGNW7",
        "outputId": "13ecc9ba-663b-4f32-aecd-c97bb0eb8660"
      },
      "source": [
        "print(f\"Number of tweets that Perspective could not process: {len(joined_df[joined_df['identity_attack_score'] == -1.0])}\") # might need to do this later..."
      ],
      "execution_count": null,
      "outputs": [
        {
          "output_type": "stream",
          "name": "stdout",
          "text": [
            "Number of tweets that Perspective could not process: 91624\n"
          ]
        }
      ]
    },
    {
      "cell_type": "code",
      "metadata": {
        "colab": {
          "base_uri": "https://localhost:8080/"
        },
        "id": "Y8AlxdbJJnmN",
        "outputId": "a55aebec-6adc-4f7c-d873-cf1e4a7a5bfc"
      },
      "source": [
        "# Extract players\n",
        "england = [\"JPickford1\", \"kylewalker2\", \"LukeShaw23\", \"_DeclanRice\", \"HarryMaguire93\", \"JackGrealish\",\n",
        "                    \"JHenderson\", \"HKane\", \"sterling7\", \"MarcusRashford\", \"trippier2\", \"deanhenderson\",\n",
        "                    \"Kalvinphillips\", \"OfficialTM_3\", \"Sanchooo10\", \"CalvertLewin14\", \"masonmount_10\", \"PhilFoden\",\n",
        "                    \"BenChilwell\", \"ben6white\", \"samjohnstone50\", \"reecejames_24\", \"BukayoSaka87\", \"BellinghamJude\"]\n",
        "\n",
        "netherlands = [\"joel_veltman\", \"mdeligt_04\", \"NathanAke\", \"Stefandevrij\", \"GWijnaldum\", \"LuukdeJong9\", \"Memphis\", \"QPromes\", \"pvanaanholt\", \"TimKrul\", \"DavyKlaassen\", \"Dirono\", \"RGravenberch\", \"BlindDaley\", \"DeJongFrenkie21\", \"DenzelJMD2\"]\n",
        "\n",
        "germany = [\"Manuel_Neuer\", \"ToniRuediger\", \"MatzeGinter\", \"matshummels\", \"kaihavertz29\", \"ToniKroos\", \"KeVolland\", \"SergeGnabry\", \"Bernd_Leno\", \"JamalMusiala\", \"lukaskl96\", \"leongoretzka_\", \"leroy_sane\", \"IlkayGuendogan\", \"emrecan_\", \"RobinKoch25\", \"esmuellert_\"]\n",
        "\n",
        "scotland = [\"MarshallDavid23\", \"sodonnell15\", \"andrewrobertso5\", \"mctominay10\", \"granthanley5\", \"kierantierney1\", \"jmcginn7\", \"Callummcgregor8\", \"Lyndon_Dykes\", \"CheAdams_\", \"CraigGordon01\", \"declang31\", \"LiamCooper__\", \"10DavidTurnbull\", \"kevinnisbet16\", \"np4tterson\", \"billygilmourrr\", \"Jack_Hendry2\", \"Scottmckenna3\"]\n",
        "\n",
        "france = [\"BenPavard28\", \"kimpembe_3\", \"raphaelvarane\", \"clement_lenglet\", \"paulpogba\", \"AntoGriezmann\", \"_OlivierGiroud_\", \"KMbappe\", \"CorentinTolisso\", \"nglkante\", \"KurtZouma\", \"SteveMandanda\", \"MoussaSissoko\", \"LucasDigne\", \"Benzema\", \"LucasHernandez\", \"WissBenYedder\", \"mmseize\", \"leodubois15\", \"jkeey4\", \"MarcusThuram\"]\n",
        "\n",
        "belgium = [\"thibautcourtois\", \"AlderweireldTob\", \"thomasvermaelen\", \"JanVertonghen\", \"axelwitsel28\", \"DeBruyneKev\", \"RomeluLukaku9\", \"hazardeden10\", \"CarrascoY21\", \"SMignolet\", \"dries_mertens14\", \"ThomMills\", \"HazardThorgan8\", \"VanakenHans\", \"Jasondenayer\", \"chrisbenteke\", \"NChadli\", \"mbatshuayi\", \"LTrossard\", \"JeremyDoku\", \"dennispraet\"]\n",
        "\n",
        "list_of_players = england + netherlands + germany + scotland + france + belgium\n",
        "\n",
        "for player in list_of_players:\n",
        "    print(f\"Extracting {player}...\")\n",
        "    joined_df[player] = joined_df['accounts_mentioned'].str.contains(f\"'username': '{player}'\").astype(np.bool)\n",
        "\n"
      ],
      "execution_count": null,
      "outputs": [
        {
          "output_type": "stream",
          "name": "stdout",
          "text": [
            "Extracting JPickford1...\n",
            "Extracting kylewalker2...\n",
            "Extracting LukeShaw23...\n",
            "Extracting _DeclanRice...\n",
            "Extracting HarryMaguire93...\n",
            "Extracting JackGrealish...\n",
            "Extracting JHenderson...\n",
            "Extracting HKane...\n",
            "Extracting sterling7...\n",
            "Extracting MarcusRashford...\n",
            "Extracting trippier2...\n",
            "Extracting deanhenderson...\n",
            "Extracting Kalvinphillips...\n",
            "Extracting OfficialTM_3...\n",
            "Extracting Sanchooo10...\n",
            "Extracting CalvertLewin14...\n",
            "Extracting masonmount_10...\n",
            "Extracting PhilFoden...\n",
            "Extracting BenChilwell...\n",
            "Extracting ben6white...\n",
            "Extracting samjohnstone50...\n",
            "Extracting reecejames_24...\n",
            "Extracting BukayoSaka87...\n",
            "Extracting BellinghamJude...\n",
            "Extracting joel_veltman...\n",
            "Extracting mdeligt_04...\n",
            "Extracting NathanAke...\n",
            "Extracting Stefandevrij...\n",
            "Extracting GWijnaldum...\n",
            "Extracting LuukdeJong9...\n",
            "Extracting Memphis...\n",
            "Extracting QPromes...\n",
            "Extracting pvanaanholt...\n",
            "Extracting TimKrul...\n",
            "Extracting DavyKlaassen...\n",
            "Extracting Dirono...\n",
            "Extracting RGravenberch...\n",
            "Extracting BlindDaley...\n",
            "Extracting DeJongFrenkie21...\n",
            "Extracting DenzelJMD2...\n",
            "Extracting Manuel_Neuer...\n",
            "Extracting ToniRuediger...\n",
            "Extracting MatzeGinter...\n",
            "Extracting matshummels...\n",
            "Extracting kaihavertz29...\n",
            "Extracting ToniKroos...\n",
            "Extracting KeVolland...\n",
            "Extracting SergeGnabry...\n",
            "Extracting Bernd_Leno...\n",
            "Extracting JamalMusiala...\n",
            "Extracting lukaskl96...\n",
            "Extracting leongoretzka_...\n",
            "Extracting leroy_sane...\n",
            "Extracting IlkayGuendogan...\n",
            "Extracting emrecan_...\n",
            "Extracting RobinKoch25...\n",
            "Extracting esmuellert_...\n",
            "Extracting MarshallDavid23...\n",
            "Extracting sodonnell15...\n",
            "Extracting andrewrobertso5...\n",
            "Extracting mctominay10...\n",
            "Extracting granthanley5...\n",
            "Extracting kierantierney1...\n",
            "Extracting jmcginn7...\n",
            "Extracting Callummcgregor8...\n",
            "Extracting Lyndon_Dykes...\n",
            "Extracting CheAdams_...\n",
            "Extracting CraigGordon01...\n",
            "Extracting declang31...\n",
            "Extracting LiamCooper__...\n",
            "Extracting 10DavidTurnbull...\n",
            "Extracting kevinnisbet16...\n",
            "Extracting np4tterson...\n",
            "Extracting billygilmourrr...\n",
            "Extracting Jack_Hendry2...\n",
            "Extracting Scottmckenna3...\n",
            "Extracting BenPavard28...\n",
            "Extracting kimpembe_3...\n",
            "Extracting raphaelvarane...\n",
            "Extracting clement_lenglet...\n",
            "Extracting paulpogba...\n",
            "Extracting AntoGriezmann...\n",
            "Extracting _OlivierGiroud_...\n",
            "Extracting KMbappe...\n",
            "Extracting CorentinTolisso...\n",
            "Extracting nglkante...\n",
            "Extracting KurtZouma...\n",
            "Extracting SteveMandanda...\n",
            "Extracting MoussaSissoko...\n",
            "Extracting LucasDigne...\n",
            "Extracting Benzema...\n",
            "Extracting LucasHernandez...\n",
            "Extracting WissBenYedder...\n",
            "Extracting mmseize...\n",
            "Extracting leodubois15...\n",
            "Extracting jkeey4...\n",
            "Extracting MarcusThuram...\n",
            "Extracting thibautcourtois...\n",
            "Extracting AlderweireldTob...\n",
            "Extracting thomasvermaelen...\n",
            "Extracting JanVertonghen...\n",
            "Extracting axelwitsel28...\n",
            "Extracting DeBruyneKev...\n",
            "Extracting RomeluLukaku9...\n",
            "Extracting hazardeden10...\n",
            "Extracting CarrascoY21...\n",
            "Extracting SMignolet...\n",
            "Extracting dries_mertens14...\n",
            "Extracting ThomMills...\n",
            "Extracting HazardThorgan8...\n",
            "Extracting VanakenHans...\n",
            "Extracting Jasondenayer...\n",
            "Extracting chrisbenteke...\n",
            "Extracting NChadli...\n",
            "Extracting mbatshuayi...\n",
            "Extracting LTrossard...\n",
            "Extracting JeremyDoku...\n",
            "Extracting dennispraet...\n"
          ]
        }
      ]
    },
    {
      "cell_type": "code",
      "metadata": {
        "id": "5yNOnyw_OBy7"
      },
      "source": [
        "joined_df = joined_df[\n",
        "    (joined_df[\"JPickford1\"]) |\n",
        "    (joined_df[\"kylewalker2\"]) |\n",
        "    (joined_df[\"LukeShaw23\"]) |\n",
        "    (joined_df[\"kylewalker2\"]) |\n",
        "    (joined_df[\"_DeclanRice\"]) |\n",
        "    (joined_df[\"HarryMaguire93\"]) |\n",
        "    (joined_df[\"JackGrealish\"]) |\n",
        "    (joined_df[\"JHenderson\"]) |\n",
        "    (joined_df[\"HKane\"]) |\n",
        "    (joined_df[\"sterling7\"]) |\n",
        "    (joined_df[\"MarcusRashford\"]) |\n",
        "    (joined_df[\"trippier2\"]) |\n",
        "    (joined_df[\"deanhenderson\"]) |\n",
        "    (joined_df[\"Kalvinphillips\"]) |\n",
        "    (joined_df[\"OfficialTM_3\"]) |\n",
        "    (joined_df[\"Sanchooo10\"]) |\n",
        "    (joined_df[\"CalvertLewin14\"]) |\n",
        "    (joined_df[\"masonmount_10\"]) |\n",
        "    (joined_df[\"PhilFoden\"]) |\n",
        "    (joined_df[\"BenChilwell\"]) |\n",
        "    (joined_df[\"ben6white\"]) |\n",
        "    (joined_df[\"samjohnstone50\"]) |\n",
        "    (joined_df[\"reecejames_24\"]) |\n",
        "    (joined_df[\"BukayoSaka87\"]) |\n",
        "    (joined_df[\"BellinghamJude\"]) |\n",
        "    (joined_df[\"joel_veltman\"]) |\n",
        "    (joined_df[\"mdeligt_04\"]) |\n",
        "    (joined_df[\"LukeShaw23\"]) |\n",
        "    (joined_df[\"NathanAke\"]) |\n",
        "    (joined_df[\"GWijnaldum\"]) |\n",
        "    (joined_df[\"LuukdeJong9\"]) |\n",
        "    (joined_df[\"Memphis\"]) |\n",
        "    (joined_df[\"QPromes\"]) |\n",
        "    (joined_df[\"pvanaanholt\"]) |\n",
        "    (joined_df[\"TimKrul\"]) |\n",
        "    (joined_df[\"DavyKlaassen\"]) |\n",
        "    (joined_df[\"Dirono\"]) |\n",
        "    (joined_df[\"RGravenberch\"]) |\n",
        "    (joined_df[\"BlindDaley\"]) |\n",
        "    (joined_df[\"DeJongFrenkie21\"]) |\n",
        "    (joined_df[\"DenzelJMD2\"]) |\n",
        "    (joined_df[\"Manuel_Neuer\"]) |\n",
        "    (joined_df[\"ToniRuediger\"]) |\n",
        "    (joined_df[\"MatzeGinter\"]) |\n",
        "    (joined_df[\"matshummels\"]) |\n",
        "    (joined_df[\"kaihavertz29\"]) |\n",
        "    (joined_df[\"ToniKroos\"]) |\n",
        "    (joined_df[\"KeVolland\"]) |\n",
        "    (joined_df[\"SergeGnabry\"]) |\n",
        "    (joined_df[\"Bernd_Leno\"]) |\n",
        "    (joined_df[\"JamalMusiala\"]) |\n",
        "    (joined_df[\"lukaskl96\"]) |\n",
        "    (joined_df[\"leongoretzka_\"]) |\n",
        "    (joined_df[\"leroy_sane\"]) |\n",
        "    (joined_df[\"IlkayGuendogan\"]) |\n",
        "    (joined_df[\"emrecan_\"]) |\n",
        "    (joined_df[\"RobinKoch25\"]) |\n",
        "    (joined_df[\"esmuellert_\"]) |\n",
        "    (joined_df[\"MarshallDavid23\"]) |\n",
        "    (joined_df[\"sodonnell15\"]) |\n",
        "    (joined_df[\"andrewrobertso5\"]) |\n",
        "    (joined_df[\"mctominay10\"]) |\n",
        "    (joined_df[\"granthanley5\"]) |\n",
        "    (joined_df[\"kierantierney1\"]) |\n",
        "    (joined_df[\"jmcginn7\"]) |\n",
        "    (joined_df[\"Callummcgregor8\"]) |\n",
        "    (joined_df[\"Lyndon_Dykes\"]) |\n",
        "    (joined_df[\"CheAdams_\"]) |\n",
        "    (joined_df[\"CraigGordon01\"]) |\n",
        "    (joined_df[\"declang31\"]) |\n",
        "    (joined_df[\"LiamCooper__\"]) |\n",
        "    (joined_df[\"10DavidTurnbull\"]) |\n",
        "    (joined_df[\"kevinnisbet16\"]) |\n",
        "    (joined_df[\"np4tterson\"]) |\n",
        "    (joined_df[\"billygilmourrr\"]) |\n",
        "    (joined_df[\"Jack_Hendry2\"]) |\n",
        "    (joined_df[\"Scottmckenna3\"]) |\n",
        "    (joined_df[\"BenPavard28\"]) |\n",
        "    (joined_df[\"kimpembe_3\"]) |\n",
        "    (joined_df[\"raphaelvarane\"]) |\n",
        "    (joined_df[\"clement_lenglet\"]) |\n",
        "    (joined_df[\"paulpogba\"]) |\n",
        "    (joined_df[\"AntoGriezmann\"]) |\n",
        "    (joined_df[\"_OlivierGiroud_\"]) |\n",
        "    (joined_df[\"KMbappe\"]) |\n",
        "    (joined_df[\"CorentinTolisso\"]) |\n",
        "    (joined_df[\"nglkante\"]) |\n",
        "    (joined_df[\"KurtZouma\"]) |\n",
        "    (joined_df[\"SteveMandanda\"]) |\n",
        "    (joined_df[\"MoussaSissoko\"]) |\n",
        "    (joined_df[\"LucasDigne\"]) |\n",
        "    (joined_df[\"Benzema\"]) |\n",
        "    (joined_df[\"LucasHernandez\"]) |\n",
        "    (joined_df[\"WissBenYedder\"]) |\n",
        "    (joined_df[\"mmseize\"]) |\n",
        "    (joined_df[\"leodubois15\"]) |\n",
        "    (joined_df[\"jkeey4\"]) |\n",
        "    (joined_df[\"ben6white\"]) |\n",
        "    (joined_df[\"MarcusThuram\"]) |\n",
        "    (joined_df[\"thibautcourtois\"]) |\n",
        "    (joined_df[\"AlderweireldTob\"]) |\n",
        "    (joined_df[\"thomasvermaelen\"]) |\n",
        "    (joined_df[\"JanVertonghen\"]) |\n",
        "    (joined_df[\"axelwitsel28\"]) |\n",
        "    (joined_df[\"DeBruyneKev\"]) |\n",
        "    (joined_df[\"RomeluLukaku9\"]) |\n",
        "    (joined_df[\"hazardeden10\"]) |\n",
        "    (joined_df[\"CarrascoY21\"]) |\n",
        "    (joined_df[\"SMignolet\"]) |\n",
        "    (joined_df[\"dries_mertens14\"]) |\n",
        "    (joined_df[\"ThomMills\"]) |\n",
        "    (joined_df[\"HazardThorgan8\"]) |\n",
        "    (joined_df[\"VanakenHans\"]) |\n",
        "    (joined_df[\"Jasondenayer\"]) |\n",
        "    (joined_df[\"chrisbenteke\"]) |\n",
        "    (joined_df[\"NChadli\"]) |\n",
        "    (joined_df[\"mbatshuayi\"]) |\n",
        "    (joined_df[\"LTrossard\"]) |\n",
        "    (joined_df[\"JeremyDoku\"]) |\n",
        "    (joined_df[\"dennispraet\"])\n",
        "    ]"
      ],
      "execution_count": null,
      "outputs": []
    },
    {
      "cell_type": "code",
      "metadata": {
        "id": "bLHkByk1WKgR",
        "outputId": "30f04dba-846c-47ed-98c5-ff2e63ae38c2",
        "colab": {
          "base_uri": "https://localhost:8080/"
        }
      },
      "source": [
        "print(len(joined_df))\n",
        "print(len(joined_df[(joined_df['created_at'] > '2021-06-19 08:10:18+00:00') & (joined_df['created_at'] < '2021-07-17 00:00:00+00:00')]))\n",
        "print(len(joined_df[(joined_df['created_at'] > '2021-07-11 00:00:00+00:00')]))"
      ],
      "execution_count": null,
      "outputs": [
        {
          "output_type": "stream",
          "name": "stdout",
          "text": [
            "1046319\n",
            "1046319\n",
            "457854\n"
          ]
        }
      ]
    },
    {
      "cell_type": "code",
      "metadata": {
        "colab": {
          "base_uri": "https://localhost:8080/",
          "height": 315
        },
        "id": "wdPYQAylLDTW",
        "outputId": "d66d557a-8f52-4e01-ac47-5e6fc6029c86"
      },
      "source": [
        "joined_df[joined_df['identity_attack_score'] != -1.0].hist(column = 'identity_attack_score', bins=50)"
      ],
      "execution_count": null,
      "outputs": [
        {
          "output_type": "execute_result",
          "data": {
            "text/plain": [
              "array([[<matplotlib.axes._subplots.AxesSubplot object at 0x7f8a9a975490>]],\n",
              "      dtype=object)"
            ]
          },
          "metadata": {
            "tags": []
          },
          "execution_count": 12
        },
        {
          "output_type": "display_data",
          "data": {
            "image/png": "[encoded data removed]",
            "text/plain": [
              "<Figure size 432x288 with 1 Axes>"
            ]
          },
          "metadata": {
            "tags": [],
            "needs_background": "light"
          }
        }
      ]
    },
    {
      "cell_type": "code",
      "metadata": {
        "colab": {
          "base_uri": "https://localhost:8080/",
          "height": 315
        },
        "id": "HHXBIGQ4MnaZ",
        "outputId": "15115665-acfb-4f68-ac96-51a0b7926bf4"
      },
      "source": [
        "joined_df[joined_df['threat_score'] != -1.0].hist(column = 'threat_score', bins=50)"
      ],
      "execution_count": null,
      "outputs": [
        {
          "output_type": "execute_result",
          "data": {
            "text/plain": [
              "array([[<matplotlib.axes._subplots.AxesSubplot object at 0x7f8a929b5ad0>]],\n",
              "      dtype=object)"
            ]
          },
          "metadata": {
            "tags": []
          },
          "execution_count": 13
        },
        {
          "output_type": "display_data",
          "data": {
            "image/png": "[encoded data removed]",
            "text/plain": [
              "<Figure size 432x288 with 1 Axes>"
            ]
          },
          "metadata": {
            "tags": [],
            "needs_background": "light"
          }
        }
      ]
    },
    {
      "cell_type": "code",
      "metadata": {
        "colab": {
          "base_uri": "https://localhost:8080/",
          "height": 315
        },
        "id": "xY1yeK4XMpii",
        "outputId": "7177d748-9045-4dd8-9397-1e8ff1d96865"
      },
      "source": [
        "joined_df[joined_df['severe_toxicity_score'] != -1.0].hist(column = 'severe_toxicity_score', bins=50)"
      ],
      "execution_count": null,
      "outputs": [
        {
          "output_type": "execute_result",
          "data": {
            "text/plain": [
              "array([[<matplotlib.axes._subplots.AxesSubplot object at 0x7f8aa3628e90>]],\n",
              "      dtype=object)"
            ]
          },
          "metadata": {
            "tags": []
          },
          "execution_count": 14
        },
        {
          "output_type": "display_data",
          "data": {
            "image/png": "[encoded data removed]",
            "text/plain": [
              "<Figure size 432x288 with 1 Axes>"
            ]
          },
          "metadata": {
            "tags": [],
            "needs_background": "light"
          }
        }
      ]
    },
    {
      "cell_type": "code",
      "metadata": {
        "colab": {
          "base_uri": "https://localhost:8080/",
          "height": 315
        },
        "id": "a7bcngTYMr9W",
        "outputId": "d10d1a66-08d6-440b-ec34-e7d09b4f36f6"
      },
      "source": [
        "joined_df[joined_df['insult_score'] != -1.0].hist(column = 'insult_score', bins=50)"
      ],
      "execution_count": null,
      "outputs": [
        {
          "output_type": "execute_result",
          "data": {
            "text/plain": [
              "array([[<matplotlib.axes._subplots.AxesSubplot object at 0x7f8aa368b5d0>]],\n",
              "      dtype=object)"
            ]
          },
          "metadata": {
            "tags": []
          },
          "execution_count": 15
        },
        {
          "output_type": "display_data",
          "data": {
            "image/png": "[encoded data removed]",
            "text/plain": [
              "<Figure size 432x288 with 1 Axes>"
            ]
          },
          "metadata": {
            "tags": [],
            "needs_background": "light"
          }
        }
      ]
    },
    {
      "cell_type": "code",
      "metadata": {
        "colab": {
          "base_uri": "https://localhost:8080/"
        },
        "id": "h0KjAXuqL1WK",
        "outputId": "209ad0c2-2c9b-44b7-d754-d739e007ec63"
      },
      "source": [
        "len_total = len(joined_df)\n",
        "threshold = 0.9\n",
        "\n",
        "tmp = pd.merge(joined_df[joined_df['identity_attack_score'] > 0.9], joined_df[joined_df['threat_score'] > 0.9], how='outer', on='tweet_id')\n",
        "tmp = pd.merge(tmp, joined_df[joined_df['severe_toxicity_score'] > 0.9], how='outer', on='tweet_id')\n",
        "# tmp = pd.merge(tmp, joined_df[joined_df['insult_score'] > 0.9], how='outer', on='tweet_id')\n",
        "len_90 = len(tmp)\n",
        "print(f\"Tweets with scores > 0.9: {len_90}, which is {(100 * (len_90 / len_total)):.2f}% of all tweets\")\n",
        "\n",
        "tmp = pd.merge(joined_df[joined_df['identity_attack_score'] > 0.8], joined_df[joined_df['threat_score'] > 0.8], how='outer', on='tweet_id')\n",
        "tmp = pd.merge(tmp, joined_df[joined_df['severe_toxicity_score'] > 0.8], how='outer', on='tweet_id')\n",
        "# tmp = pd.merge(tmp, joined_df[joined_df['insult_score'] > 0.8], how='outer', on='tweet_id')\n",
        "len_80 = len(tmp)\n",
        "print(f\"Tweets with scores > 0.8: {len_80}, which is {(100 * (len_80 / len_total)):.2f}% of all tweets\")\n",
        "\n",
        "tmp = pd.merge(joined_df[joined_df['identity_attack_score'] > 0.7], joined_df[joined_df['threat_score'] > 0.7], how='outer', on='tweet_id')\n",
        "tmp = pd.merge(tmp, joined_df[joined_df['severe_toxicity_score'] > 0.7], how='outer', on='tweet_id')\n",
        "# tmp = pd.merge(tmp, joined_df[joined_df['insult_score'] > 0.7], how='outer', on='tweet_id')\n",
        "len_70 = len(tmp)\n",
        "print(f\"Tweets with scores > 0.7: {len_70}, which is {(100 * (len_70 / len_total)):.2f}% of all tweets\")\n",
        "\n",
        "tmp = pd.merge(joined_df[joined_df['identity_attack_score'] > 0.6], joined_df[joined_df['threat_score'] > 0.6], how='outer', on='tweet_id')\n",
        "tmp = pd.merge(tmp, joined_df[joined_df['severe_toxicity_score'] > 0.6], how='outer', on='tweet_id')\n",
        "# tmp = pd.merge(tmp, joined_df[joined_df['insult_score'] > 0.6], how='outer', on='tweet_id')\n",
        "len_60 = len(tmp)\n",
        "print(f\"Tweets with scores > 0.6: {len_60}, which is {(100 * (len_60 / len_total)):.2f}% of all tweets\")\n",
        "\n",
        "tmp = pd.merge(joined_df[joined_df['identity_attack_score'] > 0.5], joined_df[joined_df['threat_score'] > 0.5], how='outer', on='tweet_id')\n",
        "tmp = pd.merge(tmp, joined_df[joined_df['severe_toxicity_score'] > 0.5], how='outer', on='tweet_id')\n",
        "# tmp = pd.merge(tmp, joined_df[joined_df['insult_score'] > 0.5], how='outer', on='tweet_id')\n",
        "len_50 = len(tmp)\n",
        "print(f\"Tweets with scores > 0.5: {len_50}, which is {(100 * (len_50 / len_total)):.2f}% of all tweets\")\n",
        "\n",
        "joined_df['persp_over_threshold'] = (joined_df['identity_attack_score'] > threshold) | (joined_df['threat_score'] > threshold) | (joined_df['severe_toxicity_score'] > threshold)\n",
        "                                                                                 \n",
        "del tmp\n"
      ],
      "execution_count": null,
      "outputs": [
        {
          "output_type": "stream",
          "text": [
            "Tweets with scores > 0.9: 3772, which is 0.36% of all tweets\n",
            "Tweets with scores > 0.8: 23370, which is 2.23% of all tweets\n",
            "Tweets with scores > 0.7: 46141, which is 4.41% of all tweets\n",
            "Tweets with scores > 0.6: 79231, which is 7.57% of all tweets\n",
            "Tweets with scores > 0.5: 120594, which is 11.53% of all tweets\n"
          ],
          "name": "stdout"
        }
      ]
    },
    {
      "cell_type": "code",
      "metadata": {
        "id": "ZCcBwcHYOdFN"
      },
      "source": [
        "# Maybe we don't need these cols and we can just calculate ad-hoc?\n",
        "for player in list_of_players:\n",
        "    joined_df[f'{player}_offensive'] = joined_df['persp_over_threshold'] & joined_df[player]"
      ],
      "execution_count": null,
      "outputs": []
    },
    {
      "cell_type": "code",
      "metadata": {
        "colab": {
          "base_uri": "https://localhost:8080/"
        },
        "id": "WoFR9CYoOniq",
        "outputId": "73789258-253f-4008-db07-ee7704b4514c"
      },
      "source": [
        "player_offensive_tweet_map = pd.DataFrame(columns=[\"username\",\n",
        "                                                   \"tweets_received\",\n",
        "                                                   \"offensive_tweets_received\",\n",
        "                                                   \"percentage_offensive\"\n",
        "                                                   ])\n",
        "\n",
        "i = 0\n",
        "for player in list_of_players:\n",
        "    off_tweets = joined_df[player + '_offensive'].sum()\n",
        "    tweets = joined_df[player].sum()\n",
        "    percentage = 100 * (off_tweets / tweets)\n",
        "    player_offensive_tweet_map.loc[i] = player, tweets, off_tweets, percentage\n",
        "    i += 1"
      ],
      "execution_count": null,
      "outputs": [
        {
          "output_type": "stream",
          "text": [
            "/usr/local/lib/python3.7/dist-packages/ipykernel_launcher.py:11: RuntimeWarning:\n",
            "\n",
            "invalid value encountered in long_scalars\n",
            "\n"
          ],
          "name": "stderr"
        }
      ]
    },
    {
      "cell_type": "code",
      "metadata": {
        "id": "lamR6eWeqyFC",
        "colab": {
          "base_uri": "https://localhost:8080/"
        },
        "outputId": "077609fc-b7d9-4bfb-cafd-337a960a2955"
      },
      "source": [
        "player_offensive_tweet_map.sort_values('offensive_tweets_received', axis=0, ascending=False, inplace=True)\n",
        "offensive_tweets_all = joined_df['persp_over_threshold'].sum()\n",
        "offensive_tweets_top_10 = player_offensive_tweet_map['offensive_tweets_received'].head(10).sum()\n",
        "top_10_proportion = offensive_tweets_top_10 / offensive_tweets_all\n",
        "print(f\"Total offensive tweets: {offensive_tweets_all}\")\n",
        "print(f\"Top 10 proportion: {top_10_proportion * 100}%\")\n",
        "\n",
        "print(player_offensive_tweet_map[['username', 'offensive_tweets_received']].head(10))"
      ],
      "execution_count": null,
      "outputs": [
        {
          "output_type": "stream",
          "text": [
            "Total offensive tweets: 3772\n",
            "Top 10 proportion: 89.47507953340403%\n",
            "          username offensive_tweets_received\n",
            "9   MarcusRashford                      1182\n",
            "22    BukayoSaka87                       444\n",
            "8        sterling7                       419\n",
            "7            HKane                       412\n",
            "81   AntoGriezmann                       247\n",
            "14      Sanchooo10                       247\n",
            "5     JackGrealish                       127\n",
            "83         KMbappe                       125\n",
            "13    OfficialTM_3                        95\n",
            "6       JHenderson                        77\n"
          ],
          "name": "stdout"
        }
      ]
    },
    {
      "cell_type": "code",
      "metadata": {
        "id": "0i2wT10-_Npt"
      },
      "source": [
        "# Saving a file for manual review, taken at threshold 90 - one-off ad-hoc task\n",
        "# joined_df[['tweet_id', 'tweet_text']][joined_df['persp_over_threshold'] == True].to_csv(\"/content/drive/MyDrive/University/Dissertation/evaluation/tweets_persp.csv\", index=False)\n",
        "\n",
        "# joined_df[['tweet_id', 'tweet_text']][joined_df['persp_over_threshold'] == False].sample(1000).to_csv(\"/content/drive/MyDrive/University/Dissertation/evaluation/inoffensive.csv\", index=False)"
      ],
      "execution_count": null,
      "outputs": []
    },
    {
      "cell_type": "code",
      "metadata": {
        "id": "ABQH2J8XZnXK"
      },
      "source": [
        "# Write to file in prep for regression\n",
        "tweets_regression_file = root_path + \"/regression_tweets.csv\"\n",
        "joined_df.to_csv(tweets_regression_file, index=False)"
      ],
      "execution_count": null,
      "outputs": []
    },
    {
      "cell_type": "markdown",
      "metadata": {
        "id": "5AbMCCG1ZkAB"
      },
      "source": [
        "# Figures"
      ]
    },
    {
      "cell_type": "code",
      "metadata": {
        "id": "LRt_FqRIPzzR"
      },
      "source": [
        "def create_frequency_plot(df, y_values):\n",
        "    fig = go.Figure()\n",
        "    for y_value in y_values:\n",
        "        fig.add_trace(go.Scatter(x=df['created_at'], y=df[y_value],\n",
        "                      mode='lines',\n",
        "                      name=y_value))\n",
        "    return fig"
      ],
      "execution_count": null,
      "outputs": []
    },
    {
      "cell_type": "code",
      "metadata": {
        "id": "7BafaxKlP6C0"
      },
      "source": [
        "INTERVAL = pd.offsets.Minute(60)"
      ],
      "execution_count": null,
      "outputs": []
    },
    {
      "cell_type": "code",
      "metadata": {
        "colab": {
          "base_uri": "https://localhost:8080/",
          "height": 542
        },
        "id": "p572inFRP1UZ",
        "outputId": "3f36e217-9a29-47ca-dd7d-d5ee810d2c57"
      },
      "source": [
        "# Plot all tweets frequency\n",
        "df = joined_df.resample(INTERVAL, on='created_at')['tweet_id'].count().reset_index()\n",
        "fig = create_frequency_plot(df, ['tweet_id'])\n",
        "fig.show()"
      ],
      "execution_count": null,
      "outputs": [
        {
          "output_type": "display_data",
          "data": {
            "text/html": [
              "<html>\n",
              "<head><meta charset=\"utf-8\" /></head>\n",
              "<body>\n",
              "    <div>\n",
              "            <script src=\"https://cdnjs.cloudflare.com/ajax/libs/mathjax/2.7.5/MathJax.js?config=TeX-AMS-MML_SVG\"></script><script type=\"text/javascript\">if (window.MathJax) {MathJax.Hub.Config({SVG: {font: \"STIX-Web\"}});}</script>\n",
              "                <script type=\"text/javascript\">window.PlotlyConfig = {MathJaxConfig: 'local'};</script>\n",
              "        <script src=\"https://cdn.plot.ly/plotly-latest.min.js\"></script>    \n",
              "            <div id=\"159d0769-bbf4-4bfb-b989-b7f67347e148\" class=\"plotly-graph-div\" style=\"height:525px; width:100%;\"></div>\n",
              "            <script type=\"text/javascript\">\n",
              "                \n",
              "                    window.PLOTLYENV=window.PLOTLYENV || {};\n",
              "                    \n",
              "                if (document.getElementById(\"159d0769-bbf4-4bfb-b989-b7f67347e148\")) {\n",
              "                    Plotly.newPlot(\n",
              "                        '159d0769-bbf4-4bfb-b989-b7f67347e148',\n",
              "                        [{\"mode\": \"lines\", \"name\": \"tweet_id\", \"type\": \"scatter\", \"x\": [\"2021-06-19T08:00:00+00:00\", \"2021-06-19T09:00:00+00:00\", \"2021-06-19T10:00:00+00:00\", \"2021-06-19T11:00:00+00:00\", \"2021-06-19T12:00:00+00:00\", \"2021-06-19T13:00:00+00:00\", \"2021-06-19T14:00:00+00:00\", \"2021-06-19T15:00:00+00:00\", \"2021-06-19T16:00:00+00:00\", \"2021-06-19T17:00:00+00:00\", \"2021-06-19T18:00:00+00:00\", \"2021-06-19T19:00:00+00:00\", \"2021-06-19T20:00:00+00:00\", \"2021-06-19T21:00:00+00:00\", \"2021-06-19T22:00:00+00:00\", \"2021-06-19T23:00:00+00:00\", \"2021-06-20T00:00:00+00:00\", \"2021-06-20T01:00:00+00:00\", \"2021-06-20T02:00:00+00:00\", \"2021-06-20T03:00:00+00:00\", \"2021-06-20T04:00:00+00:00\", \"2021-06-20T05:00:00+00:00\", \"2021-06-20T06:00:00+00:00\", \"2021-06-20T07:00:00+00:00\", \"2021-06-20T08:00:00+00:00\", \"2021-06-20T09:00:00+00:00\", \"2021-06-20T10:00:00+00:00\", \"2021-06-20T11:00:00+00:00\", \"2021-06-20T12:00:00+00:00\", \"2021-06-20T13:00:00+00:00\", \"2021-06-20T14:00:00+00:00\", \"2021-06-20T15:00:00+00:00\", \"2021-06-20T16:00:00+00:00\", \"2021-06-20T17:00:00+00:00\", \"2021-06-20T18:00:00+00:00\", \"2021-06-20T19:00:00+00:00\", \"2021-06-20T20:00:00+00:00\", \"2021-06-20T21:00:00+00:00\", \"2021-06-20T22:00:00+00:00\", \"2021-06-20T23:00:00+00:00\", \"2021-06-21T00:00:00+00:00\", \"2021-06-21T01:00:00+00:00\", \"2021-06-21T02:00:00+00:00\", \"2021-06-21T03:00:00+00:00\", \"2021-06-21T04:00:00+00:00\", \"2021-06-21T05:00:00+00:00\", \"2021-06-21T06:00:00+00:00\", \"2021-06-21T07:00:00+00:00\", \"2021-06-21T08:00:00+00:00\", \"2021-06-21T09:00:00+00:00\", \"2021-06-21T10:00:00+00:00\", \"2021-06-21T11:00:00+00:00\", \"2021-06-21T12:00:00+00:00\", \"2021-06-21T13:00:00+00:00\", \"2021-06-21T14:00:00+00:00\", \"2021-06-21T15:00:00+00:00\", \"2021-06-21T16:00:00+00:00\", \"2021-06-21T17:00:00+00:00\", \"2021-06-21T18:00:00+00:00\", \"2021-06-21T19:00:00+00:00\", \"2021-06-21T20:00:00+00:00\", \"2021-06-21T21:00:00+00:00\", \"2021-06-21T22:00:00+00:00\", \"2021-06-21T23:00:00+00:00\", \"2021-06-22T00:00:00+00:00\", \"2021-06-22T01:00:00+00:00\", \"2021-06-22T02:00:00+00:00\", \"2021-06-22T03:00:00+00:00\", \"2021-06-22T04:00:00+00:00\", \"2021-06-22T05:00:00+00:00\", \"2021-06-22T06:00:00+00:00\", \"2021-06-22T07:00:00+00:00\", \"2021-06-22T08:00:00+00:00\", \"2021-06-22T09:00:00+00:00\", \"2021-06-22T10:00:00+00:00\", \"2021-06-22T11:00:00+00:00\", \"2021-06-22T12:00:00+00:00\", \"2021-06-22T13:00:00+00:00\", \"2021-06-22T14:00:00+00:00\", \"2021-06-22T15:00:00+00:00\", \"2021-06-22T16:00:00+00:00\", \"2021-06-22T17:00:00+00:00\", \"2021-06-22T18:00:00+00:00\", \"2021-06-22T19:00:00+00:00\", \"2021-06-22T20:00:00+00:00\", \"2021-06-22T21:00:00+00:00\", \"2021-06-22T22:00:00+00:00\", \"2021-06-22T23:00:00+00:00\", \"2021-06-23T00:00:00+00:00\", \"2021-06-23T01:00:00+00:00\", \"2021-06-23T02:00:00+00:00\", \"2021-06-23T03:00:00+00:00\", \"2021-06-23T04:00:00+00:00\", \"2021-06-23T05:00:00+00:00\", \"2021-06-23T06:00:00+00:00\", \"2021-06-23T07:00:00+00:00\", \"2021-06-23T08:00:00+00:00\", \"2021-06-23T09:00:00+00:00\", \"2021-06-23T10:00:00+00:00\", \"2021-06-23T11:00:00+00:00\", \"2021-06-23T12:00:00+00:00\", \"2021-06-23T13:00:00+00:00\", \"2021-06-23T14:00:00+00:00\", \"2021-06-23T15:00:00+00:00\", \"2021-06-23T16:00:00+00:00\", \"2021-06-23T17:00:00+00:00\", \"2021-06-23T18:00:00+00:00\", \"2021-06-23T19:00:00+00:00\", \"2021-06-23T20:00:00+00:00\", \"2021-06-23T21:00:00+00:00\", \"2021-06-23T22:00:00+00:00\", \"2021-06-23T23:00:00+00:00\", \"2021-06-24T00:00:00+00:00\", \"2021-06-24T01:00:00+00:00\", \"2021-06-24T02:00:00+00:00\", \"2021-06-24T03:00:00+00:00\", \"2021-06-24T04:00:00+00:00\", \"2021-06-24T05:00:00+00:00\", \"2021-06-24T06:00:00+00:00\", \"2021-06-24T07:00:00+00:00\", \"2021-06-24T08:00:00+00:00\", \"2021-06-24T09:00:00+00:00\", \"2021-06-24T10:00:00+00:00\", \"2021-06-24T11:00:00+00:00\", \"2021-06-24T12:00:00+00:00\", \"2021-06-24T13:00:00+00:00\", \"2021-06-24T14:00:00+00:00\", \"2021-06-24T15:00:00+00:00\", \"2021-06-24T16:00:00+00:00\", \"2021-06-24T17:00:00+00:00\", \"2021-06-24T18:00:00+00:00\", \"2021-06-24T19:00:00+00:00\", \"2021-06-24T20:00:00+00:00\", \"2021-06-24T21:00:00+00:00\", \"2021-06-24T22:00:00+00:00\", \"2021-06-24T23:00:00+00:00\", \"2021-06-25T00:00:00+00:00\", \"2021-06-25T01:00:00+00:00\", \"2021-06-25T02:00:00+00:00\", \"2021-06-25T03:00:00+00:00\", \"2021-06-25T04:00:00+00:00\", \"2021-06-25T05:00:00+00:00\", \"2021-06-25T06:00:00+00:00\", \"2021-06-25T07:00:00+00:00\", \"2021-06-25T08:00:00+00:00\", \"2021-06-25T09:00:00+00:00\", \"2021-06-25T10:00:00+00:00\", \"2021-06-25T11:00:00+00:00\", \"2021-06-25T12:00:00+00:00\", \"2021-06-25T13:00:00+00:00\", \"2021-06-25T14:00:00+00:00\", \"2021-06-25T15:00:00+00:00\", \"2021-06-25T16:00:00+00:00\", \"2021-06-25T17:00:00+00:00\", \"2021-06-25T18:00:00+00:00\", \"2021-06-25T19:00:00+00:00\", \"2021-06-25T20:00:00+00:00\", \"2021-06-25T21:00:00+00:00\", \"2021-06-25T22:00:00+00:00\", \"2021-06-25T23:00:00+00:00\", \"2021-06-26T00:00:00+00:00\", \"2021-06-26T01:00:00+00:00\", \"2021-06-26T02:00:00+00:00\", \"2021-06-26T03:00:00+00:00\", \"2021-06-26T04:00:00+00:00\", \"2021-06-26T05:00:00+00:00\", \"2021-06-26T06:00:00+00:00\", \"2021-06-26T07:00:00+00:00\", \"2021-06-26T08:00:00+00:00\", \"2021-06-26T09:00:00+00:00\", \"2021-06-26T10:00:00+00:00\", \"2021-06-26T11:00:00+00:00\", \"2021-06-26T12:00:00+00:00\", \"2021-06-26T13:00:00+00:00\", \"2021-06-26T14:00:00+00:00\", \"2021-06-26T15:00:00+00:00\", \"2021-06-26T16:00:00+00:00\", \"2021-06-26T17:00:00+00:00\", \"2021-06-26T18:00:00+00:00\", \"2021-06-26T19:00:00+00:00\", \"2021-06-26T20:00:00+00:00\", \"2021-06-26T21:00:00+00:00\", \"2021-06-26T22:00:00+00:00\", \"2021-06-26T23:00:00+00:00\", \"2021-06-27T00:00:00+00:00\", \"2021-06-27T01:00:00+00:00\", \"2021-06-27T02:00:00+00:00\", \"2021-06-27T03:00:00+00:00\", \"2021-06-27T04:00:00+00:00\", \"2021-06-27T05:00:00+00:00\", \"2021-06-27T06:00:00+00:00\", \"2021-06-27T07:00:00+00:00\", \"2021-06-27T08:00:00+00:00\", \"2021-06-27T09:00:00+00:00\", \"2021-06-27T10:00:00+00:00\", \"2021-06-27T11:00:00+00:00\", \"2021-06-27T12:00:00+00:00\", \"2021-06-27T13:00:00+00:00\", \"2021-06-27T14:00:00+00:00\", \"2021-06-27T15:00:00+00:00\", \"2021-06-27T16:00:00+00:00\", \"2021-06-27T17:00:00+00:00\", \"2021-06-27T18:00:00+00:00\", \"2021-06-27T19:00:00+00:00\", \"2021-06-27T20:00:00+00:00\", \"2021-06-27T21:00:00+00:00\", \"2021-06-27T22:00:00+00:00\", \"2021-06-27T23:00:00+00:00\", \"2021-06-28T00:00:00+00:00\", \"2021-06-28T01:00:00+00:00\", \"2021-06-28T02:00:00+00:00\", \"2021-06-28T03:00:00+00:00\", \"2021-06-28T04:00:00+00:00\", \"2021-06-28T05:00:00+00:00\", \"2021-06-28T06:00:00+00:00\", \"2021-06-28T07:00:00+00:00\", \"2021-06-28T08:00:00+00:00\", \"2021-06-28T09:00:00+00:00\", \"2021-06-28T10:00:00+00:00\", \"2021-06-28T11:00:00+00:00\", \"2021-06-28T12:00:00+00:00\", \"2021-06-28T13:00:00+00:00\", \"2021-06-28T14:00:00+00:00\", \"2021-06-28T15:00:00+00:00\", \"2021-06-28T16:00:00+00:00\", \"2021-06-28T17:00:00+00:00\", \"2021-06-28T18:00:00+00:00\", \"2021-06-28T19:00:00+00:00\", \"2021-06-28T20:00:00+00:00\", \"2021-06-28T21:00:00+00:00\", \"2021-06-28T22:00:00+00:00\", \"2021-06-28T23:00:00+00:00\", \"2021-06-29T00:00:00+00:00\", \"2021-06-29T01:00:00+00:00\", \"2021-06-29T02:00:00+00:00\", \"2021-06-29T03:00:00+00:00\", \"2021-06-29T04:00:00+00:00\", \"2021-06-29T05:00:00+00:00\", \"2021-06-29T06:00:00+00:00\", \"2021-06-29T07:00:00+00:00\", \"2021-06-29T08:00:00+00:00\", \"2021-06-29T09:00:00+00:00\", \"2021-06-29T10:00:00+00:00\", \"2021-06-29T11:00:00+00:00\", \"2021-06-29T12:00:00+00:00\", \"2021-06-29T13:00:00+00:00\", \"2021-06-29T14:00:00+00:00\", \"2021-06-29T15:00:00+00:00\", \"2021-06-29T16:00:00+00:00\", \"2021-06-29T17:00:00+00:00\", \"2021-06-29T18:00:00+00:00\", \"2021-06-29T19:00:00+00:00\", \"2021-06-29T20:00:00+00:00\", \"2021-06-29T21:00:00+00:00\", \"2021-06-29T22:00:00+00:00\", \"2021-06-29T23:00:00+00:00\", \"2021-06-30T00:00:00+00:00\", \"2021-06-30T01:00:00+00:00\", \"2021-06-30T02:00:00+00:00\", \"2021-06-30T03:00:00+00:00\", \"2021-06-30T04:00:00+00:00\", \"2021-06-30T05:00:00+00:00\", \"2021-06-30T06:00:00+00:00\", \"2021-06-30T07:00:00+00:00\", \"2021-06-30T08:00:00+00:00\", \"2021-06-30T09:00:00+00:00\", \"2021-06-30T10:00:00+00:00\", \"2021-06-30T11:00:00+00:00\", \"2021-06-30T12:00:00+00:00\", \"2021-06-30T13:00:00+00:00\", \"2021-06-30T14:00:00+00:00\", \"2021-06-30T15:00:00+00:00\", \"2021-06-30T16:00:00+00:00\", \"2021-06-30T17:00:00+00:00\", \"2021-06-30T18:00:00+00:00\", \"2021-06-30T19:00:00+00:00\", \"2021-06-30T20:00:00+00:00\", \"2021-06-30T21:00:00+00:00\", \"2021-06-30T22:00:00+00:00\", \"2021-06-30T23:00:00+00:00\", \"2021-07-01T00:00:00+00:00\", \"2021-07-01T01:00:00+00:00\", \"2021-07-01T02:00:00+00:00\", \"2021-07-01T03:00:00+00:00\", \"2021-07-01T04:00:00+00:00\", \"2021-07-01T05:00:00+00:00\", \"2021-07-01T06:00:00+00:00\", \"2021-07-01T07:00:00+00:00\", \"2021-07-01T08:00:00+00:00\", \"2021-07-01T09:00:00+00:00\", \"2021-07-01T10:00:00+00:00\", \"2021-07-01T11:00:00+00:00\", \"2021-07-01T12:00:00+00:00\", \"2021-07-01T13:00:00+00:00\", \"2021-07-01T14:00:00+00:00\", \"2021-07-01T15:00:00+00:00\", \"2021-07-01T16:00:00+00:00\", \"2021-07-01T17:00:00+00:00\", \"2021-07-01T18:00:00+00:00\", \"2021-07-01T19:00:00+00:00\", \"2021-07-01T20:00:00+00:00\", \"2021-07-01T21:00:00+00:00\", \"2021-07-01T22:00:00+00:00\", \"2021-07-01T23:00:00+00:00\", \"2021-07-02T00:00:00+00:00\", \"2021-07-02T01:00:00+00:00\", \"2021-07-02T02:00:00+00:00\", \"2021-07-02T03:00:00+00:00\", \"2021-07-02T04:00:00+00:00\", \"2021-07-02T05:00:00+00:00\", \"2021-07-02T06:00:00+00:00\", \"2021-07-02T07:00:00+00:00\", \"2021-07-02T08:00:00+00:00\", \"2021-07-02T09:00:00+00:00\", \"2021-07-02T10:00:00+00:00\", \"2021-07-02T11:00:00+00:00\", \"2021-07-02T12:00:00+00:00\", \"2021-07-02T13:00:00+00:00\", \"2021-07-02T14:00:00+00:00\", \"2021-07-02T15:00:00+00:00\", \"2021-07-02T16:00:00+00:00\", \"2021-07-02T17:00:00+00:00\", \"2021-07-02T18:00:00+00:00\", \"2021-07-02T19:00:00+00:00\", \"2021-07-02T20:00:00+00:00\", \"2021-07-02T21:00:00+00:00\", \"2021-07-02T22:00:00+00:00\", \"2021-07-02T23:00:00+00:00\", \"2021-07-03T00:00:00+00:00\", \"2021-07-03T01:00:00+00:00\", \"2021-07-03T02:00:00+00:00\", \"2021-07-03T03:00:00+00:00\", \"2021-07-03T04:00:00+00:00\", \"2021-07-03T05:00:00+00:00\", \"2021-07-03T06:00:00+00:00\", \"2021-07-03T07:00:00+00:00\", \"2021-07-03T08:00:00+00:00\", \"2021-07-03T09:00:00+00:00\", \"2021-07-03T10:00:00+00:00\", \"2021-07-03T11:00:00+00:00\", \"2021-07-03T12:00:00+00:00\", \"2021-07-03T13:00:00+00:00\", \"2021-07-03T14:00:00+00:00\", \"2021-07-03T15:00:00+00:00\", \"2021-07-03T16:00:00+00:00\", \"2021-07-03T17:00:00+00:00\", \"2021-07-03T18:00:00+00:00\", \"2021-07-03T19:00:00+00:00\", \"2021-07-03T20:00:00+00:00\", \"2021-07-03T21:00:00+00:00\", \"2021-07-03T22:00:00+00:00\", \"2021-07-03T23:00:00+00:00\", \"2021-07-04T00:00:00+00:00\", \"2021-07-04T01:00:00+00:00\", \"2021-07-04T02:00:00+00:00\", \"2021-07-04T03:00:00+00:00\", \"2021-07-04T04:00:00+00:00\", \"2021-07-04T05:00:00+00:00\", \"2021-07-04T06:00:00+00:00\", \"2021-07-04T07:00:00+00:00\", \"2021-07-04T08:00:00+00:00\", \"2021-07-04T09:00:00+00:00\", \"2021-07-04T10:00:00+00:00\", \"2021-07-04T11:00:00+00:00\", \"2021-07-04T12:00:00+00:00\", \"2021-07-04T13:00:00+00:00\", \"2021-07-04T14:00:00+00:00\", \"2021-07-04T15:00:00+00:00\", \"2021-07-04T16:00:00+00:00\", \"2021-07-04T17:00:00+00:00\", \"2021-07-04T18:00:00+00:00\", \"2021-07-04T19:00:00+00:00\", \"2021-07-04T20:00:00+00:00\", \"2021-07-04T21:00:00+00:00\", \"2021-07-04T22:00:00+00:00\", \"2021-07-04T23:00:00+00:00\", \"2021-07-05T00:00:00+00:00\", \"2021-07-05T01:00:00+00:00\", \"2021-07-05T02:00:00+00:00\", \"2021-07-05T03:00:00+00:00\", \"2021-07-05T04:00:00+00:00\", \"2021-07-05T05:00:00+00:00\", \"2021-07-05T06:00:00+00:00\", \"2021-07-05T07:00:00+00:00\", \"2021-07-05T08:00:00+00:00\", \"2021-07-05T09:00:00+00:00\", \"2021-07-05T10:00:00+00:00\", \"2021-07-05T11:00:00+00:00\", \"2021-07-05T12:00:00+00:00\", \"2021-07-05T13:00:00+00:00\", \"2021-07-05T14:00:00+00:00\", \"2021-07-05T15:00:00+00:00\", \"2021-07-05T16:00:00+00:00\", \"2021-07-05T17:00:00+00:00\", \"2021-07-05T18:00:00+00:00\", \"2021-07-05T19:00:00+00:00\", \"2021-07-05T20:00:00+00:00\", \"2021-07-05T21:00:00+00:00\", \"2021-07-05T22:00:00+00:00\", \"2021-07-05T23:00:00+00:00\", \"2021-07-06T00:00:00+00:00\", \"2021-07-06T01:00:00+00:00\", \"2021-07-06T02:00:00+00:00\", \"2021-07-06T03:00:00+00:00\", \"2021-07-06T04:00:00+00:00\", \"2021-07-06T05:00:00+00:00\", \"2021-07-06T06:00:00+00:00\", \"2021-07-06T07:00:00+00:00\", \"2021-07-06T08:00:00+00:00\", \"2021-07-06T09:00:00+00:00\", \"2021-07-06T10:00:00+00:00\", \"2021-07-06T11:00:00+00:00\", \"2021-07-06T12:00:00+00:00\", \"2021-07-06T13:00:00+00:00\", \"2021-07-06T14:00:00+00:00\", \"2021-07-06T15:00:00+00:00\", \"2021-07-06T16:00:00+00:00\", \"2021-07-06T17:00:00+00:00\", \"2021-07-06T18:00:00+00:00\", \"2021-07-06T19:00:00+00:00\", \"2021-07-06T20:00:00+00:00\", \"2021-07-06T21:00:00+00:00\", \"2021-07-06T22:00:00+00:00\", \"2021-07-06T23:00:00+00:00\", \"2021-07-07T00:00:00+00:00\", \"2021-07-07T01:00:00+00:00\", \"2021-07-07T02:00:00+00:00\", \"2021-07-07T03:00:00+00:00\", \"2021-07-07T04:00:00+00:00\", \"2021-07-07T05:00:00+00:00\", \"2021-07-07T06:00:00+00:00\", \"2021-07-07T07:00:00+00:00\", \"2021-07-07T08:00:00+00:00\", \"2021-07-07T09:00:00+00:00\", \"2021-07-07T10:00:00+00:00\", \"2021-07-07T11:00:00+00:00\", \"2021-07-07T12:00:00+00:00\", \"2021-07-07T13:00:00+00:00\", \"2021-07-07T14:00:00+00:00\", \"2021-07-07T15:00:00+00:00\", \"2021-07-07T16:00:00+00:00\", \"2021-07-07T17:00:00+00:00\", \"2021-07-07T18:00:00+00:00\", \"2021-07-07T19:00:00+00:00\", \"2021-07-07T20:00:00+00:00\", \"2021-07-07T21:00:00+00:00\", \"2021-07-07T22:00:00+00:00\", \"2021-07-07T23:00:00+00:00\", \"2021-07-08T00:00:00+00:00\", \"2021-07-08T01:00:00+00:00\", \"2021-07-08T02:00:00+00:00\", \"2021-07-08T03:00:00+00:00\", \"2021-07-08T04:00:00+00:00\", \"2021-07-08T05:00:00+00:00\", \"2021-07-08T06:00:00+00:00\", \"2021-07-08T07:00:00+00:00\", \"2021-07-08T08:00:00+00:00\", \"2021-07-08T09:00:00+00:00\", \"2021-07-08T10:00:00+00:00\", \"2021-07-08T11:00:00+00:00\", \"2021-07-08T12:00:00+00:00\", \"2021-07-08T13:00:00+00:00\", \"2021-07-08T14:00:00+00:00\", \"2021-07-08T15:00:00+00:00\", \"2021-07-08T16:00:00+00:00\", \"2021-07-08T17:00:00+00:00\", \"2021-07-08T18:00:00+00:00\", \"2021-07-08T19:00:00+00:00\", \"2021-07-08T20:00:00+00:00\", \"2021-07-08T21:00:00+00:00\", \"2021-07-08T22:00:00+00:00\", \"2021-07-08T23:00:00+00:00\", \"2021-07-09T00:00:00+00:00\", \"2021-07-09T01:00:00+00:00\", \"2021-07-09T02:00:00+00:00\", \"2021-07-09T03:00:00+00:00\", \"2021-07-09T04:00:00+00:00\", \"2021-07-09T05:00:00+00:00\", \"2021-07-09T06:00:00+00:00\", \"2021-07-09T07:00:00+00:00\", \"2021-07-09T08:00:00+00:00\", \"2021-07-09T09:00:00+00:00\", \"2021-07-09T10:00:00+00:00\", \"2021-07-09T11:00:00+00:00\", \"2021-07-09T12:00:00+00:00\", \"2021-07-09T13:00:00+00:00\", \"2021-07-09T14:00:00+00:00\", \"2021-07-09T15:00:00+00:00\", \"2021-07-09T16:00:00+00:00\", \"2021-07-09T17:00:00+00:00\", \"2021-07-09T18:00:00+00:00\", \"2021-07-09T19:00:00+00:00\", \"2021-07-09T20:00:00+00:00\", \"2021-07-09T21:00:00+00:00\", \"2021-07-09T22:00:00+00:00\", \"2021-07-09T23:00:00+00:00\", \"2021-07-10T00:00:00+00:00\", \"2021-07-10T01:00:00+00:00\", \"2021-07-10T02:00:00+00:00\", \"2021-07-10T03:00:00+00:00\", \"2021-07-10T04:00:00+00:00\", \"2021-07-10T05:00:00+00:00\", \"2021-07-10T06:00:00+00:00\", \"2021-07-10T07:00:00+00:00\", \"2021-07-10T08:00:00+00:00\", \"2021-07-10T09:00:00+00:00\", \"2021-07-10T10:00:00+00:00\", \"2021-07-10T11:00:00+00:00\", \"2021-07-10T12:00:00+00:00\", \"2021-07-10T13:00:00+00:00\", \"2021-07-10T14:00:00+00:00\", \"2021-07-10T15:00:00+00:00\", \"2021-07-10T16:00:00+00:00\", \"2021-07-10T17:00:00+00:00\", \"2021-07-10T18:00:00+00:00\", \"2021-07-10T19:00:00+00:00\", \"2021-07-10T20:00:00+00:00\", \"2021-07-10T21:00:00+00:00\", \"2021-07-10T22:00:00+00:00\", \"2021-07-10T23:00:00+00:00\", \"2021-07-11T00:00:00+00:00\", \"2021-07-11T01:00:00+00:00\", \"2021-07-11T02:00:00+00:00\", \"2021-07-11T03:00:00+00:00\", \"2021-07-11T04:00:00+00:00\", \"2021-07-11T05:00:00+00:00\", \"2021-07-11T06:00:00+00:00\", \"2021-07-11T07:00:00+00:00\", \"2021-07-11T08:00:00+00:00\", \"2021-07-11T09:00:00+00:00\", \"2021-07-11T10:00:00+00:00\", \"2021-07-11T11:00:00+00:00\", \"2021-07-11T12:00:00+00:00\", \"2021-07-11T13:00:00+00:00\", \"2021-07-11T14:00:00+00:00\", \"2021-07-11T15:00:00+00:00\", \"2021-07-11T16:00:00+00:00\", \"2021-07-11T17:00:00+00:00\", \"2021-07-11T18:00:00+00:00\", \"2021-07-11T19:00:00+00:00\", \"2021-07-11T20:00:00+00:00\", \"2021-07-11T21:00:00+00:00\", \"2021-07-11T22:00:00+00:00\", \"2021-07-11T23:00:00+00:00\", \"2021-07-12T00:00:00+00:00\", \"2021-07-12T01:00:00+00:00\", \"2021-07-12T02:00:00+00:00\", \"2021-07-12T03:00:00+00:00\", \"2021-07-12T04:00:00+00:00\", \"2021-07-12T05:00:00+00:00\", \"2021-07-12T06:00:00+00:00\", \"2021-07-12T07:00:00+00:00\", \"2021-07-12T08:00:00+00:00\", \"2021-07-12T09:00:00+00:00\", \"2021-07-12T10:00:00+00:00\", \"2021-07-12T11:00:00+00:00\", \"2021-07-12T12:00:00+00:00\", \"2021-07-12T13:00:00+00:00\", \"2021-07-12T14:00:00+00:00\", \"2021-07-12T15:00:00+00:00\", \"2021-07-12T16:00:00+00:00\", \"2021-07-12T17:00:00+00:00\", \"2021-07-12T18:00:00+00:00\", \"2021-07-12T19:00:00+00:00\", \"2021-07-12T20:00:00+00:00\", \"2021-07-12T21:00:00+00:00\", \"2021-07-12T22:00:00+00:00\", \"2021-07-12T23:00:00+00:00\", \"2021-07-13T00:00:00+00:00\", \"2021-07-13T01:00:00+00:00\", \"2021-07-13T02:00:00+00:00\", \"2021-07-13T03:00:00+00:00\", \"2021-07-13T04:00:00+00:00\", \"2021-07-13T05:00:00+00:00\", \"2021-07-13T06:00:00+00:00\", \"2021-07-13T07:00:00+00:00\", \"2021-07-13T08:00:00+00:00\", \"2021-07-13T09:00:00+00:00\", \"2021-07-13T10:00:00+00:00\", \"2021-07-13T11:00:00+00:00\", \"2021-07-13T12:00:00+00:00\", \"2021-07-13T13:00:00+00:00\", \"2021-07-13T14:00:00+00:00\", \"2021-07-13T15:00:00+00:00\", \"2021-07-13T16:00:00+00:00\", \"2021-07-13T17:00:00+00:00\", \"2021-07-13T18:00:00+00:00\", \"2021-07-13T19:00:00+00:00\", \"2021-07-13T20:00:00+00:00\", \"2021-07-13T21:00:00+00:00\", \"2021-07-13T22:00:00+00:00\", \"2021-07-13T23:00:00+00:00\", \"2021-07-14T00:00:00+00:00\", \"2021-07-14T01:00:00+00:00\", \"2021-07-14T02:00:00+00:00\", \"2021-07-14T03:00:00+00:00\", \"2021-07-14T04:00:00+00:00\", \"2021-07-14T05:00:00+00:00\", \"2021-07-14T06:00:00+00:00\", \"2021-07-14T07:00:00+00:00\", \"2021-07-14T08:00:00+00:00\", \"2021-07-14T09:00:00+00:00\", \"2021-07-14T10:00:00+00:00\", \"2021-07-14T11:00:00+00:00\", \"2021-07-14T12:00:00+00:00\", \"2021-07-14T13:00:00+00:00\", \"2021-07-14T14:00:00+00:00\", \"2021-07-14T15:00:00+00:00\", \"2021-07-14T16:00:00+00:00\", \"2021-07-14T17:00:00+00:00\", \"2021-07-14T18:00:00+00:00\", \"2021-07-14T19:00:00+00:00\", \"2021-07-14T20:00:00+00:00\", \"2021-07-14T21:00:00+00:00\", \"2021-07-14T22:00:00+00:00\", \"2021-07-14T23:00:00+00:00\", \"2021-07-15T00:00:00+00:00\", \"2021-07-15T01:00:00+00:00\", \"2021-07-15T02:00:00+00:00\", \"2021-07-15T03:00:00+00:00\", \"2021-07-15T04:00:00+00:00\", \"2021-07-15T05:00:00+00:00\", \"2021-07-15T06:00:00+00:00\", \"2021-07-15T07:00:00+00:00\", \"2021-07-15T08:00:00+00:00\", \"2021-07-15T09:00:00+00:00\", \"2021-07-15T10:00:00+00:00\", \"2021-07-15T11:00:00+00:00\", \"2021-07-15T12:00:00+00:00\", \"2021-07-15T13:00:00+00:00\", \"2021-07-15T14:00:00+00:00\", \"2021-07-15T15:00:00+00:00\", \"2021-07-15T16:00:00+00:00\", \"2021-07-15T17:00:00+00:00\", \"2021-07-15T18:00:00+00:00\", \"2021-07-15T19:00:00+00:00\", \"2021-07-15T20:00:00+00:00\", \"2021-07-15T21:00:00+00:00\", \"2021-07-15T22:00:00+00:00\", \"2021-07-15T23:00:00+00:00\", \"2021-07-16T00:00:00+00:00\", \"2021-07-16T01:00:00+00:00\", \"2021-07-16T02:00:00+00:00\", \"2021-07-16T03:00:00+00:00\", \"2021-07-16T04:00:00+00:00\", \"2021-07-16T05:00:00+00:00\", \"2021-07-16T06:00:00+00:00\", \"2021-07-16T07:00:00+00:00\", \"2021-07-16T08:00:00+00:00\", \"2021-07-16T09:00:00+00:00\", \"2021-07-16T10:00:00+00:00\", \"2021-07-16T11:00:00+00:00\", \"2021-07-16T12:00:00+00:00\", \"2021-07-16T13:00:00+00:00\", \"2021-07-16T14:00:00+00:00\", \"2021-07-16T15:00:00+00:00\", \"2021-07-16T16:00:00+00:00\", \"2021-07-16T17:00:00+00:00\", \"2021-07-16T18:00:00+00:00\", \"2021-07-16T19:00:00+00:00\", \"2021-07-16T20:00:00+00:00\", \"2021-07-16T21:00:00+00:00\", \"2021-07-16T22:00:00+00:00\", \"2021-07-16T23:00:00+00:00\"], \"y\": [914, 1351, 1143, 1144, 1407, 1477, 1263, 952, 1725, 2006, 2954, 1613, 1472, 1155, 678, 478, 279, 215, 191, 159, 180, 207, 273, 372, 615, 581, 584, 1019, 797, 529, 569, 525, 566, 576, 738, 651, 675, 597, 376, 288, 150, 93, 64, 103, 149, 145, 200, 275, 465, 692, 713, 709, 987, 928, 893, 742, 807, 1044, 1086, 1189, 1205, 1124, 681, 324, 189, 149, 110, 134, 141, 174, 242, 416, 454, 421, 1566, 1147, 980, 1949, 1035, 1263, 945, 2080, 2378, 4779, 3708, 4764, 2313, 852, 379, 236, 154, 194, 253, 421, 641, 752, 986, 940, 1095, 1402, 1036, 1652, 11980, 7575, 2629, 1608, 1208, 1562, 2631, 2793, 1288, 683, 294, 196, 164, 178, 254, 297, 408, 467, 697, 757, 1021, 1072, 941, 651, 648, 604, 537, 477, 519, 605, 546, 478, 301, 183, 117, 89, 84, 73, 76, 126, 242, 399, 397, 728, 733, 535, 570, 658, 800, 1864, 920, 682, 1306, 835, 1054, 558, 337, 228, 162, 154, 78, 147, 106, 116, 184, 338, 517, 1215, 819, 811, 799, 474, 877, 507, 456, 417, 359, 429, 528, 544, 472, 235, 135, 71, 68, 60, 150, 151, 137, 274, 415, 449, 552, 583, 604, 479, 487, 697, 589, 1022, 1638, 1676, 1715, 2087, 706, 588, 227, 278, 148, 149, 182, 250, 302, 382, 509, 571, 637, 529, 847, 915, 638, 562, 528, 1111, 780, 1404, 7707, 5990, 3651, 3148, 760, 446, 286, 325, 427, 549, 770, 1416, 1554, 1361, 1206, 1200, 1262, 1107, 1981, 2324, 2523, 10399, 12219, 7292, 5536, 7275, 6239, 1682, 799, 506, 412, 445, 522, 706, 2054, 1624, 1867, 2027, 1685, 1487, 1511, 1316, 1881, 1202, 1403, 1605, 5891, 3454, 2025, 1671, 992, 616, 382, 307, 383, 381, 374, 353, 448, 540, 610, 759, 885, 1180, 1023, 5355, 2650, 1656, 1088, 1320, 1549, 1073, 673, 594, 442, 299, 149, 106, 100, 205, 171, 182, 257, 435, 549, 528, 1403, 1177, 2486, 1677, 1374, 1263, 949, 1513, 1000, 950, 1251, 1903, 616, 340, 167, 150, 100, 97, 125, 164, 298, 368, 594, 532, 637, 497, 590, 592, 711, 721, 861, 1162, 1814, 2709, 8175, 7082, 5938, 2589, 1400, 668, 437, 403, 411, 496, 796, 1214, 1496, 1633, 1312, 1252, 1301, 1035, 1224, 1831, 1102, 1013, 1312, 1197, 1224, 1082, 695, 335, 216, 232, 145, 168, 176, 214, 334, 480, 668, 772, 674, 787, 650, 849, 825, 737, 733, 693, 740, 646, 666, 647, 437, 266, 301, 156, 141, 169, 102, 170, 325, 293, 556, 388, 413, 614, 601, 571, 497, 528, 1029, 961, 809, 758, 867, 616, 577, 239, 197, 76, 66, 116, 147, 174, 273, 329, 463, 527, 560, 436, 451, 454, 562, 513, 663, 1435, 1669, 3104, 2871, 15389, 15722, 7220, 2957, 1302, 880, 640, 972, 1411, 2390, 3462, 3709, 3603, 2866, 2527, 2426, 2787, 2566, 2268, 2436, 2059, 1764, 1714, 1653, 1787, 1019, 404, 345, 240, 172, 202, 252, 387, 556, 818, 930, 1284, 1685, 1526, 1230, 1143, 1223, 2316, 1479, 1138, 938, 1130, 967, 765, 686, 494, 251, 197, 131, 177, 193, 191, 448, 542, 608, 642, 685, 622, 1509, 1110, 1019, 970, 1096, 1006, 1246, 1635, 1110, 814, 638, 397, 249, 196, 221, 137, 152, 255, 423, 754, 1009, 1279, 1359, 1241, 1112, 1325, 1652, 1361, 1211, 2196, 2088, 4753, 3730, 9847, 51421, 23472, 8151, 3309, 1879, 1505, 1636, 2588, 5359, 7925, 8388, 9266, 12540, 10032, 6497, 0, 454, 9354, 7123, 8314, 9354, 16971, 26257, 14802, 7570, 3862, 2189, 1469, 1070, 1212, 1380, 2333, 4563, 5412, 5351, 5026, 4675, 4887, 4960, 4476, 3431, 3659, 4318, 4000, 3502, 4784, 3593, 2932, 1852, 1125, 652, 431, 363, 339, 466, 647, 986, 1518, 1389, 1477, 1514, 1550, 1352, 1396, 1333, 1198, 3111, 2853, 2049, 1809, 1499, 1344, 876, 472, 303, 212, 164, 176, 206, 329, 548, 631, 802, 837, 812, 1328, 1316, 1085, 1030, 5891, 4032, 2606, 1720, 1388, 2224, 1240, 889, 570, 348, 244, 164, 191, 223, 310, 494, 541, 655, 887, 1216, 867, 874, 788, 825, 863, 2458, 2355, 1528, 1257, 996, 814, 691, 524]}],\n",
              "                        {\"template\": {\"data\": {\"bar\": [{\"error_x\": {\"color\": \"#2a3f5f\"}, \"error_y\": {\"color\": \"#2a3f5f\"}, \"marker\": {\"line\": {\"color\": \"#E5ECF6\", \"width\": 0.5}}, \"type\": \"bar\"}], \"barpolar\": [{\"marker\": {\"line\": {\"color\": \"#E5ECF6\", \"width\": 0.5}}, \"type\": \"barpolar\"}], \"carpet\": [{\"aaxis\": {\"endlinecolor\": \"#2a3f5f\", \"gridcolor\": \"white\", \"linecolor\": \"white\", \"minorgridcolor\": \"white\", \"startlinecolor\": \"#2a3f5f\"}, \"baxis\": {\"endlinecolor\": \"#2a3f5f\", \"gridcolor\": \"white\", \"linecolor\": \"white\", \"minorgridcolor\": \"white\", \"startlinecolor\": \"#2a3f5f\"}, \"type\": \"carpet\"}], \"choropleth\": [{\"colorbar\": {\"outlinewidth\": 0, \"ticks\": \"\"}, \"type\": \"choropleth\"}], \"contour\": [{\"colorbar\": {\"outlinewidth\": 0, \"ticks\": \"\"}, \"colorscale\": [[0.0, \"#0d0887\"], [0.1111111111111111, \"#46039f\"], [0.2222222222222222, \"#7201a8\"], [0.3333333333333333, \"#9c179e\"], [0.4444444444444444, \"#bd3786\"], [0.5555555555555556, \"#d8576b\"], [0.6666666666666666, \"#ed7953\"], [0.7777777777777778, \"#fb9f3a\"], [0.8888888888888888, \"#fdca26\"], [1.0, \"#f0f921\"]], \"type\": \"contour\"}], \"contourcarpet\": [{\"colorbar\": {\"outlinewidth\": 0, \"ticks\": \"\"}, \"type\": \"contourcarpet\"}], \"heatmap\": [{\"colorbar\": {\"outlinewidth\": 0, \"ticks\": \"\"}, \"colorscale\": [[0.0, \"#0d0887\"], [0.1111111111111111, \"#46039f\"], [0.2222222222222222, \"#7201a8\"], [0.3333333333333333, \"#9c179e\"], [0.4444444444444444, \"#bd3786\"], [0.5555555555555556, \"#d8576b\"], [0.6666666666666666, \"#ed7953\"], [0.7777777777777778, \"#fb9f3a\"], [0.8888888888888888, \"#fdca26\"], [1.0, \"#f0f921\"]], \"type\": \"heatmap\"}], \"heatmapgl\": [{\"colorbar\": {\"outlinewidth\": 0, \"ticks\": \"\"}, \"colorscale\": [[0.0, \"#0d0887\"], [0.1111111111111111, \"#46039f\"], [0.2222222222222222, \"#7201a8\"], [0.3333333333333333, \"#9c179e\"], [0.4444444444444444, \"#bd3786\"], [0.5555555555555556, \"#d8576b\"], [0.6666666666666666, \"#ed7953\"], [0.7777777777777778, \"#fb9f3a\"], [0.8888888888888888, \"#fdca26\"], [1.0, \"#f0f921\"]], \"type\": \"heatmapgl\"}], \"histogram\": [{\"marker\": {\"colorbar\": {\"outlinewidth\": 0, \"ticks\": \"\"}}, \"type\": \"histogram\"}], \"histogram2d\": [{\"colorbar\": {\"outlinewidth\": 0, \"ticks\": \"\"}, \"colorscale\": [[0.0, \"#0d0887\"], [0.1111111111111111, \"#46039f\"], [0.2222222222222222, \"#7201a8\"], [0.3333333333333333, \"#9c179e\"], [0.4444444444444444, \"#bd3786\"], [0.5555555555555556, \"#d8576b\"], [0.6666666666666666, \"#ed7953\"], [0.7777777777777778, \"#fb9f3a\"], [0.8888888888888888, \"#fdca26\"], [1.0, \"#f0f921\"]], \"type\": \"histogram2d\"}], \"histogram2dcontour\": [{\"colorbar\": {\"outlinewidth\": 0, \"ticks\": \"\"}, \"colorscale\": [[0.0, \"#0d0887\"], [0.1111111111111111, \"#46039f\"], [0.2222222222222222, \"#7201a8\"], [0.3333333333333333, \"#9c179e\"], [0.4444444444444444, \"#bd3786\"], [0.5555555555555556, \"#d8576b\"], [0.6666666666666666, \"#ed7953\"], [0.7777777777777778, \"#fb9f3a\"], [0.8888888888888888, \"#fdca26\"], [1.0, \"#f0f921\"]], \"type\": \"histogram2dcontour\"}], \"mesh3d\": [{\"colorbar\": {\"outlinewidth\": 0, \"ticks\": \"\"}, \"type\": \"mesh3d\"}], \"parcoords\": [{\"line\": {\"colorbar\": {\"outlinewidth\": 0, \"ticks\": \"\"}}, \"type\": \"parcoords\"}], \"pie\": [{\"automargin\": true, \"type\": \"pie\"}], \"scatter\": [{\"marker\": {\"colorbar\": {\"outlinewidth\": 0, \"ticks\": \"\"}}, \"type\": \"scatter\"}], \"scatter3d\": [{\"line\": {\"colorbar\": {\"outlinewidth\": 0, \"ticks\": \"\"}}, \"marker\": {\"colorbar\": {\"outlinewidth\": 0, \"ticks\": \"\"}}, \"type\": \"scatter3d\"}], \"scattercarpet\": [{\"marker\": {\"colorbar\": {\"outlinewidth\": 0, \"ticks\": \"\"}}, \"type\": \"scattercarpet\"}], \"scattergeo\": [{\"marker\": {\"colorbar\": {\"outlinewidth\": 0, \"ticks\": \"\"}}, \"type\": \"scattergeo\"}], \"scattergl\": [{\"marker\": {\"colorbar\": {\"outlinewidth\": 0, \"ticks\": \"\"}}, \"type\": \"scattergl\"}], \"scattermapbox\": [{\"marker\": {\"colorbar\": {\"outlinewidth\": 0, \"ticks\": \"\"}}, \"type\": \"scattermapbox\"}], \"scatterpolar\": [{\"marker\": {\"colorbar\": {\"outlinewidth\": 0, \"ticks\": \"\"}}, \"type\": \"scatterpolar\"}], \"scatterpolargl\": [{\"marker\": {\"colorbar\": {\"outlinewidth\": 0, \"ticks\": \"\"}}, \"type\": \"scatterpolargl\"}], \"scatterternary\": [{\"marker\": {\"colorbar\": {\"outlinewidth\": 0, \"ticks\": \"\"}}, \"type\": \"scatterternary\"}], \"surface\": [{\"colorbar\": {\"outlinewidth\": 0, \"ticks\": \"\"}, \"colorscale\": [[0.0, \"#0d0887\"], [0.1111111111111111, \"#46039f\"], [0.2222222222222222, \"#7201a8\"], [0.3333333333333333, \"#9c179e\"], [0.4444444444444444, \"#bd3786\"], [0.5555555555555556, \"#d8576b\"], [0.6666666666666666, \"#ed7953\"], [0.7777777777777778, \"#fb9f3a\"], [0.8888888888888888, \"#fdca26\"], [1.0, \"#f0f921\"]], \"type\": \"surface\"}], \"table\": [{\"cells\": {\"fill\": {\"color\": \"#EBF0F8\"}, \"line\": {\"color\": \"white\"}}, \"header\": {\"fill\": {\"color\": \"#C8D4E3\"}, \"line\": {\"color\": \"white\"}}, \"type\": \"table\"}]}, \"layout\": {\"annotationdefaults\": {\"arrowcolor\": \"#2a3f5f\", \"arrowhead\": 0, \"arrowwidth\": 1}, \"coloraxis\": {\"colorbar\": {\"outlinewidth\": 0, \"ticks\": \"\"}}, \"colorscale\": {\"diverging\": [[0, \"#8e0152\"], [0.1, \"#c51b7d\"], [0.2, \"#de77ae\"], [0.3, \"#f1b6da\"], [0.4, \"#fde0ef\"], [0.5, \"#f7f7f7\"], [0.6, \"#e6f5d0\"], [0.7, \"#b8e186\"], [0.8, \"#7fbc41\"], [0.9, \"#4d9221\"], [1, \"#276419\"]], \"sequential\": [[0.0, \"#0d0887\"], [0.1111111111111111, \"#46039f\"], [0.2222222222222222, \"#7201a8\"], [0.3333333333333333, \"#9c179e\"], [0.4444444444444444, \"#bd3786\"], [0.5555555555555556, \"#d8576b\"], [0.6666666666666666, \"#ed7953\"], [0.7777777777777778, \"#fb9f3a\"], [0.8888888888888888, \"#fdca26\"], [1.0, \"#f0f921\"]], \"sequentialminus\": [[0.0, \"#0d0887\"], [0.1111111111111111, \"#46039f\"], [0.2222222222222222, \"#7201a8\"], [0.3333333333333333, \"#9c179e\"], [0.4444444444444444, \"#bd3786\"], [0.5555555555555556, \"#d8576b\"], [0.6666666666666666, \"#ed7953\"], [0.7777777777777778, \"#fb9f3a\"], [0.8888888888888888, \"#fdca26\"], [1.0, \"#f0f921\"]]}, \"colorway\": [\"#636efa\", \"#EF553B\", \"#00cc96\", \"#ab63fa\", \"#FFA15A\", \"#19d3f3\", \"#FF6692\", \"#B6E880\", \"#FF97FF\", \"#FECB52\"], \"font\": {\"color\": \"#2a3f5f\"}, \"geo\": {\"bgcolor\": \"white\", \"lakecolor\": \"white\", \"landcolor\": \"#E5ECF6\", \"showlakes\": true, \"showland\": true, \"subunitcolor\": \"white\"}, \"hoverlabel\": {\"align\": \"left\"}, \"hovermode\": \"closest\", \"mapbox\": {\"style\": \"light\"}, \"paper_bgcolor\": \"white\", \"plot_bgcolor\": \"#E5ECF6\", \"polar\": {\"angularaxis\": {\"gridcolor\": \"white\", \"linecolor\": \"white\", \"ticks\": \"\"}, \"bgcolor\": \"#E5ECF6\", \"radialaxis\": {\"gridcolor\": \"white\", \"linecolor\": \"white\", \"ticks\": \"\"}}, \"scene\": {\"xaxis\": {\"backgroundcolor\": \"#E5ECF6\", \"gridcolor\": \"white\", \"gridwidth\": 2, \"linecolor\": \"white\", \"showbackground\": true, \"ticks\": \"\", \"zerolinecolor\": \"white\"}, \"yaxis\": {\"backgroundcolor\": \"#E5ECF6\", \"gridcolor\": \"white\", \"gridwidth\": 2, \"linecolor\": \"white\", \"showbackground\": true, \"ticks\": \"\", \"zerolinecolor\": \"white\"}, \"zaxis\": {\"backgroundcolor\": \"#E5ECF6\", \"gridcolor\": \"white\", \"gridwidth\": 2, \"linecolor\": \"white\", \"showbackground\": true, \"ticks\": \"\", \"zerolinecolor\": \"white\"}}, \"shapedefaults\": {\"line\": {\"color\": \"#2a3f5f\"}}, \"ternary\": {\"aaxis\": {\"gridcolor\": \"white\", \"linecolor\": \"white\", \"ticks\": \"\"}, \"baxis\": {\"gridcolor\": \"white\", \"linecolor\": \"white\", \"ticks\": \"\"}, \"bgcolor\": \"#E5ECF6\", \"caxis\": {\"gridcolor\": \"white\", \"linecolor\": \"white\", \"ticks\": \"\"}}, \"title\": {\"x\": 0.05}, \"xaxis\": {\"automargin\": true, \"gridcolor\": \"white\", \"linecolor\": \"white\", \"ticks\": \"\", \"title\": {\"standoff\": 15}, \"zerolinecolor\": \"white\", \"zerolinewidth\": 2}, \"yaxis\": {\"automargin\": true, \"gridcolor\": \"white\", \"linecolor\": \"white\", \"ticks\": \"\", \"title\": {\"standoff\": 15}, \"zerolinecolor\": \"white\", \"zerolinewidth\": 2}}}},\n",
              "                        {\"responsive\": true}\n",
              "                    ).then(function(){\n",
              "                            \n",
              "var gd = document.getElementById('159d0769-bbf4-4bfb-b989-b7f67347e148');\n",
              "var x = new MutationObserver(function (mutations, observer) {{\n",
              "        var display = window.getComputedStyle(gd).display;\n",
              "        if (!display || display === 'none') {{\n",
              "            console.log([gd, 'removed!']);\n",
              "            Plotly.purge(gd);\n",
              "            observer.disconnect();\n",
              "        }}\n",
              "}});\n",
              "\n",
              "// Listen for the removal of the full notebook cells\n",
              "var notebookContainer = gd.closest('#notebook-container');\n",
              "if (notebookContainer) {{\n",
              "    x.observe(notebookContainer, {childList: true});\n",
              "}}\n",
              "\n",
              "// Listen for the clearing of the current output cell\n",
              "var outputEl = gd.closest('.output');\n",
              "if (outputEl) {{\n",
              "    x.observe(outputEl, {childList: true});\n",
              "}}\n",
              "\n",
              "                        })\n",
              "                };\n",
              "                \n",
              "            </script>\n",
              "        </div>\n",
              "</body>\n",
              "</html>"
            ]
          },
          "metadata": {
            "tags": []
          }
        }
      ]
    },
    {
      "cell_type": "code",
      "metadata": {
        "colab": {
          "base_uri": "https://localhost:8080/",
          "height": 542
        },
        "id": "PkFNciacQ8gN",
        "outputId": "2bc41b8c-9836-4966-c78e-6c479242a52e"
      },
      "source": [
        "# Plot Sterling, Rashford, Kane tweet frequency\n",
        "df = joined_df.resample(INTERVAL, on='created_at')['MarcusRashford', 'sterling7', 'HKane'].sum().reset_index()\n",
        "fig = create_frequency_plot(df, ['MarcusRashford', 'sterling7', 'HKane'])\n",
        "fig.show()"
      ],
      "execution_count": null,
      "outputs": [
        {
          "output_type": "display_data",
          "data": {
            "text/html": [
              "<html>\n",
              "<head><meta charset=\"utf-8\" /></head>\n",
              "<body>\n",
              "    <div>\n",
              "            <script src=\"https://cdnjs.cloudflare.com/ajax/libs/mathjax/2.7.5/MathJax.js?config=TeX-AMS-MML_SVG\"></script><script type=\"text/javascript\">if (window.MathJax) {MathJax.Hub.Config({SVG: {font: \"STIX-Web\"}});}</script>\n",
              "                <script type=\"text/javascript\">window.PlotlyConfig = {MathJaxConfig: 'local'};</script>\n",
              "        <script src=\"https://cdn.plot.ly/plotly-latest.min.js\"></script>    \n",
              "            <div id=\"4bdba2c0-6d4b-492d-9b22-786847859216\" class=\"plotly-graph-div\" style=\"height:525px; width:100%;\"></div>\n",
              "            <script type=\"text/javascript\">\n",
              "                \n",
              "                    window.PLOTLYENV=window.PLOTLYENV || {};\n",
              "                    \n",
              "                if (document.getElementById(\"4bdba2c0-6d4b-492d-9b22-786847859216\")) {\n",
              "                    Plotly.newPlot(\n",
              "                        '4bdba2c0-6d4b-492d-9b22-786847859216',\n",
              "                        [{\"mode\": \"lines\", \"name\": \"MarcusRashford\", \"type\": \"scatter\", \"x\": [\"2021-06-19T08:00:00+00:00\", \"2021-06-19T09:00:00+00:00\", \"2021-06-19T10:00:00+00:00\", \"2021-06-19T11:00:00+00:00\", \"2021-06-19T12:00:00+00:00\", \"2021-06-19T13:00:00+00:00\", \"2021-06-19T14:00:00+00:00\", \"2021-06-19T15:00:00+00:00\", \"2021-06-19T16:00:00+00:00\", \"2021-06-19T17:00:00+00:00\", \"2021-06-19T18:00:00+00:00\", \"2021-06-19T19:00:00+00:00\", \"2021-06-19T20:00:00+00:00\", \"2021-06-19T21:00:00+00:00\", \"2021-06-19T22:00:00+00:00\", \"2021-06-19T23:00:00+00:00\", \"2021-06-20T00:00:00+00:00\", \"2021-06-20T01:00:00+00:00\", \"2021-06-20T02:00:00+00:00\", \"2021-06-20T03:00:00+00:00\", \"2021-06-20T04:00:00+00:00\", \"2021-06-20T05:00:00+00:00\", \"2021-06-20T06:00:00+00:00\", \"2021-06-20T07:00:00+00:00\", \"2021-06-20T08:00:00+00:00\", \"2021-06-20T09:00:00+00:00\", \"2021-06-20T10:00:00+00:00\", \"2021-06-20T11:00:00+00:00\", \"2021-06-20T12:00:00+00:00\", \"2021-06-20T13:00:00+00:00\", \"2021-06-20T14:00:00+00:00\", \"2021-06-20T15:00:00+00:00\", \"2021-06-20T16:00:00+00:00\", \"2021-06-20T17:00:00+00:00\", \"2021-06-20T18:00:00+00:00\", \"2021-06-20T19:00:00+00:00\", \"2021-06-20T20:00:00+00:00\", \"2021-06-20T21:00:00+00:00\", \"2021-06-20T22:00:00+00:00\", \"2021-06-20T23:00:00+00:00\", \"2021-06-21T00:00:00+00:00\", \"2021-06-21T01:00:00+00:00\", \"2021-06-21T02:00:00+00:00\", \"2021-06-21T03:00:00+00:00\", \"2021-06-21T04:00:00+00:00\", \"2021-06-21T05:00:00+00:00\", \"2021-06-21T06:00:00+00:00\", \"2021-06-21T07:00:00+00:00\", \"2021-06-21T08:00:00+00:00\", \"2021-06-21T09:00:00+00:00\", \"2021-06-21T10:00:00+00:00\", \"2021-06-21T11:00:00+00:00\", \"2021-06-21T12:00:00+00:00\", \"2021-06-21T13:00:00+00:00\", \"2021-06-21T14:00:00+00:00\", \"2021-06-21T15:00:00+00:00\", \"2021-06-21T16:00:00+00:00\", \"2021-06-21T17:00:00+00:00\", \"2021-06-21T18:00:00+00:00\", \"2021-06-21T19:00:00+00:00\", \"2021-06-21T20:00:00+00:00\", \"2021-06-21T21:00:00+00:00\", \"2021-06-21T22:00:00+00:00\", \"2021-06-21T23:00:00+00:00\", \"2021-06-22T00:00:00+00:00\", \"2021-06-22T01:00:00+00:00\", \"2021-06-22T02:00:00+00:00\", \"2021-06-22T03:00:00+00:00\", \"2021-06-22T04:00:00+00:00\", \"2021-06-22T05:00:00+00:00\", \"2021-06-22T06:00:00+00:00\", \"2021-06-22T07:00:00+00:00\", \"2021-06-22T08:00:00+00:00\", \"2021-06-22T09:00:00+00:00\", \"2021-06-22T10:00:00+00:00\", \"2021-06-22T11:00:00+00:00\", \"2021-06-22T12:00:00+00:00\", \"2021-06-22T13:00:00+00:00\", \"2021-06-22T14:00:00+00:00\", \"2021-06-22T15:00:00+00:00\", \"2021-06-22T16:00:00+00:00\", \"2021-06-22T17:00:00+00:00\", \"2021-06-22T18:00:00+00:00\", \"2021-06-22T19:00:00+00:00\", \"2021-06-22T20:00:00+00:00\", \"2021-06-22T21:00:00+00:00\", \"2021-06-22T22:00:00+00:00\", \"2021-06-22T23:00:00+00:00\", \"2021-06-23T00:00:00+00:00\", \"2021-06-23T01:00:00+00:00\", \"2021-06-23T02:00:00+00:00\", \"2021-06-23T03:00:00+00:00\", \"2021-06-23T04:00:00+00:00\", \"2021-06-23T05:00:00+00:00\", \"2021-06-23T06:00:00+00:00\", \"2021-06-23T07:00:00+00:00\", \"2021-06-23T08:00:00+00:00\", \"2021-06-23T09:00:00+00:00\", \"2021-06-23T10:00:00+00:00\", \"2021-06-23T11:00:00+00:00\", \"2021-06-23T12:00:00+00:00\", \"2021-06-23T13:00:00+00:00\", \"2021-06-23T14:00:00+00:00\", \"2021-06-23T15:00:00+00:00\", \"2021-06-23T16:00:00+00:00\", \"2021-06-23T17:00:00+00:00\", \"2021-06-23T18:00:00+00:00\", \"2021-06-23T19:00:00+00:00\", \"2021-06-23T20:00:00+00:00\", \"2021-06-23T21:00:00+00:00\", \"2021-06-23T22:00:00+00:00\", \"2021-06-23T23:00:00+00:00\", \"2021-06-24T00:00:00+00:00\", \"2021-06-24T01:00:00+00:00\", \"2021-06-24T02:00:00+00:00\", \"2021-06-24T03:00:00+00:00\", \"2021-06-24T04:00:00+00:00\", \"2021-06-24T05:00:00+00:00\", \"2021-06-24T06:00:00+00:00\", \"2021-06-24T07:00:00+00:00\", \"2021-06-24T08:00:00+00:00\", \"2021-06-24T09:00:00+00:00\", \"2021-06-24T10:00:00+00:00\", \"2021-06-24T11:00:00+00:00\", \"2021-06-24T12:00:00+00:00\", \"2021-06-24T13:00:00+00:00\", \"2021-06-24T14:00:00+00:00\", \"2021-06-24T15:00:00+00:00\", \"2021-06-24T16:00:00+00:00\", \"2021-06-24T17:00:00+00:00\", \"2021-06-24T18:00:00+00:00\", \"2021-06-24T19:00:00+00:00\", \"2021-06-24T20:00:00+00:00\", \"2021-06-24T21:00:00+00:00\", \"2021-06-24T22:00:00+00:00\", \"2021-06-24T23:00:00+00:00\", \"2021-06-25T00:00:00+00:00\", \"2021-06-25T01:00:00+00:00\", \"2021-06-25T02:00:00+00:00\", \"2021-06-25T03:00:00+00:00\", \"2021-06-25T04:00:00+00:00\", \"2021-06-25T05:00:00+00:00\", \"2021-06-25T06:00:00+00:00\", \"2021-06-25T07:00:00+00:00\", \"2021-06-25T08:00:00+00:00\", \"2021-06-25T09:00:00+00:00\", \"2021-06-25T10:00:00+00:00\", \"2021-06-25T11:00:00+00:00\", \"2021-06-25T12:00:00+00:00\", \"2021-06-25T13:00:00+00:00\", \"2021-06-25T14:00:00+00:00\", \"2021-06-25T15:00:00+00:00\", \"2021-06-25T16:00:00+00:00\", \"2021-06-25T17:00:00+00:00\", \"2021-06-25T18:00:00+00:00\", \"2021-06-25T19:00:00+00:00\", \"2021-06-25T20:00:00+00:00\", \"2021-06-25T21:00:00+00:00\", \"2021-06-25T22:00:00+00:00\", \"2021-06-25T23:00:00+00:00\", \"2021-06-26T00:00:00+00:00\", \"2021-06-26T01:00:00+00:00\", \"2021-06-26T02:00:00+00:00\", \"2021-06-26T03:00:00+00:00\", \"2021-06-26T04:00:00+00:00\", \"2021-06-26T05:00:00+00:00\", \"2021-06-26T06:00:00+00:00\", \"2021-06-26T07:00:00+00:00\", \"2021-06-26T08:00:00+00:00\", \"2021-06-26T09:00:00+00:00\", \"2021-06-26T10:00:00+00:00\", \"2021-06-26T11:00:00+00:00\", \"2021-06-26T12:00:00+00:00\", \"2021-06-26T13:00:00+00:00\", \"2021-06-26T14:00:00+00:00\", \"2021-06-26T15:00:00+00:00\", \"2021-06-26T16:00:00+00:00\", \"2021-06-26T17:00:00+00:00\", \"2021-06-26T18:00:00+00:00\", \"2021-06-26T19:00:00+00:00\", \"2021-06-26T20:00:00+00:00\", \"2021-06-26T21:00:00+00:00\", \"2021-06-26T22:00:00+00:00\", \"2021-06-26T23:00:00+00:00\", \"2021-06-27T00:00:00+00:00\", \"2021-06-27T01:00:00+00:00\", \"2021-06-27T02:00:00+00:00\", \"2021-06-27T03:00:00+00:00\", \"2021-06-27T04:00:00+00:00\", \"2021-06-27T05:00:00+00:00\", \"2021-06-27T06:00:00+00:00\", \"2021-06-27T07:00:00+00:00\", \"2021-06-27T08:00:00+00:00\", \"2021-06-27T09:00:00+00:00\", \"2021-06-27T10:00:00+00:00\", \"2021-06-27T11:00:00+00:00\", \"2021-06-27T12:00:00+00:00\", \"2021-06-27T13:00:00+00:00\", \"2021-06-27T14:00:00+00:00\", \"2021-06-27T15:00:00+00:00\", \"2021-06-27T16:00:00+00:00\", \"2021-06-27T17:00:00+00:00\", \"2021-06-27T18:00:00+00:00\", \"2021-06-27T19:00:00+00:00\", \"2021-06-27T20:00:00+00:00\", \"2021-06-27T21:00:00+00:00\", \"2021-06-27T22:00:00+00:00\", \"2021-06-27T23:00:00+00:00\", \"2021-06-28T00:00:00+00:00\", \"2021-06-28T01:00:00+00:00\", \"2021-06-28T02:00:00+00:00\", \"2021-06-28T03:00:00+00:00\", \"2021-06-28T04:00:00+00:00\", \"2021-06-28T05:00:00+00:00\", \"2021-06-28T06:00:00+00:00\", \"2021-06-28T07:00:00+00:00\", \"2021-06-28T08:00:00+00:00\", \"2021-06-28T09:00:00+00:00\", \"2021-06-28T10:00:00+00:00\", \"2021-06-28T11:00:00+00:00\", \"2021-06-28T12:00:00+00:00\", \"2021-06-28T13:00:00+00:00\", \"2021-06-28T14:00:00+00:00\", \"2021-06-28T15:00:00+00:00\", \"2021-06-28T16:00:00+00:00\", \"2021-06-28T17:00:00+00:00\", \"2021-06-28T18:00:00+00:00\", \"2021-06-28T19:00:00+00:00\", \"2021-06-28T20:00:00+00:00\", \"2021-06-28T21:00:00+00:00\", \"2021-06-28T22:00:00+00:00\", \"2021-06-28T23:00:00+00:00\", \"2021-06-29T00:00:00+00:00\", \"2021-06-29T01:00:00+00:00\", \"2021-06-29T02:00:00+00:00\", \"2021-06-29T03:00:00+00:00\", \"2021-06-29T04:00:00+00:00\", \"2021-06-29T05:00:00+00:00\", \"2021-06-29T06:00:00+00:00\", \"2021-06-29T07:00:00+00:00\", \"2021-06-29T08:00:00+00:00\", \"2021-06-29T09:00:00+00:00\", \"2021-06-29T10:00:00+00:00\", \"2021-06-29T11:00:00+00:00\", \"2021-06-29T12:00:00+00:00\", \"2021-06-29T13:00:00+00:00\", \"2021-06-29T14:00:00+00:00\", \"2021-06-29T15:00:00+00:00\", \"2021-06-29T16:00:00+00:00\", \"2021-06-29T17:00:00+00:00\", \"2021-06-29T18:00:00+00:00\", \"2021-06-29T19:00:00+00:00\", \"2021-06-29T20:00:00+00:00\", \"2021-06-29T21:00:00+00:00\", \"2021-06-29T22:00:00+00:00\", \"2021-06-29T23:00:00+00:00\", \"2021-06-30T00:00:00+00:00\", \"2021-06-30T01:00:00+00:00\", \"2021-06-30T02:00:00+00:00\", \"2021-06-30T03:00:00+00:00\", \"2021-06-30T04:00:00+00:00\", \"2021-06-30T05:00:00+00:00\", \"2021-06-30T06:00:00+00:00\", \"2021-06-30T07:00:00+00:00\", \"2021-06-30T08:00:00+00:00\", \"2021-06-30T09:00:00+00:00\", \"2021-06-30T10:00:00+00:00\", \"2021-06-30T11:00:00+00:00\", \"2021-06-30T12:00:00+00:00\", \"2021-06-30T13:00:00+00:00\", \"2021-06-30T14:00:00+00:00\", \"2021-06-30T15:00:00+00:00\", \"2021-06-30T16:00:00+00:00\", \"2021-06-30T17:00:00+00:00\", \"2021-06-30T18:00:00+00:00\", \"2021-06-30T19:00:00+00:00\", \"2021-06-30T20:00:00+00:00\", \"2021-06-30T21:00:00+00:00\", \"2021-06-30T22:00:00+00:00\", \"2021-06-30T23:00:00+00:00\", \"2021-07-01T00:00:00+00:00\", \"2021-07-01T01:00:00+00:00\", \"2021-07-01T02:00:00+00:00\", \"2021-07-01T03:00:00+00:00\", \"2021-07-01T04:00:00+00:00\", \"2021-07-01T05:00:00+00:00\", \"2021-07-01T06:00:00+00:00\", \"2021-07-01T07:00:00+00:00\", \"2021-07-01T08:00:00+00:00\", \"2021-07-01T09:00:00+00:00\", \"2021-07-01T10:00:00+00:00\", \"2021-07-01T11:00:00+00:00\", \"2021-07-01T12:00:00+00:00\", \"2021-07-01T13:00:00+00:00\", \"2021-07-01T14:00:00+00:00\", \"2021-07-01T15:00:00+00:00\", \"2021-07-01T16:00:00+00:00\", \"2021-07-01T17:00:00+00:00\", \"2021-07-01T18:00:00+00:00\", \"2021-07-01T19:00:00+00:00\", \"2021-07-01T20:00:00+00:00\", \"2021-07-01T21:00:00+00:00\", \"2021-07-01T22:00:00+00:00\", \"2021-07-01T23:00:00+00:00\", \"2021-07-02T00:00:00+00:00\", \"2021-07-02T01:00:00+00:00\", \"2021-07-02T02:00:00+00:00\", \"2021-07-02T03:00:00+00:00\", \"2021-07-02T04:00:00+00:00\", \"2021-07-02T05:00:00+00:00\", \"2021-07-02T06:00:00+00:00\", \"2021-07-02T07:00:00+00:00\", \"2021-07-02T08:00:00+00:00\", \"2021-07-02T09:00:00+00:00\", \"2021-07-02T10:00:00+00:00\", \"2021-07-02T11:00:00+00:00\", \"2021-07-02T12:00:00+00:00\", \"2021-07-02T13:00:00+00:00\", \"2021-07-02T14:00:00+00:00\", \"2021-07-02T15:00:00+00:00\", \"2021-07-02T16:00:00+00:00\", \"2021-07-02T17:00:00+00:00\", \"2021-07-02T18:00:00+00:00\", \"2021-07-02T19:00:00+00:00\", \"2021-07-02T20:00:00+00:00\", \"2021-07-02T21:00:00+00:00\", \"2021-07-02T22:00:00+00:00\", \"2021-07-02T23:00:00+00:00\", \"2021-07-03T00:00:00+00:00\", \"2021-07-03T01:00:00+00:00\", \"2021-07-03T02:00:00+00:00\", \"2021-07-03T03:00:00+00:00\", \"2021-07-03T04:00:00+00:00\", \"2021-07-03T05:00:00+00:00\", \"2021-07-03T06:00:00+00:00\", \"2021-07-03T07:00:00+00:00\", \"2021-07-03T08:00:00+00:00\", \"2021-07-03T09:00:00+00:00\", \"2021-07-03T10:00:00+00:00\", \"2021-07-03T11:00:00+00:00\", \"2021-07-03T12:00:00+00:00\", \"2021-07-03T13:00:00+00:00\", \"2021-07-03T14:00:00+00:00\", \"2021-07-03T15:00:00+00:00\", \"2021-07-03T16:00:00+00:00\", \"2021-07-03T17:00:00+00:00\", \"2021-07-03T18:00:00+00:00\", \"2021-07-03T19:00:00+00:00\", \"2021-07-03T20:00:00+00:00\", \"2021-07-03T21:00:00+00:00\", \"2021-07-03T22:00:00+00:00\", \"2021-07-03T23:00:00+00:00\", \"2021-07-04T00:00:00+00:00\", \"2021-07-04T01:00:00+00:00\", \"2021-07-04T02:00:00+00:00\", \"2021-07-04T03:00:00+00:00\", \"2021-07-04T04:00:00+00:00\", \"2021-07-04T05:00:00+00:00\", \"2021-07-04T06:00:00+00:00\", \"2021-07-04T07:00:00+00:00\", \"2021-07-04T08:00:00+00:00\", \"2021-07-04T09:00:00+00:00\", \"2021-07-04T10:00:00+00:00\", \"2021-07-04T11:00:00+00:00\", \"2021-07-04T12:00:00+00:00\", \"2021-07-04T13:00:00+00:00\", \"2021-07-04T14:00:00+00:00\", \"2021-07-04T15:00:00+00:00\", \"2021-07-04T16:00:00+00:00\", \"2021-07-04T17:00:00+00:00\", \"2021-07-04T18:00:00+00:00\", \"2021-07-04T19:00:00+00:00\", \"2021-07-04T20:00:00+00:00\", \"2021-07-04T21:00:00+00:00\", \"2021-07-04T22:00:00+00:00\", \"2021-07-04T23:00:00+00:00\", \"2021-07-05T00:00:00+00:00\", \"2021-07-05T01:00:00+00:00\", \"2021-07-05T02:00:00+00:00\", \"2021-07-05T03:00:00+00:00\", \"2021-07-05T04:00:00+00:00\", \"2021-07-05T05:00:00+00:00\", \"2021-07-05T06:00:00+00:00\", \"2021-07-05T07:00:00+00:00\", \"2021-07-05T08:00:00+00:00\", \"2021-07-05T09:00:00+00:00\", \"2021-07-05T10:00:00+00:00\", \"2021-07-05T11:00:00+00:00\", \"2021-07-05T12:00:00+00:00\", \"2021-07-05T13:00:00+00:00\", \"2021-07-05T14:00:00+00:00\", \"2021-07-05T15:00:00+00:00\", \"2021-07-05T16:00:00+00:00\", \"2021-07-05T17:00:00+00:00\", \"2021-07-05T18:00:00+00:00\", \"2021-07-05T19:00:00+00:00\", \"2021-07-05T20:00:00+00:00\", \"2021-07-05T21:00:00+00:00\", \"2021-07-05T22:00:00+00:00\", \"2021-07-05T23:00:00+00:00\", \"2021-07-06T00:00:00+00:00\", \"2021-07-06T01:00:00+00:00\", \"2021-07-06T02:00:00+00:00\", \"2021-07-06T03:00:00+00:00\", \"2021-07-06T04:00:00+00:00\", \"2021-07-06T05:00:00+00:00\", \"2021-07-06T06:00:00+00:00\", \"2021-07-06T07:00:00+00:00\", \"2021-07-06T08:00:00+00:00\", \"2021-07-06T09:00:00+00:00\", \"2021-07-06T10:00:00+00:00\", \"2021-07-06T11:00:00+00:00\", \"2021-07-06T12:00:00+00:00\", \"2021-07-06T13:00:00+00:00\", \"2021-07-06T14:00:00+00:00\", \"2021-07-06T15:00:00+00:00\", \"2021-07-06T16:00:00+00:00\", \"2021-07-06T17:00:00+00:00\", \"2021-07-06T18:00:00+00:00\", \"2021-07-06T19:00:00+00:00\", \"2021-07-06T20:00:00+00:00\", \"2021-07-06T21:00:00+00:00\", \"2021-07-06T22:00:00+00:00\", \"2021-07-06T23:00:00+00:00\", \"2021-07-07T00:00:00+00:00\", \"2021-07-07T01:00:00+00:00\", \"2021-07-07T02:00:00+00:00\", \"2021-07-07T03:00:00+00:00\", \"2021-07-07T04:00:00+00:00\", \"2021-07-07T05:00:00+00:00\", \"2021-07-07T06:00:00+00:00\", \"2021-07-07T07:00:00+00:00\", \"2021-07-07T08:00:00+00:00\", \"2021-07-07T09:00:00+00:00\", \"2021-07-07T10:00:00+00:00\", \"2021-07-07T11:00:00+00:00\", \"2021-07-07T12:00:00+00:00\", \"2021-07-07T13:00:00+00:00\", \"2021-07-07T14:00:00+00:00\", \"2021-07-07T15:00:00+00:00\", \"2021-07-07T16:00:00+00:00\", \"2021-07-07T17:00:00+00:00\", \"2021-07-07T18:00:00+00:00\", \"2021-07-07T19:00:00+00:00\", \"2021-07-07T20:00:00+00:00\", \"2021-07-07T21:00:00+00:00\", \"2021-07-07T22:00:00+00:00\", \"2021-07-07T23:00:00+00:00\", \"2021-07-08T00:00:00+00:00\", \"2021-07-08T01:00:00+00:00\", \"2021-07-08T02:00:00+00:00\", \"2021-07-08T03:00:00+00:00\", \"2021-07-08T04:00:00+00:00\", \"2021-07-08T05:00:00+00:00\", \"2021-07-08T06:00:00+00:00\", \"2021-07-08T07:00:00+00:00\", \"2021-07-08T08:00:00+00:00\", \"2021-07-08T09:00:00+00:00\", \"2021-07-08T10:00:00+00:00\", \"2021-07-08T11:00:00+00:00\", \"2021-07-08T12:00:00+00:00\", \"2021-07-08T13:00:00+00:00\", \"2021-07-08T14:00:00+00:00\", \"2021-07-08T15:00:00+00:00\", \"2021-07-08T16:00:00+00:00\", \"2021-07-08T17:00:00+00:00\", \"2021-07-08T18:00:00+00:00\", \"2021-07-08T19:00:00+00:00\", \"2021-07-08T20:00:00+00:00\", \"2021-07-08T21:00:00+00:00\", \"2021-07-08T22:00:00+00:00\", \"2021-07-08T23:00:00+00:00\", \"2021-07-09T00:00:00+00:00\", \"2021-07-09T01:00:00+00:00\", \"2021-07-09T02:00:00+00:00\", \"2021-07-09T03:00:00+00:00\", \"2021-07-09T04:00:00+00:00\", \"2021-07-09T05:00:00+00:00\", \"2021-07-09T06:00:00+00:00\", \"2021-07-09T07:00:00+00:00\", \"2021-07-09T08:00:00+00:00\", \"2021-07-09T09:00:00+00:00\", \"2021-07-09T10:00:00+00:00\", \"2021-07-09T11:00:00+00:00\", \"2021-07-09T12:00:00+00:00\", \"2021-07-09T13:00:00+00:00\", \"2021-07-09T14:00:00+00:00\", \"2021-07-09T15:00:00+00:00\", \"2021-07-09T16:00:00+00:00\", \"2021-07-09T17:00:00+00:00\", \"2021-07-09T18:00:00+00:00\", \"2021-07-09T19:00:00+00:00\", \"2021-07-09T20:00:00+00:00\", \"2021-07-09T21:00:00+00:00\", \"2021-07-09T22:00:00+00:00\", \"2021-07-09T23:00:00+00:00\", \"2021-07-10T00:00:00+00:00\", \"2021-07-10T01:00:00+00:00\", \"2021-07-10T02:00:00+00:00\", \"2021-07-10T03:00:00+00:00\", \"2021-07-10T04:00:00+00:00\", \"2021-07-10T05:00:00+00:00\", \"2021-07-10T06:00:00+00:00\", \"2021-07-10T07:00:00+00:00\", \"2021-07-10T08:00:00+00:00\", \"2021-07-10T09:00:00+00:00\", \"2021-07-10T10:00:00+00:00\", \"2021-07-10T11:00:00+00:00\", \"2021-07-10T12:00:00+00:00\", \"2021-07-10T13:00:00+00:00\", \"2021-07-10T14:00:00+00:00\", \"2021-07-10T15:00:00+00:00\", \"2021-07-10T16:00:00+00:00\", \"2021-07-10T17:00:00+00:00\", \"2021-07-10T18:00:00+00:00\", \"2021-07-10T19:00:00+00:00\", \"2021-07-10T20:00:00+00:00\", \"2021-07-10T21:00:00+00:00\", \"2021-07-10T22:00:00+00:00\", \"2021-07-10T23:00:00+00:00\", \"2021-07-11T00:00:00+00:00\", \"2021-07-11T01:00:00+00:00\", \"2021-07-11T02:00:00+00:00\", \"2021-07-11T03:00:00+00:00\", \"2021-07-11T04:00:00+00:00\", \"2021-07-11T05:00:00+00:00\", \"2021-07-11T06:00:00+00:00\", \"2021-07-11T07:00:00+00:00\", \"2021-07-11T08:00:00+00:00\", \"2021-07-11T09:00:00+00:00\", \"2021-07-11T10:00:00+00:00\", \"2021-07-11T11:00:00+00:00\", \"2021-07-11T12:00:00+00:00\", \"2021-07-11T13:00:00+00:00\", \"2021-07-11T14:00:00+00:00\", \"2021-07-11T15:00:00+00:00\", \"2021-07-11T16:00:00+00:00\", \"2021-07-11T17:00:00+00:00\", \"2021-07-11T18:00:00+00:00\", \"2021-07-11T19:00:00+00:00\", \"2021-07-11T20:00:00+00:00\", \"2021-07-11T21:00:00+00:00\", \"2021-07-11T22:00:00+00:00\", \"2021-07-11T23:00:00+00:00\", \"2021-07-12T00:00:00+00:00\", \"2021-07-12T01:00:00+00:00\", \"2021-07-12T02:00:00+00:00\", \"2021-07-12T03:00:00+00:00\", \"2021-07-12T04:00:00+00:00\", \"2021-07-12T05:00:00+00:00\", \"2021-07-12T06:00:00+00:00\", \"2021-07-12T07:00:00+00:00\", \"2021-07-12T08:00:00+00:00\", \"2021-07-12T09:00:00+00:00\", \"2021-07-12T10:00:00+00:00\", \"2021-07-12T11:00:00+00:00\", \"2021-07-12T12:00:00+00:00\", \"2021-07-12T13:00:00+00:00\", \"2021-07-12T14:00:00+00:00\", \"2021-07-12T15:00:00+00:00\", \"2021-07-12T16:00:00+00:00\", \"2021-07-12T17:00:00+00:00\", \"2021-07-12T18:00:00+00:00\", \"2021-07-12T19:00:00+00:00\", \"2021-07-12T20:00:00+00:00\", \"2021-07-12T21:00:00+00:00\", \"2021-07-12T22:00:00+00:00\", \"2021-07-12T23:00:00+00:00\", \"2021-07-13T00:00:00+00:00\", \"2021-07-13T01:00:00+00:00\", \"2021-07-13T02:00:00+00:00\", \"2021-07-13T03:00:00+00:00\", \"2021-07-13T04:00:00+00:00\", \"2021-07-13T05:00:00+00:00\", \"2021-07-13T06:00:00+00:00\", \"2021-07-13T07:00:00+00:00\", \"2021-07-13T08:00:00+00:00\", \"2021-07-13T09:00:00+00:00\", \"2021-07-13T10:00:00+00:00\", \"2021-07-13T11:00:00+00:00\", \"2021-07-13T12:00:00+00:00\", \"2021-07-13T13:00:00+00:00\", \"2021-07-13T14:00:00+00:00\", \"2021-07-13T15:00:00+00:00\", \"2021-07-13T16:00:00+00:00\", \"2021-07-13T17:00:00+00:00\", \"2021-07-13T18:00:00+00:00\", \"2021-07-13T19:00:00+00:00\", \"2021-07-13T20:00:00+00:00\", \"2021-07-13T21:00:00+00:00\", \"2021-07-13T22:00:00+00:00\", \"2021-07-13T23:00:00+00:00\", \"2021-07-14T00:00:00+00:00\", \"2021-07-14T01:00:00+00:00\", \"2021-07-14T02:00:00+00:00\", \"2021-07-14T03:00:00+00:00\", \"2021-07-14T04:00:00+00:00\", \"2021-07-14T05:00:00+00:00\", \"2021-07-14T06:00:00+00:00\", \"2021-07-14T07:00:00+00:00\", \"2021-07-14T08:00:00+00:00\", \"2021-07-14T09:00:00+00:00\", \"2021-07-14T10:00:00+00:00\", \"2021-07-14T11:00:00+00:00\", \"2021-07-14T12:00:00+00:00\", \"2021-07-14T13:00:00+00:00\", \"2021-07-14T14:00:00+00:00\", \"2021-07-14T15:00:00+00:00\", \"2021-07-14T16:00:00+00:00\", \"2021-07-14T17:00:00+00:00\", \"2021-07-14T18:00:00+00:00\", \"2021-07-14T19:00:00+00:00\", \"2021-07-14T20:00:00+00:00\", \"2021-07-14T21:00:00+00:00\", \"2021-07-14T22:00:00+00:00\", \"2021-07-14T23:00:00+00:00\", \"2021-07-15T00:00:00+00:00\", \"2021-07-15T01:00:00+00:00\", \"2021-07-15T02:00:00+00:00\", \"2021-07-15T03:00:00+00:00\", \"2021-07-15T04:00:00+00:00\", \"2021-07-15T05:00:00+00:00\", \"2021-07-15T06:00:00+00:00\", \"2021-07-15T07:00:00+00:00\", \"2021-07-15T08:00:00+00:00\", \"2021-07-15T09:00:00+00:00\", \"2021-07-15T10:00:00+00:00\", \"2021-07-15T11:00:00+00:00\", \"2021-07-15T12:00:00+00:00\", \"2021-07-15T13:00:00+00:00\", \"2021-07-15T14:00:00+00:00\", \"2021-07-15T15:00:00+00:00\", \"2021-07-15T16:00:00+00:00\", \"2021-07-15T17:00:00+00:00\", \"2021-07-15T18:00:00+00:00\", \"2021-07-15T19:00:00+00:00\", \"2021-07-15T20:00:00+00:00\", \"2021-07-15T21:00:00+00:00\", \"2021-07-15T22:00:00+00:00\", \"2021-07-15T23:00:00+00:00\", \"2021-07-16T00:00:00+00:00\", \"2021-07-16T01:00:00+00:00\", \"2021-07-16T02:00:00+00:00\", \"2021-07-16T03:00:00+00:00\", \"2021-07-16T04:00:00+00:00\", \"2021-07-16T05:00:00+00:00\", \"2021-07-16T06:00:00+00:00\", \"2021-07-16T07:00:00+00:00\", \"2021-07-16T08:00:00+00:00\", \"2021-07-16T09:00:00+00:00\", \"2021-07-16T10:00:00+00:00\", \"2021-07-16T11:00:00+00:00\", \"2021-07-16T12:00:00+00:00\", \"2021-07-16T13:00:00+00:00\", \"2021-07-16T14:00:00+00:00\", \"2021-07-16T15:00:00+00:00\", \"2021-07-16T16:00:00+00:00\", \"2021-07-16T17:00:00+00:00\", \"2021-07-16T18:00:00+00:00\", \"2021-07-16T19:00:00+00:00\", \"2021-07-16T20:00:00+00:00\", \"2021-07-16T21:00:00+00:00\", \"2021-07-16T22:00:00+00:00\", \"2021-07-16T23:00:00+00:00\"], \"y\": [39, 37, 26, 35, 18, 70, 34, 21, 20, 13, 24, 20, 13, 13, 13, 6, 4, 6, 2, 1, 1, 1, 4, 7, 8, 16, 39, 58, 19, 21, 33, 28, 25, 17, 26, 34, 24, 17, 10, 3, 2, 2, 2, 1, 5, 3, 6, 8, 209, 129, 52, 36, 21, 39, 26, 26, 63, 50, 63, 182, 66, 42, 24, 9, 5, 6, 11, 6, 6, 14, 25, 21, 37, 22, 30, 24, 75, 43, 28, 50, 30, 46, 44, 48, 71, 53, 46, 14, 14, 6, 2, 1, 5, 13, 22, 22, 86, 63, 49, 37, 61, 22, 26, 61, 34, 22, 72, 47, 68, 36, 6, 4, 12, 0, 2, 5, 3, 6, 15, 20, 20, 32, 44, 87, 36, 21, 49, 9, 27, 21, 16, 22, 31, 36, 18, 8, 5, 4, 3, 3, 6, 9, 9, 122, 49, 157, 72, 70, 101, 100, 40, 59, 79, 59, 82, 34, 353, 105, 37, 32, 18, 18, 9, 13, 16, 17, 15, 25, 30, 26, 65, 56, 32, 28, 35, 37, 28, 30, 27, 40, 40, 12, 19, 3, 1, 2, 3, 1, 3, 5, 9, 5, 14, 10, 28, 19, 11, 6, 7, 15, 25, 27, 80, 53, 32, 15, 6, 10, 5, 4, 1, 1, 3, 10, 6, 8, 14, 15, 11, 32, 9, 13, 22, 10, 16, 11, 13, 27, 28, 76, 47, 8, 7, 33, 5, 7, 4, 5, 17, 16, 27, 16, 15, 9, 15, 33, 23, 149, 88, 132, 154, 56, 37, 1478, 3501, 384, 132, 71, 72, 72, 101, 87, 1142, 534, 317, 439, 284, 227, 137, 154, 124, 75, 243, 108, 445, 192, 168, 302, 92, 50, 26, 13, 20, 14, 22, 18, 25, 27, 48, 36, 48, 292, 83, 3815, 1262, 495, 282, 167, 135, 311, 121, 84, 44, 55, 29, 16, 15, 23, 32, 44, 45, 115, 91, 85, 90, 46, 90, 48, 203, 101, 80, 47, 42, 36, 46, 43, 31, 12, 10, 13, 5, 4, 4, 9, 19, 35, 40, 57, 56, 37, 34, 36, 44, 22, 19, 28, 56, 36, 226, 86, 191, 46, 28, 11, 8, 8, 6, 20, 18, 12, 17, 30, 19, 25, 17, 77, 286, 926, 237, 228, 156, 283, 360, 168, 97, 41, 41, 41, 23, 32, 33, 26, 52, 74, 88, 84, 71, 93, 60, 91, 82, 37, 49, 58, 128, 58, 60, 40, 19, 9, 7, 7, 2, 5, 1, 5, 13, 14, 20, 13, 41, 57, 32, 21, 26, 58, 483, 408, 276, 235, 338, 245, 176, 89, 24, 15, 15, 46, 45, 59, 69, 91, 104, 101, 110, 70, 80, 56, 55, 43, 127, 93, 240, 107, 92, 173, 645, 473, 140, 42, 33, 21, 44, 62, 129, 148, 119, 147, 246, 128, 117, 80, 99, 72, 64, 84, 61, 47, 126, 63, 29, 11, 12, 9, 9, 12, 6, 10, 23, 39, 51, 49, 46, 113, 92, 88, 76, 52, 52, 50, 52, 44, 29, 51, 44, 33, 7, 24, 4, 53, 31, 25, 47, 50, 53, 52, 78, 59, 59, 61, 62, 39, 56, 50, 37, 67, 63, 28, 29, 20, 11, 38, 18, 11, 7, 43, 87, 74, 116, 76, 83, 127, 84, 83, 128, 95, 98, 239, 139, 75, 142, 3017, 21003, 12853, 4212, 1753, 799, 723, 873, 1468, 3174, 4436, 4445, 4086, 3567, 3286, 2039, 0, 154, 2357, 2327, 2512, 2135, 6401, 18877, 9392, 4304, 2116, 1103, 784, 582, 729, 846, 1294, 2458, 2572, 2501, 2011, 1823, 2226, 2187, 2071, 1485, 1648, 2067, 1854, 1605, 3228, 2235, 1730, 1024, 584, 325, 258, 223, 184, 263, 351, 568, 658, 629, 669, 847, 795, 647, 526, 569, 446, 402, 452, 413, 458, 318, 300, 179, 94, 87, 54, 48, 44, 28, 89, 159, 168, 264, 280, 319, 541, 487, 323, 247, 308, 296, 306, 272, 307, 312, 279, 161, 82, 56, 31, 38, 27, 52, 74, 111, 138, 187, 202, 230, 212, 172, 199, 265, 249, 169, 147, 168, 127, 124, 85, 124, 100]}, {\"mode\": \"lines\", \"name\": \"sterling7\", \"type\": \"scatter\", \"x\": [\"2021-06-19T08:00:00+00:00\", \"2021-06-19T09:00:00+00:00\", \"2021-06-19T10:00:00+00:00\", \"2021-06-19T11:00:00+00:00\", \"2021-06-19T12:00:00+00:00\", \"2021-06-19T13:00:00+00:00\", \"2021-06-19T14:00:00+00:00\", \"2021-06-19T15:00:00+00:00\", \"2021-06-19T16:00:00+00:00\", \"2021-06-19T17:00:00+00:00\", \"2021-06-19T18:00:00+00:00\", \"2021-06-19T19:00:00+00:00\", \"2021-06-19T20:00:00+00:00\", \"2021-06-19T21:00:00+00:00\", \"2021-06-19T22:00:00+00:00\", \"2021-06-19T23:00:00+00:00\", \"2021-06-20T00:00:00+00:00\", \"2021-06-20T01:00:00+00:00\", \"2021-06-20T02:00:00+00:00\", \"2021-06-20T03:00:00+00:00\", \"2021-06-20T04:00:00+00:00\", \"2021-06-20T05:00:00+00:00\", \"2021-06-20T06:00:00+00:00\", \"2021-06-20T07:00:00+00:00\", \"2021-06-20T08:00:00+00:00\", \"2021-06-20T09:00:00+00:00\", \"2021-06-20T10:00:00+00:00\", \"2021-06-20T11:00:00+00:00\", \"2021-06-20T12:00:00+00:00\", \"2021-06-20T13:00:00+00:00\", \"2021-06-20T14:00:00+00:00\", \"2021-06-20T15:00:00+00:00\", \"2021-06-20T16:00:00+00:00\", \"2021-06-20T17:00:00+00:00\", \"2021-06-20T18:00:00+00:00\", \"2021-06-20T19:00:00+00:00\", \"2021-06-20T20:00:00+00:00\", \"2021-06-20T21:00:00+00:00\", \"2021-06-20T22:00:00+00:00\", \"2021-06-20T23:00:00+00:00\", \"2021-06-21T00:00:00+00:00\", \"2021-06-21T01:00:00+00:00\", \"2021-06-21T02:00:00+00:00\", \"2021-06-21T03:00:00+00:00\", \"2021-06-21T04:00:00+00:00\", \"2021-06-21T05:00:00+00:00\", \"2021-06-21T06:00:00+00:00\", \"2021-06-21T07:00:00+00:00\", \"2021-06-21T08:00:00+00:00\", \"2021-06-21T09:00:00+00:00\", \"2021-06-21T10:00:00+00:00\", \"2021-06-21T11:00:00+00:00\", \"2021-06-21T12:00:00+00:00\", \"2021-06-21T13:00:00+00:00\", \"2021-06-21T14:00:00+00:00\", \"2021-06-21T15:00:00+00:00\", \"2021-06-21T16:00:00+00:00\", \"2021-06-21T17:00:00+00:00\", \"2021-06-21T18:00:00+00:00\", \"2021-06-21T19:00:00+00:00\", \"2021-06-21T20:00:00+00:00\", \"2021-06-21T21:00:00+00:00\", \"2021-06-21T22:00:00+00:00\", \"2021-06-21T23:00:00+00:00\", \"2021-06-22T00:00:00+00:00\", \"2021-06-22T01:00:00+00:00\", \"2021-06-22T02:00:00+00:00\", \"2021-06-22T03:00:00+00:00\", \"2021-06-22T04:00:00+00:00\", \"2021-06-22T05:00:00+00:00\", \"2021-06-22T06:00:00+00:00\", \"2021-06-22T07:00:00+00:00\", \"2021-06-22T08:00:00+00:00\", \"2021-06-22T09:00:00+00:00\", \"2021-06-22T10:00:00+00:00\", \"2021-06-22T11:00:00+00:00\", \"2021-06-22T12:00:00+00:00\", \"2021-06-22T13:00:00+00:00\", \"2021-06-22T14:00:00+00:00\", \"2021-06-22T15:00:00+00:00\", \"2021-06-22T16:00:00+00:00\", \"2021-06-22T17:00:00+00:00\", \"2021-06-22T18:00:00+00:00\", \"2021-06-22T19:00:00+00:00\", \"2021-06-22T20:00:00+00:00\", \"2021-06-22T21:00:00+00:00\", \"2021-06-22T22:00:00+00:00\", \"2021-06-22T23:00:00+00:00\", \"2021-06-23T00:00:00+00:00\", \"2021-06-23T01:00:00+00:00\", \"2021-06-23T02:00:00+00:00\", \"2021-06-23T03:00:00+00:00\", \"2021-06-23T04:00:00+00:00\", \"2021-06-23T05:00:00+00:00\", \"2021-06-23T06:00:00+00:00\", \"2021-06-23T07:00:00+00:00\", \"2021-06-23T08:00:00+00:00\", \"2021-06-23T09:00:00+00:00\", \"2021-06-23T10:00:00+00:00\", \"2021-06-23T11:00:00+00:00\", \"2021-06-23T12:00:00+00:00\", \"2021-06-23T13:00:00+00:00\", \"2021-06-23T14:00:00+00:00\", \"2021-06-23T15:00:00+00:00\", \"2021-06-23T16:00:00+00:00\", \"2021-06-23T17:00:00+00:00\", \"2021-06-23T18:00:00+00:00\", \"2021-06-23T19:00:00+00:00\", \"2021-06-23T20:00:00+00:00\", \"2021-06-23T21:00:00+00:00\", \"2021-06-23T22:00:00+00:00\", \"2021-06-23T23:00:00+00:00\", \"2021-06-24T00:00:00+00:00\", \"2021-06-24T01:00:00+00:00\", \"2021-06-24T02:00:00+00:00\", \"2021-06-24T03:00:00+00:00\", \"2021-06-24T04:00:00+00:00\", \"2021-06-24T05:00:00+00:00\", \"2021-06-24T06:00:00+00:00\", \"2021-06-24T07:00:00+00:00\", \"2021-06-24T08:00:00+00:00\", \"2021-06-24T09:00:00+00:00\", \"2021-06-24T10:00:00+00:00\", \"2021-06-24T11:00:00+00:00\", \"2021-06-24T12:00:00+00:00\", \"2021-06-24T13:00:00+00:00\", \"2021-06-24T14:00:00+00:00\", \"2021-06-24T15:00:00+00:00\", \"2021-06-24T16:00:00+00:00\", \"2021-06-24T17:00:00+00:00\", \"2021-06-24T18:00:00+00:00\", \"2021-06-24T19:00:00+00:00\", \"2021-06-24T20:00:00+00:00\", \"2021-06-24T21:00:00+00:00\", \"2021-06-24T22:00:00+00:00\", \"2021-06-24T23:00:00+00:00\", \"2021-06-25T00:00:00+00:00\", \"2021-06-25T01:00:00+00:00\", \"2021-06-25T02:00:00+00:00\", \"2021-06-25T03:00:00+00:00\", \"2021-06-25T04:00:00+00:00\", \"2021-06-25T05:00:00+00:00\", \"2021-06-25T06:00:00+00:00\", \"2021-06-25T07:00:00+00:00\", \"2021-06-25T08:00:00+00:00\", \"2021-06-25T09:00:00+00:00\", \"2021-06-25T10:00:00+00:00\", \"2021-06-25T11:00:00+00:00\", \"2021-06-25T12:00:00+00:00\", \"2021-06-25T13:00:00+00:00\", \"2021-06-25T14:00:00+00:00\", \"2021-06-25T15:00:00+00:00\", \"2021-06-25T16:00:00+00:00\", \"2021-06-25T17:00:00+00:00\", \"2021-06-25T18:00:00+00:00\", \"2021-06-25T19:00:00+00:00\", \"2021-06-25T20:00:00+00:00\", \"2021-06-25T21:00:00+00:00\", \"2021-06-25T22:00:00+00:00\", \"2021-06-25T23:00:00+00:00\", \"2021-06-26T00:00:00+00:00\", \"2021-06-26T01:00:00+00:00\", \"2021-06-26T02:00:00+00:00\", \"2021-06-26T03:00:00+00:00\", \"2021-06-26T04:00:00+00:00\", \"2021-06-26T05:00:00+00:00\", \"2021-06-26T06:00:00+00:00\", \"2021-06-26T07:00:00+00:00\", \"2021-06-26T08:00:00+00:00\", \"2021-06-26T09:00:00+00:00\", \"2021-06-26T10:00:00+00:00\", \"2021-06-26T11:00:00+00:00\", \"2021-06-26T12:00:00+00:00\", \"2021-06-26T13:00:00+00:00\", \"2021-06-26T14:00:00+00:00\", \"2021-06-26T15:00:00+00:00\", \"2021-06-26T16:00:00+00:00\", \"2021-06-26T17:00:00+00:00\", \"2021-06-26T18:00:00+00:00\", \"2021-06-26T19:00:00+00:00\", \"2021-06-26T20:00:00+00:00\", \"2021-06-26T21:00:00+00:00\", \"2021-06-26T22:00:00+00:00\", \"2021-06-26T23:00:00+00:00\", \"2021-06-27T00:00:00+00:00\", \"2021-06-27T01:00:00+00:00\", \"2021-06-27T02:00:00+00:00\", \"2021-06-27T03:00:00+00:00\", \"2021-06-27T04:00:00+00:00\", \"2021-06-27T05:00:00+00:00\", \"2021-06-27T06:00:00+00:00\", \"2021-06-27T07:00:00+00:00\", \"2021-06-27T08:00:00+00:00\", \"2021-06-27T09:00:00+00:00\", \"2021-06-27T10:00:00+00:00\", \"2021-06-27T11:00:00+00:00\", \"2021-06-27T12:00:00+00:00\", \"2021-06-27T13:00:00+00:00\", \"2021-06-27T14:00:00+00:00\", \"2021-06-27T15:00:00+00:00\", \"2021-06-27T16:00:00+00:00\", \"2021-06-27T17:00:00+00:00\", \"2021-06-27T18:00:00+00:00\", \"2021-06-27T19:00:00+00:00\", \"2021-06-27T20:00:00+00:00\", \"2021-06-27T21:00:00+00:00\", \"2021-06-27T22:00:00+00:00\", \"2021-06-27T23:00:00+00:00\", \"2021-06-28T00:00:00+00:00\", \"2021-06-28T01:00:00+00:00\", \"2021-06-28T02:00:00+00:00\", \"2021-06-28T03:00:00+00:00\", \"2021-06-28T04:00:00+00:00\", \"2021-06-28T05:00:00+00:00\", \"2021-06-28T06:00:00+00:00\", \"2021-06-28T07:00:00+00:00\", \"2021-06-28T08:00:00+00:00\", \"2021-06-28T09:00:00+00:00\", \"2021-06-28T10:00:00+00:00\", \"2021-06-28T11:00:00+00:00\", \"2021-06-28T12:00:00+00:00\", \"2021-06-28T13:00:00+00:00\", \"2021-06-28T14:00:00+00:00\", \"2021-06-28T15:00:00+00:00\", \"2021-06-28T16:00:00+00:00\", \"2021-06-28T17:00:00+00:00\", \"2021-06-28T18:00:00+00:00\", \"2021-06-28T19:00:00+00:00\", \"2021-06-28T20:00:00+00:00\", \"2021-06-28T21:00:00+00:00\", \"2021-06-28T22:00:00+00:00\", \"2021-06-28T23:00:00+00:00\", \"2021-06-29T00:00:00+00:00\", \"2021-06-29T01:00:00+00:00\", \"2021-06-29T02:00:00+00:00\", \"2021-06-29T03:00:00+00:00\", \"2021-06-29T04:00:00+00:00\", \"2021-06-29T05:00:00+00:00\", \"2021-06-29T06:00:00+00:00\", \"2021-06-29T07:00:00+00:00\", \"2021-06-29T08:00:00+00:00\", \"2021-06-29T09:00:00+00:00\", \"2021-06-29T10:00:00+00:00\", \"2021-06-29T11:00:00+00:00\", \"2021-06-29T12:00:00+00:00\", \"2021-06-29T13:00:00+00:00\", \"2021-06-29T14:00:00+00:00\", \"2021-06-29T15:00:00+00:00\", \"2021-06-29T16:00:00+00:00\", \"2021-06-29T17:00:00+00:00\", \"2021-06-29T18:00:00+00:00\", \"2021-06-29T19:00:00+00:00\", \"2021-06-29T20:00:00+00:00\", \"2021-06-29T21:00:00+00:00\", \"2021-06-29T22:00:00+00:00\", \"2021-06-29T23:00:00+00:00\", \"2021-06-30T00:00:00+00:00\", \"2021-06-30T01:00:00+00:00\", \"2021-06-30T02:00:00+00:00\", \"2021-06-30T03:00:00+00:00\", \"2021-06-30T04:00:00+00:00\", \"2021-06-30T05:00:00+00:00\", \"2021-06-30T06:00:00+00:00\", \"2021-06-30T07:00:00+00:00\", \"2021-06-30T08:00:00+00:00\", \"2021-06-30T09:00:00+00:00\", \"2021-06-30T10:00:00+00:00\", \"2021-06-30T11:00:00+00:00\", \"2021-06-30T12:00:00+00:00\", \"2021-06-30T13:00:00+00:00\", \"2021-06-30T14:00:00+00:00\", \"2021-06-30T15:00:00+00:00\", \"2021-06-30T16:00:00+00:00\", \"2021-06-30T17:00:00+00:00\", \"2021-06-30T18:00:00+00:00\", \"2021-06-30T19:00:00+00:00\", \"2021-06-30T20:00:00+00:00\", \"2021-06-30T21:00:00+00:00\", \"2021-06-30T22:00:00+00:00\", \"2021-06-30T23:00:00+00:00\", \"2021-07-01T00:00:00+00:00\", \"2021-07-01T01:00:00+00:00\", \"2021-07-01T02:00:00+00:00\", \"2021-07-01T03:00:00+00:00\", \"2021-07-01T04:00:00+00:00\", \"2021-07-01T05:00:00+00:00\", \"2021-07-01T06:00:00+00:00\", \"2021-07-01T07:00:00+00:00\", \"2021-07-01T08:00:00+00:00\", \"2021-07-01T09:00:00+00:00\", \"2021-07-01T10:00:00+00:00\", \"2021-07-01T11:00:00+00:00\", \"2021-07-01T12:00:00+00:00\", \"2021-07-01T13:00:00+00:00\", \"2021-07-01T14:00:00+00:00\", \"2021-07-01T15:00:00+00:00\", \"2021-07-01T16:00:00+00:00\", \"2021-07-01T17:00:00+00:00\", \"2021-07-01T18:00:00+00:00\", \"2021-07-01T19:00:00+00:00\", \"2021-07-01T20:00:00+00:00\", \"2021-07-01T21:00:00+00:00\", \"2021-07-01T22:00:00+00:00\", \"2021-07-01T23:00:00+00:00\", \"2021-07-02T00:00:00+00:00\", \"2021-07-02T01:00:00+00:00\", \"2021-07-02T02:00:00+00:00\", \"2021-07-02T03:00:00+00:00\", \"2021-07-02T04:00:00+00:00\", \"2021-07-02T05:00:00+00:00\", \"2021-07-02T06:00:00+00:00\", \"2021-07-02T07:00:00+00:00\", \"2021-07-02T08:00:00+00:00\", \"2021-07-02T09:00:00+00:00\", \"2021-07-02T10:00:00+00:00\", \"2021-07-02T11:00:00+00:00\", \"2021-07-02T12:00:00+00:00\", \"2021-07-02T13:00:00+00:00\", \"2021-07-02T14:00:00+00:00\", \"2021-07-02T15:00:00+00:00\", \"2021-07-02T16:00:00+00:00\", \"2021-07-02T17:00:00+00:00\", \"2021-07-02T18:00:00+00:00\", \"2021-07-02T19:00:00+00:00\", \"2021-07-02T20:00:00+00:00\", \"2021-07-02T21:00:00+00:00\", \"2021-07-02T22:00:00+00:00\", \"2021-07-02T23:00:00+00:00\", \"2021-07-03T00:00:00+00:00\", \"2021-07-03T01:00:00+00:00\", \"2021-07-03T02:00:00+00:00\", \"2021-07-03T03:00:00+00:00\", \"2021-07-03T04:00:00+00:00\", \"2021-07-03T05:00:00+00:00\", \"2021-07-03T06:00:00+00:00\", \"2021-07-03T07:00:00+00:00\", \"2021-07-03T08:00:00+00:00\", \"2021-07-03T09:00:00+00:00\", \"2021-07-03T10:00:00+00:00\", \"2021-07-03T11:00:00+00:00\", \"2021-07-03T12:00:00+00:00\", \"2021-07-03T13:00:00+00:00\", \"2021-07-03T14:00:00+00:00\", \"2021-07-03T15:00:00+00:00\", \"2021-07-03T16:00:00+00:00\", \"2021-07-03T17:00:00+00:00\", \"2021-07-03T18:00:00+00:00\", \"2021-07-03T19:00:00+00:00\", \"2021-07-03T20:00:00+00:00\", \"2021-07-03T21:00:00+00:00\", \"2021-07-03T22:00:00+00:00\", \"2021-07-03T23:00:00+00:00\", \"2021-07-04T00:00:00+00:00\", \"2021-07-04T01:00:00+00:00\", \"2021-07-04T02:00:00+00:00\", \"2021-07-04T03:00:00+00:00\", \"2021-07-04T04:00:00+00:00\", \"2021-07-04T05:00:00+00:00\", \"2021-07-04T06:00:00+00:00\", \"2021-07-04T07:00:00+00:00\", \"2021-07-04T08:00:00+00:00\", \"2021-07-04T09:00:00+00:00\", \"2021-07-04T10:00:00+00:00\", \"2021-07-04T11:00:00+00:00\", \"2021-07-04T12:00:00+00:00\", \"2021-07-04T13:00:00+00:00\", \"2021-07-04T14:00:00+00:00\", \"2021-07-04T15:00:00+00:00\", \"2021-07-04T16:00:00+00:00\", \"2021-07-04T17:00:00+00:00\", \"2021-07-04T18:00:00+00:00\", \"2021-07-04T19:00:00+00:00\", \"2021-07-04T20:00:00+00:00\", \"2021-07-04T21:00:00+00:00\", \"2021-07-04T22:00:00+00:00\", \"2021-07-04T23:00:00+00:00\", \"2021-07-05T00:00:00+00:00\", \"2021-07-05T01:00:00+00:00\", \"2021-07-05T02:00:00+00:00\", \"2021-07-05T03:00:00+00:00\", \"2021-07-05T04:00:00+00:00\", \"2021-07-05T05:00:00+00:00\", \"2021-07-05T06:00:00+00:00\", \"2021-07-05T07:00:00+00:00\", \"2021-07-05T08:00:00+00:00\", \"2021-07-05T09:00:00+00:00\", \"2021-07-05T10:00:00+00:00\", \"2021-07-05T11:00:00+00:00\", \"2021-07-05T12:00:00+00:00\", \"2021-07-05T13:00:00+00:00\", \"2021-07-05T14:00:00+00:00\", \"2021-07-05T15:00:00+00:00\", \"2021-07-05T16:00:00+00:00\", \"2021-07-05T17:00:00+00:00\", \"2021-07-05T18:00:00+00:00\", \"2021-07-05T19:00:00+00:00\", \"2021-07-05T20:00:00+00:00\", \"2021-07-05T21:00:00+00:00\", \"2021-07-05T22:00:00+00:00\", \"2021-07-05T23:00:00+00:00\", \"2021-07-06T00:00:00+00:00\", \"2021-07-06T01:00:00+00:00\", \"2021-07-06T02:00:00+00:00\", \"2021-07-06T03:00:00+00:00\", \"2021-07-06T04:00:00+00:00\", \"2021-07-06T05:00:00+00:00\", \"2021-07-06T06:00:00+00:00\", \"2021-07-06T07:00:00+00:00\", \"2021-07-06T08:00:00+00:00\", \"2021-07-06T09:00:00+00:00\", \"2021-07-06T10:00:00+00:00\", \"2021-07-06T11:00:00+00:00\", \"2021-07-06T12:00:00+00:00\", \"2021-07-06T13:00:00+00:00\", \"2021-07-06T14:00:00+00:00\", \"2021-07-06T15:00:00+00:00\", \"2021-07-06T16:00:00+00:00\", \"2021-07-06T17:00:00+00:00\", \"2021-07-06T18:00:00+00:00\", \"2021-07-06T19:00:00+00:00\", \"2021-07-06T20:00:00+00:00\", \"2021-07-06T21:00:00+00:00\", \"2021-07-06T22:00:00+00:00\", \"2021-07-06T23:00:00+00:00\", \"2021-07-07T00:00:00+00:00\", \"2021-07-07T01:00:00+00:00\", \"2021-07-07T02:00:00+00:00\", \"2021-07-07T03:00:00+00:00\", \"2021-07-07T04:00:00+00:00\", \"2021-07-07T05:00:00+00:00\", \"2021-07-07T06:00:00+00:00\", \"2021-07-07T07:00:00+00:00\", \"2021-07-07T08:00:00+00:00\", \"2021-07-07T09:00:00+00:00\", \"2021-07-07T10:00:00+00:00\", \"2021-07-07T11:00:00+00:00\", \"2021-07-07T12:00:00+00:00\", \"2021-07-07T13:00:00+00:00\", \"2021-07-07T14:00:00+00:00\", \"2021-07-07T15:00:00+00:00\", \"2021-07-07T16:00:00+00:00\", \"2021-07-07T17:00:00+00:00\", \"2021-07-07T18:00:00+00:00\", \"2021-07-07T19:00:00+00:00\", \"2021-07-07T20:00:00+00:00\", \"2021-07-07T21:00:00+00:00\", \"2021-07-07T22:00:00+00:00\", \"2021-07-07T23:00:00+00:00\", \"2021-07-08T00:00:00+00:00\", \"2021-07-08T01:00:00+00:00\", \"2021-07-08T02:00:00+00:00\", \"2021-07-08T03:00:00+00:00\", \"2021-07-08T04:00:00+00:00\", \"2021-07-08T05:00:00+00:00\", \"2021-07-08T06:00:00+00:00\", \"2021-07-08T07:00:00+00:00\", \"2021-07-08T08:00:00+00:00\", \"2021-07-08T09:00:00+00:00\", \"2021-07-08T10:00:00+00:00\", \"2021-07-08T11:00:00+00:00\", \"2021-07-08T12:00:00+00:00\", \"2021-07-08T13:00:00+00:00\", \"2021-07-08T14:00:00+00:00\", \"2021-07-08T15:00:00+00:00\", \"2021-07-08T16:00:00+00:00\", \"2021-07-08T17:00:00+00:00\", \"2021-07-08T18:00:00+00:00\", \"2021-07-08T19:00:00+00:00\", \"2021-07-08T20:00:00+00:00\", \"2021-07-08T21:00:00+00:00\", \"2021-07-08T22:00:00+00:00\", \"2021-07-08T23:00:00+00:00\", \"2021-07-09T00:00:00+00:00\", \"2021-07-09T01:00:00+00:00\", \"2021-07-09T02:00:00+00:00\", \"2021-07-09T03:00:00+00:00\", \"2021-07-09T04:00:00+00:00\", \"2021-07-09T05:00:00+00:00\", \"2021-07-09T06:00:00+00:00\", \"2021-07-09T07:00:00+00:00\", \"2021-07-09T08:00:00+00:00\", \"2021-07-09T09:00:00+00:00\", \"2021-07-09T10:00:00+00:00\", \"2021-07-09T11:00:00+00:00\", \"2021-07-09T12:00:00+00:00\", \"2021-07-09T13:00:00+00:00\", \"2021-07-09T14:00:00+00:00\", \"2021-07-09T15:00:00+00:00\", \"2021-07-09T16:00:00+00:00\", \"2021-07-09T17:00:00+00:00\", \"2021-07-09T18:00:00+00:00\", \"2021-07-09T19:00:00+00:00\", \"2021-07-09T20:00:00+00:00\", \"2021-07-09T21:00:00+00:00\", \"2021-07-09T22:00:00+00:00\", \"2021-07-09T23:00:00+00:00\", \"2021-07-10T00:00:00+00:00\", \"2021-07-10T01:00:00+00:00\", \"2021-07-10T02:00:00+00:00\", \"2021-07-10T03:00:00+00:00\", \"2021-07-10T04:00:00+00:00\", \"2021-07-10T05:00:00+00:00\", \"2021-07-10T06:00:00+00:00\", \"2021-07-10T07:00:00+00:00\", \"2021-07-10T08:00:00+00:00\", \"2021-07-10T09:00:00+00:00\", \"2021-07-10T10:00:00+00:00\", \"2021-07-10T11:00:00+00:00\", \"2021-07-10T12:00:00+00:00\", \"2021-07-10T13:00:00+00:00\", \"2021-07-10T14:00:00+00:00\", \"2021-07-10T15:00:00+00:00\", \"2021-07-10T16:00:00+00:00\", \"2021-07-10T17:00:00+00:00\", \"2021-07-10T18:00:00+00:00\", \"2021-07-10T19:00:00+00:00\", \"2021-07-10T20:00:00+00:00\", \"2021-07-10T21:00:00+00:00\", \"2021-07-10T22:00:00+00:00\", \"2021-07-10T23:00:00+00:00\", \"2021-07-11T00:00:00+00:00\", \"2021-07-11T01:00:00+00:00\", \"2021-07-11T02:00:00+00:00\", \"2021-07-11T03:00:00+00:00\", \"2021-07-11T04:00:00+00:00\", \"2021-07-11T05:00:00+00:00\", \"2021-07-11T06:00:00+00:00\", \"2021-07-11T07:00:00+00:00\", \"2021-07-11T08:00:00+00:00\", \"2021-07-11T09:00:00+00:00\", \"2021-07-11T10:00:00+00:00\", \"2021-07-11T11:00:00+00:00\", \"2021-07-11T12:00:00+00:00\", \"2021-07-11T13:00:00+00:00\", \"2021-07-11T14:00:00+00:00\", \"2021-07-11T15:00:00+00:00\", \"2021-07-11T16:00:00+00:00\", \"2021-07-11T17:00:00+00:00\", \"2021-07-11T18:00:00+00:00\", \"2021-07-11T19:00:00+00:00\", \"2021-07-11T20:00:00+00:00\", \"2021-07-11T21:00:00+00:00\", \"2021-07-11T22:00:00+00:00\", \"2021-07-11T23:00:00+00:00\", \"2021-07-12T00:00:00+00:00\", \"2021-07-12T01:00:00+00:00\", \"2021-07-12T02:00:00+00:00\", \"2021-07-12T03:00:00+00:00\", \"2021-07-12T04:00:00+00:00\", \"2021-07-12T05:00:00+00:00\", \"2021-07-12T06:00:00+00:00\", \"2021-07-12T07:00:00+00:00\", \"2021-07-12T08:00:00+00:00\", \"2021-07-12T09:00:00+00:00\", \"2021-07-12T10:00:00+00:00\", \"2021-07-12T11:00:00+00:00\", \"2021-07-12T12:00:00+00:00\", \"2021-07-12T13:00:00+00:00\", \"2021-07-12T14:00:00+00:00\", \"2021-07-12T15:00:00+00:00\", \"2021-07-12T16:00:00+00:00\", \"2021-07-12T17:00:00+00:00\", \"2021-07-12T18:00:00+00:00\", \"2021-07-12T19:00:00+00:00\", \"2021-07-12T20:00:00+00:00\", \"2021-07-12T21:00:00+00:00\", \"2021-07-12T22:00:00+00:00\", \"2021-07-12T23:00:00+00:00\", \"2021-07-13T00:00:00+00:00\", \"2021-07-13T01:00:00+00:00\", \"2021-07-13T02:00:00+00:00\", \"2021-07-13T03:00:00+00:00\", \"2021-07-13T04:00:00+00:00\", \"2021-07-13T05:00:00+00:00\", \"2021-07-13T06:00:00+00:00\", \"2021-07-13T07:00:00+00:00\", \"2021-07-13T08:00:00+00:00\", \"2021-07-13T09:00:00+00:00\", \"2021-07-13T10:00:00+00:00\", \"2021-07-13T11:00:00+00:00\", \"2021-07-13T12:00:00+00:00\", \"2021-07-13T13:00:00+00:00\", \"2021-07-13T14:00:00+00:00\", \"2021-07-13T15:00:00+00:00\", \"2021-07-13T16:00:00+00:00\", \"2021-07-13T17:00:00+00:00\", \"2021-07-13T18:00:00+00:00\", \"2021-07-13T19:00:00+00:00\", \"2021-07-13T20:00:00+00:00\", \"2021-07-13T21:00:00+00:00\", \"2021-07-13T22:00:00+00:00\", \"2021-07-13T23:00:00+00:00\", \"2021-07-14T00:00:00+00:00\", \"2021-07-14T01:00:00+00:00\", \"2021-07-14T02:00:00+00:00\", \"2021-07-14T03:00:00+00:00\", \"2021-07-14T04:00:00+00:00\", \"2021-07-14T05:00:00+00:00\", \"2021-07-14T06:00:00+00:00\", \"2021-07-14T07:00:00+00:00\", \"2021-07-14T08:00:00+00:00\", \"2021-07-14T09:00:00+00:00\", \"2021-07-14T10:00:00+00:00\", \"2021-07-14T11:00:00+00:00\", \"2021-07-14T12:00:00+00:00\", \"2021-07-14T13:00:00+00:00\", \"2021-07-14T14:00:00+00:00\", \"2021-07-14T15:00:00+00:00\", \"2021-07-14T16:00:00+00:00\", \"2021-07-14T17:00:00+00:00\", \"2021-07-14T18:00:00+00:00\", \"2021-07-14T19:00:00+00:00\", \"2021-07-14T20:00:00+00:00\", \"2021-07-14T21:00:00+00:00\", \"2021-07-14T22:00:00+00:00\", \"2021-07-14T23:00:00+00:00\", \"2021-07-15T00:00:00+00:00\", \"2021-07-15T01:00:00+00:00\", \"2021-07-15T02:00:00+00:00\", \"2021-07-15T03:00:00+00:00\", \"2021-07-15T04:00:00+00:00\", \"2021-07-15T05:00:00+00:00\", \"2021-07-15T06:00:00+00:00\", \"2021-07-15T07:00:00+00:00\", \"2021-07-15T08:00:00+00:00\", \"2021-07-15T09:00:00+00:00\", \"2021-07-15T10:00:00+00:00\", \"2021-07-15T11:00:00+00:00\", \"2021-07-15T12:00:00+00:00\", \"2021-07-15T13:00:00+00:00\", \"2021-07-15T14:00:00+00:00\", \"2021-07-15T15:00:00+00:00\", \"2021-07-15T16:00:00+00:00\", \"2021-07-15T17:00:00+00:00\", \"2021-07-15T18:00:00+00:00\", \"2021-07-15T19:00:00+00:00\", \"2021-07-15T20:00:00+00:00\", \"2021-07-15T21:00:00+00:00\", \"2021-07-15T22:00:00+00:00\", \"2021-07-15T23:00:00+00:00\", \"2021-07-16T00:00:00+00:00\", \"2021-07-16T01:00:00+00:00\", \"2021-07-16T02:00:00+00:00\", \"2021-07-16T03:00:00+00:00\", \"2021-07-16T04:00:00+00:00\", \"2021-07-16T05:00:00+00:00\", \"2021-07-16T06:00:00+00:00\", \"2021-07-16T07:00:00+00:00\", \"2021-07-16T08:00:00+00:00\", \"2021-07-16T09:00:00+00:00\", \"2021-07-16T10:00:00+00:00\", \"2021-07-16T11:00:00+00:00\", \"2021-07-16T12:00:00+00:00\", \"2021-07-16T13:00:00+00:00\", \"2021-07-16T14:00:00+00:00\", \"2021-07-16T15:00:00+00:00\", \"2021-07-16T16:00:00+00:00\", \"2021-07-16T17:00:00+00:00\", \"2021-07-16T18:00:00+00:00\", \"2021-07-16T19:00:00+00:00\", \"2021-07-16T20:00:00+00:00\", \"2021-07-16T21:00:00+00:00\", \"2021-07-16T22:00:00+00:00\", \"2021-07-16T23:00:00+00:00\"], \"y\": [26, 29, 44, 50, 28, 13, 16, 12, 10, 8, 4, 6, 8, 4, 5, 5, 2, 1, 1, 3, 1, 1, 3, 4, 6, 1, 7, 9, 12, 6, 2, 3, 0, 2, 2, 6, 2, 7, 6, 0, 0, 0, 0, 0, 0, 3, 0, 3, 7, 10, 8, 14, 63, 26, 18, 11, 55, 13, 77, 34, 13, 5, 5, 1, 7, 2, 0, 4, 3, 5, 3, 7, 12, 6, 39, 10, 17, 20, 7, 17, 8, 51, 71, 1256, 435, 454, 190, 78, 53, 18, 16, 16, 21, 22, 46, 53, 53, 58, 67, 40, 55, 77, 123, 51, 95, 59, 39, 27, 54, 48, 19, 13, 4, 2, 5, 2, 3, 5, 4, 11, 10, 9, 8, 7, 6, 18, 18, 18, 13, 1, 18, 19, 46, 25, 6, 5, 1, 1, 2, 1, 2, 3, 5, 5, 33, 17, 27, 9, 28, 3, 6, 77, 34, 22, 14, 19, 22, 12, 9, 3, 2, 1, 5, 1, 0, 2, 6, 5, 5, 3, 9, 11, 14, 3, 3, 11, 8, 10, 7, 8, 8, 7, 2, 2, 4, 0, 1, 2, 0, 2, 0, 3, 4, 0, 0, 2, 5, 3, 2, 4, 15, 50, 12, 5, 10, 19, 15, 12, 0, 1, 1, 3, 0, 4, 0, 4, 4, 8, 8, 5, 6, 6, 5, 9, 3, 1, 2, 4, 4, 20, 9, 4, 3, 0, 0, 0, 1, 5, 7, 9, 57, 38, 15, 20, 13, 64, 98, 97, 210, 2905, 2411, 1879, 1658, 1547, 807, 458, 245, 117, 102, 104, 136, 212, 335, 385, 518, 413, 351, 378, 441, 315, 283, 169, 196, 214, 248, 212, 168, 249, 121, 53, 43, 29, 18, 16, 46, 53, 57, 68, 83, 69, 59, 43, 70, 57, 35, 43, 48, 26, 63, 48, 27, 31, 25, 18, 9, 3, 3, 4, 6, 9, 14, 22, 23, 22, 29, 16, 22, 16, 26, 37, 30, 64, 49, 27, 24, 14, 8, 7, 1, 2, 3, 1, 2, 3, 8, 28, 30, 37, 22, 35, 65, 37, 131, 232, 143, 154, 290, 574, 319, 523, 435, 166, 84, 25, 33, 20, 16, 17, 54, 96, 271, 278, 172, 137, 129, 127, 81, 363, 221, 277, 169, 144, 131, 101, 86, 41, 51, 61, 25, 18, 25, 45, 81, 77, 84, 48, 52, 49, 45, 44, 31, 14, 16, 44, 33, 27, 24, 10, 20, 4, 3, 2, 0, 3, 3, 2, 10, 6, 19, 13, 7, 9, 9, 12, 43, 38, 29, 58, 33, 21, 38, 18, 20, 5, 15, 1, 3, 1, 0, 9, 15, 33, 81, 49, 51, 28, 46, 54, 201, 81, 121, 270, 199, 772, 218, 6519, 5698, 2337, 828, 414, 276, 193, 289, 527, 818, 926, 899, 862, 756, 643, 543, 608, 424, 371, 908, 516, 511, 389, 347, 398, 276, 108, 74, 51, 37, 56, 64, 116, 132, 178, 228, 242, 241, 187, 161, 232, 225, 159, 177, 113, 99, 98, 87, 77, 64, 41, 33, 18, 11, 9, 24, 32, 60, 119, 119, 115, 116, 85, 81, 90, 80, 105, 297, 160, 161, 172, 131, 139, 108, 71, 48, 36, 35, 18, 21, 25, 71, 132, 213, 193, 168, 155, 145, 140, 645, 384, 371, 517, 417, 287, 613, 425, 1679, 569, 368, 124, 72, 47, 69, 94, 189, 240, 300, 305, 254, 216, 139, 0, 19, 160, 147, 163, 141, 198, 202, 140, 86, 49, 45, 18, 17, 16, 20, 18, 63, 77, 103, 441, 470, 223, 162, 196, 109, 77, 99, 81, 91, 108, 53, 50, 27, 42, 21, 15, 17, 11, 11, 24, 42, 46, 20, 36, 45, 76, 32, 119, 29, 28, 24, 20, 16, 27, 33, 24, 9, 11, 6, 7, 5, 8, 8, 5, 8, 6, 11, 14, 13, 12, 16, 11, 7, 12, 18, 14, 8, 10, 20, 9, 9, 4, 2, 2, 1, 1, 1, 1, 3, 8, 33, 5, 7, 10, 6, 3, 9, 6, 5, 7, 11, 5, 14, 14, 4, 13]}, {\"mode\": \"lines\", \"name\": \"HKane\", \"type\": \"scatter\", \"x\": [\"2021-06-19T08:00:00+00:00\", \"2021-06-19T09:00:00+00:00\", \"2021-06-19T10:00:00+00:00\", \"2021-06-19T11:00:00+00:00\", \"2021-06-19T12:00:00+00:00\", \"2021-06-19T13:00:00+00:00\", \"2021-06-19T14:00:00+00:00\", \"2021-06-19T15:00:00+00:00\", \"2021-06-19T16:00:00+00:00\", \"2021-06-19T17:00:00+00:00\", \"2021-06-19T18:00:00+00:00\", \"2021-06-19T19:00:00+00:00\", \"2021-06-19T20:00:00+00:00\", \"2021-06-19T21:00:00+00:00\", \"2021-06-19T22:00:00+00:00\", \"2021-06-19T23:00:00+00:00\", \"2021-06-20T00:00:00+00:00\", \"2021-06-20T01:00:00+00:00\", \"2021-06-20T02:00:00+00:00\", \"2021-06-20T03:00:00+00:00\", \"2021-06-20T04:00:00+00:00\", \"2021-06-20T05:00:00+00:00\", \"2021-06-20T06:00:00+00:00\", \"2021-06-20T07:00:00+00:00\", \"2021-06-20T08:00:00+00:00\", \"2021-06-20T09:00:00+00:00\", \"2021-06-20T10:00:00+00:00\", \"2021-06-20T11:00:00+00:00\", \"2021-06-20T12:00:00+00:00\", \"2021-06-20T13:00:00+00:00\", \"2021-06-20T14:00:00+00:00\", \"2021-06-20T15:00:00+00:00\", \"2021-06-20T16:00:00+00:00\", \"2021-06-20T17:00:00+00:00\", \"2021-06-20T18:00:00+00:00\", \"2021-06-20T19:00:00+00:00\", \"2021-06-20T20:00:00+00:00\", \"2021-06-20T21:00:00+00:00\", \"2021-06-20T22:00:00+00:00\", \"2021-06-20T23:00:00+00:00\", \"2021-06-21T00:00:00+00:00\", \"2021-06-21T01:00:00+00:00\", \"2021-06-21T02:00:00+00:00\", \"2021-06-21T03:00:00+00:00\", \"2021-06-21T04:00:00+00:00\", \"2021-06-21T05:00:00+00:00\", \"2021-06-21T06:00:00+00:00\", \"2021-06-21T07:00:00+00:00\", \"2021-06-21T08:00:00+00:00\", \"2021-06-21T09:00:00+00:00\", \"2021-06-21T10:00:00+00:00\", \"2021-06-21T11:00:00+00:00\", \"2021-06-21T12:00:00+00:00\", \"2021-06-21T13:00:00+00:00\", \"2021-06-21T14:00:00+00:00\", \"2021-06-21T15:00:00+00:00\", \"2021-06-21T16:00:00+00:00\", \"2021-06-21T17:00:00+00:00\", \"2021-06-21T18:00:00+00:00\", \"2021-06-21T19:00:00+00:00\", \"2021-06-21T20:00:00+00:00\", \"2021-06-21T21:00:00+00:00\", \"2021-06-21T22:00:00+00:00\", \"2021-06-21T23:00:00+00:00\", \"2021-06-22T00:00:00+00:00\", \"2021-06-22T01:00:00+00:00\", \"2021-06-22T02:00:00+00:00\", \"2021-06-22T03:00:00+00:00\", \"2021-06-22T04:00:00+00:00\", \"2021-06-22T05:00:00+00:00\", \"2021-06-22T06:00:00+00:00\", \"2021-06-22T07:00:00+00:00\", \"2021-06-22T08:00:00+00:00\", \"2021-06-22T09:00:00+00:00\", \"2021-06-22T10:00:00+00:00\", \"2021-06-22T11:00:00+00:00\", \"2021-06-22T12:00:00+00:00\", \"2021-06-22T13:00:00+00:00\", \"2021-06-22T14:00:00+00:00\", \"2021-06-22T15:00:00+00:00\", \"2021-06-22T16:00:00+00:00\", \"2021-06-22T17:00:00+00:00\", \"2021-06-22T18:00:00+00:00\", \"2021-06-22T19:00:00+00:00\", \"2021-06-22T20:00:00+00:00\", \"2021-06-22T21:00:00+00:00\", \"2021-06-22T22:00:00+00:00\", \"2021-06-22T23:00:00+00:00\", \"2021-06-23T00:00:00+00:00\", \"2021-06-23T01:00:00+00:00\", \"2021-06-23T02:00:00+00:00\", \"2021-06-23T03:00:00+00:00\", \"2021-06-23T04:00:00+00:00\", \"2021-06-23T05:00:00+00:00\", \"2021-06-23T06:00:00+00:00\", \"2021-06-23T07:00:00+00:00\", \"2021-06-23T08:00:00+00:00\", \"2021-06-23T09:00:00+00:00\", \"2021-06-23T10:00:00+00:00\", \"2021-06-23T11:00:00+00:00\", \"2021-06-23T12:00:00+00:00\", \"2021-06-23T13:00:00+00:00\", \"2021-06-23T14:00:00+00:00\", \"2021-06-23T15:00:00+00:00\", \"2021-06-23T16:00:00+00:00\", \"2021-06-23T17:00:00+00:00\", \"2021-06-23T18:00:00+00:00\", \"2021-06-23T19:00:00+00:00\", \"2021-06-23T20:00:00+00:00\", \"2021-06-23T21:00:00+00:00\", \"2021-06-23T22:00:00+00:00\", \"2021-06-23T23:00:00+00:00\", \"2021-06-24T00:00:00+00:00\", \"2021-06-24T01:00:00+00:00\", \"2021-06-24T02:00:00+00:00\", \"2021-06-24T03:00:00+00:00\", \"2021-06-24T04:00:00+00:00\", \"2021-06-24T05:00:00+00:00\", \"2021-06-24T06:00:00+00:00\", \"2021-06-24T07:00:00+00:00\", \"2021-06-24T08:00:00+00:00\", \"2021-06-24T09:00:00+00:00\", \"2021-06-24T10:00:00+00:00\", \"2021-06-24T11:00:00+00:00\", \"2021-06-24T12:00:00+00:00\", \"2021-06-24T13:00:00+00:00\", \"2021-06-24T14:00:00+00:00\", \"2021-06-24T15:00:00+00:00\", \"2021-06-24T16:00:00+00:00\", \"2021-06-24T17:00:00+00:00\", \"2021-06-24T18:00:00+00:00\", \"2021-06-24T19:00:00+00:00\", \"2021-06-24T20:00:00+00:00\", \"2021-06-24T21:00:00+00:00\", \"2021-06-24T22:00:00+00:00\", \"2021-06-24T23:00:00+00:00\", \"2021-06-25T00:00:00+00:00\", \"2021-06-25T01:00:00+00:00\", \"2021-06-25T02:00:00+00:00\", \"2021-06-25T03:00:00+00:00\", \"2021-06-25T04:00:00+00:00\", \"2021-06-25T05:00:00+00:00\", \"2021-06-25T06:00:00+00:00\", \"2021-06-25T07:00:00+00:00\", \"2021-06-25T08:00:00+00:00\", \"2021-06-25T09:00:00+00:00\", \"2021-06-25T10:00:00+00:00\", \"2021-06-25T11:00:00+00:00\", \"2021-06-25T12:00:00+00:00\", \"2021-06-25T13:00:00+00:00\", \"2021-06-25T14:00:00+00:00\", \"2021-06-25T15:00:00+00:00\", \"2021-06-25T16:00:00+00:00\", \"2021-06-25T17:00:00+00:00\", \"2021-06-25T18:00:00+00:00\", \"2021-06-25T19:00:00+00:00\", \"2021-06-25T20:00:00+00:00\", \"2021-06-25T21:00:00+00:00\", \"2021-06-25T22:00:00+00:00\", \"2021-06-25T23:00:00+00:00\", \"2021-06-26T00:00:00+00:00\", \"2021-06-26T01:00:00+00:00\", \"2021-06-26T02:00:00+00:00\", \"2021-06-26T03:00:00+00:00\", \"2021-06-26T04:00:00+00:00\", \"2021-06-26T05:00:00+00:00\", \"2021-06-26T06:00:00+00:00\", \"2021-06-26T07:00:00+00:00\", \"2021-06-26T08:00:00+00:00\", \"2021-06-26T09:00:00+00:00\", \"2021-06-26T10:00:00+00:00\", \"2021-06-26T11:00:00+00:00\", \"2021-06-26T12:00:00+00:00\", \"2021-06-26T13:00:00+00:00\", \"2021-06-26T14:00:00+00:00\", \"2021-06-26T15:00:00+00:00\", \"2021-06-26T16:00:00+00:00\", \"2021-06-26T17:00:00+00:00\", \"2021-06-26T18:00:00+00:00\", \"2021-06-26T19:00:00+00:00\", \"2021-06-26T20:00:00+00:00\", \"2021-06-26T21:00:00+00:00\", \"2021-06-26T22:00:00+00:00\", \"2021-06-26T23:00:00+00:00\", \"2021-06-27T00:00:00+00:00\", \"2021-06-27T01:00:00+00:00\", \"2021-06-27T02:00:00+00:00\", \"2021-06-27T03:00:00+00:00\", \"2021-06-27T04:00:00+00:00\", \"2021-06-27T05:00:00+00:00\", \"2021-06-27T06:00:00+00:00\", \"2021-06-27T07:00:00+00:00\", \"2021-06-27T08:00:00+00:00\", \"2021-06-27T09:00:00+00:00\", \"2021-06-27T10:00:00+00:00\", \"2021-06-27T11:00:00+00:00\", \"2021-06-27T12:00:00+00:00\", \"2021-06-27T13:00:00+00:00\", \"2021-06-27T14:00:00+00:00\", \"2021-06-27T15:00:00+00:00\", \"2021-06-27T16:00:00+00:00\", \"2021-06-27T17:00:00+00:00\", \"2021-06-27T18:00:00+00:00\", \"2021-06-27T19:00:00+00:00\", \"2021-06-27T20:00:00+00:00\", \"2021-06-27T21:00:00+00:00\", \"2021-06-27T22:00:00+00:00\", \"2021-06-27T23:00:00+00:00\", \"2021-06-28T00:00:00+00:00\", \"2021-06-28T01:00:00+00:00\", \"2021-06-28T02:00:00+00:00\", \"2021-06-28T03:00:00+00:00\", \"2021-06-28T04:00:00+00:00\", \"2021-06-28T05:00:00+00:00\", \"2021-06-28T06:00:00+00:00\", \"2021-06-28T07:00:00+00:00\", \"2021-06-28T08:00:00+00:00\", \"2021-06-28T09:00:00+00:00\", \"2021-06-28T10:00:00+00:00\", \"2021-06-28T11:00:00+00:00\", \"2021-06-28T12:00:00+00:00\", \"2021-06-28T13:00:00+00:00\", \"2021-06-28T14:00:00+00:00\", \"2021-06-28T15:00:00+00:00\", \"2021-06-28T16:00:00+00:00\", \"2021-06-28T17:00:00+00:00\", \"2021-06-28T18:00:00+00:00\", \"2021-06-28T19:00:00+00:00\", \"2021-06-28T20:00:00+00:00\", \"2021-06-28T21:00:00+00:00\", \"2021-06-28T22:00:00+00:00\", \"2021-06-28T23:00:00+00:00\", \"2021-06-29T00:00:00+00:00\", \"2021-06-29T01:00:00+00:00\", \"2021-06-29T02:00:00+00:00\", \"2021-06-29T03:00:00+00:00\", \"2021-06-29T04:00:00+00:00\", \"2021-06-29T05:00:00+00:00\", \"2021-06-29T06:00:00+00:00\", \"2021-06-29T07:00:00+00:00\", \"2021-06-29T08:00:00+00:00\", \"2021-06-29T09:00:00+00:00\", \"2021-06-29T10:00:00+00:00\", \"2021-06-29T11:00:00+00:00\", \"2021-06-29T12:00:00+00:00\", \"2021-06-29T13:00:00+00:00\", \"2021-06-29T14:00:00+00:00\", \"2021-06-29T15:00:00+00:00\", \"2021-06-29T16:00:00+00:00\", \"2021-06-29T17:00:00+00:00\", \"2021-06-29T18:00:00+00:00\", \"2021-06-29T19:00:00+00:00\", \"2021-06-29T20:00:00+00:00\", \"2021-06-29T21:00:00+00:00\", \"2021-06-29T22:00:00+00:00\", \"2021-06-29T23:00:00+00:00\", \"2021-06-30T00:00:00+00:00\", \"2021-06-30T01:00:00+00:00\", \"2021-06-30T02:00:00+00:00\", \"2021-06-30T03:00:00+00:00\", \"2021-06-30T04:00:00+00:00\", \"2021-06-30T05:00:00+00:00\", \"2021-06-30T06:00:00+00:00\", \"2021-06-30T07:00:00+00:00\", \"2021-06-30T08:00:00+00:00\", \"2021-06-30T09:00:00+00:00\", \"2021-06-30T10:00:00+00:00\", \"2021-06-30T11:00:00+00:00\", \"2021-06-30T12:00:00+00:00\", \"2021-06-30T13:00:00+00:00\", \"2021-06-30T14:00:00+00:00\", \"2021-06-30T15:00:00+00:00\", \"2021-06-30T16:00:00+00:00\", \"2021-06-30T17:00:00+00:00\", \"2021-06-30T18:00:00+00:00\", \"2021-06-30T19:00:00+00:00\", \"2021-06-30T20:00:00+00:00\", \"2021-06-30T21:00:00+00:00\", \"2021-06-30T22:00:00+00:00\", \"2021-06-30T23:00:00+00:00\", \"2021-07-01T00:00:00+00:00\", \"2021-07-01T01:00:00+00:00\", \"2021-07-01T02:00:00+00:00\", \"2021-07-01T03:00:00+00:00\", \"2021-07-01T04:00:00+00:00\", \"2021-07-01T05:00:00+00:00\", \"2021-07-01T06:00:00+00:00\", \"2021-07-01T07:00:00+00:00\", \"2021-07-01T08:00:00+00:00\", \"2021-07-01T09:00:00+00:00\", \"2021-07-01T10:00:00+00:00\", \"2021-07-01T11:00:00+00:00\", \"2021-07-01T12:00:00+00:00\", \"2021-07-01T13:00:00+00:00\", \"2021-07-01T14:00:00+00:00\", \"2021-07-01T15:00:00+00:00\", \"2021-07-01T16:00:00+00:00\", \"2021-07-01T17:00:00+00:00\", \"2021-07-01T18:00:00+00:00\", \"2021-07-01T19:00:00+00:00\", \"2021-07-01T20:00:00+00:00\", \"2021-07-01T21:00:00+00:00\", \"2021-07-01T22:00:00+00:00\", \"2021-07-01T23:00:00+00:00\", \"2021-07-02T00:00:00+00:00\", \"2021-07-02T01:00:00+00:00\", \"2021-07-02T02:00:00+00:00\", \"2021-07-02T03:00:00+00:00\", \"2021-07-02T04:00:00+00:00\", \"2021-07-02T05:00:00+00:00\", \"2021-07-02T06:00:00+00:00\", \"2021-07-02T07:00:00+00:00\", \"2021-07-02T08:00:00+00:00\", \"2021-07-02T09:00:00+00:00\", \"2021-07-02T10:00:00+00:00\", \"2021-07-02T11:00:00+00:00\", \"2021-07-02T12:00:00+00:00\", \"2021-07-02T13:00:00+00:00\", \"2021-07-02T14:00:00+00:00\", \"2021-07-02T15:00:00+00:00\", \"2021-07-02T16:00:00+00:00\", \"2021-07-02T17:00:00+00:00\", \"2021-07-02T18:00:00+00:00\", \"2021-07-02T19:00:00+00:00\", \"2021-07-02T20:00:00+00:00\", \"2021-07-02T21:00:00+00:00\", \"2021-07-02T22:00:00+00:00\", \"2021-07-02T23:00:00+00:00\", \"2021-07-03T00:00:00+00:00\", \"2021-07-03T01:00:00+00:00\", \"2021-07-03T02:00:00+00:00\", \"2021-07-03T03:00:00+00:00\", \"2021-07-03T04:00:00+00:00\", \"2021-07-03T05:00:00+00:00\", \"2021-07-03T06:00:00+00:00\", \"2021-07-03T07:00:00+00:00\", \"2021-07-03T08:00:00+00:00\", \"2021-07-03T09:00:00+00:00\", \"2021-07-03T10:00:00+00:00\", \"2021-07-03T11:00:00+00:00\", \"2021-07-03T12:00:00+00:00\", \"2021-07-03T13:00:00+00:00\", \"2021-07-03T14:00:00+00:00\", \"2021-07-03T15:00:00+00:00\", \"2021-07-03T16:00:00+00:00\", \"2021-07-03T17:00:00+00:00\", \"2021-07-03T18:00:00+00:00\", \"2021-07-03T19:00:00+00:00\", \"2021-07-03T20:00:00+00:00\", \"2021-07-03T21:00:00+00:00\", \"2021-07-03T22:00:00+00:00\", \"2021-07-03T23:00:00+00:00\", \"2021-07-04T00:00:00+00:00\", \"2021-07-04T01:00:00+00:00\", \"2021-07-04T02:00:00+00:00\", \"2021-07-04T03:00:00+00:00\", \"2021-07-04T04:00:00+00:00\", \"2021-07-04T05:00:00+00:00\", \"2021-07-04T06:00:00+00:00\", \"2021-07-04T07:00:00+00:00\", \"2021-07-04T08:00:00+00:00\", \"2021-07-04T09:00:00+00:00\", \"2021-07-04T10:00:00+00:00\", \"2021-07-04T11:00:00+00:00\", \"2021-07-04T12:00:00+00:00\", \"2021-07-04T13:00:00+00:00\", \"2021-07-04T14:00:00+00:00\", \"2021-07-04T15:00:00+00:00\", \"2021-07-04T16:00:00+00:00\", \"2021-07-04T17:00:00+00:00\", \"2021-07-04T18:00:00+00:00\", \"2021-07-04T19:00:00+00:00\", \"2021-07-04T20:00:00+00:00\", \"2021-07-04T21:00:00+00:00\", \"2021-07-04T22:00:00+00:00\", \"2021-07-04T23:00:00+00:00\", \"2021-07-05T00:00:00+00:00\", \"2021-07-05T01:00:00+00:00\", \"2021-07-05T02:00:00+00:00\", \"2021-07-05T03:00:00+00:00\", \"2021-07-05T04:00:00+00:00\", \"2021-07-05T05:00:00+00:00\", \"2021-07-05T06:00:00+00:00\", \"2021-07-05T07:00:00+00:00\", \"2021-07-05T08:00:00+00:00\", \"2021-07-05T09:00:00+00:00\", \"2021-07-05T10:00:00+00:00\", \"2021-07-05T11:00:00+00:00\", \"2021-07-05T12:00:00+00:00\", \"2021-07-05T13:00:00+00:00\", \"2021-07-05T14:00:00+00:00\", \"2021-07-05T15:00:00+00:00\", \"2021-07-05T16:00:00+00:00\", \"2021-07-05T17:00:00+00:00\", \"2021-07-05T18:00:00+00:00\", \"2021-07-05T19:00:00+00:00\", \"2021-07-05T20:00:00+00:00\", \"2021-07-05T21:00:00+00:00\", \"2021-07-05T22:00:00+00:00\", \"2021-07-05T23:00:00+00:00\", \"2021-07-06T00:00:00+00:00\", \"2021-07-06T01:00:00+00:00\", \"2021-07-06T02:00:00+00:00\", \"2021-07-06T03:00:00+00:00\", \"2021-07-06T04:00:00+00:00\", \"2021-07-06T05:00:00+00:00\", \"2021-07-06T06:00:00+00:00\", \"2021-07-06T07:00:00+00:00\", \"2021-07-06T08:00:00+00:00\", \"2021-07-06T09:00:00+00:00\", \"2021-07-06T10:00:00+00:00\", \"2021-07-06T11:00:00+00:00\", \"2021-07-06T12:00:00+00:00\", \"2021-07-06T13:00:00+00:00\", \"2021-07-06T14:00:00+00:00\", \"2021-07-06T15:00:00+00:00\", \"2021-07-06T16:00:00+00:00\", \"2021-07-06T17:00:00+00:00\", \"2021-07-06T18:00:00+00:00\", \"2021-07-06T19:00:00+00:00\", \"2021-07-06T20:00:00+00:00\", \"2021-07-06T21:00:00+00:00\", \"2021-07-06T22:00:00+00:00\", \"2021-07-06T23:00:00+00:00\", \"2021-07-07T00:00:00+00:00\", \"2021-07-07T01:00:00+00:00\", \"2021-07-07T02:00:00+00:00\", \"2021-07-07T03:00:00+00:00\", \"2021-07-07T04:00:00+00:00\", \"2021-07-07T05:00:00+00:00\", \"2021-07-07T06:00:00+00:00\", \"2021-07-07T07:00:00+00:00\", \"2021-07-07T08:00:00+00:00\", \"2021-07-07T09:00:00+00:00\", \"2021-07-07T10:00:00+00:00\", \"2021-07-07T11:00:00+00:00\", \"2021-07-07T12:00:00+00:00\", \"2021-07-07T13:00:00+00:00\", \"2021-07-07T14:00:00+00:00\", \"2021-07-07T15:00:00+00:00\", \"2021-07-07T16:00:00+00:00\", \"2021-07-07T17:00:00+00:00\", \"2021-07-07T18:00:00+00:00\", \"2021-07-07T19:00:00+00:00\", \"2021-07-07T20:00:00+00:00\", \"2021-07-07T21:00:00+00:00\", \"2021-07-07T22:00:00+00:00\", \"2021-07-07T23:00:00+00:00\", \"2021-07-08T00:00:00+00:00\", \"2021-07-08T01:00:00+00:00\", \"2021-07-08T02:00:00+00:00\", \"2021-07-08T03:00:00+00:00\", \"2021-07-08T04:00:00+00:00\", \"2021-07-08T05:00:00+00:00\", \"2021-07-08T06:00:00+00:00\", \"2021-07-08T07:00:00+00:00\", \"2021-07-08T08:00:00+00:00\", \"2021-07-08T09:00:00+00:00\", \"2021-07-08T10:00:00+00:00\", \"2021-07-08T11:00:00+00:00\", \"2021-07-08T12:00:00+00:00\", \"2021-07-08T13:00:00+00:00\", \"2021-07-08T14:00:00+00:00\", \"2021-07-08T15:00:00+00:00\", \"2021-07-08T16:00:00+00:00\", \"2021-07-08T17:00:00+00:00\", \"2021-07-08T18:00:00+00:00\", \"2021-07-08T19:00:00+00:00\", \"2021-07-08T20:00:00+00:00\", \"2021-07-08T21:00:00+00:00\", \"2021-07-08T22:00:00+00:00\", \"2021-07-08T23:00:00+00:00\", \"2021-07-09T00:00:00+00:00\", \"2021-07-09T01:00:00+00:00\", \"2021-07-09T02:00:00+00:00\", \"2021-07-09T03:00:00+00:00\", \"2021-07-09T04:00:00+00:00\", \"2021-07-09T05:00:00+00:00\", \"2021-07-09T06:00:00+00:00\", \"2021-07-09T07:00:00+00:00\", \"2021-07-09T08:00:00+00:00\", \"2021-07-09T09:00:00+00:00\", \"2021-07-09T10:00:00+00:00\", \"2021-07-09T11:00:00+00:00\", \"2021-07-09T12:00:00+00:00\", \"2021-07-09T13:00:00+00:00\", \"2021-07-09T14:00:00+00:00\", \"2021-07-09T15:00:00+00:00\", \"2021-07-09T16:00:00+00:00\", \"2021-07-09T17:00:00+00:00\", \"2021-07-09T18:00:00+00:00\", \"2021-07-09T19:00:00+00:00\", \"2021-07-09T20:00:00+00:00\", \"2021-07-09T21:00:00+00:00\", \"2021-07-09T22:00:00+00:00\", \"2021-07-09T23:00:00+00:00\", \"2021-07-10T00:00:00+00:00\", \"2021-07-10T01:00:00+00:00\", \"2021-07-10T02:00:00+00:00\", \"2021-07-10T03:00:00+00:00\", \"2021-07-10T04:00:00+00:00\", \"2021-07-10T05:00:00+00:00\", \"2021-07-10T06:00:00+00:00\", \"2021-07-10T07:00:00+00:00\", \"2021-07-10T08:00:00+00:00\", \"2021-07-10T09:00:00+00:00\", \"2021-07-10T10:00:00+00:00\", \"2021-07-10T11:00:00+00:00\", \"2021-07-10T12:00:00+00:00\", \"2021-07-10T13:00:00+00:00\", \"2021-07-10T14:00:00+00:00\", \"2021-07-10T15:00:00+00:00\", \"2021-07-10T16:00:00+00:00\", \"2021-07-10T17:00:00+00:00\", \"2021-07-10T18:00:00+00:00\", \"2021-07-10T19:00:00+00:00\", \"2021-07-10T20:00:00+00:00\", \"2021-07-10T21:00:00+00:00\", \"2021-07-10T22:00:00+00:00\", \"2021-07-10T23:00:00+00:00\", \"2021-07-11T00:00:00+00:00\", \"2021-07-11T01:00:00+00:00\", \"2021-07-11T02:00:00+00:00\", \"2021-07-11T03:00:00+00:00\", \"2021-07-11T04:00:00+00:00\", \"2021-07-11T05:00:00+00:00\", \"2021-07-11T06:00:00+00:00\", \"2021-07-11T07:00:00+00:00\", \"2021-07-11T08:00:00+00:00\", \"2021-07-11T09:00:00+00:00\", \"2021-07-11T10:00:00+00:00\", \"2021-07-11T11:00:00+00:00\", \"2021-07-11T12:00:00+00:00\", \"2021-07-11T13:00:00+00:00\", \"2021-07-11T14:00:00+00:00\", \"2021-07-11T15:00:00+00:00\", \"2021-07-11T16:00:00+00:00\", \"2021-07-11T17:00:00+00:00\", \"2021-07-11T18:00:00+00:00\", \"2021-07-11T19:00:00+00:00\", \"2021-07-11T20:00:00+00:00\", \"2021-07-11T21:00:00+00:00\", \"2021-07-11T22:00:00+00:00\", \"2021-07-11T23:00:00+00:00\", \"2021-07-12T00:00:00+00:00\", \"2021-07-12T01:00:00+00:00\", \"2021-07-12T02:00:00+00:00\", \"2021-07-12T03:00:00+00:00\", \"2021-07-12T04:00:00+00:00\", \"2021-07-12T05:00:00+00:00\", \"2021-07-12T06:00:00+00:00\", \"2021-07-12T07:00:00+00:00\", \"2021-07-12T08:00:00+00:00\", \"2021-07-12T09:00:00+00:00\", \"2021-07-12T10:00:00+00:00\", \"2021-07-12T11:00:00+00:00\", \"2021-07-12T12:00:00+00:00\", \"2021-07-12T13:00:00+00:00\", \"2021-07-12T14:00:00+00:00\", \"2021-07-12T15:00:00+00:00\", \"2021-07-12T16:00:00+00:00\", \"2021-07-12T17:00:00+00:00\", \"2021-07-12T18:00:00+00:00\", \"2021-07-12T19:00:00+00:00\", \"2021-07-12T20:00:00+00:00\", \"2021-07-12T21:00:00+00:00\", \"2021-07-12T22:00:00+00:00\", \"2021-07-12T23:00:00+00:00\", \"2021-07-13T00:00:00+00:00\", \"2021-07-13T01:00:00+00:00\", \"2021-07-13T02:00:00+00:00\", \"2021-07-13T03:00:00+00:00\", \"2021-07-13T04:00:00+00:00\", \"2021-07-13T05:00:00+00:00\", \"2021-07-13T06:00:00+00:00\", \"2021-07-13T07:00:00+00:00\", \"2021-07-13T08:00:00+00:00\", \"2021-07-13T09:00:00+00:00\", \"2021-07-13T10:00:00+00:00\", \"2021-07-13T11:00:00+00:00\", \"2021-07-13T12:00:00+00:00\", \"2021-07-13T13:00:00+00:00\", \"2021-07-13T14:00:00+00:00\", \"2021-07-13T15:00:00+00:00\", \"2021-07-13T16:00:00+00:00\", \"2021-07-13T17:00:00+00:00\", \"2021-07-13T18:00:00+00:00\", \"2021-07-13T19:00:00+00:00\", \"2021-07-13T20:00:00+00:00\", \"2021-07-13T21:00:00+00:00\", \"2021-07-13T22:00:00+00:00\", \"2021-07-13T23:00:00+00:00\", \"2021-07-14T00:00:00+00:00\", \"2021-07-14T01:00:00+00:00\", \"2021-07-14T02:00:00+00:00\", \"2021-07-14T03:00:00+00:00\", \"2021-07-14T04:00:00+00:00\", \"2021-07-14T05:00:00+00:00\", \"2021-07-14T06:00:00+00:00\", \"2021-07-14T07:00:00+00:00\", \"2021-07-14T08:00:00+00:00\", \"2021-07-14T09:00:00+00:00\", \"2021-07-14T10:00:00+00:00\", \"2021-07-14T11:00:00+00:00\", \"2021-07-14T12:00:00+00:00\", \"2021-07-14T13:00:00+00:00\", \"2021-07-14T14:00:00+00:00\", \"2021-07-14T15:00:00+00:00\", \"2021-07-14T16:00:00+00:00\", \"2021-07-14T17:00:00+00:00\", \"2021-07-14T18:00:00+00:00\", \"2021-07-14T19:00:00+00:00\", \"2021-07-14T20:00:00+00:00\", \"2021-07-14T21:00:00+00:00\", \"2021-07-14T22:00:00+00:00\", \"2021-07-14T23:00:00+00:00\", \"2021-07-15T00:00:00+00:00\", \"2021-07-15T01:00:00+00:00\", \"2021-07-15T02:00:00+00:00\", \"2021-07-15T03:00:00+00:00\", \"2021-07-15T04:00:00+00:00\", \"2021-07-15T05:00:00+00:00\", \"2021-07-15T06:00:00+00:00\", \"2021-07-15T07:00:00+00:00\", \"2021-07-15T08:00:00+00:00\", \"2021-07-15T09:00:00+00:00\", \"2021-07-15T10:00:00+00:00\", \"2021-07-15T11:00:00+00:00\", \"2021-07-15T12:00:00+00:00\", \"2021-07-15T13:00:00+00:00\", \"2021-07-15T14:00:00+00:00\", \"2021-07-15T15:00:00+00:00\", \"2021-07-15T16:00:00+00:00\", \"2021-07-15T17:00:00+00:00\", \"2021-07-15T18:00:00+00:00\", \"2021-07-15T19:00:00+00:00\", \"2021-07-15T20:00:00+00:00\", \"2021-07-15T21:00:00+00:00\", \"2021-07-15T22:00:00+00:00\", \"2021-07-15T23:00:00+00:00\", \"2021-07-16T00:00:00+00:00\", \"2021-07-16T01:00:00+00:00\", \"2021-07-16T02:00:00+00:00\", \"2021-07-16T03:00:00+00:00\", \"2021-07-16T04:00:00+00:00\", \"2021-07-16T05:00:00+00:00\", \"2021-07-16T06:00:00+00:00\", \"2021-07-16T07:00:00+00:00\", \"2021-07-16T08:00:00+00:00\", \"2021-07-16T09:00:00+00:00\", \"2021-07-16T10:00:00+00:00\", \"2021-07-16T11:00:00+00:00\", \"2021-07-16T12:00:00+00:00\", \"2021-07-16T13:00:00+00:00\", \"2021-07-16T14:00:00+00:00\", \"2021-07-16T15:00:00+00:00\", \"2021-07-16T16:00:00+00:00\", \"2021-07-16T17:00:00+00:00\", \"2021-07-16T18:00:00+00:00\", \"2021-07-16T19:00:00+00:00\", \"2021-07-16T20:00:00+00:00\", \"2021-07-16T21:00:00+00:00\", \"2021-07-16T22:00:00+00:00\", \"2021-07-16T23:00:00+00:00\"], \"y\": [128, 311, 233, 195, 116, 120, 68, 63, 57, 35, 42, 19, 41, 31, 11, 9, 6, 2, 3, 2, 3, 6, 6, 14, 37, 46, 26, 23, 22, 26, 38, 36, 110, 52, 152, 88, 71, 22, 20, 10, 5, 10, 6, 3, 2, 9, 11, 10, 19, 25, 12, 18, 286, 177, 164, 105, 79, 95, 124, 96, 101, 75, 26, 14, 20, 5, 6, 8, 26, 18, 24, 47, 52, 35, 24, 85, 136, 43, 48, 55, 59, 45, 74, 415, 427, 915, 276, 87, 45, 36, 27, 21, 43, 64, 134, 151, 127, 118, 93, 86, 71, 91, 50, 47, 41, 53, 38, 12, 28, 44, 15, 7, 4, 2, 4, 1, 3, 8, 8, 18, 21, 26, 29, 52, 19, 16, 66, 66, 44, 28, 15, 27, 23, 12, 10, 4, 4, 1, 4, 2, 2, 9, 9, 22, 45, 29, 30, 24, 22, 147, 91, 126, 62, 41, 49, 44, 22, 31, 20, 6, 7, 7, 10, 7, 9, 6, 15, 23, 6, 13, 12, 13, 13, 11, 10, 16, 13, 21, 17, 19, 230, 233, 140, 65, 20, 17, 7, 11, 22, 29, 37, 65, 112, 124, 108, 94, 56, 64, 61, 51, 57, 36, 453, 223, 124, 117, 49, 33, 16, 14, 11, 7, 10, 15, 41, 38, 55, 53, 45, 90, 54, 43, 48, 37, 52, 741, 335, 251, 217, 117, 126, 60, 37, 19, 8, 3, 15, 25, 64, 274, 209, 241, 208, 257, 243, 220, 399, 337, 830, 1754, 1959, 1350, 672, 461, 661, 155, 85, 80, 64, 59, 68, 126, 151, 242, 528, 331, 288, 177, 206, 144, 127, 104, 181, 116, 170, 128, 100, 102, 51, 44, 15, 14, 9, 19, 41, 21, 31, 36, 40, 54, 23, 34, 29, 44, 38, 62, 48, 35, 31, 34, 36, 22, 19, 12, 5, 3, 5, 2, 3, 3, 8, 13, 22, 18, 20, 94, 179, 137, 92, 88, 77, 233, 122, 91, 79, 73, 42, 20, 17, 9, 15, 9, 16, 14, 33, 63, 69, 60, 86, 51, 41, 41, 32, 46, 22, 47, 110, 1224, 1546, 1378, 969, 329, 145, 60, 61, 59, 57, 53, 104, 201, 197, 187, 159, 170, 201, 128, 92, 95, 59, 46, 51, 44, 63, 41, 30, 13, 3, 9, 13, 15, 13, 23, 16, 21, 26, 167, 90, 85, 91, 48, 50, 56, 58, 104, 63, 37, 75, 40, 37, 13, 9, 6, 8, 5, 6, 9, 16, 7, 163, 75, 81, 144, 83, 92, 49, 49, 176, 113, 124, 84, 80, 68, 178, 25, 14, 15, 12, 14, 21, 22, 49, 63, 96, 98, 90, 58, 78, 75, 95, 61, 85, 241, 215, 502, 311, 5150, 2313, 931, 338, 136, 126, 73, 129, 183, 316, 818, 678, 555, 520, 480, 404, 325, 276, 409, 231, 218, 241, 243, 246, 197, 134, 46, 41, 25, 19, 21, 42, 53, 74, 95, 101, 88, 83, 93, 100, 104, 128, 73, 83, 106, 100, 101, 83, 55, 114, 62, 24, 13, 10, 11, 14, 18, 64, 69, 68, 68, 91, 156, 490, 220, 168, 188, 172, 122, 332, 797, 472, 293, 203, 110, 67, 48, 59, 33, 59, 63, 121, 222, 296, 223, 213, 206, 187, 238, 176, 233, 224, 384, 278, 260, 198, 482, 2033, 903, 726, 237, 133, 113, 87, 123, 189, 219, 269, 248, 203, 177, 882, 0, 46, 631, 520, 1530, 1630, 1546, 967, 859, 445, 237, 161, 96, 73, 104, 85, 151, 237, 270, 226, 202, 203, 194, 173, 236, 134, 121, 141, 132, 95, 93, 105, 88, 38, 32, 31, 31, 22, 18, 18, 27, 27, 52, 38, 35, 35, 33, 33, 42, 34, 28, 28, 62, 61, 38, 41, 32, 43, 6, 4, 7, 1, 1, 4, 5, 5, 40, 21, 33, 25, 15, 14, 13, 22, 12, 20, 24, 14, 11, 28, 11, 10, 7, 2, 4, 2, 4, 2, 4, 5, 8, 5, 22, 15, 13, 12, 14, 16, 22, 22, 18, 43, 10, 14, 36, 11, 10]}],\n",
              "                        {\"template\": {\"data\": {\"bar\": [{\"error_x\": {\"color\": \"#2a3f5f\"}, \"error_y\": {\"color\": \"#2a3f5f\"}, \"marker\": {\"line\": {\"color\": \"#E5ECF6\", \"width\": 0.5}}, \"type\": \"bar\"}], \"barpolar\": [{\"marker\": {\"line\": {\"color\": \"#E5ECF6\", \"width\": 0.5}}, \"type\": \"barpolar\"}], \"carpet\": [{\"aaxis\": {\"endlinecolor\": \"#2a3f5f\", \"gridcolor\": \"white\", \"linecolor\": \"white\", \"minorgridcolor\": \"white\", \"startlinecolor\": \"#2a3f5f\"}, \"baxis\": {\"endlinecolor\": \"#2a3f5f\", \"gridcolor\": \"white\", \"linecolor\": \"white\", \"minorgridcolor\": \"white\", \"startlinecolor\": \"#2a3f5f\"}, \"type\": \"carpet\"}], \"choropleth\": [{\"colorbar\": {\"outlinewidth\": 0, \"ticks\": \"\"}, \"type\": \"choropleth\"}], \"contour\": [{\"colorbar\": {\"outlinewidth\": 0, \"ticks\": \"\"}, \"colorscale\": [[0.0, \"#0d0887\"], [0.1111111111111111, \"#46039f\"], [0.2222222222222222, \"#7201a8\"], [0.3333333333333333, \"#9c179e\"], [0.4444444444444444, \"#bd3786\"], [0.5555555555555556, \"#d8576b\"], [0.6666666666666666, \"#ed7953\"], [0.7777777777777778, \"#fb9f3a\"], [0.8888888888888888, \"#fdca26\"], [1.0, \"#f0f921\"]], \"type\": \"contour\"}], \"contourcarpet\": [{\"colorbar\": {\"outlinewidth\": 0, \"ticks\": \"\"}, \"type\": \"contourcarpet\"}], \"heatmap\": [{\"colorbar\": {\"outlinewidth\": 0, \"ticks\": \"\"}, \"colorscale\": [[0.0, \"#0d0887\"], [0.1111111111111111, \"#46039f\"], [0.2222222222222222, \"#7201a8\"], [0.3333333333333333, \"#9c179e\"], [0.4444444444444444, \"#bd3786\"], [0.5555555555555556, \"#d8576b\"], [0.6666666666666666, \"#ed7953\"], [0.7777777777777778, \"#fb9f3a\"], [0.8888888888888888, \"#fdca26\"], [1.0, \"#f0f921\"]], \"type\": \"heatmap\"}], \"heatmapgl\": [{\"colorbar\": {\"outlinewidth\": 0, \"ticks\": \"\"}, \"colorscale\": [[0.0, \"#0d0887\"], [0.1111111111111111, \"#46039f\"], [0.2222222222222222, \"#7201a8\"], [0.3333333333333333, \"#9c179e\"], [0.4444444444444444, \"#bd3786\"], [0.5555555555555556, \"#d8576b\"], [0.6666666666666666, \"#ed7953\"], [0.7777777777777778, \"#fb9f3a\"], [0.8888888888888888, \"#fdca26\"], [1.0, \"#f0f921\"]], \"type\": \"heatmapgl\"}], \"histogram\": [{\"marker\": {\"colorbar\": {\"outlinewidth\": 0, \"ticks\": \"\"}}, \"type\": \"histogram\"}], \"histogram2d\": [{\"colorbar\": {\"outlinewidth\": 0, \"ticks\": \"\"}, \"colorscale\": [[0.0, \"#0d0887\"], [0.1111111111111111, \"#46039f\"], [0.2222222222222222, \"#7201a8\"], [0.3333333333333333, \"#9c179e\"], [0.4444444444444444, \"#bd3786\"], [0.5555555555555556, \"#d8576b\"], [0.6666666666666666, \"#ed7953\"], [0.7777777777777778, \"#fb9f3a\"], [0.8888888888888888, \"#fdca26\"], [1.0, \"#f0f921\"]], \"type\": \"histogram2d\"}], \"histogram2dcontour\": [{\"colorbar\": {\"outlinewidth\": 0, \"ticks\": \"\"}, \"colorscale\": [[0.0, \"#0d0887\"], [0.1111111111111111, \"#46039f\"], [0.2222222222222222, \"#7201a8\"], [0.3333333333333333, \"#9c179e\"], [0.4444444444444444, \"#bd3786\"], [0.5555555555555556, \"#d8576b\"], [0.6666666666666666, \"#ed7953\"], [0.7777777777777778, \"#fb9f3a\"], [0.8888888888888888, \"#fdca26\"], [1.0, \"#f0f921\"]], \"type\": \"histogram2dcontour\"}], \"mesh3d\": [{\"colorbar\": {\"outlinewidth\": 0, \"ticks\": \"\"}, \"type\": \"mesh3d\"}], \"parcoords\": [{\"line\": {\"colorbar\": {\"outlinewidth\": 0, \"ticks\": \"\"}}, \"type\": \"parcoords\"}], \"pie\": [{\"automargin\": true, \"type\": \"pie\"}], \"scatter\": [{\"marker\": {\"colorbar\": {\"outlinewidth\": 0, \"ticks\": \"\"}}, \"type\": \"scatter\"}], \"scatter3d\": [{\"line\": {\"colorbar\": {\"outlinewidth\": 0, \"ticks\": \"\"}}, \"marker\": {\"colorbar\": {\"outlinewidth\": 0, \"ticks\": \"\"}}, \"type\": \"scatter3d\"}], \"scattercarpet\": [{\"marker\": {\"colorbar\": {\"outlinewidth\": 0, \"ticks\": \"\"}}, \"type\": \"scattercarpet\"}], \"scattergeo\": [{\"marker\": {\"colorbar\": {\"outlinewidth\": 0, \"ticks\": \"\"}}, \"type\": \"scattergeo\"}], \"scattergl\": [{\"marker\": {\"colorbar\": {\"outlinewidth\": 0, \"ticks\": \"\"}}, \"type\": \"scattergl\"}], \"scattermapbox\": [{\"marker\": {\"colorbar\": {\"outlinewidth\": 0, \"ticks\": \"\"}}, \"type\": \"scattermapbox\"}], \"scatterpolar\": [{\"marker\": {\"colorbar\": {\"outlinewidth\": 0, \"ticks\": \"\"}}, \"type\": \"scatterpolar\"}], \"scatterpolargl\": [{\"marker\": {\"colorbar\": {\"outlinewidth\": 0, \"ticks\": \"\"}}, \"type\": \"scatterpolargl\"}], \"scatterternary\": [{\"marker\": {\"colorbar\": {\"outlinewidth\": 0, \"ticks\": \"\"}}, \"type\": \"scatterternary\"}], \"surface\": [{\"colorbar\": {\"outlinewidth\": 0, \"ticks\": \"\"}, \"colorscale\": [[0.0, \"#0d0887\"], [0.1111111111111111, \"#46039f\"], [0.2222222222222222, \"#7201a8\"], [0.3333333333333333, \"#9c179e\"], [0.4444444444444444, \"#bd3786\"], [0.5555555555555556, \"#d8576b\"], [0.6666666666666666, \"#ed7953\"], [0.7777777777777778, \"#fb9f3a\"], [0.8888888888888888, \"#fdca26\"], [1.0, \"#f0f921\"]], \"type\": \"surface\"}], \"table\": [{\"cells\": {\"fill\": {\"color\": \"#EBF0F8\"}, \"line\": {\"color\": \"white\"}}, \"header\": {\"fill\": {\"color\": \"#C8D4E3\"}, \"line\": {\"color\": \"white\"}}, \"type\": \"table\"}]}, \"layout\": {\"annotationdefaults\": {\"arrowcolor\": \"#2a3f5f\", \"arrowhead\": 0, \"arrowwidth\": 1}, \"coloraxis\": {\"colorbar\": {\"outlinewidth\": 0, \"ticks\": \"\"}}, \"colorscale\": {\"diverging\": [[0, \"#8e0152\"], [0.1, \"#c51b7d\"], [0.2, \"#de77ae\"], [0.3, \"#f1b6da\"], [0.4, \"#fde0ef\"], [0.5, \"#f7f7f7\"], [0.6, \"#e6f5d0\"], [0.7, \"#b8e186\"], [0.8, \"#7fbc41\"], [0.9, \"#4d9221\"], [1, \"#276419\"]], \"sequential\": [[0.0, \"#0d0887\"], [0.1111111111111111, \"#46039f\"], [0.2222222222222222, \"#7201a8\"], [0.3333333333333333, \"#9c179e\"], [0.4444444444444444, \"#bd3786\"], [0.5555555555555556, \"#d8576b\"], [0.6666666666666666, \"#ed7953\"], [0.7777777777777778, \"#fb9f3a\"], [0.8888888888888888, \"#fdca26\"], [1.0, \"#f0f921\"]], \"sequentialminus\": [[0.0, \"#0d0887\"], [0.1111111111111111, \"#46039f\"], [0.2222222222222222, \"#7201a8\"], [0.3333333333333333, \"#9c179e\"], [0.4444444444444444, \"#bd3786\"], [0.5555555555555556, \"#d8576b\"], [0.6666666666666666, \"#ed7953\"], [0.7777777777777778, \"#fb9f3a\"], [0.8888888888888888, \"#fdca26\"], [1.0, \"#f0f921\"]]}, \"colorway\": [\"#636efa\", \"#EF553B\", \"#00cc96\", \"#ab63fa\", \"#FFA15A\", \"#19d3f3\", \"#FF6692\", \"#B6E880\", \"#FF97FF\", \"#FECB52\"], \"font\": {\"color\": \"#2a3f5f\"}, \"geo\": {\"bgcolor\": \"white\", \"lakecolor\": \"white\", \"landcolor\": \"#E5ECF6\", \"showlakes\": true, \"showland\": true, \"subunitcolor\": \"white\"}, \"hoverlabel\": {\"align\": \"left\"}, \"hovermode\": \"closest\", \"mapbox\": {\"style\": \"light\"}, \"paper_bgcolor\": \"white\", \"plot_bgcolor\": \"#E5ECF6\", \"polar\": {\"angularaxis\": {\"gridcolor\": \"white\", \"linecolor\": \"white\", \"ticks\": \"\"}, \"bgcolor\": \"#E5ECF6\", \"radialaxis\": {\"gridcolor\": \"white\", \"linecolor\": \"white\", \"ticks\": \"\"}}, \"scene\": {\"xaxis\": {\"backgroundcolor\": \"#E5ECF6\", \"gridcolor\": \"white\", \"gridwidth\": 2, \"linecolor\": \"white\", \"showbackground\": true, \"ticks\": \"\", \"zerolinecolor\": \"white\"}, \"yaxis\": {\"backgroundcolor\": \"#E5ECF6\", \"gridcolor\": \"white\", \"gridwidth\": 2, \"linecolor\": \"white\", \"showbackground\": true, \"ticks\": \"\", \"zerolinecolor\": \"white\"}, \"zaxis\": {\"backgroundcolor\": \"#E5ECF6\", \"gridcolor\": \"white\", \"gridwidth\": 2, \"linecolor\": \"white\", \"showbackground\": true, \"ticks\": \"\", \"zerolinecolor\": \"white\"}}, \"shapedefaults\": {\"line\": {\"color\": \"#2a3f5f\"}}, \"ternary\": {\"aaxis\": {\"gridcolor\": \"white\", \"linecolor\": \"white\", \"ticks\": \"\"}, \"baxis\": {\"gridcolor\": \"white\", \"linecolor\": \"white\", \"ticks\": \"\"}, \"bgcolor\": \"#E5ECF6\", \"caxis\": {\"gridcolor\": \"white\", \"linecolor\": \"white\", \"ticks\": \"\"}}, \"title\": {\"x\": 0.05}, \"xaxis\": {\"automargin\": true, \"gridcolor\": \"white\", \"linecolor\": \"white\", \"ticks\": \"\", \"title\": {\"standoff\": 15}, \"zerolinecolor\": \"white\", \"zerolinewidth\": 2}, \"yaxis\": {\"automargin\": true, \"gridcolor\": \"white\", \"linecolor\": \"white\", \"ticks\": \"\", \"title\": {\"standoff\": 15}, \"zerolinecolor\": \"white\", \"zerolinewidth\": 2}}}},\n",
              "                        {\"responsive\": true}\n",
              "                    ).then(function(){\n",
              "                            \n",
              "var gd = document.getElementById('4bdba2c0-6d4b-492d-9b22-786847859216');\n",
              "var x = new MutationObserver(function (mutations, observer) {{\n",
              "        var display = window.getComputedStyle(gd).display;\n",
              "        if (!display || display === 'none') {{\n",
              "            console.log([gd, 'removed!']);\n",
              "            Plotly.purge(gd);\n",
              "            observer.disconnect();\n",
              "        }}\n",
              "}});\n",
              "\n",
              "// Listen for the removal of the full notebook cells\n",
              "var notebookContainer = gd.closest('#notebook-container');\n",
              "if (notebookContainer) {{\n",
              "    x.observe(notebookContainer, {childList: true});\n",
              "}}\n",
              "\n",
              "// Listen for the clearing of the current output cell\n",
              "var outputEl = gd.closest('.output');\n",
              "if (outputEl) {{\n",
              "    x.observe(outputEl, {childList: true});\n",
              "}}\n",
              "\n",
              "                        })\n",
              "                };\n",
              "                \n",
              "            </script>\n",
              "        </div>\n",
              "</body>\n",
              "</html>"
            ]
          },
          "metadata": {
            "tags": []
          }
        }
      ]
    },
    {
      "cell_type": "code",
      "metadata": {
        "colab": {
          "base_uri": "https://localhost:8080/",
          "height": 542
        },
        "id": "64MvFFPWRhu9",
        "outputId": "2578e989-3631-478c-96a1-806da4260f52"
      },
      "source": [
        "# Plot frequency of offensive tweets\n",
        "df = joined_df.resample(INTERVAL, on='created_at')['persp_over_threshold'].sum().reset_index()\n",
        "fig = create_frequency_plot(df, ['persp_over_threshold'])\n",
        "fig.show()"
      ],
      "execution_count": null,
      "outputs": [
        {
          "output_type": "display_data",
          "data": {
            "text/html": [
              "<html>\n",
              "<head><meta charset=\"utf-8\" /></head>\n",
              "<body>\n",
              "    <div>\n",
              "            <script src=\"https://cdnjs.cloudflare.com/ajax/libs/mathjax/2.7.5/MathJax.js?config=TeX-AMS-MML_SVG\"></script><script type=\"text/javascript\">if (window.MathJax) {MathJax.Hub.Config({SVG: {font: \"STIX-Web\"}});}</script>\n",
              "                <script type=\"text/javascript\">window.PlotlyConfig = {MathJaxConfig: 'local'};</script>\n",
              "        <script src=\"https://cdn.plot.ly/plotly-latest.min.js\"></script>    \n",
              "            <div id=\"c032c631-d968-445e-9a25-b865c790d33e\" class=\"plotly-graph-div\" style=\"height:525px; width:100%;\"></div>\n",
              "            <script type=\"text/javascript\">\n",
              "                \n",
              "                    window.PLOTLYENV=window.PLOTLYENV || {};\n",
              "                    \n",
              "                if (document.getElementById(\"c032c631-d968-445e-9a25-b865c790d33e\")) {\n",
              "                    Plotly.newPlot(\n",
              "                        'c032c631-d968-445e-9a25-b865c790d33e',\n",
              "                        [{\"mode\": \"lines\", \"name\": \"pers_over_70\", \"type\": \"scatter\", \"x\": [\"2021-06-19T08:00:00+00:00\", \"2021-06-19T09:00:00+00:00\", \"2021-06-19T10:00:00+00:00\", \"2021-06-19T11:00:00+00:00\", \"2021-06-19T12:00:00+00:00\", \"2021-06-19T13:00:00+00:00\", \"2021-06-19T14:00:00+00:00\", \"2021-06-19T15:00:00+00:00\", \"2021-06-19T16:00:00+00:00\", \"2021-06-19T17:00:00+00:00\", \"2021-06-19T18:00:00+00:00\", \"2021-06-19T19:00:00+00:00\", \"2021-06-19T20:00:00+00:00\", \"2021-06-19T21:00:00+00:00\", \"2021-06-19T22:00:00+00:00\", \"2021-06-19T23:00:00+00:00\", \"2021-06-20T00:00:00+00:00\", \"2021-06-20T01:00:00+00:00\", \"2021-06-20T02:00:00+00:00\", \"2021-06-20T03:00:00+00:00\", \"2021-06-20T04:00:00+00:00\", \"2021-06-20T05:00:00+00:00\", \"2021-06-20T06:00:00+00:00\", \"2021-06-20T07:00:00+00:00\", \"2021-06-20T08:00:00+00:00\", \"2021-06-20T09:00:00+00:00\", \"2021-06-20T10:00:00+00:00\", \"2021-06-20T11:00:00+00:00\", \"2021-06-20T12:00:00+00:00\", \"2021-06-20T13:00:00+00:00\", \"2021-06-20T14:00:00+00:00\", \"2021-06-20T15:00:00+00:00\", \"2021-06-20T16:00:00+00:00\", \"2021-06-20T17:00:00+00:00\", \"2021-06-20T18:00:00+00:00\", \"2021-06-20T19:00:00+00:00\", \"2021-06-20T20:00:00+00:00\", \"2021-06-20T21:00:00+00:00\", \"2021-06-20T22:00:00+00:00\", \"2021-06-20T23:00:00+00:00\", \"2021-06-21T00:00:00+00:00\", \"2021-06-21T01:00:00+00:00\", \"2021-06-21T02:00:00+00:00\", \"2021-06-21T03:00:00+00:00\", \"2021-06-21T04:00:00+00:00\", \"2021-06-21T05:00:00+00:00\", \"2021-06-21T06:00:00+00:00\", \"2021-06-21T07:00:00+00:00\", \"2021-06-21T08:00:00+00:00\", \"2021-06-21T09:00:00+00:00\", \"2021-06-21T10:00:00+00:00\", \"2021-06-21T11:00:00+00:00\", \"2021-06-21T12:00:00+00:00\", \"2021-06-21T13:00:00+00:00\", \"2021-06-21T14:00:00+00:00\", \"2021-06-21T15:00:00+00:00\", \"2021-06-21T16:00:00+00:00\", \"2021-06-21T17:00:00+00:00\", \"2021-06-21T18:00:00+00:00\", \"2021-06-21T19:00:00+00:00\", \"2021-06-21T20:00:00+00:00\", \"2021-06-21T21:00:00+00:00\", \"2021-06-21T22:00:00+00:00\", \"2021-06-21T23:00:00+00:00\", \"2021-06-22T00:00:00+00:00\", \"2021-06-22T01:00:00+00:00\", \"2021-06-22T02:00:00+00:00\", \"2021-06-22T03:00:00+00:00\", \"2021-06-22T04:00:00+00:00\", \"2021-06-22T05:00:00+00:00\", \"2021-06-22T06:00:00+00:00\", \"2021-06-22T07:00:00+00:00\", \"2021-06-22T08:00:00+00:00\", \"2021-06-22T09:00:00+00:00\", \"2021-06-22T10:00:00+00:00\", \"2021-06-22T11:00:00+00:00\", \"2021-06-22T12:00:00+00:00\", \"2021-06-22T13:00:00+00:00\", \"2021-06-22T14:00:00+00:00\", \"2021-06-22T15:00:00+00:00\", \"2021-06-22T16:00:00+00:00\", \"2021-06-22T17:00:00+00:00\", \"2021-06-22T18:00:00+00:00\", \"2021-06-22T19:00:00+00:00\", \"2021-06-22T20:00:00+00:00\", \"2021-06-22T21:00:00+00:00\", \"2021-06-22T22:00:00+00:00\", \"2021-06-22T23:00:00+00:00\", \"2021-06-23T00:00:00+00:00\", \"2021-06-23T01:00:00+00:00\", \"2021-06-23T02:00:00+00:00\", \"2021-06-23T03:00:00+00:00\", \"2021-06-23T04:00:00+00:00\", \"2021-06-23T05:00:00+00:00\", \"2021-06-23T06:00:00+00:00\", \"2021-06-23T07:00:00+00:00\", \"2021-06-23T08:00:00+00:00\", \"2021-06-23T09:00:00+00:00\", \"2021-06-23T10:00:00+00:00\", \"2021-06-23T11:00:00+00:00\", \"2021-06-23T12:00:00+00:00\", \"2021-06-23T13:00:00+00:00\", \"2021-06-23T14:00:00+00:00\", \"2021-06-23T15:00:00+00:00\", \"2021-06-23T16:00:00+00:00\", \"2021-06-23T17:00:00+00:00\", \"2021-06-23T18:00:00+00:00\", \"2021-06-23T19:00:00+00:00\", \"2021-06-23T20:00:00+00:00\", \"2021-06-23T21:00:00+00:00\", \"2021-06-23T22:00:00+00:00\", \"2021-06-23T23:00:00+00:00\", \"2021-06-24T00:00:00+00:00\", \"2021-06-24T01:00:00+00:00\", \"2021-06-24T02:00:00+00:00\", \"2021-06-24T03:00:00+00:00\", \"2021-06-24T04:00:00+00:00\", \"2021-06-24T05:00:00+00:00\", \"2021-06-24T06:00:00+00:00\", \"2021-06-24T07:00:00+00:00\", \"2021-06-24T08:00:00+00:00\", \"2021-06-24T09:00:00+00:00\", \"2021-06-24T10:00:00+00:00\", \"2021-06-24T11:00:00+00:00\", \"2021-06-24T12:00:00+00:00\", \"2021-06-24T13:00:00+00:00\", \"2021-06-24T14:00:00+00:00\", \"2021-06-24T15:00:00+00:00\", \"2021-06-24T16:00:00+00:00\", \"2021-06-24T17:00:00+00:00\", \"2021-06-24T18:00:00+00:00\", \"2021-06-24T19:00:00+00:00\", \"2021-06-24T20:00:00+00:00\", \"2021-06-24T21:00:00+00:00\", \"2021-06-24T22:00:00+00:00\", \"2021-06-24T23:00:00+00:00\", \"2021-06-25T00:00:00+00:00\", \"2021-06-25T01:00:00+00:00\", \"2021-06-25T02:00:00+00:00\", \"2021-06-25T03:00:00+00:00\", \"2021-06-25T04:00:00+00:00\", \"2021-06-25T05:00:00+00:00\", \"2021-06-25T06:00:00+00:00\", \"2021-06-25T07:00:00+00:00\", \"2021-06-25T08:00:00+00:00\", \"2021-06-25T09:00:00+00:00\", \"2021-06-25T10:00:00+00:00\", \"2021-06-25T11:00:00+00:00\", \"2021-06-25T12:00:00+00:00\", \"2021-06-25T13:00:00+00:00\", \"2021-06-25T14:00:00+00:00\", \"2021-06-25T15:00:00+00:00\", \"2021-06-25T16:00:00+00:00\", \"2021-06-25T17:00:00+00:00\", \"2021-06-25T18:00:00+00:00\", \"2021-06-25T19:00:00+00:00\", \"2021-06-25T20:00:00+00:00\", \"2021-06-25T21:00:00+00:00\", \"2021-06-25T22:00:00+00:00\", \"2021-06-25T23:00:00+00:00\", \"2021-06-26T00:00:00+00:00\", \"2021-06-26T01:00:00+00:00\", \"2021-06-26T02:00:00+00:00\", \"2021-06-26T03:00:00+00:00\", \"2021-06-26T04:00:00+00:00\", \"2021-06-26T05:00:00+00:00\", \"2021-06-26T06:00:00+00:00\", \"2021-06-26T07:00:00+00:00\", \"2021-06-26T08:00:00+00:00\", \"2021-06-26T09:00:00+00:00\", \"2021-06-26T10:00:00+00:00\", \"2021-06-26T11:00:00+00:00\", \"2021-06-26T12:00:00+00:00\", \"2021-06-26T13:00:00+00:00\", \"2021-06-26T14:00:00+00:00\", \"2021-06-26T15:00:00+00:00\", \"2021-06-26T16:00:00+00:00\", \"2021-06-26T17:00:00+00:00\", \"2021-06-26T18:00:00+00:00\", \"2021-06-26T19:00:00+00:00\", \"2021-06-26T20:00:00+00:00\", \"2021-06-26T21:00:00+00:00\", \"2021-06-26T22:00:00+00:00\", \"2021-06-26T23:00:00+00:00\", \"2021-06-27T00:00:00+00:00\", \"2021-06-27T01:00:00+00:00\", \"2021-06-27T02:00:00+00:00\", \"2021-06-27T03:00:00+00:00\", \"2021-06-27T04:00:00+00:00\", \"2021-06-27T05:00:00+00:00\", \"2021-06-27T06:00:00+00:00\", \"2021-06-27T07:00:00+00:00\", \"2021-06-27T08:00:00+00:00\", \"2021-06-27T09:00:00+00:00\", \"2021-06-27T10:00:00+00:00\", \"2021-06-27T11:00:00+00:00\", \"2021-06-27T12:00:00+00:00\", \"2021-06-27T13:00:00+00:00\", \"2021-06-27T14:00:00+00:00\", \"2021-06-27T15:00:00+00:00\", \"2021-06-27T16:00:00+00:00\", \"2021-06-27T17:00:00+00:00\", \"2021-06-27T18:00:00+00:00\", \"2021-06-27T19:00:00+00:00\", \"2021-06-27T20:00:00+00:00\", \"2021-06-27T21:00:00+00:00\", \"2021-06-27T22:00:00+00:00\", \"2021-06-27T23:00:00+00:00\", \"2021-06-28T00:00:00+00:00\", \"2021-06-28T01:00:00+00:00\", \"2021-06-28T02:00:00+00:00\", \"2021-06-28T03:00:00+00:00\", \"2021-06-28T04:00:00+00:00\", \"2021-06-28T05:00:00+00:00\", \"2021-06-28T06:00:00+00:00\", \"2021-06-28T07:00:00+00:00\", \"2021-06-28T08:00:00+00:00\", \"2021-06-28T09:00:00+00:00\", \"2021-06-28T10:00:00+00:00\", \"2021-06-28T11:00:00+00:00\", \"2021-06-28T12:00:00+00:00\", \"2021-06-28T13:00:00+00:00\", \"2021-06-28T14:00:00+00:00\", \"2021-06-28T15:00:00+00:00\", \"2021-06-28T16:00:00+00:00\", \"2021-06-28T17:00:00+00:00\", \"2021-06-28T18:00:00+00:00\", \"2021-06-28T19:00:00+00:00\", \"2021-06-28T20:00:00+00:00\", \"2021-06-28T21:00:00+00:00\", \"2021-06-28T22:00:00+00:00\", \"2021-06-28T23:00:00+00:00\", \"2021-06-29T00:00:00+00:00\", \"2021-06-29T01:00:00+00:00\", \"2021-06-29T02:00:00+00:00\", \"2021-06-29T03:00:00+00:00\", \"2021-06-29T04:00:00+00:00\", \"2021-06-29T05:00:00+00:00\", \"2021-06-29T06:00:00+00:00\", \"2021-06-29T07:00:00+00:00\", \"2021-06-29T08:00:00+00:00\", \"2021-06-29T09:00:00+00:00\", \"2021-06-29T10:00:00+00:00\", \"2021-06-29T11:00:00+00:00\", \"2021-06-29T12:00:00+00:00\", \"2021-06-29T13:00:00+00:00\", \"2021-06-29T14:00:00+00:00\", \"2021-06-29T15:00:00+00:00\", \"2021-06-29T16:00:00+00:00\", \"2021-06-29T17:00:00+00:00\", \"2021-06-29T18:00:00+00:00\", \"2021-06-29T19:00:00+00:00\", \"2021-06-29T20:00:00+00:00\", \"2021-06-29T21:00:00+00:00\", \"2021-06-29T22:00:00+00:00\", \"2021-06-29T23:00:00+00:00\", \"2021-06-30T00:00:00+00:00\", \"2021-06-30T01:00:00+00:00\", \"2021-06-30T02:00:00+00:00\", \"2021-06-30T03:00:00+00:00\", \"2021-06-30T04:00:00+00:00\", \"2021-06-30T05:00:00+00:00\", \"2021-06-30T06:00:00+00:00\", \"2021-06-30T07:00:00+00:00\", \"2021-06-30T08:00:00+00:00\", \"2021-06-30T09:00:00+00:00\", \"2021-06-30T10:00:00+00:00\", \"2021-06-30T11:00:00+00:00\", \"2021-06-30T12:00:00+00:00\", \"2021-06-30T13:00:00+00:00\", \"2021-06-30T14:00:00+00:00\", \"2021-06-30T15:00:00+00:00\", \"2021-06-30T16:00:00+00:00\", \"2021-06-30T17:00:00+00:00\", \"2021-06-30T18:00:00+00:00\", \"2021-06-30T19:00:00+00:00\", \"2021-06-30T20:00:00+00:00\", \"2021-06-30T21:00:00+00:00\", \"2021-06-30T22:00:00+00:00\", \"2021-06-30T23:00:00+00:00\", \"2021-07-01T00:00:00+00:00\", \"2021-07-01T01:00:00+00:00\", \"2021-07-01T02:00:00+00:00\", \"2021-07-01T03:00:00+00:00\", \"2021-07-01T04:00:00+00:00\", \"2021-07-01T05:00:00+00:00\", \"2021-07-01T06:00:00+00:00\", \"2021-07-01T07:00:00+00:00\", \"2021-07-01T08:00:00+00:00\", \"2021-07-01T09:00:00+00:00\", \"2021-07-01T10:00:00+00:00\", \"2021-07-01T11:00:00+00:00\", \"2021-07-01T12:00:00+00:00\", \"2021-07-01T13:00:00+00:00\", \"2021-07-01T14:00:00+00:00\", \"2021-07-01T15:00:00+00:00\", \"2021-07-01T16:00:00+00:00\", \"2021-07-01T17:00:00+00:00\", \"2021-07-01T18:00:00+00:00\", \"2021-07-01T19:00:00+00:00\", \"2021-07-01T20:00:00+00:00\", \"2021-07-01T21:00:00+00:00\", \"2021-07-01T22:00:00+00:00\", \"2021-07-01T23:00:00+00:00\", \"2021-07-02T00:00:00+00:00\", \"2021-07-02T01:00:00+00:00\", \"2021-07-02T02:00:00+00:00\", \"2021-07-02T03:00:00+00:00\", \"2021-07-02T04:00:00+00:00\", \"2021-07-02T05:00:00+00:00\", \"2021-07-02T06:00:00+00:00\", \"2021-07-02T07:00:00+00:00\", \"2021-07-02T08:00:00+00:00\", \"2021-07-02T09:00:00+00:00\", \"2021-07-02T10:00:00+00:00\", \"2021-07-02T11:00:00+00:00\", \"2021-07-02T12:00:00+00:00\", \"2021-07-02T13:00:00+00:00\", \"2021-07-02T14:00:00+00:00\", \"2021-07-02T15:00:00+00:00\", \"2021-07-02T16:00:00+00:00\", \"2021-07-02T17:00:00+00:00\", \"2021-07-02T18:00:00+00:00\", \"2021-07-02T19:00:00+00:00\", \"2021-07-02T20:00:00+00:00\", \"2021-07-02T21:00:00+00:00\", \"2021-07-02T22:00:00+00:00\", \"2021-07-02T23:00:00+00:00\", \"2021-07-03T00:00:00+00:00\", \"2021-07-03T01:00:00+00:00\", \"2021-07-03T02:00:00+00:00\", \"2021-07-03T03:00:00+00:00\", \"2021-07-03T04:00:00+00:00\", \"2021-07-03T05:00:00+00:00\", \"2021-07-03T06:00:00+00:00\", \"2021-07-03T07:00:00+00:00\", \"2021-07-03T08:00:00+00:00\", \"2021-07-03T09:00:00+00:00\", \"2021-07-03T10:00:00+00:00\", \"2021-07-03T11:00:00+00:00\", \"2021-07-03T12:00:00+00:00\", \"2021-07-03T13:00:00+00:00\", \"2021-07-03T14:00:00+00:00\", \"2021-07-03T15:00:00+00:00\", \"2021-07-03T16:00:00+00:00\", \"2021-07-03T17:00:00+00:00\", \"2021-07-03T18:00:00+00:00\", \"2021-07-03T19:00:00+00:00\", \"2021-07-03T20:00:00+00:00\", \"2021-07-03T21:00:00+00:00\", \"2021-07-03T22:00:00+00:00\", \"2021-07-03T23:00:00+00:00\", \"2021-07-04T00:00:00+00:00\", \"2021-07-04T01:00:00+00:00\", \"2021-07-04T02:00:00+00:00\", \"2021-07-04T03:00:00+00:00\", \"2021-07-04T04:00:00+00:00\", \"2021-07-04T05:00:00+00:00\", \"2021-07-04T06:00:00+00:00\", \"2021-07-04T07:00:00+00:00\", \"2021-07-04T08:00:00+00:00\", \"2021-07-04T09:00:00+00:00\", \"2021-07-04T10:00:00+00:00\", \"2021-07-04T11:00:00+00:00\", \"2021-07-04T12:00:00+00:00\", \"2021-07-04T13:00:00+00:00\", \"2021-07-04T14:00:00+00:00\", \"2021-07-04T15:00:00+00:00\", \"2021-07-04T16:00:00+00:00\", \"2021-07-04T17:00:00+00:00\", \"2021-07-04T18:00:00+00:00\", \"2021-07-04T19:00:00+00:00\", \"2021-07-04T20:00:00+00:00\", \"2021-07-04T21:00:00+00:00\", \"2021-07-04T22:00:00+00:00\", \"2021-07-04T23:00:00+00:00\", \"2021-07-05T00:00:00+00:00\", \"2021-07-05T01:00:00+00:00\", \"2021-07-05T02:00:00+00:00\", \"2021-07-05T03:00:00+00:00\", \"2021-07-05T04:00:00+00:00\", \"2021-07-05T05:00:00+00:00\", \"2021-07-05T06:00:00+00:00\", \"2021-07-05T07:00:00+00:00\", \"2021-07-05T08:00:00+00:00\", \"2021-07-05T09:00:00+00:00\", \"2021-07-05T10:00:00+00:00\", \"2021-07-05T11:00:00+00:00\", \"2021-07-05T12:00:00+00:00\", \"2021-07-05T13:00:00+00:00\", \"2021-07-05T14:00:00+00:00\", \"2021-07-05T15:00:00+00:00\", \"2021-07-05T16:00:00+00:00\", \"2021-07-05T17:00:00+00:00\", \"2021-07-05T18:00:00+00:00\", \"2021-07-05T19:00:00+00:00\", \"2021-07-05T20:00:00+00:00\", \"2021-07-05T21:00:00+00:00\", \"2021-07-05T22:00:00+00:00\", \"2021-07-05T23:00:00+00:00\", \"2021-07-06T00:00:00+00:00\", \"2021-07-06T01:00:00+00:00\", \"2021-07-06T02:00:00+00:00\", \"2021-07-06T03:00:00+00:00\", \"2021-07-06T04:00:00+00:00\", \"2021-07-06T05:00:00+00:00\", \"2021-07-06T06:00:00+00:00\", \"2021-07-06T07:00:00+00:00\", \"2021-07-06T08:00:00+00:00\", \"2021-07-06T09:00:00+00:00\", \"2021-07-06T10:00:00+00:00\", \"2021-07-06T11:00:00+00:00\", \"2021-07-06T12:00:00+00:00\", \"2021-07-06T13:00:00+00:00\", \"2021-07-06T14:00:00+00:00\", \"2021-07-06T15:00:00+00:00\", \"2021-07-06T16:00:00+00:00\", \"2021-07-06T17:00:00+00:00\", \"2021-07-06T18:00:00+00:00\", \"2021-07-06T19:00:00+00:00\", \"2021-07-06T20:00:00+00:00\", \"2021-07-06T21:00:00+00:00\", \"2021-07-06T22:00:00+00:00\", \"2021-07-06T23:00:00+00:00\", \"2021-07-07T00:00:00+00:00\", \"2021-07-07T01:00:00+00:00\", \"2021-07-07T02:00:00+00:00\", \"2021-07-07T03:00:00+00:00\", \"2021-07-07T04:00:00+00:00\", \"2021-07-07T05:00:00+00:00\", \"2021-07-07T06:00:00+00:00\", \"2021-07-07T07:00:00+00:00\", \"2021-07-07T08:00:00+00:00\", \"2021-07-07T09:00:00+00:00\", \"2021-07-07T10:00:00+00:00\", \"2021-07-07T11:00:00+00:00\", \"2021-07-07T12:00:00+00:00\", \"2021-07-07T13:00:00+00:00\", \"2021-07-07T14:00:00+00:00\", \"2021-07-07T15:00:00+00:00\", \"2021-07-07T16:00:00+00:00\", \"2021-07-07T17:00:00+00:00\", \"2021-07-07T18:00:00+00:00\", \"2021-07-07T19:00:00+00:00\", \"2021-07-07T20:00:00+00:00\", \"2021-07-07T21:00:00+00:00\", \"2021-07-07T22:00:00+00:00\", \"2021-07-07T23:00:00+00:00\", \"2021-07-08T00:00:00+00:00\", \"2021-07-08T01:00:00+00:00\", \"2021-07-08T02:00:00+00:00\", \"2021-07-08T03:00:00+00:00\", \"2021-07-08T04:00:00+00:00\", \"2021-07-08T05:00:00+00:00\", \"2021-07-08T06:00:00+00:00\", \"2021-07-08T07:00:00+00:00\", \"2021-07-08T08:00:00+00:00\", \"2021-07-08T09:00:00+00:00\", \"2021-07-08T10:00:00+00:00\", \"2021-07-08T11:00:00+00:00\", \"2021-07-08T12:00:00+00:00\", \"2021-07-08T13:00:00+00:00\", \"2021-07-08T14:00:00+00:00\", \"2021-07-08T15:00:00+00:00\", \"2021-07-08T16:00:00+00:00\", \"2021-07-08T17:00:00+00:00\", \"2021-07-08T18:00:00+00:00\", \"2021-07-08T19:00:00+00:00\", \"2021-07-08T20:00:00+00:00\", \"2021-07-08T21:00:00+00:00\", \"2021-07-08T22:00:00+00:00\", \"2021-07-08T23:00:00+00:00\", \"2021-07-09T00:00:00+00:00\", \"2021-07-09T01:00:00+00:00\", \"2021-07-09T02:00:00+00:00\", \"2021-07-09T03:00:00+00:00\", \"2021-07-09T04:00:00+00:00\", \"2021-07-09T05:00:00+00:00\", \"2021-07-09T06:00:00+00:00\", \"2021-07-09T07:00:00+00:00\", \"2021-07-09T08:00:00+00:00\", \"2021-07-09T09:00:00+00:00\", \"2021-07-09T10:00:00+00:00\", \"2021-07-09T11:00:00+00:00\", \"2021-07-09T12:00:00+00:00\", \"2021-07-09T13:00:00+00:00\", \"2021-07-09T14:00:00+00:00\", \"2021-07-09T15:00:00+00:00\", \"2021-07-09T16:00:00+00:00\", \"2021-07-09T17:00:00+00:00\", \"2021-07-09T18:00:00+00:00\", \"2021-07-09T19:00:00+00:00\", \"2021-07-09T20:00:00+00:00\", \"2021-07-09T21:00:00+00:00\", \"2021-07-09T22:00:00+00:00\", \"2021-07-09T23:00:00+00:00\", \"2021-07-10T00:00:00+00:00\", \"2021-07-10T01:00:00+00:00\", \"2021-07-10T02:00:00+00:00\", \"2021-07-10T03:00:00+00:00\", \"2021-07-10T04:00:00+00:00\", \"2021-07-10T05:00:00+00:00\", \"2021-07-10T06:00:00+00:00\", \"2021-07-10T07:00:00+00:00\", \"2021-07-10T08:00:00+00:00\", \"2021-07-10T09:00:00+00:00\", \"2021-07-10T10:00:00+00:00\", \"2021-07-10T11:00:00+00:00\", \"2021-07-10T12:00:00+00:00\", \"2021-07-10T13:00:00+00:00\", \"2021-07-10T14:00:00+00:00\", \"2021-07-10T15:00:00+00:00\", \"2021-07-10T16:00:00+00:00\", \"2021-07-10T17:00:00+00:00\", \"2021-07-10T18:00:00+00:00\", \"2021-07-10T19:00:00+00:00\", \"2021-07-10T20:00:00+00:00\", \"2021-07-10T21:00:00+00:00\", \"2021-07-10T22:00:00+00:00\", \"2021-07-10T23:00:00+00:00\", \"2021-07-11T00:00:00+00:00\", \"2021-07-11T01:00:00+00:00\", \"2021-07-11T02:00:00+00:00\", \"2021-07-11T03:00:00+00:00\", \"2021-07-11T04:00:00+00:00\", \"2021-07-11T05:00:00+00:00\", \"2021-07-11T06:00:00+00:00\", \"2021-07-11T07:00:00+00:00\", \"2021-07-11T08:00:00+00:00\", \"2021-07-11T09:00:00+00:00\", \"2021-07-11T10:00:00+00:00\", \"2021-07-11T11:00:00+00:00\", \"2021-07-11T12:00:00+00:00\", \"2021-07-11T13:00:00+00:00\", \"2021-07-11T14:00:00+00:00\", \"2021-07-11T15:00:00+00:00\", \"2021-07-11T16:00:00+00:00\", \"2021-07-11T17:00:00+00:00\", \"2021-07-11T18:00:00+00:00\", \"2021-07-11T19:00:00+00:00\", \"2021-07-11T20:00:00+00:00\", \"2021-07-11T21:00:00+00:00\", \"2021-07-11T22:00:00+00:00\", \"2021-07-11T23:00:00+00:00\", \"2021-07-12T00:00:00+00:00\", \"2021-07-12T01:00:00+00:00\", \"2021-07-12T02:00:00+00:00\", \"2021-07-12T03:00:00+00:00\", \"2021-07-12T04:00:00+00:00\", \"2021-07-12T05:00:00+00:00\", \"2021-07-12T06:00:00+00:00\", \"2021-07-12T07:00:00+00:00\", \"2021-07-12T08:00:00+00:00\", \"2021-07-12T09:00:00+00:00\", \"2021-07-12T10:00:00+00:00\", \"2021-07-12T11:00:00+00:00\", \"2021-07-12T12:00:00+00:00\", \"2021-07-12T13:00:00+00:00\", \"2021-07-12T14:00:00+00:00\", \"2021-07-12T15:00:00+00:00\", \"2021-07-12T16:00:00+00:00\", \"2021-07-12T17:00:00+00:00\", \"2021-07-12T18:00:00+00:00\", \"2021-07-12T19:00:00+00:00\", \"2021-07-12T20:00:00+00:00\", \"2021-07-12T21:00:00+00:00\", \"2021-07-12T22:00:00+00:00\", \"2021-07-12T23:00:00+00:00\", \"2021-07-13T00:00:00+00:00\", \"2021-07-13T01:00:00+00:00\", \"2021-07-13T02:00:00+00:00\", \"2021-07-13T03:00:00+00:00\", \"2021-07-13T04:00:00+00:00\", \"2021-07-13T05:00:00+00:00\", \"2021-07-13T06:00:00+00:00\", \"2021-07-13T07:00:00+00:00\", \"2021-07-13T08:00:00+00:00\", \"2021-07-13T09:00:00+00:00\", \"2021-07-13T10:00:00+00:00\", \"2021-07-13T11:00:00+00:00\", \"2021-07-13T12:00:00+00:00\", \"2021-07-13T13:00:00+00:00\", \"2021-07-13T14:00:00+00:00\", \"2021-07-13T15:00:00+00:00\", \"2021-07-13T16:00:00+00:00\", \"2021-07-13T17:00:00+00:00\", \"2021-07-13T18:00:00+00:00\", \"2021-07-13T19:00:00+00:00\", \"2021-07-13T20:00:00+00:00\", \"2021-07-13T21:00:00+00:00\", \"2021-07-13T22:00:00+00:00\", \"2021-07-13T23:00:00+00:00\", \"2021-07-14T00:00:00+00:00\", \"2021-07-14T01:00:00+00:00\", \"2021-07-14T02:00:00+00:00\", \"2021-07-14T03:00:00+00:00\", \"2021-07-14T04:00:00+00:00\", \"2021-07-14T05:00:00+00:00\", \"2021-07-14T06:00:00+00:00\", \"2021-07-14T07:00:00+00:00\", \"2021-07-14T08:00:00+00:00\", \"2021-07-14T09:00:00+00:00\", \"2021-07-14T10:00:00+00:00\", \"2021-07-14T11:00:00+00:00\", \"2021-07-14T12:00:00+00:00\", \"2021-07-14T13:00:00+00:00\", \"2021-07-14T14:00:00+00:00\", \"2021-07-14T15:00:00+00:00\", \"2021-07-14T16:00:00+00:00\", \"2021-07-14T17:00:00+00:00\", \"2021-07-14T18:00:00+00:00\", \"2021-07-14T19:00:00+00:00\", \"2021-07-14T20:00:00+00:00\", \"2021-07-14T21:00:00+00:00\", \"2021-07-14T22:00:00+00:00\", \"2021-07-14T23:00:00+00:00\", \"2021-07-15T00:00:00+00:00\", \"2021-07-15T01:00:00+00:00\", \"2021-07-15T02:00:00+00:00\", \"2021-07-15T03:00:00+00:00\", \"2021-07-15T04:00:00+00:00\", \"2021-07-15T05:00:00+00:00\", \"2021-07-15T06:00:00+00:00\", \"2021-07-15T07:00:00+00:00\", \"2021-07-15T08:00:00+00:00\", \"2021-07-15T09:00:00+00:00\", \"2021-07-15T10:00:00+00:00\", \"2021-07-15T11:00:00+00:00\", \"2021-07-15T12:00:00+00:00\", \"2021-07-15T13:00:00+00:00\", \"2021-07-15T14:00:00+00:00\", \"2021-07-15T15:00:00+00:00\", \"2021-07-15T16:00:00+00:00\", \"2021-07-15T17:00:00+00:00\", \"2021-07-15T18:00:00+00:00\", \"2021-07-15T19:00:00+00:00\", \"2021-07-15T20:00:00+00:00\", \"2021-07-15T21:00:00+00:00\", \"2021-07-15T22:00:00+00:00\", \"2021-07-15T23:00:00+00:00\", \"2021-07-16T00:00:00+00:00\", \"2021-07-16T01:00:00+00:00\", \"2021-07-16T02:00:00+00:00\", \"2021-07-16T03:00:00+00:00\", \"2021-07-16T04:00:00+00:00\", \"2021-07-16T05:00:00+00:00\", \"2021-07-16T06:00:00+00:00\", \"2021-07-16T07:00:00+00:00\", \"2021-07-16T08:00:00+00:00\", \"2021-07-16T09:00:00+00:00\", \"2021-07-16T10:00:00+00:00\", \"2021-07-16T11:00:00+00:00\", \"2021-07-16T12:00:00+00:00\", \"2021-07-16T13:00:00+00:00\", \"2021-07-16T14:00:00+00:00\", \"2021-07-16T15:00:00+00:00\", \"2021-07-16T16:00:00+00:00\", \"2021-07-16T17:00:00+00:00\", \"2021-07-16T18:00:00+00:00\", \"2021-07-16T19:00:00+00:00\", \"2021-07-16T20:00:00+00:00\", \"2021-07-16T21:00:00+00:00\", \"2021-07-16T22:00:00+00:00\", \"2021-07-16T23:00:00+00:00\"], \"y\": [31, 44, 50, 46, 52, 51, 43, 36, 49, 48, 68, 52, 27, 28, 12, 11, 6, 3, 3, 8, 0, 6, 5, 10, 18, 20, 13, 26, 16, 17, 9, 15, 15, 24, 33, 22, 27, 17, 20, 8, 9, 10, 4, 2, 3, 2, 9, 11, 9, 14, 17, 19, 28, 38, 38, 40, 28, 21, 43, 38, 34, 41, 16, 9, 11, 3, 2, 5, 5, 1, 2, 10, 11, 7, 56, 47, 39, 129, 60, 115, 102, 108, 111, 181, 129, 154, 73, 26, 13, 7, 7, 8, 3, 15, 24, 18, 32, 29, 72, 43, 44, 36, 85, 84, 51, 49, 30, 86, 113, 79, 38, 25, 12, 6, 5, 7, 4, 10, 11, 13, 25, 40, 59, 59, 30, 20, 20, 15, 35, 32, 26, 21, 25, 19, 19, 8, 10, 5, 2, 1, 5, 6, 10, 19, 6, 19, 16, 14, 13, 18, 9, 37, 29, 25, 35, 16, 30, 17, 16, 4, 9, 3, 3, 3, 2, 2, 3, 13, 13, 10, 14, 16, 20, 14, 32, 14, 12, 10, 12, 13, 17, 34, 21, 13, 6, 3, 3, 4, 1, 3, 5, 6, 21, 20, 23, 21, 17, 13, 18, 14, 32, 35, 62, 50, 77, 57, 24, 12, 4, 3, 5, 5, 3, 7, 8, 7, 20, 13, 17, 21, 18, 22, 12, 8, 16, 114, 58, 68, 296, 354, 135, 86, 33, 22, 10, 14, 11, 15, 32, 52, 79, 61, 62, 64, 65, 63, 87, 79, 205, 663, 513, 252, 196, 223, 193, 87, 38, 27, 20, 31, 24, 19, 35, 61, 76, 74, 63, 49, 61, 57, 60, 44, 33, 54, 163, 103, 48, 54, 31, 26, 13, 9, 9, 9, 14, 15, 18, 20, 16, 13, 24, 22, 36, 76, 52, 44, 26, 25, 21, 20, 15, 9, 16, 10, 4, 3, 1, 1, 2, 3, 5, 20, 12, 10, 44, 35, 53, 36, 43, 35, 24, 52, 27, 34, 59, 76, 27, 10, 3, 7, 1, 0, 3, 4, 3, 7, 24, 16, 23, 18, 20, 24, 31, 51, 37, 38, 58, 123, 301, 215, 206, 126, 69, 25, 25, 21, 26, 22, 23, 34, 64, 83, 67, 44, 53, 53, 34, 53, 33, 41, 53, 56, 60, 37, 37, 25, 27, 26, 16, 25, 15, 14, 25, 33, 62, 58, 51, 83, 56, 49, 53, 41, 39, 34, 35, 24, 21, 25, 27, 22, 33, 10, 14, 20, 6, 13, 16, 17, 17, 15, 24, 18, 22, 18, 22, 30, 28, 37, 27, 22, 39, 27, 31, 5, 5, 4, 4, 7, 7, 12, 11, 9, 17, 15, 16, 21, 10, 16, 21, 24, 22, 30, 39, 155, 128, 1164, 719, 407, 170, 71, 53, 24, 52, 71, 115, 147, 126, 143, 123, 117, 92, 111, 88, 64, 105, 59, 67, 45, 77, 64, 33, 17, 11, 13, 7, 12, 10, 12, 20, 24, 26, 52, 50, 38, 37, 40, 31, 60, 49, 38, 29, 34, 26, 22, 32, 25, 12, 9, 5, 7, 8, 3, 6, 11, 7, 9, 24, 16, 28, 20, 22, 28, 33, 42, 44, 79, 46, 43, 21, 9, 17, 7, 7, 6, 8, 8, 5, 20, 24, 38, 33, 35, 25, 20, 53, 40, 24, 55, 56, 231, 207, 757, 4279, 2346, 804, 289, 164, 123, 114, 190, 333, 488, 455, 518, 644, 488, 306, 0, 19, 359, 304, 349, 446, 681, 848, 548, 317, 210, 118, 65, 63, 74, 75, 107, 213, 258, 259, 224, 201, 206, 267, 206, 136, 173, 198, 192, 150, 156, 134, 141, 64, 61, 41, 27, 23, 18, 32, 35, 53, 62, 50, 64, 54, 73, 67, 62, 71, 54, 114, 120, 96, 58, 48, 60, 47, 26, 9, 9, 5, 13, 13, 10, 18, 23, 35, 38, 30, 44, 53, 26, 25, 124, 105, 87, 60, 47, 97, 65, 32, 19, 13, 8, 14, 8, 7, 16, 15, 17, 24, 33, 30, 44, 39, 25, 29, 20, 39, 51, 32, 19, 21, 17, 13, 7]}],\n",
              "                        {\"template\": {\"data\": {\"bar\": [{\"error_x\": {\"color\": \"#2a3f5f\"}, \"error_y\": {\"color\": \"#2a3f5f\"}, \"marker\": {\"line\": {\"color\": \"#E5ECF6\", \"width\": 0.5}}, \"type\": \"bar\"}], \"barpolar\": [{\"marker\": {\"line\": {\"color\": \"#E5ECF6\", \"width\": 0.5}}, \"type\": \"barpolar\"}], \"carpet\": [{\"aaxis\": {\"endlinecolor\": \"#2a3f5f\", \"gridcolor\": \"white\", \"linecolor\": \"white\", \"minorgridcolor\": \"white\", \"startlinecolor\": \"#2a3f5f\"}, \"baxis\": {\"endlinecolor\": \"#2a3f5f\", \"gridcolor\": \"white\", \"linecolor\": \"white\", \"minorgridcolor\": \"white\", \"startlinecolor\": \"#2a3f5f\"}, \"type\": \"carpet\"}], \"choropleth\": [{\"colorbar\": {\"outlinewidth\": 0, \"ticks\": \"\"}, \"type\": \"choropleth\"}], \"contour\": [{\"colorbar\": {\"outlinewidth\": 0, \"ticks\": \"\"}, \"colorscale\": [[0.0, \"#0d0887\"], [0.1111111111111111, \"#46039f\"], [0.2222222222222222, \"#7201a8\"], [0.3333333333333333, \"#9c179e\"], [0.4444444444444444, \"#bd3786\"], [0.5555555555555556, \"#d8576b\"], [0.6666666666666666, \"#ed7953\"], [0.7777777777777778, \"#fb9f3a\"], [0.8888888888888888, \"#fdca26\"], [1.0, \"#f0f921\"]], \"type\": \"contour\"}], \"contourcarpet\": [{\"colorbar\": {\"outlinewidth\": 0, \"ticks\": \"\"}, \"type\": \"contourcarpet\"}], \"heatmap\": [{\"colorbar\": {\"outlinewidth\": 0, \"ticks\": \"\"}, \"colorscale\": [[0.0, \"#0d0887\"], [0.1111111111111111, \"#46039f\"], [0.2222222222222222, \"#7201a8\"], [0.3333333333333333, \"#9c179e\"], [0.4444444444444444, \"#bd3786\"], [0.5555555555555556, \"#d8576b\"], [0.6666666666666666, \"#ed7953\"], [0.7777777777777778, \"#fb9f3a\"], [0.8888888888888888, \"#fdca26\"], [1.0, \"#f0f921\"]], \"type\": \"heatmap\"}], \"heatmapgl\": [{\"colorbar\": {\"outlinewidth\": 0, \"ticks\": \"\"}, \"colorscale\": [[0.0, \"#0d0887\"], [0.1111111111111111, \"#46039f\"], [0.2222222222222222, \"#7201a8\"], [0.3333333333333333, \"#9c179e\"], [0.4444444444444444, \"#bd3786\"], [0.5555555555555556, \"#d8576b\"], [0.6666666666666666, \"#ed7953\"], [0.7777777777777778, \"#fb9f3a\"], [0.8888888888888888, \"#fdca26\"], [1.0, \"#f0f921\"]], \"type\": \"heatmapgl\"}], \"histogram\": [{\"marker\": {\"colorbar\": {\"outlinewidth\": 0, \"ticks\": \"\"}}, \"type\": \"histogram\"}], \"histogram2d\": [{\"colorbar\": {\"outlinewidth\": 0, \"ticks\": \"\"}, \"colorscale\": [[0.0, \"#0d0887\"], [0.1111111111111111, \"#46039f\"], [0.2222222222222222, \"#7201a8\"], [0.3333333333333333, \"#9c179e\"], [0.4444444444444444, \"#bd3786\"], [0.5555555555555556, \"#d8576b\"], [0.6666666666666666, \"#ed7953\"], [0.7777777777777778, \"#fb9f3a\"], [0.8888888888888888, \"#fdca26\"], [1.0, \"#f0f921\"]], \"type\": \"histogram2d\"}], \"histogram2dcontour\": [{\"colorbar\": {\"outlinewidth\": 0, \"ticks\": \"\"}, \"colorscale\": [[0.0, \"#0d0887\"], [0.1111111111111111, \"#46039f\"], [0.2222222222222222, \"#7201a8\"], [0.3333333333333333, \"#9c179e\"], [0.4444444444444444, \"#bd3786\"], [0.5555555555555556, \"#d8576b\"], [0.6666666666666666, \"#ed7953\"], [0.7777777777777778, \"#fb9f3a\"], [0.8888888888888888, \"#fdca26\"], [1.0, \"#f0f921\"]], \"type\": \"histogram2dcontour\"}], \"mesh3d\": [{\"colorbar\": {\"outlinewidth\": 0, \"ticks\": \"\"}, \"type\": \"mesh3d\"}], \"parcoords\": [{\"line\": {\"colorbar\": {\"outlinewidth\": 0, \"ticks\": \"\"}}, \"type\": \"parcoords\"}], \"pie\": [{\"automargin\": true, \"type\": \"pie\"}], \"scatter\": [{\"marker\": {\"colorbar\": {\"outlinewidth\": 0, \"ticks\": \"\"}}, \"type\": \"scatter\"}], \"scatter3d\": [{\"line\": {\"colorbar\": {\"outlinewidth\": 0, \"ticks\": \"\"}}, \"marker\": {\"colorbar\": {\"outlinewidth\": 0, \"ticks\": \"\"}}, \"type\": \"scatter3d\"}], \"scattercarpet\": [{\"marker\": {\"colorbar\": {\"outlinewidth\": 0, \"ticks\": \"\"}}, \"type\": \"scattercarpet\"}], \"scattergeo\": [{\"marker\": {\"colorbar\": {\"outlinewidth\": 0, \"ticks\": \"\"}}, \"type\": \"scattergeo\"}], \"scattergl\": [{\"marker\": {\"colorbar\": {\"outlinewidth\": 0, \"ticks\": \"\"}}, \"type\": \"scattergl\"}], \"scattermapbox\": [{\"marker\": {\"colorbar\": {\"outlinewidth\": 0, \"ticks\": \"\"}}, \"type\": \"scattermapbox\"}], \"scatterpolar\": [{\"marker\": {\"colorbar\": {\"outlinewidth\": 0, \"ticks\": \"\"}}, \"type\": \"scatterpolar\"}], \"scatterpolargl\": [{\"marker\": {\"colorbar\": {\"outlinewidth\": 0, \"ticks\": \"\"}}, \"type\": \"scatterpolargl\"}], \"scatterternary\": [{\"marker\": {\"colorbar\": {\"outlinewidth\": 0, \"ticks\": \"\"}}, \"type\": \"scatterternary\"}], \"surface\": [{\"colorbar\": {\"outlinewidth\": 0, \"ticks\": \"\"}, \"colorscale\": [[0.0, \"#0d0887\"], [0.1111111111111111, \"#46039f\"], [0.2222222222222222, \"#7201a8\"], [0.3333333333333333, \"#9c179e\"], [0.4444444444444444, \"#bd3786\"], [0.5555555555555556, \"#d8576b\"], [0.6666666666666666, \"#ed7953\"], [0.7777777777777778, \"#fb9f3a\"], [0.8888888888888888, \"#fdca26\"], [1.0, \"#f0f921\"]], \"type\": \"surface\"}], \"table\": [{\"cells\": {\"fill\": {\"color\": \"#EBF0F8\"}, \"line\": {\"color\": \"white\"}}, \"header\": {\"fill\": {\"color\": \"#C8D4E3\"}, \"line\": {\"color\": \"white\"}}, \"type\": \"table\"}]}, \"layout\": {\"annotationdefaults\": {\"arrowcolor\": \"#2a3f5f\", \"arrowhead\": 0, \"arrowwidth\": 1}, \"coloraxis\": {\"colorbar\": {\"outlinewidth\": 0, \"ticks\": \"\"}}, \"colorscale\": {\"diverging\": [[0, \"#8e0152\"], [0.1, \"#c51b7d\"], [0.2, \"#de77ae\"], [0.3, \"#f1b6da\"], [0.4, \"#fde0ef\"], [0.5, \"#f7f7f7\"], [0.6, \"#e6f5d0\"], [0.7, \"#b8e186\"], [0.8, \"#7fbc41\"], [0.9, \"#4d9221\"], [1, \"#276419\"]], \"sequential\": [[0.0, \"#0d0887\"], [0.1111111111111111, \"#46039f\"], [0.2222222222222222, \"#7201a8\"], [0.3333333333333333, \"#9c179e\"], [0.4444444444444444, \"#bd3786\"], [0.5555555555555556, \"#d8576b\"], [0.6666666666666666, \"#ed7953\"], [0.7777777777777778, \"#fb9f3a\"], [0.8888888888888888, \"#fdca26\"], [1.0, \"#f0f921\"]], \"sequentialminus\": [[0.0, \"#0d0887\"], [0.1111111111111111, \"#46039f\"], [0.2222222222222222, \"#7201a8\"], [0.3333333333333333, \"#9c179e\"], [0.4444444444444444, \"#bd3786\"], [0.5555555555555556, \"#d8576b\"], [0.6666666666666666, \"#ed7953\"], [0.7777777777777778, \"#fb9f3a\"], [0.8888888888888888, \"#fdca26\"], [1.0, \"#f0f921\"]]}, \"colorway\": [\"#636efa\", \"#EF553B\", \"#00cc96\", \"#ab63fa\", \"#FFA15A\", \"#19d3f3\", \"#FF6692\", \"#B6E880\", \"#FF97FF\", \"#FECB52\"], \"font\": {\"color\": \"#2a3f5f\"}, \"geo\": {\"bgcolor\": \"white\", \"lakecolor\": \"white\", \"landcolor\": \"#E5ECF6\", \"showlakes\": true, \"showland\": true, \"subunitcolor\": \"white\"}, \"hoverlabel\": {\"align\": \"left\"}, \"hovermode\": \"closest\", \"mapbox\": {\"style\": \"light\"}, \"paper_bgcolor\": \"white\", \"plot_bgcolor\": \"#E5ECF6\", \"polar\": {\"angularaxis\": {\"gridcolor\": \"white\", \"linecolor\": \"white\", \"ticks\": \"\"}, \"bgcolor\": \"#E5ECF6\", \"radialaxis\": {\"gridcolor\": \"white\", \"linecolor\": \"white\", \"ticks\": \"\"}}, \"scene\": {\"xaxis\": {\"backgroundcolor\": \"#E5ECF6\", \"gridcolor\": \"white\", \"gridwidth\": 2, \"linecolor\": \"white\", \"showbackground\": true, \"ticks\": \"\", \"zerolinecolor\": \"white\"}, \"yaxis\": {\"backgroundcolor\": \"#E5ECF6\", \"gridcolor\": \"white\", \"gridwidth\": 2, \"linecolor\": \"white\", \"showbackground\": true, \"ticks\": \"\", \"zerolinecolor\": \"white\"}, \"zaxis\": {\"backgroundcolor\": \"#E5ECF6\", \"gridcolor\": \"white\", \"gridwidth\": 2, \"linecolor\": \"white\", \"showbackground\": true, \"ticks\": \"\", \"zerolinecolor\": \"white\"}}, \"shapedefaults\": {\"line\": {\"color\": \"#2a3f5f\"}}, \"ternary\": {\"aaxis\": {\"gridcolor\": \"white\", \"linecolor\": \"white\", \"ticks\": \"\"}, \"baxis\": {\"gridcolor\": \"white\", \"linecolor\": \"white\", \"ticks\": \"\"}, \"bgcolor\": \"#E5ECF6\", \"caxis\": {\"gridcolor\": \"white\", \"linecolor\": \"white\", \"ticks\": \"\"}}, \"title\": {\"x\": 0.05}, \"xaxis\": {\"automargin\": true, \"gridcolor\": \"white\", \"linecolor\": \"white\", \"ticks\": \"\", \"title\": {\"standoff\": 15}, \"zerolinecolor\": \"white\", \"zerolinewidth\": 2}, \"yaxis\": {\"automargin\": true, \"gridcolor\": \"white\", \"linecolor\": \"white\", \"ticks\": \"\", \"title\": {\"standoff\": 15}, \"zerolinecolor\": \"white\", \"zerolinewidth\": 2}}}},\n",
              "                        {\"responsive\": true}\n",
              "                    ).then(function(){\n",
              "                            \n",
              "var gd = document.getElementById('c032c631-d968-445e-9a25-b865c790d33e');\n",
              "var x = new MutationObserver(function (mutations, observer) {{\n",
              "        var display = window.getComputedStyle(gd).display;\n",
              "        if (!display || display === 'none') {{\n",
              "            console.log([gd, 'removed!']);\n",
              "            Plotly.purge(gd);\n",
              "            observer.disconnect();\n",
              "        }}\n",
              "}});\n",
              "\n",
              "// Listen for the removal of the full notebook cells\n",
              "var notebookContainer = gd.closest('#notebook-container');\n",
              "if (notebookContainer) {{\n",
              "    x.observe(notebookContainer, {childList: true});\n",
              "}}\n",
              "\n",
              "// Listen for the clearing of the current output cell\n",
              "var outputEl = gd.closest('.output');\n",
              "if (outputEl) {{\n",
              "    x.observe(outputEl, {childList: true});\n",
              "}}\n",
              "\n",
              "                        })\n",
              "                };\n",
              "                \n",
              "            </script>\n",
              "        </div>\n",
              "</body>\n",
              "</html>"
            ]
          },
          "metadata": {
            "tags": []
          }
        }
      ]
    }
  ]
}
