{
  "nbformat": 4,
  "nbformat_minor": 0,
  "metadata": {
    "colab": {
      "name": "processing_full_hatebase.ipynb",
      "provenance": [],
      "collapsed_sections": [
        "1ypjRKdqqUyS",
        "ngzVB2h4x6J9",
        "oLGzXt3cG1_x"
      ],
      "authorship_tag": "ABX9TyPmx59E4+SlQMmd/1pMjOeC",
      "include_colab_link": true
    },
    "kernelspec": {
      "name": "python3",
      "display_name": "Python 3"
    },
    "language_info": {
      "name": "python"
    }
  },
  "cells": [
    {
      "cell_type": "markdown",
      "metadata": {
        "id": "view-in-github",
        "colab_type": "text"
      },
      "source": [
        "<a href=\"https://colab.research.google.com/github/dbckz/crossing-the-line/blob/master/notebooks/processing_full_hatebase.ipynb\" target=\"_parent\"><img src=\"https://colab.research.google.com/assets/colab-badge.svg\" alt=\"Open In Colab\"/></a>"
      ]
    },
    {
      "cell_type": "markdown",
      "metadata": {
        "id": "Br4Ph0_Tpojf"
      },
      "source": [
        "# Setup"
      ]
    },
    {
      "cell_type": "code",
      "metadata": {
        "id": "mLv78bpwk10K"
      },
      "source": [
        "import pandas as pd\n",
        "import ast\n",
        "import os\n",
        "import numpy as np\n",
        "import matplotlib.pyplot as plt\n",
        "from wordcloud import WordCloud\n",
        "from tqdm import tqdm\n",
        "from google.colab import drive\n",
        "import plotly.graph_objects as go"
      ],
      "execution_count": 1,
      "outputs": []
    },
    {
      "cell_type": "code",
      "metadata": {
        "colab": {
          "base_uri": "https://localhost:8080/"
        },
        "id": "zx3CYfwcoyEw",
        "outputId": "26491758-04cd-42a2-bbca-0a23d48ffaca"
      },
      "source": [
        "drive.mount('/content/drive')"
      ],
      "execution_count": 2,
      "outputs": [
        {
          "output_type": "stream",
          "name": "stdout",
          "text": [
            "Mounted at /content/drive\n"
          ]
        }
      ]
    },
    {
      "cell_type": "code",
      "metadata": {
        "id": "LnNZcE26nZ_v"
      },
      "source": [
        "# Set up paths\n",
        "root_path = \"/content/drive/MyDrive/University/Dissertation/data_collection\"\n",
        "graph_path = root_path + \"/graphs\"\n",
        "\n",
        "day_paths = day_paths = [\n",
        "        \"/01\",\n",
        "        \"/02\",\n",
        "        \"/03\",\n",
        "        \"/04\",\n",
        "        \"/05\",\n",
        "        \"/06\",\n",
        "        \"/07\",\n",
        "        \"/08\",\n",
        "        \"/09\",\n",
        "        \"/10\",\n",
        "        \"/11\",\n",
        "        \"/12\",\n",
        "        \"/13\",\n",
        "        \"/14\",\n",
        "        \"/15\",\n",
        "        \"/16\",\n",
        "        \"/17\",\n",
        "        \"/18\",\n",
        "        \"/19\",\n",
        "        \"/20\",\n",
        "        \"/21\",\n",
        "        \"/22\",\n",
        "        \"/23\",\n",
        "        \"/24\",\n",
        "        \"/25\",\n",
        "        \"/26\",\n",
        "        \"/27\",\n",
        "        \"/28\",\n",
        "        \"/29\",\n",
        "        \"/30\",\n",
        "        \"/31\",\n",
        "        \"/32\",\n",
        "        \"/33\",\n",
        "        \"/34\",\n",
        "        \"/35\",\n",
        "        \"/36\"\n",
        "    ]"
      ],
      "execution_count": 3,
      "outputs": []
    },
    {
      "cell_type": "code",
      "metadata": {
        "id": "AaaxCbrhnxib",
        "colab": {
          "base_uri": "https://localhost:8080/"
        },
        "outputId": "1240e39a-616f-4152-d047-9f0fa54e7ce6"
      },
      "source": [
        "# Create directory to store visualisations\n",
        "try:\n",
        "    os.mkdir(graph_path)\n",
        "except OSError as error:\n",
        "    print(error)"
      ],
      "execution_count": 4,
      "outputs": [
        {
          "output_type": "stream",
          "name": "stdout",
          "text": [
            "[Errno 17] File exists: '/content/drive/MyDrive/University/Dissertation/data_collection/graphs'\n"
          ]
        }
      ]
    },
    {
      "cell_type": "code",
      "metadata": {
        "colab": {
          "base_uri": "https://localhost:8080/"
        },
        "id": "iC_0fxX3oAKF",
        "outputId": "0bc5ef5f-89c8-4ef9-c87f-8a7a3a57c173"
      },
      "source": [
        "# Load data\n",
        "threshold = '90'\n",
        "in_tweets = pd.DataFrame()\n",
        "hb_guard = pd.DataFrame()\n",
        "emojis = pd.DataFrame()\n",
        "for path in day_paths:\n",
        "    directory = root_path + path\n",
        "    tweets_csv = directory + \"/tweets.csv\"\n",
        "    matched_terms_csv = directory + \"/hatebase_processed_tweets.csv\"\n",
        "    emojis_csv = directory + \"/emoji.csv\"\n",
        "\n",
        "    print(f\"Loading CSVs for directory {path}...\")\n",
        "    in_tweets = pd.concat([in_tweets, \n",
        "                           pd.read_csv(tweets_csv,\n",
        "                                       usecols = [\n",
        "                                                  'created_at',\n",
        "                                                  'tweet_id',\n",
        "                                                  'tweet_text',\n",
        "                                                  'accounts_mentioned'\n",
        "                                       ],\n",
        "                                       dtype = {\n",
        "                                          # 'created_at':\n",
        "                                          'tweet_id': np.int64,\n",
        "                                          'tweet_text': str,\n",
        "                                          'accounts_mentioned': object\n",
        "                                       },\n",
        "                                       parse_dates=['created_at'])])\n",
        "\n",
        "    hb_guard = pd.concat([hb_guard, pd.read_csv(matched_terms_csv,\n",
        "                                                usecols = [\n",
        "                                                           'tweet_id',\n",
        "                                                           f'matching_hatebase_terms_over_{threshold}',\n",
        "                                                           f'matching_hatebase_terms_ethnicity_over_{threshold}',\n",
        "                                                           f'matching_hatebase_terms_nationality_over_{threshold}',\n",
        "                                                           f'matching_hatebase_terms_gender_over_{threshold}',\n",
        "                                                           f'matching_hatebase_terms_sexual_orientation_over_{threshold}',\n",
        "                                                           f'matching_hatebase_terms_class_over_{threshold}',\n",
        "                                                           f'matching_hatebase_terms_religion_over_{threshold}',\n",
        "                                                           f'matching_hatebase_terms_disability_over_{threshold}'\n",
        "                                                ],\n",
        "                                                dtype = {\n",
        "                                                    'tweet_id': np.int64,\n",
        "                                                    f'matching_hatebase_terms_over_{threshold}': str,\n",
        "                                                    f'matching_hatebase_terms_ethnicity_over_{threshold}': str,\n",
        "                                                    f'matching_hatebase_terms_nationality_over_{threshold}': str,\n",
        "                                                    f'matching_hatebase_terms_gender_over_{threshold}': str,\n",
        "                                                    f'matching_hatebase_terms_sexual_orientation_over_{threshold}': str,\n",
        "                                                    f'matching_hatebase_terms_class_over_{threshold}': str,\n",
        "                                                    f'matching_hatebase_terms_religion_over_{threshold}': str,\n",
        "                                                    f'matching_hatebase_terms_disability_over_{threshold}': str\n",
        "                                                })])\n",
        "\n",
        "    emojis = pd.concat([emojis,\n",
        "                        pd.read_csv(emojis_csv,\n",
        "                                    dtype = {\n",
        "                                        'tweet_id': np.int64,\n",
        "                                        'banana_count': np.int16,\n",
        "                                        'monkey_count': np.int16,\n",
        "                                        'monkey_face_count': np.int16,\n",
        "                                        'speak_no_evil_monkey_count': np.int16,\n",
        "                                        'hear_no_evil_monkey_count': np.int16,\n",
        "                                        'see_no_evil_monkey_count': np.int16,\n",
        "                                        'gorilla_count': np.int16,\n",
        "                                        'watermelon_count': np.int16,\n",
        "                                        'total_emoji_count': np.int16\n",
        "                                    }\n",
        "                                    )])\n",
        "\n",
        "# Dedup\n",
        "original_tweets_length = len(in_tweets)\n",
        "original_hatebase_length = len(hb_guard)\n",
        "original_emojis_length = len(emojis)\n",
        "in_tweets.drop_duplicates(subset=['tweet_id'], inplace=True)\n",
        "hb_guard.drop_duplicates(subset=['tweet_id'], inplace=True)\n",
        "emojis.drop_duplicates(subset=['tweet_id'], inplace=True)\n",
        "print(f\"Size of tweets dataframe: {len(in_tweets)}, having dropped {original_tweets_length - len(in_tweets)} duplicate rows\")\n",
        "print(f\"Size of hatebase dataframe: {len(hb_guard)}, having dropped {original_hatebase_length - len(hb_guard)} duplicate rows\")\n",
        "print(f\"Size of emojis dataframe: {len(emojis)}, having dropped {original_emojis_length - len(emojis)} duplicate rows\")\n"
      ],
      "execution_count": 5,
      "outputs": [
        {
          "output_type": "stream",
          "name": "stdout",
          "text": [
            "Loading CSVs for directory /01...\n",
            "Loading CSVs for directory /02...\n",
            "Loading CSVs for directory /03...\n",
            "Loading CSVs for directory /04...\n",
            "Loading CSVs for directory /05...\n",
            "Loading CSVs for directory /06...\n",
            "Loading CSVs for directory /07...\n",
            "Loading CSVs for directory /08...\n",
            "Loading CSVs for directory /09...\n",
            "Loading CSVs for directory /10...\n",
            "Loading CSVs for directory /11...\n",
            "Loading CSVs for directory /12...\n",
            "Loading CSVs for directory /13...\n",
            "Loading CSVs for directory /14...\n",
            "Loading CSVs for directory /15...\n",
            "Loading CSVs for directory /16...\n",
            "Loading CSVs for directory /17...\n",
            "Loading CSVs for directory /18...\n",
            "Loading CSVs for directory /19...\n",
            "Loading CSVs for directory /20...\n",
            "Loading CSVs for directory /21...\n",
            "Loading CSVs for directory /22...\n",
            "Loading CSVs for directory /23...\n",
            "Loading CSVs for directory /24...\n",
            "Loading CSVs for directory /25...\n",
            "Loading CSVs for directory /26...\n",
            "Loading CSVs for directory /27...\n",
            "Loading CSVs for directory /28...\n",
            "Loading CSVs for directory /29...\n",
            "Loading CSVs for directory /30...\n",
            "Loading CSVs for directory /31...\n",
            "Loading CSVs for directory /32...\n",
            "Loading CSVs for directory /33...\n",
            "Loading CSVs for directory /34...\n",
            "Loading CSVs for directory /35...\n",
            "Loading CSVs for directory /36...\n",
            "Size of tweets dataframe: 1478009, having dropped 133 duplicate rows\n",
            "Size of hatebase dataframe: 1478009, having dropped 133 duplicate rows\n",
            "Size of emojis dataframe: 1478009, having dropped 133 duplicate rows\n"
          ]
        }
      ]
    },
    {
      "cell_type": "code",
      "metadata": {
        "id": "fIQbp7k92PQ_"
      },
      "source": [
        "# Up the pandas display limits so printed dataframes aren't so truncated\n",
        "pd.set_option('display.max_rows', 100)\n",
        "pd.set_option('display.max_columns', 100)\n",
        "pd.set_option('display.width', None)\n",
        "pd.set_option('display.max_colwidth', None)\n",
        "pd.set_option('display.max_info_rows', 100)\n",
        "pd.set_option('display.max_info_columns', 100)"
      ],
      "execution_count": 6,
      "outputs": []
    },
    {
      "cell_type": "markdown",
      "metadata": {
        "id": "GKwJiJz_pvQ9"
      },
      "source": [
        "# Data manipulation"
      ]
    },
    {
      "cell_type": "code",
      "metadata": {
        "id": "SHz_MRv9p1P9"
      },
      "source": [
        "# Join tables + drop old ones!\n",
        "joined_df = pd.merge(in_tweets, emojis, how='outer', on='tweet_id')\n",
        "joined_df = pd.merge(joined_df, hb_guard, how='outer', on='tweet_id')\n",
        "del emojis\n",
        "del hb_guard\n",
        "del in_tweets"
      ],
      "execution_count": 7,
      "outputs": []
    },
    {
      "cell_type": "code",
      "metadata": {
        "colab": {
          "base_uri": "https://localhost:8080/"
        },
        "id": "NCWstScwta0g",
        "outputId": "98c7d20e-f63e-4c64-8977-3bca1fcfc4a2"
      },
      "source": [
        "joined_df = joined_df[(joined_df['created_at'] > '2021-06-19 08:10:18+00:00') & (joined_df['created_at'] < '2021-07-17 00:00:00+00:00')]\n",
        "len(joined_df)"
      ],
      "execution_count": 8,
      "outputs": [
        {
          "output_type": "execute_result",
          "data": {
            "text/plain": [
              "1274885"
            ]
          },
          "metadata": {},
          "execution_count": 8
        }
      ]
    },
    {
      "cell_type": "code",
      "metadata": {
        "id": "vpfkGRwSqBzL"
      },
      "source": [
        "# Create a column indicating whether tweet contains slurs (hacky > 2 as empty list is stored as string \"[]\")\n",
        "joined_df['contains_slurs'] = joined_df[f'matching_hatebase_terms_over_{threshold}'].str.len() > 2\n",
        "joined_df['contains_ethnicity_slurs'] = joined_df[f'matching_hatebase_terms_ethnicity_over_{threshold}'].str.len() > 2\n",
        "joined_df['contains_nationality_slurs'] = joined_df[f'matching_hatebase_terms_nationality_over_{threshold}'].str.len() > 2\n",
        "joined_df['contains_gender_slurs'] = joined_df[f'matching_hatebase_terms_gender_over_{threshold}'].str.len() > 2\n",
        "joined_df['contains_sexual_orientation_slurs'] = joined_df[f'matching_hatebase_terms_sexual_orientation_over_{threshold}'].str.len() > 2\n",
        "joined_df['contains_class_slurs'] = joined_df[f'matching_hatebase_terms_class_over_{threshold}'].str.len() > 2\n",
        "joined_df['contains_religion_slurs'] = joined_df[f'matching_hatebase_terms_religion_over_{threshold}'].str.len() > 2\n",
        "joined_df['contains_disability_slurs'] = joined_df[f'matching_hatebase_terms_disability_over_{threshold}'].str.len() > 2\n"
      ],
      "execution_count": 9,
      "outputs": []
    },
    {
      "cell_type": "code",
      "metadata": {
        "id": "qb0cK5Rixe9r"
      },
      "source": [
        "emoji_tweet_file = root_path + \"/emoji_tweets.csv\"\n",
        "\n",
        "banana_tweet_count = joined_df['banana_count'][joined_df['banana_count'] != 0].count()\n",
        "monkey_tweet_count = joined_df['monkey_count'][joined_df['banana_count'] != 0].count()\n",
        "monkey_face_tweet_count = joined_df['monkey_face_count'][joined_df['monkey_face_count'] != 0].count()\n",
        "speak_no_evil_monkey_tweet_count = joined_df['speak_no_evil_monkey_count'][joined_df['speak_no_evil_monkey_count'] != 0].count()\n",
        "hear_no_evil_monkey_tweet_count = joined_df['hear_no_evil_monkey_count'][joined_df['hear_no_evil_monkey_count'] != 0].count()\n",
        "see_no_evil_monkey_tweet_count = joined_df['see_no_evil_monkey_count'][joined_df['see_no_evil_monkey_count'] != 0].count()\n",
        "gorilla_tweet_count = joined_df['gorilla_count'][joined_df['gorilla_count'] != 0].count()\n",
        "watermelon_tweet_count = joined_df['watermelon_count'][joined_df['watermelon_count'] != 0].count()\n",
        "\n",
        "banana_total = joined_df['banana_count'][joined_df['banana_count'] != 0].sum()\n",
        "monkey_total = joined_df['monkey_count'][joined_df['monkey_count'] != 0].sum()\n",
        "monkey_face_total = joined_df['monkey_face_count'][joined_df['monkey_face_count'] != 0].sum()\n",
        "speak_no_evil_monkey_total = joined_df['speak_no_evil_monkey_count'][joined_df['speak_no_evil_monkey_count'] != 0].sum()\n",
        "hear_no_evil_monkey_total = joined_df['hear_no_evil_monkey_count'][joined_df['hear_no_evil_monkey_count'] != 0].sum()\n",
        "see_no_evil_monkey_total = joined_df['see_no_evil_monkey_count'][joined_df['see_no_evil_monkey_count'] != 0].sum()\n",
        "gorilla_total = joined_df['gorilla_count'][joined_df['gorilla_count'] != 0].sum()\n",
        "watermelon_total = joined_df['watermelon_count'][joined_df['watermelon_count'] != 0].sum()\n",
        "\n",
        "total_emoji_tweets = joined_df.query('banana_count != 0 or monkey_count != 0 or monkey_face_count != 0 or speak_no_evil_monkey_count != 0 or hear_no_evil_monkey_count != 0 or see_no_evil_monkey_count != 0 or gorilla_count != 0 or watermelon_count != 0')['tweet_id'].count()\n",
        "total_emoji_count = joined_df['total_emoji_count'][joined_df['total_emoji_count'] != 0].sum()\n",
        "\n",
        "joined_df[['tweet_id', 'tweet_text']][joined_df['total_emoji_count'] > 0].to_csv(emoji_tweet_file, index=False)\n",
        "joined_df['contains_emoji_slurs'] = joined_df['total_emoji_count'] > 0"
      ],
      "execution_count": 10,
      "outputs": []
    },
    {
      "cell_type": "code",
      "metadata": {
        "id": "ZoLsN1wGxkWg"
      },
      "source": [
        "# NOTE: This shouldn't go here - this should be part of the evaluation process\n",
        "\n",
        "# # NOTE: at this point you need to manually review the emoji tweets in emoji_tweets.csv, and put them into a emoji_tweets_reviewed.csv\n",
        "\n",
        "# reviewed_emojis = pd.read_csv(root_path + '/emoji_tweets_reviewed.csv')\n",
        "# reviewed_emojis['manually_reviewed_emoji_is_offensive'] = True\n",
        "# reviewed_emojis.drop('tweet_text', axis=1, inplace=True)\n",
        "# joined_df = pd.merge(joined_df, reviewed_emojis, how='outer', on='tweet_id')\n",
        "# joined_df['manually_reviewed_emoji_is_offensive'] = joined_df['manually_reviewed_emoji_is_offensive'].fillna(False)"
      ],
      "execution_count": 11,
      "outputs": []
    },
    {
      "cell_type": "code",
      "metadata": {
        "colab": {
          "base_uri": "https://localhost:8080/"
        },
        "id": "Q2wlAG3DvVEC",
        "outputId": "15645ab0-e9d4-472c-9d0f-5ca141c1bcb9"
      },
      "source": [
        "# Extract players\n",
        "england = [\"JPickford1\", \"kylewalker2\", \"LukeShaw23\", \"_DeclanRice\", \"HarryMaguire93\", \"JackGrealish\",\n",
        "                    \"JHenderson\", \"HKane\", \"sterling7\", \"MarcusRashford\", \"trippier2\", \"deanhenderson\",\n",
        "                    \"Kalvinphillips\", \"OfficialTM_3\", \"Sanchooo10\", \"CalvertLewin14\", \"masonmount_10\", \"PhilFoden\",\n",
        "                    \"BenChilwell\", \"ben6white\", \"samjohnstone50\", \"reecejames_24\", \"BukayoSaka87\", \"BellinghamJude\"]\n",
        "\n",
        "netherlands = [\"joel_veltman\", \"mdeligt_04\", \"NathanAke\", \"Stefandevrij\", \"GWijnaldum\", \"LuukdeJong9\", \"Memphis\", \"QPromes\", \"pvanaanholt\", \"TimKrul\", \"DavyKlaassen\", \"Dirono\", \"RGravenberch\", \"BlindDaley\", \"DeJongFrenkie21\", \"DenzelJMD2\"]\n",
        "\n",
        "germany = [\"Manuel_Neuer\", \"ToniRuediger\", \"MatzeGinter\", \"matshummels\", \"kaihavertz29\", \"ToniKroos\", \"KeVolland\", \"SergeGnabry\", \"Bernd_Leno\", \"JamalMusiala\", \"lukaskl96\", \"leongoretzka_\", \"leroy_sane\", \"IlkayGuendogan\", \"emrecan_\", \"RobinKoch25\", \"esmuellert_\"]\n",
        "\n",
        "scotland = [\"MarshallDavid23\", \"sodonnell15\", \"andrewrobertso5\", \"mctominay10\", \"granthanley5\", \"kierantierney1\", \"jmcginn7\", \"Callummcgregor8\", \"Lyndon_Dykes\", \"CheAdams_\", \"CraigGordon01\", \"declang31\", \"LiamCooper__\", \"10DavidTurnbull\", \"kevinnisbet16\", \"np4tterson\", \"billygilmourrr\", \"Jack_Hendry2\", \"Scottmckenna3\"]\n",
        "\n",
        "france = [\"BenPavard28\", \"kimpembe_3\", \"raphaelvarane\", \"clement_lenglet\", \"paulpogba\", \"AntoGriezmann\", \"_OlivierGiroud_\", \"KMbappe\", \"CorentinTolisso\", \"nglkante\", \"KurtZouma\", \"SteveMandanda\", \"MoussaSissoko\", \"LucasDigne\", \"Benzema\", \"LucasHernandez\", \"WissBenYedder\", \"mmseize\", \"leodubois15\", \"jkeey4\", \"MarcusThuram\"]\n",
        "\n",
        "belgium = [\"thibautcourtois\", \"AlderweireldTob\", \"thomasvermaelen\", \"JanVertonghen\", \"axelwitsel28\", \"DeBruyneKev\", \"RomeluLukaku9\", \"hazardeden10\", \"CarrascoY21\", \"SMignolet\", \"dries_mertens14\", \"ThomMills\", \"HazardThorgan8\", \"VanakenHans\", \"Jasondenayer\", \"chrisbenteke\", \"NChadli\", \"mbatshuayi\", \"LTrossard\", \"JeremyDoku\", \"dennispraet\"]\n",
        "\n",
        "list_of_players = england + netherlands + germany + scotland + france + belgium\n",
        "\n",
        "for player in list_of_players:\n",
        "    print(f\"Extracting {player}...\")\n",
        "    joined_df[player] = joined_df['accounts_mentioned'].str.contains(f\"'username': '{player}'\").astype(np.bool)\n",
        "\n",
        "# player_tweet_map = pd.DataFrame(columns=[\"username\", \"tweets_received\"])\n",
        "\n",
        "# i = 0\n",
        "# for player in list_of_players:\n",
        "#     tweets = joined_df[player].sum()\n",
        "#     player_tweet_map.loc[i] = player, tweets\n",
        "#     i += 1\n",
        "\n",
        "# player_tweet_map.sort_values('tweets_received', axis=0, ascending=False, inplace=True)\n",
        "\n"
      ],
      "execution_count": 12,
      "outputs": [
        {
          "output_type": "stream",
          "name": "stdout",
          "text": [
            "Extracting JPickford1...\n",
            "Extracting kylewalker2...\n",
            "Extracting LukeShaw23...\n",
            "Extracting _DeclanRice...\n",
            "Extracting HarryMaguire93...\n",
            "Extracting JackGrealish...\n",
            "Extracting JHenderson...\n",
            "Extracting HKane...\n",
            "Extracting sterling7...\n",
            "Extracting MarcusRashford...\n",
            "Extracting trippier2...\n",
            "Extracting deanhenderson...\n",
            "Extracting Kalvinphillips...\n",
            "Extracting OfficialTM_3...\n",
            "Extracting Sanchooo10...\n",
            "Extracting CalvertLewin14...\n",
            "Extracting masonmount_10...\n",
            "Extracting PhilFoden...\n",
            "Extracting BenChilwell...\n",
            "Extracting ben6white...\n",
            "Extracting samjohnstone50...\n",
            "Extracting reecejames_24...\n",
            "Extracting BukayoSaka87...\n",
            "Extracting BellinghamJude...\n",
            "Extracting joel_veltman...\n",
            "Extracting mdeligt_04...\n",
            "Extracting NathanAke...\n",
            "Extracting Stefandevrij...\n",
            "Extracting GWijnaldum...\n",
            "Extracting LuukdeJong9...\n",
            "Extracting Memphis...\n",
            "Extracting QPromes...\n",
            "Extracting pvanaanholt...\n",
            "Extracting TimKrul...\n",
            "Extracting DavyKlaassen...\n",
            "Extracting Dirono...\n",
            "Extracting RGravenberch...\n",
            "Extracting BlindDaley...\n",
            "Extracting DeJongFrenkie21...\n",
            "Extracting DenzelJMD2...\n",
            "Extracting Manuel_Neuer...\n",
            "Extracting ToniRuediger...\n",
            "Extracting MatzeGinter...\n",
            "Extracting matshummels...\n",
            "Extracting kaihavertz29...\n",
            "Extracting ToniKroos...\n",
            "Extracting KeVolland...\n",
            "Extracting SergeGnabry...\n",
            "Extracting Bernd_Leno...\n",
            "Extracting JamalMusiala...\n",
            "Extracting lukaskl96...\n",
            "Extracting leongoretzka_...\n",
            "Extracting leroy_sane...\n",
            "Extracting IlkayGuendogan...\n",
            "Extracting emrecan_...\n",
            "Extracting RobinKoch25...\n",
            "Extracting esmuellert_...\n",
            "Extracting MarshallDavid23...\n",
            "Extracting sodonnell15...\n",
            "Extracting andrewrobertso5...\n",
            "Extracting mctominay10...\n",
            "Extracting granthanley5...\n",
            "Extracting kierantierney1...\n",
            "Extracting jmcginn7...\n",
            "Extracting Callummcgregor8...\n",
            "Extracting Lyndon_Dykes...\n",
            "Extracting CheAdams_...\n",
            "Extracting CraigGordon01...\n",
            "Extracting declang31...\n",
            "Extracting LiamCooper__...\n",
            "Extracting 10DavidTurnbull...\n",
            "Extracting kevinnisbet16...\n",
            "Extracting np4tterson...\n",
            "Extracting billygilmourrr...\n",
            "Extracting Jack_Hendry2...\n",
            "Extracting Scottmckenna3...\n",
            "Extracting BenPavard28...\n",
            "Extracting kimpembe_3...\n",
            "Extracting raphaelvarane...\n",
            "Extracting clement_lenglet...\n",
            "Extracting paulpogba...\n",
            "Extracting AntoGriezmann...\n",
            "Extracting _OlivierGiroud_...\n",
            "Extracting KMbappe...\n",
            "Extracting CorentinTolisso...\n",
            "Extracting nglkante...\n",
            "Extracting KurtZouma...\n",
            "Extracting SteveMandanda...\n",
            "Extracting MoussaSissoko...\n",
            "Extracting LucasDigne...\n",
            "Extracting Benzema...\n",
            "Extracting LucasHernandez...\n",
            "Extracting WissBenYedder...\n",
            "Extracting mmseize...\n",
            "Extracting leodubois15...\n",
            "Extracting jkeey4...\n",
            "Extracting MarcusThuram...\n",
            "Extracting thibautcourtois...\n",
            "Extracting AlderweireldTob...\n",
            "Extracting thomasvermaelen...\n",
            "Extracting JanVertonghen...\n",
            "Extracting axelwitsel28...\n",
            "Extracting DeBruyneKev...\n",
            "Extracting RomeluLukaku9...\n",
            "Extracting hazardeden10...\n",
            "Extracting CarrascoY21...\n",
            "Extracting SMignolet...\n",
            "Extracting dries_mertens14...\n",
            "Extracting ThomMills...\n",
            "Extracting HazardThorgan8...\n",
            "Extracting VanakenHans...\n",
            "Extracting Jasondenayer...\n",
            "Extracting chrisbenteke...\n",
            "Extracting NChadli...\n",
            "Extracting mbatshuayi...\n",
            "Extracting LTrossard...\n",
            "Extracting JeremyDoku...\n",
            "Extracting dennispraet...\n"
          ]
        }
      ]
    },
    {
      "cell_type": "code",
      "metadata": {
        "id": "8oGrxC0CkUj9"
      },
      "source": [
        "# Sort by ascending date\n",
        "joined_df.sort_values('created_at', axis=0, inplace=True)\n",
        "# joined_df['created_at'] = pd.to_datetime(joined_df['created_at'])\n",
        "\n",
        "joined_df['contains_slurs_or_offensive_emoji'] = joined_df['contains_slurs'] | joined_df['contains_emoji_slurs']\n",
        "# joined_df['contains_ethnicity_slurs'] = joined_df['contains_ethnicity_slurs'] | joined_df['manually_reviewed_emoji_is_offensive'] # assuming all emoji ones are racist"
      ],
      "execution_count": 13,
      "outputs": []
    },
    {
      "cell_type": "code",
      "metadata": {
        "id": "TsP94a1LlRfo"
      },
      "source": [
        "joined_df = joined_df[\n",
        "    (joined_df[\"JPickford1\"]) |\n",
        "    (joined_df[\"kylewalker2\"]) |\n",
        "    (joined_df[\"LukeShaw23\"]) |\n",
        "    (joined_df[\"kylewalker2\"]) |\n",
        "    (joined_df[\"_DeclanRice\"]) |\n",
        "    (joined_df[\"HarryMaguire93\"]) |\n",
        "    (joined_df[\"JackGrealish\"]) |\n",
        "    (joined_df[\"JHenderson\"]) |\n",
        "    (joined_df[\"HKane\"]) |\n",
        "    (joined_df[\"sterling7\"]) |\n",
        "    (joined_df[\"MarcusRashford\"]) |\n",
        "    (joined_df[\"trippier2\"]) |\n",
        "    (joined_df[\"deanhenderson\"]) |\n",
        "    (joined_df[\"Kalvinphillips\"]) |\n",
        "    (joined_df[\"OfficialTM_3\"]) |\n",
        "    (joined_df[\"Sanchooo10\"]) |\n",
        "    (joined_df[\"CalvertLewin14\"]) |\n",
        "    (joined_df[\"masonmount_10\"]) |\n",
        "    (joined_df[\"PhilFoden\"]) |\n",
        "    (joined_df[\"BenChilwell\"]) |\n",
        "    (joined_df[\"ben6white\"]) |\n",
        "    (joined_df[\"samjohnstone50\"]) |\n",
        "    (joined_df[\"reecejames_24\"]) |\n",
        "    (joined_df[\"BukayoSaka87\"]) |\n",
        "    (joined_df[\"BellinghamJude\"]) |\n",
        "    (joined_df[\"joel_veltman\"]) |\n",
        "    (joined_df[\"mdeligt_04\"]) |\n",
        "    (joined_df[\"LukeShaw23\"]) |\n",
        "    (joined_df[\"NathanAke\"]) |\n",
        "    (joined_df[\"GWijnaldum\"]) |\n",
        "    (joined_df[\"LuukdeJong9\"]) |\n",
        "    (joined_df[\"Memphis\"]) |\n",
        "    (joined_df[\"QPromes\"]) |\n",
        "    (joined_df[\"pvanaanholt\"]) |\n",
        "    (joined_df[\"TimKrul\"]) |\n",
        "    (joined_df[\"DavyKlaassen\"]) |\n",
        "    (joined_df[\"Dirono\"]) |\n",
        "    (joined_df[\"RGravenberch\"]) |\n",
        "    (joined_df[\"BlindDaley\"]) |\n",
        "    (joined_df[\"DeJongFrenkie21\"]) |\n",
        "    (joined_df[\"DenzelJMD2\"]) |\n",
        "    (joined_df[\"Manuel_Neuer\"]) |\n",
        "    (joined_df[\"ToniRuediger\"]) |\n",
        "    (joined_df[\"MatzeGinter\"]) |\n",
        "    (joined_df[\"matshummels\"]) |\n",
        "    (joined_df[\"kaihavertz29\"]) |\n",
        "    (joined_df[\"ToniKroos\"]) |\n",
        "    (joined_df[\"KeVolland\"]) |\n",
        "    (joined_df[\"SergeGnabry\"]) |\n",
        "    (joined_df[\"Bernd_Leno\"]) |\n",
        "    (joined_df[\"JamalMusiala\"]) |\n",
        "    (joined_df[\"lukaskl96\"]) |\n",
        "    (joined_df[\"leongoretzka_\"]) |\n",
        "    (joined_df[\"leroy_sane\"]) |\n",
        "    (joined_df[\"IlkayGuendogan\"]) |\n",
        "    (joined_df[\"emrecan_\"]) |\n",
        "    (joined_df[\"RobinKoch25\"]) |\n",
        "    (joined_df[\"esmuellert_\"]) |\n",
        "    (joined_df[\"MarshallDavid23\"]) |\n",
        "    (joined_df[\"sodonnell15\"]) |\n",
        "    (joined_df[\"andrewrobertso5\"]) |\n",
        "    (joined_df[\"mctominay10\"]) |\n",
        "    (joined_df[\"granthanley5\"]) |\n",
        "    (joined_df[\"kierantierney1\"]) |\n",
        "    (joined_df[\"jmcginn7\"]) |\n",
        "    (joined_df[\"Callummcgregor8\"]) |\n",
        "    (joined_df[\"Lyndon_Dykes\"]) |\n",
        "    (joined_df[\"CheAdams_\"]) |\n",
        "    (joined_df[\"CraigGordon01\"]) |\n",
        "    (joined_df[\"declang31\"]) |\n",
        "    (joined_df[\"LiamCooper__\"]) |\n",
        "    (joined_df[\"10DavidTurnbull\"]) |\n",
        "    (joined_df[\"kevinnisbet16\"]) |\n",
        "    (joined_df[\"np4tterson\"]) |\n",
        "    (joined_df[\"billygilmourrr\"]) |\n",
        "    (joined_df[\"Jack_Hendry2\"]) |\n",
        "    (joined_df[\"Scottmckenna3\"]) |\n",
        "    (joined_df[\"BenPavard28\"]) |\n",
        "    (joined_df[\"kimpembe_3\"]) |\n",
        "    (joined_df[\"raphaelvarane\"]) |\n",
        "    (joined_df[\"clement_lenglet\"]) |\n",
        "    (joined_df[\"paulpogba\"]) |\n",
        "    (joined_df[\"AntoGriezmann\"]) |\n",
        "    (joined_df[\"_OlivierGiroud_\"]) |\n",
        "    (joined_df[\"KMbappe\"]) |\n",
        "    (joined_df[\"CorentinTolisso\"]) |\n",
        "    (joined_df[\"nglkante\"]) |\n",
        "    (joined_df[\"KurtZouma\"]) |\n",
        "    (joined_df[\"SteveMandanda\"]) |\n",
        "    (joined_df[\"MoussaSissoko\"]) |\n",
        "    (joined_df[\"LucasDigne\"]) |\n",
        "    (joined_df[\"Benzema\"]) |\n",
        "    (joined_df[\"LucasHernandez\"]) |\n",
        "    (joined_df[\"WissBenYedder\"]) |\n",
        "    (joined_df[\"mmseize\"]) |\n",
        "    (joined_df[\"leodubois15\"]) |\n",
        "    (joined_df[\"jkeey4\"]) |\n",
        "    (joined_df[\"ben6white\"]) |\n",
        "    (joined_df[\"MarcusThuram\"]) |\n",
        "    (joined_df[\"thibautcourtois\"]) |\n",
        "    (joined_df[\"AlderweireldTob\"]) |\n",
        "    (joined_df[\"thomasvermaelen\"]) |\n",
        "    (joined_df[\"JanVertonghen\"]) |\n",
        "    (joined_df[\"axelwitsel28\"]) |\n",
        "    (joined_df[\"DeBruyneKev\"]) |\n",
        "    (joined_df[\"RomeluLukaku9\"]) |\n",
        "    (joined_df[\"hazardeden10\"]) |\n",
        "    (joined_df[\"CarrascoY21\"]) |\n",
        "    (joined_df[\"SMignolet\"]) |\n",
        "    (joined_df[\"dries_mertens14\"]) |\n",
        "    (joined_df[\"ThomMills\"]) |\n",
        "    (joined_df[\"HazardThorgan8\"]) |\n",
        "    (joined_df[\"VanakenHans\"]) |\n",
        "    (joined_df[\"Jasondenayer\"]) |\n",
        "    (joined_df[\"chrisbenteke\"]) |\n",
        "    (joined_df[\"NChadli\"]) |\n",
        "    (joined_df[\"mbatshuayi\"]) |\n",
        "    (joined_df[\"LTrossard\"]) |\n",
        "    (joined_df[\"JeremyDoku\"]) |\n",
        "    (joined_df[\"dennispraet\"])\n",
        "    ]"
      ],
      "execution_count": 14,
      "outputs": []
    },
    {
      "cell_type": "code",
      "metadata": {
        "colab": {
          "base_uri": "https://localhost:8080/"
        },
        "id": "m4vnCbPHv2-O",
        "outputId": "eefe17eb-f4e7-4190-8520-a7330c05c400"
      },
      "source": [
        "total_off_tweets = joined_df['contains_slurs_or_offensive_emoji'].sum()\n",
        "total_tweets = len(joined_df)\n",
        "print(f\"Total tweets containing slurs: {total_off_tweets}\")\n",
        "print(f\"Total tweets: {total_tweets}\")\n",
        "print(f\"Percentage of tweets containing slurs: {(100*total_off_tweets)/total_tweets}\")"
      ],
      "execution_count": 15,
      "outputs": [
        {
          "output_type": "stream",
          "name": "stdout",
          "text": [
            "Total tweets containing slurs: 4970\n",
            "Total tweets: 1046319\n",
            "Percentage of tweets containing slurs: 0.47499854250950235\n"
          ]
        }
      ]
    },
    {
      "cell_type": "code",
      "metadata": {
        "id": "ZWg567XY9suk"
      },
      "source": [
        "# Saving a file for manual review, taken at threshold 90 - one-off ad-hoc task\n",
        "# joined_df[['tweet_id', 'tweet_text']][joined_df['contains_slurs_or_offensive_emoji'] == True].to_csv(\"/content/drive/MyDrive/University/Dissertation/evaluation/tweets_hb.csv\", index=False)\n"
      ],
      "execution_count": 16,
      "outputs": []
    },
    {
      "cell_type": "code",
      "metadata": {
        "id": "RHGk6nctlUPK"
      },
      "source": [
        "# Maybe we don't need these cols and we can just calculate ad-hoc?\n",
        "for player in list_of_players:\n",
        "    joined_df[f'{player}_offensive'] = joined_df['contains_slurs_or_offensive_emoji'] & joined_df[player]\n",
        "    # joined_df[f'{player}_ethnicity'] = joined_df['contains_ethnicity_slurs'] & joined_df[player]\n",
        "    # joined_df[f'{player}_nationality'] = joined_df['contains_nationality_slurs'] & joined_df[player]\n",
        "    # joined_df[f'{player}_gender'] = joined_df['contains_gender_slurs'] & joined_df[player]\n",
        "    # joined_df[f'{player}_sexual_orientation'] = joined_df['contains_sexual_orientation_slurs'] & joined_df[player]\n",
        "    # joined_df[f'{player}_class'] = joined_df['contains_class_slurs'] & joined_df[player]\n",
        "    # joined_df[f'{player}_religion'] = joined_df['contains_religion_slurs'] & joined_df[player]\n",
        "    # joined_df[f'{player}_disability'] = joined_df['contains_disability_slurs'] & joined_df[player]\n",
        "    # joined_df[f'{player}_emoji'] = joined_df['contains_emoji_slurs'] & joined_df[player]"
      ],
      "execution_count": 17,
      "outputs": []
    },
    {
      "cell_type": "code",
      "metadata": {
        "id": "DJhEU6wE2a8b",
        "colab": {
          "base_uri": "https://localhost:8080/"
        },
        "outputId": "50b7e8e0-0b43-408c-ddee-b070d438423f"
      },
      "source": [
        "player_offensive_tweet_map = pd.DataFrame(columns=[\"username\",\n",
        "                                                   \"tweets_received\",\n",
        "                                                   \"offensive_tweets_received\",\n",
        "                                                  #  \"ethnicity_tweets_received\",\n",
        "                                                  #  \"nationality_tweets_received\",\n",
        "                                                  #  \"gender_tweets_received\",\n",
        "                                                  #  \"sexual_orientation_tweets_received\",\n",
        "                                                  #  \"class_tweets_received\",\n",
        "                                                  #  \"religion_tweets_received\",\n",
        "                                                  #  \"disability_tweets_received\",\n",
        "                                                  #  \"emoji_tweets_received\",\n",
        "                                                   \"percentage_offensive\"\n",
        "                                                   ])\n",
        "\n",
        "i = 0\n",
        "for player in list_of_players:\n",
        "    off_tweets = joined_df[player + '_offensive'].sum()\n",
        "    # ethnicity_tweets = joined_df[player + '_ethnicity'].sum()\n",
        "    # nationality_tweets = joined_df[player + '_nationality'].sum()\n",
        "    # gender_tweets = joined_df[player + '_gender'].sum()\n",
        "    # sexual_orientation_tweets = joined_df[player + '_sexual_orientation'].sum()\n",
        "    # class_tweets = joined_df[player + '_class'].sum()\n",
        "    # religion_tweets = joined_df[player + '_religion'].sum()\n",
        "    # disability_tweets = joined_df[player + '_disability'].sum()\n",
        "    # emoji_tweets = joined_df[player + '_emoji'].sum()\n",
        "    tweets = joined_df[player].sum()\n",
        "    percentage = 100 * (off_tweets / tweets)\n",
        "    # player_offensive_tweet_map.loc[i] = player, tweets, off_tweets, ethnicity_tweets, nationality_tweets, gender_tweets, sexual_orientation_tweets, class_tweets, religion_tweets, disability_tweets, emoji_tweets, percentage\n",
        "    player_offensive_tweet_map.loc[i] = player, tweets, off_tweets, percentage\n",
        "    i += 1"
      ],
      "execution_count": 18,
      "outputs": [
        {
          "output_type": "stream",
          "name": "stderr",
          "text": [
            "/usr/local/lib/python3.7/dist-packages/ipykernel_launcher.py:27: RuntimeWarning:\n",
            "\n",
            "invalid value encountered in long_scalars\n",
            "\n"
          ]
        }
      ]
    },
    {
      "cell_type": "code",
      "metadata": {
        "id": "UmeSSXawP0Qb"
      },
      "source": [
        "# # Create per country map\n",
        "# country_offensive_tweet_map = pd.DataFrame(columns=[\"country\",\n",
        "#                                                    \"tweets_received\",\n",
        "#                                                    \"offensive_tweets_received\",\n",
        "#                                                    \"ethnicity_tweets_received\",\n",
        "#                                                    \"nationality_tweets_received\",\n",
        "#                                                    \"gender_tweets_received\",\n",
        "#                                                    \"sexual_orientation_tweets_received\",\n",
        "#                                                    \"class_tweets_received\",\n",
        "#                                                    \"religion_tweets_received\",\n",
        "#                                                    \"disability_tweets_received\",\n",
        "#                                                    \"emoji_tweets_received\",\n",
        "#                                                    \"percentage_offensive\"\n",
        "#                                                   ])\n",
        "\n",
        "# country_offensive_tweet_map.loc[0] = \"england\", \\\n",
        "#                                      player_offensive_tweet_map[player_offensive_tweet_map['username'].isin(england)]['tweets_received'].sum(), \\\n",
        "#                                      player_offensive_tweet_map[player_offensive_tweet_map['username'].isin(england)]['offensive_tweets_received'].sum(), \\\n",
        "#                                      player_offensive_tweet_map[player_offensive_tweet_map['username'].isin(england)]['ethnicity_tweets_received'].sum(), \\\n",
        "#                                      player_offensive_tweet_map[player_offensive_tweet_map['username'].isin(england)]['nationality_tweets_received'].sum(), \\\n",
        "#                                      player_offensive_tweet_map[player_offensive_tweet_map['username'].isin(england)]['gender_tweets_received'].sum(), \\\n",
        "#                                      player_offensive_tweet_map[player_offensive_tweet_map['username'].isin(england)]['sexual_orientation_tweets_received'].sum(), \\\n",
        "#                                      player_offensive_tweet_map[player_offensive_tweet_map['username'].isin(england)]['class_tweets_received'].sum(), \\\n",
        "#                                      player_offensive_tweet_map[player_offensive_tweet_map['username'].isin(england)]['religion_tweets_received'].sum(), \\\n",
        "#                                      player_offensive_tweet_map[player_offensive_tweet_map['username'].isin(england)]['disability_tweets_received'].sum(), \\\n",
        "#                                      player_offensive_tweet_map[player_offensive_tweet_map['username'].isin(england)]['emoji_tweets_received'].sum(), \\\n",
        "#                                      0\n",
        "                                     \n",
        "# country_offensive_tweet_map.loc[0]['percentage_offensive'] = 100 * (country_offensive_tweet_map.loc[0]['offensive_tweets_received'] / country_offensive_tweet_map.loc[0]['tweets_received'])\n",
        "\n",
        "# country_offensive_tweet_map.loc[1] = \"netherlands\", \\\n",
        "#                                      player_offensive_tweet_map[player_offensive_tweet_map['username'].isin(netherlands)]['tweets_received'].sum(), \\\n",
        "#                                      player_offensive_tweet_map[player_offensive_tweet_map['username'].isin(netherlands)]['offensive_tweets_received'].sum(), \\\n",
        "#                                      player_offensive_tweet_map[player_offensive_tweet_map['username'].isin(netherlands)]['ethnicity_tweets_received'].sum(), \\\n",
        "#                                      player_offensive_tweet_map[player_offensive_tweet_map['username'].isin(netherlands)]['nationality_tweets_received'].sum(), \\\n",
        "#                                      player_offensive_tweet_map[player_offensive_tweet_map['username'].isin(netherlands)]['gender_tweets_received'].sum(), \\\n",
        "#                                      player_offensive_tweet_map[player_offensive_tweet_map['username'].isin(netherlands)]['sexual_orientation_tweets_received'].sum(), \\\n",
        "#                                      player_offensive_tweet_map[player_offensive_tweet_map['username'].isin(netherlands)]['class_tweets_received'].sum(), \\\n",
        "#                                      player_offensive_tweet_map[player_offensive_tweet_map['username'].isin(netherlands)]['religion_tweets_received'].sum(), \\\n",
        "#                                      player_offensive_tweet_map[player_offensive_tweet_map['username'].isin(netherlands)]['disability_tweets_received'].sum(), \\\n",
        "#                                      player_offensive_tweet_map[player_offensive_tweet_map['username'].isin(england)]['emoji_tweets_received'].sum(), \\\n",
        "#                                      0\n",
        "                                     \n",
        "# country_offensive_tweet_map.loc[1]['percentage_offensive'] = 100 * (country_offensive_tweet_map.loc[1]['offensive_tweets_received'] / country_offensive_tweet_map.loc[1]['tweets_received'])\n",
        "\n",
        "# country_offensive_tweet_map.loc[2] = \"germany\", \\\n",
        "#                                      player_offensive_tweet_map[player_offensive_tweet_map['username'].isin(germany)]['tweets_received'].sum(), \\\n",
        "#                                      player_offensive_tweet_map[player_offensive_tweet_map['username'].isin(germany)]['offensive_tweets_received'].sum(), \\\n",
        "#                                      player_offensive_tweet_map[player_offensive_tweet_map['username'].isin(germany)]['ethnicity_tweets_received'].sum(), \\\n",
        "#                                      player_offensive_tweet_map[player_offensive_tweet_map['username'].isin(germany)]['nationality_tweets_received'].sum(), \\\n",
        "#                                      player_offensive_tweet_map[player_offensive_tweet_map['username'].isin(germany)]['gender_tweets_received'].sum(), \\\n",
        "#                                      player_offensive_tweet_map[player_offensive_tweet_map['username'].isin(germany)]['sexual_orientation_tweets_received'].sum(), \\\n",
        "#                                      player_offensive_tweet_map[player_offensive_tweet_map['username'].isin(germany)]['class_tweets_received'].sum(), \\\n",
        "#                                      player_offensive_tweet_map[player_offensive_tweet_map['username'].isin(germany)]['religion_tweets_received'].sum(), \\\n",
        "#                                      player_offensive_tweet_map[player_offensive_tweet_map['username'].isin(germany)]['disability_tweets_received'].sum(), \\\n",
        "#                                      player_offensive_tweet_map[player_offensive_tweet_map['username'].isin(england)]['emoji_tweets_received'].sum(), \\\n",
        "#                                      0\n",
        "                                     \n",
        "# country_offensive_tweet_map.loc[2]['percentage_offensive'] = 100 * (country_offensive_tweet_map.loc[2]['offensive_tweets_received'] / country_offensive_tweet_map.loc[2]['tweets_received'])\n",
        "\n",
        "# country_offensive_tweet_map.loc[3] = \"france\", \\\n",
        "#                                      player_offensive_tweet_map[player_offensive_tweet_map['username'].isin(france)]['tweets_received'].sum(), \\\n",
        "#                                      player_offensive_tweet_map[player_offensive_tweet_map['username'].isin(france)]['offensive_tweets_received'].sum(), \\\n",
        "#                                      player_offensive_tweet_map[player_offensive_tweet_map['username'].isin(france)]['ethnicity_tweets_received'].sum(), \\\n",
        "#                                      player_offensive_tweet_map[player_offensive_tweet_map['username'].isin(france)]['nationality_tweets_received'].sum(), \\\n",
        "#                                      player_offensive_tweet_map[player_offensive_tweet_map['username'].isin(france)]['gender_tweets_received'].sum(), \\\n",
        "#                                      player_offensive_tweet_map[player_offensive_tweet_map['username'].isin(france)]['sexual_orientation_tweets_received'].sum(), \\\n",
        "#                                      player_offensive_tweet_map[player_offensive_tweet_map['username'].isin(france)]['class_tweets_received'].sum(), \\\n",
        "#                                      player_offensive_tweet_map[player_offensive_tweet_map['username'].isin(france)]['religion_tweets_received'].sum(), \\\n",
        "#                                      player_offensive_tweet_map[player_offensive_tweet_map['username'].isin(france)]['disability_tweets_received'].sum(), \\\n",
        "#                                      player_offensive_tweet_map[player_offensive_tweet_map['username'].isin(england)]['emoji_tweets_received'].sum(), \\\n",
        "#                                      0\n",
        "                                     \n",
        "# country_offensive_tweet_map.loc[3]['percentage_offensive'] = 100 * (country_offensive_tweet_map.loc[3]['offensive_tweets_received'] / country_offensive_tweet_map.loc[3]['tweets_received'])\n",
        "\n",
        "# country_offensive_tweet_map.loc[4] = \"scotland\", \\\n",
        "#                                      player_offensive_tweet_map[player_offensive_tweet_map['username'].isin(scotland)]['tweets_received'].sum(), \\\n",
        "#                                      player_offensive_tweet_map[player_offensive_tweet_map['username'].isin(scotland)]['offensive_tweets_received'].sum(), \\\n",
        "#                                      player_offensive_tweet_map[player_offensive_tweet_map['username'].isin(scotland)]['ethnicity_tweets_received'].sum(), \\\n",
        "#                                      player_offensive_tweet_map[player_offensive_tweet_map['username'].isin(scotland)]['nationality_tweets_received'].sum(), \\\n",
        "#                                      player_offensive_tweet_map[player_offensive_tweet_map['username'].isin(scotland)]['gender_tweets_received'].sum(), \\\n",
        "#                                      player_offensive_tweet_map[player_offensive_tweet_map['username'].isin(scotland)]['sexual_orientation_tweets_received'].sum(), \\\n",
        "#                                      player_offensive_tweet_map[player_offensive_tweet_map['username'].isin(scotland)]['class_tweets_received'].sum(), \\\n",
        "#                                      player_offensive_tweet_map[player_offensive_tweet_map['username'].isin(scotland)]['religion_tweets_received'].sum(), \\\n",
        "#                                      player_offensive_tweet_map[player_offensive_tweet_map['username'].isin(scotland)]['disability_tweets_received'].sum(), \\\n",
        "#                                      player_offensive_tweet_map[player_offensive_tweet_map['username'].isin(england)]['emoji_tweets_received'].sum(), \\\n",
        "#                                      0\n",
        "                                     \n",
        "# country_offensive_tweet_map.loc[4]['percentage_offensive'] = 100 * (country_offensive_tweet_map.loc[4]['offensive_tweets_received'] / country_offensive_tweet_map.loc[4]['tweets_received'])\n",
        "\n",
        "# country_offensive_tweet_map.loc[5] = \"belgium\", \\\n",
        "#                                      player_offensive_tweet_map[player_offensive_tweet_map['username'].isin(belgium)]['tweets_received'].sum(), \\\n",
        "#                                      player_offensive_tweet_map[player_offensive_tweet_map['username'].isin(belgium)]['offensive_tweets_received'].sum(), \\\n",
        "#                                      player_offensive_tweet_map[player_offensive_tweet_map['username'].isin(belgium)]['ethnicity_tweets_received'].sum(), \\\n",
        "#                                      player_offensive_tweet_map[player_offensive_tweet_map['username'].isin(belgium)]['nationality_tweets_received'].sum(), \\\n",
        "#                                      player_offensive_tweet_map[player_offensive_tweet_map['username'].isin(belgium)]['gender_tweets_received'].sum(), \\\n",
        "#                                      player_offensive_tweet_map[player_offensive_tweet_map['username'].isin(belgium)]['sexual_orientation_tweets_received'].sum(), \\\n",
        "#                                      player_offensive_tweet_map[player_offensive_tweet_map['username'].isin(belgium)]['class_tweets_received'].sum(), \\\n",
        "#                                      player_offensive_tweet_map[player_offensive_tweet_map['username'].isin(belgium)]['religion_tweets_received'].sum(), \\\n",
        "#                                      player_offensive_tweet_map[player_offensive_tweet_map['username'].isin(belgium)]['disability_tweets_received'].sum(), \\\n",
        "#                                      player_offensive_tweet_map[player_offensive_tweet_map['username'].isin(england)]['emoji_tweets_received'].sum(), \\\n",
        "#                                      0\n",
        "                                     \n",
        "# country_offensive_tweet_map.loc[5]['percentage_offensive'] = 100 * (country_offensive_tweet_map.loc[5]['offensive_tweets_received'] / country_offensive_tweet_map.loc[5]['tweets_received'])\n",
        "\n"
      ],
      "execution_count": 19,
      "outputs": []
    },
    {
      "cell_type": "code",
      "metadata": {
        "id": "MlTHrCsjKH17"
      },
      "source": [
        "# Create dataframe for analysing abuse by type\n",
        "slurs_by_type = pd.DataFrame(columns=[\"type\", \"total\"])\n",
        "slurs_by_type.loc[0] = \"ethnicity\", joined_df['contains_ethnicity_slurs'].sum()\n",
        "slurs_by_type.loc[1] = \"nationality\", joined_df['contains_nationality_slurs'].sum()\n",
        "slurs_by_type.loc[2] = \"gender\", joined_df['contains_gender_slurs'].sum()\n",
        "slurs_by_type.loc[3] = \"sexual_orientation\", joined_df['contains_sexual_orientation_slurs'].sum()\n",
        "slurs_by_type.loc[4] = \"class\", joined_df['contains_class_slurs'].sum()\n",
        "slurs_by_type.loc[5] = \"religion\", joined_df['contains_religion_slurs'].sum()\n",
        "slurs_by_type.loc[6] = \"disability\", joined_df['contains_disability_slurs'].sum()\n",
        "slurs_by_type.loc[7] = \"emoji\", joined_df['contains_emoji_slurs'].sum()\n"
      ],
      "execution_count": 20,
      "outputs": []
    },
    {
      "cell_type": "markdown",
      "metadata": {
        "id": "yECoeCBwvqo1"
      },
      "source": [
        "# Analysis"
      ]
    },
    {
      "cell_type": "code",
      "metadata": {
        "id": "7aZaw0zgv3Fl",
        "colab": {
          "base_uri": "https://localhost:8080/"
        },
        "outputId": "aca88cfd-491e-49f4-fd18-1f14f69d4000"
      },
      "source": [
        "# Print some headline figures\n",
        "print(f\"Earliest tweet: {joined_df['created_at'].min()}\")\n",
        "print(f\"Latest tweet: {joined_df['created_at'].max()}\")\n",
        "\n",
        "print(f\"Number of tweets (player-only): {len(joined_df)}\")"
      ],
      "execution_count": null,
      "outputs": [
        {
          "output_type": "stream",
          "text": [
            "Earliest tweet: 2021-06-19 08:10:19+00:00\n",
            "Latest tweet: 2021-07-16 23:59:28+00:00\n",
            "Number of tweets (player-only): 1046319\n"
          ],
          "name": "stdout"
        }
      ]
    },
    {
      "cell_type": "code",
      "metadata": {
        "id": "zRYzUAdJxWtx"
      },
      "source": [
        "# Print emoji stats\n",
        "print(f\"{banana_tweet_count} tweets containing banana emoji. {banana_total} banana emojis used in total\")\n",
        "print(f\"{monkey_tweet_count} tweets containing monkey emoji. {monkey_total} monkey emojis used in total\")\n",
        "print(f\"{monkey_face_tweet_count} tweets containing monkey face emoji. {monkey_face_total} monkey face emojis used in total\")\n",
        "print(f\"{speak_no_evil_monkey_tweet_count} tweets containing speak-no-evil monkey emoji. {speak_no_evil_monkey_total} speak-no-evil monkey emojis used in total\")\n",
        "print(f\"{hear_no_evil_monkey_tweet_count} tweets containing hear-no-evil monkey emoji. {hear_no_evil_monkey_total} hear-no-evil monkey emojis used in total\")\n",
        "print(f\"{see_no_evil_monkey_tweet_count} tweets containing see-no-evil monkey emoji. {see_no_evil_monkey_total} see-no-evil monkey emojis used in total\")\n",
        "print(f\"{gorilla_tweet_count} tweets containing gorilla emoji. {gorilla_total} gorilla emojis used in total\")\n",
        "print(f\"{watermelon_tweet_count} tweets containing watermelon emoji. {watermelon_total} watermelon emojis used in total\")\n",
        "print(f\"{total_emoji_tweets} tweets containing potentially racist emojis. {total_emoji_count} potentially racist emojis used in total\")"
      ],
      "execution_count": null,
      "outputs": []
    },
    {
      "cell_type": "code",
      "metadata": {
        "id": "QxC6LuCT2en5",
        "colab": {
          "base_uri": "https://localhost:8080/"
        },
        "outputId": "c7e5af73-7fd9-4311-daad-1a74414053c7"
      },
      "source": [
        "player_offensive_tweet_map.sort_values('offensive_tweets_received', axis=0, ascending=False, inplace=True)\n",
        "# offensive_tweets_all = player_offensive_tweet_map['offensive_tweets_received'].sum()\n",
        "offensive_tweets_all = joined_df['contains_slurs_or_offensive_emoji'].sum()\n",
        "offensive_tweets_top_10 = player_offensive_tweet_map['offensive_tweets_received'].head(10).sum()\n",
        "top_10_proportion = offensive_tweets_top_10 / offensive_tweets_all\n",
        "print(f\"Top 10 proportion: {top_10_proportion * 100}%\")\n",
        "\n",
        "print(player_offensive_tweet_map[['username', 'offensive_tweets_received']].head(10))"
      ],
      "execution_count": null,
      "outputs": [
        {
          "output_type": "stream",
          "text": [
            "Top 10 proportion: 92.8169014084507%\n",
            "           username offensive_tweets_received\n",
            "9    MarcusRashford                      1177\n",
            "22     BukayoSaka87                       845\n",
            "7             HKane                       498\n",
            "14       Sanchooo10                       481\n",
            "8         sterling7                       419\n",
            "5      JackGrealish                       407\n",
            "103   RomeluLukaku9                       234\n",
            "13     OfficialTM_3                       224\n",
            "4    HarryMaguire93                       173\n",
            "81    AntoGriezmann                       155\n"
          ],
          "name": "stdout"
        }
      ]
    },
    {
      "cell_type": "markdown",
      "metadata": {
        "id": "1ypjRKdqqUyS"
      },
      "source": [
        "# Visualisation - wordclouds of slurs"
      ]
    },
    {
      "cell_type": "code",
      "metadata": {
        "id": "AfLU5MiDsK-k"
      },
      "source": [
        "# Menthod for creating a wordcloud, and print out the most frequently used slurs\n",
        "def create_slur_wordcloud(col_name):\n",
        "    list_of_terms = [a for b in joined_df[col_name][joined_df[col_name] != \"[]\"].str.replace(\"'\", \"\").str.replace(\"[\", \"\").str.replace(\"]\", \"\").str.split(\", \") for a in b]\n",
        "    wc = WordCloud(background_color=\"white\", collocations=False).generate(\" \".join(list_of_terms))\n",
        "    plt.figure()\n",
        "    plt.imshow(wc, interpolation=\"bilinear\")\n",
        "    plt.axis(\"off\")\n",
        "    plt.show()\n",
        "\n",
        "    slur_df = pd.DataFrame(columns=[\"term\", \"count\"])\n",
        "    slur_df['term'] = list_of_terms\n",
        "    slur_df['count'] = slur_df['count'].fillna(0)\n",
        "    slur_df = slur_df.groupby(['term']).count()\n",
        "    slur_df = slur_df.sort_values('count', axis=0, ascending=False)\n",
        "    print(slur_df.head(20))"
      ],
      "execution_count": null,
      "outputs": []
    },
    {
      "cell_type": "code",
      "metadata": {
        "id": "f0HQ5TwRsope"
      },
      "source": [
        "create_slur_wordcloud(\"matching_hatebase_terms_over_50\")"
      ],
      "execution_count": null,
      "outputs": []
    },
    {
      "cell_type": "code",
      "metadata": {
        "id": "puI1roXUs3OB"
      },
      "source": [
        "create_slur_wordcloud(\"matching_hatebase_terms_ethnicity_over_50\")"
      ],
      "execution_count": null,
      "outputs": []
    },
    {
      "cell_type": "code",
      "metadata": {
        "id": "ld5hTXI-tlfu"
      },
      "source": [
        "create_slur_wordcloud(\"matching_hatebase_terms_religion_over_50\")"
      ],
      "execution_count": null,
      "outputs": []
    },
    {
      "cell_type": "code",
      "metadata": {
        "id": "-NoSEYPmtou3"
      },
      "source": [
        "create_slur_wordcloud(\"matching_hatebase_terms_gender_over_50\")"
      ],
      "execution_count": null,
      "outputs": []
    },
    {
      "cell_type": "code",
      "metadata": {
        "id": "7qCnIQ-ltrcJ"
      },
      "source": [
        "create_slur_wordcloud(\"matching_hatebase_terms_sexual_orientation_over_50\")"
      ],
      "execution_count": null,
      "outputs": []
    },
    {
      "cell_type": "code",
      "metadata": {
        "id": "HjIygzV-tt76"
      },
      "source": [
        "create_slur_wordcloud(\"matching_hatebase_terms_class_over_50\")"
      ],
      "execution_count": null,
      "outputs": []
    },
    {
      "cell_type": "code",
      "metadata": {
        "id": "aMD39uEUtwUz"
      },
      "source": [
        "create_slur_wordcloud(\"matching_hatebase_terms_disability_over_50\")"
      ],
      "execution_count": null,
      "outputs": []
    },
    {
      "cell_type": "code",
      "metadata": {
        "id": "kklMPpK5t59Q"
      },
      "source": [
        "create_slur_wordcloud(\"matching_hatebase_terms_nationality_over_50\")"
      ],
      "execution_count": null,
      "outputs": []
    },
    {
      "cell_type": "markdown",
      "metadata": {
        "id": "ngzVB2h4x6J9"
      },
      "source": [
        "# Visulisations - tweet frequency"
      ]
    },
    {
      "cell_type": "code",
      "metadata": {
        "id": "rV73ndjoyEAJ"
      },
      "source": [
        "def create_frequency_plot(df, y_values, title, nticks):\n",
        "    fig = go.Figure()\n",
        "    for y_value in y_values:\n",
        "        fig.add_trace(go.Scatter(x=df['created_at'], y=df[y_value],\n",
        "                      mode='lines',\n",
        "                      name=y_value))\n",
        "        \n",
        "    fig.update_layout(\n",
        "        xaxis_title=\"Date\",\n",
        "        yaxis_title=\"Number of tweets\",\n",
        "        xaxis = {\n",
        "          'tickformat': '%d %B',\n",
        "          'tickmode': 'auto',\n",
        "          'nticks': nticks,\n",
        "        },\n",
        "        xaxis_tickformat = '%d %B',\n",
        "        title= {\n",
        "          'text': title,\n",
        "          'y':0.9,\n",
        "          'x':0.5,\n",
        "          'xanchor': 'center',\n",
        "          'yanchor': 'top'\n",
        "        }\n",
        "    )\n",
        "    return fig"
      ],
      "execution_count": 21,
      "outputs": []
    },
    {
      "cell_type": "code",
      "metadata": {
        "id": "1YKlOpvpzdmJ"
      },
      "source": [
        "INTERVAL = pd.offsets.Minute(60)"
      ],
      "execution_count": 22,
      "outputs": []
    },
    {
      "cell_type": "code",
      "metadata": {
        "id": "mpvCu7GsziHj",
        "outputId": "b2e013f8-e038-4159-fba7-de6b11435b25",
        "colab": {
          "base_uri": "https://localhost:8080/",
          "height": 542
        }
      },
      "source": [
        "# Plot all tweets frequency\n",
        "df = joined_df.resample(INTERVAL, on='created_at')['tweet_id'].count().reset_index()\n",
        "fig = create_frequency_plot(df, ['tweet_id'], \"Frequency of tweets (aggregated over 60 minute intervals)\", 28)\n",
        "fig.write_html(\"/content/drive/MyDrive/University/Dissertation/images/figure1.html\", include_plotlyjs='cdn')\n",
        "fig.show()"
      ],
      "execution_count": 25,
      "outputs": [
        {
          "output_type": "display_data",
          "data": {
            "text/html": [
              "<html>\n",
              "<head><meta charset=\"utf-8\" /></head>\n",
              "<body>\n",
              "    <div>\n",
              "            <script src=\"https://cdnjs.cloudflare.com/ajax/libs/mathjax/2.7.5/MathJax.js?config=TeX-AMS-MML_SVG\"></script><script type=\"text/javascript\">if (window.MathJax) {MathJax.Hub.Config({SVG: {font: \"STIX-Web\"}});}</script>\n",
              "                <script type=\"text/javascript\">window.PlotlyConfig = {MathJaxConfig: 'local'};</script>\n",
              "        <script src=\"https://cdn.plot.ly/plotly-latest.min.js\"></script>    \n",
              "            <div id=\"23d348a5-44a5-4b5b-b5dc-3c4b7d184dfb\" class=\"plotly-graph-div\" style=\"height:525px; width:100%;\"></div>\n",
              "            <script type=\"text/javascript\">\n",
              "                \n",
              "                    window.PLOTLYENV=window.PLOTLYENV || {};\n",
              "                    \n",
              "                if (document.getElementById(\"23d348a5-44a5-4b5b-b5dc-3c4b7d184dfb\")) {\n",
              "                    Plotly.newPlot(\n",
              "                        '23d348a5-44a5-4b5b-b5dc-3c4b7d184dfb',\n",
              "                        [{\"mode\": \"lines\", \"name\": \"tweet_id\", \"type\": \"scatter\", \"x\": [\"2021-06-19T08:00:00+00:00\", \"2021-06-19T09:00:00+00:00\", \"2021-06-19T10:00:00+00:00\", \"2021-06-19T11:00:00+00:00\", \"2021-06-19T12:00:00+00:00\", \"2021-06-19T13:00:00+00:00\", \"2021-06-19T14:00:00+00:00\", \"2021-06-19T15:00:00+00:00\", \"2021-06-19T16:00:00+00:00\", \"2021-06-19T17:00:00+00:00\", \"2021-06-19T18:00:00+00:00\", \"2021-06-19T19:00:00+00:00\", \"2021-06-19T20:00:00+00:00\", \"2021-06-19T21:00:00+00:00\", \"2021-06-19T22:00:00+00:00\", \"2021-06-19T23:00:00+00:00\", \"2021-06-20T00:00:00+00:00\", \"2021-06-20T01:00:00+00:00\", \"2021-06-20T02:00:00+00:00\", \"2021-06-20T03:00:00+00:00\", \"2021-06-20T04:00:00+00:00\", \"2021-06-20T05:00:00+00:00\", \"2021-06-20T06:00:00+00:00\", \"2021-06-20T07:00:00+00:00\", \"2021-06-20T08:00:00+00:00\", \"2021-06-20T09:00:00+00:00\", \"2021-06-20T10:00:00+00:00\", \"2021-06-20T11:00:00+00:00\", \"2021-06-20T12:00:00+00:00\", \"2021-06-20T13:00:00+00:00\", \"2021-06-20T14:00:00+00:00\", \"2021-06-20T15:00:00+00:00\", \"2021-06-20T16:00:00+00:00\", \"2021-06-20T17:00:00+00:00\", \"2021-06-20T18:00:00+00:00\", \"2021-06-20T19:00:00+00:00\", \"2021-06-20T20:00:00+00:00\", \"2021-06-20T21:00:00+00:00\", \"2021-06-20T22:00:00+00:00\", \"2021-06-20T23:00:00+00:00\", \"2021-06-21T00:00:00+00:00\", \"2021-06-21T01:00:00+00:00\", \"2021-06-21T02:00:00+00:00\", \"2021-06-21T03:00:00+00:00\", \"2021-06-21T04:00:00+00:00\", \"2021-06-21T05:00:00+00:00\", \"2021-06-21T06:00:00+00:00\", \"2021-06-21T07:00:00+00:00\", \"2021-06-21T08:00:00+00:00\", \"2021-06-21T09:00:00+00:00\", \"2021-06-21T10:00:00+00:00\", \"2021-06-21T11:00:00+00:00\", \"2021-06-21T12:00:00+00:00\", \"2021-06-21T13:00:00+00:00\", \"2021-06-21T14:00:00+00:00\", \"2021-06-21T15:00:00+00:00\", \"2021-06-21T16:00:00+00:00\", \"2021-06-21T17:00:00+00:00\", \"2021-06-21T18:00:00+00:00\", \"2021-06-21T19:00:00+00:00\", \"2021-06-21T20:00:00+00:00\", \"2021-06-21T21:00:00+00:00\", \"2021-06-21T22:00:00+00:00\", \"2021-06-21T23:00:00+00:00\", \"2021-06-22T00:00:00+00:00\", \"2021-06-22T01:00:00+00:00\", \"2021-06-22T02:00:00+00:00\", \"2021-06-22T03:00:00+00:00\", \"2021-06-22T04:00:00+00:00\", \"2021-06-22T05:00:00+00:00\", \"2021-06-22T06:00:00+00:00\", \"2021-06-22T07:00:00+00:00\", \"2021-06-22T08:00:00+00:00\", \"2021-06-22T09:00:00+00:00\", \"2021-06-22T10:00:00+00:00\", \"2021-06-22T11:00:00+00:00\", \"2021-06-22T12:00:00+00:00\", \"2021-06-22T13:00:00+00:00\", \"2021-06-22T14:00:00+00:00\", \"2021-06-22T15:00:00+00:00\", \"2021-06-22T16:00:00+00:00\", \"2021-06-22T17:00:00+00:00\", \"2021-06-22T18:00:00+00:00\", \"2021-06-22T19:00:00+00:00\", \"2021-06-22T20:00:00+00:00\", \"2021-06-22T21:00:00+00:00\", \"2021-06-22T22:00:00+00:00\", \"2021-06-22T23:00:00+00:00\", \"2021-06-23T00:00:00+00:00\", \"2021-06-23T01:00:00+00:00\", \"2021-06-23T02:00:00+00:00\", \"2021-06-23T03:00:00+00:00\", \"2021-06-23T04:00:00+00:00\", \"2021-06-23T05:00:00+00:00\", \"2021-06-23T06:00:00+00:00\", \"2021-06-23T07:00:00+00:00\", \"2021-06-23T08:00:00+00:00\", \"2021-06-23T09:00:00+00:00\", \"2021-06-23T10:00:00+00:00\", \"2021-06-23T11:00:00+00:00\", \"2021-06-23T12:00:00+00:00\", \"2021-06-23T13:00:00+00:00\", \"2021-06-23T14:00:00+00:00\", \"2021-06-23T15:00:00+00:00\", \"2021-06-23T16:00:00+00:00\", \"2021-06-23T17:00:00+00:00\", \"2021-06-23T18:00:00+00:00\", \"2021-06-23T19:00:00+00:00\", \"2021-06-23T20:00:00+00:00\", \"2021-06-23T21:00:00+00:00\", \"2021-06-23T22:00:00+00:00\", \"2021-06-23T23:00:00+00:00\", \"2021-06-24T00:00:00+00:00\", \"2021-06-24T01:00:00+00:00\", \"2021-06-24T02:00:00+00:00\", \"2021-06-24T03:00:00+00:00\", \"2021-06-24T04:00:00+00:00\", \"2021-06-24T05:00:00+00:00\", \"2021-06-24T06:00:00+00:00\", \"2021-06-24T07:00:00+00:00\", \"2021-06-24T08:00:00+00:00\", \"2021-06-24T09:00:00+00:00\", \"2021-06-24T10:00:00+00:00\", \"2021-06-24T11:00:00+00:00\", \"2021-06-24T12:00:00+00:00\", \"2021-06-24T13:00:00+00:00\", \"2021-06-24T14:00:00+00:00\", \"2021-06-24T15:00:00+00:00\", \"2021-06-24T16:00:00+00:00\", \"2021-06-24T17:00:00+00:00\", \"2021-06-24T18:00:00+00:00\", \"2021-06-24T19:00:00+00:00\", \"2021-06-24T20:00:00+00:00\", \"2021-06-24T21:00:00+00:00\", \"2021-06-24T22:00:00+00:00\", \"2021-06-24T23:00:00+00:00\", \"2021-06-25T00:00:00+00:00\", \"2021-06-25T01:00:00+00:00\", \"2021-06-25T02:00:00+00:00\", \"2021-06-25T03:00:00+00:00\", \"2021-06-25T04:00:00+00:00\", \"2021-06-25T05:00:00+00:00\", \"2021-06-25T06:00:00+00:00\", \"2021-06-25T07:00:00+00:00\", \"2021-06-25T08:00:00+00:00\", \"2021-06-25T09:00:00+00:00\", \"2021-06-25T10:00:00+00:00\", \"2021-06-25T11:00:00+00:00\", \"2021-06-25T12:00:00+00:00\", \"2021-06-25T13:00:00+00:00\", \"2021-06-25T14:00:00+00:00\", \"2021-06-25T15:00:00+00:00\", \"2021-06-25T16:00:00+00:00\", \"2021-06-25T17:00:00+00:00\", \"2021-06-25T18:00:00+00:00\", \"2021-06-25T19:00:00+00:00\", \"2021-06-25T20:00:00+00:00\", \"2021-06-25T21:00:00+00:00\", \"2021-06-25T22:00:00+00:00\", \"2021-06-25T23:00:00+00:00\", \"2021-06-26T00:00:00+00:00\", \"2021-06-26T01:00:00+00:00\", \"2021-06-26T02:00:00+00:00\", \"2021-06-26T03:00:00+00:00\", \"2021-06-26T04:00:00+00:00\", \"2021-06-26T05:00:00+00:00\", \"2021-06-26T06:00:00+00:00\", \"2021-06-26T07:00:00+00:00\", \"2021-06-26T08:00:00+00:00\", \"2021-06-26T09:00:00+00:00\", \"2021-06-26T10:00:00+00:00\", \"2021-06-26T11:00:00+00:00\", \"2021-06-26T12:00:00+00:00\", \"2021-06-26T13:00:00+00:00\", \"2021-06-26T14:00:00+00:00\", \"2021-06-26T15:00:00+00:00\", \"2021-06-26T16:00:00+00:00\", \"2021-06-26T17:00:00+00:00\", \"2021-06-26T18:00:00+00:00\", \"2021-06-26T19:00:00+00:00\", \"2021-06-26T20:00:00+00:00\", \"2021-06-26T21:00:00+00:00\", \"2021-06-26T22:00:00+00:00\", \"2021-06-26T23:00:00+00:00\", \"2021-06-27T00:00:00+00:00\", \"2021-06-27T01:00:00+00:00\", \"2021-06-27T02:00:00+00:00\", \"2021-06-27T03:00:00+00:00\", \"2021-06-27T04:00:00+00:00\", \"2021-06-27T05:00:00+00:00\", \"2021-06-27T06:00:00+00:00\", \"2021-06-27T07:00:00+00:00\", \"2021-06-27T08:00:00+00:00\", \"2021-06-27T09:00:00+00:00\", \"2021-06-27T10:00:00+00:00\", \"2021-06-27T11:00:00+00:00\", \"2021-06-27T12:00:00+00:00\", \"2021-06-27T13:00:00+00:00\", \"2021-06-27T14:00:00+00:00\", \"2021-06-27T15:00:00+00:00\", \"2021-06-27T16:00:00+00:00\", \"2021-06-27T17:00:00+00:00\", \"2021-06-27T18:00:00+00:00\", \"2021-06-27T19:00:00+00:00\", \"2021-06-27T20:00:00+00:00\", \"2021-06-27T21:00:00+00:00\", \"2021-06-27T22:00:00+00:00\", \"2021-06-27T23:00:00+00:00\", \"2021-06-28T00:00:00+00:00\", \"2021-06-28T01:00:00+00:00\", \"2021-06-28T02:00:00+00:00\", \"2021-06-28T03:00:00+00:00\", \"2021-06-28T04:00:00+00:00\", \"2021-06-28T05:00:00+00:00\", \"2021-06-28T06:00:00+00:00\", \"2021-06-28T07:00:00+00:00\", \"2021-06-28T08:00:00+00:00\", \"2021-06-28T09:00:00+00:00\", \"2021-06-28T10:00:00+00:00\", \"2021-06-28T11:00:00+00:00\", \"2021-06-28T12:00:00+00:00\", \"2021-06-28T13:00:00+00:00\", \"2021-06-28T14:00:00+00:00\", \"2021-06-28T15:00:00+00:00\", \"2021-06-28T16:00:00+00:00\", \"2021-06-28T17:00:00+00:00\", \"2021-06-28T18:00:00+00:00\", \"2021-06-28T19:00:00+00:00\", \"2021-06-28T20:00:00+00:00\", \"2021-06-28T21:00:00+00:00\", \"2021-06-28T22:00:00+00:00\", \"2021-06-28T23:00:00+00:00\", \"2021-06-29T00:00:00+00:00\", \"2021-06-29T01:00:00+00:00\", \"2021-06-29T02:00:00+00:00\", \"2021-06-29T03:00:00+00:00\", \"2021-06-29T04:00:00+00:00\", \"2021-06-29T05:00:00+00:00\", \"2021-06-29T06:00:00+00:00\", \"2021-06-29T07:00:00+00:00\", \"2021-06-29T08:00:00+00:00\", \"2021-06-29T09:00:00+00:00\", \"2021-06-29T10:00:00+00:00\", \"2021-06-29T11:00:00+00:00\", \"2021-06-29T12:00:00+00:00\", \"2021-06-29T13:00:00+00:00\", \"2021-06-29T14:00:00+00:00\", \"2021-06-29T15:00:00+00:00\", \"2021-06-29T16:00:00+00:00\", \"2021-06-29T17:00:00+00:00\", \"2021-06-29T18:00:00+00:00\", \"2021-06-29T19:00:00+00:00\", \"2021-06-29T20:00:00+00:00\", \"2021-06-29T21:00:00+00:00\", \"2021-06-29T22:00:00+00:00\", \"2021-06-29T23:00:00+00:00\", \"2021-06-30T00:00:00+00:00\", \"2021-06-30T01:00:00+00:00\", \"2021-06-30T02:00:00+00:00\", \"2021-06-30T03:00:00+00:00\", \"2021-06-30T04:00:00+00:00\", \"2021-06-30T05:00:00+00:00\", \"2021-06-30T06:00:00+00:00\", \"2021-06-30T07:00:00+00:00\", \"2021-06-30T08:00:00+00:00\", \"2021-06-30T09:00:00+00:00\", \"2021-06-30T10:00:00+00:00\", \"2021-06-30T11:00:00+00:00\", \"2021-06-30T12:00:00+00:00\", \"2021-06-30T13:00:00+00:00\", \"2021-06-30T14:00:00+00:00\", \"2021-06-30T15:00:00+00:00\", \"2021-06-30T16:00:00+00:00\", \"2021-06-30T17:00:00+00:00\", \"2021-06-30T18:00:00+00:00\", \"2021-06-30T19:00:00+00:00\", \"2021-06-30T20:00:00+00:00\", \"2021-06-30T21:00:00+00:00\", \"2021-06-30T22:00:00+00:00\", \"2021-06-30T23:00:00+00:00\", \"2021-07-01T00:00:00+00:00\", \"2021-07-01T01:00:00+00:00\", \"2021-07-01T02:00:00+00:00\", \"2021-07-01T03:00:00+00:00\", \"2021-07-01T04:00:00+00:00\", \"2021-07-01T05:00:00+00:00\", \"2021-07-01T06:00:00+00:00\", \"2021-07-01T07:00:00+00:00\", \"2021-07-01T08:00:00+00:00\", \"2021-07-01T09:00:00+00:00\", \"2021-07-01T10:00:00+00:00\", \"2021-07-01T11:00:00+00:00\", \"2021-07-01T12:00:00+00:00\", \"2021-07-01T13:00:00+00:00\", \"2021-07-01T14:00:00+00:00\", \"2021-07-01T15:00:00+00:00\", \"2021-07-01T16:00:00+00:00\", \"2021-07-01T17:00:00+00:00\", \"2021-07-01T18:00:00+00:00\", \"2021-07-01T19:00:00+00:00\", \"2021-07-01T20:00:00+00:00\", \"2021-07-01T21:00:00+00:00\", \"2021-07-01T22:00:00+00:00\", \"2021-07-01T23:00:00+00:00\", \"2021-07-02T00:00:00+00:00\", \"2021-07-02T01:00:00+00:00\", \"2021-07-02T02:00:00+00:00\", \"2021-07-02T03:00:00+00:00\", \"2021-07-02T04:00:00+00:00\", \"2021-07-02T05:00:00+00:00\", \"2021-07-02T06:00:00+00:00\", \"2021-07-02T07:00:00+00:00\", \"2021-07-02T08:00:00+00:00\", \"2021-07-02T09:00:00+00:00\", \"2021-07-02T10:00:00+00:00\", \"2021-07-02T11:00:00+00:00\", \"2021-07-02T12:00:00+00:00\", \"2021-07-02T13:00:00+00:00\", \"2021-07-02T14:00:00+00:00\", \"2021-07-02T15:00:00+00:00\", \"2021-07-02T16:00:00+00:00\", \"2021-07-02T17:00:00+00:00\", \"2021-07-02T18:00:00+00:00\", \"2021-07-02T19:00:00+00:00\", \"2021-07-02T20:00:00+00:00\", \"2021-07-02T21:00:00+00:00\", \"2021-07-02T22:00:00+00:00\", \"2021-07-02T23:00:00+00:00\", \"2021-07-03T00:00:00+00:00\", \"2021-07-03T01:00:00+00:00\", \"2021-07-03T02:00:00+00:00\", \"2021-07-03T03:00:00+00:00\", \"2021-07-03T04:00:00+00:00\", \"2021-07-03T05:00:00+00:00\", \"2021-07-03T06:00:00+00:00\", \"2021-07-03T07:00:00+00:00\", \"2021-07-03T08:00:00+00:00\", \"2021-07-03T09:00:00+00:00\", \"2021-07-03T10:00:00+00:00\", \"2021-07-03T11:00:00+00:00\", \"2021-07-03T12:00:00+00:00\", \"2021-07-03T13:00:00+00:00\", \"2021-07-03T14:00:00+00:00\", \"2021-07-03T15:00:00+00:00\", \"2021-07-03T16:00:00+00:00\", \"2021-07-03T17:00:00+00:00\", \"2021-07-03T18:00:00+00:00\", \"2021-07-03T19:00:00+00:00\", \"2021-07-03T20:00:00+00:00\", \"2021-07-03T21:00:00+00:00\", \"2021-07-03T22:00:00+00:00\", \"2021-07-03T23:00:00+00:00\", \"2021-07-04T00:00:00+00:00\", \"2021-07-04T01:00:00+00:00\", \"2021-07-04T02:00:00+00:00\", \"2021-07-04T03:00:00+00:00\", \"2021-07-04T04:00:00+00:00\", \"2021-07-04T05:00:00+00:00\", \"2021-07-04T06:00:00+00:00\", \"2021-07-04T07:00:00+00:00\", \"2021-07-04T08:00:00+00:00\", \"2021-07-04T09:00:00+00:00\", \"2021-07-04T10:00:00+00:00\", \"2021-07-04T11:00:00+00:00\", \"2021-07-04T12:00:00+00:00\", \"2021-07-04T13:00:00+00:00\", \"2021-07-04T14:00:00+00:00\", \"2021-07-04T15:00:00+00:00\", \"2021-07-04T16:00:00+00:00\", \"2021-07-04T17:00:00+00:00\", \"2021-07-04T18:00:00+00:00\", \"2021-07-04T19:00:00+00:00\", \"2021-07-04T20:00:00+00:00\", \"2021-07-04T21:00:00+00:00\", \"2021-07-04T22:00:00+00:00\", \"2021-07-04T23:00:00+00:00\", \"2021-07-05T00:00:00+00:00\", \"2021-07-05T01:00:00+00:00\", \"2021-07-05T02:00:00+00:00\", \"2021-07-05T03:00:00+00:00\", \"2021-07-05T04:00:00+00:00\", \"2021-07-05T05:00:00+00:00\", \"2021-07-05T06:00:00+00:00\", \"2021-07-05T07:00:00+00:00\", \"2021-07-05T08:00:00+00:00\", \"2021-07-05T09:00:00+00:00\", \"2021-07-05T10:00:00+00:00\", \"2021-07-05T11:00:00+00:00\", \"2021-07-05T12:00:00+00:00\", \"2021-07-05T13:00:00+00:00\", \"2021-07-05T14:00:00+00:00\", \"2021-07-05T15:00:00+00:00\", \"2021-07-05T16:00:00+00:00\", \"2021-07-05T17:00:00+00:00\", \"2021-07-05T18:00:00+00:00\", \"2021-07-05T19:00:00+00:00\", \"2021-07-05T20:00:00+00:00\", \"2021-07-05T21:00:00+00:00\", \"2021-07-05T22:00:00+00:00\", \"2021-07-05T23:00:00+00:00\", \"2021-07-06T00:00:00+00:00\", \"2021-07-06T01:00:00+00:00\", \"2021-07-06T02:00:00+00:00\", \"2021-07-06T03:00:00+00:00\", \"2021-07-06T04:00:00+00:00\", \"2021-07-06T05:00:00+00:00\", \"2021-07-06T06:00:00+00:00\", \"2021-07-06T07:00:00+00:00\", \"2021-07-06T08:00:00+00:00\", \"2021-07-06T09:00:00+00:00\", \"2021-07-06T10:00:00+00:00\", \"2021-07-06T11:00:00+00:00\", \"2021-07-06T12:00:00+00:00\", \"2021-07-06T13:00:00+00:00\", \"2021-07-06T14:00:00+00:00\", \"2021-07-06T15:00:00+00:00\", \"2021-07-06T16:00:00+00:00\", \"2021-07-06T17:00:00+00:00\", \"2021-07-06T18:00:00+00:00\", \"2021-07-06T19:00:00+00:00\", \"2021-07-06T20:00:00+00:00\", \"2021-07-06T21:00:00+00:00\", \"2021-07-06T22:00:00+00:00\", \"2021-07-06T23:00:00+00:00\", \"2021-07-07T00:00:00+00:00\", \"2021-07-07T01:00:00+00:00\", \"2021-07-07T02:00:00+00:00\", \"2021-07-07T03:00:00+00:00\", \"2021-07-07T04:00:00+00:00\", \"2021-07-07T05:00:00+00:00\", \"2021-07-07T06:00:00+00:00\", \"2021-07-07T07:00:00+00:00\", \"2021-07-07T08:00:00+00:00\", \"2021-07-07T09:00:00+00:00\", \"2021-07-07T10:00:00+00:00\", \"2021-07-07T11:00:00+00:00\", \"2021-07-07T12:00:00+00:00\", \"2021-07-07T13:00:00+00:00\", \"2021-07-07T14:00:00+00:00\", \"2021-07-07T15:00:00+00:00\", \"2021-07-07T16:00:00+00:00\", \"2021-07-07T17:00:00+00:00\", \"2021-07-07T18:00:00+00:00\", \"2021-07-07T19:00:00+00:00\", \"2021-07-07T20:00:00+00:00\", \"2021-07-07T21:00:00+00:00\", \"2021-07-07T22:00:00+00:00\", \"2021-07-07T23:00:00+00:00\", \"2021-07-08T00:00:00+00:00\", \"2021-07-08T01:00:00+00:00\", \"2021-07-08T02:00:00+00:00\", \"2021-07-08T03:00:00+00:00\", \"2021-07-08T04:00:00+00:00\", \"2021-07-08T05:00:00+00:00\", \"2021-07-08T06:00:00+00:00\", \"2021-07-08T07:00:00+00:00\", \"2021-07-08T08:00:00+00:00\", \"2021-07-08T09:00:00+00:00\", \"2021-07-08T10:00:00+00:00\", \"2021-07-08T11:00:00+00:00\", \"2021-07-08T12:00:00+00:00\", \"2021-07-08T13:00:00+00:00\", \"2021-07-08T14:00:00+00:00\", \"2021-07-08T15:00:00+00:00\", \"2021-07-08T16:00:00+00:00\", \"2021-07-08T17:00:00+00:00\", \"2021-07-08T18:00:00+00:00\", \"2021-07-08T19:00:00+00:00\", \"2021-07-08T20:00:00+00:00\", \"2021-07-08T21:00:00+00:00\", \"2021-07-08T22:00:00+00:00\", \"2021-07-08T23:00:00+00:00\", \"2021-07-09T00:00:00+00:00\", \"2021-07-09T01:00:00+00:00\", \"2021-07-09T02:00:00+00:00\", \"2021-07-09T03:00:00+00:00\", \"2021-07-09T04:00:00+00:00\", \"2021-07-09T05:00:00+00:00\", \"2021-07-09T06:00:00+00:00\", \"2021-07-09T07:00:00+00:00\", \"2021-07-09T08:00:00+00:00\", \"2021-07-09T09:00:00+00:00\", \"2021-07-09T10:00:00+00:00\", \"2021-07-09T11:00:00+00:00\", \"2021-07-09T12:00:00+00:00\", \"2021-07-09T13:00:00+00:00\", \"2021-07-09T14:00:00+00:00\", \"2021-07-09T15:00:00+00:00\", \"2021-07-09T16:00:00+00:00\", \"2021-07-09T17:00:00+00:00\", \"2021-07-09T18:00:00+00:00\", \"2021-07-09T19:00:00+00:00\", \"2021-07-09T20:00:00+00:00\", \"2021-07-09T21:00:00+00:00\", \"2021-07-09T22:00:00+00:00\", \"2021-07-09T23:00:00+00:00\", \"2021-07-10T00:00:00+00:00\", \"2021-07-10T01:00:00+00:00\", \"2021-07-10T02:00:00+00:00\", \"2021-07-10T03:00:00+00:00\", \"2021-07-10T04:00:00+00:00\", \"2021-07-10T05:00:00+00:00\", \"2021-07-10T06:00:00+00:00\", \"2021-07-10T07:00:00+00:00\", \"2021-07-10T08:00:00+00:00\", \"2021-07-10T09:00:00+00:00\", \"2021-07-10T10:00:00+00:00\", \"2021-07-10T11:00:00+00:00\", \"2021-07-10T12:00:00+00:00\", \"2021-07-10T13:00:00+00:00\", \"2021-07-10T14:00:00+00:00\", \"2021-07-10T15:00:00+00:00\", \"2021-07-10T16:00:00+00:00\", \"2021-07-10T17:00:00+00:00\", \"2021-07-10T18:00:00+00:00\", \"2021-07-10T19:00:00+00:00\", \"2021-07-10T20:00:00+00:00\", \"2021-07-10T21:00:00+00:00\", \"2021-07-10T22:00:00+00:00\", \"2021-07-10T23:00:00+00:00\", \"2021-07-11T00:00:00+00:00\", \"2021-07-11T01:00:00+00:00\", \"2021-07-11T02:00:00+00:00\", \"2021-07-11T03:00:00+00:00\", \"2021-07-11T04:00:00+00:00\", \"2021-07-11T05:00:00+00:00\", \"2021-07-11T06:00:00+00:00\", \"2021-07-11T07:00:00+00:00\", \"2021-07-11T08:00:00+00:00\", \"2021-07-11T09:00:00+00:00\", \"2021-07-11T10:00:00+00:00\", \"2021-07-11T11:00:00+00:00\", \"2021-07-11T12:00:00+00:00\", \"2021-07-11T13:00:00+00:00\", \"2021-07-11T14:00:00+00:00\", \"2021-07-11T15:00:00+00:00\", \"2021-07-11T16:00:00+00:00\", \"2021-07-11T17:00:00+00:00\", \"2021-07-11T18:00:00+00:00\", \"2021-07-11T19:00:00+00:00\", \"2021-07-11T20:00:00+00:00\", \"2021-07-11T21:00:00+00:00\", \"2021-07-11T22:00:00+00:00\", \"2021-07-11T23:00:00+00:00\", \"2021-07-12T00:00:00+00:00\", \"2021-07-12T01:00:00+00:00\", \"2021-07-12T02:00:00+00:00\", \"2021-07-12T03:00:00+00:00\", \"2021-07-12T04:00:00+00:00\", \"2021-07-12T05:00:00+00:00\", \"2021-07-12T06:00:00+00:00\", \"2021-07-12T07:00:00+00:00\", \"2021-07-12T08:00:00+00:00\", \"2021-07-12T09:00:00+00:00\", \"2021-07-12T10:00:00+00:00\", \"2021-07-12T11:00:00+00:00\", \"2021-07-12T12:00:00+00:00\", \"2021-07-12T13:00:00+00:00\", \"2021-07-12T14:00:00+00:00\", \"2021-07-12T15:00:00+00:00\", \"2021-07-12T16:00:00+00:00\", \"2021-07-12T17:00:00+00:00\", \"2021-07-12T18:00:00+00:00\", \"2021-07-12T19:00:00+00:00\", \"2021-07-12T20:00:00+00:00\", \"2021-07-12T21:00:00+00:00\", \"2021-07-12T22:00:00+00:00\", \"2021-07-12T23:00:00+00:00\", \"2021-07-13T00:00:00+00:00\", \"2021-07-13T01:00:00+00:00\", \"2021-07-13T02:00:00+00:00\", \"2021-07-13T03:00:00+00:00\", \"2021-07-13T04:00:00+00:00\", \"2021-07-13T05:00:00+00:00\", \"2021-07-13T06:00:00+00:00\", \"2021-07-13T07:00:00+00:00\", \"2021-07-13T08:00:00+00:00\", \"2021-07-13T09:00:00+00:00\", \"2021-07-13T10:00:00+00:00\", \"2021-07-13T11:00:00+00:00\", \"2021-07-13T12:00:00+00:00\", \"2021-07-13T13:00:00+00:00\", \"2021-07-13T14:00:00+00:00\", \"2021-07-13T15:00:00+00:00\", \"2021-07-13T16:00:00+00:00\", \"2021-07-13T17:00:00+00:00\", \"2021-07-13T18:00:00+00:00\", \"2021-07-13T19:00:00+00:00\", \"2021-07-13T20:00:00+00:00\", \"2021-07-13T21:00:00+00:00\", \"2021-07-13T22:00:00+00:00\", \"2021-07-13T23:00:00+00:00\", \"2021-07-14T00:00:00+00:00\", \"2021-07-14T01:00:00+00:00\", \"2021-07-14T02:00:00+00:00\", \"2021-07-14T03:00:00+00:00\", \"2021-07-14T04:00:00+00:00\", \"2021-07-14T05:00:00+00:00\", \"2021-07-14T06:00:00+00:00\", \"2021-07-14T07:00:00+00:00\", \"2021-07-14T08:00:00+00:00\", \"2021-07-14T09:00:00+00:00\", \"2021-07-14T10:00:00+00:00\", \"2021-07-14T11:00:00+00:00\", \"2021-07-14T12:00:00+00:00\", \"2021-07-14T13:00:00+00:00\", \"2021-07-14T14:00:00+00:00\", \"2021-07-14T15:00:00+00:00\", \"2021-07-14T16:00:00+00:00\", \"2021-07-14T17:00:00+00:00\", \"2021-07-14T18:00:00+00:00\", \"2021-07-14T19:00:00+00:00\", \"2021-07-14T20:00:00+00:00\", \"2021-07-14T21:00:00+00:00\", \"2021-07-14T22:00:00+00:00\", \"2021-07-14T23:00:00+00:00\", \"2021-07-15T00:00:00+00:00\", \"2021-07-15T01:00:00+00:00\", \"2021-07-15T02:00:00+00:00\", \"2021-07-15T03:00:00+00:00\", \"2021-07-15T04:00:00+00:00\", \"2021-07-15T05:00:00+00:00\", \"2021-07-15T06:00:00+00:00\", \"2021-07-15T07:00:00+00:00\", \"2021-07-15T08:00:00+00:00\", \"2021-07-15T09:00:00+00:00\", \"2021-07-15T10:00:00+00:00\", \"2021-07-15T11:00:00+00:00\", \"2021-07-15T12:00:00+00:00\", \"2021-07-15T13:00:00+00:00\", \"2021-07-15T14:00:00+00:00\", \"2021-07-15T15:00:00+00:00\", \"2021-07-15T16:00:00+00:00\", \"2021-07-15T17:00:00+00:00\", \"2021-07-15T18:00:00+00:00\", \"2021-07-15T19:00:00+00:00\", \"2021-07-15T20:00:00+00:00\", \"2021-07-15T21:00:00+00:00\", \"2021-07-15T22:00:00+00:00\", \"2021-07-15T23:00:00+00:00\", \"2021-07-16T00:00:00+00:00\", \"2021-07-16T01:00:00+00:00\", \"2021-07-16T02:00:00+00:00\", \"2021-07-16T03:00:00+00:00\", \"2021-07-16T04:00:00+00:00\", \"2021-07-16T05:00:00+00:00\", \"2021-07-16T06:00:00+00:00\", \"2021-07-16T07:00:00+00:00\", \"2021-07-16T08:00:00+00:00\", \"2021-07-16T09:00:00+00:00\", \"2021-07-16T10:00:00+00:00\", \"2021-07-16T11:00:00+00:00\", \"2021-07-16T12:00:00+00:00\", \"2021-07-16T13:00:00+00:00\", \"2021-07-16T14:00:00+00:00\", \"2021-07-16T15:00:00+00:00\", \"2021-07-16T16:00:00+00:00\", \"2021-07-16T17:00:00+00:00\", \"2021-07-16T18:00:00+00:00\", \"2021-07-16T19:00:00+00:00\", \"2021-07-16T20:00:00+00:00\", \"2021-07-16T21:00:00+00:00\", \"2021-07-16T22:00:00+00:00\", \"2021-07-16T23:00:00+00:00\"], \"y\": [914, 1351, 1143, 1144, 1407, 1477, 1263, 952, 1725, 2006, 2954, 1613, 1472, 1155, 678, 478, 279, 215, 191, 159, 180, 207, 273, 372, 615, 581, 584, 1019, 797, 529, 569, 525, 566, 576, 738, 651, 675, 597, 376, 288, 150, 93, 64, 103, 149, 145, 200, 275, 465, 692, 713, 709, 987, 928, 893, 742, 807, 1044, 1086, 1189, 1205, 1124, 681, 324, 189, 149, 110, 134, 141, 174, 242, 416, 454, 421, 1566, 1147, 980, 1949, 1035, 1263, 945, 2080, 2378, 4779, 3708, 4764, 2313, 852, 379, 236, 154, 194, 253, 421, 641, 752, 986, 940, 1095, 1402, 1036, 1652, 11980, 7575, 2629, 1608, 1208, 1562, 2631, 2793, 1288, 683, 294, 196, 164, 178, 254, 297, 408, 467, 697, 757, 1021, 1072, 941, 651, 648, 604, 537, 477, 519, 605, 546, 478, 301, 183, 117, 89, 84, 73, 76, 126, 242, 399, 397, 728, 733, 535, 570, 658, 800, 1864, 920, 682, 1306, 835, 1054, 558, 337, 228, 162, 154, 78, 147, 106, 116, 184, 338, 517, 1215, 819, 811, 799, 474, 877, 507, 456, 417, 359, 429, 528, 544, 472, 235, 135, 71, 68, 60, 150, 151, 137, 274, 415, 449, 552, 583, 604, 479, 487, 697, 589, 1022, 1638, 1676, 1715, 2087, 706, 588, 227, 278, 148, 149, 182, 250, 302, 382, 509, 571, 637, 529, 847, 915, 638, 562, 528, 1111, 780, 1404, 7707, 5990, 3651, 3148, 760, 446, 286, 325, 427, 549, 770, 1416, 1554, 1361, 1206, 1200, 1262, 1107, 1981, 2324, 2523, 10399, 12219, 7292, 5536, 7275, 6239, 1682, 799, 506, 412, 445, 522, 706, 2054, 1624, 1867, 2027, 1685, 1487, 1511, 1316, 1881, 1202, 1403, 1605, 5891, 3454, 2025, 1671, 992, 616, 382, 307, 383, 381, 374, 353, 448, 540, 610, 759, 885, 1180, 1023, 5355, 2650, 1656, 1088, 1320, 1549, 1073, 673, 594, 442, 299, 149, 106, 100, 205, 171, 182, 257, 435, 549, 528, 1403, 1177, 2486, 1677, 1374, 1263, 949, 1513, 1000, 950, 1251, 1903, 616, 340, 167, 150, 100, 97, 125, 164, 298, 368, 594, 532, 637, 497, 590, 592, 711, 721, 861, 1162, 1814, 2709, 8175, 7082, 5938, 2589, 1400, 668, 437, 403, 411, 496, 796, 1214, 1496, 1633, 1312, 1252, 1301, 1035, 1224, 1831, 1102, 1013, 1312, 1197, 1224, 1082, 695, 335, 216, 232, 145, 168, 176, 214, 334, 480, 668, 772, 674, 787, 650, 849, 825, 737, 733, 693, 740, 646, 666, 647, 437, 266, 301, 156, 141, 169, 102, 170, 325, 293, 556, 388, 413, 614, 601, 571, 497, 528, 1029, 961, 809, 758, 867, 616, 577, 239, 197, 76, 66, 116, 147, 174, 273, 329, 463, 527, 560, 436, 451, 454, 562, 513, 663, 1435, 1669, 3104, 2871, 15389, 15722, 7220, 2957, 1302, 880, 640, 972, 1411, 2390, 3462, 3709, 3603, 2866, 2527, 2426, 2787, 2566, 2268, 2436, 2059, 1764, 1714, 1653, 1787, 1019, 404, 345, 240, 172, 202, 252, 387, 556, 818, 930, 1284, 1685, 1526, 1230, 1143, 1223, 2316, 1479, 1138, 938, 1130, 967, 765, 686, 494, 251, 197, 131, 177, 193, 191, 448, 542, 608, 642, 685, 622, 1509, 1110, 1019, 970, 1096, 1006, 1246, 1635, 1110, 814, 638, 397, 249, 196, 221, 137, 152, 255, 423, 754, 1009, 1279, 1359, 1241, 1112, 1325, 1652, 1361, 1211, 2196, 2088, 4753, 3730, 9847, 51421, 23472, 8151, 3309, 1879, 1505, 1636, 2588, 5359, 7925, 8388, 9266, 12540, 10032, 6497, 0, 454, 9354, 7123, 8314, 9354, 16971, 26257, 14802, 7570, 3862, 2189, 1469, 1070, 1212, 1380, 2333, 4563, 5412, 5351, 5026, 4675, 4887, 4960, 4476, 3431, 3659, 4318, 4000, 3502, 4784, 3593, 2932, 1852, 1125, 652, 431, 363, 339, 466, 647, 986, 1518, 1389, 1477, 1514, 1550, 1352, 1396, 1333, 1198, 3111, 2853, 2049, 1809, 1499, 1344, 876, 472, 303, 212, 164, 176, 206, 329, 548, 631, 802, 837, 812, 1328, 1316, 1085, 1030, 5891, 4032, 2606, 1720, 1388, 2224, 1240, 889, 570, 348, 244, 164, 191, 223, 310, 494, 541, 655, 887, 1216, 867, 874, 788, 825, 863, 2458, 2355, 1528, 1257, 996, 814, 691, 524]}],\n",
              "                        {\"template\": {\"data\": {\"bar\": [{\"error_x\": {\"color\": \"#2a3f5f\"}, \"error_y\": {\"color\": \"#2a3f5f\"}, \"marker\": {\"line\": {\"color\": \"#E5ECF6\", \"width\": 0.5}}, \"type\": \"bar\"}], \"barpolar\": [{\"marker\": {\"line\": {\"color\": \"#E5ECF6\", \"width\": 0.5}}, \"type\": \"barpolar\"}], \"carpet\": [{\"aaxis\": {\"endlinecolor\": \"#2a3f5f\", \"gridcolor\": \"white\", \"linecolor\": \"white\", \"minorgridcolor\": \"white\", \"startlinecolor\": \"#2a3f5f\"}, \"baxis\": {\"endlinecolor\": \"#2a3f5f\", \"gridcolor\": \"white\", \"linecolor\": \"white\", \"minorgridcolor\": \"white\", \"startlinecolor\": \"#2a3f5f\"}, \"type\": \"carpet\"}], \"choropleth\": [{\"colorbar\": {\"outlinewidth\": 0, \"ticks\": \"\"}, \"type\": \"choropleth\"}], \"contour\": [{\"colorbar\": {\"outlinewidth\": 0, \"ticks\": \"\"}, \"colorscale\": [[0.0, \"#0d0887\"], [0.1111111111111111, \"#46039f\"], [0.2222222222222222, \"#7201a8\"], [0.3333333333333333, \"#9c179e\"], [0.4444444444444444, \"#bd3786\"], [0.5555555555555556, \"#d8576b\"], [0.6666666666666666, \"#ed7953\"], [0.7777777777777778, \"#fb9f3a\"], [0.8888888888888888, \"#fdca26\"], [1.0, \"#f0f921\"]], \"type\": \"contour\"}], \"contourcarpet\": [{\"colorbar\": {\"outlinewidth\": 0, \"ticks\": \"\"}, \"type\": \"contourcarpet\"}], \"heatmap\": [{\"colorbar\": {\"outlinewidth\": 0, \"ticks\": \"\"}, \"colorscale\": [[0.0, \"#0d0887\"], [0.1111111111111111, \"#46039f\"], [0.2222222222222222, \"#7201a8\"], [0.3333333333333333, \"#9c179e\"], [0.4444444444444444, \"#bd3786\"], [0.5555555555555556, \"#d8576b\"], [0.6666666666666666, \"#ed7953\"], [0.7777777777777778, \"#fb9f3a\"], [0.8888888888888888, \"#fdca26\"], [1.0, \"#f0f921\"]], \"type\": \"heatmap\"}], \"heatmapgl\": [{\"colorbar\": {\"outlinewidth\": 0, \"ticks\": \"\"}, \"colorscale\": [[0.0, \"#0d0887\"], [0.1111111111111111, \"#46039f\"], [0.2222222222222222, \"#7201a8\"], [0.3333333333333333, \"#9c179e\"], [0.4444444444444444, \"#bd3786\"], [0.5555555555555556, \"#d8576b\"], [0.6666666666666666, \"#ed7953\"], [0.7777777777777778, \"#fb9f3a\"], [0.8888888888888888, \"#fdca26\"], [1.0, \"#f0f921\"]], \"type\": \"heatmapgl\"}], \"histogram\": [{\"marker\": {\"colorbar\": {\"outlinewidth\": 0, \"ticks\": \"\"}}, \"type\": \"histogram\"}], \"histogram2d\": [{\"colorbar\": {\"outlinewidth\": 0, \"ticks\": \"\"}, \"colorscale\": [[0.0, \"#0d0887\"], [0.1111111111111111, \"#46039f\"], [0.2222222222222222, \"#7201a8\"], [0.3333333333333333, \"#9c179e\"], [0.4444444444444444, \"#bd3786\"], [0.5555555555555556, \"#d8576b\"], [0.6666666666666666, \"#ed7953\"], [0.7777777777777778, \"#fb9f3a\"], [0.8888888888888888, \"#fdca26\"], [1.0, \"#f0f921\"]], \"type\": \"histogram2d\"}], \"histogram2dcontour\": [{\"colorbar\": {\"outlinewidth\": 0, \"ticks\": \"\"}, \"colorscale\": [[0.0, \"#0d0887\"], [0.1111111111111111, \"#46039f\"], [0.2222222222222222, \"#7201a8\"], [0.3333333333333333, \"#9c179e\"], [0.4444444444444444, \"#bd3786\"], [0.5555555555555556, \"#d8576b\"], [0.6666666666666666, \"#ed7953\"], [0.7777777777777778, \"#fb9f3a\"], [0.8888888888888888, \"#fdca26\"], [1.0, \"#f0f921\"]], \"type\": \"histogram2dcontour\"}], \"mesh3d\": [{\"colorbar\": {\"outlinewidth\": 0, \"ticks\": \"\"}, \"type\": \"mesh3d\"}], \"parcoords\": [{\"line\": {\"colorbar\": {\"outlinewidth\": 0, \"ticks\": \"\"}}, \"type\": \"parcoords\"}], \"pie\": [{\"automargin\": true, \"type\": \"pie\"}], \"scatter\": [{\"marker\": {\"colorbar\": {\"outlinewidth\": 0, \"ticks\": \"\"}}, \"type\": \"scatter\"}], \"scatter3d\": [{\"line\": {\"colorbar\": {\"outlinewidth\": 0, \"ticks\": \"\"}}, \"marker\": {\"colorbar\": {\"outlinewidth\": 0, \"ticks\": \"\"}}, \"type\": \"scatter3d\"}], \"scattercarpet\": [{\"marker\": {\"colorbar\": {\"outlinewidth\": 0, \"ticks\": \"\"}}, \"type\": \"scattercarpet\"}], \"scattergeo\": [{\"marker\": {\"colorbar\": {\"outlinewidth\": 0, \"ticks\": \"\"}}, \"type\": \"scattergeo\"}], \"scattergl\": [{\"marker\": {\"colorbar\": {\"outlinewidth\": 0, \"ticks\": \"\"}}, \"type\": \"scattergl\"}], \"scattermapbox\": [{\"marker\": {\"colorbar\": {\"outlinewidth\": 0, \"ticks\": \"\"}}, \"type\": \"scattermapbox\"}], \"scatterpolar\": [{\"marker\": {\"colorbar\": {\"outlinewidth\": 0, \"ticks\": \"\"}}, \"type\": \"scatterpolar\"}], \"scatterpolargl\": [{\"marker\": {\"colorbar\": {\"outlinewidth\": 0, \"ticks\": \"\"}}, \"type\": \"scatterpolargl\"}], \"scatterternary\": [{\"marker\": {\"colorbar\": {\"outlinewidth\": 0, \"ticks\": \"\"}}, \"type\": \"scatterternary\"}], \"surface\": [{\"colorbar\": {\"outlinewidth\": 0, \"ticks\": \"\"}, \"colorscale\": [[0.0, \"#0d0887\"], [0.1111111111111111, \"#46039f\"], [0.2222222222222222, \"#7201a8\"], [0.3333333333333333, \"#9c179e\"], [0.4444444444444444, \"#bd3786\"], [0.5555555555555556, \"#d8576b\"], [0.6666666666666666, \"#ed7953\"], [0.7777777777777778, \"#fb9f3a\"], [0.8888888888888888, \"#fdca26\"], [1.0, \"#f0f921\"]], \"type\": \"surface\"}], \"table\": [{\"cells\": {\"fill\": {\"color\": \"#EBF0F8\"}, \"line\": {\"color\": \"white\"}}, \"header\": {\"fill\": {\"color\": \"#C8D4E3\"}, \"line\": {\"color\": \"white\"}}, \"type\": \"table\"}]}, \"layout\": {\"annotationdefaults\": {\"arrowcolor\": \"#2a3f5f\", \"arrowhead\": 0, \"arrowwidth\": 1}, \"coloraxis\": {\"colorbar\": {\"outlinewidth\": 0, \"ticks\": \"\"}}, \"colorscale\": {\"diverging\": [[0, \"#8e0152\"], [0.1, \"#c51b7d\"], [0.2, \"#de77ae\"], [0.3, \"#f1b6da\"], [0.4, \"#fde0ef\"], [0.5, \"#f7f7f7\"], [0.6, \"#e6f5d0\"], [0.7, \"#b8e186\"], [0.8, \"#7fbc41\"], [0.9, \"#4d9221\"], [1, \"#276419\"]], \"sequential\": [[0.0, \"#0d0887\"], [0.1111111111111111, \"#46039f\"], [0.2222222222222222, \"#7201a8\"], [0.3333333333333333, \"#9c179e\"], [0.4444444444444444, \"#bd3786\"], [0.5555555555555556, \"#d8576b\"], [0.6666666666666666, \"#ed7953\"], [0.7777777777777778, \"#fb9f3a\"], [0.8888888888888888, \"#fdca26\"], [1.0, \"#f0f921\"]], \"sequentialminus\": [[0.0, \"#0d0887\"], [0.1111111111111111, \"#46039f\"], [0.2222222222222222, \"#7201a8\"], [0.3333333333333333, \"#9c179e\"], [0.4444444444444444, \"#bd3786\"], [0.5555555555555556, \"#d8576b\"], [0.6666666666666666, \"#ed7953\"], [0.7777777777777778, \"#fb9f3a\"], [0.8888888888888888, \"#fdca26\"], [1.0, \"#f0f921\"]]}, \"colorway\": [\"#636efa\", \"#EF553B\", \"#00cc96\", \"#ab63fa\", \"#FFA15A\", \"#19d3f3\", \"#FF6692\", \"#B6E880\", \"#FF97FF\", \"#FECB52\"], \"font\": {\"color\": \"#2a3f5f\"}, \"geo\": {\"bgcolor\": \"white\", \"lakecolor\": \"white\", \"landcolor\": \"#E5ECF6\", \"showlakes\": true, \"showland\": true, \"subunitcolor\": \"white\"}, \"hoverlabel\": {\"align\": \"left\"}, \"hovermode\": \"closest\", \"mapbox\": {\"style\": \"light\"}, \"paper_bgcolor\": \"white\", \"plot_bgcolor\": \"#E5ECF6\", \"polar\": {\"angularaxis\": {\"gridcolor\": \"white\", \"linecolor\": \"white\", \"ticks\": \"\"}, \"bgcolor\": \"#E5ECF6\", \"radialaxis\": {\"gridcolor\": \"white\", \"linecolor\": \"white\", \"ticks\": \"\"}}, \"scene\": {\"xaxis\": {\"backgroundcolor\": \"#E5ECF6\", \"gridcolor\": \"white\", \"gridwidth\": 2, \"linecolor\": \"white\", \"showbackground\": true, \"ticks\": \"\", \"zerolinecolor\": \"white\"}, \"yaxis\": {\"backgroundcolor\": \"#E5ECF6\", \"gridcolor\": \"white\", \"gridwidth\": 2, \"linecolor\": \"white\", \"showbackground\": true, \"ticks\": \"\", \"zerolinecolor\": \"white\"}, \"zaxis\": {\"backgroundcolor\": \"#E5ECF6\", \"gridcolor\": \"white\", \"gridwidth\": 2, \"linecolor\": \"white\", \"showbackground\": true, \"ticks\": \"\", \"zerolinecolor\": \"white\"}}, \"shapedefaults\": {\"line\": {\"color\": \"#2a3f5f\"}}, \"ternary\": {\"aaxis\": {\"gridcolor\": \"white\", \"linecolor\": \"white\", \"ticks\": \"\"}, \"baxis\": {\"gridcolor\": \"white\", \"linecolor\": \"white\", \"ticks\": \"\"}, \"bgcolor\": \"#E5ECF6\", \"caxis\": {\"gridcolor\": \"white\", \"linecolor\": \"white\", \"ticks\": \"\"}}, \"title\": {\"x\": 0.05}, \"xaxis\": {\"automargin\": true, \"gridcolor\": \"white\", \"linecolor\": \"white\", \"ticks\": \"\", \"title\": {\"standoff\": 15}, \"zerolinecolor\": \"white\", \"zerolinewidth\": 2}, \"yaxis\": {\"automargin\": true, \"gridcolor\": \"white\", \"linecolor\": \"white\", \"ticks\": \"\", \"title\": {\"standoff\": 15}, \"zerolinecolor\": \"white\", \"zerolinewidth\": 2}}}, \"title\": {\"text\": \"Frequency of tweets (aggregated over 60 minute intervals)\", \"x\": 0.5, \"xanchor\": \"center\", \"y\": 0.9, \"yanchor\": \"top\"}, \"xaxis\": {\"nticks\": 28, \"tickformat\": \"%d %B\", \"tickmode\": \"auto\", \"title\": {\"text\": \"Date\"}}, \"yaxis\": {\"title\": {\"text\": \"Number of tweets\"}}},\n",
              "                        {\"responsive\": true}\n",
              "                    ).then(function(){\n",
              "                            \n",
              "var gd = document.getElementById('23d348a5-44a5-4b5b-b5dc-3c4b7d184dfb');\n",
              "var x = new MutationObserver(function (mutations, observer) {{\n",
              "        var display = window.getComputedStyle(gd).display;\n",
              "        if (!display || display === 'none') {{\n",
              "            console.log([gd, 'removed!']);\n",
              "            Plotly.purge(gd);\n",
              "            observer.disconnect();\n",
              "        }}\n",
              "}});\n",
              "\n",
              "// Listen for the removal of the full notebook cells\n",
              "var notebookContainer = gd.closest('#notebook-container');\n",
              "if (notebookContainer) {{\n",
              "    x.observe(notebookContainer, {childList: true});\n",
              "}}\n",
              "\n",
              "// Listen for the clearing of the current output cell\n",
              "var outputEl = gd.closest('.output');\n",
              "if (outputEl) {{\n",
              "    x.observe(outputEl, {childList: true});\n",
              "}}\n",
              "\n",
              "                        })\n",
              "                };\n",
              "                \n",
              "            </script>\n",
              "        </div>\n",
              "</body>\n",
              "</html>"
            ]
          },
          "metadata": {}
        }
      ]
    },
    {
      "cell_type": "code",
      "metadata": {
        "id": "8558guPQ0QF-"
      },
      "source": [
        "# Plot Sterling, Rashford, Kane tweet frequency\n",
        "df = joined_df.resample(INTERVAL, on='created_at')['MarcusRashford', 'sterling7', 'HKane'].sum().reset_index()\n",
        "fig = create_frequency_plot(df, ['MarcusRashford', 'sterling7', 'HKane'], \"Frequency of tweets (aggregated over 60 minute intervals)\", 28)\n",
        "fig.show()"
      ],
      "execution_count": null,
      "outputs": []
    },
    {
      "cell_type": "code",
      "metadata": {
        "id": "B46AVC-r0gD7"
      },
      "source": [
        "# Plot German players\n",
        "df = joined_df.resample(INTERVAL, on='created_at')[germany].sum().reset_index()\n",
        "fig = create_frequency_plot(df, germany, \"Frequency of tweets for German players (aggregated over 60 minute intervals)\", 28)\n",
        "fig.show()\n",
        "\n",
        "# Kroos announced retirement on 2nd July, after they'd been knocked out by England"
      ],
      "execution_count": null,
      "outputs": []
    },
    {
      "cell_type": "code",
      "metadata": {
        "id": "9GmAA92ROqWk"
      },
      "source": [
        "# Plot Netherlands players\n",
        "df = joined_df.resample(INTERVAL, on='created_at')[netherlands].sum().reset_index()\n",
        "fig = create_frequency_plot(df, netherlands, \"Frequency of tweets for Dutch players (aggregated over 60 minute intervals)\", 28)\n",
        "fig.show()"
      ],
      "execution_count": null,
      "outputs": []
    },
    {
      "cell_type": "code",
      "metadata": {
        "id": "BtSQLONMOuJ8"
      },
      "source": [
        "# Plot England players\n",
        "df = joined_df.resample(INTERVAL, on='created_at')[england].sum().reset_index()\n",
        "fig = create_frequency_plot(df, england, \"Frequency of tweets for England players (aggregated over 60 minute intervals)\", 28)\n",
        "fig.show()"
      ],
      "execution_count": null,
      "outputs": []
    },
    {
      "cell_type": "code",
      "metadata": {
        "id": "VpOFutJXOwKl"
      },
      "source": [
        "# Plot Scotland players\n",
        "df = joined_df.resample(INTERVAL, on='created_at')[scotland].sum().reset_index()\n",
        "fig = create_frequency_plot(df, scotland, \"Frequency of tweets for Scottish players (aggregated over 60 minute intervals)\", 28)\n",
        "fig.show()\n",
        "\n",
        "# 25th June - Tierney signs new contract\n",
        "# In days following 18th June - Gilmour has Covid\n",
        "# 2nd July - Gilmour signs for Norwich"
      ],
      "execution_count": null,
      "outputs": []
    },
    {
      "cell_type": "code",
      "metadata": {
        "id": "DisTixrMO0Cl"
      },
      "source": [
        "# Plot Belgian players\n",
        "df = joined_df.resample(INTERVAL, on='created_at')[belgium].sum().reset_index()\n",
        "fig = create_frequency_plot(df, belgium, \"Frequency of tweets for Belgian players (aggregated over 60 minute intervals)\", 28)\n",
        "fig.show()"
      ],
      "execution_count": null,
      "outputs": []
    },
    {
      "cell_type": "code",
      "metadata": {
        "id": "Xp8dIjh_O3P4"
      },
      "source": [
        "# Plot French players\n",
        "df = joined_df.resample(INTERVAL, on='created_at')[france].sum().reset_index()\n",
        "fig = create_frequency_plot(df, france, \"Frequency of tweets for French players (aggregated over 60 minute intervals)\", 28)\n",
        "fig.show()"
      ],
      "execution_count": null,
      "outputs": []
    },
    {
      "cell_type": "code",
      "metadata": {
        "id": "D4kRWC8z04cR"
      },
      "source": [
        "# Plot frequency of offensive tweets\n",
        "df = joined_df.resample(INTERVAL, on='created_at')['contains_slurs_or_offensive_emoji'].sum().reset_index()\n",
        "fig = create_frequency_plot(df, ['contains_slurs_or_offensive_emoji'], \"Frequency of tweets containing HateBase slurs or emoji slurs (aggregated over 60 minute intervals)\", 28)\n",
        "fig.show()"
      ],
      "execution_count": null,
      "outputs": []
    },
    {
      "cell_type": "code",
      "metadata": {
        "id": "z2dEzfJuXPBX"
      },
      "source": [
        "# Plot frequency of offensive tweets for England players\n",
        "df = joined_df.resample(INTERVAL, on='created_at')[[x + '_offensive' for x in england]].sum().reset_index()\n",
        "fig = create_frequency_plot(df, [x + '_offensive' for x in england], \"Frequency of tweets containing HateBase slurs or emoji slurs for England players (aggregated over 60 minute intervals)\", 28)\n",
        "fig.show()"
      ],
      "execution_count": null,
      "outputs": []
    },
    {
      "cell_type": "code",
      "metadata": {
        "id": "iMD1EYZqX-sv"
      },
      "source": [
        "# Plot frequency of offensive tweets for Scotland players\n",
        "df = joined_df.resample(INTERVAL, on='created_at')[[x + '_offensive' for x in scotland]].sum().reset_index()\n",
        "fig = create_frequency_plot(df, [x + '_offensive' for x in scotland], \"Frequency of tweets containing HateBase slurs or emoji slurs for Scotland players (aggregated over 60 minute intervals)\", 28)\n",
        "fig.show()"
      ],
      "execution_count": null,
      "outputs": []
    },
    {
      "cell_type": "code",
      "metadata": {
        "id": "S23ByRvDYHDt"
      },
      "source": [
        "# Plot frequency of offensive tweets for Belgium players\n",
        "df = joined_df.resample(INTERVAL, on='created_at')[[x + '_offensive' for x in belgium]].sum().reset_index()\n",
        "fig = create_frequency_plot(df, [x + '_offensive' for x in belgium], \"Frequency of tweets containing HateBase slurs or emoji slurs for Belgium players (aggregated over 60 minute intervals)\", 28)\n",
        "fig.show()"
      ],
      "execution_count": null,
      "outputs": []
    },
    {
      "cell_type": "code",
      "metadata": {
        "id": "9C8HmndkYTFY"
      },
      "source": [
        "# Plot frequency of offensive tweets for France players\n",
        "df = joined_df.resample(INTERVAL, on='created_at')[[x + '_offensive' for x in france]].sum().reset_index()\n",
        "fig = create_frequency_plot(df, [x + '_offensive' for x in france], \"Frequency of tweets containing HateBase slurs or emoji slurs for France players (aggregated over 60 minute intervals)\", 28)\n",
        "fig.show()"
      ],
      "execution_count": null,
      "outputs": []
    },
    {
      "cell_type": "code",
      "metadata": {
        "id": "x79SgooBYfDQ"
      },
      "source": [
        "# Plot frequency of offensive tweets for Netherlands players\n",
        "df = joined_df.resample(INTERVAL, on='created_at')[[x + '_offensive' for x in netherlands]].sum().reset_index()\n",
        "fig = create_frequency_plot(df, [x + '_offensive' for x in netherlands], \"Frequency of tweets containing HateBase slurs or emoji slurs for Netherlands players (aggregated over 60 minute intervals)\", 28)\n",
        "fig.show()"
      ],
      "execution_count": null,
      "outputs": []
    },
    {
      "cell_type": "code",
      "metadata": {
        "id": "EwTxWw1HYuPX"
      },
      "source": [
        "# Plot frequency of offensive tweets for Germany players\n",
        "df = joined_df.resample(INTERVAL, on='created_at')[[x + '_offensive' for x in germany]].sum().reset_index()\n",
        "fig = create_frequency_plot(df, [x + '_offensive' for x in germany], \"Frequency of tweets containing HateBase slurs or emoji slurs for Germany players (aggregated over 60 minute intervals)\", 28)\n",
        "fig.show()"
      ],
      "execution_count": null,
      "outputs": []
    },
    {
      "cell_type": "markdown",
      "metadata": {
        "id": "oLGzXt3cG1_x"
      },
      "source": [
        "# Visualisations - stack charts"
      ]
    },
    {
      "cell_type": "code",
      "metadata": {
        "id": "qIcmG4AY_S0r"
      },
      "source": [
        "player_offensive_tweet_map.sort_values('offensive_tweets_received', ascending=False, inplace=True)\n",
        "\n",
        "def create_ethnicity_stack_chart(number):\n",
        "    df = player_offensive_tweet_map.head(number)\n",
        "    data0 = go.Bar(\n",
        "        x = df.username,\n",
        "        y = df.ethnicity_tweets_received,\n",
        "        name = 'Ethnicity-related',\n",
        "        text = df.ethnicity_tweets_received,\n",
        "        textposition = 'inside',\n",
        "        texttemplate = '%{text:.2}'\n",
        "    )\n",
        "\n",
        "    data1 = go.Bar(\n",
        "        x = df.username,\n",
        "        y = df.offensive_tweets_received - df.ethnicity_tweets_received,\n",
        "        name = 'Other',\n",
        "        text = df.offensive_tweets_received - df.ethnicity_tweets_received,\n",
        "        textposition = 'inside',\n",
        "        texttemplate = '%{text:.2}'\n",
        "    )\n",
        "\n",
        "    data = [data0, data1]\n",
        "\n",
        "    layout = go.Layout(title = \"Proportion of tweets containing abusive slurs where slurs related to ethnicity\", barmode='stack')\n",
        "\n",
        "    figure = go.Figure(data = data, layout = layout)\n",
        "    figure.show()\n",
        "\n"
      ],
      "execution_count": 26,
      "outputs": []
    },
    {
      "cell_type": "code",
      "metadata": {
        "id": "uWA9t2S7D4by",
        "outputId": "c7b0adf8-a4a0-48e9-aeac-445220ce72b9",
        "colab": {
          "base_uri": "https://localhost:8080/",
          "height": 307
        }
      },
      "source": [
        "create_ethnicity_stack_chart(20)"
      ],
      "execution_count": 27,
      "outputs": [
        {
          "output_type": "error",
          "ename": "AttributeError",
          "evalue": "ignored",
          "traceback": [
            "\u001b[0;31m---------------------------------------------------------------------------\u001b[0m",
            "\u001b[0;31mAttributeError\u001b[0m                            Traceback (most recent call last)",
            "\u001b[0;32m<ipython-input-27-aed7003c300a>\u001b[0m in \u001b[0;36m<module>\u001b[0;34m()\u001b[0m\n\u001b[0;32m----> 1\u001b[0;31m \u001b[0mcreate_ethnicity_stack_chart\u001b[0m\u001b[0;34m(\u001b[0m\u001b[0;36m20\u001b[0m\u001b[0;34m)\u001b[0m\u001b[0;34m\u001b[0m\u001b[0;34m\u001b[0m\u001b[0m\n\u001b[0m",
            "\u001b[0;32m<ipython-input-26-56d27bb01da5>\u001b[0m in \u001b[0;36mcreate_ethnicity_stack_chart\u001b[0;34m(number)\u001b[0m\n\u001b[1;32m      5\u001b[0m     data0 = go.Bar(\n\u001b[1;32m      6\u001b[0m         \u001b[0mx\u001b[0m \u001b[0;34m=\u001b[0m \u001b[0mdf\u001b[0m\u001b[0;34m.\u001b[0m\u001b[0musername\u001b[0m\u001b[0;34m,\u001b[0m\u001b[0;34m\u001b[0m\u001b[0;34m\u001b[0m\u001b[0m\n\u001b[0;32m----> 7\u001b[0;31m         \u001b[0my\u001b[0m \u001b[0;34m=\u001b[0m \u001b[0mdf\u001b[0m\u001b[0;34m.\u001b[0m\u001b[0methnicity_tweets_received\u001b[0m\u001b[0;34m,\u001b[0m\u001b[0;34m\u001b[0m\u001b[0;34m\u001b[0m\u001b[0m\n\u001b[0m\u001b[1;32m      8\u001b[0m         \u001b[0mname\u001b[0m \u001b[0;34m=\u001b[0m \u001b[0;34m'Ethnicity-related'\u001b[0m\u001b[0;34m,\u001b[0m\u001b[0;34m\u001b[0m\u001b[0;34m\u001b[0m\u001b[0m\n\u001b[1;32m      9\u001b[0m         \u001b[0mtext\u001b[0m \u001b[0;34m=\u001b[0m \u001b[0mdf\u001b[0m\u001b[0;34m.\u001b[0m\u001b[0methnicity_tweets_received\u001b[0m\u001b[0;34m,\u001b[0m\u001b[0;34m\u001b[0m\u001b[0;34m\u001b[0m\u001b[0m\n",
            "\u001b[0;32m/usr/local/lib/python3.7/dist-packages/pandas/core/generic.py\u001b[0m in \u001b[0;36m__getattr__\u001b[0;34m(self, name)\u001b[0m\n\u001b[1;32m   5139\u001b[0m             \u001b[0;32mif\u001b[0m \u001b[0mself\u001b[0m\u001b[0;34m.\u001b[0m\u001b[0m_info_axis\u001b[0m\u001b[0;34m.\u001b[0m\u001b[0m_can_hold_identifiers_and_holds_name\u001b[0m\u001b[0;34m(\u001b[0m\u001b[0mname\u001b[0m\u001b[0;34m)\u001b[0m\u001b[0;34m:\u001b[0m\u001b[0;34m\u001b[0m\u001b[0;34m\u001b[0m\u001b[0m\n\u001b[1;32m   5140\u001b[0m                 \u001b[0;32mreturn\u001b[0m \u001b[0mself\u001b[0m\u001b[0;34m[\u001b[0m\u001b[0mname\u001b[0m\u001b[0;34m]\u001b[0m\u001b[0;34m\u001b[0m\u001b[0;34m\u001b[0m\u001b[0m\n\u001b[0;32m-> 5141\u001b[0;31m             \u001b[0;32mreturn\u001b[0m \u001b[0mobject\u001b[0m\u001b[0;34m.\u001b[0m\u001b[0m__getattribute__\u001b[0m\u001b[0;34m(\u001b[0m\u001b[0mself\u001b[0m\u001b[0;34m,\u001b[0m \u001b[0mname\u001b[0m\u001b[0;34m)\u001b[0m\u001b[0;34m\u001b[0m\u001b[0;34m\u001b[0m\u001b[0m\n\u001b[0m\u001b[1;32m   5142\u001b[0m \u001b[0;34m\u001b[0m\u001b[0m\n\u001b[1;32m   5143\u001b[0m     \u001b[0;32mdef\u001b[0m \u001b[0m__setattr__\u001b[0m\u001b[0;34m(\u001b[0m\u001b[0mself\u001b[0m\u001b[0;34m,\u001b[0m \u001b[0mname\u001b[0m\u001b[0;34m:\u001b[0m \u001b[0mstr\u001b[0m\u001b[0;34m,\u001b[0m \u001b[0mvalue\u001b[0m\u001b[0;34m)\u001b[0m \u001b[0;34m->\u001b[0m \u001b[0;32mNone\u001b[0m\u001b[0;34m:\u001b[0m\u001b[0;34m\u001b[0m\u001b[0;34m\u001b[0m\u001b[0m\n",
            "\u001b[0;31mAttributeError\u001b[0m: 'DataFrame' object has no attribute 'ethnicity_tweets_received'"
          ]
        }
      ]
    },
    {
      "cell_type": "code",
      "metadata": {
        "id": "mHC43T17HWsh",
        "outputId": "70d4d415-b5c7-4fc9-9407-a114ed443397",
        "colab": {
          "base_uri": "https://localhost:8080/",
          "height": 542
        }
      },
      "source": [
        "slurs_by_type.sort_values('total', ascending=False, inplace=True)\n",
        "\n",
        "data = go.Bar(\n",
        "    x = slurs_by_type['type'],\n",
        "    y = slurs_by_type.total,\n",
        "    text = slurs_by_type.total,\n",
        "    textposition = 'outside',\n",
        "    texttemplate = '%{text:.2}'\n",
        ")\n",
        "\n",
        "layout = go.Layout(\n",
        "    title= {\n",
        "          'text': \"Tweets containing slurs by type\",\n",
        "          'y':0.9,\n",
        "          'x':0.5,\n",
        "          'xanchor': 'center',\n",
        "          'yanchor': 'top'\n",
        "        },\n",
        "    yaxis_title=\"Number of tweets\",\n",
        "    )\n",
        "\n",
        "figure = go.Figure(data = data, layout = layout)\n",
        "figure.write_html(\"/content/drive/MyDrive/University/Dissertation/images/figure3.html\", include_plotlyjs='cdn')\n",
        "figure.show()"
      ],
      "execution_count": 29,
      "outputs": [
        {
          "output_type": "display_data",
          "data": {
            "text/html": [
              "<html>\n",
              "<head><meta charset=\"utf-8\" /></head>\n",
              "<body>\n",
              "    <div>\n",
              "            <script src=\"https://cdnjs.cloudflare.com/ajax/libs/mathjax/2.7.5/MathJax.js?config=TeX-AMS-MML_SVG\"></script><script type=\"text/javascript\">if (window.MathJax) {MathJax.Hub.Config({SVG: {font: \"STIX-Web\"}});}</script>\n",
              "                <script type=\"text/javascript\">window.PlotlyConfig = {MathJaxConfig: 'local'};</script>\n",
              "        <script src=\"https://cdn.plot.ly/plotly-latest.min.js\"></script>    \n",
              "            <div id=\"3bf7ee74-64e5-4861-956f-94ebbe429a7f\" class=\"plotly-graph-div\" style=\"height:525px; width:100%;\"></div>\n",
              "            <script type=\"text/javascript\">\n",
              "                \n",
              "                    window.PLOTLYENV=window.PLOTLYENV || {};\n",
              "                    \n",
              "                if (document.getElementById(\"3bf7ee74-64e5-4861-956f-94ebbe429a7f\")) {\n",
              "                    Plotly.newPlot(\n",
              "                        '3bf7ee74-64e5-4861-956f-94ebbe429a7f',\n",
              "                        [{\"text\": [2964, 889, 483, 242, 229, 205, 78, 21], \"textposition\": \"outside\", \"texttemplate\": \"%{text:.2}\", \"type\": \"bar\", \"x\": [\"ethnicity\", \"emoji\", \"gender\", \"disability\", \"nationality\", \"class\", \"sexual_orientation\", \"religion\"], \"y\": [2964, 889, 483, 242, 229, 205, 78, 21]}],\n",
              "                        {\"template\": {\"data\": {\"bar\": [{\"error_x\": {\"color\": \"#2a3f5f\"}, \"error_y\": {\"color\": \"#2a3f5f\"}, \"marker\": {\"line\": {\"color\": \"#E5ECF6\", \"width\": 0.5}}, \"type\": \"bar\"}], \"barpolar\": [{\"marker\": {\"line\": {\"color\": \"#E5ECF6\", \"width\": 0.5}}, \"type\": \"barpolar\"}], \"carpet\": [{\"aaxis\": {\"endlinecolor\": \"#2a3f5f\", \"gridcolor\": \"white\", \"linecolor\": \"white\", \"minorgridcolor\": \"white\", \"startlinecolor\": \"#2a3f5f\"}, \"baxis\": {\"endlinecolor\": \"#2a3f5f\", \"gridcolor\": \"white\", \"linecolor\": \"white\", \"minorgridcolor\": \"white\", \"startlinecolor\": \"#2a3f5f\"}, \"type\": \"carpet\"}], \"choropleth\": [{\"colorbar\": {\"outlinewidth\": 0, \"ticks\": \"\"}, \"type\": \"choropleth\"}], \"contour\": [{\"colorbar\": {\"outlinewidth\": 0, \"ticks\": \"\"}, \"colorscale\": [[0.0, \"#0d0887\"], [0.1111111111111111, \"#46039f\"], [0.2222222222222222, \"#7201a8\"], [0.3333333333333333, \"#9c179e\"], [0.4444444444444444, \"#bd3786\"], [0.5555555555555556, \"#d8576b\"], [0.6666666666666666, \"#ed7953\"], [0.7777777777777778, \"#fb9f3a\"], [0.8888888888888888, \"#fdca26\"], [1.0, \"#f0f921\"]], \"type\": \"contour\"}], \"contourcarpet\": [{\"colorbar\": {\"outlinewidth\": 0, \"ticks\": \"\"}, \"type\": \"contourcarpet\"}], \"heatmap\": [{\"colorbar\": {\"outlinewidth\": 0, \"ticks\": \"\"}, \"colorscale\": [[0.0, \"#0d0887\"], [0.1111111111111111, \"#46039f\"], [0.2222222222222222, \"#7201a8\"], [0.3333333333333333, \"#9c179e\"], [0.4444444444444444, \"#bd3786\"], [0.5555555555555556, \"#d8576b\"], [0.6666666666666666, \"#ed7953\"], [0.7777777777777778, \"#fb9f3a\"], [0.8888888888888888, \"#fdca26\"], [1.0, \"#f0f921\"]], \"type\": \"heatmap\"}], \"heatmapgl\": [{\"colorbar\": {\"outlinewidth\": 0, \"ticks\": \"\"}, \"colorscale\": [[0.0, \"#0d0887\"], [0.1111111111111111, \"#46039f\"], [0.2222222222222222, \"#7201a8\"], [0.3333333333333333, \"#9c179e\"], [0.4444444444444444, \"#bd3786\"], [0.5555555555555556, \"#d8576b\"], [0.6666666666666666, \"#ed7953\"], [0.7777777777777778, \"#fb9f3a\"], [0.8888888888888888, \"#fdca26\"], [1.0, \"#f0f921\"]], \"type\": \"heatmapgl\"}], \"histogram\": [{\"marker\": {\"colorbar\": {\"outlinewidth\": 0, \"ticks\": \"\"}}, \"type\": \"histogram\"}], \"histogram2d\": [{\"colorbar\": {\"outlinewidth\": 0, \"ticks\": \"\"}, \"colorscale\": [[0.0, \"#0d0887\"], [0.1111111111111111, \"#46039f\"], [0.2222222222222222, \"#7201a8\"], [0.3333333333333333, \"#9c179e\"], [0.4444444444444444, \"#bd3786\"], [0.5555555555555556, \"#d8576b\"], [0.6666666666666666, \"#ed7953\"], [0.7777777777777778, \"#fb9f3a\"], [0.8888888888888888, \"#fdca26\"], [1.0, \"#f0f921\"]], \"type\": \"histogram2d\"}], \"histogram2dcontour\": [{\"colorbar\": {\"outlinewidth\": 0, \"ticks\": \"\"}, \"colorscale\": [[0.0, \"#0d0887\"], [0.1111111111111111, \"#46039f\"], [0.2222222222222222, \"#7201a8\"], [0.3333333333333333, \"#9c179e\"], [0.4444444444444444, \"#bd3786\"], [0.5555555555555556, \"#d8576b\"], [0.6666666666666666, \"#ed7953\"], [0.7777777777777778, \"#fb9f3a\"], [0.8888888888888888, \"#fdca26\"], [1.0, \"#f0f921\"]], \"type\": \"histogram2dcontour\"}], \"mesh3d\": [{\"colorbar\": {\"outlinewidth\": 0, \"ticks\": \"\"}, \"type\": \"mesh3d\"}], \"parcoords\": [{\"line\": {\"colorbar\": {\"outlinewidth\": 0, \"ticks\": \"\"}}, \"type\": \"parcoords\"}], \"pie\": [{\"automargin\": true, \"type\": \"pie\"}], \"scatter\": [{\"marker\": {\"colorbar\": {\"outlinewidth\": 0, \"ticks\": \"\"}}, \"type\": \"scatter\"}], \"scatter3d\": [{\"line\": {\"colorbar\": {\"outlinewidth\": 0, \"ticks\": \"\"}}, \"marker\": {\"colorbar\": {\"outlinewidth\": 0, \"ticks\": \"\"}}, \"type\": \"scatter3d\"}], \"scattercarpet\": [{\"marker\": {\"colorbar\": {\"outlinewidth\": 0, \"ticks\": \"\"}}, \"type\": \"scattercarpet\"}], \"scattergeo\": [{\"marker\": {\"colorbar\": {\"outlinewidth\": 0, \"ticks\": \"\"}}, \"type\": \"scattergeo\"}], \"scattergl\": [{\"marker\": {\"colorbar\": {\"outlinewidth\": 0, \"ticks\": \"\"}}, \"type\": \"scattergl\"}], \"scattermapbox\": [{\"marker\": {\"colorbar\": {\"outlinewidth\": 0, \"ticks\": \"\"}}, \"type\": \"scattermapbox\"}], \"scatterpolar\": [{\"marker\": {\"colorbar\": {\"outlinewidth\": 0, \"ticks\": \"\"}}, \"type\": \"scatterpolar\"}], \"scatterpolargl\": [{\"marker\": {\"colorbar\": {\"outlinewidth\": 0, \"ticks\": \"\"}}, \"type\": \"scatterpolargl\"}], \"scatterternary\": [{\"marker\": {\"colorbar\": {\"outlinewidth\": 0, \"ticks\": \"\"}}, \"type\": \"scatterternary\"}], \"surface\": [{\"colorbar\": {\"outlinewidth\": 0, \"ticks\": \"\"}, \"colorscale\": [[0.0, \"#0d0887\"], [0.1111111111111111, \"#46039f\"], [0.2222222222222222, \"#7201a8\"], [0.3333333333333333, \"#9c179e\"], [0.4444444444444444, \"#bd3786\"], [0.5555555555555556, \"#d8576b\"], [0.6666666666666666, \"#ed7953\"], [0.7777777777777778, \"#fb9f3a\"], [0.8888888888888888, \"#fdca26\"], [1.0, \"#f0f921\"]], \"type\": \"surface\"}], \"table\": [{\"cells\": {\"fill\": {\"color\": \"#EBF0F8\"}, \"line\": {\"color\": \"white\"}}, \"header\": {\"fill\": {\"color\": \"#C8D4E3\"}, \"line\": {\"color\": \"white\"}}, \"type\": \"table\"}]}, \"layout\": {\"annotationdefaults\": {\"arrowcolor\": \"#2a3f5f\", \"arrowhead\": 0, \"arrowwidth\": 1}, \"coloraxis\": {\"colorbar\": {\"outlinewidth\": 0, \"ticks\": \"\"}}, \"colorscale\": {\"diverging\": [[0, \"#8e0152\"], [0.1, \"#c51b7d\"], [0.2, \"#de77ae\"], [0.3, \"#f1b6da\"], [0.4, \"#fde0ef\"], [0.5, \"#f7f7f7\"], [0.6, \"#e6f5d0\"], [0.7, \"#b8e186\"], [0.8, \"#7fbc41\"], [0.9, \"#4d9221\"], [1, \"#276419\"]], \"sequential\": [[0.0, \"#0d0887\"], [0.1111111111111111, \"#46039f\"], [0.2222222222222222, \"#7201a8\"], [0.3333333333333333, \"#9c179e\"], [0.4444444444444444, \"#bd3786\"], [0.5555555555555556, \"#d8576b\"], [0.6666666666666666, \"#ed7953\"], [0.7777777777777778, \"#fb9f3a\"], [0.8888888888888888, \"#fdca26\"], [1.0, \"#f0f921\"]], \"sequentialminus\": [[0.0, \"#0d0887\"], [0.1111111111111111, \"#46039f\"], [0.2222222222222222, \"#7201a8\"], [0.3333333333333333, \"#9c179e\"], [0.4444444444444444, \"#bd3786\"], [0.5555555555555556, \"#d8576b\"], [0.6666666666666666, \"#ed7953\"], [0.7777777777777778, \"#fb9f3a\"], [0.8888888888888888, \"#fdca26\"], [1.0, \"#f0f921\"]]}, \"colorway\": [\"#636efa\", \"#EF553B\", \"#00cc96\", \"#ab63fa\", \"#FFA15A\", \"#19d3f3\", \"#FF6692\", \"#B6E880\", \"#FF97FF\", \"#FECB52\"], \"font\": {\"color\": \"#2a3f5f\"}, \"geo\": {\"bgcolor\": \"white\", \"lakecolor\": \"white\", \"landcolor\": \"#E5ECF6\", \"showlakes\": true, \"showland\": true, \"subunitcolor\": \"white\"}, \"hoverlabel\": {\"align\": \"left\"}, \"hovermode\": \"closest\", \"mapbox\": {\"style\": \"light\"}, \"paper_bgcolor\": \"white\", \"plot_bgcolor\": \"#E5ECF6\", \"polar\": {\"angularaxis\": {\"gridcolor\": \"white\", \"linecolor\": \"white\", \"ticks\": \"\"}, \"bgcolor\": \"#E5ECF6\", \"radialaxis\": {\"gridcolor\": \"white\", \"linecolor\": \"white\", \"ticks\": \"\"}}, \"scene\": {\"xaxis\": {\"backgroundcolor\": \"#E5ECF6\", \"gridcolor\": \"white\", \"gridwidth\": 2, \"linecolor\": \"white\", \"showbackground\": true, \"ticks\": \"\", \"zerolinecolor\": \"white\"}, \"yaxis\": {\"backgroundcolor\": \"#E5ECF6\", \"gridcolor\": \"white\", \"gridwidth\": 2, \"linecolor\": \"white\", \"showbackground\": true, \"ticks\": \"\", \"zerolinecolor\": \"white\"}, \"zaxis\": {\"backgroundcolor\": \"#E5ECF6\", \"gridcolor\": \"white\", \"gridwidth\": 2, \"linecolor\": \"white\", \"showbackground\": true, \"ticks\": \"\", \"zerolinecolor\": \"white\"}}, \"shapedefaults\": {\"line\": {\"color\": \"#2a3f5f\"}}, \"ternary\": {\"aaxis\": {\"gridcolor\": \"white\", \"linecolor\": \"white\", \"ticks\": \"\"}, \"baxis\": {\"gridcolor\": \"white\", \"linecolor\": \"white\", \"ticks\": \"\"}, \"bgcolor\": \"#E5ECF6\", \"caxis\": {\"gridcolor\": \"white\", \"linecolor\": \"white\", \"ticks\": \"\"}}, \"title\": {\"x\": 0.05}, \"xaxis\": {\"automargin\": true, \"gridcolor\": \"white\", \"linecolor\": \"white\", \"ticks\": \"\", \"title\": {\"standoff\": 15}, \"zerolinecolor\": \"white\", \"zerolinewidth\": 2}, \"yaxis\": {\"automargin\": true, \"gridcolor\": \"white\", \"linecolor\": \"white\", \"ticks\": \"\", \"title\": {\"standoff\": 15}, \"zerolinecolor\": \"white\", \"zerolinewidth\": 2}}}, \"title\": {\"text\": \"Tweets containing slurs by type\", \"x\": 0.5, \"xanchor\": \"center\", \"y\": 0.9, \"yanchor\": \"top\"}, \"yaxis\": {\"title\": {\"text\": \"Number of tweets\"}}},\n",
              "                        {\"responsive\": true}\n",
              "                    ).then(function(){\n",
              "                            \n",
              "var gd = document.getElementById('3bf7ee74-64e5-4861-956f-94ebbe429a7f');\n",
              "var x = new MutationObserver(function (mutations, observer) {{\n",
              "        var display = window.getComputedStyle(gd).display;\n",
              "        if (!display || display === 'none') {{\n",
              "            console.log([gd, 'removed!']);\n",
              "            Plotly.purge(gd);\n",
              "            observer.disconnect();\n",
              "        }}\n",
              "}});\n",
              "\n",
              "// Listen for the removal of the full notebook cells\n",
              "var notebookContainer = gd.closest('#notebook-container');\n",
              "if (notebookContainer) {{\n",
              "    x.observe(notebookContainer, {childList: true});\n",
              "}}\n",
              "\n",
              "// Listen for the clearing of the current output cell\n",
              "var outputEl = gd.closest('.output');\n",
              "if (outputEl) {{\n",
              "    x.observe(outputEl, {childList: true});\n",
              "}}\n",
              "\n",
              "                        })\n",
              "                };\n",
              "                \n",
              "            </script>\n",
              "        </div>\n",
              "</body>\n",
              "</html>"
            ]
          },
          "metadata": {}
        }
      ]
    }
  ]
}