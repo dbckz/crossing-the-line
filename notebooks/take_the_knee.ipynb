{
  "nbformat": 4,
  "nbformat_minor": 0,
  "metadata": {
    "colab": {
      "name": "take_the_knee.ipynb",
      "provenance": [],
      "authorship_tag": "ABX9TyPBDGriEcPTk6HfZyt6FXXe",
      "include_colab_link": true
    },
    "kernelspec": {
      "name": "python3",
      "display_name": "Python 3"
    },
    "language_info": {
      "name": "python"
    }
  },
  "cells": [
    {
      "cell_type": "markdown",
      "metadata": {
        "id": "view-in-github",
        "colab_type": "text"
      },
      "source": [
        "<a href=\"https://colab.research.google.com/github/dbckz/dissertation/blob/master/notebooks/take_the_knee.ipynb\" target=\"_parent\"><img src=\"https://colab.research.google.com/assets/colab-badge.svg\" alt=\"Open In Colab\"/></a>"
      ]
    },
    {
      "cell_type": "code",
      "metadata": {
        "id": "VUXdIfSWPOJl"
      },
      "source": [
        "import pandas as pd\n",
        "import ast\n",
        "import os\n",
        "import numpy as np\n",
        "import matplotlib.pyplot as plt\n",
        "from wordcloud import WordCloud\n",
        "from tqdm import tqdm\n",
        "from google.colab import drive\n",
        "import plotly.graph_objects as go"
      ],
      "execution_count": 2,
      "outputs": []
    },
    {
      "cell_type": "code",
      "metadata": {
        "colab": {
          "base_uri": "https://localhost:8080/"
        },
        "id": "cxUgHshlPYm2",
        "outputId": "7cffec07-5ef8-4063-b1ec-99bd617c33aa"
      },
      "source": [
        "drive.mount('/content/drive')"
      ],
      "execution_count": 3,
      "outputs": [
        {
          "output_type": "stream",
          "text": [
            "Mounted at /content/drive\n"
          ],
          "name": "stdout"
        }
      ]
    },
    {
      "cell_type": "code",
      "metadata": {
        "id": "VwF1reerPfOd"
      },
      "source": [
        "# Set up paths\n",
        "root_path = \"/content/drive/MyDrive/University/Dissertation/data_collection\"\n",
        "graph_path = root_path + \"/graphs\"\n",
        "\n",
        "day_paths = day_paths = [\n",
        "        \"/01\",\n",
        "        \"/02\",\n",
        "        \"/03\",\n",
        "        \"/04\",\n",
        "        \"/05\",\n",
        "        \"/06\",\n",
        "        \"/07\",\n",
        "        \"/08\",\n",
        "        \"/09\",\n",
        "        \"/10\",\n",
        "        \"/11\",\n",
        "        \"/12\",\n",
        "        \"/13\",\n",
        "        \"/14\",\n",
        "        \"/15\",\n",
        "        \"/16\",\n",
        "        \"/17\",\n",
        "        \"/18\",\n",
        "        \"/19\",\n",
        "        \"/20\",\n",
        "        \"/21\",\n",
        "        \"/22\",\n",
        "        \"/23\",\n",
        "        \"/24\",\n",
        "        \"/25\",\n",
        "        \"/26\",\n",
        "        \"/27\",\n",
        "        \"/28\",\n",
        "        \"/29\",\n",
        "        \"/30\",\n",
        "        \"/31\",\n",
        "        \"/32\",\n",
        "        \"/33\",\n",
        "        \"/34\",\n",
        "        \"/35\",\n",
        "        \"/36\"\n",
        "    ]"
      ],
      "execution_count": 27,
      "outputs": []
    },
    {
      "cell_type": "code",
      "metadata": {
        "id": "tQ5QTfDmPjq7"
      },
      "source": [
        "# Create directory to store visualisations\n",
        "try:\n",
        "    os.mkdir(graph_path)\n",
        "except OSError as error:\n",
        "    print(error)"
      ],
      "execution_count": null,
      "outputs": []
    },
    {
      "cell_type": "code",
      "metadata": {
        "colab": {
          "base_uri": "https://localhost:8080/"
        },
        "id": "i90lcLn6PkG6",
        "outputId": "ca8c079c-1bf1-4800-d7ab-d16f6b7a0e57"
      },
      "source": [
        "# Load data\n",
        "in_tweets = pd.DataFrame()\n",
        "hb_guard = pd.DataFrame()\n",
        "for path in day_paths:\n",
        "    directory = root_path + path\n",
        "    tweets_csv = directory + \"/tweets.csv\"\n",
        "    matched_terms_csv = directory + \"/hatebase_processed_tweets.csv\"\n",
        "\n",
        "    print(f\"Loading CSVs for directory {path}...\")\n",
        "    in_tweets = pd.concat([in_tweets, \n",
        "                           pd.read_csv(tweets_csv,\n",
        "                                       usecols = [\n",
        "                                                  'created_at',\n",
        "                                                  'tweet_id',\n",
        "                                                  'tweet_text',\n",
        "                                                  'accounts_mentioned'\n",
        "                                       ],\n",
        "                                       dtype = {\n",
        "                                          # 'created_at':\n",
        "                                          'tweet_id': np.int64,\n",
        "                                          'tweet_text': str,\n",
        "                                          'accounts_mentioned': object\n",
        "                                       },\n",
        "                                       parse_dates=['created_at'])])\n",
        "\n",
        "    hb_guard = pd.concat([hb_guard, pd.read_csv(matched_terms_csv,\n",
        "                                                usecols = [\n",
        "                                                           'tweet_id',\n",
        "                                                           'matching_hatebase_terms_over_70',\n",
        "                                                           'matching_hatebase_terms_ethnicity_over_70',\n",
        "                                                           'matching_hatebase_terms_nationality_over_70',\n",
        "                                                           'matching_hatebase_terms_gender_over_70',\n",
        "                                                           'matching_hatebase_terms_sexual_orientation_over_70',\n",
        "                                                           'matching_hatebase_terms_class_over_70',\n",
        "                                                           'matching_hatebase_terms_religion_over_70',\n",
        "                                                           'matching_hatebase_terms_disability_over_70'\n",
        "                                                ],\n",
        "                                                dtype = {\n",
        "                                                    'tweet_id': np.int64,\n",
        "                                                    'matching_hatebase_terms_over_70': str,\n",
        "                                                    'matching_hatebase_terms_ethnicity_over_70': str,\n",
        "                                                    'matching_hatebase_terms_nationality_over_70': str,\n",
        "                                                    'matching_hatebase_terms_gender_over_70': str,\n",
        "                                                    'matching_hatebase_terms_sexual_orientation_over_70': str,\n",
        "                                                    'matching_hatebase_terms_class_over_70': str,\n",
        "                                                    'matching_hatebase_terms_religion_over_70': str,\n",
        "                                                    'matching_hatebase_terms_disability_over_70': str\n",
        "                                                })])"
      ],
      "execution_count": 87,
      "outputs": [
        {
          "output_type": "stream",
          "text": [
            "Loading CSVs for directory /01...\n",
            "Loading CSVs for directory /02...\n",
            "Loading CSVs for directory /03...\n",
            "Loading CSVs for directory /04...\n",
            "Loading CSVs for directory /05...\n",
            "Loading CSVs for directory /06...\n",
            "Loading CSVs for directory /07...\n",
            "Loading CSVs for directory /08...\n",
            "Loading CSVs for directory /09...\n",
            "Loading CSVs for directory /10...\n",
            "Loading CSVs for directory /11...\n",
            "Loading CSVs for directory /12...\n",
            "Loading CSVs for directory /13...\n",
            "Loading CSVs for directory /14...\n",
            "Loading CSVs for directory /15...\n",
            "Loading CSVs for directory /16...\n",
            "Loading CSVs for directory /17...\n",
            "Loading CSVs for directory /18...\n",
            "Loading CSVs for directory /19...\n",
            "Loading CSVs for directory /20...\n",
            "Loading CSVs for directory /21...\n",
            "Loading CSVs for directory /22...\n",
            "Loading CSVs for directory /23...\n",
            "Loading CSVs for directory /24...\n",
            "Loading CSVs for directory /25...\n",
            "Loading CSVs for directory /26...\n",
            "Loading CSVs for directory /27...\n",
            "Loading CSVs for directory /28...\n",
            "Loading CSVs for directory /29...\n",
            "Loading CSVs for directory /30...\n",
            "Loading CSVs for directory /31...\n",
            "Loading CSVs for directory /32...\n",
            "Loading CSVs for directory /33...\n",
            "Loading CSVs for directory /34...\n",
            "Loading CSVs for directory /35...\n",
            "Loading CSVs for directory /36...\n"
          ],
          "name": "stdout"
        }
      ]
    },
    {
      "cell_type": "code",
      "metadata": {
        "colab": {
          "base_uri": "https://localhost:8080/"
        },
        "id": "3U9qnfoVRbna",
        "outputId": "d79e8236-8eef-460e-94d1-52eb2bc265a3"
      },
      "source": [
        "# Dedup\n",
        "original_tweets_length = len(in_tweets)\n",
        "original_hatebase_length = len(hb_guard)\n",
        "in_tweets.drop_duplicates(subset=['tweet_id'], inplace=True)\n",
        "hb_guard.drop_duplicates(subset=['tweet_id'], inplace=True)\n",
        "print(f\"Size of tweets dataframe: {len(in_tweets)}, having dropped {original_tweets_length - len(in_tweets)} duplicate rows\")\n",
        "print(f\"Size of hatebase dataframe: {len(hb_guard)}, having dropped {original_hatebase_length - len(hb_guard)} duplicate rows\")"
      ],
      "execution_count": 88,
      "outputs": [
        {
          "output_type": "stream",
          "text": [
            "Size of tweets dataframe: 1478009, having dropped 133 duplicate rows\n",
            "Size of hatebase dataframe: 1478009, having dropped 133 duplicate rows\n"
          ],
          "name": "stdout"
        }
      ]
    },
    {
      "cell_type": "code",
      "metadata": {
        "colab": {
          "base_uri": "https://localhost:8080/"
        },
        "id": "cJwqxGVTSRjy",
        "outputId": "4dc86df8-627b-4ba4-a4fc-3703fb823c94"
      },
      "source": [
        "# Join tables + drop old ones!\n",
        "joined_df = pd.merge(in_tweets, hb_guard, how='outer', on='tweet_id')\n",
        "original_joined_length = len(joined_df)\n",
        "del hb_guard\n",
        "del in_tweets\n",
        "\n",
        "joined_df = joined_df[joined_df['tweet_text'].str.contains(\"(?i)#taketheknee|#bootheknee\")]\n",
        "print(f\"Size of joined dataframe: {len(joined_df)}, having dropped {original_joined_length - len(joined_df)} non-knee-related tweets\")"
      ],
      "execution_count": 89,
      "outputs": [
        {
          "output_type": "stream",
          "text": [
            "Size of joined dataframe: 13928, having dropped 1464081 non-knee-related tweets\n"
          ],
          "name": "stdout"
        }
      ]
    },
    {
      "cell_type": "code",
      "metadata": {
        "colab": {
          "base_uri": "https://localhost:8080/"
        },
        "id": "2_PhZnFeSXZF",
        "outputId": "5b318151-ad6b-4dfa-8f53-8b0e59d9ea44"
      },
      "source": [
        "joined_df['boo_tag'] = joined_df['tweet_text'].str.contains(\"(?i)bootheknee\").astype(np.bool)\n",
        "joined_df['take_tag'] = joined_df['tweet_text'].str.contains(\"(?i)taketheknee\").astype(np.bool)\n",
        "print(f\"{joined_df['take_tag'].sum()} #TakeTheKnee tweets\")\n",
        "print(f\"{joined_df['boo_tag'].sum()} #BooTheKnee tweets\")"
      ],
      "execution_count": 90,
      "outputs": [
        {
          "output_type": "stream",
          "text": [
            "12920 #TakeTheKnee tweets\n",
            "1035 #BooTheKnee tweets\n"
          ],
          "name": "stdout"
        }
      ]
    },
    {
      "cell_type": "code",
      "metadata": {
        "colab": {
          "base_uri": "https://localhost:8080/"
        },
        "id": "e-uqzhK6bMGW",
        "outputId": "c8b48ac0-17b8-478e-b548-90826ce92c87"
      },
      "source": [
        "joined_df.info()"
      ],
      "execution_count": 91,
      "outputs": [
        {
          "output_type": "stream",
          "text": [
            "<class 'pandas.core.frame.DataFrame'>\n",
            "Int64Index: 13928 entries, 11519 to 1477768\n",
            "Data columns (total 14 columns):\n",
            " #   Column                                              Non-Null Count  Dtype              \n",
            "---  ------                                              --------------  -----              \n",
            " 0   tweet_text                                          13928 non-null  object             \n",
            " 1   tweet_id                                            13928 non-null  int64              \n",
            " 2   created_at                                          13928 non-null  datetime64[ns, UTC]\n",
            " 3   accounts_mentioned                                  13928 non-null  object             \n",
            " 4   matching_hatebase_terms_over_70                     13928 non-null  object             \n",
            " 5   matching_hatebase_terms_nationality_over_70         13928 non-null  object             \n",
            " 6   matching_hatebase_terms_ethnicity_over_70           13928 non-null  object             \n",
            " 7   matching_hatebase_terms_religion_over_70            13928 non-null  object             \n",
            " 8   matching_hatebase_terms_gender_over_70              13928 non-null  object             \n",
            " 9   matching_hatebase_terms_sexual_orientation_over_70  13928 non-null  object             \n",
            " 10  matching_hatebase_terms_disability_over_70          13928 non-null  object             \n",
            " 11  matching_hatebase_terms_class_over_70               13928 non-null  object             \n",
            " 12  boo_tag                                             13928 non-null  bool               \n",
            " 13  take_tag                                            13928 non-null  bool               \n",
            "dtypes: bool(2), datetime64[ns, UTC](1), int64(1), object(10)\n",
            "memory usage: 1.4+ MB\n"
          ],
          "name": "stdout"
        }
      ]
    },
    {
      "cell_type": "code",
      "metadata": {
        "colab": {
          "base_uri": "https://localhost:8080/",
          "height": 542
        },
        "id": "SaeJa1veVfpg",
        "outputId": "8c7f5f10-0609-4a09-f874-d4b4016b210f"
      },
      "source": [
        "df = joined_df.resample(pd.offsets.Hour(24), on='created_at')['boo_tag', 'take_tag'].sum().reset_index()\n",
        "\n",
        "data0 = go.Bar(\n",
        "    x = df.created_at,\n",
        "    y = df.boo_tag,\n",
        "    name = '#BooTheKnee',\n",
        "    text = df.boo_tag,\n",
        "    textposition = 'inside'\n",
        "    # texttemplate = '%{text:.2}'\n",
        ")\n",
        "\n",
        "data1 = go.Bar(\n",
        "    x = df.created_at,\n",
        "    y = df.take_tag,\n",
        "    name = '#TakeTheKnee',\n",
        "    text = df.take_tag,\n",
        "    textposition = 'inside'\n",
        "    # texttemplate = '%{text:.2}'\n",
        ")\n",
        "\n",
        "data = [data0, data1]\n",
        "\n",
        "layout = go.Layout(title = \"Taking of the knee\", barmode='group')\n",
        "\n",
        "figure = go.Figure(data = data, layout = layout)\n",
        "figure.show()"
      ],
      "execution_count": 92,
      "outputs": [
        {
          "output_type": "display_data",
          "data": {
            "text/html": [
              "<html>\n",
              "<head><meta charset=\"utf-8\" /></head>\n",
              "<body>\n",
              "    <div>\n",
              "            <script src=\"https://cdnjs.cloudflare.com/ajax/libs/mathjax/2.7.5/MathJax.js?config=TeX-AMS-MML_SVG\"></script><script type=\"text/javascript\">if (window.MathJax) {MathJax.Hub.Config({SVG: {font: \"STIX-Web\"}});}</script>\n",
              "                <script type=\"text/javascript\">window.PlotlyConfig = {MathJaxConfig: 'local'};</script>\n",
              "        <script src=\"https://cdn.plot.ly/plotly-latest.min.js\"></script>    \n",
              "            <div id=\"74d88580-6d4d-4133-99a8-dd86eb45a1a8\" class=\"plotly-graph-div\" style=\"height:525px; width:100%;\"></div>\n",
              "            <script type=\"text/javascript\">\n",
              "                \n",
              "                    window.PLOTLYENV=window.PLOTLYENV || {};\n",
              "                    \n",
              "                if (document.getElementById(\"74d88580-6d4d-4133-99a8-dd86eb45a1a8\")) {\n",
              "                    Plotly.newPlot(\n",
              "                        '74d88580-6d4d-4133-99a8-dd86eb45a1a8',\n",
              "                        [{\"name\": \"#BooTheKnee\", \"text\": [17.0, 314.0, 63.0, 20.0, 3.0, 0.0, 76.0, 19.0, 46.0, 39.0, 34.0, 7.0, 8.0, 1.0, 13.0, 7.0, 3.0, 28.0, 5.0, 1.0, 5.0, 20.0, 21.0, 4.0, 7.0, 65.0, 35.0, 9.0, 16.0, 26.0, 19.0, 19.0, 30.0, 11.0, 32.0, 11.0, 0.0, 1.0], \"textposition\": \"inside\", \"type\": \"bar\", \"x\": [\"2021-06-12T00:00:00+00:00\", \"2021-06-13T00:00:00+00:00\", \"2021-06-14T00:00:00+00:00\", \"2021-06-15T00:00:00+00:00\", \"2021-06-16T00:00:00+00:00\", \"2021-06-17T00:00:00+00:00\", \"2021-06-18T00:00:00+00:00\", \"2021-06-19T00:00:00+00:00\", \"2021-06-20T00:00:00+00:00\", \"2021-06-21T00:00:00+00:00\", \"2021-06-22T00:00:00+00:00\", \"2021-06-23T00:00:00+00:00\", \"2021-06-24T00:00:00+00:00\", \"2021-06-25T00:00:00+00:00\", \"2021-06-26T00:00:00+00:00\", \"2021-06-27T00:00:00+00:00\", \"2021-06-28T00:00:00+00:00\", \"2021-06-29T00:00:00+00:00\", \"2021-06-30T00:00:00+00:00\", \"2021-07-01T00:00:00+00:00\", \"2021-07-02T00:00:00+00:00\", \"2021-07-03T00:00:00+00:00\", \"2021-07-04T00:00:00+00:00\", \"2021-07-05T00:00:00+00:00\", \"2021-07-06T00:00:00+00:00\", \"2021-07-07T00:00:00+00:00\", \"2021-07-08T00:00:00+00:00\", \"2021-07-09T00:00:00+00:00\", \"2021-07-10T00:00:00+00:00\", \"2021-07-11T00:00:00+00:00\", \"2021-07-12T00:00:00+00:00\", \"2021-07-13T00:00:00+00:00\", \"2021-07-14T00:00:00+00:00\", \"2021-07-15T00:00:00+00:00\", \"2021-07-16T00:00:00+00:00\", \"2021-07-17T00:00:00+00:00\", \"2021-07-18T00:00:00+00:00\", \"2021-07-19T00:00:00+00:00\"], \"y\": [17, 314, 63, 20, 3, 0, 76, 19, 46, 39, 34, 7, 8, 1, 13, 7, 3, 28, 5, 1, 5, 20, 21, 4, 7, 65, 35, 9, 16, 26, 19, 19, 30, 11, 32, 11, 0, 1]}, {\"name\": \"#TakeTheKnee\", \"text\": [5.0, 27.0, 10.0, 8.0, 20.0, 0.0, 434.0, 102.0, 61.0, 34.0, 79.0, 36.0, 55.0, 18.0, 18.0, 12.0, 62.0, 253.0, 146.0, 22.0, 46.0, 401.0, 482.0, 525.0, 52.0, 222.0, 192.0, 89.0, 184.0, 612.0, 2764.0, 2485.0, 1296.0, 964.0, 590.0, 334.0, 219.0, 61.0], \"textposition\": \"inside\", \"type\": \"bar\", \"x\": [\"2021-06-12T00:00:00+00:00\", \"2021-06-13T00:00:00+00:00\", \"2021-06-14T00:00:00+00:00\", \"2021-06-15T00:00:00+00:00\", \"2021-06-16T00:00:00+00:00\", \"2021-06-17T00:00:00+00:00\", \"2021-06-18T00:00:00+00:00\", \"2021-06-19T00:00:00+00:00\", \"2021-06-20T00:00:00+00:00\", \"2021-06-21T00:00:00+00:00\", \"2021-06-22T00:00:00+00:00\", \"2021-06-23T00:00:00+00:00\", \"2021-06-24T00:00:00+00:00\", \"2021-06-25T00:00:00+00:00\", \"2021-06-26T00:00:00+00:00\", \"2021-06-27T00:00:00+00:00\", \"2021-06-28T00:00:00+00:00\", \"2021-06-29T00:00:00+00:00\", \"2021-06-30T00:00:00+00:00\", \"2021-07-01T00:00:00+00:00\", \"2021-07-02T00:00:00+00:00\", \"2021-07-03T00:00:00+00:00\", \"2021-07-04T00:00:00+00:00\", \"2021-07-05T00:00:00+00:00\", \"2021-07-06T00:00:00+00:00\", \"2021-07-07T00:00:00+00:00\", \"2021-07-08T00:00:00+00:00\", \"2021-07-09T00:00:00+00:00\", \"2021-07-10T00:00:00+00:00\", \"2021-07-11T00:00:00+00:00\", \"2021-07-12T00:00:00+00:00\", \"2021-07-13T00:00:00+00:00\", \"2021-07-14T00:00:00+00:00\", \"2021-07-15T00:00:00+00:00\", \"2021-07-16T00:00:00+00:00\", \"2021-07-17T00:00:00+00:00\", \"2021-07-18T00:00:00+00:00\", \"2021-07-19T00:00:00+00:00\"], \"y\": [5, 27, 10, 8, 20, 0, 434, 102, 61, 34, 79, 36, 55, 18, 18, 12, 62, 253, 146, 22, 46, 401, 482, 525, 52, 222, 192, 89, 184, 612, 2764, 2485, 1296, 964, 590, 334, 219, 61]}],\n",
              "                        {\"barmode\": \"group\", \"template\": {\"data\": {\"bar\": [{\"error_x\": {\"color\": \"#2a3f5f\"}, \"error_y\": {\"color\": \"#2a3f5f\"}, \"marker\": {\"line\": {\"color\": \"#E5ECF6\", \"width\": 0.5}}, \"type\": \"bar\"}], \"barpolar\": [{\"marker\": {\"line\": {\"color\": \"#E5ECF6\", \"width\": 0.5}}, \"type\": \"barpolar\"}], \"carpet\": [{\"aaxis\": {\"endlinecolor\": \"#2a3f5f\", \"gridcolor\": \"white\", \"linecolor\": \"white\", \"minorgridcolor\": \"white\", \"startlinecolor\": \"#2a3f5f\"}, \"baxis\": {\"endlinecolor\": \"#2a3f5f\", \"gridcolor\": \"white\", \"linecolor\": \"white\", \"minorgridcolor\": \"white\", \"startlinecolor\": \"#2a3f5f\"}, \"type\": \"carpet\"}], \"choropleth\": [{\"colorbar\": {\"outlinewidth\": 0, \"ticks\": \"\"}, \"type\": \"choropleth\"}], \"contour\": [{\"colorbar\": {\"outlinewidth\": 0, \"ticks\": \"\"}, \"colorscale\": [[0.0, \"#0d0887\"], [0.1111111111111111, \"#46039f\"], [0.2222222222222222, \"#7201a8\"], [0.3333333333333333, \"#9c179e\"], [0.4444444444444444, \"#bd3786\"], [0.5555555555555556, \"#d8576b\"], [0.6666666666666666, \"#ed7953\"], [0.7777777777777778, \"#fb9f3a\"], [0.8888888888888888, \"#fdca26\"], [1.0, \"#f0f921\"]], \"type\": \"contour\"}], \"contourcarpet\": [{\"colorbar\": {\"outlinewidth\": 0, \"ticks\": \"\"}, \"type\": \"contourcarpet\"}], \"heatmap\": [{\"colorbar\": {\"outlinewidth\": 0, \"ticks\": \"\"}, \"colorscale\": [[0.0, \"#0d0887\"], [0.1111111111111111, \"#46039f\"], [0.2222222222222222, \"#7201a8\"], [0.3333333333333333, \"#9c179e\"], [0.4444444444444444, \"#bd3786\"], [0.5555555555555556, \"#d8576b\"], [0.6666666666666666, \"#ed7953\"], [0.7777777777777778, \"#fb9f3a\"], [0.8888888888888888, \"#fdca26\"], [1.0, \"#f0f921\"]], \"type\": \"heatmap\"}], \"heatmapgl\": [{\"colorbar\": {\"outlinewidth\": 0, \"ticks\": \"\"}, \"colorscale\": [[0.0, \"#0d0887\"], [0.1111111111111111, \"#46039f\"], [0.2222222222222222, \"#7201a8\"], [0.3333333333333333, \"#9c179e\"], [0.4444444444444444, \"#bd3786\"], [0.5555555555555556, \"#d8576b\"], [0.6666666666666666, \"#ed7953\"], [0.7777777777777778, \"#fb9f3a\"], [0.8888888888888888, \"#fdca26\"], [1.0, \"#f0f921\"]], \"type\": \"heatmapgl\"}], \"histogram\": [{\"marker\": {\"colorbar\": {\"outlinewidth\": 0, \"ticks\": \"\"}}, \"type\": \"histogram\"}], \"histogram2d\": [{\"colorbar\": {\"outlinewidth\": 0, \"ticks\": \"\"}, \"colorscale\": [[0.0, \"#0d0887\"], [0.1111111111111111, \"#46039f\"], [0.2222222222222222, \"#7201a8\"], [0.3333333333333333, \"#9c179e\"], [0.4444444444444444, \"#bd3786\"], [0.5555555555555556, \"#d8576b\"], [0.6666666666666666, \"#ed7953\"], [0.7777777777777778, \"#fb9f3a\"], [0.8888888888888888, \"#fdca26\"], [1.0, \"#f0f921\"]], \"type\": \"histogram2d\"}], \"histogram2dcontour\": [{\"colorbar\": {\"outlinewidth\": 0, \"ticks\": \"\"}, \"colorscale\": [[0.0, \"#0d0887\"], [0.1111111111111111, \"#46039f\"], [0.2222222222222222, \"#7201a8\"], [0.3333333333333333, \"#9c179e\"], [0.4444444444444444, \"#bd3786\"], [0.5555555555555556, \"#d8576b\"], [0.6666666666666666, \"#ed7953\"], [0.7777777777777778, \"#fb9f3a\"], [0.8888888888888888, \"#fdca26\"], [1.0, \"#f0f921\"]], \"type\": \"histogram2dcontour\"}], \"mesh3d\": [{\"colorbar\": {\"outlinewidth\": 0, \"ticks\": \"\"}, \"type\": \"mesh3d\"}], \"parcoords\": [{\"line\": {\"colorbar\": {\"outlinewidth\": 0, \"ticks\": \"\"}}, \"type\": \"parcoords\"}], \"pie\": [{\"automargin\": true, \"type\": \"pie\"}], \"scatter\": [{\"marker\": {\"colorbar\": {\"outlinewidth\": 0, \"ticks\": \"\"}}, \"type\": \"scatter\"}], \"scatter3d\": [{\"line\": {\"colorbar\": {\"outlinewidth\": 0, \"ticks\": \"\"}}, \"marker\": {\"colorbar\": {\"outlinewidth\": 0, \"ticks\": \"\"}}, \"type\": \"scatter3d\"}], \"scattercarpet\": [{\"marker\": {\"colorbar\": {\"outlinewidth\": 0, \"ticks\": \"\"}}, \"type\": \"scattercarpet\"}], \"scattergeo\": [{\"marker\": {\"colorbar\": {\"outlinewidth\": 0, \"ticks\": \"\"}}, \"type\": \"scattergeo\"}], \"scattergl\": [{\"marker\": {\"colorbar\": {\"outlinewidth\": 0, \"ticks\": \"\"}}, \"type\": \"scattergl\"}], \"scattermapbox\": [{\"marker\": {\"colorbar\": {\"outlinewidth\": 0, \"ticks\": \"\"}}, \"type\": \"scattermapbox\"}], \"scatterpolar\": [{\"marker\": {\"colorbar\": {\"outlinewidth\": 0, \"ticks\": \"\"}}, \"type\": \"scatterpolar\"}], \"scatterpolargl\": [{\"marker\": {\"colorbar\": {\"outlinewidth\": 0, \"ticks\": \"\"}}, \"type\": \"scatterpolargl\"}], \"scatterternary\": [{\"marker\": {\"colorbar\": {\"outlinewidth\": 0, \"ticks\": \"\"}}, \"type\": \"scatterternary\"}], \"surface\": [{\"colorbar\": {\"outlinewidth\": 0, \"ticks\": \"\"}, \"colorscale\": [[0.0, \"#0d0887\"], [0.1111111111111111, \"#46039f\"], [0.2222222222222222, \"#7201a8\"], [0.3333333333333333, \"#9c179e\"], [0.4444444444444444, \"#bd3786\"], [0.5555555555555556, \"#d8576b\"], [0.6666666666666666, \"#ed7953\"], [0.7777777777777778, \"#fb9f3a\"], [0.8888888888888888, \"#fdca26\"], [1.0, \"#f0f921\"]], \"type\": \"surface\"}], \"table\": [{\"cells\": {\"fill\": {\"color\": \"#EBF0F8\"}, \"line\": {\"color\": \"white\"}}, \"header\": {\"fill\": {\"color\": \"#C8D4E3\"}, \"line\": {\"color\": \"white\"}}, \"type\": \"table\"}]}, \"layout\": {\"annotationdefaults\": {\"arrowcolor\": \"#2a3f5f\", \"arrowhead\": 0, \"arrowwidth\": 1}, \"coloraxis\": {\"colorbar\": {\"outlinewidth\": 0, \"ticks\": \"\"}}, \"colorscale\": {\"diverging\": [[0, \"#8e0152\"], [0.1, \"#c51b7d\"], [0.2, \"#de77ae\"], [0.3, \"#f1b6da\"], [0.4, \"#fde0ef\"], [0.5, \"#f7f7f7\"], [0.6, \"#e6f5d0\"], [0.7, \"#b8e186\"], [0.8, \"#7fbc41\"], [0.9, \"#4d9221\"], [1, \"#276419\"]], \"sequential\": [[0.0, \"#0d0887\"], [0.1111111111111111, \"#46039f\"], [0.2222222222222222, \"#7201a8\"], [0.3333333333333333, \"#9c179e\"], [0.4444444444444444, \"#bd3786\"], [0.5555555555555556, \"#d8576b\"], [0.6666666666666666, \"#ed7953\"], [0.7777777777777778, \"#fb9f3a\"], [0.8888888888888888, \"#fdca26\"], [1.0, \"#f0f921\"]], \"sequentialminus\": [[0.0, \"#0d0887\"], [0.1111111111111111, \"#46039f\"], [0.2222222222222222, \"#7201a8\"], [0.3333333333333333, \"#9c179e\"], [0.4444444444444444, \"#bd3786\"], [0.5555555555555556, \"#d8576b\"], [0.6666666666666666, \"#ed7953\"], [0.7777777777777778, \"#fb9f3a\"], [0.8888888888888888, \"#fdca26\"], [1.0, \"#f0f921\"]]}, \"colorway\": [\"#636efa\", \"#EF553B\", \"#00cc96\", \"#ab63fa\", \"#FFA15A\", \"#19d3f3\", \"#FF6692\", \"#B6E880\", \"#FF97FF\", \"#FECB52\"], \"font\": {\"color\": \"#2a3f5f\"}, \"geo\": {\"bgcolor\": \"white\", \"lakecolor\": \"white\", \"landcolor\": \"#E5ECF6\", \"showlakes\": true, \"showland\": true, \"subunitcolor\": \"white\"}, \"hoverlabel\": {\"align\": \"left\"}, \"hovermode\": \"closest\", \"mapbox\": {\"style\": \"light\"}, \"paper_bgcolor\": \"white\", \"plot_bgcolor\": \"#E5ECF6\", \"polar\": {\"angularaxis\": {\"gridcolor\": \"white\", \"linecolor\": \"white\", \"ticks\": \"\"}, \"bgcolor\": \"#E5ECF6\", \"radialaxis\": {\"gridcolor\": \"white\", \"linecolor\": \"white\", \"ticks\": \"\"}}, \"scene\": {\"xaxis\": {\"backgroundcolor\": \"#E5ECF6\", \"gridcolor\": \"white\", \"gridwidth\": 2, \"linecolor\": \"white\", \"showbackground\": true, \"ticks\": \"\", \"zerolinecolor\": \"white\"}, \"yaxis\": {\"backgroundcolor\": \"#E5ECF6\", \"gridcolor\": \"white\", \"gridwidth\": 2, \"linecolor\": \"white\", \"showbackground\": true, \"ticks\": \"\", \"zerolinecolor\": \"white\"}, \"zaxis\": {\"backgroundcolor\": \"#E5ECF6\", \"gridcolor\": \"white\", \"gridwidth\": 2, \"linecolor\": \"white\", \"showbackground\": true, \"ticks\": \"\", \"zerolinecolor\": \"white\"}}, \"shapedefaults\": {\"line\": {\"color\": \"#2a3f5f\"}}, \"ternary\": {\"aaxis\": {\"gridcolor\": \"white\", \"linecolor\": \"white\", \"ticks\": \"\"}, \"baxis\": {\"gridcolor\": \"white\", \"linecolor\": \"white\", \"ticks\": \"\"}, \"bgcolor\": \"#E5ECF6\", \"caxis\": {\"gridcolor\": \"white\", \"linecolor\": \"white\", \"ticks\": \"\"}}, \"title\": {\"x\": 0.05}, \"xaxis\": {\"automargin\": true, \"gridcolor\": \"white\", \"linecolor\": \"white\", \"ticks\": \"\", \"title\": {\"standoff\": 15}, \"zerolinecolor\": \"white\", \"zerolinewidth\": 2}, \"yaxis\": {\"automargin\": true, \"gridcolor\": \"white\", \"linecolor\": \"white\", \"ticks\": \"\", \"title\": {\"standoff\": 15}, \"zerolinecolor\": \"white\", \"zerolinewidth\": 2}}}, \"title\": {\"text\": \"Taking of the knee\"}},\n",
              "                        {\"responsive\": true}\n",
              "                    ).then(function(){\n",
              "                            \n",
              "var gd = document.getElementById('74d88580-6d4d-4133-99a8-dd86eb45a1a8');\n",
              "var x = new MutationObserver(function (mutations, observer) {{\n",
              "        var display = window.getComputedStyle(gd).display;\n",
              "        if (!display || display === 'none') {{\n",
              "            console.log([gd, 'removed!']);\n",
              "            Plotly.purge(gd);\n",
              "            observer.disconnect();\n",
              "        }}\n",
              "}});\n",
              "\n",
              "// Listen for the removal of the full notebook cells\n",
              "var notebookContainer = gd.closest('#notebook-container');\n",
              "if (notebookContainer) {{\n",
              "    x.observe(notebookContainer, {childList: true});\n",
              "}}\n",
              "\n",
              "// Listen for the clearing of the current output cell\n",
              "var outputEl = gd.closest('.output');\n",
              "if (outputEl) {{\n",
              "    x.observe(outputEl, {childList: true});\n",
              "}}\n",
              "\n",
              "                        })\n",
              "                };\n",
              "                \n",
              "            </script>\n",
              "        </div>\n",
              "</body>\n",
              "</html>"
            ]
          },
          "metadata": {
            "tags": []
          }
        }
      ]
    },
    {
      "cell_type": "code",
      "metadata": {
        "colab": {
          "base_uri": "https://localhost:8080/",
          "height": 1000
        },
        "id": "byRYGf4hYFYt",
        "outputId": "d811124f-67f0-45f9-a834-156daa9f9168"
      },
      "source": [
        "layout = go.Layout(title = \"#BooTheKnee\")\n",
        "figure = go.Figure(data = data0, layout=layout)\n",
        "figure.show()\n",
        "\n",
        "layout = go.Layout(title = \"#TakeTheKnee\")\n",
        "figure = go.Figure(data = data1, layout=layout)\n",
        "figure.show()"
      ],
      "execution_count": 93,
      "outputs": [
        {
          "output_type": "display_data",
          "data": {
            "text/html": [
              "<html>\n",
              "<head><meta charset=\"utf-8\" /></head>\n",
              "<body>\n",
              "    <div>\n",
              "            <script src=\"https://cdnjs.cloudflare.com/ajax/libs/mathjax/2.7.5/MathJax.js?config=TeX-AMS-MML_SVG\"></script><script type=\"text/javascript\">if (window.MathJax) {MathJax.Hub.Config({SVG: {font: \"STIX-Web\"}});}</script>\n",
              "                <script type=\"text/javascript\">window.PlotlyConfig = {MathJaxConfig: 'local'};</script>\n",
              "        <script src=\"https://cdn.plot.ly/plotly-latest.min.js\"></script>    \n",
              "            <div id=\"e7444a09-ae8f-4ebb-8448-c2b34a17d462\" class=\"plotly-graph-div\" style=\"height:525px; width:100%;\"></div>\n",
              "            <script type=\"text/javascript\">\n",
              "                \n",
              "                    window.PLOTLYENV=window.PLOTLYENV || {};\n",
              "                    \n",
              "                if (document.getElementById(\"e7444a09-ae8f-4ebb-8448-c2b34a17d462\")) {\n",
              "                    Plotly.newPlot(\n",
              "                        'e7444a09-ae8f-4ebb-8448-c2b34a17d462',\n",
              "                        [{\"name\": \"#BooTheKnee\", \"text\": [17.0, 314.0, 63.0, 20.0, 3.0, 0.0, 76.0, 19.0, 46.0, 39.0, 34.0, 7.0, 8.0, 1.0, 13.0, 7.0, 3.0, 28.0, 5.0, 1.0, 5.0, 20.0, 21.0, 4.0, 7.0, 65.0, 35.0, 9.0, 16.0, 26.0, 19.0, 19.0, 30.0, 11.0, 32.0, 11.0, 0.0, 1.0], \"textposition\": \"inside\", \"type\": \"bar\", \"x\": [\"2021-06-12T00:00:00+00:00\", \"2021-06-13T00:00:00+00:00\", \"2021-06-14T00:00:00+00:00\", \"2021-06-15T00:00:00+00:00\", \"2021-06-16T00:00:00+00:00\", \"2021-06-17T00:00:00+00:00\", \"2021-06-18T00:00:00+00:00\", \"2021-06-19T00:00:00+00:00\", \"2021-06-20T00:00:00+00:00\", \"2021-06-21T00:00:00+00:00\", \"2021-06-22T00:00:00+00:00\", \"2021-06-23T00:00:00+00:00\", \"2021-06-24T00:00:00+00:00\", \"2021-06-25T00:00:00+00:00\", \"2021-06-26T00:00:00+00:00\", \"2021-06-27T00:00:00+00:00\", \"2021-06-28T00:00:00+00:00\", \"2021-06-29T00:00:00+00:00\", \"2021-06-30T00:00:00+00:00\", \"2021-07-01T00:00:00+00:00\", \"2021-07-02T00:00:00+00:00\", \"2021-07-03T00:00:00+00:00\", \"2021-07-04T00:00:00+00:00\", \"2021-07-05T00:00:00+00:00\", \"2021-07-06T00:00:00+00:00\", \"2021-07-07T00:00:00+00:00\", \"2021-07-08T00:00:00+00:00\", \"2021-07-09T00:00:00+00:00\", \"2021-07-10T00:00:00+00:00\", \"2021-07-11T00:00:00+00:00\", \"2021-07-12T00:00:00+00:00\", \"2021-07-13T00:00:00+00:00\", \"2021-07-14T00:00:00+00:00\", \"2021-07-15T00:00:00+00:00\", \"2021-07-16T00:00:00+00:00\", \"2021-07-17T00:00:00+00:00\", \"2021-07-18T00:00:00+00:00\", \"2021-07-19T00:00:00+00:00\"], \"y\": [17, 314, 63, 20, 3, 0, 76, 19, 46, 39, 34, 7, 8, 1, 13, 7, 3, 28, 5, 1, 5, 20, 21, 4, 7, 65, 35, 9, 16, 26, 19, 19, 30, 11, 32, 11, 0, 1]}],\n",
              "                        {\"template\": {\"data\": {\"bar\": [{\"error_x\": {\"color\": \"#2a3f5f\"}, \"error_y\": {\"color\": \"#2a3f5f\"}, \"marker\": {\"line\": {\"color\": \"#E5ECF6\", \"width\": 0.5}}, \"type\": \"bar\"}], \"barpolar\": [{\"marker\": {\"line\": {\"color\": \"#E5ECF6\", \"width\": 0.5}}, \"type\": \"barpolar\"}], \"carpet\": [{\"aaxis\": {\"endlinecolor\": \"#2a3f5f\", \"gridcolor\": \"white\", \"linecolor\": \"white\", \"minorgridcolor\": \"white\", \"startlinecolor\": \"#2a3f5f\"}, \"baxis\": {\"endlinecolor\": \"#2a3f5f\", \"gridcolor\": \"white\", \"linecolor\": \"white\", \"minorgridcolor\": \"white\", \"startlinecolor\": \"#2a3f5f\"}, \"type\": \"carpet\"}], \"choropleth\": [{\"colorbar\": {\"outlinewidth\": 0, \"ticks\": \"\"}, \"type\": \"choropleth\"}], \"contour\": [{\"colorbar\": {\"outlinewidth\": 0, \"ticks\": \"\"}, \"colorscale\": [[0.0, \"#0d0887\"], [0.1111111111111111, \"#46039f\"], [0.2222222222222222, \"#7201a8\"], [0.3333333333333333, \"#9c179e\"], [0.4444444444444444, \"#bd3786\"], [0.5555555555555556, \"#d8576b\"], [0.6666666666666666, \"#ed7953\"], [0.7777777777777778, \"#fb9f3a\"], [0.8888888888888888, \"#fdca26\"], [1.0, \"#f0f921\"]], \"type\": \"contour\"}], \"contourcarpet\": [{\"colorbar\": {\"outlinewidth\": 0, \"ticks\": \"\"}, \"type\": \"contourcarpet\"}], \"heatmap\": [{\"colorbar\": {\"outlinewidth\": 0, \"ticks\": \"\"}, \"colorscale\": [[0.0, \"#0d0887\"], [0.1111111111111111, \"#46039f\"], [0.2222222222222222, \"#7201a8\"], [0.3333333333333333, \"#9c179e\"], [0.4444444444444444, \"#bd3786\"], [0.5555555555555556, \"#d8576b\"], [0.6666666666666666, \"#ed7953\"], [0.7777777777777778, \"#fb9f3a\"], [0.8888888888888888, \"#fdca26\"], [1.0, \"#f0f921\"]], \"type\": \"heatmap\"}], \"heatmapgl\": [{\"colorbar\": {\"outlinewidth\": 0, \"ticks\": \"\"}, \"colorscale\": [[0.0, \"#0d0887\"], [0.1111111111111111, \"#46039f\"], [0.2222222222222222, \"#7201a8\"], [0.3333333333333333, \"#9c179e\"], [0.4444444444444444, \"#bd3786\"], [0.5555555555555556, \"#d8576b\"], [0.6666666666666666, \"#ed7953\"], [0.7777777777777778, \"#fb9f3a\"], [0.8888888888888888, \"#fdca26\"], [1.0, \"#f0f921\"]], \"type\": \"heatmapgl\"}], \"histogram\": [{\"marker\": {\"colorbar\": {\"outlinewidth\": 0, \"ticks\": \"\"}}, \"type\": \"histogram\"}], \"histogram2d\": [{\"colorbar\": {\"outlinewidth\": 0, \"ticks\": \"\"}, \"colorscale\": [[0.0, \"#0d0887\"], [0.1111111111111111, \"#46039f\"], [0.2222222222222222, \"#7201a8\"], [0.3333333333333333, \"#9c179e\"], [0.4444444444444444, \"#bd3786\"], [0.5555555555555556, \"#d8576b\"], [0.6666666666666666, \"#ed7953\"], [0.7777777777777778, \"#fb9f3a\"], [0.8888888888888888, \"#fdca26\"], [1.0, \"#f0f921\"]], \"type\": \"histogram2d\"}], \"histogram2dcontour\": [{\"colorbar\": {\"outlinewidth\": 0, \"ticks\": \"\"}, \"colorscale\": [[0.0, \"#0d0887\"], [0.1111111111111111, \"#46039f\"], [0.2222222222222222, \"#7201a8\"], [0.3333333333333333, \"#9c179e\"], [0.4444444444444444, \"#bd3786\"], [0.5555555555555556, \"#d8576b\"], [0.6666666666666666, \"#ed7953\"], [0.7777777777777778, \"#fb9f3a\"], [0.8888888888888888, \"#fdca26\"], [1.0, \"#f0f921\"]], \"type\": \"histogram2dcontour\"}], \"mesh3d\": [{\"colorbar\": {\"outlinewidth\": 0, \"ticks\": \"\"}, \"type\": \"mesh3d\"}], \"parcoords\": [{\"line\": {\"colorbar\": {\"outlinewidth\": 0, \"ticks\": \"\"}}, \"type\": \"parcoords\"}], \"pie\": [{\"automargin\": true, \"type\": \"pie\"}], \"scatter\": [{\"marker\": {\"colorbar\": {\"outlinewidth\": 0, \"ticks\": \"\"}}, \"type\": \"scatter\"}], \"scatter3d\": [{\"line\": {\"colorbar\": {\"outlinewidth\": 0, \"ticks\": \"\"}}, \"marker\": {\"colorbar\": {\"outlinewidth\": 0, \"ticks\": \"\"}}, \"type\": \"scatter3d\"}], \"scattercarpet\": [{\"marker\": {\"colorbar\": {\"outlinewidth\": 0, \"ticks\": \"\"}}, \"type\": \"scattercarpet\"}], \"scattergeo\": [{\"marker\": {\"colorbar\": {\"outlinewidth\": 0, \"ticks\": \"\"}}, \"type\": \"scattergeo\"}], \"scattergl\": [{\"marker\": {\"colorbar\": {\"outlinewidth\": 0, \"ticks\": \"\"}}, \"type\": \"scattergl\"}], \"scattermapbox\": [{\"marker\": {\"colorbar\": {\"outlinewidth\": 0, \"ticks\": \"\"}}, \"type\": \"scattermapbox\"}], \"scatterpolar\": [{\"marker\": {\"colorbar\": {\"outlinewidth\": 0, \"ticks\": \"\"}}, \"type\": \"scatterpolar\"}], \"scatterpolargl\": [{\"marker\": {\"colorbar\": {\"outlinewidth\": 0, \"ticks\": \"\"}}, \"type\": \"scatterpolargl\"}], \"scatterternary\": [{\"marker\": {\"colorbar\": {\"outlinewidth\": 0, \"ticks\": \"\"}}, \"type\": \"scatterternary\"}], \"surface\": [{\"colorbar\": {\"outlinewidth\": 0, \"ticks\": \"\"}, \"colorscale\": [[0.0, \"#0d0887\"], [0.1111111111111111, \"#46039f\"], [0.2222222222222222, \"#7201a8\"], [0.3333333333333333, \"#9c179e\"], [0.4444444444444444, \"#bd3786\"], [0.5555555555555556, \"#d8576b\"], [0.6666666666666666, \"#ed7953\"], [0.7777777777777778, \"#fb9f3a\"], [0.8888888888888888, \"#fdca26\"], [1.0, \"#f0f921\"]], \"type\": \"surface\"}], \"table\": [{\"cells\": {\"fill\": {\"color\": \"#EBF0F8\"}, \"line\": {\"color\": \"white\"}}, \"header\": {\"fill\": {\"color\": \"#C8D4E3\"}, \"line\": {\"color\": \"white\"}}, \"type\": \"table\"}]}, \"layout\": {\"annotationdefaults\": {\"arrowcolor\": \"#2a3f5f\", \"arrowhead\": 0, \"arrowwidth\": 1}, \"coloraxis\": {\"colorbar\": {\"outlinewidth\": 0, \"ticks\": \"\"}}, \"colorscale\": {\"diverging\": [[0, \"#8e0152\"], [0.1, \"#c51b7d\"], [0.2, \"#de77ae\"], [0.3, \"#f1b6da\"], [0.4, \"#fde0ef\"], [0.5, \"#f7f7f7\"], [0.6, \"#e6f5d0\"], [0.7, \"#b8e186\"], [0.8, \"#7fbc41\"], [0.9, \"#4d9221\"], [1, \"#276419\"]], \"sequential\": [[0.0, \"#0d0887\"], [0.1111111111111111, \"#46039f\"], [0.2222222222222222, \"#7201a8\"], [0.3333333333333333, \"#9c179e\"], [0.4444444444444444, \"#bd3786\"], [0.5555555555555556, \"#d8576b\"], [0.6666666666666666, \"#ed7953\"], [0.7777777777777778, \"#fb9f3a\"], [0.8888888888888888, \"#fdca26\"], [1.0, \"#f0f921\"]], \"sequentialminus\": [[0.0, \"#0d0887\"], [0.1111111111111111, \"#46039f\"], [0.2222222222222222, \"#7201a8\"], [0.3333333333333333, \"#9c179e\"], [0.4444444444444444, \"#bd3786\"], [0.5555555555555556, \"#d8576b\"], [0.6666666666666666, \"#ed7953\"], [0.7777777777777778, \"#fb9f3a\"], [0.8888888888888888, \"#fdca26\"], [1.0, \"#f0f921\"]]}, \"colorway\": [\"#636efa\", \"#EF553B\", \"#00cc96\", \"#ab63fa\", \"#FFA15A\", \"#19d3f3\", \"#FF6692\", \"#B6E880\", \"#FF97FF\", \"#FECB52\"], \"font\": {\"color\": \"#2a3f5f\"}, \"geo\": {\"bgcolor\": \"white\", \"lakecolor\": \"white\", \"landcolor\": \"#E5ECF6\", \"showlakes\": true, \"showland\": true, \"subunitcolor\": \"white\"}, \"hoverlabel\": {\"align\": \"left\"}, \"hovermode\": \"closest\", \"mapbox\": {\"style\": \"light\"}, \"paper_bgcolor\": \"white\", \"plot_bgcolor\": \"#E5ECF6\", \"polar\": {\"angularaxis\": {\"gridcolor\": \"white\", \"linecolor\": \"white\", \"ticks\": \"\"}, \"bgcolor\": \"#E5ECF6\", \"radialaxis\": {\"gridcolor\": \"white\", \"linecolor\": \"white\", \"ticks\": \"\"}}, \"scene\": {\"xaxis\": {\"backgroundcolor\": \"#E5ECF6\", \"gridcolor\": \"white\", \"gridwidth\": 2, \"linecolor\": \"white\", \"showbackground\": true, \"ticks\": \"\", \"zerolinecolor\": \"white\"}, \"yaxis\": {\"backgroundcolor\": \"#E5ECF6\", \"gridcolor\": \"white\", \"gridwidth\": 2, \"linecolor\": \"white\", \"showbackground\": true, \"ticks\": \"\", \"zerolinecolor\": \"white\"}, \"zaxis\": {\"backgroundcolor\": \"#E5ECF6\", \"gridcolor\": \"white\", \"gridwidth\": 2, \"linecolor\": \"white\", \"showbackground\": true, \"ticks\": \"\", \"zerolinecolor\": \"white\"}}, \"shapedefaults\": {\"line\": {\"color\": \"#2a3f5f\"}}, \"ternary\": {\"aaxis\": {\"gridcolor\": \"white\", \"linecolor\": \"white\", \"ticks\": \"\"}, \"baxis\": {\"gridcolor\": \"white\", \"linecolor\": \"white\", \"ticks\": \"\"}, \"bgcolor\": \"#E5ECF6\", \"caxis\": {\"gridcolor\": \"white\", \"linecolor\": \"white\", \"ticks\": \"\"}}, \"title\": {\"x\": 0.05}, \"xaxis\": {\"automargin\": true, \"gridcolor\": \"white\", \"linecolor\": \"white\", \"ticks\": \"\", \"title\": {\"standoff\": 15}, \"zerolinecolor\": \"white\", \"zerolinewidth\": 2}, \"yaxis\": {\"automargin\": true, \"gridcolor\": \"white\", \"linecolor\": \"white\", \"ticks\": \"\", \"title\": {\"standoff\": 15}, \"zerolinecolor\": \"white\", \"zerolinewidth\": 2}}}, \"title\": {\"text\": \"#BooTheKnee\"}},\n",
              "                        {\"responsive\": true}\n",
              "                    ).then(function(){\n",
              "                            \n",
              "var gd = document.getElementById('e7444a09-ae8f-4ebb-8448-c2b34a17d462');\n",
              "var x = new MutationObserver(function (mutations, observer) {{\n",
              "        var display = window.getComputedStyle(gd).display;\n",
              "        if (!display || display === 'none') {{\n",
              "            console.log([gd, 'removed!']);\n",
              "            Plotly.purge(gd);\n",
              "            observer.disconnect();\n",
              "        }}\n",
              "}});\n",
              "\n",
              "// Listen for the removal of the full notebook cells\n",
              "var notebookContainer = gd.closest('#notebook-container');\n",
              "if (notebookContainer) {{\n",
              "    x.observe(notebookContainer, {childList: true});\n",
              "}}\n",
              "\n",
              "// Listen for the clearing of the current output cell\n",
              "var outputEl = gd.closest('.output');\n",
              "if (outputEl) {{\n",
              "    x.observe(outputEl, {childList: true});\n",
              "}}\n",
              "\n",
              "                        })\n",
              "                };\n",
              "                \n",
              "            </script>\n",
              "        </div>\n",
              "</body>\n",
              "</html>"
            ]
          },
          "metadata": {
            "tags": []
          }
        },
        {
          "output_type": "display_data",
          "data": {
            "text/html": [
              "<html>\n",
              "<head><meta charset=\"utf-8\" /></head>\n",
              "<body>\n",
              "    <div>\n",
              "            <script src=\"https://cdnjs.cloudflare.com/ajax/libs/mathjax/2.7.5/MathJax.js?config=TeX-AMS-MML_SVG\"></script><script type=\"text/javascript\">if (window.MathJax) {MathJax.Hub.Config({SVG: {font: \"STIX-Web\"}});}</script>\n",
              "                <script type=\"text/javascript\">window.PlotlyConfig = {MathJaxConfig: 'local'};</script>\n",
              "        <script src=\"https://cdn.plot.ly/plotly-latest.min.js\"></script>    \n",
              "            <div id=\"1f775ff0-b957-47bd-a66c-61d207b5eba1\" class=\"plotly-graph-div\" style=\"height:525px; width:100%;\"></div>\n",
              "            <script type=\"text/javascript\">\n",
              "                \n",
              "                    window.PLOTLYENV=window.PLOTLYENV || {};\n",
              "                    \n",
              "                if (document.getElementById(\"1f775ff0-b957-47bd-a66c-61d207b5eba1\")) {\n",
              "                    Plotly.newPlot(\n",
              "                        '1f775ff0-b957-47bd-a66c-61d207b5eba1',\n",
              "                        [{\"name\": \"#TakeTheKnee\", \"text\": [5.0, 27.0, 10.0, 8.0, 20.0, 0.0, 434.0, 102.0, 61.0, 34.0, 79.0, 36.0, 55.0, 18.0, 18.0, 12.0, 62.0, 253.0, 146.0, 22.0, 46.0, 401.0, 482.0, 525.0, 52.0, 222.0, 192.0, 89.0, 184.0, 612.0, 2764.0, 2485.0, 1296.0, 964.0, 590.0, 334.0, 219.0, 61.0], \"textposition\": \"inside\", \"type\": \"bar\", \"x\": [\"2021-06-12T00:00:00+00:00\", \"2021-06-13T00:00:00+00:00\", \"2021-06-14T00:00:00+00:00\", \"2021-06-15T00:00:00+00:00\", \"2021-06-16T00:00:00+00:00\", \"2021-06-17T00:00:00+00:00\", \"2021-06-18T00:00:00+00:00\", \"2021-06-19T00:00:00+00:00\", \"2021-06-20T00:00:00+00:00\", \"2021-06-21T00:00:00+00:00\", \"2021-06-22T00:00:00+00:00\", \"2021-06-23T00:00:00+00:00\", \"2021-06-24T00:00:00+00:00\", \"2021-06-25T00:00:00+00:00\", \"2021-06-26T00:00:00+00:00\", \"2021-06-27T00:00:00+00:00\", \"2021-06-28T00:00:00+00:00\", \"2021-06-29T00:00:00+00:00\", \"2021-06-30T00:00:00+00:00\", \"2021-07-01T00:00:00+00:00\", \"2021-07-02T00:00:00+00:00\", \"2021-07-03T00:00:00+00:00\", \"2021-07-04T00:00:00+00:00\", \"2021-07-05T00:00:00+00:00\", \"2021-07-06T00:00:00+00:00\", \"2021-07-07T00:00:00+00:00\", \"2021-07-08T00:00:00+00:00\", \"2021-07-09T00:00:00+00:00\", \"2021-07-10T00:00:00+00:00\", \"2021-07-11T00:00:00+00:00\", \"2021-07-12T00:00:00+00:00\", \"2021-07-13T00:00:00+00:00\", \"2021-07-14T00:00:00+00:00\", \"2021-07-15T00:00:00+00:00\", \"2021-07-16T00:00:00+00:00\", \"2021-07-17T00:00:00+00:00\", \"2021-07-18T00:00:00+00:00\", \"2021-07-19T00:00:00+00:00\"], \"y\": [5, 27, 10, 8, 20, 0, 434, 102, 61, 34, 79, 36, 55, 18, 18, 12, 62, 253, 146, 22, 46, 401, 482, 525, 52, 222, 192, 89, 184, 612, 2764, 2485, 1296, 964, 590, 334, 219, 61]}],\n",
              "                        {\"template\": {\"data\": {\"bar\": [{\"error_x\": {\"color\": \"#2a3f5f\"}, \"error_y\": {\"color\": \"#2a3f5f\"}, \"marker\": {\"line\": {\"color\": \"#E5ECF6\", \"width\": 0.5}}, \"type\": \"bar\"}], \"barpolar\": [{\"marker\": {\"line\": {\"color\": \"#E5ECF6\", \"width\": 0.5}}, \"type\": \"barpolar\"}], \"carpet\": [{\"aaxis\": {\"endlinecolor\": \"#2a3f5f\", \"gridcolor\": \"white\", \"linecolor\": \"white\", \"minorgridcolor\": \"white\", \"startlinecolor\": \"#2a3f5f\"}, \"baxis\": {\"endlinecolor\": \"#2a3f5f\", \"gridcolor\": \"white\", \"linecolor\": \"white\", \"minorgridcolor\": \"white\", \"startlinecolor\": \"#2a3f5f\"}, \"type\": \"carpet\"}], \"choropleth\": [{\"colorbar\": {\"outlinewidth\": 0, \"ticks\": \"\"}, \"type\": \"choropleth\"}], \"contour\": [{\"colorbar\": {\"outlinewidth\": 0, \"ticks\": \"\"}, \"colorscale\": [[0.0, \"#0d0887\"], [0.1111111111111111, \"#46039f\"], [0.2222222222222222, \"#7201a8\"], [0.3333333333333333, \"#9c179e\"], [0.4444444444444444, \"#bd3786\"], [0.5555555555555556, \"#d8576b\"], [0.6666666666666666, \"#ed7953\"], [0.7777777777777778, \"#fb9f3a\"], [0.8888888888888888, \"#fdca26\"], [1.0, \"#f0f921\"]], \"type\": \"contour\"}], \"contourcarpet\": [{\"colorbar\": {\"outlinewidth\": 0, \"ticks\": \"\"}, \"type\": \"contourcarpet\"}], \"heatmap\": [{\"colorbar\": {\"outlinewidth\": 0, \"ticks\": \"\"}, \"colorscale\": [[0.0, \"#0d0887\"], [0.1111111111111111, \"#46039f\"], [0.2222222222222222, \"#7201a8\"], [0.3333333333333333, \"#9c179e\"], [0.4444444444444444, \"#bd3786\"], [0.5555555555555556, \"#d8576b\"], [0.6666666666666666, \"#ed7953\"], [0.7777777777777778, \"#fb9f3a\"], [0.8888888888888888, \"#fdca26\"], [1.0, \"#f0f921\"]], \"type\": \"heatmap\"}], \"heatmapgl\": [{\"colorbar\": {\"outlinewidth\": 0, \"ticks\": \"\"}, \"colorscale\": [[0.0, \"#0d0887\"], [0.1111111111111111, \"#46039f\"], [0.2222222222222222, \"#7201a8\"], [0.3333333333333333, \"#9c179e\"], [0.4444444444444444, \"#bd3786\"], [0.5555555555555556, \"#d8576b\"], [0.6666666666666666, \"#ed7953\"], [0.7777777777777778, \"#fb9f3a\"], [0.8888888888888888, \"#fdca26\"], [1.0, \"#f0f921\"]], \"type\": \"heatmapgl\"}], \"histogram\": [{\"marker\": {\"colorbar\": {\"outlinewidth\": 0, \"ticks\": \"\"}}, \"type\": \"histogram\"}], \"histogram2d\": [{\"colorbar\": {\"outlinewidth\": 0, \"ticks\": \"\"}, \"colorscale\": [[0.0, \"#0d0887\"], [0.1111111111111111, \"#46039f\"], [0.2222222222222222, \"#7201a8\"], [0.3333333333333333, \"#9c179e\"], [0.4444444444444444, \"#bd3786\"], [0.5555555555555556, \"#d8576b\"], [0.6666666666666666, \"#ed7953\"], [0.7777777777777778, \"#fb9f3a\"], [0.8888888888888888, \"#fdca26\"], [1.0, \"#f0f921\"]], \"type\": \"histogram2d\"}], \"histogram2dcontour\": [{\"colorbar\": {\"outlinewidth\": 0, \"ticks\": \"\"}, \"colorscale\": [[0.0, \"#0d0887\"], [0.1111111111111111, \"#46039f\"], [0.2222222222222222, \"#7201a8\"], [0.3333333333333333, \"#9c179e\"], [0.4444444444444444, \"#bd3786\"], [0.5555555555555556, \"#d8576b\"], [0.6666666666666666, \"#ed7953\"], [0.7777777777777778, \"#fb9f3a\"], [0.8888888888888888, \"#fdca26\"], [1.0, \"#f0f921\"]], \"type\": \"histogram2dcontour\"}], \"mesh3d\": [{\"colorbar\": {\"outlinewidth\": 0, \"ticks\": \"\"}, \"type\": \"mesh3d\"}], \"parcoords\": [{\"line\": {\"colorbar\": {\"outlinewidth\": 0, \"ticks\": \"\"}}, \"type\": \"parcoords\"}], \"pie\": [{\"automargin\": true, \"type\": \"pie\"}], \"scatter\": [{\"marker\": {\"colorbar\": {\"outlinewidth\": 0, \"ticks\": \"\"}}, \"type\": \"scatter\"}], \"scatter3d\": [{\"line\": {\"colorbar\": {\"outlinewidth\": 0, \"ticks\": \"\"}}, \"marker\": {\"colorbar\": {\"outlinewidth\": 0, \"ticks\": \"\"}}, \"type\": \"scatter3d\"}], \"scattercarpet\": [{\"marker\": {\"colorbar\": {\"outlinewidth\": 0, \"ticks\": \"\"}}, \"type\": \"scattercarpet\"}], \"scattergeo\": [{\"marker\": {\"colorbar\": {\"outlinewidth\": 0, \"ticks\": \"\"}}, \"type\": \"scattergeo\"}], \"scattergl\": [{\"marker\": {\"colorbar\": {\"outlinewidth\": 0, \"ticks\": \"\"}}, \"type\": \"scattergl\"}], \"scattermapbox\": [{\"marker\": {\"colorbar\": {\"outlinewidth\": 0, \"ticks\": \"\"}}, \"type\": \"scattermapbox\"}], \"scatterpolar\": [{\"marker\": {\"colorbar\": {\"outlinewidth\": 0, \"ticks\": \"\"}}, \"type\": \"scatterpolar\"}], \"scatterpolargl\": [{\"marker\": {\"colorbar\": {\"outlinewidth\": 0, \"ticks\": \"\"}}, \"type\": \"scatterpolargl\"}], \"scatterternary\": [{\"marker\": {\"colorbar\": {\"outlinewidth\": 0, \"ticks\": \"\"}}, \"type\": \"scatterternary\"}], \"surface\": [{\"colorbar\": {\"outlinewidth\": 0, \"ticks\": \"\"}, \"colorscale\": [[0.0, \"#0d0887\"], [0.1111111111111111, \"#46039f\"], [0.2222222222222222, \"#7201a8\"], [0.3333333333333333, \"#9c179e\"], [0.4444444444444444, \"#bd3786\"], [0.5555555555555556, \"#d8576b\"], [0.6666666666666666, \"#ed7953\"], [0.7777777777777778, \"#fb9f3a\"], [0.8888888888888888, \"#fdca26\"], [1.0, \"#f0f921\"]], \"type\": \"surface\"}], \"table\": [{\"cells\": {\"fill\": {\"color\": \"#EBF0F8\"}, \"line\": {\"color\": \"white\"}}, \"header\": {\"fill\": {\"color\": \"#C8D4E3\"}, \"line\": {\"color\": \"white\"}}, \"type\": \"table\"}]}, \"layout\": {\"annotationdefaults\": {\"arrowcolor\": \"#2a3f5f\", \"arrowhead\": 0, \"arrowwidth\": 1}, \"coloraxis\": {\"colorbar\": {\"outlinewidth\": 0, \"ticks\": \"\"}}, \"colorscale\": {\"diverging\": [[0, \"#8e0152\"], [0.1, \"#c51b7d\"], [0.2, \"#de77ae\"], [0.3, \"#f1b6da\"], [0.4, \"#fde0ef\"], [0.5, \"#f7f7f7\"], [0.6, \"#e6f5d0\"], [0.7, \"#b8e186\"], [0.8, \"#7fbc41\"], [0.9, \"#4d9221\"], [1, \"#276419\"]], \"sequential\": [[0.0, \"#0d0887\"], [0.1111111111111111, \"#46039f\"], [0.2222222222222222, \"#7201a8\"], [0.3333333333333333, \"#9c179e\"], [0.4444444444444444, \"#bd3786\"], [0.5555555555555556, \"#d8576b\"], [0.6666666666666666, \"#ed7953\"], [0.7777777777777778, \"#fb9f3a\"], [0.8888888888888888, \"#fdca26\"], [1.0, \"#f0f921\"]], \"sequentialminus\": [[0.0, \"#0d0887\"], [0.1111111111111111, \"#46039f\"], [0.2222222222222222, \"#7201a8\"], [0.3333333333333333, \"#9c179e\"], [0.4444444444444444, \"#bd3786\"], [0.5555555555555556, \"#d8576b\"], [0.6666666666666666, \"#ed7953\"], [0.7777777777777778, \"#fb9f3a\"], [0.8888888888888888, \"#fdca26\"], [1.0, \"#f0f921\"]]}, \"colorway\": [\"#636efa\", \"#EF553B\", \"#00cc96\", \"#ab63fa\", \"#FFA15A\", \"#19d3f3\", \"#FF6692\", \"#B6E880\", \"#FF97FF\", \"#FECB52\"], \"font\": {\"color\": \"#2a3f5f\"}, \"geo\": {\"bgcolor\": \"white\", \"lakecolor\": \"white\", \"landcolor\": \"#E5ECF6\", \"showlakes\": true, \"showland\": true, \"subunitcolor\": \"white\"}, \"hoverlabel\": {\"align\": \"left\"}, \"hovermode\": \"closest\", \"mapbox\": {\"style\": \"light\"}, \"paper_bgcolor\": \"white\", \"plot_bgcolor\": \"#E5ECF6\", \"polar\": {\"angularaxis\": {\"gridcolor\": \"white\", \"linecolor\": \"white\", \"ticks\": \"\"}, \"bgcolor\": \"#E5ECF6\", \"radialaxis\": {\"gridcolor\": \"white\", \"linecolor\": \"white\", \"ticks\": \"\"}}, \"scene\": {\"xaxis\": {\"backgroundcolor\": \"#E5ECF6\", \"gridcolor\": \"white\", \"gridwidth\": 2, \"linecolor\": \"white\", \"showbackground\": true, \"ticks\": \"\", \"zerolinecolor\": \"white\"}, \"yaxis\": {\"backgroundcolor\": \"#E5ECF6\", \"gridcolor\": \"white\", \"gridwidth\": 2, \"linecolor\": \"white\", \"showbackground\": true, \"ticks\": \"\", \"zerolinecolor\": \"white\"}, \"zaxis\": {\"backgroundcolor\": \"#E5ECF6\", \"gridcolor\": \"white\", \"gridwidth\": 2, \"linecolor\": \"white\", \"showbackground\": true, \"ticks\": \"\", \"zerolinecolor\": \"white\"}}, \"shapedefaults\": {\"line\": {\"color\": \"#2a3f5f\"}}, \"ternary\": {\"aaxis\": {\"gridcolor\": \"white\", \"linecolor\": \"white\", \"ticks\": \"\"}, \"baxis\": {\"gridcolor\": \"white\", \"linecolor\": \"white\", \"ticks\": \"\"}, \"bgcolor\": \"#E5ECF6\", \"caxis\": {\"gridcolor\": \"white\", \"linecolor\": \"white\", \"ticks\": \"\"}}, \"title\": {\"x\": 0.05}, \"xaxis\": {\"automargin\": true, \"gridcolor\": \"white\", \"linecolor\": \"white\", \"ticks\": \"\", \"title\": {\"standoff\": 15}, \"zerolinecolor\": \"white\", \"zerolinewidth\": 2}, \"yaxis\": {\"automargin\": true, \"gridcolor\": \"white\", \"linecolor\": \"white\", \"ticks\": \"\", \"title\": {\"standoff\": 15}, \"zerolinecolor\": \"white\", \"zerolinewidth\": 2}}}, \"title\": {\"text\": \"#TakeTheKnee\"}},\n",
              "                        {\"responsive\": true}\n",
              "                    ).then(function(){\n",
              "                            \n",
              "var gd = document.getElementById('1f775ff0-b957-47bd-a66c-61d207b5eba1');\n",
              "var x = new MutationObserver(function (mutations, observer) {{\n",
              "        var display = window.getComputedStyle(gd).display;\n",
              "        if (!display || display === 'none') {{\n",
              "            console.log([gd, 'removed!']);\n",
              "            Plotly.purge(gd);\n",
              "            observer.disconnect();\n",
              "        }}\n",
              "}});\n",
              "\n",
              "// Listen for the removal of the full notebook cells\n",
              "var notebookContainer = gd.closest('#notebook-container');\n",
              "if (notebookContainer) {{\n",
              "    x.observe(notebookContainer, {childList: true});\n",
              "}}\n",
              "\n",
              "// Listen for the clearing of the current output cell\n",
              "var outputEl = gd.closest('.output');\n",
              "if (outputEl) {{\n",
              "    x.observe(outputEl, {childList: true});\n",
              "}}\n",
              "\n",
              "                        })\n",
              "                };\n",
              "                \n",
              "            </script>\n",
              "        </div>\n",
              "</body>\n",
              "</html>"
            ]
          },
          "metadata": {
            "tags": []
          }
        }
      ]
    },
    {
      "cell_type": "code",
      "metadata": {
        "colab": {
          "base_uri": "https://localhost:8080/"
        },
        "id": "AxNv2zJqbw__",
        "outputId": "e94d79a9-bf44-4850-8dc3-35707e70d387"
      },
      "source": [
        "joined_df.info()"
      ],
      "execution_count": 96,
      "outputs": [
        {
          "output_type": "stream",
          "text": [
            "<class 'pandas.core.frame.DataFrame'>\n",
            "Int64Index: 13928 entries, 0 to 13927\n",
            "Data columns (total 15 columns):\n",
            " #   Column                                              Non-Null Count  Dtype              \n",
            "---  ------                                              --------------  -----              \n",
            " 0   tweet_text                                          13928 non-null  object             \n",
            " 1   tweet_id                                            13928 non-null  int64              \n",
            " 2   created_at                                          13928 non-null  datetime64[ns, UTC]\n",
            " 3   accounts_mentioned                                  13928 non-null  object             \n",
            " 4   matching_hatebase_terms_over_70                     13928 non-null  object             \n",
            " 5   matching_hatebase_terms_nationality_over_70         13928 non-null  object             \n",
            " 6   matching_hatebase_terms_ethnicity_over_70           13928 non-null  object             \n",
            " 7   matching_hatebase_terms_religion_over_70            13928 non-null  object             \n",
            " 8   matching_hatebase_terms_gender_over_70              13928 non-null  object             \n",
            " 9   matching_hatebase_terms_sexual_orientation_over_70  13928 non-null  object             \n",
            " 10  matching_hatebase_terms_disability_over_70          13928 non-null  object             \n",
            " 11  matching_hatebase_terms_class_over_70               13928 non-null  object             \n",
            " 12  boo_tag                                             13928 non-null  bool               \n",
            " 13  take_tag                                            13928 non-null  bool               \n",
            " 14  manually_reviewed_emoji_is_offensive                13928 non-null  bool               \n",
            "dtypes: bool(3), datetime64[ns, UTC](1), int64(1), object(10)\n",
            "memory usage: 1.4+ MB\n"
          ],
          "name": "stdout"
        }
      ]
    },
    {
      "cell_type": "code",
      "metadata": {
        "id": "Ci_O4FRwY5x9"
      },
      "source": [
        "# NOTE: at this point you need to manually review the emoji tweets in emoji_tweets.csv, and put them into a emoji_tweets_reviewed.csv\n",
        "\n",
        "reviewed_emojis = pd.read_csv(root_path + '/emoji_tweets_reviewed.csv')\n",
        "reviewed_emojis['manually_reviewed_emoji_is_offensive'] = True\n",
        "reviewed_emojis.drop('tweet_text', axis=1, inplace=True)\n",
        "joined_df = pd.merge(joined_df, reviewed_emojis, how='left', on='tweet_id')\n",
        "joined_df['manually_reviewed_emoji_is_offensive'] = joined_df['manually_reviewed_emoji_is_offensive'].fillna(False)"
      ],
      "execution_count": 95,
      "outputs": []
    },
    {
      "cell_type": "code",
      "metadata": {
        "id": "lwjQxXbRZAjF"
      },
      "source": [
        "joined_df['contains_slurs'] = joined_df['matching_hatebase_terms_over_70'].str.len() > 2\n",
        "joined_df['contains_slurs_or_offensive_emoji'] = joined_df['contains_slurs'] | joined_df['manually_reviewed_emoji_is_offensive']\n",
        "joined_df['boo_and_offensive'] = joined_df['contains_slurs_or_offensive_emoji'] & joined_df['boo_tag']\n",
        "joined_df['take_and_offensive'] = joined_df['contains_slurs_or_offensive_emoji'] & joined_df['take_tag']"
      ],
      "execution_count": 97,
      "outputs": []
    },
    {
      "cell_type": "code",
      "metadata": {
        "colab": {
          "base_uri": "https://localhost:8080/",
          "height": 1000
        },
        "id": "XBxakh86ZLoj",
        "outputId": "2774508f-2cd9-49e2-c2a5-feedf603f035"
      },
      "source": [
        "# This doesn't really make sense... with Perspective it might make more sense. Or we could say \"percentage of tweets containing other racist slurs, and these the ones that were top...\"\n",
        "\n",
        "df = joined_df.resample(pd.offsets.Hour(24), on='created_at')['boo_tag', 'take_tag', 'boo_and_offensive', 'take_and_offensive'].sum().reset_index()\n",
        "\n",
        "data0 = go.Bar(\n",
        "    x = df.created_at,\n",
        "    y = df.boo_and_offensive,\n",
        "    name = 'offensive',\n",
        "    text = df.boo_and_offensive,\n",
        "    textposition = 'inside'\n",
        "    # texttemplate = '%{text:.2}'\n",
        ")\n",
        "\n",
        "data1 = go.Bar(\n",
        "    x = df.created_at,\n",
        "    y = df.boo_tag - df.boo_and_offensive,\n",
        "    name = 'non-offensive',\n",
        "    text = df.boo_tag - df.boo_and_offensive,\n",
        "    textposition = 'inside'\n",
        "    # texttemplate = '%{text:.2}'\n",
        ")\n",
        "\n",
        "data = [data0, data1]\n",
        "\n",
        "layout = go.Layout(title = \"#BooTheKnee\", barmode='stack')\n",
        "\n",
        "figure = go.Figure(data = data, layout = layout)\n",
        "figure.show()\n",
        "\n",
        "data0 = go.Bar(\n",
        "    x = df.created_at,\n",
        "    y = df.take_and_offensive,\n",
        "    name = 'offensive',\n",
        "    text = df.take_and_offensive,\n",
        "    textposition = 'inside'\n",
        "    # texttemplate = '%{text:.2}'\n",
        ")\n",
        "\n",
        "data1 = go.Bar(\n",
        "    x = df.created_at,\n",
        "    y = df.take_tag - df.take_and_offensive,\n",
        "    name = 'non-offensive',\n",
        "    text = df.take_tag - df.take_and_offensive,\n",
        "    textposition = 'inside'\n",
        "    # texttemplate = '%{text:.2}'\n",
        ")\n",
        "\n",
        "data = [data0, data1]\n",
        "\n",
        "layout = go.Layout(title = \"#TakeTheKnee\", barmode='stack')\n",
        "\n",
        "figure = go.Figure(data = data, layout = layout)\n",
        "figure.show()"
      ],
      "execution_count": 99,
      "outputs": [
        {
          "output_type": "display_data",
          "data": {
            "text/html": [
              "<html>\n",
              "<head><meta charset=\"utf-8\" /></head>\n",
              "<body>\n",
              "    <div>\n",
              "            <script src=\"https://cdnjs.cloudflare.com/ajax/libs/mathjax/2.7.5/MathJax.js?config=TeX-AMS-MML_SVG\"></script><script type=\"text/javascript\">if (window.MathJax) {MathJax.Hub.Config({SVG: {font: \"STIX-Web\"}});}</script>\n",
              "                <script type=\"text/javascript\">window.PlotlyConfig = {MathJaxConfig: 'local'};</script>\n",
              "        <script src=\"https://cdn.plot.ly/plotly-latest.min.js\"></script>    \n",
              "            <div id=\"12e7d46a-9270-4685-a06a-b98c004e0ada\" class=\"plotly-graph-div\" style=\"height:525px; width:100%;\"></div>\n",
              "            <script type=\"text/javascript\">\n",
              "                \n",
              "                    window.PLOTLYENV=window.PLOTLYENV || {};\n",
              "                    \n",
              "                if (document.getElementById(\"12e7d46a-9270-4685-a06a-b98c004e0ada\")) {\n",
              "                    Plotly.newPlot(\n",
              "                        '12e7d46a-9270-4685-a06a-b98c004e0ada',\n",
              "                        [{\"name\": \"offensive\", \"text\": [5.0, 86.0, 8.0, 3.0, 1.0, 0.0, 22.0, 6.0, 0.0, 0.0, 5.0, 1.0, 2.0, 0.0, 0.0, 0.0, 0.0, 8.0, 0.0, 0.0, 1.0, 5.0, 4.0, 0.0, 1.0, 3.0, 3.0, 0.0, 2.0, 2.0, 1.0, 2.0, 3.0, 0.0, 1.0, 0.0, 0.0, 0.0], \"textposition\": \"inside\", \"type\": \"bar\", \"x\": [\"2021-06-12T00:00:00+00:00\", \"2021-06-13T00:00:00+00:00\", \"2021-06-14T00:00:00+00:00\", \"2021-06-15T00:00:00+00:00\", \"2021-06-16T00:00:00+00:00\", \"2021-06-17T00:00:00+00:00\", \"2021-06-18T00:00:00+00:00\", \"2021-06-19T00:00:00+00:00\", \"2021-06-20T00:00:00+00:00\", \"2021-06-21T00:00:00+00:00\", \"2021-06-22T00:00:00+00:00\", \"2021-06-23T00:00:00+00:00\", \"2021-06-24T00:00:00+00:00\", \"2021-06-25T00:00:00+00:00\", \"2021-06-26T00:00:00+00:00\", \"2021-06-27T00:00:00+00:00\", \"2021-06-28T00:00:00+00:00\", \"2021-06-29T00:00:00+00:00\", \"2021-06-30T00:00:00+00:00\", \"2021-07-01T00:00:00+00:00\", \"2021-07-02T00:00:00+00:00\", \"2021-07-03T00:00:00+00:00\", \"2021-07-04T00:00:00+00:00\", \"2021-07-05T00:00:00+00:00\", \"2021-07-06T00:00:00+00:00\", \"2021-07-07T00:00:00+00:00\", \"2021-07-08T00:00:00+00:00\", \"2021-07-09T00:00:00+00:00\", \"2021-07-10T00:00:00+00:00\", \"2021-07-11T00:00:00+00:00\", \"2021-07-12T00:00:00+00:00\", \"2021-07-13T00:00:00+00:00\", \"2021-07-14T00:00:00+00:00\", \"2021-07-15T00:00:00+00:00\", \"2021-07-16T00:00:00+00:00\", \"2021-07-17T00:00:00+00:00\", \"2021-07-18T00:00:00+00:00\", \"2021-07-19T00:00:00+00:00\"], \"y\": [5, 86, 8, 3, 1, 0, 22, 6, 0, 0, 5, 1, 2, 0, 0, 0, 0, 8, 0, 0, 1, 5, 4, 0, 1, 3, 3, 0, 2, 2, 1, 2, 3, 0, 1, 0, 0, 0]}, {\"name\": \"non-offensive\", \"text\": [12.0, 228.0, 55.0, 17.0, 2.0, 0.0, 54.0, 13.0, 46.0, 39.0, 29.0, 6.0, 6.0, 1.0, 13.0, 7.0, 3.0, 20.0, 5.0, 1.0, 4.0, 15.0, 17.0, 4.0, 6.0, 62.0, 32.0, 9.0, 14.0, 24.0, 18.0, 17.0, 27.0, 11.0, 31.0, 11.0, 0.0, 1.0], \"textposition\": \"inside\", \"type\": \"bar\", \"x\": [\"2021-06-12T00:00:00+00:00\", \"2021-06-13T00:00:00+00:00\", \"2021-06-14T00:00:00+00:00\", \"2021-06-15T00:00:00+00:00\", \"2021-06-16T00:00:00+00:00\", \"2021-06-17T00:00:00+00:00\", \"2021-06-18T00:00:00+00:00\", \"2021-06-19T00:00:00+00:00\", \"2021-06-20T00:00:00+00:00\", \"2021-06-21T00:00:00+00:00\", \"2021-06-22T00:00:00+00:00\", \"2021-06-23T00:00:00+00:00\", \"2021-06-24T00:00:00+00:00\", \"2021-06-25T00:00:00+00:00\", \"2021-06-26T00:00:00+00:00\", \"2021-06-27T00:00:00+00:00\", \"2021-06-28T00:00:00+00:00\", \"2021-06-29T00:00:00+00:00\", \"2021-06-30T00:00:00+00:00\", \"2021-07-01T00:00:00+00:00\", \"2021-07-02T00:00:00+00:00\", \"2021-07-03T00:00:00+00:00\", \"2021-07-04T00:00:00+00:00\", \"2021-07-05T00:00:00+00:00\", \"2021-07-06T00:00:00+00:00\", \"2021-07-07T00:00:00+00:00\", \"2021-07-08T00:00:00+00:00\", \"2021-07-09T00:00:00+00:00\", \"2021-07-10T00:00:00+00:00\", \"2021-07-11T00:00:00+00:00\", \"2021-07-12T00:00:00+00:00\", \"2021-07-13T00:00:00+00:00\", \"2021-07-14T00:00:00+00:00\", \"2021-07-15T00:00:00+00:00\", \"2021-07-16T00:00:00+00:00\", \"2021-07-17T00:00:00+00:00\", \"2021-07-18T00:00:00+00:00\", \"2021-07-19T00:00:00+00:00\"], \"y\": [12, 228, 55, 17, 2, 0, 54, 13, 46, 39, 29, 6, 6, 1, 13, 7, 3, 20, 5, 1, 4, 15, 17, 4, 6, 62, 32, 9, 14, 24, 18, 17, 27, 11, 31, 11, 0, 1]}],\n",
              "                        {\"barmode\": \"stack\", \"template\": {\"data\": {\"bar\": [{\"error_x\": {\"color\": \"#2a3f5f\"}, \"error_y\": {\"color\": \"#2a3f5f\"}, \"marker\": {\"line\": {\"color\": \"#E5ECF6\", \"width\": 0.5}}, \"type\": \"bar\"}], \"barpolar\": [{\"marker\": {\"line\": {\"color\": \"#E5ECF6\", \"width\": 0.5}}, \"type\": \"barpolar\"}], \"carpet\": [{\"aaxis\": {\"endlinecolor\": \"#2a3f5f\", \"gridcolor\": \"white\", \"linecolor\": \"white\", \"minorgridcolor\": \"white\", \"startlinecolor\": \"#2a3f5f\"}, \"baxis\": {\"endlinecolor\": \"#2a3f5f\", \"gridcolor\": \"white\", \"linecolor\": \"white\", \"minorgridcolor\": \"white\", \"startlinecolor\": \"#2a3f5f\"}, \"type\": \"carpet\"}], \"choropleth\": [{\"colorbar\": {\"outlinewidth\": 0, \"ticks\": \"\"}, \"type\": \"choropleth\"}], \"contour\": [{\"colorbar\": {\"outlinewidth\": 0, \"ticks\": \"\"}, \"colorscale\": [[0.0, \"#0d0887\"], [0.1111111111111111, \"#46039f\"], [0.2222222222222222, \"#7201a8\"], [0.3333333333333333, \"#9c179e\"], [0.4444444444444444, \"#bd3786\"], [0.5555555555555556, \"#d8576b\"], [0.6666666666666666, \"#ed7953\"], [0.7777777777777778, \"#fb9f3a\"], [0.8888888888888888, \"#fdca26\"], [1.0, \"#f0f921\"]], \"type\": \"contour\"}], \"contourcarpet\": [{\"colorbar\": {\"outlinewidth\": 0, \"ticks\": \"\"}, \"type\": \"contourcarpet\"}], \"heatmap\": [{\"colorbar\": {\"outlinewidth\": 0, \"ticks\": \"\"}, \"colorscale\": [[0.0, \"#0d0887\"], [0.1111111111111111, \"#46039f\"], [0.2222222222222222, \"#7201a8\"], [0.3333333333333333, \"#9c179e\"], [0.4444444444444444, \"#bd3786\"], [0.5555555555555556, \"#d8576b\"], [0.6666666666666666, \"#ed7953\"], [0.7777777777777778, \"#fb9f3a\"], [0.8888888888888888, \"#fdca26\"], [1.0, \"#f0f921\"]], \"type\": \"heatmap\"}], \"heatmapgl\": [{\"colorbar\": {\"outlinewidth\": 0, \"ticks\": \"\"}, \"colorscale\": [[0.0, \"#0d0887\"], [0.1111111111111111, \"#46039f\"], [0.2222222222222222, \"#7201a8\"], [0.3333333333333333, \"#9c179e\"], [0.4444444444444444, \"#bd3786\"], [0.5555555555555556, \"#d8576b\"], [0.6666666666666666, \"#ed7953\"], [0.7777777777777778, \"#fb9f3a\"], [0.8888888888888888, \"#fdca26\"], [1.0, \"#f0f921\"]], \"type\": \"heatmapgl\"}], \"histogram\": [{\"marker\": {\"colorbar\": {\"outlinewidth\": 0, \"ticks\": \"\"}}, \"type\": \"histogram\"}], \"histogram2d\": [{\"colorbar\": {\"outlinewidth\": 0, \"ticks\": \"\"}, \"colorscale\": [[0.0, \"#0d0887\"], [0.1111111111111111, \"#46039f\"], [0.2222222222222222, \"#7201a8\"], [0.3333333333333333, \"#9c179e\"], [0.4444444444444444, \"#bd3786\"], [0.5555555555555556, \"#d8576b\"], [0.6666666666666666, \"#ed7953\"], [0.7777777777777778, \"#fb9f3a\"], [0.8888888888888888, \"#fdca26\"], [1.0, \"#f0f921\"]], \"type\": \"histogram2d\"}], \"histogram2dcontour\": [{\"colorbar\": {\"outlinewidth\": 0, \"ticks\": \"\"}, \"colorscale\": [[0.0, \"#0d0887\"], [0.1111111111111111, \"#46039f\"], [0.2222222222222222, \"#7201a8\"], [0.3333333333333333, \"#9c179e\"], [0.4444444444444444, \"#bd3786\"], [0.5555555555555556, \"#d8576b\"], [0.6666666666666666, \"#ed7953\"], [0.7777777777777778, \"#fb9f3a\"], [0.8888888888888888, \"#fdca26\"], [1.0, \"#f0f921\"]], \"type\": \"histogram2dcontour\"}], \"mesh3d\": [{\"colorbar\": {\"outlinewidth\": 0, \"ticks\": \"\"}, \"type\": \"mesh3d\"}], \"parcoords\": [{\"line\": {\"colorbar\": {\"outlinewidth\": 0, \"ticks\": \"\"}}, \"type\": \"parcoords\"}], \"pie\": [{\"automargin\": true, \"type\": \"pie\"}], \"scatter\": [{\"marker\": {\"colorbar\": {\"outlinewidth\": 0, \"ticks\": \"\"}}, \"type\": \"scatter\"}], \"scatter3d\": [{\"line\": {\"colorbar\": {\"outlinewidth\": 0, \"ticks\": \"\"}}, \"marker\": {\"colorbar\": {\"outlinewidth\": 0, \"ticks\": \"\"}}, \"type\": \"scatter3d\"}], \"scattercarpet\": [{\"marker\": {\"colorbar\": {\"outlinewidth\": 0, \"ticks\": \"\"}}, \"type\": \"scattercarpet\"}], \"scattergeo\": [{\"marker\": {\"colorbar\": {\"outlinewidth\": 0, \"ticks\": \"\"}}, \"type\": \"scattergeo\"}], \"scattergl\": [{\"marker\": {\"colorbar\": {\"outlinewidth\": 0, \"ticks\": \"\"}}, \"type\": \"scattergl\"}], \"scattermapbox\": [{\"marker\": {\"colorbar\": {\"outlinewidth\": 0, \"ticks\": \"\"}}, \"type\": \"scattermapbox\"}], \"scatterpolar\": [{\"marker\": {\"colorbar\": {\"outlinewidth\": 0, \"ticks\": \"\"}}, \"type\": \"scatterpolar\"}], \"scatterpolargl\": [{\"marker\": {\"colorbar\": {\"outlinewidth\": 0, \"ticks\": \"\"}}, \"type\": \"scatterpolargl\"}], \"scatterternary\": [{\"marker\": {\"colorbar\": {\"outlinewidth\": 0, \"ticks\": \"\"}}, \"type\": \"scatterternary\"}], \"surface\": [{\"colorbar\": {\"outlinewidth\": 0, \"ticks\": \"\"}, \"colorscale\": [[0.0, \"#0d0887\"], [0.1111111111111111, \"#46039f\"], [0.2222222222222222, \"#7201a8\"], [0.3333333333333333, \"#9c179e\"], [0.4444444444444444, \"#bd3786\"], [0.5555555555555556, \"#d8576b\"], [0.6666666666666666, \"#ed7953\"], [0.7777777777777778, \"#fb9f3a\"], [0.8888888888888888, \"#fdca26\"], [1.0, \"#f0f921\"]], \"type\": \"surface\"}], \"table\": [{\"cells\": {\"fill\": {\"color\": \"#EBF0F8\"}, \"line\": {\"color\": \"white\"}}, \"header\": {\"fill\": {\"color\": \"#C8D4E3\"}, \"line\": {\"color\": \"white\"}}, \"type\": \"table\"}]}, \"layout\": {\"annotationdefaults\": {\"arrowcolor\": \"#2a3f5f\", \"arrowhead\": 0, \"arrowwidth\": 1}, \"coloraxis\": {\"colorbar\": {\"outlinewidth\": 0, \"ticks\": \"\"}}, \"colorscale\": {\"diverging\": [[0, \"#8e0152\"], [0.1, \"#c51b7d\"], [0.2, \"#de77ae\"], [0.3, \"#f1b6da\"], [0.4, \"#fde0ef\"], [0.5, \"#f7f7f7\"], [0.6, \"#e6f5d0\"], [0.7, \"#b8e186\"], [0.8, \"#7fbc41\"], [0.9, \"#4d9221\"], [1, \"#276419\"]], \"sequential\": [[0.0, \"#0d0887\"], [0.1111111111111111, \"#46039f\"], [0.2222222222222222, \"#7201a8\"], [0.3333333333333333, \"#9c179e\"], [0.4444444444444444, \"#bd3786\"], [0.5555555555555556, \"#d8576b\"], [0.6666666666666666, \"#ed7953\"], [0.7777777777777778, \"#fb9f3a\"], [0.8888888888888888, \"#fdca26\"], [1.0, \"#f0f921\"]], \"sequentialminus\": [[0.0, \"#0d0887\"], [0.1111111111111111, \"#46039f\"], [0.2222222222222222, \"#7201a8\"], [0.3333333333333333, \"#9c179e\"], [0.4444444444444444, \"#bd3786\"], [0.5555555555555556, \"#d8576b\"], [0.6666666666666666, \"#ed7953\"], [0.7777777777777778, \"#fb9f3a\"], [0.8888888888888888, \"#fdca26\"], [1.0, \"#f0f921\"]]}, \"colorway\": [\"#636efa\", \"#EF553B\", \"#00cc96\", \"#ab63fa\", \"#FFA15A\", \"#19d3f3\", \"#FF6692\", \"#B6E880\", \"#FF97FF\", \"#FECB52\"], \"font\": {\"color\": \"#2a3f5f\"}, \"geo\": {\"bgcolor\": \"white\", \"lakecolor\": \"white\", \"landcolor\": \"#E5ECF6\", \"showlakes\": true, \"showland\": true, \"subunitcolor\": \"white\"}, \"hoverlabel\": {\"align\": \"left\"}, \"hovermode\": \"closest\", \"mapbox\": {\"style\": \"light\"}, \"paper_bgcolor\": \"white\", \"plot_bgcolor\": \"#E5ECF6\", \"polar\": {\"angularaxis\": {\"gridcolor\": \"white\", \"linecolor\": \"white\", \"ticks\": \"\"}, \"bgcolor\": \"#E5ECF6\", \"radialaxis\": {\"gridcolor\": \"white\", \"linecolor\": \"white\", \"ticks\": \"\"}}, \"scene\": {\"xaxis\": {\"backgroundcolor\": \"#E5ECF6\", \"gridcolor\": \"white\", \"gridwidth\": 2, \"linecolor\": \"white\", \"showbackground\": true, \"ticks\": \"\", \"zerolinecolor\": \"white\"}, \"yaxis\": {\"backgroundcolor\": \"#E5ECF6\", \"gridcolor\": \"white\", \"gridwidth\": 2, \"linecolor\": \"white\", \"showbackground\": true, \"ticks\": \"\", \"zerolinecolor\": \"white\"}, \"zaxis\": {\"backgroundcolor\": \"#E5ECF6\", \"gridcolor\": \"white\", \"gridwidth\": 2, \"linecolor\": \"white\", \"showbackground\": true, \"ticks\": \"\", \"zerolinecolor\": \"white\"}}, \"shapedefaults\": {\"line\": {\"color\": \"#2a3f5f\"}}, \"ternary\": {\"aaxis\": {\"gridcolor\": \"white\", \"linecolor\": \"white\", \"ticks\": \"\"}, \"baxis\": {\"gridcolor\": \"white\", \"linecolor\": \"white\", \"ticks\": \"\"}, \"bgcolor\": \"#E5ECF6\", \"caxis\": {\"gridcolor\": \"white\", \"linecolor\": \"white\", \"ticks\": \"\"}}, \"title\": {\"x\": 0.05}, \"xaxis\": {\"automargin\": true, \"gridcolor\": \"white\", \"linecolor\": \"white\", \"ticks\": \"\", \"title\": {\"standoff\": 15}, \"zerolinecolor\": \"white\", \"zerolinewidth\": 2}, \"yaxis\": {\"automargin\": true, \"gridcolor\": \"white\", \"linecolor\": \"white\", \"ticks\": \"\", \"title\": {\"standoff\": 15}, \"zerolinecolor\": \"white\", \"zerolinewidth\": 2}}}, \"title\": {\"text\": \"#BooTheKnee\"}},\n",
              "                        {\"responsive\": true}\n",
              "                    ).then(function(){\n",
              "                            \n",
              "var gd = document.getElementById('12e7d46a-9270-4685-a06a-b98c004e0ada');\n",
              "var x = new MutationObserver(function (mutations, observer) {{\n",
              "        var display = window.getComputedStyle(gd).display;\n",
              "        if (!display || display === 'none') {{\n",
              "            console.log([gd, 'removed!']);\n",
              "            Plotly.purge(gd);\n",
              "            observer.disconnect();\n",
              "        }}\n",
              "}});\n",
              "\n",
              "// Listen for the removal of the full notebook cells\n",
              "var notebookContainer = gd.closest('#notebook-container');\n",
              "if (notebookContainer) {{\n",
              "    x.observe(notebookContainer, {childList: true});\n",
              "}}\n",
              "\n",
              "// Listen for the clearing of the current output cell\n",
              "var outputEl = gd.closest('.output');\n",
              "if (outputEl) {{\n",
              "    x.observe(outputEl, {childList: true});\n",
              "}}\n",
              "\n",
              "                        })\n",
              "                };\n",
              "                \n",
              "            </script>\n",
              "        </div>\n",
              "</body>\n",
              "</html>"
            ]
          },
          "metadata": {
            "tags": []
          }
        },
        {
          "output_type": "display_data",
          "data": {
            "text/html": [
              "<html>\n",
              "<head><meta charset=\"utf-8\" /></head>\n",
              "<body>\n",
              "    <div>\n",
              "            <script src=\"https://cdnjs.cloudflare.com/ajax/libs/mathjax/2.7.5/MathJax.js?config=TeX-AMS-MML_SVG\"></script><script type=\"text/javascript\">if (window.MathJax) {MathJax.Hub.Config({SVG: {font: \"STIX-Web\"}});}</script>\n",
              "                <script type=\"text/javascript\">window.PlotlyConfig = {MathJaxConfig: 'local'};</script>\n",
              "        <script src=\"https://cdn.plot.ly/plotly-latest.min.js\"></script>    \n",
              "            <div id=\"09117f07-d404-4c04-a9c4-c0fbb42e83c9\" class=\"plotly-graph-div\" style=\"height:525px; width:100%;\"></div>\n",
              "            <script type=\"text/javascript\">\n",
              "                \n",
              "                    window.PLOTLYENV=window.PLOTLYENV || {};\n",
              "                    \n",
              "                if (document.getElementById(\"09117f07-d404-4c04-a9c4-c0fbb42e83c9\")) {\n",
              "                    Plotly.newPlot(\n",
              "                        '09117f07-d404-4c04-a9c4-c0fbb42e83c9',\n",
              "                        [{\"name\": \"offensive\", \"text\": [0.0, 5.0, 0.0, 1.0, 3.0, 0.0, 6.0, 5.0, 2.0, 2.0, 1.0, 0.0, 13.0, 2.0, 1.0, 1.0, 0.0, 19.0, 6.0, 2.0, 2.0, 10.0, 9.0, 8.0, 1.0, 14.0, 12.0, 11.0, 10.0, 23.0, 116.0, 55.0, 22.0, 9.0, 4.0, 5.0, 1.0, 2.0], \"textposition\": \"inside\", \"type\": \"bar\", \"x\": [\"2021-06-12T00:00:00+00:00\", \"2021-06-13T00:00:00+00:00\", \"2021-06-14T00:00:00+00:00\", \"2021-06-15T00:00:00+00:00\", \"2021-06-16T00:00:00+00:00\", \"2021-06-17T00:00:00+00:00\", \"2021-06-18T00:00:00+00:00\", \"2021-06-19T00:00:00+00:00\", \"2021-06-20T00:00:00+00:00\", \"2021-06-21T00:00:00+00:00\", \"2021-06-22T00:00:00+00:00\", \"2021-06-23T00:00:00+00:00\", \"2021-06-24T00:00:00+00:00\", \"2021-06-25T00:00:00+00:00\", \"2021-06-26T00:00:00+00:00\", \"2021-06-27T00:00:00+00:00\", \"2021-06-28T00:00:00+00:00\", \"2021-06-29T00:00:00+00:00\", \"2021-06-30T00:00:00+00:00\", \"2021-07-01T00:00:00+00:00\", \"2021-07-02T00:00:00+00:00\", \"2021-07-03T00:00:00+00:00\", \"2021-07-04T00:00:00+00:00\", \"2021-07-05T00:00:00+00:00\", \"2021-07-06T00:00:00+00:00\", \"2021-07-07T00:00:00+00:00\", \"2021-07-08T00:00:00+00:00\", \"2021-07-09T00:00:00+00:00\", \"2021-07-10T00:00:00+00:00\", \"2021-07-11T00:00:00+00:00\", \"2021-07-12T00:00:00+00:00\", \"2021-07-13T00:00:00+00:00\", \"2021-07-14T00:00:00+00:00\", \"2021-07-15T00:00:00+00:00\", \"2021-07-16T00:00:00+00:00\", \"2021-07-17T00:00:00+00:00\", \"2021-07-18T00:00:00+00:00\", \"2021-07-19T00:00:00+00:00\"], \"y\": [0, 5, 0, 1, 3, 0, 6, 5, 2, 2, 1, 0, 13, 2, 1, 1, 0, 19, 6, 2, 2, 10, 9, 8, 1, 14, 12, 11, 10, 23, 116, 55, 22, 9, 4, 5, 1, 2]}, {\"name\": \"non-offensive\", \"text\": [5.0, 22.0, 10.0, 7.0, 17.0, 0.0, 428.0, 97.0, 59.0, 32.0, 78.0, 36.0, 42.0, 16.0, 17.0, 11.0, 62.0, 234.0, 140.0, 20.0, 44.0, 391.0, 473.0, 517.0, 51.0, 208.0, 180.0, 78.0, 174.0, 589.0, 2648.0, 2430.0, 1274.0, 955.0, 586.0, 329.0, 218.0, 59.0], \"textposition\": \"inside\", \"type\": \"bar\", \"x\": [\"2021-06-12T00:00:00+00:00\", \"2021-06-13T00:00:00+00:00\", \"2021-06-14T00:00:00+00:00\", \"2021-06-15T00:00:00+00:00\", \"2021-06-16T00:00:00+00:00\", \"2021-06-17T00:00:00+00:00\", \"2021-06-18T00:00:00+00:00\", \"2021-06-19T00:00:00+00:00\", \"2021-06-20T00:00:00+00:00\", \"2021-06-21T00:00:00+00:00\", \"2021-06-22T00:00:00+00:00\", \"2021-06-23T00:00:00+00:00\", \"2021-06-24T00:00:00+00:00\", \"2021-06-25T00:00:00+00:00\", \"2021-06-26T00:00:00+00:00\", \"2021-06-27T00:00:00+00:00\", \"2021-06-28T00:00:00+00:00\", \"2021-06-29T00:00:00+00:00\", \"2021-06-30T00:00:00+00:00\", \"2021-07-01T00:00:00+00:00\", \"2021-07-02T00:00:00+00:00\", \"2021-07-03T00:00:00+00:00\", \"2021-07-04T00:00:00+00:00\", \"2021-07-05T00:00:00+00:00\", \"2021-07-06T00:00:00+00:00\", \"2021-07-07T00:00:00+00:00\", \"2021-07-08T00:00:00+00:00\", \"2021-07-09T00:00:00+00:00\", \"2021-07-10T00:00:00+00:00\", \"2021-07-11T00:00:00+00:00\", \"2021-07-12T00:00:00+00:00\", \"2021-07-13T00:00:00+00:00\", \"2021-07-14T00:00:00+00:00\", \"2021-07-15T00:00:00+00:00\", \"2021-07-16T00:00:00+00:00\", \"2021-07-17T00:00:00+00:00\", \"2021-07-18T00:00:00+00:00\", \"2021-07-19T00:00:00+00:00\"], \"y\": [5, 22, 10, 7, 17, 0, 428, 97, 59, 32, 78, 36, 42, 16, 17, 11, 62, 234, 140, 20, 44, 391, 473, 517, 51, 208, 180, 78, 174, 589, 2648, 2430, 1274, 955, 586, 329, 218, 59]}],\n",
              "                        {\"barmode\": \"stack\", \"template\": {\"data\": {\"bar\": [{\"error_x\": {\"color\": \"#2a3f5f\"}, \"error_y\": {\"color\": \"#2a3f5f\"}, \"marker\": {\"line\": {\"color\": \"#E5ECF6\", \"width\": 0.5}}, \"type\": \"bar\"}], \"barpolar\": [{\"marker\": {\"line\": {\"color\": \"#E5ECF6\", \"width\": 0.5}}, \"type\": \"barpolar\"}], \"carpet\": [{\"aaxis\": {\"endlinecolor\": \"#2a3f5f\", \"gridcolor\": \"white\", \"linecolor\": \"white\", \"minorgridcolor\": \"white\", \"startlinecolor\": \"#2a3f5f\"}, \"baxis\": {\"endlinecolor\": \"#2a3f5f\", \"gridcolor\": \"white\", \"linecolor\": \"white\", \"minorgridcolor\": \"white\", \"startlinecolor\": \"#2a3f5f\"}, \"type\": \"carpet\"}], \"choropleth\": [{\"colorbar\": {\"outlinewidth\": 0, \"ticks\": \"\"}, \"type\": \"choropleth\"}], \"contour\": [{\"colorbar\": {\"outlinewidth\": 0, \"ticks\": \"\"}, \"colorscale\": [[0.0, \"#0d0887\"], [0.1111111111111111, \"#46039f\"], [0.2222222222222222, \"#7201a8\"], [0.3333333333333333, \"#9c179e\"], [0.4444444444444444, \"#bd3786\"], [0.5555555555555556, \"#d8576b\"], [0.6666666666666666, \"#ed7953\"], [0.7777777777777778, \"#fb9f3a\"], [0.8888888888888888, \"#fdca26\"], [1.0, \"#f0f921\"]], \"type\": \"contour\"}], \"contourcarpet\": [{\"colorbar\": {\"outlinewidth\": 0, \"ticks\": \"\"}, \"type\": \"contourcarpet\"}], \"heatmap\": [{\"colorbar\": {\"outlinewidth\": 0, \"ticks\": \"\"}, \"colorscale\": [[0.0, \"#0d0887\"], [0.1111111111111111, \"#46039f\"], [0.2222222222222222, \"#7201a8\"], [0.3333333333333333, \"#9c179e\"], [0.4444444444444444, \"#bd3786\"], [0.5555555555555556, \"#d8576b\"], [0.6666666666666666, \"#ed7953\"], [0.7777777777777778, \"#fb9f3a\"], [0.8888888888888888, \"#fdca26\"], [1.0, \"#f0f921\"]], \"type\": \"heatmap\"}], \"heatmapgl\": [{\"colorbar\": {\"outlinewidth\": 0, \"ticks\": \"\"}, \"colorscale\": [[0.0, \"#0d0887\"], [0.1111111111111111, \"#46039f\"], [0.2222222222222222, \"#7201a8\"], [0.3333333333333333, \"#9c179e\"], [0.4444444444444444, \"#bd3786\"], [0.5555555555555556, \"#d8576b\"], [0.6666666666666666, \"#ed7953\"], [0.7777777777777778, \"#fb9f3a\"], [0.8888888888888888, \"#fdca26\"], [1.0, \"#f0f921\"]], \"type\": \"heatmapgl\"}], \"histogram\": [{\"marker\": {\"colorbar\": {\"outlinewidth\": 0, \"ticks\": \"\"}}, \"type\": \"histogram\"}], \"histogram2d\": [{\"colorbar\": {\"outlinewidth\": 0, \"ticks\": \"\"}, \"colorscale\": [[0.0, \"#0d0887\"], [0.1111111111111111, \"#46039f\"], [0.2222222222222222, \"#7201a8\"], [0.3333333333333333, \"#9c179e\"], [0.4444444444444444, \"#bd3786\"], [0.5555555555555556, \"#d8576b\"], [0.6666666666666666, \"#ed7953\"], [0.7777777777777778, \"#fb9f3a\"], [0.8888888888888888, \"#fdca26\"], [1.0, \"#f0f921\"]], \"type\": \"histogram2d\"}], \"histogram2dcontour\": [{\"colorbar\": {\"outlinewidth\": 0, \"ticks\": \"\"}, \"colorscale\": [[0.0, \"#0d0887\"], [0.1111111111111111, \"#46039f\"], [0.2222222222222222, \"#7201a8\"], [0.3333333333333333, \"#9c179e\"], [0.4444444444444444, \"#bd3786\"], [0.5555555555555556, \"#d8576b\"], [0.6666666666666666, \"#ed7953\"], [0.7777777777777778, \"#fb9f3a\"], [0.8888888888888888, \"#fdca26\"], [1.0, \"#f0f921\"]], \"type\": \"histogram2dcontour\"}], \"mesh3d\": [{\"colorbar\": {\"outlinewidth\": 0, \"ticks\": \"\"}, \"type\": \"mesh3d\"}], \"parcoords\": [{\"line\": {\"colorbar\": {\"outlinewidth\": 0, \"ticks\": \"\"}}, \"type\": \"parcoords\"}], \"pie\": [{\"automargin\": true, \"type\": \"pie\"}], \"scatter\": [{\"marker\": {\"colorbar\": {\"outlinewidth\": 0, \"ticks\": \"\"}}, \"type\": \"scatter\"}], \"scatter3d\": [{\"line\": {\"colorbar\": {\"outlinewidth\": 0, \"ticks\": \"\"}}, \"marker\": {\"colorbar\": {\"outlinewidth\": 0, \"ticks\": \"\"}}, \"type\": \"scatter3d\"}], \"scattercarpet\": [{\"marker\": {\"colorbar\": {\"outlinewidth\": 0, \"ticks\": \"\"}}, \"type\": \"scattercarpet\"}], \"scattergeo\": [{\"marker\": {\"colorbar\": {\"outlinewidth\": 0, \"ticks\": \"\"}}, \"type\": \"scattergeo\"}], \"scattergl\": [{\"marker\": {\"colorbar\": {\"outlinewidth\": 0, \"ticks\": \"\"}}, \"type\": \"scattergl\"}], \"scattermapbox\": [{\"marker\": {\"colorbar\": {\"outlinewidth\": 0, \"ticks\": \"\"}}, \"type\": \"scattermapbox\"}], \"scatterpolar\": [{\"marker\": {\"colorbar\": {\"outlinewidth\": 0, \"ticks\": \"\"}}, \"type\": \"scatterpolar\"}], \"scatterpolargl\": [{\"marker\": {\"colorbar\": {\"outlinewidth\": 0, \"ticks\": \"\"}}, \"type\": \"scatterpolargl\"}], \"scatterternary\": [{\"marker\": {\"colorbar\": {\"outlinewidth\": 0, \"ticks\": \"\"}}, \"type\": \"scatterternary\"}], \"surface\": [{\"colorbar\": {\"outlinewidth\": 0, \"ticks\": \"\"}, \"colorscale\": [[0.0, \"#0d0887\"], [0.1111111111111111, \"#46039f\"], [0.2222222222222222, \"#7201a8\"], [0.3333333333333333, \"#9c179e\"], [0.4444444444444444, \"#bd3786\"], [0.5555555555555556, \"#d8576b\"], [0.6666666666666666, \"#ed7953\"], [0.7777777777777778, \"#fb9f3a\"], [0.8888888888888888, \"#fdca26\"], [1.0, \"#f0f921\"]], \"type\": \"surface\"}], \"table\": [{\"cells\": {\"fill\": {\"color\": \"#EBF0F8\"}, \"line\": {\"color\": \"white\"}}, \"header\": {\"fill\": {\"color\": \"#C8D4E3\"}, \"line\": {\"color\": \"white\"}}, \"type\": \"table\"}]}, \"layout\": {\"annotationdefaults\": {\"arrowcolor\": \"#2a3f5f\", \"arrowhead\": 0, \"arrowwidth\": 1}, \"coloraxis\": {\"colorbar\": {\"outlinewidth\": 0, \"ticks\": \"\"}}, \"colorscale\": {\"diverging\": [[0, \"#8e0152\"], [0.1, \"#c51b7d\"], [0.2, \"#de77ae\"], [0.3, \"#f1b6da\"], [0.4, \"#fde0ef\"], [0.5, \"#f7f7f7\"], [0.6, \"#e6f5d0\"], [0.7, \"#b8e186\"], [0.8, \"#7fbc41\"], [0.9, \"#4d9221\"], [1, \"#276419\"]], \"sequential\": [[0.0, \"#0d0887\"], [0.1111111111111111, \"#46039f\"], [0.2222222222222222, \"#7201a8\"], [0.3333333333333333, \"#9c179e\"], [0.4444444444444444, \"#bd3786\"], [0.5555555555555556, \"#d8576b\"], [0.6666666666666666, \"#ed7953\"], [0.7777777777777778, \"#fb9f3a\"], [0.8888888888888888, \"#fdca26\"], [1.0, \"#f0f921\"]], \"sequentialminus\": [[0.0, \"#0d0887\"], [0.1111111111111111, \"#46039f\"], [0.2222222222222222, \"#7201a8\"], [0.3333333333333333, \"#9c179e\"], [0.4444444444444444, \"#bd3786\"], [0.5555555555555556, \"#d8576b\"], [0.6666666666666666, \"#ed7953\"], [0.7777777777777778, \"#fb9f3a\"], [0.8888888888888888, \"#fdca26\"], [1.0, \"#f0f921\"]]}, \"colorway\": [\"#636efa\", \"#EF553B\", \"#00cc96\", \"#ab63fa\", \"#FFA15A\", \"#19d3f3\", \"#FF6692\", \"#B6E880\", \"#FF97FF\", \"#FECB52\"], \"font\": {\"color\": \"#2a3f5f\"}, \"geo\": {\"bgcolor\": \"white\", \"lakecolor\": \"white\", \"landcolor\": \"#E5ECF6\", \"showlakes\": true, \"showland\": true, \"subunitcolor\": \"white\"}, \"hoverlabel\": {\"align\": \"left\"}, \"hovermode\": \"closest\", \"mapbox\": {\"style\": \"light\"}, \"paper_bgcolor\": \"white\", \"plot_bgcolor\": \"#E5ECF6\", \"polar\": {\"angularaxis\": {\"gridcolor\": \"white\", \"linecolor\": \"white\", \"ticks\": \"\"}, \"bgcolor\": \"#E5ECF6\", \"radialaxis\": {\"gridcolor\": \"white\", \"linecolor\": \"white\", \"ticks\": \"\"}}, \"scene\": {\"xaxis\": {\"backgroundcolor\": \"#E5ECF6\", \"gridcolor\": \"white\", \"gridwidth\": 2, \"linecolor\": \"white\", \"showbackground\": true, \"ticks\": \"\", \"zerolinecolor\": \"white\"}, \"yaxis\": {\"backgroundcolor\": \"#E5ECF6\", \"gridcolor\": \"white\", \"gridwidth\": 2, \"linecolor\": \"white\", \"showbackground\": true, \"ticks\": \"\", \"zerolinecolor\": \"white\"}, \"zaxis\": {\"backgroundcolor\": \"#E5ECF6\", \"gridcolor\": \"white\", \"gridwidth\": 2, \"linecolor\": \"white\", \"showbackground\": true, \"ticks\": \"\", \"zerolinecolor\": \"white\"}}, \"shapedefaults\": {\"line\": {\"color\": \"#2a3f5f\"}}, \"ternary\": {\"aaxis\": {\"gridcolor\": \"white\", \"linecolor\": \"white\", \"ticks\": \"\"}, \"baxis\": {\"gridcolor\": \"white\", \"linecolor\": \"white\", \"ticks\": \"\"}, \"bgcolor\": \"#E5ECF6\", \"caxis\": {\"gridcolor\": \"white\", \"linecolor\": \"white\", \"ticks\": \"\"}}, \"title\": {\"x\": 0.05}, \"xaxis\": {\"automargin\": true, \"gridcolor\": \"white\", \"linecolor\": \"white\", \"ticks\": \"\", \"title\": {\"standoff\": 15}, \"zerolinecolor\": \"white\", \"zerolinewidth\": 2}, \"yaxis\": {\"automargin\": true, \"gridcolor\": \"white\", \"linecolor\": \"white\", \"ticks\": \"\", \"title\": {\"standoff\": 15}, \"zerolinecolor\": \"white\", \"zerolinewidth\": 2}}}, \"title\": {\"text\": \"#TakeTheKnee\"}},\n",
              "                        {\"responsive\": true}\n",
              "                    ).then(function(){\n",
              "                            \n",
              "var gd = document.getElementById('09117f07-d404-4c04-a9c4-c0fbb42e83c9');\n",
              "var x = new MutationObserver(function (mutations, observer) {{\n",
              "        var display = window.getComputedStyle(gd).display;\n",
              "        if (!display || display === 'none') {{\n",
              "            console.log([gd, 'removed!']);\n",
              "            Plotly.purge(gd);\n",
              "            observer.disconnect();\n",
              "        }}\n",
              "}});\n",
              "\n",
              "// Listen for the removal of the full notebook cells\n",
              "var notebookContainer = gd.closest('#notebook-container');\n",
              "if (notebookContainer) {{\n",
              "    x.observe(notebookContainer, {childList: true});\n",
              "}}\n",
              "\n",
              "// Listen for the clearing of the current output cell\n",
              "var outputEl = gd.closest('.output');\n",
              "if (outputEl) {{\n",
              "    x.observe(outputEl, {childList: true});\n",
              "}}\n",
              "\n",
              "                        })\n",
              "                };\n",
              "                \n",
              "            </script>\n",
              "        </div>\n",
              "</body>\n",
              "</html>"
            ]
          },
          "metadata": {
            "tags": []
          }
        }
      ]
    },
    {
      "cell_type": "code",
      "metadata": {
        "id": "NsCK_-g7auAV"
      },
      "source": [
        "# Menthod for creating a wordcloud, and print out the most frequently used slurs\n",
        "def create_slur_wordcloud(col_name):\n",
        "    list_of_terms = [a for b in joined_df[col_name][joined_df[col_name] != \"[]\"].str.replace(\"'\", \"\").str.replace(\"[\", \"\").str.replace(\"]\", \"\").str.split(\", \") for a in b]\n",
        "    wc = WordCloud(background_color=\"white\", collocations=False).generate(\" \".join(list_of_terms))\n",
        "    plt.figure()\n",
        "    plt.imshow(wc, interpolation=\"bilinear\")\n",
        "    plt.axis(\"off\")\n",
        "    plt.show()\n",
        "\n",
        "    slur_df = pd.DataFrame(columns=[\"term\", \"count\"])\n",
        "    slur_df['term'] = list_of_terms\n",
        "    slur_df['count'] = slur_df['count'].fillna(0)\n",
        "    slur_df = slur_df.groupby(['term']).count()\n",
        "    slur_df = slur_df.sort_values('count', axis=0, ascending=False)\n",
        "    print(slur_df.head(20))"
      ],
      "execution_count": 100,
      "outputs": []
    },
    {
      "cell_type": "code",
      "metadata": {
        "colab": {
          "base_uri": "https://localhost:8080/",
          "height": 602
        },
        "id": "6FtQ8Ji5ci5T",
        "outputId": "947e8678-0a31-4874-dd0d-a07c3068909d"
      },
      "source": [
        "create_slur_wordcloud(\"matching_hatebase_terms_over_70\")"
      ],
      "execution_count": 101,
      "outputs": [
        {
          "output_type": "display_data",
          "data": {
            "image/png": "[encoded data removed]",
            "text/plain": [
              "<Figure size 432x288 with 1 Axes>"
            ]
          },
          "metadata": {
            "tags": [],
            "needs_background": "light"
          }
        },
        {
          "output_type": "stream",
          "text": [
            "           count\n",
            "term            \n",
            "boo         1660\n",
            "queen         31\n",
            "snowflake     17\n",
            "slaves        12\n",
            "cunts         11\n",
            "monkey        11\n",
            "chief         10\n",
            "ghost          7\n",
            "cunt           4\n",
            "shine          4\n",
            "gay            4\n",
            "sole           4\n",
            "slave          4\n",
            "moor           4\n",
            "shade          3\n",
            "coloured       3\n",
            "mock           3\n",
            "property       2\n",
            "mong           2\n",
            "lefty          2\n"
          ],
          "name": "stdout"
        }
      ]
    },
    {
      "cell_type": "code",
      "metadata": {
        "colab": {
          "base_uri": "https://localhost:8080/"
        },
        "id": "x0r74gzacwfM",
        "outputId": "bb933857-eafc-4f4b-ab7a-0f69d436895d"
      },
      "source": [
        "joined_df[joined_df['tweet_text'].str.contains('monkey')]['tweet_text']\n",
        "for i in [3656, 5043, 6923, 7130, 7243, 8117, 9272, 11469]:\n",
        "  print(joined_df.iloc[i]['tweet_text'])"
      ],
      "execution_count": 118,
      "outputs": [
        {
          "output_type": "stream",
          "text": [
            "(1/2) Well done @GarethSouthgate. You have summed it right up about #TakeTheKnee   ANYONE who makes monkey sounds at black people, NEWSFLASH, YOU ARE A #Racist  Known racists or racist enablers - @pritipatel, @BorisJohnson, @UEFA, @FIFA to begin with  https://t.co/2QdkTvxiwn.\n",
            "\"England doesn't have a problem with racism why do they take the knee\" A black teenager misses a pen after good performances (besides the final) gets literally fucking monkey emoji sent you him. Absolutely get to fuck. Disgusting #TakeTheKnee #ENG https://t.co/mQXLYUx7t8\n",
            "@MailOnline Really? the man who called Obama the \"kenyan president\" was on the wrong side when it came to #TakeTheKnee &amp; was silent when his friend put out a picture of Archie as a monkey, wan's to pretend he is not part of that culture?\n",
            "🙌 Angela Rayner calls out not just past DOCUMENTED #Racism of #BorisJohnson &amp; fact he condoned protests AGAINST #TakeTheKnee   Ex UKIP Tory, George Eustice, refused to condemn #Millwall fans who booed &amp; monkey chanted against players #TakingTheKnee  #DogWhistlePolitics  #C4News https://t.co/C6pl4y7rvE https://t.co/rUdJHzqKXC\n",
            "@Anna_Soubry #TakeTheKnee   You can only root racism out of football by training cameras on the idiots who boo black players or monkey-chant.  #TakingTheKnee is an empty, grandstanding gesture muddling the water by injecting a US issue.\n",
            "@CheeseNBranston @The_Leaver @Begentle50 @MattFingersArni @markwh2001 @Matt_GS @fan_vor @ShaneJa16905901 @Roblev0 @susan04071 @David19531501 @Davidmetroland @Mindedmusically @BrunoTheBridge @afewpoints @ConraddKonnrad @BlamesJinds @NielsOckelmann @JohnRya13591294 @brianbloop2 @Damocles802701 @tobedecided22 @ClaremontGiddy @thegrimbarian @Europhile123 @jbm751121 @wanderer_bolton @Mac_Paddy54 @CarlsbadCharlie @Sir_Tom_Tucker @howsitspelled @MattAdkin @Ciolfilicious1 @geor97 @Chris_not_a_bot @resiguru @BeowulfSchaefer @Shegor97 @condimentset @gipsyskov @GeoffreyKeey @johnnyZ1964 @viv_cooper @mysticl @graeme_boro @CharlesAlbertJ2 @SamanthaFoxy1 @terrasea @TonyGagliardi4 @chattymonkey The English Fa say if you boo the knee you do not support England and are not welcome.  #BooTheKnee #NotMyEnglandTeam\n",
            "#TakeTheKnee Perverted Labour Redbridge council hires actor in rainbow coloured monkey outfit inc fake penis &amp; nipples to appear at public event encouraging Kids to read LGBTblar+ Accounts on social media have backed the performance &amp; council #Grooming https://t.co/fqmY50g6z2\n",
            "RT @ThatOurDream: #TakeTheKnee Perverted Labour Redbridge council hires actor in rainbow coloured monkey outfit inc fake penis &amp; nipples to…\n"
          ],
          "name": "stdout"
        }
      ]
    }
  ]
}