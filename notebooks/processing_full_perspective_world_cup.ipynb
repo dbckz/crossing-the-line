{
  "nbformat": 4,
  "nbformat_minor": 0,
  "metadata": {
    "colab": {
      "name": "processing_full_perspective_world_cup.ipynb",
      "provenance": [],
      "include_colab_link": true
    },
    "kernelspec": {
      "name": "python3",
      "display_name": "Python 3"
    },
    "language_info": {
      "name": "python"
    }
  },
  "cells": [
    {
      "cell_type": "markdown",
      "metadata": {
        "id": "view-in-github",
        "colab_type": "text"
      },
      "source": [
        "<a href=\"https://colab.research.google.com/github/dbckz/crossing-the-line/blob/master/notebooks/processing_full_perspective_world_cup.ipynb\" target=\"_parent\"><img src=\"https://colab.research.google.com/assets/colab-badge.svg\" alt=\"Open In Colab\"/></a>"
      ]
    },
    {
      "cell_type": "markdown",
      "metadata": {
        "id": "GRM6N6JuZFfF"
      },
      "source": [
        "# Setup"
      ]
    },
    {
      "cell_type": "code",
      "metadata": {
        "id": "y7d3z3-jBIwQ"
      },
      "source": [
        "import pandas as pd\n",
        "import ast\n",
        "import os\n",
        "import numpy as np\n",
        "import matplotlib.pyplot as plt\n",
        "from wordcloud import WordCloud\n",
        "from tqdm import tqdm\n",
        "from google.colab import drive\n",
        "import plotly.graph_objects as go"
      ],
      "execution_count": 1,
      "outputs": []
    },
    {
      "cell_type": "code",
      "metadata": {
        "colab": {
          "base_uri": "https://localhost:8080/"
        },
        "id": "ijZC6v-VBaZK",
        "outputId": "d06172f9-d707-4532-a10e-a4e403d8cc03"
      },
      "source": [
        "drive.mount('/content/drive')"
      ],
      "execution_count": 2,
      "outputs": [
        {
          "output_type": "stream",
          "name": "stdout",
          "text": [
            "Mounted at /content/drive\n"
          ]
        }
      ]
    },
    {
      "cell_type": "code",
      "metadata": {
        "id": "3bU3fWqpBfuw"
      },
      "source": [
        "# Set up paths\n",
        "root_path = \"/content/drive/MyDrive/University/Dissertation/world_cup_data\"\n",
        "graph_path = root_path + \"/graphs\"\n",
        "\n",
        "day_paths = day_paths = [\n",
        "        \"/1\",\n",
        "        \"/2\"\n",
        "    ]"
      ],
      "execution_count": 3,
      "outputs": []
    },
    {
      "cell_type": "code",
      "metadata": {
        "id": "8cLTHniaBmpb"
      },
      "source": [
        "# Create directory to store visualisations\n",
        "try:\n",
        "    os.mkdir(graph_path)\n",
        "except OSError as error:\n",
        "    print(error)"
      ],
      "execution_count": 4,
      "outputs": []
    },
    {
      "cell_type": "code",
      "metadata": {
        "colab": {
          "base_uri": "https://localhost:8080/"
        },
        "id": "VqtIrThfBpAQ",
        "outputId": "4280431f-1e03-4ed0-f3ac-da347574bc29"
      },
      "source": [
        "# Load data\n",
        "in_tweets = pd.DataFrame()\n",
        "persp = pd.DataFrame()\n",
        "emojis = pd.DataFrame()\n",
        "for path in day_paths:\n",
        "    directory = root_path + path\n",
        "    tweets_csv = directory + \"/tweets.csv\"\n",
        "    persp_csv = directory + \"/perspective_processed_tweets.csv\"\n",
        "    emojis_csv = directory + \"/emoji.csv\"\n",
        "\n",
        "    print(f\"Loading CSVs for directory {path}...\")\n",
        "    in_tweets = pd.concat([in_tweets, \n",
        "                           pd.read_csv(tweets_csv,\n",
        "                                       usecols = [\n",
        "                                                  'created_at',\n",
        "                                                  'tweet_id',\n",
        "                                                  'tweet_text',\n",
        "                                                  'accounts_mentioned'\n",
        "                                       ],\n",
        "                                       dtype = {\n",
        "                                          # 'created_at':\n",
        "                                          'tweet_id': np.int64,\n",
        "                                          'tweet_text': str,\n",
        "                                          'accounts_mentioned': object\n",
        "                                       },\n",
        "                                       parse_dates=['created_at'])])\n",
        "\n",
        "    persp = pd.concat([persp, pd.read_csv(persp_csv,\n",
        "                                          usecols = [\n",
        "                                                      'tweet_id',\n",
        "                                                      'identity_attack_score',\n",
        "                                                      'threat_score',\n",
        "                                                      'severe_toxicity_score',\n",
        "                                                      'insult_score'\n",
        "                                                      \n",
        "                                          ],\n",
        "                                          dtype = {\n",
        "                                              'tweet_id': np.int64,\n",
        "                                              'identity_attack_score': np.float,\n",
        "                                              'threat_score': np.float,\n",
        "                                              'severe_toxicity_score': np.float,\n",
        "                                              'insult_score': np.float\n",
        "                                          })])\n",
        "\n",
        "# Dedup\n",
        "original_tweets_length = len(in_tweets)\n",
        "original_persp_length = len(persp)\n",
        "in_tweets.drop_duplicates(subset=['tweet_id'], inplace=True)\n",
        "persp.drop_duplicates(subset=['tweet_id'], inplace=True)\n",
        "print(f\"Size of tweets dataframe: {len(in_tweets)}, having dropped {original_tweets_length - len(in_tweets)} duplicate rows\")\n",
        "print(f\"Size of perspective dataframe: {len(persp)}, having dropped {original_persp_length - len(persp)} duplicate rows\")\n"
      ],
      "execution_count": 5,
      "outputs": [
        {
          "output_type": "stream",
          "name": "stdout",
          "text": [
            "Loading CSVs for directory /1...\n"
          ]
        },
        {
          "output_type": "stream",
          "name": "stderr",
          "text": [
            "<ipython-input-5-1f09953da43b>:39: DeprecationWarning: `np.float` is a deprecated alias for the builtin `float`. To silence this warning, use `float` by itself. Doing this will not modify any behavior and is safe. If you specifically wanted the numpy scalar type, use `np.float64` here.\n",
            "Deprecated in NumPy 1.20; for more details and guidance: https://numpy.org/devdocs/release/1.20.0-notes.html#deprecations\n",
            "  'identity_attack_score': np.float,\n",
            "<ipython-input-5-1f09953da43b>:40: DeprecationWarning: `np.float` is a deprecated alias for the builtin `float`. To silence this warning, use `float` by itself. Doing this will not modify any behavior and is safe. If you specifically wanted the numpy scalar type, use `np.float64` here.\n",
            "Deprecated in NumPy 1.20; for more details and guidance: https://numpy.org/devdocs/release/1.20.0-notes.html#deprecations\n",
            "  'threat_score': np.float,\n",
            "<ipython-input-5-1f09953da43b>:41: DeprecationWarning: `np.float` is a deprecated alias for the builtin `float`. To silence this warning, use `float` by itself. Doing this will not modify any behavior and is safe. If you specifically wanted the numpy scalar type, use `np.float64` here.\n",
            "Deprecated in NumPy 1.20; for more details and guidance: https://numpy.org/devdocs/release/1.20.0-notes.html#deprecations\n",
            "  'severe_toxicity_score': np.float,\n",
            "<ipython-input-5-1f09953da43b>:42: DeprecationWarning: `np.float` is a deprecated alias for the builtin `float`. To silence this warning, use `float` by itself. Doing this will not modify any behavior and is safe. If you specifically wanted the numpy scalar type, use `np.float64` here.\n",
            "Deprecated in NumPy 1.20; for more details and guidance: https://numpy.org/devdocs/release/1.20.0-notes.html#deprecations\n",
            "  'insult_score': np.float\n"
          ]
        },
        {
          "output_type": "stream",
          "name": "stdout",
          "text": [
            "Loading CSVs for directory /2...\n"
          ]
        },
        {
          "output_type": "stream",
          "name": "stderr",
          "text": [
            "<ipython-input-5-1f09953da43b>:39: DeprecationWarning: `np.float` is a deprecated alias for the builtin `float`. To silence this warning, use `float` by itself. Doing this will not modify any behavior and is safe. If you specifically wanted the numpy scalar type, use `np.float64` here.\n",
            "Deprecated in NumPy 1.20; for more details and guidance: https://numpy.org/devdocs/release/1.20.0-notes.html#deprecations\n",
            "  'identity_attack_score': np.float,\n",
            "<ipython-input-5-1f09953da43b>:40: DeprecationWarning: `np.float` is a deprecated alias for the builtin `float`. To silence this warning, use `float` by itself. Doing this will not modify any behavior and is safe. If you specifically wanted the numpy scalar type, use `np.float64` here.\n",
            "Deprecated in NumPy 1.20; for more details and guidance: https://numpy.org/devdocs/release/1.20.0-notes.html#deprecations\n",
            "  'threat_score': np.float,\n",
            "<ipython-input-5-1f09953da43b>:41: DeprecationWarning: `np.float` is a deprecated alias for the builtin `float`. To silence this warning, use `float` by itself. Doing this will not modify any behavior and is safe. If you specifically wanted the numpy scalar type, use `np.float64` here.\n",
            "Deprecated in NumPy 1.20; for more details and guidance: https://numpy.org/devdocs/release/1.20.0-notes.html#deprecations\n",
            "  'severe_toxicity_score': np.float,\n",
            "<ipython-input-5-1f09953da43b>:42: DeprecationWarning: `np.float` is a deprecated alias for the builtin `float`. To silence this warning, use `float` by itself. Doing this will not modify any behavior and is safe. If you specifically wanted the numpy scalar type, use `np.float64` here.\n",
            "Deprecated in NumPy 1.20; for more details and guidance: https://numpy.org/devdocs/release/1.20.0-notes.html#deprecations\n",
            "  'insult_score': np.float\n"
          ]
        },
        {
          "output_type": "stream",
          "name": "stdout",
          "text": [
            "Size of tweets dataframe: 140257, having dropped 7797 duplicate rows\n",
            "Size of perspective dataframe: 140257, having dropped 7799 duplicate rows\n"
          ]
        }
      ]
    },
    {
      "cell_type": "code",
      "metadata": {
        "id": "sAADH49yDUaO"
      },
      "source": [
        "# Up the pandas display limits so printed dataframes aren't so truncated\n",
        "pd.set_option('display.max_rows', 100)\n",
        "pd.set_option('display.max_columns', 100)\n",
        "pd.set_option('display.width', None)\n",
        "pd.set_option('display.max_colwidth', None)\n",
        "pd.set_option('display.max_info_rows', 100)\n",
        "pd.set_option('display.max_info_columns', 100)\n",
        "pd.set_option('display.precision', 9)"
      ],
      "execution_count": 6,
      "outputs": []
    },
    {
      "cell_type": "code",
      "metadata": {
        "id": "rK6fN3eADf1j",
        "colab": {
          "base_uri": "https://localhost:8080/"
        },
        "outputId": "a4a6ca75-4f05-480f-95ff-95466b9a5086"
      },
      "source": [
        "# Join tables + drop old ones!\n",
        "joined_df = pd.merge(in_tweets, persp, how='inner', on='tweet_id')\n",
        "del persp\n",
        "del in_tweets\n",
        "len(joined_df)"
      ],
      "execution_count": 7,
      "outputs": [
        {
          "output_type": "execute_result",
          "data": {
            "text/plain": [
              "140257"
            ]
          },
          "metadata": {},
          "execution_count": 7
        }
      ]
    },
    {
      "cell_type": "code",
      "metadata": {
        "colab": {
          "base_uri": "https://localhost:8080/"
        },
        "id": "ojO6vp-FDQpg",
        "outputId": "1135f378-bdfe-4728-a08c-302bf53db79e"
      },
      "source": [
        "# joined_df = joined_df[(joined_df['created_at'] > '2021-06-19 08:10:18+00:00') & (joined_df['created_at'] < '2021-07-17 00:00:00+00:00')]\n",
        "len(joined_df)"
      ],
      "execution_count": 8,
      "outputs": [
        {
          "output_type": "execute_result",
          "data": {
            "text/plain": [
              "140257"
            ]
          },
          "metadata": {},
          "execution_count": 8
        }
      ]
    },
    {
      "cell_type": "markdown",
      "metadata": {
        "id": "sAs12WDWZLmm"
      },
      "source": [
        "# Analysis"
      ]
    },
    {
      "cell_type": "code",
      "metadata": {
        "colab": {
          "base_uri": "https://localhost:8080/"
        },
        "id": "TxuKH69TGNW7",
        "outputId": "3c5ea5ca-921e-4364-c340-d5c80c6b103c"
      },
      "source": [
        "print(f\"Number of tweets that Perspective could not process: {len(joined_df[joined_df['identity_attack_score'] == -1.0])}\") # might need to do this later..."
      ],
      "execution_count": 9,
      "outputs": [
        {
          "output_type": "stream",
          "name": "stdout",
          "text": [
            "Number of tweets that Perspective could not process: 10334\n"
          ]
        }
      ]
    },
    {
      "cell_type": "code",
      "metadata": {
        "colab": {
          "base_uri": "https://localhost:8080/"
        },
        "id": "Y8AlxdbJJnmN",
        "outputId": "11ad12e0-b55e-4e2d-823f-64143d9a20dd"
      },
      "source": [
        "# Extract players\n",
        "list_of_players = [\"JPickford1\", \"kylewalker2\", \"LukeShaw23\", \"_DeclanRice\",\n",
        "                   \"HarryMaguire93\", \"JackGrealish\", \"JHenderson\", \"HKane\", \n",
        "                   \"sterling7\", \"MarcusRashford\", \"trippier2\", \"masonmount_10\",\n",
        "                   \"PhilFoden\", \"ben6white\", \"BukayoSaka87\", \"BellinghamJude\", \n",
        "                   \"Popey1992\", \"AaronRamsdale98\", \"CallumWilson\", \"TrentAA\", \n",
        "                   \"Madders10\", \"ericdier\", \"Kalvinphillips\"]\n",
        "\n",
        "\n",
        "for player in list_of_players:\n",
        "    print(f\"Extracting {player}...\")\n",
        "    joined_df[player] = joined_df['accounts_mentioned'].str.contains(f\"'username': '{player}'\").astype(np.bool)\n",
        "\n"
      ],
      "execution_count": 10,
      "outputs": [
        {
          "output_type": "stream",
          "name": "stdout",
          "text": [
            "Extracting JPickford1...\n"
          ]
        },
        {
          "output_type": "stream",
          "name": "stderr",
          "text": [
            "<ipython-input-10-3382ccbf6d5f>:12: DeprecationWarning: `np.bool` is a deprecated alias for the builtin `bool`. To silence this warning, use `bool` by itself. Doing this will not modify any behavior and is safe. If you specifically wanted the numpy scalar type, use `np.bool_` here.\n",
            "Deprecated in NumPy 1.20; for more details and guidance: https://numpy.org/devdocs/release/1.20.0-notes.html#deprecations\n",
            "  joined_df[player] = joined_df['accounts_mentioned'].str.contains(f\"'username': '{player}'\").astype(np.bool)\n"
          ]
        },
        {
          "output_type": "stream",
          "name": "stdout",
          "text": [
            "Extracting kylewalker2...\n",
            "Extracting LukeShaw23...\n",
            "Extracting _DeclanRice...\n",
            "Extracting HarryMaguire93...\n",
            "Extracting JackGrealish...\n",
            "Extracting JHenderson...\n",
            "Extracting HKane...\n",
            "Extracting sterling7...\n",
            "Extracting MarcusRashford...\n",
            "Extracting trippier2...\n",
            "Extracting masonmount_10...\n",
            "Extracting PhilFoden...\n",
            "Extracting ben6white...\n",
            "Extracting BukayoSaka87...\n",
            "Extracting BellinghamJude...\n",
            "Extracting Popey1992...\n",
            "Extracting AaronRamsdale98...\n",
            "Extracting CallumWilson...\n",
            "Extracting TrentAA...\n",
            "Extracting Madders10...\n",
            "Extracting ericdier...\n",
            "Extracting Kalvinphillips...\n"
          ]
        }
      ]
    },
    {
      "cell_type": "code",
      "metadata": {
        "id": "5yNOnyw_OBy7"
      },
      "source": [
        "joined_df = joined_df[\n",
        "    (joined_df[\"JPickford1\"]) |\n",
        "    (joined_df[\"kylewalker2\"]) |\n",
        "    (joined_df[\"LukeShaw23\"]) |\n",
        "    (joined_df[\"_DeclanRice\"]) |\n",
        "    (joined_df[\"HarryMaguire93\"]) |\n",
        "    (joined_df[\"JackGrealish\"]) |\n",
        "    (joined_df[\"JHenderson\"]) |\n",
        "    (joined_df[\"HKane\"]) |\n",
        "    (joined_df[\"sterling7\"]) |\n",
        "    (joined_df[\"MarcusRashford\"]) |\n",
        "    (joined_df[\"trippier2\"]) |\n",
        "    (joined_df[\"Kalvinphillips\"]) |\n",
        "    (joined_df[\"masonmount_10\"]) |\n",
        "    (joined_df[\"PhilFoden\"]) |\n",
        "    (joined_df[\"ben6white\"]) |\n",
        "    (joined_df[\"Popey1992\"]) |\n",
        "    (joined_df[\"AaronRamsdale98\"]) |\n",
        "    (joined_df[\"CallumWilson\"]) |\n",
        "    (joined_df[\"TrentAA\"]) |\n",
        "    (joined_df[\"Madders10\"]) |\n",
        "    (joined_df[\"ericdier\"]) |\n",
        "    (joined_df[\"BukayoSaka87\"]) |\n",
        "    (joined_df[\"BellinghamJude\"])\n",
        "    ]"
      ],
      "execution_count": 11,
      "outputs": []
    },
    {
      "cell_type": "code",
      "metadata": {
        "id": "bLHkByk1WKgR",
        "outputId": "afac1646-08b9-43ac-af70-bc63e4aff16b",
        "colab": {
          "base_uri": "https://localhost:8080/"
        }
      },
      "source": [
        "print(len(joined_df))"
      ],
      "execution_count": 13,
      "outputs": [
        {
          "output_type": "stream",
          "name": "stdout",
          "text": [
            "125009\n"
          ]
        }
      ]
    },
    {
      "cell_type": "code",
      "metadata": {
        "colab": {
          "base_uri": "https://localhost:8080/",
          "height": 317
        },
        "id": "wdPYQAylLDTW",
        "outputId": "af2cfb3a-c1ac-4663-9499-52163c97df90"
      },
      "source": [
        "joined_df[joined_df['identity_attack_score'] != -1.0].hist(column = 'identity_attack_score', bins=50)"
      ],
      "execution_count": 14,
      "outputs": [
        {
          "output_type": "execute_result",
          "data": {
            "text/plain": [
              "array([[<matplotlib.axes._subplots.AxesSubplot object at 0x7f81e8937e50>]],\n",
              "      dtype=object)"
            ]
          },
          "metadata": {},
          "execution_count": 14
        },
        {
          "output_type": "display_data",
          "data": {
            "text/plain": [
              "<Figure size 432x288 with 1 Axes>"
            ],
            "image/png": "[encoded data removed]"
          },
          "metadata": {
            "needs_background": "light"
          }
        }
      ]
    },
    {
      "cell_type": "code",
      "metadata": {
        "colab": {
          "base_uri": "https://localhost:8080/",
          "height": 317
        },
        "id": "HHXBIGQ4MnaZ",
        "outputId": "dc57a6ce-a0dd-41b7-a5a1-975e881d579d"
      },
      "source": [
        "joined_df[joined_df['threat_score'] != -1.0].hist(column = 'threat_score', bins=50)"
      ],
      "execution_count": 15,
      "outputs": [
        {
          "output_type": "execute_result",
          "data": {
            "text/plain": [
              "array([[<matplotlib.axes._subplots.AxesSubplot object at 0x7f81eae74100>]],\n",
              "      dtype=object)"
            ]
          },
          "metadata": {},
          "execution_count": 15
        },
        {
          "output_type": "display_data",
          "data": {
            "text/plain": [
              "<Figure size 432x288 with 1 Axes>"
            ],
            "image/png": "[encoded data removed]"
          },
          "metadata": {
            "needs_background": "light"
          }
        }
      ]
    },
    {
      "cell_type": "code",
      "metadata": {
        "colab": {
          "base_uri": "https://localhost:8080/",
          "height": 317
        },
        "id": "xY1yeK4XMpii",
        "outputId": "60adaca0-5004-4830-aaa9-a6ca8cbb1a70"
      },
      "source": [
        "joined_df[joined_df['severe_toxicity_score'] != -1.0].hist(column = 'severe_toxicity_score', bins=50)"
      ],
      "execution_count": 16,
      "outputs": [
        {
          "output_type": "execute_result",
          "data": {
            "text/plain": [
              "array([[<matplotlib.axes._subplots.AxesSubplot object at 0x7f81e83dd1f0>]],\n",
              "      dtype=object)"
            ]
          },
          "metadata": {},
          "execution_count": 16
        },
        {
          "output_type": "display_data",
          "data": {
            "text/plain": [
              "<Figure size 432x288 with 1 Axes>"
            ],
            "image/png": "[encoded data removed]"
          },
          "metadata": {
            "needs_background": "light"
          }
        }
      ]
    },
    {
      "cell_type": "code",
      "metadata": {
        "colab": {
          "base_uri": "https://localhost:8080/",
          "height": 317
        },
        "id": "a7bcngTYMr9W",
        "outputId": "8a96d1e0-db32-42e3-f1af-7b977d7adfcd"
      },
      "source": [
        "joined_df[joined_df['insult_score'] != -1.0].hist(column = 'insult_score', bins=50)"
      ],
      "execution_count": 17,
      "outputs": [
        {
          "output_type": "execute_result",
          "data": {
            "text/plain": [
              "array([[<matplotlib.axes._subplots.AxesSubplot object at 0x7f81e82be340>]],\n",
              "      dtype=object)"
            ]
          },
          "metadata": {},
          "execution_count": 17
        },
        {
          "output_type": "display_data",
          "data": {
            "text/plain": [
              "<Figure size 432x288 with 1 Axes>"
            ],
            "image/png": "[encoded data removed]"
          },
          "metadata": {
            "needs_background": "light"
          }
        }
      ]
    },
    {
      "cell_type": "code",
      "metadata": {
        "colab": {
          "base_uri": "https://localhost:8080/"
        },
        "id": "h0KjAXuqL1WK",
        "outputId": "3b5eaffe-0d6b-41f1-f91c-1c6ba2cfa6b1"
      },
      "source": [
        "len_total = len(joined_df)\n",
        "threshold = 0.5\n",
        "\n",
        "tmp = pd.merge(joined_df[joined_df['identity_attack_score'] > 0.9], joined_df[joined_df['threat_score'] > 0.9], how='outer', on='tweet_id')\n",
        "tmp = pd.merge(tmp, joined_df[joined_df['severe_toxicity_score'] > 0.9], how='outer', on='tweet_id')\n",
        "# tmp = pd.merge(tmp, joined_df[joined_df['insult_score'] > 0.9], how='outer', on='tweet_id')\n",
        "len_90 = len(tmp)\n",
        "print(f\"Tweets with scores > 0.9: {len_90}, which is {(100 * (len_90 / len_total)):.2f}% of all tweets\")\n",
        "\n",
        "tmp = pd.merge(joined_df[joined_df['identity_attack_score'] > 0.8], joined_df[joined_df['threat_score'] > 0.8], how='outer', on='tweet_id')\n",
        "tmp = pd.merge(tmp, joined_df[joined_df['severe_toxicity_score'] > 0.8], how='outer', on='tweet_id')\n",
        "# tmp = pd.merge(tmp, joined_df[joined_df['insult_score'] > 0.8], how='outer', on='tweet_id')\n",
        "len_80 = len(tmp)\n",
        "print(f\"Tweets with scores > 0.8: {len_80}, which is {(100 * (len_80 / len_total)):.2f}% of all tweets\")\n",
        "\n",
        "tmp = pd.merge(joined_df[joined_df['identity_attack_score'] > 0.7], joined_df[joined_df['threat_score'] > 0.7], how='outer', on='tweet_id')\n",
        "tmp = pd.merge(tmp, joined_df[joined_df['severe_toxicity_score'] > 0.7], how='outer', on='tweet_id')\n",
        "# tmp = pd.merge(tmp, joined_df[joined_df['insult_score'] > 0.7], how='outer', on='tweet_id')\n",
        "len_70 = len(tmp)\n",
        "print(f\"Tweets with scores > 0.7: {len_70}, which is {(100 * (len_70 / len_total)):.2f}% of all tweets\")\n",
        "\n",
        "tmp = pd.merge(joined_df[joined_df['identity_attack_score'] > 0.6], joined_df[joined_df['threat_score'] > 0.6], how='outer', on='tweet_id')\n",
        "tmp = pd.merge(tmp, joined_df[joined_df['severe_toxicity_score'] > 0.6], how='outer', on='tweet_id')\n",
        "# tmp = pd.merge(tmp, joined_df[joined_df['insult_score'] > 0.6], how='outer', on='tweet_id')\n",
        "len_60 = len(tmp)\n",
        "print(f\"Tweets with scores > 0.6: {len_60}, which is {(100 * (len_60 / len_total)):.2f}% of all tweets\")\n",
        "\n",
        "tmp = pd.merge(joined_df[joined_df['identity_attack_score'] > 0.5], joined_df[joined_df['threat_score'] > 0.5], how='outer', on='tweet_id')\n",
        "tmp = pd.merge(tmp, joined_df[joined_df['severe_toxicity_score'] > 0.5], how='outer', on='tweet_id')\n",
        "# tmp = pd.merge(tmp, joined_df[joined_df['insult_score'] > 0.5], how='outer', on='tweet_id')\n",
        "len_50 = len(tmp)\n",
        "print(f\"Tweets with scores > 0.5: {len_50}, which is {(100 * (len_50 / len_total)):.2f}% of all tweets\")\n",
        "\n",
        "joined_df['persp_over_threshold'] = (joined_df['identity_attack_score'] > threshold) | (joined_df['threat_score'] > threshold) | (joined_df['severe_toxicity_score'] > threshold)\n",
        "                                                                                 \n",
        "del tmp\n"
      ],
      "execution_count": 22,
      "outputs": [
        {
          "output_type": "stream",
          "name": "stdout",
          "text": [
            "Tweets with scores > 0.9: 0, which is 0.00% of all tweets\n",
            "Tweets with scores > 0.8: 1, which is 0.00% of all tweets\n",
            "Tweets with scores > 0.7: 25, which is 0.02% of all tweets\n",
            "Tweets with scores > 0.6: 214, which is 0.17% of all tweets\n",
            "Tweets with scores > 0.5: 1000, which is 0.80% of all tweets\n"
          ]
        }
      ]
    },
    {
      "cell_type": "code",
      "metadata": {
        "id": "ZCcBwcHYOdFN"
      },
      "source": [
        "# Maybe we don't need these cols and we can just calculate ad-hoc?\n",
        "for player in list_of_players:\n",
        "    joined_df[f'{player}_offensive'] = joined_df['persp_over_threshold'] & joined_df[player]"
      ],
      "execution_count": 23,
      "outputs": []
    },
    {
      "cell_type": "code",
      "metadata": {
        "colab": {
          "base_uri": "https://localhost:8080/"
        },
        "id": "WoFR9CYoOniq",
        "outputId": "632596da-34b5-47cb-a0d1-b586e3d74610"
      },
      "source": [
        "player_offensive_tweet_map = pd.DataFrame(columns=[\"username\",\n",
        "                                                   \"tweets_received\",\n",
        "                                                   \"offensive_tweets_received\",\n",
        "                                                   \"percentage_offensive\"\n",
        "                                                   ])\n",
        "\n",
        "i = 0\n",
        "for player in list_of_players:\n",
        "    off_tweets = joined_df[player + '_offensive'].sum()\n",
        "    tweets = joined_df[player].sum()\n",
        "    percentage = 100 * (off_tweets / tweets)\n",
        "    player_offensive_tweet_map.loc[i] = player, tweets, off_tweets, percentage\n",
        "    i += 1"
      ],
      "execution_count": 24,
      "outputs": [
        {
          "output_type": "stream",
          "name": "stderr",
          "text": [
            "<ipython-input-24-e47a7d3cda98>:11: RuntimeWarning: invalid value encountered in long_scalars\n",
            "  percentage = 100 * (off_tweets / tweets)\n"
          ]
        }
      ]
    },
    {
      "cell_type": "code",
      "metadata": {
        "id": "lamR6eWeqyFC",
        "colab": {
          "base_uri": "https://localhost:8080/"
        },
        "outputId": "f9c08ad5-1571-452d-c3cb-cea391154036"
      },
      "source": [
        "player_offensive_tweet_map.sort_values('offensive_tweets_received', axis=0, ascending=False, inplace=True)\n",
        "offensive_tweets_all = joined_df['persp_over_threshold'].sum()\n",
        "offensive_tweets_top_10 = player_offensive_tweet_map['offensive_tweets_received'].head(10).sum()\n",
        "top_10_proportion = offensive_tweets_top_10 / offensive_tweets_all\n",
        "print(f\"Total offensive tweets: {offensive_tweets_all}\")\n",
        "print(f\"Top 10 proportion: {top_10_proportion * 100}%\")\n",
        "\n",
        "print(player_offensive_tweet_map[['username', 'offensive_tweets_received']].head(10))"
      ],
      "execution_count": 25,
      "outputs": [
        {
          "output_type": "stream",
          "name": "stdout",
          "text": [
            "Total offensive tweets: 1000\n",
            "Top 10 proportion: 108.7%\n",
            "          username offensive_tweets_received\n",
            "7            HKane                       332\n",
            "14    BukayoSaka87                       126\n",
            "4   HarryMaguire93                       113\n",
            "5     JackGrealish                        98\n",
            "9   MarcusRashford                        96\n",
            "3      _DeclanRice                        94\n",
            "15  BellinghamJude                        89\n",
            "8        sterling7                        52\n",
            "20       Madders10                        51\n",
            "2       LukeShaw23                        36\n"
          ]
        }
      ]
    },
    {
      "cell_type": "code",
      "metadata": {
        "id": "0i2wT10-_Npt"
      },
      "source": [
        "# Saving a file for manual review, taken at threshold 90 - one-off ad-hoc task\n",
        "# joined_df[['tweet_id', 'tweet_text']][joined_df['persp_over_threshold'] == True].to_csv(\"/content/drive/MyDrive/University/Dissertation/evaluation/tweets_persp.csv\", index=False)\n",
        "\n",
        "# joined_df[['tweet_id', 'tweet_text']][joined_df['persp_over_threshold'] == False].sample(1000).to_csv(\"/content/drive/MyDrive/University/Dissertation/evaluation/inoffensive.csv\", index=False)"
      ],
      "execution_count": null,
      "outputs": []
    },
    {
      "cell_type": "code",
      "metadata": {
        "id": "ABQH2J8XZnXK"
      },
      "source": [
        "# Write to file in prep for regression\n",
        "tweets_regression_file = root_path + \"/regression_tweets.csv\"\n",
        "joined_df.to_csv(tweets_regression_file, index=False)"
      ],
      "execution_count": null,
      "outputs": []
    },
    {
      "cell_type": "markdown",
      "metadata": {
        "id": "5AbMCCG1ZkAB"
      },
      "source": [
        "# Figures"
      ]
    },
    {
      "cell_type": "code",
      "metadata": {
        "id": "LRt_FqRIPzzR"
      },
      "source": [
        "def create_frequency_plot(df, y_values):\n",
        "    fig = go.Figure()\n",
        "    for y_value in y_values:\n",
        "        fig.add_trace(go.Scatter(x=df['created_at'], y=df[y_value],\n",
        "                      mode='lines',\n",
        "                      name=y_value))\n",
        "    return fig"
      ],
      "execution_count": 26,
      "outputs": []
    },
    {
      "cell_type": "code",
      "metadata": {
        "id": "7BafaxKlP6C0"
      },
      "source": [
        "INTERVAL = pd.offsets.Minute(60)"
      ],
      "execution_count": 27,
      "outputs": []
    },
    {
      "cell_type": "code",
      "metadata": {
        "colab": {
          "base_uri": "https://localhost:8080/",
          "height": 542
        },
        "id": "p572inFRP1UZ",
        "outputId": "b7ef60b4-eab5-4192-80da-4d8f63e813ef"
      },
      "source": [
        "# Plot all tweets frequency\n",
        "df = joined_df.resample(INTERVAL, on='created_at')['tweet_id'].count().reset_index()\n",
        "fig = create_frequency_plot(df, ['tweet_id'])\n",
        "fig.show()"
      ],
      "execution_count": 29,
      "outputs": [
        {
          "output_type": "display_data",
          "data": {
            "text/html": [
              "<html>\n",
              "<head><meta charset=\"utf-8\" /></head>\n",
              "<body>\n",
              "    <div>            <script src=\"https://cdnjs.cloudflare.com/ajax/libs/mathjax/2.7.5/MathJax.js?config=TeX-AMS-MML_SVG\"></script><script type=\"text/javascript\">if (window.MathJax) {MathJax.Hub.Config({SVG: {font: \"STIX-Web\"}});}</script>                <script type=\"text/javascript\">window.PlotlyConfig = {MathJaxConfig: 'local'};</script>\n",
              "        <script src=\"https://cdn.plot.ly/plotly-2.8.3.min.js\"></script>                <div id=\"65c465f3-1b73-42c5-a3fa-68b12c32e346\" class=\"plotly-graph-div\" style=\"height:525px; width:100%;\"></div>            <script type=\"text/javascript\">                                    window.PLOTLYENV=window.PLOTLYENV || {};                                    if (document.getElementById(\"65c465f3-1b73-42c5-a3fa-68b12c32e346\")) {                    Plotly.newPlot(                        \"65c465f3-1b73-42c5-a3fa-68b12c32e346\",                        [{\"mode\":\"lines\",\"name\":\"tweet_id\",\"x\":[\"2022-11-10T11:00:00+00:00\",\"2022-11-10T12:00:00+00:00\",\"2022-11-10T13:00:00+00:00\",\"2022-11-10T14:00:00+00:00\",\"2022-11-10T15:00:00+00:00\",\"2022-11-10T16:00:00+00:00\",\"2022-11-10T17:00:00+00:00\",\"2022-11-10T18:00:00+00:00\",\"2022-11-10T19:00:00+00:00\",\"2022-11-10T20:00:00+00:00\",\"2022-11-10T21:00:00+00:00\",\"2022-11-10T22:00:00+00:00\",\"2022-11-10T23:00:00+00:00\",\"2022-11-11T00:00:00+00:00\",\"2022-11-11T01:00:00+00:00\",\"2022-11-11T02:00:00+00:00\",\"2022-11-11T03:00:00+00:00\",\"2022-11-11T04:00:00+00:00\",\"2022-11-11T05:00:00+00:00\",\"2022-11-11T06:00:00+00:00\",\"2022-11-11T07:00:00+00:00\",\"2022-11-11T08:00:00+00:00\",\"2022-11-11T09:00:00+00:00\",\"2022-11-11T10:00:00+00:00\",\"2022-11-11T11:00:00+00:00\",\"2022-11-11T12:00:00+00:00\",\"2022-11-11T13:00:00+00:00\",\"2022-11-11T14:00:00+00:00\",\"2022-11-11T15:00:00+00:00\",\"2022-11-11T16:00:00+00:00\",\"2022-11-11T17:00:00+00:00\",\"2022-11-11T18:00:00+00:00\",\"2022-11-11T19:00:00+00:00\",\"2022-11-11T20:00:00+00:00\",\"2022-11-11T21:00:00+00:00\",\"2022-11-11T22:00:00+00:00\",\"2022-11-11T23:00:00+00:00\",\"2022-11-12T00:00:00+00:00\",\"2022-11-12T01:00:00+00:00\",\"2022-11-12T02:00:00+00:00\",\"2022-11-12T03:00:00+00:00\",\"2022-11-12T04:00:00+00:00\",\"2022-11-12T05:00:00+00:00\",\"2022-11-12T06:00:00+00:00\",\"2022-11-12T07:00:00+00:00\",\"2022-11-12T08:00:00+00:00\",\"2022-11-12T09:00:00+00:00\",\"2022-11-12T10:00:00+00:00\",\"2022-11-12T11:00:00+00:00\",\"2022-11-12T12:00:00+00:00\",\"2022-11-12T13:00:00+00:00\",\"2022-11-12T14:00:00+00:00\",\"2022-11-12T15:00:00+00:00\",\"2022-11-12T16:00:00+00:00\",\"2022-11-12T17:00:00+00:00\",\"2022-11-12T18:00:00+00:00\",\"2022-11-12T19:00:00+00:00\",\"2022-11-12T20:00:00+00:00\",\"2022-11-12T21:00:00+00:00\",\"2022-11-12T22:00:00+00:00\",\"2022-11-12T23:00:00+00:00\",\"2022-11-13T00:00:00+00:00\",\"2022-11-13T01:00:00+00:00\",\"2022-11-13T02:00:00+00:00\",\"2022-11-13T03:00:00+00:00\",\"2022-11-13T04:00:00+00:00\",\"2022-11-13T05:00:00+00:00\",\"2022-11-13T06:00:00+00:00\",\"2022-11-13T07:00:00+00:00\",\"2022-11-13T08:00:00+00:00\",\"2022-11-13T09:00:00+00:00\",\"2022-11-13T10:00:00+00:00\",\"2022-11-13T11:00:00+00:00\",\"2022-11-13T12:00:00+00:00\",\"2022-11-13T13:00:00+00:00\",\"2022-11-13T14:00:00+00:00\",\"2022-11-13T15:00:00+00:00\",\"2022-11-13T16:00:00+00:00\",\"2022-11-13T17:00:00+00:00\",\"2022-11-13T18:00:00+00:00\",\"2022-11-13T19:00:00+00:00\",\"2022-11-13T20:00:00+00:00\",\"2022-11-13T21:00:00+00:00\",\"2022-11-13T22:00:00+00:00\",\"2022-11-13T23:00:00+00:00\",\"2022-11-14T00:00:00+00:00\",\"2022-11-14T01:00:00+00:00\",\"2022-11-14T02:00:00+00:00\",\"2022-11-14T03:00:00+00:00\",\"2022-11-14T04:00:00+00:00\",\"2022-11-14T05:00:00+00:00\",\"2022-11-14T06:00:00+00:00\",\"2022-11-14T07:00:00+00:00\",\"2022-11-14T08:00:00+00:00\",\"2022-11-14T09:00:00+00:00\",\"2022-11-14T10:00:00+00:00\",\"2022-11-14T11:00:00+00:00\",\"2022-11-14T12:00:00+00:00\",\"2022-11-14T13:00:00+00:00\",\"2022-11-14T14:00:00+00:00\",\"2022-11-14T15:00:00+00:00\",\"2022-11-14T16:00:00+00:00\",\"2022-11-14T17:00:00+00:00\",\"2022-11-14T18:00:00+00:00\",\"2022-11-14T19:00:00+00:00\",\"2022-11-14T20:00:00+00:00\",\"2022-11-14T21:00:00+00:00\",\"2022-11-14T22:00:00+00:00\",\"2022-11-14T23:00:00+00:00\",\"2022-11-15T00:00:00+00:00\",\"2022-11-15T01:00:00+00:00\",\"2022-11-15T02:00:00+00:00\",\"2022-11-15T03:00:00+00:00\",\"2022-11-15T04:00:00+00:00\",\"2022-11-15T05:00:00+00:00\",\"2022-11-15T06:00:00+00:00\",\"2022-11-15T07:00:00+00:00\",\"2022-11-15T08:00:00+00:00\",\"2022-11-15T09:00:00+00:00\",\"2022-11-15T10:00:00+00:00\",\"2022-11-15T11:00:00+00:00\",\"2022-11-15T12:00:00+00:00\",\"2022-11-15T13:00:00+00:00\",\"2022-11-15T14:00:00+00:00\",\"2022-11-15T15:00:00+00:00\",\"2022-11-15T16:00:00+00:00\",\"2022-11-15T17:00:00+00:00\",\"2022-11-15T18:00:00+00:00\",\"2022-11-15T19:00:00+00:00\",\"2022-11-15T20:00:00+00:00\",\"2022-11-15T21:00:00+00:00\",\"2022-11-15T22:00:00+00:00\",\"2022-11-15T23:00:00+00:00\",\"2022-11-16T00:00:00+00:00\",\"2022-11-16T01:00:00+00:00\",\"2022-11-16T02:00:00+00:00\",\"2022-11-16T03:00:00+00:00\",\"2022-11-16T04:00:00+00:00\",\"2022-11-16T05:00:00+00:00\",\"2022-11-16T06:00:00+00:00\",\"2022-11-16T07:00:00+00:00\",\"2022-11-16T08:00:00+00:00\",\"2022-11-16T09:00:00+00:00\",\"2022-11-16T10:00:00+00:00\",\"2022-11-16T11:00:00+00:00\",\"2022-11-16T12:00:00+00:00\",\"2022-11-16T13:00:00+00:00\",\"2022-11-16T14:00:00+00:00\",\"2022-11-16T15:00:00+00:00\",\"2022-11-16T16:00:00+00:00\",\"2022-11-16T17:00:00+00:00\",\"2022-11-16T18:00:00+00:00\",\"2022-11-16T19:00:00+00:00\",\"2022-11-16T20:00:00+00:00\",\"2022-11-16T21:00:00+00:00\",\"2022-11-16T22:00:00+00:00\",\"2022-11-16T23:00:00+00:00\",\"2022-11-17T00:00:00+00:00\",\"2022-11-17T01:00:00+00:00\",\"2022-11-17T02:00:00+00:00\",\"2022-11-17T03:00:00+00:00\",\"2022-11-17T04:00:00+00:00\",\"2022-11-17T05:00:00+00:00\",\"2022-11-17T06:00:00+00:00\",\"2022-11-17T07:00:00+00:00\",\"2022-11-17T08:00:00+00:00\",\"2022-11-17T09:00:00+00:00\",\"2022-11-17T10:00:00+00:00\",\"2022-11-17T11:00:00+00:00\",\"2022-11-17T12:00:00+00:00\",\"2022-11-17T13:00:00+00:00\",\"2022-11-17T14:00:00+00:00\",\"2022-11-17T15:00:00+00:00\",\"2022-11-17T16:00:00+00:00\",\"2022-11-17T17:00:00+00:00\",\"2022-11-17T18:00:00+00:00\",\"2022-11-17T19:00:00+00:00\",\"2022-11-17T20:00:00+00:00\",\"2022-11-17T21:00:00+00:00\",\"2022-11-17T22:00:00+00:00\",\"2022-11-17T23:00:00+00:00\",\"2022-11-18T00:00:00+00:00\",\"2022-11-18T01:00:00+00:00\",\"2022-11-18T02:00:00+00:00\",\"2022-11-18T03:00:00+00:00\",\"2022-11-18T04:00:00+00:00\",\"2022-11-18T05:00:00+00:00\",\"2022-11-18T06:00:00+00:00\",\"2022-11-18T07:00:00+00:00\",\"2022-11-18T08:00:00+00:00\",\"2022-11-18T09:00:00+00:00\",\"2022-11-18T10:00:00+00:00\",\"2022-11-18T11:00:00+00:00\",\"2022-11-18T12:00:00+00:00\",\"2022-11-18T13:00:00+00:00\",\"2022-11-18T14:00:00+00:00\",\"2022-11-18T15:00:00+00:00\",\"2022-11-18T16:00:00+00:00\",\"2022-11-18T17:00:00+00:00\",\"2022-11-18T18:00:00+00:00\",\"2022-11-18T19:00:00+00:00\",\"2022-11-18T20:00:00+00:00\",\"2022-11-18T21:00:00+00:00\",\"2022-11-18T22:00:00+00:00\",\"2022-11-18T23:00:00+00:00\",\"2022-11-19T00:00:00+00:00\",\"2022-11-19T01:00:00+00:00\",\"2022-11-19T02:00:00+00:00\",\"2022-11-19T03:00:00+00:00\",\"2022-11-19T04:00:00+00:00\",\"2022-11-19T05:00:00+00:00\",\"2022-11-19T06:00:00+00:00\",\"2022-11-19T07:00:00+00:00\",\"2022-11-19T08:00:00+00:00\",\"2022-11-19T09:00:00+00:00\",\"2022-11-19T10:00:00+00:00\",\"2022-11-19T11:00:00+00:00\",\"2022-11-19T12:00:00+00:00\",\"2022-11-19T13:00:00+00:00\",\"2022-11-19T14:00:00+00:00\",\"2022-11-19T15:00:00+00:00\",\"2022-11-19T16:00:00+00:00\",\"2022-11-19T17:00:00+00:00\",\"2022-11-19T18:00:00+00:00\",\"2022-11-19T19:00:00+00:00\",\"2022-11-19T20:00:00+00:00\",\"2022-11-19T21:00:00+00:00\",\"2022-11-19T22:00:00+00:00\",\"2022-11-19T23:00:00+00:00\",\"2022-11-20T00:00:00+00:00\",\"2022-11-20T01:00:00+00:00\",\"2022-11-20T02:00:00+00:00\",\"2022-11-20T03:00:00+00:00\",\"2022-11-20T04:00:00+00:00\",\"2022-11-20T05:00:00+00:00\",\"2022-11-20T06:00:00+00:00\",\"2022-11-20T07:00:00+00:00\",\"2022-11-20T08:00:00+00:00\",\"2022-11-20T09:00:00+00:00\",\"2022-11-20T10:00:00+00:00\",\"2022-11-20T11:00:00+00:00\",\"2022-11-20T12:00:00+00:00\",\"2022-11-20T13:00:00+00:00\",\"2022-11-20T14:00:00+00:00\",\"2022-11-20T15:00:00+00:00\",\"2022-11-20T16:00:00+00:00\",\"2022-11-20T17:00:00+00:00\",\"2022-11-20T18:00:00+00:00\",\"2022-11-20T19:00:00+00:00\",\"2022-11-20T20:00:00+00:00\",\"2022-11-20T21:00:00+00:00\",\"2022-11-20T22:00:00+00:00\",\"2022-11-20T23:00:00+00:00\",\"2022-11-21T00:00:00+00:00\",\"2022-11-21T01:00:00+00:00\",\"2022-11-21T02:00:00+00:00\",\"2022-11-21T03:00:00+00:00\",\"2022-11-21T04:00:00+00:00\",\"2022-11-21T05:00:00+00:00\",\"2022-11-21T06:00:00+00:00\",\"2022-11-21T07:00:00+00:00\",\"2022-11-21T08:00:00+00:00\",\"2022-11-21T09:00:00+00:00\",\"2022-11-21T10:00:00+00:00\",\"2022-11-21T11:00:00+00:00\",\"2022-11-21T12:00:00+00:00\",\"2022-11-21T13:00:00+00:00\",\"2022-11-21T14:00:00+00:00\",\"2022-11-21T15:00:00+00:00\",\"2022-11-21T16:00:00+00:00\",\"2022-11-21T17:00:00+00:00\",\"2022-11-21T18:00:00+00:00\",\"2022-11-21T19:00:00+00:00\",\"2022-11-21T20:00:00+00:00\",\"2022-11-21T21:00:00+00:00\",\"2022-11-21T22:00:00+00:00\",\"2022-11-21T23:00:00+00:00\",\"2022-11-22T00:00:00+00:00\",\"2022-11-22T01:00:00+00:00\",\"2022-11-22T02:00:00+00:00\",\"2022-11-22T03:00:00+00:00\",\"2022-11-22T04:00:00+00:00\",\"2022-11-22T05:00:00+00:00\",\"2022-11-22T06:00:00+00:00\",\"2022-11-22T07:00:00+00:00\",\"2022-11-22T08:00:00+00:00\",\"2022-11-22T09:00:00+00:00\",\"2022-11-22T10:00:00+00:00\",\"2022-11-22T11:00:00+00:00\",\"2022-11-22T12:00:00+00:00\",\"2022-11-22T13:00:00+00:00\",\"2022-11-22T14:00:00+00:00\",\"2022-11-22T15:00:00+00:00\",\"2022-11-22T16:00:00+00:00\",\"2022-11-22T17:00:00+00:00\",\"2022-11-22T18:00:00+00:00\",\"2022-11-22T19:00:00+00:00\",\"2022-11-22T20:00:00+00:00\",\"2022-11-22T21:00:00+00:00\",\"2022-11-22T22:00:00+00:00\",\"2022-11-22T23:00:00+00:00\",\"2022-11-23T00:00:00+00:00\",\"2022-11-23T01:00:00+00:00\",\"2022-11-23T02:00:00+00:00\",\"2022-11-23T03:00:00+00:00\",\"2022-11-23T04:00:00+00:00\",\"2022-11-23T05:00:00+00:00\",\"2022-11-23T06:00:00+00:00\",\"2022-11-23T07:00:00+00:00\",\"2022-11-23T08:00:00+00:00\",\"2022-11-23T09:00:00+00:00\",\"2022-11-23T10:00:00+00:00\",\"2022-11-23T11:00:00+00:00\",\"2022-11-23T12:00:00+00:00\",\"2022-11-23T13:00:00+00:00\",\"2022-11-23T14:00:00+00:00\",\"2022-11-23T15:00:00+00:00\",\"2022-11-23T16:00:00+00:00\",\"2022-11-23T17:00:00+00:00\",\"2022-11-23T18:00:00+00:00\",\"2022-11-23T19:00:00+00:00\",\"2022-11-23T20:00:00+00:00\",\"2022-11-23T21:00:00+00:00\",\"2022-11-23T22:00:00+00:00\",\"2022-11-23T23:00:00+00:00\",\"2022-11-24T00:00:00+00:00\",\"2022-11-24T01:00:00+00:00\",\"2022-11-24T02:00:00+00:00\",\"2022-11-24T03:00:00+00:00\",\"2022-11-24T04:00:00+00:00\",\"2022-11-24T05:00:00+00:00\",\"2022-11-24T06:00:00+00:00\",\"2022-11-24T07:00:00+00:00\",\"2022-11-24T08:00:00+00:00\",\"2022-11-24T09:00:00+00:00\",\"2022-11-24T10:00:00+00:00\",\"2022-11-24T11:00:00+00:00\",\"2022-11-24T12:00:00+00:00\",\"2022-11-24T13:00:00+00:00\",\"2022-11-24T14:00:00+00:00\",\"2022-11-24T15:00:00+00:00\",\"2022-11-24T16:00:00+00:00\",\"2022-11-24T17:00:00+00:00\",\"2022-11-24T18:00:00+00:00\",\"2022-11-24T19:00:00+00:00\",\"2022-11-24T20:00:00+00:00\",\"2022-11-24T21:00:00+00:00\",\"2022-11-24T22:00:00+00:00\",\"2022-11-24T23:00:00+00:00\",\"2022-11-25T00:00:00+00:00\",\"2022-11-25T01:00:00+00:00\",\"2022-11-25T02:00:00+00:00\",\"2022-11-25T03:00:00+00:00\",\"2022-11-25T04:00:00+00:00\",\"2022-11-25T05:00:00+00:00\",\"2022-11-25T06:00:00+00:00\",\"2022-11-25T07:00:00+00:00\",\"2022-11-25T08:00:00+00:00\",\"2022-11-25T09:00:00+00:00\",\"2022-11-25T10:00:00+00:00\",\"2022-11-25T11:00:00+00:00\",\"2022-11-25T12:00:00+00:00\",\"2022-11-25T13:00:00+00:00\",\"2022-11-25T14:00:00+00:00\",\"2022-11-25T15:00:00+00:00\",\"2022-11-25T16:00:00+00:00\",\"2022-11-25T17:00:00+00:00\",\"2022-11-25T18:00:00+00:00\",\"2022-11-25T19:00:00+00:00\",\"2022-11-25T20:00:00+00:00\",\"2022-11-25T21:00:00+00:00\",\"2022-11-25T22:00:00+00:00\",\"2022-11-25T23:00:00+00:00\",\"2022-11-26T00:00:00+00:00\",\"2022-11-26T01:00:00+00:00\",\"2022-11-26T02:00:00+00:00\",\"2022-11-26T03:00:00+00:00\",\"2022-11-26T04:00:00+00:00\",\"2022-11-26T05:00:00+00:00\",\"2022-11-26T06:00:00+00:00\",\"2022-11-26T07:00:00+00:00\",\"2022-11-26T08:00:00+00:00\",\"2022-11-26T09:00:00+00:00\",\"2022-11-26T10:00:00+00:00\",\"2022-11-26T11:00:00+00:00\",\"2022-11-26T12:00:00+00:00\",\"2022-11-26T13:00:00+00:00\",\"2022-11-26T14:00:00+00:00\",\"2022-11-26T15:00:00+00:00\",\"2022-11-26T16:00:00+00:00\",\"2022-11-26T17:00:00+00:00\",\"2022-11-26T18:00:00+00:00\",\"2022-11-26T19:00:00+00:00\",\"2022-11-26T20:00:00+00:00\",\"2022-11-26T21:00:00+00:00\",\"2022-11-26T22:00:00+00:00\",\"2022-11-26T23:00:00+00:00\",\"2022-11-27T00:00:00+00:00\",\"2022-11-27T01:00:00+00:00\",\"2022-11-27T02:00:00+00:00\",\"2022-11-27T03:00:00+00:00\",\"2022-11-27T04:00:00+00:00\",\"2022-11-27T05:00:00+00:00\",\"2022-11-27T06:00:00+00:00\",\"2022-11-27T07:00:00+00:00\",\"2022-11-27T08:00:00+00:00\",\"2022-11-27T09:00:00+00:00\",\"2022-11-27T10:00:00+00:00\",\"2022-11-27T11:00:00+00:00\",\"2022-11-27T12:00:00+00:00\",\"2022-11-27T13:00:00+00:00\",\"2022-11-27T14:00:00+00:00\",\"2022-11-27T15:00:00+00:00\",\"2022-11-27T16:00:00+00:00\",\"2022-11-27T17:00:00+00:00\",\"2022-11-27T18:00:00+00:00\",\"2022-11-27T19:00:00+00:00\",\"2022-11-27T20:00:00+00:00\",\"2022-11-27T21:00:00+00:00\",\"2022-11-27T22:00:00+00:00\",\"2022-11-27T23:00:00+00:00\",\"2022-11-28T00:00:00+00:00\",\"2022-11-28T01:00:00+00:00\",\"2022-11-28T02:00:00+00:00\",\"2022-11-28T03:00:00+00:00\",\"2022-11-28T04:00:00+00:00\",\"2022-11-28T05:00:00+00:00\",\"2022-11-28T06:00:00+00:00\",\"2022-11-28T07:00:00+00:00\",\"2022-11-28T08:00:00+00:00\",\"2022-11-28T09:00:00+00:00\",\"2022-11-28T10:00:00+00:00\",\"2022-11-28T11:00:00+00:00\",\"2022-11-28T12:00:00+00:00\",\"2022-11-28T13:00:00+00:00\",\"2022-11-28T14:00:00+00:00\",\"2022-11-28T15:00:00+00:00\",\"2022-11-28T16:00:00+00:00\",\"2022-11-28T17:00:00+00:00\",\"2022-11-28T18:00:00+00:00\",\"2022-11-28T19:00:00+00:00\",\"2022-11-28T20:00:00+00:00\",\"2022-11-28T21:00:00+00:00\",\"2022-11-28T22:00:00+00:00\",\"2022-11-28T23:00:00+00:00\",\"2022-11-29T00:00:00+00:00\",\"2022-11-29T01:00:00+00:00\",\"2022-11-29T02:00:00+00:00\",\"2022-11-29T03:00:00+00:00\",\"2022-11-29T04:00:00+00:00\",\"2022-11-29T05:00:00+00:00\",\"2022-11-29T06:00:00+00:00\",\"2022-11-29T07:00:00+00:00\",\"2022-11-29T08:00:00+00:00\",\"2022-11-29T09:00:00+00:00\",\"2022-11-29T10:00:00+00:00\",\"2022-11-29T11:00:00+00:00\",\"2022-11-29T12:00:00+00:00\",\"2022-11-29T13:00:00+00:00\",\"2022-11-29T14:00:00+00:00\",\"2022-11-29T15:00:00+00:00\"],\"y\":[160,232,453,2833,1229,813,923,1103,2013,1722,1608,2117,1174,409,268,181,158,242,259,394,644,564,482,424,463,446,429,367,328,307,290,252,257,205,173,327,244,101,72,43,46,47,57,82,101,109,147,275,279,218,359,215,496,253,358,559,586,405,395,490,303,146,108,57,51,47,51,65,89,162,180,161,224,228,159,472,282,272,241,338,338,295,403,163,110,61,29,51,47,47,50,66,92,77,83,67,105,153,522,376,316,286,326,357,390,287,257,275,246,119,98,64,70,82,127,128,164,198,393,372,268,233,175,203,306,191,338,344,243,289,385,377,157,76,54,31,45,47,60,79,91,136,128,168,131,169,211,147,318,401,425,310,243,168,357,284,144,60,72,86,59,63,78,85,113,114,224,355,334,307,445,433,345,388,374,326,405,333,577,295,155,94,66,62,58,53,76,102,127,167,149,158,148,209,172,157,175,166,245,199,247,171,170,179,93,62,51,59,41,37,77,81,57,112,198,241,138,189,248,119,226,136,140,202,190,127,140,130,100,70,42,29,24,30,33,57,52,99,76,144,189,223,144,275,551,603,342,323,284,382,243,363,268,107,59,66,40,49,112,174,218,302,654,1008,1161,1411,3865,5311,4686,4007,3948,3518,2361,1739,1395,1105,682,395,249,246,180,299,299,397,557,599,618,500,363,351,330,248,251,95,76,77,62,57,94,106,32,24,25,14,8,13,9,18,79,39,72,70,57,90,268,222,145,114,160,156,125,84,73,63,36,57,22,16,22,23,28,22,70,69,47,85,100,75,63,70,50,57,54,62,89,126,64,36,33,24,18,7,7,5,52,37,42,68,107,89,67,87,79,58,80,111,119,532,392,669,472,960,598,283,183,107,120,117,97,109,126,146,190,145,147,364,150,121,116,64,86,79,238,172,171,82,69,35,20,20,10,32,7,11,22,19,59,41,43,48,28,30,32,40,27,22,49,51,22,28,15,0,14,8,7,13,12,24,26,22,23,28,21,56,71,26,60,53,30,38,27,26,37,12,14,25,18,39,20,29,35,51,117,105,95,94,87,101,157,90,2],\"type\":\"scatter\"}],                        {\"template\":{\"data\":{\"bar\":[{\"error_x\":{\"color\":\"#2a3f5f\"},\"error_y\":{\"color\":\"#2a3f5f\"},\"marker\":{\"line\":{\"color\":\"#E5ECF6\",\"width\":0.5},\"pattern\":{\"fillmode\":\"overlay\",\"size\":10,\"solidity\":0.2}},\"type\":\"bar\"}],\"barpolar\":[{\"marker\":{\"line\":{\"color\":\"#E5ECF6\",\"width\":0.5},\"pattern\":{\"fillmode\":\"overlay\",\"size\":10,\"solidity\":0.2}},\"type\":\"barpolar\"}],\"carpet\":[{\"aaxis\":{\"endlinecolor\":\"#2a3f5f\",\"gridcolor\":\"white\",\"linecolor\":\"white\",\"minorgridcolor\":\"white\",\"startlinecolor\":\"#2a3f5f\"},\"baxis\":{\"endlinecolor\":\"#2a3f5f\",\"gridcolor\":\"white\",\"linecolor\":\"white\",\"minorgridcolor\":\"white\",\"startlinecolor\":\"#2a3f5f\"},\"type\":\"carpet\"}],\"choropleth\":[{\"colorbar\":{\"outlinewidth\":0,\"ticks\":\"\"},\"type\":\"choropleth\"}],\"contour\":[{\"colorbar\":{\"outlinewidth\":0,\"ticks\":\"\"},\"colorscale\":[[0.0,\"#0d0887\"],[0.1111111111111111,\"#46039f\"],[0.2222222222222222,\"#7201a8\"],[0.3333333333333333,\"#9c179e\"],[0.4444444444444444,\"#bd3786\"],[0.5555555555555556,\"#d8576b\"],[0.6666666666666666,\"#ed7953\"],[0.7777777777777778,\"#fb9f3a\"],[0.8888888888888888,\"#fdca26\"],[1.0,\"#f0f921\"]],\"type\":\"contour\"}],\"contourcarpet\":[{\"colorbar\":{\"outlinewidth\":0,\"ticks\":\"\"},\"type\":\"contourcarpet\"}],\"heatmap\":[{\"colorbar\":{\"outlinewidth\":0,\"ticks\":\"\"},\"colorscale\":[[0.0,\"#0d0887\"],[0.1111111111111111,\"#46039f\"],[0.2222222222222222,\"#7201a8\"],[0.3333333333333333,\"#9c179e\"],[0.4444444444444444,\"#bd3786\"],[0.5555555555555556,\"#d8576b\"],[0.6666666666666666,\"#ed7953\"],[0.7777777777777778,\"#fb9f3a\"],[0.8888888888888888,\"#fdca26\"],[1.0,\"#f0f921\"]],\"type\":\"heatmap\"}],\"heatmapgl\":[{\"colorbar\":{\"outlinewidth\":0,\"ticks\":\"\"},\"colorscale\":[[0.0,\"#0d0887\"],[0.1111111111111111,\"#46039f\"],[0.2222222222222222,\"#7201a8\"],[0.3333333333333333,\"#9c179e\"],[0.4444444444444444,\"#bd3786\"],[0.5555555555555556,\"#d8576b\"],[0.6666666666666666,\"#ed7953\"],[0.7777777777777778,\"#fb9f3a\"],[0.8888888888888888,\"#fdca26\"],[1.0,\"#f0f921\"]],\"type\":\"heatmapgl\"}],\"histogram\":[{\"marker\":{\"pattern\":{\"fillmode\":\"overlay\",\"size\":10,\"solidity\":0.2}},\"type\":\"histogram\"}],\"histogram2d\":[{\"colorbar\":{\"outlinewidth\":0,\"ticks\":\"\"},\"colorscale\":[[0.0,\"#0d0887\"],[0.1111111111111111,\"#46039f\"],[0.2222222222222222,\"#7201a8\"],[0.3333333333333333,\"#9c179e\"],[0.4444444444444444,\"#bd3786\"],[0.5555555555555556,\"#d8576b\"],[0.6666666666666666,\"#ed7953\"],[0.7777777777777778,\"#fb9f3a\"],[0.8888888888888888,\"#fdca26\"],[1.0,\"#f0f921\"]],\"type\":\"histogram2d\"}],\"histogram2dcontour\":[{\"colorbar\":{\"outlinewidth\":0,\"ticks\":\"\"},\"colorscale\":[[0.0,\"#0d0887\"],[0.1111111111111111,\"#46039f\"],[0.2222222222222222,\"#7201a8\"],[0.3333333333333333,\"#9c179e\"],[0.4444444444444444,\"#bd3786\"],[0.5555555555555556,\"#d8576b\"],[0.6666666666666666,\"#ed7953\"],[0.7777777777777778,\"#fb9f3a\"],[0.8888888888888888,\"#fdca26\"],[1.0,\"#f0f921\"]],\"type\":\"histogram2dcontour\"}],\"mesh3d\":[{\"colorbar\":{\"outlinewidth\":0,\"ticks\":\"\"},\"type\":\"mesh3d\"}],\"parcoords\":[{\"line\":{\"colorbar\":{\"outlinewidth\":0,\"ticks\":\"\"}},\"type\":\"parcoords\"}],\"pie\":[{\"automargin\":true,\"type\":\"pie\"}],\"scatter\":[{\"marker\":{\"colorbar\":{\"outlinewidth\":0,\"ticks\":\"\"}},\"type\":\"scatter\"}],\"scatter3d\":[{\"line\":{\"colorbar\":{\"outlinewidth\":0,\"ticks\":\"\"}},\"marker\":{\"colorbar\":{\"outlinewidth\":0,\"ticks\":\"\"}},\"type\":\"scatter3d\"}],\"scattercarpet\":[{\"marker\":{\"colorbar\":{\"outlinewidth\":0,\"ticks\":\"\"}},\"type\":\"scattercarpet\"}],\"scattergeo\":[{\"marker\":{\"colorbar\":{\"outlinewidth\":0,\"ticks\":\"\"}},\"type\":\"scattergeo\"}],\"scattergl\":[{\"marker\":{\"colorbar\":{\"outlinewidth\":0,\"ticks\":\"\"}},\"type\":\"scattergl\"}],\"scattermapbox\":[{\"marker\":{\"colorbar\":{\"outlinewidth\":0,\"ticks\":\"\"}},\"type\":\"scattermapbox\"}],\"scatterpolar\":[{\"marker\":{\"colorbar\":{\"outlinewidth\":0,\"ticks\":\"\"}},\"type\":\"scatterpolar\"}],\"scatterpolargl\":[{\"marker\":{\"colorbar\":{\"outlinewidth\":0,\"ticks\":\"\"}},\"type\":\"scatterpolargl\"}],\"scatterternary\":[{\"marker\":{\"colorbar\":{\"outlinewidth\":0,\"ticks\":\"\"}},\"type\":\"scatterternary\"}],\"surface\":[{\"colorbar\":{\"outlinewidth\":0,\"ticks\":\"\"},\"colorscale\":[[0.0,\"#0d0887\"],[0.1111111111111111,\"#46039f\"],[0.2222222222222222,\"#7201a8\"],[0.3333333333333333,\"#9c179e\"],[0.4444444444444444,\"#bd3786\"],[0.5555555555555556,\"#d8576b\"],[0.6666666666666666,\"#ed7953\"],[0.7777777777777778,\"#fb9f3a\"],[0.8888888888888888,\"#fdca26\"],[1.0,\"#f0f921\"]],\"type\":\"surface\"}],\"table\":[{\"cells\":{\"fill\":{\"color\":\"#EBF0F8\"},\"line\":{\"color\":\"white\"}},\"header\":{\"fill\":{\"color\":\"#C8D4E3\"},\"line\":{\"color\":\"white\"}},\"type\":\"table\"}]},\"layout\":{\"annotationdefaults\":{\"arrowcolor\":\"#2a3f5f\",\"arrowhead\":0,\"arrowwidth\":1},\"autotypenumbers\":\"strict\",\"coloraxis\":{\"colorbar\":{\"outlinewidth\":0,\"ticks\":\"\"}},\"colorscale\":{\"diverging\":[[0,\"#8e0152\"],[0.1,\"#c51b7d\"],[0.2,\"#de77ae\"],[0.3,\"#f1b6da\"],[0.4,\"#fde0ef\"],[0.5,\"#f7f7f7\"],[0.6,\"#e6f5d0\"],[0.7,\"#b8e186\"],[0.8,\"#7fbc41\"],[0.9,\"#4d9221\"],[1,\"#276419\"]],\"sequential\":[[0.0,\"#0d0887\"],[0.1111111111111111,\"#46039f\"],[0.2222222222222222,\"#7201a8\"],[0.3333333333333333,\"#9c179e\"],[0.4444444444444444,\"#bd3786\"],[0.5555555555555556,\"#d8576b\"],[0.6666666666666666,\"#ed7953\"],[0.7777777777777778,\"#fb9f3a\"],[0.8888888888888888,\"#fdca26\"],[1.0,\"#f0f921\"]],\"sequentialminus\":[[0.0,\"#0d0887\"],[0.1111111111111111,\"#46039f\"],[0.2222222222222222,\"#7201a8\"],[0.3333333333333333,\"#9c179e\"],[0.4444444444444444,\"#bd3786\"],[0.5555555555555556,\"#d8576b\"],[0.6666666666666666,\"#ed7953\"],[0.7777777777777778,\"#fb9f3a\"],[0.8888888888888888,\"#fdca26\"],[1.0,\"#f0f921\"]]},\"colorway\":[\"#636efa\",\"#EF553B\",\"#00cc96\",\"#ab63fa\",\"#FFA15A\",\"#19d3f3\",\"#FF6692\",\"#B6E880\",\"#FF97FF\",\"#FECB52\"],\"font\":{\"color\":\"#2a3f5f\"},\"geo\":{\"bgcolor\":\"white\",\"lakecolor\":\"white\",\"landcolor\":\"#E5ECF6\",\"showlakes\":true,\"showland\":true,\"subunitcolor\":\"white\"},\"hoverlabel\":{\"align\":\"left\"},\"hovermode\":\"closest\",\"mapbox\":{\"style\":\"light\"},\"paper_bgcolor\":\"white\",\"plot_bgcolor\":\"#E5ECF6\",\"polar\":{\"angularaxis\":{\"gridcolor\":\"white\",\"linecolor\":\"white\",\"ticks\":\"\"},\"bgcolor\":\"#E5ECF6\",\"radialaxis\":{\"gridcolor\":\"white\",\"linecolor\":\"white\",\"ticks\":\"\"}},\"scene\":{\"xaxis\":{\"backgroundcolor\":\"#E5ECF6\",\"gridcolor\":\"white\",\"gridwidth\":2,\"linecolor\":\"white\",\"showbackground\":true,\"ticks\":\"\",\"zerolinecolor\":\"white\"},\"yaxis\":{\"backgroundcolor\":\"#E5ECF6\",\"gridcolor\":\"white\",\"gridwidth\":2,\"linecolor\":\"white\",\"showbackground\":true,\"ticks\":\"\",\"zerolinecolor\":\"white\"},\"zaxis\":{\"backgroundcolor\":\"#E5ECF6\",\"gridcolor\":\"white\",\"gridwidth\":2,\"linecolor\":\"white\",\"showbackground\":true,\"ticks\":\"\",\"zerolinecolor\":\"white\"}},\"shapedefaults\":{\"line\":{\"color\":\"#2a3f5f\"}},\"ternary\":{\"aaxis\":{\"gridcolor\":\"white\",\"linecolor\":\"white\",\"ticks\":\"\"},\"baxis\":{\"gridcolor\":\"white\",\"linecolor\":\"white\",\"ticks\":\"\"},\"bgcolor\":\"#E5ECF6\",\"caxis\":{\"gridcolor\":\"white\",\"linecolor\":\"white\",\"ticks\":\"\"}},\"title\":{\"x\":0.05},\"xaxis\":{\"automargin\":true,\"gridcolor\":\"white\",\"linecolor\":\"white\",\"ticks\":\"\",\"title\":{\"standoff\":15},\"zerolinecolor\":\"white\",\"zerolinewidth\":2},\"yaxis\":{\"automargin\":true,\"gridcolor\":\"white\",\"linecolor\":\"white\",\"ticks\":\"\",\"title\":{\"standoff\":15},\"zerolinecolor\":\"white\",\"zerolinewidth\":2}}}},                        {\"responsive\": true}                    ).then(function(){\n",
              "                            \n",
              "var gd = document.getElementById('65c465f3-1b73-42c5-a3fa-68b12c32e346');\n",
              "var x = new MutationObserver(function (mutations, observer) {{\n",
              "        var display = window.getComputedStyle(gd).display;\n",
              "        if (!display || display === 'none') {{\n",
              "            console.log([gd, 'removed!']);\n",
              "            Plotly.purge(gd);\n",
              "            observer.disconnect();\n",
              "        }}\n",
              "}});\n",
              "\n",
              "// Listen for the removal of the full notebook cells\n",
              "var notebookContainer = gd.closest('#notebook-container');\n",
              "if (notebookContainer) {{\n",
              "    x.observe(notebookContainer, {childList: true});\n",
              "}}\n",
              "\n",
              "// Listen for the clearing of the current output cell\n",
              "var outputEl = gd.closest('.output');\n",
              "if (outputEl) {{\n",
              "    x.observe(outputEl, {childList: true});\n",
              "}}\n",
              "\n",
              "                        })                };                            </script>        </div>\n",
              "</body>\n",
              "</html>"
            ]
          },
          "metadata": {}
        }
      ]
    },
    {
      "cell_type": "code",
      "metadata": {
        "colab": {
          "base_uri": "https://localhost:8080/",
          "height": 542
        },
        "id": "PkFNciacQ8gN",
        "outputId": "ae7a95a4-c8ec-478f-fd9b-0666a041b7dc"
      },
      "source": [
        "# Plot Sterling, Rashford, Kane tweet frequency\n",
        "df = joined_df.resample(INTERVAL, on='created_at')['MarcusRashford', 'sterling7', 'HKane'].sum().reset_index()\n",
        "fig = create_frequency_plot(df, ['MarcusRashford', 'sterling7', 'HKane'])\n",
        "fig.show()"
      ],
      "execution_count": 30,
      "outputs": [
        {
          "output_type": "display_data",
          "data": {
            "text/html": [
              "<html>\n",
              "<head><meta charset=\"utf-8\" /></head>\n",
              "<body>\n",
              "    <div>            <script src=\"https://cdnjs.cloudflare.com/ajax/libs/mathjax/2.7.5/MathJax.js?config=TeX-AMS-MML_SVG\"></script><script type=\"text/javascript\">if (window.MathJax) {MathJax.Hub.Config({SVG: {font: \"STIX-Web\"}});}</script>                <script type=\"text/javascript\">window.PlotlyConfig = {MathJaxConfig: 'local'};</script>\n",
              "        <script src=\"https://cdn.plot.ly/plotly-2.8.3.min.js\"></script>                <div id=\"1503e6b5-f3d9-4b64-b390-51932175fb1f\" class=\"plotly-graph-div\" style=\"height:525px; width:100%;\"></div>            <script type=\"text/javascript\">                                    window.PLOTLYENV=window.PLOTLYENV || {};                                    if (document.getElementById(\"1503e6b5-f3d9-4b64-b390-51932175fb1f\")) {                    Plotly.newPlot(                        \"1503e6b5-f3d9-4b64-b390-51932175fb1f\",                        [{\"mode\":\"lines\",\"name\":\"MarcusRashford\",\"x\":[\"2022-11-10T11:00:00+00:00\",\"2022-11-10T12:00:00+00:00\",\"2022-11-10T13:00:00+00:00\",\"2022-11-10T14:00:00+00:00\",\"2022-11-10T15:00:00+00:00\",\"2022-11-10T16:00:00+00:00\",\"2022-11-10T17:00:00+00:00\",\"2022-11-10T18:00:00+00:00\",\"2022-11-10T19:00:00+00:00\",\"2022-11-10T20:00:00+00:00\",\"2022-11-10T21:00:00+00:00\",\"2022-11-10T22:00:00+00:00\",\"2022-11-10T23:00:00+00:00\",\"2022-11-11T00:00:00+00:00\",\"2022-11-11T01:00:00+00:00\",\"2022-11-11T02:00:00+00:00\",\"2022-11-11T03:00:00+00:00\",\"2022-11-11T04:00:00+00:00\",\"2022-11-11T05:00:00+00:00\",\"2022-11-11T06:00:00+00:00\",\"2022-11-11T07:00:00+00:00\",\"2022-11-11T08:00:00+00:00\",\"2022-11-11T09:00:00+00:00\",\"2022-11-11T10:00:00+00:00\",\"2022-11-11T11:00:00+00:00\",\"2022-11-11T12:00:00+00:00\",\"2022-11-11T13:00:00+00:00\",\"2022-11-11T14:00:00+00:00\",\"2022-11-11T15:00:00+00:00\",\"2022-11-11T16:00:00+00:00\",\"2022-11-11T17:00:00+00:00\",\"2022-11-11T18:00:00+00:00\",\"2022-11-11T19:00:00+00:00\",\"2022-11-11T20:00:00+00:00\",\"2022-11-11T21:00:00+00:00\",\"2022-11-11T22:00:00+00:00\",\"2022-11-11T23:00:00+00:00\",\"2022-11-12T00:00:00+00:00\",\"2022-11-12T01:00:00+00:00\",\"2022-11-12T02:00:00+00:00\",\"2022-11-12T03:00:00+00:00\",\"2022-11-12T04:00:00+00:00\",\"2022-11-12T05:00:00+00:00\",\"2022-11-12T06:00:00+00:00\",\"2022-11-12T07:00:00+00:00\",\"2022-11-12T08:00:00+00:00\",\"2022-11-12T09:00:00+00:00\",\"2022-11-12T10:00:00+00:00\",\"2022-11-12T11:00:00+00:00\",\"2022-11-12T12:00:00+00:00\",\"2022-11-12T13:00:00+00:00\",\"2022-11-12T14:00:00+00:00\",\"2022-11-12T15:00:00+00:00\",\"2022-11-12T16:00:00+00:00\",\"2022-11-12T17:00:00+00:00\",\"2022-11-12T18:00:00+00:00\",\"2022-11-12T19:00:00+00:00\",\"2022-11-12T20:00:00+00:00\",\"2022-11-12T21:00:00+00:00\",\"2022-11-12T22:00:00+00:00\",\"2022-11-12T23:00:00+00:00\",\"2022-11-13T00:00:00+00:00\",\"2022-11-13T01:00:00+00:00\",\"2022-11-13T02:00:00+00:00\",\"2022-11-13T03:00:00+00:00\",\"2022-11-13T04:00:00+00:00\",\"2022-11-13T05:00:00+00:00\",\"2022-11-13T06:00:00+00:00\",\"2022-11-13T07:00:00+00:00\",\"2022-11-13T08:00:00+00:00\",\"2022-11-13T09:00:00+00:00\",\"2022-11-13T10:00:00+00:00\",\"2022-11-13T11:00:00+00:00\",\"2022-11-13T12:00:00+00:00\",\"2022-11-13T13:00:00+00:00\",\"2022-11-13T14:00:00+00:00\",\"2022-11-13T15:00:00+00:00\",\"2022-11-13T16:00:00+00:00\",\"2022-11-13T17:00:00+00:00\",\"2022-11-13T18:00:00+00:00\",\"2022-11-13T19:00:00+00:00\",\"2022-11-13T20:00:00+00:00\",\"2022-11-13T21:00:00+00:00\",\"2022-11-13T22:00:00+00:00\",\"2022-11-13T23:00:00+00:00\",\"2022-11-14T00:00:00+00:00\",\"2022-11-14T01:00:00+00:00\",\"2022-11-14T02:00:00+00:00\",\"2022-11-14T03:00:00+00:00\",\"2022-11-14T04:00:00+00:00\",\"2022-11-14T05:00:00+00:00\",\"2022-11-14T06:00:00+00:00\",\"2022-11-14T07:00:00+00:00\",\"2022-11-14T08:00:00+00:00\",\"2022-11-14T09:00:00+00:00\",\"2022-11-14T10:00:00+00:00\",\"2022-11-14T11:00:00+00:00\",\"2022-11-14T12:00:00+00:00\",\"2022-11-14T13:00:00+00:00\",\"2022-11-14T14:00:00+00:00\",\"2022-11-14T15:00:00+00:00\",\"2022-11-14T16:00:00+00:00\",\"2022-11-14T17:00:00+00:00\",\"2022-11-14T18:00:00+00:00\",\"2022-11-14T19:00:00+00:00\",\"2022-11-14T20:00:00+00:00\",\"2022-11-14T21:00:00+00:00\",\"2022-11-14T22:00:00+00:00\",\"2022-11-14T23:00:00+00:00\",\"2022-11-15T00:00:00+00:00\",\"2022-11-15T01:00:00+00:00\",\"2022-11-15T02:00:00+00:00\",\"2022-11-15T03:00:00+00:00\",\"2022-11-15T04:00:00+00:00\",\"2022-11-15T05:00:00+00:00\",\"2022-11-15T06:00:00+00:00\",\"2022-11-15T07:00:00+00:00\",\"2022-11-15T08:00:00+00:00\",\"2022-11-15T09:00:00+00:00\",\"2022-11-15T10:00:00+00:00\",\"2022-11-15T11:00:00+00:00\",\"2022-11-15T12:00:00+00:00\",\"2022-11-15T13:00:00+00:00\",\"2022-11-15T14:00:00+00:00\",\"2022-11-15T15:00:00+00:00\",\"2022-11-15T16:00:00+00:00\",\"2022-11-15T17:00:00+00:00\",\"2022-11-15T18:00:00+00:00\",\"2022-11-15T19:00:00+00:00\",\"2022-11-15T20:00:00+00:00\",\"2022-11-15T21:00:00+00:00\",\"2022-11-15T22:00:00+00:00\",\"2022-11-15T23:00:00+00:00\",\"2022-11-16T00:00:00+00:00\",\"2022-11-16T01:00:00+00:00\",\"2022-11-16T02:00:00+00:00\",\"2022-11-16T03:00:00+00:00\",\"2022-11-16T04:00:00+00:00\",\"2022-11-16T05:00:00+00:00\",\"2022-11-16T06:00:00+00:00\",\"2022-11-16T07:00:00+00:00\",\"2022-11-16T08:00:00+00:00\",\"2022-11-16T09:00:00+00:00\",\"2022-11-16T10:00:00+00:00\",\"2022-11-16T11:00:00+00:00\",\"2022-11-16T12:00:00+00:00\",\"2022-11-16T13:00:00+00:00\",\"2022-11-16T14:00:00+00:00\",\"2022-11-16T15:00:00+00:00\",\"2022-11-16T16:00:00+00:00\",\"2022-11-16T17:00:00+00:00\",\"2022-11-16T18:00:00+00:00\",\"2022-11-16T19:00:00+00:00\",\"2022-11-16T20:00:00+00:00\",\"2022-11-16T21:00:00+00:00\",\"2022-11-16T22:00:00+00:00\",\"2022-11-16T23:00:00+00:00\",\"2022-11-17T00:00:00+00:00\",\"2022-11-17T01:00:00+00:00\",\"2022-11-17T02:00:00+00:00\",\"2022-11-17T03:00:00+00:00\",\"2022-11-17T04:00:00+00:00\",\"2022-11-17T05:00:00+00:00\",\"2022-11-17T06:00:00+00:00\",\"2022-11-17T07:00:00+00:00\",\"2022-11-17T08:00:00+00:00\",\"2022-11-17T09:00:00+00:00\",\"2022-11-17T10:00:00+00:00\",\"2022-11-17T11:00:00+00:00\",\"2022-11-17T12:00:00+00:00\",\"2022-11-17T13:00:00+00:00\",\"2022-11-17T14:00:00+00:00\",\"2022-11-17T15:00:00+00:00\",\"2022-11-17T16:00:00+00:00\",\"2022-11-17T17:00:00+00:00\",\"2022-11-17T18:00:00+00:00\",\"2022-11-17T19:00:00+00:00\",\"2022-11-17T20:00:00+00:00\",\"2022-11-17T21:00:00+00:00\",\"2022-11-17T22:00:00+00:00\",\"2022-11-17T23:00:00+00:00\",\"2022-11-18T00:00:00+00:00\",\"2022-11-18T01:00:00+00:00\",\"2022-11-18T02:00:00+00:00\",\"2022-11-18T03:00:00+00:00\",\"2022-11-18T04:00:00+00:00\",\"2022-11-18T05:00:00+00:00\",\"2022-11-18T06:00:00+00:00\",\"2022-11-18T07:00:00+00:00\",\"2022-11-18T08:00:00+00:00\",\"2022-11-18T09:00:00+00:00\",\"2022-11-18T10:00:00+00:00\",\"2022-11-18T11:00:00+00:00\",\"2022-11-18T12:00:00+00:00\",\"2022-11-18T13:00:00+00:00\",\"2022-11-18T14:00:00+00:00\",\"2022-11-18T15:00:00+00:00\",\"2022-11-18T16:00:00+00:00\",\"2022-11-18T17:00:00+00:00\",\"2022-11-18T18:00:00+00:00\",\"2022-11-18T19:00:00+00:00\",\"2022-11-18T20:00:00+00:00\",\"2022-11-18T21:00:00+00:00\",\"2022-11-18T22:00:00+00:00\",\"2022-11-18T23:00:00+00:00\",\"2022-11-19T00:00:00+00:00\",\"2022-11-19T01:00:00+00:00\",\"2022-11-19T02:00:00+00:00\",\"2022-11-19T03:00:00+00:00\",\"2022-11-19T04:00:00+00:00\",\"2022-11-19T05:00:00+00:00\",\"2022-11-19T06:00:00+00:00\",\"2022-11-19T07:00:00+00:00\",\"2022-11-19T08:00:00+00:00\",\"2022-11-19T09:00:00+00:00\",\"2022-11-19T10:00:00+00:00\",\"2022-11-19T11:00:00+00:00\",\"2022-11-19T12:00:00+00:00\",\"2022-11-19T13:00:00+00:00\",\"2022-11-19T14:00:00+00:00\",\"2022-11-19T15:00:00+00:00\",\"2022-11-19T16:00:00+00:00\",\"2022-11-19T17:00:00+00:00\",\"2022-11-19T18:00:00+00:00\",\"2022-11-19T19:00:00+00:00\",\"2022-11-19T20:00:00+00:00\",\"2022-11-19T21:00:00+00:00\",\"2022-11-19T22:00:00+00:00\",\"2022-11-19T23:00:00+00:00\",\"2022-11-20T00:00:00+00:00\",\"2022-11-20T01:00:00+00:00\",\"2022-11-20T02:00:00+00:00\",\"2022-11-20T03:00:00+00:00\",\"2022-11-20T04:00:00+00:00\",\"2022-11-20T05:00:00+00:00\",\"2022-11-20T06:00:00+00:00\",\"2022-11-20T07:00:00+00:00\",\"2022-11-20T08:00:00+00:00\",\"2022-11-20T09:00:00+00:00\",\"2022-11-20T10:00:00+00:00\",\"2022-11-20T11:00:00+00:00\",\"2022-11-20T12:00:00+00:00\",\"2022-11-20T13:00:00+00:00\",\"2022-11-20T14:00:00+00:00\",\"2022-11-20T15:00:00+00:00\",\"2022-11-20T16:00:00+00:00\",\"2022-11-20T17:00:00+00:00\",\"2022-11-20T18:00:00+00:00\",\"2022-11-20T19:00:00+00:00\",\"2022-11-20T20:00:00+00:00\",\"2022-11-20T21:00:00+00:00\",\"2022-11-20T22:00:00+00:00\",\"2022-11-20T23:00:00+00:00\",\"2022-11-21T00:00:00+00:00\",\"2022-11-21T01:00:00+00:00\",\"2022-11-21T02:00:00+00:00\",\"2022-11-21T03:00:00+00:00\",\"2022-11-21T04:00:00+00:00\",\"2022-11-21T05:00:00+00:00\",\"2022-11-21T06:00:00+00:00\",\"2022-11-21T07:00:00+00:00\",\"2022-11-21T08:00:00+00:00\",\"2022-11-21T09:00:00+00:00\",\"2022-11-21T10:00:00+00:00\",\"2022-11-21T11:00:00+00:00\",\"2022-11-21T12:00:00+00:00\",\"2022-11-21T13:00:00+00:00\",\"2022-11-21T14:00:00+00:00\",\"2022-11-21T15:00:00+00:00\",\"2022-11-21T16:00:00+00:00\",\"2022-11-21T17:00:00+00:00\",\"2022-11-21T18:00:00+00:00\",\"2022-11-21T19:00:00+00:00\",\"2022-11-21T20:00:00+00:00\",\"2022-11-21T21:00:00+00:00\",\"2022-11-21T22:00:00+00:00\",\"2022-11-21T23:00:00+00:00\",\"2022-11-22T00:00:00+00:00\",\"2022-11-22T01:00:00+00:00\",\"2022-11-22T02:00:00+00:00\",\"2022-11-22T03:00:00+00:00\",\"2022-11-22T04:00:00+00:00\",\"2022-11-22T05:00:00+00:00\",\"2022-11-22T06:00:00+00:00\",\"2022-11-22T07:00:00+00:00\",\"2022-11-22T08:00:00+00:00\",\"2022-11-22T09:00:00+00:00\",\"2022-11-22T10:00:00+00:00\",\"2022-11-22T11:00:00+00:00\",\"2022-11-22T12:00:00+00:00\",\"2022-11-22T13:00:00+00:00\",\"2022-11-22T14:00:00+00:00\",\"2022-11-22T15:00:00+00:00\",\"2022-11-22T16:00:00+00:00\",\"2022-11-22T17:00:00+00:00\",\"2022-11-22T18:00:00+00:00\",\"2022-11-22T19:00:00+00:00\",\"2022-11-22T20:00:00+00:00\",\"2022-11-22T21:00:00+00:00\",\"2022-11-22T22:00:00+00:00\",\"2022-11-22T23:00:00+00:00\",\"2022-11-23T00:00:00+00:00\",\"2022-11-23T01:00:00+00:00\",\"2022-11-23T02:00:00+00:00\",\"2022-11-23T03:00:00+00:00\",\"2022-11-23T04:00:00+00:00\",\"2022-11-23T05:00:00+00:00\",\"2022-11-23T06:00:00+00:00\",\"2022-11-23T07:00:00+00:00\",\"2022-11-23T08:00:00+00:00\",\"2022-11-23T09:00:00+00:00\",\"2022-11-23T10:00:00+00:00\",\"2022-11-23T11:00:00+00:00\",\"2022-11-23T12:00:00+00:00\",\"2022-11-23T13:00:00+00:00\",\"2022-11-23T14:00:00+00:00\",\"2022-11-23T15:00:00+00:00\",\"2022-11-23T16:00:00+00:00\",\"2022-11-23T17:00:00+00:00\",\"2022-11-23T18:00:00+00:00\",\"2022-11-23T19:00:00+00:00\",\"2022-11-23T20:00:00+00:00\",\"2022-11-23T21:00:00+00:00\",\"2022-11-23T22:00:00+00:00\",\"2022-11-23T23:00:00+00:00\",\"2022-11-24T00:00:00+00:00\",\"2022-11-24T01:00:00+00:00\",\"2022-11-24T02:00:00+00:00\",\"2022-11-24T03:00:00+00:00\",\"2022-11-24T04:00:00+00:00\",\"2022-11-24T05:00:00+00:00\",\"2022-11-24T06:00:00+00:00\",\"2022-11-24T07:00:00+00:00\",\"2022-11-24T08:00:00+00:00\",\"2022-11-24T09:00:00+00:00\",\"2022-11-24T10:00:00+00:00\",\"2022-11-24T11:00:00+00:00\",\"2022-11-24T12:00:00+00:00\",\"2022-11-24T13:00:00+00:00\",\"2022-11-24T14:00:00+00:00\",\"2022-11-24T15:00:00+00:00\",\"2022-11-24T16:00:00+00:00\",\"2022-11-24T17:00:00+00:00\",\"2022-11-24T18:00:00+00:00\",\"2022-11-24T19:00:00+00:00\",\"2022-11-24T20:00:00+00:00\",\"2022-11-24T21:00:00+00:00\",\"2022-11-24T22:00:00+00:00\",\"2022-11-24T23:00:00+00:00\",\"2022-11-25T00:00:00+00:00\",\"2022-11-25T01:00:00+00:00\",\"2022-11-25T02:00:00+00:00\",\"2022-11-25T03:00:00+00:00\",\"2022-11-25T04:00:00+00:00\",\"2022-11-25T05:00:00+00:00\",\"2022-11-25T06:00:00+00:00\",\"2022-11-25T07:00:00+00:00\",\"2022-11-25T08:00:00+00:00\",\"2022-11-25T09:00:00+00:00\",\"2022-11-25T10:00:00+00:00\",\"2022-11-25T11:00:00+00:00\",\"2022-11-25T12:00:00+00:00\",\"2022-11-25T13:00:00+00:00\",\"2022-11-25T14:00:00+00:00\",\"2022-11-25T15:00:00+00:00\",\"2022-11-25T16:00:00+00:00\",\"2022-11-25T17:00:00+00:00\",\"2022-11-25T18:00:00+00:00\",\"2022-11-25T19:00:00+00:00\",\"2022-11-25T20:00:00+00:00\",\"2022-11-25T21:00:00+00:00\",\"2022-11-25T22:00:00+00:00\",\"2022-11-25T23:00:00+00:00\",\"2022-11-26T00:00:00+00:00\",\"2022-11-26T01:00:00+00:00\",\"2022-11-26T02:00:00+00:00\",\"2022-11-26T03:00:00+00:00\",\"2022-11-26T04:00:00+00:00\",\"2022-11-26T05:00:00+00:00\",\"2022-11-26T06:00:00+00:00\",\"2022-11-26T07:00:00+00:00\",\"2022-11-26T08:00:00+00:00\",\"2022-11-26T09:00:00+00:00\",\"2022-11-26T10:00:00+00:00\",\"2022-11-26T11:00:00+00:00\",\"2022-11-26T12:00:00+00:00\",\"2022-11-26T13:00:00+00:00\",\"2022-11-26T14:00:00+00:00\",\"2022-11-26T15:00:00+00:00\",\"2022-11-26T16:00:00+00:00\",\"2022-11-26T17:00:00+00:00\",\"2022-11-26T18:00:00+00:00\",\"2022-11-26T19:00:00+00:00\",\"2022-11-26T20:00:00+00:00\",\"2022-11-26T21:00:00+00:00\",\"2022-11-26T22:00:00+00:00\",\"2022-11-26T23:00:00+00:00\",\"2022-11-27T00:00:00+00:00\",\"2022-11-27T01:00:00+00:00\",\"2022-11-27T02:00:00+00:00\",\"2022-11-27T03:00:00+00:00\",\"2022-11-27T04:00:00+00:00\",\"2022-11-27T05:00:00+00:00\",\"2022-11-27T06:00:00+00:00\",\"2022-11-27T07:00:00+00:00\",\"2022-11-27T08:00:00+00:00\",\"2022-11-27T09:00:00+00:00\",\"2022-11-27T10:00:00+00:00\",\"2022-11-27T11:00:00+00:00\",\"2022-11-27T12:00:00+00:00\",\"2022-11-27T13:00:00+00:00\",\"2022-11-27T14:00:00+00:00\",\"2022-11-27T15:00:00+00:00\",\"2022-11-27T16:00:00+00:00\",\"2022-11-27T17:00:00+00:00\",\"2022-11-27T18:00:00+00:00\",\"2022-11-27T19:00:00+00:00\",\"2022-11-27T20:00:00+00:00\",\"2022-11-27T21:00:00+00:00\",\"2022-11-27T22:00:00+00:00\",\"2022-11-27T23:00:00+00:00\",\"2022-11-28T00:00:00+00:00\",\"2022-11-28T01:00:00+00:00\",\"2022-11-28T02:00:00+00:00\",\"2022-11-28T03:00:00+00:00\",\"2022-11-28T04:00:00+00:00\",\"2022-11-28T05:00:00+00:00\",\"2022-11-28T06:00:00+00:00\",\"2022-11-28T07:00:00+00:00\",\"2022-11-28T08:00:00+00:00\",\"2022-11-28T09:00:00+00:00\",\"2022-11-28T10:00:00+00:00\",\"2022-11-28T11:00:00+00:00\",\"2022-11-28T12:00:00+00:00\",\"2022-11-28T13:00:00+00:00\",\"2022-11-28T14:00:00+00:00\",\"2022-11-28T15:00:00+00:00\",\"2022-11-28T16:00:00+00:00\",\"2022-11-28T17:00:00+00:00\",\"2022-11-28T18:00:00+00:00\",\"2022-11-28T19:00:00+00:00\",\"2022-11-28T20:00:00+00:00\",\"2022-11-28T21:00:00+00:00\",\"2022-11-28T22:00:00+00:00\",\"2022-11-28T23:00:00+00:00\",\"2022-11-29T00:00:00+00:00\",\"2022-11-29T01:00:00+00:00\",\"2022-11-29T02:00:00+00:00\",\"2022-11-29T03:00:00+00:00\",\"2022-11-29T04:00:00+00:00\",\"2022-11-29T05:00:00+00:00\",\"2022-11-29T06:00:00+00:00\",\"2022-11-29T07:00:00+00:00\",\"2022-11-29T08:00:00+00:00\",\"2022-11-29T09:00:00+00:00\",\"2022-11-29T10:00:00+00:00\",\"2022-11-29T11:00:00+00:00\",\"2022-11-29T12:00:00+00:00\",\"2022-11-29T13:00:00+00:00\",\"2022-11-29T14:00:00+00:00\",\"2022-11-29T15:00:00+00:00\"],\"y\":[17,24,21,367,137,52,37,35,70,106,367,738,454,104,44,29,26,60,44,54,60,66,45,35,39,34,20,37,21,26,30,24,14,11,14,214,155,41,10,8,12,10,17,20,26,24,27,24,30,23,15,16,15,7,9,24,12,19,24,30,12,9,5,0,4,4,3,1,7,7,17,9,14,12,11,10,12,21,84,53,173,137,264,60,44,23,13,20,9,11,17,21,24,14,21,14,15,9,26,16,14,7,30,22,18,14,14,7,28,10,6,3,4,2,2,8,8,4,16,6,2,2,8,19,94,43,119,139,62,50,30,28,30,10,11,2,4,6,6,12,17,26,11,20,10,15,2,11,170,117,121,76,52,31,31,24,12,1,8,33,12,15,14,22,14,17,67,32,20,115,42,124,53,31,47,67,84,24,374,134,58,31,23,27,22,19,23,36,40,36,26,27,22,43,32,16,22,20,21,14,51,24,16,28,6,5,7,7,5,5,6,10,9,10,7,7,5,10,16,10,12,4,7,10,5,8,23,20,9,10,6,2,2,0,5,2,3,20,13,3,39,27,16,154,402,113,93,78,63,65,43,46,41,20,14,15,12,12,26,27,37,51,43,59,50,135,36,1713,890,686,789,475,295,266,184,130,87,47,33,43,21,28,61,65,70,85,69,66,55,34,41,33,45,7,4,6,7,3,1,2,0,0,1,0,2,4,0,4,4,1,3,3,0,3,1,1,2,0,0,2,2,1,3,0,0,0,0,0,1,1,0,3,0,0,1,0,1,3,1,0,0,2,0,1,20,1,0,0,0,2,2,0,0,0,0,0,0,6,2,5,2,1,8,3,0,2,3,78,9,12,167,21,4,2,3,4,1,2,1,2,5,3,5,2,2,4,0,2,1,0,3,0,0,0,3,1,0,2,1,0,0,0,2,0,0,0,0,0,0,0,0,0,0,1,0,0,2,2,0,0,1,0,0,0,0,0,0,0,0,0,1,2,0,2,1,0,0,0,0,4,0,1,3,1,1,0,1,17,3,3,7,13,8,5,6,3,3,14,23,5,0],\"type\":\"scatter\"},{\"mode\":\"lines\",\"name\":\"sterling7\",\"x\":[\"2022-11-10T11:00:00+00:00\",\"2022-11-10T12:00:00+00:00\",\"2022-11-10T13:00:00+00:00\",\"2022-11-10T14:00:00+00:00\",\"2022-11-10T15:00:00+00:00\",\"2022-11-10T16:00:00+00:00\",\"2022-11-10T17:00:00+00:00\",\"2022-11-10T18:00:00+00:00\",\"2022-11-10T19:00:00+00:00\",\"2022-11-10T20:00:00+00:00\",\"2022-11-10T21:00:00+00:00\",\"2022-11-10T22:00:00+00:00\",\"2022-11-10T23:00:00+00:00\",\"2022-11-11T00:00:00+00:00\",\"2022-11-11T01:00:00+00:00\",\"2022-11-11T02:00:00+00:00\",\"2022-11-11T03:00:00+00:00\",\"2022-11-11T04:00:00+00:00\",\"2022-11-11T05:00:00+00:00\",\"2022-11-11T06:00:00+00:00\",\"2022-11-11T07:00:00+00:00\",\"2022-11-11T08:00:00+00:00\",\"2022-11-11T09:00:00+00:00\",\"2022-11-11T10:00:00+00:00\",\"2022-11-11T11:00:00+00:00\",\"2022-11-11T12:00:00+00:00\",\"2022-11-11T13:00:00+00:00\",\"2022-11-11T14:00:00+00:00\",\"2022-11-11T15:00:00+00:00\",\"2022-11-11T16:00:00+00:00\",\"2022-11-11T17:00:00+00:00\",\"2022-11-11T18:00:00+00:00\",\"2022-11-11T19:00:00+00:00\",\"2022-11-11T20:00:00+00:00\",\"2022-11-11T21:00:00+00:00\",\"2022-11-11T22:00:00+00:00\",\"2022-11-11T23:00:00+00:00\",\"2022-11-12T00:00:00+00:00\",\"2022-11-12T01:00:00+00:00\",\"2022-11-12T02:00:00+00:00\",\"2022-11-12T03:00:00+00:00\",\"2022-11-12T04:00:00+00:00\",\"2022-11-12T05:00:00+00:00\",\"2022-11-12T06:00:00+00:00\",\"2022-11-12T07:00:00+00:00\",\"2022-11-12T08:00:00+00:00\",\"2022-11-12T09:00:00+00:00\",\"2022-11-12T10:00:00+00:00\",\"2022-11-12T11:00:00+00:00\",\"2022-11-12T12:00:00+00:00\",\"2022-11-12T13:00:00+00:00\",\"2022-11-12T14:00:00+00:00\",\"2022-11-12T15:00:00+00:00\",\"2022-11-12T16:00:00+00:00\",\"2022-11-12T17:00:00+00:00\",\"2022-11-12T18:00:00+00:00\",\"2022-11-12T19:00:00+00:00\",\"2022-11-12T20:00:00+00:00\",\"2022-11-12T21:00:00+00:00\",\"2022-11-12T22:00:00+00:00\",\"2022-11-12T23:00:00+00:00\",\"2022-11-13T00:00:00+00:00\",\"2022-11-13T01:00:00+00:00\",\"2022-11-13T02:00:00+00:00\",\"2022-11-13T03:00:00+00:00\",\"2022-11-13T04:00:00+00:00\",\"2022-11-13T05:00:00+00:00\",\"2022-11-13T06:00:00+00:00\",\"2022-11-13T07:00:00+00:00\",\"2022-11-13T08:00:00+00:00\",\"2022-11-13T09:00:00+00:00\",\"2022-11-13T10:00:00+00:00\",\"2022-11-13T11:00:00+00:00\",\"2022-11-13T12:00:00+00:00\",\"2022-11-13T13:00:00+00:00\",\"2022-11-13T14:00:00+00:00\",\"2022-11-13T15:00:00+00:00\",\"2022-11-13T16:00:00+00:00\",\"2022-11-13T17:00:00+00:00\",\"2022-11-13T18:00:00+00:00\",\"2022-11-13T19:00:00+00:00\",\"2022-11-13T20:00:00+00:00\",\"2022-11-13T21:00:00+00:00\",\"2022-11-13T22:00:00+00:00\",\"2022-11-13T23:00:00+00:00\",\"2022-11-14T00:00:00+00:00\",\"2022-11-14T01:00:00+00:00\",\"2022-11-14T02:00:00+00:00\",\"2022-11-14T03:00:00+00:00\",\"2022-11-14T04:00:00+00:00\",\"2022-11-14T05:00:00+00:00\",\"2022-11-14T06:00:00+00:00\",\"2022-11-14T07:00:00+00:00\",\"2022-11-14T08:00:00+00:00\",\"2022-11-14T09:00:00+00:00\",\"2022-11-14T10:00:00+00:00\",\"2022-11-14T11:00:00+00:00\",\"2022-11-14T12:00:00+00:00\",\"2022-11-14T13:00:00+00:00\",\"2022-11-14T14:00:00+00:00\",\"2022-11-14T15:00:00+00:00\",\"2022-11-14T16:00:00+00:00\",\"2022-11-14T17:00:00+00:00\",\"2022-11-14T18:00:00+00:00\",\"2022-11-14T19:00:00+00:00\",\"2022-11-14T20:00:00+00:00\",\"2022-11-14T21:00:00+00:00\",\"2022-11-14T22:00:00+00:00\",\"2022-11-14T23:00:00+00:00\",\"2022-11-15T00:00:00+00:00\",\"2022-11-15T01:00:00+00:00\",\"2022-11-15T02:00:00+00:00\",\"2022-11-15T03:00:00+00:00\",\"2022-11-15T04:00:00+00:00\",\"2022-11-15T05:00:00+00:00\",\"2022-11-15T06:00:00+00:00\",\"2022-11-15T07:00:00+00:00\",\"2022-11-15T08:00:00+00:00\",\"2022-11-15T09:00:00+00:00\",\"2022-11-15T10:00:00+00:00\",\"2022-11-15T11:00:00+00:00\",\"2022-11-15T12:00:00+00:00\",\"2022-11-15T13:00:00+00:00\",\"2022-11-15T14:00:00+00:00\",\"2022-11-15T15:00:00+00:00\",\"2022-11-15T16:00:00+00:00\",\"2022-11-15T17:00:00+00:00\",\"2022-11-15T18:00:00+00:00\",\"2022-11-15T19:00:00+00:00\",\"2022-11-15T20:00:00+00:00\",\"2022-11-15T21:00:00+00:00\",\"2022-11-15T22:00:00+00:00\",\"2022-11-15T23:00:00+00:00\",\"2022-11-16T00:00:00+00:00\",\"2022-11-16T01:00:00+00:00\",\"2022-11-16T02:00:00+00:00\",\"2022-11-16T03:00:00+00:00\",\"2022-11-16T04:00:00+00:00\",\"2022-11-16T05:00:00+00:00\",\"2022-11-16T06:00:00+00:00\",\"2022-11-16T07:00:00+00:00\",\"2022-11-16T08:00:00+00:00\",\"2022-11-16T09:00:00+00:00\",\"2022-11-16T10:00:00+00:00\",\"2022-11-16T11:00:00+00:00\",\"2022-11-16T12:00:00+00:00\",\"2022-11-16T13:00:00+00:00\",\"2022-11-16T14:00:00+00:00\",\"2022-11-16T15:00:00+00:00\",\"2022-11-16T16:00:00+00:00\",\"2022-11-16T17:00:00+00:00\",\"2022-11-16T18:00:00+00:00\",\"2022-11-16T19:00:00+00:00\",\"2022-11-16T20:00:00+00:00\",\"2022-11-16T21:00:00+00:00\",\"2022-11-16T22:00:00+00:00\",\"2022-11-16T23:00:00+00:00\",\"2022-11-17T00:00:00+00:00\",\"2022-11-17T01:00:00+00:00\",\"2022-11-17T02:00:00+00:00\",\"2022-11-17T03:00:00+00:00\",\"2022-11-17T04:00:00+00:00\",\"2022-11-17T05:00:00+00:00\",\"2022-11-17T06:00:00+00:00\",\"2022-11-17T07:00:00+00:00\",\"2022-11-17T08:00:00+00:00\",\"2022-11-17T09:00:00+00:00\",\"2022-11-17T10:00:00+00:00\",\"2022-11-17T11:00:00+00:00\",\"2022-11-17T12:00:00+00:00\",\"2022-11-17T13:00:00+00:00\",\"2022-11-17T14:00:00+00:00\",\"2022-11-17T15:00:00+00:00\",\"2022-11-17T16:00:00+00:00\",\"2022-11-17T17:00:00+00:00\",\"2022-11-17T18:00:00+00:00\",\"2022-11-17T19:00:00+00:00\",\"2022-11-17T20:00:00+00:00\",\"2022-11-17T21:00:00+00:00\",\"2022-11-17T22:00:00+00:00\",\"2022-11-17T23:00:00+00:00\",\"2022-11-18T00:00:00+00:00\",\"2022-11-18T01:00:00+00:00\",\"2022-11-18T02:00:00+00:00\",\"2022-11-18T03:00:00+00:00\",\"2022-11-18T04:00:00+00:00\",\"2022-11-18T05:00:00+00:00\",\"2022-11-18T06:00:00+00:00\",\"2022-11-18T07:00:00+00:00\",\"2022-11-18T08:00:00+00:00\",\"2022-11-18T09:00:00+00:00\",\"2022-11-18T10:00:00+00:00\",\"2022-11-18T11:00:00+00:00\",\"2022-11-18T12:00:00+00:00\",\"2022-11-18T13:00:00+00:00\",\"2022-11-18T14:00:00+00:00\",\"2022-11-18T15:00:00+00:00\",\"2022-11-18T16:00:00+00:00\",\"2022-11-18T17:00:00+00:00\",\"2022-11-18T18:00:00+00:00\",\"2022-11-18T19:00:00+00:00\",\"2022-11-18T20:00:00+00:00\",\"2022-11-18T21:00:00+00:00\",\"2022-11-18T22:00:00+00:00\",\"2022-11-18T23:00:00+00:00\",\"2022-11-19T00:00:00+00:00\",\"2022-11-19T01:00:00+00:00\",\"2022-11-19T02:00:00+00:00\",\"2022-11-19T03:00:00+00:00\",\"2022-11-19T04:00:00+00:00\",\"2022-11-19T05:00:00+00:00\",\"2022-11-19T06:00:00+00:00\",\"2022-11-19T07:00:00+00:00\",\"2022-11-19T08:00:00+00:00\",\"2022-11-19T09:00:00+00:00\",\"2022-11-19T10:00:00+00:00\",\"2022-11-19T11:00:00+00:00\",\"2022-11-19T12:00:00+00:00\",\"2022-11-19T13:00:00+00:00\",\"2022-11-19T14:00:00+00:00\",\"2022-11-19T15:00:00+00:00\",\"2022-11-19T16:00:00+00:00\",\"2022-11-19T17:00:00+00:00\",\"2022-11-19T18:00:00+00:00\",\"2022-11-19T19:00:00+00:00\",\"2022-11-19T20:00:00+00:00\",\"2022-11-19T21:00:00+00:00\",\"2022-11-19T22:00:00+00:00\",\"2022-11-19T23:00:00+00:00\",\"2022-11-20T00:00:00+00:00\",\"2022-11-20T01:00:00+00:00\",\"2022-11-20T02:00:00+00:00\",\"2022-11-20T03:00:00+00:00\",\"2022-11-20T04:00:00+00:00\",\"2022-11-20T05:00:00+00:00\",\"2022-11-20T06:00:00+00:00\",\"2022-11-20T07:00:00+00:00\",\"2022-11-20T08:00:00+00:00\",\"2022-11-20T09:00:00+00:00\",\"2022-11-20T10:00:00+00:00\",\"2022-11-20T11:00:00+00:00\",\"2022-11-20T12:00:00+00:00\",\"2022-11-20T13:00:00+00:00\",\"2022-11-20T14:00:00+00:00\",\"2022-11-20T15:00:00+00:00\",\"2022-11-20T16:00:00+00:00\",\"2022-11-20T17:00:00+00:00\",\"2022-11-20T18:00:00+00:00\",\"2022-11-20T19:00:00+00:00\",\"2022-11-20T20:00:00+00:00\",\"2022-11-20T21:00:00+00:00\",\"2022-11-20T22:00:00+00:00\",\"2022-11-20T23:00:00+00:00\",\"2022-11-21T00:00:00+00:00\",\"2022-11-21T01:00:00+00:00\",\"2022-11-21T02:00:00+00:00\",\"2022-11-21T03:00:00+00:00\",\"2022-11-21T04:00:00+00:00\",\"2022-11-21T05:00:00+00:00\",\"2022-11-21T06:00:00+00:00\",\"2022-11-21T07:00:00+00:00\",\"2022-11-21T08:00:00+00:00\",\"2022-11-21T09:00:00+00:00\",\"2022-11-21T10:00:00+00:00\",\"2022-11-21T11:00:00+00:00\",\"2022-11-21T12:00:00+00:00\",\"2022-11-21T13:00:00+00:00\",\"2022-11-21T14:00:00+00:00\",\"2022-11-21T15:00:00+00:00\",\"2022-11-21T16:00:00+00:00\",\"2022-11-21T17:00:00+00:00\",\"2022-11-21T18:00:00+00:00\",\"2022-11-21T19:00:00+00:00\",\"2022-11-21T20:00:00+00:00\",\"2022-11-21T21:00:00+00:00\",\"2022-11-21T22:00:00+00:00\",\"2022-11-21T23:00:00+00:00\",\"2022-11-22T00:00:00+00:00\",\"2022-11-22T01:00:00+00:00\",\"2022-11-22T02:00:00+00:00\",\"2022-11-22T03:00:00+00:00\",\"2022-11-22T04:00:00+00:00\",\"2022-11-22T05:00:00+00:00\",\"2022-11-22T06:00:00+00:00\",\"2022-11-22T07:00:00+00:00\",\"2022-11-22T08:00:00+00:00\",\"2022-11-22T09:00:00+00:00\",\"2022-11-22T10:00:00+00:00\",\"2022-11-22T11:00:00+00:00\",\"2022-11-22T12:00:00+00:00\",\"2022-11-22T13:00:00+00:00\",\"2022-11-22T14:00:00+00:00\",\"2022-11-22T15:00:00+00:00\",\"2022-11-22T16:00:00+00:00\",\"2022-11-22T17:00:00+00:00\",\"2022-11-22T18:00:00+00:00\",\"2022-11-22T19:00:00+00:00\",\"2022-11-22T20:00:00+00:00\",\"2022-11-22T21:00:00+00:00\",\"2022-11-22T22:00:00+00:00\",\"2022-11-22T23:00:00+00:00\",\"2022-11-23T00:00:00+00:00\",\"2022-11-23T01:00:00+00:00\",\"2022-11-23T02:00:00+00:00\",\"2022-11-23T03:00:00+00:00\",\"2022-11-23T04:00:00+00:00\",\"2022-11-23T05:00:00+00:00\",\"2022-11-23T06:00:00+00:00\",\"2022-11-23T07:00:00+00:00\",\"2022-11-23T08:00:00+00:00\",\"2022-11-23T09:00:00+00:00\",\"2022-11-23T10:00:00+00:00\",\"2022-11-23T11:00:00+00:00\",\"2022-11-23T12:00:00+00:00\",\"2022-11-23T13:00:00+00:00\",\"2022-11-23T14:00:00+00:00\",\"2022-11-23T15:00:00+00:00\",\"2022-11-23T16:00:00+00:00\",\"2022-11-23T17:00:00+00:00\",\"2022-11-23T18:00:00+00:00\",\"2022-11-23T19:00:00+00:00\",\"2022-11-23T20:00:00+00:00\",\"2022-11-23T21:00:00+00:00\",\"2022-11-23T22:00:00+00:00\",\"2022-11-23T23:00:00+00:00\",\"2022-11-24T00:00:00+00:00\",\"2022-11-24T01:00:00+00:00\",\"2022-11-24T02:00:00+00:00\",\"2022-11-24T03:00:00+00:00\",\"2022-11-24T04:00:00+00:00\",\"2022-11-24T05:00:00+00:00\",\"2022-11-24T06:00:00+00:00\",\"2022-11-24T07:00:00+00:00\",\"2022-11-24T08:00:00+00:00\",\"2022-11-24T09:00:00+00:00\",\"2022-11-24T10:00:00+00:00\",\"2022-11-24T11:00:00+00:00\",\"2022-11-24T12:00:00+00:00\",\"2022-11-24T13:00:00+00:00\",\"2022-11-24T14:00:00+00:00\",\"2022-11-24T15:00:00+00:00\",\"2022-11-24T16:00:00+00:00\",\"2022-11-24T17:00:00+00:00\",\"2022-11-24T18:00:00+00:00\",\"2022-11-24T19:00:00+00:00\",\"2022-11-24T20:00:00+00:00\",\"2022-11-24T21:00:00+00:00\",\"2022-11-24T22:00:00+00:00\",\"2022-11-24T23:00:00+00:00\",\"2022-11-25T00:00:00+00:00\",\"2022-11-25T01:00:00+00:00\",\"2022-11-25T02:00:00+00:00\",\"2022-11-25T03:00:00+00:00\",\"2022-11-25T04:00:00+00:00\",\"2022-11-25T05:00:00+00:00\",\"2022-11-25T06:00:00+00:00\",\"2022-11-25T07:00:00+00:00\",\"2022-11-25T08:00:00+00:00\",\"2022-11-25T09:00:00+00:00\",\"2022-11-25T10:00:00+00:00\",\"2022-11-25T11:00:00+00:00\",\"2022-11-25T12:00:00+00:00\",\"2022-11-25T13:00:00+00:00\",\"2022-11-25T14:00:00+00:00\",\"2022-11-25T15:00:00+00:00\",\"2022-11-25T16:00:00+00:00\",\"2022-11-25T17:00:00+00:00\",\"2022-11-25T18:00:00+00:00\",\"2022-11-25T19:00:00+00:00\",\"2022-11-25T20:00:00+00:00\",\"2022-11-25T21:00:00+00:00\",\"2022-11-25T22:00:00+00:00\",\"2022-11-25T23:00:00+00:00\",\"2022-11-26T00:00:00+00:00\",\"2022-11-26T01:00:00+00:00\",\"2022-11-26T02:00:00+00:00\",\"2022-11-26T03:00:00+00:00\",\"2022-11-26T04:00:00+00:00\",\"2022-11-26T05:00:00+00:00\",\"2022-11-26T06:00:00+00:00\",\"2022-11-26T07:00:00+00:00\",\"2022-11-26T08:00:00+00:00\",\"2022-11-26T09:00:00+00:00\",\"2022-11-26T10:00:00+00:00\",\"2022-11-26T11:00:00+00:00\",\"2022-11-26T12:00:00+00:00\",\"2022-11-26T13:00:00+00:00\",\"2022-11-26T14:00:00+00:00\",\"2022-11-26T15:00:00+00:00\",\"2022-11-26T16:00:00+00:00\",\"2022-11-26T17:00:00+00:00\",\"2022-11-26T18:00:00+00:00\",\"2022-11-26T19:00:00+00:00\",\"2022-11-26T20:00:00+00:00\",\"2022-11-26T21:00:00+00:00\",\"2022-11-26T22:00:00+00:00\",\"2022-11-26T23:00:00+00:00\",\"2022-11-27T00:00:00+00:00\",\"2022-11-27T01:00:00+00:00\",\"2022-11-27T02:00:00+00:00\",\"2022-11-27T03:00:00+00:00\",\"2022-11-27T04:00:00+00:00\",\"2022-11-27T05:00:00+00:00\",\"2022-11-27T06:00:00+00:00\",\"2022-11-27T07:00:00+00:00\",\"2022-11-27T08:00:00+00:00\",\"2022-11-27T09:00:00+00:00\",\"2022-11-27T10:00:00+00:00\",\"2022-11-27T11:00:00+00:00\",\"2022-11-27T12:00:00+00:00\",\"2022-11-27T13:00:00+00:00\",\"2022-11-27T14:00:00+00:00\",\"2022-11-27T15:00:00+00:00\",\"2022-11-27T16:00:00+00:00\",\"2022-11-27T17:00:00+00:00\",\"2022-11-27T18:00:00+00:00\",\"2022-11-27T19:00:00+00:00\",\"2022-11-27T20:00:00+00:00\",\"2022-11-27T21:00:00+00:00\",\"2022-11-27T22:00:00+00:00\",\"2022-11-27T23:00:00+00:00\",\"2022-11-28T00:00:00+00:00\",\"2022-11-28T01:00:00+00:00\",\"2022-11-28T02:00:00+00:00\",\"2022-11-28T03:00:00+00:00\",\"2022-11-28T04:00:00+00:00\",\"2022-11-28T05:00:00+00:00\",\"2022-11-28T06:00:00+00:00\",\"2022-11-28T07:00:00+00:00\",\"2022-11-28T08:00:00+00:00\",\"2022-11-28T09:00:00+00:00\",\"2022-11-28T10:00:00+00:00\",\"2022-11-28T11:00:00+00:00\",\"2022-11-28T12:00:00+00:00\",\"2022-11-28T13:00:00+00:00\",\"2022-11-28T14:00:00+00:00\",\"2022-11-28T15:00:00+00:00\",\"2022-11-28T16:00:00+00:00\",\"2022-11-28T17:00:00+00:00\",\"2022-11-28T18:00:00+00:00\",\"2022-11-28T19:00:00+00:00\",\"2022-11-28T20:00:00+00:00\",\"2022-11-28T21:00:00+00:00\",\"2022-11-28T22:00:00+00:00\",\"2022-11-28T23:00:00+00:00\",\"2022-11-29T00:00:00+00:00\",\"2022-11-29T01:00:00+00:00\",\"2022-11-29T02:00:00+00:00\",\"2022-11-29T03:00:00+00:00\",\"2022-11-29T04:00:00+00:00\",\"2022-11-29T05:00:00+00:00\",\"2022-11-29T06:00:00+00:00\",\"2022-11-29T07:00:00+00:00\",\"2022-11-29T08:00:00+00:00\",\"2022-11-29T09:00:00+00:00\",\"2022-11-29T10:00:00+00:00\",\"2022-11-29T11:00:00+00:00\",\"2022-11-29T12:00:00+00:00\",\"2022-11-29T13:00:00+00:00\",\"2022-11-29T14:00:00+00:00\",\"2022-11-29T15:00:00+00:00\"],\"y\":[5,2,1,66,12,71,87,40,28,14,10,11,4,2,3,0,4,1,5,4,8,8,2,5,1,8,8,5,1,17,6,7,7,3,1,1,3,1,2,1,1,0,2,3,3,2,3,1,1,1,4,5,1,6,1,5,8,8,2,3,2,2,7,3,1,0,0,2,1,0,1,1,1,1,2,6,3,1,2,0,2,1,0,2,0,0,0,0,0,0,0,2,0,0,1,0,13,70,48,20,14,18,11,4,9,5,3,90,19,15,5,3,7,3,3,4,14,11,9,8,5,6,4,15,9,5,9,8,7,9,7,2,3,4,3,1,0,4,0,3,6,2,7,7,2,3,14,14,4,77,52,40,9,17,15,19,8,3,5,3,1,4,3,5,14,10,8,21,15,11,47,58,55,42,40,26,28,98,16,13,11,6,3,2,2,2,5,1,7,4,5,1,6,10,6,0,8,5,8,2,6,1,4,2,3,0,2,0,2,0,3,2,6,1,20,49,21,13,15,7,6,7,14,8,8,6,5,5,9,6,1,4,2,6,6,5,4,14,9,15,20,16,2,10,4,50,26,16,24,50,15,21,14,8,3,8,2,2,2,12,4,6,92,39,22,26,437,524,147,153,116,69,30,35,33,14,9,10,5,8,3,3,8,12,14,12,14,9,4,9,6,1,7,4,13,5,2,11,26,30,7,3,3,3,1,3,0,7,4,1,2,4,0,12,28,11,6,7,4,5,5,3,2,2,1,9,3,2,1,0,1,2,0,29,13,14,10,8,7,20,5,19,7,5,6,28,9,5,3,1,1,0,0,1,3,3,10,3,4,6,8,4,12,6,9,9,9,17,30,23,16,480,226,82,62,38,31,44,40,48,44,58,78,50,35,38,23,19,18,13,24,7,17,11,9,6,1,2,2,2,0,1,0,3,1,3,3,8,4,3,1,6,0,8,1,3,5,0,2,0,0,0,1,1,0,0,0,0,4,2,1,1,1,2,2,1,1,1,2,2,1,1,1,0,1,5,1,2,2,0,1,3,1,4,3,2,0,3,6,2,0],\"type\":\"scatter\"},{\"mode\":\"lines\",\"name\":\"HKane\",\"x\":[\"2022-11-10T11:00:00+00:00\",\"2022-11-10T12:00:00+00:00\",\"2022-11-10T13:00:00+00:00\",\"2022-11-10T14:00:00+00:00\",\"2022-11-10T15:00:00+00:00\",\"2022-11-10T16:00:00+00:00\",\"2022-11-10T17:00:00+00:00\",\"2022-11-10T18:00:00+00:00\",\"2022-11-10T19:00:00+00:00\",\"2022-11-10T20:00:00+00:00\",\"2022-11-10T21:00:00+00:00\",\"2022-11-10T22:00:00+00:00\",\"2022-11-10T23:00:00+00:00\",\"2022-11-11T00:00:00+00:00\",\"2022-11-11T01:00:00+00:00\",\"2022-11-11T02:00:00+00:00\",\"2022-11-11T03:00:00+00:00\",\"2022-11-11T04:00:00+00:00\",\"2022-11-11T05:00:00+00:00\",\"2022-11-11T06:00:00+00:00\",\"2022-11-11T07:00:00+00:00\",\"2022-11-11T08:00:00+00:00\",\"2022-11-11T09:00:00+00:00\",\"2022-11-11T10:00:00+00:00\",\"2022-11-11T11:00:00+00:00\",\"2022-11-11T12:00:00+00:00\",\"2022-11-11T13:00:00+00:00\",\"2022-11-11T14:00:00+00:00\",\"2022-11-11T15:00:00+00:00\",\"2022-11-11T16:00:00+00:00\",\"2022-11-11T17:00:00+00:00\",\"2022-11-11T18:00:00+00:00\",\"2022-11-11T19:00:00+00:00\",\"2022-11-11T20:00:00+00:00\",\"2022-11-11T21:00:00+00:00\",\"2022-11-11T22:00:00+00:00\",\"2022-11-11T23:00:00+00:00\",\"2022-11-12T00:00:00+00:00\",\"2022-11-12T01:00:00+00:00\",\"2022-11-12T02:00:00+00:00\",\"2022-11-12T03:00:00+00:00\",\"2022-11-12T04:00:00+00:00\",\"2022-11-12T05:00:00+00:00\",\"2022-11-12T06:00:00+00:00\",\"2022-11-12T07:00:00+00:00\",\"2022-11-12T08:00:00+00:00\",\"2022-11-12T09:00:00+00:00\",\"2022-11-12T10:00:00+00:00\",\"2022-11-12T11:00:00+00:00\",\"2022-11-12T12:00:00+00:00\",\"2022-11-12T13:00:00+00:00\",\"2022-11-12T14:00:00+00:00\",\"2022-11-12T15:00:00+00:00\",\"2022-11-12T16:00:00+00:00\",\"2022-11-12T17:00:00+00:00\",\"2022-11-12T18:00:00+00:00\",\"2022-11-12T19:00:00+00:00\",\"2022-11-12T20:00:00+00:00\",\"2022-11-12T21:00:00+00:00\",\"2022-11-12T22:00:00+00:00\",\"2022-11-12T23:00:00+00:00\",\"2022-11-13T00:00:00+00:00\",\"2022-11-13T01:00:00+00:00\",\"2022-11-13T02:00:00+00:00\",\"2022-11-13T03:00:00+00:00\",\"2022-11-13T04:00:00+00:00\",\"2022-11-13T05:00:00+00:00\",\"2022-11-13T06:00:00+00:00\",\"2022-11-13T07:00:00+00:00\",\"2022-11-13T08:00:00+00:00\",\"2022-11-13T09:00:00+00:00\",\"2022-11-13T10:00:00+00:00\",\"2022-11-13T11:00:00+00:00\",\"2022-11-13T12:00:00+00:00\",\"2022-11-13T13:00:00+00:00\",\"2022-11-13T14:00:00+00:00\",\"2022-11-13T15:00:00+00:00\",\"2022-11-13T16:00:00+00:00\",\"2022-11-13T17:00:00+00:00\",\"2022-11-13T18:00:00+00:00\",\"2022-11-13T19:00:00+00:00\",\"2022-11-13T20:00:00+00:00\",\"2022-11-13T21:00:00+00:00\",\"2022-11-13T22:00:00+00:00\",\"2022-11-13T23:00:00+00:00\",\"2022-11-14T00:00:00+00:00\",\"2022-11-14T01:00:00+00:00\",\"2022-11-14T02:00:00+00:00\",\"2022-11-14T03:00:00+00:00\",\"2022-11-14T04:00:00+00:00\",\"2022-11-14T05:00:00+00:00\",\"2022-11-14T06:00:00+00:00\",\"2022-11-14T07:00:00+00:00\",\"2022-11-14T08:00:00+00:00\",\"2022-11-14T09:00:00+00:00\",\"2022-11-14T10:00:00+00:00\",\"2022-11-14T11:00:00+00:00\",\"2022-11-14T12:00:00+00:00\",\"2022-11-14T13:00:00+00:00\",\"2022-11-14T14:00:00+00:00\",\"2022-11-14T15:00:00+00:00\",\"2022-11-14T16:00:00+00:00\",\"2022-11-14T17:00:00+00:00\",\"2022-11-14T18:00:00+00:00\",\"2022-11-14T19:00:00+00:00\",\"2022-11-14T20:00:00+00:00\",\"2022-11-14T21:00:00+00:00\",\"2022-11-14T22:00:00+00:00\",\"2022-11-14T23:00:00+00:00\",\"2022-11-15T00:00:00+00:00\",\"2022-11-15T01:00:00+00:00\",\"2022-11-15T02:00:00+00:00\",\"2022-11-15T03:00:00+00:00\",\"2022-11-15T04:00:00+00:00\",\"2022-11-15T05:00:00+00:00\",\"2022-11-15T06:00:00+00:00\",\"2022-11-15T07:00:00+00:00\",\"2022-11-15T08:00:00+00:00\",\"2022-11-15T09:00:00+00:00\",\"2022-11-15T10:00:00+00:00\",\"2022-11-15T11:00:00+00:00\",\"2022-11-15T12:00:00+00:00\",\"2022-11-15T13:00:00+00:00\",\"2022-11-15T14:00:00+00:00\",\"2022-11-15T15:00:00+00:00\",\"2022-11-15T16:00:00+00:00\",\"2022-11-15T17:00:00+00:00\",\"2022-11-15T18:00:00+00:00\",\"2022-11-15T19:00:00+00:00\",\"2022-11-15T20:00:00+00:00\",\"2022-11-15T21:00:00+00:00\",\"2022-11-15T22:00:00+00:00\",\"2022-11-15T23:00:00+00:00\",\"2022-11-16T00:00:00+00:00\",\"2022-11-16T01:00:00+00:00\",\"2022-11-16T02:00:00+00:00\",\"2022-11-16T03:00:00+00:00\",\"2022-11-16T04:00:00+00:00\",\"2022-11-16T05:00:00+00:00\",\"2022-11-16T06:00:00+00:00\",\"2022-11-16T07:00:00+00:00\",\"2022-11-16T08:00:00+00:00\",\"2022-11-16T09:00:00+00:00\",\"2022-11-16T10:00:00+00:00\",\"2022-11-16T11:00:00+00:00\",\"2022-11-16T12:00:00+00:00\",\"2022-11-16T13:00:00+00:00\",\"2022-11-16T14:00:00+00:00\",\"2022-11-16T15:00:00+00:00\",\"2022-11-16T16:00:00+00:00\",\"2022-11-16T17:00:00+00:00\",\"2022-11-16T18:00:00+00:00\",\"2022-11-16T19:00:00+00:00\",\"2022-11-16T20:00:00+00:00\",\"2022-11-16T21:00:00+00:00\",\"2022-11-16T22:00:00+00:00\",\"2022-11-16T23:00:00+00:00\",\"2022-11-17T00:00:00+00:00\",\"2022-11-17T01:00:00+00:00\",\"2022-11-17T02:00:00+00:00\",\"2022-11-17T03:00:00+00:00\",\"2022-11-17T04:00:00+00:00\",\"2022-11-17T05:00:00+00:00\",\"2022-11-17T06:00:00+00:00\",\"2022-11-17T07:00:00+00:00\",\"2022-11-17T08:00:00+00:00\",\"2022-11-17T09:00:00+00:00\",\"2022-11-17T10:00:00+00:00\",\"2022-11-17T11:00:00+00:00\",\"2022-11-17T12:00:00+00:00\",\"2022-11-17T13:00:00+00:00\",\"2022-11-17T14:00:00+00:00\",\"2022-11-17T15:00:00+00:00\",\"2022-11-17T16:00:00+00:00\",\"2022-11-17T17:00:00+00:00\",\"2022-11-17T18:00:00+00:00\",\"2022-11-17T19:00:00+00:00\",\"2022-11-17T20:00:00+00:00\",\"2022-11-17T21:00:00+00:00\",\"2022-11-17T22:00:00+00:00\",\"2022-11-17T23:00:00+00:00\",\"2022-11-18T00:00:00+00:00\",\"2022-11-18T01:00:00+00:00\",\"2022-11-18T02:00:00+00:00\",\"2022-11-18T03:00:00+00:00\",\"2022-11-18T04:00:00+00:00\",\"2022-11-18T05:00:00+00:00\",\"2022-11-18T06:00:00+00:00\",\"2022-11-18T07:00:00+00:00\",\"2022-11-18T08:00:00+00:00\",\"2022-11-18T09:00:00+00:00\",\"2022-11-18T10:00:00+00:00\",\"2022-11-18T11:00:00+00:00\",\"2022-11-18T12:00:00+00:00\",\"2022-11-18T13:00:00+00:00\",\"2022-11-18T14:00:00+00:00\",\"2022-11-18T15:00:00+00:00\",\"2022-11-18T16:00:00+00:00\",\"2022-11-18T17:00:00+00:00\",\"2022-11-18T18:00:00+00:00\",\"2022-11-18T19:00:00+00:00\",\"2022-11-18T20:00:00+00:00\",\"2022-11-18T21:00:00+00:00\",\"2022-11-18T22:00:00+00:00\",\"2022-11-18T23:00:00+00:00\",\"2022-11-19T00:00:00+00:00\",\"2022-11-19T01:00:00+00:00\",\"2022-11-19T02:00:00+00:00\",\"2022-11-19T03:00:00+00:00\",\"2022-11-19T04:00:00+00:00\",\"2022-11-19T05:00:00+00:00\",\"2022-11-19T06:00:00+00:00\",\"2022-11-19T07:00:00+00:00\",\"2022-11-19T08:00:00+00:00\",\"2022-11-19T09:00:00+00:00\",\"2022-11-19T10:00:00+00:00\",\"2022-11-19T11:00:00+00:00\",\"2022-11-19T12:00:00+00:00\",\"2022-11-19T13:00:00+00:00\",\"2022-11-19T14:00:00+00:00\",\"2022-11-19T15:00:00+00:00\",\"2022-11-19T16:00:00+00:00\",\"2022-11-19T17:00:00+00:00\",\"2022-11-19T18:00:00+00:00\",\"2022-11-19T19:00:00+00:00\",\"2022-11-19T20:00:00+00:00\",\"2022-11-19T21:00:00+00:00\",\"2022-11-19T22:00:00+00:00\",\"2022-11-19T23:00:00+00:00\",\"2022-11-20T00:00:00+00:00\",\"2022-11-20T01:00:00+00:00\",\"2022-11-20T02:00:00+00:00\",\"2022-11-20T03:00:00+00:00\",\"2022-11-20T04:00:00+00:00\",\"2022-11-20T05:00:00+00:00\",\"2022-11-20T06:00:00+00:00\",\"2022-11-20T07:00:00+00:00\",\"2022-11-20T08:00:00+00:00\",\"2022-11-20T09:00:00+00:00\",\"2022-11-20T10:00:00+00:00\",\"2022-11-20T11:00:00+00:00\",\"2022-11-20T12:00:00+00:00\",\"2022-11-20T13:00:00+00:00\",\"2022-11-20T14:00:00+00:00\",\"2022-11-20T15:00:00+00:00\",\"2022-11-20T16:00:00+00:00\",\"2022-11-20T17:00:00+00:00\",\"2022-11-20T18:00:00+00:00\",\"2022-11-20T19:00:00+00:00\",\"2022-11-20T20:00:00+00:00\",\"2022-11-20T21:00:00+00:00\",\"2022-11-20T22:00:00+00:00\",\"2022-11-20T23:00:00+00:00\",\"2022-11-21T00:00:00+00:00\",\"2022-11-21T01:00:00+00:00\",\"2022-11-21T02:00:00+00:00\",\"2022-11-21T03:00:00+00:00\",\"2022-11-21T04:00:00+00:00\",\"2022-11-21T05:00:00+00:00\",\"2022-11-21T06:00:00+00:00\",\"2022-11-21T07:00:00+00:00\",\"2022-11-21T08:00:00+00:00\",\"2022-11-21T09:00:00+00:00\",\"2022-11-21T10:00:00+00:00\",\"2022-11-21T11:00:00+00:00\",\"2022-11-21T12:00:00+00:00\",\"2022-11-21T13:00:00+00:00\",\"2022-11-21T14:00:00+00:00\",\"2022-11-21T15:00:00+00:00\",\"2022-11-21T16:00:00+00:00\",\"2022-11-21T17:00:00+00:00\",\"2022-11-21T18:00:00+00:00\",\"2022-11-21T19:00:00+00:00\",\"2022-11-21T20:00:00+00:00\",\"2022-11-21T21:00:00+00:00\",\"2022-11-21T22:00:00+00:00\",\"2022-11-21T23:00:00+00:00\",\"2022-11-22T00:00:00+00:00\",\"2022-11-22T01:00:00+00:00\",\"2022-11-22T02:00:00+00:00\",\"2022-11-22T03:00:00+00:00\",\"2022-11-22T04:00:00+00:00\",\"2022-11-22T05:00:00+00:00\",\"2022-11-22T06:00:00+00:00\",\"2022-11-22T07:00:00+00:00\",\"2022-11-22T08:00:00+00:00\",\"2022-11-22T09:00:00+00:00\",\"2022-11-22T10:00:00+00:00\",\"2022-11-22T11:00:00+00:00\",\"2022-11-22T12:00:00+00:00\",\"2022-11-22T13:00:00+00:00\",\"2022-11-22T14:00:00+00:00\",\"2022-11-22T15:00:00+00:00\",\"2022-11-22T16:00:00+00:00\",\"2022-11-22T17:00:00+00:00\",\"2022-11-22T18:00:00+00:00\",\"2022-11-22T19:00:00+00:00\",\"2022-11-22T20:00:00+00:00\",\"2022-11-22T21:00:00+00:00\",\"2022-11-22T22:00:00+00:00\",\"2022-11-22T23:00:00+00:00\",\"2022-11-23T00:00:00+00:00\",\"2022-11-23T01:00:00+00:00\",\"2022-11-23T02:00:00+00:00\",\"2022-11-23T03:00:00+00:00\",\"2022-11-23T04:00:00+00:00\",\"2022-11-23T05:00:00+00:00\",\"2022-11-23T06:00:00+00:00\",\"2022-11-23T07:00:00+00:00\",\"2022-11-23T08:00:00+00:00\",\"2022-11-23T09:00:00+00:00\",\"2022-11-23T10:00:00+00:00\",\"2022-11-23T11:00:00+00:00\",\"2022-11-23T12:00:00+00:00\",\"2022-11-23T13:00:00+00:00\",\"2022-11-23T14:00:00+00:00\",\"2022-11-23T15:00:00+00:00\",\"2022-11-23T16:00:00+00:00\",\"2022-11-23T17:00:00+00:00\",\"2022-11-23T18:00:00+00:00\",\"2022-11-23T19:00:00+00:00\",\"2022-11-23T20:00:00+00:00\",\"2022-11-23T21:00:00+00:00\",\"2022-11-23T22:00:00+00:00\",\"2022-11-23T23:00:00+00:00\",\"2022-11-24T00:00:00+00:00\",\"2022-11-24T01:00:00+00:00\",\"2022-11-24T02:00:00+00:00\",\"2022-11-24T03:00:00+00:00\",\"2022-11-24T04:00:00+00:00\",\"2022-11-24T05:00:00+00:00\",\"2022-11-24T06:00:00+00:00\",\"2022-11-24T07:00:00+00:00\",\"2022-11-24T08:00:00+00:00\",\"2022-11-24T09:00:00+00:00\",\"2022-11-24T10:00:00+00:00\",\"2022-11-24T11:00:00+00:00\",\"2022-11-24T12:00:00+00:00\",\"2022-11-24T13:00:00+00:00\",\"2022-11-24T14:00:00+00:00\",\"2022-11-24T15:00:00+00:00\",\"2022-11-24T16:00:00+00:00\",\"2022-11-24T17:00:00+00:00\",\"2022-11-24T18:00:00+00:00\",\"2022-11-24T19:00:00+00:00\",\"2022-11-24T20:00:00+00:00\",\"2022-11-24T21:00:00+00:00\",\"2022-11-24T22:00:00+00:00\",\"2022-11-24T23:00:00+00:00\",\"2022-11-25T00:00:00+00:00\",\"2022-11-25T01:00:00+00:00\",\"2022-11-25T02:00:00+00:00\",\"2022-11-25T03:00:00+00:00\",\"2022-11-25T04:00:00+00:00\",\"2022-11-25T05:00:00+00:00\",\"2022-11-25T06:00:00+00:00\",\"2022-11-25T07:00:00+00:00\",\"2022-11-25T08:00:00+00:00\",\"2022-11-25T09:00:00+00:00\",\"2022-11-25T10:00:00+00:00\",\"2022-11-25T11:00:00+00:00\",\"2022-11-25T12:00:00+00:00\",\"2022-11-25T13:00:00+00:00\",\"2022-11-25T14:00:00+00:00\",\"2022-11-25T15:00:00+00:00\",\"2022-11-25T16:00:00+00:00\",\"2022-11-25T17:00:00+00:00\",\"2022-11-25T18:00:00+00:00\",\"2022-11-25T19:00:00+00:00\",\"2022-11-25T20:00:00+00:00\",\"2022-11-25T21:00:00+00:00\",\"2022-11-25T22:00:00+00:00\",\"2022-11-25T23:00:00+00:00\",\"2022-11-26T00:00:00+00:00\",\"2022-11-26T01:00:00+00:00\",\"2022-11-26T02:00:00+00:00\",\"2022-11-26T03:00:00+00:00\",\"2022-11-26T04:00:00+00:00\",\"2022-11-26T05:00:00+00:00\",\"2022-11-26T06:00:00+00:00\",\"2022-11-26T07:00:00+00:00\",\"2022-11-26T08:00:00+00:00\",\"2022-11-26T09:00:00+00:00\",\"2022-11-26T10:00:00+00:00\",\"2022-11-26T11:00:00+00:00\",\"2022-11-26T12:00:00+00:00\",\"2022-11-26T13:00:00+00:00\",\"2022-11-26T14:00:00+00:00\",\"2022-11-26T15:00:00+00:00\",\"2022-11-26T16:00:00+00:00\",\"2022-11-26T17:00:00+00:00\",\"2022-11-26T18:00:00+00:00\",\"2022-11-26T19:00:00+00:00\",\"2022-11-26T20:00:00+00:00\",\"2022-11-26T21:00:00+00:00\",\"2022-11-26T22:00:00+00:00\",\"2022-11-26T23:00:00+00:00\",\"2022-11-27T00:00:00+00:00\",\"2022-11-27T01:00:00+00:00\",\"2022-11-27T02:00:00+00:00\",\"2022-11-27T03:00:00+00:00\",\"2022-11-27T04:00:00+00:00\",\"2022-11-27T05:00:00+00:00\",\"2022-11-27T06:00:00+00:00\",\"2022-11-27T07:00:00+00:00\",\"2022-11-27T08:00:00+00:00\",\"2022-11-27T09:00:00+00:00\",\"2022-11-27T10:00:00+00:00\",\"2022-11-27T11:00:00+00:00\",\"2022-11-27T12:00:00+00:00\",\"2022-11-27T13:00:00+00:00\",\"2022-11-27T14:00:00+00:00\",\"2022-11-27T15:00:00+00:00\",\"2022-11-27T16:00:00+00:00\",\"2022-11-27T17:00:00+00:00\",\"2022-11-27T18:00:00+00:00\",\"2022-11-27T19:00:00+00:00\",\"2022-11-27T20:00:00+00:00\",\"2022-11-27T21:00:00+00:00\",\"2022-11-27T22:00:00+00:00\",\"2022-11-27T23:00:00+00:00\",\"2022-11-28T00:00:00+00:00\",\"2022-11-28T01:00:00+00:00\",\"2022-11-28T02:00:00+00:00\",\"2022-11-28T03:00:00+00:00\",\"2022-11-28T04:00:00+00:00\",\"2022-11-28T05:00:00+00:00\",\"2022-11-28T06:00:00+00:00\",\"2022-11-28T07:00:00+00:00\",\"2022-11-28T08:00:00+00:00\",\"2022-11-28T09:00:00+00:00\",\"2022-11-28T10:00:00+00:00\",\"2022-11-28T11:00:00+00:00\",\"2022-11-28T12:00:00+00:00\",\"2022-11-28T13:00:00+00:00\",\"2022-11-28T14:00:00+00:00\",\"2022-11-28T15:00:00+00:00\",\"2022-11-28T16:00:00+00:00\",\"2022-11-28T17:00:00+00:00\",\"2022-11-28T18:00:00+00:00\",\"2022-11-28T19:00:00+00:00\",\"2022-11-28T20:00:00+00:00\",\"2022-11-28T21:00:00+00:00\",\"2022-11-28T22:00:00+00:00\",\"2022-11-28T23:00:00+00:00\",\"2022-11-29T00:00:00+00:00\",\"2022-11-29T01:00:00+00:00\",\"2022-11-29T02:00:00+00:00\",\"2022-11-29T03:00:00+00:00\",\"2022-11-29T04:00:00+00:00\",\"2022-11-29T05:00:00+00:00\",\"2022-11-29T06:00:00+00:00\",\"2022-11-29T07:00:00+00:00\",\"2022-11-29T08:00:00+00:00\",\"2022-11-29T09:00:00+00:00\",\"2022-11-29T10:00:00+00:00\",\"2022-11-29T11:00:00+00:00\",\"2022-11-29T12:00:00+00:00\",\"2022-11-29T13:00:00+00:00\",\"2022-11-29T14:00:00+00:00\",\"2022-11-29T15:00:00+00:00\"],\"y\":[2,7,17,107,81,59,56,86,45,27,26,24,8,3,5,3,7,5,5,10,14,9,28,9,13,14,3,9,5,9,7,4,2,6,5,1,3,1,1,3,0,2,0,1,7,5,2,26,5,13,8,16,34,17,25,19,8,89,36,24,25,7,6,4,7,12,10,8,13,9,25,9,32,82,32,23,29,14,14,19,7,12,13,7,4,2,3,2,1,3,3,5,15,7,10,7,16,70,53,26,19,19,11,14,12,10,11,10,9,2,3,1,6,8,8,3,5,16,46,26,38,24,23,40,27,19,20,13,44,29,140,77,30,18,9,9,9,5,11,15,12,20,17,15,20,10,21,15,6,6,30,24,10,8,21,6,16,2,1,4,1,8,1,1,4,9,11,9,64,15,15,14,13,53,39,32,34,20,24,14,17,6,1,7,7,7,4,12,14,68,43,58,47,46,27,43,56,40,35,24,60,16,29,34,19,5,9,8,5,10,15,23,14,46,87,92,45,64,56,28,24,25,23,26,32,20,30,36,25,16,10,8,2,4,11,9,17,28,15,37,30,44,50,44,28,50,77,114,107,128,76,132,102,52,22,24,11,10,59,63,106,175,313,611,655,546,510,549,233,652,400,557,357,206,190,211,108,55,41,38,25,36,34,50,86,76,67,67,52,52,52,32,21,27,31,21,27,18,35,20,8,6,8,3,5,6,5,10,26,11,10,12,19,24,43,39,26,16,61,71,22,36,28,17,6,24,5,2,7,8,13,9,19,10,14,27,38,29,13,16,21,15,20,45,61,51,30,20,19,11,4,4,2,4,7,6,15,40,44,29,27,47,37,31,32,34,29,238,95,239,167,885,548,261,173,91,107,101,85,101,111,135,169,113,117,85,68,44,41,36,51,32,32,21,19,18,13,11,3,7,3,15,4,5,3,7,6,10,7,16,8,13,10,10,13,6,11,10,4,18,9,0,11,5,1,2,3,10,8,11,10,9,14,44,35,10,18,23,10,13,16,16,11,4,5,6,7,3,2,5,2,2,4,17,9,9,3,10,17,10,0],\"type\":\"scatter\"}],                        {\"template\":{\"data\":{\"bar\":[{\"error_x\":{\"color\":\"#2a3f5f\"},\"error_y\":{\"color\":\"#2a3f5f\"},\"marker\":{\"line\":{\"color\":\"#E5ECF6\",\"width\":0.5},\"pattern\":{\"fillmode\":\"overlay\",\"size\":10,\"solidity\":0.2}},\"type\":\"bar\"}],\"barpolar\":[{\"marker\":{\"line\":{\"color\":\"#E5ECF6\",\"width\":0.5},\"pattern\":{\"fillmode\":\"overlay\",\"size\":10,\"solidity\":0.2}},\"type\":\"barpolar\"}],\"carpet\":[{\"aaxis\":{\"endlinecolor\":\"#2a3f5f\",\"gridcolor\":\"white\",\"linecolor\":\"white\",\"minorgridcolor\":\"white\",\"startlinecolor\":\"#2a3f5f\"},\"baxis\":{\"endlinecolor\":\"#2a3f5f\",\"gridcolor\":\"white\",\"linecolor\":\"white\",\"minorgridcolor\":\"white\",\"startlinecolor\":\"#2a3f5f\"},\"type\":\"carpet\"}],\"choropleth\":[{\"colorbar\":{\"outlinewidth\":0,\"ticks\":\"\"},\"type\":\"choropleth\"}],\"contour\":[{\"colorbar\":{\"outlinewidth\":0,\"ticks\":\"\"},\"colorscale\":[[0.0,\"#0d0887\"],[0.1111111111111111,\"#46039f\"],[0.2222222222222222,\"#7201a8\"],[0.3333333333333333,\"#9c179e\"],[0.4444444444444444,\"#bd3786\"],[0.5555555555555556,\"#d8576b\"],[0.6666666666666666,\"#ed7953\"],[0.7777777777777778,\"#fb9f3a\"],[0.8888888888888888,\"#fdca26\"],[1.0,\"#f0f921\"]],\"type\":\"contour\"}],\"contourcarpet\":[{\"colorbar\":{\"outlinewidth\":0,\"ticks\":\"\"},\"type\":\"contourcarpet\"}],\"heatmap\":[{\"colorbar\":{\"outlinewidth\":0,\"ticks\":\"\"},\"colorscale\":[[0.0,\"#0d0887\"],[0.1111111111111111,\"#46039f\"],[0.2222222222222222,\"#7201a8\"],[0.3333333333333333,\"#9c179e\"],[0.4444444444444444,\"#bd3786\"],[0.5555555555555556,\"#d8576b\"],[0.6666666666666666,\"#ed7953\"],[0.7777777777777778,\"#fb9f3a\"],[0.8888888888888888,\"#fdca26\"],[1.0,\"#f0f921\"]],\"type\":\"heatmap\"}],\"heatmapgl\":[{\"colorbar\":{\"outlinewidth\":0,\"ticks\":\"\"},\"colorscale\":[[0.0,\"#0d0887\"],[0.1111111111111111,\"#46039f\"],[0.2222222222222222,\"#7201a8\"],[0.3333333333333333,\"#9c179e\"],[0.4444444444444444,\"#bd3786\"],[0.5555555555555556,\"#d8576b\"],[0.6666666666666666,\"#ed7953\"],[0.7777777777777778,\"#fb9f3a\"],[0.8888888888888888,\"#fdca26\"],[1.0,\"#f0f921\"]],\"type\":\"heatmapgl\"}],\"histogram\":[{\"marker\":{\"pattern\":{\"fillmode\":\"overlay\",\"size\":10,\"solidity\":0.2}},\"type\":\"histogram\"}],\"histogram2d\":[{\"colorbar\":{\"outlinewidth\":0,\"ticks\":\"\"},\"colorscale\":[[0.0,\"#0d0887\"],[0.1111111111111111,\"#46039f\"],[0.2222222222222222,\"#7201a8\"],[0.3333333333333333,\"#9c179e\"],[0.4444444444444444,\"#bd3786\"],[0.5555555555555556,\"#d8576b\"],[0.6666666666666666,\"#ed7953\"],[0.7777777777777778,\"#fb9f3a\"],[0.8888888888888888,\"#fdca26\"],[1.0,\"#f0f921\"]],\"type\":\"histogram2d\"}],\"histogram2dcontour\":[{\"colorbar\":{\"outlinewidth\":0,\"ticks\":\"\"},\"colorscale\":[[0.0,\"#0d0887\"],[0.1111111111111111,\"#46039f\"],[0.2222222222222222,\"#7201a8\"],[0.3333333333333333,\"#9c179e\"],[0.4444444444444444,\"#bd3786\"],[0.5555555555555556,\"#d8576b\"],[0.6666666666666666,\"#ed7953\"],[0.7777777777777778,\"#fb9f3a\"],[0.8888888888888888,\"#fdca26\"],[1.0,\"#f0f921\"]],\"type\":\"histogram2dcontour\"}],\"mesh3d\":[{\"colorbar\":{\"outlinewidth\":0,\"ticks\":\"\"},\"type\":\"mesh3d\"}],\"parcoords\":[{\"line\":{\"colorbar\":{\"outlinewidth\":0,\"ticks\":\"\"}},\"type\":\"parcoords\"}],\"pie\":[{\"automargin\":true,\"type\":\"pie\"}],\"scatter\":[{\"marker\":{\"colorbar\":{\"outlinewidth\":0,\"ticks\":\"\"}},\"type\":\"scatter\"}],\"scatter3d\":[{\"line\":{\"colorbar\":{\"outlinewidth\":0,\"ticks\":\"\"}},\"marker\":{\"colorbar\":{\"outlinewidth\":0,\"ticks\":\"\"}},\"type\":\"scatter3d\"}],\"scattercarpet\":[{\"marker\":{\"colorbar\":{\"outlinewidth\":0,\"ticks\":\"\"}},\"type\":\"scattercarpet\"}],\"scattergeo\":[{\"marker\":{\"colorbar\":{\"outlinewidth\":0,\"ticks\":\"\"}},\"type\":\"scattergeo\"}],\"scattergl\":[{\"marker\":{\"colorbar\":{\"outlinewidth\":0,\"ticks\":\"\"}},\"type\":\"scattergl\"}],\"scattermapbox\":[{\"marker\":{\"colorbar\":{\"outlinewidth\":0,\"ticks\":\"\"}},\"type\":\"scattermapbox\"}],\"scatterpolar\":[{\"marker\":{\"colorbar\":{\"outlinewidth\":0,\"ticks\":\"\"}},\"type\":\"scatterpolar\"}],\"scatterpolargl\":[{\"marker\":{\"colorbar\":{\"outlinewidth\":0,\"ticks\":\"\"}},\"type\":\"scatterpolargl\"}],\"scatterternary\":[{\"marker\":{\"colorbar\":{\"outlinewidth\":0,\"ticks\":\"\"}},\"type\":\"scatterternary\"}],\"surface\":[{\"colorbar\":{\"outlinewidth\":0,\"ticks\":\"\"},\"colorscale\":[[0.0,\"#0d0887\"],[0.1111111111111111,\"#46039f\"],[0.2222222222222222,\"#7201a8\"],[0.3333333333333333,\"#9c179e\"],[0.4444444444444444,\"#bd3786\"],[0.5555555555555556,\"#d8576b\"],[0.6666666666666666,\"#ed7953\"],[0.7777777777777778,\"#fb9f3a\"],[0.8888888888888888,\"#fdca26\"],[1.0,\"#f0f921\"]],\"type\":\"surface\"}],\"table\":[{\"cells\":{\"fill\":{\"color\":\"#EBF0F8\"},\"line\":{\"color\":\"white\"}},\"header\":{\"fill\":{\"color\":\"#C8D4E3\"},\"line\":{\"color\":\"white\"}},\"type\":\"table\"}]},\"layout\":{\"annotationdefaults\":{\"arrowcolor\":\"#2a3f5f\",\"arrowhead\":0,\"arrowwidth\":1},\"autotypenumbers\":\"strict\",\"coloraxis\":{\"colorbar\":{\"outlinewidth\":0,\"ticks\":\"\"}},\"colorscale\":{\"diverging\":[[0,\"#8e0152\"],[0.1,\"#c51b7d\"],[0.2,\"#de77ae\"],[0.3,\"#f1b6da\"],[0.4,\"#fde0ef\"],[0.5,\"#f7f7f7\"],[0.6,\"#e6f5d0\"],[0.7,\"#b8e186\"],[0.8,\"#7fbc41\"],[0.9,\"#4d9221\"],[1,\"#276419\"]],\"sequential\":[[0.0,\"#0d0887\"],[0.1111111111111111,\"#46039f\"],[0.2222222222222222,\"#7201a8\"],[0.3333333333333333,\"#9c179e\"],[0.4444444444444444,\"#bd3786\"],[0.5555555555555556,\"#d8576b\"],[0.6666666666666666,\"#ed7953\"],[0.7777777777777778,\"#fb9f3a\"],[0.8888888888888888,\"#fdca26\"],[1.0,\"#f0f921\"]],\"sequentialminus\":[[0.0,\"#0d0887\"],[0.1111111111111111,\"#46039f\"],[0.2222222222222222,\"#7201a8\"],[0.3333333333333333,\"#9c179e\"],[0.4444444444444444,\"#bd3786\"],[0.5555555555555556,\"#d8576b\"],[0.6666666666666666,\"#ed7953\"],[0.7777777777777778,\"#fb9f3a\"],[0.8888888888888888,\"#fdca26\"],[1.0,\"#f0f921\"]]},\"colorway\":[\"#636efa\",\"#EF553B\",\"#00cc96\",\"#ab63fa\",\"#FFA15A\",\"#19d3f3\",\"#FF6692\",\"#B6E880\",\"#FF97FF\",\"#FECB52\"],\"font\":{\"color\":\"#2a3f5f\"},\"geo\":{\"bgcolor\":\"white\",\"lakecolor\":\"white\",\"landcolor\":\"#E5ECF6\",\"showlakes\":true,\"showland\":true,\"subunitcolor\":\"white\"},\"hoverlabel\":{\"align\":\"left\"},\"hovermode\":\"closest\",\"mapbox\":{\"style\":\"light\"},\"paper_bgcolor\":\"white\",\"plot_bgcolor\":\"#E5ECF6\",\"polar\":{\"angularaxis\":{\"gridcolor\":\"white\",\"linecolor\":\"white\",\"ticks\":\"\"},\"bgcolor\":\"#E5ECF6\",\"radialaxis\":{\"gridcolor\":\"white\",\"linecolor\":\"white\",\"ticks\":\"\"}},\"scene\":{\"xaxis\":{\"backgroundcolor\":\"#E5ECF6\",\"gridcolor\":\"white\",\"gridwidth\":2,\"linecolor\":\"white\",\"showbackground\":true,\"ticks\":\"\",\"zerolinecolor\":\"white\"},\"yaxis\":{\"backgroundcolor\":\"#E5ECF6\",\"gridcolor\":\"white\",\"gridwidth\":2,\"linecolor\":\"white\",\"showbackground\":true,\"ticks\":\"\",\"zerolinecolor\":\"white\"},\"zaxis\":{\"backgroundcolor\":\"#E5ECF6\",\"gridcolor\":\"white\",\"gridwidth\":2,\"linecolor\":\"white\",\"showbackground\":true,\"ticks\":\"\",\"zerolinecolor\":\"white\"}},\"shapedefaults\":{\"line\":{\"color\":\"#2a3f5f\"}},\"ternary\":{\"aaxis\":{\"gridcolor\":\"white\",\"linecolor\":\"white\",\"ticks\":\"\"},\"baxis\":{\"gridcolor\":\"white\",\"linecolor\":\"white\",\"ticks\":\"\"},\"bgcolor\":\"#E5ECF6\",\"caxis\":{\"gridcolor\":\"white\",\"linecolor\":\"white\",\"ticks\":\"\"}},\"title\":{\"x\":0.05},\"xaxis\":{\"automargin\":true,\"gridcolor\":\"white\",\"linecolor\":\"white\",\"ticks\":\"\",\"title\":{\"standoff\":15},\"zerolinecolor\":\"white\",\"zerolinewidth\":2},\"yaxis\":{\"automargin\":true,\"gridcolor\":\"white\",\"linecolor\":\"white\",\"ticks\":\"\",\"title\":{\"standoff\":15},\"zerolinecolor\":\"white\",\"zerolinewidth\":2}}}},                        {\"responsive\": true}                    ).then(function(){\n",
              "                            \n",
              "var gd = document.getElementById('1503e6b5-f3d9-4b64-b390-51932175fb1f');\n",
              "var x = new MutationObserver(function (mutations, observer) {{\n",
              "        var display = window.getComputedStyle(gd).display;\n",
              "        if (!display || display === 'none') {{\n",
              "            console.log([gd, 'removed!']);\n",
              "            Plotly.purge(gd);\n",
              "            observer.disconnect();\n",
              "        }}\n",
              "}});\n",
              "\n",
              "// Listen for the removal of the full notebook cells\n",
              "var notebookContainer = gd.closest('#notebook-container');\n",
              "if (notebookContainer) {{\n",
              "    x.observe(notebookContainer, {childList: true});\n",
              "}}\n",
              "\n",
              "// Listen for the clearing of the current output cell\n",
              "var outputEl = gd.closest('.output');\n",
              "if (outputEl) {{\n",
              "    x.observe(outputEl, {childList: true});\n",
              "}}\n",
              "\n",
              "                        })                };                            </script>        </div>\n",
              "</body>\n",
              "</html>"
            ]
          },
          "metadata": {}
        }
      ]
    },
    {
      "cell_type": "code",
      "metadata": {
        "colab": {
          "base_uri": "https://localhost:8080/",
          "height": 542
        },
        "id": "64MvFFPWRhu9",
        "outputId": "8378d6aa-dc16-4adc-b3f9-9caee7e482fc"
      },
      "source": [
        "# Plot frequency of offensive tweets\n",
        "df = joined_df.resample(INTERVAL, on='created_at')['persp_over_threshold'].sum().reset_index()\n",
        "fig = create_frequency_plot(df, ['persp_over_threshold'])\n",
        "fig.show()"
      ],
      "execution_count": 31,
      "outputs": [
        {
          "output_type": "display_data",
          "data": {
            "text/html": [
              "<html>\n",
              "<head><meta charset=\"utf-8\" /></head>\n",
              "<body>\n",
              "    <div>            <script src=\"https://cdnjs.cloudflare.com/ajax/libs/mathjax/2.7.5/MathJax.js?config=TeX-AMS-MML_SVG\"></script><script type=\"text/javascript\">if (window.MathJax) {MathJax.Hub.Config({SVG: {font: \"STIX-Web\"}});}</script>                <script type=\"text/javascript\">window.PlotlyConfig = {MathJaxConfig: 'local'};</script>\n",
              "        <script src=\"https://cdn.plot.ly/plotly-2.8.3.min.js\"></script>                <div id=\"3aff4c09-fd28-4ef0-9a65-e93f557774ff\" class=\"plotly-graph-div\" style=\"height:525px; width:100%;\"></div>            <script type=\"text/javascript\">                                    window.PLOTLYENV=window.PLOTLYENV || {};                                    if (document.getElementById(\"3aff4c09-fd28-4ef0-9a65-e93f557774ff\")) {                    Plotly.newPlot(                        \"3aff4c09-fd28-4ef0-9a65-e93f557774ff\",                        [{\"mode\":\"lines\",\"name\":\"persp_over_threshold\",\"x\":[\"2022-11-10T11:00:00+00:00\",\"2022-11-10T12:00:00+00:00\",\"2022-11-10T13:00:00+00:00\",\"2022-11-10T14:00:00+00:00\",\"2022-11-10T15:00:00+00:00\",\"2022-11-10T16:00:00+00:00\",\"2022-11-10T17:00:00+00:00\",\"2022-11-10T18:00:00+00:00\",\"2022-11-10T19:00:00+00:00\",\"2022-11-10T20:00:00+00:00\",\"2022-11-10T21:00:00+00:00\",\"2022-11-10T22:00:00+00:00\",\"2022-11-10T23:00:00+00:00\",\"2022-11-11T00:00:00+00:00\",\"2022-11-11T01:00:00+00:00\",\"2022-11-11T02:00:00+00:00\",\"2022-11-11T03:00:00+00:00\",\"2022-11-11T04:00:00+00:00\",\"2022-11-11T05:00:00+00:00\",\"2022-11-11T06:00:00+00:00\",\"2022-11-11T07:00:00+00:00\",\"2022-11-11T08:00:00+00:00\",\"2022-11-11T09:00:00+00:00\",\"2022-11-11T10:00:00+00:00\",\"2022-11-11T11:00:00+00:00\",\"2022-11-11T12:00:00+00:00\",\"2022-11-11T13:00:00+00:00\",\"2022-11-11T14:00:00+00:00\",\"2022-11-11T15:00:00+00:00\",\"2022-11-11T16:00:00+00:00\",\"2022-11-11T17:00:00+00:00\",\"2022-11-11T18:00:00+00:00\",\"2022-11-11T19:00:00+00:00\",\"2022-11-11T20:00:00+00:00\",\"2022-11-11T21:00:00+00:00\",\"2022-11-11T22:00:00+00:00\",\"2022-11-11T23:00:00+00:00\",\"2022-11-12T00:00:00+00:00\",\"2022-11-12T01:00:00+00:00\",\"2022-11-12T02:00:00+00:00\",\"2022-11-12T03:00:00+00:00\",\"2022-11-12T04:00:00+00:00\",\"2022-11-12T05:00:00+00:00\",\"2022-11-12T06:00:00+00:00\",\"2022-11-12T07:00:00+00:00\",\"2022-11-12T08:00:00+00:00\",\"2022-11-12T09:00:00+00:00\",\"2022-11-12T10:00:00+00:00\",\"2022-11-12T11:00:00+00:00\",\"2022-11-12T12:00:00+00:00\",\"2022-11-12T13:00:00+00:00\",\"2022-11-12T14:00:00+00:00\",\"2022-11-12T15:00:00+00:00\",\"2022-11-12T16:00:00+00:00\",\"2022-11-12T17:00:00+00:00\",\"2022-11-12T18:00:00+00:00\",\"2022-11-12T19:00:00+00:00\",\"2022-11-12T20:00:00+00:00\",\"2022-11-12T21:00:00+00:00\",\"2022-11-12T22:00:00+00:00\",\"2022-11-12T23:00:00+00:00\",\"2022-11-13T00:00:00+00:00\",\"2022-11-13T01:00:00+00:00\",\"2022-11-13T02:00:00+00:00\",\"2022-11-13T03:00:00+00:00\",\"2022-11-13T04:00:00+00:00\",\"2022-11-13T05:00:00+00:00\",\"2022-11-13T06:00:00+00:00\",\"2022-11-13T07:00:00+00:00\",\"2022-11-13T08:00:00+00:00\",\"2022-11-13T09:00:00+00:00\",\"2022-11-13T10:00:00+00:00\",\"2022-11-13T11:00:00+00:00\",\"2022-11-13T12:00:00+00:00\",\"2022-11-13T13:00:00+00:00\",\"2022-11-13T14:00:00+00:00\",\"2022-11-13T15:00:00+00:00\",\"2022-11-13T16:00:00+00:00\",\"2022-11-13T17:00:00+00:00\",\"2022-11-13T18:00:00+00:00\",\"2022-11-13T19:00:00+00:00\",\"2022-11-13T20:00:00+00:00\",\"2022-11-13T21:00:00+00:00\",\"2022-11-13T22:00:00+00:00\",\"2022-11-13T23:00:00+00:00\",\"2022-11-14T00:00:00+00:00\",\"2022-11-14T01:00:00+00:00\",\"2022-11-14T02:00:00+00:00\",\"2022-11-14T03:00:00+00:00\",\"2022-11-14T04:00:00+00:00\",\"2022-11-14T05:00:00+00:00\",\"2022-11-14T06:00:00+00:00\",\"2022-11-14T07:00:00+00:00\",\"2022-11-14T08:00:00+00:00\",\"2022-11-14T09:00:00+00:00\",\"2022-11-14T10:00:00+00:00\",\"2022-11-14T11:00:00+00:00\",\"2022-11-14T12:00:00+00:00\",\"2022-11-14T13:00:00+00:00\",\"2022-11-14T14:00:00+00:00\",\"2022-11-14T15:00:00+00:00\",\"2022-11-14T16:00:00+00:00\",\"2022-11-14T17:00:00+00:00\",\"2022-11-14T18:00:00+00:00\",\"2022-11-14T19:00:00+00:00\",\"2022-11-14T20:00:00+00:00\",\"2022-11-14T21:00:00+00:00\",\"2022-11-14T22:00:00+00:00\",\"2022-11-14T23:00:00+00:00\",\"2022-11-15T00:00:00+00:00\",\"2022-11-15T01:00:00+00:00\",\"2022-11-15T02:00:00+00:00\",\"2022-11-15T03:00:00+00:00\",\"2022-11-15T04:00:00+00:00\",\"2022-11-15T05:00:00+00:00\",\"2022-11-15T06:00:00+00:00\",\"2022-11-15T07:00:00+00:00\",\"2022-11-15T08:00:00+00:00\",\"2022-11-15T09:00:00+00:00\",\"2022-11-15T10:00:00+00:00\",\"2022-11-15T11:00:00+00:00\",\"2022-11-15T12:00:00+00:00\",\"2022-11-15T13:00:00+00:00\",\"2022-11-15T14:00:00+00:00\",\"2022-11-15T15:00:00+00:00\",\"2022-11-15T16:00:00+00:00\",\"2022-11-15T17:00:00+00:00\",\"2022-11-15T18:00:00+00:00\",\"2022-11-15T19:00:00+00:00\",\"2022-11-15T20:00:00+00:00\",\"2022-11-15T21:00:00+00:00\",\"2022-11-15T22:00:00+00:00\",\"2022-11-15T23:00:00+00:00\",\"2022-11-16T00:00:00+00:00\",\"2022-11-16T01:00:00+00:00\",\"2022-11-16T02:00:00+00:00\",\"2022-11-16T03:00:00+00:00\",\"2022-11-16T04:00:00+00:00\",\"2022-11-16T05:00:00+00:00\",\"2022-11-16T06:00:00+00:00\",\"2022-11-16T07:00:00+00:00\",\"2022-11-16T08:00:00+00:00\",\"2022-11-16T09:00:00+00:00\",\"2022-11-16T10:00:00+00:00\",\"2022-11-16T11:00:00+00:00\",\"2022-11-16T12:00:00+00:00\",\"2022-11-16T13:00:00+00:00\",\"2022-11-16T14:00:00+00:00\",\"2022-11-16T15:00:00+00:00\",\"2022-11-16T16:00:00+00:00\",\"2022-11-16T17:00:00+00:00\",\"2022-11-16T18:00:00+00:00\",\"2022-11-16T19:00:00+00:00\",\"2022-11-16T20:00:00+00:00\",\"2022-11-16T21:00:00+00:00\",\"2022-11-16T22:00:00+00:00\",\"2022-11-16T23:00:00+00:00\",\"2022-11-17T00:00:00+00:00\",\"2022-11-17T01:00:00+00:00\",\"2022-11-17T02:00:00+00:00\",\"2022-11-17T03:00:00+00:00\",\"2022-11-17T04:00:00+00:00\",\"2022-11-17T05:00:00+00:00\",\"2022-11-17T06:00:00+00:00\",\"2022-11-17T07:00:00+00:00\",\"2022-11-17T08:00:00+00:00\",\"2022-11-17T09:00:00+00:00\",\"2022-11-17T10:00:00+00:00\",\"2022-11-17T11:00:00+00:00\",\"2022-11-17T12:00:00+00:00\",\"2022-11-17T13:00:00+00:00\",\"2022-11-17T14:00:00+00:00\",\"2022-11-17T15:00:00+00:00\",\"2022-11-17T16:00:00+00:00\",\"2022-11-17T17:00:00+00:00\",\"2022-11-17T18:00:00+00:00\",\"2022-11-17T19:00:00+00:00\",\"2022-11-17T20:00:00+00:00\",\"2022-11-17T21:00:00+00:00\",\"2022-11-17T22:00:00+00:00\",\"2022-11-17T23:00:00+00:00\",\"2022-11-18T00:00:00+00:00\",\"2022-11-18T01:00:00+00:00\",\"2022-11-18T02:00:00+00:00\",\"2022-11-18T03:00:00+00:00\",\"2022-11-18T04:00:00+00:00\",\"2022-11-18T05:00:00+00:00\",\"2022-11-18T06:00:00+00:00\",\"2022-11-18T07:00:00+00:00\",\"2022-11-18T08:00:00+00:00\",\"2022-11-18T09:00:00+00:00\",\"2022-11-18T10:00:00+00:00\",\"2022-11-18T11:00:00+00:00\",\"2022-11-18T12:00:00+00:00\",\"2022-11-18T13:00:00+00:00\",\"2022-11-18T14:00:00+00:00\",\"2022-11-18T15:00:00+00:00\",\"2022-11-18T16:00:00+00:00\",\"2022-11-18T17:00:00+00:00\",\"2022-11-18T18:00:00+00:00\",\"2022-11-18T19:00:00+00:00\",\"2022-11-18T20:00:00+00:00\",\"2022-11-18T21:00:00+00:00\",\"2022-11-18T22:00:00+00:00\",\"2022-11-18T23:00:00+00:00\",\"2022-11-19T00:00:00+00:00\",\"2022-11-19T01:00:00+00:00\",\"2022-11-19T02:00:00+00:00\",\"2022-11-19T03:00:00+00:00\",\"2022-11-19T04:00:00+00:00\",\"2022-11-19T05:00:00+00:00\",\"2022-11-19T06:00:00+00:00\",\"2022-11-19T07:00:00+00:00\",\"2022-11-19T08:00:00+00:00\",\"2022-11-19T09:00:00+00:00\",\"2022-11-19T10:00:00+00:00\",\"2022-11-19T11:00:00+00:00\",\"2022-11-19T12:00:00+00:00\",\"2022-11-19T13:00:00+00:00\",\"2022-11-19T14:00:00+00:00\",\"2022-11-19T15:00:00+00:00\",\"2022-11-19T16:00:00+00:00\",\"2022-11-19T17:00:00+00:00\",\"2022-11-19T18:00:00+00:00\",\"2022-11-19T19:00:00+00:00\",\"2022-11-19T20:00:00+00:00\",\"2022-11-19T21:00:00+00:00\",\"2022-11-19T22:00:00+00:00\",\"2022-11-19T23:00:00+00:00\",\"2022-11-20T00:00:00+00:00\",\"2022-11-20T01:00:00+00:00\",\"2022-11-20T02:00:00+00:00\",\"2022-11-20T03:00:00+00:00\",\"2022-11-20T04:00:00+00:00\",\"2022-11-20T05:00:00+00:00\",\"2022-11-20T06:00:00+00:00\",\"2022-11-20T07:00:00+00:00\",\"2022-11-20T08:00:00+00:00\",\"2022-11-20T09:00:00+00:00\",\"2022-11-20T10:00:00+00:00\",\"2022-11-20T11:00:00+00:00\",\"2022-11-20T12:00:00+00:00\",\"2022-11-20T13:00:00+00:00\",\"2022-11-20T14:00:00+00:00\",\"2022-11-20T15:00:00+00:00\",\"2022-11-20T16:00:00+00:00\",\"2022-11-20T17:00:00+00:00\",\"2022-11-20T18:00:00+00:00\",\"2022-11-20T19:00:00+00:00\",\"2022-11-20T20:00:00+00:00\",\"2022-11-20T21:00:00+00:00\",\"2022-11-20T22:00:00+00:00\",\"2022-11-20T23:00:00+00:00\",\"2022-11-21T00:00:00+00:00\",\"2022-11-21T01:00:00+00:00\",\"2022-11-21T02:00:00+00:00\",\"2022-11-21T03:00:00+00:00\",\"2022-11-21T04:00:00+00:00\",\"2022-11-21T05:00:00+00:00\",\"2022-11-21T06:00:00+00:00\",\"2022-11-21T07:00:00+00:00\",\"2022-11-21T08:00:00+00:00\",\"2022-11-21T09:00:00+00:00\",\"2022-11-21T10:00:00+00:00\",\"2022-11-21T11:00:00+00:00\",\"2022-11-21T12:00:00+00:00\",\"2022-11-21T13:00:00+00:00\",\"2022-11-21T14:00:00+00:00\",\"2022-11-21T15:00:00+00:00\",\"2022-11-21T16:00:00+00:00\",\"2022-11-21T17:00:00+00:00\",\"2022-11-21T18:00:00+00:00\",\"2022-11-21T19:00:00+00:00\",\"2022-11-21T20:00:00+00:00\",\"2022-11-21T21:00:00+00:00\",\"2022-11-21T22:00:00+00:00\",\"2022-11-21T23:00:00+00:00\",\"2022-11-22T00:00:00+00:00\",\"2022-11-22T01:00:00+00:00\",\"2022-11-22T02:00:00+00:00\",\"2022-11-22T03:00:00+00:00\",\"2022-11-22T04:00:00+00:00\",\"2022-11-22T05:00:00+00:00\",\"2022-11-22T06:00:00+00:00\",\"2022-11-22T07:00:00+00:00\",\"2022-11-22T08:00:00+00:00\",\"2022-11-22T09:00:00+00:00\",\"2022-11-22T10:00:00+00:00\",\"2022-11-22T11:00:00+00:00\",\"2022-11-22T12:00:00+00:00\",\"2022-11-22T13:00:00+00:00\",\"2022-11-22T14:00:00+00:00\",\"2022-11-22T15:00:00+00:00\",\"2022-11-22T16:00:00+00:00\",\"2022-11-22T17:00:00+00:00\",\"2022-11-22T18:00:00+00:00\",\"2022-11-22T19:00:00+00:00\",\"2022-11-22T20:00:00+00:00\",\"2022-11-22T21:00:00+00:00\",\"2022-11-22T22:00:00+00:00\",\"2022-11-22T23:00:00+00:00\",\"2022-11-23T00:00:00+00:00\",\"2022-11-23T01:00:00+00:00\",\"2022-11-23T02:00:00+00:00\",\"2022-11-23T03:00:00+00:00\",\"2022-11-23T04:00:00+00:00\",\"2022-11-23T05:00:00+00:00\",\"2022-11-23T06:00:00+00:00\",\"2022-11-23T07:00:00+00:00\",\"2022-11-23T08:00:00+00:00\",\"2022-11-23T09:00:00+00:00\",\"2022-11-23T10:00:00+00:00\",\"2022-11-23T11:00:00+00:00\",\"2022-11-23T12:00:00+00:00\",\"2022-11-23T13:00:00+00:00\",\"2022-11-23T14:00:00+00:00\",\"2022-11-23T15:00:00+00:00\",\"2022-11-23T16:00:00+00:00\",\"2022-11-23T17:00:00+00:00\",\"2022-11-23T18:00:00+00:00\",\"2022-11-23T19:00:00+00:00\",\"2022-11-23T20:00:00+00:00\",\"2022-11-23T21:00:00+00:00\",\"2022-11-23T22:00:00+00:00\",\"2022-11-23T23:00:00+00:00\",\"2022-11-24T00:00:00+00:00\",\"2022-11-24T01:00:00+00:00\",\"2022-11-24T02:00:00+00:00\",\"2022-11-24T03:00:00+00:00\",\"2022-11-24T04:00:00+00:00\",\"2022-11-24T05:00:00+00:00\",\"2022-11-24T06:00:00+00:00\",\"2022-11-24T07:00:00+00:00\",\"2022-11-24T08:00:00+00:00\",\"2022-11-24T09:00:00+00:00\",\"2022-11-24T10:00:00+00:00\",\"2022-11-24T11:00:00+00:00\",\"2022-11-24T12:00:00+00:00\",\"2022-11-24T13:00:00+00:00\",\"2022-11-24T14:00:00+00:00\",\"2022-11-24T15:00:00+00:00\",\"2022-11-24T16:00:00+00:00\",\"2022-11-24T17:00:00+00:00\",\"2022-11-24T18:00:00+00:00\",\"2022-11-24T19:00:00+00:00\",\"2022-11-24T20:00:00+00:00\",\"2022-11-24T21:00:00+00:00\",\"2022-11-24T22:00:00+00:00\",\"2022-11-24T23:00:00+00:00\",\"2022-11-25T00:00:00+00:00\",\"2022-11-25T01:00:00+00:00\",\"2022-11-25T02:00:00+00:00\",\"2022-11-25T03:00:00+00:00\",\"2022-11-25T04:00:00+00:00\",\"2022-11-25T05:00:00+00:00\",\"2022-11-25T06:00:00+00:00\",\"2022-11-25T07:00:00+00:00\",\"2022-11-25T08:00:00+00:00\",\"2022-11-25T09:00:00+00:00\",\"2022-11-25T10:00:00+00:00\",\"2022-11-25T11:00:00+00:00\",\"2022-11-25T12:00:00+00:00\",\"2022-11-25T13:00:00+00:00\",\"2022-11-25T14:00:00+00:00\",\"2022-11-25T15:00:00+00:00\",\"2022-11-25T16:00:00+00:00\",\"2022-11-25T17:00:00+00:00\",\"2022-11-25T18:00:00+00:00\",\"2022-11-25T19:00:00+00:00\",\"2022-11-25T20:00:00+00:00\",\"2022-11-25T21:00:00+00:00\",\"2022-11-25T22:00:00+00:00\",\"2022-11-25T23:00:00+00:00\",\"2022-11-26T00:00:00+00:00\",\"2022-11-26T01:00:00+00:00\",\"2022-11-26T02:00:00+00:00\",\"2022-11-26T03:00:00+00:00\",\"2022-11-26T04:00:00+00:00\",\"2022-11-26T05:00:00+00:00\",\"2022-11-26T06:00:00+00:00\",\"2022-11-26T07:00:00+00:00\",\"2022-11-26T08:00:00+00:00\",\"2022-11-26T09:00:00+00:00\",\"2022-11-26T10:00:00+00:00\",\"2022-11-26T11:00:00+00:00\",\"2022-11-26T12:00:00+00:00\",\"2022-11-26T13:00:00+00:00\",\"2022-11-26T14:00:00+00:00\",\"2022-11-26T15:00:00+00:00\",\"2022-11-26T16:00:00+00:00\",\"2022-11-26T17:00:00+00:00\",\"2022-11-26T18:00:00+00:00\",\"2022-11-26T19:00:00+00:00\",\"2022-11-26T20:00:00+00:00\",\"2022-11-26T21:00:00+00:00\",\"2022-11-26T22:00:00+00:00\",\"2022-11-26T23:00:00+00:00\",\"2022-11-27T00:00:00+00:00\",\"2022-11-27T01:00:00+00:00\",\"2022-11-27T02:00:00+00:00\",\"2022-11-27T03:00:00+00:00\",\"2022-11-27T04:00:00+00:00\",\"2022-11-27T05:00:00+00:00\",\"2022-11-27T06:00:00+00:00\",\"2022-11-27T07:00:00+00:00\",\"2022-11-27T08:00:00+00:00\",\"2022-11-27T09:00:00+00:00\",\"2022-11-27T10:00:00+00:00\",\"2022-11-27T11:00:00+00:00\",\"2022-11-27T12:00:00+00:00\",\"2022-11-27T13:00:00+00:00\",\"2022-11-27T14:00:00+00:00\",\"2022-11-27T15:00:00+00:00\",\"2022-11-27T16:00:00+00:00\",\"2022-11-27T17:00:00+00:00\",\"2022-11-27T18:00:00+00:00\",\"2022-11-27T19:00:00+00:00\",\"2022-11-27T20:00:00+00:00\",\"2022-11-27T21:00:00+00:00\",\"2022-11-27T22:00:00+00:00\",\"2022-11-27T23:00:00+00:00\",\"2022-11-28T00:00:00+00:00\",\"2022-11-28T01:00:00+00:00\",\"2022-11-28T02:00:00+00:00\",\"2022-11-28T03:00:00+00:00\",\"2022-11-28T04:00:00+00:00\",\"2022-11-28T05:00:00+00:00\",\"2022-11-28T06:00:00+00:00\",\"2022-11-28T07:00:00+00:00\",\"2022-11-28T08:00:00+00:00\",\"2022-11-28T09:00:00+00:00\",\"2022-11-28T10:00:00+00:00\",\"2022-11-28T11:00:00+00:00\",\"2022-11-28T12:00:00+00:00\",\"2022-11-28T13:00:00+00:00\",\"2022-11-28T14:00:00+00:00\",\"2022-11-28T15:00:00+00:00\",\"2022-11-28T16:00:00+00:00\",\"2022-11-28T17:00:00+00:00\",\"2022-11-28T18:00:00+00:00\",\"2022-11-28T19:00:00+00:00\",\"2022-11-28T20:00:00+00:00\",\"2022-11-28T21:00:00+00:00\",\"2022-11-28T22:00:00+00:00\",\"2022-11-28T23:00:00+00:00\",\"2022-11-29T00:00:00+00:00\",\"2022-11-29T01:00:00+00:00\",\"2022-11-29T02:00:00+00:00\",\"2022-11-29T03:00:00+00:00\",\"2022-11-29T04:00:00+00:00\",\"2022-11-29T05:00:00+00:00\",\"2022-11-29T06:00:00+00:00\",\"2022-11-29T07:00:00+00:00\",\"2022-11-29T08:00:00+00:00\",\"2022-11-29T09:00:00+00:00\",\"2022-11-29T10:00:00+00:00\",\"2022-11-29T11:00:00+00:00\",\"2022-11-29T12:00:00+00:00\",\"2022-11-29T13:00:00+00:00\",\"2022-11-29T14:00:00+00:00\",\"2022-11-29T15:00:00+00:00\"],\"y\":[0,3,1,13,10,2,3,5,18,20,6,9,15,2,3,2,2,1,3,3,1,4,0,5,3,2,0,2,4,7,0,2,1,4,0,0,0,2,0,0,0,0,3,1,1,0,3,1,1,2,0,1,8,2,5,4,0,1,5,0,2,1,1,0,0,1,1,1,0,0,0,0,1,0,2,3,3,0,2,0,1,1,2,3,0,0,2,2,0,0,0,0,0,1,1,0,1,0,1,1,0,4,0,2,2,2,2,3,2,1,1,0,0,0,1,1,0,1,2,2,4,1,3,0,2,2,4,1,1,4,6,2,0,0,0,0,1,0,1,1,3,2,1,0,1,0,3,1,1,2,1,3,2,3,2,0,1,0,1,0,1,1,1,0,0,1,1,0,1,2,1,0,0,0,3,3,2,3,5,0,4,1,0,0,2,1,1,2,0,2,3,2,2,0,1,3,5,1,2,2,4,1,2,2,3,1,3,2,0,4,6,0,1,2,0,4,0,4,1,1,2,1,5,2,2,3,0,1,0,0,0,1,0,0,1,0,0,0,0,0,1,1,1,2,2,11,1,0,3,4,5,4,2,10,0,5,0,0,0,1,3,2,11,19,17,17,41,41,27,23,21,22,21,11,9,10,5,5,8,3,0,2,3,4,5,6,4,2,1,1,6,3,2,3,3,1,1,0,1,0,0,1,0,0,0,1,0,2,1,0,2,0,1,0,3,2,0,0,2,0,1,1,1,1,1,0,0,0,0,0,0,0,3,0,2,0,1,1,0,2,0,0,1,1,2,1,0,0,0,0,0,0,0,1,0,0,0,1,0,2,1,0,1,2,1,0,2,8,6,21,7,5,6,4,5,0,0,0,4,2,0,2,4,0,3,2,1,1,1,0,1,0,2,2,0,1,2,0,1,0,0,0,0,0,0,0,1,0,0,0,0,1,0,0,0,0,0,0,2,1,0,0,0,0,0,0,0,0,0,0,0,0,0,0,0,1,1,0,1,0,0,1,0,0,0,0,0,0,0,0,0,1,0,0,0,0,1,1,1,0,0],\"type\":\"scatter\"}],                        {\"template\":{\"data\":{\"bar\":[{\"error_x\":{\"color\":\"#2a3f5f\"},\"error_y\":{\"color\":\"#2a3f5f\"},\"marker\":{\"line\":{\"color\":\"#E5ECF6\",\"width\":0.5},\"pattern\":{\"fillmode\":\"overlay\",\"size\":10,\"solidity\":0.2}},\"type\":\"bar\"}],\"barpolar\":[{\"marker\":{\"line\":{\"color\":\"#E5ECF6\",\"width\":0.5},\"pattern\":{\"fillmode\":\"overlay\",\"size\":10,\"solidity\":0.2}},\"type\":\"barpolar\"}],\"carpet\":[{\"aaxis\":{\"endlinecolor\":\"#2a3f5f\",\"gridcolor\":\"white\",\"linecolor\":\"white\",\"minorgridcolor\":\"white\",\"startlinecolor\":\"#2a3f5f\"},\"baxis\":{\"endlinecolor\":\"#2a3f5f\",\"gridcolor\":\"white\",\"linecolor\":\"white\",\"minorgridcolor\":\"white\",\"startlinecolor\":\"#2a3f5f\"},\"type\":\"carpet\"}],\"choropleth\":[{\"colorbar\":{\"outlinewidth\":0,\"ticks\":\"\"},\"type\":\"choropleth\"}],\"contour\":[{\"colorbar\":{\"outlinewidth\":0,\"ticks\":\"\"},\"colorscale\":[[0.0,\"#0d0887\"],[0.1111111111111111,\"#46039f\"],[0.2222222222222222,\"#7201a8\"],[0.3333333333333333,\"#9c179e\"],[0.4444444444444444,\"#bd3786\"],[0.5555555555555556,\"#d8576b\"],[0.6666666666666666,\"#ed7953\"],[0.7777777777777778,\"#fb9f3a\"],[0.8888888888888888,\"#fdca26\"],[1.0,\"#f0f921\"]],\"type\":\"contour\"}],\"contourcarpet\":[{\"colorbar\":{\"outlinewidth\":0,\"ticks\":\"\"},\"type\":\"contourcarpet\"}],\"heatmap\":[{\"colorbar\":{\"outlinewidth\":0,\"ticks\":\"\"},\"colorscale\":[[0.0,\"#0d0887\"],[0.1111111111111111,\"#46039f\"],[0.2222222222222222,\"#7201a8\"],[0.3333333333333333,\"#9c179e\"],[0.4444444444444444,\"#bd3786\"],[0.5555555555555556,\"#d8576b\"],[0.6666666666666666,\"#ed7953\"],[0.7777777777777778,\"#fb9f3a\"],[0.8888888888888888,\"#fdca26\"],[1.0,\"#f0f921\"]],\"type\":\"heatmap\"}],\"heatmapgl\":[{\"colorbar\":{\"outlinewidth\":0,\"ticks\":\"\"},\"colorscale\":[[0.0,\"#0d0887\"],[0.1111111111111111,\"#46039f\"],[0.2222222222222222,\"#7201a8\"],[0.3333333333333333,\"#9c179e\"],[0.4444444444444444,\"#bd3786\"],[0.5555555555555556,\"#d8576b\"],[0.6666666666666666,\"#ed7953\"],[0.7777777777777778,\"#fb9f3a\"],[0.8888888888888888,\"#fdca26\"],[1.0,\"#f0f921\"]],\"type\":\"heatmapgl\"}],\"histogram\":[{\"marker\":{\"pattern\":{\"fillmode\":\"overlay\",\"size\":10,\"solidity\":0.2}},\"type\":\"histogram\"}],\"histogram2d\":[{\"colorbar\":{\"outlinewidth\":0,\"ticks\":\"\"},\"colorscale\":[[0.0,\"#0d0887\"],[0.1111111111111111,\"#46039f\"],[0.2222222222222222,\"#7201a8\"],[0.3333333333333333,\"#9c179e\"],[0.4444444444444444,\"#bd3786\"],[0.5555555555555556,\"#d8576b\"],[0.6666666666666666,\"#ed7953\"],[0.7777777777777778,\"#fb9f3a\"],[0.8888888888888888,\"#fdca26\"],[1.0,\"#f0f921\"]],\"type\":\"histogram2d\"}],\"histogram2dcontour\":[{\"colorbar\":{\"outlinewidth\":0,\"ticks\":\"\"},\"colorscale\":[[0.0,\"#0d0887\"],[0.1111111111111111,\"#46039f\"],[0.2222222222222222,\"#7201a8\"],[0.3333333333333333,\"#9c179e\"],[0.4444444444444444,\"#bd3786\"],[0.5555555555555556,\"#d8576b\"],[0.6666666666666666,\"#ed7953\"],[0.7777777777777778,\"#fb9f3a\"],[0.8888888888888888,\"#fdca26\"],[1.0,\"#f0f921\"]],\"type\":\"histogram2dcontour\"}],\"mesh3d\":[{\"colorbar\":{\"outlinewidth\":0,\"ticks\":\"\"},\"type\":\"mesh3d\"}],\"parcoords\":[{\"line\":{\"colorbar\":{\"outlinewidth\":0,\"ticks\":\"\"}},\"type\":\"parcoords\"}],\"pie\":[{\"automargin\":true,\"type\":\"pie\"}],\"scatter\":[{\"marker\":{\"colorbar\":{\"outlinewidth\":0,\"ticks\":\"\"}},\"type\":\"scatter\"}],\"scatter3d\":[{\"line\":{\"colorbar\":{\"outlinewidth\":0,\"ticks\":\"\"}},\"marker\":{\"colorbar\":{\"outlinewidth\":0,\"ticks\":\"\"}},\"type\":\"scatter3d\"}],\"scattercarpet\":[{\"marker\":{\"colorbar\":{\"outlinewidth\":0,\"ticks\":\"\"}},\"type\":\"scattercarpet\"}],\"scattergeo\":[{\"marker\":{\"colorbar\":{\"outlinewidth\":0,\"ticks\":\"\"}},\"type\":\"scattergeo\"}],\"scattergl\":[{\"marker\":{\"colorbar\":{\"outlinewidth\":0,\"ticks\":\"\"}},\"type\":\"scattergl\"}],\"scattermapbox\":[{\"marker\":{\"colorbar\":{\"outlinewidth\":0,\"ticks\":\"\"}},\"type\":\"scattermapbox\"}],\"scatterpolar\":[{\"marker\":{\"colorbar\":{\"outlinewidth\":0,\"ticks\":\"\"}},\"type\":\"scatterpolar\"}],\"scatterpolargl\":[{\"marker\":{\"colorbar\":{\"outlinewidth\":0,\"ticks\":\"\"}},\"type\":\"scatterpolargl\"}],\"scatterternary\":[{\"marker\":{\"colorbar\":{\"outlinewidth\":0,\"ticks\":\"\"}},\"type\":\"scatterternary\"}],\"surface\":[{\"colorbar\":{\"outlinewidth\":0,\"ticks\":\"\"},\"colorscale\":[[0.0,\"#0d0887\"],[0.1111111111111111,\"#46039f\"],[0.2222222222222222,\"#7201a8\"],[0.3333333333333333,\"#9c179e\"],[0.4444444444444444,\"#bd3786\"],[0.5555555555555556,\"#d8576b\"],[0.6666666666666666,\"#ed7953\"],[0.7777777777777778,\"#fb9f3a\"],[0.8888888888888888,\"#fdca26\"],[1.0,\"#f0f921\"]],\"type\":\"surface\"}],\"table\":[{\"cells\":{\"fill\":{\"color\":\"#EBF0F8\"},\"line\":{\"color\":\"white\"}},\"header\":{\"fill\":{\"color\":\"#C8D4E3\"},\"line\":{\"color\":\"white\"}},\"type\":\"table\"}]},\"layout\":{\"annotationdefaults\":{\"arrowcolor\":\"#2a3f5f\",\"arrowhead\":0,\"arrowwidth\":1},\"autotypenumbers\":\"strict\",\"coloraxis\":{\"colorbar\":{\"outlinewidth\":0,\"ticks\":\"\"}},\"colorscale\":{\"diverging\":[[0,\"#8e0152\"],[0.1,\"#c51b7d\"],[0.2,\"#de77ae\"],[0.3,\"#f1b6da\"],[0.4,\"#fde0ef\"],[0.5,\"#f7f7f7\"],[0.6,\"#e6f5d0\"],[0.7,\"#b8e186\"],[0.8,\"#7fbc41\"],[0.9,\"#4d9221\"],[1,\"#276419\"]],\"sequential\":[[0.0,\"#0d0887\"],[0.1111111111111111,\"#46039f\"],[0.2222222222222222,\"#7201a8\"],[0.3333333333333333,\"#9c179e\"],[0.4444444444444444,\"#bd3786\"],[0.5555555555555556,\"#d8576b\"],[0.6666666666666666,\"#ed7953\"],[0.7777777777777778,\"#fb9f3a\"],[0.8888888888888888,\"#fdca26\"],[1.0,\"#f0f921\"]],\"sequentialminus\":[[0.0,\"#0d0887\"],[0.1111111111111111,\"#46039f\"],[0.2222222222222222,\"#7201a8\"],[0.3333333333333333,\"#9c179e\"],[0.4444444444444444,\"#bd3786\"],[0.5555555555555556,\"#d8576b\"],[0.6666666666666666,\"#ed7953\"],[0.7777777777777778,\"#fb9f3a\"],[0.8888888888888888,\"#fdca26\"],[1.0,\"#f0f921\"]]},\"colorway\":[\"#636efa\",\"#EF553B\",\"#00cc96\",\"#ab63fa\",\"#FFA15A\",\"#19d3f3\",\"#FF6692\",\"#B6E880\",\"#FF97FF\",\"#FECB52\"],\"font\":{\"color\":\"#2a3f5f\"},\"geo\":{\"bgcolor\":\"white\",\"lakecolor\":\"white\",\"landcolor\":\"#E5ECF6\",\"showlakes\":true,\"showland\":true,\"subunitcolor\":\"white\"},\"hoverlabel\":{\"align\":\"left\"},\"hovermode\":\"closest\",\"mapbox\":{\"style\":\"light\"},\"paper_bgcolor\":\"white\",\"plot_bgcolor\":\"#E5ECF6\",\"polar\":{\"angularaxis\":{\"gridcolor\":\"white\",\"linecolor\":\"white\",\"ticks\":\"\"},\"bgcolor\":\"#E5ECF6\",\"radialaxis\":{\"gridcolor\":\"white\",\"linecolor\":\"white\",\"ticks\":\"\"}},\"scene\":{\"xaxis\":{\"backgroundcolor\":\"#E5ECF6\",\"gridcolor\":\"white\",\"gridwidth\":2,\"linecolor\":\"white\",\"showbackground\":true,\"ticks\":\"\",\"zerolinecolor\":\"white\"},\"yaxis\":{\"backgroundcolor\":\"#E5ECF6\",\"gridcolor\":\"white\",\"gridwidth\":2,\"linecolor\":\"white\",\"showbackground\":true,\"ticks\":\"\",\"zerolinecolor\":\"white\"},\"zaxis\":{\"backgroundcolor\":\"#E5ECF6\",\"gridcolor\":\"white\",\"gridwidth\":2,\"linecolor\":\"white\",\"showbackground\":true,\"ticks\":\"\",\"zerolinecolor\":\"white\"}},\"shapedefaults\":{\"line\":{\"color\":\"#2a3f5f\"}},\"ternary\":{\"aaxis\":{\"gridcolor\":\"white\",\"linecolor\":\"white\",\"ticks\":\"\"},\"baxis\":{\"gridcolor\":\"white\",\"linecolor\":\"white\",\"ticks\":\"\"},\"bgcolor\":\"#E5ECF6\",\"caxis\":{\"gridcolor\":\"white\",\"linecolor\":\"white\",\"ticks\":\"\"}},\"title\":{\"x\":0.05},\"xaxis\":{\"automargin\":true,\"gridcolor\":\"white\",\"linecolor\":\"white\",\"ticks\":\"\",\"title\":{\"standoff\":15},\"zerolinecolor\":\"white\",\"zerolinewidth\":2},\"yaxis\":{\"automargin\":true,\"gridcolor\":\"white\",\"linecolor\":\"white\",\"ticks\":\"\",\"title\":{\"standoff\":15},\"zerolinecolor\":\"white\",\"zerolinewidth\":2}}}},                        {\"responsive\": true}                    ).then(function(){\n",
              "                            \n",
              "var gd = document.getElementById('3aff4c09-fd28-4ef0-9a65-e93f557774ff');\n",
              "var x = new MutationObserver(function (mutations, observer) {{\n",
              "        var display = window.getComputedStyle(gd).display;\n",
              "        if (!display || display === 'none') {{\n",
              "            console.log([gd, 'removed!']);\n",
              "            Plotly.purge(gd);\n",
              "            observer.disconnect();\n",
              "        }}\n",
              "}});\n",
              "\n",
              "// Listen for the removal of the full notebook cells\n",
              "var notebookContainer = gd.closest('#notebook-container');\n",
              "if (notebookContainer) {{\n",
              "    x.observe(notebookContainer, {childList: true});\n",
              "}}\n",
              "\n",
              "// Listen for the clearing of the current output cell\n",
              "var outputEl = gd.closest('.output');\n",
              "if (outputEl) {{\n",
              "    x.observe(outputEl, {childList: true});\n",
              "}}\n",
              "\n",
              "                        })                };                            </script>        </div>\n",
              "</body>\n",
              "</html>"
            ]
          },
          "metadata": {}
        }
      ]
    }
  ]
}