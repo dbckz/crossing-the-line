{
  "nbformat": 4,
  "nbformat_minor": 0,
  "metadata": {
    "colab": {
      "name": "processing_full_perspective_world_cup.ipynb",
      "provenance": [],
      "include_colab_link": true
    },
    "kernelspec": {
      "name": "python3",
      "display_name": "Python 3"
    },
    "language_info": {
      "name": "python"
    }
  },
  "cells": [
    {
      "cell_type": "markdown",
      "metadata": {
        "id": "view-in-github",
        "colab_type": "text"
      },
      "source": [
        "<a href=\"https://colab.research.google.com/github/dbckz/crossing-the-line/blob/master/notebooks/processing_full_perspective_world_cup.ipynb\" target=\"_parent\"><img src=\"https://colab.research.google.com/assets/colab-badge.svg\" alt=\"Open In Colab\"/></a>"
      ]
    },
    {
      "cell_type": "markdown",
      "metadata": {
        "id": "GRM6N6JuZFfF"
      },
      "source": [
        "# Setup"
      ]
    },
    {
      "cell_type": "code",
      "metadata": {
        "id": "y7d3z3-jBIwQ"
      },
      "source": [
        "import pandas as pd\n",
        "import ast\n",
        "import os\n",
        "import numpy as np\n",
        "import matplotlib.pyplot as plt\n",
        "from wordcloud import WordCloud\n",
        "from tqdm import tqdm\n",
        "from google.colab import drive\n",
        "import plotly.graph_objects as go"
      ],
      "execution_count": 1,
      "outputs": []
    },
    {
      "cell_type": "code",
      "metadata": {
        "colab": {
          "base_uri": "https://localhost:8080/"
        },
        "id": "ijZC6v-VBaZK",
        "outputId": "35f451b4-3a21-4fab-ee55-04129e50b6bc"
      },
      "source": [
        "drive.mount('/content/drive')"
      ],
      "execution_count": 2,
      "outputs": [
        {
          "output_type": "stream",
          "name": "stdout",
          "text": [
            "Mounted at /content/drive\n"
          ]
        }
      ]
    },
    {
      "cell_type": "code",
      "metadata": {
        "id": "3bU3fWqpBfuw"
      },
      "source": [
        "# Set up paths\n",
        "root_path = \"/content/drive/MyDrive/University/Dissertation/world_cup_data\"\n",
        "graph_path = root_path + \"/graphs\"\n",
        "\n",
        "day_paths = day_paths = [\n",
        "        \"/1\",\n",
        "        \"/2\",\n",
        "        \"/291122\",\n",
        "        \"/301122\",\n",
        "        \"/011222\",\n",
        "        \"/021222\",\n",
        "        \"/031222\",\n",
        "        \"/041222\",\n",
        "        \"/051222\",\n",
        "        \"/061222\",\n",
        "        \"/071222\",\n",
        "        \"/081222\",\n",
        "        \"/091222\",\n",
        "        \"/101222\",\n",
        "        \"/111222\",\n",
        "        \"/121222\",\n",
        "        \"/131222\",\n",
        "        \"/141222\"\n",
        "    ]"
      ],
      "execution_count": 3,
      "outputs": []
    },
    {
      "cell_type": "code",
      "metadata": {
        "id": "8cLTHniaBmpb",
        "outputId": "7dac50d6-5475-40dd-d9c2-d138d39a1cd6",
        "colab": {
          "base_uri": "https://localhost:8080/"
        }
      },
      "source": [
        "# Create directory to store visualisations\n",
        "try:\n",
        "    os.mkdir(graph_path)\n",
        "except OSError as error:\n",
        "    print(error)"
      ],
      "execution_count": 4,
      "outputs": [
        {
          "output_type": "stream",
          "name": "stdout",
          "text": [
            "[Errno 17] File exists: '/content/drive/MyDrive/University/Dissertation/world_cup_data/graphs'\n"
          ]
        }
      ]
    },
    {
      "cell_type": "code",
      "metadata": {
        "colab": {
          "base_uri": "https://localhost:8080/"
        },
        "id": "VqtIrThfBpAQ",
        "outputId": "897218d2-a132-4251-ec72-84ffc4573ab7"
      },
      "source": [
        "# Load data\n",
        "in_tweets = pd.DataFrame()\n",
        "persp = pd.DataFrame()\n",
        "emojis = pd.DataFrame()\n",
        "for path in day_paths:\n",
        "    directory = root_path + path\n",
        "    tweets_csv = directory + \"/tweets.csv\"\n",
        "    persp_csv = directory + \"/perspective_processed_tweets.csv\"\n",
        "    emojis_csv = directory + \"/emoji.csv\"\n",
        "\n",
        "    print(f\"Loading CSVs for directory {path}...\")\n",
        "    in_tweets = pd.concat([in_tweets, \n",
        "                           pd.read_csv(tweets_csv,\n",
        "                                       usecols = [\n",
        "                                                  'created_at',\n",
        "                                                  'tweet_id',\n",
        "                                                  'tweet_text',\n",
        "                                                  'accounts_mentioned'\n",
        "                                       ],\n",
        "                                       dtype = {\n",
        "                                          # 'created_at':\n",
        "                                          'tweet_id': np.int64,\n",
        "                                          'tweet_text': str,\n",
        "                                          'accounts_mentioned': object\n",
        "                                       },\n",
        "                                       parse_dates=['created_at'])])\n",
        "\n",
        "    persp = pd.concat([persp, pd.read_csv(persp_csv,\n",
        "                                          usecols = [\n",
        "                                                      'tweet_id',\n",
        "                                                      'identity_attack_score',\n",
        "                                                      'threat_score',\n",
        "                                                      'severe_toxicity_score',\n",
        "                                                      'insult_score'\n",
        "                                                      \n",
        "                                          ],\n",
        "                                          dtype = {\n",
        "                                              'tweet_id': np.int64,\n",
        "                                              'identity_attack_score': float,\n",
        "                                              'threat_score': float,\n",
        "                                              'severe_toxicity_score': float,\n",
        "                                              'insult_score': float\n",
        "                                          })])\n",
        "\n",
        "# Dedup\n",
        "original_tweets_length = len(in_tweets)\n",
        "original_persp_length = len(persp)\n",
        "in_tweets.drop_duplicates(subset=['tweet_id'], inplace=True)\n",
        "persp.drop_duplicates(subset=['tweet_id'], inplace=True)\n",
        "print(f\"Size of tweets dataframe: {len(in_tweets)}, having dropped {original_tweets_length - len(in_tweets)} duplicate rows\")\n",
        "print(f\"Size of perspective dataframe: {len(persp)}, having dropped {original_persp_length - len(persp)} duplicate rows\")\n"
      ],
      "execution_count": 6,
      "outputs": [
        {
          "output_type": "stream",
          "name": "stdout",
          "text": [
            "Loading CSVs for directory /1...\n",
            "Loading CSVs for directory /2...\n",
            "Loading CSVs for directory /291122...\n",
            "Loading CSVs for directory /301122...\n",
            "Loading CSVs for directory /011222...\n",
            "Loading CSVs for directory /021222...\n",
            "Loading CSVs for directory /031222...\n",
            "Loading CSVs for directory /041222...\n",
            "Loading CSVs for directory /051222...\n",
            "Loading CSVs for directory /061222...\n",
            "Loading CSVs for directory /071222...\n",
            "Loading CSVs for directory /081222...\n",
            "Loading CSVs for directory /091222...\n",
            "Loading CSVs for directory /101222...\n",
            "Loading CSVs for directory /111222...\n",
            "Loading CSVs for directory /121222...\n",
            "Loading CSVs for directory /131222...\n",
            "Loading CSVs for directory /141222...\n",
            "Size of tweets dataframe: 327827, having dropped 7804 duplicate rows\n",
            "Size of perspective dataframe: 327827, having dropped 7822 duplicate rows\n"
          ]
        }
      ]
    },
    {
      "cell_type": "code",
      "metadata": {
        "id": "sAADH49yDUaO"
      },
      "source": [
        "# Up the pandas display limits so printed dataframes aren't so truncated\n",
        "pd.set_option('display.max_rows', 100)\n",
        "pd.set_option('display.max_columns', 100)\n",
        "pd.set_option('display.width', None)\n",
        "pd.set_option('display.max_colwidth', None)\n",
        "pd.set_option('display.max_info_rows', 100)\n",
        "pd.set_option('display.max_info_columns', 100)\n",
        "pd.set_option('display.precision', 9)"
      ],
      "execution_count": 7,
      "outputs": []
    },
    {
      "cell_type": "code",
      "metadata": {
        "id": "rK6fN3eADf1j",
        "colab": {
          "base_uri": "https://localhost:8080/"
        },
        "outputId": "ee71bbbc-779c-462d-9238-e729c4a4b91c"
      },
      "source": [
        "# Join tables + drop old ones!\n",
        "joined_df = pd.merge(in_tweets, persp, how='inner', on='tweet_id')\n",
        "del persp\n",
        "del in_tweets\n",
        "len(joined_df)"
      ],
      "execution_count": 8,
      "outputs": [
        {
          "output_type": "execute_result",
          "data": {
            "text/plain": [
              "327827"
            ]
          },
          "metadata": {},
          "execution_count": 8
        }
      ]
    },
    {
      "cell_type": "code",
      "metadata": {
        "colab": {
          "base_uri": "https://localhost:8080/"
        },
        "id": "ojO6vp-FDQpg",
        "outputId": "fc60c004-0db4-4673-9b2a-18272907e485"
      },
      "source": [
        "# joined_df = joined_df[(joined_df['created_at'] > '2021-06-19 08:10:18+00:00') & (joined_df['created_at'] < '2021-07-17 00:00:00+00:00')]\n",
        "len(joined_df)"
      ],
      "execution_count": 9,
      "outputs": [
        {
          "output_type": "execute_result",
          "data": {
            "text/plain": [
              "327827"
            ]
          },
          "metadata": {},
          "execution_count": 9
        }
      ]
    },
    {
      "cell_type": "markdown",
      "metadata": {
        "id": "sAs12WDWZLmm"
      },
      "source": [
        "# Analysis"
      ]
    },
    {
      "cell_type": "code",
      "metadata": {
        "colab": {
          "base_uri": "https://localhost:8080/"
        },
        "id": "TxuKH69TGNW7",
        "outputId": "2283104a-a455-4175-ebad-b9ee0af4a0a6"
      },
      "source": [
        "print(f\"Number of tweets that Perspective could not process: {len(joined_df[joined_df['identity_attack_score'] == -1.0])}\") # might need to do this later..."
      ],
      "execution_count": 10,
      "outputs": [
        {
          "output_type": "stream",
          "name": "stdout",
          "text": [
            "Number of tweets that Perspective could not process: 18322\n"
          ]
        }
      ]
    },
    {
      "cell_type": "code",
      "metadata": {
        "colab": {
          "base_uri": "https://localhost:8080/"
        },
        "id": "Y8AlxdbJJnmN",
        "outputId": "499a5ffa-4a40-4806-bf27-23248b1101fd"
      },
      "source": [
        "# Extract players\n",
        "list_of_players = [\"JPickford1\", \"kylewalker2\", \"LukeShaw23\", \"_DeclanRice\",\n",
        "                   \"HarryMaguire93\", \"JackGrealish\", \"JHenderson\", \"HKane\", \n",
        "                   \"sterling7\", \"MarcusRashford\", \"trippier2\",\n",
        "                   \"PhilFoden\", \"ben6white\", \"BukayoSaka87\", \"BellinghamJude\", \n",
        "                   \"Popey1992\", \"AaronRamsdale98\", \"CallumWilson\", \"TrentAA\", \n",
        "                   \"Madders10\", \"ericdier\", \"Kalvinphillips\"]\n",
        "\n",
        "\n",
        "for player in list_of_players:\n",
        "    print(f\"Extracting {player}...\")\n",
        "    joined_df[player] = joined_df['accounts_mentioned'].str.contains(f\"'username': '{player}'\").astype(bool)\n",
        "\n"
      ],
      "execution_count": 12,
      "outputs": [
        {
          "output_type": "stream",
          "name": "stdout",
          "text": [
            "Extracting JPickford1...\n",
            "Extracting kylewalker2...\n",
            "Extracting LukeShaw23...\n",
            "Extracting _DeclanRice...\n",
            "Extracting HarryMaguire93...\n",
            "Extracting JackGrealish...\n",
            "Extracting JHenderson...\n",
            "Extracting HKane...\n",
            "Extracting sterling7...\n",
            "Extracting MarcusRashford...\n",
            "Extracting trippier2...\n",
            "Extracting PhilFoden...\n",
            "Extracting ben6white...\n",
            "Extracting BukayoSaka87...\n",
            "Extracting BellinghamJude...\n",
            "Extracting Popey1992...\n",
            "Extracting AaronRamsdale98...\n",
            "Extracting CallumWilson...\n",
            "Extracting TrentAA...\n",
            "Extracting Madders10...\n",
            "Extracting ericdier...\n",
            "Extracting Kalvinphillips...\n"
          ]
        }
      ]
    },
    {
      "cell_type": "code",
      "metadata": {
        "id": "5yNOnyw_OBy7"
      },
      "source": [
        "joined_df = joined_df[\n",
        "    (joined_df[\"JPickford1\"]) |\n",
        "    (joined_df[\"kylewalker2\"]) |\n",
        "    (joined_df[\"LukeShaw23\"]) |\n",
        "    (joined_df[\"_DeclanRice\"]) |\n",
        "    (joined_df[\"HarryMaguire93\"]) |\n",
        "    (joined_df[\"JackGrealish\"]) |\n",
        "    (joined_df[\"JHenderson\"]) |\n",
        "    (joined_df[\"HKane\"]) |\n",
        "    (joined_df[\"sterling7\"]) |\n",
        "    (joined_df[\"MarcusRashford\"]) |\n",
        "    (joined_df[\"trippier2\"]) |\n",
        "    (joined_df[\"Kalvinphillips\"]) |\n",
        "    (joined_df[\"PhilFoden\"]) |\n",
        "    (joined_df[\"ben6white\"]) |\n",
        "    (joined_df[\"Popey1992\"]) |\n",
        "    (joined_df[\"AaronRamsdale98\"]) |\n",
        "    (joined_df[\"CallumWilson\"]) |\n",
        "    (joined_df[\"TrentAA\"]) |\n",
        "    (joined_df[\"Madders10\"]) |\n",
        "    (joined_df[\"ericdier\"]) |\n",
        "    (joined_df[\"BukayoSaka87\"]) |\n",
        "    (joined_df[\"BellinghamJude\"])\n",
        "    ]"
      ],
      "execution_count": 13,
      "outputs": []
    },
    {
      "cell_type": "code",
      "metadata": {
        "id": "bLHkByk1WKgR",
        "outputId": "3d418ab8-29b7-44a1-aa82-a01d3653dae7",
        "colab": {
          "base_uri": "https://localhost:8080/"
        }
      },
      "source": [
        "print(len(joined_df))"
      ],
      "execution_count": 14,
      "outputs": [
        {
          "output_type": "stream",
          "name": "stdout",
          "text": [
            "302051\n"
          ]
        }
      ]
    },
    {
      "cell_type": "code",
      "metadata": {
        "colab": {
          "base_uri": "https://localhost:8080/",
          "height": 317
        },
        "id": "wdPYQAylLDTW",
        "outputId": "7d37ec7d-fb7c-404b-d5ca-6fbd3b73a42f"
      },
      "source": [
        "joined_df[joined_df['identity_attack_score'] != -1.0].hist(column = 'identity_attack_score', bins=50)"
      ],
      "execution_count": 15,
      "outputs": [
        {
          "output_type": "execute_result",
          "data": {
            "text/plain": [
              "array([[<matplotlib.axes._subplots.AxesSubplot object at 0x7f45a7cc4670>]],\n",
              "      dtype=object)"
            ]
          },
          "metadata": {},
          "execution_count": 15
        },
        {
          "output_type": "display_data",
          "data": {
            "text/plain": [
              "<Figure size 432x288 with 1 Axes>"
            ],
            "image/png": "[encoded data removed]"
          },
          "metadata": {
            "needs_background": "light"
          }
        }
      ]
    },
    {
      "cell_type": "code",
      "metadata": {
        "colab": {
          "base_uri": "https://localhost:8080/",
          "height": 317
        },
        "id": "HHXBIGQ4MnaZ",
        "outputId": "2b060d32-1b2c-4c89-d7b8-0474ec275e8b"
      },
      "source": [
        "joined_df[joined_df['threat_score'] != -1.0].hist(column = 'threat_score', bins=50)"
      ],
      "execution_count": 16,
      "outputs": [
        {
          "output_type": "execute_result",
          "data": {
            "text/plain": [
              "array([[<matplotlib.axes._subplots.AxesSubplot object at 0x7f45a7c2fa00>]],\n",
              "      dtype=object)"
            ]
          },
          "metadata": {},
          "execution_count": 16
        },
        {
          "output_type": "display_data",
          "data": {
            "text/plain": [
              "<Figure size 432x288 with 1 Axes>"
            ],
            "image/png": "[encoded data removed]"
          },
          "metadata": {
            "needs_background": "light"
          }
        }
      ]
    },
    {
      "cell_type": "code",
      "metadata": {
        "colab": {
          "base_uri": "https://localhost:8080/",
          "height": 317
        },
        "id": "xY1yeK4XMpii",
        "outputId": "3b6c7c08-8215-4b83-b4a3-15ff16b69556"
      },
      "source": [
        "joined_df[joined_df['severe_toxicity_score'] != -1.0].hist(column = 'severe_toxicity_score', bins=50)"
      ],
      "execution_count": 17,
      "outputs": [
        {
          "output_type": "execute_result",
          "data": {
            "text/plain": [
              "array([[<matplotlib.axes._subplots.AxesSubplot object at 0x7f45a78b5d60>]],\n",
              "      dtype=object)"
            ]
          },
          "metadata": {},
          "execution_count": 17
        },
        {
          "output_type": "display_data",
          "data": {
            "text/plain": [
              "<Figure size 432x288 with 1 Axes>"
            ],
            "image/png": "[encoded data removed]"
          },
          "metadata": {
            "needs_background": "light"
          }
        }
      ]
    },
    {
      "cell_type": "code",
      "metadata": {
        "colab": {
          "base_uri": "https://localhost:8080/",
          "height": 317
        },
        "id": "a7bcngTYMr9W",
        "outputId": "3075cc65-139e-45f7-fc8f-3826c9f9b990"
      },
      "source": [
        "joined_df[joined_df['insult_score'] != -1.0].hist(column = 'insult_score', bins=50)"
      ],
      "execution_count": 18,
      "outputs": [
        {
          "output_type": "execute_result",
          "data": {
            "text/plain": [
              "array([[<matplotlib.axes._subplots.AxesSubplot object at 0x7f45a780e0a0>]],\n",
              "      dtype=object)"
            ]
          },
          "metadata": {},
          "execution_count": 18
        },
        {
          "output_type": "display_data",
          "data": {
            "text/plain": [
              "<Figure size 432x288 with 1 Axes>"
            ],
            "image/png": "[encoded data removed]"
          },
          "metadata": {
            "needs_background": "light"
          }
        }
      ]
    },
    {
      "cell_type": "code",
      "metadata": {
        "colab": {
          "base_uri": "https://localhost:8080/"
        },
        "id": "h0KjAXuqL1WK",
        "outputId": "43445d8f-b5a2-43c4-c7bc-5fc3d29f4df9"
      },
      "source": [
        "len_total = len(joined_df)\n",
        "threshold = 0.5\n",
        "\n",
        "tmp = pd.merge(joined_df[joined_df['identity_attack_score'] > 0.9], joined_df[joined_df['threat_score'] > 0.9], how='outer', on='tweet_id')\n",
        "tmp = pd.merge(tmp, joined_df[joined_df['severe_toxicity_score'] > 0.9], how='outer', on='tweet_id')\n",
        "# tmp = pd.merge(tmp, joined_df[joined_df['insult_score'] > 0.9], how='outer', on='tweet_id')\n",
        "len_90 = len(tmp)\n",
        "print(f\"Tweets with scores > 0.9: {len_90}, which is {(100 * (len_90 / len_total)):.2f}% of all tweets\")\n",
        "\n",
        "tmp = pd.merge(joined_df[joined_df['identity_attack_score'] > 0.8], joined_df[joined_df['threat_score'] > 0.8], how='outer', on='tweet_id')\n",
        "tmp = pd.merge(tmp, joined_df[joined_df['severe_toxicity_score'] > 0.8], how='outer', on='tweet_id')\n",
        "# tmp = pd.merge(tmp, joined_df[joined_df['insult_score'] > 0.8], how='outer', on='tweet_id')\n",
        "len_80 = len(tmp)\n",
        "print(f\"Tweets with scores > 0.8: {len_80}, which is {(100 * (len_80 / len_total)):.2f}% of all tweets\")\n",
        "\n",
        "tmp = pd.merge(joined_df[joined_df['identity_attack_score'] > 0.7], joined_df[joined_df['threat_score'] > 0.7], how='outer', on='tweet_id')\n",
        "tmp = pd.merge(tmp, joined_df[joined_df['severe_toxicity_score'] > 0.7], how='outer', on='tweet_id')\n",
        "# tmp = pd.merge(tmp, joined_df[joined_df['insult_score'] > 0.7], how='outer', on='tweet_id')\n",
        "len_70 = len(tmp)\n",
        "print(f\"Tweets with scores > 0.7: {len_70}, which is {(100 * (len_70 / len_total)):.2f}% of all tweets\")\n",
        "\n",
        "tmp = pd.merge(joined_df[joined_df['identity_attack_score'] > 0.6], joined_df[joined_df['threat_score'] > 0.6], how='outer', on='tweet_id')\n",
        "tmp = pd.merge(tmp, joined_df[joined_df['severe_toxicity_score'] > 0.6], how='outer', on='tweet_id')\n",
        "# tmp = pd.merge(tmp, joined_df[joined_df['insult_score'] > 0.6], how='outer', on='tweet_id')\n",
        "len_60 = len(tmp)\n",
        "print(f\"Tweets with scores > 0.6: {len_60}, which is {(100 * (len_60 / len_total)):.2f}% of all tweets\")\n",
        "\n",
        "tmp = pd.merge(joined_df[joined_df['identity_attack_score'] > 0.5], joined_df[joined_df['threat_score'] > 0.5], how='outer', on='tweet_id')\n",
        "tmp = pd.merge(tmp, joined_df[joined_df['severe_toxicity_score'] > 0.5], how='outer', on='tweet_id')\n",
        "# tmp = pd.merge(tmp, joined_df[joined_df['insult_score'] > 0.5], how='outer', on='tweet_id')\n",
        "len_50 = len(tmp)\n",
        "print(f\"Tweets with scores > 0.5: {len_50}, which is {(100 * (len_50 / len_total)):.2f}% of all tweets\")\n",
        "\n",
        "joined_df['persp_over_threshold'] = (joined_df['identity_attack_score'] > threshold) | (joined_df['threat_score'] > threshold) | (joined_df['severe_toxicity_score'] > threshold)\n",
        "                                                                                 \n",
        "del tmp\n"
      ],
      "execution_count": 19,
      "outputs": [
        {
          "output_type": "stream",
          "name": "stdout",
          "text": [
            "Tweets with scores > 0.9: 0, which is 0.00% of all tweets\n",
            "Tweets with scores > 0.8: 7, which is 0.00% of all tweets\n",
            "Tweets with scores > 0.7: 75, which is 0.02% of all tweets\n",
            "Tweets with scores > 0.6: 671, which is 0.22% of all tweets\n",
            "Tweets with scores > 0.5: 2736, which is 0.91% of all tweets\n"
          ]
        }
      ]
    },
    {
      "cell_type": "code",
      "metadata": {
        "id": "ZCcBwcHYOdFN"
      },
      "source": [
        "# Maybe we don't need these cols and we can just calculate ad-hoc?\n",
        "for player in list_of_players:\n",
        "    joined_df[f'{player}_offensive'] = joined_df['persp_over_threshold'] & joined_df[player]"
      ],
      "execution_count": 20,
      "outputs": []
    },
    {
      "cell_type": "code",
      "metadata": {
        "id": "WoFR9CYoOniq"
      },
      "source": [
        "player_offensive_tweet_map = pd.DataFrame(columns=[\"username\",\n",
        "                                                   \"tweets_received\",\n",
        "                                                   \"offensive_tweets_received\",\n",
        "                                                   \"percentage_offensive\"\n",
        "                                                   ])\n",
        "\n",
        "i = 0\n",
        "for player in list_of_players:\n",
        "    off_tweets = joined_df[player + '_offensive'].sum()\n",
        "    tweets = joined_df[player].sum()\n",
        "    percentage = 100 * (off_tweets / tweets)\n",
        "    player_offensive_tweet_map.loc[i] = player, tweets, off_tweets, percentage\n",
        "    i += 1"
      ],
      "execution_count": 21,
      "outputs": []
    },
    {
      "cell_type": "code",
      "source": [
        "name_map = {\n",
        "    \"JPickford1\": \"Jordan Pickford\",\n",
        "    \"Popey1992\": \"Nick Pope\",\n",
        "    \"kylewalker2\": \"Kyle Walker\",\n",
        "    \"Kalvinphillips\": \"Kalvin Phillips\",\n",
        "    \"ben6white\": \"Benjamin White\",\n",
        "    \"ericdier\": \"Eric Dier\",\n",
        "    \"trippier2\": \"Kieran Trippier\",\n",
        "    \"TrentAA\": \"Trent Alexander-Arnold\",\n",
        "    \"AaronRamsdale98\": \"Aaron Ramsdale\",\n",
        "    \"JHenderson\": \"Jordan Henderson\",\n",
        "    \"PhilFoden\": \"Phil Foden\",\n",
        "    \"CallumWilson\": \"Callum Wilson\",\n",
        "    \"sterling7\": \"Raheem Sterling\",\n",
        "    \"LukeShaw23\": \"Luke Shaw\",\n",
        "    \"_DeclanRice\": \"Declan Rice\",\n",
        "    \"Madders10\": \"James Maddison\",\n",
        "    \"BellinghamJude\": \"Jude Bellingham\",\n",
        "    \"JackGrealish\": \"Jack Grealish\",\n",
        "    \"HarryMaguire93\": \"Harry Maguire\",\n",
        "    \"MarcusRashford\": \"Marcus Rashford\",\n",
        "    \"BukayoSaka87\": \"Bukayo Saka\",\n",
        "    \"HKane\": \"Harry Kane\"\n",
        "}\n",
        "\n",
        "player_offensive_tweet_map[\"player\"] = player_offensive_tweet_map[\"username\"].map(name_map)\n"
      ],
      "metadata": {
        "id": "h--k4JW7rS0s"
      },
      "execution_count": 22,
      "outputs": []
    },
    {
      "cell_type": "code",
      "metadata": {
        "id": "lamR6eWeqyFC",
        "colab": {
          "base_uri": "https://localhost:8080/"
        },
        "outputId": "0ca259d9-17c4-4666-d252-01f8a270b21f"
      },
      "source": [
        "player_offensive_tweet_map.sort_values('tweets_received', axis=0, ascending=True, inplace=True)\n",
        "offensive_tweets_all = joined_df['persp_over_threshold'].sum()\n",
        "offensive_tweets_top_10 = player_offensive_tweet_map['offensive_tweets_received'].head(10).sum()\n",
        "top_10_proportion = offensive_tweets_top_10 / offensive_tweets_all\n",
        "print(f\"Total offensive tweets: {offensive_tweets_all}\")\n",
        "print(f\"Top 10 proportion: {top_10_proportion * 100}%\")\n",
        "\n",
        "print(player_offensive_tweet_map[['player','username', 'offensive_tweets_received']])"
      ],
      "execution_count": 23,
      "outputs": [
        {
          "output_type": "stream",
          "name": "stdout",
          "text": [
            "Total offensive tweets: 2736\n",
            "Top 10 proportion: 7.419590643274853%\n",
            "                    player         username offensive_tweets_received\n",
            "15               Nick Pope        Popey1992                         2\n",
            "20               Eric Dier         ericdier                        17\n",
            "0          Jordan Pickford       JPickford1                        21\n",
            "10         Kieran Trippier        trippier2                         8\n",
            "21         Kalvin Phillips   Kalvinphillips                         6\n",
            "16          Aaron Ramsdale  AaronRamsdale98                        20\n",
            "12          Benjamin White        ben6white                        27\n",
            "1              Kyle Walker      kylewalker2                        29\n",
            "17           Callum Wilson     CallumWilson                        25\n",
            "2                Luke Shaw       LukeShaw23                        48\n",
            "18  Trent Alexander-Arnold          TrentAA                        54\n",
            "8          Raheem Sterling        sterling7                       107\n",
            "19          James Maddison        Madders10                        65\n",
            "11              Phil Foden        PhilFoden                        62\n",
            "6         Jordan Henderson       JHenderson                       106\n",
            "3              Declan Rice      _DeclanRice                       158\n",
            "5            Jack Grealish     JackGrealish                       145\n",
            "4            Harry Maguire   HarryMaguire93                       196\n",
            "13             Bukayo Saka     BukayoSaka87                       235\n",
            "14         Jude Bellingham   BellinghamJude                       253\n",
            "9          Marcus Rashford   MarcusRashford                       314\n",
            "7               Harry Kane            HKane                      1273\n"
          ]
        }
      ]
    },
    {
      "cell_type": "code",
      "metadata": {
        "id": "0i2wT10-_Npt"
      },
      "source": [
        "# Saving a file for manual review, taken at threshold 90 - one-off ad-hoc task\n",
        "# joined_df[['tweet_id', 'tweet_text']][joined_df['persp_over_threshold'] == True].to_csv(\"/content/drive/MyDrive/University/Dissertation/evaluation/tweets_persp.csv\", index=False)\n",
        "\n",
        "# joined_df[['tweet_id', 'tweet_text']][joined_df['persp_over_threshold'] == False].sample(1000).to_csv(\"/content/drive/MyDrive/University/Dissertation/evaluation/inoffensive.csv\", index=False)"
      ],
      "execution_count": null,
      "outputs": []
    },
    {
      "cell_type": "code",
      "metadata": {
        "id": "ABQH2J8XZnXK"
      },
      "source": [
        "# Write to file in prep for regression\n",
        "tweets_regression_file = root_path + \"/regression_tweets.csv\"\n",
        "joined_df.to_csv(tweets_regression_file, index=False)"
      ],
      "execution_count": 24,
      "outputs": []
    },
    {
      "cell_type": "code",
      "source": [
        "player_offensive_tweet_map.head()"
      ],
      "metadata": {
        "id": "xX4A7gQtkjzv",
        "outputId": "73e83319-d04f-47b4-d0f9-23e2b2de617d",
        "colab": {
          "base_uri": "https://localhost:8080/",
          "height": 206
        }
      },
      "execution_count": 25,
      "outputs": [
        {
          "output_type": "execute_result",
          "data": {
            "text/plain": [
              "          username tweets_received offensive_tweets_received  \\\n",
              "15       Popey1992            1312                         2   \n",
              "20        ericdier            1769                        17   \n",
              "0       JPickford1            2119                        21   \n",
              "10       trippier2            2353                         8   \n",
              "21  Kalvinphillips            2482                         6   \n",
              "\n",
              "    percentage_offensive           player  \n",
              "15           0.152439024        Nick Pope  \n",
              "20           0.960994912        Eric Dier  \n",
              "0            0.991033506  Jordan Pickford  \n",
              "10           0.339991500  Kieran Trippier  \n",
              "21           0.241740532  Kalvin Phillips  "
            ],
            "text/html": [
              "\n",
              "  <div id=\"df-bf9935e8-38c8-4163-b4e3-01e7ca4db840\">\n",
              "    <div class=\"colab-df-container\">\n",
              "      <div>\n",
              "<style scoped>\n",
              "    .dataframe tbody tr th:only-of-type {\n",
              "        vertical-align: middle;\n",
              "    }\n",
              "\n",
              "    .dataframe tbody tr th {\n",
              "        vertical-align: top;\n",
              "    }\n",
              "\n",
              "    .dataframe thead th {\n",
              "        text-align: right;\n",
              "    }\n",
              "</style>\n",
              "<table border=\"1\" class=\"dataframe\">\n",
              "  <thead>\n",
              "    <tr style=\"text-align: right;\">\n",
              "      <th></th>\n",
              "      <th>username</th>\n",
              "      <th>tweets_received</th>\n",
              "      <th>offensive_tweets_received</th>\n",
              "      <th>percentage_offensive</th>\n",
              "      <th>player</th>\n",
              "    </tr>\n",
              "  </thead>\n",
              "  <tbody>\n",
              "    <tr>\n",
              "      <th>15</th>\n",
              "      <td>Popey1992</td>\n",
              "      <td>1312</td>\n",
              "      <td>2</td>\n",
              "      <td>0.152439024</td>\n",
              "      <td>Nick Pope</td>\n",
              "    </tr>\n",
              "    <tr>\n",
              "      <th>20</th>\n",
              "      <td>ericdier</td>\n",
              "      <td>1769</td>\n",
              "      <td>17</td>\n",
              "      <td>0.960994912</td>\n",
              "      <td>Eric Dier</td>\n",
              "    </tr>\n",
              "    <tr>\n",
              "      <th>0</th>\n",
              "      <td>JPickford1</td>\n",
              "      <td>2119</td>\n",
              "      <td>21</td>\n",
              "      <td>0.991033506</td>\n",
              "      <td>Jordan Pickford</td>\n",
              "    </tr>\n",
              "    <tr>\n",
              "      <th>10</th>\n",
              "      <td>trippier2</td>\n",
              "      <td>2353</td>\n",
              "      <td>8</td>\n",
              "      <td>0.339991500</td>\n",
              "      <td>Kieran Trippier</td>\n",
              "    </tr>\n",
              "    <tr>\n",
              "      <th>21</th>\n",
              "      <td>Kalvinphillips</td>\n",
              "      <td>2482</td>\n",
              "      <td>6</td>\n",
              "      <td>0.241740532</td>\n",
              "      <td>Kalvin Phillips</td>\n",
              "    </tr>\n",
              "  </tbody>\n",
              "</table>\n",
              "</div>\n",
              "      <button class=\"colab-df-convert\" onclick=\"convertToInteractive('df-bf9935e8-38c8-4163-b4e3-01e7ca4db840')\"\n",
              "              title=\"Convert this dataframe to an interactive table.\"\n",
              "              style=\"display:none;\">\n",
              "        \n",
              "  <svg xmlns=\"http://www.w3.org/2000/svg\" height=\"24px\"viewBox=\"0 0 24 24\"\n",
              "       width=\"24px\">\n",
              "    <path d=\"M0 0h24v24H0V0z\" fill=\"none\"/>\n",
              "    <path d=\"M18.56 5.44l.94 2.06.94-2.06 2.06-.94-2.06-.94-.94-2.06-.94 2.06-2.06.94zm-11 1L8.5 8.5l.94-2.06 2.06-.94-2.06-.94L8.5 2.5l-.94 2.06-2.06.94zm10 10l.94 2.06.94-2.06 2.06-.94-2.06-.94-.94-2.06-.94 2.06-2.06.94z\"/><path d=\"M17.41 7.96l-1.37-1.37c-.4-.4-.92-.59-1.43-.59-.52 0-1.04.2-1.43.59L10.3 9.45l-7.72 7.72c-.78.78-.78 2.05 0 2.83L4 21.41c.39.39.9.59 1.41.59.51 0 1.02-.2 1.41-.59l7.78-7.78 2.81-2.81c.8-.78.8-2.07 0-2.86zM5.41 20L4 18.59l7.72-7.72 1.47 1.35L5.41 20z\"/>\n",
              "  </svg>\n",
              "      </button>\n",
              "      \n",
              "  <style>\n",
              "    .colab-df-container {\n",
              "      display:flex;\n",
              "      flex-wrap:wrap;\n",
              "      gap: 12px;\n",
              "    }\n",
              "\n",
              "    .colab-df-convert {\n",
              "      background-color: #E8F0FE;\n",
              "      border: none;\n",
              "      border-radius: 50%;\n",
              "      cursor: pointer;\n",
              "      display: none;\n",
              "      fill: #1967D2;\n",
              "      height: 32px;\n",
              "      padding: 0 0 0 0;\n",
              "      width: 32px;\n",
              "    }\n",
              "\n",
              "    .colab-df-convert:hover {\n",
              "      background-color: #E2EBFA;\n",
              "      box-shadow: 0px 1px 2px rgba(60, 64, 67, 0.3), 0px 1px 3px 1px rgba(60, 64, 67, 0.15);\n",
              "      fill: #174EA6;\n",
              "    }\n",
              "\n",
              "    [theme=dark] .colab-df-convert {\n",
              "      background-color: #3B4455;\n",
              "      fill: #D2E3FC;\n",
              "    }\n",
              "\n",
              "    [theme=dark] .colab-df-convert:hover {\n",
              "      background-color: #434B5C;\n",
              "      box-shadow: 0px 1px 3px 1px rgba(0, 0, 0, 0.15);\n",
              "      filter: drop-shadow(0px 1px 2px rgba(0, 0, 0, 0.3));\n",
              "      fill: #FFFFFF;\n",
              "    }\n",
              "  </style>\n",
              "\n",
              "      <script>\n",
              "        const buttonEl =\n",
              "          document.querySelector('#df-bf9935e8-38c8-4163-b4e3-01e7ca4db840 button.colab-df-convert');\n",
              "        buttonEl.style.display =\n",
              "          google.colab.kernel.accessAllowed ? 'block' : 'none';\n",
              "\n",
              "        async function convertToInteractive(key) {\n",
              "          const element = document.querySelector('#df-bf9935e8-38c8-4163-b4e3-01e7ca4db840');\n",
              "          const dataTable =\n",
              "            await google.colab.kernel.invokeFunction('convertToInteractive',\n",
              "                                                     [key], {});\n",
              "          if (!dataTable) return;\n",
              "\n",
              "          const docLinkHtml = 'Like what you see? Visit the ' +\n",
              "            '<a target=\"_blank\" href=https://colab.research.google.com/notebooks/data_table.ipynb>data table notebook</a>'\n",
              "            + ' to learn more about interactive tables.';\n",
              "          element.innerHTML = '';\n",
              "          dataTable['output_type'] = 'display_data';\n",
              "          await google.colab.output.renderOutput(dataTable, element);\n",
              "          const docLink = document.createElement('div');\n",
              "          docLink.innerHTML = docLinkHtml;\n",
              "          element.appendChild(docLink);\n",
              "        }\n",
              "      </script>\n",
              "    </div>\n",
              "  </div>\n",
              "  "
            ]
          },
          "metadata": {},
          "execution_count": 25
        }
      ]
    },
    {
      "cell_type": "code",
      "source": [
        "fig = go.Figure(data=[\n",
        "    go.Bar(name='offensive', y=player_offensive_tweet_map.player, x=player_offensive_tweet_map.offensive_tweets_received, marker_color = \"darkred\", orientation = 'h'),\n",
        "    go.Bar(name='total', y=player_offensive_tweet_map.player, x=player_offensive_tweet_map.tweets_received, marker_color=\"lightgrey\", orientation = 'h')\n",
        "])\n",
        "# Change the bar mode\n",
        "fig.update_layout(barmode='stack')\n",
        "\n",
        "fig.show()"
      ],
      "metadata": {
        "id": "LBbRQPqRlA9E",
        "outputId": "5c50587d-cd55-42e7-c7c5-e24985204eb2",
        "colab": {
          "base_uri": "https://localhost:8080/",
          "height": 542
        }
      },
      "execution_count": 27,
      "outputs": [
        {
          "output_type": "display_data",
          "data": {
            "text/html": [
              "<html>\n",
              "<head><meta charset=\"utf-8\" /></head>\n",
              "<body>\n",
              "    <div>            <script src=\"https://cdnjs.cloudflare.com/ajax/libs/mathjax/2.7.5/MathJax.js?config=TeX-AMS-MML_SVG\"></script><script type=\"text/javascript\">if (window.MathJax) {MathJax.Hub.Config({SVG: {font: \"STIX-Web\"}});}</script>                <script type=\"text/javascript\">window.PlotlyConfig = {MathJaxConfig: 'local'};</script>\n",
              "        <script src=\"https://cdn.plot.ly/plotly-2.8.3.min.js\"></script>                <div id=\"e0bbe5a5-a2a2-4500-8c43-26dd20c0cc4f\" class=\"plotly-graph-div\" style=\"height:525px; width:100%;\"></div>            <script type=\"text/javascript\">                                    window.PLOTLYENV=window.PLOTLYENV || {};                                    if (document.getElementById(\"e0bbe5a5-a2a2-4500-8c43-26dd20c0cc4f\")) {                    Plotly.newPlot(                        \"e0bbe5a5-a2a2-4500-8c43-26dd20c0cc4f\",                        [{\"marker\":{\"color\":\"darkred\"},\"name\":\"offensive\",\"orientation\":\"h\",\"x\":[2,17,21,8,6,20,27,29,25,48,54,107,65,62,106,158,145,196,235,253,314,1273],\"y\":[\"Nick Pope\",\"Eric Dier\",\"Jordan Pickford\",\"Kieran Trippier\",\"Kalvin Phillips\",\"Aaron Ramsdale\",\"Benjamin White\",\"Kyle Walker\",\"Callum Wilson\",\"Luke Shaw\",\"Trent Alexander-Arnold\",\"Raheem Sterling\",\"James Maddison\",\"Phil Foden\",\"Jordan Henderson\",\"Declan Rice\",\"Jack Grealish\",\"Harry Maguire\",\"Bukayo Saka\",\"Jude Bellingham\",\"Marcus Rashford\",\"Harry Kane\"],\"type\":\"bar\"},{\"marker\":{\"color\":\"lightgrey\"},\"name\":\"total\",\"orientation\":\"h\",\"x\":[1312,1769,2119,2353,2482,4056,4203,4972,5318,9000,10715,12644,13597,13621,14932,16467,20944,29457,31414,44682,47805,74608],\"y\":[\"Nick Pope\",\"Eric Dier\",\"Jordan Pickford\",\"Kieran Trippier\",\"Kalvin Phillips\",\"Aaron Ramsdale\",\"Benjamin White\",\"Kyle Walker\",\"Callum Wilson\",\"Luke Shaw\",\"Trent Alexander-Arnold\",\"Raheem Sterling\",\"James Maddison\",\"Phil Foden\",\"Jordan Henderson\",\"Declan Rice\",\"Jack Grealish\",\"Harry Maguire\",\"Bukayo Saka\",\"Jude Bellingham\",\"Marcus Rashford\",\"Harry Kane\"],\"type\":\"bar\"}],                        {\"template\":{\"data\":{\"bar\":[{\"error_x\":{\"color\":\"#2a3f5f\"},\"error_y\":{\"color\":\"#2a3f5f\"},\"marker\":{\"line\":{\"color\":\"#E5ECF6\",\"width\":0.5},\"pattern\":{\"fillmode\":\"overlay\",\"size\":10,\"solidity\":0.2}},\"type\":\"bar\"}],\"barpolar\":[{\"marker\":{\"line\":{\"color\":\"#E5ECF6\",\"width\":0.5},\"pattern\":{\"fillmode\":\"overlay\",\"size\":10,\"solidity\":0.2}},\"type\":\"barpolar\"}],\"carpet\":[{\"aaxis\":{\"endlinecolor\":\"#2a3f5f\",\"gridcolor\":\"white\",\"linecolor\":\"white\",\"minorgridcolor\":\"white\",\"startlinecolor\":\"#2a3f5f\"},\"baxis\":{\"endlinecolor\":\"#2a3f5f\",\"gridcolor\":\"white\",\"linecolor\":\"white\",\"minorgridcolor\":\"white\",\"startlinecolor\":\"#2a3f5f\"},\"type\":\"carpet\"}],\"choropleth\":[{\"colorbar\":{\"outlinewidth\":0,\"ticks\":\"\"},\"type\":\"choropleth\"}],\"contour\":[{\"colorbar\":{\"outlinewidth\":0,\"ticks\":\"\"},\"colorscale\":[[0.0,\"#0d0887\"],[0.1111111111111111,\"#46039f\"],[0.2222222222222222,\"#7201a8\"],[0.3333333333333333,\"#9c179e\"],[0.4444444444444444,\"#bd3786\"],[0.5555555555555556,\"#d8576b\"],[0.6666666666666666,\"#ed7953\"],[0.7777777777777778,\"#fb9f3a\"],[0.8888888888888888,\"#fdca26\"],[1.0,\"#f0f921\"]],\"type\":\"contour\"}],\"contourcarpet\":[{\"colorbar\":{\"outlinewidth\":0,\"ticks\":\"\"},\"type\":\"contourcarpet\"}],\"heatmap\":[{\"colorbar\":{\"outlinewidth\":0,\"ticks\":\"\"},\"colorscale\":[[0.0,\"#0d0887\"],[0.1111111111111111,\"#46039f\"],[0.2222222222222222,\"#7201a8\"],[0.3333333333333333,\"#9c179e\"],[0.4444444444444444,\"#bd3786\"],[0.5555555555555556,\"#d8576b\"],[0.6666666666666666,\"#ed7953\"],[0.7777777777777778,\"#fb9f3a\"],[0.8888888888888888,\"#fdca26\"],[1.0,\"#f0f921\"]],\"type\":\"heatmap\"}],\"heatmapgl\":[{\"colorbar\":{\"outlinewidth\":0,\"ticks\":\"\"},\"colorscale\":[[0.0,\"#0d0887\"],[0.1111111111111111,\"#46039f\"],[0.2222222222222222,\"#7201a8\"],[0.3333333333333333,\"#9c179e\"],[0.4444444444444444,\"#bd3786\"],[0.5555555555555556,\"#d8576b\"],[0.6666666666666666,\"#ed7953\"],[0.7777777777777778,\"#fb9f3a\"],[0.8888888888888888,\"#fdca26\"],[1.0,\"#f0f921\"]],\"type\":\"heatmapgl\"}],\"histogram\":[{\"marker\":{\"pattern\":{\"fillmode\":\"overlay\",\"size\":10,\"solidity\":0.2}},\"type\":\"histogram\"}],\"histogram2d\":[{\"colorbar\":{\"outlinewidth\":0,\"ticks\":\"\"},\"colorscale\":[[0.0,\"#0d0887\"],[0.1111111111111111,\"#46039f\"],[0.2222222222222222,\"#7201a8\"],[0.3333333333333333,\"#9c179e\"],[0.4444444444444444,\"#bd3786\"],[0.5555555555555556,\"#d8576b\"],[0.6666666666666666,\"#ed7953\"],[0.7777777777777778,\"#fb9f3a\"],[0.8888888888888888,\"#fdca26\"],[1.0,\"#f0f921\"]],\"type\":\"histogram2d\"}],\"histogram2dcontour\":[{\"colorbar\":{\"outlinewidth\":0,\"ticks\":\"\"},\"colorscale\":[[0.0,\"#0d0887\"],[0.1111111111111111,\"#46039f\"],[0.2222222222222222,\"#7201a8\"],[0.3333333333333333,\"#9c179e\"],[0.4444444444444444,\"#bd3786\"],[0.5555555555555556,\"#d8576b\"],[0.6666666666666666,\"#ed7953\"],[0.7777777777777778,\"#fb9f3a\"],[0.8888888888888888,\"#fdca26\"],[1.0,\"#f0f921\"]],\"type\":\"histogram2dcontour\"}],\"mesh3d\":[{\"colorbar\":{\"outlinewidth\":0,\"ticks\":\"\"},\"type\":\"mesh3d\"}],\"parcoords\":[{\"line\":{\"colorbar\":{\"outlinewidth\":0,\"ticks\":\"\"}},\"type\":\"parcoords\"}],\"pie\":[{\"automargin\":true,\"type\":\"pie\"}],\"scatter\":[{\"marker\":{\"colorbar\":{\"outlinewidth\":0,\"ticks\":\"\"}},\"type\":\"scatter\"}],\"scatter3d\":[{\"line\":{\"colorbar\":{\"outlinewidth\":0,\"ticks\":\"\"}},\"marker\":{\"colorbar\":{\"outlinewidth\":0,\"ticks\":\"\"}},\"type\":\"scatter3d\"}],\"scattercarpet\":[{\"marker\":{\"colorbar\":{\"outlinewidth\":0,\"ticks\":\"\"}},\"type\":\"scattercarpet\"}],\"scattergeo\":[{\"marker\":{\"colorbar\":{\"outlinewidth\":0,\"ticks\":\"\"}},\"type\":\"scattergeo\"}],\"scattergl\":[{\"marker\":{\"colorbar\":{\"outlinewidth\":0,\"ticks\":\"\"}},\"type\":\"scattergl\"}],\"scattermapbox\":[{\"marker\":{\"colorbar\":{\"outlinewidth\":0,\"ticks\":\"\"}},\"type\":\"scattermapbox\"}],\"scatterpolar\":[{\"marker\":{\"colorbar\":{\"outlinewidth\":0,\"ticks\":\"\"}},\"type\":\"scatterpolar\"}],\"scatterpolargl\":[{\"marker\":{\"colorbar\":{\"outlinewidth\":0,\"ticks\":\"\"}},\"type\":\"scatterpolargl\"}],\"scatterternary\":[{\"marker\":{\"colorbar\":{\"outlinewidth\":0,\"ticks\":\"\"}},\"type\":\"scatterternary\"}],\"surface\":[{\"colorbar\":{\"outlinewidth\":0,\"ticks\":\"\"},\"colorscale\":[[0.0,\"#0d0887\"],[0.1111111111111111,\"#46039f\"],[0.2222222222222222,\"#7201a8\"],[0.3333333333333333,\"#9c179e\"],[0.4444444444444444,\"#bd3786\"],[0.5555555555555556,\"#d8576b\"],[0.6666666666666666,\"#ed7953\"],[0.7777777777777778,\"#fb9f3a\"],[0.8888888888888888,\"#fdca26\"],[1.0,\"#f0f921\"]],\"type\":\"surface\"}],\"table\":[{\"cells\":{\"fill\":{\"color\":\"#EBF0F8\"},\"line\":{\"color\":\"white\"}},\"header\":{\"fill\":{\"color\":\"#C8D4E3\"},\"line\":{\"color\":\"white\"}},\"type\":\"table\"}]},\"layout\":{\"annotationdefaults\":{\"arrowcolor\":\"#2a3f5f\",\"arrowhead\":0,\"arrowwidth\":1},\"autotypenumbers\":\"strict\",\"coloraxis\":{\"colorbar\":{\"outlinewidth\":0,\"ticks\":\"\"}},\"colorscale\":{\"diverging\":[[0,\"#8e0152\"],[0.1,\"#c51b7d\"],[0.2,\"#de77ae\"],[0.3,\"#f1b6da\"],[0.4,\"#fde0ef\"],[0.5,\"#f7f7f7\"],[0.6,\"#e6f5d0\"],[0.7,\"#b8e186\"],[0.8,\"#7fbc41\"],[0.9,\"#4d9221\"],[1,\"#276419\"]],\"sequential\":[[0.0,\"#0d0887\"],[0.1111111111111111,\"#46039f\"],[0.2222222222222222,\"#7201a8\"],[0.3333333333333333,\"#9c179e\"],[0.4444444444444444,\"#bd3786\"],[0.5555555555555556,\"#d8576b\"],[0.6666666666666666,\"#ed7953\"],[0.7777777777777778,\"#fb9f3a\"],[0.8888888888888888,\"#fdca26\"],[1.0,\"#f0f921\"]],\"sequentialminus\":[[0.0,\"#0d0887\"],[0.1111111111111111,\"#46039f\"],[0.2222222222222222,\"#7201a8\"],[0.3333333333333333,\"#9c179e\"],[0.4444444444444444,\"#bd3786\"],[0.5555555555555556,\"#d8576b\"],[0.6666666666666666,\"#ed7953\"],[0.7777777777777778,\"#fb9f3a\"],[0.8888888888888888,\"#fdca26\"],[1.0,\"#f0f921\"]]},\"colorway\":[\"#636efa\",\"#EF553B\",\"#00cc96\",\"#ab63fa\",\"#FFA15A\",\"#19d3f3\",\"#FF6692\",\"#B6E880\",\"#FF97FF\",\"#FECB52\"],\"font\":{\"color\":\"#2a3f5f\"},\"geo\":{\"bgcolor\":\"white\",\"lakecolor\":\"white\",\"landcolor\":\"#E5ECF6\",\"showlakes\":true,\"showland\":true,\"subunitcolor\":\"white\"},\"hoverlabel\":{\"align\":\"left\"},\"hovermode\":\"closest\",\"mapbox\":{\"style\":\"light\"},\"paper_bgcolor\":\"white\",\"plot_bgcolor\":\"#E5ECF6\",\"polar\":{\"angularaxis\":{\"gridcolor\":\"white\",\"linecolor\":\"white\",\"ticks\":\"\"},\"bgcolor\":\"#E5ECF6\",\"radialaxis\":{\"gridcolor\":\"white\",\"linecolor\":\"white\",\"ticks\":\"\"}},\"scene\":{\"xaxis\":{\"backgroundcolor\":\"#E5ECF6\",\"gridcolor\":\"white\",\"gridwidth\":2,\"linecolor\":\"white\",\"showbackground\":true,\"ticks\":\"\",\"zerolinecolor\":\"white\"},\"yaxis\":{\"backgroundcolor\":\"#E5ECF6\",\"gridcolor\":\"white\",\"gridwidth\":2,\"linecolor\":\"white\",\"showbackground\":true,\"ticks\":\"\",\"zerolinecolor\":\"white\"},\"zaxis\":{\"backgroundcolor\":\"#E5ECF6\",\"gridcolor\":\"white\",\"gridwidth\":2,\"linecolor\":\"white\",\"showbackground\":true,\"ticks\":\"\",\"zerolinecolor\":\"white\"}},\"shapedefaults\":{\"line\":{\"color\":\"#2a3f5f\"}},\"ternary\":{\"aaxis\":{\"gridcolor\":\"white\",\"linecolor\":\"white\",\"ticks\":\"\"},\"baxis\":{\"gridcolor\":\"white\",\"linecolor\":\"white\",\"ticks\":\"\"},\"bgcolor\":\"#E5ECF6\",\"caxis\":{\"gridcolor\":\"white\",\"linecolor\":\"white\",\"ticks\":\"\"}},\"title\":{\"x\":0.05},\"xaxis\":{\"automargin\":true,\"gridcolor\":\"white\",\"linecolor\":\"white\",\"ticks\":\"\",\"title\":{\"standoff\":15},\"zerolinecolor\":\"white\",\"zerolinewidth\":2},\"yaxis\":{\"automargin\":true,\"gridcolor\":\"white\",\"linecolor\":\"white\",\"ticks\":\"\",\"title\":{\"standoff\":15},\"zerolinecolor\":\"white\",\"zerolinewidth\":2}}},\"barmode\":\"stack\"},                        {\"responsive\": true}                    ).then(function(){\n",
              "                            \n",
              "var gd = document.getElementById('e0bbe5a5-a2a2-4500-8c43-26dd20c0cc4f');\n",
              "var x = new MutationObserver(function (mutations, observer) {{\n",
              "        var display = window.getComputedStyle(gd).display;\n",
              "        if (!display || display === 'none') {{\n",
              "            console.log([gd, 'removed!']);\n",
              "            Plotly.purge(gd);\n",
              "            observer.disconnect();\n",
              "        }}\n",
              "}});\n",
              "\n",
              "// Listen for the removal of the full notebook cells\n",
              "var notebookContainer = gd.closest('#notebook-container');\n",
              "if (notebookContainer) {{\n",
              "    x.observe(notebookContainer, {childList: true});\n",
              "}}\n",
              "\n",
              "// Listen for the clearing of the current output cell\n",
              "var outputEl = gd.closest('.output');\n",
              "if (outputEl) {{\n",
              "    x.observe(outputEl, {childList: true});\n",
              "}}\n",
              "\n",
              "                        })                };                            </script>        </div>\n",
              "</body>\n",
              "</html>"
            ]
          },
          "metadata": {}
        }
      ]
    },
    {
      "cell_type": "code",
      "source": [
        "fig = go.Figure(data=[\n",
        "    go.Bar(name='offensive', y=player_offensive_tweet_map.player, x=player_offensive_tweet_map.offensive_tweets_received, marker_color = \"darkred\", orientation = 'h'),\n",
        "    go.Bar(name='total', y=player_offensive_tweet_map.player, x=player_offensive_tweet_map.tweets_received, marker_color=\"lightgrey\", orientation = 'h')\n",
        "])\n",
        "# Change the bar mode\n",
        "fig.update_layout(barmode='stack')\n",
        "fig.update_xaxes(type=\"log\")\n",
        "\n",
        "fig.show()"
      ],
      "metadata": {
        "id": "6iBYDAMAQzze",
        "outputId": "0bcb6464-89ca-414d-d0eb-b0989e9540ad",
        "colab": {
          "base_uri": "https://localhost:8080/",
          "height": 542
        }
      },
      "execution_count": 28,
      "outputs": [
        {
          "output_type": "display_data",
          "data": {
            "text/html": [
              "<html>\n",
              "<head><meta charset=\"utf-8\" /></head>\n",
              "<body>\n",
              "    <div>            <script src=\"https://cdnjs.cloudflare.com/ajax/libs/mathjax/2.7.5/MathJax.js?config=TeX-AMS-MML_SVG\"></script><script type=\"text/javascript\">if (window.MathJax) {MathJax.Hub.Config({SVG: {font: \"STIX-Web\"}});}</script>                <script type=\"text/javascript\">window.PlotlyConfig = {MathJaxConfig: 'local'};</script>\n",
              "        <script src=\"https://cdn.plot.ly/plotly-2.8.3.min.js\"></script>                <div id=\"e7ebd32c-554a-42a1-8022-02df24c490eb\" class=\"plotly-graph-div\" style=\"height:525px; width:100%;\"></div>            <script type=\"text/javascript\">                                    window.PLOTLYENV=window.PLOTLYENV || {};                                    if (document.getElementById(\"e7ebd32c-554a-42a1-8022-02df24c490eb\")) {                    Plotly.newPlot(                        \"e7ebd32c-554a-42a1-8022-02df24c490eb\",                        [{\"marker\":{\"color\":\"darkred\"},\"name\":\"offensive\",\"orientation\":\"h\",\"x\":[2,17,21,8,6,20,27,29,25,48,54,107,65,62,106,158,145,196,235,253,314,1273],\"y\":[\"Nick Pope\",\"Eric Dier\",\"Jordan Pickford\",\"Kieran Trippier\",\"Kalvin Phillips\",\"Aaron Ramsdale\",\"Benjamin White\",\"Kyle Walker\",\"Callum Wilson\",\"Luke Shaw\",\"Trent Alexander-Arnold\",\"Raheem Sterling\",\"James Maddison\",\"Phil Foden\",\"Jordan Henderson\",\"Declan Rice\",\"Jack Grealish\",\"Harry Maguire\",\"Bukayo Saka\",\"Jude Bellingham\",\"Marcus Rashford\",\"Harry Kane\"],\"type\":\"bar\"},{\"marker\":{\"color\":\"lightgrey\"},\"name\":\"total\",\"orientation\":\"h\",\"x\":[1312,1769,2119,2353,2482,4056,4203,4972,5318,9000,10715,12644,13597,13621,14932,16467,20944,29457,31414,44682,47805,74608],\"y\":[\"Nick Pope\",\"Eric Dier\",\"Jordan Pickford\",\"Kieran Trippier\",\"Kalvin Phillips\",\"Aaron Ramsdale\",\"Benjamin White\",\"Kyle Walker\",\"Callum Wilson\",\"Luke Shaw\",\"Trent Alexander-Arnold\",\"Raheem Sterling\",\"James Maddison\",\"Phil Foden\",\"Jordan Henderson\",\"Declan Rice\",\"Jack Grealish\",\"Harry Maguire\",\"Bukayo Saka\",\"Jude Bellingham\",\"Marcus Rashford\",\"Harry Kane\"],\"type\":\"bar\"}],                        {\"template\":{\"data\":{\"bar\":[{\"error_x\":{\"color\":\"#2a3f5f\"},\"error_y\":{\"color\":\"#2a3f5f\"},\"marker\":{\"line\":{\"color\":\"#E5ECF6\",\"width\":0.5},\"pattern\":{\"fillmode\":\"overlay\",\"size\":10,\"solidity\":0.2}},\"type\":\"bar\"}],\"barpolar\":[{\"marker\":{\"line\":{\"color\":\"#E5ECF6\",\"width\":0.5},\"pattern\":{\"fillmode\":\"overlay\",\"size\":10,\"solidity\":0.2}},\"type\":\"barpolar\"}],\"carpet\":[{\"aaxis\":{\"endlinecolor\":\"#2a3f5f\",\"gridcolor\":\"white\",\"linecolor\":\"white\",\"minorgridcolor\":\"white\",\"startlinecolor\":\"#2a3f5f\"},\"baxis\":{\"endlinecolor\":\"#2a3f5f\",\"gridcolor\":\"white\",\"linecolor\":\"white\",\"minorgridcolor\":\"white\",\"startlinecolor\":\"#2a3f5f\"},\"type\":\"carpet\"}],\"choropleth\":[{\"colorbar\":{\"outlinewidth\":0,\"ticks\":\"\"},\"type\":\"choropleth\"}],\"contour\":[{\"colorbar\":{\"outlinewidth\":0,\"ticks\":\"\"},\"colorscale\":[[0.0,\"#0d0887\"],[0.1111111111111111,\"#46039f\"],[0.2222222222222222,\"#7201a8\"],[0.3333333333333333,\"#9c179e\"],[0.4444444444444444,\"#bd3786\"],[0.5555555555555556,\"#d8576b\"],[0.6666666666666666,\"#ed7953\"],[0.7777777777777778,\"#fb9f3a\"],[0.8888888888888888,\"#fdca26\"],[1.0,\"#f0f921\"]],\"type\":\"contour\"}],\"contourcarpet\":[{\"colorbar\":{\"outlinewidth\":0,\"ticks\":\"\"},\"type\":\"contourcarpet\"}],\"heatmap\":[{\"colorbar\":{\"outlinewidth\":0,\"ticks\":\"\"},\"colorscale\":[[0.0,\"#0d0887\"],[0.1111111111111111,\"#46039f\"],[0.2222222222222222,\"#7201a8\"],[0.3333333333333333,\"#9c179e\"],[0.4444444444444444,\"#bd3786\"],[0.5555555555555556,\"#d8576b\"],[0.6666666666666666,\"#ed7953\"],[0.7777777777777778,\"#fb9f3a\"],[0.8888888888888888,\"#fdca26\"],[1.0,\"#f0f921\"]],\"type\":\"heatmap\"}],\"heatmapgl\":[{\"colorbar\":{\"outlinewidth\":0,\"ticks\":\"\"},\"colorscale\":[[0.0,\"#0d0887\"],[0.1111111111111111,\"#46039f\"],[0.2222222222222222,\"#7201a8\"],[0.3333333333333333,\"#9c179e\"],[0.4444444444444444,\"#bd3786\"],[0.5555555555555556,\"#d8576b\"],[0.6666666666666666,\"#ed7953\"],[0.7777777777777778,\"#fb9f3a\"],[0.8888888888888888,\"#fdca26\"],[1.0,\"#f0f921\"]],\"type\":\"heatmapgl\"}],\"histogram\":[{\"marker\":{\"pattern\":{\"fillmode\":\"overlay\",\"size\":10,\"solidity\":0.2}},\"type\":\"histogram\"}],\"histogram2d\":[{\"colorbar\":{\"outlinewidth\":0,\"ticks\":\"\"},\"colorscale\":[[0.0,\"#0d0887\"],[0.1111111111111111,\"#46039f\"],[0.2222222222222222,\"#7201a8\"],[0.3333333333333333,\"#9c179e\"],[0.4444444444444444,\"#bd3786\"],[0.5555555555555556,\"#d8576b\"],[0.6666666666666666,\"#ed7953\"],[0.7777777777777778,\"#fb9f3a\"],[0.8888888888888888,\"#fdca26\"],[1.0,\"#f0f921\"]],\"type\":\"histogram2d\"}],\"histogram2dcontour\":[{\"colorbar\":{\"outlinewidth\":0,\"ticks\":\"\"},\"colorscale\":[[0.0,\"#0d0887\"],[0.1111111111111111,\"#46039f\"],[0.2222222222222222,\"#7201a8\"],[0.3333333333333333,\"#9c179e\"],[0.4444444444444444,\"#bd3786\"],[0.5555555555555556,\"#d8576b\"],[0.6666666666666666,\"#ed7953\"],[0.7777777777777778,\"#fb9f3a\"],[0.8888888888888888,\"#fdca26\"],[1.0,\"#f0f921\"]],\"type\":\"histogram2dcontour\"}],\"mesh3d\":[{\"colorbar\":{\"outlinewidth\":0,\"ticks\":\"\"},\"type\":\"mesh3d\"}],\"parcoords\":[{\"line\":{\"colorbar\":{\"outlinewidth\":0,\"ticks\":\"\"}},\"type\":\"parcoords\"}],\"pie\":[{\"automargin\":true,\"type\":\"pie\"}],\"scatter\":[{\"marker\":{\"colorbar\":{\"outlinewidth\":0,\"ticks\":\"\"}},\"type\":\"scatter\"}],\"scatter3d\":[{\"line\":{\"colorbar\":{\"outlinewidth\":0,\"ticks\":\"\"}},\"marker\":{\"colorbar\":{\"outlinewidth\":0,\"ticks\":\"\"}},\"type\":\"scatter3d\"}],\"scattercarpet\":[{\"marker\":{\"colorbar\":{\"outlinewidth\":0,\"ticks\":\"\"}},\"type\":\"scattercarpet\"}],\"scattergeo\":[{\"marker\":{\"colorbar\":{\"outlinewidth\":0,\"ticks\":\"\"}},\"type\":\"scattergeo\"}],\"scattergl\":[{\"marker\":{\"colorbar\":{\"outlinewidth\":0,\"ticks\":\"\"}},\"type\":\"scattergl\"}],\"scattermapbox\":[{\"marker\":{\"colorbar\":{\"outlinewidth\":0,\"ticks\":\"\"}},\"type\":\"scattermapbox\"}],\"scatterpolar\":[{\"marker\":{\"colorbar\":{\"outlinewidth\":0,\"ticks\":\"\"}},\"type\":\"scatterpolar\"}],\"scatterpolargl\":[{\"marker\":{\"colorbar\":{\"outlinewidth\":0,\"ticks\":\"\"}},\"type\":\"scatterpolargl\"}],\"scatterternary\":[{\"marker\":{\"colorbar\":{\"outlinewidth\":0,\"ticks\":\"\"}},\"type\":\"scatterternary\"}],\"surface\":[{\"colorbar\":{\"outlinewidth\":0,\"ticks\":\"\"},\"colorscale\":[[0.0,\"#0d0887\"],[0.1111111111111111,\"#46039f\"],[0.2222222222222222,\"#7201a8\"],[0.3333333333333333,\"#9c179e\"],[0.4444444444444444,\"#bd3786\"],[0.5555555555555556,\"#d8576b\"],[0.6666666666666666,\"#ed7953\"],[0.7777777777777778,\"#fb9f3a\"],[0.8888888888888888,\"#fdca26\"],[1.0,\"#f0f921\"]],\"type\":\"surface\"}],\"table\":[{\"cells\":{\"fill\":{\"color\":\"#EBF0F8\"},\"line\":{\"color\":\"white\"}},\"header\":{\"fill\":{\"color\":\"#C8D4E3\"},\"line\":{\"color\":\"white\"}},\"type\":\"table\"}]},\"layout\":{\"annotationdefaults\":{\"arrowcolor\":\"#2a3f5f\",\"arrowhead\":0,\"arrowwidth\":1},\"autotypenumbers\":\"strict\",\"coloraxis\":{\"colorbar\":{\"outlinewidth\":0,\"ticks\":\"\"}},\"colorscale\":{\"diverging\":[[0,\"#8e0152\"],[0.1,\"#c51b7d\"],[0.2,\"#de77ae\"],[0.3,\"#f1b6da\"],[0.4,\"#fde0ef\"],[0.5,\"#f7f7f7\"],[0.6,\"#e6f5d0\"],[0.7,\"#b8e186\"],[0.8,\"#7fbc41\"],[0.9,\"#4d9221\"],[1,\"#276419\"]],\"sequential\":[[0.0,\"#0d0887\"],[0.1111111111111111,\"#46039f\"],[0.2222222222222222,\"#7201a8\"],[0.3333333333333333,\"#9c179e\"],[0.4444444444444444,\"#bd3786\"],[0.5555555555555556,\"#d8576b\"],[0.6666666666666666,\"#ed7953\"],[0.7777777777777778,\"#fb9f3a\"],[0.8888888888888888,\"#fdca26\"],[1.0,\"#f0f921\"]],\"sequentialminus\":[[0.0,\"#0d0887\"],[0.1111111111111111,\"#46039f\"],[0.2222222222222222,\"#7201a8\"],[0.3333333333333333,\"#9c179e\"],[0.4444444444444444,\"#bd3786\"],[0.5555555555555556,\"#d8576b\"],[0.6666666666666666,\"#ed7953\"],[0.7777777777777778,\"#fb9f3a\"],[0.8888888888888888,\"#fdca26\"],[1.0,\"#f0f921\"]]},\"colorway\":[\"#636efa\",\"#EF553B\",\"#00cc96\",\"#ab63fa\",\"#FFA15A\",\"#19d3f3\",\"#FF6692\",\"#B6E880\",\"#FF97FF\",\"#FECB52\"],\"font\":{\"color\":\"#2a3f5f\"},\"geo\":{\"bgcolor\":\"white\",\"lakecolor\":\"white\",\"landcolor\":\"#E5ECF6\",\"showlakes\":true,\"showland\":true,\"subunitcolor\":\"white\"},\"hoverlabel\":{\"align\":\"left\"},\"hovermode\":\"closest\",\"mapbox\":{\"style\":\"light\"},\"paper_bgcolor\":\"white\",\"plot_bgcolor\":\"#E5ECF6\",\"polar\":{\"angularaxis\":{\"gridcolor\":\"white\",\"linecolor\":\"white\",\"ticks\":\"\"},\"bgcolor\":\"#E5ECF6\",\"radialaxis\":{\"gridcolor\":\"white\",\"linecolor\":\"white\",\"ticks\":\"\"}},\"scene\":{\"xaxis\":{\"backgroundcolor\":\"#E5ECF6\",\"gridcolor\":\"white\",\"gridwidth\":2,\"linecolor\":\"white\",\"showbackground\":true,\"ticks\":\"\",\"zerolinecolor\":\"white\"},\"yaxis\":{\"backgroundcolor\":\"#E5ECF6\",\"gridcolor\":\"white\",\"gridwidth\":2,\"linecolor\":\"white\",\"showbackground\":true,\"ticks\":\"\",\"zerolinecolor\":\"white\"},\"zaxis\":{\"backgroundcolor\":\"#E5ECF6\",\"gridcolor\":\"white\",\"gridwidth\":2,\"linecolor\":\"white\",\"showbackground\":true,\"ticks\":\"\",\"zerolinecolor\":\"white\"}},\"shapedefaults\":{\"line\":{\"color\":\"#2a3f5f\"}},\"ternary\":{\"aaxis\":{\"gridcolor\":\"white\",\"linecolor\":\"white\",\"ticks\":\"\"},\"baxis\":{\"gridcolor\":\"white\",\"linecolor\":\"white\",\"ticks\":\"\"},\"bgcolor\":\"#E5ECF6\",\"caxis\":{\"gridcolor\":\"white\",\"linecolor\":\"white\",\"ticks\":\"\"}},\"title\":{\"x\":0.05},\"xaxis\":{\"automargin\":true,\"gridcolor\":\"white\",\"linecolor\":\"white\",\"ticks\":\"\",\"title\":{\"standoff\":15},\"zerolinecolor\":\"white\",\"zerolinewidth\":2},\"yaxis\":{\"automargin\":true,\"gridcolor\":\"white\",\"linecolor\":\"white\",\"ticks\":\"\",\"title\":{\"standoff\":15},\"zerolinecolor\":\"white\",\"zerolinewidth\":2}}},\"barmode\":\"stack\",\"xaxis\":{\"type\":\"log\"}},                        {\"responsive\": true}                    ).then(function(){\n",
              "                            \n",
              "var gd = document.getElementById('e7ebd32c-554a-42a1-8022-02df24c490eb');\n",
              "var x = new MutationObserver(function (mutations, observer) {{\n",
              "        var display = window.getComputedStyle(gd).display;\n",
              "        if (!display || display === 'none') {{\n",
              "            console.log([gd, 'removed!']);\n",
              "            Plotly.purge(gd);\n",
              "            observer.disconnect();\n",
              "        }}\n",
              "}});\n",
              "\n",
              "// Listen for the removal of the full notebook cells\n",
              "var notebookContainer = gd.closest('#notebook-container');\n",
              "if (notebookContainer) {{\n",
              "    x.observe(notebookContainer, {childList: true});\n",
              "}}\n",
              "\n",
              "// Listen for the clearing of the current output cell\n",
              "var outputEl = gd.closest('.output');\n",
              "if (outputEl) {{\n",
              "    x.observe(outputEl, {childList: true});\n",
              "}}\n",
              "\n",
              "                        })                };                            </script>        </div>\n",
              "</body>\n",
              "</html>"
            ]
          },
          "metadata": {}
        }
      ]
    },
    {
      "cell_type": "markdown",
      "metadata": {
        "id": "5AbMCCG1ZkAB"
      },
      "source": [
        "# Figures"
      ]
    },
    {
      "cell_type": "code",
      "metadata": {
        "id": "LRt_FqRIPzzR"
      },
      "source": [
        "def create_frequency_plot(df, y_values):\n",
        "    fig = go.Figure()\n",
        "    for y_value in y_values:\n",
        "        fig.add_trace(go.Scatter(x=df['created_at'], y=df[y_value],\n",
        "                      mode='lines',\n",
        "                      name=y_value))\n",
        "    return fig"
      ],
      "execution_count": 29,
      "outputs": []
    },
    {
      "cell_type": "code",
      "metadata": {
        "id": "7BafaxKlP6C0"
      },
      "source": [
        "INTERVAL = pd.offsets.Minute(60)"
      ],
      "execution_count": 30,
      "outputs": []
    },
    {
      "cell_type": "code",
      "metadata": {
        "colab": {
          "base_uri": "https://localhost:8080/",
          "height": 542
        },
        "id": "p572inFRP1UZ",
        "outputId": "79ab520e-b753-442b-fa76-13bf83b6599e"
      },
      "source": [
        "# Plot all tweets frequency\n",
        "df = joined_df.resample(INTERVAL, on='created_at')['tweet_id'].count().reset_index()\n",
        "fig = create_frequency_plot(df, ['tweet_id'])\n",
        "fig.show()"
      ],
      "execution_count": 31,
      "outputs": [
        {
          "output_type": "display_data",
          "data": {
            "text/html": [
              "<html>\n",
              "<head><meta charset=\"utf-8\" /></head>\n",
              "<body>\n",
              "    <div>            <script src=\"https://cdnjs.cloudflare.com/ajax/libs/mathjax/2.7.5/MathJax.js?config=TeX-AMS-MML_SVG\"></script><script type=\"text/javascript\">if (window.MathJax) {MathJax.Hub.Config({SVG: {font: \"STIX-Web\"}});}</script>                <script type=\"text/javascript\">window.PlotlyConfig = {MathJaxConfig: 'local'};</script>\n",
              "        <script src=\"https://cdn.plot.ly/plotly-2.8.3.min.js\"></script>                <div id=\"2c642430-ddb3-4a67-a882-3f09f87a0f1d\" class=\"plotly-graph-div\" style=\"height:525px; width:100%;\"></div>            <script type=\"text/javascript\">                                    window.PLOTLYENV=window.PLOTLYENV || {};                                    if (document.getElementById(\"2c642430-ddb3-4a67-a882-3f09f87a0f1d\")) {                    Plotly.newPlot(                        \"2c642430-ddb3-4a67-a882-3f09f87a0f1d\",                        [{\"mode\":\"lines\",\"name\":\"tweet_id\",\"x\":[\"2022-11-10T11:00:00+00:00\",\"2022-11-10T12:00:00+00:00\",\"2022-11-10T13:00:00+00:00\",\"2022-11-10T14:00:00+00:00\",\"2022-11-10T15:00:00+00:00\",\"2022-11-10T16:00:00+00:00\",\"2022-11-10T17:00:00+00:00\",\"2022-11-10T18:00:00+00:00\",\"2022-11-10T19:00:00+00:00\",\"2022-11-10T20:00:00+00:00\",\"2022-11-10T21:00:00+00:00\",\"2022-11-10T22:00:00+00:00\",\"2022-11-10T23:00:00+00:00\",\"2022-11-11T00:00:00+00:00\",\"2022-11-11T01:00:00+00:00\",\"2022-11-11T02:00:00+00:00\",\"2022-11-11T03:00:00+00:00\",\"2022-11-11T04:00:00+00:00\",\"2022-11-11T05:00:00+00:00\",\"2022-11-11T06:00:00+00:00\",\"2022-11-11T07:00:00+00:00\",\"2022-11-11T08:00:00+00:00\",\"2022-11-11T09:00:00+00:00\",\"2022-11-11T10:00:00+00:00\",\"2022-11-11T11:00:00+00:00\",\"2022-11-11T12:00:00+00:00\",\"2022-11-11T13:00:00+00:00\",\"2022-11-11T14:00:00+00:00\",\"2022-11-11T15:00:00+00:00\",\"2022-11-11T16:00:00+00:00\",\"2022-11-11T17:00:00+00:00\",\"2022-11-11T18:00:00+00:00\",\"2022-11-11T19:00:00+00:00\",\"2022-11-11T20:00:00+00:00\",\"2022-11-11T21:00:00+00:00\",\"2022-11-11T22:00:00+00:00\",\"2022-11-11T23:00:00+00:00\",\"2022-11-12T00:00:00+00:00\",\"2022-11-12T01:00:00+00:00\",\"2022-11-12T02:00:00+00:00\",\"2022-11-12T03:00:00+00:00\",\"2022-11-12T04:00:00+00:00\",\"2022-11-12T05:00:00+00:00\",\"2022-11-12T06:00:00+00:00\",\"2022-11-12T07:00:00+00:00\",\"2022-11-12T08:00:00+00:00\",\"2022-11-12T09:00:00+00:00\",\"2022-11-12T10:00:00+00:00\",\"2022-11-12T11:00:00+00:00\",\"2022-11-12T12:00:00+00:00\",\"2022-11-12T13:00:00+00:00\",\"2022-11-12T14:00:00+00:00\",\"2022-11-12T15:00:00+00:00\",\"2022-11-12T16:00:00+00:00\",\"2022-11-12T17:00:00+00:00\",\"2022-11-12T18:00:00+00:00\",\"2022-11-12T19:00:00+00:00\",\"2022-11-12T20:00:00+00:00\",\"2022-11-12T21:00:00+00:00\",\"2022-11-12T22:00:00+00:00\",\"2022-11-12T23:00:00+00:00\",\"2022-11-13T00:00:00+00:00\",\"2022-11-13T01:00:00+00:00\",\"2022-11-13T02:00:00+00:00\",\"2022-11-13T03:00:00+00:00\",\"2022-11-13T04:00:00+00:00\",\"2022-11-13T05:00:00+00:00\",\"2022-11-13T06:00:00+00:00\",\"2022-11-13T07:00:00+00:00\",\"2022-11-13T08:00:00+00:00\",\"2022-11-13T09:00:00+00:00\",\"2022-11-13T10:00:00+00:00\",\"2022-11-13T11:00:00+00:00\",\"2022-11-13T12:00:00+00:00\",\"2022-11-13T13:00:00+00:00\",\"2022-11-13T14:00:00+00:00\",\"2022-11-13T15:00:00+00:00\",\"2022-11-13T16:00:00+00:00\",\"2022-11-13T17:00:00+00:00\",\"2022-11-13T18:00:00+00:00\",\"2022-11-13T19:00:00+00:00\",\"2022-11-13T20:00:00+00:00\",\"2022-11-13T21:00:00+00:00\",\"2022-11-13T22:00:00+00:00\",\"2022-11-13T23:00:00+00:00\",\"2022-11-14T00:00:00+00:00\",\"2022-11-14T01:00:00+00:00\",\"2022-11-14T02:00:00+00:00\",\"2022-11-14T03:00:00+00:00\",\"2022-11-14T04:00:00+00:00\",\"2022-11-14T05:00:00+00:00\",\"2022-11-14T06:00:00+00:00\",\"2022-11-14T07:00:00+00:00\",\"2022-11-14T08:00:00+00:00\",\"2022-11-14T09:00:00+00:00\",\"2022-11-14T10:00:00+00:00\",\"2022-11-14T11:00:00+00:00\",\"2022-11-14T12:00:00+00:00\",\"2022-11-14T13:00:00+00:00\",\"2022-11-14T14:00:00+00:00\",\"2022-11-14T15:00:00+00:00\",\"2022-11-14T16:00:00+00:00\",\"2022-11-14T17:00:00+00:00\",\"2022-11-14T18:00:00+00:00\",\"2022-11-14T19:00:00+00:00\",\"2022-11-14T20:00:00+00:00\",\"2022-11-14T21:00:00+00:00\",\"2022-11-14T22:00:00+00:00\",\"2022-11-14T23:00:00+00:00\",\"2022-11-15T00:00:00+00:00\",\"2022-11-15T01:00:00+00:00\",\"2022-11-15T02:00:00+00:00\",\"2022-11-15T03:00:00+00:00\",\"2022-11-15T04:00:00+00:00\",\"2022-11-15T05:00:00+00:00\",\"2022-11-15T06:00:00+00:00\",\"2022-11-15T07:00:00+00:00\",\"2022-11-15T08:00:00+00:00\",\"2022-11-15T09:00:00+00:00\",\"2022-11-15T10:00:00+00:00\",\"2022-11-15T11:00:00+00:00\",\"2022-11-15T12:00:00+00:00\",\"2022-11-15T13:00:00+00:00\",\"2022-11-15T14:00:00+00:00\",\"2022-11-15T15:00:00+00:00\",\"2022-11-15T16:00:00+00:00\",\"2022-11-15T17:00:00+00:00\",\"2022-11-15T18:00:00+00:00\",\"2022-11-15T19:00:00+00:00\",\"2022-11-15T20:00:00+00:00\",\"2022-11-15T21:00:00+00:00\",\"2022-11-15T22:00:00+00:00\",\"2022-11-15T23:00:00+00:00\",\"2022-11-16T00:00:00+00:00\",\"2022-11-16T01:00:00+00:00\",\"2022-11-16T02:00:00+00:00\",\"2022-11-16T03:00:00+00:00\",\"2022-11-16T04:00:00+00:00\",\"2022-11-16T05:00:00+00:00\",\"2022-11-16T06:00:00+00:00\",\"2022-11-16T07:00:00+00:00\",\"2022-11-16T08:00:00+00:00\",\"2022-11-16T09:00:00+00:00\",\"2022-11-16T10:00:00+00:00\",\"2022-11-16T11:00:00+00:00\",\"2022-11-16T12:00:00+00:00\",\"2022-11-16T13:00:00+00:00\",\"2022-11-16T14:00:00+00:00\",\"2022-11-16T15:00:00+00:00\",\"2022-11-16T16:00:00+00:00\",\"2022-11-16T17:00:00+00:00\",\"2022-11-16T18:00:00+00:00\",\"2022-11-16T19:00:00+00:00\",\"2022-11-16T20:00:00+00:00\",\"2022-11-16T21:00:00+00:00\",\"2022-11-16T22:00:00+00:00\",\"2022-11-16T23:00:00+00:00\",\"2022-11-17T00:00:00+00:00\",\"2022-11-17T01:00:00+00:00\",\"2022-11-17T02:00:00+00:00\",\"2022-11-17T03:00:00+00:00\",\"2022-11-17T04:00:00+00:00\",\"2022-11-17T05:00:00+00:00\",\"2022-11-17T06:00:00+00:00\",\"2022-11-17T07:00:00+00:00\",\"2022-11-17T08:00:00+00:00\",\"2022-11-17T09:00:00+00:00\",\"2022-11-17T10:00:00+00:00\",\"2022-11-17T11:00:00+00:00\",\"2022-11-17T12:00:00+00:00\",\"2022-11-17T13:00:00+00:00\",\"2022-11-17T14:00:00+00:00\",\"2022-11-17T15:00:00+00:00\",\"2022-11-17T16:00:00+00:00\",\"2022-11-17T17:00:00+00:00\",\"2022-11-17T18:00:00+00:00\",\"2022-11-17T19:00:00+00:00\",\"2022-11-17T20:00:00+00:00\",\"2022-11-17T21:00:00+00:00\",\"2022-11-17T22:00:00+00:00\",\"2022-11-17T23:00:00+00:00\",\"2022-11-18T00:00:00+00:00\",\"2022-11-18T01:00:00+00:00\",\"2022-11-18T02:00:00+00:00\",\"2022-11-18T03:00:00+00:00\",\"2022-11-18T04:00:00+00:00\",\"2022-11-18T05:00:00+00:00\",\"2022-11-18T06:00:00+00:00\",\"2022-11-18T07:00:00+00:00\",\"2022-11-18T08:00:00+00:00\",\"2022-11-18T09:00:00+00:00\",\"2022-11-18T10:00:00+00:00\",\"2022-11-18T11:00:00+00:00\",\"2022-11-18T12:00:00+00:00\",\"2022-11-18T13:00:00+00:00\",\"2022-11-18T14:00:00+00:00\",\"2022-11-18T15:00:00+00:00\",\"2022-11-18T16:00:00+00:00\",\"2022-11-18T17:00:00+00:00\",\"2022-11-18T18:00:00+00:00\",\"2022-11-18T19:00:00+00:00\",\"2022-11-18T20:00:00+00:00\",\"2022-11-18T21:00:00+00:00\",\"2022-11-18T22:00:00+00:00\",\"2022-11-18T23:00:00+00:00\",\"2022-11-19T00:00:00+00:00\",\"2022-11-19T01:00:00+00:00\",\"2022-11-19T02:00:00+00:00\",\"2022-11-19T03:00:00+00:00\",\"2022-11-19T04:00:00+00:00\",\"2022-11-19T05:00:00+00:00\",\"2022-11-19T06:00:00+00:00\",\"2022-11-19T07:00:00+00:00\",\"2022-11-19T08:00:00+00:00\",\"2022-11-19T09:00:00+00:00\",\"2022-11-19T10:00:00+00:00\",\"2022-11-19T11:00:00+00:00\",\"2022-11-19T12:00:00+00:00\",\"2022-11-19T13:00:00+00:00\",\"2022-11-19T14:00:00+00:00\",\"2022-11-19T15:00:00+00:00\",\"2022-11-19T16:00:00+00:00\",\"2022-11-19T17:00:00+00:00\",\"2022-11-19T18:00:00+00:00\",\"2022-11-19T19:00:00+00:00\",\"2022-11-19T20:00:00+00:00\",\"2022-11-19T21:00:00+00:00\",\"2022-11-19T22:00:00+00:00\",\"2022-11-19T23:00:00+00:00\",\"2022-11-20T00:00:00+00:00\",\"2022-11-20T01:00:00+00:00\",\"2022-11-20T02:00:00+00:00\",\"2022-11-20T03:00:00+00:00\",\"2022-11-20T04:00:00+00:00\",\"2022-11-20T05:00:00+00:00\",\"2022-11-20T06:00:00+00:00\",\"2022-11-20T07:00:00+00:00\",\"2022-11-20T08:00:00+00:00\",\"2022-11-20T09:00:00+00:00\",\"2022-11-20T10:00:00+00:00\",\"2022-11-20T11:00:00+00:00\",\"2022-11-20T12:00:00+00:00\",\"2022-11-20T13:00:00+00:00\",\"2022-11-20T14:00:00+00:00\",\"2022-11-20T15:00:00+00:00\",\"2022-11-20T16:00:00+00:00\",\"2022-11-20T17:00:00+00:00\",\"2022-11-20T18:00:00+00:00\",\"2022-11-20T19:00:00+00:00\",\"2022-11-20T20:00:00+00:00\",\"2022-11-20T21:00:00+00:00\",\"2022-11-20T22:00:00+00:00\",\"2022-11-20T23:00:00+00:00\",\"2022-11-21T00:00:00+00:00\",\"2022-11-21T01:00:00+00:00\",\"2022-11-21T02:00:00+00:00\",\"2022-11-21T03:00:00+00:00\",\"2022-11-21T04:00:00+00:00\",\"2022-11-21T05:00:00+00:00\",\"2022-11-21T06:00:00+00:00\",\"2022-11-21T07:00:00+00:00\",\"2022-11-21T08:00:00+00:00\",\"2022-11-21T09:00:00+00:00\",\"2022-11-21T10:00:00+00:00\",\"2022-11-21T11:00:00+00:00\",\"2022-11-21T12:00:00+00:00\",\"2022-11-21T13:00:00+00:00\",\"2022-11-21T14:00:00+00:00\",\"2022-11-21T15:00:00+00:00\",\"2022-11-21T16:00:00+00:00\",\"2022-11-21T17:00:00+00:00\",\"2022-11-21T18:00:00+00:00\",\"2022-11-21T19:00:00+00:00\",\"2022-11-21T20:00:00+00:00\",\"2022-11-21T21:00:00+00:00\",\"2022-11-21T22:00:00+00:00\",\"2022-11-21T23:00:00+00:00\",\"2022-11-22T00:00:00+00:00\",\"2022-11-22T01:00:00+00:00\",\"2022-11-22T02:00:00+00:00\",\"2022-11-22T03:00:00+00:00\",\"2022-11-22T04:00:00+00:00\",\"2022-11-22T05:00:00+00:00\",\"2022-11-22T06:00:00+00:00\",\"2022-11-22T07:00:00+00:00\",\"2022-11-22T08:00:00+00:00\",\"2022-11-22T09:00:00+00:00\",\"2022-11-22T10:00:00+00:00\",\"2022-11-22T11:00:00+00:00\",\"2022-11-22T12:00:00+00:00\",\"2022-11-22T13:00:00+00:00\",\"2022-11-22T14:00:00+00:00\",\"2022-11-22T15:00:00+00:00\",\"2022-11-22T16:00:00+00:00\",\"2022-11-22T17:00:00+00:00\",\"2022-11-22T18:00:00+00:00\",\"2022-11-22T19:00:00+00:00\",\"2022-11-22T20:00:00+00:00\",\"2022-11-22T21:00:00+00:00\",\"2022-11-22T22:00:00+00:00\",\"2022-11-22T23:00:00+00:00\",\"2022-11-23T00:00:00+00:00\",\"2022-11-23T01:00:00+00:00\",\"2022-11-23T02:00:00+00:00\",\"2022-11-23T03:00:00+00:00\",\"2022-11-23T04:00:00+00:00\",\"2022-11-23T05:00:00+00:00\",\"2022-11-23T06:00:00+00:00\",\"2022-11-23T07:00:00+00:00\",\"2022-11-23T08:00:00+00:00\",\"2022-11-23T09:00:00+00:00\",\"2022-11-23T10:00:00+00:00\",\"2022-11-23T11:00:00+00:00\",\"2022-11-23T12:00:00+00:00\",\"2022-11-23T13:00:00+00:00\",\"2022-11-23T14:00:00+00:00\",\"2022-11-23T15:00:00+00:00\",\"2022-11-23T16:00:00+00:00\",\"2022-11-23T17:00:00+00:00\",\"2022-11-23T18:00:00+00:00\",\"2022-11-23T19:00:00+00:00\",\"2022-11-23T20:00:00+00:00\",\"2022-11-23T21:00:00+00:00\",\"2022-11-23T22:00:00+00:00\",\"2022-11-23T23:00:00+00:00\",\"2022-11-24T00:00:00+00:00\",\"2022-11-24T01:00:00+00:00\",\"2022-11-24T02:00:00+00:00\",\"2022-11-24T03:00:00+00:00\",\"2022-11-24T04:00:00+00:00\",\"2022-11-24T05:00:00+00:00\",\"2022-11-24T06:00:00+00:00\",\"2022-11-24T07:00:00+00:00\",\"2022-11-24T08:00:00+00:00\",\"2022-11-24T09:00:00+00:00\",\"2022-11-24T10:00:00+00:00\",\"2022-11-24T11:00:00+00:00\",\"2022-11-24T12:00:00+00:00\",\"2022-11-24T13:00:00+00:00\",\"2022-11-24T14:00:00+00:00\",\"2022-11-24T15:00:00+00:00\",\"2022-11-24T16:00:00+00:00\",\"2022-11-24T17:00:00+00:00\",\"2022-11-24T18:00:00+00:00\",\"2022-11-24T19:00:00+00:00\",\"2022-11-24T20:00:00+00:00\",\"2022-11-24T21:00:00+00:00\",\"2022-11-24T22:00:00+00:00\",\"2022-11-24T23:00:00+00:00\",\"2022-11-25T00:00:00+00:00\",\"2022-11-25T01:00:00+00:00\",\"2022-11-25T02:00:00+00:00\",\"2022-11-25T03:00:00+00:00\",\"2022-11-25T04:00:00+00:00\",\"2022-11-25T05:00:00+00:00\",\"2022-11-25T06:00:00+00:00\",\"2022-11-25T07:00:00+00:00\",\"2022-11-25T08:00:00+00:00\",\"2022-11-25T09:00:00+00:00\",\"2022-11-25T10:00:00+00:00\",\"2022-11-25T11:00:00+00:00\",\"2022-11-25T12:00:00+00:00\",\"2022-11-25T13:00:00+00:00\",\"2022-11-25T14:00:00+00:00\",\"2022-11-25T15:00:00+00:00\",\"2022-11-25T16:00:00+00:00\",\"2022-11-25T17:00:00+00:00\",\"2022-11-25T18:00:00+00:00\",\"2022-11-25T19:00:00+00:00\",\"2022-11-25T20:00:00+00:00\",\"2022-11-25T21:00:00+00:00\",\"2022-11-25T22:00:00+00:00\",\"2022-11-25T23:00:00+00:00\",\"2022-11-26T00:00:00+00:00\",\"2022-11-26T01:00:00+00:00\",\"2022-11-26T02:00:00+00:00\",\"2022-11-26T03:00:00+00:00\",\"2022-11-26T04:00:00+00:00\",\"2022-11-26T05:00:00+00:00\",\"2022-11-26T06:00:00+00:00\",\"2022-11-26T07:00:00+00:00\",\"2022-11-26T08:00:00+00:00\",\"2022-11-26T09:00:00+00:00\",\"2022-11-26T10:00:00+00:00\",\"2022-11-26T11:00:00+00:00\",\"2022-11-26T12:00:00+00:00\",\"2022-11-26T13:00:00+00:00\",\"2022-11-26T14:00:00+00:00\",\"2022-11-26T15:00:00+00:00\",\"2022-11-26T16:00:00+00:00\",\"2022-11-26T17:00:00+00:00\",\"2022-11-26T18:00:00+00:00\",\"2022-11-26T19:00:00+00:00\",\"2022-11-26T20:00:00+00:00\",\"2022-11-26T21:00:00+00:00\",\"2022-11-26T22:00:00+00:00\",\"2022-11-26T23:00:00+00:00\",\"2022-11-27T00:00:00+00:00\",\"2022-11-27T01:00:00+00:00\",\"2022-11-27T02:00:00+00:00\",\"2022-11-27T03:00:00+00:00\",\"2022-11-27T04:00:00+00:00\",\"2022-11-27T05:00:00+00:00\",\"2022-11-27T06:00:00+00:00\",\"2022-11-27T07:00:00+00:00\",\"2022-11-27T08:00:00+00:00\",\"2022-11-27T09:00:00+00:00\",\"2022-11-27T10:00:00+00:00\",\"2022-11-27T11:00:00+00:00\",\"2022-11-27T12:00:00+00:00\",\"2022-11-27T13:00:00+00:00\",\"2022-11-27T14:00:00+00:00\",\"2022-11-27T15:00:00+00:00\",\"2022-11-27T16:00:00+00:00\",\"2022-11-27T17:00:00+00:00\",\"2022-11-27T18:00:00+00:00\",\"2022-11-27T19:00:00+00:00\",\"2022-11-27T20:00:00+00:00\",\"2022-11-27T21:00:00+00:00\",\"2022-11-27T22:00:00+00:00\",\"2022-11-27T23:00:00+00:00\",\"2022-11-28T00:00:00+00:00\",\"2022-11-28T01:00:00+00:00\",\"2022-11-28T02:00:00+00:00\",\"2022-11-28T03:00:00+00:00\",\"2022-11-28T04:00:00+00:00\",\"2022-11-28T05:00:00+00:00\",\"2022-11-28T06:00:00+00:00\",\"2022-11-28T07:00:00+00:00\",\"2022-11-28T08:00:00+00:00\",\"2022-11-28T09:00:00+00:00\",\"2022-11-28T10:00:00+00:00\",\"2022-11-28T11:00:00+00:00\",\"2022-11-28T12:00:00+00:00\",\"2022-11-28T13:00:00+00:00\",\"2022-11-28T14:00:00+00:00\",\"2022-11-28T15:00:00+00:00\",\"2022-11-28T16:00:00+00:00\",\"2022-11-28T17:00:00+00:00\",\"2022-11-28T18:00:00+00:00\",\"2022-11-28T19:00:00+00:00\",\"2022-11-28T20:00:00+00:00\",\"2022-11-28T21:00:00+00:00\",\"2022-11-28T22:00:00+00:00\",\"2022-11-28T23:00:00+00:00\",\"2022-11-29T00:00:00+00:00\",\"2022-11-29T01:00:00+00:00\",\"2022-11-29T02:00:00+00:00\",\"2022-11-29T03:00:00+00:00\",\"2022-11-29T04:00:00+00:00\",\"2022-11-29T05:00:00+00:00\",\"2022-11-29T06:00:00+00:00\",\"2022-11-29T07:00:00+00:00\",\"2022-11-29T08:00:00+00:00\",\"2022-11-29T09:00:00+00:00\",\"2022-11-29T10:00:00+00:00\",\"2022-11-29T11:00:00+00:00\",\"2022-11-29T12:00:00+00:00\",\"2022-11-29T13:00:00+00:00\",\"2022-11-29T14:00:00+00:00\",\"2022-11-29T15:00:00+00:00\",\"2022-11-29T16:00:00+00:00\",\"2022-11-29T17:00:00+00:00\",\"2022-11-29T18:00:00+00:00\",\"2022-11-29T19:00:00+00:00\",\"2022-11-29T20:00:00+00:00\",\"2022-11-29T21:00:00+00:00\",\"2022-11-29T22:00:00+00:00\",\"2022-11-29T23:00:00+00:00\",\"2022-11-30T00:00:00+00:00\",\"2022-11-30T01:00:00+00:00\",\"2022-11-30T02:00:00+00:00\",\"2022-11-30T03:00:00+00:00\",\"2022-11-30T04:00:00+00:00\",\"2022-11-30T05:00:00+00:00\",\"2022-11-30T06:00:00+00:00\",\"2022-11-30T07:00:00+00:00\",\"2022-11-30T08:00:00+00:00\",\"2022-11-30T09:00:00+00:00\",\"2022-11-30T10:00:00+00:00\",\"2022-11-30T11:00:00+00:00\",\"2022-11-30T12:00:00+00:00\",\"2022-11-30T13:00:00+00:00\",\"2022-11-30T14:00:00+00:00\",\"2022-11-30T15:00:00+00:00\",\"2022-11-30T16:00:00+00:00\",\"2022-11-30T17:00:00+00:00\",\"2022-11-30T18:00:00+00:00\",\"2022-11-30T19:00:00+00:00\",\"2022-11-30T20:00:00+00:00\",\"2022-11-30T21:00:00+00:00\",\"2022-11-30T22:00:00+00:00\",\"2022-11-30T23:00:00+00:00\",\"2022-12-01T00:00:00+00:00\",\"2022-12-01T01:00:00+00:00\",\"2022-12-01T02:00:00+00:00\",\"2022-12-01T03:00:00+00:00\",\"2022-12-01T04:00:00+00:00\",\"2022-12-01T05:00:00+00:00\",\"2022-12-01T06:00:00+00:00\",\"2022-12-01T07:00:00+00:00\",\"2022-12-01T08:00:00+00:00\",\"2022-12-01T09:00:00+00:00\",\"2022-12-01T10:00:00+00:00\",\"2022-12-01T11:00:00+00:00\",\"2022-12-01T12:00:00+00:00\",\"2022-12-01T13:00:00+00:00\",\"2022-12-01T14:00:00+00:00\",\"2022-12-01T15:00:00+00:00\",\"2022-12-01T16:00:00+00:00\",\"2022-12-01T17:00:00+00:00\",\"2022-12-01T18:00:00+00:00\",\"2022-12-01T19:00:00+00:00\",\"2022-12-01T20:00:00+00:00\",\"2022-12-01T21:00:00+00:00\",\"2022-12-01T22:00:00+00:00\",\"2022-12-01T23:00:00+00:00\",\"2022-12-02T00:00:00+00:00\",\"2022-12-02T01:00:00+00:00\",\"2022-12-02T02:00:00+00:00\",\"2022-12-02T03:00:00+00:00\",\"2022-12-02T04:00:00+00:00\",\"2022-12-02T05:00:00+00:00\",\"2022-12-02T06:00:00+00:00\",\"2022-12-02T07:00:00+00:00\",\"2022-12-02T08:00:00+00:00\",\"2022-12-02T09:00:00+00:00\",\"2022-12-02T10:00:00+00:00\",\"2022-12-02T11:00:00+00:00\",\"2022-12-02T12:00:00+00:00\",\"2022-12-02T13:00:00+00:00\",\"2022-12-02T14:00:00+00:00\",\"2022-12-02T15:00:00+00:00\",\"2022-12-02T16:00:00+00:00\",\"2022-12-02T17:00:00+00:00\",\"2022-12-02T18:00:00+00:00\",\"2022-12-02T19:00:00+00:00\",\"2022-12-02T20:00:00+00:00\",\"2022-12-02T21:00:00+00:00\",\"2022-12-02T22:00:00+00:00\",\"2022-12-02T23:00:00+00:00\",\"2022-12-03T00:00:00+00:00\",\"2022-12-03T01:00:00+00:00\",\"2022-12-03T02:00:00+00:00\",\"2022-12-03T03:00:00+00:00\",\"2022-12-03T04:00:00+00:00\",\"2022-12-03T05:00:00+00:00\",\"2022-12-03T06:00:00+00:00\",\"2022-12-03T07:00:00+00:00\",\"2022-12-03T08:00:00+00:00\",\"2022-12-03T09:00:00+00:00\",\"2022-12-03T10:00:00+00:00\",\"2022-12-03T11:00:00+00:00\",\"2022-12-03T12:00:00+00:00\",\"2022-12-03T13:00:00+00:00\",\"2022-12-03T14:00:00+00:00\",\"2022-12-03T15:00:00+00:00\",\"2022-12-03T16:00:00+00:00\",\"2022-12-03T17:00:00+00:00\",\"2022-12-03T18:00:00+00:00\",\"2022-12-03T19:00:00+00:00\",\"2022-12-03T20:00:00+00:00\",\"2022-12-03T21:00:00+00:00\",\"2022-12-03T22:00:00+00:00\",\"2022-12-03T23:00:00+00:00\",\"2022-12-04T00:00:00+00:00\",\"2022-12-04T01:00:00+00:00\",\"2022-12-04T02:00:00+00:00\",\"2022-12-04T03:00:00+00:00\",\"2022-12-04T04:00:00+00:00\",\"2022-12-04T05:00:00+00:00\",\"2022-12-04T06:00:00+00:00\",\"2022-12-04T07:00:00+00:00\",\"2022-12-04T08:00:00+00:00\",\"2022-12-04T09:00:00+00:00\",\"2022-12-04T10:00:00+00:00\",\"2022-12-04T11:00:00+00:00\",\"2022-12-04T12:00:00+00:00\",\"2022-12-04T13:00:00+00:00\",\"2022-12-04T14:00:00+00:00\",\"2022-12-04T15:00:00+00:00\",\"2022-12-04T16:00:00+00:00\",\"2022-12-04T17:00:00+00:00\",\"2022-12-04T18:00:00+00:00\",\"2022-12-04T19:00:00+00:00\",\"2022-12-04T20:00:00+00:00\",\"2022-12-04T21:00:00+00:00\",\"2022-12-04T22:00:00+00:00\",\"2022-12-04T23:00:00+00:00\",\"2022-12-05T00:00:00+00:00\",\"2022-12-05T01:00:00+00:00\",\"2022-12-05T02:00:00+00:00\",\"2022-12-05T03:00:00+00:00\",\"2022-12-05T04:00:00+00:00\",\"2022-12-05T05:00:00+00:00\",\"2022-12-05T06:00:00+00:00\",\"2022-12-05T07:00:00+00:00\",\"2022-12-05T08:00:00+00:00\",\"2022-12-05T09:00:00+00:00\",\"2022-12-05T10:00:00+00:00\",\"2022-12-05T11:00:00+00:00\",\"2022-12-05T12:00:00+00:00\",\"2022-12-05T13:00:00+00:00\",\"2022-12-05T14:00:00+00:00\",\"2022-12-05T15:00:00+00:00\",\"2022-12-05T16:00:00+00:00\",\"2022-12-05T17:00:00+00:00\",\"2022-12-05T18:00:00+00:00\",\"2022-12-05T19:00:00+00:00\",\"2022-12-05T20:00:00+00:00\",\"2022-12-05T21:00:00+00:00\",\"2022-12-05T22:00:00+00:00\",\"2022-12-05T23:00:00+00:00\",\"2022-12-06T00:00:00+00:00\",\"2022-12-06T01:00:00+00:00\",\"2022-12-06T02:00:00+00:00\",\"2022-12-06T03:00:00+00:00\",\"2022-12-06T04:00:00+00:00\",\"2022-12-06T05:00:00+00:00\",\"2022-12-06T06:00:00+00:00\",\"2022-12-06T07:00:00+00:00\",\"2022-12-06T08:00:00+00:00\",\"2022-12-06T09:00:00+00:00\",\"2022-12-06T10:00:00+00:00\",\"2022-12-06T11:00:00+00:00\",\"2022-12-06T12:00:00+00:00\",\"2022-12-06T13:00:00+00:00\",\"2022-12-06T14:00:00+00:00\",\"2022-12-06T15:00:00+00:00\",\"2022-12-06T16:00:00+00:00\",\"2022-12-06T17:00:00+00:00\",\"2022-12-06T18:00:00+00:00\",\"2022-12-06T19:00:00+00:00\",\"2022-12-06T20:00:00+00:00\",\"2022-12-06T21:00:00+00:00\",\"2022-12-06T22:00:00+00:00\",\"2022-12-06T23:00:00+00:00\",\"2022-12-07T00:00:00+00:00\",\"2022-12-07T01:00:00+00:00\",\"2022-12-07T02:00:00+00:00\",\"2022-12-07T03:00:00+00:00\",\"2022-12-07T04:00:00+00:00\",\"2022-12-07T05:00:00+00:00\",\"2022-12-07T06:00:00+00:00\",\"2022-12-07T07:00:00+00:00\",\"2022-12-07T08:00:00+00:00\",\"2022-12-07T09:00:00+00:00\",\"2022-12-07T10:00:00+00:00\",\"2022-12-07T11:00:00+00:00\",\"2022-12-07T12:00:00+00:00\",\"2022-12-07T13:00:00+00:00\",\"2022-12-07T14:00:00+00:00\",\"2022-12-07T15:00:00+00:00\",\"2022-12-07T16:00:00+00:00\",\"2022-12-07T17:00:00+00:00\",\"2022-12-07T18:00:00+00:00\",\"2022-12-07T19:00:00+00:00\",\"2022-12-07T20:00:00+00:00\",\"2022-12-07T21:00:00+00:00\",\"2022-12-07T22:00:00+00:00\",\"2022-12-07T23:00:00+00:00\",\"2022-12-08T00:00:00+00:00\",\"2022-12-08T01:00:00+00:00\",\"2022-12-08T02:00:00+00:00\",\"2022-12-08T03:00:00+00:00\",\"2022-12-08T04:00:00+00:00\",\"2022-12-08T05:00:00+00:00\",\"2022-12-08T06:00:00+00:00\",\"2022-12-08T07:00:00+00:00\",\"2022-12-08T08:00:00+00:00\",\"2022-12-08T09:00:00+00:00\",\"2022-12-08T10:00:00+00:00\",\"2022-12-08T11:00:00+00:00\",\"2022-12-08T12:00:00+00:00\",\"2022-12-08T13:00:00+00:00\",\"2022-12-08T14:00:00+00:00\",\"2022-12-08T15:00:00+00:00\",\"2022-12-08T16:00:00+00:00\",\"2022-12-08T17:00:00+00:00\",\"2022-12-08T18:00:00+00:00\",\"2022-12-08T19:00:00+00:00\",\"2022-12-08T20:00:00+00:00\",\"2022-12-08T21:00:00+00:00\",\"2022-12-08T22:00:00+00:00\",\"2022-12-08T23:00:00+00:00\",\"2022-12-09T00:00:00+00:00\",\"2022-12-09T01:00:00+00:00\",\"2022-12-09T02:00:00+00:00\",\"2022-12-09T03:00:00+00:00\",\"2022-12-09T04:00:00+00:00\",\"2022-12-09T05:00:00+00:00\",\"2022-12-09T06:00:00+00:00\",\"2022-12-09T07:00:00+00:00\",\"2022-12-09T08:00:00+00:00\",\"2022-12-09T09:00:00+00:00\",\"2022-12-09T10:00:00+00:00\",\"2022-12-09T11:00:00+00:00\",\"2022-12-09T12:00:00+00:00\",\"2022-12-09T13:00:00+00:00\",\"2022-12-09T14:00:00+00:00\",\"2022-12-09T15:00:00+00:00\",\"2022-12-09T16:00:00+00:00\",\"2022-12-09T17:00:00+00:00\",\"2022-12-09T18:00:00+00:00\",\"2022-12-09T19:00:00+00:00\",\"2022-12-09T20:00:00+00:00\",\"2022-12-09T21:00:00+00:00\",\"2022-12-09T22:00:00+00:00\",\"2022-12-09T23:00:00+00:00\",\"2022-12-10T00:00:00+00:00\",\"2022-12-10T01:00:00+00:00\",\"2022-12-10T02:00:00+00:00\",\"2022-12-10T03:00:00+00:00\",\"2022-12-10T04:00:00+00:00\",\"2022-12-10T05:00:00+00:00\",\"2022-12-10T06:00:00+00:00\",\"2022-12-10T07:00:00+00:00\",\"2022-12-10T08:00:00+00:00\",\"2022-12-10T09:00:00+00:00\",\"2022-12-10T10:00:00+00:00\",\"2022-12-10T11:00:00+00:00\",\"2022-12-10T12:00:00+00:00\",\"2022-12-10T13:00:00+00:00\",\"2022-12-10T14:00:00+00:00\",\"2022-12-10T15:00:00+00:00\",\"2022-12-10T16:00:00+00:00\",\"2022-12-10T17:00:00+00:00\",\"2022-12-10T18:00:00+00:00\",\"2022-12-10T19:00:00+00:00\",\"2022-12-10T20:00:00+00:00\",\"2022-12-10T21:00:00+00:00\",\"2022-12-10T22:00:00+00:00\",\"2022-12-10T23:00:00+00:00\",\"2022-12-11T00:00:00+00:00\",\"2022-12-11T01:00:00+00:00\",\"2022-12-11T02:00:00+00:00\",\"2022-12-11T03:00:00+00:00\",\"2022-12-11T04:00:00+00:00\",\"2022-12-11T05:00:00+00:00\",\"2022-12-11T06:00:00+00:00\",\"2022-12-11T07:00:00+00:00\",\"2022-12-11T08:00:00+00:00\",\"2022-12-11T09:00:00+00:00\",\"2022-12-11T10:00:00+00:00\",\"2022-12-11T11:00:00+00:00\",\"2022-12-11T12:00:00+00:00\",\"2022-12-11T13:00:00+00:00\",\"2022-12-11T14:00:00+00:00\",\"2022-12-11T15:00:00+00:00\",\"2022-12-11T16:00:00+00:00\",\"2022-12-11T17:00:00+00:00\",\"2022-12-11T18:00:00+00:00\",\"2022-12-11T19:00:00+00:00\",\"2022-12-11T20:00:00+00:00\",\"2022-12-11T21:00:00+00:00\",\"2022-12-11T22:00:00+00:00\",\"2022-12-11T23:00:00+00:00\",\"2022-12-12T00:00:00+00:00\",\"2022-12-12T01:00:00+00:00\",\"2022-12-12T02:00:00+00:00\",\"2022-12-12T03:00:00+00:00\",\"2022-12-12T04:00:00+00:00\",\"2022-12-12T05:00:00+00:00\",\"2022-12-12T06:00:00+00:00\",\"2022-12-12T07:00:00+00:00\",\"2022-12-12T08:00:00+00:00\",\"2022-12-12T09:00:00+00:00\",\"2022-12-12T10:00:00+00:00\",\"2022-12-12T11:00:00+00:00\",\"2022-12-12T12:00:00+00:00\",\"2022-12-12T13:00:00+00:00\",\"2022-12-12T14:00:00+00:00\",\"2022-12-12T15:00:00+00:00\",\"2022-12-12T16:00:00+00:00\",\"2022-12-12T17:00:00+00:00\",\"2022-12-12T18:00:00+00:00\",\"2022-12-12T19:00:00+00:00\",\"2022-12-12T20:00:00+00:00\",\"2022-12-12T21:00:00+00:00\",\"2022-12-12T22:00:00+00:00\",\"2022-12-12T23:00:00+00:00\",\"2022-12-13T00:00:00+00:00\",\"2022-12-13T01:00:00+00:00\",\"2022-12-13T02:00:00+00:00\",\"2022-12-13T03:00:00+00:00\",\"2022-12-13T04:00:00+00:00\",\"2022-12-13T05:00:00+00:00\",\"2022-12-13T06:00:00+00:00\",\"2022-12-13T07:00:00+00:00\",\"2022-12-13T08:00:00+00:00\",\"2022-12-13T09:00:00+00:00\",\"2022-12-13T10:00:00+00:00\",\"2022-12-13T11:00:00+00:00\",\"2022-12-13T12:00:00+00:00\",\"2022-12-13T13:00:00+00:00\",\"2022-12-13T14:00:00+00:00\",\"2022-12-13T15:00:00+00:00\",\"2022-12-13T16:00:00+00:00\",\"2022-12-13T17:00:00+00:00\",\"2022-12-13T18:00:00+00:00\",\"2022-12-13T19:00:00+00:00\",\"2022-12-13T20:00:00+00:00\",\"2022-12-13T21:00:00+00:00\",\"2022-12-13T22:00:00+00:00\",\"2022-12-13T23:00:00+00:00\",\"2022-12-14T00:00:00+00:00\",\"2022-12-14T01:00:00+00:00\",\"2022-12-14T02:00:00+00:00\",\"2022-12-14T03:00:00+00:00\",\"2022-12-14T04:00:00+00:00\",\"2022-12-14T05:00:00+00:00\",\"2022-12-14T06:00:00+00:00\",\"2022-12-14T07:00:00+00:00\",\"2022-12-14T08:00:00+00:00\",\"2022-12-14T09:00:00+00:00\",\"2022-12-14T10:00:00+00:00\",\"2022-12-14T11:00:00+00:00\",\"2022-12-14T12:00:00+00:00\",\"2022-12-14T13:00:00+00:00\",\"2022-12-14T14:00:00+00:00\",\"2022-12-14T15:00:00+00:00\",\"2022-12-14T16:00:00+00:00\",\"2022-12-14T17:00:00+00:00\",\"2022-12-14T18:00:00+00:00\",\"2022-12-14T19:00:00+00:00\",\"2022-12-14T20:00:00+00:00\",\"2022-12-14T21:00:00+00:00\",\"2022-12-14T22:00:00+00:00\",\"2022-12-14T23:00:00+00:00\",\"2022-12-15T00:00:00+00:00\"],\"y\":[160,232,453,2833,1229,813,923,1103,2013,1722,1608,2117,1174,409,268,181,158,242,259,394,644,564,482,424,463,446,429,367,328,307,290,252,257,205,173,327,244,101,72,43,46,47,57,82,101,109,147,275,279,218,359,215,496,253,358,559,586,405,395,490,303,146,108,57,51,47,51,65,89,162,180,161,224,228,159,472,282,272,241,338,338,295,403,163,110,61,29,51,47,47,50,66,92,77,83,67,105,153,522,376,316,286,326,357,390,287,257,275,246,119,98,64,70,82,127,128,164,198,393,372,268,233,175,203,306,191,338,344,243,289,385,377,157,76,54,31,45,47,60,79,91,136,128,168,131,169,211,147,318,401,425,310,243,168,357,284,144,60,72,86,59,63,78,85,113,114,224,355,334,307,445,433,345,388,374,326,405,333,577,295,155,94,66,62,58,53,76,102,127,167,149,158,148,209,172,157,175,166,245,199,247,171,170,179,93,62,51,59,41,37,77,81,57,112,198,241,138,189,248,119,226,136,140,202,190,127,140,130,100,70,42,29,24,30,33,57,52,99,76,144,189,223,144,275,551,603,342,323,284,382,243,363,268,107,59,66,40,49,112,174,218,302,654,1008,1161,1411,3865,5311,4686,4007,3948,3518,2361,1739,1395,1105,682,395,249,246,180,299,299,397,557,599,618,500,363,351,330,248,251,95,76,77,62,57,94,106,32,24,25,14,8,13,9,18,79,39,72,70,57,90,268,222,145,114,160,156,125,84,73,63,36,57,22,16,22,23,28,22,70,69,47,85,100,75,63,70,50,57,54,62,89,126,64,36,33,24,18,7,7,5,52,37,42,68,107,89,67,87,79,58,80,111,119,532,392,669,472,960,598,283,183,107,120,117,97,109,126,146,190,145,147,364,150,121,116,64,86,79,238,172,171,82,69,35,20,20,10,32,7,11,22,19,59,41,43,48,28,30,32,40,27,22,49,51,22,28,15,0,14,8,7,13,12,24,26,22,23,28,21,56,71,26,60,53,30,38,27,26,37,12,14,25,18,39,20,29,35,51,117,105,95,94,87,101,157,104,59,91,200,559,901,5904,3867,3045,1372,595,440,277,215,257,331,433,614,554,472,513,385,410,537,414,371,323,286,937,2499,904,679,457,311,207,141,90,101,83,113,149,164,200,231,232,291,395,562,374,478,355,418,395,295,205,235,168,147,83,45,42,35,31,58,63,124,147,159,227,188,203,178,132,83,73,133,111,94,74,119,141,67,38,33,26,46,25,55,39,56,103,120,95,203,125,112,203,128,155,174,424,190,162,146,87,57,29,27,24,23,41,27,40,60,114,98,131,143,123,128,147,143,152,808,877,3882,3889,3479,4599,2333,1026,483,320,321,343,381,543,781,893,930,757,747,820,636,544,497,478,428,486,409,415,348,220,160,112,72,46,52,56,77,93,142,152,182,183,170,172,149,132,157,141,111,169,171,154,163,129,96,58,30,27,15,15,31,35,61,90,168,105,122,93,113,114,157,93,114,146,124,127,129,93,104,118,89,22,24,45,42,44,70,101,214,312,236,355,366,332,224,168,147,156,137,133,125,89,59,60,55,25,19,25,30,41,58,82,100,75,91,125,66,123,100,100,88,87,92,86,64,112,65,34,20,10,22,21,14,23,34,75,120,108,116,113,148,141,94,76,384,806,983,3917,12015,3102,2349,1441,848,579,418,391,368,454,1008,981,3479,7575,6740,4730,3336,2575,2175,2073,2222,2019,1615,1714,2798,1855,1196,687,435,339,315,286,399,506,567,706,703,573,558,438,421,346,301,364,312,310,275,217,177,138,98,83,62,39,50,62,78,67,100,110,89,119,93,125,109,106,95,95,99,86,194,117,77,56,26,38,19,18,17,14,27,20,54,134,364,334,244,170,151,116,108,127,102,101,95,95,93,57,49,2],\"type\":\"scatter\"}],                        {\"template\":{\"data\":{\"bar\":[{\"error_x\":{\"color\":\"#2a3f5f\"},\"error_y\":{\"color\":\"#2a3f5f\"},\"marker\":{\"line\":{\"color\":\"#E5ECF6\",\"width\":0.5},\"pattern\":{\"fillmode\":\"overlay\",\"size\":10,\"solidity\":0.2}},\"type\":\"bar\"}],\"barpolar\":[{\"marker\":{\"line\":{\"color\":\"#E5ECF6\",\"width\":0.5},\"pattern\":{\"fillmode\":\"overlay\",\"size\":10,\"solidity\":0.2}},\"type\":\"barpolar\"}],\"carpet\":[{\"aaxis\":{\"endlinecolor\":\"#2a3f5f\",\"gridcolor\":\"white\",\"linecolor\":\"white\",\"minorgridcolor\":\"white\",\"startlinecolor\":\"#2a3f5f\"},\"baxis\":{\"endlinecolor\":\"#2a3f5f\",\"gridcolor\":\"white\",\"linecolor\":\"white\",\"minorgridcolor\":\"white\",\"startlinecolor\":\"#2a3f5f\"},\"type\":\"carpet\"}],\"choropleth\":[{\"colorbar\":{\"outlinewidth\":0,\"ticks\":\"\"},\"type\":\"choropleth\"}],\"contour\":[{\"colorbar\":{\"outlinewidth\":0,\"ticks\":\"\"},\"colorscale\":[[0.0,\"#0d0887\"],[0.1111111111111111,\"#46039f\"],[0.2222222222222222,\"#7201a8\"],[0.3333333333333333,\"#9c179e\"],[0.4444444444444444,\"#bd3786\"],[0.5555555555555556,\"#d8576b\"],[0.6666666666666666,\"#ed7953\"],[0.7777777777777778,\"#fb9f3a\"],[0.8888888888888888,\"#fdca26\"],[1.0,\"#f0f921\"]],\"type\":\"contour\"}],\"contourcarpet\":[{\"colorbar\":{\"outlinewidth\":0,\"ticks\":\"\"},\"type\":\"contourcarpet\"}],\"heatmap\":[{\"colorbar\":{\"outlinewidth\":0,\"ticks\":\"\"},\"colorscale\":[[0.0,\"#0d0887\"],[0.1111111111111111,\"#46039f\"],[0.2222222222222222,\"#7201a8\"],[0.3333333333333333,\"#9c179e\"],[0.4444444444444444,\"#bd3786\"],[0.5555555555555556,\"#d8576b\"],[0.6666666666666666,\"#ed7953\"],[0.7777777777777778,\"#fb9f3a\"],[0.8888888888888888,\"#fdca26\"],[1.0,\"#f0f921\"]],\"type\":\"heatmap\"}],\"heatmapgl\":[{\"colorbar\":{\"outlinewidth\":0,\"ticks\":\"\"},\"colorscale\":[[0.0,\"#0d0887\"],[0.1111111111111111,\"#46039f\"],[0.2222222222222222,\"#7201a8\"],[0.3333333333333333,\"#9c179e\"],[0.4444444444444444,\"#bd3786\"],[0.5555555555555556,\"#d8576b\"],[0.6666666666666666,\"#ed7953\"],[0.7777777777777778,\"#fb9f3a\"],[0.8888888888888888,\"#fdca26\"],[1.0,\"#f0f921\"]],\"type\":\"heatmapgl\"}],\"histogram\":[{\"marker\":{\"pattern\":{\"fillmode\":\"overlay\",\"size\":10,\"solidity\":0.2}},\"type\":\"histogram\"}],\"histogram2d\":[{\"colorbar\":{\"outlinewidth\":0,\"ticks\":\"\"},\"colorscale\":[[0.0,\"#0d0887\"],[0.1111111111111111,\"#46039f\"],[0.2222222222222222,\"#7201a8\"],[0.3333333333333333,\"#9c179e\"],[0.4444444444444444,\"#bd3786\"],[0.5555555555555556,\"#d8576b\"],[0.6666666666666666,\"#ed7953\"],[0.7777777777777778,\"#fb9f3a\"],[0.8888888888888888,\"#fdca26\"],[1.0,\"#f0f921\"]],\"type\":\"histogram2d\"}],\"histogram2dcontour\":[{\"colorbar\":{\"outlinewidth\":0,\"ticks\":\"\"},\"colorscale\":[[0.0,\"#0d0887\"],[0.1111111111111111,\"#46039f\"],[0.2222222222222222,\"#7201a8\"],[0.3333333333333333,\"#9c179e\"],[0.4444444444444444,\"#bd3786\"],[0.5555555555555556,\"#d8576b\"],[0.6666666666666666,\"#ed7953\"],[0.7777777777777778,\"#fb9f3a\"],[0.8888888888888888,\"#fdca26\"],[1.0,\"#f0f921\"]],\"type\":\"histogram2dcontour\"}],\"mesh3d\":[{\"colorbar\":{\"outlinewidth\":0,\"ticks\":\"\"},\"type\":\"mesh3d\"}],\"parcoords\":[{\"line\":{\"colorbar\":{\"outlinewidth\":0,\"ticks\":\"\"}},\"type\":\"parcoords\"}],\"pie\":[{\"automargin\":true,\"type\":\"pie\"}],\"scatter\":[{\"marker\":{\"colorbar\":{\"outlinewidth\":0,\"ticks\":\"\"}},\"type\":\"scatter\"}],\"scatter3d\":[{\"line\":{\"colorbar\":{\"outlinewidth\":0,\"ticks\":\"\"}},\"marker\":{\"colorbar\":{\"outlinewidth\":0,\"ticks\":\"\"}},\"type\":\"scatter3d\"}],\"scattercarpet\":[{\"marker\":{\"colorbar\":{\"outlinewidth\":0,\"ticks\":\"\"}},\"type\":\"scattercarpet\"}],\"scattergeo\":[{\"marker\":{\"colorbar\":{\"outlinewidth\":0,\"ticks\":\"\"}},\"type\":\"scattergeo\"}],\"scattergl\":[{\"marker\":{\"colorbar\":{\"outlinewidth\":0,\"ticks\":\"\"}},\"type\":\"scattergl\"}],\"scattermapbox\":[{\"marker\":{\"colorbar\":{\"outlinewidth\":0,\"ticks\":\"\"}},\"type\":\"scattermapbox\"}],\"scatterpolar\":[{\"marker\":{\"colorbar\":{\"outlinewidth\":0,\"ticks\":\"\"}},\"type\":\"scatterpolar\"}],\"scatterpolargl\":[{\"marker\":{\"colorbar\":{\"outlinewidth\":0,\"ticks\":\"\"}},\"type\":\"scatterpolargl\"}],\"scatterternary\":[{\"marker\":{\"colorbar\":{\"outlinewidth\":0,\"ticks\":\"\"}},\"type\":\"scatterternary\"}],\"surface\":[{\"colorbar\":{\"outlinewidth\":0,\"ticks\":\"\"},\"colorscale\":[[0.0,\"#0d0887\"],[0.1111111111111111,\"#46039f\"],[0.2222222222222222,\"#7201a8\"],[0.3333333333333333,\"#9c179e\"],[0.4444444444444444,\"#bd3786\"],[0.5555555555555556,\"#d8576b\"],[0.6666666666666666,\"#ed7953\"],[0.7777777777777778,\"#fb9f3a\"],[0.8888888888888888,\"#fdca26\"],[1.0,\"#f0f921\"]],\"type\":\"surface\"}],\"table\":[{\"cells\":{\"fill\":{\"color\":\"#EBF0F8\"},\"line\":{\"color\":\"white\"}},\"header\":{\"fill\":{\"color\":\"#C8D4E3\"},\"line\":{\"color\":\"white\"}},\"type\":\"table\"}]},\"layout\":{\"annotationdefaults\":{\"arrowcolor\":\"#2a3f5f\",\"arrowhead\":0,\"arrowwidth\":1},\"autotypenumbers\":\"strict\",\"coloraxis\":{\"colorbar\":{\"outlinewidth\":0,\"ticks\":\"\"}},\"colorscale\":{\"diverging\":[[0,\"#8e0152\"],[0.1,\"#c51b7d\"],[0.2,\"#de77ae\"],[0.3,\"#f1b6da\"],[0.4,\"#fde0ef\"],[0.5,\"#f7f7f7\"],[0.6,\"#e6f5d0\"],[0.7,\"#b8e186\"],[0.8,\"#7fbc41\"],[0.9,\"#4d9221\"],[1,\"#276419\"]],\"sequential\":[[0.0,\"#0d0887\"],[0.1111111111111111,\"#46039f\"],[0.2222222222222222,\"#7201a8\"],[0.3333333333333333,\"#9c179e\"],[0.4444444444444444,\"#bd3786\"],[0.5555555555555556,\"#d8576b\"],[0.6666666666666666,\"#ed7953\"],[0.7777777777777778,\"#fb9f3a\"],[0.8888888888888888,\"#fdca26\"],[1.0,\"#f0f921\"]],\"sequentialminus\":[[0.0,\"#0d0887\"],[0.1111111111111111,\"#46039f\"],[0.2222222222222222,\"#7201a8\"],[0.3333333333333333,\"#9c179e\"],[0.4444444444444444,\"#bd3786\"],[0.5555555555555556,\"#d8576b\"],[0.6666666666666666,\"#ed7953\"],[0.7777777777777778,\"#fb9f3a\"],[0.8888888888888888,\"#fdca26\"],[1.0,\"#f0f921\"]]},\"colorway\":[\"#636efa\",\"#EF553B\",\"#00cc96\",\"#ab63fa\",\"#FFA15A\",\"#19d3f3\",\"#FF6692\",\"#B6E880\",\"#FF97FF\",\"#FECB52\"],\"font\":{\"color\":\"#2a3f5f\"},\"geo\":{\"bgcolor\":\"white\",\"lakecolor\":\"white\",\"landcolor\":\"#E5ECF6\",\"showlakes\":true,\"showland\":true,\"subunitcolor\":\"white\"},\"hoverlabel\":{\"align\":\"left\"},\"hovermode\":\"closest\",\"mapbox\":{\"style\":\"light\"},\"paper_bgcolor\":\"white\",\"plot_bgcolor\":\"#E5ECF6\",\"polar\":{\"angularaxis\":{\"gridcolor\":\"white\",\"linecolor\":\"white\",\"ticks\":\"\"},\"bgcolor\":\"#E5ECF6\",\"radialaxis\":{\"gridcolor\":\"white\",\"linecolor\":\"white\",\"ticks\":\"\"}},\"scene\":{\"xaxis\":{\"backgroundcolor\":\"#E5ECF6\",\"gridcolor\":\"white\",\"gridwidth\":2,\"linecolor\":\"white\",\"showbackground\":true,\"ticks\":\"\",\"zerolinecolor\":\"white\"},\"yaxis\":{\"backgroundcolor\":\"#E5ECF6\",\"gridcolor\":\"white\",\"gridwidth\":2,\"linecolor\":\"white\",\"showbackground\":true,\"ticks\":\"\",\"zerolinecolor\":\"white\"},\"zaxis\":{\"backgroundcolor\":\"#E5ECF6\",\"gridcolor\":\"white\",\"gridwidth\":2,\"linecolor\":\"white\",\"showbackground\":true,\"ticks\":\"\",\"zerolinecolor\":\"white\"}},\"shapedefaults\":{\"line\":{\"color\":\"#2a3f5f\"}},\"ternary\":{\"aaxis\":{\"gridcolor\":\"white\",\"linecolor\":\"white\",\"ticks\":\"\"},\"baxis\":{\"gridcolor\":\"white\",\"linecolor\":\"white\",\"ticks\":\"\"},\"bgcolor\":\"#E5ECF6\",\"caxis\":{\"gridcolor\":\"white\",\"linecolor\":\"white\",\"ticks\":\"\"}},\"title\":{\"x\":0.05},\"xaxis\":{\"automargin\":true,\"gridcolor\":\"white\",\"linecolor\":\"white\",\"ticks\":\"\",\"title\":{\"standoff\":15},\"zerolinecolor\":\"white\",\"zerolinewidth\":2},\"yaxis\":{\"automargin\":true,\"gridcolor\":\"white\",\"linecolor\":\"white\",\"ticks\":\"\",\"title\":{\"standoff\":15},\"zerolinecolor\":\"white\",\"zerolinewidth\":2}}}},                        {\"responsive\": true}                    ).then(function(){\n",
              "                            \n",
              "var gd = document.getElementById('2c642430-ddb3-4a67-a882-3f09f87a0f1d');\n",
              "var x = new MutationObserver(function (mutations, observer) {{\n",
              "        var display = window.getComputedStyle(gd).display;\n",
              "        if (!display || display === 'none') {{\n",
              "            console.log([gd, 'removed!']);\n",
              "            Plotly.purge(gd);\n",
              "            observer.disconnect();\n",
              "        }}\n",
              "}});\n",
              "\n",
              "// Listen for the removal of the full notebook cells\n",
              "var notebookContainer = gd.closest('#notebook-container');\n",
              "if (notebookContainer) {{\n",
              "    x.observe(notebookContainer, {childList: true});\n",
              "}}\n",
              "\n",
              "// Listen for the clearing of the current output cell\n",
              "var outputEl = gd.closest('.output');\n",
              "if (outputEl) {{\n",
              "    x.observe(outputEl, {childList: true});\n",
              "}}\n",
              "\n",
              "                        })                };                            </script>        </div>\n",
              "</body>\n",
              "</html>"
            ]
          },
          "metadata": {}
        }
      ]
    },
    {
      "cell_type": "code",
      "metadata": {
        "colab": {
          "base_uri": "https://localhost:8080/",
          "height": 542
        },
        "id": "PkFNciacQ8gN",
        "outputId": "4f8336d2-1efc-4d28-9f5a-ceb581d4ed76"
      },
      "source": [
        "# Plot Sterling, Rashford, Kane tweet frequency\n",
        "df = joined_df.resample(INTERVAL, on='created_at')['MarcusRashford', 'sterling7', 'HKane'].sum().reset_index()\n",
        "fig = create_frequency_plot(df, ['MarcusRashford', 'sterling7', 'HKane'])\n",
        "fig.show()"
      ],
      "execution_count": 32,
      "outputs": [
        {
          "output_type": "display_data",
          "data": {
            "text/html": [
              "<html>\n",
              "<head><meta charset=\"utf-8\" /></head>\n",
              "<body>\n",
              "    <div>            <script src=\"https://cdnjs.cloudflare.com/ajax/libs/mathjax/2.7.5/MathJax.js?config=TeX-AMS-MML_SVG\"></script><script type=\"text/javascript\">if (window.MathJax) {MathJax.Hub.Config({SVG: {font: \"STIX-Web\"}});}</script>                <script type=\"text/javascript\">window.PlotlyConfig = {MathJaxConfig: 'local'};</script>\n",
              "        <script src=\"https://cdn.plot.ly/plotly-2.8.3.min.js\"></script>                <div id=\"bebfedff-6cdc-4b0c-85ee-3a130c343a6a\" class=\"plotly-graph-div\" style=\"height:525px; width:100%;\"></div>            <script type=\"text/javascript\">                                    window.PLOTLYENV=window.PLOTLYENV || {};                                    if (document.getElementById(\"bebfedff-6cdc-4b0c-85ee-3a130c343a6a\")) {                    Plotly.newPlot(                        \"bebfedff-6cdc-4b0c-85ee-3a130c343a6a\",                        [{\"mode\":\"lines\",\"name\":\"MarcusRashford\",\"x\":[\"2022-11-10T11:00:00+00:00\",\"2022-11-10T12:00:00+00:00\",\"2022-11-10T13:00:00+00:00\",\"2022-11-10T14:00:00+00:00\",\"2022-11-10T15:00:00+00:00\",\"2022-11-10T16:00:00+00:00\",\"2022-11-10T17:00:00+00:00\",\"2022-11-10T18:00:00+00:00\",\"2022-11-10T19:00:00+00:00\",\"2022-11-10T20:00:00+00:00\",\"2022-11-10T21:00:00+00:00\",\"2022-11-10T22:00:00+00:00\",\"2022-11-10T23:00:00+00:00\",\"2022-11-11T00:00:00+00:00\",\"2022-11-11T01:00:00+00:00\",\"2022-11-11T02:00:00+00:00\",\"2022-11-11T03:00:00+00:00\",\"2022-11-11T04:00:00+00:00\",\"2022-11-11T05:00:00+00:00\",\"2022-11-11T06:00:00+00:00\",\"2022-11-11T07:00:00+00:00\",\"2022-11-11T08:00:00+00:00\",\"2022-11-11T09:00:00+00:00\",\"2022-11-11T10:00:00+00:00\",\"2022-11-11T11:00:00+00:00\",\"2022-11-11T12:00:00+00:00\",\"2022-11-11T13:00:00+00:00\",\"2022-11-11T14:00:00+00:00\",\"2022-11-11T15:00:00+00:00\",\"2022-11-11T16:00:00+00:00\",\"2022-11-11T17:00:00+00:00\",\"2022-11-11T18:00:00+00:00\",\"2022-11-11T19:00:00+00:00\",\"2022-11-11T20:00:00+00:00\",\"2022-11-11T21:00:00+00:00\",\"2022-11-11T22:00:00+00:00\",\"2022-11-11T23:00:00+00:00\",\"2022-11-12T00:00:00+00:00\",\"2022-11-12T01:00:00+00:00\",\"2022-11-12T02:00:00+00:00\",\"2022-11-12T03:00:00+00:00\",\"2022-11-12T04:00:00+00:00\",\"2022-11-12T05:00:00+00:00\",\"2022-11-12T06:00:00+00:00\",\"2022-11-12T07:00:00+00:00\",\"2022-11-12T08:00:00+00:00\",\"2022-11-12T09:00:00+00:00\",\"2022-11-12T10:00:00+00:00\",\"2022-11-12T11:00:00+00:00\",\"2022-11-12T12:00:00+00:00\",\"2022-11-12T13:00:00+00:00\",\"2022-11-12T14:00:00+00:00\",\"2022-11-12T15:00:00+00:00\",\"2022-11-12T16:00:00+00:00\",\"2022-11-12T17:00:00+00:00\",\"2022-11-12T18:00:00+00:00\",\"2022-11-12T19:00:00+00:00\",\"2022-11-12T20:00:00+00:00\",\"2022-11-12T21:00:00+00:00\",\"2022-11-12T22:00:00+00:00\",\"2022-11-12T23:00:00+00:00\",\"2022-11-13T00:00:00+00:00\",\"2022-11-13T01:00:00+00:00\",\"2022-11-13T02:00:00+00:00\",\"2022-11-13T03:00:00+00:00\",\"2022-11-13T04:00:00+00:00\",\"2022-11-13T05:00:00+00:00\",\"2022-11-13T06:00:00+00:00\",\"2022-11-13T07:00:00+00:00\",\"2022-11-13T08:00:00+00:00\",\"2022-11-13T09:00:00+00:00\",\"2022-11-13T10:00:00+00:00\",\"2022-11-13T11:00:00+00:00\",\"2022-11-13T12:00:00+00:00\",\"2022-11-13T13:00:00+00:00\",\"2022-11-13T14:00:00+00:00\",\"2022-11-13T15:00:00+00:00\",\"2022-11-13T16:00:00+00:00\",\"2022-11-13T17:00:00+00:00\",\"2022-11-13T18:00:00+00:00\",\"2022-11-13T19:00:00+00:00\",\"2022-11-13T20:00:00+00:00\",\"2022-11-13T21:00:00+00:00\",\"2022-11-13T22:00:00+00:00\",\"2022-11-13T23:00:00+00:00\",\"2022-11-14T00:00:00+00:00\",\"2022-11-14T01:00:00+00:00\",\"2022-11-14T02:00:00+00:00\",\"2022-11-14T03:00:00+00:00\",\"2022-11-14T04:00:00+00:00\",\"2022-11-14T05:00:00+00:00\",\"2022-11-14T06:00:00+00:00\",\"2022-11-14T07:00:00+00:00\",\"2022-11-14T08:00:00+00:00\",\"2022-11-14T09:00:00+00:00\",\"2022-11-14T10:00:00+00:00\",\"2022-11-14T11:00:00+00:00\",\"2022-11-14T12:00:00+00:00\",\"2022-11-14T13:00:00+00:00\",\"2022-11-14T14:00:00+00:00\",\"2022-11-14T15:00:00+00:00\",\"2022-11-14T16:00:00+00:00\",\"2022-11-14T17:00:00+00:00\",\"2022-11-14T18:00:00+00:00\",\"2022-11-14T19:00:00+00:00\",\"2022-11-14T20:00:00+00:00\",\"2022-11-14T21:00:00+00:00\",\"2022-11-14T22:00:00+00:00\",\"2022-11-14T23:00:00+00:00\",\"2022-11-15T00:00:00+00:00\",\"2022-11-15T01:00:00+00:00\",\"2022-11-15T02:00:00+00:00\",\"2022-11-15T03:00:00+00:00\",\"2022-11-15T04:00:00+00:00\",\"2022-11-15T05:00:00+00:00\",\"2022-11-15T06:00:00+00:00\",\"2022-11-15T07:00:00+00:00\",\"2022-11-15T08:00:00+00:00\",\"2022-11-15T09:00:00+00:00\",\"2022-11-15T10:00:00+00:00\",\"2022-11-15T11:00:00+00:00\",\"2022-11-15T12:00:00+00:00\",\"2022-11-15T13:00:00+00:00\",\"2022-11-15T14:00:00+00:00\",\"2022-11-15T15:00:00+00:00\",\"2022-11-15T16:00:00+00:00\",\"2022-11-15T17:00:00+00:00\",\"2022-11-15T18:00:00+00:00\",\"2022-11-15T19:00:00+00:00\",\"2022-11-15T20:00:00+00:00\",\"2022-11-15T21:00:00+00:00\",\"2022-11-15T22:00:00+00:00\",\"2022-11-15T23:00:00+00:00\",\"2022-11-16T00:00:00+00:00\",\"2022-11-16T01:00:00+00:00\",\"2022-11-16T02:00:00+00:00\",\"2022-11-16T03:00:00+00:00\",\"2022-11-16T04:00:00+00:00\",\"2022-11-16T05:00:00+00:00\",\"2022-11-16T06:00:00+00:00\",\"2022-11-16T07:00:00+00:00\",\"2022-11-16T08:00:00+00:00\",\"2022-11-16T09:00:00+00:00\",\"2022-11-16T10:00:00+00:00\",\"2022-11-16T11:00:00+00:00\",\"2022-11-16T12:00:00+00:00\",\"2022-11-16T13:00:00+00:00\",\"2022-11-16T14:00:00+00:00\",\"2022-11-16T15:00:00+00:00\",\"2022-11-16T16:00:00+00:00\",\"2022-11-16T17:00:00+00:00\",\"2022-11-16T18:00:00+00:00\",\"2022-11-16T19:00:00+00:00\",\"2022-11-16T20:00:00+00:00\",\"2022-11-16T21:00:00+00:00\",\"2022-11-16T22:00:00+00:00\",\"2022-11-16T23:00:00+00:00\",\"2022-11-17T00:00:00+00:00\",\"2022-11-17T01:00:00+00:00\",\"2022-11-17T02:00:00+00:00\",\"2022-11-17T03:00:00+00:00\",\"2022-11-17T04:00:00+00:00\",\"2022-11-17T05:00:00+00:00\",\"2022-11-17T06:00:00+00:00\",\"2022-11-17T07:00:00+00:00\",\"2022-11-17T08:00:00+00:00\",\"2022-11-17T09:00:00+00:00\",\"2022-11-17T10:00:00+00:00\",\"2022-11-17T11:00:00+00:00\",\"2022-11-17T12:00:00+00:00\",\"2022-11-17T13:00:00+00:00\",\"2022-11-17T14:00:00+00:00\",\"2022-11-17T15:00:00+00:00\",\"2022-11-17T16:00:00+00:00\",\"2022-11-17T17:00:00+00:00\",\"2022-11-17T18:00:00+00:00\",\"2022-11-17T19:00:00+00:00\",\"2022-11-17T20:00:00+00:00\",\"2022-11-17T21:00:00+00:00\",\"2022-11-17T22:00:00+00:00\",\"2022-11-17T23:00:00+00:00\",\"2022-11-18T00:00:00+00:00\",\"2022-11-18T01:00:00+00:00\",\"2022-11-18T02:00:00+00:00\",\"2022-11-18T03:00:00+00:00\",\"2022-11-18T04:00:00+00:00\",\"2022-11-18T05:00:00+00:00\",\"2022-11-18T06:00:00+00:00\",\"2022-11-18T07:00:00+00:00\",\"2022-11-18T08:00:00+00:00\",\"2022-11-18T09:00:00+00:00\",\"2022-11-18T10:00:00+00:00\",\"2022-11-18T11:00:00+00:00\",\"2022-11-18T12:00:00+00:00\",\"2022-11-18T13:00:00+00:00\",\"2022-11-18T14:00:00+00:00\",\"2022-11-18T15:00:00+00:00\",\"2022-11-18T16:00:00+00:00\",\"2022-11-18T17:00:00+00:00\",\"2022-11-18T18:00:00+00:00\",\"2022-11-18T19:00:00+00:00\",\"2022-11-18T20:00:00+00:00\",\"2022-11-18T21:00:00+00:00\",\"2022-11-18T22:00:00+00:00\",\"2022-11-18T23:00:00+00:00\",\"2022-11-19T00:00:00+00:00\",\"2022-11-19T01:00:00+00:00\",\"2022-11-19T02:00:00+00:00\",\"2022-11-19T03:00:00+00:00\",\"2022-11-19T04:00:00+00:00\",\"2022-11-19T05:00:00+00:00\",\"2022-11-19T06:00:00+00:00\",\"2022-11-19T07:00:00+00:00\",\"2022-11-19T08:00:00+00:00\",\"2022-11-19T09:00:00+00:00\",\"2022-11-19T10:00:00+00:00\",\"2022-11-19T11:00:00+00:00\",\"2022-11-19T12:00:00+00:00\",\"2022-11-19T13:00:00+00:00\",\"2022-11-19T14:00:00+00:00\",\"2022-11-19T15:00:00+00:00\",\"2022-11-19T16:00:00+00:00\",\"2022-11-19T17:00:00+00:00\",\"2022-11-19T18:00:00+00:00\",\"2022-11-19T19:00:00+00:00\",\"2022-11-19T20:00:00+00:00\",\"2022-11-19T21:00:00+00:00\",\"2022-11-19T22:00:00+00:00\",\"2022-11-19T23:00:00+00:00\",\"2022-11-20T00:00:00+00:00\",\"2022-11-20T01:00:00+00:00\",\"2022-11-20T02:00:00+00:00\",\"2022-11-20T03:00:00+00:00\",\"2022-11-20T04:00:00+00:00\",\"2022-11-20T05:00:00+00:00\",\"2022-11-20T06:00:00+00:00\",\"2022-11-20T07:00:00+00:00\",\"2022-11-20T08:00:00+00:00\",\"2022-11-20T09:00:00+00:00\",\"2022-11-20T10:00:00+00:00\",\"2022-11-20T11:00:00+00:00\",\"2022-11-20T12:00:00+00:00\",\"2022-11-20T13:00:00+00:00\",\"2022-11-20T14:00:00+00:00\",\"2022-11-20T15:00:00+00:00\",\"2022-11-20T16:00:00+00:00\",\"2022-11-20T17:00:00+00:00\",\"2022-11-20T18:00:00+00:00\",\"2022-11-20T19:00:00+00:00\",\"2022-11-20T20:00:00+00:00\",\"2022-11-20T21:00:00+00:00\",\"2022-11-20T22:00:00+00:00\",\"2022-11-20T23:00:00+00:00\",\"2022-11-21T00:00:00+00:00\",\"2022-11-21T01:00:00+00:00\",\"2022-11-21T02:00:00+00:00\",\"2022-11-21T03:00:00+00:00\",\"2022-11-21T04:00:00+00:00\",\"2022-11-21T05:00:00+00:00\",\"2022-11-21T06:00:00+00:00\",\"2022-11-21T07:00:00+00:00\",\"2022-11-21T08:00:00+00:00\",\"2022-11-21T09:00:00+00:00\",\"2022-11-21T10:00:00+00:00\",\"2022-11-21T11:00:00+00:00\",\"2022-11-21T12:00:00+00:00\",\"2022-11-21T13:00:00+00:00\",\"2022-11-21T14:00:00+00:00\",\"2022-11-21T15:00:00+00:00\",\"2022-11-21T16:00:00+00:00\",\"2022-11-21T17:00:00+00:00\",\"2022-11-21T18:00:00+00:00\",\"2022-11-21T19:00:00+00:00\",\"2022-11-21T20:00:00+00:00\",\"2022-11-21T21:00:00+00:00\",\"2022-11-21T22:00:00+00:00\",\"2022-11-21T23:00:00+00:00\",\"2022-11-22T00:00:00+00:00\",\"2022-11-22T01:00:00+00:00\",\"2022-11-22T02:00:00+00:00\",\"2022-11-22T03:00:00+00:00\",\"2022-11-22T04:00:00+00:00\",\"2022-11-22T05:00:00+00:00\",\"2022-11-22T06:00:00+00:00\",\"2022-11-22T07:00:00+00:00\",\"2022-11-22T08:00:00+00:00\",\"2022-11-22T09:00:00+00:00\",\"2022-11-22T10:00:00+00:00\",\"2022-11-22T11:00:00+00:00\",\"2022-11-22T12:00:00+00:00\",\"2022-11-22T13:00:00+00:00\",\"2022-11-22T14:00:00+00:00\",\"2022-11-22T15:00:00+00:00\",\"2022-11-22T16:00:00+00:00\",\"2022-11-22T17:00:00+00:00\",\"2022-11-22T18:00:00+00:00\",\"2022-11-22T19:00:00+00:00\",\"2022-11-22T20:00:00+00:00\",\"2022-11-22T21:00:00+00:00\",\"2022-11-22T22:00:00+00:00\",\"2022-11-22T23:00:00+00:00\",\"2022-11-23T00:00:00+00:00\",\"2022-11-23T01:00:00+00:00\",\"2022-11-23T02:00:00+00:00\",\"2022-11-23T03:00:00+00:00\",\"2022-11-23T04:00:00+00:00\",\"2022-11-23T05:00:00+00:00\",\"2022-11-23T06:00:00+00:00\",\"2022-11-23T07:00:00+00:00\",\"2022-11-23T08:00:00+00:00\",\"2022-11-23T09:00:00+00:00\",\"2022-11-23T10:00:00+00:00\",\"2022-11-23T11:00:00+00:00\",\"2022-11-23T12:00:00+00:00\",\"2022-11-23T13:00:00+00:00\",\"2022-11-23T14:00:00+00:00\",\"2022-11-23T15:00:00+00:00\",\"2022-11-23T16:00:00+00:00\",\"2022-11-23T17:00:00+00:00\",\"2022-11-23T18:00:00+00:00\",\"2022-11-23T19:00:00+00:00\",\"2022-11-23T20:00:00+00:00\",\"2022-11-23T21:00:00+00:00\",\"2022-11-23T22:00:00+00:00\",\"2022-11-23T23:00:00+00:00\",\"2022-11-24T00:00:00+00:00\",\"2022-11-24T01:00:00+00:00\",\"2022-11-24T02:00:00+00:00\",\"2022-11-24T03:00:00+00:00\",\"2022-11-24T04:00:00+00:00\",\"2022-11-24T05:00:00+00:00\",\"2022-11-24T06:00:00+00:00\",\"2022-11-24T07:00:00+00:00\",\"2022-11-24T08:00:00+00:00\",\"2022-11-24T09:00:00+00:00\",\"2022-11-24T10:00:00+00:00\",\"2022-11-24T11:00:00+00:00\",\"2022-11-24T12:00:00+00:00\",\"2022-11-24T13:00:00+00:00\",\"2022-11-24T14:00:00+00:00\",\"2022-11-24T15:00:00+00:00\",\"2022-11-24T16:00:00+00:00\",\"2022-11-24T17:00:00+00:00\",\"2022-11-24T18:00:00+00:00\",\"2022-11-24T19:00:00+00:00\",\"2022-11-24T20:00:00+00:00\",\"2022-11-24T21:00:00+00:00\",\"2022-11-24T22:00:00+00:00\",\"2022-11-24T23:00:00+00:00\",\"2022-11-25T00:00:00+00:00\",\"2022-11-25T01:00:00+00:00\",\"2022-11-25T02:00:00+00:00\",\"2022-11-25T03:00:00+00:00\",\"2022-11-25T04:00:00+00:00\",\"2022-11-25T05:00:00+00:00\",\"2022-11-25T06:00:00+00:00\",\"2022-11-25T07:00:00+00:00\",\"2022-11-25T08:00:00+00:00\",\"2022-11-25T09:00:00+00:00\",\"2022-11-25T10:00:00+00:00\",\"2022-11-25T11:00:00+00:00\",\"2022-11-25T12:00:00+00:00\",\"2022-11-25T13:00:00+00:00\",\"2022-11-25T14:00:00+00:00\",\"2022-11-25T15:00:00+00:00\",\"2022-11-25T16:00:00+00:00\",\"2022-11-25T17:00:00+00:00\",\"2022-11-25T18:00:00+00:00\",\"2022-11-25T19:00:00+00:00\",\"2022-11-25T20:00:00+00:00\",\"2022-11-25T21:00:00+00:00\",\"2022-11-25T22:00:00+00:00\",\"2022-11-25T23:00:00+00:00\",\"2022-11-26T00:00:00+00:00\",\"2022-11-26T01:00:00+00:00\",\"2022-11-26T02:00:00+00:00\",\"2022-11-26T03:00:00+00:00\",\"2022-11-26T04:00:00+00:00\",\"2022-11-26T05:00:00+00:00\",\"2022-11-26T06:00:00+00:00\",\"2022-11-26T07:00:00+00:00\",\"2022-11-26T08:00:00+00:00\",\"2022-11-26T09:00:00+00:00\",\"2022-11-26T10:00:00+00:00\",\"2022-11-26T11:00:00+00:00\",\"2022-11-26T12:00:00+00:00\",\"2022-11-26T13:00:00+00:00\",\"2022-11-26T14:00:00+00:00\",\"2022-11-26T15:00:00+00:00\",\"2022-11-26T16:00:00+00:00\",\"2022-11-26T17:00:00+00:00\",\"2022-11-26T18:00:00+00:00\",\"2022-11-26T19:00:00+00:00\",\"2022-11-26T20:00:00+00:00\",\"2022-11-26T21:00:00+00:00\",\"2022-11-26T22:00:00+00:00\",\"2022-11-26T23:00:00+00:00\",\"2022-11-27T00:00:00+00:00\",\"2022-11-27T01:00:00+00:00\",\"2022-11-27T02:00:00+00:00\",\"2022-11-27T03:00:00+00:00\",\"2022-11-27T04:00:00+00:00\",\"2022-11-27T05:00:00+00:00\",\"2022-11-27T06:00:00+00:00\",\"2022-11-27T07:00:00+00:00\",\"2022-11-27T08:00:00+00:00\",\"2022-11-27T09:00:00+00:00\",\"2022-11-27T10:00:00+00:00\",\"2022-11-27T11:00:00+00:00\",\"2022-11-27T12:00:00+00:00\",\"2022-11-27T13:00:00+00:00\",\"2022-11-27T14:00:00+00:00\",\"2022-11-27T15:00:00+00:00\",\"2022-11-27T16:00:00+00:00\",\"2022-11-27T17:00:00+00:00\",\"2022-11-27T18:00:00+00:00\",\"2022-11-27T19:00:00+00:00\",\"2022-11-27T20:00:00+00:00\",\"2022-11-27T21:00:00+00:00\",\"2022-11-27T22:00:00+00:00\",\"2022-11-27T23:00:00+00:00\",\"2022-11-28T00:00:00+00:00\",\"2022-11-28T01:00:00+00:00\",\"2022-11-28T02:00:00+00:00\",\"2022-11-28T03:00:00+00:00\",\"2022-11-28T04:00:00+00:00\",\"2022-11-28T05:00:00+00:00\",\"2022-11-28T06:00:00+00:00\",\"2022-11-28T07:00:00+00:00\",\"2022-11-28T08:00:00+00:00\",\"2022-11-28T09:00:00+00:00\",\"2022-11-28T10:00:00+00:00\",\"2022-11-28T11:00:00+00:00\",\"2022-11-28T12:00:00+00:00\",\"2022-11-28T13:00:00+00:00\",\"2022-11-28T14:00:00+00:00\",\"2022-11-28T15:00:00+00:00\",\"2022-11-28T16:00:00+00:00\",\"2022-11-28T17:00:00+00:00\",\"2022-11-28T18:00:00+00:00\",\"2022-11-28T19:00:00+00:00\",\"2022-11-28T20:00:00+00:00\",\"2022-11-28T21:00:00+00:00\",\"2022-11-28T22:00:00+00:00\",\"2022-11-28T23:00:00+00:00\",\"2022-11-29T00:00:00+00:00\",\"2022-11-29T01:00:00+00:00\",\"2022-11-29T02:00:00+00:00\",\"2022-11-29T03:00:00+00:00\",\"2022-11-29T04:00:00+00:00\",\"2022-11-29T05:00:00+00:00\",\"2022-11-29T06:00:00+00:00\",\"2022-11-29T07:00:00+00:00\",\"2022-11-29T08:00:00+00:00\",\"2022-11-29T09:00:00+00:00\",\"2022-11-29T10:00:00+00:00\",\"2022-11-29T11:00:00+00:00\",\"2022-11-29T12:00:00+00:00\",\"2022-11-29T13:00:00+00:00\",\"2022-11-29T14:00:00+00:00\",\"2022-11-29T15:00:00+00:00\",\"2022-11-29T16:00:00+00:00\",\"2022-11-29T17:00:00+00:00\",\"2022-11-29T18:00:00+00:00\",\"2022-11-29T19:00:00+00:00\",\"2022-11-29T20:00:00+00:00\",\"2022-11-29T21:00:00+00:00\",\"2022-11-29T22:00:00+00:00\",\"2022-11-29T23:00:00+00:00\",\"2022-11-30T00:00:00+00:00\",\"2022-11-30T01:00:00+00:00\",\"2022-11-30T02:00:00+00:00\",\"2022-11-30T03:00:00+00:00\",\"2022-11-30T04:00:00+00:00\",\"2022-11-30T05:00:00+00:00\",\"2022-11-30T06:00:00+00:00\",\"2022-11-30T07:00:00+00:00\",\"2022-11-30T08:00:00+00:00\",\"2022-11-30T09:00:00+00:00\",\"2022-11-30T10:00:00+00:00\",\"2022-11-30T11:00:00+00:00\",\"2022-11-30T12:00:00+00:00\",\"2022-11-30T13:00:00+00:00\",\"2022-11-30T14:00:00+00:00\",\"2022-11-30T15:00:00+00:00\",\"2022-11-30T16:00:00+00:00\",\"2022-11-30T17:00:00+00:00\",\"2022-11-30T18:00:00+00:00\",\"2022-11-30T19:00:00+00:00\",\"2022-11-30T20:00:00+00:00\",\"2022-11-30T21:00:00+00:00\",\"2022-11-30T22:00:00+00:00\",\"2022-11-30T23:00:00+00:00\",\"2022-12-01T00:00:00+00:00\",\"2022-12-01T01:00:00+00:00\",\"2022-12-01T02:00:00+00:00\",\"2022-12-01T03:00:00+00:00\",\"2022-12-01T04:00:00+00:00\",\"2022-12-01T05:00:00+00:00\",\"2022-12-01T06:00:00+00:00\",\"2022-12-01T07:00:00+00:00\",\"2022-12-01T08:00:00+00:00\",\"2022-12-01T09:00:00+00:00\",\"2022-12-01T10:00:00+00:00\",\"2022-12-01T11:00:00+00:00\",\"2022-12-01T12:00:00+00:00\",\"2022-12-01T13:00:00+00:00\",\"2022-12-01T14:00:00+00:00\",\"2022-12-01T15:00:00+00:00\",\"2022-12-01T16:00:00+00:00\",\"2022-12-01T17:00:00+00:00\",\"2022-12-01T18:00:00+00:00\",\"2022-12-01T19:00:00+00:00\",\"2022-12-01T20:00:00+00:00\",\"2022-12-01T21:00:00+00:00\",\"2022-12-01T22:00:00+00:00\",\"2022-12-01T23:00:00+00:00\",\"2022-12-02T00:00:00+00:00\",\"2022-12-02T01:00:00+00:00\",\"2022-12-02T02:00:00+00:00\",\"2022-12-02T03:00:00+00:00\",\"2022-12-02T04:00:00+00:00\",\"2022-12-02T05:00:00+00:00\",\"2022-12-02T06:00:00+00:00\",\"2022-12-02T07:00:00+00:00\",\"2022-12-02T08:00:00+00:00\",\"2022-12-02T09:00:00+00:00\",\"2022-12-02T10:00:00+00:00\",\"2022-12-02T11:00:00+00:00\",\"2022-12-02T12:00:00+00:00\",\"2022-12-02T13:00:00+00:00\",\"2022-12-02T14:00:00+00:00\",\"2022-12-02T15:00:00+00:00\",\"2022-12-02T16:00:00+00:00\",\"2022-12-02T17:00:00+00:00\",\"2022-12-02T18:00:00+00:00\",\"2022-12-02T19:00:00+00:00\",\"2022-12-02T20:00:00+00:00\",\"2022-12-02T21:00:00+00:00\",\"2022-12-02T22:00:00+00:00\",\"2022-12-02T23:00:00+00:00\",\"2022-12-03T00:00:00+00:00\",\"2022-12-03T01:00:00+00:00\",\"2022-12-03T02:00:00+00:00\",\"2022-12-03T03:00:00+00:00\",\"2022-12-03T04:00:00+00:00\",\"2022-12-03T05:00:00+00:00\",\"2022-12-03T06:00:00+00:00\",\"2022-12-03T07:00:00+00:00\",\"2022-12-03T08:00:00+00:00\",\"2022-12-03T09:00:00+00:00\",\"2022-12-03T10:00:00+00:00\",\"2022-12-03T11:00:00+00:00\",\"2022-12-03T12:00:00+00:00\",\"2022-12-03T13:00:00+00:00\",\"2022-12-03T14:00:00+00:00\",\"2022-12-03T15:00:00+00:00\",\"2022-12-03T16:00:00+00:00\",\"2022-12-03T17:00:00+00:00\",\"2022-12-03T18:00:00+00:00\",\"2022-12-03T19:00:00+00:00\",\"2022-12-03T20:00:00+00:00\",\"2022-12-03T21:00:00+00:00\",\"2022-12-03T22:00:00+00:00\",\"2022-12-03T23:00:00+00:00\",\"2022-12-04T00:00:00+00:00\",\"2022-12-04T01:00:00+00:00\",\"2022-12-04T02:00:00+00:00\",\"2022-12-04T03:00:00+00:00\",\"2022-12-04T04:00:00+00:00\",\"2022-12-04T05:00:00+00:00\",\"2022-12-04T06:00:00+00:00\",\"2022-12-04T07:00:00+00:00\",\"2022-12-04T08:00:00+00:00\",\"2022-12-04T09:00:00+00:00\",\"2022-12-04T10:00:00+00:00\",\"2022-12-04T11:00:00+00:00\",\"2022-12-04T12:00:00+00:00\",\"2022-12-04T13:00:00+00:00\",\"2022-12-04T14:00:00+00:00\",\"2022-12-04T15:00:00+00:00\",\"2022-12-04T16:00:00+00:00\",\"2022-12-04T17:00:00+00:00\",\"2022-12-04T18:00:00+00:00\",\"2022-12-04T19:00:00+00:00\",\"2022-12-04T20:00:00+00:00\",\"2022-12-04T21:00:00+00:00\",\"2022-12-04T22:00:00+00:00\",\"2022-12-04T23:00:00+00:00\",\"2022-12-05T00:00:00+00:00\",\"2022-12-05T01:00:00+00:00\",\"2022-12-05T02:00:00+00:00\",\"2022-12-05T03:00:00+00:00\",\"2022-12-05T04:00:00+00:00\",\"2022-12-05T05:00:00+00:00\",\"2022-12-05T06:00:00+00:00\",\"2022-12-05T07:00:00+00:00\",\"2022-12-05T08:00:00+00:00\",\"2022-12-05T09:00:00+00:00\",\"2022-12-05T10:00:00+00:00\",\"2022-12-05T11:00:00+00:00\",\"2022-12-05T12:00:00+00:00\",\"2022-12-05T13:00:00+00:00\",\"2022-12-05T14:00:00+00:00\",\"2022-12-05T15:00:00+00:00\",\"2022-12-05T16:00:00+00:00\",\"2022-12-05T17:00:00+00:00\",\"2022-12-05T18:00:00+00:00\",\"2022-12-05T19:00:00+00:00\",\"2022-12-05T20:00:00+00:00\",\"2022-12-05T21:00:00+00:00\",\"2022-12-05T22:00:00+00:00\",\"2022-12-05T23:00:00+00:00\",\"2022-12-06T00:00:00+00:00\",\"2022-12-06T01:00:00+00:00\",\"2022-12-06T02:00:00+00:00\",\"2022-12-06T03:00:00+00:00\",\"2022-12-06T04:00:00+00:00\",\"2022-12-06T05:00:00+00:00\",\"2022-12-06T06:00:00+00:00\",\"2022-12-06T07:00:00+00:00\",\"2022-12-06T08:00:00+00:00\",\"2022-12-06T09:00:00+00:00\",\"2022-12-06T10:00:00+00:00\",\"2022-12-06T11:00:00+00:00\",\"2022-12-06T12:00:00+00:00\",\"2022-12-06T13:00:00+00:00\",\"2022-12-06T14:00:00+00:00\",\"2022-12-06T15:00:00+00:00\",\"2022-12-06T16:00:00+00:00\",\"2022-12-06T17:00:00+00:00\",\"2022-12-06T18:00:00+00:00\",\"2022-12-06T19:00:00+00:00\",\"2022-12-06T20:00:00+00:00\",\"2022-12-06T21:00:00+00:00\",\"2022-12-06T22:00:00+00:00\",\"2022-12-06T23:00:00+00:00\",\"2022-12-07T00:00:00+00:00\",\"2022-12-07T01:00:00+00:00\",\"2022-12-07T02:00:00+00:00\",\"2022-12-07T03:00:00+00:00\",\"2022-12-07T04:00:00+00:00\",\"2022-12-07T05:00:00+00:00\",\"2022-12-07T06:00:00+00:00\",\"2022-12-07T07:00:00+00:00\",\"2022-12-07T08:00:00+00:00\",\"2022-12-07T09:00:00+00:00\",\"2022-12-07T10:00:00+00:00\",\"2022-12-07T11:00:00+00:00\",\"2022-12-07T12:00:00+00:00\",\"2022-12-07T13:00:00+00:00\",\"2022-12-07T14:00:00+00:00\",\"2022-12-07T15:00:00+00:00\",\"2022-12-07T16:00:00+00:00\",\"2022-12-07T17:00:00+00:00\",\"2022-12-07T18:00:00+00:00\",\"2022-12-07T19:00:00+00:00\",\"2022-12-07T20:00:00+00:00\",\"2022-12-07T21:00:00+00:00\",\"2022-12-07T22:00:00+00:00\",\"2022-12-07T23:00:00+00:00\",\"2022-12-08T00:00:00+00:00\",\"2022-12-08T01:00:00+00:00\",\"2022-12-08T02:00:00+00:00\",\"2022-12-08T03:00:00+00:00\",\"2022-12-08T04:00:00+00:00\",\"2022-12-08T05:00:00+00:00\",\"2022-12-08T06:00:00+00:00\",\"2022-12-08T07:00:00+00:00\",\"2022-12-08T08:00:00+00:00\",\"2022-12-08T09:00:00+00:00\",\"2022-12-08T10:00:00+00:00\",\"2022-12-08T11:00:00+00:00\",\"2022-12-08T12:00:00+00:00\",\"2022-12-08T13:00:00+00:00\",\"2022-12-08T14:00:00+00:00\",\"2022-12-08T15:00:00+00:00\",\"2022-12-08T16:00:00+00:00\",\"2022-12-08T17:00:00+00:00\",\"2022-12-08T18:00:00+00:00\",\"2022-12-08T19:00:00+00:00\",\"2022-12-08T20:00:00+00:00\",\"2022-12-08T21:00:00+00:00\",\"2022-12-08T22:00:00+00:00\",\"2022-12-08T23:00:00+00:00\",\"2022-12-09T00:00:00+00:00\",\"2022-12-09T01:00:00+00:00\",\"2022-12-09T02:00:00+00:00\",\"2022-12-09T03:00:00+00:00\",\"2022-12-09T04:00:00+00:00\",\"2022-12-09T05:00:00+00:00\",\"2022-12-09T06:00:00+00:00\",\"2022-12-09T07:00:00+00:00\",\"2022-12-09T08:00:00+00:00\",\"2022-12-09T09:00:00+00:00\",\"2022-12-09T10:00:00+00:00\",\"2022-12-09T11:00:00+00:00\",\"2022-12-09T12:00:00+00:00\",\"2022-12-09T13:00:00+00:00\",\"2022-12-09T14:00:00+00:00\",\"2022-12-09T15:00:00+00:00\",\"2022-12-09T16:00:00+00:00\",\"2022-12-09T17:00:00+00:00\",\"2022-12-09T18:00:00+00:00\",\"2022-12-09T19:00:00+00:00\",\"2022-12-09T20:00:00+00:00\",\"2022-12-09T21:00:00+00:00\",\"2022-12-09T22:00:00+00:00\",\"2022-12-09T23:00:00+00:00\",\"2022-12-10T00:00:00+00:00\",\"2022-12-10T01:00:00+00:00\",\"2022-12-10T02:00:00+00:00\",\"2022-12-10T03:00:00+00:00\",\"2022-12-10T04:00:00+00:00\",\"2022-12-10T05:00:00+00:00\",\"2022-12-10T06:00:00+00:00\",\"2022-12-10T07:00:00+00:00\",\"2022-12-10T08:00:00+00:00\",\"2022-12-10T09:00:00+00:00\",\"2022-12-10T10:00:00+00:00\",\"2022-12-10T11:00:00+00:00\",\"2022-12-10T12:00:00+00:00\",\"2022-12-10T13:00:00+00:00\",\"2022-12-10T14:00:00+00:00\",\"2022-12-10T15:00:00+00:00\",\"2022-12-10T16:00:00+00:00\",\"2022-12-10T17:00:00+00:00\",\"2022-12-10T18:00:00+00:00\",\"2022-12-10T19:00:00+00:00\",\"2022-12-10T20:00:00+00:00\",\"2022-12-10T21:00:00+00:00\",\"2022-12-10T22:00:00+00:00\",\"2022-12-10T23:00:00+00:00\",\"2022-12-11T00:00:00+00:00\",\"2022-12-11T01:00:00+00:00\",\"2022-12-11T02:00:00+00:00\",\"2022-12-11T03:00:00+00:00\",\"2022-12-11T04:00:00+00:00\",\"2022-12-11T05:00:00+00:00\",\"2022-12-11T06:00:00+00:00\",\"2022-12-11T07:00:00+00:00\",\"2022-12-11T08:00:00+00:00\",\"2022-12-11T09:00:00+00:00\",\"2022-12-11T10:00:00+00:00\",\"2022-12-11T11:00:00+00:00\",\"2022-12-11T12:00:00+00:00\",\"2022-12-11T13:00:00+00:00\",\"2022-12-11T14:00:00+00:00\",\"2022-12-11T15:00:00+00:00\",\"2022-12-11T16:00:00+00:00\",\"2022-12-11T17:00:00+00:00\",\"2022-12-11T18:00:00+00:00\",\"2022-12-11T19:00:00+00:00\",\"2022-12-11T20:00:00+00:00\",\"2022-12-11T21:00:00+00:00\",\"2022-12-11T22:00:00+00:00\",\"2022-12-11T23:00:00+00:00\",\"2022-12-12T00:00:00+00:00\",\"2022-12-12T01:00:00+00:00\",\"2022-12-12T02:00:00+00:00\",\"2022-12-12T03:00:00+00:00\",\"2022-12-12T04:00:00+00:00\",\"2022-12-12T05:00:00+00:00\",\"2022-12-12T06:00:00+00:00\",\"2022-12-12T07:00:00+00:00\",\"2022-12-12T08:00:00+00:00\",\"2022-12-12T09:00:00+00:00\",\"2022-12-12T10:00:00+00:00\",\"2022-12-12T11:00:00+00:00\",\"2022-12-12T12:00:00+00:00\",\"2022-12-12T13:00:00+00:00\",\"2022-12-12T14:00:00+00:00\",\"2022-12-12T15:00:00+00:00\",\"2022-12-12T16:00:00+00:00\",\"2022-12-12T17:00:00+00:00\",\"2022-12-12T18:00:00+00:00\",\"2022-12-12T19:00:00+00:00\",\"2022-12-12T20:00:00+00:00\",\"2022-12-12T21:00:00+00:00\",\"2022-12-12T22:00:00+00:00\",\"2022-12-12T23:00:00+00:00\",\"2022-12-13T00:00:00+00:00\",\"2022-12-13T01:00:00+00:00\",\"2022-12-13T02:00:00+00:00\",\"2022-12-13T03:00:00+00:00\",\"2022-12-13T04:00:00+00:00\",\"2022-12-13T05:00:00+00:00\",\"2022-12-13T06:00:00+00:00\",\"2022-12-13T07:00:00+00:00\",\"2022-12-13T08:00:00+00:00\",\"2022-12-13T09:00:00+00:00\",\"2022-12-13T10:00:00+00:00\",\"2022-12-13T11:00:00+00:00\",\"2022-12-13T12:00:00+00:00\",\"2022-12-13T13:00:00+00:00\",\"2022-12-13T14:00:00+00:00\",\"2022-12-13T15:00:00+00:00\",\"2022-12-13T16:00:00+00:00\",\"2022-12-13T17:00:00+00:00\",\"2022-12-13T18:00:00+00:00\",\"2022-12-13T19:00:00+00:00\",\"2022-12-13T20:00:00+00:00\",\"2022-12-13T21:00:00+00:00\",\"2022-12-13T22:00:00+00:00\",\"2022-12-13T23:00:00+00:00\",\"2022-12-14T00:00:00+00:00\",\"2022-12-14T01:00:00+00:00\",\"2022-12-14T02:00:00+00:00\",\"2022-12-14T03:00:00+00:00\",\"2022-12-14T04:00:00+00:00\",\"2022-12-14T05:00:00+00:00\",\"2022-12-14T06:00:00+00:00\",\"2022-12-14T07:00:00+00:00\",\"2022-12-14T08:00:00+00:00\",\"2022-12-14T09:00:00+00:00\",\"2022-12-14T10:00:00+00:00\",\"2022-12-14T11:00:00+00:00\",\"2022-12-14T12:00:00+00:00\",\"2022-12-14T13:00:00+00:00\",\"2022-12-14T14:00:00+00:00\",\"2022-12-14T15:00:00+00:00\",\"2022-12-14T16:00:00+00:00\",\"2022-12-14T17:00:00+00:00\",\"2022-12-14T18:00:00+00:00\",\"2022-12-14T19:00:00+00:00\",\"2022-12-14T20:00:00+00:00\",\"2022-12-14T21:00:00+00:00\",\"2022-12-14T22:00:00+00:00\",\"2022-12-14T23:00:00+00:00\",\"2022-12-15T00:00:00+00:00\"],\"y\":[17,24,21,367,137,52,37,35,70,106,367,738,454,104,44,29,26,60,44,54,60,66,45,35,39,34,20,37,21,26,30,24,14,11,14,214,155,41,10,8,12,10,17,20,26,24,27,24,30,23,15,16,15,7,9,24,12,19,24,30,12,9,5,0,4,4,3,1,7,7,17,9,14,12,11,10,12,21,84,53,173,137,264,60,44,23,13,20,9,11,17,21,24,14,21,14,15,9,26,16,14,7,30,22,18,14,14,7,28,10,6,3,4,2,2,8,8,4,16,6,2,2,8,19,94,43,119,139,62,50,30,28,30,10,11,2,4,6,6,12,17,26,11,20,10,15,2,11,170,117,121,76,52,31,31,24,12,1,8,33,12,15,14,22,14,17,67,32,20,115,42,124,53,31,47,67,84,24,374,134,58,31,23,27,22,19,23,36,40,36,26,27,22,43,32,16,22,20,21,14,51,24,16,28,6,5,7,7,5,5,6,10,9,10,7,7,5,10,16,10,12,4,7,10,5,8,23,20,9,10,6,2,2,0,5,2,3,20,13,3,39,27,16,154,402,113,93,78,63,65,43,46,41,20,14,15,12,12,26,27,37,51,43,59,50,135,36,1713,890,686,789,475,295,266,184,130,87,47,33,43,21,28,61,65,70,85,69,66,55,34,41,33,45,7,4,6,7,3,1,2,0,0,1,0,2,4,0,4,4,1,3,3,0,3,1,1,2,0,0,2,2,1,3,0,0,0,0,0,1,1,0,3,0,0,1,0,1,3,1,0,0,2,0,1,20,1,0,0,0,2,2,0,0,0,0,0,0,6,2,5,2,1,8,3,0,2,3,78,9,12,167,21,4,2,3,4,1,2,1,2,5,3,5,2,2,4,0,2,1,0,3,0,0,0,3,1,0,2,1,0,0,0,2,0,0,0,0,0,0,0,0,0,0,1,0,0,2,2,0,0,1,0,0,0,0,0,0,0,0,0,1,2,0,2,1,0,0,0,0,4,0,1,3,1,1,0,1,17,3,3,7,13,8,5,6,3,3,14,23,5,2,15,27,44,283,4397,2501,1921,777,366,313,197,141,176,255,315,414,362,307,287,206,191,281,160,137,115,124,459,210,109,103,75,63,38,35,28,28,18,30,33,35,67,52,42,48,131,309,139,266,134,83,75,47,27,41,24,15,12,7,10,10,6,20,20,30,20,22,77,77,43,47,34,13,8,10,19,18,12,56,53,15,8,3,5,13,4,7,7,10,15,56,35,62,36,24,21,12,14,16,254,101,73,43,21,22,8,13,8,5,24,11,17,27,34,35,27,27,26,31,25,25,44,104,207,82,163,77,136,44,22,7,10,3,12,17,16,17,22,18,17,13,249,124,106,72,72,50,72,47,43,48,28,22,14,10,9,15,14,23,33,34,23,35,34,20,17,15,11,6,14,5,14,9,10,38,23,7,4,6,9,6,2,5,6,8,7,8,6,5,8,23,22,58,9,13,7,8,15,27,16,7,15,5,0,5,2,5,1,7,9,6,11,6,7,80,32,32,27,33,25,15,10,9,10,11,3,6,7,1,7,6,8,5,10,7,7,3,8,6,12,11,2,6,2,5,6,7,7,5,2,3,0,2,8,2,2,6,10,9,14,15,14,6,12,14,4,41,139,86,288,937,151,102,49,41,25,15,23,12,20,47,50,44,102,1268,728,456,324,184,211,181,174,160,116,84,96,98,69,43,21,35,30,61,52,44,59,91,117,67,52,21,24,21,36,25,22,30,12,20,14,12,10,6,5,3,4,7,10,8,18,9,10,10,24,21,13,14,15,22,12,15,10,4,13,4,2,3,4,1,1,6,3,9,9,14,14,11,13,6,6,3,9,5,20,5,5,6,6,6,1],\"type\":\"scatter\"},{\"mode\":\"lines\",\"name\":\"sterling7\",\"x\":[\"2022-11-10T11:00:00+00:00\",\"2022-11-10T12:00:00+00:00\",\"2022-11-10T13:00:00+00:00\",\"2022-11-10T14:00:00+00:00\",\"2022-11-10T15:00:00+00:00\",\"2022-11-10T16:00:00+00:00\",\"2022-11-10T17:00:00+00:00\",\"2022-11-10T18:00:00+00:00\",\"2022-11-10T19:00:00+00:00\",\"2022-11-10T20:00:00+00:00\",\"2022-11-10T21:00:00+00:00\",\"2022-11-10T22:00:00+00:00\",\"2022-11-10T23:00:00+00:00\",\"2022-11-11T00:00:00+00:00\",\"2022-11-11T01:00:00+00:00\",\"2022-11-11T02:00:00+00:00\",\"2022-11-11T03:00:00+00:00\",\"2022-11-11T04:00:00+00:00\",\"2022-11-11T05:00:00+00:00\",\"2022-11-11T06:00:00+00:00\",\"2022-11-11T07:00:00+00:00\",\"2022-11-11T08:00:00+00:00\",\"2022-11-11T09:00:00+00:00\",\"2022-11-11T10:00:00+00:00\",\"2022-11-11T11:00:00+00:00\",\"2022-11-11T12:00:00+00:00\",\"2022-11-11T13:00:00+00:00\",\"2022-11-11T14:00:00+00:00\",\"2022-11-11T15:00:00+00:00\",\"2022-11-11T16:00:00+00:00\",\"2022-11-11T17:00:00+00:00\",\"2022-11-11T18:00:00+00:00\",\"2022-11-11T19:00:00+00:00\",\"2022-11-11T20:00:00+00:00\",\"2022-11-11T21:00:00+00:00\",\"2022-11-11T22:00:00+00:00\",\"2022-11-11T23:00:00+00:00\",\"2022-11-12T00:00:00+00:00\",\"2022-11-12T01:00:00+00:00\",\"2022-11-12T02:00:00+00:00\",\"2022-11-12T03:00:00+00:00\",\"2022-11-12T04:00:00+00:00\",\"2022-11-12T05:00:00+00:00\",\"2022-11-12T06:00:00+00:00\",\"2022-11-12T07:00:00+00:00\",\"2022-11-12T08:00:00+00:00\",\"2022-11-12T09:00:00+00:00\",\"2022-11-12T10:00:00+00:00\",\"2022-11-12T11:00:00+00:00\",\"2022-11-12T12:00:00+00:00\",\"2022-11-12T13:00:00+00:00\",\"2022-11-12T14:00:00+00:00\",\"2022-11-12T15:00:00+00:00\",\"2022-11-12T16:00:00+00:00\",\"2022-11-12T17:00:00+00:00\",\"2022-11-12T18:00:00+00:00\",\"2022-11-12T19:00:00+00:00\",\"2022-11-12T20:00:00+00:00\",\"2022-11-12T21:00:00+00:00\",\"2022-11-12T22:00:00+00:00\",\"2022-11-12T23:00:00+00:00\",\"2022-11-13T00:00:00+00:00\",\"2022-11-13T01:00:00+00:00\",\"2022-11-13T02:00:00+00:00\",\"2022-11-13T03:00:00+00:00\",\"2022-11-13T04:00:00+00:00\",\"2022-11-13T05:00:00+00:00\",\"2022-11-13T06:00:00+00:00\",\"2022-11-13T07:00:00+00:00\",\"2022-11-13T08:00:00+00:00\",\"2022-11-13T09:00:00+00:00\",\"2022-11-13T10:00:00+00:00\",\"2022-11-13T11:00:00+00:00\",\"2022-11-13T12:00:00+00:00\",\"2022-11-13T13:00:00+00:00\",\"2022-11-13T14:00:00+00:00\",\"2022-11-13T15:00:00+00:00\",\"2022-11-13T16:00:00+00:00\",\"2022-11-13T17:00:00+00:00\",\"2022-11-13T18:00:00+00:00\",\"2022-11-13T19:00:00+00:00\",\"2022-11-13T20:00:00+00:00\",\"2022-11-13T21:00:00+00:00\",\"2022-11-13T22:00:00+00:00\",\"2022-11-13T23:00:00+00:00\",\"2022-11-14T00:00:00+00:00\",\"2022-11-14T01:00:00+00:00\",\"2022-11-14T02:00:00+00:00\",\"2022-11-14T03:00:00+00:00\",\"2022-11-14T04:00:00+00:00\",\"2022-11-14T05:00:00+00:00\",\"2022-11-14T06:00:00+00:00\",\"2022-11-14T07:00:00+00:00\",\"2022-11-14T08:00:00+00:00\",\"2022-11-14T09:00:00+00:00\",\"2022-11-14T10:00:00+00:00\",\"2022-11-14T11:00:00+00:00\",\"2022-11-14T12:00:00+00:00\",\"2022-11-14T13:00:00+00:00\",\"2022-11-14T14:00:00+00:00\",\"2022-11-14T15:00:00+00:00\",\"2022-11-14T16:00:00+00:00\",\"2022-11-14T17:00:00+00:00\",\"2022-11-14T18:00:00+00:00\",\"2022-11-14T19:00:00+00:00\",\"2022-11-14T20:00:00+00:00\",\"2022-11-14T21:00:00+00:00\",\"2022-11-14T22:00:00+00:00\",\"2022-11-14T23:00:00+00:00\",\"2022-11-15T00:00:00+00:00\",\"2022-11-15T01:00:00+00:00\",\"2022-11-15T02:00:00+00:00\",\"2022-11-15T03:00:00+00:00\",\"2022-11-15T04:00:00+00:00\",\"2022-11-15T05:00:00+00:00\",\"2022-11-15T06:00:00+00:00\",\"2022-11-15T07:00:00+00:00\",\"2022-11-15T08:00:00+00:00\",\"2022-11-15T09:00:00+00:00\",\"2022-11-15T10:00:00+00:00\",\"2022-11-15T11:00:00+00:00\",\"2022-11-15T12:00:00+00:00\",\"2022-11-15T13:00:00+00:00\",\"2022-11-15T14:00:00+00:00\",\"2022-11-15T15:00:00+00:00\",\"2022-11-15T16:00:00+00:00\",\"2022-11-15T17:00:00+00:00\",\"2022-11-15T18:00:00+00:00\",\"2022-11-15T19:00:00+00:00\",\"2022-11-15T20:00:00+00:00\",\"2022-11-15T21:00:00+00:00\",\"2022-11-15T22:00:00+00:00\",\"2022-11-15T23:00:00+00:00\",\"2022-11-16T00:00:00+00:00\",\"2022-11-16T01:00:00+00:00\",\"2022-11-16T02:00:00+00:00\",\"2022-11-16T03:00:00+00:00\",\"2022-11-16T04:00:00+00:00\",\"2022-11-16T05:00:00+00:00\",\"2022-11-16T06:00:00+00:00\",\"2022-11-16T07:00:00+00:00\",\"2022-11-16T08:00:00+00:00\",\"2022-11-16T09:00:00+00:00\",\"2022-11-16T10:00:00+00:00\",\"2022-11-16T11:00:00+00:00\",\"2022-11-16T12:00:00+00:00\",\"2022-11-16T13:00:00+00:00\",\"2022-11-16T14:00:00+00:00\",\"2022-11-16T15:00:00+00:00\",\"2022-11-16T16:00:00+00:00\",\"2022-11-16T17:00:00+00:00\",\"2022-11-16T18:00:00+00:00\",\"2022-11-16T19:00:00+00:00\",\"2022-11-16T20:00:00+00:00\",\"2022-11-16T21:00:00+00:00\",\"2022-11-16T22:00:00+00:00\",\"2022-11-16T23:00:00+00:00\",\"2022-11-17T00:00:00+00:00\",\"2022-11-17T01:00:00+00:00\",\"2022-11-17T02:00:00+00:00\",\"2022-11-17T03:00:00+00:00\",\"2022-11-17T04:00:00+00:00\",\"2022-11-17T05:00:00+00:00\",\"2022-11-17T06:00:00+00:00\",\"2022-11-17T07:00:00+00:00\",\"2022-11-17T08:00:00+00:00\",\"2022-11-17T09:00:00+00:00\",\"2022-11-17T10:00:00+00:00\",\"2022-11-17T11:00:00+00:00\",\"2022-11-17T12:00:00+00:00\",\"2022-11-17T13:00:00+00:00\",\"2022-11-17T14:00:00+00:00\",\"2022-11-17T15:00:00+00:00\",\"2022-11-17T16:00:00+00:00\",\"2022-11-17T17:00:00+00:00\",\"2022-11-17T18:00:00+00:00\",\"2022-11-17T19:00:00+00:00\",\"2022-11-17T20:00:00+00:00\",\"2022-11-17T21:00:00+00:00\",\"2022-11-17T22:00:00+00:00\",\"2022-11-17T23:00:00+00:00\",\"2022-11-18T00:00:00+00:00\",\"2022-11-18T01:00:00+00:00\",\"2022-11-18T02:00:00+00:00\",\"2022-11-18T03:00:00+00:00\",\"2022-11-18T04:00:00+00:00\",\"2022-11-18T05:00:00+00:00\",\"2022-11-18T06:00:00+00:00\",\"2022-11-18T07:00:00+00:00\",\"2022-11-18T08:00:00+00:00\",\"2022-11-18T09:00:00+00:00\",\"2022-11-18T10:00:00+00:00\",\"2022-11-18T11:00:00+00:00\",\"2022-11-18T12:00:00+00:00\",\"2022-11-18T13:00:00+00:00\",\"2022-11-18T14:00:00+00:00\",\"2022-11-18T15:00:00+00:00\",\"2022-11-18T16:00:00+00:00\",\"2022-11-18T17:00:00+00:00\",\"2022-11-18T18:00:00+00:00\",\"2022-11-18T19:00:00+00:00\",\"2022-11-18T20:00:00+00:00\",\"2022-11-18T21:00:00+00:00\",\"2022-11-18T22:00:00+00:00\",\"2022-11-18T23:00:00+00:00\",\"2022-11-19T00:00:00+00:00\",\"2022-11-19T01:00:00+00:00\",\"2022-11-19T02:00:00+00:00\",\"2022-11-19T03:00:00+00:00\",\"2022-11-19T04:00:00+00:00\",\"2022-11-19T05:00:00+00:00\",\"2022-11-19T06:00:00+00:00\",\"2022-11-19T07:00:00+00:00\",\"2022-11-19T08:00:00+00:00\",\"2022-11-19T09:00:00+00:00\",\"2022-11-19T10:00:00+00:00\",\"2022-11-19T11:00:00+00:00\",\"2022-11-19T12:00:00+00:00\",\"2022-11-19T13:00:00+00:00\",\"2022-11-19T14:00:00+00:00\",\"2022-11-19T15:00:00+00:00\",\"2022-11-19T16:00:00+00:00\",\"2022-11-19T17:00:00+00:00\",\"2022-11-19T18:00:00+00:00\",\"2022-11-19T19:00:00+00:00\",\"2022-11-19T20:00:00+00:00\",\"2022-11-19T21:00:00+00:00\",\"2022-11-19T22:00:00+00:00\",\"2022-11-19T23:00:00+00:00\",\"2022-11-20T00:00:00+00:00\",\"2022-11-20T01:00:00+00:00\",\"2022-11-20T02:00:00+00:00\",\"2022-11-20T03:00:00+00:00\",\"2022-11-20T04:00:00+00:00\",\"2022-11-20T05:00:00+00:00\",\"2022-11-20T06:00:00+00:00\",\"2022-11-20T07:00:00+00:00\",\"2022-11-20T08:00:00+00:00\",\"2022-11-20T09:00:00+00:00\",\"2022-11-20T10:00:00+00:00\",\"2022-11-20T11:00:00+00:00\",\"2022-11-20T12:00:00+00:00\",\"2022-11-20T13:00:00+00:00\",\"2022-11-20T14:00:00+00:00\",\"2022-11-20T15:00:00+00:00\",\"2022-11-20T16:00:00+00:00\",\"2022-11-20T17:00:00+00:00\",\"2022-11-20T18:00:00+00:00\",\"2022-11-20T19:00:00+00:00\",\"2022-11-20T20:00:00+00:00\",\"2022-11-20T21:00:00+00:00\",\"2022-11-20T22:00:00+00:00\",\"2022-11-20T23:00:00+00:00\",\"2022-11-21T00:00:00+00:00\",\"2022-11-21T01:00:00+00:00\",\"2022-11-21T02:00:00+00:00\",\"2022-11-21T03:00:00+00:00\",\"2022-11-21T04:00:00+00:00\",\"2022-11-21T05:00:00+00:00\",\"2022-11-21T06:00:00+00:00\",\"2022-11-21T07:00:00+00:00\",\"2022-11-21T08:00:00+00:00\",\"2022-11-21T09:00:00+00:00\",\"2022-11-21T10:00:00+00:00\",\"2022-11-21T11:00:00+00:00\",\"2022-11-21T12:00:00+00:00\",\"2022-11-21T13:00:00+00:00\",\"2022-11-21T14:00:00+00:00\",\"2022-11-21T15:00:00+00:00\",\"2022-11-21T16:00:00+00:00\",\"2022-11-21T17:00:00+00:00\",\"2022-11-21T18:00:00+00:00\",\"2022-11-21T19:00:00+00:00\",\"2022-11-21T20:00:00+00:00\",\"2022-11-21T21:00:00+00:00\",\"2022-11-21T22:00:00+00:00\",\"2022-11-21T23:00:00+00:00\",\"2022-11-22T00:00:00+00:00\",\"2022-11-22T01:00:00+00:00\",\"2022-11-22T02:00:00+00:00\",\"2022-11-22T03:00:00+00:00\",\"2022-11-22T04:00:00+00:00\",\"2022-11-22T05:00:00+00:00\",\"2022-11-22T06:00:00+00:00\",\"2022-11-22T07:00:00+00:00\",\"2022-11-22T08:00:00+00:00\",\"2022-11-22T09:00:00+00:00\",\"2022-11-22T10:00:00+00:00\",\"2022-11-22T11:00:00+00:00\",\"2022-11-22T12:00:00+00:00\",\"2022-11-22T13:00:00+00:00\",\"2022-11-22T14:00:00+00:00\",\"2022-11-22T15:00:00+00:00\",\"2022-11-22T16:00:00+00:00\",\"2022-11-22T17:00:00+00:00\",\"2022-11-22T18:00:00+00:00\",\"2022-11-22T19:00:00+00:00\",\"2022-11-22T20:00:00+00:00\",\"2022-11-22T21:00:00+00:00\",\"2022-11-22T22:00:00+00:00\",\"2022-11-22T23:00:00+00:00\",\"2022-11-23T00:00:00+00:00\",\"2022-11-23T01:00:00+00:00\",\"2022-11-23T02:00:00+00:00\",\"2022-11-23T03:00:00+00:00\",\"2022-11-23T04:00:00+00:00\",\"2022-11-23T05:00:00+00:00\",\"2022-11-23T06:00:00+00:00\",\"2022-11-23T07:00:00+00:00\",\"2022-11-23T08:00:00+00:00\",\"2022-11-23T09:00:00+00:00\",\"2022-11-23T10:00:00+00:00\",\"2022-11-23T11:00:00+00:00\",\"2022-11-23T12:00:00+00:00\",\"2022-11-23T13:00:00+00:00\",\"2022-11-23T14:00:00+00:00\",\"2022-11-23T15:00:00+00:00\",\"2022-11-23T16:00:00+00:00\",\"2022-11-23T17:00:00+00:00\",\"2022-11-23T18:00:00+00:00\",\"2022-11-23T19:00:00+00:00\",\"2022-11-23T20:00:00+00:00\",\"2022-11-23T21:00:00+00:00\",\"2022-11-23T22:00:00+00:00\",\"2022-11-23T23:00:00+00:00\",\"2022-11-24T00:00:00+00:00\",\"2022-11-24T01:00:00+00:00\",\"2022-11-24T02:00:00+00:00\",\"2022-11-24T03:00:00+00:00\",\"2022-11-24T04:00:00+00:00\",\"2022-11-24T05:00:00+00:00\",\"2022-11-24T06:00:00+00:00\",\"2022-11-24T07:00:00+00:00\",\"2022-11-24T08:00:00+00:00\",\"2022-11-24T09:00:00+00:00\",\"2022-11-24T10:00:00+00:00\",\"2022-11-24T11:00:00+00:00\",\"2022-11-24T12:00:00+00:00\",\"2022-11-24T13:00:00+00:00\",\"2022-11-24T14:00:00+00:00\",\"2022-11-24T15:00:00+00:00\",\"2022-11-24T16:00:00+00:00\",\"2022-11-24T17:00:00+00:00\",\"2022-11-24T18:00:00+00:00\",\"2022-11-24T19:00:00+00:00\",\"2022-11-24T20:00:00+00:00\",\"2022-11-24T21:00:00+00:00\",\"2022-11-24T22:00:00+00:00\",\"2022-11-24T23:00:00+00:00\",\"2022-11-25T00:00:00+00:00\",\"2022-11-25T01:00:00+00:00\",\"2022-11-25T02:00:00+00:00\",\"2022-11-25T03:00:00+00:00\",\"2022-11-25T04:00:00+00:00\",\"2022-11-25T05:00:00+00:00\",\"2022-11-25T06:00:00+00:00\",\"2022-11-25T07:00:00+00:00\",\"2022-11-25T08:00:00+00:00\",\"2022-11-25T09:00:00+00:00\",\"2022-11-25T10:00:00+00:00\",\"2022-11-25T11:00:00+00:00\",\"2022-11-25T12:00:00+00:00\",\"2022-11-25T13:00:00+00:00\",\"2022-11-25T14:00:00+00:00\",\"2022-11-25T15:00:00+00:00\",\"2022-11-25T16:00:00+00:00\",\"2022-11-25T17:00:00+00:00\",\"2022-11-25T18:00:00+00:00\",\"2022-11-25T19:00:00+00:00\",\"2022-11-25T20:00:00+00:00\",\"2022-11-25T21:00:00+00:00\",\"2022-11-25T22:00:00+00:00\",\"2022-11-25T23:00:00+00:00\",\"2022-11-26T00:00:00+00:00\",\"2022-11-26T01:00:00+00:00\",\"2022-11-26T02:00:00+00:00\",\"2022-11-26T03:00:00+00:00\",\"2022-11-26T04:00:00+00:00\",\"2022-11-26T05:00:00+00:00\",\"2022-11-26T06:00:00+00:00\",\"2022-11-26T07:00:00+00:00\",\"2022-11-26T08:00:00+00:00\",\"2022-11-26T09:00:00+00:00\",\"2022-11-26T10:00:00+00:00\",\"2022-11-26T11:00:00+00:00\",\"2022-11-26T12:00:00+00:00\",\"2022-11-26T13:00:00+00:00\",\"2022-11-26T14:00:00+00:00\",\"2022-11-26T15:00:00+00:00\",\"2022-11-26T16:00:00+00:00\",\"2022-11-26T17:00:00+00:00\",\"2022-11-26T18:00:00+00:00\",\"2022-11-26T19:00:00+00:00\",\"2022-11-26T20:00:00+00:00\",\"2022-11-26T21:00:00+00:00\",\"2022-11-26T22:00:00+00:00\",\"2022-11-26T23:00:00+00:00\",\"2022-11-27T00:00:00+00:00\",\"2022-11-27T01:00:00+00:00\",\"2022-11-27T02:00:00+00:00\",\"2022-11-27T03:00:00+00:00\",\"2022-11-27T04:00:00+00:00\",\"2022-11-27T05:00:00+00:00\",\"2022-11-27T06:00:00+00:00\",\"2022-11-27T07:00:00+00:00\",\"2022-11-27T08:00:00+00:00\",\"2022-11-27T09:00:00+00:00\",\"2022-11-27T10:00:00+00:00\",\"2022-11-27T11:00:00+00:00\",\"2022-11-27T12:00:00+00:00\",\"2022-11-27T13:00:00+00:00\",\"2022-11-27T14:00:00+00:00\",\"2022-11-27T15:00:00+00:00\",\"2022-11-27T16:00:00+00:00\",\"2022-11-27T17:00:00+00:00\",\"2022-11-27T18:00:00+00:00\",\"2022-11-27T19:00:00+00:00\",\"2022-11-27T20:00:00+00:00\",\"2022-11-27T21:00:00+00:00\",\"2022-11-27T22:00:00+00:00\",\"2022-11-27T23:00:00+00:00\",\"2022-11-28T00:00:00+00:00\",\"2022-11-28T01:00:00+00:00\",\"2022-11-28T02:00:00+00:00\",\"2022-11-28T03:00:00+00:00\",\"2022-11-28T04:00:00+00:00\",\"2022-11-28T05:00:00+00:00\",\"2022-11-28T06:00:00+00:00\",\"2022-11-28T07:00:00+00:00\",\"2022-11-28T08:00:00+00:00\",\"2022-11-28T09:00:00+00:00\",\"2022-11-28T10:00:00+00:00\",\"2022-11-28T11:00:00+00:00\",\"2022-11-28T12:00:00+00:00\",\"2022-11-28T13:00:00+00:00\",\"2022-11-28T14:00:00+00:00\",\"2022-11-28T15:00:00+00:00\",\"2022-11-28T16:00:00+00:00\",\"2022-11-28T17:00:00+00:00\",\"2022-11-28T18:00:00+00:00\",\"2022-11-28T19:00:00+00:00\",\"2022-11-28T20:00:00+00:00\",\"2022-11-28T21:00:00+00:00\",\"2022-11-28T22:00:00+00:00\",\"2022-11-28T23:00:00+00:00\",\"2022-11-29T00:00:00+00:00\",\"2022-11-29T01:00:00+00:00\",\"2022-11-29T02:00:00+00:00\",\"2022-11-29T03:00:00+00:00\",\"2022-11-29T04:00:00+00:00\",\"2022-11-29T05:00:00+00:00\",\"2022-11-29T06:00:00+00:00\",\"2022-11-29T07:00:00+00:00\",\"2022-11-29T08:00:00+00:00\",\"2022-11-29T09:00:00+00:00\",\"2022-11-29T10:00:00+00:00\",\"2022-11-29T11:00:00+00:00\",\"2022-11-29T12:00:00+00:00\",\"2022-11-29T13:00:00+00:00\",\"2022-11-29T14:00:00+00:00\",\"2022-11-29T15:00:00+00:00\",\"2022-11-29T16:00:00+00:00\",\"2022-11-29T17:00:00+00:00\",\"2022-11-29T18:00:00+00:00\",\"2022-11-29T19:00:00+00:00\",\"2022-11-29T20:00:00+00:00\",\"2022-11-29T21:00:00+00:00\",\"2022-11-29T22:00:00+00:00\",\"2022-11-29T23:00:00+00:00\",\"2022-11-30T00:00:00+00:00\",\"2022-11-30T01:00:00+00:00\",\"2022-11-30T02:00:00+00:00\",\"2022-11-30T03:00:00+00:00\",\"2022-11-30T04:00:00+00:00\",\"2022-11-30T05:00:00+00:00\",\"2022-11-30T06:00:00+00:00\",\"2022-11-30T07:00:00+00:00\",\"2022-11-30T08:00:00+00:00\",\"2022-11-30T09:00:00+00:00\",\"2022-11-30T10:00:00+00:00\",\"2022-11-30T11:00:00+00:00\",\"2022-11-30T12:00:00+00:00\",\"2022-11-30T13:00:00+00:00\",\"2022-11-30T14:00:00+00:00\",\"2022-11-30T15:00:00+00:00\",\"2022-11-30T16:00:00+00:00\",\"2022-11-30T17:00:00+00:00\",\"2022-11-30T18:00:00+00:00\",\"2022-11-30T19:00:00+00:00\",\"2022-11-30T20:00:00+00:00\",\"2022-11-30T21:00:00+00:00\",\"2022-11-30T22:00:00+00:00\",\"2022-11-30T23:00:00+00:00\",\"2022-12-01T00:00:00+00:00\",\"2022-12-01T01:00:00+00:00\",\"2022-12-01T02:00:00+00:00\",\"2022-12-01T03:00:00+00:00\",\"2022-12-01T04:00:00+00:00\",\"2022-12-01T05:00:00+00:00\",\"2022-12-01T06:00:00+00:00\",\"2022-12-01T07:00:00+00:00\",\"2022-12-01T08:00:00+00:00\",\"2022-12-01T09:00:00+00:00\",\"2022-12-01T10:00:00+00:00\",\"2022-12-01T11:00:00+00:00\",\"2022-12-01T12:00:00+00:00\",\"2022-12-01T13:00:00+00:00\",\"2022-12-01T14:00:00+00:00\",\"2022-12-01T15:00:00+00:00\",\"2022-12-01T16:00:00+00:00\",\"2022-12-01T17:00:00+00:00\",\"2022-12-01T18:00:00+00:00\",\"2022-12-01T19:00:00+00:00\",\"2022-12-01T20:00:00+00:00\",\"2022-12-01T21:00:00+00:00\",\"2022-12-01T22:00:00+00:00\",\"2022-12-01T23:00:00+00:00\",\"2022-12-02T00:00:00+00:00\",\"2022-12-02T01:00:00+00:00\",\"2022-12-02T02:00:00+00:00\",\"2022-12-02T03:00:00+00:00\",\"2022-12-02T04:00:00+00:00\",\"2022-12-02T05:00:00+00:00\",\"2022-12-02T06:00:00+00:00\",\"2022-12-02T07:00:00+00:00\",\"2022-12-02T08:00:00+00:00\",\"2022-12-02T09:00:00+00:00\",\"2022-12-02T10:00:00+00:00\",\"2022-12-02T11:00:00+00:00\",\"2022-12-02T12:00:00+00:00\",\"2022-12-02T13:00:00+00:00\",\"2022-12-02T14:00:00+00:00\",\"2022-12-02T15:00:00+00:00\",\"2022-12-02T16:00:00+00:00\",\"2022-12-02T17:00:00+00:00\",\"2022-12-02T18:00:00+00:00\",\"2022-12-02T19:00:00+00:00\",\"2022-12-02T20:00:00+00:00\",\"2022-12-02T21:00:00+00:00\",\"2022-12-02T22:00:00+00:00\",\"2022-12-02T23:00:00+00:00\",\"2022-12-03T00:00:00+00:00\",\"2022-12-03T01:00:00+00:00\",\"2022-12-03T02:00:00+00:00\",\"2022-12-03T03:00:00+00:00\",\"2022-12-03T04:00:00+00:00\",\"2022-12-03T05:00:00+00:00\",\"2022-12-03T06:00:00+00:00\",\"2022-12-03T07:00:00+00:00\",\"2022-12-03T08:00:00+00:00\",\"2022-12-03T09:00:00+00:00\",\"2022-12-03T10:00:00+00:00\",\"2022-12-03T11:00:00+00:00\",\"2022-12-03T12:00:00+00:00\",\"2022-12-03T13:00:00+00:00\",\"2022-12-03T14:00:00+00:00\",\"2022-12-03T15:00:00+00:00\",\"2022-12-03T16:00:00+00:00\",\"2022-12-03T17:00:00+00:00\",\"2022-12-03T18:00:00+00:00\",\"2022-12-03T19:00:00+00:00\",\"2022-12-03T20:00:00+00:00\",\"2022-12-03T21:00:00+00:00\",\"2022-12-03T22:00:00+00:00\",\"2022-12-03T23:00:00+00:00\",\"2022-12-04T00:00:00+00:00\",\"2022-12-04T01:00:00+00:00\",\"2022-12-04T02:00:00+00:00\",\"2022-12-04T03:00:00+00:00\",\"2022-12-04T04:00:00+00:00\",\"2022-12-04T05:00:00+00:00\",\"2022-12-04T06:00:00+00:00\",\"2022-12-04T07:00:00+00:00\",\"2022-12-04T08:00:00+00:00\",\"2022-12-04T09:00:00+00:00\",\"2022-12-04T10:00:00+00:00\",\"2022-12-04T11:00:00+00:00\",\"2022-12-04T12:00:00+00:00\",\"2022-12-04T13:00:00+00:00\",\"2022-12-04T14:00:00+00:00\",\"2022-12-04T15:00:00+00:00\",\"2022-12-04T16:00:00+00:00\",\"2022-12-04T17:00:00+00:00\",\"2022-12-04T18:00:00+00:00\",\"2022-12-04T19:00:00+00:00\",\"2022-12-04T20:00:00+00:00\",\"2022-12-04T21:00:00+00:00\",\"2022-12-04T22:00:00+00:00\",\"2022-12-04T23:00:00+00:00\",\"2022-12-05T00:00:00+00:00\",\"2022-12-05T01:00:00+00:00\",\"2022-12-05T02:00:00+00:00\",\"2022-12-05T03:00:00+00:00\",\"2022-12-05T04:00:00+00:00\",\"2022-12-05T05:00:00+00:00\",\"2022-12-05T06:00:00+00:00\",\"2022-12-05T07:00:00+00:00\",\"2022-12-05T08:00:00+00:00\",\"2022-12-05T09:00:00+00:00\",\"2022-12-05T10:00:00+00:00\",\"2022-12-05T11:00:00+00:00\",\"2022-12-05T12:00:00+00:00\",\"2022-12-05T13:00:00+00:00\",\"2022-12-05T14:00:00+00:00\",\"2022-12-05T15:00:00+00:00\",\"2022-12-05T16:00:00+00:00\",\"2022-12-05T17:00:00+00:00\",\"2022-12-05T18:00:00+00:00\",\"2022-12-05T19:00:00+00:00\",\"2022-12-05T20:00:00+00:00\",\"2022-12-05T21:00:00+00:00\",\"2022-12-05T22:00:00+00:00\",\"2022-12-05T23:00:00+00:00\",\"2022-12-06T00:00:00+00:00\",\"2022-12-06T01:00:00+00:00\",\"2022-12-06T02:00:00+00:00\",\"2022-12-06T03:00:00+00:00\",\"2022-12-06T04:00:00+00:00\",\"2022-12-06T05:00:00+00:00\",\"2022-12-06T06:00:00+00:00\",\"2022-12-06T07:00:00+00:00\",\"2022-12-06T08:00:00+00:00\",\"2022-12-06T09:00:00+00:00\",\"2022-12-06T10:00:00+00:00\",\"2022-12-06T11:00:00+00:00\",\"2022-12-06T12:00:00+00:00\",\"2022-12-06T13:00:00+00:00\",\"2022-12-06T14:00:00+00:00\",\"2022-12-06T15:00:00+00:00\",\"2022-12-06T16:00:00+00:00\",\"2022-12-06T17:00:00+00:00\",\"2022-12-06T18:00:00+00:00\",\"2022-12-06T19:00:00+00:00\",\"2022-12-06T20:00:00+00:00\",\"2022-12-06T21:00:00+00:00\",\"2022-12-06T22:00:00+00:00\",\"2022-12-06T23:00:00+00:00\",\"2022-12-07T00:00:00+00:00\",\"2022-12-07T01:00:00+00:00\",\"2022-12-07T02:00:00+00:00\",\"2022-12-07T03:00:00+00:00\",\"2022-12-07T04:00:00+00:00\",\"2022-12-07T05:00:00+00:00\",\"2022-12-07T06:00:00+00:00\",\"2022-12-07T07:00:00+00:00\",\"2022-12-07T08:00:00+00:00\",\"2022-12-07T09:00:00+00:00\",\"2022-12-07T10:00:00+00:00\",\"2022-12-07T11:00:00+00:00\",\"2022-12-07T12:00:00+00:00\",\"2022-12-07T13:00:00+00:00\",\"2022-12-07T14:00:00+00:00\",\"2022-12-07T15:00:00+00:00\",\"2022-12-07T16:00:00+00:00\",\"2022-12-07T17:00:00+00:00\",\"2022-12-07T18:00:00+00:00\",\"2022-12-07T19:00:00+00:00\",\"2022-12-07T20:00:00+00:00\",\"2022-12-07T21:00:00+00:00\",\"2022-12-07T22:00:00+00:00\",\"2022-12-07T23:00:00+00:00\",\"2022-12-08T00:00:00+00:00\",\"2022-12-08T01:00:00+00:00\",\"2022-12-08T02:00:00+00:00\",\"2022-12-08T03:00:00+00:00\",\"2022-12-08T04:00:00+00:00\",\"2022-12-08T05:00:00+00:00\",\"2022-12-08T06:00:00+00:00\",\"2022-12-08T07:00:00+00:00\",\"2022-12-08T08:00:00+00:00\",\"2022-12-08T09:00:00+00:00\",\"2022-12-08T10:00:00+00:00\",\"2022-12-08T11:00:00+00:00\",\"2022-12-08T12:00:00+00:00\",\"2022-12-08T13:00:00+00:00\",\"2022-12-08T14:00:00+00:00\",\"2022-12-08T15:00:00+00:00\",\"2022-12-08T16:00:00+00:00\",\"2022-12-08T17:00:00+00:00\",\"2022-12-08T18:00:00+00:00\",\"2022-12-08T19:00:00+00:00\",\"2022-12-08T20:00:00+00:00\",\"2022-12-08T21:00:00+00:00\",\"2022-12-08T22:00:00+00:00\",\"2022-12-08T23:00:00+00:00\",\"2022-12-09T00:00:00+00:00\",\"2022-12-09T01:00:00+00:00\",\"2022-12-09T02:00:00+00:00\",\"2022-12-09T03:00:00+00:00\",\"2022-12-09T04:00:00+00:00\",\"2022-12-09T05:00:00+00:00\",\"2022-12-09T06:00:00+00:00\",\"2022-12-09T07:00:00+00:00\",\"2022-12-09T08:00:00+00:00\",\"2022-12-09T09:00:00+00:00\",\"2022-12-09T10:00:00+00:00\",\"2022-12-09T11:00:00+00:00\",\"2022-12-09T12:00:00+00:00\",\"2022-12-09T13:00:00+00:00\",\"2022-12-09T14:00:00+00:00\",\"2022-12-09T15:00:00+00:00\",\"2022-12-09T16:00:00+00:00\",\"2022-12-09T17:00:00+00:00\",\"2022-12-09T18:00:00+00:00\",\"2022-12-09T19:00:00+00:00\",\"2022-12-09T20:00:00+00:00\",\"2022-12-09T21:00:00+00:00\",\"2022-12-09T22:00:00+00:00\",\"2022-12-09T23:00:00+00:00\",\"2022-12-10T00:00:00+00:00\",\"2022-12-10T01:00:00+00:00\",\"2022-12-10T02:00:00+00:00\",\"2022-12-10T03:00:00+00:00\",\"2022-12-10T04:00:00+00:00\",\"2022-12-10T05:00:00+00:00\",\"2022-12-10T06:00:00+00:00\",\"2022-12-10T07:00:00+00:00\",\"2022-12-10T08:00:00+00:00\",\"2022-12-10T09:00:00+00:00\",\"2022-12-10T10:00:00+00:00\",\"2022-12-10T11:00:00+00:00\",\"2022-12-10T12:00:00+00:00\",\"2022-12-10T13:00:00+00:00\",\"2022-12-10T14:00:00+00:00\",\"2022-12-10T15:00:00+00:00\",\"2022-12-10T16:00:00+00:00\",\"2022-12-10T17:00:00+00:00\",\"2022-12-10T18:00:00+00:00\",\"2022-12-10T19:00:00+00:00\",\"2022-12-10T20:00:00+00:00\",\"2022-12-10T21:00:00+00:00\",\"2022-12-10T22:00:00+00:00\",\"2022-12-10T23:00:00+00:00\",\"2022-12-11T00:00:00+00:00\",\"2022-12-11T01:00:00+00:00\",\"2022-12-11T02:00:00+00:00\",\"2022-12-11T03:00:00+00:00\",\"2022-12-11T04:00:00+00:00\",\"2022-12-11T05:00:00+00:00\",\"2022-12-11T06:00:00+00:00\",\"2022-12-11T07:00:00+00:00\",\"2022-12-11T08:00:00+00:00\",\"2022-12-11T09:00:00+00:00\",\"2022-12-11T10:00:00+00:00\",\"2022-12-11T11:00:00+00:00\",\"2022-12-11T12:00:00+00:00\",\"2022-12-11T13:00:00+00:00\",\"2022-12-11T14:00:00+00:00\",\"2022-12-11T15:00:00+00:00\",\"2022-12-11T16:00:00+00:00\",\"2022-12-11T17:00:00+00:00\",\"2022-12-11T18:00:00+00:00\",\"2022-12-11T19:00:00+00:00\",\"2022-12-11T20:00:00+00:00\",\"2022-12-11T21:00:00+00:00\",\"2022-12-11T22:00:00+00:00\",\"2022-12-11T23:00:00+00:00\",\"2022-12-12T00:00:00+00:00\",\"2022-12-12T01:00:00+00:00\",\"2022-12-12T02:00:00+00:00\",\"2022-12-12T03:00:00+00:00\",\"2022-12-12T04:00:00+00:00\",\"2022-12-12T05:00:00+00:00\",\"2022-12-12T06:00:00+00:00\",\"2022-12-12T07:00:00+00:00\",\"2022-12-12T08:00:00+00:00\",\"2022-12-12T09:00:00+00:00\",\"2022-12-12T10:00:00+00:00\",\"2022-12-12T11:00:00+00:00\",\"2022-12-12T12:00:00+00:00\",\"2022-12-12T13:00:00+00:00\",\"2022-12-12T14:00:00+00:00\",\"2022-12-12T15:00:00+00:00\",\"2022-12-12T16:00:00+00:00\",\"2022-12-12T17:00:00+00:00\",\"2022-12-12T18:00:00+00:00\",\"2022-12-12T19:00:00+00:00\",\"2022-12-12T20:00:00+00:00\",\"2022-12-12T21:00:00+00:00\",\"2022-12-12T22:00:00+00:00\",\"2022-12-12T23:00:00+00:00\",\"2022-12-13T00:00:00+00:00\",\"2022-12-13T01:00:00+00:00\",\"2022-12-13T02:00:00+00:00\",\"2022-12-13T03:00:00+00:00\",\"2022-12-13T04:00:00+00:00\",\"2022-12-13T05:00:00+00:00\",\"2022-12-13T06:00:00+00:00\",\"2022-12-13T07:00:00+00:00\",\"2022-12-13T08:00:00+00:00\",\"2022-12-13T09:00:00+00:00\",\"2022-12-13T10:00:00+00:00\",\"2022-12-13T11:00:00+00:00\",\"2022-12-13T12:00:00+00:00\",\"2022-12-13T13:00:00+00:00\",\"2022-12-13T14:00:00+00:00\",\"2022-12-13T15:00:00+00:00\",\"2022-12-13T16:00:00+00:00\",\"2022-12-13T17:00:00+00:00\",\"2022-12-13T18:00:00+00:00\",\"2022-12-13T19:00:00+00:00\",\"2022-12-13T20:00:00+00:00\",\"2022-12-13T21:00:00+00:00\",\"2022-12-13T22:00:00+00:00\",\"2022-12-13T23:00:00+00:00\",\"2022-12-14T00:00:00+00:00\",\"2022-12-14T01:00:00+00:00\",\"2022-12-14T02:00:00+00:00\",\"2022-12-14T03:00:00+00:00\",\"2022-12-14T04:00:00+00:00\",\"2022-12-14T05:00:00+00:00\",\"2022-12-14T06:00:00+00:00\",\"2022-12-14T07:00:00+00:00\",\"2022-12-14T08:00:00+00:00\",\"2022-12-14T09:00:00+00:00\",\"2022-12-14T10:00:00+00:00\",\"2022-12-14T11:00:00+00:00\",\"2022-12-14T12:00:00+00:00\",\"2022-12-14T13:00:00+00:00\",\"2022-12-14T14:00:00+00:00\",\"2022-12-14T15:00:00+00:00\",\"2022-12-14T16:00:00+00:00\",\"2022-12-14T17:00:00+00:00\",\"2022-12-14T18:00:00+00:00\",\"2022-12-14T19:00:00+00:00\",\"2022-12-14T20:00:00+00:00\",\"2022-12-14T21:00:00+00:00\",\"2022-12-14T22:00:00+00:00\",\"2022-12-14T23:00:00+00:00\",\"2022-12-15T00:00:00+00:00\"],\"y\":[5,2,1,66,12,71,87,40,28,14,10,11,4,2,3,0,4,1,5,4,8,8,2,5,1,8,8,5,1,17,6,7,7,3,1,1,3,1,2,1,1,0,2,3,3,2,3,1,1,1,4,5,1,6,1,5,8,8,2,3,2,2,7,3,1,0,0,2,1,0,1,1,1,1,2,6,3,1,2,0,2,1,0,2,0,0,0,0,0,0,0,2,0,0,1,0,13,70,48,20,14,18,11,4,9,5,3,90,19,15,5,3,7,3,3,4,14,11,9,8,5,6,4,15,9,5,9,8,7,9,7,2,3,4,3,1,0,4,0,3,6,2,7,7,2,3,14,14,4,77,52,40,9,17,15,19,8,3,5,3,1,4,3,5,14,10,8,21,15,11,47,58,55,42,40,26,28,98,16,13,11,6,3,2,2,2,5,1,7,4,5,1,6,10,6,0,8,5,8,2,6,1,4,2,3,0,2,0,2,0,3,2,6,1,20,49,21,13,15,7,6,7,14,8,8,6,5,5,9,6,1,4,2,6,6,5,4,14,9,15,20,16,2,10,4,50,26,16,24,50,15,21,14,8,3,8,2,2,2,12,4,6,92,39,22,26,437,524,147,153,116,69,30,35,33,14,9,10,5,8,3,3,8,12,14,12,14,9,4,9,6,1,7,4,13,5,2,11,26,30,7,3,3,3,1,3,0,7,4,1,2,4,0,12,28,11,6,7,4,5,5,3,2,2,1,9,3,2,1,0,1,2,0,29,13,14,10,8,7,20,5,19,7,5,6,28,9,5,3,1,1,0,0,1,3,3,10,3,4,6,8,4,12,6,9,9,9,17,30,23,16,480,226,82,62,38,31,44,40,48,44,58,78,50,35,38,23,19,18,13,24,7,17,11,9,6,1,2,2,2,0,1,0,3,1,3,3,8,4,3,1,6,0,8,1,3,5,0,2,0,0,0,1,1,0,0,0,0,4,2,1,1,1,2,2,1,1,1,2,2,1,1,1,0,1,5,1,2,2,0,1,3,1,4,3,2,0,3,6,3,22,5,2,3,5,18,14,3,3,4,1,3,0,1,1,2,1,0,1,0,5,3,0,0,0,1,1,9,1,0,3,1,0,1,0,0,2,0,0,0,1,0,1,1,1,0,5,0,0,1,25,2,0,1,3,2,4,0,1,0,0,0,0,0,5,3,0,28,21,5,5,3,0,10,7,7,6,0,2,1,0,1,0,0,1,0,1,1,0,15,1,2,2,0,2,2,2,0,17,7,0,3,1,1,1,2,0,0,2,0,0,1,0,1,0,1,1,2,5,4,6,2,441,292,139,127,339,389,221,103,53,37,28,30,29,83,113,122,109,88,70,86,61,36,34,30,25,42,32,34,34,15,12,7,3,3,3,4,5,7,14,9,5,6,0,5,4,6,5,1,4,2,5,2,4,2,1,1,2,0,0,1,0,1,6,1,2,3,1,1,2,2,1,2,1,0,0,1,1,6,4,61,14,3,5,8,7,12,15,26,88,135,83,218,184,111,68,59,45,35,30,28,20,14,13,4,6,2,3,4,9,12,9,21,15,9,9,55,18,22,14,28,21,23,3,3,6,3,1,1,2,0,1,2,1,1,1,4,4,1,6,8,4,6,3,2,6,42,12,31,77,14,11,6,6,1,3,3,2,36,4,3,5,5,3,11,4,4,0,2,4,5,7,4,12,8,2,0,3,3,1,0,1,0,3,3,4,3,5,4,2,2,2,7,0,5,2,1,8,1,3,0,1,1,3,4,1,3,9,2,3,4,8,16,22,11,13,9,6,1,6,6,2,1,0,0,0,0,0,0,2,0,1,0,2,3,4,1,8,4,1,5,1,0,0,2,2,0,1,0],\"type\":\"scatter\"},{\"mode\":\"lines\",\"name\":\"HKane\",\"x\":[\"2022-11-10T11:00:00+00:00\",\"2022-11-10T12:00:00+00:00\",\"2022-11-10T13:00:00+00:00\",\"2022-11-10T14:00:00+00:00\",\"2022-11-10T15:00:00+00:00\",\"2022-11-10T16:00:00+00:00\",\"2022-11-10T17:00:00+00:00\",\"2022-11-10T18:00:00+00:00\",\"2022-11-10T19:00:00+00:00\",\"2022-11-10T20:00:00+00:00\",\"2022-11-10T21:00:00+00:00\",\"2022-11-10T22:00:00+00:00\",\"2022-11-10T23:00:00+00:00\",\"2022-11-11T00:00:00+00:00\",\"2022-11-11T01:00:00+00:00\",\"2022-11-11T02:00:00+00:00\",\"2022-11-11T03:00:00+00:00\",\"2022-11-11T04:00:00+00:00\",\"2022-11-11T05:00:00+00:00\",\"2022-11-11T06:00:00+00:00\",\"2022-11-11T07:00:00+00:00\",\"2022-11-11T08:00:00+00:00\",\"2022-11-11T09:00:00+00:00\",\"2022-11-11T10:00:00+00:00\",\"2022-11-11T11:00:00+00:00\",\"2022-11-11T12:00:00+00:00\",\"2022-11-11T13:00:00+00:00\",\"2022-11-11T14:00:00+00:00\",\"2022-11-11T15:00:00+00:00\",\"2022-11-11T16:00:00+00:00\",\"2022-11-11T17:00:00+00:00\",\"2022-11-11T18:00:00+00:00\",\"2022-11-11T19:00:00+00:00\",\"2022-11-11T20:00:00+00:00\",\"2022-11-11T21:00:00+00:00\",\"2022-11-11T22:00:00+00:00\",\"2022-11-11T23:00:00+00:00\",\"2022-11-12T00:00:00+00:00\",\"2022-11-12T01:00:00+00:00\",\"2022-11-12T02:00:00+00:00\",\"2022-11-12T03:00:00+00:00\",\"2022-11-12T04:00:00+00:00\",\"2022-11-12T05:00:00+00:00\",\"2022-11-12T06:00:00+00:00\",\"2022-11-12T07:00:00+00:00\",\"2022-11-12T08:00:00+00:00\",\"2022-11-12T09:00:00+00:00\",\"2022-11-12T10:00:00+00:00\",\"2022-11-12T11:00:00+00:00\",\"2022-11-12T12:00:00+00:00\",\"2022-11-12T13:00:00+00:00\",\"2022-11-12T14:00:00+00:00\",\"2022-11-12T15:00:00+00:00\",\"2022-11-12T16:00:00+00:00\",\"2022-11-12T17:00:00+00:00\",\"2022-11-12T18:00:00+00:00\",\"2022-11-12T19:00:00+00:00\",\"2022-11-12T20:00:00+00:00\",\"2022-11-12T21:00:00+00:00\",\"2022-11-12T22:00:00+00:00\",\"2022-11-12T23:00:00+00:00\",\"2022-11-13T00:00:00+00:00\",\"2022-11-13T01:00:00+00:00\",\"2022-11-13T02:00:00+00:00\",\"2022-11-13T03:00:00+00:00\",\"2022-11-13T04:00:00+00:00\",\"2022-11-13T05:00:00+00:00\",\"2022-11-13T06:00:00+00:00\",\"2022-11-13T07:00:00+00:00\",\"2022-11-13T08:00:00+00:00\",\"2022-11-13T09:00:00+00:00\",\"2022-11-13T10:00:00+00:00\",\"2022-11-13T11:00:00+00:00\",\"2022-11-13T12:00:00+00:00\",\"2022-11-13T13:00:00+00:00\",\"2022-11-13T14:00:00+00:00\",\"2022-11-13T15:00:00+00:00\",\"2022-11-13T16:00:00+00:00\",\"2022-11-13T17:00:00+00:00\",\"2022-11-13T18:00:00+00:00\",\"2022-11-13T19:00:00+00:00\",\"2022-11-13T20:00:00+00:00\",\"2022-11-13T21:00:00+00:00\",\"2022-11-13T22:00:00+00:00\",\"2022-11-13T23:00:00+00:00\",\"2022-11-14T00:00:00+00:00\",\"2022-11-14T01:00:00+00:00\",\"2022-11-14T02:00:00+00:00\",\"2022-11-14T03:00:00+00:00\",\"2022-11-14T04:00:00+00:00\",\"2022-11-14T05:00:00+00:00\",\"2022-11-14T06:00:00+00:00\",\"2022-11-14T07:00:00+00:00\",\"2022-11-14T08:00:00+00:00\",\"2022-11-14T09:00:00+00:00\",\"2022-11-14T10:00:00+00:00\",\"2022-11-14T11:00:00+00:00\",\"2022-11-14T12:00:00+00:00\",\"2022-11-14T13:00:00+00:00\",\"2022-11-14T14:00:00+00:00\",\"2022-11-14T15:00:00+00:00\",\"2022-11-14T16:00:00+00:00\",\"2022-11-14T17:00:00+00:00\",\"2022-11-14T18:00:00+00:00\",\"2022-11-14T19:00:00+00:00\",\"2022-11-14T20:00:00+00:00\",\"2022-11-14T21:00:00+00:00\",\"2022-11-14T22:00:00+00:00\",\"2022-11-14T23:00:00+00:00\",\"2022-11-15T00:00:00+00:00\",\"2022-11-15T01:00:00+00:00\",\"2022-11-15T02:00:00+00:00\",\"2022-11-15T03:00:00+00:00\",\"2022-11-15T04:00:00+00:00\",\"2022-11-15T05:00:00+00:00\",\"2022-11-15T06:00:00+00:00\",\"2022-11-15T07:00:00+00:00\",\"2022-11-15T08:00:00+00:00\",\"2022-11-15T09:00:00+00:00\",\"2022-11-15T10:00:00+00:00\",\"2022-11-15T11:00:00+00:00\",\"2022-11-15T12:00:00+00:00\",\"2022-11-15T13:00:00+00:00\",\"2022-11-15T14:00:00+00:00\",\"2022-11-15T15:00:00+00:00\",\"2022-11-15T16:00:00+00:00\",\"2022-11-15T17:00:00+00:00\",\"2022-11-15T18:00:00+00:00\",\"2022-11-15T19:00:00+00:00\",\"2022-11-15T20:00:00+00:00\",\"2022-11-15T21:00:00+00:00\",\"2022-11-15T22:00:00+00:00\",\"2022-11-15T23:00:00+00:00\",\"2022-11-16T00:00:00+00:00\",\"2022-11-16T01:00:00+00:00\",\"2022-11-16T02:00:00+00:00\",\"2022-11-16T03:00:00+00:00\",\"2022-11-16T04:00:00+00:00\",\"2022-11-16T05:00:00+00:00\",\"2022-11-16T06:00:00+00:00\",\"2022-11-16T07:00:00+00:00\",\"2022-11-16T08:00:00+00:00\",\"2022-11-16T09:00:00+00:00\",\"2022-11-16T10:00:00+00:00\",\"2022-11-16T11:00:00+00:00\",\"2022-11-16T12:00:00+00:00\",\"2022-11-16T13:00:00+00:00\",\"2022-11-16T14:00:00+00:00\",\"2022-11-16T15:00:00+00:00\",\"2022-11-16T16:00:00+00:00\",\"2022-11-16T17:00:00+00:00\",\"2022-11-16T18:00:00+00:00\",\"2022-11-16T19:00:00+00:00\",\"2022-11-16T20:00:00+00:00\",\"2022-11-16T21:00:00+00:00\",\"2022-11-16T22:00:00+00:00\",\"2022-11-16T23:00:00+00:00\",\"2022-11-17T00:00:00+00:00\",\"2022-11-17T01:00:00+00:00\",\"2022-11-17T02:00:00+00:00\",\"2022-11-17T03:00:00+00:00\",\"2022-11-17T04:00:00+00:00\",\"2022-11-17T05:00:00+00:00\",\"2022-11-17T06:00:00+00:00\",\"2022-11-17T07:00:00+00:00\",\"2022-11-17T08:00:00+00:00\",\"2022-11-17T09:00:00+00:00\",\"2022-11-17T10:00:00+00:00\",\"2022-11-17T11:00:00+00:00\",\"2022-11-17T12:00:00+00:00\",\"2022-11-17T13:00:00+00:00\",\"2022-11-17T14:00:00+00:00\",\"2022-11-17T15:00:00+00:00\",\"2022-11-17T16:00:00+00:00\",\"2022-11-17T17:00:00+00:00\",\"2022-11-17T18:00:00+00:00\",\"2022-11-17T19:00:00+00:00\",\"2022-11-17T20:00:00+00:00\",\"2022-11-17T21:00:00+00:00\",\"2022-11-17T22:00:00+00:00\",\"2022-11-17T23:00:00+00:00\",\"2022-11-18T00:00:00+00:00\",\"2022-11-18T01:00:00+00:00\",\"2022-11-18T02:00:00+00:00\",\"2022-11-18T03:00:00+00:00\",\"2022-11-18T04:00:00+00:00\",\"2022-11-18T05:00:00+00:00\",\"2022-11-18T06:00:00+00:00\",\"2022-11-18T07:00:00+00:00\",\"2022-11-18T08:00:00+00:00\",\"2022-11-18T09:00:00+00:00\",\"2022-11-18T10:00:00+00:00\",\"2022-11-18T11:00:00+00:00\",\"2022-11-18T12:00:00+00:00\",\"2022-11-18T13:00:00+00:00\",\"2022-11-18T14:00:00+00:00\",\"2022-11-18T15:00:00+00:00\",\"2022-11-18T16:00:00+00:00\",\"2022-11-18T17:00:00+00:00\",\"2022-11-18T18:00:00+00:00\",\"2022-11-18T19:00:00+00:00\",\"2022-11-18T20:00:00+00:00\",\"2022-11-18T21:00:00+00:00\",\"2022-11-18T22:00:00+00:00\",\"2022-11-18T23:00:00+00:00\",\"2022-11-19T00:00:00+00:00\",\"2022-11-19T01:00:00+00:00\",\"2022-11-19T02:00:00+00:00\",\"2022-11-19T03:00:00+00:00\",\"2022-11-19T04:00:00+00:00\",\"2022-11-19T05:00:00+00:00\",\"2022-11-19T06:00:00+00:00\",\"2022-11-19T07:00:00+00:00\",\"2022-11-19T08:00:00+00:00\",\"2022-11-19T09:00:00+00:00\",\"2022-11-19T10:00:00+00:00\",\"2022-11-19T11:00:00+00:00\",\"2022-11-19T12:00:00+00:00\",\"2022-11-19T13:00:00+00:00\",\"2022-11-19T14:00:00+00:00\",\"2022-11-19T15:00:00+00:00\",\"2022-11-19T16:00:00+00:00\",\"2022-11-19T17:00:00+00:00\",\"2022-11-19T18:00:00+00:00\",\"2022-11-19T19:00:00+00:00\",\"2022-11-19T20:00:00+00:00\",\"2022-11-19T21:00:00+00:00\",\"2022-11-19T22:00:00+00:00\",\"2022-11-19T23:00:00+00:00\",\"2022-11-20T00:00:00+00:00\",\"2022-11-20T01:00:00+00:00\",\"2022-11-20T02:00:00+00:00\",\"2022-11-20T03:00:00+00:00\",\"2022-11-20T04:00:00+00:00\",\"2022-11-20T05:00:00+00:00\",\"2022-11-20T06:00:00+00:00\",\"2022-11-20T07:00:00+00:00\",\"2022-11-20T08:00:00+00:00\",\"2022-11-20T09:00:00+00:00\",\"2022-11-20T10:00:00+00:00\",\"2022-11-20T11:00:00+00:00\",\"2022-11-20T12:00:00+00:00\",\"2022-11-20T13:00:00+00:00\",\"2022-11-20T14:00:00+00:00\",\"2022-11-20T15:00:00+00:00\",\"2022-11-20T16:00:00+00:00\",\"2022-11-20T17:00:00+00:00\",\"2022-11-20T18:00:00+00:00\",\"2022-11-20T19:00:00+00:00\",\"2022-11-20T20:00:00+00:00\",\"2022-11-20T21:00:00+00:00\",\"2022-11-20T22:00:00+00:00\",\"2022-11-20T23:00:00+00:00\",\"2022-11-21T00:00:00+00:00\",\"2022-11-21T01:00:00+00:00\",\"2022-11-21T02:00:00+00:00\",\"2022-11-21T03:00:00+00:00\",\"2022-11-21T04:00:00+00:00\",\"2022-11-21T05:00:00+00:00\",\"2022-11-21T06:00:00+00:00\",\"2022-11-21T07:00:00+00:00\",\"2022-11-21T08:00:00+00:00\",\"2022-11-21T09:00:00+00:00\",\"2022-11-21T10:00:00+00:00\",\"2022-11-21T11:00:00+00:00\",\"2022-11-21T12:00:00+00:00\",\"2022-11-21T13:00:00+00:00\",\"2022-11-21T14:00:00+00:00\",\"2022-11-21T15:00:00+00:00\",\"2022-11-21T16:00:00+00:00\",\"2022-11-21T17:00:00+00:00\",\"2022-11-21T18:00:00+00:00\",\"2022-11-21T19:00:00+00:00\",\"2022-11-21T20:00:00+00:00\",\"2022-11-21T21:00:00+00:00\",\"2022-11-21T22:00:00+00:00\",\"2022-11-21T23:00:00+00:00\",\"2022-11-22T00:00:00+00:00\",\"2022-11-22T01:00:00+00:00\",\"2022-11-22T02:00:00+00:00\",\"2022-11-22T03:00:00+00:00\",\"2022-11-22T04:00:00+00:00\",\"2022-11-22T05:00:00+00:00\",\"2022-11-22T06:00:00+00:00\",\"2022-11-22T07:00:00+00:00\",\"2022-11-22T08:00:00+00:00\",\"2022-11-22T09:00:00+00:00\",\"2022-11-22T10:00:00+00:00\",\"2022-11-22T11:00:00+00:00\",\"2022-11-22T12:00:00+00:00\",\"2022-11-22T13:00:00+00:00\",\"2022-11-22T14:00:00+00:00\",\"2022-11-22T15:00:00+00:00\",\"2022-11-22T16:00:00+00:00\",\"2022-11-22T17:00:00+00:00\",\"2022-11-22T18:00:00+00:00\",\"2022-11-22T19:00:00+00:00\",\"2022-11-22T20:00:00+00:00\",\"2022-11-22T21:00:00+00:00\",\"2022-11-22T22:00:00+00:00\",\"2022-11-22T23:00:00+00:00\",\"2022-11-23T00:00:00+00:00\",\"2022-11-23T01:00:00+00:00\",\"2022-11-23T02:00:00+00:00\",\"2022-11-23T03:00:00+00:00\",\"2022-11-23T04:00:00+00:00\",\"2022-11-23T05:00:00+00:00\",\"2022-11-23T06:00:00+00:00\",\"2022-11-23T07:00:00+00:00\",\"2022-11-23T08:00:00+00:00\",\"2022-11-23T09:00:00+00:00\",\"2022-11-23T10:00:00+00:00\",\"2022-11-23T11:00:00+00:00\",\"2022-11-23T12:00:00+00:00\",\"2022-11-23T13:00:00+00:00\",\"2022-11-23T14:00:00+00:00\",\"2022-11-23T15:00:00+00:00\",\"2022-11-23T16:00:00+00:00\",\"2022-11-23T17:00:00+00:00\",\"2022-11-23T18:00:00+00:00\",\"2022-11-23T19:00:00+00:00\",\"2022-11-23T20:00:00+00:00\",\"2022-11-23T21:00:00+00:00\",\"2022-11-23T22:00:00+00:00\",\"2022-11-23T23:00:00+00:00\",\"2022-11-24T00:00:00+00:00\",\"2022-11-24T01:00:00+00:00\",\"2022-11-24T02:00:00+00:00\",\"2022-11-24T03:00:00+00:00\",\"2022-11-24T04:00:00+00:00\",\"2022-11-24T05:00:00+00:00\",\"2022-11-24T06:00:00+00:00\",\"2022-11-24T07:00:00+00:00\",\"2022-11-24T08:00:00+00:00\",\"2022-11-24T09:00:00+00:00\",\"2022-11-24T10:00:00+00:00\",\"2022-11-24T11:00:00+00:00\",\"2022-11-24T12:00:00+00:00\",\"2022-11-24T13:00:00+00:00\",\"2022-11-24T14:00:00+00:00\",\"2022-11-24T15:00:00+00:00\",\"2022-11-24T16:00:00+00:00\",\"2022-11-24T17:00:00+00:00\",\"2022-11-24T18:00:00+00:00\",\"2022-11-24T19:00:00+00:00\",\"2022-11-24T20:00:00+00:00\",\"2022-11-24T21:00:00+00:00\",\"2022-11-24T22:00:00+00:00\",\"2022-11-24T23:00:00+00:00\",\"2022-11-25T00:00:00+00:00\",\"2022-11-25T01:00:00+00:00\",\"2022-11-25T02:00:00+00:00\",\"2022-11-25T03:00:00+00:00\",\"2022-11-25T04:00:00+00:00\",\"2022-11-25T05:00:00+00:00\",\"2022-11-25T06:00:00+00:00\",\"2022-11-25T07:00:00+00:00\",\"2022-11-25T08:00:00+00:00\",\"2022-11-25T09:00:00+00:00\",\"2022-11-25T10:00:00+00:00\",\"2022-11-25T11:00:00+00:00\",\"2022-11-25T12:00:00+00:00\",\"2022-11-25T13:00:00+00:00\",\"2022-11-25T14:00:00+00:00\",\"2022-11-25T15:00:00+00:00\",\"2022-11-25T16:00:00+00:00\",\"2022-11-25T17:00:00+00:00\",\"2022-11-25T18:00:00+00:00\",\"2022-11-25T19:00:00+00:00\",\"2022-11-25T20:00:00+00:00\",\"2022-11-25T21:00:00+00:00\",\"2022-11-25T22:00:00+00:00\",\"2022-11-25T23:00:00+00:00\",\"2022-11-26T00:00:00+00:00\",\"2022-11-26T01:00:00+00:00\",\"2022-11-26T02:00:00+00:00\",\"2022-11-26T03:00:00+00:00\",\"2022-11-26T04:00:00+00:00\",\"2022-11-26T05:00:00+00:00\",\"2022-11-26T06:00:00+00:00\",\"2022-11-26T07:00:00+00:00\",\"2022-11-26T08:00:00+00:00\",\"2022-11-26T09:00:00+00:00\",\"2022-11-26T10:00:00+00:00\",\"2022-11-26T11:00:00+00:00\",\"2022-11-26T12:00:00+00:00\",\"2022-11-26T13:00:00+00:00\",\"2022-11-26T14:00:00+00:00\",\"2022-11-26T15:00:00+00:00\",\"2022-11-26T16:00:00+00:00\",\"2022-11-26T17:00:00+00:00\",\"2022-11-26T18:00:00+00:00\",\"2022-11-26T19:00:00+00:00\",\"2022-11-26T20:00:00+00:00\",\"2022-11-26T21:00:00+00:00\",\"2022-11-26T22:00:00+00:00\",\"2022-11-26T23:00:00+00:00\",\"2022-11-27T00:00:00+00:00\",\"2022-11-27T01:00:00+00:00\",\"2022-11-27T02:00:00+00:00\",\"2022-11-27T03:00:00+00:00\",\"2022-11-27T04:00:00+00:00\",\"2022-11-27T05:00:00+00:00\",\"2022-11-27T06:00:00+00:00\",\"2022-11-27T07:00:00+00:00\",\"2022-11-27T08:00:00+00:00\",\"2022-11-27T09:00:00+00:00\",\"2022-11-27T10:00:00+00:00\",\"2022-11-27T11:00:00+00:00\",\"2022-11-27T12:00:00+00:00\",\"2022-11-27T13:00:00+00:00\",\"2022-11-27T14:00:00+00:00\",\"2022-11-27T15:00:00+00:00\",\"2022-11-27T16:00:00+00:00\",\"2022-11-27T17:00:00+00:00\",\"2022-11-27T18:00:00+00:00\",\"2022-11-27T19:00:00+00:00\",\"2022-11-27T20:00:00+00:00\",\"2022-11-27T21:00:00+00:00\",\"2022-11-27T22:00:00+00:00\",\"2022-11-27T23:00:00+00:00\",\"2022-11-28T00:00:00+00:00\",\"2022-11-28T01:00:00+00:00\",\"2022-11-28T02:00:00+00:00\",\"2022-11-28T03:00:00+00:00\",\"2022-11-28T04:00:00+00:00\",\"2022-11-28T05:00:00+00:00\",\"2022-11-28T06:00:00+00:00\",\"2022-11-28T07:00:00+00:00\",\"2022-11-28T08:00:00+00:00\",\"2022-11-28T09:00:00+00:00\",\"2022-11-28T10:00:00+00:00\",\"2022-11-28T11:00:00+00:00\",\"2022-11-28T12:00:00+00:00\",\"2022-11-28T13:00:00+00:00\",\"2022-11-28T14:00:00+00:00\",\"2022-11-28T15:00:00+00:00\",\"2022-11-28T16:00:00+00:00\",\"2022-11-28T17:00:00+00:00\",\"2022-11-28T18:00:00+00:00\",\"2022-11-28T19:00:00+00:00\",\"2022-11-28T20:00:00+00:00\",\"2022-11-28T21:00:00+00:00\",\"2022-11-28T22:00:00+00:00\",\"2022-11-28T23:00:00+00:00\",\"2022-11-29T00:00:00+00:00\",\"2022-11-29T01:00:00+00:00\",\"2022-11-29T02:00:00+00:00\",\"2022-11-29T03:00:00+00:00\",\"2022-11-29T04:00:00+00:00\",\"2022-11-29T05:00:00+00:00\",\"2022-11-29T06:00:00+00:00\",\"2022-11-29T07:00:00+00:00\",\"2022-11-29T08:00:00+00:00\",\"2022-11-29T09:00:00+00:00\",\"2022-11-29T10:00:00+00:00\",\"2022-11-29T11:00:00+00:00\",\"2022-11-29T12:00:00+00:00\",\"2022-11-29T13:00:00+00:00\",\"2022-11-29T14:00:00+00:00\",\"2022-11-29T15:00:00+00:00\",\"2022-11-29T16:00:00+00:00\",\"2022-11-29T17:00:00+00:00\",\"2022-11-29T18:00:00+00:00\",\"2022-11-29T19:00:00+00:00\",\"2022-11-29T20:00:00+00:00\",\"2022-11-29T21:00:00+00:00\",\"2022-11-29T22:00:00+00:00\",\"2022-11-29T23:00:00+00:00\",\"2022-11-30T00:00:00+00:00\",\"2022-11-30T01:00:00+00:00\",\"2022-11-30T02:00:00+00:00\",\"2022-11-30T03:00:00+00:00\",\"2022-11-30T04:00:00+00:00\",\"2022-11-30T05:00:00+00:00\",\"2022-11-30T06:00:00+00:00\",\"2022-11-30T07:00:00+00:00\",\"2022-11-30T08:00:00+00:00\",\"2022-11-30T09:00:00+00:00\",\"2022-11-30T10:00:00+00:00\",\"2022-11-30T11:00:00+00:00\",\"2022-11-30T12:00:00+00:00\",\"2022-11-30T13:00:00+00:00\",\"2022-11-30T14:00:00+00:00\",\"2022-11-30T15:00:00+00:00\",\"2022-11-30T16:00:00+00:00\",\"2022-11-30T17:00:00+00:00\",\"2022-11-30T18:00:00+00:00\",\"2022-11-30T19:00:00+00:00\",\"2022-11-30T20:00:00+00:00\",\"2022-11-30T21:00:00+00:00\",\"2022-11-30T22:00:00+00:00\",\"2022-11-30T23:00:00+00:00\",\"2022-12-01T00:00:00+00:00\",\"2022-12-01T01:00:00+00:00\",\"2022-12-01T02:00:00+00:00\",\"2022-12-01T03:00:00+00:00\",\"2022-12-01T04:00:00+00:00\",\"2022-12-01T05:00:00+00:00\",\"2022-12-01T06:00:00+00:00\",\"2022-12-01T07:00:00+00:00\",\"2022-12-01T08:00:00+00:00\",\"2022-12-01T09:00:00+00:00\",\"2022-12-01T10:00:00+00:00\",\"2022-12-01T11:00:00+00:00\",\"2022-12-01T12:00:00+00:00\",\"2022-12-01T13:00:00+00:00\",\"2022-12-01T14:00:00+00:00\",\"2022-12-01T15:00:00+00:00\",\"2022-12-01T16:00:00+00:00\",\"2022-12-01T17:00:00+00:00\",\"2022-12-01T18:00:00+00:00\",\"2022-12-01T19:00:00+00:00\",\"2022-12-01T20:00:00+00:00\",\"2022-12-01T21:00:00+00:00\",\"2022-12-01T22:00:00+00:00\",\"2022-12-01T23:00:00+00:00\",\"2022-12-02T00:00:00+00:00\",\"2022-12-02T01:00:00+00:00\",\"2022-12-02T02:00:00+00:00\",\"2022-12-02T03:00:00+00:00\",\"2022-12-02T04:00:00+00:00\",\"2022-12-02T05:00:00+00:00\",\"2022-12-02T06:00:00+00:00\",\"2022-12-02T07:00:00+00:00\",\"2022-12-02T08:00:00+00:00\",\"2022-12-02T09:00:00+00:00\",\"2022-12-02T10:00:00+00:00\",\"2022-12-02T11:00:00+00:00\",\"2022-12-02T12:00:00+00:00\",\"2022-12-02T13:00:00+00:00\",\"2022-12-02T14:00:00+00:00\",\"2022-12-02T15:00:00+00:00\",\"2022-12-02T16:00:00+00:00\",\"2022-12-02T17:00:00+00:00\",\"2022-12-02T18:00:00+00:00\",\"2022-12-02T19:00:00+00:00\",\"2022-12-02T20:00:00+00:00\",\"2022-12-02T21:00:00+00:00\",\"2022-12-02T22:00:00+00:00\",\"2022-12-02T23:00:00+00:00\",\"2022-12-03T00:00:00+00:00\",\"2022-12-03T01:00:00+00:00\",\"2022-12-03T02:00:00+00:00\",\"2022-12-03T03:00:00+00:00\",\"2022-12-03T04:00:00+00:00\",\"2022-12-03T05:00:00+00:00\",\"2022-12-03T06:00:00+00:00\",\"2022-12-03T07:00:00+00:00\",\"2022-12-03T08:00:00+00:00\",\"2022-12-03T09:00:00+00:00\",\"2022-12-03T10:00:00+00:00\",\"2022-12-03T11:00:00+00:00\",\"2022-12-03T12:00:00+00:00\",\"2022-12-03T13:00:00+00:00\",\"2022-12-03T14:00:00+00:00\",\"2022-12-03T15:00:00+00:00\",\"2022-12-03T16:00:00+00:00\",\"2022-12-03T17:00:00+00:00\",\"2022-12-03T18:00:00+00:00\",\"2022-12-03T19:00:00+00:00\",\"2022-12-03T20:00:00+00:00\",\"2022-12-03T21:00:00+00:00\",\"2022-12-03T22:00:00+00:00\",\"2022-12-03T23:00:00+00:00\",\"2022-12-04T00:00:00+00:00\",\"2022-12-04T01:00:00+00:00\",\"2022-12-04T02:00:00+00:00\",\"2022-12-04T03:00:00+00:00\",\"2022-12-04T04:00:00+00:00\",\"2022-12-04T05:00:00+00:00\",\"2022-12-04T06:00:00+00:00\",\"2022-12-04T07:00:00+00:00\",\"2022-12-04T08:00:00+00:00\",\"2022-12-04T09:00:00+00:00\",\"2022-12-04T10:00:00+00:00\",\"2022-12-04T11:00:00+00:00\",\"2022-12-04T12:00:00+00:00\",\"2022-12-04T13:00:00+00:00\",\"2022-12-04T14:00:00+00:00\",\"2022-12-04T15:00:00+00:00\",\"2022-12-04T16:00:00+00:00\",\"2022-12-04T17:00:00+00:00\",\"2022-12-04T18:00:00+00:00\",\"2022-12-04T19:00:00+00:00\",\"2022-12-04T20:00:00+00:00\",\"2022-12-04T21:00:00+00:00\",\"2022-12-04T22:00:00+00:00\",\"2022-12-04T23:00:00+00:00\",\"2022-12-05T00:00:00+00:00\",\"2022-12-05T01:00:00+00:00\",\"2022-12-05T02:00:00+00:00\",\"2022-12-05T03:00:00+00:00\",\"2022-12-05T04:00:00+00:00\",\"2022-12-05T05:00:00+00:00\",\"2022-12-05T06:00:00+00:00\",\"2022-12-05T07:00:00+00:00\",\"2022-12-05T08:00:00+00:00\",\"2022-12-05T09:00:00+00:00\",\"2022-12-05T10:00:00+00:00\",\"2022-12-05T11:00:00+00:00\",\"2022-12-05T12:00:00+00:00\",\"2022-12-05T13:00:00+00:00\",\"2022-12-05T14:00:00+00:00\",\"2022-12-05T15:00:00+00:00\",\"2022-12-05T16:00:00+00:00\",\"2022-12-05T17:00:00+00:00\",\"2022-12-05T18:00:00+00:00\",\"2022-12-05T19:00:00+00:00\",\"2022-12-05T20:00:00+00:00\",\"2022-12-05T21:00:00+00:00\",\"2022-12-05T22:00:00+00:00\",\"2022-12-05T23:00:00+00:00\",\"2022-12-06T00:00:00+00:00\",\"2022-12-06T01:00:00+00:00\",\"2022-12-06T02:00:00+00:00\",\"2022-12-06T03:00:00+00:00\",\"2022-12-06T04:00:00+00:00\",\"2022-12-06T05:00:00+00:00\",\"2022-12-06T06:00:00+00:00\",\"2022-12-06T07:00:00+00:00\",\"2022-12-06T08:00:00+00:00\",\"2022-12-06T09:00:00+00:00\",\"2022-12-06T10:00:00+00:00\",\"2022-12-06T11:00:00+00:00\",\"2022-12-06T12:00:00+00:00\",\"2022-12-06T13:00:00+00:00\",\"2022-12-06T14:00:00+00:00\",\"2022-12-06T15:00:00+00:00\",\"2022-12-06T16:00:00+00:00\",\"2022-12-06T17:00:00+00:00\",\"2022-12-06T18:00:00+00:00\",\"2022-12-06T19:00:00+00:00\",\"2022-12-06T20:00:00+00:00\",\"2022-12-06T21:00:00+00:00\",\"2022-12-06T22:00:00+00:00\",\"2022-12-06T23:00:00+00:00\",\"2022-12-07T00:00:00+00:00\",\"2022-12-07T01:00:00+00:00\",\"2022-12-07T02:00:00+00:00\",\"2022-12-07T03:00:00+00:00\",\"2022-12-07T04:00:00+00:00\",\"2022-12-07T05:00:00+00:00\",\"2022-12-07T06:00:00+00:00\",\"2022-12-07T07:00:00+00:00\",\"2022-12-07T08:00:00+00:00\",\"2022-12-07T09:00:00+00:00\",\"2022-12-07T10:00:00+00:00\",\"2022-12-07T11:00:00+00:00\",\"2022-12-07T12:00:00+00:00\",\"2022-12-07T13:00:00+00:00\",\"2022-12-07T14:00:00+00:00\",\"2022-12-07T15:00:00+00:00\",\"2022-12-07T16:00:00+00:00\",\"2022-12-07T17:00:00+00:00\",\"2022-12-07T18:00:00+00:00\",\"2022-12-07T19:00:00+00:00\",\"2022-12-07T20:00:00+00:00\",\"2022-12-07T21:00:00+00:00\",\"2022-12-07T22:00:00+00:00\",\"2022-12-07T23:00:00+00:00\",\"2022-12-08T00:00:00+00:00\",\"2022-12-08T01:00:00+00:00\",\"2022-12-08T02:00:00+00:00\",\"2022-12-08T03:00:00+00:00\",\"2022-12-08T04:00:00+00:00\",\"2022-12-08T05:00:00+00:00\",\"2022-12-08T06:00:00+00:00\",\"2022-12-08T07:00:00+00:00\",\"2022-12-08T08:00:00+00:00\",\"2022-12-08T09:00:00+00:00\",\"2022-12-08T10:00:00+00:00\",\"2022-12-08T11:00:00+00:00\",\"2022-12-08T12:00:00+00:00\",\"2022-12-08T13:00:00+00:00\",\"2022-12-08T14:00:00+00:00\",\"2022-12-08T15:00:00+00:00\",\"2022-12-08T16:00:00+00:00\",\"2022-12-08T17:00:00+00:00\",\"2022-12-08T18:00:00+00:00\",\"2022-12-08T19:00:00+00:00\",\"2022-12-08T20:00:00+00:00\",\"2022-12-08T21:00:00+00:00\",\"2022-12-08T22:00:00+00:00\",\"2022-12-08T23:00:00+00:00\",\"2022-12-09T00:00:00+00:00\",\"2022-12-09T01:00:00+00:00\",\"2022-12-09T02:00:00+00:00\",\"2022-12-09T03:00:00+00:00\",\"2022-12-09T04:00:00+00:00\",\"2022-12-09T05:00:00+00:00\",\"2022-12-09T06:00:00+00:00\",\"2022-12-09T07:00:00+00:00\",\"2022-12-09T08:00:00+00:00\",\"2022-12-09T09:00:00+00:00\",\"2022-12-09T10:00:00+00:00\",\"2022-12-09T11:00:00+00:00\",\"2022-12-09T12:00:00+00:00\",\"2022-12-09T13:00:00+00:00\",\"2022-12-09T14:00:00+00:00\",\"2022-12-09T15:00:00+00:00\",\"2022-12-09T16:00:00+00:00\",\"2022-12-09T17:00:00+00:00\",\"2022-12-09T18:00:00+00:00\",\"2022-12-09T19:00:00+00:00\",\"2022-12-09T20:00:00+00:00\",\"2022-12-09T21:00:00+00:00\",\"2022-12-09T22:00:00+00:00\",\"2022-12-09T23:00:00+00:00\",\"2022-12-10T00:00:00+00:00\",\"2022-12-10T01:00:00+00:00\",\"2022-12-10T02:00:00+00:00\",\"2022-12-10T03:00:00+00:00\",\"2022-12-10T04:00:00+00:00\",\"2022-12-10T05:00:00+00:00\",\"2022-12-10T06:00:00+00:00\",\"2022-12-10T07:00:00+00:00\",\"2022-12-10T08:00:00+00:00\",\"2022-12-10T09:00:00+00:00\",\"2022-12-10T10:00:00+00:00\",\"2022-12-10T11:00:00+00:00\",\"2022-12-10T12:00:00+00:00\",\"2022-12-10T13:00:00+00:00\",\"2022-12-10T14:00:00+00:00\",\"2022-12-10T15:00:00+00:00\",\"2022-12-10T16:00:00+00:00\",\"2022-12-10T17:00:00+00:00\",\"2022-12-10T18:00:00+00:00\",\"2022-12-10T19:00:00+00:00\",\"2022-12-10T20:00:00+00:00\",\"2022-12-10T21:00:00+00:00\",\"2022-12-10T22:00:00+00:00\",\"2022-12-10T23:00:00+00:00\",\"2022-12-11T00:00:00+00:00\",\"2022-12-11T01:00:00+00:00\",\"2022-12-11T02:00:00+00:00\",\"2022-12-11T03:00:00+00:00\",\"2022-12-11T04:00:00+00:00\",\"2022-12-11T05:00:00+00:00\",\"2022-12-11T06:00:00+00:00\",\"2022-12-11T07:00:00+00:00\",\"2022-12-11T08:00:00+00:00\",\"2022-12-11T09:00:00+00:00\",\"2022-12-11T10:00:00+00:00\",\"2022-12-11T11:00:00+00:00\",\"2022-12-11T12:00:00+00:00\",\"2022-12-11T13:00:00+00:00\",\"2022-12-11T14:00:00+00:00\",\"2022-12-11T15:00:00+00:00\",\"2022-12-11T16:00:00+00:00\",\"2022-12-11T17:00:00+00:00\",\"2022-12-11T18:00:00+00:00\",\"2022-12-11T19:00:00+00:00\",\"2022-12-11T20:00:00+00:00\",\"2022-12-11T21:00:00+00:00\",\"2022-12-11T22:00:00+00:00\",\"2022-12-11T23:00:00+00:00\",\"2022-12-12T00:00:00+00:00\",\"2022-12-12T01:00:00+00:00\",\"2022-12-12T02:00:00+00:00\",\"2022-12-12T03:00:00+00:00\",\"2022-12-12T04:00:00+00:00\",\"2022-12-12T05:00:00+00:00\",\"2022-12-12T06:00:00+00:00\",\"2022-12-12T07:00:00+00:00\",\"2022-12-12T08:00:00+00:00\",\"2022-12-12T09:00:00+00:00\",\"2022-12-12T10:00:00+00:00\",\"2022-12-12T11:00:00+00:00\",\"2022-12-12T12:00:00+00:00\",\"2022-12-12T13:00:00+00:00\",\"2022-12-12T14:00:00+00:00\",\"2022-12-12T15:00:00+00:00\",\"2022-12-12T16:00:00+00:00\",\"2022-12-12T17:00:00+00:00\",\"2022-12-12T18:00:00+00:00\",\"2022-12-12T19:00:00+00:00\",\"2022-12-12T20:00:00+00:00\",\"2022-12-12T21:00:00+00:00\",\"2022-12-12T22:00:00+00:00\",\"2022-12-12T23:00:00+00:00\",\"2022-12-13T00:00:00+00:00\",\"2022-12-13T01:00:00+00:00\",\"2022-12-13T02:00:00+00:00\",\"2022-12-13T03:00:00+00:00\",\"2022-12-13T04:00:00+00:00\",\"2022-12-13T05:00:00+00:00\",\"2022-12-13T06:00:00+00:00\",\"2022-12-13T07:00:00+00:00\",\"2022-12-13T08:00:00+00:00\",\"2022-12-13T09:00:00+00:00\",\"2022-12-13T10:00:00+00:00\",\"2022-12-13T11:00:00+00:00\",\"2022-12-13T12:00:00+00:00\",\"2022-12-13T13:00:00+00:00\",\"2022-12-13T14:00:00+00:00\",\"2022-12-13T15:00:00+00:00\",\"2022-12-13T16:00:00+00:00\",\"2022-12-13T17:00:00+00:00\",\"2022-12-13T18:00:00+00:00\",\"2022-12-13T19:00:00+00:00\",\"2022-12-13T20:00:00+00:00\",\"2022-12-13T21:00:00+00:00\",\"2022-12-13T22:00:00+00:00\",\"2022-12-13T23:00:00+00:00\",\"2022-12-14T00:00:00+00:00\",\"2022-12-14T01:00:00+00:00\",\"2022-12-14T02:00:00+00:00\",\"2022-12-14T03:00:00+00:00\",\"2022-12-14T04:00:00+00:00\",\"2022-12-14T05:00:00+00:00\",\"2022-12-14T06:00:00+00:00\",\"2022-12-14T07:00:00+00:00\",\"2022-12-14T08:00:00+00:00\",\"2022-12-14T09:00:00+00:00\",\"2022-12-14T10:00:00+00:00\",\"2022-12-14T11:00:00+00:00\",\"2022-12-14T12:00:00+00:00\",\"2022-12-14T13:00:00+00:00\",\"2022-12-14T14:00:00+00:00\",\"2022-12-14T15:00:00+00:00\",\"2022-12-14T16:00:00+00:00\",\"2022-12-14T17:00:00+00:00\",\"2022-12-14T18:00:00+00:00\",\"2022-12-14T19:00:00+00:00\",\"2022-12-14T20:00:00+00:00\",\"2022-12-14T21:00:00+00:00\",\"2022-12-14T22:00:00+00:00\",\"2022-12-14T23:00:00+00:00\",\"2022-12-15T00:00:00+00:00\"],\"y\":[2,7,17,107,81,59,56,86,45,27,26,24,8,3,5,3,7,5,5,10,14,9,28,9,13,14,3,9,5,9,7,4,2,6,5,1,3,1,1,3,0,2,0,1,7,5,2,26,5,13,8,16,34,17,25,19,8,89,36,24,25,7,6,4,7,12,10,8,13,9,25,9,32,82,32,23,29,14,14,19,7,12,13,7,4,2,3,2,1,3,3,5,15,7,10,7,16,70,53,26,19,19,11,14,12,10,11,10,9,2,3,1,6,8,8,3,5,16,46,26,38,24,23,40,27,19,20,13,44,29,140,77,30,18,9,9,9,5,11,15,12,20,17,15,20,10,21,15,6,6,30,24,10,8,21,6,16,2,1,4,1,8,1,1,4,9,11,9,64,15,15,14,13,53,39,32,34,20,24,14,17,6,1,7,7,7,4,12,14,68,43,58,47,46,27,43,56,40,35,24,60,16,29,34,19,5,9,8,5,10,15,23,14,46,87,92,45,64,56,28,24,25,23,26,32,20,30,36,25,16,10,8,2,4,11,9,17,28,15,37,30,44,50,44,28,50,77,114,107,128,76,132,102,52,22,24,11,10,59,63,106,175,313,611,655,546,510,549,233,652,400,557,357,206,190,211,108,55,41,38,25,36,34,50,86,76,67,67,52,52,52,32,21,27,31,21,27,18,35,20,8,6,8,3,5,6,5,10,26,11,10,12,19,24,43,39,26,16,61,71,22,36,28,17,6,24,5,2,7,8,13,9,19,10,14,27,38,29,13,16,21,15,20,45,61,51,30,20,19,11,4,4,2,4,7,6,15,40,44,29,27,47,37,31,32,34,29,238,95,239,167,885,548,261,173,91,107,101,85,101,111,135,169,113,117,85,68,44,41,36,51,32,32,21,19,18,13,11,3,7,3,15,4,5,3,7,6,10,7,16,8,13,10,10,13,6,11,10,4,18,9,0,11,5,1,2,3,10,8,11,10,9,14,44,35,10,18,23,10,13,16,16,11,4,5,6,7,3,2,5,2,2,4,17,9,9,3,10,17,11,5,9,20,95,57,132,56,148,83,18,22,5,6,9,5,5,21,18,12,7,9,27,6,18,7,12,9,17,8,7,15,7,2,3,6,2,1,3,2,2,2,5,3,6,13,7,10,6,5,4,3,4,0,5,7,2,1,2,0,4,1,2,3,0,1,1,3,11,5,6,5,3,2,2,4,4,3,3,2,3,4,8,2,0,4,0,1,1,0,3,6,2,3,25,3,101,38,66,67,46,18,25,18,13,5,9,3,3,6,4,8,7,13,10,11,15,12,10,14,10,13,13,72,65,710,523,351,251,249,65,27,32,32,35,24,51,135,74,53,65,43,40,32,30,54,39,21,27,27,18,47,29,16,17,4,4,2,5,5,2,15,6,13,21,11,8,16,16,6,9,12,5,8,7,15,10,6,8,2,1,0,0,2,1,3,1,26,15,13,12,6,8,4,3,8,6,6,3,4,1,2,3,4,1,2,2,1,2,2,15,34,15,18,14,8,14,10,10,3,11,6,5,3,5,0,0,9,0,3,2,3,2,5,7,10,8,4,28,17,19,20,15,17,20,50,23,16,24,7,5,6,4,7,6,2,2,6,20,13,8,12,14,20,49,20,22,117,116,424,2348,8169,2120,1854,1129,637,432,281,281,248,304,424,608,1997,5199,3864,2927,2044,1608,1341,1196,1068,995,808,643,547,465,321,238,185,153,135,123,152,174,215,288,257,129,172,134,109,81,91,99,104,87,63,64,63,44,40,26,22,9,20,38,41,25,32,50,41,53,35,45,25,48,36,36,37,31,141,69,27,28,10,18,8,6,6,8,11,13,20,13,21,20,32,20,13,9,13,21,16,11,22,28,19,8,11,0],\"type\":\"scatter\"}],                        {\"template\":{\"data\":{\"bar\":[{\"error_x\":{\"color\":\"#2a3f5f\"},\"error_y\":{\"color\":\"#2a3f5f\"},\"marker\":{\"line\":{\"color\":\"#E5ECF6\",\"width\":0.5},\"pattern\":{\"fillmode\":\"overlay\",\"size\":10,\"solidity\":0.2}},\"type\":\"bar\"}],\"barpolar\":[{\"marker\":{\"line\":{\"color\":\"#E5ECF6\",\"width\":0.5},\"pattern\":{\"fillmode\":\"overlay\",\"size\":10,\"solidity\":0.2}},\"type\":\"barpolar\"}],\"carpet\":[{\"aaxis\":{\"endlinecolor\":\"#2a3f5f\",\"gridcolor\":\"white\",\"linecolor\":\"white\",\"minorgridcolor\":\"white\",\"startlinecolor\":\"#2a3f5f\"},\"baxis\":{\"endlinecolor\":\"#2a3f5f\",\"gridcolor\":\"white\",\"linecolor\":\"white\",\"minorgridcolor\":\"white\",\"startlinecolor\":\"#2a3f5f\"},\"type\":\"carpet\"}],\"choropleth\":[{\"colorbar\":{\"outlinewidth\":0,\"ticks\":\"\"},\"type\":\"choropleth\"}],\"contour\":[{\"colorbar\":{\"outlinewidth\":0,\"ticks\":\"\"},\"colorscale\":[[0.0,\"#0d0887\"],[0.1111111111111111,\"#46039f\"],[0.2222222222222222,\"#7201a8\"],[0.3333333333333333,\"#9c179e\"],[0.4444444444444444,\"#bd3786\"],[0.5555555555555556,\"#d8576b\"],[0.6666666666666666,\"#ed7953\"],[0.7777777777777778,\"#fb9f3a\"],[0.8888888888888888,\"#fdca26\"],[1.0,\"#f0f921\"]],\"type\":\"contour\"}],\"contourcarpet\":[{\"colorbar\":{\"outlinewidth\":0,\"ticks\":\"\"},\"type\":\"contourcarpet\"}],\"heatmap\":[{\"colorbar\":{\"outlinewidth\":0,\"ticks\":\"\"},\"colorscale\":[[0.0,\"#0d0887\"],[0.1111111111111111,\"#46039f\"],[0.2222222222222222,\"#7201a8\"],[0.3333333333333333,\"#9c179e\"],[0.4444444444444444,\"#bd3786\"],[0.5555555555555556,\"#d8576b\"],[0.6666666666666666,\"#ed7953\"],[0.7777777777777778,\"#fb9f3a\"],[0.8888888888888888,\"#fdca26\"],[1.0,\"#f0f921\"]],\"type\":\"heatmap\"}],\"heatmapgl\":[{\"colorbar\":{\"outlinewidth\":0,\"ticks\":\"\"},\"colorscale\":[[0.0,\"#0d0887\"],[0.1111111111111111,\"#46039f\"],[0.2222222222222222,\"#7201a8\"],[0.3333333333333333,\"#9c179e\"],[0.4444444444444444,\"#bd3786\"],[0.5555555555555556,\"#d8576b\"],[0.6666666666666666,\"#ed7953\"],[0.7777777777777778,\"#fb9f3a\"],[0.8888888888888888,\"#fdca26\"],[1.0,\"#f0f921\"]],\"type\":\"heatmapgl\"}],\"histogram\":[{\"marker\":{\"pattern\":{\"fillmode\":\"overlay\",\"size\":10,\"solidity\":0.2}},\"type\":\"histogram\"}],\"histogram2d\":[{\"colorbar\":{\"outlinewidth\":0,\"ticks\":\"\"},\"colorscale\":[[0.0,\"#0d0887\"],[0.1111111111111111,\"#46039f\"],[0.2222222222222222,\"#7201a8\"],[0.3333333333333333,\"#9c179e\"],[0.4444444444444444,\"#bd3786\"],[0.5555555555555556,\"#d8576b\"],[0.6666666666666666,\"#ed7953\"],[0.7777777777777778,\"#fb9f3a\"],[0.8888888888888888,\"#fdca26\"],[1.0,\"#f0f921\"]],\"type\":\"histogram2d\"}],\"histogram2dcontour\":[{\"colorbar\":{\"outlinewidth\":0,\"ticks\":\"\"},\"colorscale\":[[0.0,\"#0d0887\"],[0.1111111111111111,\"#46039f\"],[0.2222222222222222,\"#7201a8\"],[0.3333333333333333,\"#9c179e\"],[0.4444444444444444,\"#bd3786\"],[0.5555555555555556,\"#d8576b\"],[0.6666666666666666,\"#ed7953\"],[0.7777777777777778,\"#fb9f3a\"],[0.8888888888888888,\"#fdca26\"],[1.0,\"#f0f921\"]],\"type\":\"histogram2dcontour\"}],\"mesh3d\":[{\"colorbar\":{\"outlinewidth\":0,\"ticks\":\"\"},\"type\":\"mesh3d\"}],\"parcoords\":[{\"line\":{\"colorbar\":{\"outlinewidth\":0,\"ticks\":\"\"}},\"type\":\"parcoords\"}],\"pie\":[{\"automargin\":true,\"type\":\"pie\"}],\"scatter\":[{\"marker\":{\"colorbar\":{\"outlinewidth\":0,\"ticks\":\"\"}},\"type\":\"scatter\"}],\"scatter3d\":[{\"line\":{\"colorbar\":{\"outlinewidth\":0,\"ticks\":\"\"}},\"marker\":{\"colorbar\":{\"outlinewidth\":0,\"ticks\":\"\"}},\"type\":\"scatter3d\"}],\"scattercarpet\":[{\"marker\":{\"colorbar\":{\"outlinewidth\":0,\"ticks\":\"\"}},\"type\":\"scattercarpet\"}],\"scattergeo\":[{\"marker\":{\"colorbar\":{\"outlinewidth\":0,\"ticks\":\"\"}},\"type\":\"scattergeo\"}],\"scattergl\":[{\"marker\":{\"colorbar\":{\"outlinewidth\":0,\"ticks\":\"\"}},\"type\":\"scattergl\"}],\"scattermapbox\":[{\"marker\":{\"colorbar\":{\"outlinewidth\":0,\"ticks\":\"\"}},\"type\":\"scattermapbox\"}],\"scatterpolar\":[{\"marker\":{\"colorbar\":{\"outlinewidth\":0,\"ticks\":\"\"}},\"type\":\"scatterpolar\"}],\"scatterpolargl\":[{\"marker\":{\"colorbar\":{\"outlinewidth\":0,\"ticks\":\"\"}},\"type\":\"scatterpolargl\"}],\"scatterternary\":[{\"marker\":{\"colorbar\":{\"outlinewidth\":0,\"ticks\":\"\"}},\"type\":\"scatterternary\"}],\"surface\":[{\"colorbar\":{\"outlinewidth\":0,\"ticks\":\"\"},\"colorscale\":[[0.0,\"#0d0887\"],[0.1111111111111111,\"#46039f\"],[0.2222222222222222,\"#7201a8\"],[0.3333333333333333,\"#9c179e\"],[0.4444444444444444,\"#bd3786\"],[0.5555555555555556,\"#d8576b\"],[0.6666666666666666,\"#ed7953\"],[0.7777777777777778,\"#fb9f3a\"],[0.8888888888888888,\"#fdca26\"],[1.0,\"#f0f921\"]],\"type\":\"surface\"}],\"table\":[{\"cells\":{\"fill\":{\"color\":\"#EBF0F8\"},\"line\":{\"color\":\"white\"}},\"header\":{\"fill\":{\"color\":\"#C8D4E3\"},\"line\":{\"color\":\"white\"}},\"type\":\"table\"}]},\"layout\":{\"annotationdefaults\":{\"arrowcolor\":\"#2a3f5f\",\"arrowhead\":0,\"arrowwidth\":1},\"autotypenumbers\":\"strict\",\"coloraxis\":{\"colorbar\":{\"outlinewidth\":0,\"ticks\":\"\"}},\"colorscale\":{\"diverging\":[[0,\"#8e0152\"],[0.1,\"#c51b7d\"],[0.2,\"#de77ae\"],[0.3,\"#f1b6da\"],[0.4,\"#fde0ef\"],[0.5,\"#f7f7f7\"],[0.6,\"#e6f5d0\"],[0.7,\"#b8e186\"],[0.8,\"#7fbc41\"],[0.9,\"#4d9221\"],[1,\"#276419\"]],\"sequential\":[[0.0,\"#0d0887\"],[0.1111111111111111,\"#46039f\"],[0.2222222222222222,\"#7201a8\"],[0.3333333333333333,\"#9c179e\"],[0.4444444444444444,\"#bd3786\"],[0.5555555555555556,\"#d8576b\"],[0.6666666666666666,\"#ed7953\"],[0.7777777777777778,\"#fb9f3a\"],[0.8888888888888888,\"#fdca26\"],[1.0,\"#f0f921\"]],\"sequentialminus\":[[0.0,\"#0d0887\"],[0.1111111111111111,\"#46039f\"],[0.2222222222222222,\"#7201a8\"],[0.3333333333333333,\"#9c179e\"],[0.4444444444444444,\"#bd3786\"],[0.5555555555555556,\"#d8576b\"],[0.6666666666666666,\"#ed7953\"],[0.7777777777777778,\"#fb9f3a\"],[0.8888888888888888,\"#fdca26\"],[1.0,\"#f0f921\"]]},\"colorway\":[\"#636efa\",\"#EF553B\",\"#00cc96\",\"#ab63fa\",\"#FFA15A\",\"#19d3f3\",\"#FF6692\",\"#B6E880\",\"#FF97FF\",\"#FECB52\"],\"font\":{\"color\":\"#2a3f5f\"},\"geo\":{\"bgcolor\":\"white\",\"lakecolor\":\"white\",\"landcolor\":\"#E5ECF6\",\"showlakes\":true,\"showland\":true,\"subunitcolor\":\"white\"},\"hoverlabel\":{\"align\":\"left\"},\"hovermode\":\"closest\",\"mapbox\":{\"style\":\"light\"},\"paper_bgcolor\":\"white\",\"plot_bgcolor\":\"#E5ECF6\",\"polar\":{\"angularaxis\":{\"gridcolor\":\"white\",\"linecolor\":\"white\",\"ticks\":\"\"},\"bgcolor\":\"#E5ECF6\",\"radialaxis\":{\"gridcolor\":\"white\",\"linecolor\":\"white\",\"ticks\":\"\"}},\"scene\":{\"xaxis\":{\"backgroundcolor\":\"#E5ECF6\",\"gridcolor\":\"white\",\"gridwidth\":2,\"linecolor\":\"white\",\"showbackground\":true,\"ticks\":\"\",\"zerolinecolor\":\"white\"},\"yaxis\":{\"backgroundcolor\":\"#E5ECF6\",\"gridcolor\":\"white\",\"gridwidth\":2,\"linecolor\":\"white\",\"showbackground\":true,\"ticks\":\"\",\"zerolinecolor\":\"white\"},\"zaxis\":{\"backgroundcolor\":\"#E5ECF6\",\"gridcolor\":\"white\",\"gridwidth\":2,\"linecolor\":\"white\",\"showbackground\":true,\"ticks\":\"\",\"zerolinecolor\":\"white\"}},\"shapedefaults\":{\"line\":{\"color\":\"#2a3f5f\"}},\"ternary\":{\"aaxis\":{\"gridcolor\":\"white\",\"linecolor\":\"white\",\"ticks\":\"\"},\"baxis\":{\"gridcolor\":\"white\",\"linecolor\":\"white\",\"ticks\":\"\"},\"bgcolor\":\"#E5ECF6\",\"caxis\":{\"gridcolor\":\"white\",\"linecolor\":\"white\",\"ticks\":\"\"}},\"title\":{\"x\":0.05},\"xaxis\":{\"automargin\":true,\"gridcolor\":\"white\",\"linecolor\":\"white\",\"ticks\":\"\",\"title\":{\"standoff\":15},\"zerolinecolor\":\"white\",\"zerolinewidth\":2},\"yaxis\":{\"automargin\":true,\"gridcolor\":\"white\",\"linecolor\":\"white\",\"ticks\":\"\",\"title\":{\"standoff\":15},\"zerolinecolor\":\"white\",\"zerolinewidth\":2}}}},                        {\"responsive\": true}                    ).then(function(){\n",
              "                            \n",
              "var gd = document.getElementById('bebfedff-6cdc-4b0c-85ee-3a130c343a6a');\n",
              "var x = new MutationObserver(function (mutations, observer) {{\n",
              "        var display = window.getComputedStyle(gd).display;\n",
              "        if (!display || display === 'none') {{\n",
              "            console.log([gd, 'removed!']);\n",
              "            Plotly.purge(gd);\n",
              "            observer.disconnect();\n",
              "        }}\n",
              "}});\n",
              "\n",
              "// Listen for the removal of the full notebook cells\n",
              "var notebookContainer = gd.closest('#notebook-container');\n",
              "if (notebookContainer) {{\n",
              "    x.observe(notebookContainer, {childList: true});\n",
              "}}\n",
              "\n",
              "// Listen for the clearing of the current output cell\n",
              "var outputEl = gd.closest('.output');\n",
              "if (outputEl) {{\n",
              "    x.observe(outputEl, {childList: true});\n",
              "}}\n",
              "\n",
              "                        })                };                            </script>        </div>\n",
              "</body>\n",
              "</html>"
            ]
          },
          "metadata": {}
        }
      ]
    },
    {
      "cell_type": "code",
      "metadata": {
        "colab": {
          "base_uri": "https://localhost:8080/",
          "height": 542
        },
        "id": "64MvFFPWRhu9",
        "outputId": "6e848513-290a-4a25-e256-763413d474f2"
      },
      "source": [
        "# Plot frequency of offensive tweets\n",
        "df = joined_df.resample(INTERVAL, on='created_at')['persp_over_threshold'].sum().reset_index()\n",
        "fig = create_frequency_plot(df, ['persp_over_threshold'])\n",
        "fig.show()"
      ],
      "execution_count": 33,
      "outputs": [
        {
          "output_type": "display_data",
          "data": {
            "text/html": [
              "<html>\n",
              "<head><meta charset=\"utf-8\" /></head>\n",
              "<body>\n",
              "    <div>            <script src=\"https://cdnjs.cloudflare.com/ajax/libs/mathjax/2.7.5/MathJax.js?config=TeX-AMS-MML_SVG\"></script><script type=\"text/javascript\">if (window.MathJax) {MathJax.Hub.Config({SVG: {font: \"STIX-Web\"}});}</script>                <script type=\"text/javascript\">window.PlotlyConfig = {MathJaxConfig: 'local'};</script>\n",
              "        <script src=\"https://cdn.plot.ly/plotly-2.8.3.min.js\"></script>                <div id=\"6535f732-7e2c-4d87-92e9-8156b12c5272\" class=\"plotly-graph-div\" style=\"height:525px; width:100%;\"></div>            <script type=\"text/javascript\">                                    window.PLOTLYENV=window.PLOTLYENV || {};                                    if (document.getElementById(\"6535f732-7e2c-4d87-92e9-8156b12c5272\")) {                    Plotly.newPlot(                        \"6535f732-7e2c-4d87-92e9-8156b12c5272\",                        [{\"mode\":\"lines\",\"name\":\"persp_over_threshold\",\"x\":[\"2022-11-10T11:00:00+00:00\",\"2022-11-10T12:00:00+00:00\",\"2022-11-10T13:00:00+00:00\",\"2022-11-10T14:00:00+00:00\",\"2022-11-10T15:00:00+00:00\",\"2022-11-10T16:00:00+00:00\",\"2022-11-10T17:00:00+00:00\",\"2022-11-10T18:00:00+00:00\",\"2022-11-10T19:00:00+00:00\",\"2022-11-10T20:00:00+00:00\",\"2022-11-10T21:00:00+00:00\",\"2022-11-10T22:00:00+00:00\",\"2022-11-10T23:00:00+00:00\",\"2022-11-11T00:00:00+00:00\",\"2022-11-11T01:00:00+00:00\",\"2022-11-11T02:00:00+00:00\",\"2022-11-11T03:00:00+00:00\",\"2022-11-11T04:00:00+00:00\",\"2022-11-11T05:00:00+00:00\",\"2022-11-11T06:00:00+00:00\",\"2022-11-11T07:00:00+00:00\",\"2022-11-11T08:00:00+00:00\",\"2022-11-11T09:00:00+00:00\",\"2022-11-11T10:00:00+00:00\",\"2022-11-11T11:00:00+00:00\",\"2022-11-11T12:00:00+00:00\",\"2022-11-11T13:00:00+00:00\",\"2022-11-11T14:00:00+00:00\",\"2022-11-11T15:00:00+00:00\",\"2022-11-11T16:00:00+00:00\",\"2022-11-11T17:00:00+00:00\",\"2022-11-11T18:00:00+00:00\",\"2022-11-11T19:00:00+00:00\",\"2022-11-11T20:00:00+00:00\",\"2022-11-11T21:00:00+00:00\",\"2022-11-11T22:00:00+00:00\",\"2022-11-11T23:00:00+00:00\",\"2022-11-12T00:00:00+00:00\",\"2022-11-12T01:00:00+00:00\",\"2022-11-12T02:00:00+00:00\",\"2022-11-12T03:00:00+00:00\",\"2022-11-12T04:00:00+00:00\",\"2022-11-12T05:00:00+00:00\",\"2022-11-12T06:00:00+00:00\",\"2022-11-12T07:00:00+00:00\",\"2022-11-12T08:00:00+00:00\",\"2022-11-12T09:00:00+00:00\",\"2022-11-12T10:00:00+00:00\",\"2022-11-12T11:00:00+00:00\",\"2022-11-12T12:00:00+00:00\",\"2022-11-12T13:00:00+00:00\",\"2022-11-12T14:00:00+00:00\",\"2022-11-12T15:00:00+00:00\",\"2022-11-12T16:00:00+00:00\",\"2022-11-12T17:00:00+00:00\",\"2022-11-12T18:00:00+00:00\",\"2022-11-12T19:00:00+00:00\",\"2022-11-12T20:00:00+00:00\",\"2022-11-12T21:00:00+00:00\",\"2022-11-12T22:00:00+00:00\",\"2022-11-12T23:00:00+00:00\",\"2022-11-13T00:00:00+00:00\",\"2022-11-13T01:00:00+00:00\",\"2022-11-13T02:00:00+00:00\",\"2022-11-13T03:00:00+00:00\",\"2022-11-13T04:00:00+00:00\",\"2022-11-13T05:00:00+00:00\",\"2022-11-13T06:00:00+00:00\",\"2022-11-13T07:00:00+00:00\",\"2022-11-13T08:00:00+00:00\",\"2022-11-13T09:00:00+00:00\",\"2022-11-13T10:00:00+00:00\",\"2022-11-13T11:00:00+00:00\",\"2022-11-13T12:00:00+00:00\",\"2022-11-13T13:00:00+00:00\",\"2022-11-13T14:00:00+00:00\",\"2022-11-13T15:00:00+00:00\",\"2022-11-13T16:00:00+00:00\",\"2022-11-13T17:00:00+00:00\",\"2022-11-13T18:00:00+00:00\",\"2022-11-13T19:00:00+00:00\",\"2022-11-13T20:00:00+00:00\",\"2022-11-13T21:00:00+00:00\",\"2022-11-13T22:00:00+00:00\",\"2022-11-13T23:00:00+00:00\",\"2022-11-14T00:00:00+00:00\",\"2022-11-14T01:00:00+00:00\",\"2022-11-14T02:00:00+00:00\",\"2022-11-14T03:00:00+00:00\",\"2022-11-14T04:00:00+00:00\",\"2022-11-14T05:00:00+00:00\",\"2022-11-14T06:00:00+00:00\",\"2022-11-14T07:00:00+00:00\",\"2022-11-14T08:00:00+00:00\",\"2022-11-14T09:00:00+00:00\",\"2022-11-14T10:00:00+00:00\",\"2022-11-14T11:00:00+00:00\",\"2022-11-14T12:00:00+00:00\",\"2022-11-14T13:00:00+00:00\",\"2022-11-14T14:00:00+00:00\",\"2022-11-14T15:00:00+00:00\",\"2022-11-14T16:00:00+00:00\",\"2022-11-14T17:00:00+00:00\",\"2022-11-14T18:00:00+00:00\",\"2022-11-14T19:00:00+00:00\",\"2022-11-14T20:00:00+00:00\",\"2022-11-14T21:00:00+00:00\",\"2022-11-14T22:00:00+00:00\",\"2022-11-14T23:00:00+00:00\",\"2022-11-15T00:00:00+00:00\",\"2022-11-15T01:00:00+00:00\",\"2022-11-15T02:00:00+00:00\",\"2022-11-15T03:00:00+00:00\",\"2022-11-15T04:00:00+00:00\",\"2022-11-15T05:00:00+00:00\",\"2022-11-15T06:00:00+00:00\",\"2022-11-15T07:00:00+00:00\",\"2022-11-15T08:00:00+00:00\",\"2022-11-15T09:00:00+00:00\",\"2022-11-15T10:00:00+00:00\",\"2022-11-15T11:00:00+00:00\",\"2022-11-15T12:00:00+00:00\",\"2022-11-15T13:00:00+00:00\",\"2022-11-15T14:00:00+00:00\",\"2022-11-15T15:00:00+00:00\",\"2022-11-15T16:00:00+00:00\",\"2022-11-15T17:00:00+00:00\",\"2022-11-15T18:00:00+00:00\",\"2022-11-15T19:00:00+00:00\",\"2022-11-15T20:00:00+00:00\",\"2022-11-15T21:00:00+00:00\",\"2022-11-15T22:00:00+00:00\",\"2022-11-15T23:00:00+00:00\",\"2022-11-16T00:00:00+00:00\",\"2022-11-16T01:00:00+00:00\",\"2022-11-16T02:00:00+00:00\",\"2022-11-16T03:00:00+00:00\",\"2022-11-16T04:00:00+00:00\",\"2022-11-16T05:00:00+00:00\",\"2022-11-16T06:00:00+00:00\",\"2022-11-16T07:00:00+00:00\",\"2022-11-16T08:00:00+00:00\",\"2022-11-16T09:00:00+00:00\",\"2022-11-16T10:00:00+00:00\",\"2022-11-16T11:00:00+00:00\",\"2022-11-16T12:00:00+00:00\",\"2022-11-16T13:00:00+00:00\",\"2022-11-16T14:00:00+00:00\",\"2022-11-16T15:00:00+00:00\",\"2022-11-16T16:00:00+00:00\",\"2022-11-16T17:00:00+00:00\",\"2022-11-16T18:00:00+00:00\",\"2022-11-16T19:00:00+00:00\",\"2022-11-16T20:00:00+00:00\",\"2022-11-16T21:00:00+00:00\",\"2022-11-16T22:00:00+00:00\",\"2022-11-16T23:00:00+00:00\",\"2022-11-17T00:00:00+00:00\",\"2022-11-17T01:00:00+00:00\",\"2022-11-17T02:00:00+00:00\",\"2022-11-17T03:00:00+00:00\",\"2022-11-17T04:00:00+00:00\",\"2022-11-17T05:00:00+00:00\",\"2022-11-17T06:00:00+00:00\",\"2022-11-17T07:00:00+00:00\",\"2022-11-17T08:00:00+00:00\",\"2022-11-17T09:00:00+00:00\",\"2022-11-17T10:00:00+00:00\",\"2022-11-17T11:00:00+00:00\",\"2022-11-17T12:00:00+00:00\",\"2022-11-17T13:00:00+00:00\",\"2022-11-17T14:00:00+00:00\",\"2022-11-17T15:00:00+00:00\",\"2022-11-17T16:00:00+00:00\",\"2022-11-17T17:00:00+00:00\",\"2022-11-17T18:00:00+00:00\",\"2022-11-17T19:00:00+00:00\",\"2022-11-17T20:00:00+00:00\",\"2022-11-17T21:00:00+00:00\",\"2022-11-17T22:00:00+00:00\",\"2022-11-17T23:00:00+00:00\",\"2022-11-18T00:00:00+00:00\",\"2022-11-18T01:00:00+00:00\",\"2022-11-18T02:00:00+00:00\",\"2022-11-18T03:00:00+00:00\",\"2022-11-18T04:00:00+00:00\",\"2022-11-18T05:00:00+00:00\",\"2022-11-18T06:00:00+00:00\",\"2022-11-18T07:00:00+00:00\",\"2022-11-18T08:00:00+00:00\",\"2022-11-18T09:00:00+00:00\",\"2022-11-18T10:00:00+00:00\",\"2022-11-18T11:00:00+00:00\",\"2022-11-18T12:00:00+00:00\",\"2022-11-18T13:00:00+00:00\",\"2022-11-18T14:00:00+00:00\",\"2022-11-18T15:00:00+00:00\",\"2022-11-18T16:00:00+00:00\",\"2022-11-18T17:00:00+00:00\",\"2022-11-18T18:00:00+00:00\",\"2022-11-18T19:00:00+00:00\",\"2022-11-18T20:00:00+00:00\",\"2022-11-18T21:00:00+00:00\",\"2022-11-18T22:00:00+00:00\",\"2022-11-18T23:00:00+00:00\",\"2022-11-19T00:00:00+00:00\",\"2022-11-19T01:00:00+00:00\",\"2022-11-19T02:00:00+00:00\",\"2022-11-19T03:00:00+00:00\",\"2022-11-19T04:00:00+00:00\",\"2022-11-19T05:00:00+00:00\",\"2022-11-19T06:00:00+00:00\",\"2022-11-19T07:00:00+00:00\",\"2022-11-19T08:00:00+00:00\",\"2022-11-19T09:00:00+00:00\",\"2022-11-19T10:00:00+00:00\",\"2022-11-19T11:00:00+00:00\",\"2022-11-19T12:00:00+00:00\",\"2022-11-19T13:00:00+00:00\",\"2022-11-19T14:00:00+00:00\",\"2022-11-19T15:00:00+00:00\",\"2022-11-19T16:00:00+00:00\",\"2022-11-19T17:00:00+00:00\",\"2022-11-19T18:00:00+00:00\",\"2022-11-19T19:00:00+00:00\",\"2022-11-19T20:00:00+00:00\",\"2022-11-19T21:00:00+00:00\",\"2022-11-19T22:00:00+00:00\",\"2022-11-19T23:00:00+00:00\",\"2022-11-20T00:00:00+00:00\",\"2022-11-20T01:00:00+00:00\",\"2022-11-20T02:00:00+00:00\",\"2022-11-20T03:00:00+00:00\",\"2022-11-20T04:00:00+00:00\",\"2022-11-20T05:00:00+00:00\",\"2022-11-20T06:00:00+00:00\",\"2022-11-20T07:00:00+00:00\",\"2022-11-20T08:00:00+00:00\",\"2022-11-20T09:00:00+00:00\",\"2022-11-20T10:00:00+00:00\",\"2022-11-20T11:00:00+00:00\",\"2022-11-20T12:00:00+00:00\",\"2022-11-20T13:00:00+00:00\",\"2022-11-20T14:00:00+00:00\",\"2022-11-20T15:00:00+00:00\",\"2022-11-20T16:00:00+00:00\",\"2022-11-20T17:00:00+00:00\",\"2022-11-20T18:00:00+00:00\",\"2022-11-20T19:00:00+00:00\",\"2022-11-20T20:00:00+00:00\",\"2022-11-20T21:00:00+00:00\",\"2022-11-20T22:00:00+00:00\",\"2022-11-20T23:00:00+00:00\",\"2022-11-21T00:00:00+00:00\",\"2022-11-21T01:00:00+00:00\",\"2022-11-21T02:00:00+00:00\",\"2022-11-21T03:00:00+00:00\",\"2022-11-21T04:00:00+00:00\",\"2022-11-21T05:00:00+00:00\",\"2022-11-21T06:00:00+00:00\",\"2022-11-21T07:00:00+00:00\",\"2022-11-21T08:00:00+00:00\",\"2022-11-21T09:00:00+00:00\",\"2022-11-21T10:00:00+00:00\",\"2022-11-21T11:00:00+00:00\",\"2022-11-21T12:00:00+00:00\",\"2022-11-21T13:00:00+00:00\",\"2022-11-21T14:00:00+00:00\",\"2022-11-21T15:00:00+00:00\",\"2022-11-21T16:00:00+00:00\",\"2022-11-21T17:00:00+00:00\",\"2022-11-21T18:00:00+00:00\",\"2022-11-21T19:00:00+00:00\",\"2022-11-21T20:00:00+00:00\",\"2022-11-21T21:00:00+00:00\",\"2022-11-21T22:00:00+00:00\",\"2022-11-21T23:00:00+00:00\",\"2022-11-22T00:00:00+00:00\",\"2022-11-22T01:00:00+00:00\",\"2022-11-22T02:00:00+00:00\",\"2022-11-22T03:00:00+00:00\",\"2022-11-22T04:00:00+00:00\",\"2022-11-22T05:00:00+00:00\",\"2022-11-22T06:00:00+00:00\",\"2022-11-22T07:00:00+00:00\",\"2022-11-22T08:00:00+00:00\",\"2022-11-22T09:00:00+00:00\",\"2022-11-22T10:00:00+00:00\",\"2022-11-22T11:00:00+00:00\",\"2022-11-22T12:00:00+00:00\",\"2022-11-22T13:00:00+00:00\",\"2022-11-22T14:00:00+00:00\",\"2022-11-22T15:00:00+00:00\",\"2022-11-22T16:00:00+00:00\",\"2022-11-22T17:00:00+00:00\",\"2022-11-22T18:00:00+00:00\",\"2022-11-22T19:00:00+00:00\",\"2022-11-22T20:00:00+00:00\",\"2022-11-22T21:00:00+00:00\",\"2022-11-22T22:00:00+00:00\",\"2022-11-22T23:00:00+00:00\",\"2022-11-23T00:00:00+00:00\",\"2022-11-23T01:00:00+00:00\",\"2022-11-23T02:00:00+00:00\",\"2022-11-23T03:00:00+00:00\",\"2022-11-23T04:00:00+00:00\",\"2022-11-23T05:00:00+00:00\",\"2022-11-23T06:00:00+00:00\",\"2022-11-23T07:00:00+00:00\",\"2022-11-23T08:00:00+00:00\",\"2022-11-23T09:00:00+00:00\",\"2022-11-23T10:00:00+00:00\",\"2022-11-23T11:00:00+00:00\",\"2022-11-23T12:00:00+00:00\",\"2022-11-23T13:00:00+00:00\",\"2022-11-23T14:00:00+00:00\",\"2022-11-23T15:00:00+00:00\",\"2022-11-23T16:00:00+00:00\",\"2022-11-23T17:00:00+00:00\",\"2022-11-23T18:00:00+00:00\",\"2022-11-23T19:00:00+00:00\",\"2022-11-23T20:00:00+00:00\",\"2022-11-23T21:00:00+00:00\",\"2022-11-23T22:00:00+00:00\",\"2022-11-23T23:00:00+00:00\",\"2022-11-24T00:00:00+00:00\",\"2022-11-24T01:00:00+00:00\",\"2022-11-24T02:00:00+00:00\",\"2022-11-24T03:00:00+00:00\",\"2022-11-24T04:00:00+00:00\",\"2022-11-24T05:00:00+00:00\",\"2022-11-24T06:00:00+00:00\",\"2022-11-24T07:00:00+00:00\",\"2022-11-24T08:00:00+00:00\",\"2022-11-24T09:00:00+00:00\",\"2022-11-24T10:00:00+00:00\",\"2022-11-24T11:00:00+00:00\",\"2022-11-24T12:00:00+00:00\",\"2022-11-24T13:00:00+00:00\",\"2022-11-24T14:00:00+00:00\",\"2022-11-24T15:00:00+00:00\",\"2022-11-24T16:00:00+00:00\",\"2022-11-24T17:00:00+00:00\",\"2022-11-24T18:00:00+00:00\",\"2022-11-24T19:00:00+00:00\",\"2022-11-24T20:00:00+00:00\",\"2022-11-24T21:00:00+00:00\",\"2022-11-24T22:00:00+00:00\",\"2022-11-24T23:00:00+00:00\",\"2022-11-25T00:00:00+00:00\",\"2022-11-25T01:00:00+00:00\",\"2022-11-25T02:00:00+00:00\",\"2022-11-25T03:00:00+00:00\",\"2022-11-25T04:00:00+00:00\",\"2022-11-25T05:00:00+00:00\",\"2022-11-25T06:00:00+00:00\",\"2022-11-25T07:00:00+00:00\",\"2022-11-25T08:00:00+00:00\",\"2022-11-25T09:00:00+00:00\",\"2022-11-25T10:00:00+00:00\",\"2022-11-25T11:00:00+00:00\",\"2022-11-25T12:00:00+00:00\",\"2022-11-25T13:00:00+00:00\",\"2022-11-25T14:00:00+00:00\",\"2022-11-25T15:00:00+00:00\",\"2022-11-25T16:00:00+00:00\",\"2022-11-25T17:00:00+00:00\",\"2022-11-25T18:00:00+00:00\",\"2022-11-25T19:00:00+00:00\",\"2022-11-25T20:00:00+00:00\",\"2022-11-25T21:00:00+00:00\",\"2022-11-25T22:00:00+00:00\",\"2022-11-25T23:00:00+00:00\",\"2022-11-26T00:00:00+00:00\",\"2022-11-26T01:00:00+00:00\",\"2022-11-26T02:00:00+00:00\",\"2022-11-26T03:00:00+00:00\",\"2022-11-26T04:00:00+00:00\",\"2022-11-26T05:00:00+00:00\",\"2022-11-26T06:00:00+00:00\",\"2022-11-26T07:00:00+00:00\",\"2022-11-26T08:00:00+00:00\",\"2022-11-26T09:00:00+00:00\",\"2022-11-26T10:00:00+00:00\",\"2022-11-26T11:00:00+00:00\",\"2022-11-26T12:00:00+00:00\",\"2022-11-26T13:00:00+00:00\",\"2022-11-26T14:00:00+00:00\",\"2022-11-26T15:00:00+00:00\",\"2022-11-26T16:00:00+00:00\",\"2022-11-26T17:00:00+00:00\",\"2022-11-26T18:00:00+00:00\",\"2022-11-26T19:00:00+00:00\",\"2022-11-26T20:00:00+00:00\",\"2022-11-26T21:00:00+00:00\",\"2022-11-26T22:00:00+00:00\",\"2022-11-26T23:00:00+00:00\",\"2022-11-27T00:00:00+00:00\",\"2022-11-27T01:00:00+00:00\",\"2022-11-27T02:00:00+00:00\",\"2022-11-27T03:00:00+00:00\",\"2022-11-27T04:00:00+00:00\",\"2022-11-27T05:00:00+00:00\",\"2022-11-27T06:00:00+00:00\",\"2022-11-27T07:00:00+00:00\",\"2022-11-27T08:00:00+00:00\",\"2022-11-27T09:00:00+00:00\",\"2022-11-27T10:00:00+00:00\",\"2022-11-27T11:00:00+00:00\",\"2022-11-27T12:00:00+00:00\",\"2022-11-27T13:00:00+00:00\",\"2022-11-27T14:00:00+00:00\",\"2022-11-27T15:00:00+00:00\",\"2022-11-27T16:00:00+00:00\",\"2022-11-27T17:00:00+00:00\",\"2022-11-27T18:00:00+00:00\",\"2022-11-27T19:00:00+00:00\",\"2022-11-27T20:00:00+00:00\",\"2022-11-27T21:00:00+00:00\",\"2022-11-27T22:00:00+00:00\",\"2022-11-27T23:00:00+00:00\",\"2022-11-28T00:00:00+00:00\",\"2022-11-28T01:00:00+00:00\",\"2022-11-28T02:00:00+00:00\",\"2022-11-28T03:00:00+00:00\",\"2022-11-28T04:00:00+00:00\",\"2022-11-28T05:00:00+00:00\",\"2022-11-28T06:00:00+00:00\",\"2022-11-28T07:00:00+00:00\",\"2022-11-28T08:00:00+00:00\",\"2022-11-28T09:00:00+00:00\",\"2022-11-28T10:00:00+00:00\",\"2022-11-28T11:00:00+00:00\",\"2022-11-28T12:00:00+00:00\",\"2022-11-28T13:00:00+00:00\",\"2022-11-28T14:00:00+00:00\",\"2022-11-28T15:00:00+00:00\",\"2022-11-28T16:00:00+00:00\",\"2022-11-28T17:00:00+00:00\",\"2022-11-28T18:00:00+00:00\",\"2022-11-28T19:00:00+00:00\",\"2022-11-28T20:00:00+00:00\",\"2022-11-28T21:00:00+00:00\",\"2022-11-28T22:00:00+00:00\",\"2022-11-28T23:00:00+00:00\",\"2022-11-29T00:00:00+00:00\",\"2022-11-29T01:00:00+00:00\",\"2022-11-29T02:00:00+00:00\",\"2022-11-29T03:00:00+00:00\",\"2022-11-29T04:00:00+00:00\",\"2022-11-29T05:00:00+00:00\",\"2022-11-29T06:00:00+00:00\",\"2022-11-29T07:00:00+00:00\",\"2022-11-29T08:00:00+00:00\",\"2022-11-29T09:00:00+00:00\",\"2022-11-29T10:00:00+00:00\",\"2022-11-29T11:00:00+00:00\",\"2022-11-29T12:00:00+00:00\",\"2022-11-29T13:00:00+00:00\",\"2022-11-29T14:00:00+00:00\",\"2022-11-29T15:00:00+00:00\",\"2022-11-29T16:00:00+00:00\",\"2022-11-29T17:00:00+00:00\",\"2022-11-29T18:00:00+00:00\",\"2022-11-29T19:00:00+00:00\",\"2022-11-29T20:00:00+00:00\",\"2022-11-29T21:00:00+00:00\",\"2022-11-29T22:00:00+00:00\",\"2022-11-29T23:00:00+00:00\",\"2022-11-30T00:00:00+00:00\",\"2022-11-30T01:00:00+00:00\",\"2022-11-30T02:00:00+00:00\",\"2022-11-30T03:00:00+00:00\",\"2022-11-30T04:00:00+00:00\",\"2022-11-30T05:00:00+00:00\",\"2022-11-30T06:00:00+00:00\",\"2022-11-30T07:00:00+00:00\",\"2022-11-30T08:00:00+00:00\",\"2022-11-30T09:00:00+00:00\",\"2022-11-30T10:00:00+00:00\",\"2022-11-30T11:00:00+00:00\",\"2022-11-30T12:00:00+00:00\",\"2022-11-30T13:00:00+00:00\",\"2022-11-30T14:00:00+00:00\",\"2022-11-30T15:00:00+00:00\",\"2022-11-30T16:00:00+00:00\",\"2022-11-30T17:00:00+00:00\",\"2022-11-30T18:00:00+00:00\",\"2022-11-30T19:00:00+00:00\",\"2022-11-30T20:00:00+00:00\",\"2022-11-30T21:00:00+00:00\",\"2022-11-30T22:00:00+00:00\",\"2022-11-30T23:00:00+00:00\",\"2022-12-01T00:00:00+00:00\",\"2022-12-01T01:00:00+00:00\",\"2022-12-01T02:00:00+00:00\",\"2022-12-01T03:00:00+00:00\",\"2022-12-01T04:00:00+00:00\",\"2022-12-01T05:00:00+00:00\",\"2022-12-01T06:00:00+00:00\",\"2022-12-01T07:00:00+00:00\",\"2022-12-01T08:00:00+00:00\",\"2022-12-01T09:00:00+00:00\",\"2022-12-01T10:00:00+00:00\",\"2022-12-01T11:00:00+00:00\",\"2022-12-01T12:00:00+00:00\",\"2022-12-01T13:00:00+00:00\",\"2022-12-01T14:00:00+00:00\",\"2022-12-01T15:00:00+00:00\",\"2022-12-01T16:00:00+00:00\",\"2022-12-01T17:00:00+00:00\",\"2022-12-01T18:00:00+00:00\",\"2022-12-01T19:00:00+00:00\",\"2022-12-01T20:00:00+00:00\",\"2022-12-01T21:00:00+00:00\",\"2022-12-01T22:00:00+00:00\",\"2022-12-01T23:00:00+00:00\",\"2022-12-02T00:00:00+00:00\",\"2022-12-02T01:00:00+00:00\",\"2022-12-02T02:00:00+00:00\",\"2022-12-02T03:00:00+00:00\",\"2022-12-02T04:00:00+00:00\",\"2022-12-02T05:00:00+00:00\",\"2022-12-02T06:00:00+00:00\",\"2022-12-02T07:00:00+00:00\",\"2022-12-02T08:00:00+00:00\",\"2022-12-02T09:00:00+00:00\",\"2022-12-02T10:00:00+00:00\",\"2022-12-02T11:00:00+00:00\",\"2022-12-02T12:00:00+00:00\",\"2022-12-02T13:00:00+00:00\",\"2022-12-02T14:00:00+00:00\",\"2022-12-02T15:00:00+00:00\",\"2022-12-02T16:00:00+00:00\",\"2022-12-02T17:00:00+00:00\",\"2022-12-02T18:00:00+00:00\",\"2022-12-02T19:00:00+00:00\",\"2022-12-02T20:00:00+00:00\",\"2022-12-02T21:00:00+00:00\",\"2022-12-02T22:00:00+00:00\",\"2022-12-02T23:00:00+00:00\",\"2022-12-03T00:00:00+00:00\",\"2022-12-03T01:00:00+00:00\",\"2022-12-03T02:00:00+00:00\",\"2022-12-03T03:00:00+00:00\",\"2022-12-03T04:00:00+00:00\",\"2022-12-03T05:00:00+00:00\",\"2022-12-03T06:00:00+00:00\",\"2022-12-03T07:00:00+00:00\",\"2022-12-03T08:00:00+00:00\",\"2022-12-03T09:00:00+00:00\",\"2022-12-03T10:00:00+00:00\",\"2022-12-03T11:00:00+00:00\",\"2022-12-03T12:00:00+00:00\",\"2022-12-03T13:00:00+00:00\",\"2022-12-03T14:00:00+00:00\",\"2022-12-03T15:00:00+00:00\",\"2022-12-03T16:00:00+00:00\",\"2022-12-03T17:00:00+00:00\",\"2022-12-03T18:00:00+00:00\",\"2022-12-03T19:00:00+00:00\",\"2022-12-03T20:00:00+00:00\",\"2022-12-03T21:00:00+00:00\",\"2022-12-03T22:00:00+00:00\",\"2022-12-03T23:00:00+00:00\",\"2022-12-04T00:00:00+00:00\",\"2022-12-04T01:00:00+00:00\",\"2022-12-04T02:00:00+00:00\",\"2022-12-04T03:00:00+00:00\",\"2022-12-04T04:00:00+00:00\",\"2022-12-04T05:00:00+00:00\",\"2022-12-04T06:00:00+00:00\",\"2022-12-04T07:00:00+00:00\",\"2022-12-04T08:00:00+00:00\",\"2022-12-04T09:00:00+00:00\",\"2022-12-04T10:00:00+00:00\",\"2022-12-04T11:00:00+00:00\",\"2022-12-04T12:00:00+00:00\",\"2022-12-04T13:00:00+00:00\",\"2022-12-04T14:00:00+00:00\",\"2022-12-04T15:00:00+00:00\",\"2022-12-04T16:00:00+00:00\",\"2022-12-04T17:00:00+00:00\",\"2022-12-04T18:00:00+00:00\",\"2022-12-04T19:00:00+00:00\",\"2022-12-04T20:00:00+00:00\",\"2022-12-04T21:00:00+00:00\",\"2022-12-04T22:00:00+00:00\",\"2022-12-04T23:00:00+00:00\",\"2022-12-05T00:00:00+00:00\",\"2022-12-05T01:00:00+00:00\",\"2022-12-05T02:00:00+00:00\",\"2022-12-05T03:00:00+00:00\",\"2022-12-05T04:00:00+00:00\",\"2022-12-05T05:00:00+00:00\",\"2022-12-05T06:00:00+00:00\",\"2022-12-05T07:00:00+00:00\",\"2022-12-05T08:00:00+00:00\",\"2022-12-05T09:00:00+00:00\",\"2022-12-05T10:00:00+00:00\",\"2022-12-05T11:00:00+00:00\",\"2022-12-05T12:00:00+00:00\",\"2022-12-05T13:00:00+00:00\",\"2022-12-05T14:00:00+00:00\",\"2022-12-05T15:00:00+00:00\",\"2022-12-05T16:00:00+00:00\",\"2022-12-05T17:00:00+00:00\",\"2022-12-05T18:00:00+00:00\",\"2022-12-05T19:00:00+00:00\",\"2022-12-05T20:00:00+00:00\",\"2022-12-05T21:00:00+00:00\",\"2022-12-05T22:00:00+00:00\",\"2022-12-05T23:00:00+00:00\",\"2022-12-06T00:00:00+00:00\",\"2022-12-06T01:00:00+00:00\",\"2022-12-06T02:00:00+00:00\",\"2022-12-06T03:00:00+00:00\",\"2022-12-06T04:00:00+00:00\",\"2022-12-06T05:00:00+00:00\",\"2022-12-06T06:00:00+00:00\",\"2022-12-06T07:00:00+00:00\",\"2022-12-06T08:00:00+00:00\",\"2022-12-06T09:00:00+00:00\",\"2022-12-06T10:00:00+00:00\",\"2022-12-06T11:00:00+00:00\",\"2022-12-06T12:00:00+00:00\",\"2022-12-06T13:00:00+00:00\",\"2022-12-06T14:00:00+00:00\",\"2022-12-06T15:00:00+00:00\",\"2022-12-06T16:00:00+00:00\",\"2022-12-06T17:00:00+00:00\",\"2022-12-06T18:00:00+00:00\",\"2022-12-06T19:00:00+00:00\",\"2022-12-06T20:00:00+00:00\",\"2022-12-06T21:00:00+00:00\",\"2022-12-06T22:00:00+00:00\",\"2022-12-06T23:00:00+00:00\",\"2022-12-07T00:00:00+00:00\",\"2022-12-07T01:00:00+00:00\",\"2022-12-07T02:00:00+00:00\",\"2022-12-07T03:00:00+00:00\",\"2022-12-07T04:00:00+00:00\",\"2022-12-07T05:00:00+00:00\",\"2022-12-07T06:00:00+00:00\",\"2022-12-07T07:00:00+00:00\",\"2022-12-07T08:00:00+00:00\",\"2022-12-07T09:00:00+00:00\",\"2022-12-07T10:00:00+00:00\",\"2022-12-07T11:00:00+00:00\",\"2022-12-07T12:00:00+00:00\",\"2022-12-07T13:00:00+00:00\",\"2022-12-07T14:00:00+00:00\",\"2022-12-07T15:00:00+00:00\",\"2022-12-07T16:00:00+00:00\",\"2022-12-07T17:00:00+00:00\",\"2022-12-07T18:00:00+00:00\",\"2022-12-07T19:00:00+00:00\",\"2022-12-07T20:00:00+00:00\",\"2022-12-07T21:00:00+00:00\",\"2022-12-07T22:00:00+00:00\",\"2022-12-07T23:00:00+00:00\",\"2022-12-08T00:00:00+00:00\",\"2022-12-08T01:00:00+00:00\",\"2022-12-08T02:00:00+00:00\",\"2022-12-08T03:00:00+00:00\",\"2022-12-08T04:00:00+00:00\",\"2022-12-08T05:00:00+00:00\",\"2022-12-08T06:00:00+00:00\",\"2022-12-08T07:00:00+00:00\",\"2022-12-08T08:00:00+00:00\",\"2022-12-08T09:00:00+00:00\",\"2022-12-08T10:00:00+00:00\",\"2022-12-08T11:00:00+00:00\",\"2022-12-08T12:00:00+00:00\",\"2022-12-08T13:00:00+00:00\",\"2022-12-08T14:00:00+00:00\",\"2022-12-08T15:00:00+00:00\",\"2022-12-08T16:00:00+00:00\",\"2022-12-08T17:00:00+00:00\",\"2022-12-08T18:00:00+00:00\",\"2022-12-08T19:00:00+00:00\",\"2022-12-08T20:00:00+00:00\",\"2022-12-08T21:00:00+00:00\",\"2022-12-08T22:00:00+00:00\",\"2022-12-08T23:00:00+00:00\",\"2022-12-09T00:00:00+00:00\",\"2022-12-09T01:00:00+00:00\",\"2022-12-09T02:00:00+00:00\",\"2022-12-09T03:00:00+00:00\",\"2022-12-09T04:00:00+00:00\",\"2022-12-09T05:00:00+00:00\",\"2022-12-09T06:00:00+00:00\",\"2022-12-09T07:00:00+00:00\",\"2022-12-09T08:00:00+00:00\",\"2022-12-09T09:00:00+00:00\",\"2022-12-09T10:00:00+00:00\",\"2022-12-09T11:00:00+00:00\",\"2022-12-09T12:00:00+00:00\",\"2022-12-09T13:00:00+00:00\",\"2022-12-09T14:00:00+00:00\",\"2022-12-09T15:00:00+00:00\",\"2022-12-09T16:00:00+00:00\",\"2022-12-09T17:00:00+00:00\",\"2022-12-09T18:00:00+00:00\",\"2022-12-09T19:00:00+00:00\",\"2022-12-09T20:00:00+00:00\",\"2022-12-09T21:00:00+00:00\",\"2022-12-09T22:00:00+00:00\",\"2022-12-09T23:00:00+00:00\",\"2022-12-10T00:00:00+00:00\",\"2022-12-10T01:00:00+00:00\",\"2022-12-10T02:00:00+00:00\",\"2022-12-10T03:00:00+00:00\",\"2022-12-10T04:00:00+00:00\",\"2022-12-10T05:00:00+00:00\",\"2022-12-10T06:00:00+00:00\",\"2022-12-10T07:00:00+00:00\",\"2022-12-10T08:00:00+00:00\",\"2022-12-10T09:00:00+00:00\",\"2022-12-10T10:00:00+00:00\",\"2022-12-10T11:00:00+00:00\",\"2022-12-10T12:00:00+00:00\",\"2022-12-10T13:00:00+00:00\",\"2022-12-10T14:00:00+00:00\",\"2022-12-10T15:00:00+00:00\",\"2022-12-10T16:00:00+00:00\",\"2022-12-10T17:00:00+00:00\",\"2022-12-10T18:00:00+00:00\",\"2022-12-10T19:00:00+00:00\",\"2022-12-10T20:00:00+00:00\",\"2022-12-10T21:00:00+00:00\",\"2022-12-10T22:00:00+00:00\",\"2022-12-10T23:00:00+00:00\",\"2022-12-11T00:00:00+00:00\",\"2022-12-11T01:00:00+00:00\",\"2022-12-11T02:00:00+00:00\",\"2022-12-11T03:00:00+00:00\",\"2022-12-11T04:00:00+00:00\",\"2022-12-11T05:00:00+00:00\",\"2022-12-11T06:00:00+00:00\",\"2022-12-11T07:00:00+00:00\",\"2022-12-11T08:00:00+00:00\",\"2022-12-11T09:00:00+00:00\",\"2022-12-11T10:00:00+00:00\",\"2022-12-11T11:00:00+00:00\",\"2022-12-11T12:00:00+00:00\",\"2022-12-11T13:00:00+00:00\",\"2022-12-11T14:00:00+00:00\",\"2022-12-11T15:00:00+00:00\",\"2022-12-11T16:00:00+00:00\",\"2022-12-11T17:00:00+00:00\",\"2022-12-11T18:00:00+00:00\",\"2022-12-11T19:00:00+00:00\",\"2022-12-11T20:00:00+00:00\",\"2022-12-11T21:00:00+00:00\",\"2022-12-11T22:00:00+00:00\",\"2022-12-11T23:00:00+00:00\",\"2022-12-12T00:00:00+00:00\",\"2022-12-12T01:00:00+00:00\",\"2022-12-12T02:00:00+00:00\",\"2022-12-12T03:00:00+00:00\",\"2022-12-12T04:00:00+00:00\",\"2022-12-12T05:00:00+00:00\",\"2022-12-12T06:00:00+00:00\",\"2022-12-12T07:00:00+00:00\",\"2022-12-12T08:00:00+00:00\",\"2022-12-12T09:00:00+00:00\",\"2022-12-12T10:00:00+00:00\",\"2022-12-12T11:00:00+00:00\",\"2022-12-12T12:00:00+00:00\",\"2022-12-12T13:00:00+00:00\",\"2022-12-12T14:00:00+00:00\",\"2022-12-12T15:00:00+00:00\",\"2022-12-12T16:00:00+00:00\",\"2022-12-12T17:00:00+00:00\",\"2022-12-12T18:00:00+00:00\",\"2022-12-12T19:00:00+00:00\",\"2022-12-12T20:00:00+00:00\",\"2022-12-12T21:00:00+00:00\",\"2022-12-12T22:00:00+00:00\",\"2022-12-12T23:00:00+00:00\",\"2022-12-13T00:00:00+00:00\",\"2022-12-13T01:00:00+00:00\",\"2022-12-13T02:00:00+00:00\",\"2022-12-13T03:00:00+00:00\",\"2022-12-13T04:00:00+00:00\",\"2022-12-13T05:00:00+00:00\",\"2022-12-13T06:00:00+00:00\",\"2022-12-13T07:00:00+00:00\",\"2022-12-13T08:00:00+00:00\",\"2022-12-13T09:00:00+00:00\",\"2022-12-13T10:00:00+00:00\",\"2022-12-13T11:00:00+00:00\",\"2022-12-13T12:00:00+00:00\",\"2022-12-13T13:00:00+00:00\",\"2022-12-13T14:00:00+00:00\",\"2022-12-13T15:00:00+00:00\",\"2022-12-13T16:00:00+00:00\",\"2022-12-13T17:00:00+00:00\",\"2022-12-13T18:00:00+00:00\",\"2022-12-13T19:00:00+00:00\",\"2022-12-13T20:00:00+00:00\",\"2022-12-13T21:00:00+00:00\",\"2022-12-13T22:00:00+00:00\",\"2022-12-13T23:00:00+00:00\",\"2022-12-14T00:00:00+00:00\",\"2022-12-14T01:00:00+00:00\",\"2022-12-14T02:00:00+00:00\",\"2022-12-14T03:00:00+00:00\",\"2022-12-14T04:00:00+00:00\",\"2022-12-14T05:00:00+00:00\",\"2022-12-14T06:00:00+00:00\",\"2022-12-14T07:00:00+00:00\",\"2022-12-14T08:00:00+00:00\",\"2022-12-14T09:00:00+00:00\",\"2022-12-14T10:00:00+00:00\",\"2022-12-14T11:00:00+00:00\",\"2022-12-14T12:00:00+00:00\",\"2022-12-14T13:00:00+00:00\",\"2022-12-14T14:00:00+00:00\",\"2022-12-14T15:00:00+00:00\",\"2022-12-14T16:00:00+00:00\",\"2022-12-14T17:00:00+00:00\",\"2022-12-14T18:00:00+00:00\",\"2022-12-14T19:00:00+00:00\",\"2022-12-14T20:00:00+00:00\",\"2022-12-14T21:00:00+00:00\",\"2022-12-14T22:00:00+00:00\",\"2022-12-14T23:00:00+00:00\",\"2022-12-15T00:00:00+00:00\"],\"y\":[0,3,1,13,10,2,3,5,18,20,6,9,15,2,3,2,2,1,3,3,1,4,0,5,3,2,0,2,4,7,0,2,1,4,0,0,0,2,0,0,0,0,3,1,1,0,3,1,1,2,0,1,8,2,5,4,0,1,5,0,2,1,1,0,0,1,1,1,0,0,0,0,1,0,2,3,3,0,2,0,1,1,2,3,0,0,2,2,0,0,0,0,0,1,1,0,1,0,1,1,0,4,0,2,2,2,2,3,2,1,1,0,0,0,1,1,0,1,2,2,4,1,3,0,2,2,4,1,1,4,6,2,0,0,0,0,1,0,1,1,3,2,1,0,1,0,3,1,1,2,1,3,2,3,2,0,1,0,1,0,1,1,1,0,0,1,1,0,1,2,1,0,0,0,3,3,2,3,5,0,4,1,0,0,2,1,1,2,0,2,3,2,2,0,1,3,5,1,2,2,4,1,2,2,3,1,3,2,0,4,6,0,1,2,0,4,0,4,1,1,2,1,5,2,2,3,0,1,0,0,0,1,0,0,1,0,0,0,0,0,1,1,1,2,2,11,1,0,3,4,5,4,2,10,0,5,0,0,0,1,3,2,11,19,17,17,41,41,27,23,21,22,21,11,9,10,5,5,8,3,0,2,3,4,5,6,4,2,1,1,6,3,2,3,3,1,1,0,1,0,0,1,0,0,0,1,0,2,1,0,2,0,1,0,3,2,0,0,2,0,1,1,1,1,1,0,0,0,0,0,0,0,3,0,2,0,1,1,0,2,0,0,1,1,2,1,0,0,0,0,0,0,0,1,0,0,0,1,0,2,1,0,1,2,1,0,2,8,6,21,7,5,6,4,5,0,0,0,4,2,0,2,4,0,3,2,1,1,1,0,1,0,2,2,0,1,2,0,1,0,0,0,0,0,0,0,1,0,0,0,0,1,0,0,0,0,0,0,2,1,0,0,0,0,0,0,0,0,0,0,0,0,0,0,0,1,1,0,1,0,0,1,0,0,0,0,0,0,0,0,0,1,0,0,0,0,1,1,1,0,0,0,2,3,4,40,28,15,2,6,1,5,2,2,1,1,3,3,0,1,2,3,3,2,5,2,4,7,12,5,5,3,1,0,0,3,0,0,3,0,1,0,1,1,0,2,5,3,3,1,1,2,0,1,1,0,1,2,1,0,0,0,1,1,0,0,1,0,0,0,0,0,0,1,0,0,1,1,0,0,0,0,0,0,5,1,1,2,1,2,2,1,0,1,0,1,0,2,0,7,2,3,1,2,1,0,0,0,0,0,0,0,0,0,0,0,2,0,1,1,2,1,4,5,15,23,23,24,17,21,4,3,3,3,4,4,5,1,7,5,6,7,6,5,2,4,6,2,1,4,0,2,1,1,1,1,1,0,0,0,1,0,0,2,1,1,0,1,1,0,0,2,2,0,0,0,0,0,0,0,0,0,0,1,0,0,1,1,1,0,0,0,0,0,0,1,0,2,0,2,0,0,1,0,0,1,0,0,1,2,3,1,1,0,0,3,0,0,1,1,1,0,0,0,0,1,0,0,0,0,0,0,0,0,1,0,0,2,0,1,0,0,0,1,0,0,0,1,0,1,0,0,0,0,1,0,0,1,0,2,0,1,0,2,0,0,3,5,12,100,294,52,51,21,16,6,6,5,4,6,14,8,24,82,77,51,39,28,27,22,26,17,16,11,28,15,16,6,5,5,8,2,7,5,2,7,10,4,7,5,5,1,3,5,2,2,0,1,2,0,0,1,3,0,2,0,0,1,0,2,2,2,1,2,0,0,2,0,2,0,1,0,0,0,1,1,0,0,1,0,0,1,1,0,0,0,1,0,1,0,0,3,0,0,1,0,3,0,0,0],\"type\":\"scatter\"}],                        {\"template\":{\"data\":{\"bar\":[{\"error_x\":{\"color\":\"#2a3f5f\"},\"error_y\":{\"color\":\"#2a3f5f\"},\"marker\":{\"line\":{\"color\":\"#E5ECF6\",\"width\":0.5},\"pattern\":{\"fillmode\":\"overlay\",\"size\":10,\"solidity\":0.2}},\"type\":\"bar\"}],\"barpolar\":[{\"marker\":{\"line\":{\"color\":\"#E5ECF6\",\"width\":0.5},\"pattern\":{\"fillmode\":\"overlay\",\"size\":10,\"solidity\":0.2}},\"type\":\"barpolar\"}],\"carpet\":[{\"aaxis\":{\"endlinecolor\":\"#2a3f5f\",\"gridcolor\":\"white\",\"linecolor\":\"white\",\"minorgridcolor\":\"white\",\"startlinecolor\":\"#2a3f5f\"},\"baxis\":{\"endlinecolor\":\"#2a3f5f\",\"gridcolor\":\"white\",\"linecolor\":\"white\",\"minorgridcolor\":\"white\",\"startlinecolor\":\"#2a3f5f\"},\"type\":\"carpet\"}],\"choropleth\":[{\"colorbar\":{\"outlinewidth\":0,\"ticks\":\"\"},\"type\":\"choropleth\"}],\"contour\":[{\"colorbar\":{\"outlinewidth\":0,\"ticks\":\"\"},\"colorscale\":[[0.0,\"#0d0887\"],[0.1111111111111111,\"#46039f\"],[0.2222222222222222,\"#7201a8\"],[0.3333333333333333,\"#9c179e\"],[0.4444444444444444,\"#bd3786\"],[0.5555555555555556,\"#d8576b\"],[0.6666666666666666,\"#ed7953\"],[0.7777777777777778,\"#fb9f3a\"],[0.8888888888888888,\"#fdca26\"],[1.0,\"#f0f921\"]],\"type\":\"contour\"}],\"contourcarpet\":[{\"colorbar\":{\"outlinewidth\":0,\"ticks\":\"\"},\"type\":\"contourcarpet\"}],\"heatmap\":[{\"colorbar\":{\"outlinewidth\":0,\"ticks\":\"\"},\"colorscale\":[[0.0,\"#0d0887\"],[0.1111111111111111,\"#46039f\"],[0.2222222222222222,\"#7201a8\"],[0.3333333333333333,\"#9c179e\"],[0.4444444444444444,\"#bd3786\"],[0.5555555555555556,\"#d8576b\"],[0.6666666666666666,\"#ed7953\"],[0.7777777777777778,\"#fb9f3a\"],[0.8888888888888888,\"#fdca26\"],[1.0,\"#f0f921\"]],\"type\":\"heatmap\"}],\"heatmapgl\":[{\"colorbar\":{\"outlinewidth\":0,\"ticks\":\"\"},\"colorscale\":[[0.0,\"#0d0887\"],[0.1111111111111111,\"#46039f\"],[0.2222222222222222,\"#7201a8\"],[0.3333333333333333,\"#9c179e\"],[0.4444444444444444,\"#bd3786\"],[0.5555555555555556,\"#d8576b\"],[0.6666666666666666,\"#ed7953\"],[0.7777777777777778,\"#fb9f3a\"],[0.8888888888888888,\"#fdca26\"],[1.0,\"#f0f921\"]],\"type\":\"heatmapgl\"}],\"histogram\":[{\"marker\":{\"pattern\":{\"fillmode\":\"overlay\",\"size\":10,\"solidity\":0.2}},\"type\":\"histogram\"}],\"histogram2d\":[{\"colorbar\":{\"outlinewidth\":0,\"ticks\":\"\"},\"colorscale\":[[0.0,\"#0d0887\"],[0.1111111111111111,\"#46039f\"],[0.2222222222222222,\"#7201a8\"],[0.3333333333333333,\"#9c179e\"],[0.4444444444444444,\"#bd3786\"],[0.5555555555555556,\"#d8576b\"],[0.6666666666666666,\"#ed7953\"],[0.7777777777777778,\"#fb9f3a\"],[0.8888888888888888,\"#fdca26\"],[1.0,\"#f0f921\"]],\"type\":\"histogram2d\"}],\"histogram2dcontour\":[{\"colorbar\":{\"outlinewidth\":0,\"ticks\":\"\"},\"colorscale\":[[0.0,\"#0d0887\"],[0.1111111111111111,\"#46039f\"],[0.2222222222222222,\"#7201a8\"],[0.3333333333333333,\"#9c179e\"],[0.4444444444444444,\"#bd3786\"],[0.5555555555555556,\"#d8576b\"],[0.6666666666666666,\"#ed7953\"],[0.7777777777777778,\"#fb9f3a\"],[0.8888888888888888,\"#fdca26\"],[1.0,\"#f0f921\"]],\"type\":\"histogram2dcontour\"}],\"mesh3d\":[{\"colorbar\":{\"outlinewidth\":0,\"ticks\":\"\"},\"type\":\"mesh3d\"}],\"parcoords\":[{\"line\":{\"colorbar\":{\"outlinewidth\":0,\"ticks\":\"\"}},\"type\":\"parcoords\"}],\"pie\":[{\"automargin\":true,\"type\":\"pie\"}],\"scatter\":[{\"marker\":{\"colorbar\":{\"outlinewidth\":0,\"ticks\":\"\"}},\"type\":\"scatter\"}],\"scatter3d\":[{\"line\":{\"colorbar\":{\"outlinewidth\":0,\"ticks\":\"\"}},\"marker\":{\"colorbar\":{\"outlinewidth\":0,\"ticks\":\"\"}},\"type\":\"scatter3d\"}],\"scattercarpet\":[{\"marker\":{\"colorbar\":{\"outlinewidth\":0,\"ticks\":\"\"}},\"type\":\"scattercarpet\"}],\"scattergeo\":[{\"marker\":{\"colorbar\":{\"outlinewidth\":0,\"ticks\":\"\"}},\"type\":\"scattergeo\"}],\"scattergl\":[{\"marker\":{\"colorbar\":{\"outlinewidth\":0,\"ticks\":\"\"}},\"type\":\"scattergl\"}],\"scattermapbox\":[{\"marker\":{\"colorbar\":{\"outlinewidth\":0,\"ticks\":\"\"}},\"type\":\"scattermapbox\"}],\"scatterpolar\":[{\"marker\":{\"colorbar\":{\"outlinewidth\":0,\"ticks\":\"\"}},\"type\":\"scatterpolar\"}],\"scatterpolargl\":[{\"marker\":{\"colorbar\":{\"outlinewidth\":0,\"ticks\":\"\"}},\"type\":\"scatterpolargl\"}],\"scatterternary\":[{\"marker\":{\"colorbar\":{\"outlinewidth\":0,\"ticks\":\"\"}},\"type\":\"scatterternary\"}],\"surface\":[{\"colorbar\":{\"outlinewidth\":0,\"ticks\":\"\"},\"colorscale\":[[0.0,\"#0d0887\"],[0.1111111111111111,\"#46039f\"],[0.2222222222222222,\"#7201a8\"],[0.3333333333333333,\"#9c179e\"],[0.4444444444444444,\"#bd3786\"],[0.5555555555555556,\"#d8576b\"],[0.6666666666666666,\"#ed7953\"],[0.7777777777777778,\"#fb9f3a\"],[0.8888888888888888,\"#fdca26\"],[1.0,\"#f0f921\"]],\"type\":\"surface\"}],\"table\":[{\"cells\":{\"fill\":{\"color\":\"#EBF0F8\"},\"line\":{\"color\":\"white\"}},\"header\":{\"fill\":{\"color\":\"#C8D4E3\"},\"line\":{\"color\":\"white\"}},\"type\":\"table\"}]},\"layout\":{\"annotationdefaults\":{\"arrowcolor\":\"#2a3f5f\",\"arrowhead\":0,\"arrowwidth\":1},\"autotypenumbers\":\"strict\",\"coloraxis\":{\"colorbar\":{\"outlinewidth\":0,\"ticks\":\"\"}},\"colorscale\":{\"diverging\":[[0,\"#8e0152\"],[0.1,\"#c51b7d\"],[0.2,\"#de77ae\"],[0.3,\"#f1b6da\"],[0.4,\"#fde0ef\"],[0.5,\"#f7f7f7\"],[0.6,\"#e6f5d0\"],[0.7,\"#b8e186\"],[0.8,\"#7fbc41\"],[0.9,\"#4d9221\"],[1,\"#276419\"]],\"sequential\":[[0.0,\"#0d0887\"],[0.1111111111111111,\"#46039f\"],[0.2222222222222222,\"#7201a8\"],[0.3333333333333333,\"#9c179e\"],[0.4444444444444444,\"#bd3786\"],[0.5555555555555556,\"#d8576b\"],[0.6666666666666666,\"#ed7953\"],[0.7777777777777778,\"#fb9f3a\"],[0.8888888888888888,\"#fdca26\"],[1.0,\"#f0f921\"]],\"sequentialminus\":[[0.0,\"#0d0887\"],[0.1111111111111111,\"#46039f\"],[0.2222222222222222,\"#7201a8\"],[0.3333333333333333,\"#9c179e\"],[0.4444444444444444,\"#bd3786\"],[0.5555555555555556,\"#d8576b\"],[0.6666666666666666,\"#ed7953\"],[0.7777777777777778,\"#fb9f3a\"],[0.8888888888888888,\"#fdca26\"],[1.0,\"#f0f921\"]]},\"colorway\":[\"#636efa\",\"#EF553B\",\"#00cc96\",\"#ab63fa\",\"#FFA15A\",\"#19d3f3\",\"#FF6692\",\"#B6E880\",\"#FF97FF\",\"#FECB52\"],\"font\":{\"color\":\"#2a3f5f\"},\"geo\":{\"bgcolor\":\"white\",\"lakecolor\":\"white\",\"landcolor\":\"#E5ECF6\",\"showlakes\":true,\"showland\":true,\"subunitcolor\":\"white\"},\"hoverlabel\":{\"align\":\"left\"},\"hovermode\":\"closest\",\"mapbox\":{\"style\":\"light\"},\"paper_bgcolor\":\"white\",\"plot_bgcolor\":\"#E5ECF6\",\"polar\":{\"angularaxis\":{\"gridcolor\":\"white\",\"linecolor\":\"white\",\"ticks\":\"\"},\"bgcolor\":\"#E5ECF6\",\"radialaxis\":{\"gridcolor\":\"white\",\"linecolor\":\"white\",\"ticks\":\"\"}},\"scene\":{\"xaxis\":{\"backgroundcolor\":\"#E5ECF6\",\"gridcolor\":\"white\",\"gridwidth\":2,\"linecolor\":\"white\",\"showbackground\":true,\"ticks\":\"\",\"zerolinecolor\":\"white\"},\"yaxis\":{\"backgroundcolor\":\"#E5ECF6\",\"gridcolor\":\"white\",\"gridwidth\":2,\"linecolor\":\"white\",\"showbackground\":true,\"ticks\":\"\",\"zerolinecolor\":\"white\"},\"zaxis\":{\"backgroundcolor\":\"#E5ECF6\",\"gridcolor\":\"white\",\"gridwidth\":2,\"linecolor\":\"white\",\"showbackground\":true,\"ticks\":\"\",\"zerolinecolor\":\"white\"}},\"shapedefaults\":{\"line\":{\"color\":\"#2a3f5f\"}},\"ternary\":{\"aaxis\":{\"gridcolor\":\"white\",\"linecolor\":\"white\",\"ticks\":\"\"},\"baxis\":{\"gridcolor\":\"white\",\"linecolor\":\"white\",\"ticks\":\"\"},\"bgcolor\":\"#E5ECF6\",\"caxis\":{\"gridcolor\":\"white\",\"linecolor\":\"white\",\"ticks\":\"\"}},\"title\":{\"x\":0.05},\"xaxis\":{\"automargin\":true,\"gridcolor\":\"white\",\"linecolor\":\"white\",\"ticks\":\"\",\"title\":{\"standoff\":15},\"zerolinecolor\":\"white\",\"zerolinewidth\":2},\"yaxis\":{\"automargin\":true,\"gridcolor\":\"white\",\"linecolor\":\"white\",\"ticks\":\"\",\"title\":{\"standoff\":15},\"zerolinecolor\":\"white\",\"zerolinewidth\":2}}}},                        {\"responsive\": true}                    ).then(function(){\n",
              "                            \n",
              "var gd = document.getElementById('6535f732-7e2c-4d87-92e9-8156b12c5272');\n",
              "var x = new MutationObserver(function (mutations, observer) {{\n",
              "        var display = window.getComputedStyle(gd).display;\n",
              "        if (!display || display === 'none') {{\n",
              "            console.log([gd, 'removed!']);\n",
              "            Plotly.purge(gd);\n",
              "            observer.disconnect();\n",
              "        }}\n",
              "}});\n",
              "\n",
              "// Listen for the removal of the full notebook cells\n",
              "var notebookContainer = gd.closest('#notebook-container');\n",
              "if (notebookContainer) {{\n",
              "    x.observe(notebookContainer, {childList: true});\n",
              "}}\n",
              "\n",
              "// Listen for the clearing of the current output cell\n",
              "var outputEl = gd.closest('.output');\n",
              "if (outputEl) {{\n",
              "    x.observe(outputEl, {childList: true});\n",
              "}}\n",
              "\n",
              "                        })                };                            </script>        </div>\n",
              "</body>\n",
              "</html>"
            ]
          },
          "metadata": {}
        }
      ]
    }
  ]
}