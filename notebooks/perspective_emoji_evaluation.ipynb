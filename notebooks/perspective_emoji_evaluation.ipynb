{
  "nbformat": 4,
  "nbformat_minor": 0,
  "metadata": {
    "colab": {
      "name": "perspective_emoji_evaluation.ipynb",
      "provenance": [],
      "toc_visible": true,
      "authorship_tag": "ABX9TyNCDIFdWJfrj98h1B66/WHM",
      "include_colab_link": true
    },
    "kernelspec": {
      "name": "python3",
      "display_name": "Python 3"
    },
    "language_info": {
      "name": "python"
    }
  },
  "cells": [
    {
      "cell_type": "markdown",
      "metadata": {
        "id": "view-in-github",
        "colab_type": "text"
      },
      "source": [
        "<a href=\"https://colab.research.google.com/github/dbckz/dissertation/blob/master/notebooks/perspective_emoji_evaluation.ipynb\" target=\"_parent\"><img src=\"https://colab.research.google.com/assets/colab-badge.svg\" alt=\"Open In Colab\"/></a>"
      ]
    },
    {
      "cell_type": "code",
      "metadata": {
        "id": "vyIcOpopc5Ni"
      },
      "source": [
        "import pandas as pd\n",
        "import ast\n",
        "import os\n",
        "import numpy as np\n",
        "import matplotlib.pyplot as plt\n",
        "from wordcloud import WordCloud\n",
        "from tqdm import tqdm\n",
        "from google.colab import drive\n",
        "import plotly.graph_objects as go\n",
        "import dateutil"
      ],
      "execution_count": 14,
      "outputs": []
    },
    {
      "cell_type": "code",
      "metadata": {
        "colab": {
          "base_uri": "https://localhost:8080/"
        },
        "id": "KMCfQm1Xc80Q",
        "outputId": "92fc5f49-f564-4fca-d864-a6e90aab4bbe"
      },
      "source": [
        "drive.mount('/content/drive')"
      ],
      "execution_count": 2,
      "outputs": [
        {
          "output_type": "stream",
          "text": [
            "Mounted at /content/drive\n"
          ],
          "name": "stdout"
        }
      ]
    },
    {
      "cell_type": "code",
      "metadata": {
        "id": "n9YlP0YlnCPw"
      },
      "source": [
        "# Up the pandas display limits so printed dataframes aren't so truncated\n",
        "pd.set_option('display.max_rows', 100)\n",
        "pd.set_option('display.max_columns', 100)\n",
        "pd.set_option('display.width', None)\n",
        "pd.set_option('display.max_colwidth', None)\n",
        "pd.set_option('display.max_info_rows', 100)\n",
        "pd.set_option('display.max_info_columns', 100)"
      ],
      "execution_count": 46,
      "outputs": []
    },
    {
      "cell_type": "code",
      "metadata": {
        "id": "8MIF_TtWdDbv"
      },
      "source": [
        "root_path = \"/content/drive/MyDrive/University/Dissertation/data_collection\""
      ],
      "execution_count": 4,
      "outputs": []
    },
    {
      "cell_type": "code",
      "metadata": {
        "colab": {
          "base_uri": "https://localhost:8080/",
          "height": 419
        },
        "id": "f6_dp-R4eEOY",
        "outputId": "dcffc56c-28f7-4a15-9b1c-a1d0c149f72a"
      },
      "source": [
        "reviewed = pd.read_csv(root_path + \"/emoji_tweets_reviewed.csv\")\n",
        "reviewed"
      ],
      "execution_count": 8,
      "outputs": [
        {
          "output_type": "execute_result",
          "data": {
            "text/html": [
              "<div>\n",
              "<style scoped>\n",
              "    .dataframe tbody tr th:only-of-type {\n",
              "        vertical-align: middle;\n",
              "    }\n",
              "\n",
              "    .dataframe tbody tr th {\n",
              "        vertical-align: top;\n",
              "    }\n",
              "\n",
              "    .dataframe thead th {\n",
              "        text-align: right;\n",
              "    }\n",
              "</style>\n",
              "<table border=\"1\" class=\"dataframe\">\n",
              "  <thead>\n",
              "    <tr style=\"text-align: right;\">\n",
              "      <th></th>\n",
              "      <th>tweet_id</th>\n",
              "      <th>tweet_text</th>\n",
              "    </tr>\n",
              "  </thead>\n",
              "  <tbody>\n",
              "    <tr>\n",
              "      <th>0</th>\n",
              "      <td>1407777233482227722</td>\n",
              "      <td>@RomeluLukaku9 bad players cochon 🐒🐒🐒🐒🐒</td>\n",
              "    </tr>\n",
              "    <tr>\n",
              "      <th>1</th>\n",
              "      <td>1407988077734281217</td>\n",
              "      <td>@kimpembe_3 @equipedefrance Monkey 🍌🍌🍌🍌</td>\n",
              "    </tr>\n",
              "    <tr>\n",
              "      <th>2</th>\n",
              "      <td>1407998669404704768</td>\n",
              "      <td>@zs112s @iababadi @novaturieant @AntoGriezmann...</td>\n",
              "    </tr>\n",
              "    <tr>\n",
              "      <th>3</th>\n",
              "      <td>1409634139532234760</td>\n",
              "      <td>@KMbappe Mr Melon 🍉</td>\n",
              "    </tr>\n",
              "    <tr>\n",
              "      <th>4</th>\n",
              "      <td>1409759704872534017</td>\n",
              "      <td>@KMbappeTeam @TeamCRonaldo @KMbappe No It is n...</td>\n",
              "    </tr>\n",
              "    <tr>\n",
              "      <th>...</th>\n",
              "      <td>...</td>\n",
              "      <td>...</td>\n",
              "    </tr>\n",
              "    <tr>\n",
              "      <th>79</th>\n",
              "      <td>1415407304980193281</td>\n",
              "      <td>@Sanchooo10 Fuckin monkey 🐒</td>\n",
              "    </tr>\n",
              "    <tr>\n",
              "      <th>80</th>\n",
              "      <td>1415433074410762242</td>\n",
              "      <td>@NidgeNuneaton @JackGrealish LOOSERS 🏆🏆🏆 COMIN...</td>\n",
              "    </tr>\n",
              "    <tr>\n",
              "      <th>81</th>\n",
              "      <td>1415802879441522688</td>\n",
              "      <td>@WaynevRaynor @martinhabs4 @aa_mcintosh22 @Eng...</td>\n",
              "    </tr>\n",
              "    <tr>\n",
              "      <th>82</th>\n",
              "      <td>1416471755452002313</td>\n",
              "      <td>@Arsenal @EddieNketiah9 @kierantierney1 Sell 🐒</td>\n",
              "    </tr>\n",
              "    <tr>\n",
              "      <th>83</th>\n",
              "      <td>1416795591653347331</td>\n",
              "      <td>Hi monkey 🐒 https://t.co/lCGjaOGFhz</td>\n",
              "    </tr>\n",
              "  </tbody>\n",
              "</table>\n",
              "<p>84 rows × 2 columns</p>\n",
              "</div>"
            ],
            "text/plain": [
              "               tweet_id                                         tweet_text\n",
              "0   1407777233482227722            @RomeluLukaku9 bad players cochon 🐒🐒🐒🐒🐒\n",
              "1   1407988077734281217            @kimpembe_3 @equipedefrance Monkey 🍌🍌🍌🍌\n",
              "2   1407998669404704768  @zs112s @iababadi @novaturieant @AntoGriezmann...\n",
              "3   1409634139532234760                                @KMbappe Mr Melon 🍉\n",
              "4   1409759704872534017  @KMbappeTeam @TeamCRonaldo @KMbappe No It is n...\n",
              "..                  ...                                                ...\n",
              "79  1415407304980193281                        @Sanchooo10 Fuckin monkey 🐒\n",
              "80  1415433074410762242  @NidgeNuneaton @JackGrealish LOOSERS 🏆🏆🏆 COMIN...\n",
              "81  1415802879441522688  @WaynevRaynor @martinhabs4 @aa_mcintosh22 @Eng...\n",
              "82  1416471755452002313     @Arsenal @EddieNketiah9 @kierantierney1 Sell 🐒\n",
              "83  1416795591653347331                Hi monkey 🐒 https://t.co/lCGjaOGFhz\n",
              "\n",
              "[84 rows x 2 columns]"
            ]
          },
          "metadata": {},
          "execution_count": 8
        }
      ]
    },
    {
      "cell_type": "code",
      "metadata": {
        "colab": {
          "base_uri": "https://localhost:8080/",
          "height": 419
        },
        "id": "4E6JXgCjfC_F",
        "outputId": "75966c3d-4888-4256-cb0c-d5f808914873"
      },
      "source": [
        "original = pd.read_csv(root_path + \"/emoji_tweets_reviewed.csv\")\n",
        "reviewed"
      ],
      "execution_count": 9,
      "outputs": [
        {
          "output_type": "execute_result",
          "data": {
            "text/html": [
              "<div>\n",
              "<style scoped>\n",
              "    .dataframe tbody tr th:only-of-type {\n",
              "        vertical-align: middle;\n",
              "    }\n",
              "\n",
              "    .dataframe tbody tr th {\n",
              "        vertical-align: top;\n",
              "    }\n",
              "\n",
              "    .dataframe thead th {\n",
              "        text-align: right;\n",
              "    }\n",
              "</style>\n",
              "<table border=\"1\" class=\"dataframe\">\n",
              "  <thead>\n",
              "    <tr style=\"text-align: right;\">\n",
              "      <th></th>\n",
              "      <th>tweet_id</th>\n",
              "      <th>tweet_text</th>\n",
              "    </tr>\n",
              "  </thead>\n",
              "  <tbody>\n",
              "    <tr>\n",
              "      <th>0</th>\n",
              "      <td>1406163547311292416</td>\n",
              "      <td>@talkSPORT @JackGrealish @jmcginn7 Why didn’t ...</td>\n",
              "    </tr>\n",
              "    <tr>\n",
              "      <th>1</th>\n",
              "      <td>1406176578262941698</td>\n",
              "      <td>@ChelseaFC @BenChilwell Yes but Trippier is be...</td>\n",
              "    </tr>\n",
              "    <tr>\n",
              "      <th>2</th>\n",
              "      <td>1406206885557047302</td>\n",
              "      <td>@mattkelly_uk @DeJongFrenkie21 @mattkelly_uk H...</td>\n",
              "    </tr>\n",
              "    <tr>\n",
              "      <th>3</th>\n",
              "      <td>1406253728865435649</td>\n",
              "      <td>@10DavidTurnbull When your team is so bad you ...</td>\n",
              "    </tr>\n",
              "    <tr>\n",
              "      <th>4</th>\n",
              "      <td>1406257662199746563</td>\n",
              "      <td>@PigeonPeter1 @garyoconnor77 @andy_murray @bil...</td>\n",
              "    </tr>\n",
              "    <tr>\n",
              "      <th>...</th>\n",
              "      <td>...</td>\n",
              "      <td>...</td>\n",
              "    </tr>\n",
              "    <tr>\n",
              "      <th>1070</th>\n",
              "      <td>1416099311616679949</td>\n",
              "      <td>@FabrizioRomano is the @Sanchooo10 to @ManUtd ...</td>\n",
              "    </tr>\n",
              "    <tr>\n",
              "      <th>1071</th>\n",
              "      <td>1416104558372265988</td>\n",
              "      <td>All these girl's ravin about @masonmount_10  @...</td>\n",
              "    </tr>\n",
              "    <tr>\n",
              "      <th>1072</th>\n",
              "      <td>1416153174541492230</td>\n",
              "      <td>felt cute might buy later 🙈 @JackGrealish http...</td>\n",
              "    </tr>\n",
              "    <tr>\n",
              "      <th>1073</th>\n",
              "      <td>1416157907209662476</td>\n",
              "      <td>@PunditAngry @England @JPickford1 Why would I ...</td>\n",
              "    </tr>\n",
              "    <tr>\n",
              "      <th>1074</th>\n",
              "      <td>1416162650245971969</td>\n",
              "      <td>@_OlivierGiroud_ My fine baby 🙈</td>\n",
              "    </tr>\n",
              "  </tbody>\n",
              "</table>\n",
              "<p>1075 rows × 2 columns</p>\n",
              "</div>"
            ],
            "text/plain": [
              "                 tweet_id                                         tweet_text\n",
              "0     1406163547311292416  @talkSPORT @JackGrealish @jmcginn7 Why didn’t ...\n",
              "1     1406176578262941698  @ChelseaFC @BenChilwell Yes but Trippier is be...\n",
              "2     1406206885557047302  @mattkelly_uk @DeJongFrenkie21 @mattkelly_uk H...\n",
              "3     1406253728865435649  @10DavidTurnbull When your team is so bad you ...\n",
              "4     1406257662199746563  @PigeonPeter1 @garyoconnor77 @andy_murray @bil...\n",
              "...                   ...                                                ...\n",
              "1070  1416099311616679949  @FabrizioRomano is the @Sanchooo10 to @ManUtd ...\n",
              "1071  1416104558372265988  All these girl's ravin about @masonmount_10  @...\n",
              "1072  1416153174541492230  felt cute might buy later 🙈 @JackGrealish http...\n",
              "1073  1416157907209662476  @PunditAngry @England @JPickford1 Why would I ...\n",
              "1074  1416162650245971969                    @_OlivierGiroud_ My fine baby 🙈\n",
              "\n",
              "[1075 rows x 2 columns]"
            ]
          },
          "metadata": {},
          "execution_count": 9
        }
      ]
    },
    {
      "cell_type": "code",
      "metadata": {
        "id": "16fH_stSf_VC"
      },
      "source": [
        "persp_df = pd.read_csv(root_path + '/regression_tweets.csv',\n",
        "                      usecols = [\n",
        "                                  'tweet_id',\n",
        "                                  'persp_over_threshold'\n",
        "                      ])"
      ],
      "execution_count": 37,
      "outputs": []
    },
    {
      "cell_type": "code",
      "metadata": {
        "id": "2qpy1BgkjXHA"
      },
      "source": [
        "persp_df = persp_df[persp_df['persp_over_threshold']]"
      ],
      "execution_count": 40,
      "outputs": []
    },
    {
      "cell_type": "code",
      "metadata": {
        "colab": {
          "base_uri": "https://localhost:8080/"
        },
        "id": "RVAK4ayNlFGF",
        "outputId": "28265eb0-80db-4b88-9cd4-8d685e527cac"
      },
      "source": [
        "persp_df.merge(reviewed, 'inner', 'tweet_id')['tweet_text']"
      ],
      "execution_count": 47,
      "outputs": [
        {
          "output_type": "execute_result",
          "data": {
            "text/plain": [
              "0                                                                              @AntoGriezmann @Dembouz Hey！Dembélé🖕 Hey！Griezmann 🖕 Fucking nigger🦍 Fucking n White pig🐷 You guys are gay guys🥰 You guys are Mother fucker🖕 🤪🤪🤪🤪🤪🤪🤪\n",
              "1                                                                                                     @AntoGriezmann @equipedefrance U monkey 🐵🐵🐵!!! Laugh at stupid joke makes u dumb as hell!!! Get ur head out of ur ass dummy!!\n",
              "2                                                                                                                                 @AntoGriezmann Don't pretend to be honest🐒you always call black people chimps in private🐵you cunt\n",
              "3                                                                                                                                                                                   @sterling7 @philthyart @England DIVING NIGGER 🐵\n",
              "4                                                                                                                                                                             @goal @sterling7 fuckin cunt , fucking diver .. 🐒🐒🐒🐒🐒\n",
              "5                                                                                                                                                                                                @sterling7 Your good dive nigga💩🙊🙊\n",
              "6                                                                                                                                                               @MarcusRashford @Sanchooo10  Niggers 🐒🐒  #England  #UEFA  #ENGvsITA\n",
              "7                                                                                                    @BukayoSaka87 FUCK BLACK LIVES MATTER FUCK YOU TOO BLACK APE🦧🍌🦧🍌 🐒🐒🐒🐒🐒🐒🐒🐒🐒🐒🐒🐒🐒🐒🐒🐒🐒🐒🐒🐒🐒🐒🐒🐒🐒🐒🐒🐒🐒🐒🐒🐒🐒🐒🐒🐒🐒🐒🐒🐒🐒🐒🐒🐒🐒🐒🐒🐒🐒🐒🐒🐒🐒🐒🐒🐒🐒🐒🐒🐒🐒\n",
              "8                                                                                      @BukayoSaka87 FUCK YOU AND YOUR PENALTY KICK YOU MUST BACK TO THE JUNGLE🐵🐵🐵 🐒🐒🐒🐒🐒🐒🐒🐒🐒🐒🐒🐒🐒🐒🐒🐒🐒🐒🐒🐒🐒🐒🐒🐒🐒🐒🐒🐒🐒🐒🐒🐒🐒🐒🐒🐒🐒🐒🐒🐒🐒🐒🐒🐒🐒🐒🐒🐒🐒🐒🐒🐒🐒🐒🐒🐒🐒🐒🐒🐒🐒🐒🐒🐒\n",
              "9                                                                                                                                                                                @SlaverMr @BukayoSaka87 Fuck that useless nigger 🐵\n",
              "10    Fuck you you fucking black monkeys go back to your disgusting countries and never come back,cost us the hole euros fucking nigger🐒🤬@MarcusRashford @Sanchooo10  and you little prick @BukayoSaka87 #EuroFinal #Euro2021 🤬🐒🐒🐒🐒\n",
              "Name: tweet_text, dtype: object"
            ]
          },
          "metadata": {},
          "execution_count": 47
        }
      ]
    }
  ]
}